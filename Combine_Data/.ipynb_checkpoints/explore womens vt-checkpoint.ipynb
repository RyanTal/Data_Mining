{
 "cells": [
  {
   "cell_type": "markdown",
   "id": "eff3287a",
   "metadata": {},
   "source": [
    "### Total: 14\n",
    "\n",
    "\n",
    "\n",
    "2016\n",
    "- 11\n",
    "\n",
    "2020\n",
    "- 3\n",
    "\n",
    "\n"
   ]
  },
  {
   "cell_type": "markdown",
   "id": "ae19373d",
   "metadata": {},
   "source": [
    "# 2016\n",
    "1. simone biles (USA) \t\n",
    "2. maria paseka (RUS) \n",
    "3. giulia steingruber (SUI)\n",
    "\n",
    "# 2020\n",
    "1. rebeca andrade (BRA) - no comps\t\n",
    "2. mykayla skinner (USA) - no comps\t\n",
    "3. yeo seo-jeong (KOR)"
   ]
  },
  {
   "cell_type": "code",
   "execution_count": 1,
   "id": "3238a102",
   "metadata": {},
   "outputs": [],
   "source": [
    "import pandas as pd\n",
    "import numpy as np"
   ]
  },
  {
   "cell_type": "code",
   "execution_count": 2,
   "id": "deeb03f1",
   "metadata": {},
   "outputs": [],
   "source": [
    "df = pd.read_csv('vt_w.csv')"
   ]
  },
  {
   "cell_type": "markdown",
   "id": "84ff0e7f",
   "metadata": {},
   "source": []
  },
  {
   "cell_type": "code",
   "execution_count": 3,
   "id": "8b8b8d1b",
   "metadata": {},
   "outputs": [
    {
     "name": "stdout",
     "output_type": "stream",
     "text": [
      "<class 'pandas.core.frame.DataFrame'>\n",
      "RangeIndex: 1627 entries, 0 to 1626\n",
      "Data columns (total 14 columns):\n",
      " #   Column   Non-Null Count  Dtype  \n",
      "---  ------   --------------  -----  \n",
      " 0   Rank     1627 non-null   float64\n",
      " 1   Athlete  1627 non-null   object \n",
      " 2   Nation   1627 non-null   object \n",
      " 3   D        1627 non-null   float64\n",
      " 4   E        1627 non-null   float64\n",
      " 5   ND       1627 non-null   float64\n",
      " 6   Total    1627 non-null   float64\n",
      " 7   D2       1627 non-null   float64\n",
      " 8   E2       1627 non-null   float64\n",
      " 9   ND2      1627 non-null   float64\n",
      " 10  Total2   1627 non-null   float64\n",
      " 11  Average  1627 non-null   float64\n",
      " 12  year     1627 non-null   float64\n",
      " 13  round    1627 non-null   object \n",
      "dtypes: float64(11), object(3)\n",
      "memory usage: 178.1+ KB\n"
     ]
    }
   ],
   "source": [
    "df.info()"
   ]
  },
  {
   "cell_type": "code",
   "execution_count": 4,
   "id": "92fafe21",
   "metadata": {},
   "outputs": [],
   "source": [
    "df['Athlete'] = df['Athlete'].str.lower()"
   ]
  },
  {
   "cell_type": "code",
   "execution_count": 5,
   "id": "972d3cbb",
   "metadata": {},
   "outputs": [],
   "source": [
    "df = df.rename(columns={'Athlete': 'Name'})"
   ]
  },
  {
   "cell_type": "code",
   "execution_count": 6,
   "id": "c6e49407",
   "metadata": {},
   "outputs": [],
   "source": [
    "df16 = df[df['year'].isin([2013, 2014, 2015, 2016])].copy()\n",
    "df20 = df[df['year'].isin([2017, 2018, 2019, 2020])].copy()\n",
    "df24 = df[df['year'].isin([2022, 2023])].copy()"
   ]
  },
  {
   "cell_type": "code",
   "execution_count": 7,
   "id": "1c2abb0f",
   "metadata": {},
   "outputs": [],
   "source": [
    "# # Define a function to assign medal values based on the \"Name\" column\n",
    "# def assign_medal(name):\n",
    "#     name_lower = name.lower()\n",
    "#     if name_lower == 'simone biles':\n",
    "#         return 3\n",
    "#     elif name_lower == 'maria paseka':\n",
    "#         return 2\n",
    "#     elif name_lower == 'giulia steingruber':\n",
    "#         return 1\n",
    "#     else:\n",
    "#         return 0\n",
    "\n",
    "# # Apply the function to create the \"medal\" column\n",
    "# df16['medal'] = df16['Name'].apply(assign_medal)\n"
   ]
  },
  {
   "cell_type": "code",
   "execution_count": 8,
   "id": "c39e01ee",
   "metadata": {},
   "outputs": [],
   "source": [
    "# Define a function to assign medal values based on the \"Name\" column\n",
    "def assign_medal(name):\n",
    "    name_lower = name.lower()\n",
    "    if name_lower == 'simone biles':\n",
    "        return 1\n",
    "    elif name_lower == 'maria paseka':\n",
    "        return 1\n",
    "    elif name_lower == 'giulia steingruber':\n",
    "        return 1\n",
    "    else:\n",
    "        return 0\n",
    "\n",
    "# Apply the function to create the \"medal\" column\n",
    "df16['medal'] = df16['Name'].apply(assign_medal)\n"
   ]
  },
  {
   "cell_type": "code",
   "execution_count": 9,
   "id": "e47487fc",
   "metadata": {},
   "outputs": [
    {
     "data": {
      "text/plain": [
       "medal\n",
       "0    78\n",
       "1    11\n",
       "Name: count, dtype: int64"
      ]
     },
     "execution_count": 9,
     "metadata": {},
     "output_type": "execute_result"
    }
   ],
   "source": [
    "df16['medal'].value_counts()"
   ]
  },
  {
   "cell_type": "code",
   "execution_count": 10,
   "id": "760742c7",
   "metadata": {},
   "outputs": [
    {
     "data": {
      "text/html": [
       "<div>\n",
       "<style scoped>\n",
       "    .dataframe tbody tr th:only-of-type {\n",
       "        vertical-align: middle;\n",
       "    }\n",
       "\n",
       "    .dataframe tbody tr th {\n",
       "        vertical-align: top;\n",
       "    }\n",
       "\n",
       "    .dataframe thead th {\n",
       "        text-align: right;\n",
       "    }\n",
       "</style>\n",
       "<table border=\"1\" class=\"dataframe\">\n",
       "  <thead>\n",
       "    <tr style=\"text-align: right;\">\n",
       "      <th></th>\n",
       "      <th>Rank</th>\n",
       "      <th>Name</th>\n",
       "      <th>Nation</th>\n",
       "      <th>D</th>\n",
       "      <th>E</th>\n",
       "      <th>ND</th>\n",
       "      <th>Total</th>\n",
       "      <th>D2</th>\n",
       "      <th>E2</th>\n",
       "      <th>ND2</th>\n",
       "      <th>Total2</th>\n",
       "      <th>Average</th>\n",
       "      <th>year</th>\n",
       "      <th>round</th>\n",
       "      <th>medal</th>\n",
       "    </tr>\n",
       "  </thead>\n",
       "  <tbody>\n",
       "    <tr>\n",
       "      <th>43</th>\n",
       "      <td>1.0</td>\n",
       "      <td>simone biles</td>\n",
       "      <td>USA</td>\n",
       "      <td>6.3</td>\n",
       "      <td>9.600</td>\n",
       "      <td>0.0</td>\n",
       "      <td>15.900</td>\n",
       "      <td>5.6</td>\n",
       "      <td>9.550</td>\n",
       "      <td>0.0</td>\n",
       "      <td>15.150</td>\n",
       "      <td>15.525</td>\n",
       "      <td>2015.0</td>\n",
       "      <td>final</td>\n",
       "      <td>1</td>\n",
       "    </tr>\n",
       "    <tr>\n",
       "      <th>1523</th>\n",
       "      <td>2.0</td>\n",
       "      <td>simone biles</td>\n",
       "      <td>USA</td>\n",
       "      <td>6.3</td>\n",
       "      <td>9.633</td>\n",
       "      <td>0.0</td>\n",
       "      <td>15.933</td>\n",
       "      <td>5.6</td>\n",
       "      <td>9.658</td>\n",
       "      <td>0.0</td>\n",
       "      <td>15.258</td>\n",
       "      <td>15.595</td>\n",
       "      <td>2013.0</td>\n",
       "      <td>final</td>\n",
       "      <td>1</td>\n",
       "    </tr>\n",
       "    <tr>\n",
       "      <th>1531</th>\n",
       "      <td>2.0</td>\n",
       "      <td>simone biles</td>\n",
       "      <td>USA</td>\n",
       "      <td>6.3</td>\n",
       "      <td>9.600</td>\n",
       "      <td>0.0</td>\n",
       "      <td>15.900</td>\n",
       "      <td>5.6</td>\n",
       "      <td>9.608</td>\n",
       "      <td>0.0</td>\n",
       "      <td>15.208</td>\n",
       "      <td>15.554</td>\n",
       "      <td>2014.0</td>\n",
       "      <td>final</td>\n",
       "      <td>1</td>\n",
       "    </tr>\n",
       "    <tr>\n",
       "      <th>1540</th>\n",
       "      <td>3.0</td>\n",
       "      <td>simone biles</td>\n",
       "      <td>USA</td>\n",
       "      <td>6.3</td>\n",
       "      <td>9.600</td>\n",
       "      <td>0.0</td>\n",
       "      <td>15.900</td>\n",
       "      <td>5.6</td>\n",
       "      <td>9.583</td>\n",
       "      <td>0.0</td>\n",
       "      <td>15.183</td>\n",
       "      <td>15.541</td>\n",
       "      <td>2015.0</td>\n",
       "      <td>final</td>\n",
       "      <td>1</td>\n",
       "    </tr>\n",
       "  </tbody>\n",
       "</table>\n",
       "</div>"
      ],
      "text/plain": [
       "      Rank          Name Nation    D      E   ND   Total   D2     E2  ND2  \\\n",
       "43     1.0  simone biles    USA  6.3  9.600  0.0  15.900  5.6  9.550  0.0   \n",
       "1523   2.0  simone biles    USA  6.3  9.633  0.0  15.933  5.6  9.658  0.0   \n",
       "1531   2.0  simone biles    USA  6.3  9.600  0.0  15.900  5.6  9.608  0.0   \n",
       "1540   3.0  simone biles    USA  6.3  9.600  0.0  15.900  5.6  9.583  0.0   \n",
       "\n",
       "      Total2  Average    year  round  medal  \n",
       "43    15.150   15.525  2015.0  final      1  \n",
       "1523  15.258   15.595  2013.0  final      1  \n",
       "1531  15.208   15.554  2014.0  final      1  \n",
       "1540  15.183   15.541  2015.0  final      1  "
      ]
     },
     "execution_count": 10,
     "metadata": {},
     "output_type": "execute_result"
    }
   ],
   "source": [
    "df16[df16[\"Name\"]==\"simone biles\"]"
   ]
  },
  {
   "cell_type": "code",
   "execution_count": 11,
   "id": "976b29c7",
   "metadata": {},
   "outputs": [
    {
     "data": {
      "text/html": [
       "<div>\n",
       "<style scoped>\n",
       "    .dataframe tbody tr th:only-of-type {\n",
       "        vertical-align: middle;\n",
       "    }\n",
       "\n",
       "    .dataframe tbody tr th {\n",
       "        vertical-align: top;\n",
       "    }\n",
       "\n",
       "    .dataframe thead th {\n",
       "        text-align: right;\n",
       "    }\n",
       "</style>\n",
       "<table border=\"1\" class=\"dataframe\">\n",
       "  <thead>\n",
       "    <tr style=\"text-align: right;\">\n",
       "      <th></th>\n",
       "      <th>Rank</th>\n",
       "      <th>Name</th>\n",
       "      <th>Nation</th>\n",
       "      <th>D</th>\n",
       "      <th>E</th>\n",
       "      <th>ND</th>\n",
       "      <th>Total</th>\n",
       "      <th>D2</th>\n",
       "      <th>E2</th>\n",
       "      <th>ND2</th>\n",
       "      <th>Total2</th>\n",
       "      <th>Average</th>\n",
       "      <th>year</th>\n",
       "      <th>round</th>\n",
       "      <th>medal</th>\n",
       "    </tr>\n",
       "  </thead>\n",
       "  <tbody>\n",
       "    <tr>\n",
       "      <th>1538</th>\n",
       "      <td>1.0</td>\n",
       "      <td>maria paseka</td>\n",
       "      <td>RUS</td>\n",
       "      <td>6.4</td>\n",
       "      <td>9.233</td>\n",
       "      <td>0.0</td>\n",
       "      <td>15.633</td>\n",
       "      <td>6.3</td>\n",
       "      <td>9.4</td>\n",
       "      <td>0.0</td>\n",
       "      <td>15.7</td>\n",
       "      <td>15.666</td>\n",
       "      <td>2015.0</td>\n",
       "      <td>final</td>\n",
       "      <td>1</td>\n",
       "    </tr>\n",
       "    <tr>\n",
       "      <th>1611</th>\n",
       "      <td>1.0</td>\n",
       "      <td>maria paseka</td>\n",
       "      <td>RUS</td>\n",
       "      <td>6.3</td>\n",
       "      <td>9.100</td>\n",
       "      <td>0.0</td>\n",
       "      <td>15.400</td>\n",
       "      <td>5.6</td>\n",
       "      <td>8.8</td>\n",
       "      <td>-0.3</td>\n",
       "      <td>14.1</td>\n",
       "      <td>14.750</td>\n",
       "      <td>2015.0</td>\n",
       "      <td>final</td>\n",
       "      <td>1</td>\n",
       "    </tr>\n",
       "    <tr>\n",
       "      <th>1619</th>\n",
       "      <td>1.0</td>\n",
       "      <td>maria paseka</td>\n",
       "      <td>RUS</td>\n",
       "      <td>6.4</td>\n",
       "      <td>8.700</td>\n",
       "      <td>0.0</td>\n",
       "      <td>15.100</td>\n",
       "      <td>6.3</td>\n",
       "      <td>9.1</td>\n",
       "      <td>0.0</td>\n",
       "      <td>15.4</td>\n",
       "      <td>15.250</td>\n",
       "      <td>2015.0</td>\n",
       "      <td>final</td>\n",
       "      <td>1</td>\n",
       "    </tr>\n",
       "  </tbody>\n",
       "</table>\n",
       "</div>"
      ],
      "text/plain": [
       "      Rank          Name Nation    D      E   ND   Total   D2   E2  ND2  \\\n",
       "1538   1.0  maria paseka    RUS  6.4  9.233  0.0  15.633  6.3  9.4  0.0   \n",
       "1611   1.0  maria paseka    RUS  6.3  9.100  0.0  15.400  5.6  8.8 -0.3   \n",
       "1619   1.0  maria paseka    RUS  6.4  8.700  0.0  15.100  6.3  9.1  0.0   \n",
       "\n",
       "      Total2  Average    year  round  medal  \n",
       "1538    15.7   15.666  2015.0  final      1  \n",
       "1611    14.1   14.750  2015.0  final      1  \n",
       "1619    15.4   15.250  2015.0  final      1  "
      ]
     },
     "execution_count": 11,
     "metadata": {},
     "output_type": "execute_result"
    }
   ],
   "source": [
    "df16[df16[\"Name\"]==\"maria paseka\"]"
   ]
  },
  {
   "cell_type": "code",
   "execution_count": 12,
   "id": "c35aab63",
   "metadata": {},
   "outputs": [
    {
     "data": {
      "text/html": [
       "<div>\n",
       "<style scoped>\n",
       "    .dataframe tbody tr th:only-of-type {\n",
       "        vertical-align: middle;\n",
       "    }\n",
       "\n",
       "    .dataframe tbody tr th {\n",
       "        vertical-align: top;\n",
       "    }\n",
       "\n",
       "    .dataframe thead th {\n",
       "        text-align: right;\n",
       "    }\n",
       "</style>\n",
       "<table border=\"1\" class=\"dataframe\">\n",
       "  <thead>\n",
       "    <tr style=\"text-align: right;\">\n",
       "      <th></th>\n",
       "      <th>Rank</th>\n",
       "      <th>Name</th>\n",
       "      <th>Nation</th>\n",
       "      <th>D</th>\n",
       "      <th>E</th>\n",
       "      <th>ND</th>\n",
       "      <th>Total</th>\n",
       "      <th>D2</th>\n",
       "      <th>E2</th>\n",
       "      <th>ND2</th>\n",
       "      <th>Total2</th>\n",
       "      <th>Average</th>\n",
       "      <th>year</th>\n",
       "      <th>round</th>\n",
       "      <th>medal</th>\n",
       "    </tr>\n",
       "  </thead>\n",
       "  <tbody>\n",
       "    <tr>\n",
       "      <th>1525</th>\n",
       "      <td>4.0</td>\n",
       "      <td>giulia steingruber</td>\n",
       "      <td>SUI</td>\n",
       "      <td>6.2</td>\n",
       "      <td>9.300</td>\n",
       "      <td>0.0</td>\n",
       "      <td>15.500</td>\n",
       "      <td>5.8</td>\n",
       "      <td>9.166</td>\n",
       "      <td>0.0</td>\n",
       "      <td>14.966</td>\n",
       "      <td>15.233</td>\n",
       "      <td>2013.0</td>\n",
       "      <td>final</td>\n",
       "      <td>1</td>\n",
       "    </tr>\n",
       "    <tr>\n",
       "      <th>1534</th>\n",
       "      <td>5.0</td>\n",
       "      <td>giulia steingruber</td>\n",
       "      <td>SUI</td>\n",
       "      <td>6.2</td>\n",
       "      <td>9.033</td>\n",
       "      <td>0.0</td>\n",
       "      <td>15.233</td>\n",
       "      <td>5.0</td>\n",
       "      <td>9.200</td>\n",
       "      <td>0.0</td>\n",
       "      <td>14.200</td>\n",
       "      <td>14.716</td>\n",
       "      <td>2014.0</td>\n",
       "      <td>final</td>\n",
       "      <td>1</td>\n",
       "    </tr>\n",
       "    <tr>\n",
       "      <th>1544</th>\n",
       "      <td>7.0</td>\n",
       "      <td>giulia steingruber</td>\n",
       "      <td>SUI</td>\n",
       "      <td>6.2</td>\n",
       "      <td>9.400</td>\n",
       "      <td>-0.1</td>\n",
       "      <td>15.500</td>\n",
       "      <td>5.3</td>\n",
       "      <td>8.333</td>\n",
       "      <td>0.0</td>\n",
       "      <td>13.633</td>\n",
       "      <td>14.566</td>\n",
       "      <td>2015.0</td>\n",
       "      <td>final</td>\n",
       "      <td>1</td>\n",
       "    </tr>\n",
       "    <tr>\n",
       "      <th>1620</th>\n",
       "      <td>2.0</td>\n",
       "      <td>giulia steingruber</td>\n",
       "      <td>SUI</td>\n",
       "      <td>6.2</td>\n",
       "      <td>9.133</td>\n",
       "      <td>0.0</td>\n",
       "      <td>15.333</td>\n",
       "      <td>5.8</td>\n",
       "      <td>9.166</td>\n",
       "      <td>0.0</td>\n",
       "      <td>14.966</td>\n",
       "      <td>15.149</td>\n",
       "      <td>2015.0</td>\n",
       "      <td>final</td>\n",
       "      <td>1</td>\n",
       "    </tr>\n",
       "  </tbody>\n",
       "</table>\n",
       "</div>"
      ],
      "text/plain": [
       "      Rank                Name Nation    D      E   ND   Total   D2     E2  \\\n",
       "1525   4.0  giulia steingruber    SUI  6.2  9.300  0.0  15.500  5.8  9.166   \n",
       "1534   5.0  giulia steingruber    SUI  6.2  9.033  0.0  15.233  5.0  9.200   \n",
       "1544   7.0  giulia steingruber    SUI  6.2  9.400 -0.1  15.500  5.3  8.333   \n",
       "1620   2.0  giulia steingruber    SUI  6.2  9.133  0.0  15.333  5.8  9.166   \n",
       "\n",
       "      ND2  Total2  Average    year  round  medal  \n",
       "1525  0.0  14.966   15.233  2013.0  final      1  \n",
       "1534  0.0  14.200   14.716  2014.0  final      1  \n",
       "1544  0.0  13.633   14.566  2015.0  final      1  \n",
       "1620  0.0  14.966   15.149  2015.0  final      1  "
      ]
     },
     "execution_count": 12,
     "metadata": {},
     "output_type": "execute_result"
    }
   ],
   "source": [
    "df16[df16[\"Name\"]==\"giulia steingruber\"]"
   ]
  },
  {
   "cell_type": "code",
   "execution_count": 13,
   "id": "ce53c6e4",
   "metadata": {},
   "outputs": [],
   "source": [
    "\n",
    "#     rebeca andrade (BRA)\n",
    "#     mykayla skinner (USA)\n",
    "#     yeo seo-jeong (KOR)\n"
   ]
  },
  {
   "cell_type": "code",
   "execution_count": 14,
   "id": "c2eec64e",
   "metadata": {},
   "outputs": [],
   "source": [
    "# # Define a function to assign medal values based on the \"Name\" column\n",
    "# def assign_medal(name):\n",
    "#     name_lower = name.lower()\n",
    "#     if name_lower == 'rebeca andrade':\n",
    "#         return 3\n",
    "#     elif name_lower == 'mykayla skinner':\n",
    "#         return 2\n",
    "#     elif name_lower == 'yeo seo-jeong':\n",
    "#         return 1\n",
    "#     else:\n",
    "#         return 0\n",
    "\n",
    "# # Apply the function to create the \"medal\" column\n",
    "# df20['medal'] = df20['Name'].apply(assign_medal)\n"
   ]
  },
  {
   "cell_type": "code",
   "execution_count": 15,
   "id": "8221c177",
   "metadata": {},
   "outputs": [],
   "source": [
    "# Define a function to assign medal values based on the \"Name\" column\n",
    "def assign_medal(name):\n",
    "    name_lower = name.lower()\n",
    "    if name_lower == 'rebeca andrade':\n",
    "        return 1\n",
    "    elif name_lower == 'mykayla skinner':\n",
    "        return 1\n",
    "    elif name_lower == 'yeo seo-jeong':\n",
    "        return 1\n",
    "    else:\n",
    "        return 0\n",
    "\n",
    "# Apply the function to create the \"medal\" column\n",
    "df20['medal'] = df20['Name'].apply(assign_medal)\n"
   ]
  },
  {
   "cell_type": "code",
   "execution_count": 16,
   "id": "0a5f9904",
   "metadata": {},
   "outputs": [
    {
     "data": {
      "text/plain": [
       "medal\n",
       "0    53\n",
       "1     3\n",
       "Name: count, dtype: int64"
      ]
     },
     "execution_count": 16,
     "metadata": {},
     "output_type": "execute_result"
    }
   ],
   "source": [
    "df20['medal'].value_counts()"
   ]
  },
  {
   "cell_type": "code",
   "execution_count": 17,
   "id": "d312abb7",
   "metadata": {},
   "outputs": [
    {
     "data": {
      "text/html": [
       "<div>\n",
       "<style scoped>\n",
       "    .dataframe tbody tr th:only-of-type {\n",
       "        vertical-align: middle;\n",
       "    }\n",
       "\n",
       "    .dataframe tbody tr th {\n",
       "        vertical-align: top;\n",
       "    }\n",
       "\n",
       "    .dataframe thead th {\n",
       "        text-align: right;\n",
       "    }\n",
       "</style>\n",
       "<table border=\"1\" class=\"dataframe\">\n",
       "  <thead>\n",
       "    <tr style=\"text-align: right;\">\n",
       "      <th></th>\n",
       "      <th>Rank</th>\n",
       "      <th>Name</th>\n",
       "      <th>Nation</th>\n",
       "      <th>D</th>\n",
       "      <th>E</th>\n",
       "      <th>ND</th>\n",
       "      <th>Total</th>\n",
       "      <th>D2</th>\n",
       "      <th>E2</th>\n",
       "      <th>ND2</th>\n",
       "      <th>Total2</th>\n",
       "      <th>Average</th>\n",
       "      <th>year</th>\n",
       "      <th>round</th>\n",
       "      <th>medal</th>\n",
       "    </tr>\n",
       "  </thead>\n",
       "  <tbody>\n",
       "  </tbody>\n",
       "</table>\n",
       "</div>"
      ],
      "text/plain": [
       "Empty DataFrame\n",
       "Columns: [Rank, Name, Nation, D, E, ND, Total, D2, E2, ND2, Total2, Average, year, round, medal]\n",
       "Index: []"
      ]
     },
     "execution_count": 17,
     "metadata": {},
     "output_type": "execute_result"
    }
   ],
   "source": [
    "df20[df20['Name']=='rebeca andrade']"
   ]
  },
  {
   "cell_type": "code",
   "execution_count": 18,
   "id": "9550edf4",
   "metadata": {},
   "outputs": [
    {
     "data": {
      "text/html": [
       "<div>\n",
       "<style scoped>\n",
       "    .dataframe tbody tr th:only-of-type {\n",
       "        vertical-align: middle;\n",
       "    }\n",
       "\n",
       "    .dataframe tbody tr th {\n",
       "        vertical-align: top;\n",
       "    }\n",
       "\n",
       "    .dataframe thead th {\n",
       "        text-align: right;\n",
       "    }\n",
       "</style>\n",
       "<table border=\"1\" class=\"dataframe\">\n",
       "  <thead>\n",
       "    <tr style=\"text-align: right;\">\n",
       "      <th></th>\n",
       "      <th>Rank</th>\n",
       "      <th>Name</th>\n",
       "      <th>Nation</th>\n",
       "      <th>D</th>\n",
       "      <th>E</th>\n",
       "      <th>ND</th>\n",
       "      <th>Total</th>\n",
       "      <th>D2</th>\n",
       "      <th>E2</th>\n",
       "      <th>ND2</th>\n",
       "      <th>Total2</th>\n",
       "      <th>Average</th>\n",
       "      <th>year</th>\n",
       "      <th>round</th>\n",
       "      <th>medal</th>\n",
       "    </tr>\n",
       "  </thead>\n",
       "  <tbody>\n",
       "  </tbody>\n",
       "</table>\n",
       "</div>"
      ],
      "text/plain": [
       "Empty DataFrame\n",
       "Columns: [Rank, Name, Nation, D, E, ND, Total, D2, E2, ND2, Total2, Average, year, round, medal]\n",
       "Index: []"
      ]
     },
     "execution_count": 18,
     "metadata": {},
     "output_type": "execute_result"
    }
   ],
   "source": [
    "df20[df20['Name']=='mykayla skinner']"
   ]
  },
  {
   "cell_type": "code",
   "execution_count": 19,
   "id": "86b56d76",
   "metadata": {},
   "outputs": [
    {
     "data": {
      "text/html": [
       "<div>\n",
       "<style scoped>\n",
       "    .dataframe tbody tr th:only-of-type {\n",
       "        vertical-align: middle;\n",
       "    }\n",
       "\n",
       "    .dataframe tbody tr th {\n",
       "        vertical-align: top;\n",
       "    }\n",
       "\n",
       "    .dataframe thead th {\n",
       "        text-align: right;\n",
       "    }\n",
       "</style>\n",
       "<table border=\"1\" class=\"dataframe\">\n",
       "  <thead>\n",
       "    <tr style=\"text-align: right;\">\n",
       "      <th></th>\n",
       "      <th>Rank</th>\n",
       "      <th>Name</th>\n",
       "      <th>Nation</th>\n",
       "      <th>D</th>\n",
       "      <th>E</th>\n",
       "      <th>ND</th>\n",
       "      <th>Total</th>\n",
       "      <th>D2</th>\n",
       "      <th>E2</th>\n",
       "      <th>ND2</th>\n",
       "      <th>Total2</th>\n",
       "      <th>Average</th>\n",
       "      <th>year</th>\n",
       "      <th>round</th>\n",
       "      <th>medal</th>\n",
       "    </tr>\n",
       "  </thead>\n",
       "  <tbody>\n",
       "    <tr>\n",
       "      <th>7</th>\n",
       "      <td>1.0</td>\n",
       "      <td>yeo seo-jeong</td>\n",
       "      <td>KOR</td>\n",
       "      <td>5.8</td>\n",
       "      <td>8.666</td>\n",
       "      <td>0.0</td>\n",
       "      <td>14.466</td>\n",
       "      <td>5.4</td>\n",
       "      <td>8.666</td>\n",
       "      <td>0.0</td>\n",
       "      <td>14.066</td>\n",
       "      <td>14.266</td>\n",
       "      <td>2019.0</td>\n",
       "      <td>final</td>\n",
       "      <td>1</td>\n",
       "    </tr>\n",
       "    <tr>\n",
       "      <th>1555</th>\n",
       "      <td>5.0</td>\n",
       "      <td>yeo seo-jeong</td>\n",
       "      <td>none</td>\n",
       "      <td>5.8</td>\n",
       "      <td>8.833</td>\n",
       "      <td>0.1</td>\n",
       "      <td>14.533</td>\n",
       "      <td>5.4</td>\n",
       "      <td>8.533</td>\n",
       "      <td>0.0</td>\n",
       "      <td>13.933</td>\n",
       "      <td>14.233</td>\n",
       "      <td>2018.0</td>\n",
       "      <td>final</td>\n",
       "      <td>1</td>\n",
       "    </tr>\n",
       "    <tr>\n",
       "      <th>1566</th>\n",
       "      <td>8.0</td>\n",
       "      <td>yeo seo-jeong</td>\n",
       "      <td>none</td>\n",
       "      <td>6.2</td>\n",
       "      <td>8.033</td>\n",
       "      <td>0.3</td>\n",
       "      <td>13.933</td>\n",
       "      <td>5.4</td>\n",
       "      <td>9.033</td>\n",
       "      <td>0.0</td>\n",
       "      <td>14.433</td>\n",
       "      <td>14.183</td>\n",
       "      <td>2019.0</td>\n",
       "      <td>final</td>\n",
       "      <td>1</td>\n",
       "    </tr>\n",
       "  </tbody>\n",
       "</table>\n",
       "</div>"
      ],
      "text/plain": [
       "      Rank           Name Nation    D      E   ND   Total   D2     E2  ND2  \\\n",
       "7      1.0  yeo seo-jeong    KOR  5.8  8.666  0.0  14.466  5.4  8.666  0.0   \n",
       "1555   5.0  yeo seo-jeong   none  5.8  8.833  0.1  14.533  5.4  8.533  0.0   \n",
       "1566   8.0  yeo seo-jeong   none  6.2  8.033  0.3  13.933  5.4  9.033  0.0   \n",
       "\n",
       "      Total2  Average    year  round  medal  \n",
       "7     14.066   14.266  2019.0  final      1  \n",
       "1555  13.933   14.233  2018.0  final      1  \n",
       "1566  14.433   14.183  2019.0  final      1  "
      ]
     },
     "execution_count": 19,
     "metadata": {},
     "output_type": "execute_result"
    }
   ],
   "source": [
    "df20[df20['Name']=='yeo seo-jeong']"
   ]
  },
  {
   "cell_type": "code",
   "execution_count": 20,
   "id": "5edcd3c1",
   "metadata": {},
   "outputs": [],
   "source": [
    "combined_df = pd.concat([df20, df16], axis=0)\n",
    "df = combined_df.copy()"
   ]
  },
  {
   "cell_type": "code",
   "execution_count": 21,
   "id": "62fb3c3f",
   "metadata": {},
   "outputs": [
    {
     "data": {
      "text/plain": [
       "medal\n",
       "0    131\n",
       "1     14\n",
       "Name: count, dtype: int64"
      ]
     },
     "execution_count": 21,
     "metadata": {},
     "output_type": "execute_result"
    }
   ],
   "source": [
    "df['medal'].value_counts()"
   ]
  },
  {
   "cell_type": "code",
   "execution_count": 22,
   "id": "827ca578",
   "metadata": {},
   "outputs": [
    {
     "name": "stdout",
     "output_type": "stream",
     "text": [
      "<class 'pandas.core.frame.DataFrame'>\n",
      "Index: 145 entries, 0 to 1626\n",
      "Data columns (total 15 columns):\n",
      " #   Column   Non-Null Count  Dtype  \n",
      "---  ------   --------------  -----  \n",
      " 0   Rank     145 non-null    float64\n",
      " 1   Name     145 non-null    object \n",
      " 2   Nation   145 non-null    object \n",
      " 3   D        145 non-null    float64\n",
      " 4   E        145 non-null    float64\n",
      " 5   ND       145 non-null    float64\n",
      " 6   Total    145 non-null    float64\n",
      " 7   D2       145 non-null    float64\n",
      " 8   E2       145 non-null    float64\n",
      " 9   ND2      145 non-null    float64\n",
      " 10  Total2   145 non-null    float64\n",
      " 11  Average  145 non-null    float64\n",
      " 12  year     145 non-null    float64\n",
      " 13  round    145 non-null    object \n",
      " 14  medal    145 non-null    int64  \n",
      "dtypes: float64(11), int64(1), object(3)\n",
      "memory usage: 18.1+ KB\n"
     ]
    }
   ],
   "source": [
    "df.info()"
   ]
  },
  {
   "cell_type": "code",
   "execution_count": 23,
   "id": "b9d74cfd",
   "metadata": {},
   "outputs": [
    {
     "data": {
      "text/plain": [
       "Rank         8\n",
       "Name        83\n",
       "Nation      39\n",
       "D           17\n",
       "E           72\n",
       "ND           5\n",
       "Total       93\n",
       "D2          19\n",
       "E2          61\n",
       "ND2          6\n",
       "Total2      82\n",
       "Average    113\n",
       "year         8\n",
       "round        2\n",
       "medal        2\n",
       "dtype: int64"
      ]
     },
     "execution_count": 23,
     "metadata": {},
     "output_type": "execute_result"
    }
   ],
   "source": [
    "df.nunique()"
   ]
  },
  {
   "cell_type": "code",
   "execution_count": 24,
   "id": "96a0505e",
   "metadata": {},
   "outputs": [],
   "source": [
    "df['round'] = df['round'].str.lower()\n"
   ]
  },
  {
   "cell_type": "code",
   "execution_count": 25,
   "id": "1ed8fdde",
   "metadata": {},
   "outputs": [],
   "source": [
    "from sklearn.preprocessing import LabelEncoder\n",
    "\n",
    "# Assuming df is your DataFrame and 'Name' is the column you want to encode\n",
    "le = LabelEncoder()\n",
    "\n",
    "# Fit and transform the 'Name' column to create integer labels\n",
    "df['Name_encoded'] = le.fit_transform(df['Name'])\n",
    "\n",
    "# Store the mapping between integers and original objects\n",
    "label_mapping = dict(zip(le.transform(df['Name']), df['Name']))\n",
    "\n",
    "# To revert the integers back to objects, use the label_mapping\n",
    "# reverted_names = df['Name_encoded'].map(label_mapping)"
   ]
  },
  {
   "cell_type": "code",
   "execution_count": 26,
   "id": "ae6a9335",
   "metadata": {},
   "outputs": [],
   "source": [
    "df=df.drop(columns=[\"Name\"])\n",
    "df.rename(columns={'Name_encoded': 'Name'}, inplace=True)\n"
   ]
  },
  {
   "cell_type": "code",
   "execution_count": 27,
   "id": "e1ada4f1",
   "metadata": {},
   "outputs": [],
   "source": [
    "from sklearn.preprocessing import LabelEncoder\n",
    "\n",
    "# Assuming df is your DataFrame and 'Name' is the column you want to encode\n",
    "le = LabelEncoder()\n",
    "\n",
    "# Fit and transform the 'Name' column to create integer labels\n",
    "df['nation_encoded'] = le.fit_transform(df['Nation'])\n",
    "\n",
    "# Store the mapping between integers and original objects\n",
    "label_mapping_nation = dict(zip(le.transform(df['Nation']), df['Nation']))\n",
    "\n",
    "# To revert the integers back to objects, use the label_mapping\n",
    "# reverted_names = df['Name_encoded'].map(label_mapping)"
   ]
  },
  {
   "cell_type": "code",
   "execution_count": 28,
   "id": "e3885e66",
   "metadata": {},
   "outputs": [],
   "source": [
    "df=df.drop(columns=[\"Nation\"])\n",
    "df.rename(columns={'nation_encoded': 'Nation'}, inplace=True)\n"
   ]
  },
  {
   "cell_type": "code",
   "execution_count": 29,
   "id": "3d300da7",
   "metadata": {},
   "outputs": [],
   "source": [
    "df_encoded = pd.get_dummies(df, columns=['round'], prefix='round')"
   ]
  },
  {
   "cell_type": "code",
   "execution_count": 30,
   "id": "f9e29867",
   "metadata": {},
   "outputs": [
    {
     "name": "stdout",
     "output_type": "stream",
     "text": [
      "<class 'pandas.core.frame.DataFrame'>\n",
      "Index: 145 entries, 0 to 1626\n",
      "Data columns (total 16 columns):\n",
      " #   Column       Non-Null Count  Dtype  \n",
      "---  ------       --------------  -----  \n",
      " 0   Rank         145 non-null    float64\n",
      " 1   D            145 non-null    float64\n",
      " 2   E            145 non-null    float64\n",
      " 3   ND           145 non-null    float64\n",
      " 4   Total        145 non-null    float64\n",
      " 5   D2           145 non-null    float64\n",
      " 6   E2           145 non-null    float64\n",
      " 7   ND2          145 non-null    float64\n",
      " 8   Total2       145 non-null    float64\n",
      " 9   Average      145 non-null    float64\n",
      " 10  year         145 non-null    float64\n",
      " 11  medal        145 non-null    int64  \n",
      " 12  Name         145 non-null    int64  \n",
      " 13  Nation       145 non-null    int64  \n",
      " 14  round_2015   145 non-null    bool   \n",
      " 15  round_final  145 non-null    bool   \n",
      "dtypes: bool(2), float64(11), int64(3)\n",
      "memory usage: 17.3 KB\n"
     ]
    }
   ],
   "source": [
    "df_encoded.info()"
   ]
  },
  {
   "cell_type": "code",
   "execution_count": 31,
   "id": "bb15b0d4",
   "metadata": {},
   "outputs": [
    {
     "data": {
      "text/plain": [
       "medal          1.000000\n",
       "Total          0.433392\n",
       "D              0.405137\n",
       "Average        0.290484\n",
       "E              0.240838\n",
       "Nation         0.223166\n",
       "Name           0.187326\n",
       "D2             0.166492\n",
       "Total2         0.160278\n",
       "E2             0.149456\n",
       "ND             0.094747\n",
       "round_final    0.078997\n",
       "ND2            0.008550\n",
       "round_2015    -0.078997\n",
       "year          -0.105722\n",
       "Rank          -0.181674\n",
       "dtype: float64"
      ]
     },
     "execution_count": 31,
     "metadata": {},
     "output_type": "execute_result"
    }
   ],
   "source": [
    "correlations = df_encoded.corrwith(df['medal'])\n",
    "\n",
    "correlations.sort_values(ascending=False)\n"
   ]
  },
  {
   "cell_type": "code",
   "execution_count": 32,
   "id": "9066a8d1",
   "metadata": {},
   "outputs": [],
   "source": [
    "# medal 0 or 1\n",
    "# medal          1.000000\n",
    "# Total          0.433392\n",
    "# D              0.405137\n",
    "# Average        0.290484\n",
    "# E              0.240838\n",
    "# Nation         0.223166\n",
    "# Name           0.187326\n",
    "# D2             0.166492\n",
    "# Total2         0.160278\n",
    "# E2             0.149456\n",
    "# ND             0.094747\n",
    "# round_final    0.078997\n",
    "# ND2            0.008550\n",
    "# round_2015    -0.078997\n",
    "# year          -0.105722\n",
    "# Rank          -0.181674\n",
    "# dtype: float64"
   ]
  },
  {
   "cell_type": "code",
   "execution_count": 33,
   "id": "cee7d254",
   "metadata": {},
   "outputs": [],
   "source": [
    "# # medal 3,2,1,0\n",
    "# medal          1.000000\n",
    "# Total          0.463714\n",
    "# D              0.387158\n",
    "# Average        0.312243\n",
    "# E              0.304129\n",
    "# Nation         0.205074\n",
    "# Name           0.204034\n",
    "# D2             0.156780\n",
    "# Total2         0.156262\n",
    "# E2             0.149686\n",
    "# round_final    0.070466\n",
    "# ND             0.052483\n",
    "# ND2            0.003522\n",
    "# round_2015    -0.070466\n",
    "# year          -0.146415\n",
    "# Rank          -0.239848\n",
    "# dtype: float64"
   ]
  },
  {
   "cell_type": "code",
   "execution_count": 35,
   "id": "10a08f6a",
   "metadata": {},
   "outputs": [],
   "source": [
    "# df_encoded.to_csv('vt_encoded.csv', index=False)"
   ]
  },
  {
   "cell_type": "code",
   "execution_count": null,
   "id": "528d485f",
   "metadata": {},
   "outputs": [],
   "source": []
  }
 ],
 "metadata": {
  "kernelspec": {
   "display_name": "Python 3 (ipykernel)",
   "language": "python",
   "name": "python3"
  },
  "language_info": {
   "codemirror_mode": {
    "name": "ipython",
    "version": 3
   },
   "file_extension": ".py",
   "mimetype": "text/x-python",
   "name": "python",
   "nbconvert_exporter": "python",
   "pygments_lexer": "ipython3",
   "version": "3.9.12"
  }
 },
 "nbformat": 4,
 "nbformat_minor": 5
}
