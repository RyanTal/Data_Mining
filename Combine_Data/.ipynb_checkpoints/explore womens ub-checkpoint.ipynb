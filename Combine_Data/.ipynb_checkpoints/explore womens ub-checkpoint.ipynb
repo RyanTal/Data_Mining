{
 "cells": [
  {
   "cell_type": "markdown",
   "id": "246c90ce",
   "metadata": {},
   "source": [
    "### Total: 17\n",
    "\n",
    "2016\n",
    "- 8\n",
    "\n",
    "2020\n",
    "- 9"
   ]
  },
  {
   "cell_type": "code",
   "execution_count": 1,
   "id": "a16fa12b",
   "metadata": {},
   "outputs": [],
   "source": [
    "import pandas as pd\n",
    "import numpy as np"
   ]
  },
  {
   "cell_type": "code",
   "execution_count": 2,
   "id": "1542f793",
   "metadata": {},
   "outputs": [],
   "source": [
    "df = pd.read_csv('ub_w.csv')"
   ]
  },
  {
   "cell_type": "markdown",
   "id": "27fc8843",
   "metadata": {},
   "source": [
    "## 2016\n",
    "\n",
    "1. liya mustafina (RUS) \n",
    "2. madison kocian (USA) \t\n",
    "3. sophie scheder (GER)\n",
    "\n",
    "## 2020\n",
    "\n",
    "1. nina derwael (BEL) \t\n",
    "2. anastasia ilyankova (ROC)  - 1 comp\t\n",
    "3. sunisa lee (USA) - 1 comp\n"
   ]
  },
  {
   "cell_type": "code",
   "execution_count": 3,
   "id": "7fa23fa5",
   "metadata": {},
   "outputs": [
    {
     "data": {
      "text/plain": [
       "year\n",
       "2023    644\n",
       "2022    586\n",
       "2021    200\n",
       "2015    197\n",
       "2019    109\n",
       "2014     54\n",
       "2013     46\n",
       "2018     16\n",
       "2020      8\n",
       "2011      8\n",
       "2017      8\n",
       "2016      8\n",
       "Name: count, dtype: int64"
      ]
     },
     "execution_count": 3,
     "metadata": {},
     "output_type": "execute_result"
    }
   ],
   "source": [
    "df['year'].value_counts()"
   ]
  },
  {
   "cell_type": "code",
   "execution_count": 4,
   "id": "59c4ce5f",
   "metadata": {},
   "outputs": [],
   "source": [
    "df = pd.read_csv('ub_w.csv')\n",
    "df['Name'] = df['Name'].str.lower()"
   ]
  },
  {
   "cell_type": "code",
   "execution_count": 5,
   "id": "b0706e55",
   "metadata": {},
   "outputs": [],
   "source": [
    "df['Name'] = df['Name'].str.lower()"
   ]
  },
  {
   "cell_type": "code",
   "execution_count": 6,
   "id": "510b93fa",
   "metadata": {},
   "outputs": [],
   "source": [
    "df12 = df[df['year'].isin([2011])].copy()\n",
    "df16 = df[df['year'].isin([2013, 2014, 2015, 2016])].copy()\n",
    "df20 = df[df['year'].isin([2017, 2018, 2019, 2020])].copy()\n",
    "df24 = df[df['year'].isin([2022, 2023])].copy()"
   ]
  },
  {
   "cell_type": "code",
   "execution_count": 7,
   "id": "b6566964",
   "metadata": {},
   "outputs": [],
   "source": [
    "# # Define a function to assign medal values based on the \"Name\" column\n",
    "# def assign_medal(name):\n",
    "#     name_lower = name.lower()\n",
    "#     if name_lower == 'aliya mustafina':\n",
    "#         return 3\n",
    "#     elif name_lower == 'madison kocian':\n",
    "#         return 2\n",
    "#     elif name_lower == 'sophie scheder':\n",
    "#         return 1\n",
    "#     else:\n",
    "#         return -1\n",
    "\n",
    "# # Apply the function to create the \"medal\" column\n",
    "# df16['medal'] = df16['Name'].apply(assign_medal)\n"
   ]
  },
  {
   "cell_type": "code",
   "execution_count": 8,
   "id": "c1f8beba",
   "metadata": {},
   "outputs": [],
   "source": [
    "# Define a function to assign medal values based on the \"Name\" column\n",
    "def assign_medal(name):\n",
    "    name_lower = name.lower()\n",
    "    if name_lower == 'aliya mustafina':\n",
    "        return 1\n",
    "    elif name_lower == 'madison kocian':\n",
    "        return 1\n",
    "    elif name_lower == 'sophie scheder':\n",
    "        return 1\n",
    "    else:\n",
    "        return 0\n",
    "\n",
    "# Apply the function to create the \"medal\" column\n",
    "df16['medal'] = df16['Name'].apply(assign_medal)\n"
   ]
  },
  {
   "cell_type": "code",
   "execution_count": 9,
   "id": "e23924fa",
   "metadata": {},
   "outputs": [
    {
     "data": {
      "text/plain": [
       "medal\n",
       "0    297\n",
       "1      8\n",
       "Name: count, dtype: int64"
      ]
     },
     "execution_count": 9,
     "metadata": {},
     "output_type": "execute_result"
    }
   ],
   "source": [
    "df16['medal'].value_counts()"
   ]
  },
  {
   "cell_type": "code",
   "execution_count": 10,
   "id": "41a36e0b",
   "metadata": {},
   "outputs": [
    {
     "data": {
      "text/html": [
       "<div>\n",
       "<style scoped>\n",
       "    .dataframe tbody tr th:only-of-type {\n",
       "        vertical-align: middle;\n",
       "    }\n",
       "\n",
       "    .dataframe tbody tr th {\n",
       "        vertical-align: top;\n",
       "    }\n",
       "\n",
       "    .dataframe thead th {\n",
       "        text-align: right;\n",
       "    }\n",
       "</style>\n",
       "<table border=\"1\" class=\"dataframe\">\n",
       "  <thead>\n",
       "    <tr style=\"text-align: right;\">\n",
       "      <th></th>\n",
       "      <th>Rank</th>\n",
       "      <th>Name</th>\n",
       "      <th>nation</th>\n",
       "      <th>D Score</th>\n",
       "      <th>E Score</th>\n",
       "      <th>Pen.</th>\n",
       "      <th>Total</th>\n",
       "      <th>year</th>\n",
       "      <th>round</th>\n",
       "      <th>medal</th>\n",
       "    </tr>\n",
       "  </thead>\n",
       "  <tbody>\n",
       "    <tr>\n",
       "      <th>1432</th>\n",
       "      <td>3.0</td>\n",
       "      <td>aliya mustafina</td>\n",
       "      <td>RUS</td>\n",
       "      <td>6.5</td>\n",
       "      <td>8.533</td>\n",
       "      <td>0.0</td>\n",
       "      <td>15.033</td>\n",
       "      <td>2013</td>\n",
       "      <td>final</td>\n",
       "      <td>1</td>\n",
       "    </tr>\n",
       "    <tr>\n",
       "      <th>1443</th>\n",
       "      <td>6.0</td>\n",
       "      <td>aliya mustafina</td>\n",
       "      <td>RUS</td>\n",
       "      <td>6.3</td>\n",
       "      <td>8.800</td>\n",
       "      <td>0.0</td>\n",
       "      <td>15.100</td>\n",
       "      <td>2014</td>\n",
       "      <td>final</td>\n",
       "      <td>1</td>\n",
       "    </tr>\n",
       "  </tbody>\n",
       "</table>\n",
       "</div>"
      ],
      "text/plain": [
       "      Rank             Name nation  D Score  E Score  Pen.   Total  year  \\\n",
       "1432   3.0  aliya mustafina    RUS      6.5    8.533   0.0  15.033  2013   \n",
       "1443   6.0  aliya mustafina    RUS      6.3    8.800   0.0  15.100  2014   \n",
       "\n",
       "      round  medal  \n",
       "1432  final      1  \n",
       "1443  final      1  "
      ]
     },
     "execution_count": 10,
     "metadata": {},
     "output_type": "execute_result"
    }
   ],
   "source": [
    "df16[df16['Name']== 'aliya mustafina']"
   ]
  },
  {
   "cell_type": "code",
   "execution_count": 11,
   "id": "8333f9f6",
   "metadata": {},
   "outputs": [
    {
     "data": {
      "text/html": [
       "<div>\n",
       "<style scoped>\n",
       "    .dataframe tbody tr th:only-of-type {\n",
       "        vertical-align: middle;\n",
       "    }\n",
       "\n",
       "    .dataframe tbody tr th {\n",
       "        vertical-align: top;\n",
       "    }\n",
       "\n",
       "    .dataframe thead th {\n",
       "        text-align: right;\n",
       "    }\n",
       "</style>\n",
       "<table border=\"1\" class=\"dataframe\">\n",
       "  <thead>\n",
       "    <tr style=\"text-align: right;\">\n",
       "      <th></th>\n",
       "      <th>Rank</th>\n",
       "      <th>Name</th>\n",
       "      <th>nation</th>\n",
       "      <th>D Score</th>\n",
       "      <th>E Score</th>\n",
       "      <th>Pen.</th>\n",
       "      <th>Total</th>\n",
       "      <th>year</th>\n",
       "      <th>round</th>\n",
       "      <th>medal</th>\n",
       "    </tr>\n",
       "  </thead>\n",
       "  <tbody>\n",
       "    <tr>\n",
       "      <th>1449</th>\n",
       "      <td>1.0</td>\n",
       "      <td>madison kocian</td>\n",
       "      <td>USA</td>\n",
       "      <td>6.6</td>\n",
       "      <td>8.766</td>\n",
       "      <td>0.0</td>\n",
       "      <td>15.366</td>\n",
       "      <td>2015</td>\n",
       "      <td>final</td>\n",
       "      <td>1</td>\n",
       "    </tr>\n",
       "    <tr>\n",
       "      <th>1703</th>\n",
       "      <td>2.0</td>\n",
       "      <td>madison kocian</td>\n",
       "      <td>USA</td>\n",
       "      <td>6.3</td>\n",
       "      <td>8.525</td>\n",
       "      <td>0.0</td>\n",
       "      <td>14.825</td>\n",
       "      <td>2014</td>\n",
       "      <td>final</td>\n",
       "      <td>1</td>\n",
       "    </tr>\n",
       "  </tbody>\n",
       "</table>\n",
       "</div>"
      ],
      "text/plain": [
       "      Rank            Name nation  D Score  E Score  Pen.   Total  year  \\\n",
       "1449   1.0  madison kocian    USA      6.6    8.766   0.0  15.366  2015   \n",
       "1703   2.0  madison kocian    USA      6.3    8.525   0.0  14.825  2014   \n",
       "\n",
       "      round  medal  \n",
       "1449  final      1  \n",
       "1703  final      1  "
      ]
     },
     "execution_count": 11,
     "metadata": {},
     "output_type": "execute_result"
    }
   ],
   "source": [
    "df16[df16['Name']== 'madison kocian']"
   ]
  },
  {
   "cell_type": "code",
   "execution_count": 12,
   "id": "b790acf7",
   "metadata": {},
   "outputs": [
    {
     "data": {
      "text/html": [
       "<div>\n",
       "<style scoped>\n",
       "    .dataframe tbody tr th:only-of-type {\n",
       "        vertical-align: middle;\n",
       "    }\n",
       "\n",
       "    .dataframe tbody tr th {\n",
       "        vertical-align: top;\n",
       "    }\n",
       "\n",
       "    .dataframe thead th {\n",
       "        text-align: right;\n",
       "    }\n",
       "</style>\n",
       "<table border=\"1\" class=\"dataframe\">\n",
       "  <thead>\n",
       "    <tr style=\"text-align: right;\">\n",
       "      <th></th>\n",
       "      <th>Rank</th>\n",
       "      <th>Name</th>\n",
       "      <th>nation</th>\n",
       "      <th>D Score</th>\n",
       "      <th>E Score</th>\n",
       "      <th>Pen.</th>\n",
       "      <th>Total</th>\n",
       "      <th>year</th>\n",
       "      <th>round</th>\n",
       "      <th>medal</th>\n",
       "    </tr>\n",
       "  </thead>\n",
       "  <tbody>\n",
       "    <tr>\n",
       "      <th>1363</th>\n",
       "      <td>5.0</td>\n",
       "      <td>sophie scheder</td>\n",
       "      <td>GER</td>\n",
       "      <td>6.2</td>\n",
       "      <td>7.100</td>\n",
       "      <td>0.0</td>\n",
       "      <td>13.300</td>\n",
       "      <td>2013</td>\n",
       "      <td>final</td>\n",
       "      <td>1</td>\n",
       "    </tr>\n",
       "    <tr>\n",
       "      <th>1368</th>\n",
       "      <td>2.0</td>\n",
       "      <td>sophie scheder</td>\n",
       "      <td>GER</td>\n",
       "      <td>6.2</td>\n",
       "      <td>8.100</td>\n",
       "      <td>0.0</td>\n",
       "      <td>14.300</td>\n",
       "      <td>2013</td>\n",
       "      <td>qual</td>\n",
       "      <td>1</td>\n",
       "    </tr>\n",
       "    <tr>\n",
       "      <th>1434</th>\n",
       "      <td>5.0</td>\n",
       "      <td>sophie scheder</td>\n",
       "      <td>GER</td>\n",
       "      <td>6.4</td>\n",
       "      <td>8.283</td>\n",
       "      <td>0.0</td>\n",
       "      <td>14.683</td>\n",
       "      <td>2013</td>\n",
       "      <td>final</td>\n",
       "      <td>1</td>\n",
       "    </tr>\n",
       "    <tr>\n",
       "      <th>1453</th>\n",
       "      <td>8.0</td>\n",
       "      <td>sophie scheder</td>\n",
       "      <td>GER</td>\n",
       "      <td>6.6</td>\n",
       "      <td>8.000</td>\n",
       "      <td>0.0</td>\n",
       "      <td>14.600</td>\n",
       "      <td>2015</td>\n",
       "      <td>final</td>\n",
       "      <td>1</td>\n",
       "    </tr>\n",
       "  </tbody>\n",
       "</table>\n",
       "</div>"
      ],
      "text/plain": [
       "      Rank            Name nation  D Score  E Score  Pen.   Total  year  \\\n",
       "1363   5.0  sophie scheder    GER      6.2    7.100   0.0  13.300  2013   \n",
       "1368   2.0  sophie scheder    GER      6.2    8.100   0.0  14.300  2013   \n",
       "1434   5.0  sophie scheder    GER      6.4    8.283   0.0  14.683  2013   \n",
       "1453   8.0  sophie scheder    GER      6.6    8.000   0.0  14.600  2015   \n",
       "\n",
       "      round  medal  \n",
       "1363  final      1  \n",
       "1368   qual      1  \n",
       "1434  final      1  \n",
       "1453  final      1  "
      ]
     },
     "execution_count": 12,
     "metadata": {},
     "output_type": "execute_result"
    }
   ],
   "source": [
    "df16[df16['Name']== 'sophie scheder']"
   ]
  },
  {
   "cell_type": "code",
   "execution_count": null,
   "id": "78f625eb",
   "metadata": {},
   "outputs": [],
   "source": []
  },
  {
   "cell_type": "code",
   "execution_count": 13,
   "id": "404a9a44",
   "metadata": {},
   "outputs": [],
   "source": [
    "# def assign_medal(name):\n",
    "#     name_lower = name.lower()\n",
    "#     if name_lower == 'nina derwael':\n",
    "#         return 3\n",
    "#     elif name_lower == 'anastasia ilyankova':\n",
    "#         return 2\n",
    "#     elif name_lower == 'sunisa lee':\n",
    "#         return 1\n",
    "#     else:\n",
    "#         return -1\n",
    "\n",
    "# # Apply the function to create the \"medal\" column\n",
    "# df20['medal'] = df20['Name'].apply(assign_medal)\n"
   ]
  },
  {
   "cell_type": "code",
   "execution_count": 14,
   "id": "5eef5461",
   "metadata": {},
   "outputs": [],
   "source": [
    "# Define a function to assign medal values based on the \"Name\" column\n",
    "def assign_medal(name):\n",
    "    name_lower = name.lower()\n",
    "    if name_lower == 'nina derwael':\n",
    "        return 1\n",
    "    elif name_lower == 'anastasia ilyankova':\n",
    "        return 1\n",
    "    elif name_lower == 'sunisa lee':\n",
    "        return 1\n",
    "    else:\n",
    "        return 0\n",
    "\n",
    "# Apply the function to create the \"medal\" column\n",
    "df20['medal'] = df20['Name'].apply(assign_medal)\n"
   ]
  },
  {
   "cell_type": "code",
   "execution_count": null,
   "id": "992d053b",
   "metadata": {},
   "outputs": [],
   "source": []
  },
  {
   "cell_type": "code",
   "execution_count": 15,
   "id": "7445e76f",
   "metadata": {},
   "outputs": [
    {
     "data": {
      "text/plain": [
       "medal\n",
       "0    132\n",
       "1      9\n",
       "Name: count, dtype: int64"
      ]
     },
     "execution_count": 15,
     "metadata": {},
     "output_type": "execute_result"
    }
   ],
   "source": [
    "df20['medal'].value_counts()"
   ]
  },
  {
   "cell_type": "code",
   "execution_count": 16,
   "id": "2bcebce2",
   "metadata": {},
   "outputs": [
    {
     "name": "stdout",
     "output_type": "stream",
     "text": [
      "aliya Mustafina: 2\n",
      "Madison Kocian: 2\n",
      "Sophie Scheder: 4\n"
     ]
    }
   ],
   "source": [
    "# Assuming you have a DataFrame named 'df'\n",
    "name_counts = df16['Name'].value_counts()\n",
    "\n",
    "# Print the counts for each name\n",
    "print(\"aliya Mustafina:\", name_counts.get(\"aliya mustafina\", 0))\n",
    "print(\"Madison Kocian:\", name_counts.get(\"madison kocian\", 0))\n",
    "print(\"Sophie Scheder:\", name_counts.get(\"sophie scheder\", 0))"
   ]
  },
  {
   "cell_type": "code",
   "execution_count": 17,
   "id": "7d82d2fb",
   "metadata": {},
   "outputs": [
    {
     "name": "stdout",
     "output_type": "stream",
     "text": [
      "nina derwael: 7\n",
      "anastasia ilyankova: 1\n",
      "sunisa lee: 1\n"
     ]
    }
   ],
   "source": [
    "# Assuming you have a DataFrame named 'df'\n",
    "name_counts = df20['Name'].value_counts()\n",
    "\n",
    "print(\"nina derwael:\", name_counts.get(\"nina derwael\", 0))\n",
    "print(\"anastasia ilyankova:\", name_counts.get(\"anastasia ilyankova\", 0))\n",
    "print(\"sunisa lee:\", name_counts.get(\"sunisa lee\", 0))"
   ]
  },
  {
   "cell_type": "code",
   "execution_count": 18,
   "id": "f0eda1b4",
   "metadata": {},
   "outputs": [],
   "source": [
    "combined_df = pd.concat([df20, df16], axis=0)"
   ]
  },
  {
   "cell_type": "code",
   "execution_count": 19,
   "id": "921bf4ce",
   "metadata": {},
   "outputs": [],
   "source": [
    "df = combined_df.copy()"
   ]
  },
  {
   "cell_type": "code",
   "execution_count": 20,
   "id": "f7cfddf0",
   "metadata": {},
   "outputs": [
    {
     "data": {
      "text/plain": [
       "medal\n",
       "0    429\n",
       "1     17\n",
       "Name: count, dtype: int64"
      ]
     },
     "execution_count": 20,
     "metadata": {},
     "output_type": "execute_result"
    }
   ],
   "source": [
    "df['medal'].value_counts()"
   ]
  },
  {
   "cell_type": "code",
   "execution_count": 21,
   "id": "aacd7c95",
   "metadata": {},
   "outputs": [
    {
     "name": "stdout",
     "output_type": "stream",
     "text": [
      "<class 'pandas.core.frame.DataFrame'>\n",
      "Index: 446 entries, 1271 to 1883\n",
      "Data columns (total 10 columns):\n",
      " #   Column   Non-Null Count  Dtype  \n",
      "---  ------   --------------  -----  \n",
      " 0   Rank     446 non-null    float64\n",
      " 1   Name     446 non-null    object \n",
      " 2   nation   446 non-null    object \n",
      " 3   D Score  446 non-null    float64\n",
      " 4   E Score  446 non-null    float64\n",
      " 5   Pen.     446 non-null    float64\n",
      " 6   Total    446 non-null    float64\n",
      " 7   year     446 non-null    int64  \n",
      " 8   round    446 non-null    object \n",
      " 9   medal    446 non-null    int64  \n",
      "dtypes: float64(5), int64(2), object(3)\n",
      "memory usage: 38.3+ KB\n"
     ]
    }
   ],
   "source": [
    "df.info()"
   ]
  },
  {
   "cell_type": "code",
   "execution_count": 22,
   "id": "38518845",
   "metadata": {},
   "outputs": [],
   "source": [
    "from sklearn.preprocessing import LabelEncoder\n",
    "\n",
    "# Assuming df is your DataFrame and 'Name' is the column you want to encode\n",
    "le = LabelEncoder()\n",
    "\n",
    "# Fit and transform the 'Name' column to create integer labels\n",
    "df['Name_encoded'] = le.fit_transform(df['Name'])\n",
    "\n",
    "# Store the mapping between integers and original objects\n",
    "label_mapping = dict(zip(le.transform(df['Name']), df['Name']))\n",
    "\n",
    "# To revert the integers back to objects, use the label_mapping\n",
    "# reverted_names = df['Name_encoded'].map(label_mapping)"
   ]
  },
  {
   "cell_type": "code",
   "execution_count": 23,
   "id": "8ee6abbe",
   "metadata": {},
   "outputs": [],
   "source": [
    "df=df.drop(columns=[\"Name\"])"
   ]
  },
  {
   "cell_type": "code",
   "execution_count": 24,
   "id": "dfed9628",
   "metadata": {},
   "outputs": [],
   "source": [
    "# Assuming df is your DataFrame\n",
    "df.rename(columns={'Name_encoded': 'Name'}, inplace=True)\n"
   ]
  },
  {
   "cell_type": "code",
   "execution_count": 25,
   "id": "eee62323",
   "metadata": {},
   "outputs": [],
   "source": [
    "from sklearn.preprocessing import LabelEncoder\n",
    "\n",
    "# Assuming df is your DataFrame and 'Name' is the column you want to encode\n",
    "le = LabelEncoder()\n",
    "\n",
    "# Fit and transform the 'Name' column to create integer labels\n",
    "df['nation_encoded'] = le.fit_transform(df['nation'])\n",
    "\n",
    "# Store the mapping between integers and original objects\n",
    "label_mapping_nation = dict(zip(le.transform(df['nation']), df['nation']))\n",
    "\n",
    "# To revert the integers back to objects, use the label_mapping\n",
    "# reverted_names = df['Name_encoded'].map(label_mapping)"
   ]
  },
  {
   "cell_type": "code",
   "execution_count": 26,
   "id": "738304a6",
   "metadata": {},
   "outputs": [],
   "source": [
    "df=df.drop(columns=[\"nation\"])"
   ]
  },
  {
   "cell_type": "code",
   "execution_count": 27,
   "id": "376bbd5d",
   "metadata": {},
   "outputs": [],
   "source": [
    "# Assuming df is your DataFrame\n",
    "df.rename(columns={'nation_encoded': 'nation'}, inplace=True)\n"
   ]
  },
  {
   "cell_type": "code",
   "execution_count": 28,
   "id": "f5996fbe",
   "metadata": {},
   "outputs": [
    {
     "data": {
      "text/plain": [
       "Rank        85\n",
       "D Score     51\n",
       "E Score    165\n",
       "Pen.         3\n",
       "Total      218\n",
       "year         8\n",
       "round        5\n",
       "medal        2\n",
       "Name       277\n",
       "nation      76\n",
       "dtype: int64"
      ]
     },
     "execution_count": 28,
     "metadata": {},
     "output_type": "execute_result"
    }
   ],
   "source": [
    "df.nunique()"
   ]
  },
  {
   "cell_type": "code",
   "execution_count": 29,
   "id": "9d1c7bd6",
   "metadata": {},
   "outputs": [],
   "source": [
    "# Assuming df is your DataFrame\n",
    "df['round'] = df['round'].str.lower()\n"
   ]
  },
  {
   "cell_type": "code",
   "execution_count": 30,
   "id": "9dc06f24",
   "metadata": {},
   "outputs": [
    {
     "data": {
      "text/plain": [
       "218"
      ]
     },
     "execution_count": 30,
     "metadata": {},
     "output_type": "execute_result"
    }
   ],
   "source": [
    "df['Total'].nunique()"
   ]
  },
  {
   "cell_type": "code",
   "execution_count": 31,
   "id": "c39c5fdb",
   "metadata": {},
   "outputs": [
    {
     "data": {
      "text/plain": [
       "51"
      ]
     },
     "execution_count": 31,
     "metadata": {},
     "output_type": "execute_result"
    }
   ],
   "source": [
    "df['D Score'].nunique()"
   ]
  },
  {
   "cell_type": "code",
   "execution_count": 32,
   "id": "a6f708a6",
   "metadata": {},
   "outputs": [
    {
     "data": {
      "text/plain": [
       "165"
      ]
     },
     "execution_count": 32,
     "metadata": {},
     "output_type": "execute_result"
    }
   ],
   "source": [
    "df['E Score'].nunique()"
   ]
  },
  {
   "cell_type": "code",
   "execution_count": 33,
   "id": "384dc4c7",
   "metadata": {},
   "outputs": [
    {
     "data": {
      "text/plain": [
       "0.761748505801008"
      ]
     },
     "execution_count": 33,
     "metadata": {},
     "output_type": "execute_result"
    }
   ],
   "source": [
    "6.5/8.533"
   ]
  },
  {
   "cell_type": "code",
   "execution_count": 34,
   "id": "d4f0be89",
   "metadata": {},
   "outputs": [
    {
     "data": {
      "text/plain": [
       "1.3127692307692307"
      ]
     },
     "execution_count": 34,
     "metadata": {},
     "output_type": "execute_result"
    }
   ],
   "source": [
    "8.533/6.5"
   ]
  },
  {
   "cell_type": "code",
   "execution_count": 35,
   "id": "d3b3bf8b",
   "metadata": {},
   "outputs": [
    {
     "data": {
      "text/html": [
       "<div>\n",
       "<style scoped>\n",
       "    .dataframe tbody tr th:only-of-type {\n",
       "        vertical-align: middle;\n",
       "    }\n",
       "\n",
       "    .dataframe tbody tr th {\n",
       "        vertical-align: top;\n",
       "    }\n",
       "\n",
       "    .dataframe thead th {\n",
       "        text-align: right;\n",
       "    }\n",
       "</style>\n",
       "<table border=\"1\" class=\"dataframe\">\n",
       "  <thead>\n",
       "    <tr style=\"text-align: right;\">\n",
       "      <th></th>\n",
       "      <th>Rank</th>\n",
       "      <th>D Score</th>\n",
       "      <th>E Score</th>\n",
       "      <th>Pen.</th>\n",
       "      <th>Total</th>\n",
       "      <th>year</th>\n",
       "      <th>round</th>\n",
       "      <th>medal</th>\n",
       "      <th>Name</th>\n",
       "      <th>nation</th>\n",
       "    </tr>\n",
       "  </thead>\n",
       "  <tbody>\n",
       "    <tr>\n",
       "      <th>1271</th>\n",
       "      <td>1.0</td>\n",
       "      <td>6.5</td>\n",
       "      <td>8.533</td>\n",
       "      <td>0.0</td>\n",
       "      <td>15.033</td>\n",
       "      <td>2019</td>\n",
       "      <td>final</td>\n",
       "      <td>1</td>\n",
       "      <td>208</td>\n",
       "      <td>6</td>\n",
       "    </tr>\n",
       "    <tr>\n",
       "      <th>1272</th>\n",
       "      <td>2.0</td>\n",
       "      <td>6.5</td>\n",
       "      <td>8.433</td>\n",
       "      <td>0.0</td>\n",
       "      <td>14.933</td>\n",
       "      <td>2019</td>\n",
       "      <td>final</td>\n",
       "      <td>0</td>\n",
       "      <td>103</td>\n",
       "      <td>12</td>\n",
       "    </tr>\n",
       "    <tr>\n",
       "      <th>1273</th>\n",
       "      <td>3.0</td>\n",
       "      <td>6.3</td>\n",
       "      <td>8.400</td>\n",
       "      <td>0.0</td>\n",
       "      <td>14.700</td>\n",
       "      <td>2019</td>\n",
       "      <td>final</td>\n",
       "      <td>0</td>\n",
       "      <td>21</td>\n",
       "      <td>55</td>\n",
       "    </tr>\n",
       "    <tr>\n",
       "      <th>1274</th>\n",
       "      <td>4.0</td>\n",
       "      <td>6.0</td>\n",
       "      <td>8.216</td>\n",
       "      <td>0.0</td>\n",
       "      <td>14.216</td>\n",
       "      <td>2019</td>\n",
       "      <td>final</td>\n",
       "      <td>0</td>\n",
       "      <td>140</td>\n",
       "      <td>61</td>\n",
       "    </tr>\n",
       "    <tr>\n",
       "      <th>1275</th>\n",
       "      <td>5.0</td>\n",
       "      <td>6.0</td>\n",
       "      <td>8.000</td>\n",
       "      <td>0.0</td>\n",
       "      <td>14.000</td>\n",
       "      <td>2019</td>\n",
       "      <td>final</td>\n",
       "      <td>0</td>\n",
       "      <td>148</td>\n",
       "      <td>24</td>\n",
       "    </tr>\n",
       "  </tbody>\n",
       "</table>\n",
       "</div>"
      ],
      "text/plain": [
       "      Rank  D Score  E Score  Pen.   Total  year  round  medal  Name  nation\n",
       "1271   1.0      6.5    8.533   0.0  15.033  2019  final      1   208       6\n",
       "1272   2.0      6.5    8.433   0.0  14.933  2019  final      0   103      12\n",
       "1273   3.0      6.3    8.400   0.0  14.700  2019  final      0    21      55\n",
       "1274   4.0      6.0    8.216   0.0  14.216  2019  final      0   140      61\n",
       "1275   5.0      6.0    8.000   0.0  14.000  2019  final      0   148      24"
      ]
     },
     "execution_count": 35,
     "metadata": {},
     "output_type": "execute_result"
    }
   ],
   "source": [
    "df.head()"
   ]
  },
  {
   "cell_type": "code",
   "execution_count": 36,
   "id": "b6e841c1",
   "metadata": {},
   "outputs": [],
   "source": [
    "df['total_D'] = df['Total'] / df['D Score']\n",
    "df['total_E'] = df['Total'] / df['E Score']\n",
    "df['D_E'] =  df['E Score'] / df['D Score']\n"
   ]
  },
  {
   "cell_type": "code",
   "execution_count": 37,
   "id": "7aa060b6",
   "metadata": {},
   "outputs": [],
   "source": [
    "\n",
    "df_encoded = pd.get_dummies(df, columns=['round'], prefix='round')"
   ]
  },
  {
   "cell_type": "code",
   "execution_count": 38,
   "id": "82fc22ce",
   "metadata": {},
   "outputs": [
    {
     "name": "stdout",
     "output_type": "stream",
     "text": [
      "<class 'pandas.core.frame.DataFrame'>\n",
      "Index: 446 entries, 1271 to 1883\n",
      "Data columns (total 15 columns):\n",
      " #   Column         Non-Null Count  Dtype  \n",
      "---  ------         --------------  -----  \n",
      " 0   Rank           446 non-null    float64\n",
      " 1   D Score        446 non-null    float64\n",
      " 2   E Score        446 non-null    float64\n",
      " 3   Pen.           446 non-null    float64\n",
      " 4   Total          446 non-null    float64\n",
      " 5   year           446 non-null    int64  \n",
      " 6   medal          446 non-null    int64  \n",
      " 7   Name           446 non-null    int64  \n",
      " 8   nation         446 non-null    int64  \n",
      " 9   total_D        446 non-null    float64\n",
      " 10  total_E        446 non-null    float64\n",
      " 11  D_E            446 non-null    float64\n",
      " 12  round_final    446 non-null    bool   \n",
      " 13  round_qual     446 non-null    bool   \n",
      " 14  round_unknown  446 non-null    bool   \n",
      "dtypes: bool(3), float64(8), int64(4)\n",
      "memory usage: 46.6 KB\n"
     ]
    }
   ],
   "source": [
    "df_encoded.info()"
   ]
  },
  {
   "cell_type": "code",
   "execution_count": 39,
   "id": "782cd513",
   "metadata": {},
   "outputs": [],
   "source": [
    "\n",
    "df_encoded['tot_final']=df_encoded['round_final']+df_encoded['Total']\n",
    "df_encoded['tot_fin_d'] = df_encoded['tot_final'] * df_encoded['D Score']\n",
    "df_encoded['tot_fin_ddiv'] = df_encoded['D Score'] / df_encoded['tot_final']  "
   ]
  },
  {
   "cell_type": "code",
   "execution_count": 40,
   "id": "c8cb7f42",
   "metadata": {},
   "outputs": [],
   "source": [
    "correlations = df_encoded.corrwith(df['medal'])\n"
   ]
  },
  {
   "cell_type": "code",
   "execution_count": 41,
   "id": "7ee1f7e1",
   "metadata": {},
   "outputs": [
    {
     "name": "stdout",
     "output_type": "stream",
     "text": [
      "<class 'pandas.core.frame.DataFrame'>\n",
      "Index: 446 entries, 1271 to 1883\n",
      "Data columns (total 13 columns):\n",
      " #   Column   Non-Null Count  Dtype  \n",
      "---  ------   --------------  -----  \n",
      " 0   Rank     446 non-null    float64\n",
      " 1   D Score  446 non-null    float64\n",
      " 2   E Score  446 non-null    float64\n",
      " 3   Pen.     446 non-null    float64\n",
      " 4   Total    446 non-null    float64\n",
      " 5   year     446 non-null    int64  \n",
      " 6   round    446 non-null    object \n",
      " 7   medal    446 non-null    int64  \n",
      " 8   Name     446 non-null    int64  \n",
      " 9   nation   446 non-null    int64  \n",
      " 10  total_D  446 non-null    float64\n",
      " 11  total_E  446 non-null    float64\n",
      " 12  D_E      446 non-null    float64\n",
      "dtypes: float64(8), int64(4), object(1)\n",
      "memory usage: 48.8+ KB\n"
     ]
    }
   ],
   "source": [
    "df.info()"
   ]
  },
  {
   "cell_type": "code",
   "execution_count": 42,
   "id": "fa5092c4",
   "metadata": {},
   "outputs": [
    {
     "data": {
      "text/plain": [
       "medal            1.000000\n",
       "tot_fin_d        0.279685\n",
       "tot_final        0.246066\n",
       "D Score          0.239582\n",
       "Total            0.229803\n",
       "round_final      0.204005\n",
       "E Score          0.165649\n",
       "Name             0.108043\n",
       "total_E          0.097242\n",
       "nation           0.045960\n",
       "year             0.031364\n",
       "Pen.             0.020258\n",
       "round_unknown   -0.038399\n",
       "tot_fin_ddiv    -0.044574\n",
       "total_D         -0.073388\n",
       "D_E             -0.073456\n",
       "Rank            -0.145906\n",
       "round_qual      -0.184716\n",
       "dtype: float64"
      ]
     },
     "execution_count": 42,
     "metadata": {},
     "output_type": "execute_result"
    }
   ],
   "source": [
    "correlations.sort_values(ascending=False)\n"
   ]
  },
  {
   "cell_type": "code",
   "execution_count": 43,
   "id": "72696f7a",
   "metadata": {},
   "outputs": [],
   "source": [
    "# medals: 0 or 1\n",
    "# # medal            1.000000\n",
    "# # D Score          0.239582\n",
    "# # Total            0.229803\n",
    "# # round_final      0.204005\n",
    "# # E Score          0.165649\n",
    "# # Name             0.108043\n",
    "# # nation           0.045960\n",
    "# # year             0.031364\n",
    "# # Pen.             0.020258\n",
    "# # round_unknown   -0.038399\n",
    "# # Rank            -0.145906\n",
    "# # round_qual      -0.184716\n",
    "# # dtype: float64"
   ]
  },
  {
   "cell_type": "code",
   "execution_count": 44,
   "id": "d553c1dd",
   "metadata": {},
   "outputs": [],
   "source": [
    "# medals: 3, 2, 1, 0\n",
    "# medal            1.000000\n",
    "# D Score          0.226139\n",
    "# Total            0.222609\n",
    "# round_final      0.186404\n",
    "# E Score          0.165968\n",
    "# year             0.072862\n",
    "# Name             0.072479\n",
    "# nation           0.045566\n",
    "# Pen.             0.018810\n",
    "# round_unknown   -0.035655\n",
    "# Rank            -0.138958\n",
    "# round_qual      -0.168561\n",
    "# dtype: float64"
   ]
  },
  {
   "cell_type": "code",
   "execution_count": 45,
   "id": "3ce1f1e3",
   "metadata": {},
   "outputs": [
    {
     "name": "stdout",
     "output_type": "stream",
     "text": [
      "<class 'pandas.core.frame.DataFrame'>\n",
      "Index: 446 entries, 1271 to 1883\n",
      "Data columns (total 18 columns):\n",
      " #   Column         Non-Null Count  Dtype  \n",
      "---  ------         --------------  -----  \n",
      " 0   Rank           446 non-null    float64\n",
      " 1   D Score        446 non-null    float64\n",
      " 2   E Score        446 non-null    float64\n",
      " 3   Pen.           446 non-null    float64\n",
      " 4   Total          446 non-null    float64\n",
      " 5   year           446 non-null    int64  \n",
      " 6   medal          446 non-null    int64  \n",
      " 7   Name           446 non-null    int64  \n",
      " 8   nation         446 non-null    int64  \n",
      " 9   total_D        446 non-null    float64\n",
      " 10  total_E        446 non-null    float64\n",
      " 11  D_E            446 non-null    float64\n",
      " 12  round_final    446 non-null    bool   \n",
      " 13  round_qual     446 non-null    bool   \n",
      " 14  round_unknown  446 non-null    bool   \n",
      " 15  tot_final      446 non-null    float64\n",
      " 16  tot_fin_d      446 non-null    float64\n",
      " 17  tot_fin_ddiv   446 non-null    float64\n",
      "dtypes: bool(3), float64(11), int64(4)\n",
      "memory usage: 57.1 KB\n"
     ]
    }
   ],
   "source": [
    "df_encoded.info()"
   ]
  },
  {
   "cell_type": "code",
   "execution_count": 46,
   "id": "284da11f",
   "metadata": {},
   "outputs": [],
   "source": [
    "# df_encoded.to_csv('ub_encoded.csv', index=False)"
   ]
  },
  {
   "cell_type": "code",
   "execution_count": null,
   "id": "e41d0111",
   "metadata": {},
   "outputs": [],
   "source": []
  }
 ],
 "metadata": {
  "kernelspec": {
   "display_name": "Python 3 (ipykernel)",
   "language": "python",
   "name": "python3"
  },
  "language_info": {
   "codemirror_mode": {
    "name": "ipython",
    "version": 3
   },
   "file_extension": ".py",
   "mimetype": "text/x-python",
   "name": "python",
   "nbconvert_exporter": "python",
   "pygments_lexer": "ipython3",
   "version": "3.9.12"
  }
 },
 "nbformat": 4,
 "nbformat_minor": 5
}
