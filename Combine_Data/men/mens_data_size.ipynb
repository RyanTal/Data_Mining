{
 "cells": [
  {
   "cell_type": "code",
   "execution_count": 1,
   "id": "4b3869a2-426d-4711-bfe3-826d3b365197",
   "metadata": {},
   "outputs": [],
   "source": [
    "import pandas as pd"
   ]
  },
  {
   "cell_type": "code",
   "execution_count": 6,
   "id": "85f343eb-8989-4986-b3e3-5334c45a3d4a",
   "metadata": {},
   "outputs": [],
   "source": [
    "fx=pd.read_csv('fx.csv')\n",
    "vt=pd.read_csv('vt.csv')\n",
    "hb=pd.read_csv('hb.csv')\n",
    "ph=pd.read_csv('ph.csv')\n",
    "pb=pd.read_csv('pb.csv')\n",
    "sr=pd.read_csv('sr.csv')\n",
    "# iaa=pd.read_csv('iaa.csv')\n"
   ]
  },
  {
   "cell_type": "code",
   "execution_count": 4,
   "id": "fc2708f4-bc0f-4e33-8a1a-14e70822377b",
   "metadata": {},
   "outputs": [
    {
     "name": "stdout",
     "output_type": "stream",
     "text": [
      "<class 'pandas.core.frame.DataFrame'>\n",
      "RangeIndex: 538 entries, 0 to 537\n",
      "Data columns (total 9 columns):\n",
      " #   Column   Non-Null Count  Dtype  \n",
      "---  ------   --------------  -----  \n",
      " 0   Rank     538 non-null    int64  \n",
      " 1   Athlete  538 non-null    object \n",
      " 2   Nation   536 non-null    object \n",
      " 3   D        538 non-null    float64\n",
      " 4   E        538 non-null    float64\n",
      " 5   ND       538 non-null    float64\n",
      " 6   year     538 non-null    int64  \n",
      " 7   round    538 non-null    object \n",
      " 8   Total    538 non-null    float64\n",
      "dtypes: float64(4), int64(2), object(3)\n",
      "memory usage: 38.0+ KB\n"
     ]
    }
   ],
   "source": [
    "fx.info()"
   ]
  },
  {
   "cell_type": "code",
   "execution_count": 7,
   "id": "9768cfdc-06fe-4396-b7eb-2447e7490c97",
   "metadata": {},
   "outputs": [
    {
     "name": "stdout",
     "output_type": "stream",
     "text": [
      "<class 'pandas.core.frame.DataFrame'>\n",
      "RangeIndex: 126 entries, 0 to 125\n",
      "Data columns (total 13 columns):\n",
      " #   Column   Non-Null Count  Dtype  \n",
      "---  ------   --------------  -----  \n",
      " 0   Rank     126 non-null    object \n",
      " 1   Athlete  126 non-null    object \n",
      " 2   Nation   126 non-null    object \n",
      " 3   D        126 non-null    float64\n",
      " 4   E        126 non-null    float64\n",
      " 5   ND       126 non-null    float64\n",
      " 6   Total    126 non-null    float64\n",
      " 7   D.1      126 non-null    float64\n",
      " 8   E.1      126 non-null    float64\n",
      " 9   ND.1     126 non-null    float64\n",
      " 10  Total.1  126 non-null    float64\n",
      " 11  year     126 non-null    int64  \n",
      " 12  Average  126 non-null    float64\n",
      "dtypes: float64(9), int64(1), object(3)\n",
      "memory usage: 12.9+ KB\n"
     ]
    }
   ],
   "source": [
    "vt.info()"
   ]
  },
  {
   "cell_type": "code",
   "execution_count": null,
   "id": "8f6cee03-6f37-499c-a3d3-655005114c9e",
   "metadata": {},
   "outputs": [],
   "source": []
  }
 ],
 "metadata": {
  "kernelspec": {
   "display_name": "Python 3 (ipykernel)",
   "language": "python",
   "name": "python3"
  },
  "language_info": {
   "codemirror_mode": {
    "name": "ipython",
    "version": 3
   },
   "file_extension": ".py",
   "mimetype": "text/x-python",
   "name": "python",
   "nbconvert_exporter": "python",
   "pygments_lexer": "ipython3",
   "version": "3.8.18"
  }
 },
 "nbformat": 4,
 "nbformat_minor": 5
}
