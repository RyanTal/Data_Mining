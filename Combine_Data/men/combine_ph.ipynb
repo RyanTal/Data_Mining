{
 "cells": [
  {
   "cell_type": "code",
   "execution_count": 8,
   "id": "e457abc7",
   "metadata": {},
   "outputs": [],
   "source": [
    "import pandas as pd\n",
    "import numpy as np"
   ]
  },
  {
   "cell_type": "code",
   "execution_count": 2,
   "id": "c65145a2",
   "metadata": {},
   "outputs": [],
   "source": [
    "wc19melb = pd.read_csv('../../Cleaning/qual_events/men/wc19bmelb_ph.csv')\n",
    "wc20baku = pd.read_csv('../../Cleaning/qual_events/men/wc20baku_ph.csv')\n",
    "world18 = pd.read_csv('../../Cleaning/qual_events/men/world18championship_ph.csv')\n",
    "world19cup = pd.read_csv('../../Cleaning/qual_events/men/world19cup_ph.csv')\n",
    "wc19bmelb = pd.read_csv('../../Cleaning/qual_events/men/wc19bmelb_ph.csv')\n",
    "\n",
    "winter20cup = pd.read_csv('../../Cleaning/qual_events/men/winter20cup_ph.csv')\n",
    "\n"
   ]
  },
  {
   "cell_type": "code",
   "execution_count": 3,
   "id": "994e18ec",
   "metadata": {},
   "outputs": [],
   "source": [
    "ph = pd.concat([wc19melb, wc20baku, world18,world19cup, wc19bmelb])"
   ]
  },
  {
   "cell_type": "code",
   "execution_count": 4,
   "id": "ea14962a",
   "metadata": {},
   "outputs": [],
   "source": [
    "desired_order = ['Rank', 'Athlete', 'Nation', 'D', 'E', 'ND', 'Total', 'year', 'round']\n",
    "\n",
    "# Rearrange the columns in-place\n",
    "winter20cup = winter20cup[desired_order]"
   ]
  },
  {
   "cell_type": "code",
   "execution_count": 5,
   "id": "480e8836",
   "metadata": {},
   "outputs": [],
   "source": [
    "ph = pd.concat([ph, winter20cup])"
   ]
  },
  {
   "cell_type": "code",
   "execution_count": 6,
   "id": "a30fc055",
   "metadata": {},
   "outputs": [
    {
     "name": "stdout",
     "output_type": "stream",
     "text": [
      "<class 'pandas.core.frame.DataFrame'>\n",
      "Index: 561 entries, 0 to 51\n",
      "Data columns (total 9 columns):\n",
      " #   Column   Non-Null Count  Dtype  \n",
      "---  ------   --------------  -----  \n",
      " 0   Rank     561 non-null    int64  \n",
      " 1   Athlete  561 non-null    object \n",
      " 2   Nation   560 non-null    object \n",
      " 3   D        561 non-null    float64\n",
      " 4   E        561 non-null    float64\n",
      " 5   ND       561 non-null    float64\n",
      " 6   Total    561 non-null    float64\n",
      " 7   year     561 non-null    int64  \n",
      " 8   round    561 non-null    object \n",
      "dtypes: float64(4), int64(2), object(3)\n",
      "memory usage: 43.8+ KB\n"
     ]
    }
   ],
   "source": [
    "ph.info()"
   ]
  },
  {
   "cell_type": "code",
   "execution_count": 7,
   "id": "f755ec38",
   "metadata": {},
   "outputs": [],
   "source": [
    "# ph.to_csv('ph.csv', index=False)"
   ]
  },
  {
   "cell_type": "code",
   "execution_count": null,
   "id": "5b055cd3",
   "metadata": {},
   "outputs": [],
   "source": []
  }
 ],
 "metadata": {
  "kernelspec": {
   "display_name": "Python 3 (ipykernel)",
   "language": "python",
   "name": "python3"
  },
  "language_info": {
   "codemirror_mode": {
    "name": "ipython",
    "version": 3
   },
   "file_extension": ".py",
   "mimetype": "text/x-python",
   "name": "python",
   "nbconvert_exporter": "python",
   "pygments_lexer": "ipython3",
   "version": "3.9.12"
  }
 },
 "nbformat": 4,
 "nbformat_minor": 5
}
