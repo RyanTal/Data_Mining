{
 "cells": [
  {
   "cell_type": "code",
   "execution_count": 1,
   "id": "9273fb14",
   "metadata": {},
   "outputs": [],
   "source": [
    "import pandas as pd\n",
    "import numpy as np"
   ]
  },
  {
   "cell_type": "code",
   "execution_count": 2,
   "id": "d36704e0",
   "metadata": {},
   "outputs": [],
   "source": [
    "df = pd.read_csv('iaa2020.csv')"
   ]
  },
  {
   "cell_type": "code",
   "execution_count": 3,
   "id": "d3459445",
   "metadata": {},
   "outputs": [
    {
     "name": "stdout",
     "output_type": "stream",
     "text": [
      "<class 'pandas.core.frame.DataFrame'>\n",
      "RangeIndex: 512 entries, 0 to 511\n",
      "Data columns (total 12 columns):\n",
      " #   Column   Non-Null Count  Dtype  \n",
      "---  ------   --------------  -----  \n",
      " 0   Rank     512 non-null    object \n",
      " 1   Athlete  512 non-null    object \n",
      " 2   Nation   512 non-null    object \n",
      " 3   FX       512 non-null    object \n",
      " 4   PH       512 non-null    object \n",
      " 5   SR       512 non-null    object \n",
      " 6   VT       512 non-null    object \n",
      " 7   PB       512 non-null    object \n",
      " 8   HB       512 non-null    object \n",
      " 9   AA       512 non-null    object \n",
      " 10  round    512 non-null    object \n",
      " 11  year     471 non-null    float64\n",
      "dtypes: float64(1), object(11)\n",
      "memory usage: 48.1+ KB\n"
     ]
    }
   ],
   "source": [
    "df.info()"
   ]
  },
  {
   "cell_type": "code",
   "execution_count": 4,
   "id": "80063c66",
   "metadata": {},
   "outputs": [],
   "source": [
    "# daiki hashimoto (JPN) \n",
    "# xiao ruoteng (CHN) \n",
    "# nikita nagornyy (ROC)"
   ]
  },
  {
   "cell_type": "code",
   "execution_count": 5,
   "id": "2f952bd6",
   "metadata": {},
   "outputs": [],
   "source": [
    "def assign_medal(name):\n",
    "    name_lower = name.lower()\n",
    "    if name_lower == 'daiki hashimoto':\n",
    "        return 1\n",
    "    elif name_lower == 'xiao ruoteng':\n",
    "        return 1\n",
    "    elif name_lower == 'nikita nagornyy':\n",
    "        return 1\n",
    "    else:\n",
    "        return 0\n",
    "\n",
    "# Apply the function to create the \"medal\" column\n",
    "df['medal'] = df['Athlete'].apply(assign_medal)"
   ]
  },
  {
   "cell_type": "code",
   "execution_count": 6,
   "id": "8d32ae23",
   "metadata": {},
   "outputs": [
    {
     "data": {
      "text/plain": [
       "medal\n",
       "0    502\n",
       "1     10\n",
       "Name: count, dtype: int64"
      ]
     },
     "execution_count": 6,
     "metadata": {},
     "output_type": "execute_result"
    }
   ],
   "source": [
    "df['medal'].value_counts()"
   ]
  },
  {
   "cell_type": "code",
   "execution_count": 7,
   "id": "f7b02273",
   "metadata": {},
   "outputs": [
    {
     "data": {
      "text/html": [
       "<div>\n",
       "<style scoped>\n",
       "    .dataframe tbody tr th:only-of-type {\n",
       "        vertical-align: middle;\n",
       "    }\n",
       "\n",
       "    .dataframe tbody tr th {\n",
       "        vertical-align: top;\n",
       "    }\n",
       "\n",
       "    .dataframe thead th {\n",
       "        text-align: right;\n",
       "    }\n",
       "</style>\n",
       "<table border=\"1\" class=\"dataframe\">\n",
       "  <thead>\n",
       "    <tr style=\"text-align: right;\">\n",
       "      <th></th>\n",
       "      <th>Rank</th>\n",
       "      <th>Athlete</th>\n",
       "      <th>Nation</th>\n",
       "      <th>FX</th>\n",
       "      <th>PH</th>\n",
       "      <th>SR</th>\n",
       "      <th>VT</th>\n",
       "      <th>PB</th>\n",
       "      <th>HB</th>\n",
       "      <th>AA</th>\n",
       "      <th>round</th>\n",
       "      <th>year</th>\n",
       "      <th>medal</th>\n",
       "    </tr>\n",
       "  </thead>\n",
       "  <tbody>\n",
       "    <tr>\n",
       "      <th>1</th>\n",
       "      <td>2</td>\n",
       "      <td>xiao ruoteng</td>\n",
       "      <td>CHN</td>\n",
       "      <td>14.133</td>\n",
       "      <td>14.7</td>\n",
       "      <td>14.333</td>\n",
       "      <td>14.866</td>\n",
       "      <td>15.333</td>\n",
       "      <td>14.233</td>\n",
       "      <td>87.598</td>\n",
       "      <td>final</td>\n",
       "      <td>2018.0</td>\n",
       "      <td>1</td>\n",
       "    </tr>\n",
       "    <tr>\n",
       "      <th>2</th>\n",
       "      <td>3</td>\n",
       "      <td>nikita nagornyy</td>\n",
       "      <td>RUS</td>\n",
       "      <td>14.733</td>\n",
       "      <td>13.566</td>\n",
       "      <td>14.5</td>\n",
       "      <td>14.766</td>\n",
       "      <td>14.866</td>\n",
       "      <td>13.9</td>\n",
       "      <td>86.331</td>\n",
       "      <td>final</td>\n",
       "      <td>2018.0</td>\n",
       "      <td>1</td>\n",
       "    </tr>\n",
       "    <tr>\n",
       "      <th>24</th>\n",
       "      <td>1</td>\n",
       "      <td>xiao ruoteng</td>\n",
       "      <td>CHN</td>\n",
       "      <td>14.2</td>\n",
       "      <td>14.633</td>\n",
       "      <td>14.133</td>\n",
       "      <td>14.933</td>\n",
       "      <td>15</td>\n",
       "      <td>14.433</td>\n",
       "      <td>87.332</td>\n",
       "      <td>qual</td>\n",
       "      <td>2018.0</td>\n",
       "      <td>1</td>\n",
       "    </tr>\n",
       "    <tr>\n",
       "      <th>25</th>\n",
       "      <td>2</td>\n",
       "      <td>nikita nagornyy</td>\n",
       "      <td>RUS</td>\n",
       "      <td>14.8</td>\n",
       "      <td>14</td>\n",
       "      <td>14.633</td>\n",
       "      <td>14.733</td>\n",
       "      <td>14.966</td>\n",
       "      <td>13.966</td>\n",
       "      <td>87.098</td>\n",
       "      <td>qual</td>\n",
       "      <td>2018.0</td>\n",
       "      <td>1</td>\n",
       "    </tr>\n",
       "    <tr>\n",
       "      <th>145</th>\n",
       "      <td>1</td>\n",
       "      <td>nikita nagornyy</td>\n",
       "      <td>RUS</td>\n",
       "      <td>14.366</td>\n",
       "      <td>13.233</td>\n",
       "      <td>14.433</td>\n",
       "      <td>14.9</td>\n",
       "      <td>14.933</td>\n",
       "      <td>13.2</td>\n",
       "      <td>85.065</td>\n",
       "      <td>final</td>\n",
       "      <td>2019.0</td>\n",
       "      <td>1</td>\n",
       "    </tr>\n",
       "    <tr>\n",
       "      <th>189</th>\n",
       "      <td>1</td>\n",
       "      <td>nikita nagornyy</td>\n",
       "      <td>RUS</td>\n",
       "      <td>15.041</td>\n",
       "      <td>14.566</td>\n",
       "      <td>14.633</td>\n",
       "      <td>15.066</td>\n",
       "      <td>15.3</td>\n",
       "      <td>14.166</td>\n",
       "      <td>88.772</td>\n",
       "      <td>final</td>\n",
       "      <td>2019.0</td>\n",
       "      <td>1</td>\n",
       "    </tr>\n",
       "    <tr>\n",
       "      <th>192</th>\n",
       "      <td>4</td>\n",
       "      <td>xiao ruoteng</td>\n",
       "      <td>CHN</td>\n",
       "      <td>15.025</td>\n",
       "      <td>15.0</td>\n",
       "      <td>13.933</td>\n",
       "      <td>14.8</td>\n",
       "      <td>15.266</td>\n",
       "      <td>12.666</td>\n",
       "      <td>86.69</td>\n",
       "      <td>final</td>\n",
       "      <td>2019.0</td>\n",
       "      <td>1</td>\n",
       "    </tr>\n",
       "    <tr>\n",
       "      <th>213</th>\n",
       "      <td>1</td>\n",
       "      <td>nikita nagornyy</td>\n",
       "      <td>RUS</td>\n",
       "      <td>14.9</td>\n",
       "      <td>14.033</td>\n",
       "      <td>14.4</td>\n",
       "      <td>14.9</td>\n",
       "      <td>14.8</td>\n",
       "      <td>14.3</td>\n",
       "      <td>87.333</td>\n",
       "      <td>qual</td>\n",
       "      <td>2019.0</td>\n",
       "      <td>1</td>\n",
       "    </tr>\n",
       "    <tr>\n",
       "      <th>215</th>\n",
       "      <td>3</td>\n",
       "      <td>xiao ruoteng</td>\n",
       "      <td>CHN</td>\n",
       "      <td>14.833</td>\n",
       "      <td>13.4</td>\n",
       "      <td>13.833</td>\n",
       "      <td>14.766</td>\n",
       "      <td>14.966</td>\n",
       "      <td>14.033</td>\n",
       "      <td>85.831</td>\n",
       "      <td>qual</td>\n",
       "      <td>2019.0</td>\n",
       "      <td>1</td>\n",
       "    </tr>\n",
       "    <tr>\n",
       "      <th>374</th>\n",
       "      <td>—</td>\n",
       "      <td>daiki hashimoto</td>\n",
       "      <td>JPN</td>\n",
       "      <td>14.433</td>\n",
       "      <td>14.883</td>\n",
       "      <td>——</td>\n",
       "      <td>14.766</td>\n",
       "      <td>——</td>\n",
       "      <td>14.366</td>\n",
       "      <td>58.448</td>\n",
       "      <td>qual</td>\n",
       "      <td>2019.0</td>\n",
       "      <td>1</td>\n",
       "    </tr>\n",
       "  </tbody>\n",
       "</table>\n",
       "</div>"
      ],
      "text/plain": [
       "    Rank          Athlete Nation      FX      PH      SR      VT      PB  \\\n",
       "1      2     xiao ruoteng    CHN  14.133    14.7  14.333  14.866  15.333   \n",
       "2      3  nikita nagornyy    RUS  14.733  13.566    14.5  14.766  14.866   \n",
       "24     1     xiao ruoteng    CHN    14.2  14.633  14.133  14.933      15   \n",
       "25     2  nikita nagornyy    RUS    14.8      14  14.633  14.733  14.966   \n",
       "145    1  nikita nagornyy    RUS  14.366  13.233  14.433    14.9  14.933   \n",
       "189    1  nikita nagornyy    RUS  15.041  14.566  14.633  15.066    15.3   \n",
       "192    4     xiao ruoteng    CHN  15.025    15.0  13.933    14.8  15.266   \n",
       "213    1  nikita nagornyy    RUS    14.9  14.033    14.4    14.9    14.8   \n",
       "215    3     xiao ruoteng    CHN  14.833    13.4  13.833  14.766  14.966   \n",
       "374    —  daiki hashimoto    JPN  14.433  14.883      ——  14.766      ——   \n",
       "\n",
       "         HB      AA  round    year  medal  \n",
       "1    14.233  87.598  final  2018.0      1  \n",
       "2      13.9  86.331  final  2018.0      1  \n",
       "24   14.433  87.332   qual  2018.0      1  \n",
       "25   13.966  87.098   qual  2018.0      1  \n",
       "145    13.2  85.065  final  2019.0      1  \n",
       "189  14.166  88.772  final  2019.0      1  \n",
       "192  12.666   86.69  final  2019.0      1  \n",
       "213    14.3  87.333   qual  2019.0      1  \n",
       "215  14.033  85.831   qual  2019.0      1  \n",
       "374  14.366  58.448   qual  2019.0      1  "
      ]
     },
     "execution_count": 7,
     "metadata": {},
     "output_type": "execute_result"
    }
   ],
   "source": [
    "df[df['medal'] == 1]"
   ]
  },
  {
   "cell_type": "code",
   "execution_count": 8,
   "id": "b39f06b7",
   "metadata": {},
   "outputs": [],
   "source": [
    "df['round'] = df['round'].str.lower()"
   ]
  },
  {
   "cell_type": "code",
   "execution_count": 9,
   "id": "d086b364",
   "metadata": {},
   "outputs": [],
   "source": [
    "from sklearn.preprocessing import LabelEncoder\n",
    "\n",
    "le = LabelEncoder()\n",
    "\n",
    "# Fit and transform the 'Name' column to create integer labels\n",
    "df['Name_encoded'] = le.fit_transform(df['Athlete'])\n",
    "\n",
    "# Store the mapping between integers and original objects\n",
    "label_mapping = dict(zip(le.transform(df['Athlete']), df['Athlete']))\n"
   ]
  },
  {
   "cell_type": "code",
   "execution_count": 10,
   "id": "5bd47ccb",
   "metadata": {},
   "outputs": [],
   "source": [
    "df=df.drop(columns=[\"Athlete\"])\n",
    "df.rename(columns={'Name_encoded': 'Name'}, inplace=True)"
   ]
  },
  {
   "cell_type": "code",
   "execution_count": 11,
   "id": "ed52e8c1",
   "metadata": {},
   "outputs": [],
   "source": [
    "from sklearn.preprocessing import LabelEncoder\n",
    "\n",
    "le = LabelEncoder()\n",
    "\n",
    "# Fit and transform the 'Name' column to create integer labels\n",
    "df['nation_encoded'] = le.fit_transform(df['Nation'])\n",
    "\n",
    "# Store the mapping between integers and original objects\n",
    "label_mapping_nation = dict(zip(le.transform(df['Nation']), df['Nation']))\n"
   ]
  },
  {
   "cell_type": "code",
   "execution_count": 12,
   "id": "7090f1b8",
   "metadata": {},
   "outputs": [],
   "source": [
    "df=df.drop(columns=[\"Nation\"])\n",
    "df.rename(columns={'nation_encoded': 'Nation'}, inplace=True)"
   ]
  },
  {
   "cell_type": "code",
   "execution_count": 13,
   "id": "c9a6133c",
   "metadata": {},
   "outputs": [],
   "source": [
    "df_encoded = pd.get_dummies(df, columns=['round'], prefix='round')"
   ]
  },
  {
   "cell_type": "code",
   "execution_count": 14,
   "id": "7e6c2bda",
   "metadata": {},
   "outputs": [
    {
     "name": "stdout",
     "output_type": "stream",
     "text": [
      "<class 'pandas.core.frame.DataFrame'>\n",
      "RangeIndex: 512 entries, 0 to 511\n",
      "Data columns (total 14 columns):\n",
      " #   Column       Non-Null Count  Dtype  \n",
      "---  ------       --------------  -----  \n",
      " 0   Rank         512 non-null    object \n",
      " 1   FX           512 non-null    object \n",
      " 2   PH           512 non-null    object \n",
      " 3   SR           512 non-null    object \n",
      " 4   VT           512 non-null    object \n",
      " 5   PB           512 non-null    object \n",
      " 6   HB           512 non-null    object \n",
      " 7   AA           512 non-null    object \n",
      " 8   year         471 non-null    float64\n",
      " 9   medal        512 non-null    int64  \n",
      " 10  Name         512 non-null    int64  \n",
      " 11  Nation       512 non-null    int64  \n",
      " 12  round_final  512 non-null    bool   \n",
      " 13  round_qual   512 non-null    bool   \n",
      "dtypes: bool(2), float64(1), int64(3), object(8)\n",
      "memory usage: 49.1+ KB\n"
     ]
    }
   ],
   "source": [
    "df_encoded.info()"
   ]
  },
  {
   "cell_type": "code",
   "execution_count": 15,
   "id": "fe57f6ae",
   "metadata": {},
   "outputs": [],
   "source": [
    "columns_to_convert_to_float = ['FX', 'PH', 'SR', 'VT', 'PB', 'HB', 'AA']\n",
    "columns_to_convert_to_int = ['Rank']\n",
    "\n",
    "# Convert columns to float\n",
    "df_encoded[columns_to_convert_to_float] = df_encoded[columns_to_convert_to_float].apply(pd.to_numeric, errors='coerce')\n",
    "\n",
    "# Convert 'Rank' column to int\n",
    "df_encoded['Rank'] = df_encoded['Rank'].apply(pd.to_numeric, downcast='integer', errors='coerce')\n"
   ]
  },
  {
   "cell_type": "code",
   "execution_count": 16,
   "id": "e13fa875",
   "metadata": {},
   "outputs": [],
   "source": [
    "# df_encoded.to_csv('iaa_encoded.csv', index=False)"
   ]
  }
 ],
 "metadata": {
  "kernelspec": {
   "display_name": "Python 3 (ipykernel)",
   "language": "python",
   "name": "python3"
  },
  "language_info": {
   "codemirror_mode": {
    "name": "ipython",
    "version": 3
   },
   "file_extension": ".py",
   "mimetype": "text/x-python",
   "name": "python",
   "nbconvert_exporter": "python",
   "pygments_lexer": "ipython3",
   "version": "3.9.12"
  }
 },
 "nbformat": 4,
 "nbformat_minor": 5
}
