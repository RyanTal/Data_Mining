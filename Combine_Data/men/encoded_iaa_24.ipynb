{
 "cells": [
  {
   "cell_type": "code",
   "execution_count": 1,
   "id": "0f694e1b",
   "metadata": {},
   "outputs": [],
   "source": [
    "import pandas as pd\n",
    "import numpy as np"
   ]
  },
  {
   "cell_type": "code",
   "execution_count": 2,
   "id": "c581ff78",
   "metadata": {},
   "outputs": [],
   "source": [
    "df = pd.read_csv('iaa2024.csv')"
   ]
  },
  {
   "cell_type": "code",
   "execution_count": 3,
   "id": "db909771",
   "metadata": {},
   "outputs": [
    {
     "data": {
      "text/html": [
       "<div>\n",
       "<style scoped>\n",
       "    .dataframe tbody tr th:only-of-type {\n",
       "        vertical-align: middle;\n",
       "    }\n",
       "\n",
       "    .dataframe tbody tr th {\n",
       "        vertical-align: top;\n",
       "    }\n",
       "\n",
       "    .dataframe thead th {\n",
       "        text-align: right;\n",
       "    }\n",
       "</style>\n",
       "<table border=\"1\" class=\"dataframe\">\n",
       "  <thead>\n",
       "    <tr style=\"text-align: right;\">\n",
       "      <th></th>\n",
       "      <th>Rank</th>\n",
       "      <th>Athlete</th>\n",
       "      <th>FX</th>\n",
       "      <th>PH</th>\n",
       "      <th>SR</th>\n",
       "      <th>VT</th>\n",
       "      <th>PB</th>\n",
       "      <th>HB</th>\n",
       "      <th>AA</th>\n",
       "      <th>round</th>\n",
       "      <th>Nation</th>\n",
       "      <th>year</th>\n",
       "    </tr>\n",
       "  </thead>\n",
       "  <tbody>\n",
       "    <tr>\n",
       "      <th>0</th>\n",
       "      <td>1.0</td>\n",
       "      <td>hashimoto daiki</td>\n",
       "      <td>14.733</td>\n",
       "      <td>15.075</td>\n",
       "      <td>13.333</td>\n",
       "      <td>15.066</td>\n",
       "      <td>15.200</td>\n",
       "      <td>14.633</td>\n",
       "      <td>88.040</td>\n",
       "      <td>qual</td>\n",
       "      <td>Japan</td>\n",
       "      <td>2021</td>\n",
       "    </tr>\n",
       "    <tr>\n",
       "      <th>1</th>\n",
       "      <td>2.0</td>\n",
       "      <td>zhang boheng</td>\n",
       "      <td>14.133</td>\n",
       "      <td>14.666</td>\n",
       "      <td>14.866</td>\n",
       "      <td>14.766</td>\n",
       "      <td>15.300</td>\n",
       "      <td>14.166</td>\n",
       "      <td>87.897</td>\n",
       "      <td>qual</td>\n",
       "      <td>China</td>\n",
       "      <td>2021</td>\n",
       "    </tr>\n",
       "    <tr>\n",
       "      <th>2</th>\n",
       "      <td>3.0</td>\n",
       "      <td>adem asil</td>\n",
       "      <td>14.066</td>\n",
       "      <td>12.666</td>\n",
       "      <td>14.533</td>\n",
       "      <td>14.966</td>\n",
       "      <td>14.366</td>\n",
       "      <td>13.833</td>\n",
       "      <td>84.430</td>\n",
       "      <td>qual</td>\n",
       "      <td>Turkey</td>\n",
       "      <td>2021</td>\n",
       "    </tr>\n",
       "    <tr>\n",
       "      <th>3</th>\n",
       "      <td>4.0</td>\n",
       "      <td>shi cong</td>\n",
       "      <td>13.200</td>\n",
       "      <td>13.466</td>\n",
       "      <td>13.933</td>\n",
       "      <td>14.233</td>\n",
       "      <td>15.200</td>\n",
       "      <td>13.866</td>\n",
       "      <td>83.898</td>\n",
       "      <td>qual</td>\n",
       "      <td>China</td>\n",
       "      <td>2021</td>\n",
       "    </tr>\n",
       "    <tr>\n",
       "      <th>4</th>\n",
       "      <td>5.0</td>\n",
       "      <td>illia kovtun</td>\n",
       "      <td>14.333</td>\n",
       "      <td>13.766</td>\n",
       "      <td>12.500</td>\n",
       "      <td>14.066</td>\n",
       "      <td>14.700</td>\n",
       "      <td>14.200</td>\n",
       "      <td>83.565</td>\n",
       "      <td>qual</td>\n",
       "      <td>Ukraine</td>\n",
       "      <td>2021</td>\n",
       "    </tr>\n",
       "  </tbody>\n",
       "</table>\n",
       "</div>"
      ],
      "text/plain": [
       "   Rank          Athlete      FX      PH      SR      VT      PB      HB  \\\n",
       "0   1.0  hashimoto daiki  14.733  15.075  13.333  15.066  15.200  14.633   \n",
       "1   2.0     zhang boheng  14.133  14.666  14.866  14.766  15.300  14.166   \n",
       "2   3.0        adem asil  14.066  12.666  14.533  14.966  14.366  13.833   \n",
       "3   4.0         shi cong  13.200  13.466  13.933  14.233  15.200  13.866   \n",
       "4   5.0     illia kovtun  14.333  13.766  12.500  14.066  14.700  14.200   \n",
       "\n",
       "       AA round   Nation  year  \n",
       "0  88.040  qual    Japan  2021  \n",
       "1  87.897  qual    China  2021  \n",
       "2  84.430  qual   Turkey  2021  \n",
       "3  83.898  qual    China  2021  \n",
       "4  83.565  qual  Ukraine  2021  "
      ]
     },
     "execution_count": 3,
     "metadata": {},
     "output_type": "execute_result"
    }
   ],
   "source": [
    "df.head()"
   ]
  },
  {
   "cell_type": "code",
   "execution_count": 4,
   "id": "cc4c5464",
   "metadata": {},
   "outputs": [
    {
     "name": "stdout",
     "output_type": "stream",
     "text": [
      "<class 'pandas.core.frame.DataFrame'>\n",
      "RangeIndex: 721 entries, 0 to 720\n",
      "Data columns (total 12 columns):\n",
      " #   Column   Non-Null Count  Dtype  \n",
      "---  ------   --------------  -----  \n",
      " 0   Rank     516 non-null    float64\n",
      " 1   Athlete  721 non-null    object \n",
      " 2   FX       721 non-null    float64\n",
      " 3   PH       721 non-null    float64\n",
      " 4   SR       721 non-null    float64\n",
      " 5   VT       721 non-null    float64\n",
      " 6   PB       721 non-null    float64\n",
      " 7   HB       721 non-null    float64\n",
      " 8   AA       721 non-null    float64\n",
      " 9   round    721 non-null    object \n",
      " 10  Nation   721 non-null    object \n",
      " 11  year     721 non-null    int64  \n",
      "dtypes: float64(8), int64(1), object(3)\n",
      "memory usage: 67.7+ KB\n"
     ]
    }
   ],
   "source": [
    "df.info()"
   ]
  },
  {
   "cell_type": "code",
   "execution_count": 6,
   "id": "adc3f00e",
   "metadata": {},
   "outputs": [],
   "source": [
    "from sklearn.preprocessing import LabelEncoder\n",
    "\n",
    "le = LabelEncoder()\n",
    "\n",
    "# Fit and transform the 'Name' column to create integer labels\n",
    "df['Name_encoded'] = le.fit_transform(df['Athlete'])\n",
    "\n"
   ]
  },
  {
   "cell_type": "code",
   "execution_count": 7,
   "id": "c378b6f1",
   "metadata": {},
   "outputs": [],
   "source": [
    "dfnames = df[['Athlete', 'Name_encoded']]"
   ]
  },
  {
   "cell_type": "code",
   "execution_count": 8,
   "id": "ff57047c",
   "metadata": {},
   "outputs": [],
   "source": [
    "df=df.drop(columns=[\"Athlete\"])\n",
    "df.rename(columns={'Name_encoded': 'Name'}, inplace=True)"
   ]
  },
  {
   "cell_type": "code",
   "execution_count": 9,
   "id": "1eacd75f",
   "metadata": {},
   "outputs": [],
   "source": [
    "df_encoded = pd.get_dummies(df, columns=['round'], prefix='round')"
   ]
  },
  {
   "cell_type": "code",
   "execution_count": 10,
   "id": "e3210bca",
   "metadata": {},
   "outputs": [],
   "source": [
    "from sklearn.preprocessing import LabelEncoder\n",
    "\n",
    "le = LabelEncoder()\n",
    "\n",
    "# Fit and transform the 'Name' column to create integer labels\n",
    "df['nation_encoded'] = le.fit_transform(df['Nation'])\n",
    "\n",
    "# Store the mapping between integers and original objects\n",
    "label_mapping_nation = dict(zip(le.transform(df['Nation']), df['Nation']))\n"
   ]
  },
  {
   "cell_type": "code",
   "execution_count": 11,
   "id": "d46576bd",
   "metadata": {},
   "outputs": [],
   "source": [
    "df=df.drop(columns=[\"Nation\"])\n",
    "df.rename(columns={'nation_encoded': 'Nation'}, inplace=True)"
   ]
  },
  {
   "cell_type": "code",
   "execution_count": 12,
   "id": "2033af55",
   "metadata": {},
   "outputs": [
    {
     "name": "stdout",
     "output_type": "stream",
     "text": [
      "<class 'pandas.core.frame.DataFrame'>\n",
      "RangeIndex: 721 entries, 0 to 720\n",
      "Data columns (total 13 columns):\n",
      " #   Column       Non-Null Count  Dtype  \n",
      "---  ------       --------------  -----  \n",
      " 0   Rank         516 non-null    float64\n",
      " 1   FX           721 non-null    float64\n",
      " 2   PH           721 non-null    float64\n",
      " 3   SR           721 non-null    float64\n",
      " 4   VT           721 non-null    float64\n",
      " 5   PB           721 non-null    float64\n",
      " 6   HB           721 non-null    float64\n",
      " 7   AA           721 non-null    float64\n",
      " 8   Nation       721 non-null    object \n",
      " 9   year         721 non-null    int64  \n",
      " 10  Name         721 non-null    int64  \n",
      " 11  round_final  721 non-null    bool   \n",
      " 12  round_qual   721 non-null    bool   \n",
      "dtypes: bool(2), float64(8), int64(2), object(1)\n",
      "memory usage: 63.5+ KB\n"
     ]
    }
   ],
   "source": [
    "df_encoded.info()"
   ]
  },
  {
   "cell_type": "code",
   "execution_count": 13,
   "id": "b7421346",
   "metadata": {},
   "outputs": [],
   "source": [
    "\n",
    "# df_encoded.to_csv(\"encoded_m_olympics_iaa.csv\", index=False)  \n",
    "# dfnames.to_csv(\"encoded_m_olympics_iaanames.csv\", index=False)  "
   ]
  },
  {
   "cell_type": "code",
   "execution_count": null,
   "id": "4997a2f4",
   "metadata": {},
   "outputs": [],
   "source": []
  }
 ],
 "metadata": {
  "kernelspec": {
   "display_name": "Python 3 (ipykernel)",
   "language": "python",
   "name": "python3"
  },
  "language_info": {
   "codemirror_mode": {
    "name": "ipython",
    "version": 3
   },
   "file_extension": ".py",
   "mimetype": "text/x-python",
   "name": "python",
   "nbconvert_exporter": "python",
   "pygments_lexer": "ipython3",
   "version": "3.9.12"
  }
 },
 "nbformat": 4,
 "nbformat_minor": 5
}
