{
 "cells": [
  {
   "cell_type": "code",
   "execution_count": 1,
   "id": "62490377",
   "metadata": {},
   "outputs": [],
   "source": [
    "import pandas as pd\n",
    "import numpy as np"
   ]
  },
  {
   "cell_type": "code",
   "execution_count": 2,
   "id": "a7a68720",
   "metadata": {},
   "outputs": [],
   "source": [
    "df = pd.read_csv('vt.csv')"
   ]
  },
  {
   "cell_type": "code",
   "execution_count": 3,
   "id": "742e1c97",
   "metadata": {},
   "outputs": [
    {
     "data": {
      "text/plain": [
       "year\n",
       "2020    45\n",
       "2019    30\n",
       "2018     8\n",
       "Name: count, dtype: int64"
      ]
     },
     "execution_count": 3,
     "metadata": {},
     "output_type": "execute_result"
    }
   ],
   "source": [
    "df['year'].value_counts()\n"
   ]
  },
  {
   "cell_type": "code",
   "execution_count": 4,
   "id": "a2d90cb7",
   "metadata": {},
   "outputs": [
    {
     "name": "stdout",
     "output_type": "stream",
     "text": [
      "<class 'pandas.core.frame.DataFrame'>\n",
      "RangeIndex: 83 entries, 0 to 82\n",
      "Data columns (total 13 columns):\n",
      " #   Column   Non-Null Count  Dtype  \n",
      "---  ------   --------------  -----  \n",
      " 0   Rank     83 non-null     int64  \n",
      " 1   Athlete  83 non-null     object \n",
      " 2   Nation   83 non-null     object \n",
      " 3   D        83 non-null     float64\n",
      " 4   E        83 non-null     float64\n",
      " 5   ND       83 non-null     float64\n",
      " 6   Total    83 non-null     float64\n",
      " 7   D.1      83 non-null     float64\n",
      " 8   E.1      83 non-null     float64\n",
      " 9   ND.1     83 non-null     float64\n",
      " 10  Total.1  83 non-null     float64\n",
      " 11  year     83 non-null     int64  \n",
      " 12  Average  83 non-null     float64\n",
      "dtypes: float64(9), int64(2), object(2)\n",
      "memory usage: 8.6+ KB\n"
     ]
    }
   ],
   "source": [
    "df.info()"
   ]
  },
  {
   "cell_type": "code",
   "execution_count": 5,
   "id": "0d5b40e6",
   "metadata": {},
   "outputs": [],
   "source": [
    "# shin jea-hwan South Korea\n",
    "# denis ablyazin ROC\n",
    "# artur davtyan"
   ]
  },
  {
   "cell_type": "code",
   "execution_count": 6,
   "id": "21c9b0d4",
   "metadata": {},
   "outputs": [],
   "source": [
    "# Define a function to assign medal values based on the \"Name\" column\n",
    "def assign_medal(name):\n",
    "    name_lower = name.lower()\n",
    "    if name_lower == 'shin jea-hwan':\n",
    "        return 1\n",
    "    elif name_lower == 'denis ablyazin':\n",
    "        return 1\n",
    "    elif name_lower == 'artur davtyan':\n",
    "        return 1\n",
    "    else:\n",
    "        return 0\n",
    "\n",
    "# Apply the function to create the \"medal\" column\n",
    "df['medal'] = df['Athlete'].apply(assign_medal)"
   ]
  },
  {
   "cell_type": "code",
   "execution_count": 7,
   "id": "de35a209",
   "metadata": {},
   "outputs": [
    {
     "data": {
      "text/plain": [
       "medal\n",
       "0    79\n",
       "1     4\n",
       "Name: count, dtype: int64"
      ]
     },
     "execution_count": 7,
     "metadata": {},
     "output_type": "execute_result"
    }
   ],
   "source": [
    "df['medal'].value_counts()"
   ]
  },
  {
   "cell_type": "code",
   "execution_count": 8,
   "id": "54e9c5ec",
   "metadata": {},
   "outputs": [
    {
     "data": {
      "text/html": [
       "<div>\n",
       "<style scoped>\n",
       "    .dataframe tbody tr th:only-of-type {\n",
       "        vertical-align: middle;\n",
       "    }\n",
       "\n",
       "    .dataframe tbody tr th {\n",
       "        vertical-align: top;\n",
       "    }\n",
       "\n",
       "    .dataframe thead th {\n",
       "        text-align: right;\n",
       "    }\n",
       "</style>\n",
       "<table border=\"1\" class=\"dataframe\">\n",
       "  <thead>\n",
       "    <tr style=\"text-align: right;\">\n",
       "      <th></th>\n",
       "      <th>Rank</th>\n",
       "      <th>Athlete</th>\n",
       "      <th>Nation</th>\n",
       "      <th>D</th>\n",
       "      <th>E</th>\n",
       "      <th>ND</th>\n",
       "      <th>Total</th>\n",
       "      <th>D.1</th>\n",
       "      <th>E.1</th>\n",
       "      <th>ND.1</th>\n",
       "      <th>Total.1</th>\n",
       "      <th>year</th>\n",
       "      <th>Average</th>\n",
       "      <th>medal</th>\n",
       "    </tr>\n",
       "  </thead>\n",
       "  <tbody>\n",
       "    <tr>\n",
       "      <th>4</th>\n",
       "      <td>5</td>\n",
       "      <td>shin jea-hwan</td>\n",
       "      <td>SKR</td>\n",
       "      <td>5.6</td>\n",
       "      <td>9.033</td>\n",
       "      <td>0.0</td>\n",
       "      <td>14.633</td>\n",
       "      <td>5.2</td>\n",
       "      <td>9.300</td>\n",
       "      <td>0.0</td>\n",
       "      <td>14.500</td>\n",
       "      <td>2019</td>\n",
       "      <td>14.5665</td>\n",
       "      <td>1</td>\n",
       "    </tr>\n",
       "    <tr>\n",
       "      <th>14</th>\n",
       "      <td>7</td>\n",
       "      <td>artur davtyan</td>\n",
       "      <td>ARM</td>\n",
       "      <td>5.6</td>\n",
       "      <td>8.833</td>\n",
       "      <td>0.0</td>\n",
       "      <td>14.433</td>\n",
       "      <td>5.6</td>\n",
       "      <td>8.133</td>\n",
       "      <td>-0.3</td>\n",
       "      <td>13.433</td>\n",
       "      <td>2018</td>\n",
       "      <td>13.9330</td>\n",
       "      <td>1</td>\n",
       "    </tr>\n",
       "    <tr>\n",
       "      <th>52</th>\n",
       "      <td>1</td>\n",
       "      <td>shin jea-hwan</td>\n",
       "      <td>SKR</td>\n",
       "      <td>6.0</td>\n",
       "      <td>9.200</td>\n",
       "      <td>0.0</td>\n",
       "      <td>15.200</td>\n",
       "      <td>5.6</td>\n",
       "      <td>8.966</td>\n",
       "      <td>0.0</td>\n",
       "      <td>14.566</td>\n",
       "      <td>2020</td>\n",
       "      <td>14.8830</td>\n",
       "      <td>1</td>\n",
       "    </tr>\n",
       "    <tr>\n",
       "      <th>77</th>\n",
       "      <td>1</td>\n",
       "      <td>artur davtyan</td>\n",
       "      <td>ARM</td>\n",
       "      <td>5.6</td>\n",
       "      <td>9.500</td>\n",
       "      <td>0.0</td>\n",
       "      <td>15.100</td>\n",
       "      <td>5.6</td>\n",
       "      <td>9.333</td>\n",
       "      <td>0.0</td>\n",
       "      <td>14.933</td>\n",
       "      <td>2019</td>\n",
       "      <td>15.0165</td>\n",
       "      <td>1</td>\n",
       "    </tr>\n",
       "  </tbody>\n",
       "</table>\n",
       "</div>"
      ],
      "text/plain": [
       "    Rank        Athlete Nation    D      E   ND   Total  D.1    E.1  ND.1  \\\n",
       "4      5  shin jea-hwan    SKR  5.6  9.033  0.0  14.633  5.2  9.300   0.0   \n",
       "14     7  artur davtyan    ARM  5.6  8.833  0.0  14.433  5.6  8.133  -0.3   \n",
       "52     1  shin jea-hwan    SKR  6.0  9.200  0.0  15.200  5.6  8.966   0.0   \n",
       "77     1  artur davtyan    ARM  5.6  9.500  0.0  15.100  5.6  9.333   0.0   \n",
       "\n",
       "    Total.1  year  Average  medal  \n",
       "4    14.500  2019  14.5665      1  \n",
       "14   13.433  2018  13.9330      1  \n",
       "52   14.566  2020  14.8830      1  \n",
       "77   14.933  2019  15.0165      1  "
      ]
     },
     "execution_count": 8,
     "metadata": {},
     "output_type": "execute_result"
    }
   ],
   "source": [
    "df[df['medal'] == 1]"
   ]
  },
  {
   "cell_type": "code",
   "execution_count": 9,
   "id": "b19b0d58",
   "metadata": {},
   "outputs": [],
   "source": [
    "from sklearn.preprocessing import LabelEncoder\n",
    "\n",
    "le = LabelEncoder()\n",
    "\n",
    "# Fit and transform the 'Name' column to create integer labels\n",
    "df['Name_encoded'] = le.fit_transform(df['Athlete'])\n",
    "\n",
    "# Store the mapping between integers and original objects\n",
    "label_mapping = dict(zip(le.transform(df['Athlete']), df['Athlete']))\n"
   ]
  },
  {
   "cell_type": "code",
   "execution_count": 10,
   "id": "1937b1e5",
   "metadata": {},
   "outputs": [],
   "source": [
    "df=df.drop(columns=[\"Athlete\"])\n",
    "df.rename(columns={'Name_encoded': 'Name'}, inplace=True)\n"
   ]
  },
  {
   "cell_type": "code",
   "execution_count": 11,
   "id": "76f81b9a",
   "metadata": {},
   "outputs": [],
   "source": [
    "from sklearn.preprocessing import LabelEncoder\n",
    "\n",
    "# Assuming df is your DataFrame and 'Name' is the column you want to encode\n",
    "le = LabelEncoder()\n",
    "\n",
    "# Fit and transform the 'Name' column to create integer labels\n",
    "df['nation_encoded'] = le.fit_transform(df['Nation'])\n",
    "\n",
    "# Store the mapping between integers and original objects\n",
    "label_mapping_nation = dict(zip(le.transform(df['Nation']), df['Nation']))\n",
    "\n",
    "# To revert the integers back to objects, use the label_mapping\n",
    "# reverted_names = df['Name_encoded'].map(label_mapping)"
   ]
  },
  {
   "cell_type": "code",
   "execution_count": 12,
   "id": "25040020",
   "metadata": {},
   "outputs": [],
   "source": [
    "df=df.drop(columns=[\"Nation\"])\n",
    "df.rename(columns={'nation_encoded': 'Nation'}, inplace=True)"
   ]
  },
  {
   "cell_type": "code",
   "execution_count": 13,
   "id": "ab29e760",
   "metadata": {},
   "outputs": [
    {
     "name": "stdout",
     "output_type": "stream",
     "text": [
      "<class 'pandas.core.frame.DataFrame'>\n",
      "RangeIndex: 83 entries, 0 to 82\n",
      "Data columns (total 14 columns):\n",
      " #   Column   Non-Null Count  Dtype  \n",
      "---  ------   --------------  -----  \n",
      " 0   Rank     83 non-null     int64  \n",
      " 1   D        83 non-null     float64\n",
      " 2   E        83 non-null     float64\n",
      " 3   ND       83 non-null     float64\n",
      " 4   Total    83 non-null     float64\n",
      " 5   D.1      83 non-null     float64\n",
      " 6   E.1      83 non-null     float64\n",
      " 7   ND.1     83 non-null     float64\n",
      " 8   Total.1  83 non-null     float64\n",
      " 9   year     83 non-null     int64  \n",
      " 10  Average  83 non-null     float64\n",
      " 11  medal    83 non-null     int64  \n",
      " 12  Name     83 non-null     int64  \n",
      " 13  Nation   83 non-null     int64  \n",
      "dtypes: float64(9), int64(5)\n",
      "memory usage: 9.2 KB\n"
     ]
    }
   ],
   "source": [
    "df.info()"
   ]
  },
  {
   "cell_type": "code",
   "execution_count": 15,
   "id": "4637f9a6",
   "metadata": {},
   "outputs": [],
   "source": [
    "# df.to_csv('vt_encoded.csv', index=False)"
   ]
  },
  {
   "cell_type": "code",
   "execution_count": null,
   "id": "117ab754",
   "metadata": {},
   "outputs": [],
   "source": []
  }
 ],
 "metadata": {
  "kernelspec": {
   "display_name": "Python 3 (ipykernel)",
   "language": "python",
   "name": "python3"
  },
  "language_info": {
   "codemirror_mode": {
    "name": "ipython",
    "version": 3
   },
   "file_extension": ".py",
   "mimetype": "text/x-python",
   "name": "python",
   "nbconvert_exporter": "python",
   "pygments_lexer": "ipython3",
   "version": "3.9.12"
  }
 },
 "nbformat": 4,
 "nbformat_minor": 5
}
