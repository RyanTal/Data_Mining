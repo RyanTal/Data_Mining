{
 "cells": [
  {
   "cell_type": "code",
   "execution_count": null,
   "id": "21b22ab5",
   "metadata": {},
   "outputs": [],
   "source": [
    "# df 381 to 520"
   ]
  },
  {
   "cell_type": "code",
   "execution_count": 1,
   "id": "3f34a669",
   "metadata": {},
   "outputs": [],
   "source": [
    "import pandas as pd\n",
    "import numpy as np"
   ]
  },
  {
   "cell_type": "code",
   "execution_count": 2,
   "id": "de816ae6",
   "metadata": {},
   "outputs": [],
   "source": [
    "df = pd.read_csv('sr.csv')"
   ]
  },
  {
   "cell_type": "code",
   "execution_count": 3,
   "id": "b655cf7b",
   "metadata": {},
   "outputs": [
    {
     "name": "stdout",
     "output_type": "stream",
     "text": [
      "<class 'pandas.core.frame.DataFrame'>\n",
      "RangeIndex: 520 entries, 0 to 519\n",
      "Data columns (total 9 columns):\n",
      " #   Column   Non-Null Count  Dtype  \n",
      "---  ------   --------------  -----  \n",
      " 0   Rank     520 non-null    int64  \n",
      " 1   Athlete  520 non-null    object \n",
      " 2   Nation   517 non-null    object \n",
      " 3   D        520 non-null    float64\n",
      " 4   E        520 non-null    float64\n",
      " 5   ND       520 non-null    float64\n",
      " 6   Total    520 non-null    float64\n",
      " 7   year     493 non-null    float64\n",
      " 8   round    493 non-null    object \n",
      "dtypes: float64(5), int64(1), object(3)\n",
      "memory usage: 36.7+ KB\n"
     ]
    }
   ],
   "source": [
    "df.info()"
   ]
  },
  {
   "cell_type": "code",
   "execution_count": 4,
   "id": "7f55ba4c",
   "metadata": {},
   "outputs": [],
   "source": [
    "# liu yang China\n",
    "# you hao China\n",
    "# eleftherios petrounias Greece"
   ]
  },
  {
   "cell_type": "code",
   "execution_count": 5,
   "id": "48377232",
   "metadata": {},
   "outputs": [
    {
     "data": {
      "text/plain": [
       "year\n",
       "2019.0    257\n",
       "2018.0    202\n",
       "2020.0     34\n",
       "Name: count, dtype: int64"
      ]
     },
     "execution_count": 5,
     "metadata": {},
     "output_type": "execute_result"
    }
   ],
   "source": [
    "df['year'].value_counts()\n"
   ]
  },
  {
   "cell_type": "code",
   "execution_count": 6,
   "id": "65498d11",
   "metadata": {},
   "outputs": [],
   "source": [
    "def assign_medal(name):\n",
    "    name_lower = name.lower()\n",
    "    if name_lower == 'liu yang':\n",
    "        return 1\n",
    "    elif name_lower == 'you hao ':\n",
    "        return 1\n",
    "    elif name_lower == 'eleftherios petrounias':\n",
    "        return 1\n",
    "    else:\n",
    "        return 0\n",
    "\n",
    "# Apply the function to create the \"medal\" column\n",
    "df['medal'] = df['Athlete'].apply(assign_medal)"
   ]
  },
  {
   "cell_type": "code",
   "execution_count": 7,
   "id": "9d02ce37",
   "metadata": {},
   "outputs": [
    {
     "data": {
      "text/plain": [
       "medal\n",
       "0    510\n",
       "1     10\n",
       "Name: count, dtype: int64"
      ]
     },
     "execution_count": 7,
     "metadata": {},
     "output_type": "execute_result"
    }
   ],
   "source": [
    "df['medal'].value_counts()"
   ]
  },
  {
   "cell_type": "code",
   "execution_count": 8,
   "id": "7c6cd7e6",
   "metadata": {},
   "outputs": [
    {
     "data": {
      "text/html": [
       "<div>\n",
       "<style scoped>\n",
       "    .dataframe tbody tr th:only-of-type {\n",
       "        vertical-align: middle;\n",
       "    }\n",
       "\n",
       "    .dataframe tbody tr th {\n",
       "        vertical-align: top;\n",
       "    }\n",
       "\n",
       "    .dataframe thead th {\n",
       "        text-align: right;\n",
       "    }\n",
       "</style>\n",
       "<table border=\"1\" class=\"dataframe\">\n",
       "  <thead>\n",
       "    <tr style=\"text-align: right;\">\n",
       "      <th></th>\n",
       "      <th>Rank</th>\n",
       "      <th>Athlete</th>\n",
       "      <th>Nation</th>\n",
       "      <th>D</th>\n",
       "      <th>E</th>\n",
       "      <th>ND</th>\n",
       "      <th>Total</th>\n",
       "      <th>year</th>\n",
       "      <th>round</th>\n",
       "      <th>medal</th>\n",
       "    </tr>\n",
       "  </thead>\n",
       "  <tbody>\n",
       "    <tr>\n",
       "      <th>0</th>\n",
       "      <td>1</td>\n",
       "      <td>liu yang</td>\n",
       "      <td>CHN</td>\n",
       "      <td>6.4</td>\n",
       "      <td>8.766</td>\n",
       "      <td>0.0</td>\n",
       "      <td>15.166</td>\n",
       "      <td>2019.0</td>\n",
       "      <td>final</td>\n",
       "      <td>1</td>\n",
       "    </tr>\n",
       "    <tr>\n",
       "      <th>8</th>\n",
       "      <td>1</td>\n",
       "      <td>liu yang</td>\n",
       "      <td>CHN</td>\n",
       "      <td>6.4</td>\n",
       "      <td>8.600</td>\n",
       "      <td>0.0</td>\n",
       "      <td>15.000</td>\n",
       "      <td>2019.0</td>\n",
       "      <td>qual</td>\n",
       "      <td>1</td>\n",
       "    </tr>\n",
       "    <tr>\n",
       "      <th>24</th>\n",
       "      <td>1</td>\n",
       "      <td>eleftherios petrounias</td>\n",
       "      <td>GRE</td>\n",
       "      <td>6.3</td>\n",
       "      <td>8.800</td>\n",
       "      <td>0.0</td>\n",
       "      <td>15.100</td>\n",
       "      <td>NaN</td>\n",
       "      <td>NaN</td>\n",
       "      <td>1</td>\n",
       "    </tr>\n",
       "    <tr>\n",
       "      <th>25</th>\n",
       "      <td>2</td>\n",
       "      <td>liu yang</td>\n",
       "      <td>CHN</td>\n",
       "      <td>6.4</td>\n",
       "      <td>8.600</td>\n",
       "      <td>0.0</td>\n",
       "      <td>15.000</td>\n",
       "      <td>NaN</td>\n",
       "      <td>NaN</td>\n",
       "      <td>1</td>\n",
       "    </tr>\n",
       "    <tr>\n",
       "      <th>51</th>\n",
       "      <td>1</td>\n",
       "      <td>eleftherios petrounias</td>\n",
       "      <td>GRE</td>\n",
       "      <td>6.3</td>\n",
       "      <td>9.066</td>\n",
       "      <td>0.0</td>\n",
       "      <td>15.366</td>\n",
       "      <td>2018.0</td>\n",
       "      <td>final</td>\n",
       "      <td>1</td>\n",
       "    </tr>\n",
       "    <tr>\n",
       "      <th>59</th>\n",
       "      <td>1</td>\n",
       "      <td>eleftherios petrounias</td>\n",
       "      <td>GRE</td>\n",
       "      <td>6.3</td>\n",
       "      <td>8.966</td>\n",
       "      <td>0.0</td>\n",
       "      <td>15.266</td>\n",
       "      <td>2018.0</td>\n",
       "      <td>qual</td>\n",
       "      <td>1</td>\n",
       "    </tr>\n",
       "    <tr>\n",
       "      <th>256</th>\n",
       "      <td>4</td>\n",
       "      <td>eleftherios petrounias</td>\n",
       "      <td>GRE</td>\n",
       "      <td>6.3</td>\n",
       "      <td>8.433</td>\n",
       "      <td>0.0</td>\n",
       "      <td>14.733</td>\n",
       "      <td>2019.0</td>\n",
       "      <td>final</td>\n",
       "      <td>1</td>\n",
       "    </tr>\n",
       "    <tr>\n",
       "      <th>264</th>\n",
       "      <td>4</td>\n",
       "      <td>eleftherios petrounias</td>\n",
       "      <td>GRE</td>\n",
       "      <td>6.3</td>\n",
       "      <td>8.400</td>\n",
       "      <td>0.0</td>\n",
       "      <td>14.700</td>\n",
       "      <td>2019.0</td>\n",
       "      <td>qual</td>\n",
       "      <td>1</td>\n",
       "    </tr>\n",
       "    <tr>\n",
       "      <th>462</th>\n",
       "      <td>1</td>\n",
       "      <td>liu yang</td>\n",
       "      <td>CHN</td>\n",
       "      <td>6.4</td>\n",
       "      <td>8.766</td>\n",
       "      <td>0.0</td>\n",
       "      <td>15.166</td>\n",
       "      <td>2019.0</td>\n",
       "      <td>final</td>\n",
       "      <td>1</td>\n",
       "    </tr>\n",
       "    <tr>\n",
       "      <th>470</th>\n",
       "      <td>1</td>\n",
       "      <td>liu yang</td>\n",
       "      <td>CHN</td>\n",
       "      <td>6.4</td>\n",
       "      <td>8.600</td>\n",
       "      <td>0.0</td>\n",
       "      <td>15.000</td>\n",
       "      <td>2019.0</td>\n",
       "      <td>qual</td>\n",
       "      <td>1</td>\n",
       "    </tr>\n",
       "  </tbody>\n",
       "</table>\n",
       "</div>"
      ],
      "text/plain": [
       "     Rank                 Athlete Nation    D      E   ND   Total    year  \\\n",
       "0       1                liu yang    CHN  6.4  8.766  0.0  15.166  2019.0   \n",
       "8       1                liu yang    CHN  6.4  8.600  0.0  15.000  2019.0   \n",
       "24      1  eleftherios petrounias    GRE  6.3  8.800  0.0  15.100     NaN   \n",
       "25      2                liu yang    CHN  6.4  8.600  0.0  15.000     NaN   \n",
       "51      1  eleftherios petrounias    GRE  6.3  9.066  0.0  15.366  2018.0   \n",
       "59      1  eleftherios petrounias    GRE  6.3  8.966  0.0  15.266  2018.0   \n",
       "256     4  eleftherios petrounias    GRE  6.3  8.433  0.0  14.733  2019.0   \n",
       "264     4  eleftherios petrounias    GRE  6.3  8.400  0.0  14.700  2019.0   \n",
       "462     1                liu yang    CHN  6.4  8.766  0.0  15.166  2019.0   \n",
       "470     1                liu yang    CHN  6.4  8.600  0.0  15.000  2019.0   \n",
       "\n",
       "     round  medal  \n",
       "0    final      1  \n",
       "8     qual      1  \n",
       "24     NaN      1  \n",
       "25     NaN      1  \n",
       "51   final      1  \n",
       "59    qual      1  \n",
       "256  final      1  \n",
       "264   qual      1  \n",
       "462  final      1  \n",
       "470   qual      1  "
      ]
     },
     "execution_count": 8,
     "metadata": {},
     "output_type": "execute_result"
    }
   ],
   "source": [
    "df[df['medal'] == 1]"
   ]
  },
  {
   "cell_type": "code",
   "execution_count": 9,
   "id": "e5c87389",
   "metadata": {},
   "outputs": [],
   "source": [
    "df['round'] = df['round'].str.lower()\n"
   ]
  },
  {
   "cell_type": "code",
   "execution_count": 10,
   "id": "0f018684",
   "metadata": {},
   "outputs": [],
   "source": [
    "from sklearn.preprocessing import LabelEncoder\n",
    "\n",
    "le = LabelEncoder()\n",
    "\n",
    "# Fit and transform the 'Name' column to create integer labels\n",
    "df['Name_encoded'] = le.fit_transform(df['Athlete'])\n",
    "\n",
    "# Store the mapping between integers and original objects\n",
    "label_mapping = dict(zip(le.transform(df['Athlete']), df['Athlete']))\n"
   ]
  },
  {
   "cell_type": "code",
   "execution_count": 11,
   "id": "216e8f09",
   "metadata": {},
   "outputs": [],
   "source": [
    "df=df.drop(columns=[\"Athlete\"])\n",
    "df.rename(columns={'Name_encoded': 'Name'}, inplace=True)"
   ]
  },
  {
   "cell_type": "code",
   "execution_count": 12,
   "id": "6ffa1258",
   "metadata": {},
   "outputs": [],
   "source": [
    "from sklearn.preprocessing import LabelEncoder\n",
    "\n",
    "le = LabelEncoder()\n",
    "\n",
    "# Fit and transform the 'Name' column to create integer labels\n",
    "df['nation_encoded'] = le.fit_transform(df['Nation'])\n",
    "\n",
    "# Store the mapping between integers and original objects\n",
    "label_mapping_nation = dict(zip(le.transform(df['Nation']), df['Nation']))\n"
   ]
  },
  {
   "cell_type": "code",
   "execution_count": 13,
   "id": "38889e54",
   "metadata": {},
   "outputs": [],
   "source": [
    "df=df.drop(columns=[\"Nation\"])\n",
    "df.rename(columns={'nation_encoded': 'Nation'}, inplace=True)"
   ]
  },
  {
   "cell_type": "code",
   "execution_count": 14,
   "id": "e9dd9326",
   "metadata": {},
   "outputs": [],
   "source": [
    "df_encoded = pd.get_dummies(df, columns=['round'], prefix='round')"
   ]
  },
  {
   "cell_type": "code",
   "execution_count": 15,
   "id": "92a047c9",
   "metadata": {},
   "outputs": [
    {
     "name": "stdout",
     "output_type": "stream",
     "text": [
      "<class 'pandas.core.frame.DataFrame'>\n",
      "RangeIndex: 520 entries, 0 to 519\n",
      "Data columns (total 11 columns):\n",
      " #   Column       Non-Null Count  Dtype  \n",
      "---  ------       --------------  -----  \n",
      " 0   Rank         520 non-null    int64  \n",
      " 1   D            520 non-null    float64\n",
      " 2   E            520 non-null    float64\n",
      " 3   ND           520 non-null    float64\n",
      " 4   Total        520 non-null    float64\n",
      " 5   year         493 non-null    float64\n",
      " 6   medal        520 non-null    int64  \n",
      " 7   Name         520 non-null    int64  \n",
      " 8   Nation       520 non-null    int64  \n",
      " 9   round_final  520 non-null    bool   \n",
      " 10  round_qual   520 non-null    bool   \n",
      "dtypes: bool(2), float64(5), int64(4)\n",
      "memory usage: 37.7 KB\n"
     ]
    }
   ],
   "source": [
    "df_encoded.info()"
   ]
  },
  {
   "cell_type": "code",
   "execution_count": 16,
   "id": "d0bd4c3d",
   "metadata": {},
   "outputs": [],
   "source": [
    "# df_encoded.to_csv('sr_encoded.csv', index=False)"
   ]
  },
  {
   "cell_type": "code",
   "execution_count": null,
   "id": "1cacb6fa",
   "metadata": {},
   "outputs": [],
   "source": []
  },
  {
   "cell_type": "code",
   "execution_count": null,
   "id": "ad08898b",
   "metadata": {},
   "outputs": [],
   "source": []
  }
 ],
 "metadata": {
  "kernelspec": {
   "display_name": "Python 3 (ipykernel)",
   "language": "python",
   "name": "python3"
  },
  "language_info": {
   "codemirror_mode": {
    "name": "ipython",
    "version": 3
   },
   "file_extension": ".py",
   "mimetype": "text/x-python",
   "name": "python",
   "nbconvert_exporter": "python",
   "pygments_lexer": "ipython3",
   "version": "3.9.12"
  }
 },
 "nbformat": 4,
 "nbformat_minor": 5
}
