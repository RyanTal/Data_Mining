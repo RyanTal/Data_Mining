{
 "cells": [
  {
   "cell_type": "code",
   "execution_count": 16,
   "id": "f596f312",
   "metadata": {},
   "outputs": [],
   "source": [
    "# df went from 367 to 506"
   ]
  },
  {
   "cell_type": "code",
   "execution_count": 1,
   "id": "d9570022",
   "metadata": {},
   "outputs": [
    {
     "data": {
      "text/plain": [
       "139"
      ]
     },
     "execution_count": 1,
     "metadata": {},
     "output_type": "execute_result"
    }
   ],
   "source": [
    "506-367"
   ]
  },
  {
   "cell_type": "code",
   "execution_count": 2,
   "id": "148d3fc6",
   "metadata": {},
   "outputs": [],
   "source": [
    "import pandas as pd\n",
    "import numpy as np"
   ]
  },
  {
   "cell_type": "code",
   "execution_count": 3,
   "id": "e26b2506",
   "metadata": {},
   "outputs": [],
   "source": [
    "df = pd.read_csv('pb.csv')"
   ]
  },
  {
   "cell_type": "code",
   "execution_count": 4,
   "id": "5a96d710",
   "metadata": {},
   "outputs": [],
   "source": [
    "# zou jingyuan China\n",
    "# lukas dauser Germany \n",
    "# ferhat arican Turkey"
   ]
  },
  {
   "cell_type": "code",
   "execution_count": 5,
   "id": "5965b670",
   "metadata": {},
   "outputs": [
    {
     "name": "stdout",
     "output_type": "stream",
     "text": [
      "<class 'pandas.core.frame.DataFrame'>\n",
      "RangeIndex: 485 entries, 0 to 484\n",
      "Data columns (total 9 columns):\n",
      " #   Column   Non-Null Count  Dtype  \n",
      "---  ------   --------------  -----  \n",
      " 0   Rank     485 non-null    int64  \n",
      " 1   Athlete  485 non-null    object \n",
      " 2   Nation   484 non-null    object \n",
      " 3   D        485 non-null    float64\n",
      " 4   E        485 non-null    float64\n",
      " 5   ND       485 non-null    float64\n",
      " 6   Total    485 non-null    float64\n",
      " 7   year     485 non-null    int64  \n",
      " 8   round    485 non-null    object \n",
      "dtypes: float64(4), int64(2), object(3)\n",
      "memory usage: 34.2+ KB\n"
     ]
    }
   ],
   "source": [
    "df.info()"
   ]
  },
  {
   "cell_type": "code",
   "execution_count": 6,
   "id": "2f0b6599",
   "metadata": {},
   "outputs": [
    {
     "data": {
      "text/plain": [
       "year\n",
       "2019    221\n",
       "2018    197\n",
       "2020     67\n",
       "Name: count, dtype: int64"
      ]
     },
     "execution_count": 6,
     "metadata": {},
     "output_type": "execute_result"
    }
   ],
   "source": [
    "df['year'].value_counts()\n"
   ]
  },
  {
   "cell_type": "code",
   "execution_count": 7,
   "id": "1f05979e",
   "metadata": {},
   "outputs": [],
   "source": [
    "# Define a function to assign medal values based on the \"Name\" column\n",
    "def assign_medal(name):\n",
    "    name_lower = name.lower()\n",
    "    if name_lower == 'zou jingyuan':\n",
    "        return 1\n",
    "    elif name_lower == 'lukas dauser':\n",
    "        return 1\n",
    "    elif name_lower == 'ferhat arican':\n",
    "        return 1\n",
    "    else:\n",
    "        return 0\n",
    "\n",
    "# Apply the function to create the \"medal\" column\n",
    "df['medal'] = df['Athlete'].apply(assign_medal)"
   ]
  },
  {
   "cell_type": "code",
   "execution_count": 8,
   "id": "712415f0",
   "metadata": {},
   "outputs": [
    {
     "data": {
      "text/plain": [
       "medal\n",
       "0    472\n",
       "1     13\n",
       "Name: count, dtype: int64"
      ]
     },
     "execution_count": 8,
     "metadata": {},
     "output_type": "execute_result"
    }
   ],
   "source": [
    "df['medal'].value_counts()"
   ]
  },
  {
   "cell_type": "code",
   "execution_count": 9,
   "id": "ba7eb258",
   "metadata": {},
   "outputs": [
    {
     "data": {
      "text/html": [
       "<div>\n",
       "<style scoped>\n",
       "    .dataframe tbody tr th:only-of-type {\n",
       "        vertical-align: middle;\n",
       "    }\n",
       "\n",
       "    .dataframe tbody tr th {\n",
       "        vertical-align: top;\n",
       "    }\n",
       "\n",
       "    .dataframe thead th {\n",
       "        text-align: right;\n",
       "    }\n",
       "</style>\n",
       "<table border=\"1\" class=\"dataframe\">\n",
       "  <thead>\n",
       "    <tr style=\"text-align: right;\">\n",
       "      <th></th>\n",
       "      <th>Rank</th>\n",
       "      <th>Athlete</th>\n",
       "      <th>Nation</th>\n",
       "      <th>D</th>\n",
       "      <th>E</th>\n",
       "      <th>ND</th>\n",
       "      <th>Total</th>\n",
       "      <th>year</th>\n",
       "      <th>round</th>\n",
       "      <th>medal</th>\n",
       "    </tr>\n",
       "  </thead>\n",
       "  <tbody>\n",
       "    <tr>\n",
       "      <th>2</th>\n",
       "      <td>3</td>\n",
       "      <td>ferhat arican</td>\n",
       "      <td>TUR</td>\n",
       "      <td>6.5</td>\n",
       "      <td>7.866</td>\n",
       "      <td>0.0</td>\n",
       "      <td>14.366</td>\n",
       "      <td>2019</td>\n",
       "      <td>final</td>\n",
       "      <td>1</td>\n",
       "    </tr>\n",
       "    <tr>\n",
       "      <th>11</th>\n",
       "      <td>4</td>\n",
       "      <td>ferhat arican</td>\n",
       "      <td>TUR</td>\n",
       "      <td>6.5</td>\n",
       "      <td>7.733</td>\n",
       "      <td>0.0</td>\n",
       "      <td>14.233</td>\n",
       "      <td>2019</td>\n",
       "      <td>qual</td>\n",
       "      <td>1</td>\n",
       "    </tr>\n",
       "    <tr>\n",
       "      <th>23</th>\n",
       "      <td>3</td>\n",
       "      <td>ferhat arican</td>\n",
       "      <td>TUR</td>\n",
       "      <td>6.6</td>\n",
       "      <td>7.875</td>\n",
       "      <td>0.0</td>\n",
       "      <td>14.475</td>\n",
       "      <td>2020</td>\n",
       "      <td>qual</td>\n",
       "      <td>1</td>\n",
       "    </tr>\n",
       "    <tr>\n",
       "      <th>52</th>\n",
       "      <td>1</td>\n",
       "      <td>zou jingyuan</td>\n",
       "      <td>CHN</td>\n",
       "      <td>7.0</td>\n",
       "      <td>9.433</td>\n",
       "      <td>0.0</td>\n",
       "      <td>16.433</td>\n",
       "      <td>2018</td>\n",
       "      <td>final</td>\n",
       "      <td>1</td>\n",
       "    </tr>\n",
       "    <tr>\n",
       "      <th>59</th>\n",
       "      <td>8</td>\n",
       "      <td>lukas dauser</td>\n",
       "      <td>none</td>\n",
       "      <td>6.0</td>\n",
       "      <td>7.700</td>\n",
       "      <td>0.0</td>\n",
       "      <td>13.700</td>\n",
       "      <td>2018</td>\n",
       "      <td>final</td>\n",
       "      <td>1</td>\n",
       "    </tr>\n",
       "    <tr>\n",
       "      <th>60</th>\n",
       "      <td>1</td>\n",
       "      <td>zou jingyuan</td>\n",
       "      <td>CHN</td>\n",
       "      <td>6.6</td>\n",
       "      <td>9.200</td>\n",
       "      <td>0.0</td>\n",
       "      <td>15.800</td>\n",
       "      <td>2018</td>\n",
       "      <td>qual</td>\n",
       "      <td>1</td>\n",
       "    </tr>\n",
       "    <tr>\n",
       "      <th>69</th>\n",
       "      <td>10</td>\n",
       "      <td>lukas dauser</td>\n",
       "      <td>none</td>\n",
       "      <td>6.3</td>\n",
       "      <td>8.633</td>\n",
       "      <td>0.0</td>\n",
       "      <td>14.933</td>\n",
       "      <td>2018</td>\n",
       "      <td>qual</td>\n",
       "      <td>1</td>\n",
       "    </tr>\n",
       "    <tr>\n",
       "      <th>70</th>\n",
       "      <td>11</td>\n",
       "      <td>ferhat arican</td>\n",
       "      <td>TUR</td>\n",
       "      <td>6.6</td>\n",
       "      <td>8.266</td>\n",
       "      <td>0.0</td>\n",
       "      <td>14.866</td>\n",
       "      <td>2018</td>\n",
       "      <td>qual</td>\n",
       "      <td>1</td>\n",
       "    </tr>\n",
       "    <tr>\n",
       "      <th>253</th>\n",
       "      <td>5</td>\n",
       "      <td>ferhat arican</td>\n",
       "      <td>TUR</td>\n",
       "      <td>6.5</td>\n",
       "      <td>8.400</td>\n",
       "      <td>0.0</td>\n",
       "      <td>14.900</td>\n",
       "      <td>2019</td>\n",
       "      <td>final</td>\n",
       "      <td>1</td>\n",
       "    </tr>\n",
       "    <tr>\n",
       "      <th>256</th>\n",
       "      <td>8</td>\n",
       "      <td>lukas dauser</td>\n",
       "      <td>none</td>\n",
       "      <td>6.3</td>\n",
       "      <td>7.533</td>\n",
       "      <td>0.0</td>\n",
       "      <td>13.833</td>\n",
       "      <td>2019</td>\n",
       "      <td>final</td>\n",
       "      <td>1</td>\n",
       "    </tr>\n",
       "    <tr>\n",
       "      <th>257</th>\n",
       "      <td>1</td>\n",
       "      <td>lukas dauser</td>\n",
       "      <td>none</td>\n",
       "      <td>6.3</td>\n",
       "      <td>8.733</td>\n",
       "      <td>0.0</td>\n",
       "      <td>15.033</td>\n",
       "      <td>2019</td>\n",
       "      <td>qual</td>\n",
       "      <td>1</td>\n",
       "    </tr>\n",
       "    <tr>\n",
       "      <th>261</th>\n",
       "      <td>5</td>\n",
       "      <td>ferhat arican</td>\n",
       "      <td>TUR</td>\n",
       "      <td>6.5</td>\n",
       "      <td>8.433</td>\n",
       "      <td>0.0</td>\n",
       "      <td>14.933</td>\n",
       "      <td>2019</td>\n",
       "      <td>qual</td>\n",
       "      <td>1</td>\n",
       "    </tr>\n",
       "    <tr>\n",
       "      <th>272</th>\n",
       "      <td>16</td>\n",
       "      <td>zou jingyuan</td>\n",
       "      <td>CHN</td>\n",
       "      <td>6.3</td>\n",
       "      <td>8.333</td>\n",
       "      <td>0.0</td>\n",
       "      <td>14.633</td>\n",
       "      <td>2019</td>\n",
       "      <td>qual</td>\n",
       "      <td>1</td>\n",
       "    </tr>\n",
       "  </tbody>\n",
       "</table>\n",
       "</div>"
      ],
      "text/plain": [
       "     Rank        Athlete Nation    D      E   ND   Total  year  round  medal\n",
       "2       3  ferhat arican    TUR  6.5  7.866  0.0  14.366  2019  final      1\n",
       "11      4  ferhat arican    TUR  6.5  7.733  0.0  14.233  2019   qual      1\n",
       "23      3  ferhat arican    TUR  6.6  7.875  0.0  14.475  2020   qual      1\n",
       "52      1   zou jingyuan    CHN  7.0  9.433  0.0  16.433  2018  final      1\n",
       "59      8   lukas dauser   none  6.0  7.700  0.0  13.700  2018  final      1\n",
       "60      1   zou jingyuan    CHN  6.6  9.200  0.0  15.800  2018   qual      1\n",
       "69     10   lukas dauser   none  6.3  8.633  0.0  14.933  2018   qual      1\n",
       "70     11  ferhat arican    TUR  6.6  8.266  0.0  14.866  2018   qual      1\n",
       "253     5  ferhat arican    TUR  6.5  8.400  0.0  14.900  2019  final      1\n",
       "256     8   lukas dauser   none  6.3  7.533  0.0  13.833  2019  final      1\n",
       "257     1   lukas dauser   none  6.3  8.733  0.0  15.033  2019   qual      1\n",
       "261     5  ferhat arican    TUR  6.5  8.433  0.0  14.933  2019   qual      1\n",
       "272    16   zou jingyuan    CHN  6.3  8.333  0.0  14.633  2019   qual      1"
      ]
     },
     "execution_count": 9,
     "metadata": {},
     "output_type": "execute_result"
    }
   ],
   "source": [
    "df[df['medal'] == 1]"
   ]
  },
  {
   "cell_type": "code",
   "execution_count": 10,
   "id": "4e7f6b71",
   "metadata": {},
   "outputs": [],
   "source": [
    "df['round'] = df['round'].str.lower()\n"
   ]
  },
  {
   "cell_type": "code",
   "execution_count": 11,
   "id": "130be16e",
   "metadata": {},
   "outputs": [],
   "source": [
    "from sklearn.preprocessing import LabelEncoder\n",
    "\n",
    "le = LabelEncoder()\n",
    "\n",
    "# Fit and transform the 'Name' column to create integer labels\n",
    "df['Name_encoded'] = le.fit_transform(df['Athlete'])\n",
    "\n",
    "# Store the mapping between integers and original objects\n",
    "label_mapping = dict(zip(le.transform(df['Athlete']), df['Athlete']))\n"
   ]
  },
  {
   "cell_type": "code",
   "execution_count": 12,
   "id": "39f3eac0",
   "metadata": {},
   "outputs": [],
   "source": [
    "df=df.drop(columns=[\"Athlete\"])\n",
    "df.rename(columns={'Name_encoded': 'Name'}, inplace=True)"
   ]
  },
  {
   "cell_type": "code",
   "execution_count": 13,
   "id": "d40c0aaa",
   "metadata": {},
   "outputs": [],
   "source": [
    "from sklearn.preprocessing import LabelEncoder\n",
    "\n",
    "le = LabelEncoder()\n",
    "\n",
    "# Fit and transform the 'Name' column to create integer labels\n",
    "df['nation_encoded'] = le.fit_transform(df['Nation'])\n",
    "\n",
    "# Store the mapping between integers and original objects\n",
    "label_mapping_nation = dict(zip(le.transform(df['Nation']), df['Nation']))\n"
   ]
  },
  {
   "cell_type": "code",
   "execution_count": 14,
   "id": "5dce0c78",
   "metadata": {},
   "outputs": [],
   "source": [
    "df=df.drop(columns=[\"Nation\"])\n",
    "df.rename(columns={'nation_encoded': 'Nation'}, inplace=True)"
   ]
  },
  {
   "cell_type": "code",
   "execution_count": 15,
   "id": "6d71d420",
   "metadata": {},
   "outputs": [],
   "source": [
    "df_encoded = pd.get_dummies(df, columns=['round'], prefix='round')"
   ]
  },
  {
   "cell_type": "code",
   "execution_count": 16,
   "id": "a840addd",
   "metadata": {},
   "outputs": [
    {
     "name": "stdout",
     "output_type": "stream",
     "text": [
      "<class 'pandas.core.frame.DataFrame'>\n",
      "RangeIndex: 485 entries, 0 to 484\n",
      "Data columns (total 11 columns):\n",
      " #   Column       Non-Null Count  Dtype  \n",
      "---  ------       --------------  -----  \n",
      " 0   Rank         485 non-null    int64  \n",
      " 1   D            485 non-null    float64\n",
      " 2   E            485 non-null    float64\n",
      " 3   ND           485 non-null    float64\n",
      " 4   Total        485 non-null    float64\n",
      " 5   year         485 non-null    int64  \n",
      " 6   medal        485 non-null    int64  \n",
      " 7   Name         485 non-null    int64  \n",
      " 8   Nation       485 non-null    int64  \n",
      " 9   round_final  485 non-null    bool   \n",
      " 10  round_qual   485 non-null    bool   \n",
      "dtypes: bool(2), float64(4), int64(5)\n",
      "memory usage: 35.2 KB\n"
     ]
    }
   ],
   "source": [
    "df_encoded.info()"
   ]
  },
  {
   "cell_type": "code",
   "execution_count": 18,
   "id": "e7294b3c",
   "metadata": {},
   "outputs": [],
   "source": [
    "# df_encoded.to_csv('pb_encoded.csv', index=False)"
   ]
  },
  {
   "cell_type": "code",
   "execution_count": null,
   "id": "e8811d34",
   "metadata": {},
   "outputs": [],
   "source": []
  }
 ],
 "metadata": {
  "kernelspec": {
   "display_name": "Python 3 (ipykernel)",
   "language": "python",
   "name": "python3"
  },
  "language_info": {
   "codemirror_mode": {
    "name": "ipython",
    "version": 3
   },
   "file_extension": ".py",
   "mimetype": "text/x-python",
   "name": "python",
   "nbconvert_exporter": "python",
   "pygments_lexer": "ipython3",
   "version": "3.8.18"
  }
 },
 "nbformat": 4,
 "nbformat_minor": 5
}
