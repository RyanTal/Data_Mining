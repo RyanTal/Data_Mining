{
 "cells": [
  {
   "cell_type": "code",
   "execution_count": 1,
   "id": "b6b3ef40",
   "metadata": {},
   "outputs": [],
   "source": [
    "import pandas as pd\n",
    "import numpy as np"
   ]
  },
  {
   "cell_type": "code",
   "execution_count": 2,
   "id": "66a5f38c",
   "metadata": {},
   "outputs": [],
   "source": [
    "wc19melb = pd.read_csv('../../Cleaning/qual_events/men/wc19bmelb_sr.csv')\n",
    "wc20baku = pd.read_csv('../../Cleaning/qual_events/men/wc20baku_sr.csv')\n",
    "world18 = pd.read_csv('../../Cleaning/qual_events/men/world18championship_sr.csv')\n",
    "world19cup = pd.read_csv('../../Cleaning/qual_events/men/world19cup_sr.csv')\n",
    "wc19bmelb = pd.read_csv('../../Cleaning/qual_events/men/wc19bmelb_sr.csv')\n",
    "\n",
    "winter20cup = pd.read_csv('../../Cleaning/qual_events/men/winter20cup_sr.csv')\n",
    "\n"
   ]
  },
  {
   "cell_type": "code",
   "execution_count": 3,
   "id": "37dbc1d6",
   "metadata": {},
   "outputs": [],
   "source": [
    "sr = pd.concat([wc19melb, wc20baku, world18, world19cup, wc19bmelb])"
   ]
  },
  {
   "cell_type": "code",
   "execution_count": 5,
   "id": "290df7c3",
   "metadata": {},
   "outputs": [
    {
     "data": {
      "text/plain": [
       "15.366"
      ]
     },
     "execution_count": 5,
     "metadata": {},
     "output_type": "execute_result"
    }
   ],
   "source": [
    "sr['Total'].max()"
   ]
  },
  {
   "cell_type": "code",
   "execution_count": 7,
   "id": "5160f83a",
   "metadata": {},
   "outputs": [],
   "source": [
    "winter20cup = winter20cup.drop(columns=['Total'])"
   ]
  },
  {
   "cell_type": "code",
   "execution_count": 8,
   "id": "0e489c16",
   "metadata": {},
   "outputs": [],
   "source": [
    "winter20cup.rename(columns={'Score': 'Total'}, inplace=True)"
   ]
  },
  {
   "cell_type": "code",
   "execution_count": 9,
   "id": "b5b68e92",
   "metadata": {},
   "outputs": [],
   "source": [
    "desired_order = ['Rank', 'Athlete', 'Nation', 'D', 'E', 'ND', 'Total', 'year', 'round']\n",
    "\n",
    "# Rearrange the columns in-place\n",
    "winter20cup = winter20cup[desired_order]"
   ]
  },
  {
   "cell_type": "code",
   "execution_count": 10,
   "id": "dac9f99d",
   "metadata": {},
   "outputs": [],
   "source": [
    "sr = pd.concat([sr, winter20cup])"
   ]
  },
  {
   "cell_type": "code",
   "execution_count": 11,
   "id": "b38138a2",
   "metadata": {
    "scrolled": true
   },
   "outputs": [
    {
     "name": "stdout",
     "output_type": "stream",
     "text": [
      "<class 'pandas.core.frame.DataFrame'>\n",
      "Index: 520 entries, 0 to 33\n",
      "Data columns (total 9 columns):\n",
      " #   Column   Non-Null Count  Dtype  \n",
      "---  ------   --------------  -----  \n",
      " 0   Rank     520 non-null    int64  \n",
      " 1   Athlete  520 non-null    object \n",
      " 2   Nation   517 non-null    object \n",
      " 3   D        520 non-null    float64\n",
      " 4   E        520 non-null    float64\n",
      " 5   ND       520 non-null    float64\n",
      " 6   Total    520 non-null    float64\n",
      " 7   year     493 non-null    float64\n",
      " 8   round    493 non-null    object \n",
      "dtypes: float64(5), int64(1), object(3)\n",
      "memory usage: 40.6+ KB\n"
     ]
    }
   ],
   "source": [
    "sr.info()"
   ]
  },
  {
   "cell_type": "code",
   "execution_count": 13,
   "id": "24fdc81f",
   "metadata": {},
   "outputs": [
    {
     "data": {
      "text/plain": [
       "15.366"
      ]
     },
     "execution_count": 13,
     "metadata": {},
     "output_type": "execute_result"
    }
   ],
   "source": [
    "sr['Total'].max()"
   ]
  },
  {
   "cell_type": "code",
   "execution_count": 15,
   "id": "224fbe38",
   "metadata": {},
   "outputs": [
    {
     "data": {
      "text/plain": [
       "25"
      ]
     },
     "execution_count": 15,
     "metadata": {},
     "output_type": "execute_result"
    }
   ],
   "source": [
    "sr.duplicated().sum()"
   ]
  },
  {
   "cell_type": "code",
   "execution_count": 16,
   "id": "ccf5f464",
   "metadata": {},
   "outputs": [],
   "source": [
    "sr = sr.drop_duplicates()"
   ]
  },
  {
   "cell_type": "code",
   "execution_count": 17,
   "id": "3f14e794",
   "metadata": {},
   "outputs": [],
   "source": [
    "# sr.to_csv('sr.csv', index=False)"
   ]
  },
  {
   "cell_type": "code",
   "execution_count": null,
   "id": "986ebc38",
   "metadata": {},
   "outputs": [],
   "source": []
  }
 ],
 "metadata": {
  "kernelspec": {
   "display_name": "Python 3 (ipykernel)",
   "language": "python",
   "name": "python3"
  },
  "language_info": {
   "codemirror_mode": {
    "name": "ipython",
    "version": 3
   },
   "file_extension": ".py",
   "mimetype": "text/x-python",
   "name": "python",
   "nbconvert_exporter": "python",
   "pygments_lexer": "ipython3",
   "version": "3.8.18"
  }
 },
 "nbformat": 4,
 "nbformat_minor": 5
}
