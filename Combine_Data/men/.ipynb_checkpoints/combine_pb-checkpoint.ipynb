{
 "cells": [
  {
   "cell_type": "code",
   "execution_count": 1,
   "id": "e5a56187",
   "metadata": {},
   "outputs": [],
   "source": [
    "import pandas as pd\n",
    "import numpy as np"
   ]
  },
  {
   "cell_type": "code",
   "execution_count": 2,
   "id": "df4acaf8",
   "metadata": {},
   "outputs": [],
   "source": [
    "wc19melb = pd.read_csv('../../Cleaning/qual_events/men/wc19bmelb_pb.csv')\n",
    "wc20baku = pd.read_csv('../../Cleaning/qual_events/men/wc20baku_pb.csv')\n",
    "world18 = pd.read_csv('../../Cleaning/qual_events/men/world18championship_pb.csv')\n",
    "world19cup = pd.read_csv('../../Cleaning/qual_events/men/world19cup_pb.csv')\n",
    "wc19bmelb = pd.read_csv('../../Cleaning/qual_events/men/wc19bmelb_pb.csv')\n",
    "\n",
    "winter20cup = pd.read_csv('../../Cleaning/qual_events/men/winter20cup_pb.csv')\n"
   ]
  },
  {
   "cell_type": "code",
   "execution_count": 3,
   "id": "9733b951",
   "metadata": {},
   "outputs": [],
   "source": [
    "pb = pd.concat([wc19melb, wc20baku, world18, world19cup, wc19bmelb])"
   ]
  },
  {
   "cell_type": "code",
   "execution_count": 5,
   "id": "5ef88dff",
   "metadata": {},
   "outputs": [
    {
     "data": {
      "text/plain": [
       "16.433"
      ]
     },
     "execution_count": 5,
     "metadata": {},
     "output_type": "execute_result"
    }
   ],
   "source": [
    "pb['Total'].max()"
   ]
  },
  {
   "cell_type": "code",
   "execution_count": 6,
   "id": "0945b1d8",
   "metadata": {},
   "outputs": [],
   "source": [
    "desired_order = ['Rank', 'Athlete', 'Nation', 'D', 'E', 'ND', 'Total', 'year', 'round']\n",
    "\n",
    "# Rearrange the columns in-place\n",
    "winter20cup = winter20cup[desired_order]\n"
   ]
  },
  {
   "cell_type": "code",
   "execution_count": 8,
   "id": "09bf35af",
   "metadata": {},
   "outputs": [],
   "source": [
    "winter20cup=winter20cup.drop(columns=['Total'])"
   ]
  },
  {
   "cell_type": "code",
   "execution_count": 10,
   "id": "a4065340",
   "metadata": {},
   "outputs": [],
   "source": [
    "winter20cup['Total']=winter20cup['D'] + winter20cup['E'] - winter20cup['ND']"
   ]
  },
  {
   "cell_type": "code",
   "execution_count": 12,
   "id": "2e76c31b",
   "metadata": {},
   "outputs": [
    {
     "data": {
      "text/plain": [
       "14.99"
      ]
     },
     "execution_count": 12,
     "metadata": {},
     "output_type": "execute_result"
    }
   ],
   "source": [
    "winter20cup['Total']. max()"
   ]
  },
  {
   "cell_type": "code",
   "execution_count": 13,
   "id": "480f8c5d",
   "metadata": {},
   "outputs": [],
   "source": [
    "pb = pd.concat([pb, winter20cup])"
   ]
  },
  {
   "cell_type": "code",
   "execution_count": 14,
   "id": "b2d773f0",
   "metadata": {},
   "outputs": [
    {
     "name": "stdout",
     "output_type": "stream",
     "text": [
      "<class 'pandas.core.frame.DataFrame'>\n",
      "Index: 506 entries, 0 to 35\n",
      "Data columns (total 9 columns):\n",
      " #   Column   Non-Null Count  Dtype  \n",
      "---  ------   --------------  -----  \n",
      " 0   Rank     506 non-null    int64  \n",
      " 1   Athlete  506 non-null    object \n",
      " 2   Nation   505 non-null    object \n",
      " 3   D        506 non-null    float64\n",
      " 4   E        506 non-null    float64\n",
      " 5   ND       506 non-null    float64\n",
      " 6   Total    506 non-null    float64\n",
      " 7   year     506 non-null    int64  \n",
      " 8   round    506 non-null    object \n",
      "dtypes: float64(4), int64(2), object(3)\n",
      "memory usage: 39.5+ KB\n"
     ]
    }
   ],
   "source": [
    "pb.info()"
   ]
  },
  {
   "cell_type": "code",
   "execution_count": 15,
   "id": "23d82510",
   "metadata": {},
   "outputs": [
    {
     "data": {
      "text/plain": [
       "21"
      ]
     },
     "execution_count": 15,
     "metadata": {},
     "output_type": "execute_result"
    }
   ],
   "source": [
    "pb.duplicated().sum()"
   ]
  },
  {
   "cell_type": "code",
   "execution_count": 16,
   "id": "63077cf8",
   "metadata": {},
   "outputs": [],
   "source": [
    "pb = pb.drop_duplicates()"
   ]
  },
  {
   "cell_type": "code",
   "execution_count": 17,
   "id": "d9a8320c",
   "metadata": {},
   "outputs": [],
   "source": [
    "# pb.to_csv('pb.csv', index=False)"
   ]
  },
  {
   "cell_type": "code",
   "execution_count": null,
   "id": "e10546a6",
   "metadata": {},
   "outputs": [],
   "source": []
  }
 ],
 "metadata": {
  "kernelspec": {
   "display_name": "Python 3 (ipykernel)",
   "language": "python",
   "name": "python3"
  },
  "language_info": {
   "codemirror_mode": {
    "name": "ipython",
    "version": 3
   },
   "file_extension": ".py",
   "mimetype": "text/x-python",
   "name": "python",
   "nbconvert_exporter": "python",
   "pygments_lexer": "ipython3",
   "version": "3.8.18"
  }
 },
 "nbformat": 4,
 "nbformat_minor": 5
}
