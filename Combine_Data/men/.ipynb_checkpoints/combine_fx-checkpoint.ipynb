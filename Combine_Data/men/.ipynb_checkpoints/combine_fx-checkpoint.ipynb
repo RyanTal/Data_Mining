{
 "cells": [
  {
   "cell_type": "code",
   "execution_count": 97,
   "id": "f3ad6d95",
   "metadata": {},
   "outputs": [],
   "source": [
    "import pandas as pd\n",
    "import numpy as np"
   ]
  },
  {
   "cell_type": "code",
   "execution_count": 98,
   "id": "a9a1560f",
   "metadata": {},
   "outputs": [],
   "source": [
    "wc19melb = pd.read_csv('../../Cleaning/qual_events/men/wc19bmelb_fx.csv')\n",
    "wc20baku = pd.read_csv('../../Cleaning/qual_events/men/wc20baku_fx.csv')\n",
    "world18 = pd.read_csv('../../Cleaning/qual_events/men/world18championship_fx.csv')\n",
    "winter20cup = pd.read_csv('../../Cleaning/qual_events/men/winter20cup_fx.csv')\n",
    "world19cup = pd.read_csv('../../Cleaning/qual_events/men/world19cup_fx.csv')\n",
    "wc19bmelb = pd.read_csv('../../Cleaning/qual_events/men/wc19bmelb_fx.csv')\n",
    "\n",
    "\n",
    "\n",
    "\n",
    "\n"
   ]
  },
  {
   "cell_type": "code",
   "execution_count": 99,
   "id": "ff418b93",
   "metadata": {},
   "outputs": [],
   "source": [
    "fx = pd.concat([wc19melb, wc20baku, world19cup, wc19bmelb, winter20cup, world18 ])\n"
   ]
  },
  {
   "cell_type": "code",
   "execution_count": 100,
   "id": "fcc23a80",
   "metadata": {},
   "outputs": [
    {
     "data": {
      "text/plain": [
       "34"
      ]
     },
     "execution_count": 100,
     "metadata": {},
     "output_type": "execute_result"
    }
   ],
   "source": [
    "fx.duplicated().sum()"
   ]
  },
  {
   "cell_type": "code",
   "execution_count": 101,
   "id": "fad0ee34",
   "metadata": {},
   "outputs": [],
   "source": [
    "fx = fx.drop_duplicates()"
   ]
  },
  {
   "cell_type": "code",
   "execution_count": 102,
   "id": "97dec811",
   "metadata": {},
   "outputs": [
    {
     "data": {
      "text/plain": [
       "Index(['Rank', 'Athlete', 'Nation', 'D', 'E', 'ND', 'Total', 'year', 'round',\n",
       "       'Score'],\n",
       "      dtype='object')"
      ]
     },
     "execution_count": 102,
     "metadata": {},
     "output_type": "execute_result"
    }
   ],
   "source": [
    "fx.columns"
   ]
  },
  {
   "cell_type": "code",
   "execution_count": 103,
   "id": "90a2fa48",
   "metadata": {},
   "outputs": [
    {
     "data": {
      "text/html": [
       "<div>\n",
       "<style scoped>\n",
       "    .dataframe tbody tr th:only-of-type {\n",
       "        vertical-align: middle;\n",
       "    }\n",
       "\n",
       "    .dataframe tbody tr th {\n",
       "        vertical-align: top;\n",
       "    }\n",
       "\n",
       "    .dataframe thead th {\n",
       "        text-align: right;\n",
       "    }\n",
       "</style>\n",
       "<table border=\"1\" class=\"dataframe\">\n",
       "  <thead>\n",
       "    <tr style=\"text-align: right;\">\n",
       "      <th></th>\n",
       "      <th>Rank</th>\n",
       "      <th>Athlete</th>\n",
       "      <th>Nation</th>\n",
       "      <th>D</th>\n",
       "      <th>E</th>\n",
       "      <th>ND</th>\n",
       "      <th>Total</th>\n",
       "      <th>year</th>\n",
       "      <th>round</th>\n",
       "      <th>Score</th>\n",
       "    </tr>\n",
       "  </thead>\n",
       "  <tbody>\n",
       "    <tr>\n",
       "      <th>0</th>\n",
       "      <td>1</td>\n",
       "      <td>carlos edriel yulo</td>\n",
       "      <td>PHI</td>\n",
       "      <td>6.2</td>\n",
       "      <td>8.366</td>\n",
       "      <td>0.0</td>\n",
       "      <td>14.566</td>\n",
       "      <td>2019</td>\n",
       "      <td>final</td>\n",
       "      <td>NaN</td>\n",
       "    </tr>\n",
       "    <tr>\n",
       "      <th>1</th>\n",
       "      <td>2</td>\n",
       "      <td>hibiki arayashiki</td>\n",
       "      <td>JPN</td>\n",
       "      <td>5.9</td>\n",
       "      <td>8.600</td>\n",
       "      <td>0.0</td>\n",
       "      <td>14.500</td>\n",
       "      <td>2019</td>\n",
       "      <td>final</td>\n",
       "      <td>NaN</td>\n",
       "    </tr>\n",
       "    <tr>\n",
       "      <th>2</th>\n",
       "      <td>3</td>\n",
       "      <td>rayderley zapata</td>\n",
       "      <td>ESP</td>\n",
       "      <td>6.1</td>\n",
       "      <td>8.400</td>\n",
       "      <td>0.0</td>\n",
       "      <td>14.500</td>\n",
       "      <td>2019</td>\n",
       "      <td>final</td>\n",
       "      <td>NaN</td>\n",
       "    </tr>\n",
       "    <tr>\n",
       "      <th>3</th>\n",
       "      <td>3</td>\n",
       "      <td>dominick cunningham</td>\n",
       "      <td>none</td>\n",
       "      <td>6.1</td>\n",
       "      <td>8.400</td>\n",
       "      <td>0.0</td>\n",
       "      <td>14.500</td>\n",
       "      <td>2019</td>\n",
       "      <td>final</td>\n",
       "      <td>NaN</td>\n",
       "    </tr>\n",
       "    <tr>\n",
       "      <th>4</th>\n",
       "      <td>5</td>\n",
       "      <td>kim han-sol</td>\n",
       "      <td>SKR</td>\n",
       "      <td>6.2</td>\n",
       "      <td>8.000</td>\n",
       "      <td>0.0</td>\n",
       "      <td>14.200</td>\n",
       "      <td>2019</td>\n",
       "      <td>final</td>\n",
       "      <td>NaN</td>\n",
       "    </tr>\n",
       "    <tr>\n",
       "      <th>...</th>\n",
       "      <td>...</td>\n",
       "      <td>...</td>\n",
       "      <td>...</td>\n",
       "      <td>...</td>\n",
       "      <td>...</td>\n",
       "      <td>...</td>\n",
       "      <td>...</td>\n",
       "      <td>...</td>\n",
       "      <td>...</td>\n",
       "      <td>...</td>\n",
       "    </tr>\n",
       "    <tr>\n",
       "      <th>204</th>\n",
       "      <td>196</td>\n",
       "      <td>ahmed mosa</td>\n",
       "      <td>QAT</td>\n",
       "      <td>4.3</td>\n",
       "      <td>6.200</td>\n",
       "      <td>0.0</td>\n",
       "      <td>10.500</td>\n",
       "      <td>2018</td>\n",
       "      <td>qual</td>\n",
       "      <td>NaN</td>\n",
       "    </tr>\n",
       "    <tr>\n",
       "      <th>205</th>\n",
       "      <td>197</td>\n",
       "      <td>timur bairamov</td>\n",
       "      <td>AZE</td>\n",
       "      <td>3.9</td>\n",
       "      <td>6.533</td>\n",
       "      <td>0.0</td>\n",
       "      <td>10.433</td>\n",
       "      <td>2018</td>\n",
       "      <td>qual</td>\n",
       "      <td>NaN</td>\n",
       "    </tr>\n",
       "    <tr>\n",
       "      <th>206</th>\n",
       "      <td>198</td>\n",
       "      <td>han chung hyo</td>\n",
       "      <td>none</td>\n",
       "      <td>2.7</td>\n",
       "      <td>6.566</td>\n",
       "      <td>0.0</td>\n",
       "      <td>9.266</td>\n",
       "      <td>2018</td>\n",
       "      <td>qual</td>\n",
       "      <td>NaN</td>\n",
       "    </tr>\n",
       "    <tr>\n",
       "      <th>207</th>\n",
       "      <td>199</td>\n",
       "      <td>wei an terry tay</td>\n",
       "      <td>SIN</td>\n",
       "      <td>4.1</td>\n",
       "      <td>5.166</td>\n",
       "      <td>-0.2</td>\n",
       "      <td>9.066</td>\n",
       "      <td>2018</td>\n",
       "      <td>qual</td>\n",
       "      <td>NaN</td>\n",
       "    </tr>\n",
       "    <tr>\n",
       "      <th>208</th>\n",
       "      <td>200</td>\n",
       "      <td>abdullah al-dulaimi</td>\n",
       "      <td>IRQ</td>\n",
       "      <td>3.6</td>\n",
       "      <td>4.033</td>\n",
       "      <td>-0.2</td>\n",
       "      <td>7.433</td>\n",
       "      <td>2018</td>\n",
       "      <td>qual</td>\n",
       "      <td>NaN</td>\n",
       "    </tr>\n",
       "  </tbody>\n",
       "</table>\n",
       "<p>538 rows × 10 columns</p>\n",
       "</div>"
      ],
      "text/plain": [
       "     Rank              Athlete Nation    D      E   ND   Total  year  round  \\\n",
       "0       1   carlos edriel yulo    PHI  6.2  8.366  0.0  14.566  2019  final   \n",
       "1       2    hibiki arayashiki    JPN  5.9  8.600  0.0  14.500  2019  final   \n",
       "2       3     rayderley zapata    ESP  6.1  8.400  0.0  14.500  2019  final   \n",
       "3       3  dominick cunningham   none  6.1  8.400  0.0  14.500  2019  final   \n",
       "4       5          kim han-sol    SKR  6.2  8.000  0.0  14.200  2019  final   \n",
       "..    ...                  ...    ...  ...    ...  ...     ...   ...    ...   \n",
       "204   196           ahmed mosa    QAT  4.3  6.200  0.0  10.500  2018   qual   \n",
       "205   197       timur bairamov    AZE  3.9  6.533  0.0  10.433  2018   qual   \n",
       "206   198        han chung hyo   none  2.7  6.566  0.0   9.266  2018   qual   \n",
       "207   199     wei an terry tay    SIN  4.1  5.166 -0.2   9.066  2018   qual   \n",
       "208   200  abdullah al-dulaimi    IRQ  3.6  4.033 -0.2   7.433  2018   qual   \n",
       "\n",
       "     Score  \n",
       "0      NaN  \n",
       "1      NaN  \n",
       "2      NaN  \n",
       "3      NaN  \n",
       "4      NaN  \n",
       "..     ...  \n",
       "204    NaN  \n",
       "205    NaN  \n",
       "206    NaN  \n",
       "207    NaN  \n",
       "208    NaN  \n",
       "\n",
       "[538 rows x 10 columns]"
      ]
     },
     "execution_count": 103,
     "metadata": {},
     "output_type": "execute_result"
    }
   ],
   "source": [
    "fx"
   ]
  },
  {
   "cell_type": "code",
   "execution_count": 104,
   "id": "762cf9f3",
   "metadata": {},
   "outputs": [],
   "source": [
    "fx['Score'] = fx['Score'].fillna(fx['D'] + fx['E'] - fx['ND'])"
   ]
  },
  {
   "cell_type": "code",
   "execution_count": 105,
   "id": "6b1f8574",
   "metadata": {},
   "outputs": [],
   "source": [
    "fx = fx.drop(columns='Total')\n"
   ]
  },
  {
   "cell_type": "code",
   "execution_count": 106,
   "id": "93c18371",
   "metadata": {},
   "outputs": [],
   "source": [
    "fx.rename(columns={'Score': 'Total'}, inplace=True)"
   ]
  },
  {
   "cell_type": "code",
   "execution_count": 107,
   "id": "9b0fd5c8",
   "metadata": {},
   "outputs": [],
   "source": [
    "desired_order = ['Rank', 'Athlete', 'Nation', 'D', 'E', 'ND', 'Total', 'year', 'round']\n",
    "\n",
    "# Rearrange the columns in-place\n",
    "winter20cup = winter20cup[desired_order]\n",
    "\n"
   ]
  },
  {
   "cell_type": "code",
   "execution_count": 108,
   "id": "5bf0b48a",
   "metadata": {},
   "outputs": [
    {
     "data": {
      "text/html": [
       "<div>\n",
       "<style scoped>\n",
       "    .dataframe tbody tr th:only-of-type {\n",
       "        vertical-align: middle;\n",
       "    }\n",
       "\n",
       "    .dataframe tbody tr th {\n",
       "        vertical-align: top;\n",
       "    }\n",
       "\n",
       "    .dataframe thead th {\n",
       "        text-align: right;\n",
       "    }\n",
       "</style>\n",
       "<table border=\"1\" class=\"dataframe\">\n",
       "  <thead>\n",
       "    <tr style=\"text-align: right;\">\n",
       "      <th></th>\n",
       "      <th>Rank</th>\n",
       "      <th>Athlete</th>\n",
       "      <th>Nation</th>\n",
       "      <th>D</th>\n",
       "      <th>E</th>\n",
       "      <th>ND</th>\n",
       "      <th>year</th>\n",
       "      <th>round</th>\n",
       "      <th>Total</th>\n",
       "    </tr>\n",
       "  </thead>\n",
       "  <tbody>\n",
       "    <tr>\n",
       "      <th>0</th>\n",
       "      <td>1</td>\n",
       "      <td>carlos edriel yulo</td>\n",
       "      <td>PHI</td>\n",
       "      <td>6.2</td>\n",
       "      <td>8.366</td>\n",
       "      <td>0.0</td>\n",
       "      <td>2019</td>\n",
       "      <td>final</td>\n",
       "      <td>14.566</td>\n",
       "    </tr>\n",
       "    <tr>\n",
       "      <th>1</th>\n",
       "      <td>2</td>\n",
       "      <td>hibiki arayashiki</td>\n",
       "      <td>JPN</td>\n",
       "      <td>5.9</td>\n",
       "      <td>8.600</td>\n",
       "      <td>0.0</td>\n",
       "      <td>2019</td>\n",
       "      <td>final</td>\n",
       "      <td>14.500</td>\n",
       "    </tr>\n",
       "    <tr>\n",
       "      <th>2</th>\n",
       "      <td>3</td>\n",
       "      <td>rayderley zapata</td>\n",
       "      <td>ESP</td>\n",
       "      <td>6.1</td>\n",
       "      <td>8.400</td>\n",
       "      <td>0.0</td>\n",
       "      <td>2019</td>\n",
       "      <td>final</td>\n",
       "      <td>14.500</td>\n",
       "    </tr>\n",
       "    <tr>\n",
       "      <th>3</th>\n",
       "      <td>3</td>\n",
       "      <td>dominick cunningham</td>\n",
       "      <td>none</td>\n",
       "      <td>6.1</td>\n",
       "      <td>8.400</td>\n",
       "      <td>0.0</td>\n",
       "      <td>2019</td>\n",
       "      <td>final</td>\n",
       "      <td>14.500</td>\n",
       "    </tr>\n",
       "    <tr>\n",
       "      <th>4</th>\n",
       "      <td>5</td>\n",
       "      <td>kim han-sol</td>\n",
       "      <td>SKR</td>\n",
       "      <td>6.2</td>\n",
       "      <td>8.000</td>\n",
       "      <td>0.0</td>\n",
       "      <td>2019</td>\n",
       "      <td>final</td>\n",
       "      <td>14.200</td>\n",
       "    </tr>\n",
       "    <tr>\n",
       "      <th>...</th>\n",
       "      <td>...</td>\n",
       "      <td>...</td>\n",
       "      <td>...</td>\n",
       "      <td>...</td>\n",
       "      <td>...</td>\n",
       "      <td>...</td>\n",
       "      <td>...</td>\n",
       "      <td>...</td>\n",
       "      <td>...</td>\n",
       "    </tr>\n",
       "    <tr>\n",
       "      <th>204</th>\n",
       "      <td>196</td>\n",
       "      <td>ahmed mosa</td>\n",
       "      <td>QAT</td>\n",
       "      <td>4.3</td>\n",
       "      <td>6.200</td>\n",
       "      <td>0.0</td>\n",
       "      <td>2018</td>\n",
       "      <td>qual</td>\n",
       "      <td>10.500</td>\n",
       "    </tr>\n",
       "    <tr>\n",
       "      <th>205</th>\n",
       "      <td>197</td>\n",
       "      <td>timur bairamov</td>\n",
       "      <td>AZE</td>\n",
       "      <td>3.9</td>\n",
       "      <td>6.533</td>\n",
       "      <td>0.0</td>\n",
       "      <td>2018</td>\n",
       "      <td>qual</td>\n",
       "      <td>10.433</td>\n",
       "    </tr>\n",
       "    <tr>\n",
       "      <th>206</th>\n",
       "      <td>198</td>\n",
       "      <td>han chung hyo</td>\n",
       "      <td>none</td>\n",
       "      <td>2.7</td>\n",
       "      <td>6.566</td>\n",
       "      <td>0.0</td>\n",
       "      <td>2018</td>\n",
       "      <td>qual</td>\n",
       "      <td>9.266</td>\n",
       "    </tr>\n",
       "    <tr>\n",
       "      <th>207</th>\n",
       "      <td>199</td>\n",
       "      <td>wei an terry tay</td>\n",
       "      <td>SIN</td>\n",
       "      <td>4.1</td>\n",
       "      <td>5.166</td>\n",
       "      <td>-0.2</td>\n",
       "      <td>2018</td>\n",
       "      <td>qual</td>\n",
       "      <td>9.466</td>\n",
       "    </tr>\n",
       "    <tr>\n",
       "      <th>208</th>\n",
       "      <td>200</td>\n",
       "      <td>abdullah al-dulaimi</td>\n",
       "      <td>IRQ</td>\n",
       "      <td>3.6</td>\n",
       "      <td>4.033</td>\n",
       "      <td>-0.2</td>\n",
       "      <td>2018</td>\n",
       "      <td>qual</td>\n",
       "      <td>7.833</td>\n",
       "    </tr>\n",
       "  </tbody>\n",
       "</table>\n",
       "<p>538 rows × 9 columns</p>\n",
       "</div>"
      ],
      "text/plain": [
       "     Rank              Athlete Nation    D      E   ND  year  round   Total\n",
       "0       1   carlos edriel yulo    PHI  6.2  8.366  0.0  2019  final  14.566\n",
       "1       2    hibiki arayashiki    JPN  5.9  8.600  0.0  2019  final  14.500\n",
       "2       3     rayderley zapata    ESP  6.1  8.400  0.0  2019  final  14.500\n",
       "3       3  dominick cunningham   none  6.1  8.400  0.0  2019  final  14.500\n",
       "4       5          kim han-sol    SKR  6.2  8.000  0.0  2019  final  14.200\n",
       "..    ...                  ...    ...  ...    ...  ...   ...    ...     ...\n",
       "204   196           ahmed mosa    QAT  4.3  6.200  0.0  2018   qual  10.500\n",
       "205   197       timur bairamov    AZE  3.9  6.533  0.0  2018   qual  10.433\n",
       "206   198        han chung hyo   none  2.7  6.566  0.0  2018   qual   9.266\n",
       "207   199     wei an terry tay    SIN  4.1  5.166 -0.2  2018   qual   9.466\n",
       "208   200  abdullah al-dulaimi    IRQ  3.6  4.033 -0.2  2018   qual   7.833\n",
       "\n",
       "[538 rows x 9 columns]"
      ]
     },
     "execution_count": 108,
     "metadata": {},
     "output_type": "execute_result"
    }
   ],
   "source": [
    "fx"
   ]
  },
  {
   "cell_type": "code",
   "execution_count": 109,
   "id": "ff42cc4f",
   "metadata": {},
   "outputs": [
    {
     "data": {
      "text/plain": [
       "15.3"
      ]
     },
     "execution_count": 109,
     "metadata": {},
     "output_type": "execute_result"
    }
   ],
   "source": [
    "fx['Total'].max()"
   ]
  },
  {
   "cell_type": "code",
   "execution_count": 110,
   "id": "4afc2813",
   "metadata": {},
   "outputs": [
    {
     "name": "stdout",
     "output_type": "stream",
     "text": [
      "<class 'pandas.core.frame.DataFrame'>\n",
      "Index: 538 entries, 0 to 208\n",
      "Data columns (total 9 columns):\n",
      " #   Column   Non-Null Count  Dtype  \n",
      "---  ------   --------------  -----  \n",
      " 0   Rank     538 non-null    int64  \n",
      " 1   Athlete  538 non-null    object \n",
      " 2   Nation   536 non-null    object \n",
      " 3   D        538 non-null    float64\n",
      " 4   E        538 non-null    float64\n",
      " 5   ND       538 non-null    float64\n",
      " 6   year     538 non-null    int64  \n",
      " 7   round    538 non-null    object \n",
      " 8   Total    538 non-null    float64\n",
      "dtypes: float64(4), int64(2), object(3)\n",
      "memory usage: 42.0+ KB\n"
     ]
    }
   ],
   "source": [
    "fx.info()"
   ]
  },
  {
   "cell_type": "code",
   "execution_count": 111,
   "id": "8b9a3fc1",
   "metadata": {},
   "outputs": [
    {
     "data": {
      "text/html": [
       "<div>\n",
       "<style scoped>\n",
       "    .dataframe tbody tr th:only-of-type {\n",
       "        vertical-align: middle;\n",
       "    }\n",
       "\n",
       "    .dataframe tbody tr th {\n",
       "        vertical-align: top;\n",
       "    }\n",
       "\n",
       "    .dataframe thead th {\n",
       "        text-align: right;\n",
       "    }\n",
       "</style>\n",
       "<table border=\"1\" class=\"dataframe\">\n",
       "  <thead>\n",
       "    <tr style=\"text-align: right;\">\n",
       "      <th></th>\n",
       "      <th>Rank</th>\n",
       "      <th>Athlete</th>\n",
       "      <th>Nation</th>\n",
       "      <th>D</th>\n",
       "      <th>E</th>\n",
       "      <th>ND</th>\n",
       "      <th>year</th>\n",
       "      <th>round</th>\n",
       "      <th>Total</th>\n",
       "    </tr>\n",
       "  </thead>\n",
       "  <tbody>\n",
       "  </tbody>\n",
       "</table>\n",
       "</div>"
      ],
      "text/plain": [
       "Empty DataFrame\n",
       "Columns: [Rank, Athlete, Nation, D, E, ND, year, round, Total]\n",
       "Index: []"
      ]
     },
     "execution_count": 111,
     "metadata": {},
     "output_type": "execute_result"
    }
   ],
   "source": [
    "fx[fx.duplicated()]"
   ]
  },
  {
   "cell_type": "code",
   "execution_count": 112,
   "id": "0a6e423e",
   "metadata": {},
   "outputs": [],
   "source": [
    "df = fx.drop_duplicates()"
   ]
  },
  {
   "cell_type": "code",
   "execution_count": 113,
   "id": "74bfc33b",
   "metadata": {},
   "outputs": [
    {
     "name": "stdout",
     "output_type": "stream",
     "text": [
      "<class 'pandas.core.frame.DataFrame'>\n",
      "Index: 538 entries, 0 to 208\n",
      "Data columns (total 9 columns):\n",
      " #   Column   Non-Null Count  Dtype  \n",
      "---  ------   --------------  -----  \n",
      " 0   Rank     538 non-null    int64  \n",
      " 1   Athlete  538 non-null    object \n",
      " 2   Nation   536 non-null    object \n",
      " 3   D        538 non-null    float64\n",
      " 4   E        538 non-null    float64\n",
      " 5   ND       538 non-null    float64\n",
      " 6   year     538 non-null    int64  \n",
      " 7   round    538 non-null    object \n",
      " 8   Total    538 non-null    float64\n",
      "dtypes: float64(4), int64(2), object(3)\n",
      "memory usage: 42.0+ KB\n"
     ]
    }
   ],
   "source": [
    "df.info()"
   ]
  },
  {
   "cell_type": "code",
   "execution_count": 114,
   "id": "8b5525ee",
   "metadata": {},
   "outputs": [
    {
     "data": {
      "text/plain": [
       "year\n",
       "2019    247\n",
       "2018    209\n",
       "2020     82\n",
       "Name: count, dtype: int64"
      ]
     },
     "execution_count": 114,
     "metadata": {},
     "output_type": "execute_result"
    }
   ],
   "source": [
    "df['year'].value_counts()"
   ]
  },
  {
   "cell_type": "code",
   "execution_count": 115,
   "id": "4375378d",
   "metadata": {},
   "outputs": [
    {
     "data": {
      "text/plain": [
       "15.3"
      ]
     },
     "execution_count": 115,
     "metadata": {},
     "output_type": "execute_result"
    }
   ],
   "source": [
    "fx['Total'].max()"
   ]
  },
  {
   "cell_type": "code",
   "execution_count": 116,
   "id": "0d5da2c8",
   "metadata": {},
   "outputs": [],
   "source": [
    "fx=df.copy()"
   ]
  },
  {
   "cell_type": "code",
   "execution_count": 117,
   "id": "cf0aae3a",
   "metadata": {},
   "outputs": [],
   "source": [
    "# fx.to_csv('fx.csv', index=False)"
   ]
  },
  {
   "cell_type": "code",
   "execution_count": null,
   "id": "2d60164b",
   "metadata": {},
   "outputs": [],
   "source": []
  }
 ],
 "metadata": {
  "kernelspec": {
   "display_name": "Python 3 (ipykernel)",
   "language": "python",
   "name": "python3"
  },
  "language_info": {
   "codemirror_mode": {
    "name": "ipython",
    "version": 3
   },
   "file_extension": ".py",
   "mimetype": "text/x-python",
   "name": "python",
   "nbconvert_exporter": "python",
   "pygments_lexer": "ipython3",
   "version": "3.9.12"
  }
 },
 "nbformat": 4,
 "nbformat_minor": 5
}
