{
 "cells": [
  {
   "cell_type": "code",
   "execution_count": 1,
   "id": "84bdfa72",
   "metadata": {},
   "outputs": [],
   "source": [
    "import pandas as pd\n",
    "import numpy as np"
   ]
  },
  {
   "cell_type": "code",
   "execution_count": 3,
   "id": "74182eca",
   "metadata": {},
   "outputs": [],
   "source": [
    "df = pd.read_csv('hb.csv')"
   ]
  },
  {
   "cell_type": "code",
   "execution_count": 4,
   "id": "f07575f8",
   "metadata": {},
   "outputs": [
    {
     "data": {
      "text/plain": [
       "year\n",
       "2019    316\n",
       "2020     65\n",
       "Name: count, dtype: int64"
      ]
     },
     "execution_count": 4,
     "metadata": {},
     "output_type": "execute_result"
    }
   ],
   "source": [
    "df['year'].value_counts()\n"
   ]
  },
  {
   "cell_type": "code",
   "execution_count": 5,
   "id": "9bb6251d",
   "metadata": {},
   "outputs": [
    {
     "data": {
      "text/html": [
       "<div>\n",
       "<style scoped>\n",
       "    .dataframe tbody tr th:only-of-type {\n",
       "        vertical-align: middle;\n",
       "    }\n",
       "\n",
       "    .dataframe tbody tr th {\n",
       "        vertical-align: top;\n",
       "    }\n",
       "\n",
       "    .dataframe thead th {\n",
       "        text-align: right;\n",
       "    }\n",
       "</style>\n",
       "<table border=\"1\" class=\"dataframe\">\n",
       "  <thead>\n",
       "    <tr style=\"text-align: right;\">\n",
       "      <th></th>\n",
       "      <th>Rank</th>\n",
       "      <th>Athlete</th>\n",
       "      <th>Nation</th>\n",
       "      <th>D</th>\n",
       "      <th>E</th>\n",
       "      <th>ND</th>\n",
       "      <th>Total</th>\n",
       "      <th>year</th>\n",
       "      <th>round</th>\n",
       "    </tr>\n",
       "  </thead>\n",
       "  <tbody>\n",
       "    <tr>\n",
       "      <th>0</th>\n",
       "      <td>1</td>\n",
       "      <td>hidetaka miyachi</td>\n",
       "      <td>JPN</td>\n",
       "      <td>6.2</td>\n",
       "      <td>8.533</td>\n",
       "      <td>0.0</td>\n",
       "      <td>14.733</td>\n",
       "      <td>2019</td>\n",
       "      <td>final</td>\n",
       "    </tr>\n",
       "    <tr>\n",
       "      <th>1</th>\n",
       "      <td>2</td>\n",
       "      <td>epke zonderland</td>\n",
       "      <td>NED</td>\n",
       "      <td>6.5</td>\n",
       "      <td>8.233</td>\n",
       "      <td>0.0</td>\n",
       "      <td>14.733</td>\n",
       "      <td>2019</td>\n",
       "      <td>final</td>\n",
       "    </tr>\n",
       "    <tr>\n",
       "      <th>2</th>\n",
       "      <td>3</td>\n",
       "      <td>zhang chenglong</td>\n",
       "      <td>CHN</td>\n",
       "      <td>6.5</td>\n",
       "      <td>7.833</td>\n",
       "      <td>0.0</td>\n",
       "      <td>14.333</td>\n",
       "      <td>2019</td>\n",
       "      <td>final</td>\n",
       "    </tr>\n",
       "    <tr>\n",
       "      <th>3</th>\n",
       "      <td>4</td>\n",
       "      <td>mitchell morgans</td>\n",
       "      <td>AUS</td>\n",
       "      <td>6.0</td>\n",
       "      <td>8.033</td>\n",
       "      <td>0.0</td>\n",
       "      <td>14.033</td>\n",
       "      <td>2019</td>\n",
       "      <td>final</td>\n",
       "    </tr>\n",
       "    <tr>\n",
       "      <th>4</th>\n",
       "      <td>5</td>\n",
       "      <td>tyson bull</td>\n",
       "      <td>AUS</td>\n",
       "      <td>5.8</td>\n",
       "      <td>8.166</td>\n",
       "      <td>0.0</td>\n",
       "      <td>13.966</td>\n",
       "      <td>2019</td>\n",
       "      <td>final</td>\n",
       "    </tr>\n",
       "  </tbody>\n",
       "</table>\n",
       "</div>"
      ],
      "text/plain": [
       "   Rank           Athlete Nation    D      E   ND   Total  year  round\n",
       "0     1  hidetaka miyachi    JPN  6.2  8.533  0.0  14.733  2019  final\n",
       "1     2   epke zonderland    NED  6.5  8.233  0.0  14.733  2019  final\n",
       "2     3   zhang chenglong    CHN  6.5  7.833  0.0  14.333  2019  final\n",
       "3     4  mitchell morgans    AUS  6.0  8.033  0.0  14.033  2019  final\n",
       "4     5        tyson bull    AUS  5.8  8.166  0.0  13.966  2019  final"
      ]
     },
     "execution_count": 5,
     "metadata": {},
     "output_type": "execute_result"
    }
   ],
   "source": [
    "df.head()"
   ]
  },
  {
   "cell_type": "code",
   "execution_count": 7,
   "id": "0c4c8780",
   "metadata": {},
   "outputs": [],
   "source": [
    "# artem dolgopyat (ISR) \n",
    "# rayderley zapata (ESP) \n",
    "# xiao ruoteng (CHN)"
   ]
  },
  {
   "cell_type": "code",
   "execution_count": 12,
   "id": "d7e83065",
   "metadata": {},
   "outputs": [],
   "source": [
    "# Define a function to assign medal values based on the \"Name\" column\n",
    "def assign_medal(name):\n",
    "    name_lower = name.lower()\n",
    "    if name_lower == 'daiki hashimoto':\n",
    "        return 1\n",
    "    elif name_lower == 'tin srbic':\n",
    "        return 1\n",
    "    elif name_lower == 'nikita nagornyy':\n",
    "        return 1\n",
    "    else:\n",
    "        return 0\n",
    "\n",
    "# Apply the function to create the \"medal\" column\n",
    "df['medal'] = df['Athlete'].apply(assign_medal)"
   ]
  },
  {
   "cell_type": "code",
   "execution_count": 13,
   "id": "31e0ff27",
   "metadata": {},
   "outputs": [
    {
     "data": {
      "text/plain": [
       "medal\n",
       "0    372\n",
       "1      9\n",
       "Name: count, dtype: int64"
      ]
     },
     "execution_count": 13,
     "metadata": {},
     "output_type": "execute_result"
    }
   ],
   "source": [
    "df['medal'].value_counts()"
   ]
  },
  {
   "cell_type": "code",
   "execution_count": 14,
   "id": "2b187caf",
   "metadata": {},
   "outputs": [
    {
     "data": {
      "text/html": [
       "<div>\n",
       "<style scoped>\n",
       "    .dataframe tbody tr th:only-of-type {\n",
       "        vertical-align: middle;\n",
       "    }\n",
       "\n",
       "    .dataframe tbody tr th {\n",
       "        vertical-align: top;\n",
       "    }\n",
       "\n",
       "    .dataframe thead th {\n",
       "        text-align: right;\n",
       "    }\n",
       "</style>\n",
       "<table border=\"1\" class=\"dataframe\">\n",
       "  <thead>\n",
       "    <tr style=\"text-align: right;\">\n",
       "      <th></th>\n",
       "      <th>Rank</th>\n",
       "      <th>Athlete</th>\n",
       "      <th>Nation</th>\n",
       "      <th>D</th>\n",
       "      <th>E</th>\n",
       "      <th>ND</th>\n",
       "      <th>Total</th>\n",
       "      <th>year</th>\n",
       "      <th>round</th>\n",
       "      <th>medal</th>\n",
       "    </tr>\n",
       "  </thead>\n",
       "  <tbody>\n",
       "    <tr>\n",
       "      <th>6</th>\n",
       "      <td>7</td>\n",
       "      <td>tin srbic</td>\n",
       "      <td>CRO</td>\n",
       "      <td>6.1</td>\n",
       "      <td>7.466</td>\n",
       "      <td>-0.3</td>\n",
       "      <td>13.266</td>\n",
       "      <td>2019</td>\n",
       "      <td>final</td>\n",
       "      <td>1</td>\n",
       "    </tr>\n",
       "    <tr>\n",
       "      <th>9</th>\n",
       "      <td>2</td>\n",
       "      <td>tin srbic</td>\n",
       "      <td>CRO</td>\n",
       "      <td>5.9</td>\n",
       "      <td>8.733</td>\n",
       "      <td>0.0</td>\n",
       "      <td>14.633</td>\n",
       "      <td>2019</td>\n",
       "      <td>qual</td>\n",
       "      <td>1</td>\n",
       "    </tr>\n",
       "    <tr>\n",
       "      <th>110</th>\n",
       "      <td>2</td>\n",
       "      <td>tin srbic</td>\n",
       "      <td>CRO</td>\n",
       "      <td>6.2</td>\n",
       "      <td>8.466</td>\n",
       "      <td>0.0</td>\n",
       "      <td>14.666</td>\n",
       "      <td>2019</td>\n",
       "      <td>final</td>\n",
       "      <td>1</td>\n",
       "    </tr>\n",
       "    <tr>\n",
       "      <th>112</th>\n",
       "      <td>4</td>\n",
       "      <td>daiki hashimoto</td>\n",
       "      <td>JPN</td>\n",
       "      <td>6.2</td>\n",
       "      <td>8.033</td>\n",
       "      <td>0.0</td>\n",
       "      <td>14.233</td>\n",
       "      <td>2019</td>\n",
       "      <td>final</td>\n",
       "      <td>1</td>\n",
       "    </tr>\n",
       "    <tr>\n",
       "      <th>119</th>\n",
       "      <td>3</td>\n",
       "      <td>tin srbic</td>\n",
       "      <td>CRO</td>\n",
       "      <td>6.2</td>\n",
       "      <td>8.633</td>\n",
       "      <td>0.0</td>\n",
       "      <td>14.833</td>\n",
       "      <td>2019</td>\n",
       "      <td>qual</td>\n",
       "      <td>1</td>\n",
       "    </tr>\n",
       "    <tr>\n",
       "      <th>124</th>\n",
       "      <td>8</td>\n",
       "      <td>daiki hashimoto</td>\n",
       "      <td>JPN</td>\n",
       "      <td>6.1</td>\n",
       "      <td>8.266</td>\n",
       "      <td>0.0</td>\n",
       "      <td>14.366</td>\n",
       "      <td>2019</td>\n",
       "      <td>qual</td>\n",
       "      <td>1</td>\n",
       "    </tr>\n",
       "    <tr>\n",
       "      <th>127</th>\n",
       "      <td>11</td>\n",
       "      <td>nikita nagornyy</td>\n",
       "      <td>RUS</td>\n",
       "      <td>5.9</td>\n",
       "      <td>8.400</td>\n",
       "      <td>0.0</td>\n",
       "      <td>14.300</td>\n",
       "      <td>2019</td>\n",
       "      <td>qual</td>\n",
       "      <td>1</td>\n",
       "    </tr>\n",
       "    <tr>\n",
       "      <th>322</th>\n",
       "      <td>7</td>\n",
       "      <td>tin srbic</td>\n",
       "      <td>CRO</td>\n",
       "      <td>6.1</td>\n",
       "      <td>7.466</td>\n",
       "      <td>-0.3</td>\n",
       "      <td>13.266</td>\n",
       "      <td>2019</td>\n",
       "      <td>final</td>\n",
       "      <td>1</td>\n",
       "    </tr>\n",
       "    <tr>\n",
       "      <th>325</th>\n",
       "      <td>2</td>\n",
       "      <td>tin srbic</td>\n",
       "      <td>CRO</td>\n",
       "      <td>5.9</td>\n",
       "      <td>8.733</td>\n",
       "      <td>0.0</td>\n",
       "      <td>14.633</td>\n",
       "      <td>2019</td>\n",
       "      <td>qual</td>\n",
       "      <td>1</td>\n",
       "    </tr>\n",
       "  </tbody>\n",
       "</table>\n",
       "</div>"
      ],
      "text/plain": [
       "     Rank          Athlete Nation    D      E   ND   Total  year  round  medal\n",
       "6       7        tin srbic    CRO  6.1  7.466 -0.3  13.266  2019  final      1\n",
       "9       2        tin srbic    CRO  5.9  8.733  0.0  14.633  2019   qual      1\n",
       "110     2        tin srbic    CRO  6.2  8.466  0.0  14.666  2019  final      1\n",
       "112     4  daiki hashimoto    JPN  6.2  8.033  0.0  14.233  2019  final      1\n",
       "119     3        tin srbic    CRO  6.2  8.633  0.0  14.833  2019   qual      1\n",
       "124     8  daiki hashimoto    JPN  6.1  8.266  0.0  14.366  2019   qual      1\n",
       "127    11  nikita nagornyy    RUS  5.9  8.400  0.0  14.300  2019   qual      1\n",
       "322     7        tin srbic    CRO  6.1  7.466 -0.3  13.266  2019  final      1\n",
       "325     2        tin srbic    CRO  5.9  8.733  0.0  14.633  2019   qual      1"
      ]
     },
     "execution_count": 14,
     "metadata": {},
     "output_type": "execute_result"
    }
   ],
   "source": [
    "df[df['medal'] == 1]"
   ]
  },
  {
   "cell_type": "code",
   "execution_count": 15,
   "id": "76f0522b",
   "metadata": {},
   "outputs": [],
   "source": [
    "df['round'] = df['round'].str.lower()\n"
   ]
  },
  {
   "cell_type": "code",
   "execution_count": 16,
   "id": "03b8c9f3",
   "metadata": {},
   "outputs": [],
   "source": [
    "from sklearn.preprocessing import LabelEncoder\n",
    "\n",
    "# Assuming df is your DataFrame and 'Name' is the column you want to encode\n",
    "le = LabelEncoder()\n",
    "\n",
    "# Fit and transform the 'Name' column to create integer labels\n",
    "df['Name_encoded'] = le.fit_transform(df['Athlete'])\n",
    "\n",
    "# Store the mapping between integers and original objects\n",
    "label_mapping = dict(zip(le.transform(df['Athlete']), df['Athlete']))\n",
    "\n",
    "# To revert the integers back to objects, use the label_mapping\n",
    "# reverted_names = df['Name_encoded'].map(label_mapping)"
   ]
  },
  {
   "cell_type": "code",
   "execution_count": 17,
   "id": "6c829082",
   "metadata": {},
   "outputs": [],
   "source": [
    "df=df.drop(columns=[\"Athlete\"])\n",
    "df.rename(columns={'Name_encoded': 'Name'}, inplace=True)\n"
   ]
  },
  {
   "cell_type": "code",
   "execution_count": 18,
   "id": "c4b96dad",
   "metadata": {},
   "outputs": [],
   "source": [
    "from sklearn.preprocessing import LabelEncoder\n",
    "\n",
    "# Assuming df is your DataFrame and 'Name' is the column you want to encode\n",
    "le = LabelEncoder()\n",
    "\n",
    "# Fit and transform the 'Name' column to create integer labels\n",
    "df['nation_encoded'] = le.fit_transform(df['Nation'])\n",
    "\n",
    "# Store the mapping between integers and original objects\n",
    "label_mapping_nation = dict(zip(le.transform(df['Nation']), df['Nation']))\n",
    "\n",
    "# To revert the integers back to objects, use the label_mapping\n",
    "# reverted_names = df['Name_encoded'].map(label_mapping)"
   ]
  },
  {
   "cell_type": "code",
   "execution_count": 19,
   "id": "9d342421",
   "metadata": {},
   "outputs": [],
   "source": [
    "df=df.drop(columns=[\"Nation\"])\n",
    "df.rename(columns={'nation_encoded': 'Nation'}, inplace=True)"
   ]
  },
  {
   "cell_type": "code",
   "execution_count": 20,
   "id": "8905b136",
   "metadata": {},
   "outputs": [],
   "source": [
    "df_encoded = pd.get_dummies(df, columns=['round'], prefix='round')"
   ]
  },
  {
   "cell_type": "code",
   "execution_count": 21,
   "id": "be0675d2",
   "metadata": {},
   "outputs": [
    {
     "name": "stdout",
     "output_type": "stream",
     "text": [
      "<class 'pandas.core.frame.DataFrame'>\n",
      "RangeIndex: 381 entries, 0 to 380\n",
      "Data columns (total 11 columns):\n",
      " #   Column       Non-Null Count  Dtype  \n",
      "---  ------       --------------  -----  \n",
      " 0   Rank         381 non-null    int64  \n",
      " 1   D            381 non-null    float64\n",
      " 2   E            381 non-null    float64\n",
      " 3   ND           381 non-null    float64\n",
      " 4   Total        381 non-null    float64\n",
      " 5   year         381 non-null    int64  \n",
      " 6   medal        381 non-null    int64  \n",
      " 7   Name         381 non-null    int64  \n",
      " 8   Nation       381 non-null    int64  \n",
      " 9   round_final  381 non-null    bool   \n",
      " 10  round_qual   381 non-null    bool   \n",
      "dtypes: bool(2), float64(4), int64(5)\n",
      "memory usage: 27.7 KB\n"
     ]
    }
   ],
   "source": [
    "df_encoded.info()"
   ]
  },
  {
   "cell_type": "code",
   "execution_count": 22,
   "id": "2d99311c",
   "metadata": {},
   "outputs": [],
   "source": [
    "# df_encoded.to_csv('hb_encoded.csv', index=False)"
   ]
  },
  {
   "cell_type": "code",
   "execution_count": null,
   "id": "df1f0b46",
   "metadata": {},
   "outputs": [],
   "source": []
  }
 ],
 "metadata": {
  "kernelspec": {
   "display_name": "Python 3 (ipykernel)",
   "language": "python",
   "name": "python3"
  },
  "language_info": {
   "codemirror_mode": {
    "name": "ipython",
    "version": 3
   },
   "file_extension": ".py",
   "mimetype": "text/x-python",
   "name": "python",
   "nbconvert_exporter": "python",
   "pygments_lexer": "ipython3",
   "version": "3.9.12"
  }
 },
 "nbformat": 4,
 "nbformat_minor": 5
}
