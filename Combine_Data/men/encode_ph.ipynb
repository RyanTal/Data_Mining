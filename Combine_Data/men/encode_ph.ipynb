{
 "cells": [
  {
   "cell_type": "code",
   "execution_count": null,
   "id": "c95ee36e",
   "metadata": {},
   "outputs": [],
   "source": [
    "# df 414 to 561"
   ]
  },
  {
   "cell_type": "code",
   "execution_count": 1,
   "id": "0735da27",
   "metadata": {},
   "outputs": [],
   "source": [
    "import pandas as pd\n",
    "import numpy as np"
   ]
  },
  {
   "cell_type": "code",
   "execution_count": 2,
   "id": "33afa44e",
   "metadata": {},
   "outputs": [],
   "source": [
    "df = pd.read_csv('ph.csv')"
   ]
  },
  {
   "cell_type": "code",
   "execution_count": 3,
   "id": "892f0678",
   "metadata": {},
   "outputs": [
    {
     "name": "stdout",
     "output_type": "stream",
     "text": [
      "<class 'pandas.core.frame.DataFrame'>\n",
      "RangeIndex: 535 entries, 0 to 534\n",
      "Data columns (total 9 columns):\n",
      " #   Column   Non-Null Count  Dtype  \n",
      "---  ------   --------------  -----  \n",
      " 0   Rank     535 non-null    int64  \n",
      " 1   Athlete  535 non-null    object \n",
      " 2   Nation   534 non-null    object \n",
      " 3   D        535 non-null    float64\n",
      " 4   E        535 non-null    float64\n",
      " 5   ND       535 non-null    float64\n",
      " 6   Total    535 non-null    float64\n",
      " 7   year     535 non-null    int64  \n",
      " 8   round    535 non-null    object \n",
      "dtypes: float64(4), int64(2), object(3)\n",
      "memory usage: 37.7+ KB\n"
     ]
    }
   ],
   "source": [
    "df.info()"
   ]
  },
  {
   "cell_type": "code",
   "execution_count": 4,
   "id": "e953e626",
   "metadata": {},
   "outputs": [],
   "source": [
    "# max whitlock Great Britain\n",
    "# lee chih-kai Chinese Taipei\n",
    "# kazuma kaya Japan"
   ]
  },
  {
   "cell_type": "code",
   "execution_count": 5,
   "id": "6bac06a3",
   "metadata": {},
   "outputs": [
    {
     "data": {
      "text/plain": [
       "year\n",
       "2019    240\n",
       "2018    210\n",
       "2020     85\n",
       "Name: count, dtype: int64"
      ]
     },
     "execution_count": 5,
     "metadata": {},
     "output_type": "execute_result"
    }
   ],
   "source": [
    "df['year'].value_counts()\n"
   ]
  },
  {
   "cell_type": "code",
   "execution_count": 6,
   "id": "10aade92",
   "metadata": {},
   "outputs": [],
   "source": [
    "# Define a function to assign medal values based on the \"Name\" column\n",
    "def assign_medal(name):\n",
    "    name_lower = name.lower()\n",
    "    if name_lower == 'max whitlock':\n",
    "        return 1\n",
    "    elif name_lower == 'lee chih-kai':\n",
    "        return 1\n",
    "    elif name_lower == 'kazuma kaya':\n",
    "        return 1\n",
    "    else:\n",
    "        return 0\n",
    "\n",
    "# Apply the function to create the \"medal\" column\n",
    "df['medal'] = df['Athlete'].apply(assign_medal)"
   ]
  },
  {
   "cell_type": "code",
   "execution_count": 7,
   "id": "55e46d4e",
   "metadata": {},
   "outputs": [
    {
     "data": {
      "text/plain": [
       "medal\n",
       "0    525\n",
       "1     10\n",
       "Name: count, dtype: int64"
      ]
     },
     "execution_count": 7,
     "metadata": {},
     "output_type": "execute_result"
    }
   ],
   "source": [
    "df['medal'].value_counts()"
   ]
  },
  {
   "cell_type": "code",
   "execution_count": 8,
   "id": "76bd6ecc",
   "metadata": {},
   "outputs": [
    {
     "data": {
      "text/html": [
       "<div>\n",
       "<style scoped>\n",
       "    .dataframe tbody tr th:only-of-type {\n",
       "        vertical-align: middle;\n",
       "    }\n",
       "\n",
       "    .dataframe tbody tr th {\n",
       "        vertical-align: top;\n",
       "    }\n",
       "\n",
       "    .dataframe thead th {\n",
       "        text-align: right;\n",
       "    }\n",
       "</style>\n",
       "<table border=\"1\" class=\"dataframe\">\n",
       "  <thead>\n",
       "    <tr style=\"text-align: right;\">\n",
       "      <th></th>\n",
       "      <th>Rank</th>\n",
       "      <th>Athlete</th>\n",
       "      <th>Nation</th>\n",
       "      <th>D</th>\n",
       "      <th>E</th>\n",
       "      <th>ND</th>\n",
       "      <th>Total</th>\n",
       "      <th>year</th>\n",
       "      <th>round</th>\n",
       "      <th>medal</th>\n",
       "    </tr>\n",
       "  </thead>\n",
       "  <tbody>\n",
       "    <tr>\n",
       "      <th>0</th>\n",
       "      <td>1</td>\n",
       "      <td>lee chih-kai</td>\n",
       "      <td>none</td>\n",
       "      <td>6.5</td>\n",
       "      <td>8.766</td>\n",
       "      <td>0.0</td>\n",
       "      <td>15.266</td>\n",
       "      <td>2019</td>\n",
       "      <td>final</td>\n",
       "      <td>1</td>\n",
       "    </tr>\n",
       "    <tr>\n",
       "      <th>9</th>\n",
       "      <td>2</td>\n",
       "      <td>lee chih-kai</td>\n",
       "      <td>none</td>\n",
       "      <td>6.2</td>\n",
       "      <td>8.700</td>\n",
       "      <td>0.0</td>\n",
       "      <td>14.900</td>\n",
       "      <td>2019</td>\n",
       "      <td>qual</td>\n",
       "      <td>1</td>\n",
       "    </tr>\n",
       "    <tr>\n",
       "      <th>60</th>\n",
       "      <td>2</td>\n",
       "      <td>max whitlock</td>\n",
       "      <td>none</td>\n",
       "      <td>6.8</td>\n",
       "      <td>8.366</td>\n",
       "      <td>0.0</td>\n",
       "      <td>15.166</td>\n",
       "      <td>2018</td>\n",
       "      <td>final</td>\n",
       "      <td>1</td>\n",
       "    </tr>\n",
       "    <tr>\n",
       "      <th>67</th>\n",
       "      <td>1</td>\n",
       "      <td>max whitlock</td>\n",
       "      <td>none</td>\n",
       "      <td>6.7</td>\n",
       "      <td>8.266</td>\n",
       "      <td>0.0</td>\n",
       "      <td>14.966</td>\n",
       "      <td>2018</td>\n",
       "      <td>qual</td>\n",
       "      <td>1</td>\n",
       "    </tr>\n",
       "    <tr>\n",
       "      <th>74</th>\n",
       "      <td>8</td>\n",
       "      <td>lee chih-kai</td>\n",
       "      <td>none</td>\n",
       "      <td>5.7</td>\n",
       "      <td>8.000</td>\n",
       "      <td>0.0</td>\n",
       "      <td>13.700</td>\n",
       "      <td>2018</td>\n",
       "      <td>qual</td>\n",
       "      <td>1</td>\n",
       "    </tr>\n",
       "    <tr>\n",
       "      <th>107</th>\n",
       "      <td>41</td>\n",
       "      <td>kazuma kaya</td>\n",
       "      <td>JPN</td>\n",
       "      <td>6.4</td>\n",
       "      <td>6.025</td>\n",
       "      <td>0.0</td>\n",
       "      <td>12.425</td>\n",
       "      <td>2018</td>\n",
       "      <td>qual</td>\n",
       "      <td>1</td>\n",
       "    </tr>\n",
       "    <tr>\n",
       "      <th>269</th>\n",
       "      <td>1</td>\n",
       "      <td>max whitlock</td>\n",
       "      <td>none</td>\n",
       "      <td>7.0</td>\n",
       "      <td>8.500</td>\n",
       "      <td>0.0</td>\n",
       "      <td>15.500</td>\n",
       "      <td>2019</td>\n",
       "      <td>final</td>\n",
       "      <td>1</td>\n",
       "    </tr>\n",
       "    <tr>\n",
       "      <th>273</th>\n",
       "      <td>5</td>\n",
       "      <td>kazuma kaya</td>\n",
       "      <td>JPN</td>\n",
       "      <td>6.6</td>\n",
       "      <td>8.266</td>\n",
       "      <td>0.0</td>\n",
       "      <td>14.866</td>\n",
       "      <td>2019</td>\n",
       "      <td>final</td>\n",
       "      <td>1</td>\n",
       "    </tr>\n",
       "    <tr>\n",
       "      <th>278</th>\n",
       "      <td>1</td>\n",
       "      <td>max whitlock</td>\n",
       "      <td>none</td>\n",
       "      <td>6.9</td>\n",
       "      <td>8.366</td>\n",
       "      <td>0.0</td>\n",
       "      <td>15.266</td>\n",
       "      <td>2019</td>\n",
       "      <td>qual</td>\n",
       "      <td>1</td>\n",
       "    </tr>\n",
       "    <tr>\n",
       "      <th>285</th>\n",
       "      <td>8</td>\n",
       "      <td>kazuma kaya</td>\n",
       "      <td>JPN</td>\n",
       "      <td>6.4</td>\n",
       "      <td>8.233</td>\n",
       "      <td>0.0</td>\n",
       "      <td>14.633</td>\n",
       "      <td>2019</td>\n",
       "      <td>qual</td>\n",
       "      <td>1</td>\n",
       "    </tr>\n",
       "  </tbody>\n",
       "</table>\n",
       "</div>"
      ],
      "text/plain": [
       "     Rank       Athlete Nation    D      E   ND   Total  year  round  medal\n",
       "0       1  lee chih-kai   none  6.5  8.766  0.0  15.266  2019  final      1\n",
       "9       2  lee chih-kai   none  6.2  8.700  0.0  14.900  2019   qual      1\n",
       "60      2  max whitlock   none  6.8  8.366  0.0  15.166  2018  final      1\n",
       "67      1  max whitlock   none  6.7  8.266  0.0  14.966  2018   qual      1\n",
       "74      8  lee chih-kai   none  5.7  8.000  0.0  13.700  2018   qual      1\n",
       "107    41   kazuma kaya    JPN  6.4  6.025  0.0  12.425  2018   qual      1\n",
       "269     1  max whitlock   none  7.0  8.500  0.0  15.500  2019  final      1\n",
       "273     5   kazuma kaya    JPN  6.6  8.266  0.0  14.866  2019  final      1\n",
       "278     1  max whitlock   none  6.9  8.366  0.0  15.266  2019   qual      1\n",
       "285     8   kazuma kaya    JPN  6.4  8.233  0.0  14.633  2019   qual      1"
      ]
     },
     "execution_count": 8,
     "metadata": {},
     "output_type": "execute_result"
    }
   ],
   "source": [
    "df[df['medal'] == 1]"
   ]
  },
  {
   "cell_type": "code",
   "execution_count": 9,
   "id": "2ec5e0f5",
   "metadata": {},
   "outputs": [],
   "source": [
    "df['round'] = df['round'].str.lower()\n"
   ]
  },
  {
   "cell_type": "code",
   "execution_count": 10,
   "id": "41cbcc64",
   "metadata": {},
   "outputs": [],
   "source": [
    "from sklearn.preprocessing import LabelEncoder\n",
    "\n",
    "le = LabelEncoder()\n",
    "\n",
    "# Fit and transform the 'Name' column to create integer labels\n",
    "df['Name_encoded'] = le.fit_transform(df['Athlete'])\n",
    "\n",
    "# Store the mapping between integers and original objects\n",
    "label_mapping = dict(zip(le.transform(df['Athlete']), df['Athlete']))\n"
   ]
  },
  {
   "cell_type": "code",
   "execution_count": 11,
   "id": "3118cec8",
   "metadata": {},
   "outputs": [],
   "source": [
    "df=df.drop(columns=[\"Athlete\"])\n",
    "df.rename(columns={'Name_encoded': 'Name'}, inplace=True)"
   ]
  },
  {
   "cell_type": "code",
   "execution_count": 12,
   "id": "7b4e99c8",
   "metadata": {},
   "outputs": [],
   "source": [
    "from sklearn.preprocessing import LabelEncoder\n",
    "\n",
    "le = LabelEncoder()\n",
    "\n",
    "# Fit and transform the 'Name' column to create integer labels\n",
    "df['nation_encoded'] = le.fit_transform(df['Nation'])\n",
    "\n",
    "# Store the mapping between integers and original objects\n",
    "label_mapping_nation = dict(zip(le.transform(df['Nation']), df['Nation']))\n"
   ]
  },
  {
   "cell_type": "code",
   "execution_count": 13,
   "id": "7b2f016a",
   "metadata": {},
   "outputs": [],
   "source": [
    "df=df.drop(columns=[\"Nation\"])\n",
    "df.rename(columns={'nation_encoded': 'Nation'}, inplace=True)"
   ]
  },
  {
   "cell_type": "code",
   "execution_count": 14,
   "id": "0f7bbc07",
   "metadata": {},
   "outputs": [],
   "source": [
    "df_encoded = pd.get_dummies(df, columns=['round'], prefix='round')"
   ]
  },
  {
   "cell_type": "code",
   "execution_count": 15,
   "id": "814f7a19",
   "metadata": {},
   "outputs": [
    {
     "name": "stdout",
     "output_type": "stream",
     "text": [
      "<class 'pandas.core.frame.DataFrame'>\n",
      "RangeIndex: 535 entries, 0 to 534\n",
      "Data columns (total 11 columns):\n",
      " #   Column       Non-Null Count  Dtype  \n",
      "---  ------       --------------  -----  \n",
      " 0   Rank         535 non-null    int64  \n",
      " 1   D            535 non-null    float64\n",
      " 2   E            535 non-null    float64\n",
      " 3   ND           535 non-null    float64\n",
      " 4   Total        535 non-null    float64\n",
      " 5   year         535 non-null    int64  \n",
      " 6   medal        535 non-null    int64  \n",
      " 7   Name         535 non-null    int64  \n",
      " 8   Nation       535 non-null    int64  \n",
      " 9   round_final  535 non-null    bool   \n",
      " 10  round_qual   535 non-null    bool   \n",
      "dtypes: bool(2), float64(4), int64(5)\n",
      "memory usage: 38.8 KB\n"
     ]
    }
   ],
   "source": [
    "df_encoded.info()"
   ]
  },
  {
   "cell_type": "code",
   "execution_count": 17,
   "id": "c0b85bfa",
   "metadata": {},
   "outputs": [],
   "source": [
    "# df_encoded.to_csv('ph_encoded.csv', index=False)"
   ]
  },
  {
   "cell_type": "code",
   "execution_count": null,
   "id": "8498122a",
   "metadata": {},
   "outputs": [],
   "source": []
  }
 ],
 "metadata": {
  "kernelspec": {
   "display_name": "Python 3 (ipykernel)",
   "language": "python",
   "name": "python3"
  },
  "language_info": {
   "codemirror_mode": {
    "name": "ipython",
    "version": 3
   },
   "file_extension": ".py",
   "mimetype": "text/x-python",
   "name": "python",
   "nbconvert_exporter": "python",
   "pygments_lexer": "ipython3",
   "version": "3.9.12"
  }
 },
 "nbformat": 4,
 "nbformat_minor": 5
}
