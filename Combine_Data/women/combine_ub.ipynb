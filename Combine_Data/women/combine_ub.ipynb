{
 "cells": [
  {
   "cell_type": "code",
   "execution_count": 1,
   "id": "b4c03335",
   "metadata": {},
   "outputs": [],
   "source": [
    "import pandas as pd\n",
    "import numpy as np"
   ]
  },
  {
   "cell_type": "code",
   "execution_count": 5,
   "id": "f511282a",
   "metadata": {},
   "outputs": [],
   "source": []
  },
  {
   "cell_type": "code",
   "execution_count": 17,
   "id": "2a99f3cc",
   "metadata": {},
   "outputs": [],
   "source": [
    "clean_universiade2015fx= pd.read_csv('../../Cleaning/qual_events/women/clean_universiade2015fx.csv')\n",
    "pac16ub = pd.read_csv('../../Cleaning/qual_events/women/clean_pacific_rim2016ub.csv')\n",
    "bc15ub = pd.read_csv('../../Cleaning/qual_events/women/clean_british_championship2015ub.csv')\n",
    "jesolo15ub = pd.read_csv('../../Cleaning/qual_events/women/clean_jesolo2015ub.csv')\n",
    "wc13cott_ub = pd.read_csv('../../Cleaning/qual_events/women/clean_wc13cott_ub.csv')\n",
    "wc13doha_ub = pd.read_csv('../../Cleaning/qual_events/women/clean_wc14doha_ub.csv')\n",
    "wc15cott_ub = pd.read_csv('../../Cleaning/qual_events/women/clean_worldcup2015cott_ub.csv')\n",
    "wc19doha_ub = pd.read_csv('../../Cleaning/qual_events/women/clean_worldcup2019doha_ub.csv')\n",
    "eu20_ub = pd.read_csv('../../Cleaning/qual_events/women/euro2020ub.csv')\n",
    "uni19_ub = pd.read_csv('../../Cleaning/qual_events/women/uni2019ub.csv')\n",
    "# wc19melb_ub = pd.read_csv('../../Cleaning/qual_events/women/clean_worldcup2019melbourne_ub.csv')\n",
    "wc18jeso_ub = pd.read_csv('../../Cleaning/qual_events/women/clean_worldcup2018jesolo_ub.csv')\n",
    "ub_world_championship_w = pd.read_csv('../../Cleaning/World_Championships/ub_world_championship_w.csv')\n",
    "usopc_ub = pd.read_csv('../../Cleaning/USOPC/usopc_women_ub_october.csv')\n",
    "ub_euro_championship18 = pd.read_csv('../../Cleaning/qual_events/women/clean_european_championship2018ub.csv')\n",
    "ub_euro_championship21 = pd.read_csv('../../Cleaning/qual_events/women/clean_european_championship2021ub.csv')\n",
    "\n",
    "pam14am_ub = pd.read_csv('../../Cleaning/qual_events/women/clean_pan_american2014ub.csv')\n",
    "euro19games_ub= pd.read_csv('../../Cleaning/qual_events/women/clean_european_games2019ub.csv')\n",
    "\n",
    "clean_universiade2015ub= pd.read_csv('../../Cleaning/qual_events/women/clean_universiade2015ub.csv')\n",
    "clean_euro15champ_ub= pd.read_csv('../../Cleaning/qual_events/women/clean_euro15champ_ub.csv')\n"
   ]
  },
  {
   "cell_type": "code",
   "execution_count": 19,
   "id": "3dedf252",
   "metadata": {},
   "outputs": [],
   "source": [
    "eu20_ub.rename(columns={'Gymnast': 'Name', 'Position': 'Rank', 'Penalty': 'Pen.'}, inplace=True)\n",
    "uni19_ub['nation'] = uni19_ub['Athlete'].str.extract(r'\\((.*?)\\)')\n",
    "uni19_ub['Athlete'] = uni19_ub['Athlete'].str.replace(r'\\(.*?\\)', '', regex=True)\n",
    "uni19_ub['year']=2019\n",
    "eu20_ub['year']=2020\n",
    "eu20_ub['nation']='eu'\n",
    "uni19_ub.rename(columns={'Athlete': 'Name', }, inplace=True)\n",
    "uni19_ub['round']='final'\n",
    "eu20_ub['round']='final'\n",
    "\n"
   ]
  },
  {
   "cell_type": "code",
   "execution_count": 20,
   "id": "b937662e",
   "metadata": {},
   "outputs": [],
   "source": [
    "eu20_ub=eu20_ub[['Rank', 'Name', 'nation', 'D Score', 'E Score', 'Pen.', 'Total', 'year']]\n",
    "uni19_ub = uni19_ub[['Rank', 'Name', 'nation', 'D Score', 'E Score', 'Pen.', 'Total', 'year']]\n"
   ]
  },
  {
   "cell_type": "code",
   "execution_count": 21,
   "id": "f459219e",
   "metadata": {},
   "outputs": [],
   "source": [
    "wc19doha_ub.rename(columns={'Athlete': 'Name', \n",
    "                            'Nation': 'nation', 'D': 'D Score',\n",
    "                           'E': 'E Score', 'ND': 'Pen.'}, inplace=True)\n",
    "\n",
    "wc19doha_ub=wc19doha_ub[['Rank', 'Name', 'nation', 'D Score', 'E Score', 'Pen.', \n",
    "                         'Total','year' , 'round' ]]\n",
    "\n",
    "\n"
   ]
  },
  {
   "cell_type": "code",
   "execution_count": 22,
   "id": "32fbf0c2",
   "metadata": {},
   "outputs": [],
   "source": [
    "wc15cott_ub.rename(columns={'Athlete': 'Name', \n",
    "                            'Nation': 'nation', 'D': 'D Score',\n",
    "                           'E': 'E Score', 'ND': 'Pen.'}, inplace=True)\n",
    "wc15cott_ub=wc15cott_ub[['Rank', 'Name', 'nation', 'D Score', 'E Score', 'Pen.', \n",
    "                         'Total','year' , 'round' ]]"
   ]
  },
  {
   "cell_type": "code",
   "execution_count": 23,
   "id": "1f8dcc1f",
   "metadata": {},
   "outputs": [],
   "source": [
    "usopc_ub=usopc_ub.drop(columns=[\"Gender\", 'Competition', 'Apparatus', ])\n",
    "usopc_ub['year'] = usopc_ub['Date'].str[:4]\n",
    "usopc_ub=usopc_ub.drop(columns=[\"Date\"])"
   ]
  },
  {
   "cell_type": "code",
   "execution_count": 24,
   "id": "6d46db4e",
   "metadata": {},
   "outputs": [],
   "source": [
    "usopc_ub.rename(columns={'Country': 'nation', 'Round': 'round',\n",
    "                           'E_Score': 'E Score','D_Score': 'D Score', 'Penalty': 'Pen.',\n",
    "                        'Score': 'Total'}, inplace=True)\n",
    "\n",
    "usopc_ub=usopc_ub[['Rank', 'Name', 'nation', 'D Score', 'E Score', 'Pen.', \n",
    "                         'Total','year' , 'round' ]]"
   ]
  },
  {
   "cell_type": "code",
   "execution_count": 25,
   "id": "b426f217",
   "metadata": {},
   "outputs": [
    {
     "data": {
      "text/html": [
       "<div>\n",
       "<style scoped>\n",
       "    .dataframe tbody tr th:only-of-type {\n",
       "        vertical-align: middle;\n",
       "    }\n",
       "\n",
       "    .dataframe tbody tr th {\n",
       "        vertical-align: top;\n",
       "    }\n",
       "\n",
       "    .dataframe thead th {\n",
       "        text-align: right;\n",
       "    }\n",
       "</style>\n",
       "<table border=\"1\" class=\"dataframe\">\n",
       "  <thead>\n",
       "    <tr style=\"text-align: right;\">\n",
       "      <th></th>\n",
       "      <th>Rank</th>\n",
       "      <th>Name</th>\n",
       "      <th>nation</th>\n",
       "      <th>D Score</th>\n",
       "      <th>E Score</th>\n",
       "      <th>Pen.</th>\n",
       "      <th>Total</th>\n",
       "      <th>year</th>\n",
       "    </tr>\n",
       "  </thead>\n",
       "  <tbody>\n",
       "    <tr>\n",
       "      <th>0</th>\n",
       "      <td>1</td>\n",
       "      <td>Zsófia Kóvacs</td>\n",
       "      <td>eu</td>\n",
       "      <td>5.7</td>\n",
       "      <td>8.15</td>\n",
       "      <td>0.0</td>\n",
       "      <td>13.85</td>\n",
       "      <td>2020</td>\n",
       "    </tr>\n",
       "  </tbody>\n",
       "</table>\n",
       "</div>"
      ],
      "text/plain": [
       "   Rank           Name nation  D Score  E Score  Pen.  Total  year\n",
       "0     1  Zsófia Kóvacs     eu      5.7     8.15   0.0  13.85  2020"
      ]
     },
     "execution_count": 25,
     "metadata": {},
     "output_type": "execute_result"
    }
   ],
   "source": [
    "eu20_ub.head(1)"
   ]
  },
  {
   "cell_type": "code",
   "execution_count": 26,
   "id": "05ba80a8",
   "metadata": {},
   "outputs": [],
   "source": [
    "combined_df = pd.concat([usopc_ub, wc15cott_ub, wc19doha_ub, eu20_ub, uni19_ub], axis=0)"
   ]
  },
  {
   "cell_type": "code",
   "execution_count": 27,
   "id": "00e552c0",
   "metadata": {},
   "outputs": [],
   "source": [
    "ub = combined_df.copy()"
   ]
  },
  {
   "cell_type": "code",
   "execution_count": 28,
   "id": "08d34187",
   "metadata": {},
   "outputs": [],
   "source": [
    "column_name_mapping = {\n",
    "    'Athlete': 'Name',\n",
    "    'Nation': 'nation',\n",
    "    'D': 'D Score',\n",
    "    'E': 'E Score',\n",
    "    'ND': 'Pen.',\n",
    "    'Score': 'Total'\n",
    "}\n",
    "\n",
    "wc13doha_ub.rename(columns=column_name_mapping, inplace=True)"
   ]
  },
  {
   "cell_type": "code",
   "execution_count": 29,
   "id": "02a036b2",
   "metadata": {},
   "outputs": [],
   "source": [
    "desired_column_order = ['Rank', 'Name', 'nation', 'D Score', 'E Score', 'Pen.', 'Total', 'year',\n",
    "       'round']\n",
    "\n",
    "wc13doha_ub = wc13doha_ub[desired_column_order]\n"
   ]
  },
  {
   "cell_type": "code",
   "execution_count": 30,
   "id": "0cb7acae",
   "metadata": {},
   "outputs": [],
   "source": [
    "column_name_mapping = {\n",
    "    'Athlete': 'Name',\n",
    "    'Nation': 'nation',\n",
    "    'D': 'D Score',\n",
    "    'E': 'E Score',\n",
    "    'ND': 'Pen.',\n",
    "    'Score': 'Total'\n",
    "}\n",
    "\n",
    "wc13cott_ub.rename(columns=column_name_mapping, inplace=True)\n",
    "\n"
   ]
  },
  {
   "cell_type": "code",
   "execution_count": 31,
   "id": "c19a6b11",
   "metadata": {},
   "outputs": [],
   "source": [
    "desired_column_order = ['Rank', 'Name', 'nation', 'D Score', 'E Score', 'Pen.', 'Total', 'year',\n",
    "       'round']\n",
    "\n",
    "wc13cott_ub = wc13cott_ub[desired_column_order]\n"
   ]
  },
  {
   "cell_type": "code",
   "execution_count": 32,
   "id": "06970891",
   "metadata": {},
   "outputs": [],
   "source": [
    "ub = pd.concat([ub, wc13doha_ub,wc13cott_ub])"
   ]
  },
  {
   "cell_type": "code",
   "execution_count": 33,
   "id": "00b52f7c",
   "metadata": {},
   "outputs": [],
   "source": [
    "def rename_columns(dataframe):\n",
    "    column_name_mapping = {\n",
    "        'Athlete': 'Name',\n",
    "        'Gymnast': 'Name',\n",
    "        'Nation': 'nation',\n",
    "        'D': 'D Score',\n",
    "        'E': 'E Score',\n",
    "        'ND': 'Pen.',\n",
    "        'Score': 'Total',\n",
    "        'Position': 'Rank'\n",
    "    }\n",
    "\n",
    "    return dataframe.rename(columns=column_name_mapping, inplace=True)\n"
   ]
  },
  {
   "cell_type": "code",
   "execution_count": 34,
   "id": "ebdcdf30",
   "metadata": {},
   "outputs": [],
   "source": [
    "rename_columns(wc19melb_ub)"
   ]
  },
  {
   "cell_type": "code",
   "execution_count": 35,
   "id": "6b75f988",
   "metadata": {},
   "outputs": [],
   "source": [
    "def reorder_columns(dataframe):\n",
    "    desired_column_order = ['Rank', 'Name', 'nation', 'D Score', 'E Score', 'Pen.', 'Total', 'year', 'round']\n",
    "\n",
    "    return dataframe[desired_column_order]\n",
    "\n"
   ]
  },
  {
   "cell_type": "code",
   "execution_count": 36,
   "id": "36dcd835",
   "metadata": {},
   "outputs": [],
   "source": [
    "wc19melb_ub = reorder_columns(wc19melb_ub)"
   ]
  },
  {
   "cell_type": "markdown",
   "id": "f2fe89da",
   "metadata": {},
   "source": [
    "# Functions\n",
    "\n",
    "\n",
    "- rename_columns(wc19melb_ub)\n",
    "\n",
    "- wc19melb_ub = reorder_columns(wc19melb_ub)"
   ]
  },
  {
   "cell_type": "code",
   "execution_count": 37,
   "id": "6c3db304",
   "metadata": {},
   "outputs": [],
   "source": [
    "wc18jeso_ub['year']=2018\n",
    "wc18jeso_ub['round']='final'"
   ]
  },
  {
   "cell_type": "code",
   "execution_count": 38,
   "id": "eca2f6f8",
   "metadata": {},
   "outputs": [
    {
     "data": {
      "text/html": [
       "<div>\n",
       "<style scoped>\n",
       "    .dataframe tbody tr th:only-of-type {\n",
       "        vertical-align: middle;\n",
       "    }\n",
       "\n",
       "    .dataframe tbody tr th {\n",
       "        vertical-align: top;\n",
       "    }\n",
       "\n",
       "    .dataframe thead th {\n",
       "        text-align: right;\n",
       "    }\n",
       "</style>\n",
       "<table border=\"1\" class=\"dataframe\">\n",
       "  <thead>\n",
       "    <tr style=\"text-align: right;\">\n",
       "      <th></th>\n",
       "      <th>Rank</th>\n",
       "      <th>Athlete</th>\n",
       "      <th>Nation</th>\n",
       "      <th>D</th>\n",
       "      <th>E</th>\n",
       "      <th>ND</th>\n",
       "      <th>Total</th>\n",
       "      <th>year</th>\n",
       "      <th>round</th>\n",
       "    </tr>\n",
       "  </thead>\n",
       "  <tbody>\n",
       "    <tr>\n",
       "      <th>0</th>\n",
       "      <td>1</td>\n",
       "      <td>Anastasia Iliankova</td>\n",
       "      <td>RUS</td>\n",
       "      <td>6.1</td>\n",
       "      <td>8.500</td>\n",
       "      <td>0.0</td>\n",
       "      <td>14.600</td>\n",
       "      <td>2018</td>\n",
       "      <td>final</td>\n",
       "    </tr>\n",
       "    <tr>\n",
       "      <th>1</th>\n",
       "      <td>2</td>\n",
       "      <td>Ragan Smith</td>\n",
       "      <td>USA</td>\n",
       "      <td>6.0</td>\n",
       "      <td>8.567</td>\n",
       "      <td>0.0</td>\n",
       "      <td>14.567</td>\n",
       "      <td>2018</td>\n",
       "      <td>final</td>\n",
       "    </tr>\n",
       "    <tr>\n",
       "      <th>2</th>\n",
       "      <td>3</td>\n",
       "      <td>Angelina Melnikova</td>\n",
       "      <td>RUS</td>\n",
       "      <td>5.9</td>\n",
       "      <td>8.433</td>\n",
       "      <td>0.0</td>\n",
       "      <td>14.333</td>\n",
       "      <td>2018</td>\n",
       "      <td>final</td>\n",
       "    </tr>\n",
       "    <tr>\n",
       "      <th>3</th>\n",
       "      <td>4</td>\n",
       "      <td>Alyona Shchennikova</td>\n",
       "      <td>USA</td>\n",
       "      <td>6.0</td>\n",
       "      <td>8.167</td>\n",
       "      <td>0.0</td>\n",
       "      <td>14.167</td>\n",
       "      <td>2018</td>\n",
       "      <td>final</td>\n",
       "    </tr>\n",
       "    <tr>\n",
       "      <th>4</th>\n",
       "      <td>5</td>\n",
       "      <td>Lorette Charpy</td>\n",
       "      <td>FRA</td>\n",
       "      <td>5.5</td>\n",
       "      <td>8.100</td>\n",
       "      <td>0.0</td>\n",
       "      <td>13.600</td>\n",
       "      <td>2018</td>\n",
       "      <td>final</td>\n",
       "    </tr>\n",
       "    <tr>\n",
       "      <th>5</th>\n",
       "      <td>6</td>\n",
       "      <td>Jade Barbosa</td>\n",
       "      <td>BRA</td>\n",
       "      <td>5.5</td>\n",
       "      <td>8.033</td>\n",
       "      <td>0.0</td>\n",
       "      <td>13.533</td>\n",
       "      <td>2018</td>\n",
       "      <td>final</td>\n",
       "    </tr>\n",
       "    <tr>\n",
       "      <th>6</th>\n",
       "      <td>7</td>\n",
       "      <td>Giada Grisetti</td>\n",
       "      <td>ITA</td>\n",
       "      <td>5.7</td>\n",
       "      <td>7.800</td>\n",
       "      <td>0.0</td>\n",
       "      <td>13.500</td>\n",
       "      <td>2018</td>\n",
       "      <td>final</td>\n",
       "    </tr>\n",
       "    <tr>\n",
       "      <th>7</th>\n",
       "      <td>8</td>\n",
       "      <td>Guo Fangting</td>\n",
       "      <td>CHN</td>\n",
       "      <td>4.7</td>\n",
       "      <td>8.033</td>\n",
       "      <td>0.0</td>\n",
       "      <td>12.733</td>\n",
       "      <td>2018</td>\n",
       "      <td>final</td>\n",
       "    </tr>\n",
       "  </tbody>\n",
       "</table>\n",
       "</div>"
      ],
      "text/plain": [
       "   Rank              Athlete Nation    D      E   ND   Total  year  round\n",
       "0     1  Anastasia Iliankova    RUS  6.1  8.500  0.0  14.600  2018  final\n",
       "1     2          Ragan Smith    USA  6.0  8.567  0.0  14.567  2018  final\n",
       "2     3   Angelina Melnikova    RUS  5.9  8.433  0.0  14.333  2018  final\n",
       "3     4  Alyona Shchennikova    USA  6.0  8.167  0.0  14.167  2018  final\n",
       "4     5       Lorette Charpy    FRA  5.5  8.100  0.0  13.600  2018  final\n",
       "5     6         Jade Barbosa    BRA  5.5  8.033  0.0  13.533  2018  final\n",
       "6     7       Giada Grisetti    ITA  5.7  7.800  0.0  13.500  2018  final\n",
       "7     8         Guo Fangting    CHN  4.7  8.033  0.0  12.733  2018  final"
      ]
     },
     "execution_count": 38,
     "metadata": {},
     "output_type": "execute_result"
    }
   ],
   "source": [
    "wc18jeso_ub"
   ]
  },
  {
   "cell_type": "code",
   "execution_count": 39,
   "id": "c90acb8a",
   "metadata": {},
   "outputs": [],
   "source": [
    "rename_columns(wc18jeso_ub)"
   ]
  },
  {
   "cell_type": "code",
   "execution_count": 40,
   "id": "a3e3feb3",
   "metadata": {},
   "outputs": [],
   "source": [
    "wc18jeso_ub = reorder_columns(wc18jeso_ub)"
   ]
  },
  {
   "cell_type": "code",
   "execution_count": 41,
   "id": "d0208ee2",
   "metadata": {},
   "outputs": [],
   "source": [
    "combined_df = pd.concat([ub, wc19melb_ub,wc18jeso_ub])"
   ]
  },
  {
   "cell_type": "code",
   "execution_count": 42,
   "id": "65adc23f",
   "metadata": {},
   "outputs": [],
   "source": [
    "ub = combined_df.copy()"
   ]
  },
  {
   "cell_type": "code",
   "execution_count": 43,
   "id": "bd15b2b0",
   "metadata": {},
   "outputs": [],
   "source": [
    "rename_columns(ub_world_championship_w)"
   ]
  },
  {
   "cell_type": "code",
   "execution_count": 44,
   "id": "333aea7e",
   "metadata": {},
   "outputs": [],
   "source": [
    "ub_world_championship_w = reorder_columns(ub_world_championship_w)"
   ]
  },
  {
   "cell_type": "code",
   "execution_count": 45,
   "id": "e670bc01",
   "metadata": {},
   "outputs": [],
   "source": [
    "rename_columns(pac16ub)"
   ]
  },
  {
   "cell_type": "code",
   "execution_count": 46,
   "id": "50297291",
   "metadata": {},
   "outputs": [],
   "source": [
    "pac16ub = reorder_columns(pac16ub)"
   ]
  },
  {
   "cell_type": "code",
   "execution_count": 47,
   "id": "a4b862ef",
   "metadata": {},
   "outputs": [],
   "source": [
    "rename_columns(jesolo15ub)"
   ]
  },
  {
   "cell_type": "code",
   "execution_count": 48,
   "id": "07d546f3",
   "metadata": {},
   "outputs": [],
   "source": [
    "jesolo15ub = reorder_columns(jesolo15ub)"
   ]
  },
  {
   "cell_type": "code",
   "execution_count": 49,
   "id": "7aa356ae",
   "metadata": {},
   "outputs": [],
   "source": [
    "rename_columns(bc15ub)"
   ]
  },
  {
   "cell_type": "code",
   "execution_count": 50,
   "id": "f2633253",
   "metadata": {},
   "outputs": [],
   "source": [
    "bc15ub = reorder_columns(bc15ub)"
   ]
  },
  {
   "cell_type": "code",
   "execution_count": 51,
   "id": "d1d09fa1",
   "metadata": {},
   "outputs": [],
   "source": [
    "combined_df = pd.concat([ub, ub_world_championship_w,pac16ub,jesolo15ub,bc15ub])"
   ]
  },
  {
   "cell_type": "code",
   "execution_count": 52,
   "id": "c4f498eb",
   "metadata": {},
   "outputs": [],
   "source": [
    "ub=combined_df.copy()"
   ]
  },
  {
   "cell_type": "code",
   "execution_count": 53,
   "id": "138b1875",
   "metadata": {},
   "outputs": [
    {
     "name": "stdout",
     "output_type": "stream",
     "text": [
      "<class 'pandas.core.frame.DataFrame'>\n",
      "Index: 1977 entries, 0 to 7\n",
      "Data columns (total 9 columns):\n",
      " #   Column   Non-Null Count  Dtype  \n",
      "---  ------   --------------  -----  \n",
      " 0   Rank     1977 non-null   float64\n",
      " 1   Name     1977 non-null   object \n",
      " 2   nation   1953 non-null   object \n",
      " 3   D Score  1977 non-null   float64\n",
      " 4   E Score  1977 non-null   float64\n",
      " 5   Pen.     1969 non-null   float64\n",
      " 6   Total    1977 non-null   float64\n",
      " 7   year     1977 non-null   object \n",
      " 8   round    1961 non-null   object \n",
      "dtypes: float64(5), object(4)\n",
      "memory usage: 154.5+ KB\n"
     ]
    }
   ],
   "source": [
    "ub.info()"
   ]
  },
  {
   "cell_type": "code",
   "execution_count": 54,
   "id": "fd771dae",
   "metadata": {},
   "outputs": [
    {
     "data": {
      "text/plain": [
       "40"
      ]
     },
     "execution_count": 54,
     "metadata": {},
     "output_type": "execute_result"
    }
   ],
   "source": [
    "ub.duplicated().sum()"
   ]
  },
  {
   "cell_type": "code",
   "execution_count": 55,
   "id": "e52ae764",
   "metadata": {},
   "outputs": [],
   "source": [
    "# Find and display all duplicate rows\n",
    "duplicates =ub[ub.duplicated(keep=False)]\n",
    "\n"
   ]
  },
  {
   "cell_type": "code",
   "execution_count": 56,
   "id": "b87c39e4",
   "metadata": {},
   "outputs": [],
   "source": [
    "ub = ub.drop_duplicates()"
   ]
  },
  {
   "cell_type": "code",
   "execution_count": 57,
   "id": "e580f54a",
   "metadata": {},
   "outputs": [
    {
     "name": "stdout",
     "output_type": "stream",
     "text": [
      "<class 'pandas.core.frame.DataFrame'>\n",
      "Index: 1937 entries, 0 to 7\n",
      "Data columns (total 9 columns):\n",
      " #   Column   Non-Null Count  Dtype  \n",
      "---  ------   --------------  -----  \n",
      " 0   Rank     1937 non-null   float64\n",
      " 1   Name     1937 non-null   object \n",
      " 2   nation   1913 non-null   object \n",
      " 3   D Score  1937 non-null   float64\n",
      " 4   E Score  1937 non-null   float64\n",
      " 5   Pen.     1929 non-null   float64\n",
      " 6   Total    1937 non-null   float64\n",
      " 7   year     1937 non-null   object \n",
      " 8   round    1921 non-null   object \n",
      "dtypes: float64(5), object(4)\n",
      "memory usage: 151.3+ KB\n"
     ]
    }
   ],
   "source": [
    "ub.info()"
   ]
  },
  {
   "cell_type": "code",
   "execution_count": 58,
   "id": "612c5dc1",
   "metadata": {},
   "outputs": [],
   "source": [
    "ub['Pen.'].fillna(0, inplace=True)"
   ]
  },
  {
   "cell_type": "code",
   "execution_count": 59,
   "id": "0342ef9b",
   "metadata": {},
   "outputs": [],
   "source": [
    "ub['round'].fillna('unknown', inplace=True)\n",
    "ub['nation'].fillna('unknown', inplace=True)\n"
   ]
  },
  {
   "cell_type": "code",
   "execution_count": 60,
   "id": "2c21ac09",
   "metadata": {},
   "outputs": [
    {
     "name": "stdout",
     "output_type": "stream",
     "text": [
      "<class 'pandas.core.frame.DataFrame'>\n",
      "Index: 1937 entries, 0 to 7\n",
      "Data columns (total 9 columns):\n",
      " #   Column   Non-Null Count  Dtype  \n",
      "---  ------   --------------  -----  \n",
      " 0   Rank     1937 non-null   float64\n",
      " 1   Name     1937 non-null   object \n",
      " 2   nation   1937 non-null   object \n",
      " 3   D Score  1937 non-null   float64\n",
      " 4   E Score  1937 non-null   float64\n",
      " 5   Pen.     1937 non-null   float64\n",
      " 6   Total    1937 non-null   float64\n",
      " 7   year     1937 non-null   object \n",
      " 8   round    1937 non-null   object \n",
      "dtypes: float64(5), object(4)\n",
      "memory usage: 151.3+ KB\n"
     ]
    }
   ],
   "source": [
    "ub.info()"
   ]
  },
  {
   "cell_type": "code",
   "execution_count": 61,
   "id": "0b94102d",
   "metadata": {},
   "outputs": [
    {
     "data": {
      "text/html": [
       "<div>\n",
       "<style scoped>\n",
       "    .dataframe tbody tr th:only-of-type {\n",
       "        vertical-align: middle;\n",
       "    }\n",
       "\n",
       "    .dataframe tbody tr th {\n",
       "        vertical-align: top;\n",
       "    }\n",
       "\n",
       "    .dataframe thead th {\n",
       "        text-align: right;\n",
       "    }\n",
       "</style>\n",
       "<table border=\"1\" class=\"dataframe\">\n",
       "  <thead>\n",
       "    <tr style=\"text-align: right;\">\n",
       "      <th></th>\n",
       "      <th>Rank</th>\n",
       "      <th>Name</th>\n",
       "      <th>nation</th>\n",
       "      <th>D Score</th>\n",
       "      <th>E Score</th>\n",
       "      <th>Pen.</th>\n",
       "      <th>Total</th>\n",
       "      <th>year</th>\n",
       "      <th>round</th>\n",
       "    </tr>\n",
       "  </thead>\n",
       "  <tbody>\n",
       "    <tr>\n",
       "      <th>0</th>\n",
       "      <td>52.0</td>\n",
       "      <td>Jana ABDELSALAM</td>\n",
       "      <td>EGY</td>\n",
       "      <td>4.8</td>\n",
       "      <td>8.0</td>\n",
       "      <td>0.0</td>\n",
       "      <td>12.8</td>\n",
       "      <td>2022</td>\n",
       "      <td>qual</td>\n",
       "    </tr>\n",
       "  </tbody>\n",
       "</table>\n",
       "</div>"
      ],
      "text/plain": [
       "   Rank             Name nation  D Score  E Score  Pen.  Total  year round\n",
       "0  52.0  Jana ABDELSALAM    EGY      4.8      8.0   0.0   12.8  2022  qual"
      ]
     },
     "execution_count": 61,
     "metadata": {},
     "output_type": "execute_result"
    }
   ],
   "source": [
    "ub.head(1)"
   ]
  },
  {
   "cell_type": "code",
   "execution_count": 62,
   "id": "45a25a3f",
   "metadata": {},
   "outputs": [
    {
     "data": {
      "text/html": [
       "<div>\n",
       "<style scoped>\n",
       "    .dataframe tbody tr th:only-of-type {\n",
       "        vertical-align: middle;\n",
       "    }\n",
       "\n",
       "    .dataframe tbody tr th {\n",
       "        vertical-align: top;\n",
       "    }\n",
       "\n",
       "    .dataframe thead th {\n",
       "        text-align: right;\n",
       "    }\n",
       "</style>\n",
       "<table border=\"1\" class=\"dataframe\">\n",
       "  <thead>\n",
       "    <tr style=\"text-align: right;\">\n",
       "      <th></th>\n",
       "      <th>Rank</th>\n",
       "      <th>Athlete</th>\n",
       "      <th>Nation</th>\n",
       "      <th>D</th>\n",
       "      <th>E</th>\n",
       "      <th>ND</th>\n",
       "      <th>Total</th>\n",
       "      <th>year</th>\n",
       "      <th>round</th>\n",
       "    </tr>\n",
       "  </thead>\n",
       "  <tbody>\n",
       "    <tr>\n",
       "      <th>0</th>\n",
       "      <td>1</td>\n",
       "      <td>Angelina Melnikova</td>\n",
       "      <td>RUS</td>\n",
       "      <td>6.2</td>\n",
       "      <td>8.3</td>\n",
       "      <td>0.0</td>\n",
       "      <td>14.5</td>\n",
       "      <td>2021</td>\n",
       "      <td>final</td>\n",
       "    </tr>\n",
       "  </tbody>\n",
       "</table>\n",
       "</div>"
      ],
      "text/plain": [
       "   Rank             Athlete Nation    D    E   ND  Total  year  round\n",
       "0     1  Angelina Melnikova    RUS  6.2  8.3  0.0   14.5  2021  final"
      ]
     },
     "execution_count": 62,
     "metadata": {},
     "output_type": "execute_result"
    }
   ],
   "source": [
    "ub_euro_championship18.head(1)"
   ]
  },
  {
   "cell_type": "code",
   "execution_count": 63,
   "id": "07b3c45e",
   "metadata": {},
   "outputs": [],
   "source": [
    "rename_columns(ub_euro_championship18)\n"
   ]
  },
  {
   "cell_type": "code",
   "execution_count": 64,
   "id": "0047c685",
   "metadata": {},
   "outputs": [],
   "source": [
    "ub_euro_championship18 = reorder_columns(ub_euro_championship18)"
   ]
  },
  {
   "cell_type": "code",
   "execution_count": 65,
   "id": "0e3d0fdc",
   "metadata": {},
   "outputs": [],
   "source": [
    "rename_columns(ub_euro_championship21)\n"
   ]
  },
  {
   "cell_type": "code",
   "execution_count": 66,
   "id": "69fba957",
   "metadata": {},
   "outputs": [],
   "source": [
    "ub_euro_championship21 = reorder_columns(ub_euro_championship21)"
   ]
  },
  {
   "cell_type": "code",
   "execution_count": 67,
   "id": "4a0dd3d3",
   "metadata": {},
   "outputs": [],
   "source": [
    "combined_df = pd.concat([ub, ub_euro_championship21,ub_euro_championship18])\n"
   ]
  },
  {
   "cell_type": "code",
   "execution_count": 68,
   "id": "69582436",
   "metadata": {},
   "outputs": [],
   "source": [
    "ub = combined_df.copy()"
   ]
  },
  {
   "cell_type": "code",
   "execution_count": 69,
   "id": "0fdf60cf",
   "metadata": {},
   "outputs": [
    {
     "name": "stdout",
     "output_type": "stream",
     "text": [
      "<class 'pandas.core.frame.DataFrame'>\n",
      "Index: 2137 entries, 0 to 103\n",
      "Data columns (total 9 columns):\n",
      " #   Column   Non-Null Count  Dtype  \n",
      "---  ------   --------------  -----  \n",
      " 0   Rank     2137 non-null   float64\n",
      " 1   Name     2137 non-null   object \n",
      " 2   nation   2137 non-null   object \n",
      " 3   D Score  2137 non-null   float64\n",
      " 4   E Score  2137 non-null   float64\n",
      " 5   Pen.     1956 non-null   float64\n",
      " 6   Total    2137 non-null   float64\n",
      " 7   year     2137 non-null   object \n",
      " 8   round    2137 non-null   object \n",
      "dtypes: float64(5), object(4)\n",
      "memory usage: 167.0+ KB\n"
     ]
    }
   ],
   "source": [
    "ub.info()"
   ]
  },
  {
   "cell_type": "code",
   "execution_count": 70,
   "id": "583cb6c7",
   "metadata": {},
   "outputs": [],
   "source": [
    "ub['Pen.'].fillna(0,inplace=True)"
   ]
  },
  {
   "cell_type": "code",
   "execution_count": 71,
   "id": "61f66d56",
   "metadata": {},
   "outputs": [
    {
     "data": {
      "text/html": [
       "<div>\n",
       "<style scoped>\n",
       "    .dataframe tbody tr th:only-of-type {\n",
       "        vertical-align: middle;\n",
       "    }\n",
       "\n",
       "    .dataframe tbody tr th {\n",
       "        vertical-align: top;\n",
       "    }\n",
       "\n",
       "    .dataframe thead th {\n",
       "        text-align: right;\n",
       "    }\n",
       "</style>\n",
       "<table border=\"1\" class=\"dataframe\">\n",
       "  <thead>\n",
       "    <tr style=\"text-align: right;\">\n",
       "      <th></th>\n",
       "      <th>Rank</th>\n",
       "      <th>Name</th>\n",
       "      <th>nation</th>\n",
       "      <th>D Score</th>\n",
       "      <th>E Score</th>\n",
       "      <th>Pen.</th>\n",
       "      <th>Total</th>\n",
       "      <th>year</th>\n",
       "      <th>round</th>\n",
       "    </tr>\n",
       "  </thead>\n",
       "  <tbody>\n",
       "    <tr>\n",
       "      <th>10</th>\n",
       "      <td>3.0</td>\n",
       "      <td>Aliya Mustafina</td>\n",
       "      <td>RUS</td>\n",
       "      <td>6.5</td>\n",
       "      <td>8.533</td>\n",
       "      <td>0.0</td>\n",
       "      <td>15.033</td>\n",
       "      <td>2013</td>\n",
       "      <td>final</td>\n",
       "    </tr>\n",
       "    <tr>\n",
       "      <th>21</th>\n",
       "      <td>6.0</td>\n",
       "      <td>Aliya Mustafina</td>\n",
       "      <td>RUS</td>\n",
       "      <td>6.3</td>\n",
       "      <td>8.800</td>\n",
       "      <td>0.0</td>\n",
       "      <td>15.100</td>\n",
       "      <td>2014</td>\n",
       "      <td>final</td>\n",
       "    </tr>\n",
       "    <tr>\n",
       "      <th>44</th>\n",
       "      <td>5.0</td>\n",
       "      <td>Aliya Mustafina</td>\n",
       "      <td>unknown</td>\n",
       "      <td>5.8</td>\n",
       "      <td>8.633</td>\n",
       "      <td>0.0</td>\n",
       "      <td>14.433</td>\n",
       "      <td>2018</td>\n",
       "      <td>final</td>\n",
       "    </tr>\n",
       "  </tbody>\n",
       "</table>\n",
       "</div>"
      ],
      "text/plain": [
       "    Rank             Name   nation  D Score  E Score  Pen.   Total  year  \\\n",
       "10   3.0  Aliya Mustafina      RUS      6.5    8.533   0.0  15.033  2013   \n",
       "21   6.0  Aliya Mustafina      RUS      6.3    8.800   0.0  15.100  2014   \n",
       "44   5.0  Aliya Mustafina  unknown      5.8    8.633   0.0  14.433  2018   \n",
       "\n",
       "    round  \n",
       "10  final  \n",
       "21  final  \n",
       "44  final  "
      ]
     },
     "execution_count": 71,
     "metadata": {},
     "output_type": "execute_result"
    }
   ],
   "source": [
    "ub[ub['Name']== 'Aliya Mustafina']"
   ]
  },
  {
   "cell_type": "code",
   "execution_count": 72,
   "id": "77f8ebdc",
   "metadata": {},
   "outputs": [],
   "source": [
    "rename_columns(pam14am_ub)\n",
    "pam14am_ub = reorder_columns(pam14am_ub)"
   ]
  },
  {
   "cell_type": "code",
   "execution_count": 73,
   "id": "21b8ee35",
   "metadata": {},
   "outputs": [],
   "source": [
    "rename_columns(euro19games_ub)\n",
    "euro19games_ub = reorder_columns(euro19games_ub)"
   ]
  },
  {
   "cell_type": "code",
   "execution_count": 74,
   "id": "4630066f",
   "metadata": {},
   "outputs": [],
   "source": [
    "combined_df = pd.concat([ub, pam14am_ub, euro19games_ub])\n"
   ]
  },
  {
   "cell_type": "code",
   "execution_count": 75,
   "id": "98cf29bb",
   "metadata": {},
   "outputs": [],
   "source": [
    "ub = combined_df.copy()"
   ]
  },
  {
   "cell_type": "code",
   "execution_count": 76,
   "id": "25002b2b",
   "metadata": {},
   "outputs": [
    {
     "data": {
      "text/plain": [
       "0"
      ]
     },
     "execution_count": 76,
     "metadata": {},
     "output_type": "execute_result"
    }
   ],
   "source": [
    "ub.duplicated().sum()"
   ]
  },
  {
   "cell_type": "code",
   "execution_count": 77,
   "id": "9ac1ccbc",
   "metadata": {},
   "outputs": [],
   "source": [
    "# clean_universiade2015ub\n",
    "# clean_euro15champ_ub"
   ]
  },
  {
   "cell_type": "code",
   "execution_count": 78,
   "id": "58eefd55",
   "metadata": {},
   "outputs": [],
   "source": [
    "rename_columns(clean_universiade2015ub)\n",
    "clean_universiade2015ub = reorder_columns(clean_universiade2015ub)"
   ]
  },
  {
   "cell_type": "code",
   "execution_count": 79,
   "id": "21a53863",
   "metadata": {},
   "outputs": [],
   "source": [
    "rename_columns(clean_euro15champ_ub)\n",
    "clean_euro15champ_ub = reorder_columns(clean_euro15champ_ub)"
   ]
  },
  {
   "cell_type": "code",
   "execution_count": 80,
   "id": "92f33d48",
   "metadata": {},
   "outputs": [],
   "source": [
    "combined_df = pd.concat([ub, clean_universiade2015ub, clean_euro15champ_ub])\n"
   ]
  },
  {
   "cell_type": "code",
   "execution_count": 81,
   "id": "8b7a60e3",
   "metadata": {},
   "outputs": [],
   "source": [
    "ub = combined_df.copy()"
   ]
  },
  {
   "cell_type": "code",
   "execution_count": 82,
   "id": "23060bbd",
   "metadata": {},
   "outputs": [
    {
     "data": {
      "text/plain": [
       "0"
      ]
     },
     "execution_count": 82,
     "metadata": {},
     "output_type": "execute_result"
    }
   ],
   "source": [
    "ub.duplicated().sum()"
   ]
  },
  {
   "cell_type": "code",
   "execution_count": 83,
   "id": "9b8a5991",
   "metadata": {},
   "outputs": [],
   "source": [
    "# ub.to_csv('ub_w.csv', index=False)"
   ]
  },
  {
   "cell_type": "code",
   "execution_count": 84,
   "id": "3bba9e1b",
   "metadata": {},
   "outputs": [
    {
     "data": {
      "text/html": [
       "<div>\n",
       "<style scoped>\n",
       "    .dataframe tbody tr th:only-of-type {\n",
       "        vertical-align: middle;\n",
       "    }\n",
       "\n",
       "    .dataframe tbody tr th {\n",
       "        vertical-align: top;\n",
       "    }\n",
       "\n",
       "    .dataframe thead th {\n",
       "        text-align: right;\n",
       "    }\n",
       "</style>\n",
       "<table border=\"1\" class=\"dataframe\">\n",
       "  <thead>\n",
       "    <tr style=\"text-align: right;\">\n",
       "      <th></th>\n",
       "      <th>Rank</th>\n",
       "      <th>Name</th>\n",
       "      <th>nation</th>\n",
       "      <th>D Score</th>\n",
       "      <th>E Score</th>\n",
       "      <th>Pen.</th>\n",
       "      <th>Total</th>\n",
       "      <th>year</th>\n",
       "      <th>round</th>\n",
       "    </tr>\n",
       "  </thead>\n",
       "  <tbody>\n",
       "    <tr>\n",
       "      <th>0</th>\n",
       "      <td>52.0</td>\n",
       "      <td>Jana ABDELSALAM</td>\n",
       "      <td>EGY</td>\n",
       "      <td>4.8</td>\n",
       "      <td>8.000</td>\n",
       "      <td>0.0</td>\n",
       "      <td>12.800</td>\n",
       "      <td>2022</td>\n",
       "      <td>qual</td>\n",
       "    </tr>\n",
       "    <tr>\n",
       "      <th>1</th>\n",
       "      <td>6.0</td>\n",
       "      <td>Jana ABDELSALAM</td>\n",
       "      <td>EGY</td>\n",
       "      <td>4.6</td>\n",
       "      <td>6.266</td>\n",
       "      <td>0.0</td>\n",
       "      <td>10.866</td>\n",
       "      <td>2022</td>\n",
       "      <td>final</td>\n",
       "    </tr>\n",
       "    <tr>\n",
       "      <th>2</th>\n",
       "      <td>7.0</td>\n",
       "      <td>Jana ABDELSALAM</td>\n",
       "      <td>EGY</td>\n",
       "      <td>4.6</td>\n",
       "      <td>6.633</td>\n",
       "      <td>0.0</td>\n",
       "      <td>11.233</td>\n",
       "      <td>2022</td>\n",
       "      <td>qual</td>\n",
       "    </tr>\n",
       "    <tr>\n",
       "      <th>3</th>\n",
       "      <td>152.0</td>\n",
       "      <td>Jana ABDELSALAM</td>\n",
       "      <td>EGY</td>\n",
       "      <td>3.8</td>\n",
       "      <td>4.433</td>\n",
       "      <td>0.0</td>\n",
       "      <td>8.233</td>\n",
       "      <td>2023</td>\n",
       "      <td>qual</td>\n",
       "    </tr>\n",
       "    <tr>\n",
       "      <th>4</th>\n",
       "      <td>29.0</td>\n",
       "      <td>Jana ABDELSALAM</td>\n",
       "      <td>EGY</td>\n",
       "      <td>4.5</td>\n",
       "      <td>6.266</td>\n",
       "      <td>0.0</td>\n",
       "      <td>10.766</td>\n",
       "      <td>2023</td>\n",
       "      <td>qual</td>\n",
       "    </tr>\n",
       "    <tr>\n",
       "      <th>...</th>\n",
       "      <td>...</td>\n",
       "      <td>...</td>\n",
       "      <td>...</td>\n",
       "      <td>...</td>\n",
       "      <td>...</td>\n",
       "      <td>...</td>\n",
       "      <td>...</td>\n",
       "      <td>...</td>\n",
       "      <td>...</td>\n",
       "    </tr>\n",
       "    <tr>\n",
       "      <th>88</th>\n",
       "      <td>81.0</td>\n",
       "      <td>Mia Haerum</td>\n",
       "      <td>NOR</td>\n",
       "      <td>1.2</td>\n",
       "      <td>7.566</td>\n",
       "      <td>0.0</td>\n",
       "      <td>8.766</td>\n",
       "      <td>2015</td>\n",
       "      <td>qual</td>\n",
       "    </tr>\n",
       "    <tr>\n",
       "      <th>89</th>\n",
       "      <td>82.0</td>\n",
       "      <td>Andrea Orradottir</td>\n",
       "      <td>ISL</td>\n",
       "      <td>2.5</td>\n",
       "      <td>5.700</td>\n",
       "      <td>0.0</td>\n",
       "      <td>8.200</td>\n",
       "      <td>2015</td>\n",
       "      <td>qual</td>\n",
       "    </tr>\n",
       "    <tr>\n",
       "      <th>90</th>\n",
       "      <td>83.0</td>\n",
       "      <td>Albena Zlatkova</td>\n",
       "      <td>BUL</td>\n",
       "      <td>3.2</td>\n",
       "      <td>4.600</td>\n",
       "      <td>0.0</td>\n",
       "      <td>7.800</td>\n",
       "      <td>2015</td>\n",
       "      <td>qual</td>\n",
       "    </tr>\n",
       "    <tr>\n",
       "      <th>91</th>\n",
       "      <td>84.0</td>\n",
       "      <td>Linnea Wang</td>\n",
       "      <td>DEN</td>\n",
       "      <td>3.5</td>\n",
       "      <td>3.933</td>\n",
       "      <td>0.0</td>\n",
       "      <td>7.433</td>\n",
       "      <td>2015</td>\n",
       "      <td>qual</td>\n",
       "    </tr>\n",
       "    <tr>\n",
       "      <th>92</th>\n",
       "      <td>85.0</td>\n",
       "      <td>Gabriele Blazyte</td>\n",
       "      <td>LTU</td>\n",
       "      <td>3.0</td>\n",
       "      <td>3.800</td>\n",
       "      <td>0.0</td>\n",
       "      <td>6.800</td>\n",
       "      <td>2015</td>\n",
       "      <td>qual</td>\n",
       "    </tr>\n",
       "  </tbody>\n",
       "</table>\n",
       "<p>2319 rows × 9 columns</p>\n",
       "</div>"
      ],
      "text/plain": [
       "     Rank               Name nation  D Score  E Score  Pen.   Total  year  \\\n",
       "0    52.0    Jana ABDELSALAM    EGY      4.8    8.000   0.0  12.800  2022   \n",
       "1     6.0    Jana ABDELSALAM    EGY      4.6    6.266   0.0  10.866  2022   \n",
       "2     7.0    Jana ABDELSALAM    EGY      4.6    6.633   0.0  11.233  2022   \n",
       "3   152.0    Jana ABDELSALAM    EGY      3.8    4.433   0.0   8.233  2023   \n",
       "4    29.0    Jana ABDELSALAM    EGY      4.5    6.266   0.0  10.766  2023   \n",
       "..    ...                ...    ...      ...      ...   ...     ...   ...   \n",
       "88   81.0         Mia Haerum    NOR      1.2    7.566   0.0   8.766  2015   \n",
       "89   82.0  Andrea Orradottir    ISL      2.5    5.700   0.0   8.200  2015   \n",
       "90   83.0    Albena Zlatkova    BUL      3.2    4.600   0.0   7.800  2015   \n",
       "91   84.0        Linnea Wang    DEN      3.5    3.933   0.0   7.433  2015   \n",
       "92   85.0   Gabriele Blazyte    LTU      3.0    3.800   0.0   6.800  2015   \n",
       "\n",
       "    round  \n",
       "0    qual  \n",
       "1   final  \n",
       "2    qual  \n",
       "3    qual  \n",
       "4    qual  \n",
       "..    ...  \n",
       "88   qual  \n",
       "89   qual  \n",
       "90   qual  \n",
       "91   qual  \n",
       "92   qual  \n",
       "\n",
       "[2319 rows x 9 columns]"
      ]
     },
     "execution_count": 84,
     "metadata": {},
     "output_type": "execute_result"
    }
   ],
   "source": [
    "ub"
   ]
  },
  {
   "cell_type": "code",
   "execution_count": null,
   "id": "13068bf5",
   "metadata": {},
   "outputs": [],
   "source": []
  }
 ],
 "metadata": {
  "kernelspec": {
   "display_name": "Python 3 (ipykernel)",
   "language": "python",
   "name": "python3"
  },
  "language_info": {
   "codemirror_mode": {
    "name": "ipython",
    "version": 3
   },
   "file_extension": ".py",
   "mimetype": "text/x-python",
   "name": "python",
   "nbconvert_exporter": "python",
   "pygments_lexer": "ipython3",
   "version": "3.8.18"
  }
 },
 "nbformat": 4,
 "nbformat_minor": 5
}
