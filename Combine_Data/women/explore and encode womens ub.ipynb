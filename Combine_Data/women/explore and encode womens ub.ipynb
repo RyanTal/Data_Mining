{
 "cells": [
  {
   "cell_type": "markdown",
   "id": "246c90ce",
   "metadata": {},
   "source": [
    "### Total: 17\n",
    "\n",
    "2016\n",
    "- 8\n",
    "\n",
    "2020\n",
    "- 9"
   ]
  },
  {
   "cell_type": "code",
   "execution_count": 1,
   "id": "a16fa12b",
   "metadata": {},
   "outputs": [],
   "source": [
    "import pandas as pd\n",
    "import numpy as np"
   ]
  },
  {
   "cell_type": "code",
   "execution_count": 2,
   "id": "1542f793",
   "metadata": {},
   "outputs": [],
   "source": [
    "df = pd.read_csv('ub_w.csv')"
   ]
  },
  {
   "cell_type": "markdown",
   "id": "27fc8843",
   "metadata": {},
   "source": [
    "## 2016\n",
    "\n",
    "1. liya mustafina (RUS) \n",
    "2. madison kocian (USA) \t\n",
    "3. sophie scheder (GER)\n",
    "\n",
    "## 2020\n",
    "\n",
    "1. nina derwael (BEL) \t\n",
    "2. anastasia ilyankova (ROC)  - 1 comp\t\n",
    "3. sunisa lee (USA) - 1 comp\n"
   ]
  },
  {
   "cell_type": "code",
   "execution_count": 3,
   "id": "7fa23fa5",
   "metadata": {},
   "outputs": [
    {
     "data": {
      "text/plain": [
       "year\n",
       "2023    1000\n",
       "2022     665\n",
       "2021     200\n",
       "2015     197\n",
       "2019     109\n",
       "2014      54\n",
       "2013      46\n",
       "2018      16\n",
       "2020       8\n",
       "2011       8\n",
       "2017       8\n",
       "2016       8\n",
       "Name: count, dtype: int64"
      ]
     },
     "execution_count": 3,
     "metadata": {},
     "output_type": "execute_result"
    }
   ],
   "source": [
    "df['year'].value_counts()"
   ]
  },
  {
   "cell_type": "code",
   "execution_count": 4,
   "id": "59c4ce5f",
   "metadata": {},
   "outputs": [],
   "source": [
    "df = pd.read_csv('ub_w.csv')\n",
    "df['Name'] = df['Name'].str.lower()"
   ]
  },
  {
   "cell_type": "code",
   "execution_count": 5,
   "id": "b0706e55",
   "metadata": {},
   "outputs": [],
   "source": [
    "df['Name'] = df['Name'].str.lower()"
   ]
  },
  {
   "cell_type": "code",
   "execution_count": 6,
   "id": "510b93fa",
   "metadata": {},
   "outputs": [],
   "source": [
    "df12 = df[df['year'].isin([2011])].copy()\n",
    "df16 = df[df['year'].isin([2013, 2014, 2015, 2016])].copy()\n",
    "df20 = df[df['year'].isin([2017, 2018, 2019, 2020])].copy()\n",
    "df24 = df[df['year'].isin([2022, 2023])].copy()"
   ]
  },
  {
   "cell_type": "code",
   "execution_count": 7,
   "id": "4f526cd0",
   "metadata": {},
   "outputs": [],
   "source": [
    "df1 = df20.copy()"
   ]
  },
  {
   "cell_type": "code",
   "execution_count": 8,
   "id": "b6566964",
   "metadata": {},
   "outputs": [],
   "source": [
    "# def assign_medal(name):\n",
    "#     name_lower = name.lower()\n",
    "#     if name_lower == 'aliya mustafina':\n",
    "#         return 3\n",
    "#     elif name_lower == 'madison kocian':\n",
    "#         return 2\n",
    "#     elif name_lower == 'sophie scheder':\n",
    "#         return 1\n",
    "#     else:\n",
    "#         return -1\n",
    "\n",
    "# df16['medal'] = df16['Name'].apply(assign_medal)\n"
   ]
  },
  {
   "cell_type": "code",
   "execution_count": 9,
   "id": "c1f8beba",
   "metadata": {},
   "outputs": [],
   "source": [
    "def assign_medal(name):\n",
    "    name_lower = name.lower()\n",
    "    if name_lower == 'aliya mustafina':\n",
    "        return 1\n",
    "    elif name_lower == 'madison kocian':\n",
    "        return 1\n",
    "    elif name_lower == 'sophie scheder':\n",
    "        return 1\n",
    "    else:\n",
    "        return 0\n",
    "\n",
    "df16['medal'] = df16['Name'].apply(assign_medal)\n"
   ]
  },
  {
   "cell_type": "code",
   "execution_count": 10,
   "id": "e23924fa",
   "metadata": {},
   "outputs": [
    {
     "data": {
      "text/plain": [
       "medal\n",
       "0    297\n",
       "1      8\n",
       "Name: count, dtype: int64"
      ]
     },
     "execution_count": 10,
     "metadata": {},
     "output_type": "execute_result"
    }
   ],
   "source": [
    "df16['medal'].value_counts()"
   ]
  },
  {
   "cell_type": "code",
   "execution_count": 11,
   "id": "41a36e0b",
   "metadata": {},
   "outputs": [
    {
     "data": {
      "text/html": [
       "<div>\n",
       "<style scoped>\n",
       "    .dataframe tbody tr th:only-of-type {\n",
       "        vertical-align: middle;\n",
       "    }\n",
       "\n",
       "    .dataframe tbody tr th {\n",
       "        vertical-align: top;\n",
       "    }\n",
       "\n",
       "    .dataframe thead th {\n",
       "        text-align: right;\n",
       "    }\n",
       "</style>\n",
       "<table border=\"1\" class=\"dataframe\">\n",
       "  <thead>\n",
       "    <tr style=\"text-align: right;\">\n",
       "      <th></th>\n",
       "      <th>Rank</th>\n",
       "      <th>Name</th>\n",
       "      <th>nation</th>\n",
       "      <th>D Score</th>\n",
       "      <th>E Score</th>\n",
       "      <th>Pen.</th>\n",
       "      <th>Total</th>\n",
       "      <th>year</th>\n",
       "      <th>round</th>\n",
       "      <th>medal</th>\n",
       "    </tr>\n",
       "  </thead>\n",
       "  <tbody>\n",
       "    <tr>\n",
       "      <th>1867</th>\n",
       "      <td>3.0</td>\n",
       "      <td>aliya mustafina</td>\n",
       "      <td>RUS</td>\n",
       "      <td>6.5</td>\n",
       "      <td>8.533</td>\n",
       "      <td>0.0</td>\n",
       "      <td>15.033</td>\n",
       "      <td>2013</td>\n",
       "      <td>final</td>\n",
       "      <td>1</td>\n",
       "    </tr>\n",
       "    <tr>\n",
       "      <th>1878</th>\n",
       "      <td>6.0</td>\n",
       "      <td>aliya mustafina</td>\n",
       "      <td>RUS</td>\n",
       "      <td>6.3</td>\n",
       "      <td>8.800</td>\n",
       "      <td>0.0</td>\n",
       "      <td>15.100</td>\n",
       "      <td>2014</td>\n",
       "      <td>final</td>\n",
       "      <td>1</td>\n",
       "    </tr>\n",
       "  </tbody>\n",
       "</table>\n",
       "</div>"
      ],
      "text/plain": [
       "      Rank             Name nation  D Score  E Score  Pen.   Total  year  \\\n",
       "1867   3.0  aliya mustafina    RUS      6.5    8.533   0.0  15.033  2013   \n",
       "1878   6.0  aliya mustafina    RUS      6.3    8.800   0.0  15.100  2014   \n",
       "\n",
       "      round  medal  \n",
       "1867  final      1  \n",
       "1878  final      1  "
      ]
     },
     "execution_count": 11,
     "metadata": {},
     "output_type": "execute_result"
    }
   ],
   "source": [
    "df16[df16['Name']== 'aliya mustafina']"
   ]
  },
  {
   "cell_type": "code",
   "execution_count": 12,
   "id": "8333f9f6",
   "metadata": {},
   "outputs": [
    {
     "data": {
      "text/html": [
       "<div>\n",
       "<style scoped>\n",
       "    .dataframe tbody tr th:only-of-type {\n",
       "        vertical-align: middle;\n",
       "    }\n",
       "\n",
       "    .dataframe tbody tr th {\n",
       "        vertical-align: top;\n",
       "    }\n",
       "\n",
       "    .dataframe thead th {\n",
       "        text-align: right;\n",
       "    }\n",
       "</style>\n",
       "<table border=\"1\" class=\"dataframe\">\n",
       "  <thead>\n",
       "    <tr style=\"text-align: right;\">\n",
       "      <th></th>\n",
       "      <th>Rank</th>\n",
       "      <th>Name</th>\n",
       "      <th>nation</th>\n",
       "      <th>D Score</th>\n",
       "      <th>E Score</th>\n",
       "      <th>Pen.</th>\n",
       "      <th>Total</th>\n",
       "      <th>year</th>\n",
       "      <th>round</th>\n",
       "      <th>medal</th>\n",
       "    </tr>\n",
       "  </thead>\n",
       "  <tbody>\n",
       "    <tr>\n",
       "      <th>1884</th>\n",
       "      <td>1.0</td>\n",
       "      <td>madison kocian</td>\n",
       "      <td>USA</td>\n",
       "      <td>6.6</td>\n",
       "      <td>8.766</td>\n",
       "      <td>0.0</td>\n",
       "      <td>15.366</td>\n",
       "      <td>2015</td>\n",
       "      <td>final</td>\n",
       "      <td>1</td>\n",
       "    </tr>\n",
       "    <tr>\n",
       "      <th>2138</th>\n",
       "      <td>2.0</td>\n",
       "      <td>madison kocian</td>\n",
       "      <td>USA</td>\n",
       "      <td>6.3</td>\n",
       "      <td>8.525</td>\n",
       "      <td>0.0</td>\n",
       "      <td>14.825</td>\n",
       "      <td>2014</td>\n",
       "      <td>final</td>\n",
       "      <td>1</td>\n",
       "    </tr>\n",
       "  </tbody>\n",
       "</table>\n",
       "</div>"
      ],
      "text/plain": [
       "      Rank            Name nation  D Score  E Score  Pen.   Total  year  \\\n",
       "1884   1.0  madison kocian    USA      6.6    8.766   0.0  15.366  2015   \n",
       "2138   2.0  madison kocian    USA      6.3    8.525   0.0  14.825  2014   \n",
       "\n",
       "      round  medal  \n",
       "1884  final      1  \n",
       "2138  final      1  "
      ]
     },
     "execution_count": 12,
     "metadata": {},
     "output_type": "execute_result"
    }
   ],
   "source": [
    "df16[df16['Name']== 'madison kocian']"
   ]
  },
  {
   "cell_type": "code",
   "execution_count": 13,
   "id": "b790acf7",
   "metadata": {},
   "outputs": [
    {
     "data": {
      "text/html": [
       "<div>\n",
       "<style scoped>\n",
       "    .dataframe tbody tr th:only-of-type {\n",
       "        vertical-align: middle;\n",
       "    }\n",
       "\n",
       "    .dataframe tbody tr th {\n",
       "        vertical-align: top;\n",
       "    }\n",
       "\n",
       "    .dataframe thead th {\n",
       "        text-align: right;\n",
       "    }\n",
       "</style>\n",
       "<table border=\"1\" class=\"dataframe\">\n",
       "  <thead>\n",
       "    <tr style=\"text-align: right;\">\n",
       "      <th></th>\n",
       "      <th>Rank</th>\n",
       "      <th>Name</th>\n",
       "      <th>nation</th>\n",
       "      <th>D Score</th>\n",
       "      <th>E Score</th>\n",
       "      <th>Pen.</th>\n",
       "      <th>Total</th>\n",
       "      <th>year</th>\n",
       "      <th>round</th>\n",
       "      <th>medal</th>\n",
       "    </tr>\n",
       "  </thead>\n",
       "  <tbody>\n",
       "    <tr>\n",
       "      <th>1798</th>\n",
       "      <td>5.0</td>\n",
       "      <td>sophie scheder</td>\n",
       "      <td>GER</td>\n",
       "      <td>6.2</td>\n",
       "      <td>7.100</td>\n",
       "      <td>0.0</td>\n",
       "      <td>13.300</td>\n",
       "      <td>2013</td>\n",
       "      <td>final</td>\n",
       "      <td>1</td>\n",
       "    </tr>\n",
       "    <tr>\n",
       "      <th>1803</th>\n",
       "      <td>2.0</td>\n",
       "      <td>sophie scheder</td>\n",
       "      <td>GER</td>\n",
       "      <td>6.2</td>\n",
       "      <td>8.100</td>\n",
       "      <td>0.0</td>\n",
       "      <td>14.300</td>\n",
       "      <td>2013</td>\n",
       "      <td>qual</td>\n",
       "      <td>1</td>\n",
       "    </tr>\n",
       "    <tr>\n",
       "      <th>1869</th>\n",
       "      <td>5.0</td>\n",
       "      <td>sophie scheder</td>\n",
       "      <td>GER</td>\n",
       "      <td>6.4</td>\n",
       "      <td>8.283</td>\n",
       "      <td>0.0</td>\n",
       "      <td>14.683</td>\n",
       "      <td>2013</td>\n",
       "      <td>final</td>\n",
       "      <td>1</td>\n",
       "    </tr>\n",
       "    <tr>\n",
       "      <th>1888</th>\n",
       "      <td>8.0</td>\n",
       "      <td>sophie scheder</td>\n",
       "      <td>GER</td>\n",
       "      <td>6.6</td>\n",
       "      <td>8.000</td>\n",
       "      <td>0.0</td>\n",
       "      <td>14.600</td>\n",
       "      <td>2015</td>\n",
       "      <td>final</td>\n",
       "      <td>1</td>\n",
       "    </tr>\n",
       "  </tbody>\n",
       "</table>\n",
       "</div>"
      ],
      "text/plain": [
       "      Rank            Name nation  D Score  E Score  Pen.   Total  year  \\\n",
       "1798   5.0  sophie scheder    GER      6.2    7.100   0.0  13.300  2013   \n",
       "1803   2.0  sophie scheder    GER      6.2    8.100   0.0  14.300  2013   \n",
       "1869   5.0  sophie scheder    GER      6.4    8.283   0.0  14.683  2013   \n",
       "1888   8.0  sophie scheder    GER      6.6    8.000   0.0  14.600  2015   \n",
       "\n",
       "      round  medal  \n",
       "1798  final      1  \n",
       "1803   qual      1  \n",
       "1869  final      1  \n",
       "1888  final      1  "
      ]
     },
     "execution_count": 13,
     "metadata": {},
     "output_type": "execute_result"
    }
   ],
   "source": [
    "df16[df16['Name']== 'sophie scheder']"
   ]
  },
  {
   "cell_type": "code",
   "execution_count": 14,
   "id": "404a9a44",
   "metadata": {},
   "outputs": [],
   "source": [
    "# def assign_medal(name):\n",
    "#     name_lower = name.lower()\n",
    "#     if name_lower == 'nina derwael':\n",
    "#         return 3\n",
    "#     elif name_lower == 'anastasia ilyankova':\n",
    "#         return 2\n",
    "#     elif name_lower == 'sunisa lee':\n",
    "#         return 1\n",
    "#     else:\n",
    "#         return -1\n",
    "\n",
    "# df20['medal'] = df20['Name'].apply(assign_medal)\n"
   ]
  },
  {
   "cell_type": "code",
   "execution_count": 15,
   "id": "5eef5461",
   "metadata": {},
   "outputs": [],
   "source": [
    "def assign_medal(name):\n",
    "    name_lower = name.lower()\n",
    "    if name_lower == 'nina derwael':\n",
    "        return 1\n",
    "    elif name_lower == 'anastasia ilyankova':\n",
    "        return 1\n",
    "    elif name_lower == 'sunisa lee':\n",
    "        return 1\n",
    "    else:\n",
    "        return 0\n",
    "\n",
    "df20['medal'] = df20['Name'].apply(assign_medal)\n"
   ]
  },
  {
   "cell_type": "code",
   "execution_count": 16,
   "id": "7445e76f",
   "metadata": {},
   "outputs": [
    {
     "data": {
      "text/plain": [
       "medal\n",
       "0    132\n",
       "1      9\n",
       "Name: count, dtype: int64"
      ]
     },
     "execution_count": 16,
     "metadata": {},
     "output_type": "execute_result"
    }
   ],
   "source": [
    "df20['medal'].value_counts()"
   ]
  },
  {
   "cell_type": "code",
   "execution_count": 17,
   "id": "2bcebce2",
   "metadata": {},
   "outputs": [
    {
     "name": "stdout",
     "output_type": "stream",
     "text": [
      "aliya Mustafina: 2\n",
      "Madison Kocian: 2\n",
      "Sophie Scheder: 4\n"
     ]
    }
   ],
   "source": [
    "name_counts = df16['Name'].value_counts()\n",
    "\n",
    "# Print the counts for each name\n",
    "print(\"aliya Mustafina:\", name_counts.get(\"aliya mustafina\", 0))\n",
    "print(\"Madison Kocian:\", name_counts.get(\"madison kocian\", 0))\n",
    "print(\"Sophie Scheder:\", name_counts.get(\"sophie scheder\", 0))"
   ]
  },
  {
   "cell_type": "code",
   "execution_count": 18,
   "id": "7d82d2fb",
   "metadata": {},
   "outputs": [
    {
     "name": "stdout",
     "output_type": "stream",
     "text": [
      "nina derwael: 7\n",
      "anastasia ilyankova: 1\n",
      "sunisa lee: 1\n"
     ]
    }
   ],
   "source": [
    "name_counts = df20['Name'].value_counts()\n",
    "\n",
    "print(\"nina derwael:\", name_counts.get(\"nina derwael\", 0))\n",
    "print(\"anastasia ilyankova:\", name_counts.get(\"anastasia ilyankova\", 0))\n",
    "print(\"sunisa lee:\", name_counts.get(\"sunisa lee\", 0))"
   ]
  },
  {
   "cell_type": "code",
   "execution_count": 19,
   "id": "f0eda1b4",
   "metadata": {},
   "outputs": [],
   "source": [
    "combined_df = pd.concat([df20, df16], axis=0)"
   ]
  },
  {
   "cell_type": "code",
   "execution_count": 20,
   "id": "921bf4ce",
   "metadata": {},
   "outputs": [],
   "source": [
    "df = combined_df.copy()"
   ]
  },
  {
   "cell_type": "code",
   "execution_count": 21,
   "id": "f7cfddf0",
   "metadata": {},
   "outputs": [
    {
     "data": {
      "text/plain": [
       "medal\n",
       "0    429\n",
       "1     17\n",
       "Name: count, dtype: int64"
      ]
     },
     "execution_count": 21,
     "metadata": {},
     "output_type": "execute_result"
    }
   ],
   "source": [
    "df['medal'].value_counts()"
   ]
  },
  {
   "cell_type": "code",
   "execution_count": 22,
   "id": "aacd7c95",
   "metadata": {},
   "outputs": [
    {
     "name": "stdout",
     "output_type": "stream",
     "text": [
      "<class 'pandas.core.frame.DataFrame'>\n",
      "Index: 446 entries, 1706 to 2318\n",
      "Data columns (total 10 columns):\n",
      " #   Column   Non-Null Count  Dtype  \n",
      "---  ------   --------------  -----  \n",
      " 0   Rank     446 non-null    float64\n",
      " 1   Name     446 non-null    object \n",
      " 2   nation   446 non-null    object \n",
      " 3   D Score  446 non-null    float64\n",
      " 4   E Score  446 non-null    float64\n",
      " 5   Pen.     446 non-null    float64\n",
      " 6   Total    446 non-null    float64\n",
      " 7   year     446 non-null    int64  \n",
      " 8   round    446 non-null    object \n",
      " 9   medal    446 non-null    int64  \n",
      "dtypes: float64(5), int64(2), object(3)\n",
      "memory usage: 38.3+ KB\n"
     ]
    }
   ],
   "source": [
    "df.info()"
   ]
  },
  {
   "cell_type": "code",
   "execution_count": 23,
   "id": "38518845",
   "metadata": {},
   "outputs": [],
   "source": [
    "from sklearn.preprocessing import LabelEncoder\n",
    "\n",
    "le = LabelEncoder()\n",
    "\n",
    "df['Name_encoded'] = le.fit_transform(df['Name'])\n",
    "\n",
    "label_mapping = dict(zip(le.transform(df['Name']), df['Name']))\n"
   ]
  },
  {
   "cell_type": "code",
   "execution_count": 24,
   "id": "8ee6abbe",
   "metadata": {},
   "outputs": [],
   "source": [
    "df=df.drop(columns=[\"Name\"])"
   ]
  },
  {
   "cell_type": "code",
   "execution_count": 25,
   "id": "dfed9628",
   "metadata": {},
   "outputs": [],
   "source": [
    "df.rename(columns={'Name_encoded': 'Name'}, inplace=True)\n"
   ]
  },
  {
   "cell_type": "code",
   "execution_count": 26,
   "id": "eee62323",
   "metadata": {},
   "outputs": [],
   "source": [
    "from sklearn.preprocessing import LabelEncoder\n",
    "\n",
    "le = LabelEncoder()\n",
    "\n",
    "df['nation_encoded'] = le.fit_transform(df['nation'])\n",
    "\n",
    "label_mapping_nation = dict(zip(le.transform(df['nation']), df['nation']))\n"
   ]
  },
  {
   "cell_type": "code",
   "execution_count": 27,
   "id": "738304a6",
   "metadata": {},
   "outputs": [],
   "source": [
    "df=df.drop(columns=[\"nation\"])"
   ]
  },
  {
   "cell_type": "code",
   "execution_count": 28,
   "id": "376bbd5d",
   "metadata": {},
   "outputs": [],
   "source": [
    "df.rename(columns={'nation_encoded': 'nation'}, inplace=True)\n"
   ]
  },
  {
   "cell_type": "code",
   "execution_count": 29,
   "id": "f5996fbe",
   "metadata": {},
   "outputs": [
    {
     "data": {
      "text/plain": [
       "Rank        85\n",
       "D Score     51\n",
       "E Score    165\n",
       "Pen.         3\n",
       "Total      218\n",
       "year         8\n",
       "round        5\n",
       "medal        2\n",
       "Name       277\n",
       "nation      76\n",
       "dtype: int64"
      ]
     },
     "execution_count": 29,
     "metadata": {},
     "output_type": "execute_result"
    }
   ],
   "source": [
    "df.nunique()"
   ]
  },
  {
   "cell_type": "code",
   "execution_count": 30,
   "id": "9d1c7bd6",
   "metadata": {},
   "outputs": [],
   "source": [
    "df['round'] = df['round'].str.lower()\n"
   ]
  },
  {
   "cell_type": "code",
   "execution_count": 31,
   "id": "ea66c074",
   "metadata": {},
   "outputs": [
    {
     "data": {
      "text/plain": [
       "218"
      ]
     },
     "execution_count": 31,
     "metadata": {},
     "output_type": "execute_result"
    }
   ],
   "source": [
    "df['Total'].nunique()"
   ]
  },
  {
   "cell_type": "code",
   "execution_count": 32,
   "id": "d1a27ebc",
   "metadata": {},
   "outputs": [
    {
     "data": {
      "text/plain": [
       "51"
      ]
     },
     "execution_count": 32,
     "metadata": {},
     "output_type": "execute_result"
    }
   ],
   "source": [
    "df['D Score'].nunique()"
   ]
  },
  {
   "cell_type": "code",
   "execution_count": 33,
   "id": "8e854405",
   "metadata": {},
   "outputs": [
    {
     "data": {
      "text/plain": [
       "165"
      ]
     },
     "execution_count": 33,
     "metadata": {},
     "output_type": "execute_result"
    }
   ],
   "source": [
    "df['E Score'].nunique()"
   ]
  },
  {
   "cell_type": "code",
   "execution_count": 34,
   "id": "6a43e477",
   "metadata": {},
   "outputs": [
    {
     "data": {
      "text/plain": [
       "0.761748505801008"
      ]
     },
     "execution_count": 34,
     "metadata": {},
     "output_type": "execute_result"
    }
   ],
   "source": [
    "6.5/8.533"
   ]
  },
  {
   "cell_type": "code",
   "execution_count": 35,
   "id": "3c3dcb58",
   "metadata": {},
   "outputs": [
    {
     "data": {
      "text/plain": [
       "1.3127692307692307"
      ]
     },
     "execution_count": 35,
     "metadata": {},
     "output_type": "execute_result"
    }
   ],
   "source": [
    "8.533/6.5"
   ]
  },
  {
   "cell_type": "code",
   "execution_count": 36,
   "id": "27483e69",
   "metadata": {},
   "outputs": [
    {
     "data": {
      "text/html": [
       "<div>\n",
       "<style scoped>\n",
       "    .dataframe tbody tr th:only-of-type {\n",
       "        vertical-align: middle;\n",
       "    }\n",
       "\n",
       "    .dataframe tbody tr th {\n",
       "        vertical-align: top;\n",
       "    }\n",
       "\n",
       "    .dataframe thead th {\n",
       "        text-align: right;\n",
       "    }\n",
       "</style>\n",
       "<table border=\"1\" class=\"dataframe\">\n",
       "  <thead>\n",
       "    <tr style=\"text-align: right;\">\n",
       "      <th></th>\n",
       "      <th>Rank</th>\n",
       "      <th>D Score</th>\n",
       "      <th>E Score</th>\n",
       "      <th>Pen.</th>\n",
       "      <th>Total</th>\n",
       "      <th>year</th>\n",
       "      <th>round</th>\n",
       "      <th>medal</th>\n",
       "      <th>Name</th>\n",
       "      <th>nation</th>\n",
       "    </tr>\n",
       "  </thead>\n",
       "  <tbody>\n",
       "    <tr>\n",
       "      <th>1706</th>\n",
       "      <td>1.0</td>\n",
       "      <td>6.5</td>\n",
       "      <td>8.533</td>\n",
       "      <td>0.0</td>\n",
       "      <td>15.033</td>\n",
       "      <td>2019</td>\n",
       "      <td>final</td>\n",
       "      <td>1</td>\n",
       "      <td>208</td>\n",
       "      <td>6</td>\n",
       "    </tr>\n",
       "    <tr>\n",
       "      <th>1707</th>\n",
       "      <td>2.0</td>\n",
       "      <td>6.5</td>\n",
       "      <td>8.433</td>\n",
       "      <td>0.0</td>\n",
       "      <td>14.933</td>\n",
       "      <td>2019</td>\n",
       "      <td>final</td>\n",
       "      <td>0</td>\n",
       "      <td>103</td>\n",
       "      <td>12</td>\n",
       "    </tr>\n",
       "    <tr>\n",
       "      <th>1708</th>\n",
       "      <td>3.0</td>\n",
       "      <td>6.3</td>\n",
       "      <td>8.400</td>\n",
       "      <td>0.0</td>\n",
       "      <td>14.700</td>\n",
       "      <td>2019</td>\n",
       "      <td>final</td>\n",
       "      <td>0</td>\n",
       "      <td>21</td>\n",
       "      <td>55</td>\n",
       "    </tr>\n",
       "    <tr>\n",
       "      <th>1709</th>\n",
       "      <td>4.0</td>\n",
       "      <td>6.0</td>\n",
       "      <td>8.216</td>\n",
       "      <td>0.0</td>\n",
       "      <td>14.216</td>\n",
       "      <td>2019</td>\n",
       "      <td>final</td>\n",
       "      <td>0</td>\n",
       "      <td>140</td>\n",
       "      <td>61</td>\n",
       "    </tr>\n",
       "    <tr>\n",
       "      <th>1710</th>\n",
       "      <td>5.0</td>\n",
       "      <td>6.0</td>\n",
       "      <td>8.000</td>\n",
       "      <td>0.0</td>\n",
       "      <td>14.000</td>\n",
       "      <td>2019</td>\n",
       "      <td>final</td>\n",
       "      <td>0</td>\n",
       "      <td>148</td>\n",
       "      <td>24</td>\n",
       "    </tr>\n",
       "  </tbody>\n",
       "</table>\n",
       "</div>"
      ],
      "text/plain": [
       "      Rank  D Score  E Score  Pen.   Total  year  round  medal  Name  nation\n",
       "1706   1.0      6.5    8.533   0.0  15.033  2019  final      1   208       6\n",
       "1707   2.0      6.5    8.433   0.0  14.933  2019  final      0   103      12\n",
       "1708   3.0      6.3    8.400   0.0  14.700  2019  final      0    21      55\n",
       "1709   4.0      6.0    8.216   0.0  14.216  2019  final      0   140      61\n",
       "1710   5.0      6.0    8.000   0.0  14.000  2019  final      0   148      24"
      ]
     },
     "execution_count": 36,
     "metadata": {},
     "output_type": "execute_result"
    }
   ],
   "source": [
    "df.head()"
   ]
  },
  {
   "cell_type": "code",
   "execution_count": 37,
   "id": "b5befea5",
   "metadata": {},
   "outputs": [],
   "source": [
    "df['total_D'] = df['Total'] / df['D Score']\n",
    "df['total_E'] = df['Total'] / df['E Score']\n",
    "df['D_E'] =  df['E Score'] / df['D Score']\n"
   ]
  },
  {
   "cell_type": "code",
   "execution_count": 38,
   "id": "7aa060b6",
   "metadata": {},
   "outputs": [],
   "source": [
    "\n",
    "df_encoded = pd.get_dummies(df, columns=['round'], prefix='round')"
   ]
  },
  {
   "cell_type": "code",
   "execution_count": 39,
   "id": "82fc22ce",
   "metadata": {},
   "outputs": [
    {
     "name": "stdout",
     "output_type": "stream",
     "text": [
      "<class 'pandas.core.frame.DataFrame'>\n",
      "Index: 446 entries, 1706 to 2318\n",
      "Data columns (total 15 columns):\n",
      " #   Column         Non-Null Count  Dtype  \n",
      "---  ------         --------------  -----  \n",
      " 0   Rank           446 non-null    float64\n",
      " 1   D Score        446 non-null    float64\n",
      " 2   E Score        446 non-null    float64\n",
      " 3   Pen.           446 non-null    float64\n",
      " 4   Total          446 non-null    float64\n",
      " 5   year           446 non-null    int64  \n",
      " 6   medal          446 non-null    int64  \n",
      " 7   Name           446 non-null    int64  \n",
      " 8   nation         446 non-null    int64  \n",
      " 9   total_D        446 non-null    float64\n",
      " 10  total_E        446 non-null    float64\n",
      " 11  D_E            446 non-null    float64\n",
      " 12  round_final    446 non-null    bool   \n",
      " 13  round_qual     446 non-null    bool   \n",
      " 14  round_unknown  446 non-null    bool   \n",
      "dtypes: bool(3), float64(8), int64(4)\n",
      "memory usage: 46.6 KB\n"
     ]
    }
   ],
   "source": [
    "df_encoded.info()"
   ]
  },
  {
   "cell_type": "code",
   "execution_count": 40,
   "id": "b3f6e136",
   "metadata": {},
   "outputs": [
    {
     "data": {
      "text/plain": [
       "array([ 0. , -0.3, -0.1])"
      ]
     },
     "execution_count": 40,
     "metadata": {},
     "output_type": "execute_result"
    }
   ],
   "source": [
    "df['Pen.'].unique()"
   ]
  },
  {
   "cell_type": "code",
   "execution_count": 41,
   "id": "985527ca",
   "metadata": {},
   "outputs": [],
   "source": [
    "\n",
    "df_encoded['tot_final']=df_encoded['round_final']+df_encoded['Total']\n",
    "df_encoded['tot_fin_d'] = df_encoded['tot_final'] * df_encoded['D Score']\n",
    "df_encoded['tot_fin_ddiv'] = df_encoded['D Score'] * df_encoded['tot_final'] * df_encoded['tot_final'] \n",
    "df_encoded['tot_fin_ddiv_rank'] = (df_encoded['D Score'] * df_encoded['tot_final'] *\n",
    "                                   df_encoded['tot_final'] ) + df_encoded['Rank']\n"
   ]
  },
  {
   "cell_type": "code",
   "execution_count": 42,
   "id": "c8cb7f42",
   "metadata": {},
   "outputs": [],
   "source": [
    "correlations = df_encoded.corrwith(df['medal'])\n"
   ]
  },
  {
   "cell_type": "code",
   "execution_count": 43,
   "id": "7ee1f7e1",
   "metadata": {},
   "outputs": [
    {
     "name": "stdout",
     "output_type": "stream",
     "text": [
      "<class 'pandas.core.frame.DataFrame'>\n",
      "Index: 446 entries, 1706 to 2318\n",
      "Data columns (total 13 columns):\n",
      " #   Column   Non-Null Count  Dtype  \n",
      "---  ------   --------------  -----  \n",
      " 0   Rank     446 non-null    float64\n",
      " 1   D Score  446 non-null    float64\n",
      " 2   E Score  446 non-null    float64\n",
      " 3   Pen.     446 non-null    float64\n",
      " 4   Total    446 non-null    float64\n",
      " 5   year     446 non-null    int64  \n",
      " 6   round    446 non-null    object \n",
      " 7   medal    446 non-null    int64  \n",
      " 8   Name     446 non-null    int64  \n",
      " 9   nation   446 non-null    int64  \n",
      " 10  total_D  446 non-null    float64\n",
      " 11  total_E  446 non-null    float64\n",
      " 12  D_E      446 non-null    float64\n",
      "dtypes: float64(8), int64(4), object(1)\n",
      "memory usage: 48.8+ KB\n"
     ]
    }
   ],
   "source": [
    "df.info()"
   ]
  },
  {
   "cell_type": "code",
   "execution_count": 44,
   "id": "fa5092c4",
   "metadata": {},
   "outputs": [
    {
     "data": {
      "text/plain": [
       "medal                1.000000\n",
       "tot_fin_ddiv_rank    0.302044\n",
       "tot_fin_ddiv         0.298809\n",
       "tot_fin_d            0.279685\n",
       "tot_final            0.246066\n",
       "D Score              0.239582\n",
       "Total                0.229803\n",
       "round_final          0.204005\n",
       "E Score              0.165649\n",
       "Name                 0.108043\n",
       "total_E              0.097242\n",
       "nation               0.045960\n",
       "year                 0.031364\n",
       "Pen.                 0.020258\n",
       "round_unknown       -0.038399\n",
       "total_D             -0.073388\n",
       "D_E                 -0.073456\n",
       "Rank                -0.145906\n",
       "round_qual          -0.184716\n",
       "dtype: float64"
      ]
     },
     "execution_count": 44,
     "metadata": {},
     "output_type": "execute_result"
    }
   ],
   "source": [
    "correlations.sort_values(ascending=False)\n"
   ]
  },
  {
   "cell_type": "code",
   "execution_count": 45,
   "id": "72696f7a",
   "metadata": {},
   "outputs": [],
   "source": [
    "# medals: 0 or 1\n",
    "# # medal            1.000000\n",
    "# # D Score          0.239582\n",
    "# # Total            0.229803\n",
    "# # round_final      0.204005\n",
    "# # E Score          0.165649\n",
    "# # Name             0.108043\n",
    "# # nation           0.045960\n",
    "# # year             0.031364\n",
    "# # Pen.             0.020258\n",
    "# # round_unknown   -0.038399\n",
    "# # Rank            -0.145906\n",
    "# # round_qual      -0.184716\n",
    "# # dtype: float64"
   ]
  },
  {
   "cell_type": "code",
   "execution_count": 46,
   "id": "d553c1dd",
   "metadata": {},
   "outputs": [],
   "source": [
    "# medals: 3, 2, 1, 0\n",
    "# medal            1.000000\n",
    "# D Score          0.226139\n",
    "# Total            0.222609\n",
    "# round_final      0.186404\n",
    "# E Score          0.165968\n",
    "# year             0.072862\n",
    "# Name             0.072479\n",
    "# nation           0.045566\n",
    "# Pen.             0.018810\n",
    "# round_unknown   -0.035655\n",
    "# Rank            -0.138958\n",
    "# round_qual      -0.168561\n",
    "# dtype: float64"
   ]
  },
  {
   "cell_type": "code",
   "execution_count": 47,
   "id": "3ce1f1e3",
   "metadata": {},
   "outputs": [
    {
     "name": "stdout",
     "output_type": "stream",
     "text": [
      "<class 'pandas.core.frame.DataFrame'>\n",
      "Index: 446 entries, 1706 to 2318\n",
      "Data columns (total 19 columns):\n",
      " #   Column             Non-Null Count  Dtype  \n",
      "---  ------             --------------  -----  \n",
      " 0   Rank               446 non-null    float64\n",
      " 1   D Score            446 non-null    float64\n",
      " 2   E Score            446 non-null    float64\n",
      " 3   Pen.               446 non-null    float64\n",
      " 4   Total              446 non-null    float64\n",
      " 5   year               446 non-null    int64  \n",
      " 6   medal              446 non-null    int64  \n",
      " 7   Name               446 non-null    int64  \n",
      " 8   nation             446 non-null    int64  \n",
      " 9   total_D            446 non-null    float64\n",
      " 10  total_E            446 non-null    float64\n",
      " 11  D_E                446 non-null    float64\n",
      " 12  round_final        446 non-null    bool   \n",
      " 13  round_qual         446 non-null    bool   \n",
      " 14  round_unknown      446 non-null    bool   \n",
      " 15  tot_final          446 non-null    float64\n",
      " 16  tot_fin_d          446 non-null    float64\n",
      " 17  tot_fin_ddiv       446 non-null    float64\n",
      " 18  tot_fin_ddiv_rank  446 non-null    float64\n",
      "dtypes: bool(3), float64(12), int64(4)\n",
      "memory usage: 60.5 KB\n"
     ]
    }
   ],
   "source": [
    "df_encoded.info()"
   ]
  },
  {
   "cell_type": "code",
   "execution_count": 48,
   "id": "284da11f",
   "metadata": {},
   "outputs": [],
   "source": [
    "# df_encoded.to_csv('ub_encoded.csv', index=False)"
   ]
  },
  {
   "cell_type": "code",
   "execution_count": 49,
   "id": "e41d0111",
   "metadata": {},
   "outputs": [],
   "source": [
    "import pandas as pd\n",
    "from sklearn.model_selection import train_test_split\n",
    "from sklearn.ensemble import RandomForestClassifier\n",
    "from sklearn.inspection import permutation_importance\n",
    "\n"
   ]
  },
  {
   "cell_type": "code",
   "execution_count": 50,
   "id": "d79d63ca",
   "metadata": {},
   "outputs": [],
   "source": [
    "X = df_encoded.drop('medal', axis=1)\n",
    "y = df_encoded['medal']\n",
    "\n",
    "X_train, X_test, y_train, y_test = train_test_split(X, y, test_size=0.2, random_state=42)\n",
    "\n"
   ]
  },
  {
   "cell_type": "code",
   "execution_count": 51,
   "id": "3392cc53",
   "metadata": {},
   "outputs": [
    {
     "data": {
      "text/html": [
       "<style>#sk-container-id-1 {color: black;}#sk-container-id-1 pre{padding: 0;}#sk-container-id-1 div.sk-toggleable {background-color: white;}#sk-container-id-1 label.sk-toggleable__label {cursor: pointer;display: block;width: 100%;margin-bottom: 0;padding: 0.3em;box-sizing: border-box;text-align: center;}#sk-container-id-1 label.sk-toggleable__label-arrow:before {content: \"▸\";float: left;margin-right: 0.25em;color: #696969;}#sk-container-id-1 label.sk-toggleable__label-arrow:hover:before {color: black;}#sk-container-id-1 div.sk-estimator:hover label.sk-toggleable__label-arrow:before {color: black;}#sk-container-id-1 div.sk-toggleable__content {max-height: 0;max-width: 0;overflow: hidden;text-align: left;background-color: #f0f8ff;}#sk-container-id-1 div.sk-toggleable__content pre {margin: 0.2em;color: black;border-radius: 0.25em;background-color: #f0f8ff;}#sk-container-id-1 input.sk-toggleable__control:checked~div.sk-toggleable__content {max-height: 200px;max-width: 100%;overflow: auto;}#sk-container-id-1 input.sk-toggleable__control:checked~label.sk-toggleable__label-arrow:before {content: \"▾\";}#sk-container-id-1 div.sk-estimator input.sk-toggleable__control:checked~label.sk-toggleable__label {background-color: #d4ebff;}#sk-container-id-1 div.sk-label input.sk-toggleable__control:checked~label.sk-toggleable__label {background-color: #d4ebff;}#sk-container-id-1 input.sk-hidden--visually {border: 0;clip: rect(1px 1px 1px 1px);clip: rect(1px, 1px, 1px, 1px);height: 1px;margin: -1px;overflow: hidden;padding: 0;position: absolute;width: 1px;}#sk-container-id-1 div.sk-estimator {font-family: monospace;background-color: #f0f8ff;border: 1px dotted black;border-radius: 0.25em;box-sizing: border-box;margin-bottom: 0.5em;}#sk-container-id-1 div.sk-estimator:hover {background-color: #d4ebff;}#sk-container-id-1 div.sk-parallel-item::after {content: \"\";width: 100%;border-bottom: 1px solid gray;flex-grow: 1;}#sk-container-id-1 div.sk-label:hover label.sk-toggleable__label {background-color: #d4ebff;}#sk-container-id-1 div.sk-serial::before {content: \"\";position: absolute;border-left: 1px solid gray;box-sizing: border-box;top: 0;bottom: 0;left: 50%;z-index: 0;}#sk-container-id-1 div.sk-serial {display: flex;flex-direction: column;align-items: center;background-color: white;padding-right: 0.2em;padding-left: 0.2em;position: relative;}#sk-container-id-1 div.sk-item {position: relative;z-index: 1;}#sk-container-id-1 div.sk-parallel {display: flex;align-items: stretch;justify-content: center;background-color: white;position: relative;}#sk-container-id-1 div.sk-item::before, #sk-container-id-1 div.sk-parallel-item::before {content: \"\";position: absolute;border-left: 1px solid gray;box-sizing: border-box;top: 0;bottom: 0;left: 50%;z-index: -1;}#sk-container-id-1 div.sk-parallel-item {display: flex;flex-direction: column;z-index: 1;position: relative;background-color: white;}#sk-container-id-1 div.sk-parallel-item:first-child::after {align-self: flex-end;width: 50%;}#sk-container-id-1 div.sk-parallel-item:last-child::after {align-self: flex-start;width: 50%;}#sk-container-id-1 div.sk-parallel-item:only-child::after {width: 0;}#sk-container-id-1 div.sk-dashed-wrapped {border: 1px dashed gray;margin: 0 0.4em 0.5em 0.4em;box-sizing: border-box;padding-bottom: 0.4em;background-color: white;}#sk-container-id-1 div.sk-label label {font-family: monospace;font-weight: bold;display: inline-block;line-height: 1.2em;}#sk-container-id-1 div.sk-label-container {text-align: center;}#sk-container-id-1 div.sk-container {/* jupyter's `normalize.less` sets `[hidden] { display: none; }` but bootstrap.min.css set `[hidden] { display: none !important; }` so we also need the `!important` here to be able to override the default hidden behavior on the sphinx rendered scikit-learn.org. See: https://github.com/scikit-learn/scikit-learn/issues/21755 */display: inline-block !important;position: relative;}#sk-container-id-1 div.sk-text-repr-fallback {display: none;}</style><div id=\"sk-container-id-1\" class=\"sk-top-container\"><div class=\"sk-text-repr-fallback\"><pre>RandomForestClassifier(random_state=42)</pre><b>In a Jupyter environment, please rerun this cell to show the HTML representation or trust the notebook. <br />On GitHub, the HTML representation is unable to render, please try loading this page with nbviewer.org.</b></div><div class=\"sk-container\" hidden><div class=\"sk-item\"><div class=\"sk-estimator sk-toggleable\"><input class=\"sk-toggleable__control sk-hidden--visually\" id=\"sk-estimator-id-1\" type=\"checkbox\" checked><label for=\"sk-estimator-id-1\" class=\"sk-toggleable__label sk-toggleable__label-arrow\">RandomForestClassifier</label><div class=\"sk-toggleable__content\"><pre>RandomForestClassifier(random_state=42)</pre></div></div></div></div></div>"
      ],
      "text/plain": [
       "RandomForestClassifier(random_state=42)"
      ]
     },
     "execution_count": 51,
     "metadata": {},
     "output_type": "execute_result"
    }
   ],
   "source": [
    "# Create and train a Random Forest classifier\n",
    "clf = RandomForestClassifier(random_state=42)\n",
    "clf.fit(X_train, y_train)\n",
    "\n"
   ]
  },
  {
   "cell_type": "code",
   "execution_count": 52,
   "id": "5865c324",
   "metadata": {},
   "outputs": [],
   "source": [
    "# Calculate feature importance using permutation importance\n",
    "perm_importance = permutation_importance(clf, X_test, y_test, n_repeats=30, random_state=42)\n",
    "\n",
    "# Get the results and feature names\n",
    "importance_scores = perm_importance.importances_mean\n",
    "feature_names = X.columns\n",
    "\n",
    "# Combine the feature names and their importance scores\n",
    "feature_importance_df = pd.DataFrame({'Feature': feature_names, 'Importance': importance_scores})\n",
    "\n",
    "# Sort the features by importance in descending order\n",
    "feature_importance_df = feature_importance_df.sort_values(by='Importance', ascending=False)\n",
    "\n"
   ]
  },
  {
   "cell_type": "code",
   "execution_count": 53,
   "id": "db10f4be",
   "metadata": {},
   "outputs": [
    {
     "data": {
      "text/html": [
       "<div>\n",
       "<style scoped>\n",
       "    .dataframe tbody tr th:only-of-type {\n",
       "        vertical-align: middle;\n",
       "    }\n",
       "\n",
       "    .dataframe tbody tr th {\n",
       "        vertical-align: top;\n",
       "    }\n",
       "\n",
       "    .dataframe thead th {\n",
       "        text-align: right;\n",
       "    }\n",
       "</style>\n",
       "<table border=\"1\" class=\"dataframe\">\n",
       "  <thead>\n",
       "    <tr style=\"text-align: right;\">\n",
       "      <th></th>\n",
       "      <th>Feature</th>\n",
       "      <th>Importance</th>\n",
       "    </tr>\n",
       "  </thead>\n",
       "  <tbody>\n",
       "    <tr>\n",
       "      <th>6</th>\n",
       "      <td>Name</td>\n",
       "      <td>0.015185</td>\n",
       "    </tr>\n",
       "    <tr>\n",
       "      <th>1</th>\n",
       "      <td>D Score</td>\n",
       "      <td>0.010000</td>\n",
       "    </tr>\n",
       "    <tr>\n",
       "      <th>15</th>\n",
       "      <td>tot_fin_d</td>\n",
       "      <td>0.000370</td>\n",
       "    </tr>\n",
       "    <tr>\n",
       "      <th>9</th>\n",
       "      <td>total_E</td>\n",
       "      <td>0.000000</td>\n",
       "    </tr>\n",
       "    <tr>\n",
       "      <th>16</th>\n",
       "      <td>tot_fin_ddiv</td>\n",
       "      <td>0.000000</td>\n",
       "    </tr>\n",
       "    <tr>\n",
       "      <th>14</th>\n",
       "      <td>tot_final</td>\n",
       "      <td>0.000000</td>\n",
       "    </tr>\n",
       "    <tr>\n",
       "      <th>13</th>\n",
       "      <td>round_unknown</td>\n",
       "      <td>0.000000</td>\n",
       "    </tr>\n",
       "    <tr>\n",
       "      <th>11</th>\n",
       "      <td>round_final</td>\n",
       "      <td>0.000000</td>\n",
       "    </tr>\n",
       "    <tr>\n",
       "      <th>17</th>\n",
       "      <td>tot_fin_ddiv_rank</td>\n",
       "      <td>0.000000</td>\n",
       "    </tr>\n",
       "    <tr>\n",
       "      <th>7</th>\n",
       "      <td>nation</td>\n",
       "      <td>0.000000</td>\n",
       "    </tr>\n",
       "    <tr>\n",
       "      <th>4</th>\n",
       "      <td>Total</td>\n",
       "      <td>0.000000</td>\n",
       "    </tr>\n",
       "    <tr>\n",
       "      <th>3</th>\n",
       "      <td>Pen.</td>\n",
       "      <td>0.000000</td>\n",
       "    </tr>\n",
       "    <tr>\n",
       "      <th>10</th>\n",
       "      <td>D_E</td>\n",
       "      <td>-0.000370</td>\n",
       "    </tr>\n",
       "    <tr>\n",
       "      <th>5</th>\n",
       "      <td>year</td>\n",
       "      <td>-0.000741</td>\n",
       "    </tr>\n",
       "    <tr>\n",
       "      <th>2</th>\n",
       "      <td>E Score</td>\n",
       "      <td>-0.000741</td>\n",
       "    </tr>\n",
       "    <tr>\n",
       "      <th>8</th>\n",
       "      <td>total_D</td>\n",
       "      <td>-0.003704</td>\n",
       "    </tr>\n",
       "    <tr>\n",
       "      <th>0</th>\n",
       "      <td>Rank</td>\n",
       "      <td>-0.005185</td>\n",
       "    </tr>\n",
       "    <tr>\n",
       "      <th>12</th>\n",
       "      <td>round_qual</td>\n",
       "      <td>-0.005926</td>\n",
       "    </tr>\n",
       "  </tbody>\n",
       "</table>\n",
       "</div>"
      ],
      "text/plain": [
       "              Feature  Importance\n",
       "6                Name    0.015185\n",
       "1             D Score    0.010000\n",
       "15          tot_fin_d    0.000370\n",
       "9             total_E    0.000000\n",
       "16       tot_fin_ddiv    0.000000\n",
       "14          tot_final    0.000000\n",
       "13      round_unknown    0.000000\n",
       "11        round_final    0.000000\n",
       "17  tot_fin_ddiv_rank    0.000000\n",
       "7              nation    0.000000\n",
       "4               Total    0.000000\n",
       "3                Pen.    0.000000\n",
       "10                D_E   -0.000370\n",
       "5                year   -0.000741\n",
       "2             E Score   -0.000741\n",
       "8             total_D   -0.003704\n",
       "0                Rank   -0.005185\n",
       "12         round_qual   -0.005926"
      ]
     },
     "execution_count": 53,
     "metadata": {},
     "output_type": "execute_result"
    }
   ],
   "source": [
    "feature_importance_df"
   ]
  },
  {
   "cell_type": "code",
   "execution_count": 54,
   "id": "391b7053",
   "metadata": {},
   "outputs": [],
   "source": [
    "from sklearn.ensemble import RandomForestClassifier\n",
    "clf = RandomForestClassifier(random_state=42)\n",
    "clf.fit(X_train, y_train)\n",
    "feature_importance = clf.feature_importances_\n"
   ]
  },
  {
   "cell_type": "code",
   "execution_count": 55,
   "id": "682e9d4f",
   "metadata": {},
   "outputs": [],
   "source": [
    "import pandas as pd\n",
    "import shap\n",
    "from sklearn.ensemble import RandomForestClassifier\n",
    "from sklearn.model_selection import train_test_split\n",
    "\n"
   ]
  },
  {
   "cell_type": "code",
   "execution_count": 56,
   "id": "af6d1a80",
   "metadata": {},
   "outputs": [],
   "source": [
    "X_train, X_test, y_train, y_test = train_test_split(X, y, test_size=0.15, random_state=42)\n"
   ]
  },
  {
   "cell_type": "code",
   "execution_count": 57,
   "id": "945bed4e",
   "metadata": {},
   "outputs": [],
   "source": [
    "# Convert non-numeric columns to numeric (e.g., using one-hot encoding for categorical columns)\n",
    "X_train = pd.get_dummies(X_train, columns=['round_final', 'round_qual'])\n",
    "X_test = pd.get_dummies(X_test, columns=['round_final', 'round_qual'])\n",
    "\n",
    "# Handle missing values \n",
    "X_train = X_train.dropna()\n",
    "X_test = X_test.dropna()\n",
    "\n",
    "# Ensure all columns have a numeric data type\n",
    "X_train = X_train.astype('float64')\n",
    "X_test = X_test.astype('float64')\n",
    "\n",
    "# Proceed with SHAP analysis\n"
   ]
  },
  {
   "cell_type": "code",
   "execution_count": 62,
   "id": "72828455",
   "metadata": {},
   "outputs": [],
   "source": [
    "# clf = RandomForestClassifier(random_state=42)\n",
    "# clf.fit(X_train, y_train)\n",
    "\n",
    "# # Initialize a SHAP explainer\n",
    "# explainer = shap.Explainer(clf, X_train)\n",
    "\n",
    "# # Calculate SHAP values for the testing data\n",
    "# shap_values = explainer(X_test)\n",
    "\n",
    "# # Get the feature names corresponding to one-hot encoded columns\n",
    "# feature_names = X_test.columns\n",
    "\n",
    "# # Plot the summary plot to visualize feature importances\n",
    "# shap.summary_plot(shap_values, X_test, feature_names=feature_names)"
   ]
  },
  {
   "cell_type": "code",
   "execution_count": 59,
   "id": "a4f9303f",
   "metadata": {},
   "outputs": [
    {
     "data": {
      "text/html": [
       "<style>#sk-container-id-2 {color: black;}#sk-container-id-2 pre{padding: 0;}#sk-container-id-2 div.sk-toggleable {background-color: white;}#sk-container-id-2 label.sk-toggleable__label {cursor: pointer;display: block;width: 100%;margin-bottom: 0;padding: 0.3em;box-sizing: border-box;text-align: center;}#sk-container-id-2 label.sk-toggleable__label-arrow:before {content: \"▸\";float: left;margin-right: 0.25em;color: #696969;}#sk-container-id-2 label.sk-toggleable__label-arrow:hover:before {color: black;}#sk-container-id-2 div.sk-estimator:hover label.sk-toggleable__label-arrow:before {color: black;}#sk-container-id-2 div.sk-toggleable__content {max-height: 0;max-width: 0;overflow: hidden;text-align: left;background-color: #f0f8ff;}#sk-container-id-2 div.sk-toggleable__content pre {margin: 0.2em;color: black;border-radius: 0.25em;background-color: #f0f8ff;}#sk-container-id-2 input.sk-toggleable__control:checked~div.sk-toggleable__content {max-height: 200px;max-width: 100%;overflow: auto;}#sk-container-id-2 input.sk-toggleable__control:checked~label.sk-toggleable__label-arrow:before {content: \"▾\";}#sk-container-id-2 div.sk-estimator input.sk-toggleable__control:checked~label.sk-toggleable__label {background-color: #d4ebff;}#sk-container-id-2 div.sk-label input.sk-toggleable__control:checked~label.sk-toggleable__label {background-color: #d4ebff;}#sk-container-id-2 input.sk-hidden--visually {border: 0;clip: rect(1px 1px 1px 1px);clip: rect(1px, 1px, 1px, 1px);height: 1px;margin: -1px;overflow: hidden;padding: 0;position: absolute;width: 1px;}#sk-container-id-2 div.sk-estimator {font-family: monospace;background-color: #f0f8ff;border: 1px dotted black;border-radius: 0.25em;box-sizing: border-box;margin-bottom: 0.5em;}#sk-container-id-2 div.sk-estimator:hover {background-color: #d4ebff;}#sk-container-id-2 div.sk-parallel-item::after {content: \"\";width: 100%;border-bottom: 1px solid gray;flex-grow: 1;}#sk-container-id-2 div.sk-label:hover label.sk-toggleable__label {background-color: #d4ebff;}#sk-container-id-2 div.sk-serial::before {content: \"\";position: absolute;border-left: 1px solid gray;box-sizing: border-box;top: 0;bottom: 0;left: 50%;z-index: 0;}#sk-container-id-2 div.sk-serial {display: flex;flex-direction: column;align-items: center;background-color: white;padding-right: 0.2em;padding-left: 0.2em;position: relative;}#sk-container-id-2 div.sk-item {position: relative;z-index: 1;}#sk-container-id-2 div.sk-parallel {display: flex;align-items: stretch;justify-content: center;background-color: white;position: relative;}#sk-container-id-2 div.sk-item::before, #sk-container-id-2 div.sk-parallel-item::before {content: \"\";position: absolute;border-left: 1px solid gray;box-sizing: border-box;top: 0;bottom: 0;left: 50%;z-index: -1;}#sk-container-id-2 div.sk-parallel-item {display: flex;flex-direction: column;z-index: 1;position: relative;background-color: white;}#sk-container-id-2 div.sk-parallel-item:first-child::after {align-self: flex-end;width: 50%;}#sk-container-id-2 div.sk-parallel-item:last-child::after {align-self: flex-start;width: 50%;}#sk-container-id-2 div.sk-parallel-item:only-child::after {width: 0;}#sk-container-id-2 div.sk-dashed-wrapped {border: 1px dashed gray;margin: 0 0.4em 0.5em 0.4em;box-sizing: border-box;padding-bottom: 0.4em;background-color: white;}#sk-container-id-2 div.sk-label label {font-family: monospace;font-weight: bold;display: inline-block;line-height: 1.2em;}#sk-container-id-2 div.sk-label-container {text-align: center;}#sk-container-id-2 div.sk-container {/* jupyter's `normalize.less` sets `[hidden] { display: none; }` but bootstrap.min.css set `[hidden] { display: none !important; }` so we also need the `!important` here to be able to override the default hidden behavior on the sphinx rendered scikit-learn.org. See: https://github.com/scikit-learn/scikit-learn/issues/21755 */display: inline-block !important;position: relative;}#sk-container-id-2 div.sk-text-repr-fallback {display: none;}</style><div id=\"sk-container-id-2\" class=\"sk-top-container\"><div class=\"sk-text-repr-fallback\"><pre>RandomForestClassifier(random_state=42)</pre><b>In a Jupyter environment, please rerun this cell to show the HTML representation or trust the notebook. <br />On GitHub, the HTML representation is unable to render, please try loading this page with nbviewer.org.</b></div><div class=\"sk-container\" hidden><div class=\"sk-item\"><div class=\"sk-estimator sk-toggleable\"><input class=\"sk-toggleable__control sk-hidden--visually\" id=\"sk-estimator-id-2\" type=\"checkbox\" checked><label for=\"sk-estimator-id-2\" class=\"sk-toggleable__label sk-toggleable__label-arrow\">RandomForestClassifier</label><div class=\"sk-toggleable__content\"><pre>RandomForestClassifier(random_state=42)</pre></div></div></div></div></div>"
      ],
      "text/plain": [
       "RandomForestClassifier(random_state=42)"
      ]
     },
     "execution_count": 59,
     "metadata": {},
     "output_type": "execute_result"
    }
   ],
   "source": [
    "clf = RandomForestClassifier(n_estimators=100, random_state=42)\n",
    "clf.fit(X, y)"
   ]
  },
  {
   "cell_type": "code",
   "execution_count": 60,
   "id": "6928db69",
   "metadata": {},
   "outputs": [],
   "source": [
    "importance = clf.feature_importances_\n"
   ]
  },
  {
   "cell_type": "code",
   "execution_count": 61,
   "id": "11fd774d",
   "metadata": {},
   "outputs": [
    {
     "name": "stdout",
     "output_type": "stream",
     "text": [
      "Rank 0.04894146083741395\n",
      "D Score 0.09589446146149395\n",
      "E Score 0.048011477870194184\n",
      "Pen. 0.0\n",
      "Total 0.0779912346597957\n",
      "year 0.047194968913971846\n",
      "Name 0.1690138569366903\n",
      "nation 0.05804836457848554\n",
      "total_D 0.04354060565523645\n",
      "total_E 0.03475833962163851\n",
      "D_E 0.03920671843249756\n",
      "round_final 0.0023424399501728397\n",
      "round_qual 0.0028107402020166265\n",
      "round_unknown 0.0\n",
      "tot_final 0.06969970838135674\n",
      "tot_fin_d 0.08935393571700452\n",
      "tot_fin_ddiv 0.07616883249950362\n",
      "tot_fin_ddiv_rank 0.09702285428252772\n"
     ]
    }
   ],
   "source": [
    "\n",
    "for feature, importance in zip(X, importance):\n",
    "    print(feature, importance)"
   ]
  },
  {
   "cell_type": "code",
   "execution_count": 63,
   "id": "dc193d36",
   "metadata": {},
   "outputs": [
    {
     "data": {
      "text/html": [
       "<div>\n",
       "<style scoped>\n",
       "    .dataframe tbody tr th:only-of-type {\n",
       "        vertical-align: middle;\n",
       "    }\n",
       "\n",
       "    .dataframe tbody tr th {\n",
       "        vertical-align: top;\n",
       "    }\n",
       "\n",
       "    .dataframe thead th {\n",
       "        text-align: right;\n",
       "    }\n",
       "</style>\n",
       "<table border=\"1\" class=\"dataframe\">\n",
       "  <thead>\n",
       "    <tr style=\"text-align: right;\">\n",
       "      <th></th>\n",
       "      <th>Rank</th>\n",
       "      <th>Name</th>\n",
       "      <th>nation</th>\n",
       "      <th>D Score</th>\n",
       "      <th>E Score</th>\n",
       "      <th>Pen.</th>\n",
       "      <th>Total</th>\n",
       "      <th>year</th>\n",
       "      <th>round</th>\n",
       "    </tr>\n",
       "  </thead>\n",
       "  <tbody>\n",
       "    <tr>\n",
       "      <th>1706</th>\n",
       "      <td>1.0</td>\n",
       "      <td>nina derwael</td>\n",
       "      <td>BEL</td>\n",
       "      <td>6.5</td>\n",
       "      <td>8.533</td>\n",
       "      <td>0.0</td>\n",
       "      <td>15.033</td>\n",
       "      <td>2019</td>\n",
       "      <td>Final</td>\n",
       "    </tr>\n",
       "    <tr>\n",
       "      <th>1707</th>\n",
       "      <td>2.0</td>\n",
       "      <td>fan yilin</td>\n",
       "      <td>CHN</td>\n",
       "      <td>6.5</td>\n",
       "      <td>8.433</td>\n",
       "      <td>0.0</td>\n",
       "      <td>14.933</td>\n",
       "      <td>2019</td>\n",
       "      <td>Final</td>\n",
       "    </tr>\n",
       "    <tr>\n",
       "      <th>1708</th>\n",
       "      <td>3.0</td>\n",
       "      <td>anastasiia iliankova</td>\n",
       "      <td>RUS</td>\n",
       "      <td>6.3</td>\n",
       "      <td>8.400</td>\n",
       "      <td>0.0</td>\n",
       "      <td>14.700</td>\n",
       "      <td>2019</td>\n",
       "      <td>Final</td>\n",
       "    </tr>\n",
       "    <tr>\n",
       "      <th>1709</th>\n",
       "      <td>4.0</td>\n",
       "      <td>jonna adlerteg</td>\n",
       "      <td>SWE</td>\n",
       "      <td>6.0</td>\n",
       "      <td>8.216</td>\n",
       "      <td>0.0</td>\n",
       "      <td>14.216</td>\n",
       "      <td>2019</td>\n",
       "      <td>Final</td>\n",
       "    </tr>\n",
       "    <tr>\n",
       "      <th>1710</th>\n",
       "      <td>5.0</td>\n",
       "      <td>kim bui</td>\n",
       "      <td>GER</td>\n",
       "      <td>6.0</td>\n",
       "      <td>8.000</td>\n",
       "      <td>0.0</td>\n",
       "      <td>14.000</td>\n",
       "      <td>2019</td>\n",
       "      <td>Final</td>\n",
       "    </tr>\n",
       "    <tr>\n",
       "      <th>...</th>\n",
       "      <td>...</td>\n",
       "      <td>...</td>\n",
       "      <td>...</td>\n",
       "      <td>...</td>\n",
       "      <td>...</td>\n",
       "      <td>...</td>\n",
       "      <td>...</td>\n",
       "      <td>...</td>\n",
       "      <td>...</td>\n",
       "    </tr>\n",
       "    <tr>\n",
       "      <th>2182</th>\n",
       "      <td>32.0</td>\n",
       "      <td>bianca frysak</td>\n",
       "      <td>AUT</td>\n",
       "      <td>3.9</td>\n",
       "      <td>6.466</td>\n",
       "      <td>0.0</td>\n",
       "      <td>10.366</td>\n",
       "      <td>2019</td>\n",
       "      <td>qual</td>\n",
       "    </tr>\n",
       "    <tr>\n",
       "      <th>2183</th>\n",
       "      <td>33.0</td>\n",
       "      <td>tjasa kysselef</td>\n",
       "      <td>SLO</td>\n",
       "      <td>1.3</td>\n",
       "      <td>8.666</td>\n",
       "      <td>0.0</td>\n",
       "      <td>9.966</td>\n",
       "      <td>2019</td>\n",
       "      <td>qual</td>\n",
       "    </tr>\n",
       "    <tr>\n",
       "      <th>2184</th>\n",
       "      <td>34.0</td>\n",
       "      <td>jessica castles</td>\n",
       "      <td>SWE</td>\n",
       "      <td>4.5</td>\n",
       "      <td>4.933</td>\n",
       "      <td>0.0</td>\n",
       "      <td>9.433</td>\n",
       "      <td>2019</td>\n",
       "      <td>qual</td>\n",
       "    </tr>\n",
       "    <tr>\n",
       "      <th>2185</th>\n",
       "      <td>35.0</td>\n",
       "      <td>laney madsen</td>\n",
       "      <td>BUL</td>\n",
       "      <td>3.7</td>\n",
       "      <td>5.333</td>\n",
       "      <td>0.0</td>\n",
       "      <td>9.033</td>\n",
       "      <td>2019</td>\n",
       "      <td>qual</td>\n",
       "    </tr>\n",
       "    <tr>\n",
       "      <th>2186</th>\n",
       "      <td>36.0</td>\n",
       "      <td>elvira katsali</td>\n",
       "      <td>GRE</td>\n",
       "      <td>2.5</td>\n",
       "      <td>4.900</td>\n",
       "      <td>0.0</td>\n",
       "      <td>7.400</td>\n",
       "      <td>2019</td>\n",
       "      <td>qual</td>\n",
       "    </tr>\n",
       "  </tbody>\n",
       "</table>\n",
       "<p>141 rows × 9 columns</p>\n",
       "</div>"
      ],
      "text/plain": [
       "      Rank                  Name nation  D Score  E Score  Pen.   Total  year  \\\n",
       "1706   1.0          nina derwael    BEL      6.5    8.533   0.0  15.033  2019   \n",
       "1707   2.0             fan yilin    CHN      6.5    8.433   0.0  14.933  2019   \n",
       "1708   3.0  anastasiia iliankova    RUS      6.3    8.400   0.0  14.700  2019   \n",
       "1709   4.0        jonna adlerteg    SWE      6.0    8.216   0.0  14.216  2019   \n",
       "1710   5.0               kim bui    GER      6.0    8.000   0.0  14.000  2019   \n",
       "...    ...                   ...    ...      ...      ...   ...     ...   ...   \n",
       "2182  32.0         bianca frysak    AUT      3.9    6.466   0.0  10.366  2019   \n",
       "2183  33.0        tjasa kysselef    SLO      1.3    8.666   0.0   9.966  2019   \n",
       "2184  34.0       jessica castles    SWE      4.5    4.933   0.0   9.433  2019   \n",
       "2185  35.0          laney madsen    BUL      3.7    5.333   0.0   9.033  2019   \n",
       "2186  36.0        elvira katsali    GRE      2.5    4.900   0.0   7.400  2019   \n",
       "\n",
       "      round  \n",
       "1706  Final  \n",
       "1707  Final  \n",
       "1708  Final  \n",
       "1709  Final  \n",
       "1710  Final  \n",
       "...     ...  \n",
       "2182   qual  \n",
       "2183   qual  \n",
       "2184   qual  \n",
       "2185   qual  \n",
       "2186   qual  \n",
       "\n",
       "[141 rows x 9 columns]"
      ]
     },
     "execution_count": 63,
     "metadata": {},
     "output_type": "execute_result"
    }
   ],
   "source": [
    "df1"
   ]
  },
  {
   "cell_type": "code",
   "execution_count": 64,
   "id": "a65bd7d5",
   "metadata": {},
   "outputs": [],
   "source": [
    "usa=df1[df1['nation']=='USA']"
   ]
  },
  {
   "cell_type": "code",
   "execution_count": 65,
   "id": "82e35573",
   "metadata": {},
   "outputs": [
    {
     "data": {
      "text/html": [
       "<div>\n",
       "<style scoped>\n",
       "    .dataframe tbody tr th:only-of-type {\n",
       "        vertical-align: middle;\n",
       "    }\n",
       "\n",
       "    .dataframe tbody tr th {\n",
       "        vertical-align: top;\n",
       "    }\n",
       "\n",
       "    .dataframe thead th {\n",
       "        text-align: right;\n",
       "    }\n",
       "</style>\n",
       "<table border=\"1\" class=\"dataframe\">\n",
       "  <thead>\n",
       "    <tr style=\"text-align: right;\">\n",
       "      <th></th>\n",
       "      <th>Rank</th>\n",
       "      <th>Name</th>\n",
       "      <th>nation</th>\n",
       "      <th>D Score</th>\n",
       "      <th>E Score</th>\n",
       "      <th>Pen.</th>\n",
       "      <th>Total</th>\n",
       "      <th>year</th>\n",
       "      <th>round</th>\n",
       "    </tr>\n",
       "  </thead>\n",
       "  <tbody>\n",
       "    <tr>\n",
       "      <th>1850</th>\n",
       "      <td>2.0</td>\n",
       "      <td>ragan smith</td>\n",
       "      <td>USA</td>\n",
       "      <td>6.0</td>\n",
       "      <td>8.567</td>\n",
       "      <td>0.0</td>\n",
       "      <td>14.567</td>\n",
       "      <td>2018</td>\n",
       "      <td>final</td>\n",
       "    </tr>\n",
       "    <tr>\n",
       "      <th>1852</th>\n",
       "      <td>4.0</td>\n",
       "      <td>alyona shchennikova</td>\n",
       "      <td>USA</td>\n",
       "      <td>6.0</td>\n",
       "      <td>8.167</td>\n",
       "      <td>0.0</td>\n",
       "      <td>14.167</td>\n",
       "      <td>2018</td>\n",
       "      <td>final</td>\n",
       "    </tr>\n",
       "  </tbody>\n",
       "</table>\n",
       "</div>"
      ],
      "text/plain": [
       "      Rank                 Name nation  D Score  E Score  Pen.   Total  year  \\\n",
       "1850   2.0          ragan smith    USA      6.0    8.567   0.0  14.567  2018   \n",
       "1852   4.0  alyona shchennikova    USA      6.0    8.167   0.0  14.167  2018   \n",
       "\n",
       "      round  \n",
       "1850  final  \n",
       "1852  final  "
      ]
     },
     "execution_count": 65,
     "metadata": {},
     "output_type": "execute_result"
    }
   ],
   "source": [
    "usa"
   ]
  },
  {
   "cell_type": "code",
   "execution_count": null,
   "id": "2b62bb19",
   "metadata": {},
   "outputs": [],
   "source": []
  }
 ],
 "metadata": {
  "kernelspec": {
   "display_name": "Python 3 (ipykernel)",
   "language": "python",
   "name": "python3"
  },
  "language_info": {
   "codemirror_mode": {
    "name": "ipython",
    "version": 3
   },
   "file_extension": ".py",
   "mimetype": "text/x-python",
   "name": "python",
   "nbconvert_exporter": "python",
   "pygments_lexer": "ipython3",
   "version": "3.9.12"
  }
 },
 "nbformat": 4,
 "nbformat_minor": 5
}
