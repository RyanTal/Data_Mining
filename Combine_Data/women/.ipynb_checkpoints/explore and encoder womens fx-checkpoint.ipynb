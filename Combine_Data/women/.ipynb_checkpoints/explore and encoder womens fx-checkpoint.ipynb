{
 "cells": [
  {
   "cell_type": "markdown",
   "id": "8ebb1692",
   "metadata": {},
   "source": [
    "### Total: 19\n",
    "\n",
    "\n",
    "2016 \n",
    "- 9\n",
    "\n",
    "2020\n",
    "- 10"
   ]
  },
  {
   "cell_type": "code",
   "execution_count": 1,
   "id": "9e1756b9",
   "metadata": {},
   "outputs": [],
   "source": [
    "import pandas as pd\n",
    "import numpy as np"
   ]
  },
  {
   "cell_type": "code",
   "execution_count": 2,
   "id": "7306d05d",
   "metadata": {},
   "outputs": [],
   "source": [
    "df = pd.read_csv('fx_w.csv')\n",
    "# df = pd.read_csv('mult_fx_w.csv')"
   ]
  },
  {
   "cell_type": "markdown",
   "id": "c31d412d",
   "metadata": {},
   "source": [
    "## 2020 fx medalist\n",
    "1. Jade Carey\n",
    "2. Vanessa Ferrari\n",
    "3. Mai Murakami\n",
    "\n",
    "\n",
    "## 2016 fx medalist\n",
    "1. Simone Biles\n",
    "2. Aly Raisman\n",
    "3. Amy Tinkler\n",
    "\n",
    "\n"
   ]
  },
  {
   "cell_type": "code",
   "execution_count": 3,
   "id": "e9e161d7",
   "metadata": {},
   "outputs": [
    {
     "data": {
      "text/plain": [
       "year\n",
       "2023    851\n",
       "2022    573\n",
       "2021    138\n",
       "2015    115\n",
       "2019     95\n",
       "2014     28\n",
       "2013     28\n",
       "2018     10\n",
       "2017      7\n",
       "2020      4\n",
       "2011      3\n",
       "2016      2\n",
       "Name: count, dtype: int64"
      ]
     },
     "execution_count": 3,
     "metadata": {},
     "output_type": "execute_result"
    }
   ],
   "source": [
    "df['year'].value_counts()"
   ]
  },
  {
   "cell_type": "code",
   "execution_count": 4,
   "id": "cb33580e",
   "metadata": {},
   "outputs": [
    {
     "data": {
      "text/html": [
       "<div>\n",
       "<style scoped>\n",
       "    .dataframe tbody tr th:only-of-type {\n",
       "        vertical-align: middle;\n",
       "    }\n",
       "\n",
       "    .dataframe tbody tr th {\n",
       "        vertical-align: top;\n",
       "    }\n",
       "\n",
       "    .dataframe thead th {\n",
       "        text-align: right;\n",
       "    }\n",
       "</style>\n",
       "<table border=\"1\" class=\"dataframe\">\n",
       "  <thead>\n",
       "    <tr style=\"text-align: right;\">\n",
       "      <th></th>\n",
       "      <th>Rank</th>\n",
       "      <th>Name</th>\n",
       "      <th>nation</th>\n",
       "      <th>D Score</th>\n",
       "      <th>E Score</th>\n",
       "      <th>Pen.</th>\n",
       "      <th>Total</th>\n",
       "      <th>year</th>\n",
       "      <th>round</th>\n",
       "    </tr>\n",
       "  </thead>\n",
       "  <tbody>\n",
       "    <tr>\n",
       "      <th>0</th>\n",
       "      <td>109.0</td>\n",
       "      <td>jana abdelsalam</td>\n",
       "      <td>EGY</td>\n",
       "      <td>4.4</td>\n",
       "      <td>7.466</td>\n",
       "      <td>0.1</td>\n",
       "      <td>11.766</td>\n",
       "      <td>2022</td>\n",
       "      <td>qual</td>\n",
       "    </tr>\n",
       "    <tr>\n",
       "      <th>1</th>\n",
       "      <td>131.0</td>\n",
       "      <td>jana abdelsalam</td>\n",
       "      <td>EGY</td>\n",
       "      <td>4.5</td>\n",
       "      <td>7.200</td>\n",
       "      <td>0.3</td>\n",
       "      <td>11.400</td>\n",
       "      <td>2023</td>\n",
       "      <td>qual</td>\n",
       "    </tr>\n",
       "    <tr>\n",
       "      <th>2</th>\n",
       "      <td>22.0</td>\n",
       "      <td>jana abdelsalam</td>\n",
       "      <td>EGY</td>\n",
       "      <td>4.5</td>\n",
       "      <td>7.366</td>\n",
       "      <td>0.0</td>\n",
       "      <td>11.866</td>\n",
       "      <td>2023</td>\n",
       "      <td>qual</td>\n",
       "    </tr>\n",
       "    <tr>\n",
       "      <th>3</th>\n",
       "      <td>16.0</td>\n",
       "      <td>ondine achampong</td>\n",
       "      <td>GBR</td>\n",
       "      <td>5.3</td>\n",
       "      <td>8.033</td>\n",
       "      <td>0.0</td>\n",
       "      <td>13.333</td>\n",
       "      <td>2022</td>\n",
       "      <td>qual</td>\n",
       "    </tr>\n",
       "    <tr>\n",
       "      <th>4</th>\n",
       "      <td>12.0</td>\n",
       "      <td>ondine achampong</td>\n",
       "      <td>GBR</td>\n",
       "      <td>5.2</td>\n",
       "      <td>7.600</td>\n",
       "      <td>0.3</td>\n",
       "      <td>12.500</td>\n",
       "      <td>2022</td>\n",
       "      <td>qual</td>\n",
       "    </tr>\n",
       "    <tr>\n",
       "      <th>...</th>\n",
       "      <td>...</td>\n",
       "      <td>...</td>\n",
       "      <td>...</td>\n",
       "      <td>...</td>\n",
       "      <td>...</td>\n",
       "      <td>...</td>\n",
       "      <td>...</td>\n",
       "      <td>...</td>\n",
       "      <td>...</td>\n",
       "    </tr>\n",
       "    <tr>\n",
       "      <th>1849</th>\n",
       "      <td>68.0</td>\n",
       "      <td>demet mutlu</td>\n",
       "      <td>TUR</td>\n",
       "      <td>4.9</td>\n",
       "      <td>6.366</td>\n",
       "      <td>0.0</td>\n",
       "      <td>11.266</td>\n",
       "      <td>2015</td>\n",
       "      <td>qual</td>\n",
       "    </tr>\n",
       "    <tr>\n",
       "      <th>1850</th>\n",
       "      <td>70.0</td>\n",
       "      <td>sofie bråten</td>\n",
       "      <td>NOR</td>\n",
       "      <td>4.4</td>\n",
       "      <td>6.833</td>\n",
       "      <td>0.0</td>\n",
       "      <td>11.233</td>\n",
       "      <td>2015</td>\n",
       "      <td>qual</td>\n",
       "    </tr>\n",
       "    <tr>\n",
       "      <th>1851</th>\n",
       "      <td>72.0</td>\n",
       "      <td>anastasija dubova</td>\n",
       "      <td>LAT</td>\n",
       "      <td>3.6</td>\n",
       "      <td>7.500</td>\n",
       "      <td>0.0</td>\n",
       "      <td>11.100</td>\n",
       "      <td>2015</td>\n",
       "      <td>qual</td>\n",
       "    </tr>\n",
       "    <tr>\n",
       "      <th>1852</th>\n",
       "      <td>74.0</td>\n",
       "      <td>ekin morova</td>\n",
       "      <td>TUR</td>\n",
       "      <td>5.1</td>\n",
       "      <td>6.333</td>\n",
       "      <td>-0.4</td>\n",
       "      <td>11.033</td>\n",
       "      <td>2015</td>\n",
       "      <td>qual</td>\n",
       "    </tr>\n",
       "    <tr>\n",
       "      <th>1853</th>\n",
       "      <td>75.0</td>\n",
       "      <td>anastasiya yekimenka</td>\n",
       "      <td>BLR</td>\n",
       "      <td>4.0</td>\n",
       "      <td>6.933</td>\n",
       "      <td>0.0</td>\n",
       "      <td>10.933</td>\n",
       "      <td>2015</td>\n",
       "      <td>qual</td>\n",
       "    </tr>\n",
       "  </tbody>\n",
       "</table>\n",
       "<p>1854 rows × 9 columns</p>\n",
       "</div>"
      ],
      "text/plain": [
       "       Rank                  Name nation  D Score  E Score  Pen.   Total  \\\n",
       "0     109.0       jana abdelsalam    EGY      4.4    7.466   0.1  11.766   \n",
       "1     131.0       jana abdelsalam    EGY      4.5    7.200   0.3  11.400   \n",
       "2      22.0       jana abdelsalam    EGY      4.5    7.366   0.0  11.866   \n",
       "3      16.0      ondine achampong    GBR      5.3    8.033   0.0  13.333   \n",
       "4      12.0      ondine achampong    GBR      5.2    7.600   0.3  12.500   \n",
       "...     ...                   ...    ...      ...      ...   ...     ...   \n",
       "1849   68.0           demet mutlu    TUR      4.9    6.366   0.0  11.266   \n",
       "1850   70.0          sofie bråten    NOR      4.4    6.833   0.0  11.233   \n",
       "1851   72.0     anastasija dubova    LAT      3.6    7.500   0.0  11.100   \n",
       "1852   74.0           ekin morova    TUR      5.1    6.333  -0.4  11.033   \n",
       "1853   75.0  anastasiya yekimenka    BLR      4.0    6.933   0.0  10.933   \n",
       "\n",
       "      year round  \n",
       "0     2022  qual  \n",
       "1     2023  qual  \n",
       "2     2023  qual  \n",
       "3     2022  qual  \n",
       "4     2022  qual  \n",
       "...    ...   ...  \n",
       "1849  2015  qual  \n",
       "1850  2015  qual  \n",
       "1851  2015  qual  \n",
       "1852  2015  qual  \n",
       "1853  2015  qual  \n",
       "\n",
       "[1854 rows x 9 columns]"
      ]
     },
     "execution_count": 4,
     "metadata": {},
     "output_type": "execute_result"
    }
   ],
   "source": [
    "df"
   ]
  },
  {
   "cell_type": "code",
   "execution_count": 5,
   "id": "aee150c9",
   "metadata": {},
   "outputs": [],
   "source": [
    "df['Name'] = df['Name'].str.lower()"
   ]
  },
  {
   "cell_type": "code",
   "execution_count": 6,
   "id": "06984ccd",
   "metadata": {},
   "outputs": [
    {
     "data": {
      "text/plain": [
       "year\n",
       "2023    851\n",
       "2022    573\n",
       "2021    138\n",
       "2015    115\n",
       "2019     95\n",
       "2014     28\n",
       "2013     28\n",
       "2018     10\n",
       "2017      7\n",
       "2020      4\n",
       "2011      3\n",
       "2016      2\n",
       "Name: count, dtype: int64"
      ]
     },
     "execution_count": 6,
     "metadata": {},
     "output_type": "execute_result"
    }
   ],
   "source": [
    "df['year'].value_counts()"
   ]
  },
  {
   "cell_type": "code",
   "execution_count": 7,
   "id": "fde3e153",
   "metadata": {},
   "outputs": [
    {
     "data": {
      "text/plain": [
       "year\n",
       "2023    851\n",
       "2022    573\n",
       "2021    138\n",
       "2015    115\n",
       "2019     95\n",
       "2014     28\n",
       "2013     28\n",
       "2018     10\n",
       "2017      7\n",
       "2020      4\n",
       "2011      3\n",
       "2016      2\n",
       "Name: count, dtype: int64"
      ]
     },
     "execution_count": 7,
     "metadata": {},
     "output_type": "execute_result"
    }
   ],
   "source": [
    "df['year'].value_counts()"
   ]
  },
  {
   "cell_type": "code",
   "execution_count": 8,
   "id": "9a176be7",
   "metadata": {},
   "outputs": [],
   "source": [
    "df12 = df[df['year'].isin([2011])].copy()\n",
    "df16 = df[df['year'].isin([2013, 2014, 2015, 2016])].copy()\n",
    "df20 = df[df['year'].isin([2017, 2018, 2019, 2020])].copy()\n",
    "df24 = df[df['year'].isin([2022, 2023])].copy()"
   ]
  },
  {
   "cell_type": "code",
   "execution_count": 9,
   "id": "82610a34",
   "metadata": {},
   "outputs": [],
   "source": [
    "df1 = df20.copy()"
   ]
  },
  {
   "cell_type": "code",
   "execution_count": 10,
   "id": "b7d41a6c",
   "metadata": {},
   "outputs": [
    {
     "name": "stdout",
     "output_type": "stream",
     "text": [
      "<class 'pandas.core.frame.DataFrame'>\n",
      "Index: 173 entries, 1424 to 1853\n",
      "Data columns (total 9 columns):\n",
      " #   Column   Non-Null Count  Dtype  \n",
      "---  ------   --------------  -----  \n",
      " 0   Rank     173 non-null    float64\n",
      " 1   Name     173 non-null    object \n",
      " 2   nation   173 non-null    object \n",
      " 3   D Score  173 non-null    float64\n",
      " 4   E Score  173 non-null    float64\n",
      " 5   Pen.     173 non-null    float64\n",
      " 6   Total    173 non-null    float64\n",
      " 7   year     173 non-null    int64  \n",
      " 8   round    173 non-null    object \n",
      "dtypes: float64(5), int64(1), object(3)\n",
      "memory usage: 13.5+ KB\n"
     ]
    }
   ],
   "source": [
    "df16.info()"
   ]
  },
  {
   "cell_type": "code",
   "execution_count": 11,
   "id": "c7e1ca26",
   "metadata": {},
   "outputs": [
    {
     "data": {
      "text/html": [
       "<div>\n",
       "<style scoped>\n",
       "    .dataframe tbody tr th:only-of-type {\n",
       "        vertical-align: middle;\n",
       "    }\n",
       "\n",
       "    .dataframe tbody tr th {\n",
       "        vertical-align: top;\n",
       "    }\n",
       "\n",
       "    .dataframe thead th {\n",
       "        text-align: right;\n",
       "    }\n",
       "</style>\n",
       "<table border=\"1\" class=\"dataframe\">\n",
       "  <thead>\n",
       "    <tr style=\"text-align: right;\">\n",
       "      <th></th>\n",
       "      <th>Rank</th>\n",
       "      <th>Name</th>\n",
       "      <th>nation</th>\n",
       "      <th>D Score</th>\n",
       "      <th>E Score</th>\n",
       "      <th>Pen.</th>\n",
       "      <th>Total</th>\n",
       "      <th>year</th>\n",
       "      <th>round</th>\n",
       "    </tr>\n",
       "  </thead>\n",
       "  <tbody>\n",
       "    <tr>\n",
       "      <th>1570</th>\n",
       "      <td>8.0</td>\n",
       "      <td>claudia fragapane</td>\n",
       "      <td>GBR</td>\n",
       "      <td>6.0</td>\n",
       "      <td>7.400</td>\n",
       "      <td>0.3</td>\n",
       "      <td>13.100</td>\n",
       "      <td>2014</td>\n",
       "      <td>final</td>\n",
       "    </tr>\n",
       "    <tr>\n",
       "      <th>1573</th>\n",
       "      <td>6.0</td>\n",
       "      <td>ellie downie</td>\n",
       "      <td>GBR</td>\n",
       "      <td>6.0</td>\n",
       "      <td>8.733</td>\n",
       "      <td>0.0</td>\n",
       "      <td>14.733</td>\n",
       "      <td>2015</td>\n",
       "      <td>final</td>\n",
       "    </tr>\n",
       "    <tr>\n",
       "      <th>1574</th>\n",
       "      <td>7.0</td>\n",
       "      <td>claudia fragapane</td>\n",
       "      <td>GBR</td>\n",
       "      <td>6.2</td>\n",
       "      <td>8.366</td>\n",
       "      <td>-0.1</td>\n",
       "      <td>14.466</td>\n",
       "      <td>2015</td>\n",
       "      <td>final</td>\n",
       "    </tr>\n",
       "    <tr>\n",
       "      <th>1597</th>\n",
       "      <td>1.0</td>\n",
       "      <td>amy tinkler</td>\n",
       "      <td>GBR</td>\n",
       "      <td>5.7</td>\n",
       "      <td>8.750</td>\n",
       "      <td>0.0</td>\n",
       "      <td>14.450</td>\n",
       "      <td>2015</td>\n",
       "      <td>final</td>\n",
       "    </tr>\n",
       "    <tr>\n",
       "      <th>1598</th>\n",
       "      <td>2.0</td>\n",
       "      <td>claudia fragapane</td>\n",
       "      <td>GBR</td>\n",
       "      <td>6.1</td>\n",
       "      <td>8.450</td>\n",
       "      <td>-0.3</td>\n",
       "      <td>14.250</td>\n",
       "      <td>2015</td>\n",
       "      <td>final</td>\n",
       "    </tr>\n",
       "    <tr>\n",
       "      <th>1599</th>\n",
       "      <td>0.0</td>\n",
       "      <td>kelly simm</td>\n",
       "      <td>GBR</td>\n",
       "      <td>5.6</td>\n",
       "      <td>7.950</td>\n",
       "      <td>0.0</td>\n",
       "      <td>13.550</td>\n",
       "      <td>2015</td>\n",
       "      <td>final</td>\n",
       "    </tr>\n",
       "    <tr>\n",
       "      <th>1787</th>\n",
       "      <td>3.0</td>\n",
       "      <td>kelly simm</td>\n",
       "      <td>GBR</td>\n",
       "      <td>5.8</td>\n",
       "      <td>8.166</td>\n",
       "      <td>0.0</td>\n",
       "      <td>13.966</td>\n",
       "      <td>2015</td>\n",
       "      <td>final</td>\n",
       "    </tr>\n",
       "    <tr>\n",
       "      <th>1794</th>\n",
       "      <td>2.0</td>\n",
       "      <td>kelly simm</td>\n",
       "      <td>GBR</td>\n",
       "      <td>5.8</td>\n",
       "      <td>8.100</td>\n",
       "      <td>0.0</td>\n",
       "      <td>13.900</td>\n",
       "      <td>2015</td>\n",
       "      <td>qual</td>\n",
       "    </tr>\n",
       "    <tr>\n",
       "      <th>1805</th>\n",
       "      <td>2.0</td>\n",
       "      <td>claudia fragapane</td>\n",
       "      <td>GBR</td>\n",
       "      <td>6.3</td>\n",
       "      <td>8.333</td>\n",
       "      <td>0.0</td>\n",
       "      <td>14.633</td>\n",
       "      <td>2015</td>\n",
       "      <td>final</td>\n",
       "    </tr>\n",
       "    <tr>\n",
       "      <th>1809</th>\n",
       "      <td>6.0</td>\n",
       "      <td>amy tinkler</td>\n",
       "      <td>GBR</td>\n",
       "      <td>5.9</td>\n",
       "      <td>8.100</td>\n",
       "      <td>0.0</td>\n",
       "      <td>14.000</td>\n",
       "      <td>2015</td>\n",
       "      <td>final</td>\n",
       "    </tr>\n",
       "    <tr>\n",
       "      <th>1814</th>\n",
       "      <td>3.0</td>\n",
       "      <td>amy tinkler</td>\n",
       "      <td>GBR</td>\n",
       "      <td>5.9</td>\n",
       "      <td>8.300</td>\n",
       "      <td>0.0</td>\n",
       "      <td>14.200</td>\n",
       "      <td>2015</td>\n",
       "      <td>qual</td>\n",
       "    </tr>\n",
       "    <tr>\n",
       "      <th>1818</th>\n",
       "      <td>7.0</td>\n",
       "      <td>claudia fragapane</td>\n",
       "      <td>GBR</td>\n",
       "      <td>6.1</td>\n",
       "      <td>8.166</td>\n",
       "      <td>-0.3</td>\n",
       "      <td>13.966</td>\n",
       "      <td>2015</td>\n",
       "      <td>qual</td>\n",
       "    </tr>\n",
       "    <tr>\n",
       "      <th>1824</th>\n",
       "      <td>16.0</td>\n",
       "      <td>ellie downie</td>\n",
       "      <td>GBR</td>\n",
       "      <td>5.6</td>\n",
       "      <td>8.100</td>\n",
       "      <td>-0.3</td>\n",
       "      <td>13.400</td>\n",
       "      <td>2015</td>\n",
       "      <td>qual</td>\n",
       "    </tr>\n",
       "  </tbody>\n",
       "</table>\n",
       "</div>"
      ],
      "text/plain": [
       "      Rank               Name nation  D Score  E Score  Pen.   Total  year  \\\n",
       "1570   8.0  claudia fragapane    GBR      6.0    7.400   0.3  13.100  2014   \n",
       "1573   6.0       ellie downie    GBR      6.0    8.733   0.0  14.733  2015   \n",
       "1574   7.0  claudia fragapane    GBR      6.2    8.366  -0.1  14.466  2015   \n",
       "1597   1.0        amy tinkler    GBR      5.7    8.750   0.0  14.450  2015   \n",
       "1598   2.0  claudia fragapane    GBR      6.1    8.450  -0.3  14.250  2015   \n",
       "1599   0.0         kelly simm    GBR      5.6    7.950   0.0  13.550  2015   \n",
       "1787   3.0         kelly simm    GBR      5.8    8.166   0.0  13.966  2015   \n",
       "1794   2.0         kelly simm    GBR      5.8    8.100   0.0  13.900  2015   \n",
       "1805   2.0  claudia fragapane    GBR      6.3    8.333   0.0  14.633  2015   \n",
       "1809   6.0        amy tinkler    GBR      5.9    8.100   0.0  14.000  2015   \n",
       "1814   3.0        amy tinkler    GBR      5.9    8.300   0.0  14.200  2015   \n",
       "1818   7.0  claudia fragapane    GBR      6.1    8.166  -0.3  13.966  2015   \n",
       "1824  16.0       ellie downie    GBR      5.6    8.100  -0.3  13.400  2015   \n",
       "\n",
       "      round  \n",
       "1570  final  \n",
       "1573  final  \n",
       "1574  final  \n",
       "1597  final  \n",
       "1598  final  \n",
       "1599  final  \n",
       "1787  final  \n",
       "1794   qual  \n",
       "1805  final  \n",
       "1809  final  \n",
       "1814   qual  \n",
       "1818   qual  \n",
       "1824   qual  "
      ]
     },
     "execution_count": 11,
     "metadata": {},
     "output_type": "execute_result"
    }
   ],
   "source": [
    "df16[df16['nation']=='GBR']"
   ]
  },
  {
   "cell_type": "code",
   "execution_count": 12,
   "id": "911086d2",
   "metadata": {},
   "outputs": [
    {
     "data": {
      "text/html": [
       "<div>\n",
       "<style scoped>\n",
       "    .dataframe tbody tr th:only-of-type {\n",
       "        vertical-align: middle;\n",
       "    }\n",
       "\n",
       "    .dataframe tbody tr th {\n",
       "        vertical-align: top;\n",
       "    }\n",
       "\n",
       "    .dataframe thead th {\n",
       "        text-align: right;\n",
       "    }\n",
       "</style>\n",
       "<table border=\"1\" class=\"dataframe\">\n",
       "  <thead>\n",
       "    <tr style=\"text-align: right;\">\n",
       "      <th></th>\n",
       "      <th>Rank</th>\n",
       "      <th>Name</th>\n",
       "      <th>nation</th>\n",
       "      <th>D Score</th>\n",
       "      <th>E Score</th>\n",
       "      <th>Pen.</th>\n",
       "      <th>Total</th>\n",
       "      <th>year</th>\n",
       "      <th>round</th>\n",
       "    </tr>\n",
       "  </thead>\n",
       "  <tbody>\n",
       "    <tr>\n",
       "      <th>1602</th>\n",
       "      <td>3.0</td>\n",
       "      <td>aly raisman</td>\n",
       "      <td>USA</td>\n",
       "      <td>6.3</td>\n",
       "      <td>8.85</td>\n",
       "      <td>-0.3</td>\n",
       "      <td>14.85</td>\n",
       "      <td>2015</td>\n",
       "      <td>final</td>\n",
       "    </tr>\n",
       "    <tr>\n",
       "      <th>1607</th>\n",
       "      <td>1.0</td>\n",
       "      <td>aly raisman</td>\n",
       "      <td>USA</td>\n",
       "      <td>6.2</td>\n",
       "      <td>8.90</td>\n",
       "      <td>0.0</td>\n",
       "      <td>15.10</td>\n",
       "      <td>2016</td>\n",
       "      <td>final</td>\n",
       "    </tr>\n",
       "  </tbody>\n",
       "</table>\n",
       "</div>"
      ],
      "text/plain": [
       "      Rank         Name nation  D Score  E Score  Pen.  Total  year  round\n",
       "1602   3.0  aly raisman    USA      6.3     8.85  -0.3  14.85  2015  final\n",
       "1607   1.0  aly raisman    USA      6.2     8.90   0.0  15.10  2016  final"
      ]
     },
     "execution_count": 12,
     "metadata": {},
     "output_type": "execute_result"
    }
   ],
   "source": [
    "df16[df16['Name']=='aly raisman']"
   ]
  },
  {
   "cell_type": "code",
   "execution_count": 13,
   "id": "8faf9a81",
   "metadata": {},
   "outputs": [
    {
     "data": {
      "text/html": [
       "<div>\n",
       "<style scoped>\n",
       "    .dataframe tbody tr th:only-of-type {\n",
       "        vertical-align: middle;\n",
       "    }\n",
       "\n",
       "    .dataframe tbody tr th {\n",
       "        vertical-align: top;\n",
       "    }\n",
       "\n",
       "    .dataframe thead th {\n",
       "        text-align: right;\n",
       "    }\n",
       "</style>\n",
       "<table border=\"1\" class=\"dataframe\">\n",
       "  <thead>\n",
       "    <tr style=\"text-align: right;\">\n",
       "      <th></th>\n",
       "      <th>Rank</th>\n",
       "      <th>Name</th>\n",
       "      <th>nation</th>\n",
       "      <th>D Score</th>\n",
       "      <th>E Score</th>\n",
       "      <th>Pen.</th>\n",
       "      <th>Total</th>\n",
       "      <th>year</th>\n",
       "      <th>round</th>\n",
       "    </tr>\n",
       "  </thead>\n",
       "  <tbody>\n",
       "    <tr>\n",
       "      <th>1559</th>\n",
       "      <td>1.0</td>\n",
       "      <td>simone biles</td>\n",
       "      <td>USA</td>\n",
       "      <td>6.5</td>\n",
       "      <td>8.500</td>\n",
       "      <td>0.0</td>\n",
       "      <td>15.000</td>\n",
       "      <td>2013</td>\n",
       "      <td>final</td>\n",
       "    </tr>\n",
       "    <tr>\n",
       "      <th>1565</th>\n",
       "      <td>1.0</td>\n",
       "      <td>simone biles</td>\n",
       "      <td>USA</td>\n",
       "      <td>6.4</td>\n",
       "      <td>8.933</td>\n",
       "      <td>0.0</td>\n",
       "      <td>15.333</td>\n",
       "      <td>2014</td>\n",
       "      <td>final</td>\n",
       "    </tr>\n",
       "    <tr>\n",
       "      <th>1571</th>\n",
       "      <td>1.0</td>\n",
       "      <td>simone biles</td>\n",
       "      <td>USA</td>\n",
       "      <td>6.8</td>\n",
       "      <td>9.000</td>\n",
       "      <td>0.0</td>\n",
       "      <td>15.800</td>\n",
       "      <td>2015</td>\n",
       "      <td>final</td>\n",
       "    </tr>\n",
       "    <tr>\n",
       "      <th>1600</th>\n",
       "      <td>1.0</td>\n",
       "      <td>simone biles</td>\n",
       "      <td>USA</td>\n",
       "      <td>6.8</td>\n",
       "      <td>9.250</td>\n",
       "      <td>0.0</td>\n",
       "      <td>16.050</td>\n",
       "      <td>2015</td>\n",
       "      <td>final</td>\n",
       "    </tr>\n",
       "  </tbody>\n",
       "</table>\n",
       "</div>"
      ],
      "text/plain": [
       "      Rank          Name nation  D Score  E Score  Pen.   Total  year  round\n",
       "1559   1.0  simone biles    USA      6.5    8.500   0.0  15.000  2013  final\n",
       "1565   1.0  simone biles    USA      6.4    8.933   0.0  15.333  2014  final\n",
       "1571   1.0  simone biles    USA      6.8    9.000   0.0  15.800  2015  final\n",
       "1600   1.0  simone biles    USA      6.8    9.250   0.0  16.050  2015  final"
      ]
     },
     "execution_count": 13,
     "metadata": {},
     "output_type": "execute_result"
    }
   ],
   "source": [
    "df16[df16['Name']=='simone biles']"
   ]
  },
  {
   "cell_type": "code",
   "execution_count": 14,
   "id": "77763a1d",
   "metadata": {},
   "outputs": [
    {
     "data": {
      "text/html": [
       "<div>\n",
       "<style scoped>\n",
       "    .dataframe tbody tr th:only-of-type {\n",
       "        vertical-align: middle;\n",
       "    }\n",
       "\n",
       "    .dataframe tbody tr th {\n",
       "        vertical-align: top;\n",
       "    }\n",
       "\n",
       "    .dataframe thead th {\n",
       "        text-align: right;\n",
       "    }\n",
       "</style>\n",
       "<table border=\"1\" class=\"dataframe\">\n",
       "  <thead>\n",
       "    <tr style=\"text-align: right;\">\n",
       "      <th></th>\n",
       "      <th>Rank</th>\n",
       "      <th>Name</th>\n",
       "      <th>nation</th>\n",
       "      <th>D Score</th>\n",
       "      <th>E Score</th>\n",
       "      <th>Pen.</th>\n",
       "      <th>Total</th>\n",
       "      <th>year</th>\n",
       "      <th>round</th>\n",
       "    </tr>\n",
       "  </thead>\n",
       "  <tbody>\n",
       "    <tr>\n",
       "      <th>1597</th>\n",
       "      <td>1.0</td>\n",
       "      <td>amy tinkler</td>\n",
       "      <td>GBR</td>\n",
       "      <td>5.7</td>\n",
       "      <td>8.75</td>\n",
       "      <td>0.0</td>\n",
       "      <td>14.45</td>\n",
       "      <td>2015</td>\n",
       "      <td>final</td>\n",
       "    </tr>\n",
       "    <tr>\n",
       "      <th>1809</th>\n",
       "      <td>6.0</td>\n",
       "      <td>amy tinkler</td>\n",
       "      <td>GBR</td>\n",
       "      <td>5.9</td>\n",
       "      <td>8.10</td>\n",
       "      <td>0.0</td>\n",
       "      <td>14.00</td>\n",
       "      <td>2015</td>\n",
       "      <td>final</td>\n",
       "    </tr>\n",
       "    <tr>\n",
       "      <th>1814</th>\n",
       "      <td>3.0</td>\n",
       "      <td>amy tinkler</td>\n",
       "      <td>GBR</td>\n",
       "      <td>5.9</td>\n",
       "      <td>8.30</td>\n",
       "      <td>0.0</td>\n",
       "      <td>14.20</td>\n",
       "      <td>2015</td>\n",
       "      <td>qual</td>\n",
       "    </tr>\n",
       "  </tbody>\n",
       "</table>\n",
       "</div>"
      ],
      "text/plain": [
       "      Rank         Name nation  D Score  E Score  Pen.  Total  year  round\n",
       "1597   1.0  amy tinkler    GBR      5.7     8.75   0.0  14.45  2015  final\n",
       "1809   6.0  amy tinkler    GBR      5.9     8.10   0.0  14.00  2015  final\n",
       "1814   3.0  amy tinkler    GBR      5.9     8.30   0.0  14.20  2015   qual"
      ]
     },
     "execution_count": 14,
     "metadata": {},
     "output_type": "execute_result"
    }
   ],
   "source": [
    "df16[df16['Name']=='amy tinkler']"
   ]
  },
  {
   "cell_type": "code",
   "execution_count": 15,
   "id": "514b9b0c",
   "metadata": {},
   "outputs": [
    {
     "name": "stdout",
     "output_type": "stream",
     "text": [
      "<class 'pandas.core.frame.DataFrame'>\n",
      "Index: 116 entries, 1455 to 1784\n",
      "Data columns (total 9 columns):\n",
      " #   Column   Non-Null Count  Dtype  \n",
      "---  ------   --------------  -----  \n",
      " 0   Rank     116 non-null    float64\n",
      " 1   Name     116 non-null    object \n",
      " 2   nation   116 non-null    object \n",
      " 3   D Score  116 non-null    float64\n",
      " 4   E Score  116 non-null    float64\n",
      " 5   Pen.     116 non-null    float64\n",
      " 6   Total    116 non-null    float64\n",
      " 7   year     116 non-null    int64  \n",
      " 8   round    116 non-null    object \n",
      "dtypes: float64(5), int64(1), object(3)\n",
      "memory usage: 9.1+ KB\n"
     ]
    }
   ],
   "source": [
    "df20.info()"
   ]
  },
  {
   "cell_type": "code",
   "execution_count": 16,
   "id": "fb20abb5",
   "metadata": {},
   "outputs": [
    {
     "data": {
      "text/html": [
       "<div>\n",
       "<style scoped>\n",
       "    .dataframe tbody tr th:only-of-type {\n",
       "        vertical-align: middle;\n",
       "    }\n",
       "\n",
       "    .dataframe tbody tr th {\n",
       "        vertical-align: top;\n",
       "    }\n",
       "\n",
       "    .dataframe thead th {\n",
       "        text-align: right;\n",
       "    }\n",
       "</style>\n",
       "<table border=\"1\" class=\"dataframe\">\n",
       "  <thead>\n",
       "    <tr style=\"text-align: right;\">\n",
       "      <th></th>\n",
       "      <th>Rank</th>\n",
       "      <th>Name</th>\n",
       "      <th>nation</th>\n",
       "      <th>D Score</th>\n",
       "      <th>E Score</th>\n",
       "      <th>Pen.</th>\n",
       "      <th>Total</th>\n",
       "      <th>year</th>\n",
       "      <th>round</th>\n",
       "    </tr>\n",
       "  </thead>\n",
       "  <tbody>\n",
       "    <tr>\n",
       "      <th>1455</th>\n",
       "      <td>1.0</td>\n",
       "      <td>jade carey</td>\n",
       "      <td>USA</td>\n",
       "      <td>6.2</td>\n",
       "      <td>8.266</td>\n",
       "      <td>0.0</td>\n",
       "      <td>14.466</td>\n",
       "      <td>2019</td>\n",
       "      <td>Final</td>\n",
       "    </tr>\n",
       "    <tr>\n",
       "      <th>1463</th>\n",
       "      <td>1.0</td>\n",
       "      <td>jade carey</td>\n",
       "      <td>USA</td>\n",
       "      <td>5.9</td>\n",
       "      <td>8.200</td>\n",
       "      <td>-0.1</td>\n",
       "      <td>14.000</td>\n",
       "      <td>2019</td>\n",
       "      <td>Qual</td>\n",
       "    </tr>\n",
       "    <tr>\n",
       "      <th>1577</th>\n",
       "      <td>2.0</td>\n",
       "      <td>jade carey</td>\n",
       "      <td>0</td>\n",
       "      <td>5.7</td>\n",
       "      <td>8.500</td>\n",
       "      <td>0.0</td>\n",
       "      <td>14.200</td>\n",
       "      <td>2017</td>\n",
       "      <td>final</td>\n",
       "    </tr>\n",
       "  </tbody>\n",
       "</table>\n",
       "</div>"
      ],
      "text/plain": [
       "      Rank        Name nation  D Score  E Score  Pen.   Total  year  round\n",
       "1455   1.0  jade carey    USA      6.2    8.266   0.0  14.466  2019  Final\n",
       "1463   1.0  jade carey    USA      5.9    8.200  -0.1  14.000  2019   Qual\n",
       "1577   2.0  jade carey      0      5.7    8.500   0.0  14.200  2017  final"
      ]
     },
     "execution_count": 16,
     "metadata": {},
     "output_type": "execute_result"
    }
   ],
   "source": [
    "df20[df20[\"Name\"]=='jade carey']"
   ]
  },
  {
   "cell_type": "code",
   "execution_count": 17,
   "id": "ce958cb3",
   "metadata": {},
   "outputs": [
    {
     "data": {
      "text/html": [
       "<div>\n",
       "<style scoped>\n",
       "    .dataframe tbody tr th:only-of-type {\n",
       "        vertical-align: middle;\n",
       "    }\n",
       "\n",
       "    .dataframe tbody tr th {\n",
       "        vertical-align: top;\n",
       "    }\n",
       "\n",
       "    .dataframe thead th {\n",
       "        text-align: right;\n",
       "    }\n",
       "</style>\n",
       "<table border=\"1\" class=\"dataframe\">\n",
       "  <thead>\n",
       "    <tr style=\"text-align: right;\">\n",
       "      <th></th>\n",
       "      <th>Rank</th>\n",
       "      <th>Name</th>\n",
       "      <th>nation</th>\n",
       "      <th>D Score</th>\n",
       "      <th>E Score</th>\n",
       "      <th>Pen.</th>\n",
       "      <th>Total</th>\n",
       "      <th>year</th>\n",
       "      <th>round</th>\n",
       "    </tr>\n",
       "  </thead>\n",
       "  <tbody>\n",
       "    <tr>\n",
       "      <th>1576</th>\n",
       "      <td>1.0</td>\n",
       "      <td>mai murakami</td>\n",
       "      <td>0</td>\n",
       "      <td>5.9</td>\n",
       "      <td>8.333</td>\n",
       "      <td>0.0</td>\n",
       "      <td>14.233</td>\n",
       "      <td>2017</td>\n",
       "      <td>final</td>\n",
       "    </tr>\n",
       "    <tr>\n",
       "      <th>1584</th>\n",
       "      <td>3.0</td>\n",
       "      <td>mai murakami</td>\n",
       "      <td>0</td>\n",
       "      <td>5.7</td>\n",
       "      <td>8.166</td>\n",
       "      <td>0.0</td>\n",
       "      <td>13.866</td>\n",
       "      <td>2018</td>\n",
       "      <td>final</td>\n",
       "    </tr>\n",
       "  </tbody>\n",
       "</table>\n",
       "</div>"
      ],
      "text/plain": [
       "      Rank          Name nation  D Score  E Score  Pen.   Total  year  round\n",
       "1576   1.0  mai murakami      0      5.9    8.333   0.0  14.233  2017  final\n",
       "1584   3.0  mai murakami      0      5.7    8.166   0.0  13.866  2018  final"
      ]
     },
     "execution_count": 17,
     "metadata": {},
     "output_type": "execute_result"
    }
   ],
   "source": [
    "df20[df20[\"Name\"]=='mai murakami']"
   ]
  },
  {
   "cell_type": "code",
   "execution_count": 18,
   "id": "e76ec8ad",
   "metadata": {},
   "outputs": [
    {
     "data": {
      "text/html": [
       "<div>\n",
       "<style scoped>\n",
       "    .dataframe tbody tr th:only-of-type {\n",
       "        vertical-align: middle;\n",
       "    }\n",
       "\n",
       "    .dataframe tbody tr th {\n",
       "        vertical-align: top;\n",
       "    }\n",
       "\n",
       "    .dataframe thead th {\n",
       "        text-align: right;\n",
       "    }\n",
       "</style>\n",
       "<table border=\"1\" class=\"dataframe\">\n",
       "  <thead>\n",
       "    <tr style=\"text-align: right;\">\n",
       "      <th></th>\n",
       "      <th>Rank</th>\n",
       "      <th>Name</th>\n",
       "      <th>nation</th>\n",
       "      <th>D Score</th>\n",
       "      <th>E Score</th>\n",
       "      <th>Pen.</th>\n",
       "      <th>Total</th>\n",
       "      <th>year</th>\n",
       "      <th>round</th>\n",
       "    </tr>\n",
       "  </thead>\n",
       "  <tbody>\n",
       "    <tr>\n",
       "      <th>1457</th>\n",
       "      <td>3.0</td>\n",
       "      <td>vanessa ferrari</td>\n",
       "      <td>ITA</td>\n",
       "      <td>5.2</td>\n",
       "      <td>8.100</td>\n",
       "      <td>0.0</td>\n",
       "      <td>13.300</td>\n",
       "      <td>2019</td>\n",
       "      <td>Final</td>\n",
       "    </tr>\n",
       "    <tr>\n",
       "      <th>1469</th>\n",
       "      <td>7.0</td>\n",
       "      <td>vanessa ferrari</td>\n",
       "      <td>ITA</td>\n",
       "      <td>5.3</td>\n",
       "      <td>7.833</td>\n",
       "      <td>-0.1</td>\n",
       "      <td>13.033</td>\n",
       "      <td>2019</td>\n",
       "      <td>Qual</td>\n",
       "    </tr>\n",
       "    <tr>\n",
       "      <th>1536</th>\n",
       "      <td>1.0</td>\n",
       "      <td>vanessa ferrari</td>\n",
       "      <td>ITA</td>\n",
       "      <td>5.2</td>\n",
       "      <td>8.400</td>\n",
       "      <td>0.0</td>\n",
       "      <td>13.600</td>\n",
       "      <td>2019</td>\n",
       "      <td>final</td>\n",
       "    </tr>\n",
       "    <tr>\n",
       "      <th>1544</th>\n",
       "      <td>1.0</td>\n",
       "      <td>vanessa ferrari</td>\n",
       "      <td>ITA</td>\n",
       "      <td>5.2</td>\n",
       "      <td>8.100</td>\n",
       "      <td>0.0</td>\n",
       "      <td>13.300</td>\n",
       "      <td>2019</td>\n",
       "      <td>qual</td>\n",
       "    </tr>\n",
       "    <tr>\n",
       "      <th>1582</th>\n",
       "      <td>8.0</td>\n",
       "      <td>vanessa ferrari</td>\n",
       "      <td>0</td>\n",
       "      <td>2.0</td>\n",
       "      <td>8.233</td>\n",
       "      <td>-6.3</td>\n",
       "      <td>3.933</td>\n",
       "      <td>2017</td>\n",
       "      <td>final</td>\n",
       "    </tr>\n",
       "  </tbody>\n",
       "</table>\n",
       "</div>"
      ],
      "text/plain": [
       "      Rank             Name nation  D Score  E Score  Pen.   Total  year  \\\n",
       "1457   3.0  vanessa ferrari    ITA      5.2    8.100   0.0  13.300  2019   \n",
       "1469   7.0  vanessa ferrari    ITA      5.3    7.833  -0.1  13.033  2019   \n",
       "1536   1.0  vanessa ferrari    ITA      5.2    8.400   0.0  13.600  2019   \n",
       "1544   1.0  vanessa ferrari    ITA      5.2    8.100   0.0  13.300  2019   \n",
       "1582   8.0  vanessa ferrari      0      2.0    8.233  -6.3   3.933  2017   \n",
       "\n",
       "      round  \n",
       "1457  Final  \n",
       "1469   Qual  \n",
       "1536  final  \n",
       "1544   qual  \n",
       "1582  final  "
      ]
     },
     "execution_count": 18,
     "metadata": {},
     "output_type": "execute_result"
    }
   ],
   "source": [
    "df20[df20[\"Name\"]=='vanessa ferrari']"
   ]
  },
  {
   "cell_type": "code",
   "execution_count": 19,
   "id": "90897adf",
   "metadata": {},
   "outputs": [],
   "source": [
    "df = df20.copy()"
   ]
  },
  {
   "cell_type": "code",
   "execution_count": 20,
   "id": "aaaa9a74",
   "metadata": {},
   "outputs": [
    {
     "data": {
      "text/plain": [
       "Index(['Rank', 'Name', 'nation', 'D Score', 'E Score', 'Pen.', 'Total', 'year',\n",
       "       'round'],\n",
       "      dtype='object')"
      ]
     },
     "execution_count": 20,
     "metadata": {},
     "output_type": "execute_result"
    }
   ],
   "source": [
    "df.columns"
   ]
  },
  {
   "cell_type": "code",
   "execution_count": 21,
   "id": "c81734dc",
   "metadata": {},
   "outputs": [],
   "source": [
    "# def assign_medal(name):\n",
    "#     name_lower = name.lower()\n",
    "#     if name_lower == 'jade carey':\n",
    "#         return 3\n",
    "#     elif name_lower == 'vanessa ferrari':\n",
    "#         return 2\n",
    "#     elif name_lower == 'mai murakami':\n",
    "#         return 1\n",
    "#     else:\n",
    "#         return -10\n",
    "\n",
    "# df['medal'] = df['Name'].apply(assign_medal)\n"
   ]
  },
  {
   "cell_type": "code",
   "execution_count": 22,
   "id": "3df90c81",
   "metadata": {},
   "outputs": [],
   "source": [
    "def assign_medal(name):\n",
    "    name_lower = name.lower()\n",
    "    if name_lower == 'jade carey':\n",
    "        return 1\n",
    "    elif name_lower == 'vanessa ferrari':\n",
    "        return 1\n",
    "    elif name_lower == 'mai murakami':\n",
    "        return 1\n",
    "    else:\n",
    "        return 0\n",
    "\n",
    "df['medal'] = df['Name'].apply(assign_medal)\n"
   ]
  },
  {
   "cell_type": "code",
   "execution_count": 23,
   "id": "3de92015",
   "metadata": {},
   "outputs": [
    {
     "data": {
      "text/html": [
       "<div>\n",
       "<style scoped>\n",
       "    .dataframe tbody tr th:only-of-type {\n",
       "        vertical-align: middle;\n",
       "    }\n",
       "\n",
       "    .dataframe tbody tr th {\n",
       "        vertical-align: top;\n",
       "    }\n",
       "\n",
       "    .dataframe thead th {\n",
       "        text-align: right;\n",
       "    }\n",
       "</style>\n",
       "<table border=\"1\" class=\"dataframe\">\n",
       "  <thead>\n",
       "    <tr style=\"text-align: right;\">\n",
       "      <th></th>\n",
       "      <th>Rank</th>\n",
       "      <th>Name</th>\n",
       "      <th>nation</th>\n",
       "      <th>D Score</th>\n",
       "      <th>E Score</th>\n",
       "      <th>Pen.</th>\n",
       "      <th>Total</th>\n",
       "      <th>year</th>\n",
       "      <th>round</th>\n",
       "      <th>medal</th>\n",
       "    </tr>\n",
       "  </thead>\n",
       "  <tbody>\n",
       "    <tr>\n",
       "      <th>1455</th>\n",
       "      <td>1.0</td>\n",
       "      <td>jade carey</td>\n",
       "      <td>USA</td>\n",
       "      <td>6.2</td>\n",
       "      <td>8.266</td>\n",
       "      <td>0.0</td>\n",
       "      <td>14.466</td>\n",
       "      <td>2019</td>\n",
       "      <td>Final</td>\n",
       "      <td>1</td>\n",
       "    </tr>\n",
       "    <tr>\n",
       "      <th>1456</th>\n",
       "      <td>2.0</td>\n",
       "      <td>lara mori</td>\n",
       "      <td>ITA</td>\n",
       "      <td>5.6</td>\n",
       "      <td>7.833</td>\n",
       "      <td>0.0</td>\n",
       "      <td>13.433</td>\n",
       "      <td>2019</td>\n",
       "      <td>Final</td>\n",
       "      <td>0</td>\n",
       "    </tr>\n",
       "    <tr>\n",
       "      <th>1457</th>\n",
       "      <td>3.0</td>\n",
       "      <td>vanessa ferrari</td>\n",
       "      <td>ITA</td>\n",
       "      <td>5.2</td>\n",
       "      <td>8.100</td>\n",
       "      <td>0.0</td>\n",
       "      <td>13.300</td>\n",
       "      <td>2019</td>\n",
       "      <td>Final</td>\n",
       "      <td>1</td>\n",
       "    </tr>\n",
       "    <tr>\n",
       "      <th>1458</th>\n",
       "      <td>4.0</td>\n",
       "      <td>marta pihan-kulesza</td>\n",
       "      <td>POL</td>\n",
       "      <td>5.4</td>\n",
       "      <td>7.933</td>\n",
       "      <td>-0.1</td>\n",
       "      <td>13.233</td>\n",
       "      <td>2019</td>\n",
       "      <td>Final</td>\n",
       "      <td>0</td>\n",
       "    </tr>\n",
       "    <tr>\n",
       "      <th>1459</th>\n",
       "      <td>5.0</td>\n",
       "      <td>marine boyer</td>\n",
       "      <td>FRA</td>\n",
       "      <td>5.0</td>\n",
       "      <td>8.200</td>\n",
       "      <td>0.0</td>\n",
       "      <td>13.200</td>\n",
       "      <td>2019</td>\n",
       "      <td>Final</td>\n",
       "      <td>0</td>\n",
       "    </tr>\n",
       "    <tr>\n",
       "      <th>...</th>\n",
       "      <td>...</td>\n",
       "      <td>...</td>\n",
       "      <td>...</td>\n",
       "      <td>...</td>\n",
       "      <td>...</td>\n",
       "      <td>...</td>\n",
       "      <td>...</td>\n",
       "      <td>...</td>\n",
       "      <td>...</td>\n",
       "      <td>...</td>\n",
       "    </tr>\n",
       "    <tr>\n",
       "      <th>1780</th>\n",
       "      <td>29.0</td>\n",
       "      <td>bianca frysak</td>\n",
       "      <td>AUT</td>\n",
       "      <td>4.2</td>\n",
       "      <td>7.166</td>\n",
       "      <td>0.0</td>\n",
       "      <td>11.366</td>\n",
       "      <td>2019</td>\n",
       "      <td>qual</td>\n",
       "      <td>0</td>\n",
       "    </tr>\n",
       "    <tr>\n",
       "      <th>1781</th>\n",
       "      <td>31.0</td>\n",
       "      <td>elvira katsali</td>\n",
       "      <td>GRE</td>\n",
       "      <td>4.4</td>\n",
       "      <td>6.833</td>\n",
       "      <td>0.0</td>\n",
       "      <td>11.233</td>\n",
       "      <td>2019</td>\n",
       "      <td>qual</td>\n",
       "      <td>0</td>\n",
       "    </tr>\n",
       "    <tr>\n",
       "      <th>1782</th>\n",
       "      <td>32.0</td>\n",
       "      <td>celeste mordenti</td>\n",
       "      <td>LUX</td>\n",
       "      <td>4.1</td>\n",
       "      <td>7.100</td>\n",
       "      <td>0.0</td>\n",
       "      <td>11.200</td>\n",
       "      <td>2019</td>\n",
       "      <td>qual</td>\n",
       "      <td>0</td>\n",
       "    </tr>\n",
       "    <tr>\n",
       "      <th>1783</th>\n",
       "      <td>33.0</td>\n",
       "      <td>ofir netzer</td>\n",
       "      <td>ISR</td>\n",
       "      <td>4.6</td>\n",
       "      <td>6.666</td>\n",
       "      <td>-0.1</td>\n",
       "      <td>11.166</td>\n",
       "      <td>2019</td>\n",
       "      <td>qual</td>\n",
       "      <td>0</td>\n",
       "    </tr>\n",
       "    <tr>\n",
       "      <th>1784</th>\n",
       "      <td>35.0</td>\n",
       "      <td>nazli savranbasi</td>\n",
       "      <td>TUR</td>\n",
       "      <td>4.8</td>\n",
       "      <td>6.300</td>\n",
       "      <td>0.0</td>\n",
       "      <td>11.100</td>\n",
       "      <td>2019</td>\n",
       "      <td>qual</td>\n",
       "      <td>0</td>\n",
       "    </tr>\n",
       "  </tbody>\n",
       "</table>\n",
       "<p>116 rows × 10 columns</p>\n",
       "</div>"
      ],
      "text/plain": [
       "      Rank                 Name nation  D Score  E Score  Pen.   Total  year  \\\n",
       "1455   1.0           jade carey    USA      6.2    8.266   0.0  14.466  2019   \n",
       "1456   2.0            lara mori    ITA      5.6    7.833   0.0  13.433  2019   \n",
       "1457   3.0      vanessa ferrari    ITA      5.2    8.100   0.0  13.300  2019   \n",
       "1458   4.0  marta pihan-kulesza    POL      5.4    7.933  -0.1  13.233  2019   \n",
       "1459   5.0         marine boyer    FRA      5.0    8.200   0.0  13.200  2019   \n",
       "...    ...                  ...    ...      ...      ...   ...     ...   ...   \n",
       "1780  29.0        bianca frysak    AUT      4.2    7.166   0.0  11.366  2019   \n",
       "1781  31.0       elvira katsali    GRE      4.4    6.833   0.0  11.233  2019   \n",
       "1782  32.0     celeste mordenti    LUX      4.1    7.100   0.0  11.200  2019   \n",
       "1783  33.0          ofir netzer    ISR      4.6    6.666  -0.1  11.166  2019   \n",
       "1784  35.0     nazli savranbasi    TUR      4.8    6.300   0.0  11.100  2019   \n",
       "\n",
       "      round  medal  \n",
       "1455  Final      1  \n",
       "1456  Final      0  \n",
       "1457  Final      1  \n",
       "1458  Final      0  \n",
       "1459  Final      0  \n",
       "...     ...    ...  \n",
       "1780   qual      0  \n",
       "1781   qual      0  \n",
       "1782   qual      0  \n",
       "1783   qual      0  \n",
       "1784   qual      0  \n",
       "\n",
       "[116 rows x 10 columns]"
      ]
     },
     "execution_count": 23,
     "metadata": {},
     "output_type": "execute_result"
    }
   ],
   "source": [
    "df"
   ]
  },
  {
   "cell_type": "code",
   "execution_count": 24,
   "id": "384acde4",
   "metadata": {},
   "outputs": [
    {
     "data": {
      "text/plain": [
       "medal\n",
       "0    106\n",
       "1     10\n",
       "Name: count, dtype: int64"
      ]
     },
     "execution_count": 24,
     "metadata": {},
     "output_type": "execute_result"
    }
   ],
   "source": [
    "df['medal'].value_counts()"
   ]
  },
  {
   "cell_type": "code",
   "execution_count": 25,
   "id": "b272f3ea",
   "metadata": {},
   "outputs": [],
   "source": [
    "# medal\n",
    "# -1    134\n",
    "#  3      3"
   ]
  },
  {
   "cell_type": "code",
   "execution_count": 26,
   "id": "a1a6fcb5",
   "metadata": {},
   "outputs": [],
   "source": [
    "# -1 is 228\n",
    "# 2 is 5\n",
    "# 3 is 6\n",
    "# 1 is 2"
   ]
  },
  {
   "cell_type": "code",
   "execution_count": 27,
   "id": "9da9e837",
   "metadata": {},
   "outputs": [],
   "source": [
    "df20 = df.copy()"
   ]
  },
  {
   "cell_type": "code",
   "execution_count": 28,
   "id": "b56790a3",
   "metadata": {},
   "outputs": [],
   "source": [
    "df = df16.copy()"
   ]
  },
  {
   "cell_type": "code",
   "execution_count": 29,
   "id": "038723f5",
   "metadata": {},
   "outputs": [],
   "source": [
    "# def assign_medal(name):\n",
    "#     name_lower = name.lower()\n",
    "#     if name_lower == 'simone biles':\n",
    "#         return 3\n",
    "#     elif name_lower == 'aly raisman':\n",
    "#         return 2\n",
    "#     elif name_lower == 'amy tinkler':\n",
    "#         return 1\n",
    "#     else:\n",
    "#         return -10\n",
    "\n",
    "# df['medal'] = df['Name'].apply(assign_medal)\n"
   ]
  },
  {
   "cell_type": "code",
   "execution_count": 30,
   "id": "1a60b571",
   "metadata": {},
   "outputs": [],
   "source": [
    "def assign_medal(name):\n",
    "    name_lower = name.lower()\n",
    "    if name_lower == 'simone biles':\n",
    "        return 1\n",
    "    elif name_lower == 'aly raisman':\n",
    "        return 1\n",
    "    elif name_lower == 'amy tinkler':\n",
    "        return 1\n",
    "    else:\n",
    "        return 0\n",
    "\n",
    "df['medal'] = df['Name'].apply(assign_medal)\n"
   ]
  },
  {
   "cell_type": "code",
   "execution_count": 31,
   "id": "cc591b1c",
   "metadata": {},
   "outputs": [
    {
     "data": {
      "text/plain": [
       "medal\n",
       "0    164\n",
       "1      9\n",
       "Name: count, dtype: int64"
      ]
     },
     "execution_count": 31,
     "metadata": {},
     "output_type": "execute_result"
    }
   ],
   "source": [
    "df['medal'].value_counts()"
   ]
  },
  {
   "cell_type": "code",
   "execution_count": 32,
   "id": "30eec869",
   "metadata": {},
   "outputs": [],
   "source": [
    "df16=df.copy()"
   ]
  },
  {
   "cell_type": "code",
   "execution_count": 33,
   "id": "09fd1322",
   "metadata": {},
   "outputs": [],
   "source": [
    "df = pd.concat([df20, df16])"
   ]
  },
  {
   "cell_type": "code",
   "execution_count": 34,
   "id": "ef1d4c78",
   "metadata": {},
   "outputs": [
    {
     "data": {
      "text/plain": [
       "medal\n",
       "0    270\n",
       "1     19\n",
       "Name: count, dtype: int64"
      ]
     },
     "execution_count": 34,
     "metadata": {},
     "output_type": "execute_result"
    }
   ],
   "source": [
    "df['medal'].value_counts()"
   ]
  },
  {
   "cell_type": "markdown",
   "id": "df565027",
   "metadata": {},
   "source": [
    "---"
   ]
  },
  {
   "cell_type": "code",
   "execution_count": 35,
   "id": "3a237f57",
   "metadata": {},
   "outputs": [
    {
     "data": {
      "text/plain": [
       "Rank        54\n",
       "Name       131\n",
       "nation      47\n",
       "D Score     30\n",
       "E Score    107\n",
       "Pen.         9\n",
       "Total      153\n",
       "year         8\n",
       "round        5\n",
       "medal        2\n",
       "dtype: int64"
      ]
     },
     "execution_count": 35,
     "metadata": {},
     "output_type": "execute_result"
    }
   ],
   "source": [
    "df.nunique()"
   ]
  },
  {
   "cell_type": "code",
   "execution_count": 36,
   "id": "fc50661c",
   "metadata": {},
   "outputs": [],
   "source": [
    "df['round'] = df['round'].str.lower()\n"
   ]
  },
  {
   "cell_type": "code",
   "execution_count": 37,
   "id": "c9a0e3bb",
   "metadata": {},
   "outputs": [],
   "source": [
    "from sklearn.preprocessing import LabelEncoder\n",
    "\n",
    "le = LabelEncoder()\n",
    "\n",
    "df['Name_encoded'] = le.fit_transform(df['Name'])\n",
    "\n",
    "label_mapping = dict(zip(le.transform(df['Name']), df['Name']))\n"
   ]
  },
  {
   "cell_type": "code",
   "execution_count": 38,
   "id": "6ad19f05",
   "metadata": {},
   "outputs": [],
   "source": [
    "df=df.drop(columns=[\"Name\"])\n",
    "df.rename(columns={'Name_encoded': 'Name'}, inplace=True)\n"
   ]
  },
  {
   "cell_type": "code",
   "execution_count": 39,
   "id": "3372e187",
   "metadata": {},
   "outputs": [],
   "source": [
    "from sklearn.preprocessing import LabelEncoder\n",
    "\n",
    "le = LabelEncoder()\n",
    "\n",
    "df['nation_encoded'] = le.fit_transform(df['nation'])\n",
    "\n",
    "label_mapping_nation = dict(zip(le.transform(df['nation']), df['nation']))\n"
   ]
  },
  {
   "cell_type": "code",
   "execution_count": 40,
   "id": "de7c572c",
   "metadata": {},
   "outputs": [],
   "source": [
    "df=df.drop(columns=[\"nation\"])\n",
    "df.rename(columns={'nation_encoded': 'nation'}, inplace=True)\n"
   ]
  },
  {
   "cell_type": "code",
   "execution_count": 41,
   "id": "84b89537",
   "metadata": {},
   "outputs": [],
   "source": [
    "df_encoded = pd.get_dummies(df, columns=['round'], prefix='round')"
   ]
  },
  {
   "cell_type": "code",
   "execution_count": 42,
   "id": "14f02830",
   "metadata": {},
   "outputs": [
    {
     "name": "stdout",
     "output_type": "stream",
     "text": [
      "<class 'pandas.core.frame.DataFrame'>\n",
      "Index: 289 entries, 1455 to 1853\n",
      "Data columns (total 10 columns):\n",
      " #   Column   Non-Null Count  Dtype  \n",
      "---  ------   --------------  -----  \n",
      " 0   Rank     289 non-null    float64\n",
      " 1   D Score  289 non-null    float64\n",
      " 2   E Score  289 non-null    float64\n",
      " 3   Pen.     289 non-null    float64\n",
      " 4   Total    289 non-null    float64\n",
      " 5   year     289 non-null    int64  \n",
      " 6   round    289 non-null    object \n",
      " 7   medal    289 non-null    int64  \n",
      " 8   Name     289 non-null    int64  \n",
      " 9   nation   289 non-null    int64  \n",
      "dtypes: float64(5), int64(4), object(1)\n",
      "memory usage: 24.8+ KB\n"
     ]
    }
   ],
   "source": [
    "df.info()"
   ]
  },
  {
   "cell_type": "markdown",
   "id": "57058773",
   "metadata": {},
   "source": [
    "# Feature Egnineering (?)"
   ]
  },
  {
   "cell_type": "code",
   "execution_count": 43,
   "id": "c5bfd2a5",
   "metadata": {},
   "outputs": [],
   "source": [
    "\n",
    "df_encoded['tot_final']=df_encoded['round_final']+df_encoded['Total']\n",
    "df_encoded['tot_fin_d'] = df_encoded['tot_final'] * df_encoded['D Score']\n",
    "df_encoded['tot_fin_ddiv'] = df_encoded['D Score'] * df_encoded['tot_final'] * df_encoded['tot_final'] \n",
    "df_encoded['tot_fin_ddiv_rank'] = (df_encoded['D Score'] * df_encoded['tot_final'] *\n",
    "                                   df_encoded['tot_final'] ) + df_encoded['Rank']\n"
   ]
  },
  {
   "cell_type": "code",
   "execution_count": 44,
   "id": "cd27b9bb",
   "metadata": {},
   "outputs": [
    {
     "data": {
      "text/plain": [
       "medal                1.000000\n",
       "tot_fin_ddiv         0.307165\n",
       "tot_fin_ddiv_rank    0.307005\n",
       "tot_fin_d            0.275104\n",
       "E Score              0.267678\n",
       "tot_final            0.226944\n",
       "D Score              0.215655\n",
       "round_final          0.207863\n",
       "Total                0.193930\n",
       "Name                 0.089898\n",
       "year                 0.045250\n",
       "nation               0.031849\n",
       "round_0             -0.047559\n",
       "Rank                -0.178897\n",
       "round_qual          -0.189098\n",
       "Pen.                -0.202670\n",
       "dtype: float64"
      ]
     },
     "execution_count": 44,
     "metadata": {},
     "output_type": "execute_result"
    }
   ],
   "source": [
    "correlations = df_encoded.corrwith(df['medal'])\n",
    "\n",
    "correlations.sort_values(ascending=False)\n"
   ]
  },
  {
   "cell_type": "code",
   "execution_count": 45,
   "id": "f155cc93",
   "metadata": {},
   "outputs": [],
   "source": [
    "# medal 0 or 1\n",
    "\n",
    "# medal          1.000000\n",
    "# E Score        0.230683\n",
    "# round_final    0.200594\n",
    "# D Score        0.200197\n",
    "# Total          0.181081\n",
    "# Name           0.071345\n",
    "# year           0.063914\n",
    "# nation         0.022020\n",
    "# round_0       -0.041464\n",
    "# Pen.          -0.140075\n",
    "# Rank          -0.166271\n",
    "# round_qual    -0.180175"
   ]
  },
  {
   "cell_type": "code",
   "execution_count": 46,
   "id": "7afdbf30",
   "metadata": {},
   "outputs": [],
   "source": [
    "# # medal 3, 2, 1, 0\n",
    "# medal          1.000000\n",
    "# E Score        0.230070\n",
    "# D Score        0.215587\n",
    "# Total          0.193681\n",
    "# round_final    0.191764\n",
    "# Name           0.105429\n",
    "# nation         0.079598\n",
    "# year           0.056752\n",
    "# round_0       -0.038727\n",
    "# Pen.          -0.123677\n",
    "# Rank          -0.158460\n",
    "# round_qual    -0.172597\n",
    "# dtype: float64"
   ]
  },
  {
   "cell_type": "code",
   "execution_count": 49,
   "id": "0822fd1c",
   "metadata": {},
   "outputs": [],
   "source": [
    "# df_encoded.to_csv('mult_fx_encoded.csv', index=False)"
   ]
  },
  {
   "cell_type": "code",
   "execution_count": null,
   "id": "fb3c5ef4",
   "metadata": {},
   "outputs": [],
   "source": [
    "# df_encoded.to_csv('fx_encoded.csv', index=False)"
   ]
  },
  {
   "cell_type": "markdown",
   "id": "71c5149d",
   "metadata": {},
   "source": [
    "# Feature Importance"
   ]
  },
  {
   "cell_type": "code",
   "execution_count": null,
   "id": "9f6e93ce",
   "metadata": {},
   "outputs": [],
   "source": [
    "import pandas as pd\n",
    "from sklearn.model_selection import train_test_split\n",
    "from sklearn.ensemble import RandomForestClassifier\n",
    "from sklearn.inspection import permutation_importance\n",
    "\n"
   ]
  },
  {
   "cell_type": "code",
   "execution_count": null,
   "id": "f4fa0f3e",
   "metadata": {},
   "outputs": [],
   "source": [
    "X = df_encoded.drop('medal', axis=1)\n",
    "y = df_encoded['medal']\n",
    "\n",
    "X_train, X_test, y_train, y_test = train_test_split(X, y, test_size=0.2, random_state=42)\n",
    "\n"
   ]
  },
  {
   "cell_type": "code",
   "execution_count": null,
   "id": "ab5df8f1",
   "metadata": {},
   "outputs": [],
   "source": [
    "# Create and train a Random Forest classifier\n",
    "clf = RandomForestClassifier(random_state=42)\n",
    "clf.fit(X_train, y_train)\n",
    "\n"
   ]
  },
  {
   "cell_type": "code",
   "execution_count": null,
   "id": "d52c102f",
   "metadata": {},
   "outputs": [],
   "source": [
    "# Calculate feature importance using permutation importance\n",
    "perm_importance = permutation_importance(clf, X_test, y_test, n_repeats=30, random_state=42)\n",
    "\n",
    "# Get the results and feature names\n",
    "importance_scores = perm_importance.importances_mean\n",
    "feature_names = X.columns\n",
    "\n",
    "# Combine the feature names and their importance scores\n",
    "feature_importance_df = pd.DataFrame({'Feature': feature_names, 'Importance': importance_scores})\n",
    "\n",
    "# Sort the features by importance in descending order\n",
    "feature_importance_df = feature_importance_df.sort_values(by='Importance', ascending=False)\n",
    "\n"
   ]
  },
  {
   "cell_type": "code",
   "execution_count": null,
   "id": "9e79344a",
   "metadata": {},
   "outputs": [],
   "source": [
    "feature_importance_df"
   ]
  },
  {
   "cell_type": "code",
   "execution_count": null,
   "id": "54dc9287",
   "metadata": {},
   "outputs": [],
   "source": [
    "from sklearn.ensemble import RandomForestClassifier\n",
    "clf = RandomForestClassifier(random_state=42)\n",
    "clf.fit(X_train, y_train)\n",
    "feature_importance = clf.feature_importances_\n"
   ]
  },
  {
   "cell_type": "code",
   "execution_count": null,
   "id": "013ac737",
   "metadata": {},
   "outputs": [],
   "source": [
    "feature_importance"
   ]
  },
  {
   "cell_type": "code",
   "execution_count": null,
   "id": "47454581",
   "metadata": {},
   "outputs": [],
   "source": [
    "import pandas as pd\n",
    "import shap\n",
    "from sklearn.ensemble import RandomForestClassifier\n",
    "from sklearn.model_selection import train_test_split\n",
    "\n"
   ]
  },
  {
   "cell_type": "code",
   "execution_count": null,
   "id": "92175c2a",
   "metadata": {},
   "outputs": [],
   "source": [
    "\n",
    "X_train, X_test, y_train, y_test = train_test_split(X, y, test_size=0.15, random_state=42)\n"
   ]
  },
  {
   "cell_type": "code",
   "execution_count": null,
   "id": "09a43171",
   "metadata": {},
   "outputs": [],
   "source": [
    "# Convert non-numeric columns to numeric (e.g., using one-hot encoding for categorical columns)\n",
    "X_train = pd.get_dummies(X_train, columns=['round_final', 'round_qual'])\n",
    "X_test = pd.get_dummies(X_test, columns=['round_final', 'round_qual'])\n",
    "\n",
    "# Handle missing values (NaNs) by either dropping or imputing\n",
    "X_train = X_train.dropna()\n",
    "X_test = X_test.dropna()\n",
    "\n",
    "# Ensure all columns have a numeric data type\n",
    "X_train = X_train.astype('float64')\n",
    "X_test = X_test.astype('float64')\n",
    "\n"
   ]
  },
  {
   "cell_type": "code",
   "execution_count": null,
   "id": "7663f69d",
   "metadata": {},
   "outputs": [],
   "source": [
    "clf = RandomForestClassifier(random_state=42)\n",
    "clf.fit(X_train, y_train)\n",
    "\n",
    "# Initialize a SHAP explainer\n",
    "explainer = shap.Explainer(clf, X_train)\n",
    "\n",
    "# Calculate SHAP values for the testing data\n",
    "shap_values = explainer(X_test)\n",
    "\n",
    "# Get the feature names corresponding to one-hot encoded columns\n",
    "feature_names = X_test.columns\n",
    "\n",
    "# Plot the summary plot to visualize feature importances\n",
    "shap.summary_plot(shap_values, X_test, feature_names=feature_names)"
   ]
  },
  {
   "cell_type": "code",
   "execution_count": null,
   "id": "75d43046",
   "metadata": {},
   "outputs": [],
   "source": [
    "clf = RandomForestClassifier(n_estimators=100, random_state=42)\n",
    "clf.fit(X, y)"
   ]
  },
  {
   "cell_type": "code",
   "execution_count": null,
   "id": "36d49786",
   "metadata": {},
   "outputs": [],
   "source": [
    "importance = clf.feature_importances_\n"
   ]
  },
  {
   "cell_type": "code",
   "execution_count": null,
   "id": "6d550290",
   "metadata": {},
   "outputs": [],
   "source": [
    "\n",
    "for feature, importance in zip(X, importance):\n",
    "    print(feature, importance)"
   ]
  },
  {
   "cell_type": "code",
   "execution_count": null,
   "id": "fba172fb",
   "metadata": {},
   "outputs": [],
   "source": [
    "import matplotlib.pyplot as plt"
   ]
  },
  {
   "cell_type": "code",
   "execution_count": null,
   "id": "38215466",
   "metadata": {},
   "outputs": [],
   "source": [
    "plt.bar(range(X.shape[1]), clf.feature_importances_)\n",
    "plt.xlabel('Features')\n",
    "plt.ylabel('Importance')\n",
    "plt.show"
   ]
  },
  {
   "cell_type": "code",
   "execution_count": null,
   "id": "9ae263af",
   "metadata": {},
   "outputs": [],
   "source": [
    "import xgboost as xgb\n",
    "\n",
    "# Create and train an XGBoost model\n",
    "model = xgb.XGBClassifier()\n",
    "model.fit(X_train, y_train)\n",
    "\n",
    "# Get feature importance using 'weight'\n",
    "weight_importance = model.get_booster().get_score(importance_type='weight')\n",
    "\n",
    "# Get feature importance using 'gain'\n",
    "gain_importance = model.get_booster().get_score(importance_type='gain')\n",
    "\n",
    "# Print feature importance\n",
    "print(\"Weight Feature Importance:\")\n",
    "for feature, importance in weight_importance.items():\n",
    "    print(f\"{feature}: {importance}\")\n",
    "\n",
    "print(\"\\nGain Feature Importance:\")\n",
    "for feature, importance in gain_importance.items():\n",
    "    print(f\"{feature}: {importance}\")\n"
   ]
  },
  {
   "cell_type": "code",
   "execution_count": null,
   "id": "3e6a05ba",
   "metadata": {},
   "outputs": [],
   "source": [
    "import catboost\n",
    "from catboost import CatBoostClassifier, CatBoostRegressor, Pool, cv\n",
    "from catboost import MetricVisualizer\n",
    "\n",
    "\n"
   ]
  },
  {
   "cell_type": "code",
   "execution_count": null,
   "id": "a37aabd3",
   "metadata": {},
   "outputs": [],
   "source": [
    "data = Pool(data=X_train, label=y_train)\n",
    "\n",
    "# Train a CatBoost model\n",
    "model = CatBoostClassifier(iterations=1000, depth=6, learning_rate=0.1, loss_function='Logloss')\n",
    "model.fit(data, verbose=100)\n",
    "\n"
   ]
  },
  {
   "cell_type": "code",
   "execution_count": null,
   "id": "5c8e0647",
   "metadata": {},
   "outputs": [],
   "source": [
    "from sklearn.model_selection import train_test_split\n",
    "from sklearn.linear_model import Ridge\n"
   ]
  },
  {
   "cell_type": "code",
   "execution_count": null,
   "id": "b68c0d03",
   "metadata": {},
   "outputs": [],
   "source": [
    "features = X\n",
    "target = y\n",
    "\n",
    "X_train, X_val, y_train, y_val = train_test_split(\n",
    "    X, y, random_state=0)\n",
    "model = Ridge(alpha=1e-2).fit(X_train, y_train)\n",
    "model.score(X_val, y_val)"
   ]
  },
  {
   "cell_type": "code",
   "execution_count": null,
   "id": "205fc4c0",
   "metadata": {},
   "outputs": [],
   "source": [
    "X_train, X_val, y_train, y_val = train_test_split(X, y, random_state=0)\n",
    "\n",
    "# Train a Ridge model\n",
    "model = Ridge(alpha=1e-2).fit(X_train, y_train)\n",
    "\n",
    "# Perform permutation importance\n",
    "r = permutation_importance(model, X_val, y_val, n_repeats=30, random_state=0)\n",
    "\n",
    "# Print feature importance values\n",
    "for i in r.importances_mean.argsort()[::-1]:\n",
    "    if r.importances_mean[i] - 2 * r.importances_std[i] > 0:\n",
    "        print(f\"Feature {i}: {r.importances_mean[i]:.3f} +/- {r.importances_std[i]:.3f}\")\n"
   ]
  },
  {
   "cell_type": "code",
   "execution_count": null,
   "id": "e1593c10",
   "metadata": {},
   "outputs": [],
   "source": [
    "features"
   ]
  },
  {
   "cell_type": "markdown",
   "id": "a465d73e",
   "metadata": {},
   "source": [
    "Feature 12: 302.945 +/- 22.849: This line indicates that Feature 12 is the most important feature in your dataset, with an average importance value of approximately 302.945. The \"+/- 22.849\" represents the standard deviation or uncertainty associated with this importance value. It means that the model's performance is quite sensitive to variations in Feature 12, and it has a significant impact on the predictions.\n",
    "\n",
    "Feature 13: 60.496 +/- 4.889: Feature 13 is the second most important feature, with an average importance value of about 60.496. The standard deviation, \"+/- 4.889,\" suggests that it's also an important feature but with slightly less impact and variability compared to Feature 12.\n",
    "\n"
   ]
  },
  {
   "cell_type": "code",
   "execution_count": null,
   "id": "b63461b8",
   "metadata": {},
   "outputs": [],
   "source": [
    "feature_names=features.columns"
   ]
  },
  {
   "cell_type": "code",
   "execution_count": null,
   "id": "045041fd",
   "metadata": {},
   "outputs": [],
   "source": [
    "# Accessing \"Feature 12\" (which is at index 11 in a zero-based index)\n",
    "feature_12_name = feature_names[11]  # Note: Using index 11\n",
    "print(f\"Feature 12 corresponds to: {feature_12_name}\")\n",
    "feature_13_name = feature_names[12]  # Note: Using index 11\n",
    "print(f\"Feature 13 corresponds to: {feature_13_name}\")\n",
    "\n"
   ]
  },
  {
   "cell_type": "code",
   "execution_count": null,
   "id": "80244871",
   "metadata": {},
   "outputs": [],
   "source": [
    "df1.info()"
   ]
  },
  {
   "cell_type": "code",
   "execution_count": null,
   "id": "4c501663",
   "metadata": {},
   "outputs": [],
   "source": [
    "usa = df1[df1['nation']=='USA']"
   ]
  },
  {
   "cell_type": "code",
   "execution_count": null,
   "id": "2209ec34",
   "metadata": {},
   "outputs": [],
   "source": [
    "usa"
   ]
  }
 ],
 "metadata": {
  "kernelspec": {
   "display_name": "Python 3 (ipykernel)",
   "language": "python",
   "name": "python3"
  },
  "language_info": {
   "codemirror_mode": {
    "name": "ipython",
    "version": 3
   },
   "file_extension": ".py",
   "mimetype": "text/x-python",
   "name": "python",
   "nbconvert_exporter": "python",
   "pygments_lexer": "ipython3",
   "version": "3.8.18"
  }
 },
 "nbformat": 4,
 "nbformat_minor": 5
}
