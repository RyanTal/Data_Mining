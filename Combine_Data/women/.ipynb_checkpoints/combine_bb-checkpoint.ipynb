{
 "cells": [
  {
   "cell_type": "code",
   "execution_count": 1,
   "id": "84c83862",
   "metadata": {},
   "outputs": [],
   "source": [
    "import pandas as pd\n",
    "import numpy as np"
   ]
  },
  {
   "cell_type": "code",
   "execution_count": 2,
   "id": "5fef6a05",
   "metadata": {},
   "outputs": [],
   "source": [
    "pac16bb = pd.read_csv('../../Cleaning/qual_events/women/clean_pacific_rim2016bb.csv')\n",
    "bc15bb = pd.read_csv('../../Cleaning/qual_events/women/clean_british_championship2015bb.csv')\n",
    "jesolo15bb = pd.read_csv('../../Cleaning/qual_events/women/clean_jesolo2015bb.csv')\n",
    "wc13cott_bb = pd.read_csv('../../Cleaning/qual_events/women/clean_wc13cott_bb.csv')\n",
    "wc13doha_bb = pd.read_csv('../../Cleaning/qual_events/women/clean_wc14doha_bb.csv')\n",
    "wc19doha_bb = pd.read_csv('../../Cleaning/qual_events/women/clean_worldcup2019doha_bb.csv')\n",
    "eu20_bb = pd.read_csv('../../Cleaning/qual_events/women/euro2020bb.csv')\n",
    "uni19_bb = pd.read_csv('../../Cleaning/qual_events/women/uni2019bb.csv')\n",
    "wc19melb_bb = pd.read_csv('../../Cleaning/qual_events/women/clean_worldcup2019melbourne_bb.csv')\n",
    "wc18jeso_bb = pd.read_csv('../../Cleaning/qual_events/women/clean_worldcup2018jesolo_bb.csv')\n",
    "usopc_bb = pd.read_csv('../../Cleaning/USOPC/usopc_women_bb_october.csv')\n",
    "bb_world_championship_w = pd.read_csv('../../Cleaning/World_Championships/bb_world_championship_w.csv')\n",
    "# wc15cott_bb = pd.read_csv('../Cleaning/qual_events/clean_worldcup2015cott_bb.csv')\n",
    "bb_euro_championship18 = pd.read_csv('../../Cleaning/qual_events/women/clean_european_championship2018bb.csv')\n",
    "bb_euro_championship21 = pd.read_csv('../../Cleaning/qual_events/women/clean_european_championship2021bb.csv')\n",
    "pam14am_bb = pd.read_csv('../../Cleaning/qual_events/women/clean_pan_american2014bb.csv')\n",
    "euro19games_bb= pd.read_csv('../../Cleaning/qual_events/women/clean_european_games2019bb.csv')\n",
    "\n",
    "clean_universiade2015bb= pd.read_csv('../../Cleaning/qual_events/women/clean_universiade2015bb.csv')\n",
    "clean_euro15champ_bb= pd.read_csv('../../Cleaning/qual_events/women/clean_euro15champ_bb.csv')\n",
    "\n"
   ]
  },
  {
   "cell_type": "code",
   "execution_count": 3,
   "id": "d96b85b7",
   "metadata": {},
   "outputs": [],
   "source": [
    "eu20_bb.rename(columns={'Gymnast': 'Name', 'Position': 'Rank', 'Penalty': 'Pen.'}, inplace=True)\n",
    "uni19_bb['nation'] = uni19_bb['Athlete'].str.extract(r'\\((.*?)\\)')\n",
    "uni19_bb['Athlete'] = uni19_bb['Athlete'].str.replace(r'\\(.*?\\)', '', regex=True)\n",
    "uni19_bb['year']=2019\n",
    "eu20_bb['year']=2020\n",
    "eu20_bb['nation']='eu'\n",
    "uni19_bb.rename(columns={'Athlete': 'Name', }, inplace=True)\n",
    "uni19_bb['round']='final'\n",
    "eu20_bb['round']='final'\n"
   ]
  },
  {
   "cell_type": "code",
   "execution_count": 4,
   "id": "f62e610c",
   "metadata": {},
   "outputs": [],
   "source": [
    "def rename_columns(dataframe):\n",
    "    # Define the column name mapping\n",
    "    column_name_mapping = {\n",
    "        'Athlete': 'Name',\n",
    "        'Gymnast': 'Name',\n",
    "        'Nation': 'nation',\n",
    "        'D': 'D Score',\n",
    "        'E': 'E Score',\n",
    "        'ND': 'Pen.',\n",
    "        'Score': 'Total',\n",
    "        'Position': 'Rank'\n",
    "        # Add more columns as needed\n",
    "    }\n",
    "\n",
    "    return dataframe.rename(columns=column_name_mapping, inplace=True)\n"
   ]
  },
  {
   "cell_type": "code",
   "execution_count": 5,
   "id": "768208e9",
   "metadata": {},
   "outputs": [],
   "source": [
    "rename_columns(wc19melb_bb)"
   ]
  },
  {
   "cell_type": "code",
   "execution_count": 6,
   "id": "bfade7fe",
   "metadata": {},
   "outputs": [],
   "source": [
    "def reorder_columns(dataframe):\n",
    "    # Define the desired column order\n",
    "    desired_column_order = ['Rank', 'Name', 'nation', 'D Score', 'E Score', 'Pen.', 'Total', 'year', 'round']\n",
    "\n",
    "    return dataframe[desired_column_order]\n"
   ]
  },
  {
   "cell_type": "code",
   "execution_count": 7,
   "id": "617a7501",
   "metadata": {},
   "outputs": [],
   "source": [
    "wc19melb_bb = reorder_columns(wc19melb_bb)"
   ]
  },
  {
   "cell_type": "markdown",
   "id": "eb0d9b74",
   "metadata": {},
   "source": [
    "Functions\n",
    "\n",
    "    rename_columns(wc19melb_ub)\n",
    "\n",
    "    wc19melb_ub = reorder_columns(wc19melb_ub)\n",
    "\n"
   ]
  },
  {
   "cell_type": "code",
   "execution_count": 8,
   "id": "78e3c98d",
   "metadata": {},
   "outputs": [],
   "source": [
    "rename_columns(pac16bb)"
   ]
  },
  {
   "cell_type": "code",
   "execution_count": 9,
   "id": "7e7c9da6",
   "metadata": {},
   "outputs": [],
   "source": [
    "pac16bb = reorder_columns(pac16bb)"
   ]
  },
  {
   "cell_type": "code",
   "execution_count": 10,
   "id": "074f19ff",
   "metadata": {},
   "outputs": [],
   "source": [
    "rename_columns(bc15bb)"
   ]
  },
  {
   "cell_type": "code",
   "execution_count": 11,
   "id": "c1525a6c",
   "metadata": {},
   "outputs": [],
   "source": [
    "bc15bb = reorder_columns(bc15bb)"
   ]
  },
  {
   "cell_type": "code",
   "execution_count": 12,
   "id": "e8f53565",
   "metadata": {},
   "outputs": [],
   "source": [
    "rename_columns(jesolo15bb)"
   ]
  },
  {
   "cell_type": "code",
   "execution_count": 13,
   "id": "cbca5f11",
   "metadata": {},
   "outputs": [],
   "source": [
    "jesolo15bb = reorder_columns(jesolo15bb)"
   ]
  },
  {
   "cell_type": "code",
   "execution_count": 14,
   "id": "48dc2a08",
   "metadata": {},
   "outputs": [],
   "source": [
    "rename_columns(wc13cott_bb)"
   ]
  },
  {
   "cell_type": "code",
   "execution_count": 15,
   "id": "2749a06b",
   "metadata": {},
   "outputs": [],
   "source": [
    "wc13cott_bb = reorder_columns(wc13cott_bb)"
   ]
  },
  {
   "cell_type": "code",
   "execution_count": 16,
   "id": "b16e26bd",
   "metadata": {},
   "outputs": [],
   "source": [
    "rename_columns(wc13doha_bb)"
   ]
  },
  {
   "cell_type": "code",
   "execution_count": 17,
   "id": "368f2e22",
   "metadata": {},
   "outputs": [],
   "source": [
    "wc13doha_bb = reorder_columns(wc13doha_bb)"
   ]
  },
  {
   "cell_type": "code",
   "execution_count": 18,
   "id": "ad35813d",
   "metadata": {},
   "outputs": [],
   "source": [
    "rename_columns(wc19doha_bb)"
   ]
  },
  {
   "cell_type": "code",
   "execution_count": 19,
   "id": "116ed35f",
   "metadata": {},
   "outputs": [],
   "source": [
    "column_name_mapping = {\n",
    "    'Round': 'round'\n",
    "}\n",
    "\n",
    "wc19doha_bb.rename(columns=column_name_mapping, inplace=True)"
   ]
  },
  {
   "cell_type": "code",
   "execution_count": 20,
   "id": "53a7bde5",
   "metadata": {},
   "outputs": [],
   "source": [
    "wc19doha_bb = reorder_columns(wc19doha_bb)"
   ]
  },
  {
   "cell_type": "code",
   "execution_count": 21,
   "id": "ed6438b3",
   "metadata": {},
   "outputs": [],
   "source": [
    "rename_columns(eu20_bb)"
   ]
  },
  {
   "cell_type": "code",
   "execution_count": 22,
   "id": "ce790c9a",
   "metadata": {},
   "outputs": [],
   "source": [
    "wc13doha_bb = reorder_columns(eu20_bb)"
   ]
  },
  {
   "cell_type": "code",
   "execution_count": 23,
   "id": "256ee13b",
   "metadata": {},
   "outputs": [],
   "source": [
    "rename_columns(uni19_bb)"
   ]
  },
  {
   "cell_type": "code",
   "execution_count": 24,
   "id": "43460cb8",
   "metadata": {},
   "outputs": [],
   "source": [
    "uni19_bb = reorder_columns(uni19_bb)"
   ]
  },
  {
   "cell_type": "code",
   "execution_count": 25,
   "id": "5c354790",
   "metadata": {},
   "outputs": [],
   "source": [
    "rename_columns(wc18jeso_bb)"
   ]
  },
  {
   "cell_type": "code",
   "execution_count": 26,
   "id": "fb0eda0f",
   "metadata": {},
   "outputs": [],
   "source": [
    "wc18jeso_bb['year']=2018\n",
    "wc18jeso_bb['round']='final'"
   ]
  },
  {
   "cell_type": "code",
   "execution_count": 27,
   "id": "8e520283",
   "metadata": {},
   "outputs": [],
   "source": [
    "wc18jeso_bb = reorder_columns(wc18jeso_bb)"
   ]
  },
  {
   "cell_type": "code",
   "execution_count": 28,
   "id": "eb901913",
   "metadata": {},
   "outputs": [],
   "source": [
    "rename_columns(bb_world_championship_w)"
   ]
  },
  {
   "cell_type": "code",
   "execution_count": 29,
   "id": "50f7f441",
   "metadata": {},
   "outputs": [],
   "source": [
    "bb_world_championship_w = reorder_columns(bb_world_championship_w)"
   ]
  },
  {
   "cell_type": "code",
   "execution_count": 30,
   "id": "f9a9a2f8",
   "metadata": {},
   "outputs": [],
   "source": [
    "usopc_bb=usopc_bb.drop(columns=[\"Gender\", 'Competition', 'Apparatus', ])\n",
    "usopc_bb['year'] = usopc_bb['Date'].str[:4]\n",
    "usopc_bb=usopc_bb.drop(columns=[\"Date\"])"
   ]
  },
  {
   "cell_type": "code",
   "execution_count": 31,
   "id": "533200fd",
   "metadata": {},
   "outputs": [],
   "source": [
    "usopc_bb.rename(columns={'Country': 'nation', 'Round': 'round',\n",
    "                           'E_Score': 'E Score','D_Score': 'D Score', 'Penalty': 'Pen.',\n",
    "                        'Score': 'Total'}, inplace=True)\n",
    "\n",
    "usopc_bb=usopc_bb[['Rank', 'Name', 'nation', 'D Score', 'E Score', 'Pen.', \n",
    "                         'Total','year' , 'round' ]]"
   ]
  },
  {
   "cell_type": "code",
   "execution_count": 32,
   "id": "a7214605",
   "metadata": {},
   "outputs": [],
   "source": [
    "combined_df = pd.concat([wc19melb_bb, pac16bb,bc15bb,jesolo15bb, wc13cott_bb, wc13doha_bb])"
   ]
  },
  {
   "cell_type": "code",
   "execution_count": 33,
   "id": "a56e5f0d",
   "metadata": {},
   "outputs": [],
   "source": [
    "bb = combined_df.copy()"
   ]
  },
  {
   "cell_type": "code",
   "execution_count": 34,
   "id": "a9fd204f",
   "metadata": {},
   "outputs": [
    {
     "name": "stdout",
     "output_type": "stream",
     "text": [
      "<class 'pandas.core.frame.DataFrame'>\n",
      "Index: 94 entries, 0 to 7\n",
      "Data columns (total 9 columns):\n",
      " #   Column   Non-Null Count  Dtype  \n",
      "---  ------   --------------  -----  \n",
      " 0   Rank     94 non-null     int64  \n",
      " 1   Name     94 non-null     object \n",
      " 2   nation   94 non-null     object \n",
      " 3   D Score  94 non-null     float64\n",
      " 4   E Score  94 non-null     float64\n",
      " 5   Pen.     94 non-null     float64\n",
      " 6   Total    94 non-null     float64\n",
      " 7   year     94 non-null     int64  \n",
      " 8   round    94 non-null     object \n",
      "dtypes: float64(4), int64(2), object(3)\n",
      "memory usage: 7.3+ KB\n"
     ]
    }
   ],
   "source": [
    "bb.info()"
   ]
  },
  {
   "cell_type": "code",
   "execution_count": 35,
   "id": "7bd5c99b",
   "metadata": {},
   "outputs": [],
   "source": [
    "combined_df = pd.concat([bb, wc19doha_bb, eu20_bb, uni19_bb, wc18jeso_bb, \n",
    "                         bb_world_championship_w, usopc_bb])\n",
    "\n"
   ]
  },
  {
   "cell_type": "code",
   "execution_count": 36,
   "id": "ec6476ad",
   "metadata": {},
   "outputs": [],
   "source": [
    "bb = combined_df.copy()"
   ]
  },
  {
   "cell_type": "code",
   "execution_count": 37,
   "id": "35e0ea8f",
   "metadata": {},
   "outputs": [
    {
     "name": "stdout",
     "output_type": "stream",
     "text": [
      "<class 'pandas.core.frame.DataFrame'>\n",
      "Index: 2016 entries, 0 to 1802\n",
      "Data columns (total 9 columns):\n",
      " #   Column   Non-Null Count  Dtype  \n",
      "---  ------   --------------  -----  \n",
      " 0   Rank     2016 non-null   float64\n",
      " 1   Name     2016 non-null   object \n",
      " 2   nation   1991 non-null   object \n",
      " 3   D Score  2016 non-null   float64\n",
      " 4   E Score  2016 non-null   float64\n",
      " 5   Pen.     2008 non-null   float64\n",
      " 6   Total    2016 non-null   float64\n",
      " 7   year     2016 non-null   object \n",
      " 8   round    2016 non-null   object \n",
      "dtypes: float64(5), object(4)\n",
      "memory usage: 157.5+ KB\n"
     ]
    }
   ],
   "source": [
    "bb.info()"
   ]
  },
  {
   "cell_type": "code",
   "execution_count": 38,
   "id": "86270955",
   "metadata": {},
   "outputs": [
    {
     "data": {
      "text/html": [
       "<div>\n",
       "<style scoped>\n",
       "    .dataframe tbody tr th:only-of-type {\n",
       "        vertical-align: middle;\n",
       "    }\n",
       "\n",
       "    .dataframe tbody tr th {\n",
       "        vertical-align: top;\n",
       "    }\n",
       "\n",
       "    .dataframe thead th {\n",
       "        text-align: right;\n",
       "    }\n",
       "</style>\n",
       "<table border=\"1\" class=\"dataframe\">\n",
       "  <thead>\n",
       "    <tr style=\"text-align: right;\">\n",
       "      <th></th>\n",
       "      <th>Rank</th>\n",
       "      <th>Name</th>\n",
       "      <th>nation</th>\n",
       "      <th>D Score</th>\n",
       "      <th>E Score</th>\n",
       "      <th>Pen.</th>\n",
       "      <th>Total</th>\n",
       "      <th>year</th>\n",
       "      <th>round</th>\n",
       "    </tr>\n",
       "  </thead>\n",
       "  <tbody>\n",
       "    <tr>\n",
       "      <th>0</th>\n",
       "      <td>1.0</td>\n",
       "      <td>Zhao Shiting</td>\n",
       "      <td>CHN</td>\n",
       "      <td>5.0</td>\n",
       "      <td>8.566</td>\n",
       "      <td>0.0</td>\n",
       "      <td>13.566</td>\n",
       "      <td>2019</td>\n",
       "      <td>final</td>\n",
       "    </tr>\n",
       "  </tbody>\n",
       "</table>\n",
       "</div>"
      ],
      "text/plain": [
       "   Rank          Name nation  D Score  E Score  Pen.   Total  year  round\n",
       "0   1.0  Zhao Shiting    CHN      5.0    8.566   0.0  13.566  2019  final"
      ]
     },
     "execution_count": 38,
     "metadata": {},
     "output_type": "execute_result"
    }
   ],
   "source": [
    "bb.head(1)"
   ]
  },
  {
   "cell_type": "code",
   "execution_count": 39,
   "id": "e4af7608",
   "metadata": {},
   "outputs": [
    {
     "data": {
      "text/html": [
       "<div>\n",
       "<style scoped>\n",
       "    .dataframe tbody tr th:only-of-type {\n",
       "        vertical-align: middle;\n",
       "    }\n",
       "\n",
       "    .dataframe tbody tr th {\n",
       "        vertical-align: top;\n",
       "    }\n",
       "\n",
       "    .dataframe thead th {\n",
       "        text-align: right;\n",
       "    }\n",
       "</style>\n",
       "<table border=\"1\" class=\"dataframe\">\n",
       "  <thead>\n",
       "    <tr style=\"text-align: right;\">\n",
       "      <th></th>\n",
       "      <th>Rank</th>\n",
       "      <th>Athlete</th>\n",
       "      <th>Nation</th>\n",
       "      <th>D</th>\n",
       "      <th>E</th>\n",
       "      <th>ND</th>\n",
       "      <th>Total</th>\n",
       "      <th>year</th>\n",
       "      <th>round</th>\n",
       "    </tr>\n",
       "  </thead>\n",
       "  <tbody>\n",
       "    <tr>\n",
       "      <th>0</th>\n",
       "      <td>1</td>\n",
       "      <td>Mélanie De Jesus Dos Santos</td>\n",
       "      <td>FRA</td>\n",
       "      <td>6.0</td>\n",
       "      <td>7.900</td>\n",
       "      <td>0.0</td>\n",
       "      <td>13.900</td>\n",
       "      <td>2021</td>\n",
       "      <td>final</td>\n",
       "    </tr>\n",
       "    <tr>\n",
       "      <th>1</th>\n",
       "      <td>2</td>\n",
       "      <td>Sanne Wevers</td>\n",
       "      <td>NED</td>\n",
       "      <td>5.6</td>\n",
       "      <td>8.266</td>\n",
       "      <td>0.0</td>\n",
       "      <td>13.866</td>\n",
       "      <td>2021</td>\n",
       "      <td>final</td>\n",
       "    </tr>\n",
       "    <tr>\n",
       "      <th>2</th>\n",
       "      <td>3</td>\n",
       "      <td>Anastasiia Bachynska</td>\n",
       "      <td>UKR</td>\n",
       "      <td>5.6</td>\n",
       "      <td>7.733</td>\n",
       "      <td>0.0</td>\n",
       "      <td>13.333</td>\n",
       "      <td>2021</td>\n",
       "      <td>final</td>\n",
       "    </tr>\n",
       "    <tr>\n",
       "      <th>3</th>\n",
       "      <td>4</td>\n",
       "      <td>Amelie Morgan</td>\n",
       "      <td>GBR</td>\n",
       "      <td>5.3</td>\n",
       "      <td>7.866</td>\n",
       "      <td>0.0</td>\n",
       "      <td>13.166</td>\n",
       "      <td>2021</td>\n",
       "      <td>final</td>\n",
       "    </tr>\n",
       "    <tr>\n",
       "      <th>4</th>\n",
       "      <td>5</td>\n",
       "      <td>Martina Maggio</td>\n",
       "      <td>ITA</td>\n",
       "      <td>4.9</td>\n",
       "      <td>8.100</td>\n",
       "      <td>0.0</td>\n",
       "      <td>13.000</td>\n",
       "      <td>2021</td>\n",
       "      <td>final</td>\n",
       "    </tr>\n",
       "  </tbody>\n",
       "</table>\n",
       "</div>"
      ],
      "text/plain": [
       "   Rank                      Athlete Nation    D      E   ND   Total  year  \\\n",
       "0     1  Mélanie De Jesus Dos Santos    FRA  6.0  7.900  0.0  13.900  2021   \n",
       "1     2                 Sanne Wevers    NED  5.6  8.266  0.0  13.866  2021   \n",
       "2     3         Anastasiia Bachynska    UKR  5.6  7.733  0.0  13.333  2021   \n",
       "3     4                Amelie Morgan    GBR  5.3  7.866  0.0  13.166  2021   \n",
       "4     5               Martina Maggio    ITA  4.9  8.100  0.0  13.000  2021   \n",
       "\n",
       "   round  \n",
       "0  final  \n",
       "1  final  \n",
       "2  final  \n",
       "3  final  \n",
       "4  final  "
      ]
     },
     "execution_count": 39,
     "metadata": {},
     "output_type": "execute_result"
    }
   ],
   "source": [
    "bb_euro_championship18.head()"
   ]
  },
  {
   "cell_type": "code",
   "execution_count": 40,
   "id": "d0a555a6",
   "metadata": {},
   "outputs": [
    {
     "data": {
      "text/html": [
       "<div>\n",
       "<style scoped>\n",
       "    .dataframe tbody tr th:only-of-type {\n",
       "        vertical-align: middle;\n",
       "    }\n",
       "\n",
       "    .dataframe tbody tr th {\n",
       "        vertical-align: top;\n",
       "    }\n",
       "\n",
       "    .dataframe thead th {\n",
       "        text-align: right;\n",
       "    }\n",
       "</style>\n",
       "<table border=\"1\" class=\"dataframe\">\n",
       "  <thead>\n",
       "    <tr style=\"text-align: right;\">\n",
       "      <th></th>\n",
       "      <th>Rank</th>\n",
       "      <th>Athlete</th>\n",
       "      <th>Nation</th>\n",
       "      <th>D</th>\n",
       "      <th>E</th>\n",
       "      <th>ND</th>\n",
       "      <th>Total</th>\n",
       "      <th>year</th>\n",
       "      <th>round</th>\n",
       "    </tr>\n",
       "  </thead>\n",
       "  <tbody>\n",
       "    <tr>\n",
       "      <th>0</th>\n",
       "      <td>1</td>\n",
       "      <td>Sanne Wevers</td>\n",
       "      <td>NED</td>\n",
       "      <td>5.6</td>\n",
       "      <td>8.300</td>\n",
       "      <td>0.0</td>\n",
       "      <td>13.900</td>\n",
       "      <td>2021</td>\n",
       "      <td>final</td>\n",
       "    </tr>\n",
       "    <tr>\n",
       "      <th>1</th>\n",
       "      <td>2</td>\n",
       "      <td>Nina Derwael</td>\n",
       "      <td>BEL</td>\n",
       "      <td>5.0</td>\n",
       "      <td>8.600</td>\n",
       "      <td>0.0</td>\n",
       "      <td>13.600</td>\n",
       "      <td>2021</td>\n",
       "      <td>final</td>\n",
       "    </tr>\n",
       "    <tr>\n",
       "      <th>2</th>\n",
       "      <td>3</td>\n",
       "      <td>Marine Boyer</td>\n",
       "      <td>FRA</td>\n",
       "      <td>5.8</td>\n",
       "      <td>7.366</td>\n",
       "      <td>0.0</td>\n",
       "      <td>13.166</td>\n",
       "      <td>2021</td>\n",
       "      <td>final</td>\n",
       "    </tr>\n",
       "    <tr>\n",
       "      <th>3</th>\n",
       "      <td>4</td>\n",
       "      <td>Melanie De Jesus Dos Santos</td>\n",
       "      <td>FRA</td>\n",
       "      <td>5.4</td>\n",
       "      <td>7.666</td>\n",
       "      <td>0.0</td>\n",
       "      <td>13.066</td>\n",
       "      <td>2021</td>\n",
       "      <td>final</td>\n",
       "    </tr>\n",
       "    <tr>\n",
       "      <th>4</th>\n",
       "      <td>5</td>\n",
       "      <td>Ilaria Käslin</td>\n",
       "      <td>SUI</td>\n",
       "      <td>5.1</td>\n",
       "      <td>7.466</td>\n",
       "      <td>-0.1</td>\n",
       "      <td>12.466</td>\n",
       "      <td>2021</td>\n",
       "      <td>final</td>\n",
       "    </tr>\n",
       "  </tbody>\n",
       "</table>\n",
       "</div>"
      ],
      "text/plain": [
       "   Rank                      Athlete Nation    D      E   ND   Total  year  \\\n",
       "0     1                 Sanne Wevers    NED  5.6  8.300  0.0  13.900  2021   \n",
       "1     2                 Nina Derwael    BEL  5.0  8.600  0.0  13.600  2021   \n",
       "2     3                 Marine Boyer    FRA  5.8  7.366  0.0  13.166  2021   \n",
       "3     4  Melanie De Jesus Dos Santos    FRA  5.4  7.666  0.0  13.066  2021   \n",
       "4     5                Ilaria Käslin    SUI  5.1  7.466 -0.1  12.466  2021   \n",
       "\n",
       "   round  \n",
       "0  final  \n",
       "1  final  \n",
       "2  final  \n",
       "3  final  \n",
       "4  final  "
      ]
     },
     "execution_count": 40,
     "metadata": {},
     "output_type": "execute_result"
    }
   ],
   "source": [
    "bb_euro_championship21.head()"
   ]
  },
  {
   "cell_type": "code",
   "execution_count": 41,
   "id": "8ba169bf",
   "metadata": {},
   "outputs": [],
   "source": [
    "rename_columns(bb_euro_championship18)"
   ]
  },
  {
   "cell_type": "code",
   "execution_count": 42,
   "id": "0ccc014e",
   "metadata": {},
   "outputs": [],
   "source": [
    "rename_columns(bb_euro_championship21)"
   ]
  },
  {
   "cell_type": "code",
   "execution_count": 43,
   "id": "39609a19",
   "metadata": {},
   "outputs": [],
   "source": [
    "combined_df = pd.concat([bb, bb_euro_championship18, bb_euro_championship21])"
   ]
  },
  {
   "cell_type": "code",
   "execution_count": 44,
   "id": "3cdae15a",
   "metadata": {},
   "outputs": [],
   "source": [
    "bb = combined_df.copy()"
   ]
  },
  {
   "cell_type": "code",
   "execution_count": 45,
   "id": "86eaad3a",
   "metadata": {},
   "outputs": [
    {
     "data": {
      "text/html": [
       "<div>\n",
       "<style scoped>\n",
       "    .dataframe tbody tr th:only-of-type {\n",
       "        vertical-align: middle;\n",
       "    }\n",
       "\n",
       "    .dataframe tbody tr th {\n",
       "        vertical-align: top;\n",
       "    }\n",
       "\n",
       "    .dataframe thead th {\n",
       "        text-align: right;\n",
       "    }\n",
       "</style>\n",
       "<table border=\"1\" class=\"dataframe\">\n",
       "  <thead>\n",
       "    <tr style=\"text-align: right;\">\n",
       "      <th></th>\n",
       "      <th>Rank</th>\n",
       "      <th>Name</th>\n",
       "      <th>nation</th>\n",
       "      <th>D Score</th>\n",
       "      <th>E Score</th>\n",
       "      <th>Pen.</th>\n",
       "      <th>Total</th>\n",
       "      <th>year</th>\n",
       "      <th>round</th>\n",
       "    </tr>\n",
       "  </thead>\n",
       "  <tbody>\n",
       "    <tr>\n",
       "      <th>0</th>\n",
       "      <td>1.0</td>\n",
       "      <td>Zhao Shiting</td>\n",
       "      <td>CHN</td>\n",
       "      <td>5.0</td>\n",
       "      <td>8.566</td>\n",
       "      <td>0.0</td>\n",
       "      <td>13.566</td>\n",
       "      <td>2019</td>\n",
       "      <td>final</td>\n",
       "    </tr>\n",
       "    <tr>\n",
       "      <th>1</th>\n",
       "      <td>2.0</td>\n",
       "      <td>Emma Nedov</td>\n",
       "      <td>AUS</td>\n",
       "      <td>5.4</td>\n",
       "      <td>8.100</td>\n",
       "      <td>0.0</td>\n",
       "      <td>13.500</td>\n",
       "      <td>2019</td>\n",
       "      <td>final</td>\n",
       "    </tr>\n",
       "    <tr>\n",
       "      <th>2</th>\n",
       "      <td>3.0</td>\n",
       "      <td>Mana Oguchi</td>\n",
       "      <td>JPN</td>\n",
       "      <td>5.1</td>\n",
       "      <td>7.966</td>\n",
       "      <td>0.0</td>\n",
       "      <td>13.066</td>\n",
       "      <td>2019</td>\n",
       "      <td>final</td>\n",
       "    </tr>\n",
       "    <tr>\n",
       "      <th>3</th>\n",
       "      <td>4.0</td>\n",
       "      <td>Elena Chipizubov</td>\n",
       "      <td>AUS</td>\n",
       "      <td>5.1</td>\n",
       "      <td>7.933</td>\n",
       "      <td>0.0</td>\n",
       "      <td>13.033</td>\n",
       "      <td>2019</td>\n",
       "      <td>final</td>\n",
       "    </tr>\n",
       "    <tr>\n",
       "      <th>4</th>\n",
       "      <td>5.0</td>\n",
       "      <td>Lai Pin-Ju</td>\n",
       "      <td>TPE</td>\n",
       "      <td>5.1</td>\n",
       "      <td>7.333</td>\n",
       "      <td>0.0</td>\n",
       "      <td>12.433</td>\n",
       "      <td>2019</td>\n",
       "      <td>final</td>\n",
       "    </tr>\n",
       "    <tr>\n",
       "      <th>...</th>\n",
       "      <td>...</td>\n",
       "      <td>...</td>\n",
       "      <td>...</td>\n",
       "      <td>...</td>\n",
       "      <td>...</td>\n",
       "      <td>...</td>\n",
       "      <td>...</td>\n",
       "      <td>...</td>\n",
       "      <td>...</td>\n",
       "    </tr>\n",
       "    <tr>\n",
       "      <th>90</th>\n",
       "      <td>83.0</td>\n",
       "      <td>Greta Banishka</td>\n",
       "      <td>BUL</td>\n",
       "      <td>4.1</td>\n",
       "      <td>4.700</td>\n",
       "      <td>NaN</td>\n",
       "      <td>8.800</td>\n",
       "      <td>2021</td>\n",
       "      <td>qual</td>\n",
       "    </tr>\n",
       "    <tr>\n",
       "      <th>91</th>\n",
       "      <td>84.0</td>\n",
       "      <td>Thea Nygaard</td>\n",
       "      <td>NOR</td>\n",
       "      <td>4.7</td>\n",
       "      <td>4.100</td>\n",
       "      <td>NaN</td>\n",
       "      <td>8.800</td>\n",
       "      <td>2021</td>\n",
       "      <td>qual</td>\n",
       "    </tr>\n",
       "    <tr>\n",
       "      <th>92</th>\n",
       "      <td>85.0</td>\n",
       "      <td>Victoria Kajø</td>\n",
       "      <td>DEN</td>\n",
       "      <td>4.3</td>\n",
       "      <td>4.000</td>\n",
       "      <td>NaN</td>\n",
       "      <td>8.300</td>\n",
       "      <td>2021</td>\n",
       "      <td>qual</td>\n",
       "    </tr>\n",
       "    <tr>\n",
       "      <th>93</th>\n",
       "      <td>86.0</td>\n",
       "      <td>Linda Tugarinova</td>\n",
       "      <td>LAT</td>\n",
       "      <td>3.7</td>\n",
       "      <td>4.533</td>\n",
       "      <td>NaN</td>\n",
       "      <td>8.233</td>\n",
       "      <td>2021</td>\n",
       "      <td>qual</td>\n",
       "    </tr>\n",
       "    <tr>\n",
       "      <th>94</th>\n",
       "      <td>87.0</td>\n",
       "      <td>Marina Nekrasova</td>\n",
       "      <td>AZE</td>\n",
       "      <td>1.6</td>\n",
       "      <td>7.666</td>\n",
       "      <td>-6.5</td>\n",
       "      <td>2.766</td>\n",
       "      <td>2021</td>\n",
       "      <td>qual</td>\n",
       "    </tr>\n",
       "  </tbody>\n",
       "</table>\n",
       "<p>2219 rows × 9 columns</p>\n",
       "</div>"
      ],
      "text/plain": [
       "    Rank              Name nation  D Score  E Score  Pen.   Total  year  round\n",
       "0    1.0      Zhao Shiting    CHN      5.0    8.566   0.0  13.566  2019  final\n",
       "1    2.0        Emma Nedov    AUS      5.4    8.100   0.0  13.500  2019  final\n",
       "2    3.0       Mana Oguchi    JPN      5.1    7.966   0.0  13.066  2019  final\n",
       "3    4.0  Elena Chipizubov    AUS      5.1    7.933   0.0  13.033  2019  final\n",
       "4    5.0        Lai Pin-Ju    TPE      5.1    7.333   0.0  12.433  2019  final\n",
       "..   ...               ...    ...      ...      ...   ...     ...   ...    ...\n",
       "90  83.0    Greta Banishka    BUL      4.1    4.700   NaN   8.800  2021   qual\n",
       "91  84.0      Thea Nygaard    NOR      4.7    4.100   NaN   8.800  2021   qual\n",
       "92  85.0     Victoria Kajø    DEN      4.3    4.000   NaN   8.300  2021   qual\n",
       "93  86.0  Linda Tugarinova    LAT      3.7    4.533   NaN   8.233  2021   qual\n",
       "94  87.0  Marina Nekrasova    AZE      1.6    7.666  -6.5   2.766  2021   qual\n",
       "\n",
       "[2219 rows x 9 columns]"
      ]
     },
     "execution_count": 45,
     "metadata": {},
     "output_type": "execute_result"
    }
   ],
   "source": [
    "bb"
   ]
  },
  {
   "cell_type": "code",
   "execution_count": 46,
   "id": "72a286b7",
   "metadata": {},
   "outputs": [
    {
     "data": {
      "text/plain": [
       "21"
      ]
     },
     "execution_count": 46,
     "metadata": {},
     "output_type": "execute_result"
    }
   ],
   "source": [
    "bb.duplicated().sum()"
   ]
  },
  {
   "cell_type": "code",
   "execution_count": 47,
   "id": "f8bc4168",
   "metadata": {},
   "outputs": [],
   "source": [
    "bb = bb.drop_duplicates()"
   ]
  },
  {
   "cell_type": "code",
   "execution_count": 48,
   "id": "c631ed4f",
   "metadata": {},
   "outputs": [],
   "source": [
    "# pam14am_bb \n",
    "# euro19games_bb"
   ]
  },
  {
   "cell_type": "code",
   "execution_count": 49,
   "id": "c9d78d00",
   "metadata": {},
   "outputs": [],
   "source": [
    "rename_columns(pam14am_bb)\n",
    "pam14am_bb = reorder_columns(pam14am_bb)"
   ]
  },
  {
   "cell_type": "code",
   "execution_count": 50,
   "id": "85f22ca0",
   "metadata": {},
   "outputs": [],
   "source": [
    "rename_columns(euro19games_bb)\n",
    "euro19games_bb = reorder_columns(euro19games_bb)"
   ]
  },
  {
   "cell_type": "code",
   "execution_count": 51,
   "id": "0420ed82",
   "metadata": {},
   "outputs": [],
   "source": [
    "combined_df = pd.concat([bb, pam14am_bb, euro19games_bb])"
   ]
  },
  {
   "cell_type": "code",
   "execution_count": 52,
   "id": "e3c6c658",
   "metadata": {},
   "outputs": [],
   "source": [
    "bb = combined_df.copy()"
   ]
  },
  {
   "cell_type": "code",
   "execution_count": 53,
   "id": "bb0f7e48",
   "metadata": {},
   "outputs": [
    {
     "data": {
      "text/plain": [
       "0"
      ]
     },
     "execution_count": 53,
     "metadata": {},
     "output_type": "execute_result"
    }
   ],
   "source": [
    "bb.duplicated().sum()"
   ]
  },
  {
   "cell_type": "code",
   "execution_count": 54,
   "id": "174fffa4",
   "metadata": {},
   "outputs": [],
   "source": [
    "rename_columns(clean_universiade2015bb)\n",
    "clean_universiade2015bb = reorder_columns(clean_universiade2015bb)"
   ]
  },
  {
   "cell_type": "code",
   "execution_count": 55,
   "id": "d4a20ca6",
   "metadata": {},
   "outputs": [],
   "source": [
    "rename_columns(clean_euro15champ_bb)\n",
    "clean_euro15champ_bb = reorder_columns(clean_euro15champ_bb)"
   ]
  },
  {
   "cell_type": "code",
   "execution_count": 56,
   "id": "bda46e22",
   "metadata": {},
   "outputs": [],
   "source": [
    "combined_df = pd.concat([bb, clean_universiade2015bb, clean_euro15champ_bb])"
   ]
  },
  {
   "cell_type": "code",
   "execution_count": 57,
   "id": "64f0e45f",
   "metadata": {},
   "outputs": [],
   "source": [
    "bb = combined_df.copy()"
   ]
  },
  {
   "cell_type": "code",
   "execution_count": 58,
   "id": "2e9532a4",
   "metadata": {},
   "outputs": [
    {
     "data": {
      "text/plain": [
       "0"
      ]
     },
     "execution_count": 58,
     "metadata": {},
     "output_type": "execute_result"
    }
   ],
   "source": [
    "bb.duplicated().sum()"
   ]
  },
  {
   "cell_type": "code",
   "execution_count": 59,
   "id": "c8ff9c32",
   "metadata": {},
   "outputs": [],
   "source": [
    "# bb.to_csv('bb_w.csv', index=False)"
   ]
  },
  {
   "cell_type": "code",
   "execution_count": 60,
   "id": "a104df51",
   "metadata": {},
   "outputs": [
    {
     "data": {
      "text/html": [
       "<div>\n",
       "<style scoped>\n",
       "    .dataframe tbody tr th:only-of-type {\n",
       "        vertical-align: middle;\n",
       "    }\n",
       "\n",
       "    .dataframe tbody tr th {\n",
       "        vertical-align: top;\n",
       "    }\n",
       "\n",
       "    .dataframe thead th {\n",
       "        text-align: right;\n",
       "    }\n",
       "</style>\n",
       "<table border=\"1\" class=\"dataframe\">\n",
       "  <thead>\n",
       "    <tr style=\"text-align: right;\">\n",
       "      <th></th>\n",
       "      <th>Rank</th>\n",
       "      <th>Name</th>\n",
       "      <th>nation</th>\n",
       "      <th>D Score</th>\n",
       "      <th>E Score</th>\n",
       "      <th>Pen.</th>\n",
       "      <th>Total</th>\n",
       "      <th>year</th>\n",
       "      <th>round</th>\n",
       "    </tr>\n",
       "  </thead>\n",
       "  <tbody>\n",
       "    <tr>\n",
       "      <th>0</th>\n",
       "      <td>1.0</td>\n",
       "      <td>Zhao Shiting</td>\n",
       "      <td>CHN</td>\n",
       "      <td>5.0</td>\n",
       "      <td>8.566</td>\n",
       "      <td>0.0</td>\n",
       "      <td>13.566</td>\n",
       "      <td>2019</td>\n",
       "      <td>final</td>\n",
       "    </tr>\n",
       "    <tr>\n",
       "      <th>1</th>\n",
       "      <td>2.0</td>\n",
       "      <td>Emma Nedov</td>\n",
       "      <td>AUS</td>\n",
       "      <td>5.4</td>\n",
       "      <td>8.100</td>\n",
       "      <td>0.0</td>\n",
       "      <td>13.500</td>\n",
       "      <td>2019</td>\n",
       "      <td>final</td>\n",
       "    </tr>\n",
       "    <tr>\n",
       "      <th>2</th>\n",
       "      <td>3.0</td>\n",
       "      <td>Mana Oguchi</td>\n",
       "      <td>JPN</td>\n",
       "      <td>5.1</td>\n",
       "      <td>7.966</td>\n",
       "      <td>0.0</td>\n",
       "      <td>13.066</td>\n",
       "      <td>2019</td>\n",
       "      <td>final</td>\n",
       "    </tr>\n",
       "    <tr>\n",
       "      <th>3</th>\n",
       "      <td>4.0</td>\n",
       "      <td>Elena Chipizubov</td>\n",
       "      <td>AUS</td>\n",
       "      <td>5.1</td>\n",
       "      <td>7.933</td>\n",
       "      <td>0.0</td>\n",
       "      <td>13.033</td>\n",
       "      <td>2019</td>\n",
       "      <td>final</td>\n",
       "    </tr>\n",
       "    <tr>\n",
       "      <th>4</th>\n",
       "      <td>5.0</td>\n",
       "      <td>Lai Pin-Ju</td>\n",
       "      <td>TPE</td>\n",
       "      <td>5.1</td>\n",
       "      <td>7.333</td>\n",
       "      <td>0.0</td>\n",
       "      <td>12.433</td>\n",
       "      <td>2019</td>\n",
       "      <td>final</td>\n",
       "    </tr>\n",
       "    <tr>\n",
       "      <th>...</th>\n",
       "      <td>...</td>\n",
       "      <td>...</td>\n",
       "      <td>...</td>\n",
       "      <td>...</td>\n",
       "      <td>...</td>\n",
       "      <td>...</td>\n",
       "      <td>...</td>\n",
       "      <td>...</td>\n",
       "      <td>...</td>\n",
       "    </tr>\n",
       "    <tr>\n",
       "      <th>92</th>\n",
       "      <td>85.0</td>\n",
       "      <td>Alina Circene</td>\n",
       "      <td>LAT</td>\n",
       "      <td>4.4</td>\n",
       "      <td>4.566</td>\n",
       "      <td>0.0</td>\n",
       "      <td>8.966</td>\n",
       "      <td>2015</td>\n",
       "      <td>qual</td>\n",
       "    </tr>\n",
       "    <tr>\n",
       "      <th>93</th>\n",
       "      <td>86.0</td>\n",
       "      <td>Linnea Wang</td>\n",
       "      <td>DEN</td>\n",
       "      <td>4.6</td>\n",
       "      <td>4.266</td>\n",
       "      <td>0.0</td>\n",
       "      <td>8.866</td>\n",
       "      <td>2015</td>\n",
       "      <td>qual</td>\n",
       "    </tr>\n",
       "    <tr>\n",
       "      <th>94</th>\n",
       "      <td>87.0</td>\n",
       "      <td>Nato Dzidziguri</td>\n",
       "      <td>GEO</td>\n",
       "      <td>3.6</td>\n",
       "      <td>5.266</td>\n",
       "      <td>-0.1</td>\n",
       "      <td>8.766</td>\n",
       "      <td>2015</td>\n",
       "      <td>qual</td>\n",
       "    </tr>\n",
       "    <tr>\n",
       "      <th>95</th>\n",
       "      <td>88.0</td>\n",
       "      <td>Gabriele Blazyte</td>\n",
       "      <td>LTU</td>\n",
       "      <td>2.5</td>\n",
       "      <td>5.500</td>\n",
       "      <td>0.0</td>\n",
       "      <td>8.000</td>\n",
       "      <td>2015</td>\n",
       "      <td>qual</td>\n",
       "    </tr>\n",
       "    <tr>\n",
       "      <th>96</th>\n",
       "      <td>89.0</td>\n",
       "      <td>Kristina Pravdina</td>\n",
       "      <td>AZE</td>\n",
       "      <td>0.7</td>\n",
       "      <td>8.433</td>\n",
       "      <td>-8.0</td>\n",
       "      <td>1.133</td>\n",
       "      <td>2015</td>\n",
       "      <td>qual</td>\n",
       "    </tr>\n",
       "  </tbody>\n",
       "</table>\n",
       "<p>2385 rows × 9 columns</p>\n",
       "</div>"
      ],
      "text/plain": [
       "    Rank               Name nation  D Score  E Score  Pen.   Total  year  \\\n",
       "0    1.0       Zhao Shiting    CHN      5.0    8.566   0.0  13.566  2019   \n",
       "1    2.0         Emma Nedov    AUS      5.4    8.100   0.0  13.500  2019   \n",
       "2    3.0        Mana Oguchi    JPN      5.1    7.966   0.0  13.066  2019   \n",
       "3    4.0   Elena Chipizubov    AUS      5.1    7.933   0.0  13.033  2019   \n",
       "4    5.0         Lai Pin-Ju    TPE      5.1    7.333   0.0  12.433  2019   \n",
       "..   ...                ...    ...      ...      ...   ...     ...   ...   \n",
       "92  85.0      Alina Circene    LAT      4.4    4.566   0.0   8.966  2015   \n",
       "93  86.0        Linnea Wang    DEN      4.6    4.266   0.0   8.866  2015   \n",
       "94  87.0    Nato Dzidziguri    GEO      3.6    5.266  -0.1   8.766  2015   \n",
       "95  88.0   Gabriele Blazyte    LTU      2.5    5.500   0.0   8.000  2015   \n",
       "96  89.0  Kristina Pravdina    AZE      0.7    8.433  -8.0   1.133  2015   \n",
       "\n",
       "    round  \n",
       "0   final  \n",
       "1   final  \n",
       "2   final  \n",
       "3   final  \n",
       "4   final  \n",
       "..    ...  \n",
       "92   qual  \n",
       "93   qual  \n",
       "94   qual  \n",
       "95   qual  \n",
       "96   qual  \n",
       "\n",
       "[2385 rows x 9 columns]"
      ]
     },
     "execution_count": 60,
     "metadata": {},
     "output_type": "execute_result"
    }
   ],
   "source": [
    "bb"
   ]
  }
 ],
 "metadata": {
  "kernelspec": {
   "display_name": "Python 3 (ipykernel)",
   "language": "python",
   "name": "python3"
  },
  "language_info": {
   "codemirror_mode": {
    "name": "ipython",
    "version": 3
   },
   "file_extension": ".py",
   "mimetype": "text/x-python",
   "name": "python",
   "nbconvert_exporter": "python",
   "pygments_lexer": "ipython3",
   "version": "3.9.12"
  }
 },
 "nbformat": 4,
 "nbformat_minor": 5
}
