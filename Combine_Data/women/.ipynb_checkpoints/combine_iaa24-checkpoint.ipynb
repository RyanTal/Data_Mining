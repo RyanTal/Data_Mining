{
 "cells": [
  {
   "cell_type": "code",
   "execution_count": 1,
   "id": "c4b39d38",
   "metadata": {},
   "outputs": [],
   "source": [
    "import pandas as pd\n",
    "import numpy as np"
   ]
  },
  {
   "cell_type": "code",
   "execution_count": 5,
   "id": "361aa081",
   "metadata": {},
   "outputs": [],
   "source": [
    "iaa22 = pd.read_csv('../../Cleaning/qual_events/women/iaa2022.csv')\n",
    "iaa23 = pd.read_csv('../../Cleaning/qual_events/women/iaa2023.csv')\n"
   ]
  },
  {
   "cell_type": "code",
   "execution_count": 6,
   "id": "ec08e810",
   "metadata": {},
   "outputs": [],
   "source": [
    "combined_df = pd.concat([iaa22, iaa23], ignore_index=True)\n",
    "iaa24=combined_df.copy()"
   ]
  },
  {
   "cell_type": "code",
   "execution_count": 8,
   "id": "acf3ede4",
   "metadata": {},
   "outputs": [
    {
     "name": "stdout",
     "output_type": "stream",
     "text": [
      "<class 'pandas.core.frame.DataFrame'>\n",
      "RangeIndex: 821 entries, 0 to 820\n",
      "Data columns (total 10 columns):\n",
      " #   Column   Non-Null Count  Dtype  \n",
      "---  ------   --------------  -----  \n",
      " 0   Rank     821 non-null    object \n",
      " 1   Athlete  821 non-null    object \n",
      " 2   Nation   821 non-null    object \n",
      " 3   VT       821 non-null    float64\n",
      " 4   UB       821 non-null    float64\n",
      " 5   BB       821 non-null    float64\n",
      " 6   FX       821 non-null    float64\n",
      " 7   AA       821 non-null    float64\n",
      " 8   round    821 non-null    object \n",
      " 9   year     821 non-null    int64  \n",
      "dtypes: float64(5), int64(1), object(4)\n",
      "memory usage: 64.3+ KB\n"
     ]
    }
   ],
   "source": [
    "iaa24.info()"
   ]
  },
  {
   "cell_type": "code",
   "execution_count": 9,
   "id": "b57d6b28",
   "metadata": {},
   "outputs": [],
   "source": [
    "# iaa24.to_csv('iaa2024.csv', index=False)\n"
   ]
  },
  {
   "cell_type": "code",
   "execution_count": null,
   "id": "04235649",
   "metadata": {},
   "outputs": [],
   "source": []
  }
 ],
 "metadata": {
  "kernelspec": {
   "display_name": "Python 3 (ipykernel)",
   "language": "python",
   "name": "python3"
  },
  "language_info": {
   "codemirror_mode": {
    "name": "ipython",
    "version": 3
   },
   "file_extension": ".py",
   "mimetype": "text/x-python",
   "name": "python",
   "nbconvert_exporter": "python",
   "pygments_lexer": "ipython3",
   "version": "3.9.12"
  }
 },
 "nbformat": 4,
 "nbformat_minor": 5
}
