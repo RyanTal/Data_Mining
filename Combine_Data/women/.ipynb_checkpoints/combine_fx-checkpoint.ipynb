{
 "cells": [
  {
   "cell_type": "markdown",
   "id": "b9f1df21",
   "metadata": {},
   "source": [
    "\n"
   ]
  },
  {
   "cell_type": "markdown",
   "id": "605b41b5",
   "metadata": {},
   "source": [
    "combined for fx:\n",
    " uni19_fx\n",
    "eu20_fx\n",
    "wc19doha_fx\n",
    "wc15cott_fx\n",
    "usopc_fx ="
   ]
  },
  {
   "cell_type": "code",
   "execution_count": 1,
   "id": "8c313e49",
   "metadata": {},
   "outputs": [],
   "source": [
    "import pandas as pd\n",
    "import numpy as np"
   ]
  },
  {
   "cell_type": "code",
   "execution_count": 2,
   "id": "cbe1dc9f",
   "metadata": {},
   "outputs": [
    {
     "ename": "FileNotFoundError",
     "evalue": "[Errno 2] No such file or directory: '../Cleaning/qual_events/clean_universiade2015fx.csv'",
     "output_type": "error",
     "traceback": [
      "\u001b[0;31m---------------------------------------------------------------------------\u001b[0m",
      "\u001b[0;31mFileNotFoundError\u001b[0m                         Traceback (most recent call last)",
      "\u001b[0;32m/var/folders/j_/555m2zps099832fjh_m8jjnc0000gn/T/ipykernel_63959/3238234022.py\u001b[0m in \u001b[0;36m<cell line: 1>\u001b[0;34m()\u001b[0m\n\u001b[0;32m----> 1\u001b[0;31m \u001b[0mclean_universiade2015fx\u001b[0m\u001b[0;34m=\u001b[0m \u001b[0mpd\u001b[0m\u001b[0;34m.\u001b[0m\u001b[0mread_csv\u001b[0m\u001b[0;34m(\u001b[0m\u001b[0;34m'../Cleaning/qual_events/clean_universiade2015fx.csv'\u001b[0m\u001b[0;34m)\u001b[0m\u001b[0;34m\u001b[0m\u001b[0;34m\u001b[0m\u001b[0m\n\u001b[0m\u001b[1;32m      2\u001b[0m \u001b[0mclean_euro15champ_fx\u001b[0m\u001b[0;34m=\u001b[0m \u001b[0mpd\u001b[0m\u001b[0;34m.\u001b[0m\u001b[0mread_csv\u001b[0m\u001b[0;34m(\u001b[0m\u001b[0;34m'../Cleaning/qual_events/clean_euro15champ_fx.csv'\u001b[0m\u001b[0;34m)\u001b[0m\u001b[0;34m\u001b[0m\u001b[0;34m\u001b[0m\u001b[0m\n",
      "\u001b[0;32m~/opt/anaconda3/envs/tf2/lib/python3.9/site-packages/pandas/io/parsers/readers.py\u001b[0m in \u001b[0;36mread_csv\u001b[0;34m(filepath_or_buffer, sep, delimiter, header, names, index_col, usecols, dtype, engine, converters, true_values, false_values, skipinitialspace, skiprows, skipfooter, nrows, na_values, keep_default_na, na_filter, verbose, skip_blank_lines, parse_dates, infer_datetime_format, keep_date_col, date_parser, date_format, dayfirst, cache_dates, iterator, chunksize, compression, thousands, decimal, lineterminator, quotechar, quoting, doublequote, escapechar, comment, encoding, encoding_errors, dialect, on_bad_lines, delim_whitespace, low_memory, memory_map, float_precision, storage_options, dtype_backend)\u001b[0m\n\u001b[1;32m    910\u001b[0m     \u001b[0mkwds\u001b[0m\u001b[0;34m.\u001b[0m\u001b[0mupdate\u001b[0m\u001b[0;34m(\u001b[0m\u001b[0mkwds_defaults\u001b[0m\u001b[0;34m)\u001b[0m\u001b[0;34m\u001b[0m\u001b[0;34m\u001b[0m\u001b[0m\n\u001b[1;32m    911\u001b[0m \u001b[0;34m\u001b[0m\u001b[0m\n\u001b[0;32m--> 912\u001b[0;31m     \u001b[0;32mreturn\u001b[0m \u001b[0m_read\u001b[0m\u001b[0;34m(\u001b[0m\u001b[0mfilepath_or_buffer\u001b[0m\u001b[0;34m,\u001b[0m \u001b[0mkwds\u001b[0m\u001b[0;34m)\u001b[0m\u001b[0;34m\u001b[0m\u001b[0;34m\u001b[0m\u001b[0m\n\u001b[0m\u001b[1;32m    913\u001b[0m \u001b[0;34m\u001b[0m\u001b[0m\n\u001b[1;32m    914\u001b[0m \u001b[0;34m\u001b[0m\u001b[0m\n",
      "\u001b[0;32m~/opt/anaconda3/envs/tf2/lib/python3.9/site-packages/pandas/io/parsers/readers.py\u001b[0m in \u001b[0;36m_read\u001b[0;34m(filepath_or_buffer, kwds)\u001b[0m\n\u001b[1;32m    575\u001b[0m \u001b[0;34m\u001b[0m\u001b[0m\n\u001b[1;32m    576\u001b[0m     \u001b[0;31m# Create the parser.\u001b[0m\u001b[0;34m\u001b[0m\u001b[0;34m\u001b[0m\u001b[0m\n\u001b[0;32m--> 577\u001b[0;31m     \u001b[0mparser\u001b[0m \u001b[0;34m=\u001b[0m \u001b[0mTextFileReader\u001b[0m\u001b[0;34m(\u001b[0m\u001b[0mfilepath_or_buffer\u001b[0m\u001b[0;34m,\u001b[0m \u001b[0;34m**\u001b[0m\u001b[0mkwds\u001b[0m\u001b[0;34m)\u001b[0m\u001b[0;34m\u001b[0m\u001b[0;34m\u001b[0m\u001b[0m\n\u001b[0m\u001b[1;32m    578\u001b[0m \u001b[0;34m\u001b[0m\u001b[0m\n\u001b[1;32m    579\u001b[0m     \u001b[0;32mif\u001b[0m \u001b[0mchunksize\u001b[0m \u001b[0;32mor\u001b[0m \u001b[0miterator\u001b[0m\u001b[0;34m:\u001b[0m\u001b[0;34m\u001b[0m\u001b[0;34m\u001b[0m\u001b[0m\n",
      "\u001b[0;32m~/opt/anaconda3/envs/tf2/lib/python3.9/site-packages/pandas/io/parsers/readers.py\u001b[0m in \u001b[0;36m__init__\u001b[0;34m(self, f, engine, **kwds)\u001b[0m\n\u001b[1;32m   1405\u001b[0m \u001b[0;34m\u001b[0m\u001b[0m\n\u001b[1;32m   1406\u001b[0m         \u001b[0mself\u001b[0m\u001b[0;34m.\u001b[0m\u001b[0mhandles\u001b[0m\u001b[0;34m:\u001b[0m \u001b[0mIOHandles\u001b[0m \u001b[0;34m|\u001b[0m \u001b[0;32mNone\u001b[0m \u001b[0;34m=\u001b[0m \u001b[0;32mNone\u001b[0m\u001b[0;34m\u001b[0m\u001b[0;34m\u001b[0m\u001b[0m\n\u001b[0;32m-> 1407\u001b[0;31m         \u001b[0mself\u001b[0m\u001b[0;34m.\u001b[0m\u001b[0m_engine\u001b[0m \u001b[0;34m=\u001b[0m \u001b[0mself\u001b[0m\u001b[0;34m.\u001b[0m\u001b[0m_make_engine\u001b[0m\u001b[0;34m(\u001b[0m\u001b[0mf\u001b[0m\u001b[0;34m,\u001b[0m \u001b[0mself\u001b[0m\u001b[0;34m.\u001b[0m\u001b[0mengine\u001b[0m\u001b[0;34m)\u001b[0m\u001b[0;34m\u001b[0m\u001b[0;34m\u001b[0m\u001b[0m\n\u001b[0m\u001b[1;32m   1408\u001b[0m \u001b[0;34m\u001b[0m\u001b[0m\n\u001b[1;32m   1409\u001b[0m     \u001b[0;32mdef\u001b[0m \u001b[0mclose\u001b[0m\u001b[0;34m(\u001b[0m\u001b[0mself\u001b[0m\u001b[0;34m)\u001b[0m \u001b[0;34m->\u001b[0m \u001b[0;32mNone\u001b[0m\u001b[0;34m:\u001b[0m\u001b[0;34m\u001b[0m\u001b[0;34m\u001b[0m\u001b[0m\n",
      "\u001b[0;32m~/opt/anaconda3/envs/tf2/lib/python3.9/site-packages/pandas/io/parsers/readers.py\u001b[0m in \u001b[0;36m_make_engine\u001b[0;34m(self, f, engine)\u001b[0m\n\u001b[1;32m   1659\u001b[0m                 \u001b[0;32mif\u001b[0m \u001b[0;34m\"b\"\u001b[0m \u001b[0;32mnot\u001b[0m \u001b[0;32min\u001b[0m \u001b[0mmode\u001b[0m\u001b[0;34m:\u001b[0m\u001b[0;34m\u001b[0m\u001b[0;34m\u001b[0m\u001b[0m\n\u001b[1;32m   1660\u001b[0m                     \u001b[0mmode\u001b[0m \u001b[0;34m+=\u001b[0m \u001b[0;34m\"b\"\u001b[0m\u001b[0;34m\u001b[0m\u001b[0;34m\u001b[0m\u001b[0m\n\u001b[0;32m-> 1661\u001b[0;31m             self.handles = get_handle(\n\u001b[0m\u001b[1;32m   1662\u001b[0m                 \u001b[0mf\u001b[0m\u001b[0;34m,\u001b[0m\u001b[0;34m\u001b[0m\u001b[0;34m\u001b[0m\u001b[0m\n\u001b[1;32m   1663\u001b[0m                 \u001b[0mmode\u001b[0m\u001b[0;34m,\u001b[0m\u001b[0;34m\u001b[0m\u001b[0;34m\u001b[0m\u001b[0m\n",
      "\u001b[0;32m~/opt/anaconda3/envs/tf2/lib/python3.9/site-packages/pandas/io/common.py\u001b[0m in \u001b[0;36mget_handle\u001b[0;34m(path_or_buf, mode, encoding, compression, memory_map, is_text, errors, storage_options)\u001b[0m\n\u001b[1;32m    857\u001b[0m         \u001b[0;32mif\u001b[0m \u001b[0mioargs\u001b[0m\u001b[0;34m.\u001b[0m\u001b[0mencoding\u001b[0m \u001b[0;32mand\u001b[0m \u001b[0;34m\"b\"\u001b[0m \u001b[0;32mnot\u001b[0m \u001b[0;32min\u001b[0m \u001b[0mioargs\u001b[0m\u001b[0;34m.\u001b[0m\u001b[0mmode\u001b[0m\u001b[0;34m:\u001b[0m\u001b[0;34m\u001b[0m\u001b[0;34m\u001b[0m\u001b[0m\n\u001b[1;32m    858\u001b[0m             \u001b[0;31m# Encoding\u001b[0m\u001b[0;34m\u001b[0m\u001b[0;34m\u001b[0m\u001b[0m\n\u001b[0;32m--> 859\u001b[0;31m             handle = open(\n\u001b[0m\u001b[1;32m    860\u001b[0m                 \u001b[0mhandle\u001b[0m\u001b[0;34m,\u001b[0m\u001b[0;34m\u001b[0m\u001b[0;34m\u001b[0m\u001b[0m\n\u001b[1;32m    861\u001b[0m                 \u001b[0mioargs\u001b[0m\u001b[0;34m.\u001b[0m\u001b[0mmode\u001b[0m\u001b[0;34m,\u001b[0m\u001b[0;34m\u001b[0m\u001b[0;34m\u001b[0m\u001b[0m\n",
      "\u001b[0;31mFileNotFoundError\u001b[0m: [Errno 2] No such file or directory: '../Cleaning/qual_events/clean_universiade2015fx.csv'"
     ]
    }
   ],
   "source": [
    "clean_universiade2015fx= pd.read_csv('../Cleaning/qual_events/clean_universiade2015fx.csv')\n",
    "clean_euro15champ_fx= pd.read_csv('../Cleaning/qual_events/clean_euro15champ_fx.csv')\n"
   ]
  },
  {
   "cell_type": "code",
   "execution_count": null,
   "id": "5a2efd75",
   "metadata": {},
   "outputs": [],
   "source": [
    "fx_euro_championship18 = pd.read_csv('../Cleaning/qual_events/clean_european_championship2018fx.csv')\n",
    "fx_euro_championship21 = pd.read_csv('../Cleaning/qual_events/clean_european_championship2021fx.csv')\n",
    "\n",
    "\n",
    "pam14am_fx = pd.read_csv('../Cleaning/qual_events/clean_pan_american2014fx.csv')\n",
    "euro19games_fx = pd.read_csv('../Cleaning/qual_events/clean_european_games2019fx.csv')\n"
   ]
  },
  {
   "cell_type": "code",
   "execution_count": null,
   "id": "77117b96",
   "metadata": {},
   "outputs": [],
   "source": [
    "pac16fx = pd.read_csv('../Cleaning/qual_events/clean_pacific_rim2016fx.csv')\n",
    "bc15fx = pd.read_csv('../Cleaning/qual_events/clean_british_championship2015fx.csv')\n",
    "jesolo15fx = pd.read_csv('../Cleaning/qual_events/clean_jesolo2015fx.csv')\n"
   ]
  },
  {
   "cell_type": "code",
   "execution_count": null,
   "id": "563804b3",
   "metadata": {},
   "outputs": [],
   "source": [
    "wc13cott_fx = pd.read_csv('../Cleaning/qual_events/clean_wc13cott_fx.csv')\n",
    "wc13doha_fx = pd.read_csv('../Cleaning/qual_events/clean_wc14doha_fx.csv')"
   ]
  },
  {
   "cell_type": "code",
   "execution_count": null,
   "id": "1b6280d6",
   "metadata": {},
   "outputs": [],
   "source": [
    "fx_world_championship_w = pd.read_csv('../Cleaning/World_Championships/fx_world_championship_w.csv')\n"
   ]
  },
  {
   "cell_type": "code",
   "execution_count": null,
   "id": "998f92ae",
   "metadata": {},
   "outputs": [],
   "source": [
    "wc15cott_fx = pd.read_csv('../Cleaning/qual_events/clean_worldcup2015cott_fx.csv')\n",
    "wc19doha_fx = pd.read_csv('../Cleaning/qual_events/clean_worldcup2019doha_fx.csv')\n",
    "eu20_fx = pd.read_csv('../Cleaning/qual_events/euro2020fx.csv')\n",
    "uni19_fx = pd.read_csv('../Cleaning/qual_events/uni2019fx.csv')\n",
    "\n",
    "\n",
    "\n",
    "# usopc_fx = pd.read_csv('../Cleaning/qual_events/clean_worldcup2015cott_ub.csv')\n",
    "# usopc_fx = pd.read_csv('../Cleaning/qual_events/clean_worldcup2015cott_vt.csv')"
   ]
  },
  {
   "cell_type": "code",
   "execution_count": null,
   "id": "d28c3b07",
   "metadata": {},
   "outputs": [],
   "source": [
    "# clean_worldcup2015cott_fx.csv\n",
    "# clean_worldcup2015cott_ub.csv\n",
    "# clean_worldcup2015cott_vt.csv\n",
    "\n",
    "# clean_worldcup2019doha_bb.csv\n",
    "# clean_worldcup2019doha_fx.csv\n",
    "# clean_worldcup2019doha_ub.csv\n",
    "# clean_worldcup2019doha_vt.csv\n",
    "\n",
    "# euro2020bb.csv\n",
    "# euro2020fx.csv\n",
    "# euro2020ub.csv\n",
    "# euro2020vt.csv\n",
    "\n",
    "# uni2019bb.csv\n",
    "# uni2019fx.csv\n",
    "# uni2019ub.csv\n",
    "# uni2019vt.csv\n",
    "\n"
   ]
  },
  {
   "cell_type": "code",
   "execution_count": null,
   "id": "3e9fbe34",
   "metadata": {},
   "outputs": [],
   "source": []
  },
  {
   "cell_type": "code",
   "execution_count": null,
   "id": "ab953fef",
   "metadata": {},
   "outputs": [],
   "source": []
  },
  {
   "cell_type": "code",
   "execution_count": null,
   "id": "cae4713c",
   "metadata": {},
   "outputs": [],
   "source": [
    "# usopc = pd.read_csv('../Cleaning/USOPC/usopc_women_october.csv')\n",
    "usopc_fx = pd.read_csv('../Cleaning/USOPC/usopc_women_fx_october.csv')\n",
    "usopc_bb = pd.read_csv('../Cleaning/USOPC/usopc_women_bb_october.csv')\n",
    "usopc_ub = pd.read_csv('../Cleaning/USOPC/usopc_women_ub_october.csv')\n",
    "usopc_vt = pd.read_csv('../Cleaning/USOPC/usopc_women_vt_october.csv')\n",
    "\n"
   ]
  },
  {
   "cell_type": "code",
   "execution_count": null,
   "id": "0a67594f",
   "metadata": {},
   "outputs": [],
   "source": [
    "usopc_fx.head(1)"
   ]
  },
  {
   "cell_type": "code",
   "execution_count": null,
   "id": "a01fa154",
   "metadata": {},
   "outputs": [],
   "source": [
    "uni19_fx.head(1)\n"
   ]
  },
  {
   "cell_type": "code",
   "execution_count": null,
   "id": "1ff085f8",
   "metadata": {},
   "outputs": [],
   "source": [
    "eu20_fx.head(1)\n"
   ]
  },
  {
   "cell_type": "code",
   "execution_count": null,
   "id": "df304b9d",
   "metadata": {},
   "outputs": [],
   "source": [
    "wc19doha_fx.head(1)\n"
   ]
  },
  {
   "cell_type": "code",
   "execution_count": null,
   "id": "ce77b242",
   "metadata": {},
   "outputs": [],
   "source": [
    "wc15cott_fx.head(1)"
   ]
  },
  {
   "cell_type": "code",
   "execution_count": null,
   "id": "a1bbb4ca",
   "metadata": {},
   "outputs": [],
   "source": [
    "uni19_fx['Pen.'].fillna(0, inplace=True)"
   ]
  },
  {
   "cell_type": "code",
   "execution_count": null,
   "id": "6681bc6f",
   "metadata": {},
   "outputs": [],
   "source": [
    "uni19_fx['nation'] = uni19_fx['Athlete'].str.extract(r'\\((.*?)\\)')"
   ]
  },
  {
   "cell_type": "code",
   "execution_count": null,
   "id": "653b9130",
   "metadata": {},
   "outputs": [],
   "source": [
    "uni19_fx['Athlete'] = uni19_fx['Athlete'].str.replace(r'\\(.*?\\)', '', regex=True)"
   ]
  },
  {
   "cell_type": "code",
   "execution_count": null,
   "id": "ede06679",
   "metadata": {},
   "outputs": [],
   "source": [
    "uni19_fx['year']=2019"
   ]
  },
  {
   "cell_type": "code",
   "execution_count": null,
   "id": "081bacf1",
   "metadata": {},
   "outputs": [],
   "source": [
    "eu20_fx['year']=2020"
   ]
  },
  {
   "cell_type": "code",
   "execution_count": null,
   "id": "010a3bce",
   "metadata": {},
   "outputs": [],
   "source": [
    "uni19_fx"
   ]
  },
  {
   "cell_type": "code",
   "execution_count": null,
   "id": "722ff6d4",
   "metadata": {},
   "outputs": [],
   "source": [
    "eu20_fx['nation']='eu'"
   ]
  },
  {
   "cell_type": "code",
   "execution_count": null,
   "id": "d3c883a2",
   "metadata": {},
   "outputs": [],
   "source": [
    "eu20_fx"
   ]
  },
  {
   "cell_type": "code",
   "execution_count": null,
   "id": "4a45fcb3",
   "metadata": {},
   "outputs": [],
   "source": [
    "eu20_fx.rename(columns={'Gymnast': 'Name', 'Position': 'Rank', 'Penalty': 'Pen.'}, inplace=True)"
   ]
  },
  {
   "cell_type": "code",
   "execution_count": null,
   "id": "dfa2c2d0",
   "metadata": {},
   "outputs": [],
   "source": [
    "uni19_fx.rename(columns={'Athlete': 'Name', }, inplace=True)"
   ]
  },
  {
   "cell_type": "code",
   "execution_count": null,
   "id": "e74474b5",
   "metadata": {},
   "outputs": [],
   "source": [
    "uni19_fx['round']='final'"
   ]
  },
  {
   "cell_type": "code",
   "execution_count": null,
   "id": "6c8b09f8",
   "metadata": {},
   "outputs": [],
   "source": [
    "eu20_fx['round']='final'"
   ]
  },
  {
   "cell_type": "code",
   "execution_count": null,
   "id": "796a3d49",
   "metadata": {},
   "outputs": [],
   "source": [
    "eu20_fx.columns"
   ]
  },
  {
   "cell_type": "code",
   "execution_count": null,
   "id": "25e20e7a",
   "metadata": {},
   "outputs": [],
   "source": [
    "eu20_fx=eu20_fx[['Rank', 'Name', 'nation', 'D Score', 'E Score', 'Pen.', 'Total', 'year']]"
   ]
  },
  {
   "cell_type": "code",
   "execution_count": null,
   "id": "08ab3ef8",
   "metadata": {},
   "outputs": [],
   "source": [
    "uni19_fx = uni19_fx[['Rank', 'Name', 'nation', 'D Score', 'E Score', 'Pen.', 'Total', 'year']]\n"
   ]
  },
  {
   "cell_type": "code",
   "execution_count": null,
   "id": "e08722eb",
   "metadata": {},
   "outputs": [],
   "source": []
  },
  {
   "cell_type": "code",
   "execution_count": null,
   "id": "9b75492e",
   "metadata": {},
   "outputs": [],
   "source": [
    "wc19doha_fx.head(1)\n"
   ]
  },
  {
   "cell_type": "code",
   "execution_count": null,
   "id": "68ca39f5",
   "metadata": {},
   "outputs": [],
   "source": [
    "wc19doha_fx=wc19doha_fx.drop(columns=[\"Nation\"])"
   ]
  },
  {
   "cell_type": "code",
   "execution_count": null,
   "id": "a7abe611",
   "metadata": {},
   "outputs": [],
   "source": [
    "wc19doha_fx.rename(columns={'Athlete': 'Name', \n",
    "                            'NOC': 'nation', 'D': 'D Score',\n",
    "                           'E': 'E Score', 'ND': 'Pen.'}, inplace=True)\n"
   ]
  },
  {
   "cell_type": "code",
   "execution_count": null,
   "id": "afe1a292",
   "metadata": {},
   "outputs": [],
   "source": [
    "wc19doha_fx.head()"
   ]
  },
  {
   "cell_type": "code",
   "execution_count": null,
   "id": "feb70109",
   "metadata": {},
   "outputs": [],
   "source": [
    "wc19doha_fx.columns"
   ]
  },
  {
   "cell_type": "code",
   "execution_count": null,
   "id": "9163306c",
   "metadata": {},
   "outputs": [],
   "source": [
    "wc19doha_fx=wc19doha_fx[['Rank', 'Name', 'nation', 'D Score', 'E Score', 'Pen.', \n",
    "                         'Total','year' , 'round' ]]"
   ]
  },
  {
   "cell_type": "code",
   "execution_count": null,
   "id": "6a80b17d",
   "metadata": {},
   "outputs": [],
   "source": [
    "wc15cott_fx.head()"
   ]
  },
  {
   "cell_type": "code",
   "execution_count": null,
   "id": "db8b9fc4",
   "metadata": {},
   "outputs": [],
   "source": [
    "wc15cott_fx.rename(columns={'Athlete': 'Name', \n",
    "                            'Nation': 'nation', 'D': 'D Score',\n",
    "                           'E': 'E Score', 'ND': 'Pen.'}, inplace=True)\n"
   ]
  },
  {
   "cell_type": "code",
   "execution_count": null,
   "id": "eeaebf60",
   "metadata": {},
   "outputs": [],
   "source": [
    "wc15cott_fx=wc15cott_fx[['Rank', 'Name', 'nation', 'D Score', 'E Score', 'Pen.', \n",
    "                         'Total','year' , 'round' ]]"
   ]
  },
  {
   "cell_type": "code",
   "execution_count": null,
   "id": "4c608fcb",
   "metadata": {},
   "outputs": [],
   "source": [
    "usopc_fx.head(1)"
   ]
  },
  {
   "cell_type": "code",
   "execution_count": null,
   "id": "24ea46dc",
   "metadata": {},
   "outputs": [],
   "source": [
    "usopc_fx=usopc_fx.drop(columns=[\"Gender\", 'Competition', 'Apparatus', ])"
   ]
  },
  {
   "cell_type": "code",
   "execution_count": null,
   "id": "19e9ab1c",
   "metadata": {},
   "outputs": [],
   "source": [
    "usopc_fx[\"Date\"].unique()"
   ]
  },
  {
   "cell_type": "code",
   "execution_count": null,
   "id": "436a7786",
   "metadata": {},
   "outputs": [],
   "source": [
    "usopc_fx['year'] = usopc_fx['Date'].str[:4]"
   ]
  },
  {
   "cell_type": "code",
   "execution_count": null,
   "id": "4beefb16",
   "metadata": {},
   "outputs": [],
   "source": [
    "usopc_fx=usopc_fx.drop(columns=[\"Date\"])"
   ]
  },
  {
   "cell_type": "code",
   "execution_count": null,
   "id": "8702a0f1",
   "metadata": {},
   "outputs": [],
   "source": [
    "usopc_fx.columns"
   ]
  },
  {
   "cell_type": "code",
   "execution_count": null,
   "id": "8c264121",
   "metadata": {},
   "outputs": [],
   "source": [
    "usopc_fx.rename(columns={'Country': 'nation', 'Round': 'round',\n",
    "                           'E_Score': 'E Score','D_Score': 'D Score', 'Penalty': 'Pen.',\n",
    "                        'Score': 'Total'}, inplace=True)\n"
   ]
  },
  {
   "cell_type": "code",
   "execution_count": null,
   "id": "0af72964",
   "metadata": {},
   "outputs": [],
   "source": [
    "usopc_fx=usopc_fx[['Rank', 'Name', 'nation', 'D Score', 'E Score', 'Pen.', \n",
    "                         'Total','year' , 'round' ]]"
   ]
  },
  {
   "cell_type": "code",
   "execution_count": null,
   "id": "b8003b6e",
   "metadata": {},
   "outputs": [],
   "source": [
    "usopc_fx.head(1)"
   ]
  },
  {
   "cell_type": "code",
   "execution_count": null,
   "id": "d1d8f3b0",
   "metadata": {},
   "outputs": [],
   "source": []
  },
  {
   "cell_type": "code",
   "execution_count": null,
   "id": "9b93d0cd",
   "metadata": {},
   "outputs": [],
   "source": []
  },
  {
   "cell_type": "code",
   "execution_count": null,
   "id": "4d9a8186",
   "metadata": {},
   "outputs": [],
   "source": [
    "# uni19_fx\n",
    "# eu20_fx\n",
    "# wc19doha_fx\n",
    "# wc15cott_fx\n",
    "# usopc_fx ="
   ]
  },
  {
   "cell_type": "code",
   "execution_count": null,
   "id": "f5ca36d3",
   "metadata": {},
   "outputs": [],
   "source": [
    "combined_df = pd.concat([usopc_fx, wc15cott_fx, wc19doha_fx, eu20_fx, uni19_fx], axis=0)"
   ]
  },
  {
   "cell_type": "code",
   "execution_count": null,
   "id": "6e9d3338",
   "metadata": {},
   "outputs": [],
   "source": [
    "fx = combined_df.copy()"
   ]
  },
  {
   "cell_type": "code",
   "execution_count": null,
   "id": "92f7fbf8",
   "metadata": {},
   "outputs": [],
   "source": [
    "fx.info()"
   ]
  },
  {
   "cell_type": "code",
   "execution_count": null,
   "id": "4bdddf03",
   "metadata": {},
   "outputs": [],
   "source": [
    "fx['year'].unique()"
   ]
  },
  {
   "cell_type": "code",
   "execution_count": null,
   "id": "29299aeb",
   "metadata": {},
   "outputs": [],
   "source": [
    "fx['year'] = fx['year'].astype(int)"
   ]
  },
  {
   "cell_type": "code",
   "execution_count": null,
   "id": "aac9be70",
   "metadata": {},
   "outputs": [],
   "source": [
    "fx.info()"
   ]
  },
  {
   "cell_type": "code",
   "execution_count": null,
   "id": "e3bb2b89",
   "metadata": {},
   "outputs": [],
   "source": [
    "fx.head()"
   ]
  },
  {
   "cell_type": "code",
   "execution_count": null,
   "id": "b6b80c7f",
   "metadata": {},
   "outputs": [],
   "source": [
    "fx.columns"
   ]
  },
  {
   "cell_type": "code",
   "execution_count": null,
   "id": "9fc8cbf4",
   "metadata": {
    "scrolled": true
   },
   "outputs": [],
   "source": [
    "wc13doha_fx.head()"
   ]
  },
  {
   "cell_type": "code",
   "execution_count": null,
   "id": "9650ba11",
   "metadata": {},
   "outputs": [],
   "source": [
    "# Create a dictionary to specify the column name changes\n",
    "column_name_mapping = {\n",
    "    'Athlete': 'Name',\n",
    "    'Nation': 'nation',\n",
    "    'D': 'D Score',\n",
    "    'E': 'E Score',\n",
    "    'ND': 'Pen.',\n",
    "    'Score': 'Total'\n",
    "    # Add more columns as needed\n",
    "}\n",
    "\n",
    "# Use the rename method to rename the columns\n",
    "wc13doha_fx.rename(columns=column_name_mapping, inplace=True)"
   ]
  },
  {
   "cell_type": "code",
   "execution_count": null,
   "id": "eec066f2",
   "metadata": {},
   "outputs": [],
   "source": [
    "# Define the desired column order\n",
    "desired_column_order = ['Rank', 'Name', 'nation', 'D Score', 'E Score', 'Pen.', 'Total', 'year',\n",
    "       'round']\n",
    "\n",
    "# Create a new DataFrame with the columns rearranged\n",
    "df_rearranged = wc13doha_fx[desired_column_order]\n"
   ]
  },
  {
   "cell_type": "code",
   "execution_count": null,
   "id": "845d24fa",
   "metadata": {},
   "outputs": [],
   "source": [
    "wc13doha_fx=df_rearranged.copy()"
   ]
  },
  {
   "cell_type": "code",
   "execution_count": null,
   "id": "816e1f4b",
   "metadata": {},
   "outputs": [],
   "source": [
    "wc13doha_fx.head()"
   ]
  },
  {
   "cell_type": "code",
   "execution_count": null,
   "id": "35349d28",
   "metadata": {},
   "outputs": [],
   "source": [
    "fx.head()"
   ]
  },
  {
   "cell_type": "code",
   "execution_count": null,
   "id": "35c298d0",
   "metadata": {},
   "outputs": [],
   "source": [
    "wc13cott_fx.head()"
   ]
  },
  {
   "cell_type": "code",
   "execution_count": null,
   "id": "a420481d",
   "metadata": {},
   "outputs": [],
   "source": [
    "# Create a dictionary to specify the column name changes\n",
    "column_name_mapping = {\n",
    "    'Athlete': 'Name',\n",
    "    'Nation': 'nation',\n",
    "    'D': 'D Score',\n",
    "    'E': 'E Score',\n",
    "    'ND': 'Pen.',\n",
    "    'Score': 'Total'\n",
    "    # Add more columns as needed\n",
    "}\n",
    "\n",
    "# Use the rename method to rename the columns\n",
    "wc13cott_fx.rename(columns=column_name_mapping, inplace=True)"
   ]
  },
  {
   "cell_type": "code",
   "execution_count": null,
   "id": "b076a3ee",
   "metadata": {},
   "outputs": [],
   "source": [
    "# Define the desired column order\n",
    "desired_column_order = ['Rank', 'Name', 'nation', 'D Score', 'E Score', 'Pen.', 'Total', 'year',\n",
    "       'round']\n",
    "\n",
    "# Create a new DataFrame with the columns rearranged\n",
    "df_rearranged = wc13cott_fx[desired_column_order]\n"
   ]
  },
  {
   "cell_type": "code",
   "execution_count": null,
   "id": "279f2a57",
   "metadata": {},
   "outputs": [],
   "source": [
    "wc13cott_fx=df_rearranged.copy()"
   ]
  },
  {
   "cell_type": "code",
   "execution_count": null,
   "id": "5234a5a8",
   "metadata": {},
   "outputs": [],
   "source": [
    "wc13cott_fx.info()"
   ]
  },
  {
   "cell_type": "code",
   "execution_count": null,
   "id": "3e87f1b8",
   "metadata": {},
   "outputs": [],
   "source": [
    "wc13doha_fx.info()"
   ]
  },
  {
   "cell_type": "code",
   "execution_count": null,
   "id": "6d63a961",
   "metadata": {},
   "outputs": [],
   "source": [
    "fx.info()"
   ]
  },
  {
   "cell_type": "code",
   "execution_count": null,
   "id": "61f19d07",
   "metadata": {},
   "outputs": [],
   "source": [
    "combined_df = pd.concat([fx, wc13doha_fx,wc13cott_fx])"
   ]
  },
  {
   "cell_type": "code",
   "execution_count": null,
   "id": "c06b2901",
   "metadata": {},
   "outputs": [],
   "source": [
    "combined_df"
   ]
  },
  {
   "cell_type": "code",
   "execution_count": null,
   "id": "06013bdb",
   "metadata": {},
   "outputs": [],
   "source": [
    "combined_df.info()"
   ]
  },
  {
   "cell_type": "code",
   "execution_count": null,
   "id": "948635ca",
   "metadata": {},
   "outputs": [],
   "source": [
    "fx = combined_df.copy()"
   ]
  },
  {
   "cell_type": "code",
   "execution_count": null,
   "id": "52023b29",
   "metadata": {},
   "outputs": [],
   "source": [
    "fx"
   ]
  },
  {
   "cell_type": "code",
   "execution_count": null,
   "id": "b1ac6ad0",
   "metadata": {},
   "outputs": [],
   "source": [
    "fx['nation'].fillna('none', inplace=True)"
   ]
  },
  {
   "cell_type": "code",
   "execution_count": null,
   "id": "69302374",
   "metadata": {},
   "outputs": [],
   "source": [
    "fx.info()"
   ]
  },
  {
   "cell_type": "code",
   "execution_count": null,
   "id": "00a9b9f7",
   "metadata": {},
   "outputs": [],
   "source": [
    "fx['year'].value_counts()"
   ]
  },
  {
   "cell_type": "markdown",
   "id": "198295b3",
   "metadata": {},
   "source": [
    "# To ADD to df :\n",
    "- wc19melbourne\n",
    "- wc18jesolo"
   ]
  },
  {
   "cell_type": "code",
   "execution_count": null,
   "id": "4aa02fb5",
   "metadata": {},
   "outputs": [],
   "source": [
    "wc19melb_fx = pd.read_csv('../Cleaning/qual_events/clean_worldcup2019melbourne_fx.csv')\n",
    "wc18jeso_fx = pd.read_csv('../Cleaning/qual_events/clean_worldcup2018jesolo_fx.csv')\n"
   ]
  },
  {
   "cell_type": "code",
   "execution_count": null,
   "id": "876c830f",
   "metadata": {},
   "outputs": [],
   "source": [
    "fx.head()"
   ]
  },
  {
   "cell_type": "code",
   "execution_count": null,
   "id": "79e3e821",
   "metadata": {},
   "outputs": [],
   "source": [
    "wc19melb_fx.head()"
   ]
  },
  {
   "cell_type": "code",
   "execution_count": null,
   "id": "f101962e",
   "metadata": {},
   "outputs": [],
   "source": []
  },
  {
   "cell_type": "code",
   "execution_count": null,
   "id": "55823218",
   "metadata": {},
   "outputs": [],
   "source": [
    "# Create a dictionary to specify the column name changes\n",
    "column_name_mapping = {\n",
    "    'Athlete': 'Name',\n",
    "    'Nation': 'nation',\n",
    "    'D': 'D Score',\n",
    "    'E': 'E Score',\n",
    "    'ND': 'Pen.',\n",
    "    'Score': 'Total'\n",
    "    # Add more columns as needed\n",
    "}\n",
    "\n",
    "# Use the rename method to rename the columns\n",
    "wc19melb_fx.rename(columns=column_name_mapping, inplace=True)"
   ]
  },
  {
   "cell_type": "code",
   "execution_count": null,
   "id": "c9878c13",
   "metadata": {},
   "outputs": [],
   "source": [
    "# Define the desired column order\n",
    "desired_column_order = ['Rank', 'Name', 'nation', 'D Score', 'E Score', 'Pen.', 'Total', 'year',\n",
    "       'round']\n",
    "\n",
    "# Create a new DataFrame with the columns rearranged\n",
    "df_rearranged = wc19melb_fx[desired_column_order]\n"
   ]
  },
  {
   "cell_type": "code",
   "execution_count": null,
   "id": "84a58c37",
   "metadata": {},
   "outputs": [],
   "source": [
    "wc19melb_fx=df_rearranged.copy()"
   ]
  },
  {
   "cell_type": "code",
   "execution_count": null,
   "id": "5d71da89",
   "metadata": {},
   "outputs": [],
   "source": [
    "# Create a dictionary to specify the column name changes\n",
    "column_name_mapping = {\n",
    "    'Athlete': 'Name',\n",
    "    'Nation': 'nation',\n",
    "    'D': 'D Score',\n",
    "    'E': 'E Score',\n",
    "    'ND': 'Pen.',\n",
    "    'Score': 'Total'\n",
    "    # Add more columns as needed\n",
    "}\n",
    "\n",
    "# Use the rename method to rename the columns\n",
    "wc18jeso_fx.rename(columns=column_name_mapping, inplace=True)"
   ]
  },
  {
   "cell_type": "code",
   "execution_count": null,
   "id": "3be286d5",
   "metadata": {},
   "outputs": [],
   "source": [
    "wc18jeso_fx['year']=2018\n",
    "wc18jeso_fx['round']='final'"
   ]
  },
  {
   "cell_type": "code",
   "execution_count": null,
   "id": "2d086d16",
   "metadata": {},
   "outputs": [],
   "source": [
    "# Define the desired column order\n",
    "desired_column_order = ['Rank', 'Name', 'nation', 'D Score', 'E Score', 'Pen.', 'Total', 'year',\n",
    "       'round']\n",
    "\n",
    "# Create a new DataFrame with the columns rearranged\n",
    "df_rearranged = wc18jeso_fx[desired_column_order]\n"
   ]
  },
  {
   "cell_type": "code",
   "execution_count": null,
   "id": "eeab0618",
   "metadata": {},
   "outputs": [],
   "source": [
    "wc18jeso_fx=df_rearranged.copy()"
   ]
  },
  {
   "cell_type": "code",
   "execution_count": null,
   "id": "8a58f291",
   "metadata": {},
   "outputs": [],
   "source": [
    "combined_df = pd.concat([fx, wc19melb_fx,wc18jeso_fx])"
   ]
  },
  {
   "cell_type": "code",
   "execution_count": null,
   "id": "44b766ed",
   "metadata": {},
   "outputs": [],
   "source": [
    " fx = combined_df.copy()"
   ]
  },
  {
   "cell_type": "code",
   "execution_count": null,
   "id": "857855de",
   "metadata": {},
   "outputs": [],
   "source": [
    "fx.info()"
   ]
  },
  {
   "cell_type": "code",
   "execution_count": null,
   "id": "f6ddd77d",
   "metadata": {},
   "outputs": [],
   "source": [
    "fx.head()"
   ]
  },
  {
   "cell_type": "code",
   "execution_count": null,
   "id": "b9452534",
   "metadata": {},
   "outputs": [],
   "source": [
    "fx_world_championship_w.head()"
   ]
  },
  {
   "cell_type": "code",
   "execution_count": null,
   "id": "2f9ff96d",
   "metadata": {},
   "outputs": [],
   "source": [
    "# Create a dictionary to specify the column name changes\n",
    "column_name_mapping = {\n",
    "    'Gymnast': 'Name',\n",
    "    'Nation': 'nation',\n",
    "    'Position': 'Rank',\n",
    "\n",
    "    # Add more columns as needed\n",
    "}\n",
    "\n",
    "# Use the rename method to rename the columns\n",
    "fx_world_championship_w.rename(columns=column_name_mapping, inplace=True)"
   ]
  },
  {
   "cell_type": "code",
   "execution_count": null,
   "id": "639413e2",
   "metadata": {},
   "outputs": [],
   "source": [
    "# Define the desired column order\n",
    "desired_column_order = ['Rank', 'Name', 'nation', 'D Score', 'E Score', 'Pen.', 'Total', 'year',\n",
    "       'round']\n",
    "\n",
    "# Create a new DataFrame with the columns rearranged\n",
    "df_rearranged = fx_world_championship_w[desired_column_order]\n"
   ]
  },
  {
   "cell_type": "code",
   "execution_count": null,
   "id": "4cf4e31c",
   "metadata": {},
   "outputs": [],
   "source": [
    "fx_world_championship_w=df_rearranged.copy()"
   ]
  },
  {
   "cell_type": "code",
   "execution_count": null,
   "id": "e12ea2fc",
   "metadata": {},
   "outputs": [],
   "source": [
    "combined_df = pd.concat([fx, fx_world_championship_w])"
   ]
  },
  {
   "cell_type": "code",
   "execution_count": null,
   "id": "f0135d85",
   "metadata": {},
   "outputs": [],
   "source": [
    " fx = combined_df.copy()"
   ]
  },
  {
   "cell_type": "code",
   "execution_count": null,
   "id": "9f323728",
   "metadata": {},
   "outputs": [],
   "source": [
    "fx.info()"
   ]
  },
  {
   "cell_type": "code",
   "execution_count": null,
   "id": "101a9902",
   "metadata": {},
   "outputs": [],
   "source": [
    "fx.duplicated().sum()"
   ]
  },
  {
   "cell_type": "code",
   "execution_count": null,
   "id": "8b93c7ca",
   "metadata": {},
   "outputs": [],
   "source": [
    "duplicates = fx.duplicated()"
   ]
  },
  {
   "cell_type": "code",
   "execution_count": null,
   "id": "6677bfd7",
   "metadata": {},
   "outputs": [],
   "source": [
    "fx = fx.drop_duplicates()"
   ]
  },
  {
   "cell_type": "code",
   "execution_count": null,
   "id": "751e4288",
   "metadata": {},
   "outputs": [],
   "source": [
    "fx.info()"
   ]
  },
  {
   "cell_type": "code",
   "execution_count": null,
   "id": "7a3bbc4d",
   "metadata": {},
   "outputs": [],
   "source": [
    "fx.head()"
   ]
  },
  {
   "cell_type": "code",
   "execution_count": null,
   "id": "64963fba",
   "metadata": {},
   "outputs": [],
   "source": [
    "pac16fx.head()"
   ]
  },
  {
   "cell_type": "code",
   "execution_count": null,
   "id": "b9b4efc1",
   "metadata": {},
   "outputs": [],
   "source": [
    "# Create a dictionary to specify the column name changes\n",
    "column_name_mapping = {\n",
    "    'Athlete': 'Name',\n",
    "    'Nation': 'nation',\n",
    "    'D': 'D Score',\n",
    "    'E': 'E Score',\n",
    "    'ND': 'Pen.',\n",
    "    'Score': 'Total'\n",
    "    # Add more columns as needed\n",
    "}\n",
    "\n",
    "# Use the rename method to rename the columns\n",
    "pac16fx.rename(columns=column_name_mapping, inplace=True)"
   ]
  },
  {
   "cell_type": "code",
   "execution_count": null,
   "id": "498e8a2a",
   "metadata": {},
   "outputs": [],
   "source": [
    "# Define the desired column order\n",
    "desired_column_order = ['Rank', 'Name', 'nation', 'D Score', 'E Score', 'Pen.', 'Total', 'year',\n",
    "       'round']\n",
    "\n",
    "# Create a new DataFrame with the columns rearranged\n",
    "df_rearranged = pac16fx[desired_column_order]\n"
   ]
  },
  {
   "cell_type": "code",
   "execution_count": null,
   "id": "16b6b855",
   "metadata": {},
   "outputs": [],
   "source": [
    "pac16fx=df_rearranged.copy()"
   ]
  },
  {
   "cell_type": "code",
   "execution_count": null,
   "id": "f968048e",
   "metadata": {},
   "outputs": [],
   "source": [
    "# Create a dictionary to specify the column name changes\n",
    "column_name_mapping = {\n",
    "    'Athlete': 'Name',\n",
    "    'Nation': 'nation',\n",
    "    'D': 'D Score',\n",
    "    'E': 'E Score',\n",
    "    'ND': 'Pen.',\n",
    "    'Score': 'Total'\n",
    "    # Add more columns as needed\n",
    "}\n",
    "\n",
    "# Use the rename method to rename the columns\n",
    "jesolo15fx.rename(columns=column_name_mapping, inplace=True)"
   ]
  },
  {
   "cell_type": "code",
   "execution_count": null,
   "id": "9f726651",
   "metadata": {},
   "outputs": [],
   "source": [
    "# Define the desired column order\n",
    "desired_column_order = ['Rank', 'Name', 'nation', 'D Score', 'E Score', 'Pen.', 'Total', 'year',\n",
    "       'round']\n",
    "\n",
    "# Create a new DataFrame with the columns rearranged\n",
    "df_rearranged = jesolo15fx[desired_column_order]\n"
   ]
  },
  {
   "cell_type": "code",
   "execution_count": null,
   "id": "a554bc42",
   "metadata": {},
   "outputs": [],
   "source": [
    "jesolo15fx=df_rearranged.copy()"
   ]
  },
  {
   "cell_type": "code",
   "execution_count": null,
   "id": "bdcbbc08",
   "metadata": {},
   "outputs": [],
   "source": [
    "# Create a dictionary to specify the column name changes\n",
    "column_name_mapping = {\n",
    "    'Athlete': 'Name',\n",
    "    'Nation': 'nation',\n",
    "    'D': 'D Score',\n",
    "    'E': 'E Score',\n",
    "    'ND': 'Pen.',\n",
    "    'Score': 'Total'\n",
    "    # Add more columns as needed\n",
    "}\n",
    "\n",
    "# Use the rename method to rename the columns\n",
    "bc15fx.rename(columns=column_name_mapping, inplace=True)\n",
    "\n"
   ]
  },
  {
   "cell_type": "code",
   "execution_count": null,
   "id": "55561632",
   "metadata": {},
   "outputs": [],
   "source": [
    "# Define the desired column order\n",
    "desired_column_order = ['Rank', 'Name', 'nation', 'D Score', 'E Score', 'Pen.', 'Total', 'year',\n",
    "       'round']\n",
    "\n",
    "# Create a new DataFrame with the columns rearranged\n",
    "df_rearranged = bc15fx[desired_column_order]\n"
   ]
  },
  {
   "cell_type": "code",
   "execution_count": null,
   "id": "ae0dfcc8",
   "metadata": {},
   "outputs": [],
   "source": [
    "bc15fx=df_rearranged.copy()"
   ]
  },
  {
   "cell_type": "code",
   "execution_count": null,
   "id": "16c18629",
   "metadata": {},
   "outputs": [],
   "source": [
    "combined_df = pd.concat([fx, bc15fx, jesolo15fx, pac16fx], axis=0)"
   ]
  },
  {
   "cell_type": "code",
   "execution_count": null,
   "id": "a78f6745",
   "metadata": {},
   "outputs": [],
   "source": [
    "fx = combined_df.copy()"
   ]
  },
  {
   "cell_type": "code",
   "execution_count": null,
   "id": "ccc7caf5",
   "metadata": {},
   "outputs": [],
   "source": [
    "fx.info()"
   ]
  },
  {
   "cell_type": "code",
   "execution_count": null,
   "id": "8b6f8970",
   "metadata": {},
   "outputs": [],
   "source": []
  },
  {
   "cell_type": "code",
   "execution_count": null,
   "id": "518f9e6e",
   "metadata": {},
   "outputs": [],
   "source": [
    "fx.duplicated().sum()"
   ]
  },
  {
   "cell_type": "code",
   "execution_count": null,
   "id": "e3f63d39",
   "metadata": {},
   "outputs": [],
   "source": [
    "fx.head()"
   ]
  },
  {
   "cell_type": "code",
   "execution_count": null,
   "id": "68150836",
   "metadata": {},
   "outputs": [],
   "source": [
    "fx_euro_championship18.head(1)"
   ]
  },
  {
   "cell_type": "code",
   "execution_count": null,
   "id": "c29fe053",
   "metadata": {},
   "outputs": [],
   "source": [
    "fx_euro_championship21.head(1)"
   ]
  },
  {
   "cell_type": "code",
   "execution_count": null,
   "id": "51d0d8b0",
   "metadata": {},
   "outputs": [],
   "source": [
    "# Create a dictionary to specify the column name changes\n",
    "column_name_mapping = {\n",
    "    'Athlete': 'Name',\n",
    "    'Nation': 'nation',\n",
    "    'D': 'D Score',\n",
    "    'E': 'E Score',\n",
    "    'ND': 'Pen.',\n",
    "    'Score': 'Total'\n",
    "    # Add more columns as needed\n",
    "}\n",
    "\n",
    "# Use the rename method to rename the columns\n",
    "fx_euro_championship18.rename(columns=column_name_mapping, inplace=True)\n",
    "\n",
    "\n",
    "# Define the desired column order\n",
    "desired_column_order = ['Rank', 'Name', 'nation', 'D Score', 'E Score', 'Pen.', 'Total', 'year',\n",
    "       'round']\n",
    "\n",
    "# Create a new DataFrame with the columns rearranged\n",
    "fx_euro_championship18 = fx_euro_championship18[desired_column_order]\n",
    "\n"
   ]
  },
  {
   "cell_type": "code",
   "execution_count": null,
   "id": "505e0366",
   "metadata": {},
   "outputs": [],
   "source": [
    "# Create a dictionary to specify the column name changes\n",
    "column_name_mapping = {\n",
    "    'Athlete': 'Name',\n",
    "    'Nation': 'nation',\n",
    "    'D': 'D Score',\n",
    "    'E': 'E Score',\n",
    "    'ND': 'Pen.',\n",
    "    'Score': 'Total'\n",
    "    # Add more columns as needed\n",
    "}\n",
    "\n",
    "# Use the rename method to rename the columns\n",
    "fx_euro_championship21.rename(columns=column_name_mapping, inplace=True)\n",
    "\n",
    "\n",
    "# Define the desired column order\n",
    "desired_column_order = ['Rank', 'Name', 'nation', 'D Score', 'E Score', 'Pen.', 'Total', 'year',\n",
    "       'round']\n",
    "\n",
    "# Create a new DataFrame with the columns rearranged\n",
    "fx_euro_championship21 = fx_euro_championship21[desired_column_order]\n",
    "\n"
   ]
  },
  {
   "cell_type": "code",
   "execution_count": null,
   "id": "fda3cc6d",
   "metadata": {},
   "outputs": [],
   "source": [
    "combined_df = pd.concat([fx, fx_euro_championship21, fx_euro_championship18], axis=0)"
   ]
  },
  {
   "cell_type": "code",
   "execution_count": null,
   "id": "c2fea72c",
   "metadata": {},
   "outputs": [],
   "source": [
    "fx=combined_df.copy()"
   ]
  },
  {
   "cell_type": "code",
   "execution_count": null,
   "id": "cd3f3c8c",
   "metadata": {},
   "outputs": [],
   "source": [
    "fx.info()"
   ]
  },
  {
   "cell_type": "code",
   "execution_count": null,
   "id": "3a8749cd",
   "metadata": {},
   "outputs": [],
   "source": [
    "fx.fillna(0,inplace=True)"
   ]
  },
  {
   "cell_type": "code",
   "execution_count": null,
   "id": "c0834dd6",
   "metadata": {},
   "outputs": [],
   "source": [
    "fx.duplicated().sum()"
   ]
  },
  {
   "cell_type": "code",
   "execution_count": null,
   "id": "cbdc5792",
   "metadata": {},
   "outputs": [],
   "source": [
    "# Create a dictionary to specify the column name changes\n",
    "column_name_mapping = {\n",
    "    'Athlete': 'Name',\n",
    "    'Nation': 'nation',\n",
    "    'D': 'D Score',\n",
    "    'E': 'E Score',\n",
    "    'ND': 'Pen.',\n",
    "}\n",
    "\n",
    "# Use the rename method to rename the columns\n",
    "pam14am_fx.rename(columns=column_name_mapping, inplace=True)\n",
    "\n",
    "\n",
    "# Define the desired column order\n",
    "desired_column_order = ['Rank', 'Name', 'nation', 'D Score', 'E Score', 'Pen.', 'Total', 'year',\n",
    "       'round']\n",
    "\n",
    "# Create a new DataFrame with the columns rearranged\n",
    "pam14am_fx = pam14am_fx[desired_column_order]\n",
    "\n"
   ]
  },
  {
   "cell_type": "code",
   "execution_count": null,
   "id": "e7d12e37",
   "metadata": {},
   "outputs": [],
   "source": [
    "# Create a dictionary to specify the column name changes\n",
    "column_name_mapping = {\n",
    "    'Athlete': 'Name',\n",
    "    'Nation': 'nation',\n",
    "    'D': 'D Score',\n",
    "    'E': 'E Score',\n",
    "    'ND': 'Pen.',\n",
    "    'Score': 'Total'\n",
    "    # Add more columns as needed\n",
    "}\n",
    "\n",
    "# Use the rename method to rename the columns\n",
    "euro19games_fx.rename(columns=column_name_mapping, inplace=True)\n",
    "\n",
    "\n",
    "# Define the desired column order\n",
    "desired_column_order = ['Rank', 'Name', 'nation', 'D Score', 'E Score', 'Pen.', 'Total', 'year',\n",
    "       'round']\n",
    "\n",
    "# Create a new DataFrame with the columns rearranged\n",
    "euro19games_fx = euro19games_fx[desired_column_order]\n",
    "\n"
   ]
  },
  {
   "cell_type": "code",
   "execution_count": null,
   "id": "04c6847b",
   "metadata": {},
   "outputs": [],
   "source": [
    "# pam14am_fx\n",
    "# euro19games_fx"
   ]
  },
  {
   "cell_type": "code",
   "execution_count": null,
   "id": "febfbe6b",
   "metadata": {},
   "outputs": [],
   "source": [
    "combined_df = pd.concat([fx, pam14am_fx, euro19games_fx], axis=0)"
   ]
  },
  {
   "cell_type": "code",
   "execution_count": null,
   "id": "9d1d3e39",
   "metadata": {},
   "outputs": [],
   "source": [
    "fx=combined_df.copy()"
   ]
  },
  {
   "cell_type": "code",
   "execution_count": null,
   "id": "536cc3dd",
   "metadata": {},
   "outputs": [],
   "source": [
    "fx.duplicated().sum()"
   ]
  },
  {
   "cell_type": "code",
   "execution_count": null,
   "id": "db9d97e7",
   "metadata": {},
   "outputs": [],
   "source": [
    "# Create a dictionary to specify the column name changes\n",
    "column_name_mapping = {\n",
    "    'Athlete': 'Name',\n",
    "    'Nation': 'nation',\n",
    "    'D': 'D Score',\n",
    "    'E': 'E Score',\n",
    "    'ND': 'Pen.',\n",
    "    'Score': 'Total'\n",
    "    # Add more columns as needed\n",
    "}\n",
    "\n",
    "# Use the rename method to rename the columns\n",
    "clean_universiade2015fx.rename(columns=column_name_mapping, inplace=True)\n",
    "\n",
    "\n",
    "# Define the desired column order\n",
    "desired_column_order = ['Rank', 'Name', 'nation', 'D Score', 'E Score', 'Pen.', 'Total', 'year',\n",
    "       'round']\n",
    "\n",
    "# Create a new DataFrame with the columns rearranged\n",
    "clean_universiade2015fx = clean_universiade2015fx[desired_column_order]\n",
    "\n"
   ]
  },
  {
   "cell_type": "code",
   "execution_count": null,
   "id": "04d599cc",
   "metadata": {},
   "outputs": [],
   "source": [
    "# Create a dictionary to specify the column name changes\n",
    "column_name_mapping = {\n",
    "    'Athlete': 'Name',\n",
    "    'Nation': 'nation',\n",
    "    'D': 'D Score',\n",
    "    'E': 'E Score',\n",
    "    'ND': 'Pen.',\n",
    "    'Score': 'Total'\n",
    "    # Add more columns as needed\n",
    "}\n",
    "\n",
    "# Use the rename method to rename the columns\n",
    "clean_euro15champ_fx.rename(columns=column_name_mapping, inplace=True)\n",
    "\n",
    "\n",
    "# Define the desired column order\n",
    "desired_column_order = ['Rank', 'Name', 'nation', 'D Score', 'E Score', 'Pen.', 'Total', 'year',\n",
    "       'round']\n",
    "\n",
    "# Create a new DataFrame with the columns rearranged\n",
    "clean_euro15champ_fx = clean_euro15champ_fx[desired_column_order]\n",
    "\n"
   ]
  },
  {
   "cell_type": "code",
   "execution_count": null,
   "id": "058a712a",
   "metadata": {},
   "outputs": [],
   "source": [
    "combined_df = pd.concat([fx, clean_universiade2015fx, clean_euro15champ_fx], axis=0)"
   ]
  },
  {
   "cell_type": "code",
   "execution_count": null,
   "id": "82c7b9ad",
   "metadata": {},
   "outputs": [],
   "source": [
    "fx=combined_df.copy()"
   ]
  },
  {
   "cell_type": "code",
   "execution_count": null,
   "id": "b8b923d0",
   "metadata": {},
   "outputs": [],
   "source": [
    "fx.duplicated().sum()"
   ]
  },
  {
   "cell_type": "code",
   "execution_count": null,
   "id": "4b5a2aac",
   "metadata": {},
   "outputs": [],
   "source": [
    "# fx.to_csv('fx_w.csv', index=False)"
   ]
  },
  {
   "cell_type": "code",
   "execution_count": null,
   "id": "c6f5fbed",
   "metadata": {},
   "outputs": [],
   "source": [
    "fx"
   ]
  },
  {
   "cell_type": "code",
   "execution_count": null,
   "id": "90bec37d",
   "metadata": {},
   "outputs": [],
   "source": []
  },
  {
   "cell_type": "code",
   "execution_count": null,
   "id": "bf82a3b3",
   "metadata": {},
   "outputs": [],
   "source": []
  },
  {
   "cell_type": "code",
   "execution_count": null,
   "id": "7bc19996",
   "metadata": {},
   "outputs": [],
   "source": []
  },
  {
   "cell_type": "code",
   "execution_count": null,
   "id": "9f45a9be",
   "metadata": {},
   "outputs": [],
   "source": []
  },
  {
   "cell_type": "code",
   "execution_count": null,
   "id": "f9c24408",
   "metadata": {},
   "outputs": [],
   "source": []
  }
 ],
 "metadata": {
  "kernelspec": {
   "display_name": "Python 3 (ipykernel)",
   "language": "python",
   "name": "python3"
  },
  "language_info": {
   "codemirror_mode": {
    "name": "ipython",
    "version": 3
   },
   "file_extension": ".py",
   "mimetype": "text/x-python",
   "name": "python",
   "nbconvert_exporter": "python",
   "pygments_lexer": "ipython3",
   "version": "3.9.12"
  }
 },
 "nbformat": 4,
 "nbformat_minor": 5
}
