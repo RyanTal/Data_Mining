{
 "cells": [
  {
   "cell_type": "code",
   "execution_count": 1,
   "id": "bcfbfd78",
   "metadata": {},
   "outputs": [],
   "source": [
    "import pandas as pd\n",
    "import numpy as np"
   ]
  },
  {
   "cell_type": "code",
   "execution_count": 2,
   "id": "bac01cb1",
   "metadata": {},
   "outputs": [],
   "source": [
    "df = pd.read_csv('iaa2020.csv')"
   ]
  },
  {
   "cell_type": "code",
   "execution_count": 3,
   "id": "3caeaf82",
   "metadata": {},
   "outputs": [],
   "source": [
    "# sunisa lee United States\n",
    "# rebeca andrade Brazil\n",
    "# angelina melnikova ROC"
   ]
  },
  {
   "cell_type": "code",
   "execution_count": 4,
   "id": "8b5866bb",
   "metadata": {},
   "outputs": [],
   "source": [
    "# Define a function to assign medal values based on the \"Name\" column\n",
    "def assign_medal(name):\n",
    "    name_lower = name.lower()\n",
    "    if name_lower == 'sunisa lee':\n",
    "        return 1\n",
    "    elif name_lower == 'rebeca andrade':\n",
    "        return 1\n",
    "    elif name_lower == 'angelina melnikova':\n",
    "        return 1\n",
    "    else:\n",
    "        return 0\n",
    "\n",
    "# Apply the function to create the \"medal\" column\n",
    "df['medal'] = df['Athlete'].apply(assign_medal)"
   ]
  },
  {
   "cell_type": "code",
   "execution_count": 5,
   "id": "5db1bcd4",
   "metadata": {},
   "outputs": [
    {
     "data": {
      "text/plain": [
       "medal\n",
       "0    529\n",
       "1      8\n",
       "Name: count, dtype: int64"
      ]
     },
     "execution_count": 5,
     "metadata": {},
     "output_type": "execute_result"
    }
   ],
   "source": [
    "df['medal'].value_counts()"
   ]
  },
  {
   "cell_type": "code",
   "execution_count": 6,
   "id": "07ca0861",
   "metadata": {},
   "outputs": [
    {
     "data": {
      "text/html": [
       "<div>\n",
       "<style scoped>\n",
       "    .dataframe tbody tr th:only-of-type {\n",
       "        vertical-align: middle;\n",
       "    }\n",
       "\n",
       "    .dataframe tbody tr th {\n",
       "        vertical-align: top;\n",
       "    }\n",
       "\n",
       "    .dataframe thead th {\n",
       "        text-align: right;\n",
       "    }\n",
       "</style>\n",
       "<table border=\"1\" class=\"dataframe\">\n",
       "  <thead>\n",
       "    <tr style=\"text-align: right;\">\n",
       "      <th></th>\n",
       "      <th>Rank</th>\n",
       "      <th>Athlete</th>\n",
       "      <th>Nation</th>\n",
       "      <th>VT</th>\n",
       "      <th>UB</th>\n",
       "      <th>BB</th>\n",
       "      <th>FX</th>\n",
       "      <th>AA</th>\n",
       "      <th>round</th>\n",
       "      <th>year</th>\n",
       "      <th>medal</th>\n",
       "    </tr>\n",
       "  </thead>\n",
       "  <tbody>\n",
       "    <tr>\n",
       "      <th>4</th>\n",
       "      <td>5</td>\n",
       "      <td>angelina melnikova</td>\n",
       "      <td>RUS</td>\n",
       "      <td>14.266</td>\n",
       "      <td>14.3</td>\n",
       "      <td>12.866</td>\n",
       "      <td>14.033</td>\n",
       "      <td>55.465</td>\n",
       "      <td>qual</td>\n",
       "      <td>2018</td>\n",
       "      <td>1</td>\n",
       "    </tr>\n",
       "    <tr>\n",
       "      <th>137</th>\n",
       "      <td>138</td>\n",
       "      <td>rebeca andrade</td>\n",
       "      <td>BRA</td>\n",
       "      <td>14.566</td>\n",
       "      <td>14.333</td>\n",
       "      <td>12.633</td>\n",
       "      <td>0.0</td>\n",
       "      <td>41.532</td>\n",
       "      <td>qual</td>\n",
       "      <td>2018</td>\n",
       "      <td>1</td>\n",
       "    </tr>\n",
       "    <tr>\n",
       "      <th>232</th>\n",
       "      <td>4</td>\n",
       "      <td>angelina melnikova</td>\n",
       "      <td>RUS</td>\n",
       "      <td>14.5</td>\n",
       "      <td>13.433</td>\n",
       "      <td>11.766</td>\n",
       "      <td>13.0</td>\n",
       "      <td>52.699</td>\n",
       "      <td>final</td>\n",
       "      <td>2018</td>\n",
       "      <td>1</td>\n",
       "    </tr>\n",
       "    <tr>\n",
       "      <th>237</th>\n",
       "      <td>1</td>\n",
       "      <td>angelina melnikova</td>\n",
       "      <td>RUS</td>\n",
       "      <td>14.433</td>\n",
       "      <td>13.866</td>\n",
       "      <td>12.666</td>\n",
       "      <td>13.5</td>\n",
       "      <td>54.465</td>\n",
       "      <td>final</td>\n",
       "      <td>2018</td>\n",
       "      <td>1</td>\n",
       "    </tr>\n",
       "    <tr>\n",
       "      <th>253</th>\n",
       "      <td>2</td>\n",
       "      <td>sunisa lee</td>\n",
       "      <td>USA</td>\n",
       "      <td>14.566</td>\n",
       "      <td>15</td>\n",
       "      <td>13.4</td>\n",
       "      <td>14.2</td>\n",
       "      <td>57.166</td>\n",
       "      <td>qual</td>\n",
       "      <td>2019</td>\n",
       "      <td>1</td>\n",
       "    </tr>\n",
       "    <tr>\n",
       "      <th>255</th>\n",
       "      <td>4</td>\n",
       "      <td>angelina melnikova</td>\n",
       "      <td>RUS</td>\n",
       "      <td>14.433</td>\n",
       "      <td>14.7</td>\n",
       "      <td>13.366</td>\n",
       "      <td>14.1</td>\n",
       "      <td>56.599</td>\n",
       "      <td>qual</td>\n",
       "      <td>2019</td>\n",
       "      <td>1</td>\n",
       "    </tr>\n",
       "    <tr>\n",
       "      <th>515</th>\n",
       "      <td>3</td>\n",
       "      <td>angelina melnikova</td>\n",
       "      <td>RUS</td>\n",
       "      <td>14.433</td>\n",
       "      <td>13.9</td>\n",
       "      <td>14.0</td>\n",
       "      <td>14.066</td>\n",
       "      <td>56.399</td>\n",
       "      <td>final</td>\n",
       "      <td>2019</td>\n",
       "      <td>1</td>\n",
       "    </tr>\n",
       "    <tr>\n",
       "      <th>520</th>\n",
       "      <td>8</td>\n",
       "      <td>sunisa lee</td>\n",
       "      <td>USA</td>\n",
       "      <td>14.466</td>\n",
       "      <td>13.133</td>\n",
       "      <td>13.833</td>\n",
       "      <td>14.2</td>\n",
       "      <td>55.632</td>\n",
       "      <td>final</td>\n",
       "      <td>2019</td>\n",
       "      <td>1</td>\n",
       "    </tr>\n",
       "  </tbody>\n",
       "</table>\n",
       "</div>"
      ],
      "text/plain": [
       "     Rank             Athlete Nation      VT      UB      BB      FX      AA  \\\n",
       "4       5  angelina melnikova    RUS  14.266    14.3  12.866  14.033  55.465   \n",
       "137   138      rebeca andrade    BRA  14.566  14.333  12.633     0.0  41.532   \n",
       "232     4  angelina melnikova    RUS    14.5  13.433  11.766    13.0  52.699   \n",
       "237     1  angelina melnikova    RUS  14.433  13.866  12.666    13.5  54.465   \n",
       "253     2          sunisa lee    USA  14.566      15    13.4    14.2  57.166   \n",
       "255     4  angelina melnikova    RUS  14.433    14.7  13.366    14.1  56.599   \n",
       "515     3  angelina melnikova    RUS  14.433    13.9    14.0  14.066  56.399   \n",
       "520     8          sunisa lee    USA  14.466  13.133  13.833    14.2  55.632   \n",
       "\n",
       "     round  year  medal  \n",
       "4     qual  2018      1  \n",
       "137   qual  2018      1  \n",
       "232  final  2018      1  \n",
       "237  final  2018      1  \n",
       "253   qual  2019      1  \n",
       "255   qual  2019      1  \n",
       "515  final  2019      1  \n",
       "520  final  2019      1  "
      ]
     },
     "execution_count": 6,
     "metadata": {},
     "output_type": "execute_result"
    }
   ],
   "source": [
    "df[df['medal'] == 1]"
   ]
  },
  {
   "cell_type": "code",
   "execution_count": 7,
   "id": "351b1242",
   "metadata": {},
   "outputs": [],
   "source": [
    "df['round'] = df['round'].str.lower()"
   ]
  },
  {
   "cell_type": "code",
   "execution_count": 8,
   "id": "2b71a7cc",
   "metadata": {},
   "outputs": [],
   "source": [
    "from sklearn.preprocessing import LabelEncoder\n",
    "\n",
    "# Assuming df is your DataFrame and 'Name' is the column you want to encode\n",
    "le = LabelEncoder()\n",
    "\n",
    "# Fit and transform the 'Name' column to create integer labels\n",
    "df['Name_encoded'] = le.fit_transform(df['Athlete'])\n",
    "\n",
    "# Store the mapping between integers and original objects\n",
    "label_mapping = dict(zip(le.transform(df['Athlete']), df['Athlete']))\n",
    "\n",
    "# To revert the integers back to objects, use the label_mapping\n",
    "# reverted_names = df['Name_encoded'].map(label_mapping)"
   ]
  },
  {
   "cell_type": "code",
   "execution_count": 9,
   "id": "ac714e7c",
   "metadata": {},
   "outputs": [],
   "source": [
    "df=df.drop(columns=[\"Athlete\"])\n",
    "df.rename(columns={'Name_encoded': 'Name'}, inplace=True)"
   ]
  },
  {
   "cell_type": "code",
   "execution_count": 10,
   "id": "fd49d10c",
   "metadata": {},
   "outputs": [],
   "source": [
    "from sklearn.preprocessing import LabelEncoder\n",
    "\n",
    "# Assuming df is your DataFrame and 'Name' is the column you want to encode\n",
    "le = LabelEncoder()\n",
    "\n",
    "# Fit and transform the 'Name' column to create integer labels\n",
    "df['nation_encoded'] = le.fit_transform(df['Nation'])\n",
    "\n",
    "# Store the mapping between integers and original objects\n",
    "label_mapping_nation = dict(zip(le.transform(df['Nation']), df['Nation']))\n",
    "\n",
    "# To revert the integers back to objects, use the label_mapping\n",
    "# reverted_names = df['Name_encoded'].map(label_mapping)"
   ]
  },
  {
   "cell_type": "code",
   "execution_count": 11,
   "id": "aaab5903",
   "metadata": {},
   "outputs": [],
   "source": [
    "df=df.drop(columns=[\"Nation\"])\n",
    "df.rename(columns={'nation_encoded': 'Nation'}, inplace=True)"
   ]
  },
  {
   "cell_type": "code",
   "execution_count": 12,
   "id": "372fdd84",
   "metadata": {},
   "outputs": [],
   "source": [
    "df_encoded = pd.get_dummies(df, columns=['round'], prefix='round')"
   ]
  },
  {
   "cell_type": "code",
   "execution_count": 13,
   "id": "14ca7c73",
   "metadata": {},
   "outputs": [
    {
     "name": "stdout",
     "output_type": "stream",
     "text": [
      "<class 'pandas.core.frame.DataFrame'>\n",
      "RangeIndex: 537 entries, 0 to 536\n",
      "Data columns (total 12 columns):\n",
      " #   Column       Non-Null Count  Dtype  \n",
      "---  ------       --------------  -----  \n",
      " 0   Rank         537 non-null    int64  \n",
      " 1   VT           537 non-null    object \n",
      " 2   UB           537 non-null    object \n",
      " 3   BB           537 non-null    object \n",
      " 4   FX           537 non-null    object \n",
      " 5   AA           537 non-null    float64\n",
      " 6   year         537 non-null    int64  \n",
      " 7   medal        537 non-null    int64  \n",
      " 8   Name         537 non-null    int64  \n",
      " 9   Nation       537 non-null    int64  \n",
      " 10  round_final  537 non-null    bool   \n",
      " 11  round_qual   537 non-null    bool   \n",
      "dtypes: bool(2), float64(1), int64(5), object(4)\n",
      "memory usage: 43.1+ KB\n"
     ]
    }
   ],
   "source": [
    "df_encoded.info()"
   ]
  },
  {
   "cell_type": "code",
   "execution_count": 14,
   "id": "f957046d",
   "metadata": {},
   "outputs": [],
   "source": [
    "# df_encoded.to_csv('iaa_encoded.csv', index=False)"
   ]
  },
  {
   "cell_type": "code",
   "execution_count": null,
   "id": "651c8e99",
   "metadata": {},
   "outputs": [],
   "source": []
  }
 ],
 "metadata": {
  "kernelspec": {
   "display_name": "Python 3 (ipykernel)",
   "language": "python",
   "name": "python3"
  },
  "language_info": {
   "codemirror_mode": {
    "name": "ipython",
    "version": 3
   },
   "file_extension": ".py",
   "mimetype": "text/x-python",
   "name": "python",
   "nbconvert_exporter": "python",
   "pygments_lexer": "ipython3",
   "version": "3.9.12"
  }
 },
 "nbformat": 4,
 "nbformat_minor": 5
}
