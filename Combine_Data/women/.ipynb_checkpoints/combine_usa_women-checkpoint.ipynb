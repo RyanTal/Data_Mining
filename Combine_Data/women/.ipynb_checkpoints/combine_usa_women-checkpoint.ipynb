{
 "cells": [
  {
   "cell_type": "code",
   "execution_count": 2,
   "id": "cc3cecc7",
   "metadata": {},
   "outputs": [],
   "source": [
    "import pandas as pd\n",
    "import numpy as np"
   ]
  },
  {
   "cell_type": "code",
   "execution_count": 3,
   "id": "c6c943b8",
   "metadata": {},
   "outputs": [],
   "source": [
    "bb=pd.read_csv('bb_w.csv')\n",
    "fx=pd.read_csv('fx_w.csv')\n",
    "ub=pd.read_csv('ub_w.csv')\n",
    "vt=pd.read_csv('vt_w.csv')\n",
    "iaa=pd.read_csv('iaa2020.csv')\n"
   ]
  },
  {
   "cell_type": "code",
   "execution_count": 4,
   "id": "81d8b877",
   "metadata": {},
   "outputs": [
    {
     "name": "stdout",
     "output_type": "stream",
     "text": [
      "<class 'pandas.core.frame.DataFrame'>\n",
      "RangeIndex: 2385 entries, 0 to 2384\n",
      "Data columns (total 9 columns):\n",
      " #   Column   Non-Null Count  Dtype  \n",
      "---  ------   --------------  -----  \n",
      " 0   Rank     2385 non-null   float64\n",
      " 1   Name     2385 non-null   object \n",
      " 2   nation   2360 non-null   object \n",
      " 3   D Score  2385 non-null   float64\n",
      " 4   E Score  2385 non-null   float64\n",
      " 5   Pen.     2220 non-null   float64\n",
      " 6   Total    2385 non-null   float64\n",
      " 7   year     2385 non-null   int64  \n",
      " 8   round    2385 non-null   object \n",
      "dtypes: float64(5), int64(1), object(3)\n",
      "memory usage: 167.8+ KB\n"
     ]
    }
   ],
   "source": [
    "bb.info()"
   ]
  },
  {
   "cell_type": "code",
   "execution_count": 5,
   "id": "1ea92ba4",
   "metadata": {},
   "outputs": [],
   "source": [
    "usw=pd.read_csv('../../Data/cleandata22-23/usa22_23.csv')\n"
   ]
  },
  {
   "cell_type": "code",
   "execution_count": 6,
   "id": "383038eb",
   "metadata": {},
   "outputs": [],
   "source": [
    "usw=usw.drop(columns=['Gender', 'Competition', 'Round', 'Location', 'Date'])"
   ]
  },
  {
   "cell_type": "code",
   "execution_count": 7,
   "id": "e0236b7f",
   "metadata": {},
   "outputs": [],
   "source": [
    "wbb = usw[usw['Apparatus'] == 'BB']"
   ]
  },
  {
   "cell_type": "code",
   "execution_count": 8,
   "id": "cda24f7f",
   "metadata": {},
   "outputs": [
    {
     "name": "stdout",
     "output_type": "stream",
     "text": [
      "<class 'pandas.core.frame.DataFrame'>\n",
      "Index: 163 entries, 0 to 657\n",
      "Data columns (total 9 columns):\n",
      " #   Column       Non-Null Count  Dtype  \n",
      "---  ------       --------------  -----  \n",
      " 0   Name         163 non-null    object \n",
      " 1   Country      163 non-null    object \n",
      " 2   Apparatus    163 non-null    object \n",
      " 3   Rank         163 non-null    float64\n",
      " 4   D_Score      163 non-null    float64\n",
      " 5   E_Score      163 non-null    float64\n",
      " 6   Penalty      163 non-null    float64\n",
      " 7   Score        163 non-null    float64\n",
      " 8   Total_Score  163 non-null    float64\n",
      "dtypes: float64(6), object(3)\n",
      "memory usage: 12.7+ KB\n"
     ]
    }
   ],
   "source": [
    "wbb.info()"
   ]
  },
  {
   "cell_type": "code",
   "execution_count": 9,
   "id": "bdd67636",
   "metadata": {},
   "outputs": [],
   "source": [
    "wub = usw[usw['Apparatus'] == 'UB']"
   ]
  },
  {
   "cell_type": "code",
   "execution_count": 10,
   "id": "1093c800",
   "metadata": {},
   "outputs": [],
   "source": [
    "wvt = usw[usw['Apparatus'] == 'VT']"
   ]
  },
  {
   "cell_type": "code",
   "execution_count": 11,
   "id": "35d284e1",
   "metadata": {},
   "outputs": [],
   "source": [
    "wfx = usw[usw['Apparatus'] == 'FX']"
   ]
  },
  {
   "cell_type": "code",
   "execution_count": 12,
   "id": "df42a3b9",
   "metadata": {},
   "outputs": [
    {
     "data": {
      "text/plain": [
       "Index(['Name', 'Country', 'Apparatus', 'Rank', 'D_Score', 'E_Score', 'Penalty',\n",
       "       'Score', 'Total_Score'],\n",
       "      dtype='object')"
      ]
     },
     "execution_count": 12,
     "metadata": {},
     "output_type": "execute_result"
    }
   ],
   "source": [
    "wbb.columns"
   ]
  },
  {
   "cell_type": "code",
   "execution_count": 13,
   "id": "a046f32a",
   "metadata": {},
   "outputs": [
    {
     "data": {
      "text/plain": [
       "Index(['Name', 'Country', 'Apparatus', 'Rank', 'D_Score', 'E_Score', 'Penalty',\n",
       "       'Score', 'Total_Score'],\n",
       "      dtype='object')"
      ]
     },
     "execution_count": 13,
     "metadata": {},
     "output_type": "execute_result"
    }
   ],
   "source": [
    "wvt.columns"
   ]
  },
  {
   "cell_type": "code",
   "execution_count": 14,
   "id": "91c62fd4",
   "metadata": {},
   "outputs": [
    {
     "data": {
      "text/html": [
       "<div>\n",
       "<style scoped>\n",
       "    .dataframe tbody tr th:only-of-type {\n",
       "        vertical-align: middle;\n",
       "    }\n",
       "\n",
       "    .dataframe tbody tr th {\n",
       "        vertical-align: top;\n",
       "    }\n",
       "\n",
       "    .dataframe thead th {\n",
       "        text-align: right;\n",
       "    }\n",
       "</style>\n",
       "<table border=\"1\" class=\"dataframe\">\n",
       "  <thead>\n",
       "    <tr style=\"text-align: right;\">\n",
       "      <th></th>\n",
       "      <th>Name</th>\n",
       "      <th>Country</th>\n",
       "      <th>Apparatus</th>\n",
       "      <th>Rank</th>\n",
       "      <th>D_Score</th>\n",
       "      <th>E_Score</th>\n",
       "      <th>Penalty</th>\n",
       "      <th>Score</th>\n",
       "      <th>Total_Score</th>\n",
       "    </tr>\n",
       "  </thead>\n",
       "  <tbody>\n",
       "    <tr>\n",
       "      <th>6</th>\n",
       "      <td>ciena alipio</td>\n",
       "      <td>USA</td>\n",
       "      <td>VT</td>\n",
       "      <td>0.0</td>\n",
       "      <td>4.6</td>\n",
       "      <td>7.65</td>\n",
       "      <td>0.3</td>\n",
       "      <td>11.95</td>\n",
       "      <td>11.95</td>\n",
       "    </tr>\n",
       "    <tr>\n",
       "      <th>7</th>\n",
       "      <td>ciena alipio</td>\n",
       "      <td>USA</td>\n",
       "      <td>VT</td>\n",
       "      <td>0.0</td>\n",
       "      <td>4.6</td>\n",
       "      <td>8.70</td>\n",
       "      <td>0.1</td>\n",
       "      <td>13.20</td>\n",
       "      <td>13.20</td>\n",
       "    </tr>\n",
       "    <tr>\n",
       "      <th>11</th>\n",
       "      <td>ciena alipio</td>\n",
       "      <td>USA</td>\n",
       "      <td>VT</td>\n",
       "      <td>0.0</td>\n",
       "      <td>4.6</td>\n",
       "      <td>8.70</td>\n",
       "      <td>0.1</td>\n",
       "      <td>13.20</td>\n",
       "      <td>13.20</td>\n",
       "    </tr>\n",
       "    <tr>\n",
       "      <th>19</th>\n",
       "      <td>sydney barros</td>\n",
       "      <td>USA</td>\n",
       "      <td>VT</td>\n",
       "      <td>0.0</td>\n",
       "      <td>4.2</td>\n",
       "      <td>8.90</td>\n",
       "      <td>0.0</td>\n",
       "      <td>13.10</td>\n",
       "      <td>13.10</td>\n",
       "    </tr>\n",
       "    <tr>\n",
       "      <th>26</th>\n",
       "      <td>simone biles</td>\n",
       "      <td>USA</td>\n",
       "      <td>VT</td>\n",
       "      <td>0.0</td>\n",
       "      <td>6.4</td>\n",
       "      <td>9.80</td>\n",
       "      <td>0.5</td>\n",
       "      <td>15.70</td>\n",
       "      <td>15.70</td>\n",
       "    </tr>\n",
       "    <tr>\n",
       "      <th>...</th>\n",
       "      <td>...</td>\n",
       "      <td>...</td>\n",
       "      <td>...</td>\n",
       "      <td>...</td>\n",
       "      <td>...</td>\n",
       "      <td>...</td>\n",
       "      <td>...</td>\n",
       "      <td>...</td>\n",
       "      <td>...</td>\n",
       "    </tr>\n",
       "    <tr>\n",
       "      <th>644</th>\n",
       "      <td>lexi zeiss</td>\n",
       "      <td>USA</td>\n",
       "      <td>VT</td>\n",
       "      <td>0.0</td>\n",
       "      <td>4.6</td>\n",
       "      <td>9.10</td>\n",
       "      <td>0.0</td>\n",
       "      <td>13.70</td>\n",
       "      <td>13.70</td>\n",
       "    </tr>\n",
       "    <tr>\n",
       "      <th>648</th>\n",
       "      <td>lexi zeiss</td>\n",
       "      <td>USA</td>\n",
       "      <td>VT</td>\n",
       "      <td>0.0</td>\n",
       "      <td>5.0</td>\n",
       "      <td>8.45</td>\n",
       "      <td>0.0</td>\n",
       "      <td>13.45</td>\n",
       "      <td>13.45</td>\n",
       "    </tr>\n",
       "    <tr>\n",
       "      <th>655</th>\n",
       "      <td>alicia zhou</td>\n",
       "      <td>USA</td>\n",
       "      <td>VT</td>\n",
       "      <td>0.0</td>\n",
       "      <td>4.2</td>\n",
       "      <td>9.00</td>\n",
       "      <td>0.0</td>\n",
       "      <td>13.20</td>\n",
       "      <td>13.20</td>\n",
       "    </tr>\n",
       "    <tr>\n",
       "      <th>656</th>\n",
       "      <td>alicia zhou</td>\n",
       "      <td>USA</td>\n",
       "      <td>VT</td>\n",
       "      <td>0.0</td>\n",
       "      <td>4.2</td>\n",
       "      <td>9.20</td>\n",
       "      <td>0.0</td>\n",
       "      <td>13.40</td>\n",
       "      <td>13.40</td>\n",
       "    </tr>\n",
       "    <tr>\n",
       "      <th>660</th>\n",
       "      <td>alicia zhou</td>\n",
       "      <td>USA</td>\n",
       "      <td>VT</td>\n",
       "      <td>0.0</td>\n",
       "      <td>4.2</td>\n",
       "      <td>8.70</td>\n",
       "      <td>0.0</td>\n",
       "      <td>12.90</td>\n",
       "      <td>12.90</td>\n",
       "    </tr>\n",
       "  </tbody>\n",
       "</table>\n",
       "<p>152 rows × 9 columns</p>\n",
       "</div>"
      ],
      "text/plain": [
       "              Name Country Apparatus  Rank  D_Score  E_Score  Penalty  Score  \\\n",
       "6     ciena alipio     USA        VT   0.0      4.6     7.65      0.3  11.95   \n",
       "7     ciena alipio     USA        VT   0.0      4.6     8.70      0.1  13.20   \n",
       "11    ciena alipio     USA        VT   0.0      4.6     8.70      0.1  13.20   \n",
       "19   sydney barros     USA        VT   0.0      4.2     8.90      0.0  13.10   \n",
       "26    simone biles     USA        VT   0.0      6.4     9.80      0.5  15.70   \n",
       "..             ...     ...       ...   ...      ...      ...      ...    ...   \n",
       "644     lexi zeiss     USA        VT   0.0      4.6     9.10      0.0  13.70   \n",
       "648     lexi zeiss     USA        VT   0.0      5.0     8.45      0.0  13.45   \n",
       "655    alicia zhou     USA        VT   0.0      4.2     9.00      0.0  13.20   \n",
       "656    alicia zhou     USA        VT   0.0      4.2     9.20      0.0  13.40   \n",
       "660    alicia zhou     USA        VT   0.0      4.2     8.70      0.0  12.90   \n",
       "\n",
       "     Total_Score  \n",
       "6          11.95  \n",
       "7          13.20  \n",
       "11         13.20  \n",
       "19         13.10  \n",
       "26         15.70  \n",
       "..           ...  \n",
       "644        13.70  \n",
       "648        13.45  \n",
       "655        13.20  \n",
       "656        13.40  \n",
       "660        12.90  \n",
       "\n",
       "[152 rows x 9 columns]"
      ]
     },
     "execution_count": 14,
     "metadata": {},
     "output_type": "execute_result"
    }
   ],
   "source": [
    "wvt"
   ]
  },
  {
   "cell_type": "code",
   "execution_count": 15,
   "id": "9ba4c95d",
   "metadata": {
    "scrolled": true
   },
   "outputs": [],
   "source": [
    "wvt=wvt.drop(columns=['D_Score', 'E_Score', 'Penalty',])"
   ]
  },
  {
   "cell_type": "code",
   "execution_count": 16,
   "id": "689e748b",
   "metadata": {},
   "outputs": [],
   "source": [
    "vt=vt.drop(columns=['D', 'E', 'ND', 'Total', 'D2', 'E2', 'ND2',\n",
    "       'Total2'])"
   ]
  },
  {
   "cell_type": "code",
   "execution_count": 17,
   "id": "153a423a",
   "metadata": {},
   "outputs": [
    {
     "data": {
      "text/plain": [
       "Index(['Rank', 'Athlete', 'Nation', 'Average', 'year', 'round'], dtype='object')"
      ]
     },
     "execution_count": 17,
     "metadata": {},
     "output_type": "execute_result"
    }
   ],
   "source": [
    "vt.columns"
   ]
  },
  {
   "cell_type": "code",
   "execution_count": 18,
   "id": "7ecce12b",
   "metadata": {},
   "outputs": [],
   "source": [
    "column_name_mapping = {\n",
    "    'Athlete': 'Name',\n",
    "    'Nation': 'nation',\n",
    "    'Average': 'Total',\n",
    "}\n",
    "\n",
    "# Use the 'rename' method to rename the columns\n",
    "vt = vt.rename(columns=column_name_mapping)\n"
   ]
  },
  {
   "cell_type": "code",
   "execution_count": 19,
   "id": "d890c779",
   "metadata": {},
   "outputs": [
    {
     "data": {
      "text/html": [
       "<div>\n",
       "<style scoped>\n",
       "    .dataframe tbody tr th:only-of-type {\n",
       "        vertical-align: middle;\n",
       "    }\n",
       "\n",
       "    .dataframe tbody tr th {\n",
       "        vertical-align: top;\n",
       "    }\n",
       "\n",
       "    .dataframe thead th {\n",
       "        text-align: right;\n",
       "    }\n",
       "</style>\n",
       "<table border=\"1\" class=\"dataframe\">\n",
       "  <thead>\n",
       "    <tr style=\"text-align: right;\">\n",
       "      <th></th>\n",
       "      <th>Name</th>\n",
       "      <th>Country</th>\n",
       "      <th>Apparatus</th>\n",
       "      <th>Rank</th>\n",
       "      <th>Score</th>\n",
       "      <th>Total_Score</th>\n",
       "    </tr>\n",
       "  </thead>\n",
       "  <tbody>\n",
       "    <tr>\n",
       "      <th>6</th>\n",
       "      <td>ciena alipio</td>\n",
       "      <td>USA</td>\n",
       "      <td>VT</td>\n",
       "      <td>0.0</td>\n",
       "      <td>11.95</td>\n",
       "      <td>11.95</td>\n",
       "    </tr>\n",
       "    <tr>\n",
       "      <th>7</th>\n",
       "      <td>ciena alipio</td>\n",
       "      <td>USA</td>\n",
       "      <td>VT</td>\n",
       "      <td>0.0</td>\n",
       "      <td>13.20</td>\n",
       "      <td>13.20</td>\n",
       "    </tr>\n",
       "    <tr>\n",
       "      <th>11</th>\n",
       "      <td>ciena alipio</td>\n",
       "      <td>USA</td>\n",
       "      <td>VT</td>\n",
       "      <td>0.0</td>\n",
       "      <td>13.20</td>\n",
       "      <td>13.20</td>\n",
       "    </tr>\n",
       "    <tr>\n",
       "      <th>19</th>\n",
       "      <td>sydney barros</td>\n",
       "      <td>USA</td>\n",
       "      <td>VT</td>\n",
       "      <td>0.0</td>\n",
       "      <td>13.10</td>\n",
       "      <td>13.10</td>\n",
       "    </tr>\n",
       "    <tr>\n",
       "      <th>26</th>\n",
       "      <td>simone biles</td>\n",
       "      <td>USA</td>\n",
       "      <td>VT</td>\n",
       "      <td>0.0</td>\n",
       "      <td>15.70</td>\n",
       "      <td>15.70</td>\n",
       "    </tr>\n",
       "    <tr>\n",
       "      <th>...</th>\n",
       "      <td>...</td>\n",
       "      <td>...</td>\n",
       "      <td>...</td>\n",
       "      <td>...</td>\n",
       "      <td>...</td>\n",
       "      <td>...</td>\n",
       "    </tr>\n",
       "    <tr>\n",
       "      <th>644</th>\n",
       "      <td>lexi zeiss</td>\n",
       "      <td>USA</td>\n",
       "      <td>VT</td>\n",
       "      <td>0.0</td>\n",
       "      <td>13.70</td>\n",
       "      <td>13.70</td>\n",
       "    </tr>\n",
       "    <tr>\n",
       "      <th>648</th>\n",
       "      <td>lexi zeiss</td>\n",
       "      <td>USA</td>\n",
       "      <td>VT</td>\n",
       "      <td>0.0</td>\n",
       "      <td>13.45</td>\n",
       "      <td>13.45</td>\n",
       "    </tr>\n",
       "    <tr>\n",
       "      <th>655</th>\n",
       "      <td>alicia zhou</td>\n",
       "      <td>USA</td>\n",
       "      <td>VT</td>\n",
       "      <td>0.0</td>\n",
       "      <td>13.20</td>\n",
       "      <td>13.20</td>\n",
       "    </tr>\n",
       "    <tr>\n",
       "      <th>656</th>\n",
       "      <td>alicia zhou</td>\n",
       "      <td>USA</td>\n",
       "      <td>VT</td>\n",
       "      <td>0.0</td>\n",
       "      <td>13.40</td>\n",
       "      <td>13.40</td>\n",
       "    </tr>\n",
       "    <tr>\n",
       "      <th>660</th>\n",
       "      <td>alicia zhou</td>\n",
       "      <td>USA</td>\n",
       "      <td>VT</td>\n",
       "      <td>0.0</td>\n",
       "      <td>12.90</td>\n",
       "      <td>12.90</td>\n",
       "    </tr>\n",
       "  </tbody>\n",
       "</table>\n",
       "<p>152 rows × 6 columns</p>\n",
       "</div>"
      ],
      "text/plain": [
       "              Name Country Apparatus  Rank  Score  Total_Score\n",
       "6     ciena alipio     USA        VT   0.0  11.95        11.95\n",
       "7     ciena alipio     USA        VT   0.0  13.20        13.20\n",
       "11    ciena alipio     USA        VT   0.0  13.20        13.20\n",
       "19   sydney barros     USA        VT   0.0  13.10        13.10\n",
       "26    simone biles     USA        VT   0.0  15.70        15.70\n",
       "..             ...     ...       ...   ...    ...          ...\n",
       "644     lexi zeiss     USA        VT   0.0  13.70        13.70\n",
       "648     lexi zeiss     USA        VT   0.0  13.45        13.45\n",
       "655    alicia zhou     USA        VT   0.0  13.20        13.20\n",
       "656    alicia zhou     USA        VT   0.0  13.40        13.40\n",
       "660    alicia zhou     USA        VT   0.0  12.90        12.90\n",
       "\n",
       "[152 rows x 6 columns]"
      ]
     },
     "execution_count": 19,
     "metadata": {},
     "output_type": "execute_result"
    }
   ],
   "source": [
    "wvt"
   ]
  },
  {
   "cell_type": "code",
   "execution_count": 20,
   "id": "84b359f6",
   "metadata": {
    "scrolled": true
   },
   "outputs": [
    {
     "data": {
      "text/html": [
       "<div>\n",
       "<style scoped>\n",
       "    .dataframe tbody tr th:only-of-type {\n",
       "        vertical-align: middle;\n",
       "    }\n",
       "\n",
       "    .dataframe tbody tr th {\n",
       "        vertical-align: top;\n",
       "    }\n",
       "\n",
       "    .dataframe thead th {\n",
       "        text-align: right;\n",
       "    }\n",
       "</style>\n",
       "<table border=\"1\" class=\"dataframe\">\n",
       "  <thead>\n",
       "    <tr style=\"text-align: right;\">\n",
       "      <th></th>\n",
       "      <th>Rank</th>\n",
       "      <th>Name</th>\n",
       "      <th>nation</th>\n",
       "      <th>Total</th>\n",
       "      <th>year</th>\n",
       "      <th>round</th>\n",
       "    </tr>\n",
       "  </thead>\n",
       "  <tbody>\n",
       "    <tr>\n",
       "      <th>0</th>\n",
       "      <td>1.0</td>\n",
       "      <td>Liu Jinru</td>\n",
       "      <td>CHN</td>\n",
       "      <td>14.283</td>\n",
       "      <td>2018.0</td>\n",
       "      <td>final</td>\n",
       "    </tr>\n",
       "    <tr>\n",
       "      <th>1</th>\n",
       "      <td>2.0</td>\n",
       "      <td>Angelina Melnikova</td>\n",
       "      <td>RUS</td>\n",
       "      <td>14.267</td>\n",
       "      <td>2018.0</td>\n",
       "      <td>final</td>\n",
       "    </tr>\n",
       "    <tr>\n",
       "      <th>2</th>\n",
       "      <td>3.0</td>\n",
       "      <td>Eleonora Afanasyeva</td>\n",
       "      <td>RUS</td>\n",
       "      <td>14.217</td>\n",
       "      <td>2018.0</td>\n",
       "      <td>final</td>\n",
       "    </tr>\n",
       "    <tr>\n",
       "      <th>3</th>\n",
       "      <td>4.0</td>\n",
       "      <td>Denisa Golgota</td>\n",
       "      <td>ROU</td>\n",
       "      <td>14.067</td>\n",
       "      <td>2018.0</td>\n",
       "      <td>final</td>\n",
       "    </tr>\n",
       "    <tr>\n",
       "      <th>4</th>\n",
       "      <td>5.0</td>\n",
       "      <td>Grace McCallum</td>\n",
       "      <td>USA</td>\n",
       "      <td>14.017</td>\n",
       "      <td>2018.0</td>\n",
       "      <td>final</td>\n",
       "    </tr>\n",
       "    <tr>\n",
       "      <th>...</th>\n",
       "      <td>...</td>\n",
       "      <td>...</td>\n",
       "      <td>...</td>\n",
       "      <td>...</td>\n",
       "      <td>...</td>\n",
       "      <td>...</td>\n",
       "    </tr>\n",
       "    <tr>\n",
       "      <th>2303</th>\n",
       "      <td>4.0</td>\n",
       "      <td>Noel van Klaveren</td>\n",
       "      <td>NED</td>\n",
       "      <td>14.866</td>\n",
       "      <td>2015.0</td>\n",
       "      <td>final</td>\n",
       "    </tr>\n",
       "    <tr>\n",
       "      <th>2304</th>\n",
       "      <td>5.0</td>\n",
       "      <td>Ellie Downie</td>\n",
       "      <td>GBR</td>\n",
       "      <td>14.516</td>\n",
       "      <td>2015.0</td>\n",
       "      <td>final</td>\n",
       "    </tr>\n",
       "    <tr>\n",
       "      <th>2305</th>\n",
       "      <td>6.0</td>\n",
       "      <td>Claudia Fragapane</td>\n",
       "      <td>GBR</td>\n",
       "      <td>14.083</td>\n",
       "      <td>2015.0</td>\n",
       "      <td>final</td>\n",
       "    </tr>\n",
       "    <tr>\n",
       "      <th>2306</th>\n",
       "      <td>7.0</td>\n",
       "      <td>Camille Bahl</td>\n",
       "      <td>FRA</td>\n",
       "      <td>14.066</td>\n",
       "      <td>2015.0</td>\n",
       "      <td>final</td>\n",
       "    </tr>\n",
       "    <tr>\n",
       "      <th>2307</th>\n",
       "      <td>8.0</td>\n",
       "      <td>Teja Belak</td>\n",
       "      <td>SLO</td>\n",
       "      <td>13.216</td>\n",
       "      <td>2015.0</td>\n",
       "      <td>final</td>\n",
       "    </tr>\n",
       "  </tbody>\n",
       "</table>\n",
       "<p>2308 rows × 6 columns</p>\n",
       "</div>"
      ],
      "text/plain": [
       "      Rank                 Name nation   Total    year  round\n",
       "0      1.0            Liu Jinru    CHN  14.283  2018.0  final\n",
       "1      2.0   Angelina Melnikova    RUS  14.267  2018.0  final\n",
       "2      3.0  Eleonora Afanasyeva    RUS  14.217  2018.0  final\n",
       "3      4.0       Denisa Golgota    ROU  14.067  2018.0  final\n",
       "4      5.0       Grace McCallum    USA  14.017  2018.0  final\n",
       "...    ...                  ...    ...     ...     ...    ...\n",
       "2303   4.0    Noel van Klaveren    NED  14.866  2015.0  final\n",
       "2304   5.0         Ellie Downie    GBR  14.516  2015.0  final\n",
       "2305   6.0    Claudia Fragapane    GBR  14.083  2015.0  final\n",
       "2306   7.0         Camille Bahl    FRA  14.066  2015.0  final\n",
       "2307   8.0           Teja Belak    SLO  13.216  2015.0  final\n",
       "\n",
       "[2308 rows x 6 columns]"
      ]
     },
     "execution_count": 20,
     "metadata": {},
     "output_type": "execute_result"
    }
   ],
   "source": [
    "vt"
   ]
  },
  {
   "cell_type": "code",
   "execution_count": 21,
   "id": "b5d4daab",
   "metadata": {},
   "outputs": [],
   "source": [
    "column_name_mapping = {\n",
    "    'Country': 'nation',\n",
    "    'D_Score': 'D Score',\n",
    "    'E_Score': 'E Score',\n",
    "    'Penalty': 'Pen.',\n",
    "    'Score': 'Total'\n",
    "    \n",
    "}\n",
    "\n",
    "# Use the 'rename' method to rename the columns\n",
    "wbb = wbb.rename(columns=column_name_mapping)\n",
    "wvt = wvt.rename(columns=column_name_mapping)\n",
    "wub = wub.rename(columns=column_name_mapping)\n",
    "wfx = wfx.rename(columns=column_name_mapping)\n",
    "\n"
   ]
  },
  {
   "cell_type": "code",
   "execution_count": 22,
   "id": "17ad11dc",
   "metadata": {},
   "outputs": [],
   "source": [
    "wbb=wbb.drop(columns=['Total_Score', 'Apparatus'])"
   ]
  },
  {
   "cell_type": "code",
   "execution_count": 23,
   "id": "0ca80e67",
   "metadata": {},
   "outputs": [],
   "source": [
    "wub=wub.drop(columns=['Total_Score', 'Apparatus'])\n",
    "wvt=wvt.drop(columns=['Total_Score', 'Apparatus'])\n",
    "wfx=wfx.drop(columns=['Total_Score', 'Apparatus'])"
   ]
  },
  {
   "cell_type": "code",
   "execution_count": 24,
   "id": "3efc2ba3",
   "metadata": {},
   "outputs": [
    {
     "data": {
      "text/html": [
       "<div>\n",
       "<style scoped>\n",
       "    .dataframe tbody tr th:only-of-type {\n",
       "        vertical-align: middle;\n",
       "    }\n",
       "\n",
       "    .dataframe tbody tr th {\n",
       "        vertical-align: top;\n",
       "    }\n",
       "\n",
       "    .dataframe thead th {\n",
       "        text-align: right;\n",
       "    }\n",
       "</style>\n",
       "<table border=\"1\" class=\"dataframe\">\n",
       "  <thead>\n",
       "    <tr style=\"text-align: right;\">\n",
       "      <th></th>\n",
       "      <th>Name</th>\n",
       "      <th>nation</th>\n",
       "      <th>Rank</th>\n",
       "      <th>Total</th>\n",
       "    </tr>\n",
       "  </thead>\n",
       "  <tbody>\n",
       "    <tr>\n",
       "      <th>6</th>\n",
       "      <td>ciena alipio</td>\n",
       "      <td>USA</td>\n",
       "      <td>0.0</td>\n",
       "      <td>11.95</td>\n",
       "    </tr>\n",
       "    <tr>\n",
       "      <th>7</th>\n",
       "      <td>ciena alipio</td>\n",
       "      <td>USA</td>\n",
       "      <td>0.0</td>\n",
       "      <td>13.20</td>\n",
       "    </tr>\n",
       "    <tr>\n",
       "      <th>11</th>\n",
       "      <td>ciena alipio</td>\n",
       "      <td>USA</td>\n",
       "      <td>0.0</td>\n",
       "      <td>13.20</td>\n",
       "    </tr>\n",
       "    <tr>\n",
       "      <th>19</th>\n",
       "      <td>sydney barros</td>\n",
       "      <td>USA</td>\n",
       "      <td>0.0</td>\n",
       "      <td>13.10</td>\n",
       "    </tr>\n",
       "    <tr>\n",
       "      <th>26</th>\n",
       "      <td>simone biles</td>\n",
       "      <td>USA</td>\n",
       "      <td>0.0</td>\n",
       "      <td>15.70</td>\n",
       "    </tr>\n",
       "    <tr>\n",
       "      <th>...</th>\n",
       "      <td>...</td>\n",
       "      <td>...</td>\n",
       "      <td>...</td>\n",
       "      <td>...</td>\n",
       "    </tr>\n",
       "    <tr>\n",
       "      <th>644</th>\n",
       "      <td>lexi zeiss</td>\n",
       "      <td>USA</td>\n",
       "      <td>0.0</td>\n",
       "      <td>13.70</td>\n",
       "    </tr>\n",
       "    <tr>\n",
       "      <th>648</th>\n",
       "      <td>lexi zeiss</td>\n",
       "      <td>USA</td>\n",
       "      <td>0.0</td>\n",
       "      <td>13.45</td>\n",
       "    </tr>\n",
       "    <tr>\n",
       "      <th>655</th>\n",
       "      <td>alicia zhou</td>\n",
       "      <td>USA</td>\n",
       "      <td>0.0</td>\n",
       "      <td>13.20</td>\n",
       "    </tr>\n",
       "    <tr>\n",
       "      <th>656</th>\n",
       "      <td>alicia zhou</td>\n",
       "      <td>USA</td>\n",
       "      <td>0.0</td>\n",
       "      <td>13.40</td>\n",
       "    </tr>\n",
       "    <tr>\n",
       "      <th>660</th>\n",
       "      <td>alicia zhou</td>\n",
       "      <td>USA</td>\n",
       "      <td>0.0</td>\n",
       "      <td>12.90</td>\n",
       "    </tr>\n",
       "  </tbody>\n",
       "</table>\n",
       "<p>152 rows × 4 columns</p>\n",
       "</div>"
      ],
      "text/plain": [
       "              Name nation  Rank  Total\n",
       "6     ciena alipio    USA   0.0  11.95\n",
       "7     ciena alipio    USA   0.0  13.20\n",
       "11    ciena alipio    USA   0.0  13.20\n",
       "19   sydney barros    USA   0.0  13.10\n",
       "26    simone biles    USA   0.0  15.70\n",
       "..             ...    ...   ...    ...\n",
       "644     lexi zeiss    USA   0.0  13.70\n",
       "648     lexi zeiss    USA   0.0  13.45\n",
       "655    alicia zhou    USA   0.0  13.20\n",
       "656    alicia zhou    USA   0.0  13.40\n",
       "660    alicia zhou    USA   0.0  12.90\n",
       "\n",
       "[152 rows x 4 columns]"
      ]
     },
     "execution_count": 24,
     "metadata": {},
     "output_type": "execute_result"
    }
   ],
   "source": [
    "wvt"
   ]
  },
  {
   "cell_type": "code",
   "execution_count": 25,
   "id": "6cf49bd5",
   "metadata": {},
   "outputs": [],
   "source": [
    "new_column_order = ['Rank', 'Name', 'nation', 'D Score', \n",
    "                    'E Score', 'Pen.', 'Total']\n",
    "\n",
    "# Rearrange the DataFrame columns based on the new order\n",
    "wbb = wbb[new_column_order]\n",
    "wub = wub[new_column_order]\n",
    "# wvt = wvt[new_column_order]\n",
    "wfx = wfx[new_column_order]"
   ]
  },
  {
   "cell_type": "code",
   "execution_count": 26,
   "id": "6e2b42fb",
   "metadata": {},
   "outputs": [],
   "source": [
    "bb = bb[bb['year'] > 2020]\n",
    "vt = vt[vt['year'] > 2020]\n",
    "ub = ub[ub['year'] > 2020]\n",
    "fx = fx[fx['year'] > 2020]"
   ]
  },
  {
   "cell_type": "code",
   "execution_count": 27,
   "id": "3bb771a4",
   "metadata": {},
   "outputs": [
    {
     "data": {
      "text/html": [
       "<div>\n",
       "<style scoped>\n",
       "    .dataframe tbody tr th:only-of-type {\n",
       "        vertical-align: middle;\n",
       "    }\n",
       "\n",
       "    .dataframe tbody tr th {\n",
       "        vertical-align: top;\n",
       "    }\n",
       "\n",
       "    .dataframe thead th {\n",
       "        text-align: right;\n",
       "    }\n",
       "</style>\n",
       "<table border=\"1\" class=\"dataframe\">\n",
       "  <thead>\n",
       "    <tr style=\"text-align: right;\">\n",
       "      <th></th>\n",
       "      <th>Name</th>\n",
       "      <th>nation</th>\n",
       "      <th>Rank</th>\n",
       "      <th>Total</th>\n",
       "    </tr>\n",
       "  </thead>\n",
       "  <tbody>\n",
       "    <tr>\n",
       "      <th>6</th>\n",
       "      <td>ciena alipio</td>\n",
       "      <td>USA</td>\n",
       "      <td>0.0</td>\n",
       "      <td>11.95</td>\n",
       "    </tr>\n",
       "    <tr>\n",
       "      <th>7</th>\n",
       "      <td>ciena alipio</td>\n",
       "      <td>USA</td>\n",
       "      <td>0.0</td>\n",
       "      <td>13.20</td>\n",
       "    </tr>\n",
       "    <tr>\n",
       "      <th>11</th>\n",
       "      <td>ciena alipio</td>\n",
       "      <td>USA</td>\n",
       "      <td>0.0</td>\n",
       "      <td>13.20</td>\n",
       "    </tr>\n",
       "    <tr>\n",
       "      <th>19</th>\n",
       "      <td>sydney barros</td>\n",
       "      <td>USA</td>\n",
       "      <td>0.0</td>\n",
       "      <td>13.10</td>\n",
       "    </tr>\n",
       "    <tr>\n",
       "      <th>26</th>\n",
       "      <td>simone biles</td>\n",
       "      <td>USA</td>\n",
       "      <td>0.0</td>\n",
       "      <td>15.70</td>\n",
       "    </tr>\n",
       "  </tbody>\n",
       "</table>\n",
       "</div>"
      ],
      "text/plain": [
       "             Name nation  Rank  Total\n",
       "6    ciena alipio    USA   0.0  11.95\n",
       "7    ciena alipio    USA   0.0  13.20\n",
       "11   ciena alipio    USA   0.0  13.20\n",
       "19  sydney barros    USA   0.0  13.10\n",
       "26   simone biles    USA   0.0  15.70"
      ]
     },
     "execution_count": 27,
     "metadata": {},
     "output_type": "execute_result"
    }
   ],
   "source": [
    "wvt.head()"
   ]
  },
  {
   "cell_type": "code",
   "execution_count": 28,
   "id": "bfc6f4ed",
   "metadata": {},
   "outputs": [],
   "source": [
    "bb=bb.drop(columns=['year', 'round'])\n",
    "fx=fx.drop(columns=['year', 'round'])\n",
    "ub=ub.drop(columns=['year', 'round'])\n",
    "vt=vt.drop(columns=['year', 'round'])\n"
   ]
  },
  {
   "cell_type": "code",
   "execution_count": 29,
   "id": "7bc7f890",
   "metadata": {},
   "outputs": [],
   "source": [
    "dfbb = pd.concat([wbb, bb], axis=0)\n",
    "dfub = pd.concat([wub, ub], axis=0)\n",
    "dffx = pd.concat([wfx, fx], axis=0)\n",
    "dfvt = pd.concat([wvt, vt], axis=0)\n"
   ]
  },
  {
   "cell_type": "code",
   "execution_count": 30,
   "id": "c5dd5cb3",
   "metadata": {},
   "outputs": [],
   "source": [
    "dfbb = dfbb.drop_duplicates()\n",
    "dfub = dfub.drop_duplicates()\n",
    "dffx = dffx.drop_duplicates()\n",
    "dfvt = dfvt.drop_duplicates()"
   ]
  },
  {
   "cell_type": "code",
   "execution_count": 31,
   "id": "298d47b5",
   "metadata": {},
   "outputs": [
    {
     "name": "stdout",
     "output_type": "stream",
     "text": [
      "<class 'pandas.core.frame.DataFrame'>\n",
      "Index: 2155 entries, 0 to 2197\n",
      "Data columns (total 7 columns):\n",
      " #   Column   Non-Null Count  Dtype  \n",
      "---  ------   --------------  -----  \n",
      " 0   Rank     2155 non-null   float64\n",
      " 1   Name     2155 non-null   object \n",
      " 2   nation   2154 non-null   object \n",
      " 3   D Score  2155 non-null   float64\n",
      " 4   E Score  2155 non-null   float64\n",
      " 5   Pen.     1998 non-null   float64\n",
      " 6   Total    2155 non-null   float64\n",
      "dtypes: float64(5), object(2)\n",
      "memory usage: 134.7+ KB\n"
     ]
    }
   ],
   "source": [
    "dfbb.info()"
   ]
  },
  {
   "cell_type": "code",
   "execution_count": 32,
   "id": "b289f0b8",
   "metadata": {},
   "outputs": [],
   "source": [
    "usa_bb = dfbb[dfbb['nation']== 'USA']\n",
    "usa_ub = dfub[dfub['nation']== 'USA']\n",
    "usa_fx = dffx[dffx['nation']== 'USA']\n",
    "usa_vt = dfvt[dfvt['nation']== 'USA']\n"
   ]
  },
  {
   "cell_type": "code",
   "execution_count": 33,
   "id": "7d060ef7",
   "metadata": {},
   "outputs": [
    {
     "name": "stderr",
     "output_type": "stream",
     "text": [
      "/var/folders/j_/555m2zps099832fjh_m8jjnc0000gn/T/ipykernel_25431/916601040.py:1: SettingWithCopyWarning: \n",
      "A value is trying to be set on a copy of a slice from a DataFrame.\n",
      "Try using .loc[row_indexer,col_indexer] = value instead\n",
      "\n",
      "See the caveats in the documentation: https://pandas.pydata.org/pandas-docs/stable/user_guide/indexing.html#returning-a-view-versus-a-copy\n",
      "  usa_ub['Name'] = usa_ub['Name'].str.lower()\n",
      "/var/folders/j_/555m2zps099832fjh_m8jjnc0000gn/T/ipykernel_25431/916601040.py:2: SettingWithCopyWarning: \n",
      "A value is trying to be set on a copy of a slice from a DataFrame.\n",
      "Try using .loc[row_indexer,col_indexer] = value instead\n",
      "\n",
      "See the caveats in the documentation: https://pandas.pydata.org/pandas-docs/stable/user_guide/indexing.html#returning-a-view-versus-a-copy\n",
      "  usa_bb['Name'] = usa_bb['Name'].str.lower()\n",
      "/var/folders/j_/555m2zps099832fjh_m8jjnc0000gn/T/ipykernel_25431/916601040.py:3: SettingWithCopyWarning: \n",
      "A value is trying to be set on a copy of a slice from a DataFrame.\n",
      "Try using .loc[row_indexer,col_indexer] = value instead\n",
      "\n",
      "See the caveats in the documentation: https://pandas.pydata.org/pandas-docs/stable/user_guide/indexing.html#returning-a-view-versus-a-copy\n",
      "  usa_fx['Name'] = usa_fx['Name'].str.lower()\n",
      "/var/folders/j_/555m2zps099832fjh_m8jjnc0000gn/T/ipykernel_25431/916601040.py:4: SettingWithCopyWarning: \n",
      "A value is trying to be set on a copy of a slice from a DataFrame.\n",
      "Try using .loc[row_indexer,col_indexer] = value instead\n",
      "\n",
      "See the caveats in the documentation: https://pandas.pydata.org/pandas-docs/stable/user_guide/indexing.html#returning-a-view-versus-a-copy\n",
      "  usa_vt['Name'] = usa_vt['Name'].str.lower()\n"
     ]
    }
   ],
   "source": [
    "usa_ub['Name'] = usa_ub['Name'].str.lower()\n",
    "usa_bb['Name'] = usa_bb['Name'].str.lower()\n",
    "usa_fx['Name'] = usa_fx['Name'].str.lower()\n",
    "usa_vt['Name'] = usa_vt['Name'].str.lower()"
   ]
  },
  {
   "cell_type": "code",
   "execution_count": 34,
   "id": "77846da2",
   "metadata": {},
   "outputs": [],
   "source": [
    "bbt=usa_bb.sort_values(by='Total', ascending=False)"
   ]
  },
  {
   "cell_type": "code",
   "execution_count": 35,
   "id": "c17231ef",
   "metadata": {},
   "outputs": [],
   "source": [
    "ubt=usa_ub.sort_values(by='Total', ascending=False)"
   ]
  },
  {
   "cell_type": "code",
   "execution_count": 36,
   "id": "528755b8",
   "metadata": {},
   "outputs": [],
   "source": [
    "fxt=usa_fx.sort_values(by='Total', ascending=False)"
   ]
  },
  {
   "cell_type": "code",
   "execution_count": 37,
   "id": "6ebe90f0",
   "metadata": {},
   "outputs": [],
   "source": [
    "vtt=usa_vt.sort_values(by='Total', ascending=False)"
   ]
  },
  {
   "cell_type": "code",
   "execution_count": 38,
   "id": "48465c1b",
   "metadata": {},
   "outputs": [],
   "source": [
    "bbtz = bbt.head(15)"
   ]
  },
  {
   "cell_type": "code",
   "execution_count": 39,
   "id": "70acc170",
   "metadata": {},
   "outputs": [],
   "source": [
    "ubtz=ubt.head(15)"
   ]
  },
  {
   "cell_type": "code",
   "execution_count": 40,
   "id": "8b47c65d",
   "metadata": {},
   "outputs": [
    {
     "data": {
      "text/html": [
       "<div>\n",
       "<style scoped>\n",
       "    .dataframe tbody tr th:only-of-type {\n",
       "        vertical-align: middle;\n",
       "    }\n",
       "\n",
       "    .dataframe tbody tr th {\n",
       "        vertical-align: top;\n",
       "    }\n",
       "\n",
       "    .dataframe thead th {\n",
       "        text-align: right;\n",
       "    }\n",
       "</style>\n",
       "<table border=\"1\" class=\"dataframe\">\n",
       "  <thead>\n",
       "    <tr style=\"text-align: right;\">\n",
       "      <th></th>\n",
       "      <th>Rank</th>\n",
       "      <th>Name</th>\n",
       "      <th>nation</th>\n",
       "      <th>D Score</th>\n",
       "      <th>E Score</th>\n",
       "      <th>Pen.</th>\n",
       "      <th>Total</th>\n",
       "    </tr>\n",
       "  </thead>\n",
       "  <tbody>\n",
       "    <tr>\n",
       "      <th>263</th>\n",
       "      <td>0.0</td>\n",
       "      <td>shilese jones</td>\n",
       "      <td>USA</td>\n",
       "      <td>6.3</td>\n",
       "      <td>8.700</td>\n",
       "      <td>0.0</td>\n",
       "      <td>15.000</td>\n",
       "    </tr>\n",
       "    <tr>\n",
       "      <th>262</th>\n",
       "      <td>0.0</td>\n",
       "      <td>shilese jones</td>\n",
       "      <td>USA</td>\n",
       "      <td>6.3</td>\n",
       "      <td>8.600</td>\n",
       "      <td>0.0</td>\n",
       "      <td>14.900</td>\n",
       "    </tr>\n",
       "    <tr>\n",
       "      <th>920</th>\n",
       "      <td>1.0</td>\n",
       "      <td>zoe miller</td>\n",
       "      <td>USA</td>\n",
       "      <td>6.4</td>\n",
       "      <td>8.450</td>\n",
       "      <td>0.0</td>\n",
       "      <td>14.850</td>\n",
       "    </tr>\n",
       "    <tr>\n",
       "      <th>254</th>\n",
       "      <td>0.0</td>\n",
       "      <td>shilese jones</td>\n",
       "      <td>USA</td>\n",
       "      <td>6.3</td>\n",
       "      <td>8.550</td>\n",
       "      <td>0.0</td>\n",
       "      <td>14.850</td>\n",
       "    </tr>\n",
       "    <tr>\n",
       "      <th>363</th>\n",
       "      <td>1.0</td>\n",
       "      <td>zoe miller</td>\n",
       "      <td>USA</td>\n",
       "      <td>6.4</td>\n",
       "      <td>8.450</td>\n",
       "      <td>0.0</td>\n",
       "      <td>14.850</td>\n",
       "    </tr>\n",
       "    <tr>\n",
       "      <th>611</th>\n",
       "      <td>2.0</td>\n",
       "      <td>shilese jones</td>\n",
       "      <td>USA</td>\n",
       "      <td>6.4</td>\n",
       "      <td>8.433</td>\n",
       "      <td>0.0</td>\n",
       "      <td>14.833</td>\n",
       "    </tr>\n",
       "    <tr>\n",
       "      <th>238</th>\n",
       "      <td>2.0</td>\n",
       "      <td>shilese jones</td>\n",
       "      <td>USA</td>\n",
       "      <td>6.4</td>\n",
       "      <td>8.366</td>\n",
       "      <td>0.0</td>\n",
       "      <td>14.766</td>\n",
       "    </tr>\n",
       "    <tr>\n",
       "      <th>610</th>\n",
       "      <td>3.0</td>\n",
       "      <td>shilese jones</td>\n",
       "      <td>USA</td>\n",
       "      <td>6.3</td>\n",
       "      <td>8.466</td>\n",
       "      <td>0.0</td>\n",
       "      <td>14.766</td>\n",
       "    </tr>\n",
       "    <tr>\n",
       "      <th>607</th>\n",
       "      <td>2.0</td>\n",
       "      <td>shilese jones</td>\n",
       "      <td>USA</td>\n",
       "      <td>6.4</td>\n",
       "      <td>8.366</td>\n",
       "      <td>0.0</td>\n",
       "      <td>14.766</td>\n",
       "    </tr>\n",
       "    <tr>\n",
       "      <th>922</th>\n",
       "      <td>1.0</td>\n",
       "      <td>zoe miller</td>\n",
       "      <td>USA</td>\n",
       "      <td>6.4</td>\n",
       "      <td>8.366</td>\n",
       "      <td>0.0</td>\n",
       "      <td>14.766</td>\n",
       "    </tr>\n",
       "    <tr>\n",
       "      <th>917</th>\n",
       "      <td>1.0</td>\n",
       "      <td>zoe miller</td>\n",
       "      <td>USA</td>\n",
       "      <td>6.4</td>\n",
       "      <td>8.350</td>\n",
       "      <td>0.0</td>\n",
       "      <td>14.750</td>\n",
       "    </tr>\n",
       "    <tr>\n",
       "      <th>921</th>\n",
       "      <td>1.0</td>\n",
       "      <td>zoe miller</td>\n",
       "      <td>USA</td>\n",
       "      <td>6.4</td>\n",
       "      <td>8.266</td>\n",
       "      <td>0.0</td>\n",
       "      <td>14.666</td>\n",
       "    </tr>\n",
       "    <tr>\n",
       "      <th>362</th>\n",
       "      <td>1.0</td>\n",
       "      <td>zoe miller</td>\n",
       "      <td>USA</td>\n",
       "      <td>6.4</td>\n",
       "      <td>8.233</td>\n",
       "      <td>0.0</td>\n",
       "      <td>14.633</td>\n",
       "    </tr>\n",
       "    <tr>\n",
       "      <th>919</th>\n",
       "      <td>1.0</td>\n",
       "      <td>zoe miller</td>\n",
       "      <td>USA</td>\n",
       "      <td>6.4</td>\n",
       "      <td>8.233</td>\n",
       "      <td>0.0</td>\n",
       "      <td>14.633</td>\n",
       "    </tr>\n",
       "    <tr>\n",
       "      <th>609</th>\n",
       "      <td>4.0</td>\n",
       "      <td>shilese jones</td>\n",
       "      <td>USA</td>\n",
       "      <td>6.3</td>\n",
       "      <td>8.333</td>\n",
       "      <td>0.0</td>\n",
       "      <td>14.633</td>\n",
       "    </tr>\n",
       "  </tbody>\n",
       "</table>\n",
       "</div>"
      ],
      "text/plain": [
       "     Rank           Name nation  D Score  E Score  Pen.   Total\n",
       "263   0.0  shilese jones    USA      6.3    8.700   0.0  15.000\n",
       "262   0.0  shilese jones    USA      6.3    8.600   0.0  14.900\n",
       "920   1.0     zoe miller    USA      6.4    8.450   0.0  14.850\n",
       "254   0.0  shilese jones    USA      6.3    8.550   0.0  14.850\n",
       "363   1.0     zoe miller    USA      6.4    8.450   0.0  14.850\n",
       "611   2.0  shilese jones    USA      6.4    8.433   0.0  14.833\n",
       "238   2.0  shilese jones    USA      6.4    8.366   0.0  14.766\n",
       "610   3.0  shilese jones    USA      6.3    8.466   0.0  14.766\n",
       "607   2.0  shilese jones    USA      6.4    8.366   0.0  14.766\n",
       "922   1.0     zoe miller    USA      6.4    8.366   0.0  14.766\n",
       "917   1.0     zoe miller    USA      6.4    8.350   0.0  14.750\n",
       "921   1.0     zoe miller    USA      6.4    8.266   0.0  14.666\n",
       "362   1.0     zoe miller    USA      6.4    8.233   0.0  14.633\n",
       "919   1.0     zoe miller    USA      6.4    8.233   0.0  14.633\n",
       "609   4.0  shilese jones    USA      6.3    8.333   0.0  14.633"
      ]
     },
     "execution_count": 40,
     "metadata": {},
     "output_type": "execute_result"
    }
   ],
   "source": [
    "ubt.head(15)"
   ]
  },
  {
   "cell_type": "code",
   "execution_count": 41,
   "id": "51366b7f",
   "metadata": {},
   "outputs": [],
   "source": [
    "fxtz=fxt.head(15)"
   ]
  },
  {
   "cell_type": "code",
   "execution_count": 42,
   "id": "91e77b65",
   "metadata": {},
   "outputs": [],
   "source": [
    "vttz=vtt.head(15)"
   ]
  },
  {
   "cell_type": "code",
   "execution_count": 43,
   "id": "a5e4e0e9",
   "metadata": {},
   "outputs": [],
   "source": [
    "bbs = bbt[['Name']].drop_duplicates()"
   ]
  },
  {
   "cell_type": "code",
   "execution_count": 44,
   "id": "5df5cb03",
   "metadata": {},
   "outputs": [],
   "source": [
    "ubs = ubt[['Name']].drop_duplicates()"
   ]
  },
  {
   "cell_type": "code",
   "execution_count": 45,
   "id": "7815befd",
   "metadata": {},
   "outputs": [],
   "source": [
    "fxs = fxt[['Name']].drop_duplicates()"
   ]
  },
  {
   "cell_type": "code",
   "execution_count": 46,
   "id": "344c8f29",
   "metadata": {},
   "outputs": [],
   "source": [
    "vts = vtt[['Name']].drop_duplicates()"
   ]
  },
  {
   "cell_type": "code",
   "execution_count": 47,
   "id": "513a1f20",
   "metadata": {},
   "outputs": [
    {
     "data": {
      "text/plain": [
       "array(['shilese jones', 'zoe miller'], dtype=object)"
      ]
     },
     "execution_count": 47,
     "metadata": {},
     "output_type": "execute_result"
    }
   ],
   "source": [
    "ubtz['Name'].unique()"
   ]
  },
  {
   "cell_type": "code",
   "execution_count": 48,
   "id": "be8515a9",
   "metadata": {},
   "outputs": [
    {
     "data": {
      "text/plain": [
       "array(['simone biles', 'kaliya lincoln', 'shilese jones', 'jade carey',\n",
       "       'joscelyn roberson'], dtype=object)"
      ]
     },
     "execution_count": 48,
     "metadata": {},
     "output_type": "execute_result"
    }
   ],
   "source": [
    "fxtz['Name'].unique()"
   ]
  },
  {
   "cell_type": "code",
   "execution_count": 49,
   "id": "ce05fe12",
   "metadata": {},
   "outputs": [
    {
     "data": {
      "text/plain": [
       "array(['simone biles', 'konnor mcclain', 'sunisa lee', 'shilese jones',\n",
       "       'skye blakely', 'joscelyn roberson'], dtype=object)"
      ]
     },
     "execution_count": 49,
     "metadata": {},
     "output_type": "execute_result"
    }
   ],
   "source": [
    "bbtz['Name'].unique()"
   ]
  },
  {
   "cell_type": "code",
   "execution_count": 50,
   "id": "cc5049bc",
   "metadata": {},
   "outputs": [
    {
     "data": {
      "text/plain": [
       "array(['simone biles', 'jade carey', 'joscelyn roberson'], dtype=object)"
      ]
     },
     "execution_count": 50,
     "metadata": {},
     "output_type": "execute_result"
    }
   ],
   "source": [
    "vttz['Name'].unique()"
   ]
  },
  {
   "cell_type": "code",
   "execution_count": 51,
   "id": "f2237e83",
   "metadata": {},
   "outputs": [],
   "source": [
    "# sorted_names = ['simone biles', 'konnor mcclain', 'shilese jones', 'skye blakely',\n",
    "#        'sunisa lee', 'ciena alipio', 'tiana sumanasekera',\n",
    "#        'ashlee sullivan', 'kayla dicello']\n",
    "\n",
    "# # Filter the DataFrame based on the list of names\n",
    "# bb_names = usa_bb[usa_bb['Name'].isin(sorted_names)]\n",
    "\n",
    "\n",
    "sorted_names = ['simone biles', 'konnor mcclain', 'sunisa lee', 'shilese jones',\n",
    "       'skye blakely', 'joscelyn roberson']\n",
    "\n",
    "# Filter the DataFrame based on the list of names\n",
    "bb_names = usa_bb[usa_bb['Name'].isin(sorted_names)]\n"
   ]
  },
  {
   "cell_type": "code",
   "execution_count": 52,
   "id": "3ac331d6",
   "metadata": {},
   "outputs": [],
   "source": [
    "# sorted_names=['shilese jones', 'zoe miller', 'skye blakely']\n",
    "\n",
    "# # Filter the DataFrame based on the list of names\n",
    "# ub_names = usa_ub[usa_ub['Name'].isin(sorted_names)]\n",
    "\n",
    "sorted_names=['shilese jones', 'zoe miller']\n",
    "\n",
    "# Filter the DataFrame based on the list of names\n",
    "ub_names = usa_ub[usa_ub['Name'].isin(sorted_names)]\n",
    "\n"
   ]
  },
  {
   "cell_type": "code",
   "execution_count": 53,
   "id": "1291cd5c",
   "metadata": {},
   "outputs": [],
   "source": [
    "# sorted_names = ['simone biles', 'kaliya lincoln', 'shilese jones', 'jade carey',\n",
    "#        'joscelyn roberson', 'jordan chiles']\n",
    "\n",
    "# # Filter the DataFrame based on the list of names\n",
    "# fx_names = usa_fx[usa_fx['Name'].isin(sorted_names)]\n",
    "\n",
    "\n",
    "sorted_names = ['simone biles', 'kaliya lincoln', 'shilese jones', 'jade carey',\n",
    "       'joscelyn roberson']\n",
    "\n",
    "# Filter the DataFrame based on the list of names\n",
    "fx_names = usa_fx[usa_fx['Name'].isin(sorted_names)]\n",
    "\n"
   ]
  },
  {
   "cell_type": "code",
   "execution_count": 54,
   "id": "48cc3439",
   "metadata": {},
   "outputs": [],
   "source": [
    "# sorted_names =['simone biles', 'jade carey', 'joscelyn roberson', 'shilese jones',\n",
    "#        'jordan chiles', 'konnor mcclain']\n",
    "\n",
    "# # Filter the DataFrame based on the list of names\n",
    "# vt_names = usa_vt[usa_vt['Name'].isin(sorted_names)]\n",
    "\n",
    "sorted_names = ['simone biles', 'jade carey', 'joscelyn roberson']\n",
    "\n",
    "# Filter the DataFrame based on the list of names\n",
    "vt_names = usa_vt[usa_vt['Name'].isin(sorted_names)]\n",
    "\n"
   ]
  },
  {
   "cell_type": "code",
   "execution_count": 55,
   "id": "b5e37ddc",
   "metadata": {},
   "outputs": [],
   "source": [
    "average_totals = bb_names.groupby('Name')['Total'].mean()\n",
    "\n",
    "# Create a new DataFrame from the Series\n",
    "average_totals_df = average_totals.reset_index(name='Average Total')\n"
   ]
  },
  {
   "cell_type": "code",
   "execution_count": 56,
   "id": "ba67a2f9",
   "metadata": {},
   "outputs": [],
   "source": [
    "bb=average_totals_df.sort_values(by='Average Total', ascending=False)"
   ]
  },
  {
   "cell_type": "code",
   "execution_count": 57,
   "id": "d2319cfe",
   "metadata": {},
   "outputs": [],
   "source": [
    "average_totals = ub_names.groupby('Name')['Total'].mean()\n",
    "\n",
    "# Create a new DataFrame from the Series\n",
    "average_totals_df = average_totals.reset_index(name='Average Total')\n"
   ]
  },
  {
   "cell_type": "code",
   "execution_count": 58,
   "id": "df1c4e36",
   "metadata": {},
   "outputs": [],
   "source": [
    "ub=average_totals_df.sort_values(by='Average Total', ascending=False)"
   ]
  },
  {
   "cell_type": "code",
   "execution_count": 59,
   "id": "90e6c6a9",
   "metadata": {},
   "outputs": [],
   "source": [
    "average_totals = fx_names.groupby('Name')['Total'].mean()\n",
    "\n",
    "# Create a new DataFrame from the Series\n",
    "average_totals_df = average_totals.reset_index(name='Average Total')\n"
   ]
  },
  {
   "cell_type": "code",
   "execution_count": 60,
   "id": "a1cdc033",
   "metadata": {},
   "outputs": [],
   "source": [
    "fx=average_totals_df.sort_values(by='Average Total', ascending=False)"
   ]
  },
  {
   "cell_type": "code",
   "execution_count": 61,
   "id": "3856779d",
   "metadata": {},
   "outputs": [],
   "source": [
    "average_totals = vt_names.groupby('Name')['Total'].mean()\n",
    "\n",
    "# Create a new DataFrame from the Series\n",
    "average_totals_df = average_totals.reset_index(name='Average Total')\n"
   ]
  },
  {
   "cell_type": "code",
   "execution_count": 62,
   "id": "23dafb57",
   "metadata": {},
   "outputs": [],
   "source": [
    "vt=average_totals_df.sort_values(by='Average Total', ascending=False)"
   ]
  },
  {
   "cell_type": "code",
   "execution_count": 63,
   "id": "761507c3",
   "metadata": {},
   "outputs": [],
   "source": [
    "bb = bb.head(6)"
   ]
  },
  {
   "cell_type": "code",
   "execution_count": 64,
   "id": "639d0d77",
   "metadata": {},
   "outputs": [],
   "source": [
    "bb['apparatus']='bb'"
   ]
  },
  {
   "cell_type": "code",
   "execution_count": 65,
   "id": "3839e925",
   "metadata": {},
   "outputs": [],
   "source": [
    "ub['apparatus']='ub'"
   ]
  },
  {
   "cell_type": "code",
   "execution_count": 66,
   "id": "783a0fcf",
   "metadata": {},
   "outputs": [],
   "source": [
    "fx['apparatus']='fx'"
   ]
  },
  {
   "cell_type": "code",
   "execution_count": 67,
   "id": "6e6854ce",
   "metadata": {},
   "outputs": [],
   "source": [
    "vt['apparatus']='vt'"
   ]
  },
  {
   "cell_type": "code",
   "execution_count": 68,
   "id": "28eabc6a",
   "metadata": {},
   "outputs": [
    {
     "data": {
      "text/html": [
       "<div>\n",
       "<style scoped>\n",
       "    .dataframe tbody tr th:only-of-type {\n",
       "        vertical-align: middle;\n",
       "    }\n",
       "\n",
       "    .dataframe tbody tr th {\n",
       "        vertical-align: top;\n",
       "    }\n",
       "\n",
       "    .dataframe thead th {\n",
       "        text-align: right;\n",
       "    }\n",
       "</style>\n",
       "<table border=\"1\" class=\"dataframe\">\n",
       "  <thead>\n",
       "    <tr style=\"text-align: right;\">\n",
       "      <th></th>\n",
       "      <th>Name</th>\n",
       "      <th>Average Total</th>\n",
       "      <th>apparatus</th>\n",
       "    </tr>\n",
       "  </thead>\n",
       "  <tbody>\n",
       "    <tr>\n",
       "      <th>4</th>\n",
       "      <td>simone biles</td>\n",
       "      <td>14.816500</td>\n",
       "      <td>fx</td>\n",
       "    </tr>\n",
       "    <tr>\n",
       "      <th>2</th>\n",
       "      <td>kaliya lincoln</td>\n",
       "      <td>13.947571</td>\n",
       "      <td>fx</td>\n",
       "    </tr>\n",
       "    <tr>\n",
       "      <th>3</th>\n",
       "      <td>shilese jones</td>\n",
       "      <td>13.851455</td>\n",
       "      <td>fx</td>\n",
       "    </tr>\n",
       "    <tr>\n",
       "      <th>0</th>\n",
       "      <td>jade carey</td>\n",
       "      <td>13.828000</td>\n",
       "      <td>fx</td>\n",
       "    </tr>\n",
       "    <tr>\n",
       "      <th>1</th>\n",
       "      <td>joscelyn roberson</td>\n",
       "      <td>13.509167</td>\n",
       "      <td>fx</td>\n",
       "    </tr>\n",
       "  </tbody>\n",
       "</table>\n",
       "</div>"
      ],
      "text/plain": [
       "                Name  Average Total apparatus\n",
       "4       simone biles      14.816500        fx\n",
       "2     kaliya lincoln      13.947571        fx\n",
       "3      shilese jones      13.851455        fx\n",
       "0         jade carey      13.828000        fx\n",
       "1  joscelyn roberson      13.509167        fx"
      ]
     },
     "execution_count": 68,
     "metadata": {},
     "output_type": "execute_result"
    }
   ],
   "source": [
    "fx"
   ]
  },
  {
   "cell_type": "code",
   "execution_count": 69,
   "id": "2729b126",
   "metadata": {},
   "outputs": [
    {
     "data": {
      "text/html": [
       "<div>\n",
       "<style scoped>\n",
       "    .dataframe tbody tr th:only-of-type {\n",
       "        vertical-align: middle;\n",
       "    }\n",
       "\n",
       "    .dataframe tbody tr th {\n",
       "        vertical-align: top;\n",
       "    }\n",
       "\n",
       "    .dataframe thead th {\n",
       "        text-align: right;\n",
       "    }\n",
       "</style>\n",
       "<table border=\"1\" class=\"dataframe\">\n",
       "  <thead>\n",
       "    <tr style=\"text-align: right;\">\n",
       "      <th></th>\n",
       "      <th>Name</th>\n",
       "      <th>Average Total</th>\n",
       "      <th>apparatus</th>\n",
       "    </tr>\n",
       "  </thead>\n",
       "  <tbody>\n",
       "    <tr>\n",
       "      <th>2</th>\n",
       "      <td>simone biles</td>\n",
       "      <td>14.949714</td>\n",
       "      <td>vt</td>\n",
       "    </tr>\n",
       "    <tr>\n",
       "      <th>0</th>\n",
       "      <td>jade carey</td>\n",
       "      <td>14.546818</td>\n",
       "      <td>vt</td>\n",
       "    </tr>\n",
       "    <tr>\n",
       "      <th>1</th>\n",
       "      <td>joscelyn roberson</td>\n",
       "      <td>14.008667</td>\n",
       "      <td>vt</td>\n",
       "    </tr>\n",
       "  </tbody>\n",
       "</table>\n",
       "</div>"
      ],
      "text/plain": [
       "                Name  Average Total apparatus\n",
       "2       simone biles      14.949714        vt\n",
       "0         jade carey      14.546818        vt\n",
       "1  joscelyn roberson      14.008667        vt"
      ]
     },
     "execution_count": 69,
     "metadata": {},
     "output_type": "execute_result"
    }
   ],
   "source": [
    "vt"
   ]
  },
  {
   "cell_type": "code",
   "execution_count": 70,
   "id": "32889358",
   "metadata": {},
   "outputs": [],
   "source": [
    "top_women = pd.concat([bb, ub,fx, vt], axis=0)\n"
   ]
  },
  {
   "cell_type": "code",
   "execution_count": 71,
   "id": "555fba7f",
   "metadata": {},
   "outputs": [
    {
     "data": {
      "text/html": [
       "<div>\n",
       "<style scoped>\n",
       "    .dataframe tbody tr th:only-of-type {\n",
       "        vertical-align: middle;\n",
       "    }\n",
       "\n",
       "    .dataframe tbody tr th {\n",
       "        vertical-align: top;\n",
       "    }\n",
       "\n",
       "    .dataframe thead th {\n",
       "        text-align: right;\n",
       "    }\n",
       "</style>\n",
       "<table border=\"1\" class=\"dataframe\">\n",
       "  <thead>\n",
       "    <tr style=\"text-align: right;\">\n",
       "      <th></th>\n",
       "      <th>Name</th>\n",
       "      <th>Average Total</th>\n",
       "      <th>apparatus</th>\n",
       "    </tr>\n",
       "  </thead>\n",
       "  <tbody>\n",
       "    <tr>\n",
       "      <th>3</th>\n",
       "      <td>simone biles</td>\n",
       "      <td>14.619800</td>\n",
       "      <td>bb</td>\n",
       "    </tr>\n",
       "    <tr>\n",
       "      <th>1</th>\n",
       "      <td>konnor mcclain</td>\n",
       "      <td>14.525000</td>\n",
       "      <td>bb</td>\n",
       "    </tr>\n",
       "    <tr>\n",
       "      <th>5</th>\n",
       "      <td>sunisa lee</td>\n",
       "      <td>14.116667</td>\n",
       "      <td>bb</td>\n",
       "    </tr>\n",
       "    <tr>\n",
       "      <th>4</th>\n",
       "      <td>skye blakely</td>\n",
       "      <td>13.477286</td>\n",
       "      <td>bb</td>\n",
       "    </tr>\n",
       "    <tr>\n",
       "      <th>2</th>\n",
       "      <td>shilese jones</td>\n",
       "      <td>13.412000</td>\n",
       "      <td>bb</td>\n",
       "    </tr>\n",
       "    <tr>\n",
       "      <th>0</th>\n",
       "      <td>joscelyn roberson</td>\n",
       "      <td>13.095467</td>\n",
       "      <td>bb</td>\n",
       "    </tr>\n",
       "    <tr>\n",
       "      <th>0</th>\n",
       "      <td>shilese jones</td>\n",
       "      <td>14.613692</td>\n",
       "      <td>ub</td>\n",
       "    </tr>\n",
       "    <tr>\n",
       "      <th>1</th>\n",
       "      <td>zoe miller</td>\n",
       "      <td>14.042154</td>\n",
       "      <td>ub</td>\n",
       "    </tr>\n",
       "    <tr>\n",
       "      <th>4</th>\n",
       "      <td>simone biles</td>\n",
       "      <td>14.816500</td>\n",
       "      <td>fx</td>\n",
       "    </tr>\n",
       "    <tr>\n",
       "      <th>2</th>\n",
       "      <td>kaliya lincoln</td>\n",
       "      <td>13.947571</td>\n",
       "      <td>fx</td>\n",
       "    </tr>\n",
       "    <tr>\n",
       "      <th>3</th>\n",
       "      <td>shilese jones</td>\n",
       "      <td>13.851455</td>\n",
       "      <td>fx</td>\n",
       "    </tr>\n",
       "    <tr>\n",
       "      <th>0</th>\n",
       "      <td>jade carey</td>\n",
       "      <td>13.828000</td>\n",
       "      <td>fx</td>\n",
       "    </tr>\n",
       "    <tr>\n",
       "      <th>1</th>\n",
       "      <td>joscelyn roberson</td>\n",
       "      <td>13.509167</td>\n",
       "      <td>fx</td>\n",
       "    </tr>\n",
       "    <tr>\n",
       "      <th>2</th>\n",
       "      <td>simone biles</td>\n",
       "      <td>14.949714</td>\n",
       "      <td>vt</td>\n",
       "    </tr>\n",
       "    <tr>\n",
       "      <th>0</th>\n",
       "      <td>jade carey</td>\n",
       "      <td>14.546818</td>\n",
       "      <td>vt</td>\n",
       "    </tr>\n",
       "    <tr>\n",
       "      <th>1</th>\n",
       "      <td>joscelyn roberson</td>\n",
       "      <td>14.008667</td>\n",
       "      <td>vt</td>\n",
       "    </tr>\n",
       "  </tbody>\n",
       "</table>\n",
       "</div>"
      ],
      "text/plain": [
       "                Name  Average Total apparatus\n",
       "3       simone biles      14.619800        bb\n",
       "1     konnor mcclain      14.525000        bb\n",
       "5         sunisa lee      14.116667        bb\n",
       "4       skye blakely      13.477286        bb\n",
       "2      shilese jones      13.412000        bb\n",
       "0  joscelyn roberson      13.095467        bb\n",
       "0      shilese jones      14.613692        ub\n",
       "1         zoe miller      14.042154        ub\n",
       "4       simone biles      14.816500        fx\n",
       "2     kaliya lincoln      13.947571        fx\n",
       "3      shilese jones      13.851455        fx\n",
       "0         jade carey      13.828000        fx\n",
       "1  joscelyn roberson      13.509167        fx\n",
       "2       simone biles      14.949714        vt\n",
       "0         jade carey      14.546818        vt\n",
       "1  joscelyn roberson      14.008667        vt"
      ]
     },
     "execution_count": 71,
     "metadata": {},
     "output_type": "execute_result"
    }
   ],
   "source": [
    "top_women"
   ]
  },
  {
   "cell_type": "code",
   "execution_count": 72,
   "id": "f71fdd70",
   "metadata": {},
   "outputs": [],
   "source": [
    "# top_women.to_csv('top_women.csv', index=False)  "
   ]
  },
  {
   "cell_type": "code",
   "execution_count": null,
   "id": "7c75e29f",
   "metadata": {},
   "outputs": [],
   "source": []
  }
 ],
 "metadata": {
  "kernelspec": {
   "display_name": "Python 3 (ipykernel)",
   "language": "python",
   "name": "python3"
  },
  "language_info": {
   "codemirror_mode": {
    "name": "ipython",
    "version": 3
   },
   "file_extension": ".py",
   "mimetype": "text/x-python",
   "name": "python",
   "nbconvert_exporter": "python",
   "pygments_lexer": "ipython3",
   "version": "3.9.12"
  }
 },
 "nbformat": 4,
 "nbformat_minor": 5
}
