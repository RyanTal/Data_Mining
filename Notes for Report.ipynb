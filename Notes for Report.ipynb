{
 "cells": [
  {
   "cell_type": "markdown",
   "id": "48bbf4da-5aa8-466f-ad68-9e4ad4537f16",
   "metadata": {},
   "source": [
    "## explain what error bar represents in graph"
   ]
  },
  {
   "cell_type": "markdown",
   "id": "24251d20",
   "metadata": {},
   "source": [
    "Goal: pick 4 USA men's Gymnasts. Gymnasts cannot compete on the same appartaus more than once. And each apparatus needs to be competed on 3 times each, then get the largest sum of the top 3 out of 4 scores on each apparats\n",
    "\n"
   ]
  },
  {
   "cell_type": "markdown",
   "id": "e7e5a3b7",
   "metadata": {},
   "source": [
    "# Questions:\n",
    "\n",
    "1. In github there is a example_report.pdf in the submisdsion folder, which is currently blank. Will there be an example report, there in teh future?\n",
    "    - No"
   ]
  }
 ],
 "metadata": {
  "kernelspec": {
   "display_name": "Python 3 (ipykernel)",
   "language": "python",
   "name": "python3"
  },
  "language_info": {
   "codemirror_mode": {
    "name": "ipython",
    "version": 3
   },
   "file_extension": ".py",
   "mimetype": "text/x-python",
   "name": "python",
   "nbconvert_exporter": "python",
   "pygments_lexer": "ipython3",
   "version": "3.8.18"
  }
 },
 "nbformat": 4,
 "nbformat_minor": 5
}
