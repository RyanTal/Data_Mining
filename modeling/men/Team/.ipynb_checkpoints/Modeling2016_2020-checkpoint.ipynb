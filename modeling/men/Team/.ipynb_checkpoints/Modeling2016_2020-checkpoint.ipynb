{
 "cells": [
  {
   "cell_type": "code",
   "execution_count": 1,
   "id": "0459ef01",
   "metadata": {},
   "outputs": [],
   "source": [
    "#  \tAthlete \tCount\n",
    "# 1 \tyul moldauer \t6\n",
    "# 6 \tsamuel mikulak \t5\n",
    "# 7 \takash modi \t4\n",
    "# 3 \tallan bower \t3\n",
    "# 2 \tmarvin kimble \t2\n",
    "# 4 \tcolin van wicklen \t2\n",
    "# 0 \talec yoder \t1\n",
    "# 5 \tshane wiskus \t1"
   ]
  },
  {
   "cell_type": "code",
   "execution_count": 2,
   "id": "cdeb78e6",
   "metadata": {},
   "outputs": [],
   "source": [
    "# ['brody malone', 'sam mikulak', 'yul moldauer', 'shane wiskus']"
   ]
  },
  {
   "cell_type": "markdown",
   "id": "b887294f",
   "metadata": {},
   "source": [
    "this is close to the exact team for olympics with the exception of marvin kimble, who retired a month prior to the olympics.\n",
    "\n",
    "Tabu Search\n",
    "- Apparatus\n",
    "\n",
    "- Selected Athletes: ['yul moldauer' 'marvin kimble' 'samuel mikulak' 'shane wiskus'] Total - Score: 258.205"
   ]
  },
  {
   "cell_type": "markdown",
   "id": "ce5a7115",
   "metadata": {},
   "source": [
    "# VNS\n",
    "\n",
    "### Apparatus\n",
    "Selected Athletes: ['colin van wicklen', 'yul moldauer', 'marvin kimble', 'samuel mikulak']\n",
    "Total Score: 257.289\n",
    "Best Seed: 5033\n",
    "\n",
    "### iaa\n",
    "Selected Athletes: ['akash modi', 'samuel mikulak', 'yul moldauer', 'allan bower']\n",
    "Total Score: 256.536\n",
    "Best Seed: 8\n",
    "\n",
    "\n",
    "# Hyper-Heuristics\n",
    "\n",
    "#### Apparatus\n",
    "Best Selection: ['yul moldauer' 'akash modi' 'colin van wicklen' 'alec yoder']\n",
    "Best Score: 251.773\n",
    "\n",
    "\n",
    "#### IAA\n",
    "Best Selection: ['allan bower' 'akash modi' 'yul moldauer' 'samuel mikulak']\n",
    "Best Score: 255.00300000000001\n",
    "\n",
    "# Tabu Search\n",
    "\n",
    "#### Apparatus\n",
    "Selected Athletes:\n",
    "['yul moldauer' 'marvin kimble' 'samuel mikulak' 'shane wiskus']\n",
    "Total Score:\n",
    "258.205\n",
    "\n",
    "#### IAA\n",
    "Selected Athletes:\n",
    "['allan bower' 'akash modi' 'yul moldauer' 'samuel mikulak']\n",
    "Total Score:\n",
    "256.536\n",
    "\n"
   ]
  },
  {
   "cell_type": "code",
   "execution_count": 3,
   "id": "fbc8d12d",
   "metadata": {},
   "outputs": [],
   "source": [
    "import pandas as pd\n",
    "import numpy as np\n",
    "from itertools import combinations\n",
    "from pulp import LpProblem, LpVariable, lpSum, LpMaximize\n"
   ]
  },
  {
   "cell_type": "code",
   "execution_count": null,
   "id": "b30465bd",
   "metadata": {},
   "outputs": [],
   "source": []
  },
  {
   "cell_type": "code",
   "execution_count": 4,
   "id": "52cf1fd7",
   "metadata": {},
   "outputs": [],
   "source": [
    "# ['brody malone', 'sam mikulak', 'yul moldauer', 'shane wiskus']"
   ]
  },
  {
   "cell_type": "code",
   "execution_count": 5,
   "id": "f72b1e47",
   "metadata": {},
   "outputs": [],
   "source": [
    "df = pd.read_csv('Mens_apparatus_combined.csv')\n",
    " \n",
    "iaa = pd.read_csv('Mens_iaa_combined.csv')\n",
    "iaa.columns = iaa.columns.str.upper()\n",
    "df=iaa.copy()"
   ]
  },
  {
   "cell_type": "markdown",
   "id": "713fc73f",
   "metadata": {},
   "source": [
    "# VNS\n",
    "\n",
    "### Apparatus\n",
    "Selected Athletes: ['colin van wicklen', 'yul moldauer', 'marvin kimble', 'samuel mikulak']\n",
    "Total Score: 257.289\n",
    "Best Seed: 5033\n",
    "\n",
    "### iaa\n",
    "Selected Athletes: ['akash modi', 'samuel mikulak', 'yul moldauer', 'allan bower']\n",
    "Total Score: 256.536\n",
    "Best Seed: 8"
   ]
  },
  {
   "cell_type": "markdown",
   "id": "2d597e94",
   "metadata": {},
   "source": [
    "## IAA"
   ]
  },
  {
   "cell_type": "code",
   "execution_count": 6,
   "id": "3c3fc04c",
   "metadata": {
    "scrolled": true
   },
   "outputs": [
    {
     "name": "stdout",
     "output_type": "stream",
     "text": [
      "Selected Athletes: ['akash modi', 'samuel mikulak', 'yul moldauer', 'allan bower']\n",
      "Total Score: 256.536\n",
      "Best Seed: 8\n"
     ]
    }
   ],
   "source": [
    "# VNS Algorithm with Iteration through random_state values\n",
    "def variable_neighborhood_search(df):\n",
    "    apparatus_order = ['FX', 'PH', 'SR', 'VT', 'PB', 'HB']  # Define the order of apparatus\n",
    "\n",
    "    def calculate_total_score(athletes_df):\n",
    "        # Sum the top 3 scores for each apparatus\n",
    "        total_score = athletes_df[['FX', 'PH', 'SR', 'VT', 'PB', 'HB']].apply(lambda x: x.nlargest(3).sum()).sum()\n",
    "        return total_score\n",
    "\n",
    "    best_athletes = None\n",
    "    best_score = float('-inf')\n",
    "    best_seed = None\n",
    "\n",
    "    for seed in range(6000):  # Try different random_state values\n",
    "        # Randomly select 4 athletes with the current seed\n",
    "        selected_athletes = df.sample(4, random_state=seed)\n",
    "\n",
    "        # Check if each apparatus is competed on 3 times\n",
    "        if all(selected_athletes[apparatus].count() >= 3 for apparatus in apparatus_order):\n",
    "            # Calculate the total score for the current solution\n",
    "            current_score = calculate_total_score(selected_athletes)\n",
    "\n",
    "            # Compare with the current best solution\n",
    "            if current_score > best_score:\n",
    "                best_athletes = selected_athletes['ATHLETE'].tolist()\n",
    "                best_score = current_score\n",
    "                best_seed = seed\n",
    "\n",
    "    return best_athletes, best_score, best_seed\n",
    "\n",
    "# Run the VNS algorithm with different random_state values\n",
    "best_athletes, total_score, best_seed = variable_neighborhood_search(df)\n",
    "\n",
    "# Display the best solution and the seed that produced it\n",
    "print(\"Selected Athletes:\", best_athletes)\n",
    "print(\"Total Score:\", total_score)\n",
    "print(\"Best Seed:\", best_seed)\n"
   ]
  },
  {
   "cell_type": "markdown",
   "id": "4b4ca711",
   "metadata": {},
   "source": [
    "## Apparatus"
   ]
  },
  {
   "cell_type": "code",
   "execution_count": 7,
   "id": "cce8a17c",
   "metadata": {},
   "outputs": [],
   "source": [
    "df = pd.read_csv('Mens_apparatus_combined.csv')\n"
   ]
  },
  {
   "cell_type": "code",
   "execution_count": 8,
   "id": "2ca44dd3",
   "metadata": {
    "scrolled": true
   },
   "outputs": [
    {
     "ename": "KeyError",
     "evalue": "'FX'",
     "output_type": "error",
     "traceback": [
      "\u001b[0;31m---------------------------------------------------------------------------\u001b[0m",
      "\u001b[0;31mKeyError\u001b[0m                                  Traceback (most recent call last)",
      "\u001b[0;32m~/opt/anaconda3/envs/tf2/lib/python3.9/site-packages/pandas/core/indexes/base.py\u001b[0m in \u001b[0;36mget_loc\u001b[0;34m(self, key)\u001b[0m\n\u001b[1;32m   3652\u001b[0m         \u001b[0;32mtry\u001b[0m\u001b[0;34m:\u001b[0m\u001b[0;34m\u001b[0m\u001b[0;34m\u001b[0m\u001b[0m\n\u001b[0;32m-> 3653\u001b[0;31m             \u001b[0;32mreturn\u001b[0m \u001b[0mself\u001b[0m\u001b[0;34m.\u001b[0m\u001b[0m_engine\u001b[0m\u001b[0;34m.\u001b[0m\u001b[0mget_loc\u001b[0m\u001b[0;34m(\u001b[0m\u001b[0mcasted_key\u001b[0m\u001b[0;34m)\u001b[0m\u001b[0;34m\u001b[0m\u001b[0;34m\u001b[0m\u001b[0m\n\u001b[0m\u001b[1;32m   3654\u001b[0m         \u001b[0;32mexcept\u001b[0m \u001b[0mKeyError\u001b[0m \u001b[0;32mas\u001b[0m \u001b[0merr\u001b[0m\u001b[0;34m:\u001b[0m\u001b[0;34m\u001b[0m\u001b[0;34m\u001b[0m\u001b[0m\n",
      "\u001b[0;32m~/opt/anaconda3/envs/tf2/lib/python3.9/site-packages/pandas/_libs/index.pyx\u001b[0m in \u001b[0;36mpandas._libs.index.IndexEngine.get_loc\u001b[0;34m()\u001b[0m\n",
      "\u001b[0;32m~/opt/anaconda3/envs/tf2/lib/python3.9/site-packages/pandas/_libs/index.pyx\u001b[0m in \u001b[0;36mpandas._libs.index.IndexEngine.get_loc\u001b[0;34m()\u001b[0m\n",
      "\u001b[0;32mpandas/_libs/hashtable_class_helper.pxi\u001b[0m in \u001b[0;36mpandas._libs.hashtable.PyObjectHashTable.get_item\u001b[0;34m()\u001b[0m\n",
      "\u001b[0;32mpandas/_libs/hashtable_class_helper.pxi\u001b[0m in \u001b[0;36mpandas._libs.hashtable.PyObjectHashTable.get_item\u001b[0;34m()\u001b[0m\n",
      "\u001b[0;31mKeyError\u001b[0m: 'FX'",
      "\nThe above exception was the direct cause of the following exception:\n",
      "\u001b[0;31mKeyError\u001b[0m                                  Traceback (most recent call last)",
      "\u001b[0;32m/var/folders/j_/555m2zps099832fjh_m8jjnc0000gn/T/ipykernel_88312/1131657354.py\u001b[0m in \u001b[0;36m<cell line: 32>\u001b[0;34m()\u001b[0m\n\u001b[1;32m     30\u001b[0m \u001b[0;34m\u001b[0m\u001b[0m\n\u001b[1;32m     31\u001b[0m \u001b[0;31m# Run the VNS algorithm with different random_state values\u001b[0m\u001b[0;34m\u001b[0m\u001b[0;34m\u001b[0m\u001b[0m\n\u001b[0;32m---> 32\u001b[0;31m \u001b[0mbest_athletes\u001b[0m\u001b[0;34m,\u001b[0m \u001b[0mtotal_score\u001b[0m\u001b[0;34m,\u001b[0m \u001b[0mbest_seed\u001b[0m \u001b[0;34m=\u001b[0m \u001b[0mvariable_neighborhood_search\u001b[0m\u001b[0;34m(\u001b[0m\u001b[0mdf\u001b[0m\u001b[0;34m)\u001b[0m\u001b[0;34m\u001b[0m\u001b[0;34m\u001b[0m\u001b[0m\n\u001b[0m\u001b[1;32m     33\u001b[0m \u001b[0;34m\u001b[0m\u001b[0m\n\u001b[1;32m     34\u001b[0m \u001b[0;31m# Display the best solution and the seed that produced it\u001b[0m\u001b[0;34m\u001b[0m\u001b[0;34m\u001b[0m\u001b[0m\n",
      "\u001b[0;32m/var/folders/j_/555m2zps099832fjh_m8jjnc0000gn/T/ipykernel_88312/1131657354.py\u001b[0m in \u001b[0;36mvariable_neighborhood_search\u001b[0;34m(df)\u001b[0m\n\u001b[1;32m     17\u001b[0m \u001b[0;34m\u001b[0m\u001b[0m\n\u001b[1;32m     18\u001b[0m         \u001b[0;31m# Check if each apparatus is competed on 3 times\u001b[0m\u001b[0;34m\u001b[0m\u001b[0;34m\u001b[0m\u001b[0m\n\u001b[0;32m---> 19\u001b[0;31m         \u001b[0;32mif\u001b[0m \u001b[0mall\u001b[0m\u001b[0;34m(\u001b[0m\u001b[0mselected_athletes\u001b[0m\u001b[0;34m[\u001b[0m\u001b[0mapparatus\u001b[0m\u001b[0;34m]\u001b[0m\u001b[0;34m.\u001b[0m\u001b[0mcount\u001b[0m\u001b[0;34m(\u001b[0m\u001b[0;34m)\u001b[0m \u001b[0;34m>=\u001b[0m \u001b[0;36m3\u001b[0m \u001b[0;32mfor\u001b[0m \u001b[0mapparatus\u001b[0m \u001b[0;32min\u001b[0m \u001b[0mapparatus_order\u001b[0m\u001b[0;34m)\u001b[0m\u001b[0;34m:\u001b[0m\u001b[0;34m\u001b[0m\u001b[0;34m\u001b[0m\u001b[0m\n\u001b[0m\u001b[1;32m     20\u001b[0m             \u001b[0;31m# Calculate the total score for the current solution\u001b[0m\u001b[0;34m\u001b[0m\u001b[0;34m\u001b[0m\u001b[0m\n\u001b[1;32m     21\u001b[0m             \u001b[0mcurrent_score\u001b[0m \u001b[0;34m=\u001b[0m \u001b[0mcalculate_total_score\u001b[0m\u001b[0;34m(\u001b[0m\u001b[0mselected_athletes\u001b[0m\u001b[0;34m)\u001b[0m\u001b[0;34m\u001b[0m\u001b[0;34m\u001b[0m\u001b[0m\n",
      "\u001b[0;32m/var/folders/j_/555m2zps099832fjh_m8jjnc0000gn/T/ipykernel_88312/1131657354.py\u001b[0m in \u001b[0;36m<genexpr>\u001b[0;34m(.0)\u001b[0m\n\u001b[1;32m     17\u001b[0m \u001b[0;34m\u001b[0m\u001b[0m\n\u001b[1;32m     18\u001b[0m         \u001b[0;31m# Check if each apparatus is competed on 3 times\u001b[0m\u001b[0;34m\u001b[0m\u001b[0;34m\u001b[0m\u001b[0m\n\u001b[0;32m---> 19\u001b[0;31m         \u001b[0;32mif\u001b[0m \u001b[0mall\u001b[0m\u001b[0;34m(\u001b[0m\u001b[0mselected_athletes\u001b[0m\u001b[0;34m[\u001b[0m\u001b[0mapparatus\u001b[0m\u001b[0;34m]\u001b[0m\u001b[0;34m.\u001b[0m\u001b[0mcount\u001b[0m\u001b[0;34m(\u001b[0m\u001b[0;34m)\u001b[0m \u001b[0;34m>=\u001b[0m \u001b[0;36m3\u001b[0m \u001b[0;32mfor\u001b[0m \u001b[0mapparatus\u001b[0m \u001b[0;32min\u001b[0m \u001b[0mapparatus_order\u001b[0m\u001b[0;34m)\u001b[0m\u001b[0;34m:\u001b[0m\u001b[0;34m\u001b[0m\u001b[0;34m\u001b[0m\u001b[0m\n\u001b[0m\u001b[1;32m     20\u001b[0m             \u001b[0;31m# Calculate the total score for the current solution\u001b[0m\u001b[0;34m\u001b[0m\u001b[0;34m\u001b[0m\u001b[0m\n\u001b[1;32m     21\u001b[0m             \u001b[0mcurrent_score\u001b[0m \u001b[0;34m=\u001b[0m \u001b[0mcalculate_total_score\u001b[0m\u001b[0;34m(\u001b[0m\u001b[0mselected_athletes\u001b[0m\u001b[0;34m)\u001b[0m\u001b[0;34m\u001b[0m\u001b[0;34m\u001b[0m\u001b[0m\n",
      "\u001b[0;32m~/opt/anaconda3/envs/tf2/lib/python3.9/site-packages/pandas/core/frame.py\u001b[0m in \u001b[0;36m__getitem__\u001b[0;34m(self, key)\u001b[0m\n\u001b[1;32m   3759\u001b[0m             \u001b[0;32mif\u001b[0m \u001b[0mself\u001b[0m\u001b[0;34m.\u001b[0m\u001b[0mcolumns\u001b[0m\u001b[0;34m.\u001b[0m\u001b[0mnlevels\u001b[0m \u001b[0;34m>\u001b[0m \u001b[0;36m1\u001b[0m\u001b[0;34m:\u001b[0m\u001b[0;34m\u001b[0m\u001b[0;34m\u001b[0m\u001b[0m\n\u001b[1;32m   3760\u001b[0m                 \u001b[0;32mreturn\u001b[0m \u001b[0mself\u001b[0m\u001b[0;34m.\u001b[0m\u001b[0m_getitem_multilevel\u001b[0m\u001b[0;34m(\u001b[0m\u001b[0mkey\u001b[0m\u001b[0;34m)\u001b[0m\u001b[0;34m\u001b[0m\u001b[0;34m\u001b[0m\u001b[0m\n\u001b[0;32m-> 3761\u001b[0;31m             \u001b[0mindexer\u001b[0m \u001b[0;34m=\u001b[0m \u001b[0mself\u001b[0m\u001b[0;34m.\u001b[0m\u001b[0mcolumns\u001b[0m\u001b[0;34m.\u001b[0m\u001b[0mget_loc\u001b[0m\u001b[0;34m(\u001b[0m\u001b[0mkey\u001b[0m\u001b[0;34m)\u001b[0m\u001b[0;34m\u001b[0m\u001b[0;34m\u001b[0m\u001b[0m\n\u001b[0m\u001b[1;32m   3762\u001b[0m             \u001b[0;32mif\u001b[0m \u001b[0mis_integer\u001b[0m\u001b[0;34m(\u001b[0m\u001b[0mindexer\u001b[0m\u001b[0;34m)\u001b[0m\u001b[0;34m:\u001b[0m\u001b[0;34m\u001b[0m\u001b[0;34m\u001b[0m\u001b[0m\n\u001b[1;32m   3763\u001b[0m                 \u001b[0mindexer\u001b[0m \u001b[0;34m=\u001b[0m \u001b[0;34m[\u001b[0m\u001b[0mindexer\u001b[0m\u001b[0;34m]\u001b[0m\u001b[0;34m\u001b[0m\u001b[0;34m\u001b[0m\u001b[0m\n",
      "\u001b[0;32m~/opt/anaconda3/envs/tf2/lib/python3.9/site-packages/pandas/core/indexes/base.py\u001b[0m in \u001b[0;36mget_loc\u001b[0;34m(self, key)\u001b[0m\n\u001b[1;32m   3653\u001b[0m             \u001b[0;32mreturn\u001b[0m \u001b[0mself\u001b[0m\u001b[0;34m.\u001b[0m\u001b[0m_engine\u001b[0m\u001b[0;34m.\u001b[0m\u001b[0mget_loc\u001b[0m\u001b[0;34m(\u001b[0m\u001b[0mcasted_key\u001b[0m\u001b[0;34m)\u001b[0m\u001b[0;34m\u001b[0m\u001b[0;34m\u001b[0m\u001b[0m\n\u001b[1;32m   3654\u001b[0m         \u001b[0;32mexcept\u001b[0m \u001b[0mKeyError\u001b[0m \u001b[0;32mas\u001b[0m \u001b[0merr\u001b[0m\u001b[0;34m:\u001b[0m\u001b[0;34m\u001b[0m\u001b[0;34m\u001b[0m\u001b[0m\n\u001b[0;32m-> 3655\u001b[0;31m             \u001b[0;32mraise\u001b[0m \u001b[0mKeyError\u001b[0m\u001b[0;34m(\u001b[0m\u001b[0mkey\u001b[0m\u001b[0;34m)\u001b[0m \u001b[0;32mfrom\u001b[0m \u001b[0merr\u001b[0m\u001b[0;34m\u001b[0m\u001b[0;34m\u001b[0m\u001b[0m\n\u001b[0m\u001b[1;32m   3656\u001b[0m         \u001b[0;32mexcept\u001b[0m \u001b[0mTypeError\u001b[0m\u001b[0;34m:\u001b[0m\u001b[0;34m\u001b[0m\u001b[0;34m\u001b[0m\u001b[0m\n\u001b[1;32m   3657\u001b[0m             \u001b[0;31m# If we have a listlike key, _check_indexing_error will raise\u001b[0m\u001b[0;34m\u001b[0m\u001b[0;34m\u001b[0m\u001b[0m\n",
      "\u001b[0;31mKeyError\u001b[0m: 'FX'"
     ]
    }
   ],
   "source": [
    "# VNS Algorithm with Iteration through random_state values\n",
    "def variable_neighborhood_search(df):\n",
    "    apparatus_order = ['FX', 'PH', 'SR', 'VT', 'PB', 'HB']  # Define the order of apparatus\n",
    "\n",
    "    def calculate_total_score(athletes_df):\n",
    "        # Sum the top 3 scores for each apparatus\n",
    "        total_score = athletes_df[['FX', 'PH', 'SR', 'VT', 'PB', 'HB']].apply(lambda x: x.nlargest(3).sum()).sum()\n",
    "        return total_score\n",
    "\n",
    "    best_athletes = None\n",
    "    best_score = float('-inf')\n",
    "    best_seed = None\n",
    "\n",
    "    for seed in range(6000):  # Try different random_state values\n",
    "        # Randomly select 4 athletes with the current seed\n",
    "        selected_athletes = df.sample(4, random_state=seed)\n",
    "\n",
    "        # Check if each apparatus is competed on 3 times\n",
    "        if all(selected_athletes[apparatus].count() >= 3 for apparatus in apparatus_order):\n",
    "            # Calculate the total score for the current solution\n",
    "            current_score = calculate_total_score(selected_athletes)\n",
    "\n",
    "            # Compare with the current best solution\n",
    "            if current_score > best_score:\n",
    "                best_athletes = selected_athletes['Athlete'].tolist()\n",
    "                best_score = current_score\n",
    "                best_seed = seed\n",
    "\n",
    "    return best_athletes, best_score, best_seed\n",
    "\n",
    "# Run the VNS algorithm with different random_state values\n",
    "best_athletes, total_score, best_seed = variable_neighborhood_search(df)\n",
    "\n",
    "# Display the best solution and the seed that produced it\n",
    "print(\"Selected Athletes:\", best_athletes)\n",
    "print(\"Total Score:\", total_score)\n",
    "print(\"Best Seed:\", best_seed)\n"
   ]
  },
  {
   "cell_type": "markdown",
   "id": "bd054aaf",
   "metadata": {},
   "source": [
    "# Hyper-Heuristics\n",
    "\n",
    "#### Apparatus\n",
    "Best Selection: ['yul moldauer' 'akash modi' 'colin van wicklen' 'alec yoder']\n",
    "Best Score: 251.773\n",
    "\n",
    "\n",
    "#### IAA\n",
    "Best Selection: ['allan bower' 'akash modi' 'yul moldauer' 'samuel mikulak']\n",
    "Best Score: 255.00300000000001\n",
    "\n"
   ]
  },
  {
   "cell_type": "markdown",
   "id": "7d327765",
   "metadata": {},
   "source": [
    "### IAA"
   ]
  },
  {
   "cell_type": "code",
   "execution_count": null,
   "id": "8e7c6692",
   "metadata": {},
   "outputs": [],
   "source": [
    "iaa = pd.read_csv('Mens_iaa_combined.csv')\n",
    "iaa.columns = iaa.columns.str.upper()\n",
    "df=iaa.copy()"
   ]
  },
  {
   "cell_type": "code",
   "execution_count": null,
   "id": "2af9b083",
   "metadata": {},
   "outputs": [],
   "source": [
    "import pandas as pd\n",
    "import numpy as np\n",
    "\n",
    "\n",
    "# Define the number of athletes to select\n",
    "num_athletes_to_select = 4\n",
    "\n",
    "# Define the apparatuses\n",
    "apparatuses = ['FX', 'PH', 'SR', 'VT', 'PB', 'HB']\n",
    "\n",
    "# Initialize variables to store the best solution\n",
    "best_score = 0\n",
    "best_selection = None\n",
    "\n",
    "# Define the number of iterations for the hyper-heuristic\n",
    "num_iterations = 1000\n",
    "\n",
    "for _ in range(num_iterations):\n",
    "    # Randomly select 4 athletes\n",
    "    selected_athletes = np.random.choice(df['ATHLETE'], size=num_athletes_to_select, replace=False)\n",
    "\n",
    "    # Calculate the score for the current selection\n",
    "    scores = df[df['ATHLETE'].isin(selected_athletes)][apparatuses].sum(axis=1).nlargest(3).sum()\n",
    "\n",
    "    # Update the best solution if the current one is better\n",
    "    if scores > best_score:\n",
    "        best_score = scores\n",
    "        best_selection = selected_athletes\n",
    "\n",
    "# Print the best selection and score\n",
    "print(\"Best Selection:\", best_selection)\n",
    "print(\"Best Score:\", best_score)\n"
   ]
  },
  {
   "cell_type": "markdown",
   "id": "c60119df",
   "metadata": {},
   "source": [
    "### Apparatus"
   ]
  },
  {
   "cell_type": "code",
   "execution_count": null,
   "id": "42ba4793",
   "metadata": {},
   "outputs": [],
   "source": [
    "df = pd.read_csv('Mens_apparatus_combined.csv')\n"
   ]
  },
  {
   "cell_type": "code",
   "execution_count": null,
   "id": "a869e6aa",
   "metadata": {},
   "outputs": [],
   "source": [
    "import pandas as pd\n",
    "import numpy as np\n",
    "\n",
    "# Assuming df is your DataFrame\n",
    "# df = ...\n",
    "\n",
    "# Define the number of athletes to select\n",
    "num_athletes_to_select = 4\n",
    "\n",
    "# Define the apparatuses\n",
    "apparatuses = ['fx', 'ph', 'sr', 'vt', 'pb', 'hb']\n",
    "\n",
    "# Initialize variables to store the best solution\n",
    "best_score = 0\n",
    "best_selection = None\n",
    "\n",
    "# Define the number of iterations for the hyper-heuristic\n",
    "num_iterations = 1000\n",
    "\n",
    "for _ in range(num_iterations):\n",
    "    # Randomly select 4 athletes\n",
    "    selected_athletes = np.random.choice(df['Athlete'], size=num_athletes_to_select, replace=False)\n",
    "\n",
    "    # Calculate the score for the current selection\n",
    "    scores = df[df['Athlete'].isin(selected_athletes)][apparatuses].sum(axis=1).nlargest(3).sum()\n",
    "\n",
    "    # Update the best solution if the current one is better\n",
    "    if scores > best_score:\n",
    "        best_score = scores\n",
    "        best_selection = selected_athletes\n",
    "\n",
    "# Print the best selection and score\n",
    "print(\"Best Selection:\", best_selection)\n",
    "print(\"Best Score:\", best_score)\n"
   ]
  },
  {
   "cell_type": "code",
   "execution_count": null,
   "id": "ec64002f",
   "metadata": {},
   "outputs": [],
   "source": []
  },
  {
   "cell_type": "code",
   "execution_count": null,
   "id": "01e50b9e",
   "metadata": {},
   "outputs": [],
   "source": []
  },
  {
   "cell_type": "markdown",
   "id": "9f4ca46e",
   "metadata": {},
   "source": [
    "# Tabu Search\n",
    "\n",
    "#### Apparatus\n",
    "Selected Athletes:\n",
    "['yul moldauer' 'marvin kimble' 'samuel mikulak' 'shane wiskus']\n",
    "Total Score:\n",
    "258.205\n",
    "\n",
    "#### IAA\n",
    "Selected Athletes:\n",
    "['allan bower' 'akash modi' 'yul moldauer' 'samuel mikulak']\n",
    "Total Score:\n",
    "256.536"
   ]
  },
  {
   "cell_type": "markdown",
   "id": "116bcd4d",
   "metadata": {},
   "source": [
    "## IAA"
   ]
  },
  {
   "cell_type": "code",
   "execution_count": null,
   "id": "ae928de6",
   "metadata": {},
   "outputs": [],
   "source": [
    "iaa = pd.read_csv('Mens_iaa_combined.csv')\n",
    "iaa.columns = iaa.columns.str.upper()\n",
    "df=iaa.copy()"
   ]
  },
  {
   "cell_type": "code",
   "execution_count": null,
   "id": "d77b7ba4",
   "metadata": {},
   "outputs": [],
   "source": [
    "df"
   ]
  },
  {
   "cell_type": "code",
   "execution_count": null,
   "id": "a43c16e2",
   "metadata": {},
   "outputs": [],
   "source": [
    "import pandas as pd\n",
    "import numpy as np\n",
    "\n",
    "def calculate_score(selected_athletes, df):\n",
    "    \"\"\"\n",
    "    Calculate the total score for a given set of selected athletes.\n",
    "    \"\"\"\n",
    "    # Select rows corresponding to the chosen athletes\n",
    "    selected_df = df[df['ATHLETE'].isin(selected_athletes)]\n",
    "\n",
    "    # Calculate the sum of the top 3 scores for each apparatus\n",
    "    apparatus_scores = selected_df.drop(['ATHLETE'], axis=1)\n",
    "    top_3_sum = apparatus_scores.apply(lambda row: sum(sorted(row, reverse=True)[:3]), axis=0)\n",
    "\n",
    "    # Calculate the total score\n",
    "    total_score = top_3_sum.sum()\n",
    "\n",
    "    return total_score\n",
    "\n",
    "\n",
    "\n",
    "\n",
    "def tabu_search(df, num_athletes_to_select, tabu_size, max_iterations):\n",
    "    # Initialize the solution with a random set of athletes\n",
    "    available_athletes = df['ATHLETE'].tolist()\n",
    "    current_solution = np.random.choice(available_athletes, size=num_athletes_to_select, replace=False)\n",
    "    best_solution = current_solution.copy()\n",
    "    best_score = calculate_score(best_solution, df)\n",
    "\n",
    "    # Initialize tabu list\n",
    "    tabu_list = []\n",
    "\n",
    "    # Main Tabu Search loop\n",
    "    for iteration in range(max_iterations):\n",
    "        # Generate neighbors by swapping athletes\n",
    "        neighbors = []\n",
    "        for i in range(num_athletes_to_select):\n",
    "            for athlete in df['ATHLETE']:\n",
    "                if athlete not in current_solution:\n",
    "                    neighbor = current_solution.copy()\n",
    "                    neighbor[i] = athlete\n",
    "                    neighbors.append(neighbor)\n",
    "\n",
    "                    \n",
    "                    \n",
    "                best_neighbor = None\n",
    "        best_neighbor_score = float('-inf')\n",
    "\n",
    "        for neighbor in neighbors:\n",
    "            neighbor_score = calculate_score(neighbor, df)\n",
    "\n",
    "            # Convert the NumPy array to a tuple\n",
    "            neighbor_tuple = tuple(neighbor)\n",
    "\n",
    "            if neighbor_score > best_neighbor_score and neighbor_tuple not in tabu_list:\n",
    "                best_neighbor = neighbor\n",
    "                best_neighbor_score = neighbor_score\n",
    "\n",
    "        # Update current solution and tabu list\n",
    "        current_solution = best_neighbor\n",
    "        tabu_list.append(tuple(best_neighbor))\n",
    "\n",
    "        # Keep the tabu list size within the specified limit\n",
    "        if len(tabu_list) > tabu_size:\n",
    "            tabu_list.pop(0)\n",
    "\n",
    "        # Update the best solution if a better one is found\n",
    "        if best_neighbor_score > best_score:\n",
    "            best_solution = best_neighbor\n",
    "            best_score = best_neighbor_score\n",
    "\n",
    "        # Print progress\n",
    "        print(f\"Iteration {iteration + 1}, Best Score: {best_score}\")\n",
    "\n",
    "    return best_solution, best_score\n",
    "\n",
    "\n",
    "\n",
    "# Set parameters\n",
    "num_athletes_to_select = 4\n",
    "tabu_size = 10\n",
    "max_iterations = 100\n",
    "\n",
    "# Perform Tabu Search\n",
    "best_solution, best_score = tabu_search(df, num_athletes_to_select, tabu_size, max_iterations)\n",
    "\n",
    "# Print the selected athletes and the corresponding score\n",
    "print('Selected Athletes:')\n",
    "print(best_solution)\n",
    "print('Total Score:')\n",
    "print(best_score)\n",
    "\n",
    "      "
   ]
  },
  {
   "cell_type": "markdown",
   "id": "bc9f8857",
   "metadata": {},
   "source": [
    "## Apparatus"
   ]
  },
  {
   "cell_type": "code",
   "execution_count": null,
   "id": "2dd8f4aa",
   "metadata": {},
   "outputs": [],
   "source": [
    "df = pd.read_csv('Mens_apparatus_combined.csv')\n"
   ]
  },
  {
   "cell_type": "code",
   "execution_count": null,
   "id": "78011697",
   "metadata": {},
   "outputs": [],
   "source": [
    "import pandas as pd\n",
    "import numpy as np\n",
    "\n",
    "def calculate_score(selected_athletes, df):\n",
    "    \"\"\"\n",
    "    Calculate the total score for a given set of selected athletes.\n",
    "    \"\"\"\n",
    "    # Select rows corresponding to the chosen athletes\n",
    "    selected_df = df[df['Athlete'].isin(selected_athletes)]\n",
    "\n",
    "    # Calculate the sum of the top 3 scores for each apparatus\n",
    "    apparatus_scores = selected_df.drop([ 'Athlete'], axis=1)\n",
    "    top_3_sum = apparatus_scores.apply(lambda row: sum(sorted(row, reverse=True)[:3]), axis=0)\n",
    "\n",
    "    # Calculate the total score\n",
    "    total_score = top_3_sum.sum()\n",
    "\n",
    "    return total_score\n",
    "\n",
    "\n",
    "\n",
    "\n",
    "def tabu_search(df, num_athletes_to_select, tabu_size, max_iterations):\n",
    "    # Initialize the solution with a random set of athletes\n",
    "    available_athletes = df['Athlete'].tolist()\n",
    "    current_solution = np.random.choice(available_athletes, size=num_athletes_to_select, replace=False)\n",
    "    best_solution = current_solution.copy()\n",
    "    best_score = calculate_score(best_solution, df)\n",
    "\n",
    "    # Initialize tabu list\n",
    "    tabu_list = []\n",
    "\n",
    "    # Main Tabu Search loop\n",
    "    for iteration in range(max_iterations):\n",
    "        # Generate neighbors by swapping athletes\n",
    "        neighbors = []\n",
    "        for i in range(num_athletes_to_select):\n",
    "            for athlete in df['Athlete']:\n",
    "                if athlete not in current_solution:\n",
    "                    neighbor = current_solution.copy()\n",
    "                    neighbor[i] = athlete\n",
    "                    neighbors.append(neighbor)\n",
    "\n",
    "                    \n",
    "                    \n",
    "                best_neighbor = None\n",
    "        best_neighbor_score = float('-inf')\n",
    "\n",
    "        for neighbor in neighbors:\n",
    "            neighbor_score = calculate_score(neighbor, df)\n",
    "\n",
    "            # Convert the NumPy array to a tuple\n",
    "            neighbor_tuple = tuple(neighbor)\n",
    "\n",
    "            if neighbor_score > best_neighbor_score and neighbor_tuple not in tabu_list:\n",
    "                best_neighbor = neighbor\n",
    "                best_neighbor_score = neighbor_score\n",
    "\n",
    "        # Update current solution and tabu list\n",
    "        current_solution = best_neighbor\n",
    "        tabu_list.append(tuple(best_neighbor))\n",
    "\n",
    "        # Keep the tabu list size within the specified limit\n",
    "        if len(tabu_list) > tabu_size:\n",
    "            tabu_list.pop(0)\n",
    "\n",
    "        # Update the best solution if a better one is found\n",
    "        if best_neighbor_score > best_score:\n",
    "            best_solution = best_neighbor\n",
    "            best_score = best_neighbor_score\n",
    "\n",
    "        # Print progress\n",
    "        print(f\"Iteration {iteration + 1}, Best Score: {best_score}\")\n",
    "\n",
    "    return best_solution, best_score\n",
    "\n",
    "\n",
    "# Set parameters\n",
    "num_athletes_to_select = 4\n",
    "tabu_size = 300\n",
    "max_iterations = 100\n",
    "\n",
    "# Perform Tabu Search\n",
    "best_solution, best_score = tabu_search(df, num_athletes_to_select, tabu_size, max_iterations)\n",
    "\n",
    "# Print the selected athletes and the corresponding score\n",
    "print('Selected Athletes:')\n",
    "print(best_solution)\n",
    "print('Total Score:')\n",
    "print(best_score)\n",
    "\n",
    "      "
   ]
  },
  {
   "cell_type": "markdown",
   "id": "9e2279af",
   "metadata": {},
   "source": [
    "---"
   ]
  },
  {
   "cell_type": "code",
   "execution_count": null,
   "id": "ef2db16c",
   "metadata": {},
   "outputs": [],
   "source": [
    "import pandas as pd\n",
    "\n",
    "# Data\n",
    "data = {\n",
    "    'algorithm': ['VNS', 'VNS', 'Hyper-Heuristics', 'Hyper-Heuristics', 'Tabu Search', 'Tabu Search'],\n",
    "    'type': ['Apparatus', 'iaa', 'Apparatus', 'IAA', 'Apparatus', 'IAA'],\n",
    "    'athletes': [\n",
    "        ['colin van wicklen', 'yul moldauer', 'marvin kimble', 'samuel mikulak'],\n",
    "        ['akash modi', 'samuel mikulak', 'yul moldauer', 'allan bower'],\n",
    "        ['yul moldauer', 'akash modi', 'colin van wicklen', 'alec yoder'],\n",
    "        ['allan bower', 'akash modi', 'yul moldauer', 'samuel mikulak'],\n",
    "        ['yul moldauer', 'marvin kimble', 'samuel mikulak', 'shane wiskus'],\n",
    "        ['allan bower', 'akash modi', 'yul moldauer', 'samuel mikulak']\n",
    "    ],\n",
    "    'score': [257.289, 256.536, 251.773, 255.003, 258.205, 256.536]\n",
    "}\n",
    "\n",
    "# Create DataFrame\n",
    "result_df = pd.DataFrame(data)\n",
    "\n",
    "# Add columns for each athlete\n",
    "athletes = list(set(athlete for athletes_list in result_df['athletes'] for athlete in athletes_list))\n",
    "\n",
    "for athlete in athletes:\n",
    "    result_df[athlete] = result_df['athletes'].apply(lambda x: 1 if athlete in x else 0)\n",
    "\n",
    "# Calculate the sum for each athlete column\n",
    "athlete_sums = result_df.groupby('algorithm')[athletes].sum()\n",
    "\n",
    "\n"
   ]
  },
  {
   "cell_type": "code",
   "execution_count": null,
   "id": "2260c7b6",
   "metadata": {},
   "outputs": [],
   "source": [
    "athlete_sums"
   ]
  },
  {
   "cell_type": "code",
   "execution_count": null,
   "id": "2579b476",
   "metadata": {},
   "outputs": [],
   "source": [
    "athlete_counts = pd.Series({\n",
    "    'alec yoder': 1,\n",
    "    'yul moldauer': 6,\n",
    "    'marvin kimble': 2,\n",
    "    'allan bower': 3,\n",
    "    'colin van wicklen': 2,\n",
    "    'shane wiskus': 1,\n",
    "    'samuel mikulak': 5,\n",
    "    'akash modi': 4\n",
    "})\n",
    "\n",
    "\n",
    "# Convert athlete counts to DataFrame\n",
    "df_data = athlete_counts.reset_index()\n",
    "df_data.columns = ['Athlete', 'Count']"
   ]
  },
  {
   "cell_type": "code",
   "execution_count": null,
   "id": "bf090392",
   "metadata": {},
   "outputs": [],
   "source": [
    "df_data"
   ]
  },
  {
   "cell_type": "code",
   "execution_count": null,
   "id": "cc476ddf",
   "metadata": {},
   "outputs": [],
   "source": [
    "df = df_data.sort_values(by='Count', ascending=False)"
   ]
  },
  {
   "cell_type": "code",
   "execution_count": null,
   "id": "e3aa1af4",
   "metadata": {},
   "outputs": [],
   "source": [
    "df"
   ]
  },
  {
   "cell_type": "code",
   "execution_count": null,
   "id": "e6a388b6",
   "metadata": {},
   "outputs": [],
   "source": []
  }
 ],
 "metadata": {
  "kernelspec": {
   "display_name": "Python 3 (ipykernel)",
   "language": "python",
   "name": "python3"
  },
  "language_info": {
   "codemirror_mode": {
    "name": "ipython",
    "version": 3
   },
   "file_extension": ".py",
   "mimetype": "text/x-python",
   "name": "python",
   "nbconvert_exporter": "python",
   "pygments_lexer": "ipython3",
   "version": "3.9.12"
  }
 },
 "nbformat": 4,
 "nbformat_minor": 5
}
