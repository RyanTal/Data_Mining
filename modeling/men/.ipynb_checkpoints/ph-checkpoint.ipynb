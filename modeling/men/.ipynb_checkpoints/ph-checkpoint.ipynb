{
 "cells": [
  {
   "cell_type": "markdown",
   "id": "d5e9b422",
   "metadata": {},
   "source": [
    "# USA\n",
    "- stephen nedoroscik\n"
   ]
  },
  {
   "cell_type": "code",
   "execution_count": 1,
   "id": "e0c0c12d",
   "metadata": {},
   "outputs": [],
   "source": [
    "import pandas as pd\n",
    "import numpy as np\n",
    "from scipy import stats\n",
    "from mlxtend.preprocessing import minmax_scaling\n",
    "import seaborn as sns\n",
    "import matplotlib.pyplot as plt\n",
    "from matplotlib.colors import ListedColormap\n",
    "from sklearn.datasets import make_circles, make_classification, make_moons\n",
    "from sklearn.discriminant_analysis import QuadraticDiscriminantAnalysis\n",
    "from sklearn.ensemble import AdaBoostClassifier, RandomForestClassifier\n",
    "from sklearn.gaussian_process import GaussianProcessClassifier\n",
    "from sklearn.gaussian_process.kernels import RBF\n",
    "from sklearn.inspection import DecisionBoundaryDisplay\n",
    "from sklearn.model_selection import train_test_split\n",
    "from sklearn.naive_bayes import GaussianNB\n",
    "from sklearn.neighbors import KNeighborsClassifier\n",
    "from sklearn.neural_network import MLPClassifier\n",
    "from sklearn.pipeline import make_pipeline\n",
    "from sklearn.preprocessing import StandardScaler\n",
    "from sklearn.svm import SVC\n",
    "from sklearn.tree import DecisionTreeClassifier\n",
    "from sklearn import svm\n",
    "from sklearn.metrics import accuracy_score\n",
    "from sklearn.metrics import classification_report\n",
    "from sklearn.metrics import confusion_matrix"
   ]
  },
  {
   "cell_type": "code",
   "execution_count": 2,
   "id": "7ee6ef22",
   "metadata": {},
   "outputs": [],
   "source": [
    "df = pd.read_csv('../../Combine_Data/men/ph_encoded.csv')\n",
    "olymp = pd.read_csv('../../Data/cleandata22-23/encoded_m_olympics_ph.csv')\n",
    "phnames = pd.read_csv('../../Data/cleandata22-23/encoded_m_olympics_phnames.csv')\n",
    "pholymp = pd.read_csv('../../Data/cleandata22-23/men22_23.csv')"
   ]
  },
  {
   "cell_type": "code",
   "execution_count": 3,
   "id": "0a276aba",
   "metadata": {},
   "outputs": [
    {
     "name": "stdout",
     "output_type": "stream",
     "text": [
      "<class 'pandas.core.frame.DataFrame'>\n",
      "RangeIndex: 535 entries, 0 to 534\n",
      "Data columns (total 11 columns):\n",
      " #   Column       Non-Null Count  Dtype  \n",
      "---  ------       --------------  -----  \n",
      " 0   Rank         535 non-null    int64  \n",
      " 1   D            535 non-null    float64\n",
      " 2   E            535 non-null    float64\n",
      " 3   ND           535 non-null    float64\n",
      " 4   Total        535 non-null    float64\n",
      " 5   year         535 non-null    int64  \n",
      " 6   medal        535 non-null    int64  \n",
      " 7   Name         535 non-null    int64  \n",
      " 8   Nation       535 non-null    int64  \n",
      " 9   round_final  535 non-null    bool   \n",
      " 10  round_qual   535 non-null    bool   \n",
      "dtypes: bool(2), float64(4), int64(5)\n",
      "memory usage: 38.8 KB\n"
     ]
    }
   ],
   "source": [
    "df.info()"
   ]
  },
  {
   "cell_type": "code",
   "execution_count": 4,
   "id": "7c59276b",
   "metadata": {
    "scrolled": false
   },
   "outputs": [
    {
     "name": "stderr",
     "output_type": "stream",
     "text": [
      "/Users/ryantalbot/opt/anaconda3/envs/tf2/lib/python3.9/site-packages/sklearn/metrics/_classification.py:1469: UndefinedMetricWarning: Precision and F-score are ill-defined and being set to 0.0 in labels with no predicted samples. Use `zero_division` parameter to control this behavior.\n",
      "  _warn_prf(average, modifier, msg_start, len(result))\n",
      "/Users/ryantalbot/opt/anaconda3/envs/tf2/lib/python3.9/site-packages/sklearn/metrics/_classification.py:1469: UndefinedMetricWarning: Precision and F-score are ill-defined and being set to 0.0 in labels with no predicted samples. Use `zero_division` parameter to control this behavior.\n",
      "  _warn_prf(average, modifier, msg_start, len(result))\n",
      "/Users/ryantalbot/opt/anaconda3/envs/tf2/lib/python3.9/site-packages/sklearn/metrics/_classification.py:1469: UndefinedMetricWarning: Precision and F-score are ill-defined and being set to 0.0 in labels with no predicted samples. Use `zero_division` parameter to control this behavior.\n",
      "  _warn_prf(average, modifier, msg_start, len(result))\n",
      "/Users/ryantalbot/opt/anaconda3/envs/tf2/lib/python3.9/site-packages/sklearn/metrics/_classification.py:1469: UndefinedMetricWarning: Precision and F-score are ill-defined and being set to 0.0 in labels with no predicted samples. Use `zero_division` parameter to control this behavior.\n",
      "  _warn_prf(average, modifier, msg_start, len(result))\n",
      "/Users/ryantalbot/opt/anaconda3/envs/tf2/lib/python3.9/site-packages/sklearn/metrics/_classification.py:1469: UndefinedMetricWarning: Precision and F-score are ill-defined and being set to 0.0 in labels with no predicted samples. Use `zero_division` parameter to control this behavior.\n",
      "  _warn_prf(average, modifier, msg_start, len(result))\n",
      "/Users/ryantalbot/opt/anaconda3/envs/tf2/lib/python3.9/site-packages/sklearn/metrics/_classification.py:1469: UndefinedMetricWarning: Precision and F-score are ill-defined and being set to 0.0 in labels with no predicted samples. Use `zero_division` parameter to control this behavior.\n",
      "  _warn_prf(average, modifier, msg_start, len(result))\n",
      "/Users/ryantalbot/opt/anaconda3/envs/tf2/lib/python3.9/site-packages/sklearn/metrics/_classification.py:1469: UndefinedMetricWarning: Precision and F-score are ill-defined and being set to 0.0 in labels with no predicted samples. Use `zero_division` parameter to control this behavior.\n",
      "  _warn_prf(average, modifier, msg_start, len(result))\n",
      "/Users/ryantalbot/opt/anaconda3/envs/tf2/lib/python3.9/site-packages/sklearn/metrics/_classification.py:1469: UndefinedMetricWarning: Precision and F-score are ill-defined and being set to 0.0 in labels with no predicted samples. Use `zero_division` parameter to control this behavior.\n",
      "  _warn_prf(average, modifier, msg_start, len(result))\n",
      "/Users/ryantalbot/opt/anaconda3/envs/tf2/lib/python3.9/site-packages/sklearn/metrics/_classification.py:1469: UndefinedMetricWarning: Precision and F-score are ill-defined and being set to 0.0 in labels with no predicted samples. Use `zero_division` parameter to control this behavior.\n",
      "  _warn_prf(average, modifier, msg_start, len(result))\n",
      "/Users/ryantalbot/opt/anaconda3/envs/tf2/lib/python3.9/site-packages/sklearn/metrics/_classification.py:1469: UndefinedMetricWarning: Precision and F-score are ill-defined and being set to 0.0 in labels with no predicted samples. Use `zero_division` parameter to control this behavior.\n",
      "  _warn_prf(average, modifier, msg_start, len(result))\n",
      "/Users/ryantalbot/opt/anaconda3/envs/tf2/lib/python3.9/site-packages/sklearn/metrics/_classification.py:1469: UndefinedMetricWarning: Precision and F-score are ill-defined and being set to 0.0 in labels with no predicted samples. Use `zero_division` parameter to control this behavior.\n",
      "  _warn_prf(average, modifier, msg_start, len(result))\n",
      "/Users/ryantalbot/opt/anaconda3/envs/tf2/lib/python3.9/site-packages/sklearn/metrics/_classification.py:1469: UndefinedMetricWarning: Precision and F-score are ill-defined and being set to 0.0 in labels with no predicted samples. Use `zero_division` parameter to control this behavior.\n",
      "  _warn_prf(average, modifier, msg_start, len(result))\n",
      "/Users/ryantalbot/opt/anaconda3/envs/tf2/lib/python3.9/site-packages/sklearn/metrics/_classification.py:1469: UndefinedMetricWarning: Precision and F-score are ill-defined and being set to 0.0 in labels with no predicted samples. Use `zero_division` parameter to control this behavior.\n",
      "  _warn_prf(average, modifier, msg_start, len(result))\n",
      "/Users/ryantalbot/opt/anaconda3/envs/tf2/lib/python3.9/site-packages/sklearn/metrics/_classification.py:1469: UndefinedMetricWarning: Precision and F-score are ill-defined and being set to 0.0 in labels with no predicted samples. Use `zero_division` parameter to control this behavior.\n",
      "  _warn_prf(average, modifier, msg_start, len(result))\n",
      "/Users/ryantalbot/opt/anaconda3/envs/tf2/lib/python3.9/site-packages/sklearn/metrics/_classification.py:1469: UndefinedMetricWarning: Precision and F-score are ill-defined and being set to 0.0 in labels with no predicted samples. Use `zero_division` parameter to control this behavior.\n",
      "  _warn_prf(average, modifier, msg_start, len(result))\n"
     ]
    },
    {
     "name": "stdout",
     "output_type": "stream",
     "text": [
      "Classifier: Random Forest\n",
      "Accuracy: 0.9813\n",
      "Classification Report:\n",
      "              precision    recall  f1-score   support\n",
      "\n",
      "           0       0.98      1.00      0.99       105\n",
      "           1       0.00      0.00      0.00         2\n",
      "\n",
      "    accuracy                           0.98       107\n",
      "   macro avg       0.49      0.50      0.50       107\n",
      "weighted avg       0.96      0.98      0.97       107\n",
      "\n",
      "Confusion Matrix:\n",
      "[[105   0]\n",
      " [  2   0]]\n",
      "\n",
      "Classifier: AdaBoost\n",
      "Accuracy: 0.9813\n",
      "Classification Report:\n",
      "              precision    recall  f1-score   support\n",
      "\n",
      "           0       0.98      1.00      0.99       105\n",
      "           1       0.00      0.00      0.00         2\n",
      "\n",
      "    accuracy                           0.98       107\n",
      "   macro avg       0.49      0.50      0.50       107\n",
      "weighted avg       0.96      0.98      0.97       107\n",
      "\n",
      "Confusion Matrix:\n",
      "[[105   0]\n",
      " [  2   0]]\n",
      "\n",
      "Classifier: SVM\n",
      "Accuracy: 0.9813\n",
      "Classification Report:\n",
      "              precision    recall  f1-score   support\n",
      "\n",
      "           0       0.98      1.00      0.99       105\n",
      "           1       0.00      0.00      0.00         2\n",
      "\n",
      "    accuracy                           0.98       107\n",
      "   macro avg       0.49      0.50      0.50       107\n",
      "weighted avg       0.96      0.98      0.97       107\n",
      "\n",
      "Confusion Matrix:\n",
      "[[105   0]\n",
      " [  2   0]]\n",
      "\n",
      "Classifier: K-Nearest Neighbors\n",
      "Accuracy: 0.9813\n",
      "Classification Report:\n",
      "              precision    recall  f1-score   support\n",
      "\n",
      "           0       0.98      1.00      0.99       105\n",
      "           1       0.00      0.00      0.00         2\n",
      "\n",
      "    accuracy                           0.98       107\n",
      "   macro avg       0.49      0.50      0.50       107\n",
      "weighted avg       0.96      0.98      0.97       107\n",
      "\n",
      "Confusion Matrix:\n",
      "[[105   0]\n",
      " [  2   0]]\n",
      "\n",
      "Classifier: Decision Tree\n",
      "Accuracy: 0.9813\n",
      "Classification Report:\n",
      "              precision    recall  f1-score   support\n",
      "\n",
      "           0       0.98      1.00      0.99       105\n",
      "           1       0.00      0.00      0.00         2\n",
      "\n",
      "    accuracy                           0.98       107\n",
      "   macro avg       0.49      0.50      0.50       107\n",
      "weighted avg       0.96      0.98      0.97       107\n",
      "\n",
      "Confusion Matrix:\n",
      "[[105   0]\n",
      " [  2   0]]\n",
      "\n",
      "Classifier: Naive Bayes\n",
      "Accuracy: 0.9252\n",
      "Classification Report:\n",
      "              precision    recall  f1-score   support\n",
      "\n",
      "           0       1.00      0.92      0.96       105\n",
      "           1       0.20      1.00      0.33         2\n",
      "\n",
      "    accuracy                           0.93       107\n",
      "   macro avg       0.60      0.96      0.65       107\n",
      "weighted avg       0.99      0.93      0.95       107\n",
      "\n",
      "Confusion Matrix:\n",
      "[[97  8]\n",
      " [ 0  2]]\n",
      "\n",
      "Classifier: Neural Network\n",
      "Accuracy: 0.9813\n",
      "Classification Report:\n",
      "              precision    recall  f1-score   support\n",
      "\n",
      "           0       0.98      1.00      0.99       105\n",
      "           1       0.00      0.00      0.00         2\n",
      "\n",
      "    accuracy                           0.98       107\n",
      "   macro avg       0.49      0.50      0.50       107\n",
      "weighted avg       0.96      0.98      0.97       107\n",
      "\n",
      "Confusion Matrix:\n",
      "[[105   0]\n",
      " [  2   0]]\n",
      "\n"
     ]
    },
    {
     "name": "stderr",
     "output_type": "stream",
     "text": [
      "/Users/ryantalbot/opt/anaconda3/envs/tf2/lib/python3.9/site-packages/sklearn/neural_network/_multilayer_perceptron.py:691: ConvergenceWarning: Stochastic Optimizer: Maximum iterations (200) reached and the optimization hasn't converged yet.\n",
      "  warnings.warn(\n",
      "/Users/ryantalbot/opt/anaconda3/envs/tf2/lib/python3.9/site-packages/sklearn/metrics/_classification.py:1469: UndefinedMetricWarning: Precision and F-score are ill-defined and being set to 0.0 in labels with no predicted samples. Use `zero_division` parameter to control this behavior.\n",
      "  _warn_prf(average, modifier, msg_start, len(result))\n",
      "/Users/ryantalbot/opt/anaconda3/envs/tf2/lib/python3.9/site-packages/sklearn/metrics/_classification.py:1469: UndefinedMetricWarning: Precision and F-score are ill-defined and being set to 0.0 in labels with no predicted samples. Use `zero_division` parameter to control this behavior.\n",
      "  _warn_prf(average, modifier, msg_start, len(result))\n",
      "/Users/ryantalbot/opt/anaconda3/envs/tf2/lib/python3.9/site-packages/sklearn/metrics/_classification.py:1469: UndefinedMetricWarning: Precision and F-score are ill-defined and being set to 0.0 in labels with no predicted samples. Use `zero_division` parameter to control this behavior.\n",
      "  _warn_prf(average, modifier, msg_start, len(result))\n"
     ]
    }
   ],
   "source": [
    "y = df['medal']\n",
    "X = df.drop(columns=['medal'])\n",
    "\n",
    "# Split the data into training and testing sets\n",
    "# CHANGED RANDOM STATE TO HAVE A LARGER NUMBER OF VALUES IN TEST DF\n",
    "X_train, X_test, y_train, y_test = train_test_split(X, y, test_size=0.2, random_state=42)\n",
    "\n",
    "# Initialize classifiers\n",
    "classifiers = {\n",
    "    \"Random Forest\": RandomForestClassifier(),\n",
    "    \"AdaBoost\": AdaBoostClassifier(),\n",
    "    \"SVM\": SVC(),\n",
    "    \"K-Nearest Neighbors\": KNeighborsClassifier(),\n",
    "    \"Decision Tree\": DecisionTreeClassifier(),\n",
    "    \"Naive Bayes\": GaussianNB(),\n",
    "    \"Neural Network\": MLPClassifier(),\n",
    "}\n",
    "\n",
    "results = {}\n",
    "\n",
    "# Iterate through each classifier\n",
    "for name, clf in classifiers.items():\n",
    "    # Create a pipeline with StandardScaler for classifiers that require it\n",
    "    if name in [\"SVM\", \"K-Nearest Neighbors\", \"Neural Network\"]:\n",
    "        clf = make_pipeline(StandardScaler(), clf)\n",
    "\n",
    "    # Fit the model to the training data\n",
    "    clf.fit(X_train, y_train)\n",
    "\n",
    "    # Make predictions on the test data\n",
    "    y_pred = clf.predict(X_test)\n",
    "\n",
    "    # Evaluate the model's performance\n",
    "    accuracy = accuracy_score(y_test, y_pred)\n",
    "    report = classification_report(y_test, y_pred)\n",
    "    conf_matrix = confusion_matrix(y_test, y_pred)\n",
    "\n",
    "    results[name] = {\n",
    "        \"accuracy\": accuracy,\n",
    "        \"classification_report\": report,\n",
    "        \"confusion_matrix\": conf_matrix,\n",
    "    }\n",
    "\n",
    "# Print the results\n",
    "for name, result in results.items():\n",
    "    print(f\"Classifier: {name}\")\n",
    "    print(f\"Accuracy: {result['accuracy']:.4f}\")\n",
    "    print(f\"Classification Report:\\n{result['classification_report']}\")\n",
    "    print(f\"Confusion Matrix:\\n{result['confusion_matrix']}\\n\")\n"
   ]
  },
  {
   "cell_type": "markdown",
   "id": "8eee775d",
   "metadata": {},
   "source": [
    "Classifier: Random Forest, AdaBoost, and Decision Tree\n",
    "Accuracy: 0.9904"
   ]
  },
  {
   "cell_type": "code",
   "execution_count": 5,
   "id": "3cd9f0bd",
   "metadata": {},
   "outputs": [
    {
     "data": {
      "text/html": [
       "<div>\n",
       "<style scoped>\n",
       "    .dataframe tbody tr th:only-of-type {\n",
       "        vertical-align: middle;\n",
       "    }\n",
       "\n",
       "    .dataframe tbody tr th {\n",
       "        vertical-align: top;\n",
       "    }\n",
       "\n",
       "    .dataframe thead th {\n",
       "        text-align: right;\n",
       "    }\n",
       "</style>\n",
       "<table border=\"1\" class=\"dataframe\">\n",
       "  <thead>\n",
       "    <tr style=\"text-align: right;\">\n",
       "      <th></th>\n",
       "      <th>Rank</th>\n",
       "      <th>D</th>\n",
       "      <th>E</th>\n",
       "      <th>ND</th>\n",
       "      <th>Total</th>\n",
       "      <th>year</th>\n",
       "      <th>Name</th>\n",
       "      <th>Nation</th>\n",
       "      <th>round_final</th>\n",
       "      <th>round_qual</th>\n",
       "    </tr>\n",
       "  </thead>\n",
       "  <tbody>\n",
       "    <tr>\n",
       "      <th>284</th>\n",
       "      <td>7</td>\n",
       "      <td>6.3</td>\n",
       "      <td>8.366</td>\n",
       "      <td>0.0</td>\n",
       "      <td>14.666</td>\n",
       "      <td>2019</td>\n",
       "      <td>68</td>\n",
       "      <td>26</td>\n",
       "      <td>False</td>\n",
       "      <td>True</td>\n",
       "    </tr>\n",
       "    <tr>\n",
       "      <th>347</th>\n",
       "      <td>70</td>\n",
       "      <td>5.0</td>\n",
       "      <td>7.800</td>\n",
       "      <td>0.0</td>\n",
       "      <td>12.800</td>\n",
       "      <td>2019</td>\n",
       "      <td>118</td>\n",
       "      <td>1</td>\n",
       "      <td>False</td>\n",
       "      <td>True</td>\n",
       "    </tr>\n",
       "    <tr>\n",
       "      <th>440</th>\n",
       "      <td>162</td>\n",
       "      <td>4.8</td>\n",
       "      <td>6.100</td>\n",
       "      <td>0.0</td>\n",
       "      <td>10.900</td>\n",
       "      <td>2019</td>\n",
       "      <td>14</td>\n",
       "      <td>72</td>\n",
       "      <td>False</td>\n",
       "      <td>True</td>\n",
       "    </tr>\n",
       "    <tr>\n",
       "      <th>421</th>\n",
       "      <td>144</td>\n",
       "      <td>4.9</td>\n",
       "      <td>6.600</td>\n",
       "      <td>0.0</td>\n",
       "      <td>11.500</td>\n",
       "      <td>2019</td>\n",
       "      <td>314</td>\n",
       "      <td>43</td>\n",
       "      <td>False</td>\n",
       "      <td>True</td>\n",
       "    </tr>\n",
       "    <tr>\n",
       "      <th>149</th>\n",
       "      <td>83</td>\n",
       "      <td>3.6</td>\n",
       "      <td>7.900</td>\n",
       "      <td>0.0</td>\n",
       "      <td>11.500</td>\n",
       "      <td>2018</td>\n",
       "      <td>307</td>\n",
       "      <td>35</td>\n",
       "      <td>False</td>\n",
       "      <td>True</td>\n",
       "    </tr>\n",
       "  </tbody>\n",
       "</table>\n",
       "</div>"
      ],
      "text/plain": [
       "     Rank    D      E   ND   Total  year  Name  Nation  round_final  \\\n",
       "284     7  6.3  8.366  0.0  14.666  2019    68      26        False   \n",
       "347    70  5.0  7.800  0.0  12.800  2019   118       1        False   \n",
       "440   162  4.8  6.100  0.0  10.900  2019    14      72        False   \n",
       "421   144  4.9  6.600  0.0  11.500  2019   314      43        False   \n",
       "149    83  3.6  7.900  0.0  11.500  2018   307      35        False   \n",
       "\n",
       "     round_qual  \n",
       "284        True  \n",
       "347        True  \n",
       "440        True  \n",
       "421        True  \n",
       "149        True  "
      ]
     },
     "execution_count": 5,
     "metadata": {},
     "output_type": "execute_result"
    }
   ],
   "source": [
    "X_train.head()"
   ]
  },
  {
   "cell_type": "code",
   "execution_count": 6,
   "id": "c2ab74c7",
   "metadata": {},
   "outputs": [
    {
     "data": {
      "text/html": [
       "<div>\n",
       "<style scoped>\n",
       "    .dataframe tbody tr th:only-of-type {\n",
       "        vertical-align: middle;\n",
       "    }\n",
       "\n",
       "    .dataframe tbody tr th {\n",
       "        vertical-align: top;\n",
       "    }\n",
       "\n",
       "    .dataframe thead th {\n",
       "        text-align: right;\n",
       "    }\n",
       "</style>\n",
       "<table border=\"1\" class=\"dataframe\">\n",
       "  <thead>\n",
       "    <tr style=\"text-align: right;\">\n",
       "      <th></th>\n",
       "      <th>Rank</th>\n",
       "      <th>D Score</th>\n",
       "      <th>E Score</th>\n",
       "      <th>Pen.</th>\n",
       "      <th>Total</th>\n",
       "      <th>year</th>\n",
       "      <th>Name</th>\n",
       "      <th>nation</th>\n",
       "      <th>round_AAfinal</th>\n",
       "      <th>round_TeamFinal</th>\n",
       "      <th>round_TeamQual</th>\n",
       "      <th>round_final</th>\n",
       "      <th>round_qual</th>\n",
       "    </tr>\n",
       "  </thead>\n",
       "  <tbody>\n",
       "    <tr>\n",
       "      <th>0</th>\n",
       "      <td>33.0</td>\n",
       "      <td>4.2</td>\n",
       "      <td>6.666</td>\n",
       "      <td>0.0</td>\n",
       "      <td>10.866</td>\n",
       "      <td>2022</td>\n",
       "      <td>232</td>\n",
       "      <td>64</td>\n",
       "      <td>False</td>\n",
       "      <td>False</td>\n",
       "      <td>False</td>\n",
       "      <td>False</td>\n",
       "      <td>True</td>\n",
       "    </tr>\n",
       "    <tr>\n",
       "      <th>1</th>\n",
       "      <td>33.0</td>\n",
       "      <td>4.2</td>\n",
       "      <td>6.666</td>\n",
       "      <td>0.0</td>\n",
       "      <td>10.866</td>\n",
       "      <td>2022</td>\n",
       "      <td>232</td>\n",
       "      <td>64</td>\n",
       "      <td>False</td>\n",
       "      <td>False</td>\n",
       "      <td>False</td>\n",
       "      <td>False</td>\n",
       "      <td>True</td>\n",
       "    </tr>\n",
       "    <tr>\n",
       "      <th>2</th>\n",
       "      <td>44.0</td>\n",
       "      <td>4.4</td>\n",
       "      <td>7.800</td>\n",
       "      <td>0.0</td>\n",
       "      <td>12.200</td>\n",
       "      <td>2023</td>\n",
       "      <td>232</td>\n",
       "      <td>64</td>\n",
       "      <td>False</td>\n",
       "      <td>False</td>\n",
       "      <td>False</td>\n",
       "      <td>False</td>\n",
       "      <td>True</td>\n",
       "    </tr>\n",
       "    <tr>\n",
       "      <th>3</th>\n",
       "      <td>58.0</td>\n",
       "      <td>4.4</td>\n",
       "      <td>7.266</td>\n",
       "      <td>0.0</td>\n",
       "      <td>11.666</td>\n",
       "      <td>2023</td>\n",
       "      <td>232</td>\n",
       "      <td>64</td>\n",
       "      <td>False</td>\n",
       "      <td>False</td>\n",
       "      <td>False</td>\n",
       "      <td>False</td>\n",
       "      <td>True</td>\n",
       "    </tr>\n",
       "    <tr>\n",
       "      <th>4</th>\n",
       "      <td>21.0</td>\n",
       "      <td>5.1</td>\n",
       "      <td>6.166</td>\n",
       "      <td>0.0</td>\n",
       "      <td>11.266</td>\n",
       "      <td>2022</td>\n",
       "      <td>518</td>\n",
       "      <td>29</td>\n",
       "      <td>True</td>\n",
       "      <td>False</td>\n",
       "      <td>False</td>\n",
       "      <td>False</td>\n",
       "      <td>False</td>\n",
       "    </tr>\n",
       "  </tbody>\n",
       "</table>\n",
       "</div>"
      ],
      "text/plain": [
       "   Rank  D Score  E Score  Pen.   Total  year  Name  nation  round_AAfinal  \\\n",
       "0  33.0      4.2    6.666   0.0  10.866  2022   232      64          False   \n",
       "1  33.0      4.2    6.666   0.0  10.866  2022   232      64          False   \n",
       "2  44.0      4.4    7.800   0.0  12.200  2023   232      64          False   \n",
       "3  58.0      4.4    7.266   0.0  11.666  2023   232      64          False   \n",
       "4  21.0      5.1    6.166   0.0  11.266  2022   518      29           True   \n",
       "\n",
       "   round_TeamFinal  round_TeamQual  round_final  round_qual  \n",
       "0            False           False        False        True  \n",
       "1            False           False        False        True  \n",
       "2            False           False        False        True  \n",
       "3            False           False        False        True  \n",
       "4            False           False        False       False  "
      ]
     },
     "execution_count": 6,
     "metadata": {},
     "output_type": "execute_result"
    }
   ],
   "source": [
    "olymp.head()\n"
   ]
  },
  {
   "cell_type": "code",
   "execution_count": 7,
   "id": "8fde8600",
   "metadata": {},
   "outputs": [
    {
     "name": "stdout",
     "output_type": "stream",
     "text": [
      "AdaBoost Classifier\n",
      "Accuracy: 0.9813\n",
      "Classification Report:\n",
      "              precision    recall  f1-score   support\n",
      "\n",
      "           0       0.98      1.00      0.99       105\n",
      "           1       0.00      0.00      0.00         2\n",
      "\n",
      "    accuracy                           0.98       107\n",
      "   macro avg       0.49      0.50      0.50       107\n",
      "weighted avg       0.96      0.98      0.97       107\n",
      "\n",
      "Confusion Matrix:\n",
      "[[105   0]\n",
      " [  2   0]]\n"
     ]
    },
    {
     "name": "stderr",
     "output_type": "stream",
     "text": [
      "/Users/ryantalbot/opt/anaconda3/envs/tf2/lib/python3.9/site-packages/sklearn/metrics/_classification.py:1469: UndefinedMetricWarning: Precision and F-score are ill-defined and being set to 0.0 in labels with no predicted samples. Use `zero_division` parameter to control this behavior.\n",
      "  _warn_prf(average, modifier, msg_start, len(result))\n",
      "/Users/ryantalbot/opt/anaconda3/envs/tf2/lib/python3.9/site-packages/sklearn/metrics/_classification.py:1469: UndefinedMetricWarning: Precision and F-score are ill-defined and being set to 0.0 in labels with no predicted samples. Use `zero_division` parameter to control this behavior.\n",
      "  _warn_prf(average, modifier, msg_start, len(result))\n",
      "/Users/ryantalbot/opt/anaconda3/envs/tf2/lib/python3.9/site-packages/sklearn/metrics/_classification.py:1469: UndefinedMetricWarning: Precision and F-score are ill-defined and being set to 0.0 in labels with no predicted samples. Use `zero_division` parameter to control this behavior.\n",
      "  _warn_prf(average, modifier, msg_start, len(result))\n"
     ]
    }
   ],
   "source": [
    "import pandas as pd\n",
    "from sklearn.model_selection import train_test_split\n",
    "from sklearn.metrics import accuracy_score\n",
    "from sklearn.ensemble import RandomForestClassifier\n",
    "\n",
    "data = df.copy()  \n",
    "\n",
    "y = data['medal']\n",
    "X = data.drop(columns=['medal'])\n",
    "\n",
    "# Split the data into training and testing sets\n",
    "X_train, X_test, y_train, y_test = train_test_split(X, y, test_size=0.20, random_state=42)\n",
    "\n",
    "# Initialize the AdaBoost classifier\n",
    "clf = AdaBoostClassifier()\n",
    "\n",
    "# Fit the model to the training data\n",
    "clf.fit(X_train, y_train)\n",
    "\n",
    "# Make predictions on the test data\n",
    "y_pred = clf.predict(X_test)\n",
    "\n",
    "# Evaluate the model's performance\n",
    "accuracy = accuracy_score(y_test, y_pred)\n",
    "report = classification_report(y_test, y_pred)\n",
    "conf_matrix = confusion_matrix(y_test, y_pred)\n",
    "\n",
    "# Print the results\n",
    "print(\"AdaBoost Classifier\")\n",
    "print(f\"Accuracy: {accuracy:.4f}\")\n",
    "print(f\"Classification Report:\\n{report}\")\n",
    "print(f\"Confusion Matrix:\\n{conf_matrix}\")"
   ]
  },
  {
   "cell_type": "code",
   "execution_count": 8,
   "id": "ff6abe32",
   "metadata": {},
   "outputs": [],
   "source": [
    "olymp = pd.read_csv('../../Data/cleandata22-23/encoded_m_olympics_ph.csv')\n"
   ]
  },
  {
   "cell_type": "code",
   "execution_count": 9,
   "id": "87f9b19b",
   "metadata": {},
   "outputs": [],
   "source": [
    "olymp.rename(columns={'D Score': 'D', 'E Score': 'E',\n",
    "                     'Pen.': 'ND', 'nation': 'Nation'}, inplace=True)"
   ]
  },
  {
   "cell_type": "code",
   "execution_count": 10,
   "id": "090dc81c",
   "metadata": {},
   "outputs": [],
   "source": [
    "olymp=olymp.drop(columns=['round_TeamFinal', 'round_AAfinal', 'round_TeamQual'])"
   ]
  },
  {
   "cell_type": "code",
   "execution_count": 16,
   "id": "da66925b",
   "metadata": {},
   "outputs": [],
   "source": [
    "y_predz = clf.predict(olymp)"
   ]
  },
  {
   "cell_type": "code",
   "execution_count": 17,
   "id": "1fc390bc",
   "metadata": {},
   "outputs": [],
   "source": [
    "ypreds  = pd.Series(y_predz)\n",
    "olymp['ypredz']=ypreds"
   ]
  },
  {
   "cell_type": "code",
   "execution_count": 18,
   "id": "226187c1",
   "metadata": {},
   "outputs": [
    {
     "data": {
      "text/plain": [
       "ypredz\n",
       "0    2549\n",
       "1       9\n",
       "Name: count, dtype: int64"
      ]
     },
     "execution_count": 18,
     "metadata": {},
     "output_type": "execute_result"
    }
   ],
   "source": [
    "olymp['ypredz'].value_counts()\n"
   ]
  },
  {
   "cell_type": "code",
   "execution_count": 19,
   "id": "378ea9a3",
   "metadata": {},
   "outputs": [],
   "source": [
    "filtered_df = olymp[olymp['ypredz'] == 1]"
   ]
  },
  {
   "cell_type": "code",
   "execution_count": 20,
   "id": "c34e87e2",
   "metadata": {},
   "outputs": [
    {
     "data": {
      "text/plain": [
       "array([511, 356, 673, 473, 474])"
      ]
     },
     "execution_count": 20,
     "metadata": {},
     "output_type": "execute_result"
    }
   ],
   "source": [
    "filtered_df['Name'].unique()"
   ]
  },
  {
   "cell_type": "code",
   "execution_count": 21,
   "id": "62a74c76",
   "metadata": {},
   "outputs": [],
   "source": [
    "name_encoded_values = [511, 356, 673, 473, 474]\n",
    "\n",
    "# Filter the DataFrame to get the corresponding \"Name\" values\n",
    "result = phnames.loc[phnames['Name_encoded'].isin(name_encoded_values), 'Name']\n"
   ]
  },
  {
   "cell_type": "code",
   "execution_count": 23,
   "id": "d4d92215",
   "metadata": {},
   "outputs": [
    {
     "data": {
      "text/plain": [
       "array(['nariman kurbanov', 'joshua nathan', 'stephen nedoroscik',\n",
       "       'max whitlock', 'max whitlock obe'], dtype=object)"
      ]
     },
     "execution_count": 23,
     "metadata": {},
     "output_type": "execute_result"
    }
   ],
   "source": [
    "result.unique()"
   ]
  },
  {
   "cell_type": "code",
   "execution_count": 24,
   "id": "c07336ef",
   "metadata": {},
   "outputs": [],
   "source": [
    "pholymp[\"Name\"]=pholymp[\"Name\"].str.lower()"
   ]
  },
  {
   "cell_type": "code",
   "execution_count": 25,
   "id": "c8ccc01e",
   "metadata": {},
   "outputs": [],
   "source": [
    "names_to_filter = ['nariman kurbanov', 'joshua nathan', 'stephen nedoroscik',\n",
    "       'max whitlock', 'max whitlock obe']\n",
    "\n",
    "# Filter the DataFrame to get rows with the specified \"Name\" values\n",
    "result = pholymp[pholymp['Name'].isin(names_to_filter)]"
   ]
  },
  {
   "cell_type": "code",
   "execution_count": 26,
   "id": "6d874840",
   "metadata": {},
   "outputs": [
    {
     "data": {
      "text/plain": [
       "Country\n",
       "GBR    57\n",
       "KAZ    31\n",
       "USA    12\n",
       "Name: count, dtype: int64"
      ]
     },
     "execution_count": 26,
     "metadata": {},
     "output_type": "execute_result"
    }
   ],
   "source": [
    "result['Country'].value_counts()"
   ]
  },
  {
   "cell_type": "code",
   "execution_count": 27,
   "id": "a6475d23",
   "metadata": {},
   "outputs": [],
   "source": [
    "usas=result[result['Country']=='USA']"
   ]
  },
  {
   "cell_type": "code",
   "execution_count": 28,
   "id": "9f757ea0",
   "metadata": {},
   "outputs": [
    {
     "data": {
      "text/plain": [
       "array(['stephen nedoroscik'], dtype=object)"
      ]
     },
     "execution_count": 28,
     "metadata": {},
     "output_type": "execute_result"
    }
   ],
   "source": [
    "usas['Name'].unique()"
   ]
  },
  {
   "cell_type": "code",
   "execution_count": null,
   "id": "5ba6abd6",
   "metadata": {},
   "outputs": [],
   "source": []
  }
 ],
 "metadata": {
  "kernelspec": {
   "display_name": "Python 3 (ipykernel)",
   "language": "python",
   "name": "python3"
  },
  "language_info": {
   "codemirror_mode": {
    "name": "ipython",
    "version": 3
   },
   "file_extension": ".py",
   "mimetype": "text/x-python",
   "name": "python",
   "nbconvert_exporter": "python",
   "pygments_lexer": "ipython3",
   "version": "3.9.12"
  }
 },
 "nbformat": 4,
 "nbformat_minor": 5
}
