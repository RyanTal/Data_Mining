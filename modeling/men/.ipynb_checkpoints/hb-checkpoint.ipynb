{
 "cells": [
  {
   "cell_type": "markdown",
   "id": "0fab7116",
   "metadata": {},
   "source": [
    "# USA unlikely to medal\n",
    "\n",
    "## scaling no improvement"
   ]
  },
  {
   "cell_type": "code",
   "execution_count": 14,
   "id": "0e31f3bd",
   "metadata": {},
   "outputs": [],
   "source": [
    "import pandas as pd\n",
    "import numpy as np\n",
    "from scipy import stats\n",
    "from mlxtend.preprocessing import minmax_scaling\n",
    "import seaborn as sns\n",
    "import matplotlib.pyplot as plt\n",
    "from matplotlib.colors import ListedColormap\n",
    "from sklearn.datasets import make_circles, make_classification, make_moons\n",
    "from sklearn.discriminant_analysis import QuadraticDiscriminantAnalysis\n",
    "from sklearn.ensemble import AdaBoostClassifier, RandomForestClassifier\n",
    "from sklearn.gaussian_process import GaussianProcessClassifier\n",
    "from sklearn.gaussian_process.kernels import RBF\n",
    "from sklearn.inspection import DecisionBoundaryDisplay\n",
    "from sklearn.model_selection import train_test_split\n",
    "from sklearn.naive_bayes import GaussianNB\n",
    "from sklearn.neighbors import KNeighborsClassifier\n",
    "from sklearn.neural_network import MLPClassifier\n",
    "from sklearn.pipeline import make_pipeline\n",
    "from sklearn.preprocessing import StandardScaler\n",
    "from sklearn.svm import SVC\n",
    "from sklearn.tree import DecisionTreeClassifier\n",
    "from sklearn import svm\n",
    "from sklearn.metrics import accuracy_score\n",
    "from sklearn.metrics import classification_report\n",
    "from sklearn.metrics import confusion_matrix"
   ]
  },
  {
   "cell_type": "code",
   "execution_count": 15,
   "id": "cefc6fbd",
   "metadata": {},
   "outputs": [],
   "source": [
    "df = pd.read_csv('../../Combine_Data/men/hb_encoded.csv')\n",
    "olymp = pd.read_csv('../../Data/cleandata22-23/encoded_m_olympics_hb.csv')\n",
    "hbnames = pd.read_csv('../../Data/cleandata22-23/encoded_m_olympics_hbnames.csv')\n",
    "hbolymp = pd.read_csv('../../Data/cleandata22-23/men22_23.csv')"
   ]
  },
  {
   "cell_type": "code",
   "execution_count": 16,
   "id": "590df2a4",
   "metadata": {},
   "outputs": [
    {
     "name": "stdout",
     "output_type": "stream",
     "text": [
      "<class 'pandas.core.frame.DataFrame'>\n",
      "RangeIndex: 502 entries, 0 to 501\n",
      "Data columns (total 11 columns):\n",
      " #   Column       Non-Null Count  Dtype  \n",
      "---  ------       --------------  -----  \n",
      " 0   Rank         502 non-null    int64  \n",
      " 1   D            502 non-null    float64\n",
      " 2   E            502 non-null    float64\n",
      " 3   ND           502 non-null    float64\n",
      " 4   year         502 non-null    int64  \n",
      " 5   Total        502 non-null    float64\n",
      " 6   medal        502 non-null    int64  \n",
      " 7   Name         502 non-null    int64  \n",
      " 8   Nation       502 non-null    int64  \n",
      " 9   round_final  502 non-null    bool   \n",
      " 10  round_qual   502 non-null    bool   \n",
      "dtypes: bool(2), float64(4), int64(5)\n",
      "memory usage: 36.4 KB\n"
     ]
    }
   ],
   "source": [
    "df.info()"
   ]
  },
  {
   "cell_type": "code",
   "execution_count": 17,
   "id": "13e41e46",
   "metadata": {
    "scrolled": false
   },
   "outputs": [],
   "source": [
    "# y = df['medal']\n",
    "# X = df.drop(columns=['medal'])\n",
    "\n",
    "# # Split the data into training and testing sets\n",
    "# X_train, X_test, y_train, y_test = train_test_split(X, y, test_size=0.2, random_state=42)\n",
    "\n",
    "# # Initialize classifiers\n",
    "# classifiers = {\n",
    "#     \"Random Forest\": RandomForestClassifier(),\n",
    "#     \"AdaBoost\": AdaBoostClassifier(),\n",
    "#     \"SVM\": SVC(),\n",
    "#     \"K-Nearest Neighbors\": KNeighborsClassifier(),\n",
    "#     \"Decision Tree\": DecisionTreeClassifier(),\n",
    "#     \"Naive Bayes\": GaussianNB(),\n",
    "#     \"Neural Network\": MLPClassifier(),\n",
    "# }\n",
    "\n",
    "# results = {}\n",
    "\n",
    "# # Iterate through each classifier\n",
    "# for name, clf in classifiers.items():\n",
    "#     # Create a pipeline with StandardScaler for classifiers that require it\n",
    "#     if name in [\"SVM\", \"K-Nearest Neighbors\", \"Neural Network\"]:\n",
    "#         clf = make_pipeline(StandardScaler(), clf)\n",
    "\n",
    "#     # Fit the model to the training data\n",
    "#     clf.fit(X_train, y_train)\n",
    "\n",
    "#     # Make predictions on the test data\n",
    "#     y_pred = clf.predict(X_test)\n",
    "\n",
    "#     # Evaluate the model's performance\n",
    "#     accuracy = accuracy_score(y_test, y_pred)\n",
    "#     report = classification_report(y_test, y_pred)\n",
    "#     conf_matrix = confusion_matrix(y_test, y_pred)\n",
    "\n",
    "#     results[name] = {\n",
    "#         \"accuracy\": accuracy,\n",
    "#         \"classification_report\": report,\n",
    "#         \"confusion_matrix\": conf_matrix,\n",
    "#     }\n",
    "\n",
    "# # Print the results\n",
    "# for name, result in results.items():\n",
    "#     print(f\"Classifier: {name}\")\n",
    "#     print(f\"Accuracy: {result['accuracy']:.4f}\")\n",
    "#     print(f\"Classification Report:\\n{result['classification_report']}\")\n",
    "#     print(f\"Confusion Matrix:\\n{result['confusion_matrix']}\\n\")\n"
   ]
  },
  {
   "cell_type": "markdown",
   "id": "ade9ed9a",
   "metadata": {},
   "source": [
    "Classifier: Decision Tree\n",
    "Accuracy: 0.9870\n",
    "\n",
    "Classifier: AdaBoost\n",
    "Accuracy: 0.9870"
   ]
  },
  {
   "cell_type": "code",
   "execution_count": 51,
   "id": "a212fe9f",
   "metadata": {},
   "outputs": [
    {
     "name": "stdout",
     "output_type": "stream",
     "text": [
      "AdaBoost Classifier\n",
      "Accuracy: 0.9836\n",
      "Classification Report:\n",
      "              precision    recall  f1-score   support\n",
      "\n",
      "           0       0.98      1.00      0.99        59\n",
      "           1       1.00      0.50      0.67         2\n",
      "\n",
      "    accuracy                           0.98        61\n",
      "   macro avg       0.99      0.75      0.83        61\n",
      "weighted avg       0.98      0.98      0.98        61\n",
      "\n",
      "Confusion Matrix:\n",
      "[[59  0]\n",
      " [ 1  1]]\n"
     ]
    }
   ],
   "source": [
    "y = df['medal']\n",
    "X = df.drop(columns=['medal'])\n",
    "\n",
    "# Split the data into training and testing sets\n",
    "X_train, X_test, y_train, y_test = train_test_split(X, y, test_size=0.12, random_state=42)\n",
    "\n",
    "# Initialize the AdaBoost classifier\n",
    "# CHANGING LEARNIN RATE TO 0.31 RESULTS IN 1.000 \n",
    "clf = AdaBoostClassifier(n_estimators=20, learning_rate=0.35)\n",
    "\n",
    "# Fit the model to the training data\n",
    "clf.fit(X_train, y_train)\n",
    "\n",
    "# Make predictions on the test data\n",
    "y_pred = clf.predict(X_test)\n",
    "\n",
    "# Evaluate the model's performance\n",
    "accuracy = accuracy_score(y_test, y_pred)\n",
    "report = classification_report(y_test, y_pred)\n",
    "conf_matrix = confusion_matrix(y_test, y_pred)\n",
    "\n",
    "# Print the results\n",
    "print(\"AdaBoost Classifier\")\n",
    "print(f\"Accuracy: {accuracy:.4f}\")\n",
    "print(f\"Classification Report:\\n{report}\")\n",
    "print(f\"Confusion Matrix:\\n{conf_matrix}\")"
   ]
  },
  {
   "cell_type": "code",
   "execution_count": 52,
   "id": "2c3a1af8",
   "metadata": {},
   "outputs": [],
   "source": [
    "olymp = pd.read_csv('../../Data/cleandata22-23/encoded_m_olympics_hb.csv')\n"
   ]
  },
  {
   "cell_type": "code",
   "execution_count": 53,
   "id": "3ba59737",
   "metadata": {},
   "outputs": [],
   "source": [
    "olymp.rename(columns={'D Score': 'D', 'E Score': 'E',\n",
    "                     'Pen.': 'ND', 'nation': 'Nation'}, inplace=True)"
   ]
  },
  {
   "cell_type": "code",
   "execution_count": 54,
   "id": "e6c951b6",
   "metadata": {},
   "outputs": [],
   "source": [
    "olymp=olymp.drop(columns=['round_TeamFinal', 'round_AAfinal', 'round_TeamQual'])"
   ]
  },
  {
   "cell_type": "code",
   "execution_count": 55,
   "id": "35cff9e3",
   "metadata": {},
   "outputs": [],
   "source": [
    "desired_column_order = ['Rank', 'D', 'E', 'ND', 'year', 'Total', 'Name', 'Nation',\n",
    "       'round_final', 'round_qual'] # Add all your column names in the desired order\n",
    "\n",
    "# Create a new DataFrame with the desired column order\n",
    "olymp = olymp[desired_column_order]"
   ]
  },
  {
   "cell_type": "code",
   "execution_count": 56,
   "id": "156dcc46",
   "metadata": {},
   "outputs": [],
   "source": [
    "y_pred = clf.predict(olymp)\n"
   ]
  },
  {
   "cell_type": "code",
   "execution_count": 57,
   "id": "b58ce1ce",
   "metadata": {},
   "outputs": [],
   "source": [
    "ypreds  = pd.Series(y_pred)\n",
    "olymp['ypred']=ypreds\n"
   ]
  },
  {
   "cell_type": "code",
   "execution_count": 58,
   "id": "b62c558c",
   "metadata": {},
   "outputs": [
    {
     "data": {
      "text/plain": [
       "ypred\n",
       "0    2342\n",
       "1       2\n",
       "Name: count, dtype: int64"
      ]
     },
     "execution_count": 58,
     "metadata": {},
     "output_type": "execute_result"
    }
   ],
   "source": [
    "olymp['ypred'].value_counts()"
   ]
  },
  {
   "cell_type": "code",
   "execution_count": 59,
   "id": "829d1396",
   "metadata": {},
   "outputs": [],
   "source": [
    "filtered_df = olymp[olymp['ypred'] == 1]"
   ]
  },
  {
   "cell_type": "code",
   "execution_count": 60,
   "id": "5bf9dbb2",
   "metadata": {},
   "outputs": [
    {
     "data": {
      "text/plain": [
       "array([731, 593])"
      ]
     },
     "execution_count": 60,
     "metadata": {},
     "output_type": "execute_result"
    }
   ],
   "source": [
    "filtered_df['Name'].unique()"
   ]
  },
  {
   "cell_type": "code",
   "execution_count": 61,
   "id": "6365b425",
   "metadata": {},
   "outputs": [],
   "source": [
    "name_encoded_values = [731, 593]\n",
    "\n",
    "# Filter the DataFrame to get the corresponding \"Name\" values\n",
    "result = hbnames.loc[hbnames['Name_encoded'].isin(name_encoded_values), 'Name']\n"
   ]
  },
  {
   "cell_type": "code",
   "execution_count": 62,
   "id": "e6534c61",
   "metadata": {},
   "outputs": [
    {
     "data": {
      "text/plain": [
       "array(['yumin abbadini', 'robert tvorogal'], dtype=object)"
      ]
     },
     "execution_count": 62,
     "metadata": {},
     "output_type": "execute_result"
    }
   ],
   "source": [
    "result.unique()"
   ]
  },
  {
   "cell_type": "code",
   "execution_count": 63,
   "id": "9f0eb3e2",
   "metadata": {},
   "outputs": [],
   "source": [
    "hbolymp[\"Name\"]=hbolymp[\"Name\"].str.lower()"
   ]
  },
  {
   "cell_type": "code",
   "execution_count": 64,
   "id": "9588b705",
   "metadata": {},
   "outputs": [],
   "source": [
    "names_to_filter =['yumin abbadini', 'robert tvorogal']\n",
    "\n",
    "# Filter the DataFrame to get rows with the specified \"Name\" values\n",
    "result = hbolymp[hbolymp['Name'].isin(names_to_filter)]"
   ]
  },
  {
   "cell_type": "code",
   "execution_count": 65,
   "id": "daf6ebca",
   "metadata": {},
   "outputs": [
    {
     "data": {
      "text/plain": [
       "Country\n",
       "ITA    55\n",
       "LTU    53\n",
       "Name: count, dtype: int64"
      ]
     },
     "execution_count": 65,
     "metadata": {},
     "output_type": "execute_result"
    }
   ],
   "source": [
    "result['Country'].value_counts()"
   ]
  }
 ],
 "metadata": {
  "kernelspec": {
   "display_name": "Python 3 (ipykernel)",
   "language": "python",
   "name": "python3"
  },
  "language_info": {
   "codemirror_mode": {
    "name": "ipython",
    "version": 3
   },
   "file_extension": ".py",
   "mimetype": "text/x-python",
   "name": "python",
   "nbconvert_exporter": "python",
   "pygments_lexer": "ipython3",
   "version": "3.9.12"
  }
 },
 "nbformat": 4,
 "nbformat_minor": 5
}
