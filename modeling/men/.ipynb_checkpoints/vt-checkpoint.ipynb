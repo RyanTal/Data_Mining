{
 "cells": [
  {
   "cell_type": "markdown",
   "id": "4ae1beed",
   "metadata": {},
   "source": [
    "# USA not likely to medal\n",
    "\n",
    "## Scalinbg doesn't improve\n",
    "\n",
    "##  Grid Search k-folds cv -  no effect\n",
    "## Feature importance had no effect"
   ]
  },
  {
   "cell_type": "code",
   "execution_count": 4,
   "id": "f4d2aca5",
   "metadata": {},
   "outputs": [],
   "source": [
    "import pandas as pd\n",
    "import numpy as np\n",
    "from scipy import stats\n",
    "# from mlxtend.preprocessing import minmax_scaling\n",
    "import seaborn as sns\n",
    "import matplotlib.pyplot as plt\n",
    "from matplotlib.colors import ListedColormap\n",
    "from sklearn.datasets import make_circles, make_classification, make_moons\n",
    "from sklearn.discriminant_analysis import QuadraticDiscriminantAnalysis\n",
    "from sklearn.ensemble import AdaBoostClassifier, RandomForestClassifier\n",
    "from sklearn.gaussian_process import GaussianProcessClassifier\n",
    "from sklearn.gaussian_process.kernels import RBF\n",
    "from sklearn.inspection import DecisionBoundaryDisplay\n",
    "from sklearn.model_selection import train_test_split\n",
    "from sklearn.naive_bayes import GaussianNB\n",
    "from sklearn.neighbors import KNeighborsClassifier\n",
    "from sklearn.neural_network import MLPClassifier\n",
    "from sklearn.pipeline import make_pipeline\n",
    "from sklearn.preprocessing import StandardScaler\n",
    "from sklearn.svm import SVC\n",
    "from sklearn.tree import DecisionTreeClassifier\n",
    "from sklearn import svm\n",
    "from sklearn.metrics import accuracy_score, classification_report, confusion_matrix, fbeta_score\n",
    "# import graphviz\n",
    "from sklearn.dummy import DummyClassifier\n",
    "import warnings"
   ]
  },
  {
   "cell_type": "code",
   "execution_count": 5,
   "id": "802eb638",
   "metadata": {},
   "outputs": [],
   "source": [
    "warnings.filterwarnings(\"ignore\")"
   ]
  },
  {
   "cell_type": "code",
   "execution_count": 6,
   "id": "a396ae44",
   "metadata": {},
   "outputs": [],
   "source": [
    "df = pd.read_csv('../../Combine_Data/men/vt_encoded.csv')\n",
    "olymp = pd.read_csv('../../Data/cleandata22-23/encoded_m_olympics_vt.csv')\n",
    "vtnames = pd.read_csv('../../Data/cleandata22-23/encoded_m_olympics_vtnames.csv')\n",
    "vtolymp = pd.read_csv('../../Data/cleandata22-23/men22_23.csv')\n",
    "\n"
   ]
  },
  {
   "cell_type": "code",
   "execution_count": 7,
   "id": "b27b6c81-8006-4e76-8ac7-c0eab56a900b",
   "metadata": {},
   "outputs": [
    {
     "name": "stdout",
     "output_type": "stream",
     "text": [
      "<class 'pandas.core.frame.DataFrame'>\n",
      "RangeIndex: 3099 entries, 0 to 3098\n",
      "Data columns (total 14 columns):\n",
      " #   Column           Non-Null Count  Dtype  \n",
      "---  ------           --------------  -----  \n",
      " 0   Rank             3099 non-null   float64\n",
      " 1   D Score          3099 non-null   float64\n",
      " 2   E Score          3099 non-null   float64\n",
      " 3   Pen.             3099 non-null   float64\n",
      " 4   Total            3099 non-null   float64\n",
      " 5   year             3099 non-null   int64  \n",
      " 6   Name             3099 non-null   int64  \n",
      " 7   nation           3099 non-null   int64  \n",
      " 8   round_AAfinal    3099 non-null   bool   \n",
      " 9   round_AAqual     3099 non-null   bool   \n",
      " 10  round_TeamFinal  3099 non-null   bool   \n",
      " 11  round_TeamQual   3099 non-null   bool   \n",
      " 12  round_final      3099 non-null   bool   \n",
      " 13  round_qual       3099 non-null   bool   \n",
      "dtypes: bool(6), float64(5), int64(3)\n",
      "memory usage: 212.0 KB\n"
     ]
    }
   ],
   "source": [
    "olymp.info()"
   ]
  },
  {
   "cell_type": "markdown",
   "id": "17281bb4",
   "metadata": {},
   "source": [
    "# Clean df and olymp data sets"
   ]
  },
  {
   "cell_type": "code",
   "execution_count": 4,
   "id": "df4ac61f",
   "metadata": {},
   "outputs": [],
   "source": [
    "olymp=olymp.drop(columns=['round_AAfinal', 'round_AAqual', 'round_TeamFinal', 'round_final',\n",
    "       'round_qual'])"
   ]
  },
  {
   "cell_type": "code",
   "execution_count": 5,
   "id": "355949a9",
   "metadata": {},
   "outputs": [],
   "source": [
    "df['Rank'] = df['Rank'].replace('—', 40)"
   ]
  },
  {
   "cell_type": "code",
   "execution_count": 6,
   "id": "7afc221e",
   "metadata": {},
   "outputs": [],
   "source": [
    "df['Rank'] = pd.to_numeric(df['Rank'], errors='coerce')"
   ]
  },
  {
   "cell_type": "code",
   "execution_count": 7,
   "id": "dc4b7db7",
   "metadata": {},
   "outputs": [],
   "source": [
    "olymp=olymp.drop(columns=['round_TeamQual'])"
   ]
  },
  {
   "cell_type": "code",
   "execution_count": 8,
   "id": "bd233062",
   "metadata": {},
   "outputs": [],
   "source": [
    "df=df.drop(columns=['Total', 'D.1', 'E.1','ND.1','Total.1'])"
   ]
  },
  {
   "cell_type": "code",
   "execution_count": 9,
   "id": "488b49de",
   "metadata": {},
   "outputs": [],
   "source": [
    "df.rename(columns={'D':'D Score', 'E':'E Score',\n",
    "                    'ND': 'Pen.', 'Average': 'Total', 'Nation':'nation'}, inplace=True)"
   ]
  },
  {
   "cell_type": "code",
   "execution_count": 10,
   "id": "9338130c",
   "metadata": {},
   "outputs": [],
   "source": [
    "olympz=olymp.copy()"
   ]
  },
  {
   "cell_type": "markdown",
   "id": "87e21a73",
   "metadata": {},
   "source": [
    "# Base line using ZeroR"
   ]
  },
  {
   "cell_type": "code",
   "execution_count": 11,
   "id": "9c2ce59f",
   "metadata": {},
   "outputs": [
    {
     "name": "stdout",
     "output_type": "stream",
     "text": [
      "ZeroR Classifier\n",
      "Accuracy: 0.9524\n",
      "Classification Report:\n",
      "              precision    recall  f1-score   support\n",
      "\n",
      "           0       0.95      1.00      0.98        40\n",
      "           1       0.00      0.00      0.00         2\n",
      "\n",
      "    accuracy                           0.95        42\n",
      "   macro avg       0.48      0.50      0.49        42\n",
      "weighted avg       0.91      0.95      0.93        42\n",
      "\n",
      "Confusion Matrix:\n",
      "[[40  0]\n",
      " [ 2  0]]\n"
     ]
    }
   ],
   "source": [
    "\n",
    "X = df.drop(columns=['medal'])  \n",
    "y = df['medal']  \n",
    "\n",
    "X_train, X_test, y_train, y_test = train_test_split(X, y, test_size=0.33, random_state=42)\n",
    "\n",
    "# Initialize  ZeroR classifier\n",
    "zero_r_clf = DummyClassifier(strategy='most_frequent', random_state=42)\n",
    "\n",
    "zero_r_clf.fit(X_train, y_train)\n",
    "\n",
    "# Make predictions on  test data\n",
    "y_pred = zero_r_clf.predict(X_test)\n",
    "\n",
    "# Evaluate  model's performance\n",
    "accuracy = accuracy_score(y_test, y_pred)\n",
    "report = classification_report(y_test, y_pred)\n",
    "conf_matrix = confusion_matrix(y_test, y_pred)\n",
    "\n",
    "print(\"ZeroR Classifier\")\n",
    "print(f\"Accuracy: {accuracy:.4f}\")\n",
    "print(f\"Classification Report:\\n{report}\")\n",
    "print(f\"Confusion Matrix:\\n{conf_matrix}\")\n"
   ]
  },
  {
   "cell_type": "markdown",
   "id": "3e97ebe7",
   "metadata": {},
   "source": [
    "# Model Comparison\n"
   ]
  },
  {
   "cell_type": "code",
   "execution_count": 12,
   "id": "e12495c0",
   "metadata": {},
   "outputs": [
    {
     "name": "stdout",
     "output_type": "stream",
     "text": [
      "Classifier: Random Forest\n",
      "Accuracy: 0.9524\n",
      "F2-Score: 0.0000\n",
      "Classification Report:\n",
      "              precision    recall  f1-score   support\n",
      "\n",
      "           0       0.95      1.00      0.98        40\n",
      "           1       0.00      0.00      0.00         2\n",
      "\n",
      "    accuracy                           0.95        42\n",
      "   macro avg       0.48      0.50      0.49        42\n",
      "weighted avg       0.91      0.95      0.93        42\n",
      "\n",
      "Confusion Matrix:\n",
      "[[40  0]\n",
      " [ 2  0]]\n",
      "\n",
      "Classifier: AdaBoost\n",
      "Accuracy: 0.9048\n",
      "F2-Score: 0.4167\n",
      "Classification Report:\n",
      "              precision    recall  f1-score   support\n",
      "\n",
      "           0       0.97      0.93      0.95        40\n",
      "           1       0.25      0.50      0.33         2\n",
      "\n",
      "    accuracy                           0.90        42\n",
      "   macro avg       0.61      0.71      0.64        42\n",
      "weighted avg       0.94      0.90      0.92        42\n",
      "\n",
      "Confusion Matrix:\n",
      "[[37  3]\n",
      " [ 1  1]]\n",
      "\n",
      "Classifier: SVM\n",
      "Accuracy: 0.9524\n",
      "F2-Score: 0.0000\n",
      "Classification Report:\n",
      "              precision    recall  f1-score   support\n",
      "\n",
      "           0       0.95      1.00      0.98        40\n",
      "           1       0.00      0.00      0.00         2\n",
      "\n",
      "    accuracy                           0.95        42\n",
      "   macro avg       0.48      0.50      0.49        42\n",
      "weighted avg       0.91      0.95      0.93        42\n",
      "\n",
      "Confusion Matrix:\n",
      "[[40  0]\n",
      " [ 2  0]]\n",
      "\n",
      "Classifier: K-Nearest Neighbors\n",
      "Accuracy: 0.9524\n",
      "F2-Score: 0.0000\n",
      "Classification Report:\n",
      "              precision    recall  f1-score   support\n",
      "\n",
      "           0       0.95      1.00      0.98        40\n",
      "           1       0.00      0.00      0.00         2\n",
      "\n",
      "    accuracy                           0.95        42\n",
      "   macro avg       0.48      0.50      0.49        42\n",
      "weighted avg       0.91      0.95      0.93        42\n",
      "\n",
      "Confusion Matrix:\n",
      "[[40  0]\n",
      " [ 2  0]]\n",
      "\n",
      "Classifier: Decision Tree\n",
      "Accuracy: 0.9048\n",
      "F2-Score: 0.4167\n",
      "Classification Report:\n",
      "              precision    recall  f1-score   support\n",
      "\n",
      "           0       0.97      0.93      0.95        40\n",
      "           1       0.25      0.50      0.33         2\n",
      "\n",
      "    accuracy                           0.90        42\n",
      "   macro avg       0.61      0.71      0.64        42\n",
      "weighted avg       0.94      0.90      0.92        42\n",
      "\n",
      "Confusion Matrix:\n",
      "[[37  3]\n",
      " [ 1  1]]\n",
      "\n",
      "Classifier: Naive Bayes\n",
      "Accuracy: 0.6429\n",
      "F2-Score: 0.4000\n",
      "Classification Report:\n",
      "              precision    recall  f1-score   support\n",
      "\n",
      "           0       1.00      0.62      0.77        40\n",
      "           1       0.12      1.00      0.21         2\n",
      "\n",
      "    accuracy                           0.64        42\n",
      "   macro avg       0.56      0.81      0.49        42\n",
      "weighted avg       0.96      0.64      0.74        42\n",
      "\n",
      "Confusion Matrix:\n",
      "[[25 15]\n",
      " [ 0  2]]\n",
      "\n",
      "Classifier: Neural Network\n",
      "Accuracy: 0.9524\n",
      "F2-Score: 0.0000\n",
      "Classification Report:\n",
      "              precision    recall  f1-score   support\n",
      "\n",
      "           0       0.95      1.00      0.98        40\n",
      "           1       0.00      0.00      0.00         2\n",
      "\n",
      "    accuracy                           0.95        42\n",
      "   macro avg       0.48      0.50      0.49        42\n",
      "weighted avg       0.91      0.95      0.93        42\n",
      "\n",
      "Confusion Matrix:\n",
      "[[40  0]\n",
      " [ 2  0]]\n",
      "\n"
     ]
    }
   ],
   "source": [
    "\n",
    "y = df['medal']\n",
    "X = df.drop(columns=['medal'])\n",
    "\n",
    "# Split the data into training and testing sets\n",
    "X_train, X_test, y_train, y_test = train_test_split(X, y, test_size=0.33, random_state=42)\n",
    "\n",
    "# Initialize classifiers\n",
    "classifiers = {\n",
    "    \"Random Forest\": RandomForestClassifier(),\n",
    "    \"AdaBoost\": AdaBoostClassifier(),\n",
    "    \"SVM\": SVC(),\n",
    "    \"K-Nearest Neighbors\": KNeighborsClassifier(),\n",
    "    \"Decision Tree\": DecisionTreeClassifier(),\n",
    "    \"Naive Bayes\": GaussianNB(),\n",
    "    \"Neural Network\": MLPClassifier(),\n",
    "}\n",
    "\n",
    "results = {}\n",
    "\n",
    "# Iterate through each classifier\n",
    "for name, clf in classifiers.items():\n",
    "    # Create a pipeline with StandardScaler for classifiers that require it\n",
    "    if name in [\"SVM\", \"K-Nearest Neighbors\", \"Neural Network\"]:\n",
    "        clf = make_pipeline(StandardScaler(), clf)\n",
    "\n",
    "    # Fit the model to the training data\n",
    "    clf.fit(X_train, y_train)\n",
    "\n",
    "    # Make predictions on the test data\n",
    "    y_pred = clf.predict(X_test)\n",
    "\n",
    "    # Evaluate the model's performance\n",
    "    accuracy = accuracy_score(y_test, y_pred)\n",
    "    report = classification_report(y_test, y_pred)\n",
    "    conf_matrix = confusion_matrix(y_test, y_pred)\n",
    "\n",
    "    beta = 2\n",
    "    f2_score = fbeta_score(y_test, y_pred, beta=beta)\n",
    "\n",
    "    results[name] = {\n",
    "        \"accuracy\": accuracy,\n",
    "        \"classification_report\": report,\n",
    "        \"confusion_matrix\": conf_matrix,\n",
    "        \"f2_score\": f2_score,\n",
    "    }\n",
    "\n",
    "for name, result in results.items():\n",
    "    print(f\"Classifier: {name}\")\n",
    "    print(f\"Accuracy: {result['accuracy']:.4f}\")\n",
    "    print(f\"F2-Score: {result['f2_score']:.4f}\")\n",
    "    print(f\"Classification Report:\\n{result['classification_report']}\")\n",
    "    print(f\"Confusion Matrix:\\n{result['confusion_matrix']}\\n\")\n"
   ]
  },
  {
   "cell_type": "markdown",
   "id": "ce86cfbb",
   "metadata": {},
   "source": [
    "# Grid Search k-folds cv -  no effect"
   ]
  },
  {
   "cell_type": "code",
   "execution_count": 13,
   "id": "657cc3d5",
   "metadata": {},
   "outputs": [
    {
     "name": "stdout",
     "output_type": "stream",
     "text": [
      "\n",
      "Fold 1\n",
      "Best Hyperparameters: {'learning_rate': 0.1, 'n_estimators': 10}\n",
      "Accuracy: 1.0000\n",
      "Classification Report:\n",
      "              precision    recall  f1-score   support\n",
      "\n",
      "           0       1.00      1.00      1.00        17\n",
      "\n",
      "    accuracy                           1.00        17\n",
      "   macro avg       1.00      1.00      1.00        17\n",
      "weighted avg       1.00      1.00      1.00        17\n",
      "\n",
      "Confusion Matrix:\n",
      "[[17]]\n",
      "\n",
      "Fold 2\n",
      "Best Hyperparameters: {'learning_rate': 0.1, 'n_estimators': 10}\n",
      "Accuracy: 1.0000\n",
      "Classification Report:\n",
      "              precision    recall  f1-score   support\n",
      "\n",
      "           0       1.00      1.00      1.00        16\n",
      "           1       1.00      1.00      1.00         1\n",
      "\n",
      "    accuracy                           1.00        17\n",
      "   macro avg       1.00      1.00      1.00        17\n",
      "weighted avg       1.00      1.00      1.00        17\n",
      "\n",
      "Confusion Matrix:\n",
      "[[16  0]\n",
      " [ 0  1]]\n",
      "\n",
      "Fold 3\n",
      "Best Hyperparameters: {'learning_rate': 0.1, 'n_estimators': 10}\n",
      "Accuracy: 1.0000\n",
      "Classification Report:\n",
      "              precision    recall  f1-score   support\n",
      "\n",
      "           0       1.00      1.00      1.00        16\n",
      "           1       1.00      1.00      1.00         1\n",
      "\n",
      "    accuracy                           1.00        17\n",
      "   macro avg       1.00      1.00      1.00        17\n",
      "weighted avg       1.00      1.00      1.00        17\n",
      "\n",
      "Confusion Matrix:\n",
      "[[16  0]\n",
      " [ 0  1]]\n",
      "\n",
      "Fold 4\n",
      "Best Hyperparameters: {'learning_rate': 0.1, 'n_estimators': 10}\n",
      "Accuracy: 0.9412\n",
      "Classification Report:\n",
      "              precision    recall  f1-score   support\n",
      "\n",
      "           0       0.94      1.00      0.97        16\n",
      "           1       0.00      0.00      0.00         1\n",
      "\n",
      "    accuracy                           0.94        17\n",
      "   macro avg       0.47      0.50      0.48        17\n",
      "weighted avg       0.89      0.94      0.91        17\n",
      "\n",
      "Confusion Matrix:\n",
      "[[16  0]\n",
      " [ 1  0]]\n",
      "\n",
      "Fold 5\n",
      "Best Hyperparameters: {'learning_rate': 0.1, 'n_estimators': 10}\n",
      "Accuracy: 1.0000\n",
      "Classification Report:\n",
      "              precision    recall  f1-score   support\n",
      "\n",
      "           0       1.00      1.00      1.00        16\n",
      "\n",
      "    accuracy                           1.00        16\n",
      "   macro avg       1.00      1.00      1.00        16\n",
      "weighted avg       1.00      1.00      1.00        16\n",
      "\n",
      "Confusion Matrix:\n",
      "[[16]]\n",
      "\n",
      "Test Set Results\n",
      "Accuracy: 0.9048\n",
      "Classification Report:\n",
      "              precision    recall  f1-score   support\n",
      "\n",
      "           0       0.97      0.93      0.95        40\n",
      "           1       0.25      0.50      0.33         2\n",
      "\n",
      "    accuracy                           0.90        42\n",
      "   macro avg       0.61      0.71      0.64        42\n",
      "weighted avg       0.94      0.90      0.92        42\n",
      "\n",
      "Confusion Matrix:\n",
      "[[37  3]\n",
      " [ 1  1]]\n"
     ]
    }
   ],
   "source": [
    "from sklearn.model_selection import GridSearchCV, StratifiedKFold, train_test_split\n",
    "from sklearn.ensemble import AdaBoostClassifier\n",
    "from sklearn.metrics import accuracy_score, classification_report, confusion_matrix\n",
    "\n",
    "y = df['medal']\n",
    "X = df.drop(columns=['medal'])\n",
    "\n",
    "# Split the data into training and testing sets\n",
    "X_train, X_test, y_train, y_test = train_test_split(X, y, test_size=0.33, random_state=42)\n",
    "\n",
    "# Initialize the AdaBoost classifier\n",
    "# CHANGING LEARNING RATE TO 0.31 RESULTS IN 1.000\n",
    "clf = AdaBoostClassifier(n_estimators=20, learning_rate=0.37321)\n",
    "\n",
    "# Define the parameter grid for grid search\n",
    "param_grid = {\n",
    "    'n_estimators': [10, 20, 30, 50],\n",
    "    'learning_rate': [0.1, 0.2, 0.3, 0.4, 0.5]\n",
    "}\n",
    "\n",
    "# Initialize StratifiedKFold for k-fold cross-validation\n",
    "k_folds = 5\n",
    "stratified_kfold = StratifiedKFold(n_splits=k_folds, shuffle=True, random_state=42)\n",
    "\n",
    "# Perform grid search with 5-fold cross-validation\n",
    "grid_search = GridSearchCV(clf, param_grid, cv=stratified_kfold, scoring='accuracy')\n",
    "grid_search.fit(X_train, y_train)\n",
    "\n",
    "# Use the best estimator from grid search\n",
    "best_clf = grid_search.best_estimator_\n",
    "\n",
    "# Iterate over folds for evaluation\n",
    "for fold, (train_index, test_index) in enumerate(stratified_kfold.split(X_train, y_train)):\n",
    "    print(f\"\\nFold {fold + 1}\")\n",
    "\n",
    "    # Split the data into training and testing sets for this fold\n",
    "    X_train_fold, X_val_fold = X_train.iloc[train_index], X_train.iloc[test_index]\n",
    "    y_train_fold, y_val_fold = y_train.iloc[train_index], y_train.iloc[test_index]\n",
    "\n",
    "    # Train the model for this fold\n",
    "    best_clf.fit(X_train_fold, y_train_fold)\n",
    "\n",
    "    # Make predictions on the validation data for this fold\n",
    "    y_pred = best_clf.predict(X_val_fold)\n",
    "\n",
    "    # Evaluate the model's performance for this fold\n",
    "    accuracy = accuracy_score(y_val_fold, y_pred)\n",
    "    report = classification_report(y_val_fold, y_pred)\n",
    "    conf_matrix = confusion_matrix(y_val_fold, y_pred)\n",
    "\n",
    "    print(f\"Best Hyperparameters: {grid_search.best_params_}\")\n",
    "    print(f\"Accuracy: {accuracy:.4f}\")\n",
    "    print(f\"Classification Report:\\n{report}\")\n",
    "    print(f\"Confusion Matrix:\\n{conf_matrix}\")\n",
    "\n",
    "# Make predictions on the test data\n",
    "y_pred_test = best_clf.predict(X_test)\n",
    "\n",
    "# Evaluate the model's performance on the test set\n",
    "accuracy_test = accuracy_score(y_test, y_pred_test)\n",
    "report_test = classification_report(y_test, y_pred_test)\n",
    "conf_matrix_test = confusion_matrix(y_test, y_pred_test)\n",
    "\n",
    "# Print the results for the test set\n",
    "print(\"\\nTest Set Results\")\n",
    "print(f\"Accuracy: {accuracy_test:.4f}\")\n",
    "print(f\"Classification Report:\\n{report_test}\")\n",
    "print(f\"Confusion Matrix:\\n{conf_matrix_test}\")\n"
   ]
  },
  {
   "cell_type": "markdown",
   "id": "f6007c26",
   "metadata": {},
   "source": [
    "# Feature Importance"
   ]
  },
  {
   "cell_type": "code",
   "execution_count": 26,
   "id": "a07405ea",
   "metadata": {},
   "outputs": [
    {
     "name": "stdout",
     "output_type": "stream",
     "text": [
      "Feature Importances:\n",
      "Rank: 0.0500\n",
      "D Score: 0.0500\n",
      "E Score: 0.0500\n",
      "Pen.: 0.0000\n",
      "year: 0.0500\n",
      "Total: 0.0000\n",
      "Name: 0.6500\n",
      "nation: 0.1500\n"
     ]
    }
   ],
   "source": [
    "from sklearn.model_selection import train_test_split\n",
    "from sklearn.ensemble import AdaBoostClassifier\n",
    "\n",
    "y = df['medal']\n",
    "X = df.drop(columns=['medal'])\n",
    "\n",
    "# Split the data into training and testing sets\n",
    "X_train, X_test, y_train, y_test = train_test_split(X, y, test_size=0.33, random_state=42)\n",
    "\n",
    "# Initialize the AdaBoost classifier\n",
    "clf = AdaBoostClassifier(n_estimators=20, learning_rate=.37321)\n",
    "\n",
    "# Fit the model to the training data\n",
    "clf.fit(X_train, y_train)\n",
    "\n",
    "# Extract feature importances\n",
    "feature_importances = clf.feature_importances_\n",
    "\n",
    "# Print feature importances\n",
    "print(\"Feature Importances:\")\n",
    "for feature, importance in zip(X.columns, feature_importances):\n",
    "    print(f\"{feature}: {importance:.4f}\")\n"
   ]
  },
  {
   "cell_type": "code",
   "execution_count": 27,
   "id": "7597ef78",
   "metadata": {},
   "outputs": [
    {
     "data": {
      "image/png": "[encoded data removed]",
      "text/plain": [
       "<Figure size 720x432 with 1 Axes>"
      ]
     },
     "metadata": {
      "needs_background": "light"
     },
     "output_type": "display_data"
    }
   ],
   "source": [
    "import matplotlib.pyplot as plt\n",
    "\n",
    "feature_importances = clf.feature_importances_\n",
    "\n",
    "# Plot feature importances\n",
    "plt.figure(figsize=(10, 6))\n",
    "plt.barh(X.columns, feature_importances, color='skyblue')\n",
    "plt.xlabel('Feature Importance')\n",
    "plt.title('AdaBoost Classifier - Feature Importances')\n",
    "plt.show()\n"
   ]
  },
  {
   "cell_type": "markdown",
   "id": "7874f4ae",
   "metadata": {},
   "source": [
    "above df has no false negatives, meaning, its not incorrectly selecting someone who medaled to not medal. and 3 False Positives, where saying 3 people medaled who actually didnt'. I'd rather pick some people who wont medal than leave out people who will medal"
   ]
  },
  {
   "cell_type": "markdown",
   "id": "22648e99",
   "metadata": {},
   "source": [
    "# Final Model"
   ]
  },
  {
   "cell_type": "code",
   "execution_count": 29,
   "id": "4da54cb7",
   "metadata": {},
   "outputs": [
    {
     "name": "stdout",
     "output_type": "stream",
     "text": [
      "AdaBoost Classifier\n",
      "Accuracy: 0.9286\n",
      "Classification Report:\n",
      "              precision    recall  f1-score   support\n",
      "\n",
      "           0       1.00      0.93      0.96        40\n",
      "           1       0.40      1.00      0.57         2\n",
      "\n",
      "    accuracy                           0.93        42\n",
      "   macro avg       0.70      0.96      0.77        42\n",
      "weighted avg       0.97      0.93      0.94        42\n",
      "\n",
      "Confusion Matrix:\n",
      "[[37  3]\n",
      " [ 0  2]]\n"
     ]
    }
   ],
   "source": [
    "y = df['medal']\n",
    "X = df.drop(columns=['medal'])\n",
    "\n",
    "# Split the data into training and testing sets\n",
    "X_train, X_test, y_train, y_test = train_test_split(X, y, test_size=0.33, random_state=42)\n",
    "\n",
    "# Initialize the AdaBoost classifier\n",
    "# CHANGING LEARNIN RATE TO 0.31 RESULTS IN 1.000 \n",
    "clf = AdaBoostClassifier(n_estimators=20, learning_rate=.37321)\n",
    "\n",
    "# Fit the model to the training data\n",
    "clf.fit(X_train, y_train)\n",
    "\n",
    "# Make predictions on the test data\n",
    "y_pred = clf.predict(X_test)\n",
    "\n",
    "# Evaluate the model's performance\n",
    "accuracy = accuracy_score(y_test, y_pred)\n",
    "report = classification_report(y_test, y_pred)\n",
    "conf_matrix = confusion_matrix(y_test, y_pred)\n",
    "\n",
    "# Print the results\n",
    "print(\"AdaBoost Classifier\")\n",
    "print(f\"Accuracy: {accuracy:.4f}\")\n",
    "print(f\"Classification Report:\\n{report}\")\n",
    "print(f\"Confusion Matrix:\\n{conf_matrix}\")"
   ]
  },
  {
   "cell_type": "markdown",
   "id": "7dc9a707",
   "metadata": {},
   "source": [
    "# Model Trained earlier, now using 2023/2022 data"
   ]
  },
  {
   "cell_type": "code",
   "execution_count": 30,
   "id": "ece0d060",
   "metadata": {},
   "outputs": [],
   "source": [
    "olymp=olympz.copy()"
   ]
  },
  {
   "cell_type": "code",
   "execution_count": 31,
   "id": "2990110f",
   "metadata": {},
   "outputs": [],
   "source": [
    "desired_column_order = ['Rank', 'D Score', 'E Score', 'Pen.', 'year', 'Total',\n",
    "                        'Name', 'nation'] \n",
    "\n",
    "# Create a new DataFrame with the desired column order\n",
    "olymp = olymp[desired_column_order]"
   ]
  },
  {
   "cell_type": "code",
   "execution_count": 32,
   "id": "6eead1fe",
   "metadata": {},
   "outputs": [],
   "source": [
    "y_pred = clf.predict(olymp)"
   ]
  },
  {
   "cell_type": "code",
   "execution_count": 33,
   "id": "854c9aee",
   "metadata": {
    "scrolled": true
   },
   "outputs": [],
   "source": [
    "ypreds  = pd.Series(y_pred)\n",
    "olymp['ypred']=ypreds\n"
   ]
  },
  {
   "cell_type": "code",
   "execution_count": 34,
   "id": "818ec271",
   "metadata": {},
   "outputs": [
    {
     "data": {
      "text/plain": [
       "ypred\n",
       "0    2987\n",
       "1     112\n",
       "Name: count, dtype: int64"
      ]
     },
     "execution_count": 34,
     "metadata": {},
     "output_type": "execute_result"
    }
   ],
   "source": [
    "olymp['ypred'].value_counts()"
   ]
  },
  {
   "cell_type": "code",
   "execution_count": 35,
   "id": "938cf148",
   "metadata": {},
   "outputs": [],
   "source": [
    "filtered_df = olymp[olymp['ypred'] == 1]"
   ]
  },
  {
   "cell_type": "code",
   "execution_count": 36,
   "id": "b1d50ae5",
   "metadata": {},
   "outputs": [
    {
     "data": {
      "text/plain": [
       "array([613,  61, 272, 370, 369, 244,  16, 614, 271,  73, 151, 141, 152])"
      ]
     },
     "execution_count": 36,
     "metadata": {},
     "output_type": "execute_result"
    }
   ],
   "source": [
    "filtered_df['Name'].unique()"
   ]
  },
  {
   "cell_type": "markdown",
   "id": "3869946b",
   "metadata": {},
   "source": [
    "# vtnames used to match encoded names with actual names"
   ]
  },
  {
   "cell_type": "code",
   "execution_count": 38,
   "id": "86c4f863",
   "metadata": {},
   "outputs": [],
   "source": [
    "name_encoded_values = [613,  61, 272, 370, 369, 244,  16, 614, 271,  73, 151, 141, 152]\n",
    "\n",
    "# Filter the DataFrame to get the corresponding \"Name\" values\n",
    "result = vtnames.loc[vtnames['Name_encoded'].isin(name_encoded_values), 'Name']\n"
   ]
  },
  {
   "cell_type": "code",
   "execution_count": 39,
   "id": "2ef5fcb7",
   "metadata": {},
   "outputs": [
    {
     "data": {
      "text/plain": [
       "array(['santiago agostinelli', 'artur davtyan',\n",
       "       'houssem eddine hamadouche', 'julian jato', 'julian ezequiel jato',\n",
       "       'gagik khachikyan', 'ahmed anis maoudj', 'santiago mayol',\n",
       "       'hillal metidji', 'benedek tomcsanyi', 'daniel villafane',\n",
       "       'daniel angel villafane', 'daniel villafañe'], dtype=object)"
      ]
     },
     "execution_count": 39,
     "metadata": {},
     "output_type": "execute_result"
    }
   ],
   "source": [
    "result.unique()"
   ]
  },
  {
   "cell_type": "markdown",
   "id": "d4686636",
   "metadata": {},
   "source": [
    "# srolymp used to get country info from name list above"
   ]
  },
  {
   "cell_type": "code",
   "execution_count": 43,
   "id": "911cf451",
   "metadata": {},
   "outputs": [],
   "source": [
    "vtolymp[\"Name\"]=vtolymp[\"Name\"].str.lower()"
   ]
  },
  {
   "cell_type": "code",
   "execution_count": 44,
   "id": "56e2262c",
   "metadata": {},
   "outputs": [],
   "source": [
    "names_to_filter = ['santiago agostinelli', 'artur davtyan',\n",
    "       'houssem eddine hamadouche', 'julian jato', 'julian ezequiel jato',\n",
    "       'gagik khachikyan', 'ahmed anis maoudj', 'santiago mayol',\n",
    "       'hillal metidji', 'benedek tomcsanyi', 'daniel villafane',\n",
    "       'daniel angel villafane', 'daniel villafañe']\n",
    "\n",
    "# Filter the DataFrame to get rows with the specified \"Name\" values\n",
    "result = vtolymp[vtolymp['Name'].isin(names_to_filter)]"
   ]
  },
  {
   "cell_type": "code",
   "execution_count": 45,
   "id": "62f7d8cd",
   "metadata": {},
   "outputs": [
    {
     "data": {
      "text/plain": [
       "Country\n",
       "ARM    165\n",
       "ARG     94\n",
       "HUN     46\n",
       "ALG     21\n",
       "Name: count, dtype: int64"
      ]
     },
     "execution_count": 45,
     "metadata": {},
     "output_type": "execute_result"
    }
   ],
   "source": [
    "result['Country'].value_counts()"
   ]
  },
  {
   "cell_type": "markdown",
   "id": "5dc4103f",
   "metadata": {},
   "source": [
    "# Find names from USA"
   ]
  },
  {
   "cell_type": "code",
   "execution_count": 46,
   "id": "1baf5a63",
   "metadata": {},
   "outputs": [
    {
     "data": {
      "text/html": [
       "<div>\n",
       "<style scoped>\n",
       "    .dataframe tbody tr th:only-of-type {\n",
       "        vertical-align: middle;\n",
       "    }\n",
       "\n",
       "    .dataframe tbody tr th {\n",
       "        vertical-align: top;\n",
       "    }\n",
       "\n",
       "    .dataframe thead th {\n",
       "        text-align: right;\n",
       "    }\n",
       "</style>\n",
       "<table border=\"1\" class=\"dataframe\">\n",
       "  <thead>\n",
       "    <tr style=\"text-align: right;\">\n",
       "      <th></th>\n",
       "      <th>Name</th>\n",
       "      <th>Country</th>\n",
       "      <th>Date</th>\n",
       "      <th>Gender</th>\n",
       "      <th>Competition</th>\n",
       "      <th>Round</th>\n",
       "      <th>Location</th>\n",
       "      <th>Apparatus</th>\n",
       "      <th>Rank</th>\n",
       "      <th>D_Score</th>\n",
       "      <th>E_Score</th>\n",
       "      <th>Penalty</th>\n",
       "      <th>Score</th>\n",
       "      <th>Total_Score</th>\n",
       "    </tr>\n",
       "  </thead>\n",
       "  <tbody>\n",
       "  </tbody>\n",
       "</table>\n",
       "</div>"
      ],
      "text/plain": [
       "Empty DataFrame\n",
       "Columns: [Name, Country, Date, Gender, Competition, Round, Location, Apparatus, Rank, D_Score, E_Score, Penalty, Score, Total_Score]\n",
       "Index: []"
      ]
     },
     "execution_count": 46,
     "metadata": {},
     "output_type": "execute_result"
    }
   ],
   "source": [
    "result[result['Country']=='USA']"
   ]
  }
 ],
 "metadata": {
  "kernelspec": {
   "display_name": "Python 3 (ipykernel)",
   "language": "python",
   "name": "python3"
  },
  "language_info": {
   "codemirror_mode": {
    "name": "ipython",
    "version": 3
   },
   "file_extension": ".py",
   "mimetype": "text/x-python",
   "name": "python",
   "nbconvert_exporter": "python",
   "pygments_lexer": "ipython3",
   "version": "3.8.18"
  }
 },
 "nbformat": 4,
 "nbformat_minor": 5
}
