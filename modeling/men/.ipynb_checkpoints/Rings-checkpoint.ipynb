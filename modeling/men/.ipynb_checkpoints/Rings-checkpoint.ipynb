{
 "cells": [
  {
   "cell_type": "markdown",
   "id": "73e4cbbc",
   "metadata": {},
   "source": [
    "# USA unlikely to medal\n",
    "\n",
    "## scaling no improvement\n",
    "\n",
    "## Grid search used \n",
    "\n",
    "## Feature importnace had no effect\n",
    "## k-folds cv¶\n",
    "\n",
    "['xingyu lan', 'yang liu', 'eleftherios petrounias', 'hao you',\n",
    "       'jingyuan zou']"
   ]
  },
  {
   "cell_type": "code",
   "execution_count": 1,
   "id": "bf777394",
   "metadata": {},
   "outputs": [],
   "source": [
    "import pandas as pd\n",
    "import numpy as np\n",
    "from scipy import stats\n",
    "# from mlxtend.preprocessing import minmax_scaling\n",
    "import seaborn as sns\n",
    "import matplotlib.pyplot as plt\n",
    "from matplotlib.colors import ListedColormap\n",
    "from sklearn.datasets import make_circles, make_classification, make_moons\n",
    "from sklearn.discriminant_analysis import QuadraticDiscriminantAnalysis\n",
    "from sklearn.ensemble import AdaBoostClassifier, RandomForestClassifier\n",
    "from sklearn.gaussian_process import GaussianProcessClassifier\n",
    "from sklearn.gaussian_process.kernels import RBF\n",
    "from sklearn.inspection import DecisionBoundaryDisplay\n",
    "from sklearn.model_selection import train_test_split\n",
    "from sklearn.naive_bayes import GaussianNB\n",
    "from sklearn.neighbors import KNeighborsClassifier\n",
    "from sklearn.neural_network import MLPClassifier\n",
    "from sklearn.pipeline import make_pipeline\n",
    "from sklearn.preprocessing import StandardScaler\n",
    "from sklearn.svm import SVC\n",
    "from sklearn.tree import DecisionTreeClassifier\n",
    "from sklearn import svm\n",
    "from sklearn.metrics import accuracy_score\n",
    "from sklearn.metrics import classification_report\n",
    "from sklearn.metrics import confusion_matrix, fbeta_score\n",
    "from sklearn.tree import DecisionTreeClassifier, plot_tree\n",
    "from sklearn.dummy import DummyClassifier\n",
    "import warnings\n"
   ]
  },
  {
   "cell_type": "code",
   "execution_count": 2,
   "id": "95da40ce",
   "metadata": {},
   "outputs": [],
   "source": [
    "warnings.filterwarnings(\"ignore\")"
   ]
  },
  {
   "cell_type": "code",
   "execution_count": 3,
   "id": "32e8270a",
   "metadata": {},
   "outputs": [],
   "source": [
    "df = pd.read_csv('../../Combine_Data/men/sr_encoded.csv')\n",
    "olymp = pd.read_csv('../../Data/cleandata22-23/encoded_m_olympics_sr.csv')\n",
    "srnames = pd.read_csv('../../Data/cleandata22-23/encoded_m_olympics_srnames.csv')\n",
    "srolymp = pd.read_csv('../../Data/cleandata22-23/men22_23.csv')"
   ]
  },
  {
   "cell_type": "code",
   "execution_count": 4,
   "id": "59823a3b-f1fc-42b9-9183-0de26a2e508b",
   "metadata": {},
   "outputs": [
    {
     "name": "stdout",
     "output_type": "stream",
     "text": [
      "<class 'pandas.core.frame.DataFrame'>\n",
      "RangeIndex: 495 entries, 0 to 494\n",
      "Data columns (total 11 columns):\n",
      " #   Column       Non-Null Count  Dtype  \n",
      "---  ------       --------------  -----  \n",
      " 0   Rank         495 non-null    int64  \n",
      " 1   D            495 non-null    float64\n",
      " 2   E            495 non-null    float64\n",
      " 3   ND           495 non-null    float64\n",
      " 4   Total        495 non-null    float64\n",
      " 5   year         495 non-null    float64\n",
      " 6   medal        495 non-null    int64  \n",
      " 7   Name         495 non-null    int64  \n",
      " 8   Nation       495 non-null    int64  \n",
      " 9   round_final  495 non-null    int64  \n",
      " 10  round_qual   495 non-null    int64  \n",
      "dtypes: float64(5), int64(6)\n",
      "memory usage: 42.7 KB\n"
     ]
    }
   ],
   "source": [
    "df.info()"
   ]
  },
  {
   "cell_type": "code",
   "execution_count": 5,
   "id": "ecc1ce74-a35b-41d9-8b69-542fa9687c4f",
   "metadata": {},
   "outputs": [
    {
     "name": "stdout",
     "output_type": "stream",
     "text": [
      "<class 'pandas.core.frame.DataFrame'>\n",
      "RangeIndex: 2319 entries, 0 to 2318\n",
      "Data columns (total 13 columns):\n",
      " #   Column           Non-Null Count  Dtype  \n",
      "---  ------           --------------  -----  \n",
      " 0   Rank             2319 non-null   float64\n",
      " 1   D Score          2319 non-null   float64\n",
      " 2   E Score          2319 non-null   float64\n",
      " 3   Pen.             2319 non-null   float64\n",
      " 4   Total            2319 non-null   float64\n",
      " 5   year             2319 non-null   int64  \n",
      " 6   Name             2319 non-null   int64  \n",
      " 7   nation           2319 non-null   int64  \n",
      " 8   round_AAfinal    2319 non-null   bool   \n",
      " 9   round_TeamFinal  2319 non-null   bool   \n",
      " 10  round_TeamQual   2319 non-null   bool   \n",
      " 11  round_final      2319 non-null   bool   \n",
      " 12  round_qual       2319 non-null   bool   \n",
      "dtypes: bool(5), float64(5), int64(3)\n",
      "memory usage: 156.4 KB\n"
     ]
    }
   ],
   "source": [
    "olymp.info()"
   ]
  },
  {
   "cell_type": "code",
   "execution_count": 6,
   "id": "ed7c3c01",
   "metadata": {},
   "outputs": [],
   "source": [
    "df['year'].fillna(2023, inplace=True)"
   ]
  },
  {
   "cell_type": "markdown",
   "id": "2ddc8665",
   "metadata": {},
   "source": [
    "# Base line using ZeroR"
   ]
  },
  {
   "cell_type": "code",
   "execution_count": 7,
   "id": "970f2be4",
   "metadata": {},
   "outputs": [
    {
     "name": "stdout",
     "output_type": "stream",
     "text": [
      "ZeroR Classifier\n",
      "Accuracy: 0.9878\n",
      "Classification Report:\n",
      "              precision    recall  f1-score   support\n",
      "\n",
      "           0       0.99      1.00      0.99       162\n",
      "           1       0.00      0.00      0.00         2\n",
      "\n",
      "    accuracy                           0.99       164\n",
      "   macro avg       0.49      0.50      0.50       164\n",
      "weighted avg       0.98      0.99      0.98       164\n",
      "\n",
      "Confusion Matrix:\n",
      "[[162   0]\n",
      " [  2   0]]\n"
     ]
    }
   ],
   "source": [
    "\n",
    "X = df.drop(columns=['medal'])  \n",
    "y = df['medal']  \n",
    "\n",
    "X_train, X_test, y_train, y_test = train_test_split(X, y, test_size=0.33, random_state=9)\n",
    "\n",
    "# Initialize  ZeroR classifier\n",
    "zero_r_clf = DummyClassifier(strategy='most_frequent', random_state=42)\n",
    "\n",
    "zero_r_clf.fit(X_train, y_train)\n",
    "\n",
    "# Make predictions on  test data\n",
    "y_pred = zero_r_clf.predict(X_test)\n",
    "\n",
    "# Evaluate  model's performance\n",
    "accuracy = accuracy_score(y_test, y_pred)\n",
    "report = classification_report(y_test, y_pred)\n",
    "conf_matrix = confusion_matrix(y_test, y_pred)\n",
    "\n",
    "print(\"ZeroR Classifier\")\n",
    "print(f\"Accuracy: {accuracy:.4f}\")\n",
    "print(f\"Classification Report:\\n{report}\")\n",
    "print(f\"Confusion Matrix:\\n{conf_matrix}\")\n"
   ]
  },
  {
   "cell_type": "markdown",
   "id": "5d253a2c",
   "metadata": {},
   "source": [
    "# Model Comparison\n"
   ]
  },
  {
   "cell_type": "code",
   "execution_count": 8,
   "id": "9d6fdee9",
   "metadata": {},
   "outputs": [
    {
     "name": "stdout",
     "output_type": "stream",
     "text": [
      "Classifier: Random Forest\n",
      "Accuracy: 0.9919\n",
      "F2-Score: 0.9091\n",
      "Classification Report:\n",
      "              precision    recall  f1-score   support\n",
      "\n",
      "           0       1.00      0.99      1.00       122\n",
      "           1       0.67      1.00      0.80         2\n",
      "\n",
      "    accuracy                           0.99       124\n",
      "   macro avg       0.83      1.00      0.90       124\n",
      "weighted avg       0.99      0.99      0.99       124\n",
      "\n",
      "Confusion Matrix:\n",
      "[[121   1]\n",
      " [  0   2]]\n",
      "\n",
      "Classifier: AdaBoost\n",
      "Accuracy: 0.9919\n",
      "F2-Score: 0.9091\n",
      "Classification Report:\n",
      "              precision    recall  f1-score   support\n",
      "\n",
      "           0       1.00      0.99      1.00       122\n",
      "           1       0.67      1.00      0.80         2\n",
      "\n",
      "    accuracy                           0.99       124\n",
      "   macro avg       0.83      1.00      0.90       124\n",
      "weighted avg       0.99      0.99      0.99       124\n",
      "\n",
      "Confusion Matrix:\n",
      "[[121   1]\n",
      " [  0   2]]\n",
      "\n",
      "Classifier: SVM\n",
      "Accuracy: 0.9839\n",
      "F2-Score: 0.0000\n",
      "Classification Report:\n",
      "              precision    recall  f1-score   support\n",
      "\n",
      "           0       0.98      1.00      0.99       122\n",
      "           1       0.00      0.00      0.00         2\n",
      "\n",
      "    accuracy                           0.98       124\n",
      "   macro avg       0.49      0.50      0.50       124\n",
      "weighted avg       0.97      0.98      0.98       124\n",
      "\n",
      "Confusion Matrix:\n",
      "[[122   0]\n",
      " [  2   0]]\n",
      "\n",
      "Classifier: K-Nearest Neighbors\n",
      "Accuracy: 0.9839\n",
      "F2-Score: 0.0000\n",
      "Classification Report:\n",
      "              precision    recall  f1-score   support\n",
      "\n",
      "           0       0.98      1.00      0.99       122\n",
      "           1       0.00      0.00      0.00         2\n",
      "\n",
      "    accuracy                           0.98       124\n",
      "   macro avg       0.49      0.50      0.50       124\n",
      "weighted avg       0.97      0.98      0.98       124\n",
      "\n",
      "Confusion Matrix:\n",
      "[[122   0]\n",
      " [  2   0]]\n",
      "\n",
      "Classifier: Decision Tree\n",
      "Accuracy: 0.9919\n",
      "F2-Score: 0.9091\n",
      "Classification Report:\n",
      "              precision    recall  f1-score   support\n",
      "\n",
      "           0       1.00      0.99      1.00       122\n",
      "           1       0.67      1.00      0.80         2\n",
      "\n",
      "    accuracy                           0.99       124\n",
      "   macro avg       0.83      1.00      0.90       124\n",
      "weighted avg       0.99      0.99      0.99       124\n",
      "\n",
      "Confusion Matrix:\n",
      "[[121   1]\n",
      " [  0   2]]\n",
      "\n",
      "Classifier: Naive Bayes\n",
      "Accuracy: 0.9677\n",
      "F2-Score: 0.7143\n",
      "Classification Report:\n",
      "              precision    recall  f1-score   support\n",
      "\n",
      "           0       1.00      0.97      0.98       122\n",
      "           1       0.33      1.00      0.50         2\n",
      "\n",
      "    accuracy                           0.97       124\n",
      "   macro avg       0.67      0.98      0.74       124\n",
      "weighted avg       0.99      0.97      0.98       124\n",
      "\n",
      "Confusion Matrix:\n",
      "[[118   4]\n",
      " [  0   2]]\n",
      "\n",
      "Classifier: Neural Network\n",
      "Accuracy: 0.9839\n",
      "F2-Score: 0.0000\n",
      "Classification Report:\n",
      "              precision    recall  f1-score   support\n",
      "\n",
      "           0       0.98      1.00      0.99       122\n",
      "           1       0.00      0.00      0.00         2\n",
      "\n",
      "    accuracy                           0.98       124\n",
      "   macro avg       0.49      0.50      0.50       124\n",
      "weighted avg       0.97      0.98      0.98       124\n",
      "\n",
      "Confusion Matrix:\n",
      "[[122   0]\n",
      " [  2   0]]\n",
      "\n"
     ]
    }
   ],
   "source": [
    "y = df['medal']\n",
    "X = df.drop(columns=['medal'])\n",
    "\n",
    "# CHANGED RANDOM STATE TO HAVE A LARGER NUMBER OF VALUES IN TEST DF\n",
    "X_train, X_test, y_train, y_test = train_test_split(X, y, test_size=0.25, random_state=110)\n",
    "\n",
    "# Initialize classifiers\n",
    "classifiers = {\n",
    "    \"Random Forest\": RandomForestClassifier(),\n",
    "    \"AdaBoost\": AdaBoostClassifier(),\n",
    "    \"SVM\": SVC(),\n",
    "    \"K-Nearest Neighbors\": KNeighborsClassifier(),\n",
    "    \"Decision Tree\": DecisionTreeClassifier(),\n",
    "    \"Naive Bayes\": GaussianNB(),\n",
    "    \"Neural Network\": MLPClassifier(),\n",
    "}\n",
    "\n",
    "results = {}\n",
    "\n",
    "# Iterate through each classifier\n",
    "for name, clf in classifiers.items():\n",
    "    # Create a pipeline with StandardScaler for classifiers that require it\n",
    "    if name in [\"SVM\", \"K-Nearest Neighbors\", \"Neural Network\"]:\n",
    "        clf = make_pipeline(StandardScaler(), clf)\n",
    "\n",
    "    # Fit the model to the training data\n",
    "    clf.fit(X_train, y_train)\n",
    "\n",
    "    # Make predictions on the test data\n",
    "    y_pred = clf.predict(X_test)\n",
    "\n",
    "    # Evaluate the model's performance\n",
    "    accuracy = accuracy_score(y_test, y_pred)\n",
    "    report = classification_report(y_test, y_pred)\n",
    "    conf_matrix = confusion_matrix(y_test, y_pred)\n",
    "\n",
    "    beta = 2\n",
    "    f2_score = fbeta_score(y_test, y_pred, beta=beta)\n",
    "\n",
    "    results[name] = {\n",
    "        \"accuracy\": accuracy,\n",
    "        \"classification_report\": report,\n",
    "        \"confusion_matrix\": conf_matrix,\n",
    "        \"f2_score\": f2_score,\n",
    "    }\n",
    "\n",
    "for name, result in results.items():\n",
    "    print(f\"Classifier: {name}\")\n",
    "    print(f\"Accuracy: {result['accuracy']:.4f}\")\n",
    "    print(f\"F2-Score: {result['f2_score']:.4f}\")\n",
    "    print(f\"Classification Report:\\n{result['classification_report']}\")\n",
    "    print(f\"Confusion Matrix:\\n{result['confusion_matrix']}\\n\")\n"
   ]
  },
  {
   "cell_type": "code",
   "execution_count": 9,
   "id": "8c5de4ea",
   "metadata": {},
   "outputs": [],
   "source": [
    "olymp.rename(columns={'D Score': 'D', 'E Score': 'E',\n",
    "                     'Pen.': 'ND', 'nation': 'Nation'}, inplace=True)"
   ]
  },
  {
   "cell_type": "code",
   "execution_count": 10,
   "id": "f6086afd",
   "metadata": {},
   "outputs": [],
   "source": [
    "olymp=olymp.drop(columns=['round_TeamFinal', 'round_AAfinal', 'round_TeamQual'])"
   ]
  },
  {
   "cell_type": "markdown",
   "id": "0d31f7f6",
   "metadata": {},
   "source": [
    "# Feature Importance"
   ]
  },
  {
   "cell_type": "code",
   "execution_count": 11,
   "id": "4c86db7a",
   "metadata": {},
   "outputs": [
    {
     "name": "stdout",
     "output_type": "stream",
     "text": [
      "Feature Importances:\n",
      "Rank: 0.1632\n",
      "D: 0.1811\n",
      "E: 0.1501\n",
      "ND: 0.0000\n",
      "Total: 0.2842\n",
      "year: 0.0094\n",
      "Name: 0.1030\n",
      "Nation: 0.0829\n",
      "round_final: 0.0146\n",
      "round_qual: 0.0115\n",
      "Accuracy (Top 3): 0.9919\n",
      "RandomForest Classifier\n",
      "Accuracy: 0.9919\n",
      "Classification Report:\n",
      "              precision    recall  f1-score   support\n",
      "\n",
      "           0       1.00      0.99      1.00       122\n",
      "           1       0.67      1.00      0.80         2\n",
      "\n",
      "    accuracy                           0.99       124\n",
      "   macro avg       0.83      1.00      0.90       124\n",
      "weighted avg       0.99      0.99      0.99       124\n",
      "\n",
      "Confusion Matrix:\n",
      "[[121   1]\n",
      " [  0   2]]\n"
     ]
    },
    {
     "data": {
      "image/png": "[encoded data removed]",
      "text/plain": [
       "<Figure size 1000x600 with 1 Axes>"
      ]
     },
     "metadata": {},
     "output_type": "display_data"
    }
   ],
   "source": [
    "from sklearn.ensemble import RandomForestClassifier\n",
    "from sklearn.model_selection import train_test_split\n",
    "from sklearn.metrics import accuracy_score, classification_report, confusion_matrix\n",
    "import matplotlib.pyplot as plt\n",
    "\n",
    "\n",
    "# Initialize and train a RandomForestClassifier\n",
    "rf_model = RandomForestClassifier(n_estimators=100, random_state=42)\n",
    "rf_model.fit(X_train, y_train)\n",
    "\n",
    "# Extract feature importances from the trained RandomForestClassifier\n",
    "feature_importances = rf_model.feature_importances_\n",
    "\n",
    "# Print feature importances\n",
    "print(\"Feature Importances:\")\n",
    "for feature, importance in zip(X.columns, feature_importances):\n",
    "    print(f\"{feature}: {importance:.4f}\")\n",
    "\n",
    "# Make predictions with class probabilities\n",
    "class_probs = rf_model.predict_proba(X_test)\n",
    "\n",
    "# Define the number of top classes to select\n",
    "top_n = 3\n",
    "\n",
    "# Select the top N classes based on class probabilities\n",
    "top_n_classes = np.argsort(class_probs, axis=1)[:, -top_n:]\n",
    "\n",
    "# Set the minimum probability threshold\n",
    "min_probability_threshold = 0.02\n",
    "\n",
    "# Apply the threshold to select the top N classes\n",
    "top_n_classes = top_n_classes[class_probs[np.arange(len(class_probs)), top_n_classes[:, -1]] >= min_probability_threshold]\n",
    "\n",
    "# Evaluate the model's accuracy using the top N results\n",
    "y_pred = top_n_classes[:, -1]  # Select the top prediction from the top N\n",
    "accuracy = accuracy_score(y_test, y_pred)\n",
    "\n",
    "print(f\"Accuracy (Top {top_n}): {accuracy:.4f}\")\n",
    "\n",
    "# Convert class labels to strings in y_test and y_pred\n",
    "y_test_str = y_test.astype(str)\n",
    "y_pred_str = y_pred.astype(str)\n",
    "\n",
    "# Evaluate the model's performance\n",
    "accuracy = accuracy_score(y_test, y_pred)\n",
    "report = classification_report(y_test, y_pred)\n",
    "conf_matrix = confusion_matrix(y_test, y_pred)\n",
    "\n",
    "# Print the results\n",
    "print(\"RandomForest Classifier\")\n",
    "print(f\"Accuracy: {accuracy:.4f}\")\n",
    "print(f\"Classification Report:\\n{report}\")\n",
    "print(f\"Confusion Matrix:\\n{conf_matrix}\")\n",
    "\n",
    "# Plot feature importances\n",
    "plt.figure(figsize=(10, 6))\n",
    "plt.barh(X.columns, feature_importances, color='skyblue')\n",
    "plt.xlabel('Feature Importance')\n",
    "plt.title('RandomForest Classifier - Feature Importances')\n",
    "plt.show()\n"
   ]
  },
  {
   "cell_type": "markdown",
   "id": "edc846cc",
   "metadata": {},
   "source": [
    "# Modeling"
   ]
  },
  {
   "cell_type": "code",
   "execution_count": 12,
   "id": "02c2a50b",
   "metadata": {},
   "outputs": [
    {
     "name": "stdout",
     "output_type": "stream",
     "text": [
      "Accuracy (Top 3): 0.9928\n",
      "AdaBoost Classifier\n",
      "Accuracy: 0.9928\n",
      "Classification Report:\n",
      "              precision    recall  f1-score   support\n",
      "\n",
      "           0       1.00      0.99      1.00       137\n",
      "           1       0.67      1.00      0.80         2\n",
      "\n",
      "    accuracy                           0.99       139\n",
      "   macro avg       0.83      1.00      0.90       139\n",
      "weighted avg       1.00      0.99      0.99       139\n",
      "\n",
      "Confusion Matrix:\n",
      "[[136   1]\n",
      " [  0   2]]\n"
     ]
    }
   ],
   "source": [
    "from sklearn.ensemble import RandomForestClassifier\n",
    "from sklearn.model_selection import train_test_split\n",
    "from sklearn.metrics import accuracy_score\n",
    "import numpy as np\n",
    "\n",
    "y = df['medal']\n",
    "X = df.drop(columns=['medal'])\n",
    "\n",
    "# Convert class labels to strings\n",
    "class_names = df['medal'].astype(str).unique()\n",
    "\n",
    "X_train, X_test, y_train, y_test = train_test_split(X, y, test_size=0.28, random_state=110)\n",
    "\n",
    "# Initialize and train a RandomForestClassifier\n",
    "rf_model = RandomForestClassifier(n_estimators=100, random_state=42)\n",
    "rf_model.fit(X_train, y_train)\n",
    "\n",
    "# Make predictions with class probabilities\n",
    "class_probs = rf_model.predict_proba(X_test)\n",
    "\n",
    "# Define the number of top classes to select\n",
    "top_n = 3\n",
    "\n",
    "# Select the top N classes based on class probabilities\n",
    "top_n_classes = np.argsort(class_probs, axis=1)[:, -top_n:]\n",
    "\n",
    "# Set the minimum probability threshold\n",
    "min_probability_threshold = 0.02\n",
    "\n",
    "# Apply the threshold to select the top N classes\n",
    "top_n_classes = top_n_classes[class_probs[np.arange(len(class_probs)), top_n_classes[:, -1]] >= min_probability_threshold]\n",
    "\n",
    "# Evaluate the model's accuracy using the top N results\n",
    "y_pred = top_n_classes[:, -1]  # Select the top prediction from the top N\n",
    "accuracy = accuracy_score(y_test, y_pred)\n",
    "\n",
    "print(f\"Accuracy (Top {top_n}): {accuracy:.4f}\")\n",
    "\n",
    "# Convert class labels to strings in y_test and y_pred\n",
    "y_test_str = y_test.astype(str)\n",
    "y_pred_str = y_pred.astype(str)\n",
    "\n",
    "# Evaluate the model's performance\n",
    "accuracy = accuracy_score(y_test, y_pred)\n",
    "report = classification_report(y_test, y_pred)\n",
    "conf_matrix = confusion_matrix(y_test, y_pred)\n",
    "\n",
    "# Print the results\n",
    "print(\"AdaBoost Classifier\")\n",
    "print(f\"Accuracy: {accuracy:.4f}\")\n",
    "print(f\"Classification Report:\\n{report}\")\n",
    "print(f\"Confusion Matrix:\\n{conf_matrix}\")"
   ]
  },
  {
   "cell_type": "markdown",
   "id": "10fcc539",
   "metadata": {},
   "source": [
    "## k-folds cv"
   ]
  },
  {
   "cell_type": "code",
   "execution_count": 13,
   "id": "65c4b73e",
   "metadata": {},
   "outputs": [
    {
     "name": "stdout",
     "output_type": "stream",
     "text": [
      "\n",
      "Fold 1\n",
      "Accuracy: 0.9899\n",
      "\n",
      "Fold 2\n",
      "Accuracy: 0.9899\n",
      "\n",
      "Fold 3\n",
      "Accuracy: 1.0000\n",
      "\n",
      "Fold 4\n",
      "Accuracy: 0.9899\n",
      "\n",
      "Fold 5\n",
      "Accuracy: 0.9798\n",
      "\n",
      "Average Accuracy across Folds: 0.9899\n",
      "\n",
      "RandomForest Classifier\n",
      "Accuracy: 0.9960\n",
      "Classification Report:\n",
      "              precision    recall  f1-score   support\n",
      "\n",
      "           0       1.00      1.00      1.00       487\n",
      "           1       0.88      0.88      0.88         8\n",
      "\n",
      "    accuracy                           1.00       495\n",
      "   macro avg       0.94      0.94      0.94       495\n",
      "weighted avg       1.00      1.00      1.00       495\n",
      "\n",
      "Confusion Matrix:\n",
      "[[486   1]\n",
      " [  1   7]]\n"
     ]
    }
   ],
   "source": [
    "from sklearn.ensemble import RandomForestClassifier\n",
    "from sklearn.model_selection import StratifiedKFold\n",
    "from sklearn.metrics import accuracy_score, classification_report, confusion_matrix\n",
    "import numpy as np\n",
    "\n",
    "y = df['medal']\n",
    "X = df.drop(columns=['medal'])\n",
    "\n",
    "# Initialize and train a RandomForestClassifier\n",
    "rf_model = RandomForestClassifier(n_estimators=100, random_state=42)\n",
    "\n",
    "# Initialize StratifiedKFold for k-fold cross-validation\n",
    "k_folds = 5\n",
    "stratified_kfold = StratifiedKFold(n_splits=k_folds, shuffle=True, random_state=42)\n",
    "\n",
    "# Initialize variables to store results\n",
    "accuracies = []\n",
    "\n",
    "# Iterate over folds for evaluation\n",
    "for fold, (train_index, test_index) in enumerate(stratified_kfold.split(X, y)):\n",
    "    print(f\"\\nFold {fold + 1}\")\n",
    "\n",
    "    # Split the data into training and testing sets for this fold\n",
    "    X_train, X_test = X.iloc[train_index], X.iloc[test_index]\n",
    "    y_train, y_test = y.iloc[train_index], y.iloc[test_index]\n",
    "\n",
    "    # Train the RandomForest model for this fold\n",
    "    rf_model.fit(X_train, y_train)\n",
    "\n",
    "    # Make predictions on the test data for this fold\n",
    "    y_pred = rf_model.predict(X_test)\n",
    "\n",
    "    # Evaluate the model's accuracy for this fold\n",
    "    accuracy = accuracy_score(y_test, y_pred)\n",
    "    accuracies.append(accuracy)\n",
    "\n",
    "    print(f\"Accuracy: {accuracy:.4f}\")\n",
    "\n",
    "# Calculate and print the average accuracy across folds\n",
    "average_accuracy = np.mean(accuracies)\n",
    "print(f\"\\nAverage Accuracy across Folds: {average_accuracy:.4f}\")\n",
    "\n",
    "# Optionally, you can use the entire dataset to train the final model\n",
    "# rf_model.fit(X, y)\n",
    "\n",
    "# Make predictions on the entire dataset\n",
    "y_pred = rf_model.predict(X)\n",
    "\n",
    "# Evaluate the model's performance on the entire dataset\n",
    "accuracy = accuracy_score(y, y_pred)\n",
    "report = classification_report(y, y_pred)\n",
    "conf_matrix = confusion_matrix(y, y_pred)\n",
    "\n",
    "# Print the results for the entire dataset\n",
    "print(\"\\nRandomForest Classifier\")\n",
    "print(f\"Accuracy: {accuracy:.4f}\")\n",
    "print(f\"Classification Report:\\n{report}\")\n",
    "print(f\"Confusion Matrix:\\n{conf_matrix}\")\n"
   ]
  },
  {
   "cell_type": "code",
   "execution_count": 14,
   "id": "8daf432f",
   "metadata": {},
   "outputs": [],
   "source": [
    "class_probs = rf_model.predict_proba(olymp)\n",
    "\n",
    "# Define the number of top classes to select\n",
    "top_n = 20\n",
    "\n",
    "# Select the top N classes based on class probabilities\n",
    "top_n_classes = np.argsort(class_probs, axis=1)[:, -top_n:]\n",
    "\n",
    "# Set the minimum probability threshold\n",
    "min_probability_threshold = 0.1\n",
    "\n",
    "# Apply the threshold to select the top N classes\n",
    "top_n_classes = top_n_classes[class_probs[np.arange(len(class_probs)), top_n_classes[:, -1]] >= min_probability_threshold]\n",
    "\n",
    "# Evaluate the model's accuracy using the top N results\n",
    "y_pred = top_n_classes[:, -1] "
   ]
  },
  {
   "cell_type": "markdown",
   "id": "708b485a",
   "metadata": {},
   "source": [
    "# Model Trained earlier, now using 2023/2022 data"
   ]
  },
  {
   "cell_type": "code",
   "execution_count": 15,
   "id": "212e256c",
   "metadata": {},
   "outputs": [],
   "source": [
    "ypreds  = pd.Series(y_pred)\n",
    "olymp['ypred']=ypreds\n"
   ]
  },
  {
   "cell_type": "code",
   "execution_count": 16,
   "id": "7f1f01f6",
   "metadata": {},
   "outputs": [
    {
     "data": {
      "text/plain": [
       "0    2303\n",
       "1      16\n",
       "Name: ypred, dtype: int64"
      ]
     },
     "execution_count": 16,
     "metadata": {},
     "output_type": "execute_result"
    }
   ],
   "source": [
    "olymp['ypred'].value_counts()"
   ]
  },
  {
   "cell_type": "code",
   "execution_count": 17,
   "id": "dacc692a",
   "metadata": {},
   "outputs": [],
   "source": [
    "filtered_df = olymp[olymp['ypred'] == 1]"
   ]
  },
  {
   "cell_type": "code",
   "execution_count": 18,
   "id": "789fc03e",
   "metadata": {},
   "outputs": [
    {
     "data": {
      "text/plain": [
       "array([ 10, 731, 732, 198, 336])"
      ]
     },
     "execution_count": 18,
     "metadata": {},
     "output_type": "execute_result"
    }
   ],
   "source": [
    "filtered_df['Name'].unique()"
   ]
  },
  {
   "cell_type": "markdown",
   "id": "06863872",
   "metadata": {},
   "source": [
    "# srnames used to match encoded names with actual names"
   ]
  },
  {
   "cell_type": "code",
   "execution_count": 19,
   "id": "c526f07e",
   "metadata": {},
   "outputs": [],
   "source": [
    "# name_encoded_values = [ 10, 731, 732, 336]\n",
    "name_encoded_values =[ 10, 731, 732, 198, 336]\n",
    "# Filter the DataFrame to get the corresponding \"Name\" values\n",
    "result = srnames.loc[srnames['Name_encoded'].isin(name_encoded_values), 'Name']\n"
   ]
  },
  {
   "cell_type": "code",
   "execution_count": 20,
   "id": "2d8f66ad",
   "metadata": {},
   "outputs": [
    {
     "data": {
      "text/plain": [
       "array(['adem asil', 'xingyu lan', 'yang liu', 'eleftherios petrounias',\n",
       "       'jingyuan zou'], dtype=object)"
      ]
     },
     "execution_count": 20,
     "metadata": {},
     "output_type": "execute_result"
    }
   ],
   "source": [
    "result.unique()"
   ]
  },
  {
   "cell_type": "markdown",
   "id": "e40f4a23",
   "metadata": {},
   "source": [
    "# srolymp used to get country info from name list above"
   ]
  },
  {
   "cell_type": "code",
   "execution_count": 21,
   "id": "730d8f07",
   "metadata": {},
   "outputs": [],
   "source": [
    "srolymp[\"Name\"]=srolymp[\"Name\"].str.lower()\n"
   ]
  },
  {
   "cell_type": "code",
   "execution_count": 22,
   "id": "7bd0922e",
   "metadata": {},
   "outputs": [],
   "source": [
    "names_to_filter = ['adem asil', 'xingyu lan', 'yang liu', 'eleftherios petrounias',\n",
    "       'jingyuan zou']\n",
    "\n",
    "# Filter the DataFrame to get rows with the specified \"Name\" values\n",
    "result = srolymp[srolymp['Name'].isin(names_to_filter)]"
   ]
  },
  {
   "cell_type": "code",
   "execution_count": 23,
   "id": "ccca9de1",
   "metadata": {},
   "outputs": [
    {
     "data": {
      "text/plain": [
       "TUR    121\n",
       "CHN     48\n",
       "GRE      9\n",
       "Name: Country, dtype: int64"
      ]
     },
     "execution_count": 23,
     "metadata": {},
     "output_type": "execute_result"
    }
   ],
   "source": [
    "result['Country'].value_counts()"
   ]
  },
  {
   "cell_type": "code",
   "execution_count": null,
   "id": "d3cdbb7f-db10-45f2-98b4-3c106a00cef1",
   "metadata": {},
   "outputs": [],
   "source": []
  }
 ],
 "metadata": {
  "kernelspec": {
   "display_name": "Python 3 (ipykernel)",
   "language": "python",
   "name": "python3"
  },
  "language_info": {
   "codemirror_mode": {
    "name": "ipython",
    "version": 3
   },
   "file_extension": ".py",
   "mimetype": "text/x-python",
   "name": "python",
   "nbconvert_exporter": "python",
   "pygments_lexer": "ipython3",
   "version": "3.8.18"
  }
 },
 "nbformat": 4,
 "nbformat_minor": 5
}
