{
 "cells": [
  {
   "cell_type": "code",
   "execution_count": 2,
   "id": "e58fbd06",
   "metadata": {},
   "outputs": [],
   "source": [
    "import pandas as pd"
   ]
  },
  {
   "cell_type": "markdown",
   "id": "10edd2cd",
   "metadata": {},
   "source": [
    "parallel bars\n",
    "- yul moldauer \n",
    "- curran phillips"
   ]
  },
  {
   "cell_type": "code",
   "execution_count": 3,
   "id": "60d75bb1",
   "metadata": {},
   "outputs": [
    {
     "data": {
      "text/html": [
       "<div>\n",
       "<style scoped>\n",
       "    .dataframe tbody tr th:only-of-type {\n",
       "        vertical-align: middle;\n",
       "    }\n",
       "\n",
       "    .dataframe tbody tr th {\n",
       "        vertical-align: top;\n",
       "    }\n",
       "\n",
       "    .dataframe thead th {\n",
       "        text-align: right;\n",
       "    }\n",
       "</style>\n",
       "<table border=\"1\" class=\"dataframe\">\n",
       "  <thead>\n",
       "    <tr style=\"text-align: right;\">\n",
       "      <th></th>\n",
       "      <th>Event</th>\n",
       "      <th>Gymnast</th>\n",
       "    </tr>\n",
       "  </thead>\n",
       "  <tbody>\n",
       "    <tr>\n",
       "      <th>0</th>\n",
       "      <td>Parallel Bars</td>\n",
       "      <td>Yul Moldauer</td>\n",
       "    </tr>\n",
       "    <tr>\n",
       "      <th>1</th>\n",
       "      <td>Parallel Bars</td>\n",
       "      <td>Curran Phillips</td>\n",
       "    </tr>\n",
       "  </tbody>\n",
       "</table>\n",
       "</div>"
      ],
      "text/plain": [
       "           Event          Gymnast\n",
       "0  Parallel Bars    Yul Moldauer \n",
       "1  Parallel Bars  Curran Phillips"
      ]
     },
     "execution_count": 3,
     "metadata": {},
     "output_type": "execute_result"
    }
   ],
   "source": [
    "data = {\n",
    "    'Event': ['Parallel Bars', 'Parallel Bars'],\n",
    "    'Gymnast': ['Yul Moldauer ', 'Curran Phillips']\n",
    "}\n",
    "\n",
    "gymnastics_df = pd.DataFrame(data)\n",
    "\n",
    "gymnastics_df\n"
   ]
  },
  {
   "cell_type": "code",
   "execution_count": 4,
   "id": "2f0c89e5",
   "metadata": {},
   "outputs": [],
   "source": [
    "# gymnastics_df.to_csv('mens_individuals.csv', index=False)"
   ]
  },
  {
   "cell_type": "code",
   "execution_count": null,
   "id": "d2debd5d",
   "metadata": {},
   "outputs": [],
   "source": []
  }
 ],
 "metadata": {
  "kernelspec": {
   "display_name": "Python 3 (ipykernel)",
   "language": "python",
   "name": "python3"
  },
  "language_info": {
   "codemirror_mode": {
    "name": "ipython",
    "version": 3
   },
   "file_extension": ".py",
   "mimetype": "text/x-python",
   "name": "python",
   "nbconvert_exporter": "python",
   "pygments_lexer": "ipython3",
   "version": "3.9.12"
  }
 },
 "nbformat": 4,
 "nbformat_minor": 5
}
