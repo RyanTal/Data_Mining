{
 "cells": [
  {
   "cell_type": "markdown",
   "id": "0fab7116",
   "metadata": {},
   "source": [
    "# USA unlikely to medal\n",
    "\n",
    "## scaling no improvement\n",
    "\n",
    "## Grid Search with k-folds cross validation made improvements\n",
    "\n",
    "['joe fraser', 'kazuma kaya', 'joel plata', 'tin srbic', 'kakeru tanigawa', 'jinseong yun']"
   ]
  },
  {
   "cell_type": "code",
   "execution_count": 41,
   "id": "0e31f3bd",
   "metadata": {},
   "outputs": [],
   "source": [
    "import pandas as pd\n",
    "from sklearn.model_selection import train_test_split\n",
    "from sklearn.ensemble import AdaBoostClassifier, RandomForestClassifier\n",
    "from sklearn.neighbors import KNeighborsClassifier\n",
    "from sklearn.svm import SVC\n",
    "from sklearn.tree import DecisionTreeClassifier\n",
    "from sklearn.naive_bayes import GaussianNB\n",
    "from sklearn.neural_network import MLPClassifier\n",
    "from sklearn.dummy import DummyClassifier\n",
    "from sklearn.metrics import accuracy_score, classification_report, confusion_matrix, fbeta_score\n",
    "from sklearn.pipeline import make_pipeline\n",
    "from sklearn.preprocessing import StandardScaler \n",
    "from sklearn.dummy import DummyClassifier\n",
    "import warnings"
   ]
  },
  {
   "cell_type": "code",
   "execution_count": 42,
   "id": "66fdd109",
   "metadata": {},
   "outputs": [],
   "source": [
    "warnings.filterwarnings(\"ignore\")"
   ]
  },
  {
   "cell_type": "code",
   "execution_count": 43,
   "id": "cefc6fbd",
   "metadata": {},
   "outputs": [],
   "source": [
    "df = pd.read_csv('../../Combine_Data/men/hb_encoded.csv')\n",
    "olymp = pd.read_csv('../../Data/cleandata22-23/encoded_m_olympics_hb.csv')\n",
    "hbnames = pd.read_csv('../../Data/cleandata22-23/encoded_m_olympics_hbnames.csv')\n",
    "hbolymp = pd.read_csv('../../Data/cleandata22-23/men22_23.csv')"
   ]
  },
  {
   "cell_type": "code",
   "execution_count": 44,
   "id": "3c875c77-2b7c-48b8-9d7a-c730228198d2",
   "metadata": {},
   "outputs": [
    {
     "name": "stdout",
     "output_type": "stream",
     "text": [
      "<class 'pandas.core.frame.DataFrame'>\n",
      "RangeIndex: 502 entries, 0 to 501\n",
      "Data columns (total 11 columns):\n",
      " #   Column       Non-Null Count  Dtype  \n",
      "---  ------       --------------  -----  \n",
      " 0   Rank         502 non-null    int64  \n",
      " 1   D            502 non-null    float64\n",
      " 2   E            502 non-null    float64\n",
      " 3   ND           502 non-null    float64\n",
      " 4   year         502 non-null    int64  \n",
      " 5   Total        502 non-null    float64\n",
      " 6   medal        502 non-null    int64  \n",
      " 7   Name         502 non-null    int64  \n",
      " 8   Nation       502 non-null    int64  \n",
      " 9   round_final  502 non-null    int64  \n",
      " 10  round_qual   502 non-null    int64  \n",
      "dtypes: float64(4), int64(7)\n",
      "memory usage: 43.3 KB\n"
     ]
    }
   ],
   "source": [
    "df.info()"
   ]
  },
  {
   "cell_type": "code",
   "execution_count": 46,
   "id": "5f5626a4-cdb7-4fa1-8708-dd394f43dbae",
   "metadata": {},
   "outputs": [
    {
     "data": {
      "text/plain": [
       "0"
      ]
     },
     "execution_count": 46,
     "metadata": {},
     "output_type": "execute_result"
    }
   ],
   "source": [
    "df.duplicated().sum()"
   ]
  },
  {
   "cell_type": "code",
   "execution_count": 5,
   "id": "f0d45886-192d-4825-94d6-ff5517823cdc",
   "metadata": {},
   "outputs": [
    {
     "data": {
      "text/html": [
       "<div>\n",
       "<style scoped>\n",
       "    .dataframe tbody tr th:only-of-type {\n",
       "        vertical-align: middle;\n",
       "    }\n",
       "\n",
       "    .dataframe tbody tr th {\n",
       "        vertical-align: top;\n",
       "    }\n",
       "\n",
       "    .dataframe thead th {\n",
       "        text-align: right;\n",
       "    }\n",
       "</style>\n",
       "<table border=\"1\" class=\"dataframe\">\n",
       "  <thead>\n",
       "    <tr style=\"text-align: right;\">\n",
       "      <th></th>\n",
       "      <th>Rank</th>\n",
       "      <th>D</th>\n",
       "      <th>E</th>\n",
       "      <th>ND</th>\n",
       "      <th>year</th>\n",
       "      <th>Total</th>\n",
       "      <th>medal</th>\n",
       "      <th>Name</th>\n",
       "      <th>Nation</th>\n",
       "      <th>round_final</th>\n",
       "      <th>round_qual</th>\n",
       "    </tr>\n",
       "  </thead>\n",
       "  <tbody>\n",
       "    <tr>\n",
       "      <th>6</th>\n",
       "      <td>7</td>\n",
       "      <td>6.1</td>\n",
       "      <td>7.466</td>\n",
       "      <td>-0.3</td>\n",
       "      <td>2019</td>\n",
       "      <td>13.866</td>\n",
       "      <td>1</td>\n",
       "      <td>286</td>\n",
       "      <td>16</td>\n",
       "      <td>1</td>\n",
       "      <td>0</td>\n",
       "    </tr>\n",
       "    <tr>\n",
       "      <th>9</th>\n",
       "      <td>2</td>\n",
       "      <td>5.9</td>\n",
       "      <td>8.733</td>\n",
       "      <td>0.0</td>\n",
       "      <td>2019</td>\n",
       "      <td>14.633</td>\n",
       "      <td>1</td>\n",
       "      <td>286</td>\n",
       "      <td>16</td>\n",
       "      <td>0</td>\n",
       "      <td>1</td>\n",
       "    </tr>\n",
       "    <tr>\n",
       "      <th>53</th>\n",
       "      <td>4</td>\n",
       "      <td>6.4</td>\n",
       "      <td>8.100</td>\n",
       "      <td>0.0</td>\n",
       "      <td>2018</td>\n",
       "      <td>14.500</td>\n",
       "      <td>1</td>\n",
       "      <td>286</td>\n",
       "      <td>16</td>\n",
       "      <td>1</td>\n",
       "      <td>0</td>\n",
       "    </tr>\n",
       "    <tr>\n",
       "      <th>62</th>\n",
       "      <td>5</td>\n",
       "      <td>6.0</td>\n",
       "      <td>8.300</td>\n",
       "      <td>0.0</td>\n",
       "      <td>2018</td>\n",
       "      <td>14.300</td>\n",
       "      <td>1</td>\n",
       "      <td>286</td>\n",
       "      <td>16</td>\n",
       "      <td>0</td>\n",
       "      <td>1</td>\n",
       "    </tr>\n",
       "    <tr>\n",
       "      <th>73</th>\n",
       "      <td>16</td>\n",
       "      <td>5.8</td>\n",
       "      <td>8.166</td>\n",
       "      <td>0.0</td>\n",
       "      <td>2018</td>\n",
       "      <td>13.966</td>\n",
       "      <td>1</td>\n",
       "      <td>222</td>\n",
       "      <td>62</td>\n",
       "      <td>0</td>\n",
       "      <td>1</td>\n",
       "    </tr>\n",
       "    <tr>\n",
       "      <th>256</th>\n",
       "      <td>2</td>\n",
       "      <td>6.2</td>\n",
       "      <td>8.466</td>\n",
       "      <td>0.0</td>\n",
       "      <td>2019</td>\n",
       "      <td>14.666</td>\n",
       "      <td>1</td>\n",
       "      <td>286</td>\n",
       "      <td>16</td>\n",
       "      <td>1</td>\n",
       "      <td>0</td>\n",
       "    </tr>\n",
       "    <tr>\n",
       "      <th>258</th>\n",
       "      <td>4</td>\n",
       "      <td>6.2</td>\n",
       "      <td>8.033</td>\n",
       "      <td>0.0</td>\n",
       "      <td>2019</td>\n",
       "      <td>14.233</td>\n",
       "      <td>1</td>\n",
       "      <td>66</td>\n",
       "      <td>41</td>\n",
       "      <td>1</td>\n",
       "      <td>0</td>\n",
       "    </tr>\n",
       "    <tr>\n",
       "      <th>265</th>\n",
       "      <td>3</td>\n",
       "      <td>6.2</td>\n",
       "      <td>8.633</td>\n",
       "      <td>0.0</td>\n",
       "      <td>2019</td>\n",
       "      <td>14.833</td>\n",
       "      <td>1</td>\n",
       "      <td>286</td>\n",
       "      <td>16</td>\n",
       "      <td>0</td>\n",
       "      <td>1</td>\n",
       "    </tr>\n",
       "    <tr>\n",
       "      <th>270</th>\n",
       "      <td>8</td>\n",
       "      <td>6.1</td>\n",
       "      <td>8.266</td>\n",
       "      <td>0.0</td>\n",
       "      <td>2019</td>\n",
       "      <td>14.366</td>\n",
       "      <td>1</td>\n",
       "      <td>66</td>\n",
       "      <td>41</td>\n",
       "      <td>0</td>\n",
       "      <td>1</td>\n",
       "    </tr>\n",
       "    <tr>\n",
       "      <th>273</th>\n",
       "      <td>11</td>\n",
       "      <td>5.9</td>\n",
       "      <td>8.400</td>\n",
       "      <td>0.0</td>\n",
       "      <td>2019</td>\n",
       "      <td>14.300</td>\n",
       "      <td>1</td>\n",
       "      <td>222</td>\n",
       "      <td>62</td>\n",
       "      <td>0</td>\n",
       "      <td>1</td>\n",
       "    </tr>\n",
       "  </tbody>\n",
       "</table>\n",
       "</div>"
      ],
      "text/plain": [
       "     Rank    D      E   ND  year   Total  medal  Name  Nation  round_final  \\\n",
       "6       7  6.1  7.466 -0.3  2019  13.866      1   286      16            1   \n",
       "9       2  5.9  8.733  0.0  2019  14.633      1   286      16            0   \n",
       "53      4  6.4  8.100  0.0  2018  14.500      1   286      16            1   \n",
       "62      5  6.0  8.300  0.0  2018  14.300      1   286      16            0   \n",
       "73     16  5.8  8.166  0.0  2018  13.966      1   222      62            0   \n",
       "256     2  6.2  8.466  0.0  2019  14.666      1   286      16            1   \n",
       "258     4  6.2  8.033  0.0  2019  14.233      1    66      41            1   \n",
       "265     3  6.2  8.633  0.0  2019  14.833      1   286      16            0   \n",
       "270     8  6.1  8.266  0.0  2019  14.366      1    66      41            0   \n",
       "273    11  5.9  8.400  0.0  2019  14.300      1   222      62            0   \n",
       "\n",
       "     round_qual  \n",
       "6             0  \n",
       "9             1  \n",
       "53            0  \n",
       "62            1  \n",
       "73            1  \n",
       "256           0  \n",
       "258           0  \n",
       "265           1  \n",
       "270           1  \n",
       "273           1  "
      ]
     },
     "execution_count": 5,
     "metadata": {},
     "output_type": "execute_result"
    }
   ],
   "source": [
    "df[df['medal']==1]"
   ]
  },
  {
   "cell_type": "markdown",
   "id": "708da3c5",
   "metadata": {},
   "source": [
    "# Base line using ZeroR"
   ]
  },
  {
   "cell_type": "code",
   "execution_count": 6,
   "id": "a65e6981",
   "metadata": {},
   "outputs": [
    {
     "name": "stdout",
     "output_type": "stream",
     "text": [
      "ZeroR Classifier\n",
      "Accuracy: 0.9703\n",
      "Classification Report:\n",
      "              precision    recall  f1-score   support\n",
      "\n",
      "           0       0.97      1.00      0.98        98\n",
      "           1       0.00      0.00      0.00         3\n",
      "\n",
      "    accuracy                           0.97       101\n",
      "   macro avg       0.49      0.50      0.49       101\n",
      "weighted avg       0.94      0.97      0.96       101\n",
      "\n",
      "Confusion Matrix:\n",
      "[[98  0]\n",
      " [ 3  0]]\n"
     ]
    }
   ],
   "source": [
    "\n",
    "X = df.drop(columns=['medal'])  \n",
    "y = df['medal']  \n",
    "\n",
    "X_train, X_test, y_train, y_test = train_test_split(X, y, test_size=0.2, random_state=4)\n",
    "\n",
    "# Initialize the ZeroR classifier\n",
    "zero_r_clf = DummyClassifier(strategy='most_frequent', random_state=42)\n",
    "zero_r_clf.fit(X_train, y_train)\n",
    "\n",
    "# Make predictions test data\n",
    "y_pred = zero_r_clf.predict(X_test)\n",
    "\n",
    "# Evaluate performance\n",
    "accuracy = accuracy_score(y_test, y_pred)\n",
    "report = classification_report(y_test, y_pred)\n",
    "conf_matrix = confusion_matrix(y_test, y_pred)\n",
    "\n",
    "print(\"ZeroR Classifier\")\n",
    "print(f\"Accuracy: {accuracy:.4f}\")\n",
    "print(f\"Classification Report:\\n{report}\")\n",
    "print(f\"Confusion Matrix:\\n{conf_matrix}\")\n"
   ]
  },
  {
   "cell_type": "markdown",
   "id": "06d27fea",
   "metadata": {},
   "source": [
    "# Model Comparison\n"
   ]
  },
  {
   "cell_type": "code",
   "execution_count": 7,
   "id": "13e41e46",
   "metadata": {},
   "outputs": [
    {
     "name": "stdout",
     "output_type": "stream",
     "text": [
      "Classifier: Random Forest\n",
      "Accuracy: 0.9604\n",
      "F2-Score: 0.0000\n",
      "Classification Report:\n",
      "              precision    recall  f1-score   support\n",
      "\n",
      "           0       0.97      0.99      0.98        98\n",
      "           1       0.00      0.00      0.00         3\n",
      "\n",
      "    accuracy                           0.96       101\n",
      "   macro avg       0.48      0.49      0.49       101\n",
      "weighted avg       0.94      0.96      0.95       101\n",
      "\n",
      "Confusion Matrix:\n",
      "[[97  1]\n",
      " [ 3  0]]\n",
      "\n",
      "Classifier: AdaBoost\n",
      "Accuracy: 0.9802\n",
      "F2-Score: 0.6667\n",
      "Classification Report:\n",
      "              precision    recall  f1-score   support\n",
      "\n",
      "           0       0.99      0.99      0.99        98\n",
      "           1       0.67      0.67      0.67         3\n",
      "\n",
      "    accuracy                           0.98       101\n",
      "   macro avg       0.83      0.83      0.83       101\n",
      "weighted avg       0.98      0.98      0.98       101\n",
      "\n",
      "Confusion Matrix:\n",
      "[[97  1]\n",
      " [ 1  2]]\n",
      "\n",
      "Classifier: SVM\n",
      "Accuracy: 0.9703\n",
      "F2-Score: 0.0000\n",
      "Classification Report:\n",
      "              precision    recall  f1-score   support\n",
      "\n",
      "           0       0.97      1.00      0.98        98\n",
      "           1       0.00      0.00      0.00         3\n",
      "\n",
      "    accuracy                           0.97       101\n",
      "   macro avg       0.49      0.50      0.49       101\n",
      "weighted avg       0.94      0.97      0.96       101\n",
      "\n",
      "Confusion Matrix:\n",
      "[[98  0]\n",
      " [ 3  0]]\n",
      "\n",
      "Classifier: K-Nearest Neighbors\n",
      "Accuracy: 0.9703\n",
      "F2-Score: 0.0000\n",
      "Classification Report:\n",
      "              precision    recall  f1-score   support\n",
      "\n",
      "           0       0.97      1.00      0.98        98\n",
      "           1       0.00      0.00      0.00         3\n",
      "\n",
      "    accuracy                           0.97       101\n",
      "   macro avg       0.49      0.50      0.49       101\n",
      "weighted avg       0.94      0.97      0.96       101\n",
      "\n",
      "Confusion Matrix:\n",
      "[[98  0]\n",
      " [ 3  0]]\n",
      "\n",
      "Classifier: Decision Tree\n",
      "Accuracy: 0.9307\n",
      "F2-Score: 0.0000\n",
      "Classification Report:\n",
      "              precision    recall  f1-score   support\n",
      "\n",
      "           0       0.97      0.96      0.96        98\n",
      "           1       0.00      0.00      0.00         3\n",
      "\n",
      "    accuracy                           0.93       101\n",
      "   macro avg       0.48      0.48      0.48       101\n",
      "weighted avg       0.94      0.93      0.94       101\n",
      "\n",
      "Confusion Matrix:\n",
      "[[94  4]\n",
      " [ 3  0]]\n",
      "\n",
      "Classifier: Naive Bayes\n",
      "Accuracy: 0.7822\n",
      "F2-Score: 0.2857\n",
      "Classification Report:\n",
      "              precision    recall  f1-score   support\n",
      "\n",
      "           0       0.99      0.79      0.88        98\n",
      "           1       0.09      0.67      0.15         3\n",
      "\n",
      "    accuracy                           0.78       101\n",
      "   macro avg       0.54      0.73      0.51       101\n",
      "weighted avg       0.96      0.78      0.85       101\n",
      "\n",
      "Confusion Matrix:\n",
      "[[77 21]\n",
      " [ 1  2]]\n",
      "\n",
      "Classifier: Neural Network\n",
      "Accuracy: 0.9703\n",
      "F2-Score: 0.0000\n",
      "Classification Report:\n",
      "              precision    recall  f1-score   support\n",
      "\n",
      "           0       0.97      1.00      0.98        98\n",
      "           1       0.00      0.00      0.00         3\n",
      "\n",
      "    accuracy                           0.97       101\n",
      "   macro avg       0.49      0.50      0.49       101\n",
      "weighted avg       0.94      0.97      0.96       101\n",
      "\n",
      "Confusion Matrix:\n",
      "[[98  0]\n",
      " [ 3  0]]\n",
      "\n"
     ]
    }
   ],
   "source": [
    "y = df['medal']\n",
    "X = df.drop(columns=['medal'])\n",
    "\n",
    "# Split the data into training and testing sets\n",
    "X_train, X_test, y_train, y_test = train_test_split(X, y, test_size=0.2, random_state=4)\n",
    "\n",
    "# Initialize classifiers\n",
    "classifiers = {\n",
    "    \"Random Forest\": RandomForestClassifier(),\n",
    "    \"AdaBoost\": AdaBoostClassifier(),\n",
    "    \"SVM\": SVC(),\n",
    "    \"K-Nearest Neighbors\": KNeighborsClassifier(),\n",
    "    \"Decision Tree\": DecisionTreeClassifier(),\n",
    "    \"Naive Bayes\": GaussianNB(),\n",
    "    \"Neural Network\": MLPClassifier(),\n",
    "}\n",
    "\n",
    "results = {}\n",
    "\n",
    "# Iterate through each classifier\n",
    "for name, clf in classifiers.items():\n",
    "    # Create a pipeline with StandardScaler for classifiers that require it\n",
    "    if name in [\"SVM\", \"K-Nearest Neighbors\", \"Neural Network\"]:\n",
    "        clf = make_pipeline(StandardScaler(), clf)\n",
    "\n",
    "    # Fit model to the training data\n",
    "    clf.fit(X_train, y_train)\n",
    "\n",
    "    # Make predictions on test data\n",
    "    y_pred = clf.predict(X_test)\n",
    "\n",
    "    # Evaluate model's performance\n",
    "    accuracy = accuracy_score(y_test, y_pred)\n",
    "    report = classification_report(y_test, y_pred)\n",
    "    conf_matrix = confusion_matrix(y_test, y_pred)\n",
    "\n",
    "    beta = 2\n",
    "    f2_score = fbeta_score(y_test, y_pred, beta=beta)\n",
    "\n",
    "    results[name] = {\n",
    "        \"accuracy\": accuracy,\n",
    "        \"classification_report\": report,\n",
    "        \"confusion_matrix\": conf_matrix,\n",
    "        \"f2_score\": f2_score,\n",
    "    }\n",
    "    \n",
    "for name, result in results.items():\n",
    "    print(f\"Classifier: {name}\")\n",
    "    print(f\"Accuracy: {result['accuracy']:.4f}\")\n",
    "    print(f\"F2-Score: {result['f2_score']:.4f}\")\n",
    "    print(f\"Classification Report:\\n{result['classification_report']}\")\n",
    "    print(f\"Confusion Matrix:\\n{result['confusion_matrix']}\\n\")\n"
   ]
  },
  {
   "cell_type": "markdown",
   "id": "ade9ed9a",
   "metadata": {},
   "source": [
    "Classifier: Decision Tree\n",
    "Accuracy: 0.9870\n",
    "\n",
    "Classifier: AdaBoost\n",
    "Accuracy: 0.9870"
   ]
  },
  {
   "cell_type": "markdown",
   "id": "5441c991",
   "metadata": {},
   "source": [
    "# Grid Search with k-folds cross validation made improvements"
   ]
  },
  {
   "cell_type": "code",
   "execution_count": 8,
   "id": "b101ee16",
   "metadata": {},
   "outputs": [
    {
     "name": "stdout",
     "output_type": "stream",
     "text": [
      "\n",
      "Fold 1\n",
      "Best Hyperparameters: {'base_estimator__max_depth': 2, 'learning_rate': 0.4, 'n_estimators': 10}\n",
      "Accuracy: 0.9802\n",
      "Classification Report:\n",
      "              precision    recall  f1-score   support\n",
      "\n",
      "           0       0.98      1.00      0.99        99\n",
      "           1       0.00      0.00      0.00         2\n",
      "\n",
      "    accuracy                           0.98       101\n",
      "   macro avg       0.49      0.50      0.49       101\n",
      "weighted avg       0.96      0.98      0.97       101\n",
      "\n",
      "Confusion Matrix:\n",
      "[[99  0]\n",
      " [ 2  0]]\n",
      "\n",
      "Fold 2\n",
      "Best Hyperparameters: {'base_estimator__max_depth': 2, 'learning_rate': 0.4, 'n_estimators': 10}\n",
      "Accuracy: 1.0000\n",
      "Classification Report:\n",
      "              precision    recall  f1-score   support\n",
      "\n",
      "           0       1.00      1.00      1.00        99\n",
      "           1       1.00      1.00      1.00         2\n",
      "\n",
      "    accuracy                           1.00       101\n",
      "   macro avg       1.00      1.00      1.00       101\n",
      "weighted avg       1.00      1.00      1.00       101\n",
      "\n",
      "Confusion Matrix:\n",
      "[[99  0]\n",
      " [ 0  2]]\n",
      "\n",
      "Fold 3\n",
      "Best Hyperparameters: {'base_estimator__max_depth': 2, 'learning_rate': 0.4, 'n_estimators': 10}\n",
      "Accuracy: 0.9900\n",
      "Classification Report:\n",
      "              precision    recall  f1-score   support\n",
      "\n",
      "           0       0.99      1.00      0.99        98\n",
      "           1       1.00      0.50      0.67         2\n",
      "\n",
      "    accuracy                           0.99       100\n",
      "   macro avg       0.99      0.75      0.83       100\n",
      "weighted avg       0.99      0.99      0.99       100\n",
      "\n",
      "Confusion Matrix:\n",
      "[[98  0]\n",
      " [ 1  1]]\n",
      "\n",
      "Fold 4\n",
      "Best Hyperparameters: {'base_estimator__max_depth': 2, 'learning_rate': 0.4, 'n_estimators': 10}\n",
      "Accuracy: 0.9800\n",
      "Classification Report:\n",
      "              precision    recall  f1-score   support\n",
      "\n",
      "           0       0.98      1.00      0.99        98\n",
      "           1       0.00      0.00      0.00         2\n",
      "\n",
      "    accuracy                           0.98       100\n",
      "   macro avg       0.49      0.50      0.49       100\n",
      "weighted avg       0.96      0.98      0.97       100\n",
      "\n",
      "Confusion Matrix:\n",
      "[[98  0]\n",
      " [ 2  0]]\n",
      "\n",
      "Fold 5\n",
      "Best Hyperparameters: {'base_estimator__max_depth': 2, 'learning_rate': 0.4, 'n_estimators': 10}\n",
      "Accuracy: 0.9900\n",
      "Classification Report:\n",
      "              precision    recall  f1-score   support\n",
      "\n",
      "           0       0.99      1.00      0.99        98\n",
      "           1       1.00      0.50      0.67         2\n",
      "\n",
      "    accuracy                           0.99       100\n",
      "   macro avg       0.99      0.75      0.83       100\n",
      "weighted avg       0.99      0.99      0.99       100\n",
      "\n",
      "Confusion Matrix:\n",
      "[[98  0]\n",
      " [ 1  1]]\n"
     ]
    }
   ],
   "source": [
    "from sklearn.model_selection import GridSearchCV, StratifiedKFold\n",
    "from sklearn.tree import DecisionTreeClassifier\n",
    "from sklearn.ensemble import AdaBoostClassifier\n",
    "from sklearn.metrics import accuracy_score, classification_report, confusion_matrix\n",
    "import pandas as pd\n",
    "\n",
    "# Initialize AdaBoost classifier\n",
    "base_classifier = DecisionTreeClassifier()\n",
    "clf = AdaBoostClassifier(base_classifier)\n",
    "\n",
    "# Define parameter grid\n",
    "param_grid = {\n",
    "    'n_estimators': [10, 20, 30],\n",
    "    'learning_rate': [0.1, 0.2, 0.3, 0.4, 0.5],\n",
    "    'base_estimator__max_depth': [1, 2, 3]\n",
    "}\n",
    "\n",
    "# Initialize StratifiedKFold for k-fold cross-validation\n",
    "k_folds = 5\n",
    "stratified_kfold = StratifiedKFold(n_splits=k_folds, shuffle=True, random_state=4)\n",
    "\n",
    "# Create grid search object with StratifiedKFold\n",
    "grid_search = GridSearchCV(clf, param_grid, cv=stratified_kfold, scoring='accuracy')\n",
    "\n",
    "# Fit grid search to data\n",
    "grid_search.fit(X, y)\n",
    "\n",
    "# Get best estimator from grid search\n",
    "best_clf = grid_search.best_estimator_\n",
    "\n",
    "# Iterate over folds for evaluation\n",
    "for fold, (train_index, test_index) in enumerate(stratified_kfold.split(X, y)):\n",
    "    print(f\"\\nFold {fold + 1}\")\n",
    "\n",
    "    # Split the data into training and testing sets for this fold\n",
    "    X_train, X_test = X.iloc[train_index], X.iloc[test_index]\n",
    "    y_train, y_test = y.iloc[train_index], y.iloc[test_index]\n",
    "\n",
    "    # Fit the model to the training data for this fold\n",
    "    best_clf.fit(X_train, y_train)\n",
    "\n",
    "    # Make predictions on test data for this fold\n",
    "    y_pred = best_clf.predict(X_test)\n",
    "\n",
    "    # Evaluate the model's performance for this fold\n",
    "    accuracy = accuracy_score(y_test, y_pred)\n",
    "    report = classification_report(y_test, y_pred)\n",
    "    conf_matrix = confusion_matrix(y_test, y_pred)\n",
    "\n",
    "    print(f\"Best Hyperparameters: {grid_search.best_params_}\")\n",
    "    print(f\"Accuracy: {accuracy:.4f}\")\n",
    "    print(f\"Classification Report:\\n{report}\")\n",
    "    print(f\"Confusion Matrix:\\n{conf_matrix}\")\n"
   ]
  },
  {
   "cell_type": "markdown",
   "id": "48e581b1",
   "metadata": {},
   "source": [
    "# Feature Importance"
   ]
  },
  {
   "cell_type": "code",
   "execution_count": 9,
   "id": "af212c6f",
   "metadata": {},
   "outputs": [
    {
     "name": "stdout",
     "output_type": "stream",
     "text": [
      "Feature Importances:\n",
      "Rank: 0.1500\n",
      "D: 0.0500\n",
      "E: 0.0000\n",
      "ND: 0.0000\n",
      "year: 0.0000\n",
      "Total: 0.1500\n",
      "Name: 0.3500\n",
      "Nation: 0.3000\n",
      "round_final: 0.0000\n",
      "round_qual: 0.0000\n"
     ]
    }
   ],
   "source": [
    "from sklearn.model_selection import train_test_split\n",
    "from sklearn.ensemble import AdaBoostClassifier\n",
    "\n",
    "y = df['medal']\n",
    "X = df.drop(columns=['medal'])\n",
    "\n",
    "# Split the data into training and testing sets\n",
    "X_train, X_test, y_train, y_test = train_test_split(X, y, test_size=0.12, random_state=4)\n",
    "\n",
    "# Initialize AdaBoost classifier\n",
    "clf = AdaBoostClassifier(n_estimators=20, learning_rate=0.35)\n",
    "\n",
    "# Fit model to the training data\n",
    "clf.fit(X_train, y_train)\n",
    "\n",
    "# Extract feature importances\n",
    "feature_importances = clf.feature_importances_\n",
    "\n",
    "print(\"Feature Importances:\")\n",
    "for feature, importance in zip(X.columns, feature_importances):\n",
    "    print(f\"{feature}: {importance:.4f}\")\n"
   ]
  },
  {
   "cell_type": "code",
   "execution_count": 10,
   "id": "bb1d6c46",
   "metadata": {},
   "outputs": [
    {
     "data": {
      "image/png": "[encoded data removed]",
      "text/plain": [
       "<Figure size 1000x600 with 1 Axes>"
      ]
     },
     "metadata": {},
     "output_type": "display_data"
    }
   ],
   "source": [
    "import matplotlib.pyplot as plt\n",
    "\n",
    "\n",
    "# Extract feature importances\n",
    "feature_importances = clf.feature_importances_\n",
    "\n",
    "# Plot feature importances\n",
    "plt.figure(figsize=(10, 6))\n",
    "plt.barh(X.columns, feature_importances, color='skyblue')\n",
    "plt.xlabel('Feature Importance')\n",
    "plt.title('AdaBoost Classifier - Feature Importances')\n",
    "plt.show()\n"
   ]
  },
  {
   "cell_type": "markdown",
   "id": "10afd333",
   "metadata": {},
   "source": [
    "# Model Trained earlier using 2023/2022 data"
   ]
  },
  {
   "cell_type": "code",
   "execution_count": 27,
   "id": "2c3a1af8",
   "metadata": {},
   "outputs": [],
   "source": [
    "olymp = pd.read_csv('../../Data/cleandata22-23/encoded_m_olympics_hb.csv')\n"
   ]
  },
  {
   "cell_type": "code",
   "execution_count": 28,
   "id": "3ba59737",
   "metadata": {},
   "outputs": [],
   "source": [
    "olymp.rename(columns={'D Score': 'D', 'E Score': 'E',\n",
    "                     'Pen.': 'ND', 'nation': 'Nation'}, inplace=True)"
   ]
  },
  {
   "cell_type": "code",
   "execution_count": 29,
   "id": "e6c951b6",
   "metadata": {},
   "outputs": [],
   "source": [
    "olymp=olymp.drop(columns=['round_TeamFinal', 'round_AAfinal', 'round_TeamQual'])"
   ]
  },
  {
   "cell_type": "code",
   "execution_count": 30,
   "id": "35cff9e3",
   "metadata": {},
   "outputs": [],
   "source": [
    "desired_column_order = ['Rank', 'D', 'E', 'ND', 'year', 'Total', 'Name', 'Nation',\n",
    "       'round_final', 'round_qual'] \n",
    "\n",
    "# Create DataFrame with the desired column order\n",
    "olymp = olymp[desired_column_order]\n",
    "olymp.drop_duplicates(inplace=True)"
   ]
  },
  {
   "cell_type": "code",
   "execution_count": 31,
   "id": "156dcc46",
   "metadata": {},
   "outputs": [],
   "source": [
    "# y_pred = clf.predict(olymp)\n",
    "\n",
    "y_pred = best_clf.predict(olymp)\n"
   ]
  },
  {
   "cell_type": "code",
   "execution_count": 32,
   "id": "b58ce1ce",
   "metadata": {},
   "outputs": [],
   "source": [
    "ypreds  = pd.Series(y_pred)\n",
    "olymp['ypred']=ypreds\n"
   ]
  },
  {
   "cell_type": "code",
   "execution_count": 33,
   "id": "b62c558c",
   "metadata": {},
   "outputs": [
    {
     "data": {
      "text/plain": [
       "0.0    2329\n",
       "1.0       3\n",
       "Name: ypred, dtype: int64"
      ]
     },
     "execution_count": 33,
     "metadata": {},
     "output_type": "execute_result"
    }
   ],
   "source": [
    "olymp['ypred'].value_counts()"
   ]
  },
  {
   "cell_type": "code",
   "execution_count": 34,
   "id": "829d1396",
   "metadata": {},
   "outputs": [],
   "source": [
    "filtered_df = olymp[olymp['ypred'] == 1]"
   ]
  },
  {
   "cell_type": "code",
   "execution_count": 35,
   "id": "5bf9dbb2",
   "metadata": {},
   "outputs": [
    {
     "data": {
      "text/plain": [
       "array([475, 276])"
      ]
     },
     "execution_count": 35,
     "metadata": {},
     "output_type": "execute_result"
    }
   ],
   "source": [
    "filtered_df['Name'].unique()"
   ]
  },
  {
   "cell_type": "markdown",
   "id": "acf63044",
   "metadata": {},
   "source": [
    "# hbnames used to match encoded names with actual names"
   ]
  },
  {
   "cell_type": "code",
   "execution_count": 36,
   "id": "6365b425",
   "metadata": {},
   "outputs": [],
   "source": [
    "# name_encoded_values = [731, 593]\n",
    "\n",
    "name_encoded_values = [475, 276]\n",
    "# Filter DataFrame to get the corresponding values\n",
    "result = hbnames.loc[hbnames['Name_encoded'].isin(name_encoded_values), 'Name']\n"
   ]
  },
  {
   "cell_type": "code",
   "execution_count": 37,
   "id": "e6534c61",
   "metadata": {},
   "outputs": [
    {
     "data": {
      "text/plain": [
       "array(['maxime gentges', 'ilias georgiou'], dtype=object)"
      ]
     },
     "execution_count": 37,
     "metadata": {},
     "output_type": "execute_result"
    }
   ],
   "source": [
    "result.unique()"
   ]
  },
  {
   "cell_type": "markdown",
   "id": "200bd42c",
   "metadata": {},
   "source": [
    "# hbolymp used to get country info from name list above"
   ]
  },
  {
   "cell_type": "code",
   "execution_count": 38,
   "id": "9f0eb3e2",
   "metadata": {},
   "outputs": [],
   "source": [
    "hbolymp[\"Name\"]=hbolymp[\"Name\"].str.lower()"
   ]
  },
  {
   "cell_type": "code",
   "execution_count": 39,
   "id": "9588b705",
   "metadata": {},
   "outputs": [],
   "source": [
    "# names_to_filter =['yumin abbadini', 'robert tvorogal']\n",
    "\n",
    "names_to_filter =['maxime gentges', 'ilias georgiou']\n",
    "\n",
    "# Filter the DataFrame to get rows with the specified values\n",
    "result = hbolymp[hbolymp['Name'].isin(names_to_filter)]"
   ]
  },
  {
   "cell_type": "code",
   "execution_count": 40,
   "id": "daf6ebca",
   "metadata": {},
   "outputs": [
    {
     "data": {
      "text/plain": [
       "CYP    32\n",
       "BEL    29\n",
       "Name: Country, dtype: int64"
      ]
     },
     "execution_count": 40,
     "metadata": {},
     "output_type": "execute_result"
    }
   ],
   "source": [
    "result['Country'].value_counts()"
   ]
  },
  {
   "cell_type": "code",
   "execution_count": null,
   "id": "9a4fab6a-94fd-4d06-885d-e6408e6c9ea8",
   "metadata": {},
   "outputs": [],
   "source": []
  }
 ],
 "metadata": {
  "kernelspec": {
   "display_name": "Python 3 (ipykernel)",
   "language": "python",
   "name": "python3"
  },
  "language_info": {
   "codemirror_mode": {
    "name": "ipython",
    "version": 3
   },
   "file_extension": ".py",
   "mimetype": "text/x-python",
   "name": "python",
   "nbconvert_exporter": "python",
   "pygments_lexer": "ipython3",
   "version": "3.8.18"
  }
 },
 "nbformat": 4,
 "nbformat_minor": 5
}
