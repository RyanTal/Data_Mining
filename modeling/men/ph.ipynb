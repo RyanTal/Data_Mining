{
 "cells": [
  {
   "cell_type": "markdown",
   "id": "d5e9b422",
   "metadata": {},
   "source": [
    "# USA\n",
    "- stephen nedoroscik\n",
    "- khoi young"
   ]
  },
  {
   "cell_type": "code",
   "execution_count": 57,
   "id": "e0c0c12d",
   "metadata": {},
   "outputs": [],
   "source": [
    "import pandas as pd\n",
    "import numpy as np\n",
    "from scipy import stats\n",
    "from mlxtend.preprocessing import minmax_scaling\n",
    "import seaborn as sns\n",
    "import matplotlib.pyplot as plt\n",
    "from matplotlib.colors import ListedColormap\n",
    "from sklearn.datasets import make_circles, make_classification, make_moons\n",
    "from sklearn.discriminant_analysis import QuadraticDiscriminantAnalysis\n",
    "from sklearn.ensemble import AdaBoostClassifier, RandomForestClassifier\n",
    "from sklearn.gaussian_process import GaussianProcessClassifier\n",
    "from sklearn.gaussian_process.kernels import RBF\n",
    "from sklearn.inspection import DecisionBoundaryDisplay\n",
    "from sklearn.model_selection import train_test_split\n",
    "from sklearn.naive_bayes import GaussianNB\n",
    "from sklearn.neighbors import KNeighborsClassifier\n",
    "from sklearn.neural_network import MLPClassifier\n",
    "from sklearn.pipeline import make_pipeline\n",
    "from sklearn.preprocessing import StandardScaler\n",
    "from sklearn.svm import SVC\n",
    "from sklearn.tree import DecisionTreeClassifier\n",
    "from sklearn import svm\n",
    "from sklearn.metrics import accuracy_score\n",
    "from sklearn.metrics import classification_report\n",
    "from sklearn.metrics import confusion_matrix"
   ]
  },
  {
   "cell_type": "code",
   "execution_count": 58,
   "id": "7ee6ef22",
   "metadata": {},
   "outputs": [],
   "source": [
    "df = pd.read_csv('../../Combine_Data/men/ph_encoded.csv')\n",
    "olymp = pd.read_csv('../../Data/cleandata22-23/encoded_m_olympics_ph.csv')\n",
    "phnames = pd.read_csv('../../Data/cleandata22-23/encoded_m_olympics_phnames.csv')\n",
    "pholymp = pd.read_csv('../../Data/cleandata22-23/men22_23.csv')"
   ]
  },
  {
   "cell_type": "code",
   "execution_count": 59,
   "id": "0a276aba",
   "metadata": {},
   "outputs": [
    {
     "name": "stdout",
     "output_type": "stream",
     "text": [
      "<class 'pandas.core.frame.DataFrame'>\n",
      "RangeIndex: 414 entries, 0 to 413\n",
      "Data columns (total 11 columns):\n",
      " #   Column       Non-Null Count  Dtype  \n",
      "---  ------       --------------  -----  \n",
      " 0   Rank         414 non-null    int64  \n",
      " 1   D            414 non-null    float64\n",
      " 2   E            414 non-null    float64\n",
      " 3   ND           414 non-null    float64\n",
      " 4   Total        414 non-null    float64\n",
      " 5   year         414 non-null    int64  \n",
      " 6   medal        414 non-null    int64  \n",
      " 7   Name         414 non-null    int64  \n",
      " 8   Nation       414 non-null    int64  \n",
      " 9   round_final  414 non-null    bool   \n",
      " 10  round_qual   414 non-null    bool   \n",
      "dtypes: bool(2), float64(4), int64(5)\n",
      "memory usage: 30.0 KB\n"
     ]
    }
   ],
   "source": [
    "df.info()"
   ]
  },
  {
   "cell_type": "code",
   "execution_count": 86,
   "id": "7c59276b",
   "metadata": {
    "scrolled": false
   },
   "outputs": [],
   "source": [
    "\n",
    "# Assuming you already have your DataFrame 'df' and the target variable is 'medal'\n",
    "y = df['medal']\n",
    "X = df.drop(columns=['medal'])\n",
    "\n",
    "# Split the data into training and testing sets\n",
    "# CHANGED RANDOM STATE TO HAVE A LARGER NUMBER OF VALUES IN TEST DF\n",
    "X_train, X_test, y_train, y_test = train_test_split(X, y, test_size=0.2, random_state=42)\n",
    "\n",
    "# # Initialize classifiers\n",
    "# classifiers = {\n",
    "#     \"Random Forest\": RandomForestClassifier(),\n",
    "#     \"AdaBoost\": AdaBoostClassifier(),\n",
    "#     \"SVM\": SVC(),\n",
    "#     \"K-Nearest Neighbors\": KNeighborsClassifier(),\n",
    "#     \"Decision Tree\": DecisionTreeClassifier(),\n",
    "#     \"Naive Bayes\": GaussianNB(),\n",
    "#     \"Neural Network\": MLPClassifier(),\n",
    "# }\n",
    "\n",
    "# results = {}\n",
    "\n",
    "# # Iterate through each classifier\n",
    "# for name, clf in classifiers.items():\n",
    "#     # Create a pipeline with StandardScaler for classifiers that require it\n",
    "#     if name in [\"SVM\", \"K-Nearest Neighbors\", \"Neural Network\"]:\n",
    "#         clf = make_pipeline(StandardScaler(), clf)\n",
    "\n",
    "#     # Fit the model to the training data\n",
    "#     clf.fit(X_train, y_train)\n",
    "\n",
    "#     # Make predictions on the test data\n",
    "#     y_pred = clf.predict(X_test)\n",
    "\n",
    "#     # Evaluate the model's performance\n",
    "#     accuracy = accuracy_score(y_test, y_pred)\n",
    "#     report = classification_report(y_test, y_pred)\n",
    "#     conf_matrix = confusion_matrix(y_test, y_pred)\n",
    "\n",
    "#     results[name] = {\n",
    "#         \"accuracy\": accuracy,\n",
    "#         \"classification_report\": report,\n",
    "#         \"confusion_matrix\": conf_matrix,\n",
    "#     }\n",
    "\n",
    "# # Print the results\n",
    "# for name, result in results.items():\n",
    "#     print(f\"Classifier: {name}\")\n",
    "#     print(f\"Accuracy: {result['accuracy']:.4f}\")\n",
    "#     print(f\"Classification Report:\\n{result['classification_report']}\")\n",
    "#     print(f\"Confusion Matrix:\\n{result['confusion_matrix']}\\n\")\n"
   ]
  },
  {
   "cell_type": "markdown",
   "id": "8eee775d",
   "metadata": {},
   "source": [
    "Classifier: Random Forest\n",
    "Accuracy: 0.9904"
   ]
  },
  {
   "cell_type": "code",
   "execution_count": 61,
   "id": "3cd9f0bd",
   "metadata": {},
   "outputs": [
    {
     "data": {
      "text/html": [
       "<div>\n",
       "<style scoped>\n",
       "    .dataframe tbody tr th:only-of-type {\n",
       "        vertical-align: middle;\n",
       "    }\n",
       "\n",
       "    .dataframe tbody tr th {\n",
       "        vertical-align: top;\n",
       "    }\n",
       "\n",
       "    .dataframe thead th {\n",
       "        text-align: right;\n",
       "    }\n",
       "</style>\n",
       "<table border=\"1\" class=\"dataframe\">\n",
       "  <thead>\n",
       "    <tr style=\"text-align: right;\">\n",
       "      <th></th>\n",
       "      <th>Rank</th>\n",
       "      <th>D</th>\n",
       "      <th>E</th>\n",
       "      <th>ND</th>\n",
       "      <th>Total</th>\n",
       "      <th>year</th>\n",
       "      <th>Name</th>\n",
       "      <th>Nation</th>\n",
       "      <th>round_final</th>\n",
       "      <th>round_qual</th>\n",
       "    </tr>\n",
       "  </thead>\n",
       "  <tbody>\n",
       "    <tr>\n",
       "      <th>225</th>\n",
       "      <td>95</td>\n",
       "      <td>5.8</td>\n",
       "      <td>6.666</td>\n",
       "      <td>0.0</td>\n",
       "      <td>12.466</td>\n",
       "      <td>2019</td>\n",
       "      <td>159</td>\n",
       "      <td>45</td>\n",
       "      <td>False</td>\n",
       "      <td>True</td>\n",
       "    </tr>\n",
       "    <tr>\n",
       "      <th>355</th>\n",
       "      <td>12</td>\n",
       "      <td>6.1</td>\n",
       "      <td>6.600</td>\n",
       "      <td>0.0</td>\n",
       "      <td>12.700</td>\n",
       "      <td>2019</td>\n",
       "      <td>100</td>\n",
       "      <td>39</td>\n",
       "      <td>False</td>\n",
       "      <td>True</td>\n",
       "    </tr>\n",
       "    <tr>\n",
       "      <th>364</th>\n",
       "      <td>2</td>\n",
       "      <td>6.1</td>\n",
       "      <td>8.450</td>\n",
       "      <td>0.0</td>\n",
       "      <td>29.000</td>\n",
       "      <td>2020</td>\n",
       "      <td>19</td>\n",
       "      <td>72</td>\n",
       "      <td>True</td>\n",
       "      <td>False</td>\n",
       "    </tr>\n",
       "    <tr>\n",
       "      <th>274</th>\n",
       "      <td>144</td>\n",
       "      <td>4.9</td>\n",
       "      <td>6.600</td>\n",
       "      <td>0.0</td>\n",
       "      <td>11.500</td>\n",
       "      <td>2019</td>\n",
       "      <td>269</td>\n",
       "      <td>42</td>\n",
       "      <td>False</td>\n",
       "      <td>True</td>\n",
       "    </tr>\n",
       "    <tr>\n",
       "      <th>175</th>\n",
       "      <td>45</td>\n",
       "      <td>5.1</td>\n",
       "      <td>8.033</td>\n",
       "      <td>0.0</td>\n",
       "      <td>13.133</td>\n",
       "      <td>2019</td>\n",
       "      <td>9</td>\n",
       "      <td>58</td>\n",
       "      <td>False</td>\n",
       "      <td>True</td>\n",
       "    </tr>\n",
       "  </tbody>\n",
       "</table>\n",
       "</div>"
      ],
      "text/plain": [
       "     Rank    D      E   ND   Total  year  Name  Nation  round_final  \\\n",
       "225    95  5.8  6.666  0.0  12.466  2019   159      45        False   \n",
       "355    12  6.1  6.600  0.0  12.700  2019   100      39        False   \n",
       "364     2  6.1  8.450  0.0  29.000  2020    19      72         True   \n",
       "274   144  4.9  6.600  0.0  11.500  2019   269      42        False   \n",
       "175    45  5.1  8.033  0.0  13.133  2019     9      58        False   \n",
       "\n",
       "     round_qual  \n",
       "225        True  \n",
       "355        True  \n",
       "364       False  \n",
       "274        True  \n",
       "175        True  "
      ]
     },
     "execution_count": 61,
     "metadata": {},
     "output_type": "execute_result"
    }
   ],
   "source": [
    "X_train.head()"
   ]
  },
  {
   "cell_type": "code",
   "execution_count": 62,
   "id": "c2ab74c7",
   "metadata": {},
   "outputs": [
    {
     "data": {
      "text/html": [
       "<div>\n",
       "<style scoped>\n",
       "    .dataframe tbody tr th:only-of-type {\n",
       "        vertical-align: middle;\n",
       "    }\n",
       "\n",
       "    .dataframe tbody tr th {\n",
       "        vertical-align: top;\n",
       "    }\n",
       "\n",
       "    .dataframe thead th {\n",
       "        text-align: right;\n",
       "    }\n",
       "</style>\n",
       "<table border=\"1\" class=\"dataframe\">\n",
       "  <thead>\n",
       "    <tr style=\"text-align: right;\">\n",
       "      <th></th>\n",
       "      <th>Rank</th>\n",
       "      <th>D Score</th>\n",
       "      <th>E Score</th>\n",
       "      <th>Pen.</th>\n",
       "      <th>Total</th>\n",
       "      <th>year</th>\n",
       "      <th>Name</th>\n",
       "      <th>nation</th>\n",
       "      <th>round_AAfinal</th>\n",
       "      <th>round_TeamFinal</th>\n",
       "      <th>round_final</th>\n",
       "      <th>round_qual</th>\n",
       "    </tr>\n",
       "  </thead>\n",
       "  <tbody>\n",
       "    <tr>\n",
       "      <th>0</th>\n",
       "      <td>44.0</td>\n",
       "      <td>4.4</td>\n",
       "      <td>7.800</td>\n",
       "      <td>0.0</td>\n",
       "      <td>12.200</td>\n",
       "      <td>2023</td>\n",
       "      <td>158</td>\n",
       "      <td>60</td>\n",
       "      <td>False</td>\n",
       "      <td>False</td>\n",
       "      <td>False</td>\n",
       "      <td>True</td>\n",
       "    </tr>\n",
       "    <tr>\n",
       "      <th>1</th>\n",
       "      <td>58.0</td>\n",
       "      <td>4.4</td>\n",
       "      <td>7.266</td>\n",
       "      <td>0.0</td>\n",
       "      <td>11.666</td>\n",
       "      <td>2023</td>\n",
       "      <td>159</td>\n",
       "      <td>60</td>\n",
       "      <td>False</td>\n",
       "      <td>False</td>\n",
       "      <td>False</td>\n",
       "      <td>True</td>\n",
       "    </tr>\n",
       "    <tr>\n",
       "      <th>2</th>\n",
       "      <td>21.0</td>\n",
       "      <td>5.1</td>\n",
       "      <td>6.166</td>\n",
       "      <td>0.0</td>\n",
       "      <td>11.266</td>\n",
       "      <td>2022</td>\n",
       "      <td>366</td>\n",
       "      <td>27</td>\n",
       "      <td>True</td>\n",
       "      <td>False</td>\n",
       "      <td>False</td>\n",
       "      <td>False</td>\n",
       "    </tr>\n",
       "    <tr>\n",
       "      <th>3</th>\n",
       "      <td>55.0</td>\n",
       "      <td>5.2</td>\n",
       "      <td>7.566</td>\n",
       "      <td>0.0</td>\n",
       "      <td>12.766</td>\n",
       "      <td>2022</td>\n",
       "      <td>366</td>\n",
       "      <td>27</td>\n",
       "      <td>False</td>\n",
       "      <td>False</td>\n",
       "      <td>False</td>\n",
       "      <td>True</td>\n",
       "    </tr>\n",
       "    <tr>\n",
       "      <th>4</th>\n",
       "      <td>105.0</td>\n",
       "      <td>5.0</td>\n",
       "      <td>5.500</td>\n",
       "      <td>0.0</td>\n",
       "      <td>10.500</td>\n",
       "      <td>2022</td>\n",
       "      <td>366</td>\n",
       "      <td>27</td>\n",
       "      <td>False</td>\n",
       "      <td>False</td>\n",
       "      <td>False</td>\n",
       "      <td>True</td>\n",
       "    </tr>\n",
       "  </tbody>\n",
       "</table>\n",
       "</div>"
      ],
      "text/plain": [
       "    Rank  D Score  E Score  Pen.   Total  year  Name  nation  round_AAfinal  \\\n",
       "0   44.0      4.4    7.800   0.0  12.200  2023   158      60          False   \n",
       "1   58.0      4.4    7.266   0.0  11.666  2023   159      60          False   \n",
       "2   21.0      5.1    6.166   0.0  11.266  2022   366      27           True   \n",
       "3   55.0      5.2    7.566   0.0  12.766  2022   366      27          False   \n",
       "4  105.0      5.0    5.500   0.0  10.500  2022   366      27          False   \n",
       "\n",
       "   round_TeamFinal  round_final  round_qual  \n",
       "0            False        False        True  \n",
       "1            False        False        True  \n",
       "2            False        False       False  \n",
       "3            False        False        True  \n",
       "4            False        False        True  "
      ]
     },
     "execution_count": 62,
     "metadata": {},
     "output_type": "execute_result"
    }
   ],
   "source": [
    "olymp.head()\n"
   ]
  },
  {
   "cell_type": "code",
   "execution_count": 243,
   "id": "92830186",
   "metadata": {},
   "outputs": [],
   "source": [
    "olymp = pd.read_csv('../../Data/cleandata22-23/encoded_m_olympics_ph.csv')\n"
   ]
  },
  {
   "cell_type": "code",
   "execution_count": 244,
   "id": "87f9b19b",
   "metadata": {},
   "outputs": [],
   "source": [
    "olymp.rename(columns={'D Score': 'D', 'E Score': 'E',\n",
    "                     'Pen.': 'ND', 'nation': 'Nation'}, inplace=True)"
   ]
  },
  {
   "cell_type": "code",
   "execution_count": 245,
   "id": "090dc81c",
   "metadata": {},
   "outputs": [],
   "source": [
    "olymp=olymp.drop(columns=['round_TeamFinal', 'round_AAfinal'])"
   ]
  },
  {
   "cell_type": "code",
   "execution_count": 246,
   "id": "41c94c57",
   "metadata": {},
   "outputs": [
    {
     "name": "stdout",
     "output_type": "stream",
     "text": [
      "Accuracy of RandomForest Classifier: 0.9880\n"
     ]
    }
   ],
   "source": [
    "import pandas as pd\n",
    "from sklearn.model_selection import train_test_split\n",
    "from sklearn.metrics import accuracy_score\n",
    "from sklearn.ensemble import RandomForestClassifier\n",
    "\n",
    "# Load the dataset\n",
    "data = df.copy()  # Assuming 'df' is your DataFrame\n",
    "\n",
    "# Define the target variable and features\n",
    "y = data['medal']  # Assuming 'medal' is your target variable\n",
    "X = data.drop(columns=['medal'])\n",
    "\n",
    "# Split the data into training and testing sets\n",
    "X_train, X_test, y_train, y_test = train_test_split(X, y, test_size=0.20, random_state=2)\n",
    "\n",
    "# Initialize and train the RandomForestClassifier with a specific number of estimators\n",
    "n_estimators = 5  # Adjust this value to control the number of results\n",
    "rf_model = RandomForestClassifier(n_estimators=n_estimators, random_state=42)\n",
    "rf_model.fit(X_train, y_train)\n",
    "\n",
    "# Make predictions with the RandomForestClassifier\n",
    "y_pred = rf_model.predict(X_test)\n",
    "\n",
    "# Evaluate the model's accuracy\n",
    "accuracy = accuracy_score(y_test, y_pred)\n",
    "\n",
    "print(f\"Accuracy of RandomForest Classifier: {accuracy:.4f}\")\n"
   ]
  },
  {
   "cell_type": "code",
   "execution_count": 247,
   "id": "da66925b",
   "metadata": {},
   "outputs": [],
   "source": [
    "y_predz = rf_model.predict(olymp)"
   ]
  },
  {
   "cell_type": "code",
   "execution_count": 248,
   "id": "1fc390bc",
   "metadata": {},
   "outputs": [],
   "source": [
    "ypreds  = pd.Series(y_predz)\n",
    "olymp['ypredz']=ypreds"
   ]
  },
  {
   "cell_type": "code",
   "execution_count": 249,
   "id": "226187c1",
   "metadata": {},
   "outputs": [
    {
     "data": {
      "text/plain": [
       "ypredz\n",
       "0    1430\n",
       "1       8\n",
       "Name: count, dtype: int64"
      ]
     },
     "execution_count": 249,
     "metadata": {},
     "output_type": "execute_result"
    }
   ],
   "source": [
    "olymp['ypredz'].value_counts()\n"
   ]
  },
  {
   "cell_type": "code",
   "execution_count": 250,
   "id": "378ea9a3",
   "metadata": {},
   "outputs": [],
   "source": [
    "filtered_df = olymp[olymp['ypredz'] == 1]"
   ]
  },
  {
   "cell_type": "code",
   "execution_count": 251,
   "id": "c34e87e2",
   "metadata": {},
   "outputs": [
    {
     "data": {
      "text/plain": [
       "array([  2, 163,  81, 474, 279])"
      ]
     },
     "execution_count": 251,
     "metadata": {},
     "output_type": "execute_result"
    }
   ],
   "source": [
    "filtered_df['Name'].unique()"
   ]
  },
  {
   "cell_type": "code",
   "execution_count": 252,
   "id": "62a74c76",
   "metadata": {},
   "outputs": [],
   "source": [
    "name_encoded_values =  [ 2, 163,  81, 474, 279]\n",
    "\n",
    "# Filter the DataFrame to get the corresponding \"Name\" values\n",
    "result = phnames.loc[phnames['Name_encoded'].isin(name_encoded_values), 'Name']\n"
   ]
  },
  {
   "cell_type": "code",
   "execution_count": 253,
   "id": "d4d92215",
   "metadata": {},
   "outputs": [
    {
     "data": {
      "text/plain": [
       "array(['abdulla azimov', 'gagik khachikyan', 'chih kai lee',\n",
       "       'stephen nedoroscik', 'khoi young'], dtype=object)"
      ]
     },
     "execution_count": 253,
     "metadata": {},
     "output_type": "execute_result"
    }
   ],
   "source": [
    "result.unique()"
   ]
  },
  {
   "cell_type": "code",
   "execution_count": 254,
   "id": "c07336ef",
   "metadata": {},
   "outputs": [],
   "source": [
    "pholymp[\"Name\"]=pholymp[\"Name\"].str.lower()"
   ]
  },
  {
   "cell_type": "code",
   "execution_count": 255,
   "id": "c8ccc01e",
   "metadata": {},
   "outputs": [],
   "source": [
    "names_to_filter = ['abdulla azimov', 'gagik khachikyan', 'chih kai lee',\n",
    "       'stephen nedoroscik', 'khoi young']\n",
    "\n",
    "# Filter the DataFrame to get rows with the specified \"Name\" values\n",
    "result = pholymp[pholymp['Name'].isin(names_to_filter)]"
   ]
  },
  {
   "cell_type": "code",
   "execution_count": 256,
   "id": "6d874840",
   "metadata": {},
   "outputs": [
    {
     "data": {
      "text/plain": [
       "Country\n",
       "USA    39\n",
       "ARM    27\n",
       "UZB    12\n",
       "TPE    10\n",
       "Name: count, dtype: int64"
      ]
     },
     "execution_count": 256,
     "metadata": {},
     "output_type": "execute_result"
    }
   ],
   "source": [
    "result['Country'].value_counts()"
   ]
  },
  {
   "cell_type": "code",
   "execution_count": 257,
   "id": "a6475d23",
   "metadata": {},
   "outputs": [],
   "source": [
    "usas=result[result['Country']=='USA']"
   ]
  },
  {
   "cell_type": "code",
   "execution_count": 258,
   "id": "9f757ea0",
   "metadata": {},
   "outputs": [
    {
     "data": {
      "text/plain": [
       "array(['stephen nedoroscik', 'khoi young'], dtype=object)"
      ]
     },
     "execution_count": 258,
     "metadata": {},
     "output_type": "execute_result"
    }
   ],
   "source": [
    "usas['Name'].unique()"
   ]
  }
 ],
 "metadata": {
  "kernelspec": {
   "display_name": "Python 3 (ipykernel)",
   "language": "python",
   "name": "python3"
  },
  "language_info": {
   "codemirror_mode": {
    "name": "ipython",
    "version": 3
   },
   "file_extension": ".py",
   "mimetype": "text/x-python",
   "name": "python",
   "nbconvert_exporter": "python",
   "pygments_lexer": "ipython3",
   "version": "3.9.12"
  }
 },
 "nbformat": 4,
 "nbformat_minor": 5
}
