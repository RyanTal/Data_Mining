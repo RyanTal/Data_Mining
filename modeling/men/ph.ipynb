{
 "cells": [
  {
   "cell_type": "markdown",
   "id": "d5e9b422",
   "metadata": {},
   "source": [
    "# USA\n",
    "- stephen nedoroscik\n",
    "- khoi young"
   ]
  },
  {
   "cell_type": "code",
   "execution_count": 1,
   "id": "e0c0c12d",
   "metadata": {},
   "outputs": [],
   "source": [
    "import pandas as pd\n",
    "import numpy as np\n",
    "from scipy import stats\n",
    "from mlxtend.preprocessing import minmax_scaling\n",
    "import seaborn as sns\n",
    "import matplotlib.pyplot as plt\n",
    "from matplotlib.colors import ListedColormap\n",
    "from sklearn.datasets import make_circles, make_classification, make_moons\n",
    "from sklearn.discriminant_analysis import QuadraticDiscriminantAnalysis\n",
    "from sklearn.ensemble import AdaBoostClassifier, RandomForestClassifier\n",
    "from sklearn.gaussian_process import GaussianProcessClassifier\n",
    "from sklearn.gaussian_process.kernels import RBF\n",
    "from sklearn.inspection import DecisionBoundaryDisplay\n",
    "from sklearn.model_selection import train_test_split\n",
    "from sklearn.naive_bayes import GaussianNB\n",
    "from sklearn.neighbors import KNeighborsClassifier\n",
    "from sklearn.neural_network import MLPClassifier\n",
    "from sklearn.pipeline import make_pipeline\n",
    "from sklearn.preprocessing import StandardScaler\n",
    "from sklearn.svm import SVC\n",
    "from sklearn.tree import DecisionTreeClassifier\n",
    "from sklearn import svm\n",
    "from sklearn.metrics import accuracy_score\n",
    "from sklearn.metrics import classification_report\n",
    "from sklearn.metrics import confusion_matrix"
   ]
  },
  {
   "cell_type": "code",
   "execution_count": 2,
   "id": "7ee6ef22",
   "metadata": {},
   "outputs": [],
   "source": [
    "df = pd.read_csv('../../Combine_Data/men/ph_encoded.csv')\n",
    "olymp = pd.read_csv('../../Data/cleandata22-23/encoded_m_olympics_ph.csv')\n",
    "phnames = pd.read_csv('../../Data/cleandata22-23/encoded_m_olympics_phnames.csv')\n",
    "pholymp = pd.read_csv('../../Data/cleandata22-23/men22_23.csv')"
   ]
  },
  {
   "cell_type": "code",
   "execution_count": 3,
   "id": "0a276aba",
   "metadata": {},
   "outputs": [
    {
     "name": "stdout",
     "output_type": "stream",
     "text": [
      "<class 'pandas.core.frame.DataFrame'>\n",
      "RangeIndex: 561 entries, 0 to 560\n",
      "Data columns (total 11 columns):\n",
      " #   Column       Non-Null Count  Dtype  \n",
      "---  ------       --------------  -----  \n",
      " 0   Rank         561 non-null    int64  \n",
      " 1   D            561 non-null    float64\n",
      " 2   E            561 non-null    float64\n",
      " 3   ND           561 non-null    float64\n",
      " 4   Total        561 non-null    float64\n",
      " 5   year         561 non-null    int64  \n",
      " 6   medal        561 non-null    int64  \n",
      " 7   Name         561 non-null    int64  \n",
      " 8   Nation       561 non-null    int64  \n",
      " 9   round_final  561 non-null    bool   \n",
      " 10  round_qual   561 non-null    bool   \n",
      "dtypes: bool(2), float64(4), int64(5)\n",
      "memory usage: 40.7 KB\n"
     ]
    }
   ],
   "source": [
    "df.info()"
   ]
  },
  {
   "cell_type": "code",
   "execution_count": 5,
   "id": "7c59276b",
   "metadata": {
    "scrolled": false
   },
   "outputs": [
    {
     "name": "stderr",
     "output_type": "stream",
     "text": [
      "/Users/ryantalbot/opt/anaconda3/envs/tf2/lib/python3.9/site-packages/sklearn/metrics/_classification.py:1469: UndefinedMetricWarning: Precision and F-score are ill-defined and being set to 0.0 in labels with no predicted samples. Use `zero_division` parameter to control this behavior.\n",
      "  _warn_prf(average, modifier, msg_start, len(result))\n",
      "/Users/ryantalbot/opt/anaconda3/envs/tf2/lib/python3.9/site-packages/sklearn/metrics/_classification.py:1469: UndefinedMetricWarning: Precision and F-score are ill-defined and being set to 0.0 in labels with no predicted samples. Use `zero_division` parameter to control this behavior.\n",
      "  _warn_prf(average, modifier, msg_start, len(result))\n",
      "/Users/ryantalbot/opt/anaconda3/envs/tf2/lib/python3.9/site-packages/sklearn/metrics/_classification.py:1469: UndefinedMetricWarning: Precision and F-score are ill-defined and being set to 0.0 in labels with no predicted samples. Use `zero_division` parameter to control this behavior.\n",
      "  _warn_prf(average, modifier, msg_start, len(result))\n"
     ]
    },
    {
     "name": "stdout",
     "output_type": "stream",
     "text": [
      "Classifier: Random Forest\n",
      "Accuracy: 1.0000\n",
      "Classification Report:\n",
      "              precision    recall  f1-score   support\n",
      "\n",
      "           0       1.00      1.00      1.00       112\n",
      "           1       1.00      1.00      1.00         1\n",
      "\n",
      "    accuracy                           1.00       113\n",
      "   macro avg       1.00      1.00      1.00       113\n",
      "weighted avg       1.00      1.00      1.00       113\n",
      "\n",
      "Confusion Matrix:\n",
      "[[112   0]\n",
      " [  0   1]]\n",
      "\n",
      "Classifier: AdaBoost\n",
      "Accuracy: 1.0000\n",
      "Classification Report:\n",
      "              precision    recall  f1-score   support\n",
      "\n",
      "           0       1.00      1.00      1.00       112\n",
      "           1       1.00      1.00      1.00         1\n",
      "\n",
      "    accuracy                           1.00       113\n",
      "   macro avg       1.00      1.00      1.00       113\n",
      "weighted avg       1.00      1.00      1.00       113\n",
      "\n",
      "Confusion Matrix:\n",
      "[[112   0]\n",
      " [  0   1]]\n",
      "\n",
      "Classifier: SVM\n",
      "Accuracy: 0.9912\n",
      "Classification Report:\n",
      "              precision    recall  f1-score   support\n",
      "\n",
      "           0       0.99      1.00      1.00       112\n",
      "           1       0.00      0.00      0.00         1\n",
      "\n",
      "    accuracy                           0.99       113\n",
      "   macro avg       0.50      0.50      0.50       113\n",
      "weighted avg       0.98      0.99      0.99       113\n",
      "\n",
      "Confusion Matrix:\n",
      "[[112   0]\n",
      " [  1   0]]\n",
      "\n",
      "Classifier: K-Nearest Neighbors\n",
      "Accuracy: 0.9823\n",
      "Classification Report:\n",
      "              precision    recall  f1-score   support\n",
      "\n",
      "           0       0.99      0.99      0.99       112\n",
      "           1       0.00      0.00      0.00         1\n",
      "\n",
      "    accuracy                           0.98       113\n",
      "   macro avg       0.50      0.50      0.50       113\n",
      "weighted avg       0.98      0.98      0.98       113\n",
      "\n",
      "Confusion Matrix:\n",
      "[[111   1]\n",
      " [  1   0]]\n",
      "\n",
      "Classifier: Decision Tree\n",
      "Accuracy: 1.0000\n",
      "Classification Report:\n",
      "              precision    recall  f1-score   support\n",
      "\n",
      "           0       1.00      1.00      1.00       112\n",
      "           1       1.00      1.00      1.00         1\n",
      "\n",
      "    accuracy                           1.00       113\n",
      "   macro avg       1.00      1.00      1.00       113\n",
      "weighted avg       1.00      1.00      1.00       113\n",
      "\n",
      "Confusion Matrix:\n",
      "[[112   0]\n",
      " [  0   1]]\n",
      "\n",
      "Classifier: Naive Bayes\n",
      "Accuracy: 0.9469\n",
      "Classification Report:\n",
      "              precision    recall  f1-score   support\n",
      "\n",
      "           0       1.00      0.95      0.97       112\n",
      "           1       0.14      1.00      0.25         1\n",
      "\n",
      "    accuracy                           0.95       113\n",
      "   macro avg       0.57      0.97      0.61       113\n",
      "weighted avg       0.99      0.95      0.97       113\n",
      "\n",
      "Confusion Matrix:\n",
      "[[106   6]\n",
      " [  0   1]]\n",
      "\n",
      "Classifier: Neural Network\n",
      "Accuracy: 0.9912\n",
      "Classification Report:\n",
      "              precision    recall  f1-score   support\n",
      "\n",
      "           0       0.99      1.00      1.00       112\n",
      "           1       0.00      0.00      0.00         1\n",
      "\n",
      "    accuracy                           0.99       113\n",
      "   macro avg       0.50      0.50      0.50       113\n",
      "weighted avg       0.98      0.99      0.99       113\n",
      "\n",
      "Confusion Matrix:\n",
      "[[112   0]\n",
      " [  1   0]]\n",
      "\n"
     ]
    },
    {
     "name": "stderr",
     "output_type": "stream",
     "text": [
      "/Users/ryantalbot/opt/anaconda3/envs/tf2/lib/python3.9/site-packages/sklearn/neural_network/_multilayer_perceptron.py:691: ConvergenceWarning: Stochastic Optimizer: Maximum iterations (200) reached and the optimization hasn't converged yet.\n",
      "  warnings.warn(\n",
      "/Users/ryantalbot/opt/anaconda3/envs/tf2/lib/python3.9/site-packages/sklearn/metrics/_classification.py:1469: UndefinedMetricWarning: Precision and F-score are ill-defined and being set to 0.0 in labels with no predicted samples. Use `zero_division` parameter to control this behavior.\n",
      "  _warn_prf(average, modifier, msg_start, len(result))\n",
      "/Users/ryantalbot/opt/anaconda3/envs/tf2/lib/python3.9/site-packages/sklearn/metrics/_classification.py:1469: UndefinedMetricWarning: Precision and F-score are ill-defined and being set to 0.0 in labels with no predicted samples. Use `zero_division` parameter to control this behavior.\n",
      "  _warn_prf(average, modifier, msg_start, len(result))\n",
      "/Users/ryantalbot/opt/anaconda3/envs/tf2/lib/python3.9/site-packages/sklearn/metrics/_classification.py:1469: UndefinedMetricWarning: Precision and F-score are ill-defined and being set to 0.0 in labels with no predicted samples. Use `zero_division` parameter to control this behavior.\n",
      "  _warn_prf(average, modifier, msg_start, len(result))\n"
     ]
    }
   ],
   "source": [
    "y = df['medal']\n",
    "X = df.drop(columns=['medal'])\n",
    "\n",
    "# Split the data into training and testing sets\n",
    "# CHANGED RANDOM STATE TO HAVE A LARGER NUMBER OF VALUES IN TEST DF\n",
    "X_train, X_test, y_train, y_test = train_test_split(X, y, test_size=0.2, random_state=42)\n",
    "\n",
    "# Initialize classifiers\n",
    "classifiers = {\n",
    "    \"Random Forest\": RandomForestClassifier(),\n",
    "    \"AdaBoost\": AdaBoostClassifier(),\n",
    "    \"SVM\": SVC(),\n",
    "    \"K-Nearest Neighbors\": KNeighborsClassifier(),\n",
    "    \"Decision Tree\": DecisionTreeClassifier(),\n",
    "    \"Naive Bayes\": GaussianNB(),\n",
    "    \"Neural Network\": MLPClassifier(),\n",
    "}\n",
    "\n",
    "results = {}\n",
    "\n",
    "# Iterate through each classifier\n",
    "for name, clf in classifiers.items():\n",
    "    # Create a pipeline with StandardScaler for classifiers that require it\n",
    "    if name in [\"SVM\", \"K-Nearest Neighbors\", \"Neural Network\"]:\n",
    "        clf = make_pipeline(StandardScaler(), clf)\n",
    "\n",
    "    # Fit the model to the training data\n",
    "    clf.fit(X_train, y_train)\n",
    "\n",
    "    # Make predictions on the test data\n",
    "    y_pred = clf.predict(X_test)\n",
    "\n",
    "    # Evaluate the model's performance\n",
    "    accuracy = accuracy_score(y_test, y_pred)\n",
    "    report = classification_report(y_test, y_pred)\n",
    "    conf_matrix = confusion_matrix(y_test, y_pred)\n",
    "\n",
    "    results[name] = {\n",
    "        \"accuracy\": accuracy,\n",
    "        \"classification_report\": report,\n",
    "        \"confusion_matrix\": conf_matrix,\n",
    "    }\n",
    "\n",
    "# Print the results\n",
    "for name, result in results.items():\n",
    "    print(f\"Classifier: {name}\")\n",
    "    print(f\"Accuracy: {result['accuracy']:.4f}\")\n",
    "    print(f\"Classification Report:\\n{result['classification_report']}\")\n",
    "    print(f\"Confusion Matrix:\\n{result['confusion_matrix']}\\n\")\n"
   ]
  },
  {
   "cell_type": "markdown",
   "id": "8eee775d",
   "metadata": {},
   "source": [
    "Classifier: Random Forest, AdaBoost, and Decision Tree\n",
    "Accuracy: 0.9904"
   ]
  },
  {
   "cell_type": "code",
   "execution_count": 10,
   "id": "3cd9f0bd",
   "metadata": {},
   "outputs": [
    {
     "data": {
      "text/html": [
       "<div>\n",
       "<style scoped>\n",
       "    .dataframe tbody tr th:only-of-type {\n",
       "        vertical-align: middle;\n",
       "    }\n",
       "\n",
       "    .dataframe tbody tr th {\n",
       "        vertical-align: top;\n",
       "    }\n",
       "\n",
       "    .dataframe thead th {\n",
       "        text-align: right;\n",
       "    }\n",
       "</style>\n",
       "<table border=\"1\" class=\"dataframe\">\n",
       "  <thead>\n",
       "    <tr style=\"text-align: right;\">\n",
       "      <th></th>\n",
       "      <th>Rank</th>\n",
       "      <th>D</th>\n",
       "      <th>E</th>\n",
       "      <th>ND</th>\n",
       "      <th>Total</th>\n",
       "      <th>year</th>\n",
       "      <th>Name</th>\n",
       "      <th>Nation</th>\n",
       "      <th>round_final</th>\n",
       "      <th>round_qual</th>\n",
       "    </tr>\n",
       "  </thead>\n",
       "  <tbody>\n",
       "    <tr>\n",
       "      <th>463</th>\n",
       "      <td>186</td>\n",
       "      <td>5.1</td>\n",
       "      <td>4.700</td>\n",
       "      <td>0.0</td>\n",
       "      <td>9.800</td>\n",
       "      <td>2019</td>\n",
       "      <td>261</td>\n",
       "      <td>78</td>\n",
       "      <td>False</td>\n",
       "      <td>True</td>\n",
       "    </tr>\n",
       "    <tr>\n",
       "      <th>0</th>\n",
       "      <td>1</td>\n",
       "      <td>6.5</td>\n",
       "      <td>8.766</td>\n",
       "      <td>0.0</td>\n",
       "      <td>15.266</td>\n",
       "      <td>2019</td>\n",
       "      <td>173</td>\n",
       "      <td>78</td>\n",
       "      <td>True</td>\n",
       "      <td>False</td>\n",
       "    </tr>\n",
       "    <tr>\n",
       "      <th>11</th>\n",
       "      <td>4</td>\n",
       "      <td>6.1</td>\n",
       "      <td>8.133</td>\n",
       "      <td>0.0</td>\n",
       "      <td>14.233</td>\n",
       "      <td>2019</td>\n",
       "      <td>297</td>\n",
       "      <td>11</td>\n",
       "      <td>False</td>\n",
       "      <td>True</td>\n",
       "    </tr>\n",
       "    <tr>\n",
       "      <th>287</th>\n",
       "      <td>10</td>\n",
       "      <td>6.5</td>\n",
       "      <td>8.100</td>\n",
       "      <td>0.0</td>\n",
       "      <td>14.600</td>\n",
       "      <td>2019</td>\n",
       "      <td>233</td>\n",
       "      <td>73</td>\n",
       "      <td>False</td>\n",
       "      <td>True</td>\n",
       "    </tr>\n",
       "    <tr>\n",
       "      <th>22</th>\n",
       "      <td>15</td>\n",
       "      <td>5.1</td>\n",
       "      <td>6.633</td>\n",
       "      <td>0.0</td>\n",
       "      <td>11.733</td>\n",
       "      <td>2019</td>\n",
       "      <td>181</td>\n",
       "      <td>26</td>\n",
       "      <td>False</td>\n",
       "      <td>True</td>\n",
       "    </tr>\n",
       "  </tbody>\n",
       "</table>\n",
       "</div>"
      ],
      "text/plain": [
       "     Rank    D      E   ND   Total  year  Name  Nation  round_final  \\\n",
       "463   186  5.1  4.700  0.0   9.800  2019   261      78        False   \n",
       "0       1  6.5  8.766  0.0  15.266  2019   173      78         True   \n",
       "11      4  6.1  8.133  0.0  14.233  2019   297      11        False   \n",
       "287    10  6.5  8.100  0.0  14.600  2019   233      73        False   \n",
       "22     15  5.1  6.633  0.0  11.733  2019   181      26        False   \n",
       "\n",
       "     round_qual  \n",
       "463        True  \n",
       "0         False  \n",
       "11         True  \n",
       "287        True  \n",
       "22         True  "
      ]
     },
     "execution_count": 10,
     "metadata": {},
     "output_type": "execute_result"
    }
   ],
   "source": [
    "X_train.head()"
   ]
  },
  {
   "cell_type": "code",
   "execution_count": 11,
   "id": "c2ab74c7",
   "metadata": {},
   "outputs": [
    {
     "data": {
      "text/html": [
       "<div>\n",
       "<style scoped>\n",
       "    .dataframe tbody tr th:only-of-type {\n",
       "        vertical-align: middle;\n",
       "    }\n",
       "\n",
       "    .dataframe tbody tr th {\n",
       "        vertical-align: top;\n",
       "    }\n",
       "\n",
       "    .dataframe thead th {\n",
       "        text-align: right;\n",
       "    }\n",
       "</style>\n",
       "<table border=\"1\" class=\"dataframe\">\n",
       "  <thead>\n",
       "    <tr style=\"text-align: right;\">\n",
       "      <th></th>\n",
       "      <th>Rank</th>\n",
       "      <th>D</th>\n",
       "      <th>E</th>\n",
       "      <th>ND</th>\n",
       "      <th>Total</th>\n",
       "      <th>year</th>\n",
       "      <th>Name</th>\n",
       "      <th>Nation</th>\n",
       "      <th>round_final</th>\n",
       "      <th>round_qual</th>\n",
       "    </tr>\n",
       "  </thead>\n",
       "  <tbody>\n",
       "    <tr>\n",
       "      <th>0</th>\n",
       "      <td>33.0</td>\n",
       "      <td>4.2</td>\n",
       "      <td>6.666</td>\n",
       "      <td>0.0</td>\n",
       "      <td>10.866</td>\n",
       "      <td>2022</td>\n",
       "      <td>232</td>\n",
       "      <td>64</td>\n",
       "      <td>False</td>\n",
       "      <td>True</td>\n",
       "    </tr>\n",
       "    <tr>\n",
       "      <th>1</th>\n",
       "      <td>33.0</td>\n",
       "      <td>4.2</td>\n",
       "      <td>6.666</td>\n",
       "      <td>0.0</td>\n",
       "      <td>10.866</td>\n",
       "      <td>2022</td>\n",
       "      <td>232</td>\n",
       "      <td>64</td>\n",
       "      <td>False</td>\n",
       "      <td>True</td>\n",
       "    </tr>\n",
       "    <tr>\n",
       "      <th>2</th>\n",
       "      <td>44.0</td>\n",
       "      <td>4.4</td>\n",
       "      <td>7.800</td>\n",
       "      <td>0.0</td>\n",
       "      <td>12.200</td>\n",
       "      <td>2023</td>\n",
       "      <td>232</td>\n",
       "      <td>64</td>\n",
       "      <td>False</td>\n",
       "      <td>True</td>\n",
       "    </tr>\n",
       "    <tr>\n",
       "      <th>3</th>\n",
       "      <td>58.0</td>\n",
       "      <td>4.4</td>\n",
       "      <td>7.266</td>\n",
       "      <td>0.0</td>\n",
       "      <td>11.666</td>\n",
       "      <td>2023</td>\n",
       "      <td>232</td>\n",
       "      <td>64</td>\n",
       "      <td>False</td>\n",
       "      <td>True</td>\n",
       "    </tr>\n",
       "    <tr>\n",
       "      <th>4</th>\n",
       "      <td>21.0</td>\n",
       "      <td>5.1</td>\n",
       "      <td>6.166</td>\n",
       "      <td>0.0</td>\n",
       "      <td>11.266</td>\n",
       "      <td>2022</td>\n",
       "      <td>518</td>\n",
       "      <td>29</td>\n",
       "      <td>False</td>\n",
       "      <td>False</td>\n",
       "    </tr>\n",
       "  </tbody>\n",
       "</table>\n",
       "</div>"
      ],
      "text/plain": [
       "   Rank    D      E   ND   Total  year  Name  Nation  round_final  round_qual\n",
       "0  33.0  4.2  6.666  0.0  10.866  2022   232      64        False        True\n",
       "1  33.0  4.2  6.666  0.0  10.866  2022   232      64        False        True\n",
       "2  44.0  4.4  7.800  0.0  12.200  2023   232      64        False        True\n",
       "3  58.0  4.4  7.266  0.0  11.666  2023   232      64        False        True\n",
       "4  21.0  5.1  6.166  0.0  11.266  2022   518      29        False       False"
      ]
     },
     "execution_count": 11,
     "metadata": {},
     "output_type": "execute_result"
    }
   ],
   "source": [
    "olymp.head()\n"
   ]
  },
  {
   "cell_type": "code",
   "execution_count": 8,
   "id": "87f9b19b",
   "metadata": {},
   "outputs": [],
   "source": [
    "olymp.rename(columns={'D Score': 'D', 'E Score': 'E',\n",
    "                     'Pen.': 'ND', 'nation': 'Nation'}, inplace=True)"
   ]
  },
  {
   "cell_type": "code",
   "execution_count": 9,
   "id": "090dc81c",
   "metadata": {},
   "outputs": [],
   "source": [
    "olymp=olymp.drop(columns=['round_TeamFinal', 'round_AAfinal', 'round_TeamQual'])"
   ]
  },
  {
   "cell_type": "code",
   "execution_count": 12,
   "id": "41c94c57",
   "metadata": {},
   "outputs": [
    {
     "name": "stdout",
     "output_type": "stream",
     "text": [
      "Accuracy of RandomForest Classifier: 1.0000\n"
     ]
    }
   ],
   "source": [
    "import pandas as pd\n",
    "from sklearn.model_selection import train_test_split\n",
    "from sklearn.metrics import accuracy_score\n",
    "from sklearn.ensemble import RandomForestClassifier\n",
    "\n",
    "data = df.copy()  \n",
    "\n",
    "y = data['medal']\n",
    "X = data.drop(columns=['medal'])\n",
    "\n",
    "# Split the data into training and testing sets\n",
    "X_train, X_test, y_train, y_test = train_test_split(X, y, test_size=0.20, random_state=2)\n",
    "\n",
    "# Initialize and train the RandomForestClassifier with a specific number of estimators\n",
    "n_estimators = 5  # Adjust this value to control the number of results\n",
    "rf_model = RandomForestClassifier(n_estimators=n_estimators, random_state=42)\n",
    "rf_model.fit(X_train, y_train)\n",
    "\n",
    "# Make predictions with the RandomForestClassifier\n",
    "y_pred = rf_model.predict(X_test)\n",
    "\n",
    "# Evaluate the model's accuracy\n",
    "accuracy = accuracy_score(y_test, y_pred)\n",
    "\n",
    "print(f\"Accuracy of RandomForest Classifier: {accuracy:.4f}\")\n"
   ]
  },
  {
   "cell_type": "code",
   "execution_count": 13,
   "id": "da66925b",
   "metadata": {},
   "outputs": [],
   "source": [
    "y_predz = rf_model.predict(olymp)"
   ]
  },
  {
   "cell_type": "code",
   "execution_count": 14,
   "id": "1fc390bc",
   "metadata": {},
   "outputs": [],
   "source": [
    "ypreds  = pd.Series(y_predz)\n",
    "olymp['ypredz']=ypreds"
   ]
  },
  {
   "cell_type": "code",
   "execution_count": 15,
   "id": "226187c1",
   "metadata": {},
   "outputs": [
    {
     "data": {
      "text/plain": [
       "ypredz\n",
       "0    2537\n",
       "1      21\n",
       "Name: count, dtype: int64"
      ]
     },
     "execution_count": 15,
     "metadata": {},
     "output_type": "execute_result"
    }
   ],
   "source": [
    "olymp['ypredz'].value_counts()\n"
   ]
  },
  {
   "cell_type": "code",
   "execution_count": 16,
   "id": "378ea9a3",
   "metadata": {},
   "outputs": [],
   "source": [
    "filtered_df = olymp[olymp['ypredz'] == 1]"
   ]
  },
  {
   "cell_type": "code",
   "execution_count": 17,
   "id": "c34e87e2",
   "metadata": {},
   "outputs": [
    {
     "data": {
      "text/plain": [
       "array([520, 566, 282, 123, 673, 229, 276, 163, 278, 395])"
      ]
     },
     "execution_count": 17,
     "metadata": {},
     "output_type": "execute_result"
    }
   ],
   "source": [
    "filtered_df['Name'].unique()"
   ]
  },
  {
   "cell_type": "code",
   "execution_count": 18,
   "id": "62a74c76",
   "metadata": {},
   "outputs": [],
   "source": [
    "name_encoded_values =  [520, 566, 282, 123, 673, 229, 276, 163, 278, 395]\n",
    "\n",
    "# Filter the DataFrame to get the corresponding \"Name\" values\n",
    "result = phnames.loc[phnames['Name_encoded'].isin(name_encoded_values), 'Name']\n"
   ]
  },
  {
   "cell_type": "code",
   "execution_count": 20,
   "id": "d4d92215",
   "metadata": {},
   "outputs": [
    {
     "data": {
      "text/plain": [
       "array(['ngoc xuan thien dang', 'patrick hoopes', 'illia kovtun',\n",
       "       'chih kai lee', 'stephen nedoroscik', 'fred richard',\n",
       "       'ian skirkey', 'dehang yin', 'ignacio yockers', 'khoi young'],\n",
       "      dtype=object)"
      ]
     },
     "execution_count": 20,
     "metadata": {},
     "output_type": "execute_result"
    }
   ],
   "source": [
    "result.unique()"
   ]
  },
  {
   "cell_type": "code",
   "execution_count": 21,
   "id": "c07336ef",
   "metadata": {},
   "outputs": [],
   "source": [
    "pholymp[\"Name\"]=pholymp[\"Name\"].str.lower()"
   ]
  },
  {
   "cell_type": "code",
   "execution_count": 22,
   "id": "c8ccc01e",
   "metadata": {},
   "outputs": [],
   "source": [
    "names_to_filter = ['ngoc xuan thien dang', 'patrick hoopes', 'illia kovtun',\n",
    "       'chih kai lee', 'stephen nedoroscik', 'fred richard',\n",
    "       'ian skirkey', 'dehang yin', 'ignacio yockers', 'khoi young']\n",
    "\n",
    "# Filter the DataFrame to get rows with the specified \"Name\" values\n",
    "result = pholymp[pholymp['Name'].isin(names_to_filter)]"
   ]
  },
  {
   "cell_type": "code",
   "execution_count": 23,
   "id": "6d874840",
   "metadata": {},
   "outputs": [
    {
     "data": {
      "text/plain": [
       "Country\n",
       "UKR    151\n",
       "USA    114\n",
       "TPE     21\n",
       "CHN     17\n",
       "VIE      6\n",
       "Name: count, dtype: int64"
      ]
     },
     "execution_count": 23,
     "metadata": {},
     "output_type": "execute_result"
    }
   ],
   "source": [
    "result['Country'].value_counts()"
   ]
  },
  {
   "cell_type": "code",
   "execution_count": 24,
   "id": "a6475d23",
   "metadata": {},
   "outputs": [],
   "source": [
    "usas=result[result['Country']=='USA']"
   ]
  },
  {
   "cell_type": "code",
   "execution_count": 25,
   "id": "9f757ea0",
   "metadata": {},
   "outputs": [
    {
     "data": {
      "text/plain": [
       "array(['patrick hoopes', 'stephen nedoroscik', 'fred richard',\n",
       "       'ian skirkey', 'ignacio yockers', 'khoi young'], dtype=object)"
      ]
     },
     "execution_count": 25,
     "metadata": {},
     "output_type": "execute_result"
    }
   ],
   "source": [
    "usas['Name'].unique()"
   ]
  },
  {
   "cell_type": "code",
   "execution_count": null,
   "id": "5ba6abd6",
   "metadata": {},
   "outputs": [],
   "source": []
  }
 ],
 "metadata": {
  "kernelspec": {
   "display_name": "Python 3 (ipykernel)",
   "language": "python",
   "name": "python3"
  },
  "language_info": {
   "codemirror_mode": {
    "name": "ipython",
    "version": 3
   },
   "file_extension": ".py",
   "mimetype": "text/x-python",
   "name": "python",
   "nbconvert_exporter": "python",
   "pygments_lexer": "ipython3",
   "version": "3.9.12"
  }
 },
 "nbformat": 4,
 "nbformat_minor": 5
}
