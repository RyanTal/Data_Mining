{
 "cells": [
  {
   "cell_type": "code",
   "execution_count": 2,
   "id": "e58fbd06",
   "metadata": {},
   "outputs": [],
   "source": [
    "import pandas as pd"
   ]
  },
  {
   "cell_type": "markdown",
   "id": "10edd2cd",
   "metadata": {},
   "source": [
    "parallel bars\n",
    "- yul moldauer \n",
    "- curran phillips"
   ]
  },
  {
   "cell_type": "code",
   "execution_count": 3,
   "id": "60d75bb1",
   "metadata": {},
   "outputs": [
    {
     "data": {
      "text/html": [
       "<div>\n",
       "<style scoped>\n",
       "    .dataframe tbody tr th:only-of-type {\n",
       "        vertical-align: middle;\n",
       "    }\n",
       "\n",
       "    .dataframe tbody tr th {\n",
       "        vertical-align: top;\n",
       "    }\n",
       "\n",
       "    .dataframe thead th {\n",
       "        text-align: right;\n",
       "    }\n",
       "</style>\n",
       "<table border=\"1\" class=\"dataframe\">\n",
       "  <thead>\n",
       "    <tr style=\"text-align: right;\">\n",
       "      <th></th>\n",
       "      <th>Event</th>\n",
       "      <th>Gymnast</th>\n",
       "    </tr>\n",
       "  </thead>\n",
       "  <tbody>\n",
       "    <tr>\n",
       "      <th>0</th>\n",
       "      <td>Parallel Bars</td>\n",
       "      <td>Yul Moldauer</td>\n",
       "    </tr>\n",
       "    <tr>\n",
       "      <th>1</th>\n",
       "      <td>Parallel Bars</td>\n",
       "      <td>Curran Phillips</td>\n",
       "    </tr>\n",
       "  </tbody>\n",
       "</table>\n",
       "</div>"
      ],
      "text/plain": [
       "           Event          Gymnast\n",
       "0  Parallel Bars    Yul Moldauer \n",
       "1  Parallel Bars  Curran Phillips"
      ]
     },
     "execution_count": 3,
     "metadata": {},
     "output_type": "execute_result"
    }
   ],
   "source": [
    "data = {\n",
    "    'Event': ['Parallel Bars', 'Parallel Bars'],\n",
    "    'Gymnast': ['Yul Moldauer ', 'Curran Phillips']\n",
    "}\n",
    "\n",
    "gymnastics_df = pd.DataFrame(data)\n",
    "\n",
    "gymnastics_df\n"
   ]
  },
  {
   "cell_type": "code",
   "execution_count": 4,
   "id": "2f0c89e5",
   "metadata": {},
   "outputs": [],
   "source": [
    "# gymnastics_df.to_csv('mens_individuals.csv', index=False)"
   ]
  },
  {
   "cell_type": "markdown",
   "id": "24f477e8",
   "metadata": {},
   "source": [
    "fx\n",
    "- AdaBoost Classifier with Grid Search\n",
    "\n",
    "hb\n",
    "- AdaBoost Classifier\n",
    "\n",
    "iaa\n",
    "- RandomForestClassifier\n",
    "\n",
    "pb\n",
    "-  XGB Classifier with Grid Search\n",
    "\n",
    "ph\n",
    "- AdaBoost Classifier with Grid Search\n",
    "\n",
    "sr\n",
    "- Random Forest Classifier\n",
    "\n",
    "vt\n",
    "- AdaBoost Classifier"
   ]
  },
  {
   "cell_type": "code",
   "execution_count": 1,
   "id": "21c57283",
   "metadata": {},
   "outputs": [
    {
     "data": {
      "text/html": [
       "<div>\n",
       "<style scoped>\n",
       "    .dataframe tbody tr th:only-of-type {\n",
       "        vertical-align: middle;\n",
       "    }\n",
       "\n",
       "    .dataframe tbody tr th {\n",
       "        vertical-align: top;\n",
       "    }\n",
       "\n",
       "    .dataframe thead th {\n",
       "        text-align: right;\n",
       "    }\n",
       "</style>\n",
       "<table border=\"1\" class=\"dataframe\">\n",
       "  <thead>\n",
       "    <tr style=\"text-align: right;\">\n",
       "      <th></th>\n",
       "      <th>Classifier</th>\n",
       "      <th>Description</th>\n",
       "    </tr>\n",
       "  </thead>\n",
       "  <tbody>\n",
       "    <tr>\n",
       "      <th>0</th>\n",
       "      <td>fx</td>\n",
       "      <td>AdaBoost Classifier with Grid Search</td>\n",
       "    </tr>\n",
       "    <tr>\n",
       "      <th>1</th>\n",
       "      <td>hb</td>\n",
       "      <td>AdaBoost Classifier</td>\n",
       "    </tr>\n",
       "    <tr>\n",
       "      <th>2</th>\n",
       "      <td>iaa</td>\n",
       "      <td>RandomForestClassifier</td>\n",
       "    </tr>\n",
       "    <tr>\n",
       "      <th>3</th>\n",
       "      <td>pb</td>\n",
       "      <td>XGB Classifier with Grid Search</td>\n",
       "    </tr>\n",
       "    <tr>\n",
       "      <th>4</th>\n",
       "      <td>ph</td>\n",
       "      <td>AdaBoost Classifier with Grid Search</td>\n",
       "    </tr>\n",
       "    <tr>\n",
       "      <th>5</th>\n",
       "      <td>sr</td>\n",
       "      <td>Random Forest Classifier</td>\n",
       "    </tr>\n",
       "    <tr>\n",
       "      <th>6</th>\n",
       "      <td>vt</td>\n",
       "      <td>AdaBoost Classifier</td>\n",
       "    </tr>\n",
       "  </tbody>\n",
       "</table>\n",
       "</div>"
      ],
      "text/plain": [
       "  Classifier                           Description\n",
       "0         fx  AdaBoost Classifier with Grid Search\n",
       "1         hb                   AdaBoost Classifier\n",
       "2        iaa                RandomForestClassifier\n",
       "3         pb       XGB Classifier with Grid Search\n",
       "4         ph  AdaBoost Classifier with Grid Search\n",
       "5         sr              Random Forest Classifier\n",
       "6         vt                   AdaBoost Classifier"
      ]
     },
     "execution_count": 1,
     "metadata": {},
     "output_type": "execute_result"
    }
   ],
   "source": [
    "import pandas as pd\n",
    "\n",
    "# Data\n",
    "classifier_data = {\n",
    "    'Classifier': ['fx', 'hb', 'iaa', 'pb', 'ph', 'sr', 'vt'],\n",
    "    'Description': [\n",
    "        'AdaBoost Classifier with Grid Search',\n",
    "        'AdaBoost Classifier',\n",
    "        'RandomForestClassifier',\n",
    "        'XGB Classifier with Grid Search',\n",
    "        'AdaBoost Classifier with Grid Search',\n",
    "        'Random Forest Classifier',\n",
    "        'AdaBoost Classifier'\n",
    "    ]\n",
    "}\n",
    "\n",
    "# Create DataFrame\n",
    "df = pd.DataFrame(classifier_data)\n",
    "df\n"
   ]
  },
  {
   "cell_type": "code",
   "execution_count": null,
   "id": "2c6baf47",
   "metadata": {},
   "outputs": [],
   "source": []
  }
 ],
 "metadata": {
  "kernelspec": {
   "display_name": "Python 3 (ipykernel)",
   "language": "python",
   "name": "python3"
  },
  "language_info": {
   "codemirror_mode": {
    "name": "ipython",
    "version": 3
   },
   "file_extension": ".py",
   "mimetype": "text/x-python",
   "name": "python",
   "nbconvert_exporter": "python",
   "pygments_lexer": "ipython3",
   "version": "3.8.18"
  }
 },
 "nbformat": 4,
 "nbformat_minor": 5
}
