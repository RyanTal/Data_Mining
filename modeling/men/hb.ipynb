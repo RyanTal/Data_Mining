{
 "cells": [
  {
   "cell_type": "markdown",
   "id": "0fab7116",
   "metadata": {},
   "source": [
    "# USA unlikely to medal\n",
    "\n",
    "## scaling no improvement\n",
    "\n",
    "## Grid Search made no improvements"
   ]
  },
  {
   "cell_type": "code",
   "execution_count": 2,
   "id": "0e31f3bd",
   "metadata": {},
   "outputs": [],
   "source": [
    "import pandas as pd\n",
    "from sklearn.model_selection import train_test_split\n",
    "from sklearn.ensemble import AdaBoostClassifier, RandomForestClassifier\n",
    "from sklearn.neighbors import KNeighborsClassifier\n",
    "from sklearn.svm import SVC\n",
    "from sklearn.tree import DecisionTreeClassifier\n",
    "from sklearn.naive_bayes import GaussianNB\n",
    "from sklearn.neural_network import MLPClassifier\n",
    "from sklearn.dummy import DummyClassifier\n",
    "from sklearn.metrics import accuracy_score, classification_report, confusion_matrix, fbeta_score\n",
    "from sklearn.pipeline import make_pipeline\n",
    "from sklearn.preprocessing import StandardScaler \n",
    "from sklearn.dummy import DummyClassifier\n",
    "import warnings"
   ]
  },
  {
   "cell_type": "code",
   "execution_count": 3,
   "id": "66fdd109",
   "metadata": {},
   "outputs": [],
   "source": [
    "warnings.filterwarnings(\"ignore\")"
   ]
  },
  {
   "cell_type": "code",
   "execution_count": 4,
   "id": "cefc6fbd",
   "metadata": {},
   "outputs": [],
   "source": [
    "df = pd.read_csv('../../Combine_Data/men/hb_encoded.csv')\n",
    "olymp = pd.read_csv('../../Data/cleandata22-23/encoded_m_olympics_hb.csv')\n",
    "hbnames = pd.read_csv('../../Data/cleandata22-23/encoded_m_olympics_hbnames.csv')\n",
    "hbolymp = pd.read_csv('../../Data/cleandata22-23/men22_23.csv')"
   ]
  },
  {
   "cell_type": "markdown",
   "id": "708da3c5",
   "metadata": {},
   "source": [
    "# Base line using ZeroR"
   ]
  },
  {
   "cell_type": "code",
   "execution_count": 5,
   "id": "a65e6981",
   "metadata": {},
   "outputs": [
    {
     "name": "stdout",
     "output_type": "stream",
     "text": [
      "ZeroR Classifier\n",
      "Accuracy: 0.9802\n",
      "Classification Report:\n",
      "              precision    recall  f1-score   support\n",
      "\n",
      "           0       0.98      1.00      0.99        99\n",
      "           1       0.00      0.00      0.00         2\n",
      "\n",
      "    accuracy                           0.98       101\n",
      "   macro avg       0.49      0.50      0.49       101\n",
      "weighted avg       0.96      0.98      0.97       101\n",
      "\n",
      "Confusion Matrix:\n",
      "[[99  0]\n",
      " [ 2  0]]\n"
     ]
    }
   ],
   "source": [
    "\n",
    "X = df.drop(columns=['medal'])  \n",
    "y = df['medal']  \n",
    "\n",
    "X_train, X_test, y_train, y_test = train_test_split(X, y, test_size=0.2, random_state=42)\n",
    "\n",
    "# Initialize the ZeroR classifier\n",
    "zero_r_clf = DummyClassifier(strategy='most_frequent', random_state=42)\n",
    "\n",
    "zero_r_clf.fit(X_train, y_train)\n",
    "\n",
    "# Make predictions test data\n",
    "y_pred = zero_r_clf.predict(X_test)\n",
    "\n",
    "# Evaluate performance\n",
    "accuracy = accuracy_score(y_test, y_pred)\n",
    "report = classification_report(y_test, y_pred)\n",
    "conf_matrix = confusion_matrix(y_test, y_pred)\n",
    "\n",
    "print(\"ZeroR Classifier\")\n",
    "print(f\"Accuracy: {accuracy:.4f}\")\n",
    "print(f\"Classification Report:\\n{report}\")\n",
    "print(f\"Confusion Matrix:\\n{conf_matrix}\")\n"
   ]
  },
  {
   "cell_type": "markdown",
   "id": "06d27fea",
   "metadata": {},
   "source": [
    "# Model Comparison\n"
   ]
  },
  {
   "cell_type": "code",
   "execution_count": 7,
   "id": "13e41e46",
   "metadata": {
    "scrolled": false
   },
   "outputs": [
    {
     "name": "stdout",
     "output_type": "stream",
     "text": [
      "Classifier: Random Forest\n",
      "Accuracy: 0.9802\n",
      "F2-Score: 0.0000\n",
      "Classification Report:\n",
      "              precision    recall  f1-score   support\n",
      "\n",
      "           0       0.98      1.00      0.99        99\n",
      "           1       0.00      0.00      0.00         2\n",
      "\n",
      "    accuracy                           0.98       101\n",
      "   macro avg       0.49      0.50      0.49       101\n",
      "weighted avg       0.96      0.98      0.97       101\n",
      "\n",
      "Confusion Matrix:\n",
      "[[99  0]\n",
      " [ 2  0]]\n",
      "\n",
      "Classifier: AdaBoost\n",
      "Accuracy: 0.9802\n",
      "F2-Score: 0.5000\n",
      "Classification Report:\n",
      "              precision    recall  f1-score   support\n",
      "\n",
      "           0       0.99      0.99      0.99        99\n",
      "           1       0.50      0.50      0.50         2\n",
      "\n",
      "    accuracy                           0.98       101\n",
      "   macro avg       0.74      0.74      0.74       101\n",
      "weighted avg       0.98      0.98      0.98       101\n",
      "\n",
      "Confusion Matrix:\n",
      "[[98  1]\n",
      " [ 1  1]]\n",
      "\n",
      "Classifier: SVM\n",
      "Accuracy: 0.9802\n",
      "F2-Score: 0.0000\n",
      "Classification Report:\n",
      "              precision    recall  f1-score   support\n",
      "\n",
      "           0       0.98      1.00      0.99        99\n",
      "           1       0.00      0.00      0.00         2\n",
      "\n",
      "    accuracy                           0.98       101\n",
      "   macro avg       0.49      0.50      0.49       101\n",
      "weighted avg       0.96      0.98      0.97       101\n",
      "\n",
      "Confusion Matrix:\n",
      "[[99  0]\n",
      " [ 2  0]]\n",
      "\n",
      "Classifier: K-Nearest Neighbors\n",
      "Accuracy: 0.9802\n",
      "F2-Score: 0.0000\n",
      "Classification Report:\n",
      "              precision    recall  f1-score   support\n",
      "\n",
      "           0       0.98      1.00      0.99        99\n",
      "           1       0.00      0.00      0.00         2\n",
      "\n",
      "    accuracy                           0.98       101\n",
      "   macro avg       0.49      0.50      0.49       101\n",
      "weighted avg       0.96      0.98      0.97       101\n",
      "\n",
      "Confusion Matrix:\n",
      "[[99  0]\n",
      " [ 2  0]]\n",
      "\n",
      "Classifier: Decision Tree\n",
      "Accuracy: 0.9901\n",
      "F2-Score: 0.5556\n",
      "Classification Report:\n",
      "              precision    recall  f1-score   support\n",
      "\n",
      "           0       0.99      1.00      0.99        99\n",
      "           1       1.00      0.50      0.67         2\n",
      "\n",
      "    accuracy                           0.99       101\n",
      "   macro avg       0.99      0.75      0.83       101\n",
      "weighted avg       0.99      0.99      0.99       101\n",
      "\n",
      "Confusion Matrix:\n",
      "[[99  0]\n",
      " [ 1  1]]\n",
      "\n",
      "Classifier: Naive Bayes\n",
      "Accuracy: 0.8911\n",
      "F2-Score: 0.2632\n",
      "Classification Report:\n",
      "              precision    recall  f1-score   support\n",
      "\n",
      "           0       0.99      0.90      0.94        99\n",
      "           1       0.09      0.50      0.15         2\n",
      "\n",
      "    accuracy                           0.89       101\n",
      "   macro avg       0.54      0.70      0.55       101\n",
      "weighted avg       0.97      0.89      0.93       101\n",
      "\n",
      "Confusion Matrix:\n",
      "[[89 10]\n",
      " [ 1  1]]\n",
      "\n",
      "Classifier: Neural Network\n",
      "Accuracy: 0.9703\n",
      "F2-Score: 0.0000\n",
      "Classification Report:\n",
      "              precision    recall  f1-score   support\n",
      "\n",
      "           0       0.98      0.99      0.98        99\n",
      "           1       0.00      0.00      0.00         2\n",
      "\n",
      "    accuracy                           0.97       101\n",
      "   macro avg       0.49      0.49      0.49       101\n",
      "weighted avg       0.96      0.97      0.97       101\n",
      "\n",
      "Confusion Matrix:\n",
      "[[98  1]\n",
      " [ 2  0]]\n",
      "\n"
     ]
    }
   ],
   "source": [
    "y = df['medal']\n",
    "X = df.drop(columns=['medal'])\n",
    "\n",
    "# Split the data into training and testing sets\n",
    "X_train, X_test, y_train, y_test = train_test_split(X, y, test_size=0.2, random_state=42)\n",
    "\n",
    "# Initialize classifiers\n",
    "classifiers = {\n",
    "    \"Random Forest\": RandomForestClassifier(),\n",
    "    \"AdaBoost\": AdaBoostClassifier(),\n",
    "    \"SVM\": SVC(),\n",
    "    \"K-Nearest Neighbors\": KNeighborsClassifier(),\n",
    "    \"Decision Tree\": DecisionTreeClassifier(),\n",
    "    \"Naive Bayes\": GaussianNB(),\n",
    "    \"Neural Network\": MLPClassifier(),\n",
    "}\n",
    "\n",
    "results = {}\n",
    "\n",
    "# Iterate through each classifier\n",
    "for name, clf in classifiers.items():\n",
    "    # Create a pipeline with StandardScaler for classifiers that require it\n",
    "    if name in [\"SVM\", \"K-Nearest Neighbors\", \"Neural Network\"]:\n",
    "        clf = make_pipeline(StandardScaler(), clf)\n",
    "\n",
    "    # Fit model to the training data\n",
    "    clf.fit(X_train, y_train)\n",
    "\n",
    "    # Make predictions on test data\n",
    "    y_pred = clf.predict(X_test)\n",
    "\n",
    "    # Evaluate model's performance\n",
    "    accuracy = accuracy_score(y_test, y_pred)\n",
    "    report = classification_report(y_test, y_pred)\n",
    "    conf_matrix = confusion_matrix(y_test, y_pred)\n",
    "\n",
    "    beta = 2\n",
    "    f2_score = fbeta_score(y_test, y_pred, beta=beta)\n",
    "\n",
    "    results[name] = {\n",
    "        \"accuracy\": accuracy,\n",
    "        \"classification_report\": report,\n",
    "        \"confusion_matrix\": conf_matrix,\n",
    "        \"f2_score\": f2_score,\n",
    "    }\n",
    "    \n",
    "for name, result in results.items():\n",
    "    print(f\"Classifier: {name}\")\n",
    "    print(f\"Accuracy: {result['accuracy']:.4f}\")\n",
    "    print(f\"F2-Score: {result['f2_score']:.4f}\")\n",
    "    print(f\"Classification Report:\\n{result['classification_report']}\")\n",
    "    print(f\"Confusion Matrix:\\n{result['confusion_matrix']}\\n\")\n"
   ]
  },
  {
   "cell_type": "markdown",
   "id": "ade9ed9a",
   "metadata": {},
   "source": [
    "Classifier: Decision Tree\n",
    "Accuracy: 0.9870\n",
    "\n",
    "Classifier: AdaBoost\n",
    "Accuracy: 0.9870"
   ]
  },
  {
   "cell_type": "markdown",
   "id": "5441c991",
   "metadata": {},
   "source": [
    "# Grid Search made no improvements"
   ]
  },
  {
   "cell_type": "code",
   "execution_count": 6,
   "id": "27249a6c",
   "metadata": {
    "scrolled": false
   },
   "outputs": [
    {
     "name": "stdout",
     "output_type": "stream",
     "text": [
      "AdaBoost Classifier with Grid Search\n",
      "Best Hyperparameters: {'base_estimator__max_depth': 3, 'learning_rate': 0.2, 'n_estimators': 30}\n",
      "Accuracy: 0.9901\n",
      "Classification Report:\n",
      "              precision    recall  f1-score   support\n",
      "\n",
      "           0       0.99      1.00      0.99        99\n",
      "           1       1.00      0.50      0.67         2\n",
      "\n",
      "    accuracy                           0.99       101\n",
      "   macro avg       0.99      0.75      0.83       101\n",
      "weighted avg       0.99      0.99      0.99       101\n",
      "\n",
      "Confusion Matrix:\n",
      "[[99  0]\n",
      " [ 1  1]]\n"
     ]
    }
   ],
   "source": [
    "from sklearn.model_selection import GridSearchCV\n",
    "\n",
    "# Define  parameter grid\n",
    "param_grid = {\n",
    "    'n_estimators': [10, 20, 30],\n",
    "    'learning_rate': [0.1, 0.2, 0.3, 0.4, 0.5],\n",
    "    'base_estimator__max_depth': [1, 2, 3]\n",
    "}\n",
    "\n",
    "# Initialize AdaBoost classifier\n",
    "base_classifier = DecisionTreeClassifier()\n",
    "clf = AdaBoostClassifier(base_classifier)\n",
    "\n",
    "# Create grid search object\n",
    "grid_search = GridSearchCV(clf, param_grid, cv=5, scoring='accuracy')\n",
    "\n",
    "# Fit grid search to training data\n",
    "grid_search.fit(X_train, y_train)\n",
    "\n",
    "# Get best estimator from grid search\n",
    "best_clf = grid_search.best_estimator_\n",
    "\n",
    "# Make predictions on test data\n",
    "y_pred = best_clf.predict(X_test)\n",
    "\n",
    "# Evaluate model's performance\n",
    "accuracy = accuracy_score(y_test, y_pred)\n",
    "report = classification_report(y_test, y_pred)\n",
    "conf_matrix = confusion_matrix(y_test, y_pred)\n",
    "\n",
    "print(\"AdaBoost Classifier with Grid Search\")\n",
    "print(f\"Best Hyperparameters: {grid_search.best_params_}\")\n",
    "print(f\"Accuracy: {accuracy:.4f}\")\n",
    "print(f\"Classification Report:\\n{report}\")\n",
    "print(f\"Confusion Matrix:\\n{conf_matrix}\")\n"
   ]
  },
  {
   "cell_type": "markdown",
   "id": "48e581b1",
   "metadata": {},
   "source": [
    "# Feature Importance"
   ]
  },
  {
   "cell_type": "code",
   "execution_count": 7,
   "id": "af212c6f",
   "metadata": {},
   "outputs": [
    {
     "name": "stdout",
     "output_type": "stream",
     "text": [
      "Feature Importances:\n",
      "Rank: 0.2000\n",
      "D: 0.0000\n",
      "E: 0.0000\n",
      "ND: 0.0000\n",
      "year: 0.0500\n",
      "Total: 0.1500\n",
      "Name: 0.2500\n",
      "Nation: 0.3500\n",
      "round_final: 0.0000\n",
      "round_qual: 0.0000\n"
     ]
    }
   ],
   "source": [
    "from sklearn.model_selection import train_test_split\n",
    "from sklearn.ensemble import AdaBoostClassifier\n",
    "\n",
    "y = df['medal']\n",
    "X = df.drop(columns=['medal'])\n",
    "\n",
    "# Split the data into training and testing sets\n",
    "X_train, X_test, y_train, y_test = train_test_split(X, y, test_size=0.12, random_state=42)\n",
    "\n",
    "# Initialize AdaBoost classifier\n",
    "clf = AdaBoostClassifier(n_estimators=20, learning_rate=0.35)\n",
    "\n",
    "# Fit model to the training data\n",
    "clf.fit(X_train, y_train)\n",
    "\n",
    "# Extract feature importances\n",
    "feature_importances = clf.feature_importances_\n",
    "\n",
    "print(\"Feature Importances:\")\n",
    "for feature, importance in zip(X.columns, feature_importances):\n",
    "    print(f\"{feature}: {importance:.4f}\")\n"
   ]
  },
  {
   "cell_type": "code",
   "execution_count": 8,
   "id": "bb1d6c46",
   "metadata": {},
   "outputs": [
    {
     "data": {
      "image/png": "[encoded data removed]",
      "text/plain": [
       "<Figure size 720x432 with 1 Axes>"
      ]
     },
     "metadata": {
      "needs_background": "light"
     },
     "output_type": "display_data"
    }
   ],
   "source": [
    "import matplotlib.pyplot as plt\n",
    "\n",
    "\n",
    "# Extract feature importances\n",
    "feature_importances = clf.feature_importances_\n",
    "\n",
    "# Plot feature importances\n",
    "plt.figure(figsize=(10, 6))\n",
    "plt.barh(X.columns, feature_importances, color='skyblue')\n",
    "plt.xlabel('Feature Importance')\n",
    "plt.title('AdaBoost Classifier - Feature Importances')\n",
    "plt.show()\n"
   ]
  },
  {
   "cell_type": "markdown",
   "id": "4669f65f",
   "metadata": {},
   "source": [
    "# Final MOdel"
   ]
  },
  {
   "cell_type": "code",
   "execution_count": 9,
   "id": "9db957eb",
   "metadata": {},
   "outputs": [
    {
     "name": "stdout",
     "output_type": "stream",
     "text": [
      "AdaBoost Classifier\n",
      "Accuracy: 0.9836\n",
      "Classification Report:\n",
      "              precision    recall  f1-score   support\n",
      "\n",
      "           0       0.98      1.00      0.99        59\n",
      "           1       1.00      0.50      0.67         2\n",
      "\n",
      "    accuracy                           0.98        61\n",
      "   macro avg       0.99      0.75      0.83        61\n",
      "weighted avg       0.98      0.98      0.98        61\n",
      "\n",
      "Confusion Matrix:\n",
      "[[59  0]\n",
      " [ 1  1]]\n"
     ]
    }
   ],
   "source": [
    "y = df['medal']\n",
    "X = df.drop(columns=['medal'])\n",
    "\n",
    "# Split the data into training and testing sets\n",
    "X_train, X_test, y_train, y_test = train_test_split(X, y, test_size=0.12, random_state=42)\n",
    "\n",
    "# Initialize AdaBoost classifier\n",
    "# CHANGING LEARNIN RATE TO 0.31 RESULTS IN 1.000 \n",
    "clf = AdaBoostClassifier(n_estimators=20, learning_rate=0.35)\n",
    "\n",
    "# Fit model to training data\n",
    "clf.fit(X_train, y_train)\n",
    "\n",
    "# Make predictions on test data\n",
    "y_pred = clf.predict(X_test)\n",
    "\n",
    "# Evaluate model's performance\n",
    "accuracy = accuracy_score(y_test, y_pred)\n",
    "report = classification_report(y_test, y_pred)\n",
    "conf_matrix = confusion_matrix(y_test, y_pred)\n",
    "\n",
    "print(\"AdaBoost Classifier\")\n",
    "print(f\"Accuracy: {accuracy:.4f}\")\n",
    "print(f\"Classification Report:\\n{report}\")\n",
    "print(f\"Confusion Matrix:\\n{conf_matrix}\")"
   ]
  },
  {
   "cell_type": "markdown",
   "id": "10afd333",
   "metadata": {},
   "source": [
    "# Model Trained earlier using 2023/2022 data"
   ]
  },
  {
   "cell_type": "code",
   "execution_count": 10,
   "id": "2c3a1af8",
   "metadata": {},
   "outputs": [],
   "source": [
    "olymp = pd.read_csv('../../Data/cleandata22-23/encoded_m_olympics_hb.csv')\n"
   ]
  },
  {
   "cell_type": "code",
   "execution_count": 11,
   "id": "3ba59737",
   "metadata": {},
   "outputs": [],
   "source": [
    "olymp.rename(columns={'D Score': 'D', 'E Score': 'E',\n",
    "                     'Pen.': 'ND', 'nation': 'Nation'}, inplace=True)"
   ]
  },
  {
   "cell_type": "code",
   "execution_count": 12,
   "id": "e6c951b6",
   "metadata": {},
   "outputs": [],
   "source": [
    "olymp=olymp.drop(columns=['round_TeamFinal', 'round_AAfinal', 'round_TeamQual'])"
   ]
  },
  {
   "cell_type": "code",
   "execution_count": 13,
   "id": "35cff9e3",
   "metadata": {},
   "outputs": [],
   "source": [
    "desired_column_order = ['Rank', 'D', 'E', 'ND', 'year', 'Total', 'Name', 'Nation',\n",
    "       'round_final', 'round_qual'] \n",
    "\n",
    "# Create DataFrame with the desired column order\n",
    "olymp = olymp[desired_column_order]"
   ]
  },
  {
   "cell_type": "code",
   "execution_count": 14,
   "id": "156dcc46",
   "metadata": {},
   "outputs": [],
   "source": [
    "y_pred = clf.predict(olymp)\n"
   ]
  },
  {
   "cell_type": "code",
   "execution_count": 15,
   "id": "b58ce1ce",
   "metadata": {},
   "outputs": [],
   "source": [
    "ypreds  = pd.Series(y_pred)\n",
    "olymp['ypred']=ypreds\n"
   ]
  },
  {
   "cell_type": "code",
   "execution_count": 16,
   "id": "b62c558c",
   "metadata": {},
   "outputs": [
    {
     "data": {
      "text/plain": [
       "ypred\n",
       "0    2342\n",
       "1       2\n",
       "Name: count, dtype: int64"
      ]
     },
     "execution_count": 16,
     "metadata": {},
     "output_type": "execute_result"
    }
   ],
   "source": [
    "olymp['ypred'].value_counts()"
   ]
  },
  {
   "cell_type": "code",
   "execution_count": 17,
   "id": "829d1396",
   "metadata": {},
   "outputs": [],
   "source": [
    "filtered_df = olymp[olymp['ypred'] == 1]"
   ]
  },
  {
   "cell_type": "code",
   "execution_count": 18,
   "id": "5bf9dbb2",
   "metadata": {},
   "outputs": [
    {
     "data": {
      "text/plain": [
       "array([731, 593])"
      ]
     },
     "execution_count": 18,
     "metadata": {},
     "output_type": "execute_result"
    }
   ],
   "source": [
    "filtered_df['Name'].unique()"
   ]
  },
  {
   "cell_type": "markdown",
   "id": "acf63044",
   "metadata": {},
   "source": [
    "# hbnames used to match encoded names with actual names"
   ]
  },
  {
   "cell_type": "code",
   "execution_count": 19,
   "id": "6365b425",
   "metadata": {},
   "outputs": [],
   "source": [
    "name_encoded_values = [731, 593]\n",
    "\n",
    "# Filter DataFrame to get the corresponding values\n",
    "result = hbnames.loc[hbnames['Name_encoded'].isin(name_encoded_values), 'Name']\n"
   ]
  },
  {
   "cell_type": "code",
   "execution_count": 20,
   "id": "e6534c61",
   "metadata": {},
   "outputs": [
    {
     "data": {
      "text/plain": [
       "array(['yumin abbadini', 'robert tvorogal'], dtype=object)"
      ]
     },
     "execution_count": 20,
     "metadata": {},
     "output_type": "execute_result"
    }
   ],
   "source": [
    "result.unique()"
   ]
  },
  {
   "cell_type": "markdown",
   "id": "200bd42c",
   "metadata": {},
   "source": [
    "# hbolymp used to get country info from name list above"
   ]
  },
  {
   "cell_type": "code",
   "execution_count": 21,
   "id": "9f0eb3e2",
   "metadata": {},
   "outputs": [],
   "source": [
    "hbolymp[\"Name\"]=hbolymp[\"Name\"].str.lower()"
   ]
  },
  {
   "cell_type": "code",
   "execution_count": 22,
   "id": "9588b705",
   "metadata": {},
   "outputs": [],
   "source": [
    "names_to_filter =['yumin abbadini', 'robert tvorogal']\n",
    "\n",
    "# Filter the DataFrame to get rows with the specified values\n",
    "result = hbolymp[hbolymp['Name'].isin(names_to_filter)]"
   ]
  },
  {
   "cell_type": "code",
   "execution_count": 23,
   "id": "daf6ebca",
   "metadata": {},
   "outputs": [
    {
     "data": {
      "text/plain": [
       "Country\n",
       "ITA    55\n",
       "LTU    53\n",
       "Name: count, dtype: int64"
      ]
     },
     "execution_count": 23,
     "metadata": {},
     "output_type": "execute_result"
    }
   ],
   "source": [
    "result['Country'].value_counts()"
   ]
  }
 ],
 "metadata": {
  "kernelspec": {
   "display_name": "Python 3 (ipykernel)",
   "language": "python",
   "name": "python3"
  },
  "language_info": {
   "codemirror_mode": {
    "name": "ipython",
    "version": 3
   },
   "file_extension": ".py",
   "mimetype": "text/x-python",
   "name": "python",
   "nbconvert_exporter": "python",
   "pygments_lexer": "ipython3",
   "version": "3.9.12"
  }
 },
 "nbformat": 4,
 "nbformat_minor": 5
}
