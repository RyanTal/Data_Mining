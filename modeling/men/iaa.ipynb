{
 "cells": [
  {
   "cell_type": "markdown",
   "id": "1cfd972e",
   "metadata": {},
   "source": [
    "# USA not likely to medal\n",
    "\n",
    "## Scaling no improvement - but leaving nation might help\n"
   ]
  },
  {
   "cell_type": "code",
   "execution_count": 1,
   "id": "907456c0",
   "metadata": {},
   "outputs": [],
   "source": [
    "import pandas as pd\n",
    "import numpy as np\n",
    "from scipy import stats\n",
    "from mlxtend.preprocessing import minmax_scaling\n",
    "import seaborn as sns\n",
    "import matplotlib.pyplot as plt\n",
    "from matplotlib.colors import ListedColormap\n",
    "from sklearn.datasets import make_circles, make_classification, make_moons\n",
    "from sklearn.discriminant_analysis import QuadraticDiscriminantAnalysis\n",
    "from sklearn.ensemble import AdaBoostClassifier, RandomForestClassifier\n",
    "from sklearn.gaussian_process import GaussianProcessClassifier\n",
    "from sklearn.gaussian_process.kernels import RBF\n",
    "from sklearn.inspection import DecisionBoundaryDisplay\n",
    "from sklearn.model_selection import train_test_split\n",
    "from sklearn.naive_bayes import GaussianNB\n",
    "from sklearn.neighbors import KNeighborsClassifier\n",
    "from sklearn.neural_network import MLPClassifier\n",
    "from sklearn.pipeline import make_pipeline\n",
    "from sklearn.preprocessing import StandardScaler\n",
    "from sklearn.svm import SVC\n",
    "from sklearn.tree import DecisionTreeClassifier\n",
    "from sklearn import svm\n",
    "from sklearn.metrics import accuracy_score\n",
    "from sklearn.metrics import classification_report\n",
    "from sklearn.metrics import confusion_matrix"
   ]
  },
  {
   "cell_type": "code",
   "execution_count": 2,
   "id": "f41e4e15",
   "metadata": {},
   "outputs": [],
   "source": [
    "df = pd.read_csv('../../Combine_Data/men/iaa_encoded.csv')\n",
    "iaaolymp = pd.read_csv('../../Combine_Data/men/iaa2024.csv')\n",
    "olymp = pd.read_csv('../../Combine_Data/men/encoded_m_olympics_iaa.csv')\n",
    "iaanames = pd.read_csv('../../Combine_Data/men/encoded_m_olympics_iaanames.csv')"
   ]
  },
  {
   "cell_type": "code",
   "execution_count": 3,
   "id": "a924033c",
   "metadata": {},
   "outputs": [],
   "source": [
    "df=df.drop(columns=['year'])"
   ]
  },
  {
   "cell_type": "code",
   "execution_count": 4,
   "id": "fd62ea79",
   "metadata": {},
   "outputs": [
    {
     "name": "stdout",
     "output_type": "stream",
     "text": [
      "<class 'pandas.core.frame.DataFrame'>\n",
      "RangeIndex: 512 entries, 0 to 511\n",
      "Data columns (total 13 columns):\n",
      " #   Column       Non-Null Count  Dtype  \n",
      "---  ------       --------------  -----  \n",
      " 0   Rank         410 non-null    float64\n",
      " 1   FX           458 non-null    float64\n",
      " 2   PH           458 non-null    float64\n",
      " 3   SR           454 non-null    float64\n",
      " 4   VT           457 non-null    float64\n",
      " 5   PB           442 non-null    float64\n",
      " 6   HB           452 non-null    float64\n",
      " 7   AA           506 non-null    float64\n",
      " 8   medal        512 non-null    int64  \n",
      " 9   Name         512 non-null    int64  \n",
      " 10  Nation       512 non-null    int64  \n",
      " 11  round_final  512 non-null    bool   \n",
      " 12  round_qual   512 non-null    bool   \n",
      "dtypes: bool(2), float64(8), int64(3)\n",
      "memory usage: 45.1 KB\n"
     ]
    }
   ],
   "source": [
    "df.info()"
   ]
  },
  {
   "cell_type": "code",
   "execution_count": 5,
   "id": "34be5ecf",
   "metadata": {},
   "outputs": [],
   "source": [
    "df = df.dropna(subset=['Rank'])"
   ]
  },
  {
   "cell_type": "code",
   "execution_count": 6,
   "id": "f0d87569",
   "metadata": {},
   "outputs": [],
   "source": [
    "df = df.dropna()"
   ]
  },
  {
   "cell_type": "markdown",
   "id": "fe3963e2",
   "metadata": {},
   "source": [
    "Classifier: Random Forest\n",
    "Accuracy: 0.9901\n",
    "\n",
    "\n",
    "Classifier: AdaBoost\n",
    "Accuracy: 0.9901"
   ]
  },
  {
   "cell_type": "code",
   "execution_count": 7,
   "id": "50015196",
   "metadata": {},
   "outputs": [],
   "source": [
    "# Assuming you already have your DataFrame 'df' and the target variable is 'medal'\n",
    "y = df['medal']\n",
    "X = df.drop(columns=['medal'])\n"
   ]
  },
  {
   "cell_type": "code",
   "execution_count": 8,
   "id": "57d1ea1e",
   "metadata": {},
   "outputs": [],
   "source": [
    "X = X.drop(columns=['Nation'])"
   ]
  },
  {
   "cell_type": "code",
   "execution_count": 9,
   "id": "87dfd0f2",
   "metadata": {},
   "outputs": [],
   "source": [
    "olymp=olymp.drop(columns=['year', 'Nation'])"
   ]
  },
  {
   "cell_type": "code",
   "execution_count": 10,
   "id": "a0e5ffd9",
   "metadata": {},
   "outputs": [],
   "source": [
    "olymp = olymp.dropna()"
   ]
  },
  {
   "cell_type": "code",
   "execution_count": 11,
   "id": "65554850",
   "metadata": {},
   "outputs": [],
   "source": [
    "X_train, X_test, y_train, y_test = train_test_split(X, y, test_size=0.25, random_state=110)\n"
   ]
  },
  {
   "cell_type": "code",
   "execution_count": 12,
   "id": "19a2470c",
   "metadata": {
    "scrolled": true
   },
   "outputs": [
    {
     "data": {
      "text/html": [
       "<div>\n",
       "<style scoped>\n",
       "    .dataframe tbody tr th:only-of-type {\n",
       "        vertical-align: middle;\n",
       "    }\n",
       "\n",
       "    .dataframe tbody tr th {\n",
       "        vertical-align: top;\n",
       "    }\n",
       "\n",
       "    .dataframe thead th {\n",
       "        text-align: right;\n",
       "    }\n",
       "</style>\n",
       "<table border=\"1\" class=\"dataframe\">\n",
       "  <thead>\n",
       "    <tr style=\"text-align: right;\">\n",
       "      <th></th>\n",
       "      <th>Rank</th>\n",
       "      <th>FX</th>\n",
       "      <th>PH</th>\n",
       "      <th>SR</th>\n",
       "      <th>VT</th>\n",
       "      <th>PB</th>\n",
       "      <th>HB</th>\n",
       "      <th>AA</th>\n",
       "      <th>Name</th>\n",
       "      <th>round_final</th>\n",
       "      <th>round_qual</th>\n",
       "    </tr>\n",
       "  </thead>\n",
       "  <tbody>\n",
       "    <tr>\n",
       "      <th>72</th>\n",
       "      <td>49.0</td>\n",
       "      <td>12.700</td>\n",
       "      <td>12.4</td>\n",
       "      <td>13.900</td>\n",
       "      <td>12.866</td>\n",
       "      <td>13.466</td>\n",
       "      <td>12.000</td>\n",
       "      <td>77.332</td>\n",
       "      <td>25</td>\n",
       "      <td>False</td>\n",
       "      <td>True</td>\n",
       "    </tr>\n",
       "    <tr>\n",
       "      <th>477</th>\n",
       "      <td>7.0</td>\n",
       "      <td>13.900</td>\n",
       "      <td>12.3</td>\n",
       "      <td>14.150</td>\n",
       "      <td>13.700</td>\n",
       "      <td>13.700</td>\n",
       "      <td>13.950</td>\n",
       "      <td>81.700</td>\n",
       "      <td>71</td>\n",
       "      <td>True</td>\n",
       "      <td>False</td>\n",
       "    </tr>\n",
       "    <tr>\n",
       "      <th>327</th>\n",
       "      <td>115.0</td>\n",
       "      <td>12.366</td>\n",
       "      <td>12.8</td>\n",
       "      <td>11.466</td>\n",
       "      <td>14.000</td>\n",
       "      <td>13.358</td>\n",
       "      <td>10.566</td>\n",
       "      <td>74.556</td>\n",
       "      <td>126</td>\n",
       "      <td>False</td>\n",
       "      <td>True</td>\n",
       "    </tr>\n",
       "    <tr>\n",
       "      <th>316</th>\n",
       "      <td>104.0</td>\n",
       "      <td>12.066</td>\n",
       "      <td>12.6</td>\n",
       "      <td>12.766</td>\n",
       "      <td>13.933</td>\n",
       "      <td>13.350</td>\n",
       "      <td>10.366</td>\n",
       "      <td>75.081</td>\n",
       "      <td>136</td>\n",
       "      <td>False</td>\n",
       "      <td>True</td>\n",
       "    </tr>\n",
       "    <tr>\n",
       "      <th>8</th>\n",
       "      <td>9.0</td>\n",
       "      <td>13.700</td>\n",
       "      <td>13.8</td>\n",
       "      <td>14.341</td>\n",
       "      <td>14.733</td>\n",
       "      <td>13.766</td>\n",
       "      <td>12.800</td>\n",
       "      <td>83.140</td>\n",
       "      <td>42</td>\n",
       "      <td>True</td>\n",
       "      <td>False</td>\n",
       "    </tr>\n",
       "  </tbody>\n",
       "</table>\n",
       "</div>"
      ],
      "text/plain": [
       "      Rank      FX    PH      SR      VT      PB      HB      AA  Name  \\\n",
       "72    49.0  12.700  12.4  13.900  12.866  13.466  12.000  77.332    25   \n",
       "477    7.0  13.900  12.3  14.150  13.700  13.700  13.950  81.700    71   \n",
       "327  115.0  12.366  12.8  11.466  14.000  13.358  10.566  74.556   126   \n",
       "316  104.0  12.066  12.6  12.766  13.933  13.350  10.366  75.081   136   \n",
       "8      9.0  13.700  13.8  14.341  14.733  13.766  12.800  83.140    42   \n",
       "\n",
       "     round_final  round_qual  \n",
       "72         False        True  \n",
       "477         True       False  \n",
       "327        False        True  \n",
       "316        False        True  \n",
       "8           True       False  "
      ]
     },
     "execution_count": 12,
     "metadata": {},
     "output_type": "execute_result"
    }
   ],
   "source": [
    "X_train.head()"
   ]
  },
  {
   "cell_type": "code",
   "execution_count": 13,
   "id": "261f47f1",
   "metadata": {},
   "outputs": [
    {
     "data": {
      "text/html": [
       "<div>\n",
       "<style scoped>\n",
       "    .dataframe tbody tr th:only-of-type {\n",
       "        vertical-align: middle;\n",
       "    }\n",
       "\n",
       "    .dataframe tbody tr th {\n",
       "        vertical-align: top;\n",
       "    }\n",
       "\n",
       "    .dataframe thead th {\n",
       "        text-align: right;\n",
       "    }\n",
       "</style>\n",
       "<table border=\"1\" class=\"dataframe\">\n",
       "  <thead>\n",
       "    <tr style=\"text-align: right;\">\n",
       "      <th></th>\n",
       "      <th>Rank</th>\n",
       "      <th>FX</th>\n",
       "      <th>PH</th>\n",
       "      <th>SR</th>\n",
       "      <th>VT</th>\n",
       "      <th>PB</th>\n",
       "      <th>HB</th>\n",
       "      <th>AA</th>\n",
       "      <th>Name</th>\n",
       "      <th>round_final</th>\n",
       "      <th>round_qual</th>\n",
       "    </tr>\n",
       "  </thead>\n",
       "  <tbody>\n",
       "    <tr>\n",
       "      <th>0</th>\n",
       "      <td>1.0</td>\n",
       "      <td>14.733</td>\n",
       "      <td>15.075</td>\n",
       "      <td>13.333</td>\n",
       "      <td>15.066</td>\n",
       "      <td>15.200</td>\n",
       "      <td>14.633</td>\n",
       "      <td>88.040</td>\n",
       "      <td>141</td>\n",
       "      <td>False</td>\n",
       "      <td>True</td>\n",
       "    </tr>\n",
       "    <tr>\n",
       "      <th>1</th>\n",
       "      <td>2.0</td>\n",
       "      <td>14.133</td>\n",
       "      <td>14.666</td>\n",
       "      <td>14.866</td>\n",
       "      <td>14.766</td>\n",
       "      <td>15.300</td>\n",
       "      <td>14.166</td>\n",
       "      <td>87.897</td>\n",
       "      <td>411</td>\n",
       "      <td>False</td>\n",
       "      <td>True</td>\n",
       "    </tr>\n",
       "    <tr>\n",
       "      <th>2</th>\n",
       "      <td>3.0</td>\n",
       "      <td>14.066</td>\n",
       "      <td>12.666</td>\n",
       "      <td>14.533</td>\n",
       "      <td>14.966</td>\n",
       "      <td>14.366</td>\n",
       "      <td>13.833</td>\n",
       "      <td>84.430</td>\n",
       "      <td>7</td>\n",
       "      <td>False</td>\n",
       "      <td>True</td>\n",
       "    </tr>\n",
       "    <tr>\n",
       "      <th>3</th>\n",
       "      <td>4.0</td>\n",
       "      <td>13.200</td>\n",
       "      <td>13.466</td>\n",
       "      <td>13.933</td>\n",
       "      <td>14.233</td>\n",
       "      <td>15.200</td>\n",
       "      <td>13.866</td>\n",
       "      <td>83.898</td>\n",
       "      <td>342</td>\n",
       "      <td>False</td>\n",
       "      <td>True</td>\n",
       "    </tr>\n",
       "    <tr>\n",
       "      <th>4</th>\n",
       "      <td>5.0</td>\n",
       "      <td>14.333</td>\n",
       "      <td>13.766</td>\n",
       "      <td>12.500</td>\n",
       "      <td>14.066</td>\n",
       "      <td>14.700</td>\n",
       "      <td>14.200</td>\n",
       "      <td>83.565</td>\n",
       "      <td>159</td>\n",
       "      <td>False</td>\n",
       "      <td>True</td>\n",
       "    </tr>\n",
       "  </tbody>\n",
       "</table>\n",
       "</div>"
      ],
      "text/plain": [
       "   Rank      FX      PH      SR      VT      PB      HB      AA  Name  \\\n",
       "0   1.0  14.733  15.075  13.333  15.066  15.200  14.633  88.040   141   \n",
       "1   2.0  14.133  14.666  14.866  14.766  15.300  14.166  87.897   411   \n",
       "2   3.0  14.066  12.666  14.533  14.966  14.366  13.833  84.430     7   \n",
       "3   4.0  13.200  13.466  13.933  14.233  15.200  13.866  83.898   342   \n",
       "4   5.0  14.333  13.766  12.500  14.066  14.700  14.200  83.565   159   \n",
       "\n",
       "   round_final  round_qual  \n",
       "0        False        True  \n",
       "1        False        True  \n",
       "2        False        True  \n",
       "3        False        True  \n",
       "4        False        True  "
      ]
     },
     "execution_count": 13,
     "metadata": {},
     "output_type": "execute_result"
    }
   ],
   "source": [
    "olymp.head()\n"
   ]
  },
  {
   "cell_type": "code",
   "execution_count": 14,
   "id": "a8dd0525",
   "metadata": {
    "scrolled": true
   },
   "outputs": [
    {
     "name": "stderr",
     "output_type": "stream",
     "text": [
      "/Users/ryantalbot/opt/anaconda3/envs/tf2/lib/python3.9/site-packages/sklearn/metrics/_classification.py:1471: UndefinedMetricWarning: Precision and F-score are ill-defined and being set to 0.0 in labels with no predicted samples. Use `zero_division` parameter to control this behavior.\n",
      "  _warn_prf(average, modifier, msg_start, len(result))\n",
      "/Users/ryantalbot/opt/anaconda3/envs/tf2/lib/python3.9/site-packages/sklearn/metrics/_classification.py:1471: UndefinedMetricWarning: Precision and F-score are ill-defined and being set to 0.0 in labels with no predicted samples. Use `zero_division` parameter to control this behavior.\n",
      "  _warn_prf(average, modifier, msg_start, len(result))\n",
      "/Users/ryantalbot/opt/anaconda3/envs/tf2/lib/python3.9/site-packages/sklearn/metrics/_classification.py:1471: UndefinedMetricWarning: Precision and F-score are ill-defined and being set to 0.0 in labels with no predicted samples. Use `zero_division` parameter to control this behavior.\n",
      "  _warn_prf(average, modifier, msg_start, len(result))\n",
      "/Users/ryantalbot/opt/anaconda3/envs/tf2/lib/python3.9/site-packages/sklearn/metrics/_classification.py:1471: UndefinedMetricWarning: Precision and F-score are ill-defined and being set to 0.0 in labels with no predicted samples. Use `zero_division` parameter to control this behavior.\n",
      "  _warn_prf(average, modifier, msg_start, len(result))\n",
      "/Users/ryantalbot/opt/anaconda3/envs/tf2/lib/python3.9/site-packages/sklearn/metrics/_classification.py:1471: UndefinedMetricWarning: Precision and F-score are ill-defined and being set to 0.0 in labels with no predicted samples. Use `zero_division` parameter to control this behavior.\n",
      "  _warn_prf(average, modifier, msg_start, len(result))\n",
      "/Users/ryantalbot/opt/anaconda3/envs/tf2/lib/python3.9/site-packages/sklearn/metrics/_classification.py:1471: UndefinedMetricWarning: Precision and F-score are ill-defined and being set to 0.0 in labels with no predicted samples. Use `zero_division` parameter to control this behavior.\n",
      "  _warn_prf(average, modifier, msg_start, len(result))\n"
     ]
    },
    {
     "name": "stdout",
     "output_type": "stream",
     "text": [
      "Classifier: Random Forest\n",
      "Accuracy: 0.9901\n",
      "Classification Report:\n",
      "              precision    recall  f1-score   support\n",
      "\n",
      "           0       0.99      1.00      0.99        98\n",
      "           1       1.00      0.67      0.80         3\n",
      "\n",
      "    accuracy                           0.99       101\n",
      "   macro avg       0.99      0.83      0.90       101\n",
      "weighted avg       0.99      0.99      0.99       101\n",
      "\n",
      "Confusion Matrix:\n",
      "[[98  0]\n",
      " [ 1  2]]\n",
      "\n",
      "Classifier: AdaBoost\n",
      "Accuracy: 0.9703\n",
      "Classification Report:\n",
      "              precision    recall  f1-score   support\n",
      "\n",
      "           0       0.98      0.99      0.98        98\n",
      "           1       0.50      0.33      0.40         3\n",
      "\n",
      "    accuracy                           0.97       101\n",
      "   macro avg       0.74      0.66      0.69       101\n",
      "weighted avg       0.97      0.97      0.97       101\n",
      "\n",
      "Confusion Matrix:\n",
      "[[97  1]\n",
      " [ 2  1]]\n",
      "\n",
      "Classifier: SVM\n",
      "Accuracy: 0.9703\n",
      "Classification Report:\n",
      "              precision    recall  f1-score   support\n",
      "\n",
      "           0       0.97      1.00      0.98        98\n",
      "           1       0.00      0.00      0.00         3\n",
      "\n",
      "    accuracy                           0.97       101\n",
      "   macro avg       0.49      0.50      0.49       101\n",
      "weighted avg       0.94      0.97      0.96       101\n",
      "\n",
      "Confusion Matrix:\n",
      "[[98  0]\n",
      " [ 3  0]]\n",
      "\n",
      "Classifier: K-Nearest Neighbors\n",
      "Accuracy: 0.9703\n",
      "Classification Report:\n",
      "              precision    recall  f1-score   support\n",
      "\n",
      "           0       0.97      1.00      0.98        98\n",
      "           1       0.00      0.00      0.00         3\n",
      "\n",
      "    accuracy                           0.97       101\n",
      "   macro avg       0.49      0.50      0.49       101\n",
      "weighted avg       0.94      0.97      0.96       101\n",
      "\n",
      "Confusion Matrix:\n",
      "[[98  0]\n",
      " [ 3  0]]\n",
      "\n",
      "Classifier: Decision Tree\n",
      "Accuracy: 0.9901\n",
      "Classification Report:\n",
      "              precision    recall  f1-score   support\n",
      "\n",
      "           0       1.00      0.99      0.99        98\n",
      "           1       0.75      1.00      0.86         3\n",
      "\n",
      "    accuracy                           0.99       101\n",
      "   macro avg       0.88      0.99      0.93       101\n",
      "weighted avg       0.99      0.99      0.99       101\n",
      "\n",
      "Confusion Matrix:\n",
      "[[97  1]\n",
      " [ 0  3]]\n",
      "\n",
      "Classifier: Naive Bayes\n",
      "Accuracy: 0.9703\n",
      "Classification Report:\n",
      "              precision    recall  f1-score   support\n",
      "\n",
      "           0       1.00      0.97      0.98        98\n",
      "           1       0.50      1.00      0.67         3\n",
      "\n",
      "    accuracy                           0.97       101\n",
      "   macro avg       0.75      0.98      0.83       101\n",
      "weighted avg       0.99      0.97      0.98       101\n",
      "\n",
      "Confusion Matrix:\n",
      "[[95  3]\n",
      " [ 0  3]]\n",
      "\n",
      "Classifier: Neural Network\n",
      "Accuracy: 0.9703\n",
      "Classification Report:\n",
      "              precision    recall  f1-score   support\n",
      "\n",
      "           0       0.97      1.00      0.98        98\n",
      "           1       0.00      0.00      0.00         3\n",
      "\n",
      "    accuracy                           0.97       101\n",
      "   macro avg       0.49      0.50      0.49       101\n",
      "weighted avg       0.94      0.97      0.96       101\n",
      "\n",
      "Confusion Matrix:\n",
      "[[98  0]\n",
      " [ 3  0]]\n",
      "\n"
     ]
    },
    {
     "name": "stderr",
     "output_type": "stream",
     "text": [
      "/Users/ryantalbot/opt/anaconda3/envs/tf2/lib/python3.9/site-packages/sklearn/neural_network/_multilayer_perceptron.py:691: ConvergenceWarning: Stochastic Optimizer: Maximum iterations (200) reached and the optimization hasn't converged yet.\n",
      "  warnings.warn(\n",
      "/Users/ryantalbot/opt/anaconda3/envs/tf2/lib/python3.9/site-packages/sklearn/metrics/_classification.py:1471: UndefinedMetricWarning: Precision and F-score are ill-defined and being set to 0.0 in labels with no predicted samples. Use `zero_division` parameter to control this behavior.\n",
      "  _warn_prf(average, modifier, msg_start, len(result))\n",
      "/Users/ryantalbot/opt/anaconda3/envs/tf2/lib/python3.9/site-packages/sklearn/metrics/_classification.py:1471: UndefinedMetricWarning: Precision and F-score are ill-defined and being set to 0.0 in labels with no predicted samples. Use `zero_division` parameter to control this behavior.\n",
      "  _warn_prf(average, modifier, msg_start, len(result))\n",
      "/Users/ryantalbot/opt/anaconda3/envs/tf2/lib/python3.9/site-packages/sklearn/metrics/_classification.py:1471: UndefinedMetricWarning: Precision and F-score are ill-defined and being set to 0.0 in labels with no predicted samples. Use `zero_division` parameter to control this behavior.\n",
      "  _warn_prf(average, modifier, msg_start, len(result))\n"
     ]
    }
   ],
   "source": [
    "\n",
    "# Initialize classifiers\n",
    "classifiers = {\n",
    "    \"Random Forest\": RandomForestClassifier(),\n",
    "    \"AdaBoost\": AdaBoostClassifier(),\n",
    "    \"SVM\": SVC(),\n",
    "    \"K-Nearest Neighbors\": KNeighborsClassifier(),\n",
    "    \"Decision Tree\": DecisionTreeClassifier(),\n",
    "    \"Naive Bayes\": GaussianNB(),\n",
    "    \"Neural Network\": MLPClassifier(),\n",
    "}\n",
    "\n",
    "results = {}\n",
    "\n",
    "# Iterate through each classifier\n",
    "for name, clf in classifiers.items():\n",
    "    # Create a pipeline with StandardScaler for classifiers that require it\n",
    "    if name in [\"SVM\", \"K-Nearest Neighbors\", \"Neural Network\"]:\n",
    "        clf = make_pipeline(StandardScaler(), clf)\n",
    "\n",
    "    # Fit the model to the training data\n",
    "    clf.fit(X_train, y_train)\n",
    "\n",
    "    # Make predictions on the test data\n",
    "    y_pred = clf.predict(X_test)\n",
    "\n",
    "    # Evaluate the model's performance\n",
    "    accuracy = accuracy_score(y_test, y_pred)\n",
    "    report = classification_report(y_test, y_pred)\n",
    "    conf_matrix = confusion_matrix(y_test, y_pred)\n",
    "\n",
    "    results[name] = {\n",
    "        \"accuracy\": accuracy,\n",
    "        \"classification_report\": report,\n",
    "        \"confusion_matrix\": conf_matrix,\n",
    "    }\n",
    "\n",
    "# Print the results\n",
    "for name, result in results.items():\n",
    "    print(f\"Classifier: {name}\")\n",
    "    print(f\"Accuracy: {result['accuracy']:.4f}\")\n",
    "    print(f\"Classification Report:\\n{result['classification_report']}\")\n",
    "    print(f\"Confusion Matrix:\\n{result['confusion_matrix']}\\n\")\n"
   ]
  },
  {
   "cell_type": "markdown",
   "id": "bd0bb72e",
   "metadata": {},
   "source": [
    "Classifier: Random Forest\n",
    "Accuracy: 1.0000\n",
    "\n",
    "\n",
    "Classifier: AdaBoost\n",
    "Accuracy: 0.9901"
   ]
  },
  {
   "cell_type": "code",
   "execution_count": 15,
   "id": "dff329ac",
   "metadata": {},
   "outputs": [
    {
     "name": "stdout",
     "output_type": "stream",
     "text": [
      "AdaBoost Classifier\n",
      "Accuracy: 0.9703\n",
      "Classification Report:\n",
      "              precision    recall  f1-score   support\n",
      "\n",
      "           0       0.98      0.99      0.98        98\n",
      "           1       0.50      0.33      0.40         3\n",
      "\n",
      "    accuracy                           0.97       101\n",
      "   macro avg       0.74      0.66      0.69       101\n",
      "weighted avg       0.97      0.97      0.97       101\n",
      "\n",
      "Confusion Matrix:\n",
      "[[97  1]\n",
      " [ 2  1]]\n"
     ]
    }
   ],
   "source": [
    "# Initialize the AdaBoost classifier\n",
    "# CHANGING LEARNIN RATE TO 0.31 RESULTS IN 1.000 \n",
    "clf = AdaBoostClassifier()\n",
    "\n",
    "# Fit the model to the training data\n",
    "clf.fit(X_train, y_train)\n",
    "\n",
    "# Make predictions on the test data\n",
    "y_pred = clf.predict(X_test)\n",
    "\n",
    "# Evaluate the model's performance\n",
    "accuracy = accuracy_score(y_test, y_pred)\n",
    "report = classification_report(y_test, y_pred)\n",
    "conf_matrix = confusion_matrix(y_test, y_pred)\n",
    "\n",
    "# Print the results\n",
    "print(\"AdaBoost Classifier\")\n",
    "print(f\"Accuracy: {accuracy:.4f}\")\n",
    "print(f\"Classification Report:\\n{report}\")\n",
    "print(f\"Confusion Matrix:\\n{conf_matrix}\")"
   ]
  },
  {
   "cell_type": "markdown",
   "id": "483b0fa6",
   "metadata": {},
   "source": [
    "# Feature Importance"
   ]
  },
  {
   "cell_type": "code",
   "execution_count": 16,
   "id": "3c455064",
   "metadata": {},
   "outputs": [
    {
     "name": "stdout",
     "output_type": "stream",
     "text": [
      "Feature Importances:\n",
      "Rank: 0.0000\n",
      "FX: 0.0200\n",
      "PH: 0.0000\n",
      "SR: 0.0200\n",
      "VT: 0.1600\n",
      "PB: 0.3000\n",
      "HB: 0.1600\n",
      "AA: 0.1600\n",
      "Name: 0.1800\n",
      "round_final: 0.0000\n",
      "round_qual: 0.0000\n"
     ]
    }
   ],
   "source": [
    "from sklearn.model_selection import train_test_split\n",
    "from sklearn.ensemble import AdaBoostClassifier\n",
    "\n",
    "\n",
    "# Initialize the AdaBoost classifier\n",
    "clf = AdaBoostClassifier()\n",
    "\n",
    "# Fit the model to the training data\n",
    "clf.fit(X_train, y_train)\n",
    "\n",
    "# Extract feature importances\n",
    "feature_importances = clf.feature_importances_\n",
    "\n",
    "# Print feature importances\n",
    "print(\"Feature Importances:\")\n",
    "for feature, importance in zip(X.columns, feature_importances):\n",
    "    print(f\"{feature}: {importance:.4f}\")\n"
   ]
  },
  {
   "cell_type": "code",
   "execution_count": 17,
   "id": "cad0c48d",
   "metadata": {},
   "outputs": [
    {
     "data": {
      "image/png": "[encoded data removed]",
      "text/plain": [
       "<Figure size 720x432 with 1 Axes>"
      ]
     },
     "metadata": {
      "needs_background": "light"
     },
     "output_type": "display_data"
    }
   ],
   "source": [
    "import matplotlib.pyplot as plt\n",
    "\n",
    "feature_importances = clf.feature_importances_\n",
    "\n",
    "# Plot feature importances\n",
    "plt.figure(figsize=(10, 6))\n",
    "plt.barh(X.columns, feature_importances, color='skyblue')\n",
    "plt.xlabel('Feature Importance')\n",
    "plt.title('AdaBoost Classifier - Feature Importances')\n",
    "plt.show()\n"
   ]
  },
  {
   "cell_type": "code",
   "execution_count": 54,
   "id": "be1b829c",
   "metadata": {
    "scrolled": true
   },
   "outputs": [],
   "source": [
    "y_pred = clf.predict(olymp)\n"
   ]
  },
  {
   "cell_type": "code",
   "execution_count": 55,
   "id": "fee29ec6",
   "metadata": {},
   "outputs": [],
   "source": [
    "ypreds  = pd.Series(y_pred)\n",
    "olymp['ypred']=ypreds"
   ]
  },
  {
   "cell_type": "code",
   "execution_count": 56,
   "id": "9b591b1b",
   "metadata": {},
   "outputs": [
    {
     "data": {
      "text/plain": [
       "ypred\n",
       "0.0    412\n",
       "1.0      4\n",
       "Name: count, dtype: int64"
      ]
     },
     "execution_count": 56,
     "metadata": {},
     "output_type": "execute_result"
    }
   ],
   "source": [
    "olymp['ypred'].value_counts()"
   ]
  },
  {
   "cell_type": "code",
   "execution_count": 57,
   "id": "60dc07f7",
   "metadata": {},
   "outputs": [],
   "source": [
    "filtered_df = olymp[olymp['ypred'] == 1]"
   ]
  },
  {
   "cell_type": "code",
   "execution_count": 58,
   "id": "6021d43c",
   "metadata": {},
   "outputs": [
    {
     "data": {
      "text/plain": [
       "array([411, 366, 400, 395])"
      ]
     },
     "execution_count": 58,
     "metadata": {},
     "output_type": "execute_result"
    }
   ],
   "source": [
    "filtered_df['Name'].unique()"
   ]
  },
  {
   "cell_type": "code",
   "execution_count": 59,
   "id": "d31f72cc",
   "metadata": {},
   "outputs": [],
   "source": [
    "name_encoded_values = [411, 366, 400, 395]\n",
    "\n",
    "# Filter the DataFrame to get the corresponding \"Name\" values\n",
    "result = iaanames.loc[iaanames['Name_encoded'].isin(name_encoded_values), 'Athlete']\n"
   ]
  },
  {
   "cell_type": "code",
   "execution_count": 60,
   "id": "bcd41583",
   "metadata": {
    "scrolled": true
   },
   "outputs": [
    {
     "data": {
      "text/plain": [
       "array(['zhang boheng', 'thomas grasso', 'yonekura hidenobu',\n",
       "       'yang hakseon south'], dtype=object)"
      ]
     },
     "execution_count": 60,
     "metadata": {},
     "output_type": "execute_result"
    }
   ],
   "source": [
    "result.unique()"
   ]
  },
  {
   "cell_type": "code",
   "execution_count": null,
   "id": "3b957487",
   "metadata": {},
   "outputs": [],
   "source": []
  }
 ],
 "metadata": {
  "kernelspec": {
   "display_name": "Python 3 (ipykernel)",
   "language": "python",
   "name": "python3"
  },
  "language_info": {
   "codemirror_mode": {
    "name": "ipython",
    "version": 3
   },
   "file_extension": ".py",
   "mimetype": "text/x-python",
   "name": "python",
   "nbconvert_exporter": "python",
   "pygments_lexer": "ipython3",
   "version": "3.9.12"
  }
 },
 "nbformat": 4,
 "nbformat_minor": 5
}
