{
 "cells": [
  {
   "cell_type": "markdown",
   "id": "73e4cbbc",
   "metadata": {},
   "source": [
    "# USA unlikely to medal"
   ]
  },
  {
   "cell_type": "code",
   "execution_count": 1,
   "id": "bf777394",
   "metadata": {},
   "outputs": [],
   "source": [
    "import pandas as pd\n",
    "import numpy as np\n",
    "from scipy import stats\n",
    "from mlxtend.preprocessing import minmax_scaling\n",
    "import seaborn as sns\n",
    "import matplotlib.pyplot as plt\n",
    "from matplotlib.colors import ListedColormap\n",
    "from sklearn.datasets import make_circles, make_classification, make_moons\n",
    "from sklearn.discriminant_analysis import QuadraticDiscriminantAnalysis\n",
    "from sklearn.ensemble import AdaBoostClassifier, RandomForestClassifier\n",
    "from sklearn.gaussian_process import GaussianProcessClassifier\n",
    "from sklearn.gaussian_process.kernels import RBF\n",
    "from sklearn.inspection import DecisionBoundaryDisplay\n",
    "from sklearn.model_selection import train_test_split\n",
    "from sklearn.naive_bayes import GaussianNB\n",
    "from sklearn.neighbors import KNeighborsClassifier\n",
    "from sklearn.neural_network import MLPClassifier\n",
    "from sklearn.pipeline import make_pipeline\n",
    "from sklearn.preprocessing import StandardScaler\n",
    "from sklearn.svm import SVC\n",
    "from sklearn.tree import DecisionTreeClassifier\n",
    "from sklearn import svm\n",
    "from sklearn.metrics import accuracy_score\n",
    "from sklearn.metrics import classification_report\n",
    "from sklearn.metrics import confusion_matrix"
   ]
  },
  {
   "cell_type": "code",
   "execution_count": 2,
   "id": "32e8270a",
   "metadata": {},
   "outputs": [],
   "source": [
    "df = pd.read_csv('../../Combine_Data/men/sr_encoded.csv')\n",
    "olymp = pd.read_csv('../../Data/cleandata22-23/encoded_m_olympics_sr.csv')\n",
    "srnames = pd.read_csv('../../Data/cleandata22-23/encoded_m_olympics_srnames.csv')\n",
    "srolymp = pd.read_csv('../../Data/cleandata22-23/men22_23.csv')"
   ]
  },
  {
   "cell_type": "code",
   "execution_count": 3,
   "id": "ed7c3c01",
   "metadata": {},
   "outputs": [],
   "source": [
    "df['year'].fillna(2023, inplace=True)"
   ]
  },
  {
   "cell_type": "code",
   "execution_count": 4,
   "id": "850b6f87",
   "metadata": {},
   "outputs": [
    {
     "name": "stdout",
     "output_type": "stream",
     "text": [
      "<class 'pandas.core.frame.DataFrame'>\n",
      "RangeIndex: 495 entries, 0 to 494\n",
      "Data columns (total 11 columns):\n",
      " #   Column       Non-Null Count  Dtype  \n",
      "---  ------       --------------  -----  \n",
      " 0   Rank         495 non-null    int64  \n",
      " 1   D            495 non-null    float64\n",
      " 2   E            495 non-null    float64\n",
      " 3   ND           495 non-null    float64\n",
      " 4   Total        495 non-null    float64\n",
      " 5   year         495 non-null    float64\n",
      " 6   medal        495 non-null    int64  \n",
      " 7   Name         495 non-null    int64  \n",
      " 8   Nation       495 non-null    int64  \n",
      " 9   round_final  495 non-null    bool   \n",
      " 10  round_qual   495 non-null    bool   \n",
      "dtypes: bool(2), float64(5), int64(4)\n",
      "memory usage: 35.9 KB\n"
     ]
    }
   ],
   "source": [
    "df.info()"
   ]
  },
  {
   "cell_type": "code",
   "execution_count": 5,
   "id": "9d6fdee9",
   "metadata": {
    "scrolled": false
   },
   "outputs": [
    {
     "name": "stderr",
     "output_type": "stream",
     "text": [
      "/Users/ryantalbot/opt/anaconda3/envs/tf2/lib/python3.9/site-packages/sklearn/metrics/_classification.py:1469: UndefinedMetricWarning: Precision and F-score are ill-defined and being set to 0.0 in labels with no predicted samples. Use `zero_division` parameter to control this behavior.\n",
      "  _warn_prf(average, modifier, msg_start, len(result))\n",
      "/Users/ryantalbot/opt/anaconda3/envs/tf2/lib/python3.9/site-packages/sklearn/metrics/_classification.py:1469: UndefinedMetricWarning: Precision and F-score are ill-defined and being set to 0.0 in labels with no predicted samples. Use `zero_division` parameter to control this behavior.\n",
      "  _warn_prf(average, modifier, msg_start, len(result))\n",
      "/Users/ryantalbot/opt/anaconda3/envs/tf2/lib/python3.9/site-packages/sklearn/metrics/_classification.py:1469: UndefinedMetricWarning: Precision and F-score are ill-defined and being set to 0.0 in labels with no predicted samples. Use `zero_division` parameter to control this behavior.\n",
      "  _warn_prf(average, modifier, msg_start, len(result))\n",
      "/Users/ryantalbot/opt/anaconda3/envs/tf2/lib/python3.9/site-packages/sklearn/metrics/_classification.py:1469: UndefinedMetricWarning: Precision and F-score are ill-defined and being set to 0.0 in labels with no predicted samples. Use `zero_division` parameter to control this behavior.\n",
      "  _warn_prf(average, modifier, msg_start, len(result))\n",
      "/Users/ryantalbot/opt/anaconda3/envs/tf2/lib/python3.9/site-packages/sklearn/metrics/_classification.py:1469: UndefinedMetricWarning: Precision and F-score are ill-defined and being set to 0.0 in labels with no predicted samples. Use `zero_division` parameter to control this behavior.\n",
      "  _warn_prf(average, modifier, msg_start, len(result))\n",
      "/Users/ryantalbot/opt/anaconda3/envs/tf2/lib/python3.9/site-packages/sklearn/metrics/_classification.py:1469: UndefinedMetricWarning: Precision and F-score are ill-defined and being set to 0.0 in labels with no predicted samples. Use `zero_division` parameter to control this behavior.\n",
      "  _warn_prf(average, modifier, msg_start, len(result))\n"
     ]
    },
    {
     "name": "stdout",
     "output_type": "stream",
     "text": [
      "Classifier: Random Forest\n",
      "Accuracy: 1.0000\n",
      "Classification Report:\n",
      "              precision    recall  f1-score   support\n",
      "\n",
      "           0       1.00      1.00      1.00       122\n",
      "           1       1.00      1.00      1.00         2\n",
      "\n",
      "    accuracy                           1.00       124\n",
      "   macro avg       1.00      1.00      1.00       124\n",
      "weighted avg       1.00      1.00      1.00       124\n",
      "\n",
      "Confusion Matrix:\n",
      "[[122   0]\n",
      " [  0   2]]\n",
      "\n",
      "Classifier: AdaBoost\n",
      "Accuracy: 0.9919\n",
      "Classification Report:\n",
      "              precision    recall  f1-score   support\n",
      "\n",
      "           0       1.00      0.99      1.00       122\n",
      "           1       0.67      1.00      0.80         2\n",
      "\n",
      "    accuracy                           0.99       124\n",
      "   macro avg       0.83      1.00      0.90       124\n",
      "weighted avg       0.99      0.99      0.99       124\n",
      "\n",
      "Confusion Matrix:\n",
      "[[121   1]\n",
      " [  0   2]]\n",
      "\n",
      "Classifier: SVM\n",
      "Accuracy: 0.9839\n",
      "Classification Report:\n",
      "              precision    recall  f1-score   support\n",
      "\n",
      "           0       0.98      1.00      0.99       122\n",
      "           1       0.00      0.00      0.00         2\n",
      "\n",
      "    accuracy                           0.98       124\n",
      "   macro avg       0.49      0.50      0.50       124\n",
      "weighted avg       0.97      0.98      0.98       124\n",
      "\n",
      "Confusion Matrix:\n",
      "[[122   0]\n",
      " [  2   0]]\n",
      "\n",
      "Classifier: K-Nearest Neighbors\n",
      "Accuracy: 0.9839\n",
      "Classification Report:\n",
      "              precision    recall  f1-score   support\n",
      "\n",
      "           0       0.98      1.00      0.99       122\n",
      "           1       0.00      0.00      0.00         2\n",
      "\n",
      "    accuracy                           0.98       124\n",
      "   macro avg       0.49      0.50      0.50       124\n",
      "weighted avg       0.97      0.98      0.98       124\n",
      "\n",
      "Confusion Matrix:\n",
      "[[122   0]\n",
      " [  2   0]]\n",
      "\n",
      "Classifier: Decision Tree\n",
      "Accuracy: 0.9919\n",
      "Classification Report:\n",
      "              precision    recall  f1-score   support\n",
      "\n",
      "           0       1.00      0.99      1.00       122\n",
      "           1       0.67      1.00      0.80         2\n",
      "\n",
      "    accuracy                           0.99       124\n",
      "   macro avg       0.83      1.00      0.90       124\n",
      "weighted avg       0.99      0.99      0.99       124\n",
      "\n",
      "Confusion Matrix:\n",
      "[[121   1]\n",
      " [  0   2]]\n",
      "\n",
      "Classifier: Naive Bayes\n",
      "Accuracy: 0.9677\n",
      "Classification Report:\n",
      "              precision    recall  f1-score   support\n",
      "\n",
      "           0       1.00      0.97      0.98       122\n",
      "           1       0.33      1.00      0.50         2\n",
      "\n",
      "    accuracy                           0.97       124\n",
      "   macro avg       0.67      0.98      0.74       124\n",
      "weighted avg       0.99      0.97      0.98       124\n",
      "\n",
      "Confusion Matrix:\n",
      "[[118   4]\n",
      " [  0   2]]\n",
      "\n",
      "Classifier: Neural Network\n",
      "Accuracy: 0.9839\n",
      "Classification Report:\n",
      "              precision    recall  f1-score   support\n",
      "\n",
      "           0       0.98      1.00      0.99       122\n",
      "           1       0.00      0.00      0.00         2\n",
      "\n",
      "    accuracy                           0.98       124\n",
      "   macro avg       0.49      0.50      0.50       124\n",
      "weighted avg       0.97      0.98      0.98       124\n",
      "\n",
      "Confusion Matrix:\n",
      "[[122   0]\n",
      " [  2   0]]\n",
      "\n"
     ]
    },
    {
     "name": "stderr",
     "output_type": "stream",
     "text": [
      "/Users/ryantalbot/opt/anaconda3/envs/tf2/lib/python3.9/site-packages/sklearn/neural_network/_multilayer_perceptron.py:691: ConvergenceWarning: Stochastic Optimizer: Maximum iterations (200) reached and the optimization hasn't converged yet.\n",
      "  warnings.warn(\n",
      "/Users/ryantalbot/opt/anaconda3/envs/tf2/lib/python3.9/site-packages/sklearn/metrics/_classification.py:1469: UndefinedMetricWarning: Precision and F-score are ill-defined and being set to 0.0 in labels with no predicted samples. Use `zero_division` parameter to control this behavior.\n",
      "  _warn_prf(average, modifier, msg_start, len(result))\n",
      "/Users/ryantalbot/opt/anaconda3/envs/tf2/lib/python3.9/site-packages/sklearn/metrics/_classification.py:1469: UndefinedMetricWarning: Precision and F-score are ill-defined and being set to 0.0 in labels with no predicted samples. Use `zero_division` parameter to control this behavior.\n",
      "  _warn_prf(average, modifier, msg_start, len(result))\n",
      "/Users/ryantalbot/opt/anaconda3/envs/tf2/lib/python3.9/site-packages/sklearn/metrics/_classification.py:1469: UndefinedMetricWarning: Precision and F-score are ill-defined and being set to 0.0 in labels with no predicted samples. Use `zero_division` parameter to control this behavior.\n",
      "  _warn_prf(average, modifier, msg_start, len(result))\n"
     ]
    }
   ],
   "source": [
    "y = df['medal']\n",
    "X = df.drop(columns=['medal'])\n",
    "\n",
    "# Split the data into training and testing sets\n",
    "# CHANGED RANDOM STATE TO HAVE A LARGER NUMBER OF VALUES IN TEST DF\n",
    "X_train, X_test, y_train, y_test = train_test_split(X, y, test_size=0.25, random_state=110)\n",
    "\n",
    "# Initialize classifiers\n",
    "classifiers = {\n",
    "    \"Random Forest\": RandomForestClassifier(),\n",
    "    \"AdaBoost\": AdaBoostClassifier(),\n",
    "    \"SVM\": SVC(),\n",
    "    \"K-Nearest Neighbors\": KNeighborsClassifier(),\n",
    "    \"Decision Tree\": DecisionTreeClassifier(),\n",
    "    \"Naive Bayes\": GaussianNB(),\n",
    "    \"Neural Network\": MLPClassifier(),\n",
    "}\n",
    "\n",
    "results = {}\n",
    "\n",
    "# Iterate through each classifier\n",
    "for name, clf in classifiers.items():\n",
    "    # Create a pipeline with StandardScaler for classifiers that require it\n",
    "    if name in [\"SVM\", \"K-Nearest Neighbors\", \"Neural Network\"]:\n",
    "        clf = make_pipeline(StandardScaler(), clf)\n",
    "\n",
    "    # Fit the model to the training data\n",
    "    clf.fit(X_train, y_train)\n",
    "\n",
    "    # Make predictions on the test data\n",
    "    y_pred = clf.predict(X_test)\n",
    "\n",
    "    # Evaluate the model's performance\n",
    "    accuracy = accuracy_score(y_test, y_pred)\n",
    "    report = classification_report(y_test, y_pred)\n",
    "    conf_matrix = confusion_matrix(y_test, y_pred)\n",
    "\n",
    "    results[name] = {\n",
    "        \"accuracy\": accuracy,\n",
    "        \"classification_report\": report,\n",
    "        \"confusion_matrix\": conf_matrix,\n",
    "    }\n",
    "\n",
    "# Print the results\n",
    "for name, result in results.items():\n",
    "    print(f\"Classifier: {name}\")\n",
    "    print(f\"Accuracy: {result['accuracy']:.4f}\")\n",
    "    print(f\"Classification Report:\\n{result['classification_report']}\")\n",
    "    print(f\"Confusion Matrix:\\n{result['confusion_matrix']}\\n\")\n"
   ]
  },
  {
   "cell_type": "markdown",
   "id": "6131b8bb",
   "metadata": {},
   "source": [
    "Classifier: AdaBoost\n",
    "Accuracy: 0.9923\n",
    "\n",
    "Classifier: Decision Tree\n",
    "Accuracy: 0.9923"
   ]
  },
  {
   "cell_type": "code",
   "execution_count": 6,
   "id": "4fecdd20",
   "metadata": {},
   "outputs": [
    {
     "data": {
      "text/html": [
       "<div>\n",
       "<style scoped>\n",
       "    .dataframe tbody tr th:only-of-type {\n",
       "        vertical-align: middle;\n",
       "    }\n",
       "\n",
       "    .dataframe tbody tr th {\n",
       "        vertical-align: top;\n",
       "    }\n",
       "\n",
       "    .dataframe thead th {\n",
       "        text-align: right;\n",
       "    }\n",
       "</style>\n",
       "<table border=\"1\" class=\"dataframe\">\n",
       "  <thead>\n",
       "    <tr style=\"text-align: right;\">\n",
       "      <th></th>\n",
       "      <th>Rank</th>\n",
       "      <th>D</th>\n",
       "      <th>E</th>\n",
       "      <th>ND</th>\n",
       "      <th>Total</th>\n",
       "      <th>year</th>\n",
       "      <th>Name</th>\n",
       "      <th>Nation</th>\n",
       "      <th>round_final</th>\n",
       "      <th>round_qual</th>\n",
       "    </tr>\n",
       "  </thead>\n",
       "  <tbody>\n",
       "    <tr>\n",
       "      <th>71</th>\n",
       "      <td>13</td>\n",
       "      <td>6.1</td>\n",
       "      <td>8.200</td>\n",
       "      <td>0.0</td>\n",
       "      <td>14.300</td>\n",
       "      <td>2018.0</td>\n",
       "      <td>86</td>\n",
       "      <td>60</td>\n",
       "      <td>False</td>\n",
       "      <td>True</td>\n",
       "    </tr>\n",
       "    <tr>\n",
       "      <th>171</th>\n",
       "      <td>113</td>\n",
       "      <td>4.8</td>\n",
       "      <td>7.900</td>\n",
       "      <td>0.0</td>\n",
       "      <td>12.700</td>\n",
       "      <td>2018.0</td>\n",
       "      <td>264</td>\n",
       "      <td>27</td>\n",
       "      <td>False</td>\n",
       "      <td>True</td>\n",
       "    </tr>\n",
       "    <tr>\n",
       "      <th>196</th>\n",
       "      <td>138</td>\n",
       "      <td>4.5</td>\n",
       "      <td>7.766</td>\n",
       "      <td>0.0</td>\n",
       "      <td>12.266</td>\n",
       "      <td>2018.0</td>\n",
       "      <td>279</td>\n",
       "      <td>38</td>\n",
       "      <td>False</td>\n",
       "      <td>True</td>\n",
       "    </tr>\n",
       "    <tr>\n",
       "      <th>391</th>\n",
       "      <td>131</td>\n",
       "      <td>4.9</td>\n",
       "      <td>7.633</td>\n",
       "      <td>0.0</td>\n",
       "      <td>12.533</td>\n",
       "      <td>2019.0</td>\n",
       "      <td>291</td>\n",
       "      <td>12</td>\n",
       "      <td>False</td>\n",
       "      <td>True</td>\n",
       "    </tr>\n",
       "    <tr>\n",
       "      <th>113</th>\n",
       "      <td>55</td>\n",
       "      <td>4.9</td>\n",
       "      <td>8.533</td>\n",
       "      <td>0.0</td>\n",
       "      <td>13.433</td>\n",
       "      <td>2018.0</td>\n",
       "      <td>182</td>\n",
       "      <td>26</td>\n",
       "      <td>False</td>\n",
       "      <td>True</td>\n",
       "    </tr>\n",
       "  </tbody>\n",
       "</table>\n",
       "</div>"
      ],
      "text/plain": [
       "     Rank    D      E   ND   Total    year  Name  Nation  round_final  \\\n",
       "71     13  6.1  8.200  0.0  14.300  2018.0    86      60        False   \n",
       "171   113  4.8  7.900  0.0  12.700  2018.0   264      27        False   \n",
       "196   138  4.5  7.766  0.0  12.266  2018.0   279      38        False   \n",
       "391   131  4.9  7.633  0.0  12.533  2019.0   291      12        False   \n",
       "113    55  4.9  8.533  0.0  13.433  2018.0   182      26        False   \n",
       "\n",
       "     round_qual  \n",
       "71         True  \n",
       "171        True  \n",
       "196        True  \n",
       "391        True  \n",
       "113        True  "
      ]
     },
     "execution_count": 6,
     "metadata": {},
     "output_type": "execute_result"
    }
   ],
   "source": [
    "X_train.head()"
   ]
  },
  {
   "cell_type": "code",
   "execution_count": 7,
   "id": "cafe749e",
   "metadata": {},
   "outputs": [
    {
     "data": {
      "text/html": [
       "<div>\n",
       "<style scoped>\n",
       "    .dataframe tbody tr th:only-of-type {\n",
       "        vertical-align: middle;\n",
       "    }\n",
       "\n",
       "    .dataframe tbody tr th {\n",
       "        vertical-align: top;\n",
       "    }\n",
       "\n",
       "    .dataframe thead th {\n",
       "        text-align: right;\n",
       "    }\n",
       "</style>\n",
       "<table border=\"1\" class=\"dataframe\">\n",
       "  <thead>\n",
       "    <tr style=\"text-align: right;\">\n",
       "      <th></th>\n",
       "      <th>Rank</th>\n",
       "      <th>D Score</th>\n",
       "      <th>E Score</th>\n",
       "      <th>Pen.</th>\n",
       "      <th>Total</th>\n",
       "      <th>year</th>\n",
       "      <th>Name</th>\n",
       "      <th>nation</th>\n",
       "      <th>round_AAfinal</th>\n",
       "      <th>round_TeamFinal</th>\n",
       "      <th>round_TeamQual</th>\n",
       "      <th>round_final</th>\n",
       "      <th>round_qual</th>\n",
       "    </tr>\n",
       "  </thead>\n",
       "  <tbody>\n",
       "    <tr>\n",
       "      <th>0</th>\n",
       "      <td>73.0</td>\n",
       "      <td>3.5</td>\n",
       "      <td>8.366</td>\n",
       "      <td>0.0</td>\n",
       "      <td>11.866</td>\n",
       "      <td>2023</td>\n",
       "      <td>242</td>\n",
       "      <td>62</td>\n",
       "      <td>False</td>\n",
       "      <td>False</td>\n",
       "      <td>False</td>\n",
       "      <td>False</td>\n",
       "      <td>True</td>\n",
       "    </tr>\n",
       "    <tr>\n",
       "      <th>1</th>\n",
       "      <td>12.0</td>\n",
       "      <td>5.3</td>\n",
       "      <td>7.933</td>\n",
       "      <td>0.0</td>\n",
       "      <td>13.233</td>\n",
       "      <td>2022</td>\n",
       "      <td>523</td>\n",
       "      <td>27</td>\n",
       "      <td>True</td>\n",
       "      <td>False</td>\n",
       "      <td>False</td>\n",
       "      <td>False</td>\n",
       "      <td>False</td>\n",
       "    </tr>\n",
       "    <tr>\n",
       "      <th>2</th>\n",
       "      <td>90.0</td>\n",
       "      <td>4.9</td>\n",
       "      <td>7.666</td>\n",
       "      <td>0.0</td>\n",
       "      <td>12.566</td>\n",
       "      <td>2022</td>\n",
       "      <td>523</td>\n",
       "      <td>27</td>\n",
       "      <td>False</td>\n",
       "      <td>False</td>\n",
       "      <td>False</td>\n",
       "      <td>False</td>\n",
       "      <td>True</td>\n",
       "    </tr>\n",
       "    <tr>\n",
       "      <th>3</th>\n",
       "      <td>0.0</td>\n",
       "      <td>5.3</td>\n",
       "      <td>8.500</td>\n",
       "      <td>0.0</td>\n",
       "      <td>13.800</td>\n",
       "      <td>2022</td>\n",
       "      <td>523</td>\n",
       "      <td>27</td>\n",
       "      <td>False</td>\n",
       "      <td>True</td>\n",
       "      <td>False</td>\n",
       "      <td>False</td>\n",
       "      <td>False</td>\n",
       "    </tr>\n",
       "    <tr>\n",
       "      <th>4</th>\n",
       "      <td>23.0</td>\n",
       "      <td>5.3</td>\n",
       "      <td>8.366</td>\n",
       "      <td>0.0</td>\n",
       "      <td>13.666</td>\n",
       "      <td>2022</td>\n",
       "      <td>523</td>\n",
       "      <td>27</td>\n",
       "      <td>False</td>\n",
       "      <td>False</td>\n",
       "      <td>False</td>\n",
       "      <td>False</td>\n",
       "      <td>True</td>\n",
       "    </tr>\n",
       "  </tbody>\n",
       "</table>\n",
       "</div>"
      ],
      "text/plain": [
       "   Rank  D Score  E Score  Pen.   Total  year  Name  nation  round_AAfinal  \\\n",
       "0  73.0      3.5    8.366   0.0  11.866  2023   242      62          False   \n",
       "1  12.0      5.3    7.933   0.0  13.233  2022   523      27           True   \n",
       "2  90.0      4.9    7.666   0.0  12.566  2022   523      27          False   \n",
       "3   0.0      5.3    8.500   0.0  13.800  2022   523      27          False   \n",
       "4  23.0      5.3    8.366   0.0  13.666  2022   523      27          False   \n",
       "\n",
       "   round_TeamFinal  round_TeamQual  round_final  round_qual  \n",
       "0            False           False        False        True  \n",
       "1            False           False        False       False  \n",
       "2            False           False        False        True  \n",
       "3             True           False        False       False  \n",
       "4            False           False        False        True  "
      ]
     },
     "execution_count": 7,
     "metadata": {},
     "output_type": "execute_result"
    }
   ],
   "source": [
    "olymp.head()\n"
   ]
  },
  {
   "cell_type": "code",
   "execution_count": 8,
   "id": "8c5de4ea",
   "metadata": {},
   "outputs": [],
   "source": [
    "olymp.rename(columns={'D Score': 'D', 'E Score': 'E',\n",
    "                     'Pen.': 'ND', 'nation': 'Nation'}, inplace=True)"
   ]
  },
  {
   "cell_type": "code",
   "execution_count": 9,
   "id": "f6086afd",
   "metadata": {},
   "outputs": [],
   "source": [
    "olymp=olymp.drop(columns=['round_TeamFinal', 'round_AAfinal', 'round_TeamQual'])"
   ]
  },
  {
   "cell_type": "code",
   "execution_count": 10,
   "id": "87db1703",
   "metadata": {},
   "outputs": [],
   "source": [
    "from sklearn.tree import DecisionTreeClassifier, plot_tree"
   ]
  },
  {
   "cell_type": "code",
   "execution_count": 11,
   "id": "3c393bac",
   "metadata": {},
   "outputs": [],
   "source": [
    "df1 = df.copy()"
   ]
  },
  {
   "cell_type": "code",
   "execution_count": 12,
   "id": "1c52de1f",
   "metadata": {},
   "outputs": [],
   "source": [
    "# from sklearn.preprocessing import MinMaxScaler\n",
    "\n",
    "# scaler = MinMaxScaler()\n",
    "# df_normalized = pd.DataFrame(scaler.fit_transform(df1), columns=df.columns)\n"
   ]
  },
  {
   "cell_type": "code",
   "execution_count": 13,
   "id": "14df27a4",
   "metadata": {},
   "outputs": [],
   "source": [
    "# import matplotlib.pyplot as plt\n",
    "# from sklearn.tree import DecisionTreeClassifier, plot_tree\n",
    "# from sklearn.model_selection import train_test_split\n",
    "# from sklearn.metrics import accuracy_score, confusion_matrix\n",
    "\n",
    "# # Assuming you already have your DataFrame 'df' and the target variable is 'medal'\n",
    "# y = df['medal']\n",
    "# X = df.drop(columns=['medal'])\n",
    "\n",
    "# # Convert class labels to strings\n",
    "# class_names = df['medal'].astype(str).unique()\n",
    "\n",
    "# # Split the data into training and testing sets\n",
    "# X_train, X_test, y_train, y_test = train_test_split(X, y, test_size=0.28, random_state=110)\n",
    "\n",
    "# clf = DecisionTreeClassifier()\n",
    "# clf.fit(X_train, y_train)\n",
    "\n",
    "# # Make predictions on the test data\n",
    "# y_pred = clf.predict(X_test)\n",
    "\n",
    "# # Calculate accuracy\n",
    "# accuracy = accuracy_score(y_test, y_pred)\n",
    "\n",
    "# # Generate confusion matrix\n",
    "# conf_matrix = confusion_matrix(y_test, y_pred)\n",
    "\n",
    "# # Plot the Decision Tree\n",
    "# plt.figure(figsize=(12, 8))\n",
    "# plot_tree(clf, filled=True, feature_names=X.columns, class_names=class_names)\n",
    "# plt.title(\"Decision Tree Classifier\")\n",
    "# plt.show()\n",
    "\n",
    "# # Print accuracy and confusion matrix\n",
    "# print(f\"Accuracy: {accuracy:.4f}\")\n",
    "# print(\"Confusion Matrix:\")\n",
    "# print(conf_matrix)\n"
   ]
  },
  {
   "cell_type": "code",
   "execution_count": 14,
   "id": "b9b5275a",
   "metadata": {},
   "outputs": [
    {
     "name": "stdout",
     "output_type": "stream",
     "text": [
      "Accuracy (Top 3): 0.9928\n"
     ]
    }
   ],
   "source": [
    "from sklearn.ensemble import RandomForestClassifier\n",
    "from sklearn.model_selection import train_test_split\n",
    "from sklearn.metrics import accuracy_score\n",
    "import numpy as np\n",
    "\n",
    "y = df['medal']\n",
    "X = df.drop(columns=['medal'])\n",
    "\n",
    "# Convert class labels to strings\n",
    "class_names = df['medal'].astype(str).unique()\n",
    "\n",
    "X_train, X_test, y_train, y_test = train_test_split(X, y, test_size=0.28, random_state=110)\n",
    "\n",
    "# Initialize and train a RandomForestClassifier\n",
    "rf_model = RandomForestClassifier(n_estimators=100, random_state=42)\n",
    "rf_model.fit(X_train, y_train)\n",
    "\n",
    "# Make predictions with class probabilities\n",
    "class_probs = rf_model.predict_proba(X_test)\n",
    "\n",
    "# Define the number of top classes to select\n",
    "top_n = 3\n",
    "\n",
    "# Select the top N classes based on class probabilities\n",
    "top_n_classes = np.argsort(class_probs, axis=1)[:, -top_n:]\n",
    "\n",
    "# Set the minimum probability threshold\n",
    "min_probability_threshold = 0.02\n",
    "\n",
    "# Apply the threshold to select the top N classes\n",
    "top_n_classes = top_n_classes[class_probs[np.arange(len(class_probs)), top_n_classes[:, -1]] >= min_probability_threshold]\n",
    "\n",
    "# Evaluate the model's accuracy using the top N results\n",
    "y_pred = top_n_classes[:, -1]  # Select the top prediction from the top N\n",
    "accuracy = accuracy_score(y_test, y_pred)\n",
    "\n",
    "print(f\"Accuracy (Top {top_n}): {accuracy:.4f}\")\n"
   ]
  },
  {
   "cell_type": "code",
   "execution_count": 15,
   "id": "8daf432f",
   "metadata": {},
   "outputs": [],
   "source": [
    "class_probs = rf_model.predict_proba(olymp)\n",
    "\n",
    "# Define the number of top classes to select\n",
    "top_n = 20\n",
    "\n",
    "# Select the top N classes based on class probabilities\n",
    "top_n_classes = np.argsort(class_probs, axis=1)[:, -top_n:]\n",
    "\n",
    "# Set the minimum probability threshold\n",
    "min_probability_threshold = 0.1\n",
    "\n",
    "# Apply the threshold to select the top N classes\n",
    "top_n_classes = top_n_classes[class_probs[np.arange(len(class_probs)), top_n_classes[:, -1]] >= min_probability_threshold]\n",
    "\n",
    "# Evaluate the model's accuracy using the top N results\n",
    "y_pred = top_n_classes[:, -1]  # Select the top prediction from the top N"
   ]
  },
  {
   "cell_type": "code",
   "execution_count": 16,
   "id": "212e256c",
   "metadata": {},
   "outputs": [],
   "source": [
    "ypreds  = pd.Series(y_pred)\n",
    "olymp['ypred']=ypreds\n"
   ]
  },
  {
   "cell_type": "code",
   "execution_count": 17,
   "id": "7f1f01f6",
   "metadata": {},
   "outputs": [
    {
     "data": {
      "text/plain": [
       "ypred\n",
       "0    2305\n",
       "1      14\n",
       "Name: count, dtype: int64"
      ]
     },
     "execution_count": 17,
     "metadata": {},
     "output_type": "execute_result"
    }
   ],
   "source": [
    "olymp['ypred'].value_counts()"
   ]
  },
  {
   "cell_type": "code",
   "execution_count": 18,
   "id": "dacc692a",
   "metadata": {},
   "outputs": [],
   "source": [
    "filtered_df = olymp[olymp['ypred'] == 1]"
   ]
  },
  {
   "cell_type": "code",
   "execution_count": 19,
   "id": "789fc03e",
   "metadata": {},
   "outputs": [
    {
     "data": {
      "text/plain": [
       "array([ 10, 731, 732, 336])"
      ]
     },
     "execution_count": 19,
     "metadata": {},
     "output_type": "execute_result"
    }
   ],
   "source": [
    "filtered_df['Name'].unique()"
   ]
  },
  {
   "cell_type": "code",
   "execution_count": 20,
   "id": "c526f07e",
   "metadata": {},
   "outputs": [],
   "source": [
    "name_encoded_values = [ 10, 731, 732, 336]\n",
    "\n",
    "# Filter the DataFrame to get the corresponding \"Name\" values\n",
    "result = srnames.loc[srnames['Name_encoded'].isin(name_encoded_values), 'Name']\n"
   ]
  },
  {
   "cell_type": "code",
   "execution_count": 22,
   "id": "2d8f66ad",
   "metadata": {},
   "outputs": [
    {
     "data": {
      "text/plain": [
       "array(['adem asil', 'xingyu lan', 'yang liu', 'jingyuan zou'],\n",
       "      dtype=object)"
      ]
     },
     "execution_count": 22,
     "metadata": {},
     "output_type": "execute_result"
    }
   ],
   "source": [
    "result.unique()"
   ]
  },
  {
   "cell_type": "code",
   "execution_count": 23,
   "id": "730d8f07",
   "metadata": {},
   "outputs": [],
   "source": [
    "srolymp[\"Name\"]=srolymp[\"Name\"].str.lower()\n"
   ]
  },
  {
   "cell_type": "code",
   "execution_count": 24,
   "id": "7bd0922e",
   "metadata": {},
   "outputs": [],
   "source": [
    "names_to_filter =['adem asil', 'xingyu lan', 'yang liu', 'jingyuan zou']\n",
    "\n",
    "# Filter the DataFrame to get rows with the specified \"Name\" values\n",
    "result = srolymp[srolymp['Name'].isin(names_to_filter)]"
   ]
  },
  {
   "cell_type": "code",
   "execution_count": 25,
   "id": "ccca9de1",
   "metadata": {},
   "outputs": [
    {
     "data": {
      "text/plain": [
       "Country\n",
       "TUR    121\n",
       "CHN     48\n",
       "Name: count, dtype: int64"
      ]
     },
     "execution_count": 25,
     "metadata": {},
     "output_type": "execute_result"
    }
   ],
   "source": [
    "result['Country'].value_counts()"
   ]
  },
  {
   "cell_type": "code",
   "execution_count": null,
   "id": "ced9e981",
   "metadata": {},
   "outputs": [],
   "source": []
  }
 ],
 "metadata": {
  "kernelspec": {
   "display_name": "Python 3 (ipykernel)",
   "language": "python",
   "name": "python3"
  },
  "language_info": {
   "codemirror_mode": {
    "name": "ipython",
    "version": 3
   },
   "file_extension": ".py",
   "mimetype": "text/x-python",
   "name": "python",
   "nbconvert_exporter": "python",
   "pygments_lexer": "ipython3",
   "version": "3.9.12"
  }
 },
 "nbformat": 4,
 "nbformat_minor": 5
}
