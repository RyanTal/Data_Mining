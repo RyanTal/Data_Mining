{
 "cells": [
  {
   "cell_type": "markdown",
   "id": "4ae1beed",
   "metadata": {},
   "source": [
    "# USA not likely to medal"
   ]
  },
  {
   "cell_type": "code",
   "execution_count": 89,
   "id": "f4d2aca5",
   "metadata": {},
   "outputs": [],
   "source": [
    "import pandas as pd\n",
    "import numpy as np\n",
    "from scipy import stats\n",
    "from mlxtend.preprocessing import minmax_scaling\n",
    "import seaborn as sns\n",
    "import matplotlib.pyplot as plt\n",
    "from matplotlib.colors import ListedColormap\n",
    "from sklearn.datasets import make_circles, make_classification, make_moons\n",
    "from sklearn.discriminant_analysis import QuadraticDiscriminantAnalysis\n",
    "from sklearn.ensemble import AdaBoostClassifier, RandomForestClassifier\n",
    "from sklearn.gaussian_process import GaussianProcessClassifier\n",
    "from sklearn.gaussian_process.kernels import RBF\n",
    "from sklearn.inspection import DecisionBoundaryDisplay\n",
    "from sklearn.model_selection import train_test_split\n",
    "from sklearn.naive_bayes import GaussianNB\n",
    "from sklearn.neighbors import KNeighborsClassifier\n",
    "from sklearn.neural_network import MLPClassifier\n",
    "from sklearn.pipeline import make_pipeline\n",
    "from sklearn.preprocessing import StandardScaler\n",
    "from sklearn.svm import SVC\n",
    "from sklearn.tree import DecisionTreeClassifier\n",
    "from sklearn import svm\n",
    "from sklearn.metrics import accuracy_score\n",
    "from sklearn.metrics import classification_report\n",
    "from sklearn.metrics import confusion_matrix\n"
   ]
  },
  {
   "cell_type": "code",
   "execution_count": 90,
   "id": "a396ae44",
   "metadata": {},
   "outputs": [],
   "source": [
    "df = pd.read_csv('../../Combine_Data/men/vt_encoded.csv')\n",
    "olymp = pd.read_csv('../../Data/cleandata22-23/encoded_m_olympics_vt.csv')\n",
    "vtnames = pd.read_csv('../../Data/cleandata22-23/encoded_m_olympics_vtnames.csv')\n",
    "vtolymp = pd.read_csv('../../Data/cleandata22-23/men22_23.csv')\n",
    "\n"
   ]
  },
  {
   "cell_type": "code",
   "execution_count": 91,
   "id": "df4ac61f",
   "metadata": {},
   "outputs": [],
   "source": [
    "olymp=olymp.drop(columns=['round_AAfinal', 'round_AAqual', 'round_TeamFinal', 'round_final',\n",
    "       'round_qual'])"
   ]
  },
  {
   "cell_type": "code",
   "execution_count": 92,
   "id": "0fcebd95",
   "metadata": {},
   "outputs": [
    {
     "name": "stdout",
     "output_type": "stream",
     "text": [
      "<class 'pandas.core.frame.DataFrame'>\n",
      "RangeIndex: 83 entries, 0 to 82\n",
      "Data columns (total 14 columns):\n",
      " #   Column   Non-Null Count  Dtype  \n",
      "---  ------   --------------  -----  \n",
      " 0   Rank     83 non-null     int64  \n",
      " 1   D        83 non-null     float64\n",
      " 2   E        83 non-null     float64\n",
      " 3   ND       83 non-null     float64\n",
      " 4   Total    83 non-null     float64\n",
      " 5   D.1      83 non-null     float64\n",
      " 6   E.1      83 non-null     float64\n",
      " 7   ND.1     83 non-null     float64\n",
      " 8   Total.1  83 non-null     float64\n",
      " 9   Average  83 non-null     float64\n",
      " 10  year     83 non-null     int64  \n",
      " 11  medal    83 non-null     int64  \n",
      " 12  Name     83 non-null     int64  \n",
      " 13  Nation   83 non-null     int64  \n",
      "dtypes: float64(9), int64(5)\n",
      "memory usage: 9.2 KB\n"
     ]
    }
   ],
   "source": [
    "df.info()"
   ]
  },
  {
   "cell_type": "code",
   "execution_count": 93,
   "id": "385b37cf",
   "metadata": {},
   "outputs": [
    {
     "data": {
      "text/html": [
       "<div>\n",
       "<style scoped>\n",
       "    .dataframe tbody tr th:only-of-type {\n",
       "        vertical-align: middle;\n",
       "    }\n",
       "\n",
       "    .dataframe tbody tr th {\n",
       "        vertical-align: top;\n",
       "    }\n",
       "\n",
       "    .dataframe thead th {\n",
       "        text-align: right;\n",
       "    }\n",
       "</style>\n",
       "<table border=\"1\" class=\"dataframe\">\n",
       "  <thead>\n",
       "    <tr style=\"text-align: right;\">\n",
       "      <th></th>\n",
       "      <th>Rank</th>\n",
       "      <th>D Score</th>\n",
       "      <th>E Score</th>\n",
       "      <th>Pen.</th>\n",
       "      <th>Total</th>\n",
       "      <th>year</th>\n",
       "      <th>Name</th>\n",
       "      <th>nation</th>\n",
       "      <th>round_TeamQual</th>\n",
       "    </tr>\n",
       "  </thead>\n",
       "  <tbody>\n",
       "    <tr>\n",
       "      <th>0</th>\n",
       "      <td>69.0</td>\n",
       "      <td>4.0</td>\n",
       "      <td>8.966</td>\n",
       "      <td>0.0</td>\n",
       "      <td>12.966</td>\n",
       "      <td>2023</td>\n",
       "      <td>241</td>\n",
       "      <td>67</td>\n",
       "      <td>False</td>\n",
       "    </tr>\n",
       "  </tbody>\n",
       "</table>\n",
       "</div>"
      ],
      "text/plain": [
       "   Rank  D Score  E Score  Pen.   Total  year  Name  nation  round_TeamQual\n",
       "0  69.0      4.0    8.966   0.0  12.966  2023   241      67           False"
      ]
     },
     "execution_count": 93,
     "metadata": {},
     "output_type": "execute_result"
    }
   ],
   "source": [
    "olymp.head(1)"
   ]
  },
  {
   "cell_type": "code",
   "execution_count": 94,
   "id": "39a13805",
   "metadata": {},
   "outputs": [
    {
     "data": {
      "text/html": [
       "<div>\n",
       "<style scoped>\n",
       "    .dataframe tbody tr th:only-of-type {\n",
       "        vertical-align: middle;\n",
       "    }\n",
       "\n",
       "    .dataframe tbody tr th {\n",
       "        vertical-align: top;\n",
       "    }\n",
       "\n",
       "    .dataframe thead th {\n",
       "        text-align: right;\n",
       "    }\n",
       "</style>\n",
       "<table border=\"1\" class=\"dataframe\">\n",
       "  <thead>\n",
       "    <tr style=\"text-align: right;\">\n",
       "      <th></th>\n",
       "      <th>Rank</th>\n",
       "      <th>D</th>\n",
       "      <th>E</th>\n",
       "      <th>ND</th>\n",
       "      <th>Total</th>\n",
       "      <th>D.1</th>\n",
       "      <th>E.1</th>\n",
       "      <th>ND.1</th>\n",
       "      <th>Total.1</th>\n",
       "      <th>Average</th>\n",
       "      <th>year</th>\n",
       "      <th>medal</th>\n",
       "      <th>Name</th>\n",
       "      <th>Nation</th>\n",
       "    </tr>\n",
       "  </thead>\n",
       "  <tbody>\n",
       "    <tr>\n",
       "      <th>0</th>\n",
       "      <td>1</td>\n",
       "      <td>5.6</td>\n",
       "      <td>9.366</td>\n",
       "      <td>0.0</td>\n",
       "      <td>14.966</td>\n",
       "      <td>5.6</td>\n",
       "      <td>9.333</td>\n",
       "      <td>0.0</td>\n",
       "      <td>14.933</td>\n",
       "      <td>14.949</td>\n",
       "      <td>2019</td>\n",
       "      <td>0</td>\n",
       "      <td>27</td>\n",
       "      <td>22</td>\n",
       "    </tr>\n",
       "  </tbody>\n",
       "</table>\n",
       "</div>"
      ],
      "text/plain": [
       "   Rank    D      E   ND   Total  D.1    E.1  ND.1  Total.1  Average  year  \\\n",
       "0     1  5.6  9.366  0.0  14.966  5.6  9.333   0.0   14.933   14.949  2019   \n",
       "\n",
       "   medal  Name  Nation  \n",
       "0      0    27      22  "
      ]
     },
     "execution_count": 94,
     "metadata": {},
     "output_type": "execute_result"
    }
   ],
   "source": [
    "df.head(1)"
   ]
  },
  {
   "cell_type": "code",
   "execution_count": 95,
   "id": "dc4b7db7",
   "metadata": {},
   "outputs": [],
   "source": [
    "olymp=olymp.drop(columns=['round_TeamQual'])"
   ]
  },
  {
   "cell_type": "code",
   "execution_count": 96,
   "id": "bd233062",
   "metadata": {},
   "outputs": [],
   "source": [
    "df=df.drop(columns=['Total', 'D.1', 'E.1','ND.1','Total.1'])"
   ]
  },
  {
   "cell_type": "code",
   "execution_count": 97,
   "id": "488b49de",
   "metadata": {},
   "outputs": [],
   "source": [
    "df.rename(columns={'D':'D Score', 'E':'E Score',\n",
    "                    'ND': 'Pen.', 'Average': 'Total', 'Nation':'nation'}, inplace=True)"
   ]
  },
  {
   "cell_type": "code",
   "execution_count": 98,
   "id": "9338130c",
   "metadata": {},
   "outputs": [],
   "source": [
    "olympz=olymp.copy()"
   ]
  },
  {
   "cell_type": "code",
   "execution_count": 62,
   "id": "5eb33cb6",
   "metadata": {},
   "outputs": [],
   "source": [
    "dfz=df.copy()"
   ]
  },
  {
   "cell_type": "code",
   "execution_count": 14,
   "id": "e12495c0",
   "metadata": {
    "scrolled": false
   },
   "outputs": [
    {
     "name": "stderr",
     "output_type": "stream",
     "text": [
      "/Users/ryantalbot/opt/anaconda3/envs/tf2/lib/python3.9/site-packages/sklearn/metrics/_classification.py:1469: UndefinedMetricWarning: Precision and F-score are ill-defined and being set to 0.0 in labels with no predicted samples. Use `zero_division` parameter to control this behavior.\n",
      "  _warn_prf(average, modifier, msg_start, len(result))\n",
      "/Users/ryantalbot/opt/anaconda3/envs/tf2/lib/python3.9/site-packages/sklearn/metrics/_classification.py:1469: UndefinedMetricWarning: Precision and F-score are ill-defined and being set to 0.0 in labels with no predicted samples. Use `zero_division` parameter to control this behavior.\n",
      "  _warn_prf(average, modifier, msg_start, len(result))\n",
      "/Users/ryantalbot/opt/anaconda3/envs/tf2/lib/python3.9/site-packages/sklearn/metrics/_classification.py:1469: UndefinedMetricWarning: Precision and F-score are ill-defined and being set to 0.0 in labels with no predicted samples. Use `zero_division` parameter to control this behavior.\n",
      "  _warn_prf(average, modifier, msg_start, len(result))\n",
      "/Users/ryantalbot/opt/anaconda3/envs/tf2/lib/python3.9/site-packages/sklearn/metrics/_classification.py:1469: UndefinedMetricWarning: Precision and F-score are ill-defined and being set to 0.0 in labels with no predicted samples. Use `zero_division` parameter to control this behavior.\n",
      "  _warn_prf(average, modifier, msg_start, len(result))\n",
      "/Users/ryantalbot/opt/anaconda3/envs/tf2/lib/python3.9/site-packages/sklearn/metrics/_classification.py:1469: UndefinedMetricWarning: Precision and F-score are ill-defined and being set to 0.0 in labels with no predicted samples. Use `zero_division` parameter to control this behavior.\n",
      "  _warn_prf(average, modifier, msg_start, len(result))\n",
      "/Users/ryantalbot/opt/anaconda3/envs/tf2/lib/python3.9/site-packages/sklearn/metrics/_classification.py:1469: UndefinedMetricWarning: Precision and F-score are ill-defined and being set to 0.0 in labels with no predicted samples. Use `zero_division` parameter to control this behavior.\n",
      "  _warn_prf(average, modifier, msg_start, len(result))\n",
      "/Users/ryantalbot/opt/anaconda3/envs/tf2/lib/python3.9/site-packages/sklearn/metrics/_classification.py:1469: UndefinedMetricWarning: Precision and F-score are ill-defined and being set to 0.0 in labels with no predicted samples. Use `zero_division` parameter to control this behavior.\n",
      "  _warn_prf(average, modifier, msg_start, len(result))\n",
      "/Users/ryantalbot/opt/anaconda3/envs/tf2/lib/python3.9/site-packages/sklearn/metrics/_classification.py:1469: UndefinedMetricWarning: Precision and F-score are ill-defined and being set to 0.0 in labels with no predicted samples. Use `zero_division` parameter to control this behavior.\n",
      "  _warn_prf(average, modifier, msg_start, len(result))\n",
      "/Users/ryantalbot/opt/anaconda3/envs/tf2/lib/python3.9/site-packages/sklearn/metrics/_classification.py:1469: UndefinedMetricWarning: Precision and F-score are ill-defined and being set to 0.0 in labels with no predicted samples. Use `zero_division` parameter to control this behavior.\n",
      "  _warn_prf(average, modifier, msg_start, len(result))\n"
     ]
    },
    {
     "name": "stdout",
     "output_type": "stream",
     "text": [
      "Classifier: Random Forest\n",
      "Accuracy: 0.9286\n",
      "Classification Report:\n",
      "              precision    recall  f1-score   support\n",
      "\n",
      "           0       0.93      1.00      0.96        26\n",
      "           1       0.00      0.00      0.00         2\n",
      "\n",
      "    accuracy                           0.93        28\n",
      "   macro avg       0.46      0.50      0.48        28\n",
      "weighted avg       0.86      0.93      0.89        28\n",
      "\n",
      "Confusion Matrix:\n",
      "[[26  0]\n",
      " [ 2  0]]\n",
      "\n",
      "Classifier: AdaBoost\n",
      "Accuracy: 0.9643\n",
      "Classification Report:\n",
      "              precision    recall  f1-score   support\n",
      "\n",
      "           0       1.00      0.96      0.98        26\n",
      "           1       0.67      1.00      0.80         2\n",
      "\n",
      "    accuracy                           0.96        28\n",
      "   macro avg       0.83      0.98      0.89        28\n",
      "weighted avg       0.98      0.96      0.97        28\n",
      "\n",
      "Confusion Matrix:\n",
      "[[25  1]\n",
      " [ 0  2]]\n",
      "\n",
      "Classifier: SVM\n",
      "Accuracy: 0.9286\n",
      "Classification Report:\n",
      "              precision    recall  f1-score   support\n",
      "\n",
      "           0       0.93      1.00      0.96        26\n",
      "           1       0.00      0.00      0.00         2\n",
      "\n",
      "    accuracy                           0.93        28\n",
      "   macro avg       0.46      0.50      0.48        28\n",
      "weighted avg       0.86      0.93      0.89        28\n",
      "\n",
      "Confusion Matrix:\n",
      "[[26  0]\n",
      " [ 2  0]]\n",
      "\n",
      "Classifier: K-Nearest Neighbors\n",
      "Accuracy: 0.9286\n",
      "Classification Report:\n",
      "              precision    recall  f1-score   support\n",
      "\n",
      "           0       0.93      1.00      0.96        26\n",
      "           1       0.00      0.00      0.00         2\n",
      "\n",
      "    accuracy                           0.93        28\n",
      "   macro avg       0.46      0.50      0.48        28\n",
      "weighted avg       0.86      0.93      0.89        28\n",
      "\n",
      "Confusion Matrix:\n",
      "[[26  0]\n",
      " [ 2  0]]\n",
      "\n",
      "Classifier: Decision Tree\n",
      "Accuracy: 0.9643\n",
      "Classification Report:\n",
      "              precision    recall  f1-score   support\n",
      "\n",
      "           0       1.00      0.96      0.98        26\n",
      "           1       0.67      1.00      0.80         2\n",
      "\n",
      "    accuracy                           0.96        28\n",
      "   macro avg       0.83      0.98      0.89        28\n",
      "weighted avg       0.98      0.96      0.97        28\n",
      "\n",
      "Confusion Matrix:\n",
      "[[25  1]\n",
      " [ 0  2]]\n",
      "\n",
      "Classifier: Naive Bayes\n",
      "Accuracy: 0.6786\n",
      "Classification Report:\n",
      "              precision    recall  f1-score   support\n",
      "\n",
      "           0       0.90      0.73      0.81        26\n",
      "           1       0.00      0.00      0.00         2\n",
      "\n",
      "    accuracy                           0.68        28\n",
      "   macro avg       0.45      0.37      0.40        28\n",
      "weighted avg       0.84      0.68      0.75        28\n",
      "\n",
      "Confusion Matrix:\n",
      "[[19  7]\n",
      " [ 2  0]]\n",
      "\n",
      "Classifier: Neural Network\n",
      "Accuracy: 0.9286\n",
      "Classification Report:\n",
      "              precision    recall  f1-score   support\n",
      "\n",
      "           0       0.93      1.00      0.96        26\n",
      "           1       0.00      0.00      0.00         2\n",
      "\n",
      "    accuracy                           0.93        28\n",
      "   macro avg       0.46      0.50      0.48        28\n",
      "weighted avg       0.86      0.93      0.89        28\n",
      "\n",
      "Confusion Matrix:\n",
      "[[26  0]\n",
      " [ 2  0]]\n",
      "\n"
     ]
    },
    {
     "name": "stderr",
     "output_type": "stream",
     "text": [
      "/Users/ryantalbot/opt/anaconda3/envs/tf2/lib/python3.9/site-packages/sklearn/neural_network/_multilayer_perceptron.py:691: ConvergenceWarning: Stochastic Optimizer: Maximum iterations (200) reached and the optimization hasn't converged yet.\n",
      "  warnings.warn(\n",
      "/Users/ryantalbot/opt/anaconda3/envs/tf2/lib/python3.9/site-packages/sklearn/metrics/_classification.py:1469: UndefinedMetricWarning: Precision and F-score are ill-defined and being set to 0.0 in labels with no predicted samples. Use `zero_division` parameter to control this behavior.\n",
      "  _warn_prf(average, modifier, msg_start, len(result))\n",
      "/Users/ryantalbot/opt/anaconda3/envs/tf2/lib/python3.9/site-packages/sklearn/metrics/_classification.py:1469: UndefinedMetricWarning: Precision and F-score are ill-defined and being set to 0.0 in labels with no predicted samples. Use `zero_division` parameter to control this behavior.\n",
      "  _warn_prf(average, modifier, msg_start, len(result))\n",
      "/Users/ryantalbot/opt/anaconda3/envs/tf2/lib/python3.9/site-packages/sklearn/metrics/_classification.py:1469: UndefinedMetricWarning: Precision and F-score are ill-defined and being set to 0.0 in labels with no predicted samples. Use `zero_division` parameter to control this behavior.\n",
      "  _warn_prf(average, modifier, msg_start, len(result))\n"
     ]
    }
   ],
   "source": [
    "\n",
    "y = df['medal']\n",
    "X = df.drop(columns=['medal'])\n",
    "\n",
    "# Split the data into training and testing sets\n",
    "X_train, X_test, y_train, y_test = train_test_split(X, y, test_size=0.33, random_state=49)\n",
    "\n",
    "# Initialize classifiers\n",
    "classifiers = {\n",
    "    \"Random Forest\": RandomForestClassifier(),\n",
    "    \"AdaBoost\": AdaBoostClassifier(),\n",
    "    \"SVM\": SVC(),\n",
    "    \"K-Nearest Neighbors\": KNeighborsClassifier(),\n",
    "    \"Decision Tree\": DecisionTreeClassifier(),\n",
    "    \"Naive Bayes\": GaussianNB(),\n",
    "    \"Neural Network\": MLPClassifier(),\n",
    "}\n",
    "\n",
    "results = {}\n",
    "\n",
    "# Iterate through each classifier\n",
    "for name, clf in classifiers.items():\n",
    "    # Create a pipeline with StandardScaler for classifiers that require it\n",
    "    if name in [\"SVM\", \"K-Nearest Neighbors\", \"Neural Network\"]:\n",
    "        clf = make_pipeline(StandardScaler(), clf)\n",
    "\n",
    "    # Fit the model to the training data\n",
    "    clf.fit(X_train, y_train)\n",
    "\n",
    "    # Make predictions on the test data\n",
    "    y_pred = clf.predict(X_test)\n",
    "\n",
    "    # Evaluate the model's performance\n",
    "    accuracy = accuracy_score(y_test, y_pred)\n",
    "    report = classification_report(y_test, y_pred)\n",
    "    conf_matrix = confusion_matrix(y_test, y_pred)\n",
    "\n",
    "    results[name] = {\n",
    "        \"accuracy\": accuracy,\n",
    "        \"classification_report\": report,\n",
    "        \"confusion_matrix\": conf_matrix,\n",
    "    }\n",
    "\n",
    "# Print the results\n",
    "for name, result in results.items():\n",
    "    print(f\"Classifier: {name}\")\n",
    "    print(f\"Accuracy: {result['accuracy']:.4f}\")\n",
    "    print(f\"Classification Report:\\n{result['classification_report']}\")\n",
    "    print(f\"Confusion Matrix:\\n{result['confusion_matrix']}\\n\")\n"
   ]
  },
  {
   "cell_type": "markdown",
   "id": "0581b526",
   "metadata": {},
   "source": [
    "Classifier: AdaBoost\n",
    "Accuracy: 0.9643\n",
    "\n",
    "Classifier: Decision Tree\n",
    "Accuracy: 0.9643"
   ]
  },
  {
   "cell_type": "code",
   "execution_count": 15,
   "id": "7ab18c0a",
   "metadata": {
    "scrolled": true
   },
   "outputs": [
    {
     "data": {
      "text/html": [
       "<div>\n",
       "<style scoped>\n",
       "    .dataframe tbody tr th:only-of-type {\n",
       "        vertical-align: middle;\n",
       "    }\n",
       "\n",
       "    .dataframe tbody tr th {\n",
       "        vertical-align: top;\n",
       "    }\n",
       "\n",
       "    .dataframe thead th {\n",
       "        text-align: right;\n",
       "    }\n",
       "</style>\n",
       "<table border=\"1\" class=\"dataframe\">\n",
       "  <thead>\n",
       "    <tr style=\"text-align: right;\">\n",
       "      <th></th>\n",
       "      <th>Rank</th>\n",
       "      <th>D Score</th>\n",
       "      <th>E Score</th>\n",
       "      <th>Pen.</th>\n",
       "      <th>Total</th>\n",
       "      <th>year</th>\n",
       "      <th>medal</th>\n",
       "      <th>Name</th>\n",
       "      <th>nation</th>\n",
       "    </tr>\n",
       "  </thead>\n",
       "  <tbody>\n",
       "    <tr>\n",
       "      <th>0</th>\n",
       "      <td>1</td>\n",
       "      <td>5.6</td>\n",
       "      <td>9.366</td>\n",
       "      <td>0.0</td>\n",
       "      <td>14.949</td>\n",
       "      <td>2019</td>\n",
       "      <td>0</td>\n",
       "      <td>27</td>\n",
       "      <td>22</td>\n",
       "    </tr>\n",
       "    <tr>\n",
       "      <th>1</th>\n",
       "      <td>2</td>\n",
       "      <td>5.6</td>\n",
       "      <td>9.400</td>\n",
       "      <td>0.0</td>\n",
       "      <td>14.900</td>\n",
       "      <td>2019</td>\n",
       "      <td>0</td>\n",
       "      <td>38</td>\n",
       "      <td>6</td>\n",
       "    </tr>\n",
       "    <tr>\n",
       "      <th>2</th>\n",
       "      <td>3</td>\n",
       "      <td>5.4</td>\n",
       "      <td>9.166</td>\n",
       "      <td>0.0</td>\n",
       "      <td>14.749</td>\n",
       "      <td>2019</td>\n",
       "      <td>0</td>\n",
       "      <td>15</td>\n",
       "      <td>25</td>\n",
       "    </tr>\n",
       "    <tr>\n",
       "      <th>3</th>\n",
       "      <td>4</td>\n",
       "      <td>6.0</td>\n",
       "      <td>8.525</td>\n",
       "      <td>0.0</td>\n",
       "      <td>14.579</td>\n",
       "      <td>2019</td>\n",
       "      <td>0</td>\n",
       "      <td>25</td>\n",
       "      <td>12</td>\n",
       "    </tr>\n",
       "    <tr>\n",
       "      <th>4</th>\n",
       "      <td>5</td>\n",
       "      <td>5.6</td>\n",
       "      <td>9.033</td>\n",
       "      <td>0.0</td>\n",
       "      <td>14.566</td>\n",
       "      <td>2019</td>\n",
       "      <td>1</td>\n",
       "      <td>58</td>\n",
       "      <td>19</td>\n",
       "    </tr>\n",
       "  </tbody>\n",
       "</table>\n",
       "</div>"
      ],
      "text/plain": [
       "   Rank  D Score  E Score  Pen.   Total  year  medal  Name  nation\n",
       "0     1      5.6    9.366   0.0  14.949  2019      0    27      22\n",
       "1     2      5.6    9.400   0.0  14.900  2019      0    38       6\n",
       "2     3      5.4    9.166   0.0  14.749  2019      0    15      25\n",
       "3     4      6.0    8.525   0.0  14.579  2019      0    25      12\n",
       "4     5      5.6    9.033   0.0  14.566  2019      1    58      19"
      ]
     },
     "execution_count": 15,
     "metadata": {},
     "output_type": "execute_result"
    }
   ],
   "source": [
    "df.head()"
   ]
  },
  {
   "cell_type": "code",
   "execution_count": 16,
   "id": "254c277b",
   "metadata": {},
   "outputs": [
    {
     "data": {
      "text/html": [
       "<div>\n",
       "<style scoped>\n",
       "    .dataframe tbody tr th:only-of-type {\n",
       "        vertical-align: middle;\n",
       "    }\n",
       "\n",
       "    .dataframe tbody tr th {\n",
       "        vertical-align: top;\n",
       "    }\n",
       "\n",
       "    .dataframe thead th {\n",
       "        text-align: right;\n",
       "    }\n",
       "</style>\n",
       "<table border=\"1\" class=\"dataframe\">\n",
       "  <thead>\n",
       "    <tr style=\"text-align: right;\">\n",
       "      <th></th>\n",
       "      <th>Rank</th>\n",
       "      <th>D Score</th>\n",
       "      <th>E Score</th>\n",
       "      <th>Pen.</th>\n",
       "      <th>Total</th>\n",
       "      <th>year</th>\n",
       "      <th>Name</th>\n",
       "      <th>nation</th>\n",
       "    </tr>\n",
       "  </thead>\n",
       "  <tbody>\n",
       "    <tr>\n",
       "      <th>0</th>\n",
       "      <td>69.0</td>\n",
       "      <td>4.0</td>\n",
       "      <td>8.966</td>\n",
       "      <td>0.0</td>\n",
       "      <td>12.966</td>\n",
       "      <td>2023</td>\n",
       "      <td>241</td>\n",
       "      <td>67</td>\n",
       "    </tr>\n",
       "    <tr>\n",
       "      <th>1</th>\n",
       "      <td>20.0</td>\n",
       "      <td>4.8</td>\n",
       "      <td>9.033</td>\n",
       "      <td>0.1</td>\n",
       "      <td>13.733</td>\n",
       "      <td>2022</td>\n",
       "      <td>502</td>\n",
       "      <td>30</td>\n",
       "    </tr>\n",
       "    <tr>\n",
       "      <th>2</th>\n",
       "      <td>97.0</td>\n",
       "      <td>4.8</td>\n",
       "      <td>9.000</td>\n",
       "      <td>0.3</td>\n",
       "      <td>13.500</td>\n",
       "      <td>2022</td>\n",
       "      <td>502</td>\n",
       "      <td>30</td>\n",
       "    </tr>\n",
       "    <tr>\n",
       "      <th>3</th>\n",
       "      <td>36.0</td>\n",
       "      <td>5.2</td>\n",
       "      <td>9.200</td>\n",
       "      <td>0.3</td>\n",
       "      <td>14.100</td>\n",
       "      <td>2022</td>\n",
       "      <td>502</td>\n",
       "      <td>30</td>\n",
       "    </tr>\n",
       "    <tr>\n",
       "      <th>4</th>\n",
       "      <td>126.0</td>\n",
       "      <td>5.2</td>\n",
       "      <td>8.000</td>\n",
       "      <td>0.0</td>\n",
       "      <td>13.200</td>\n",
       "      <td>2023</td>\n",
       "      <td>502</td>\n",
       "      <td>30</td>\n",
       "    </tr>\n",
       "  </tbody>\n",
       "</table>\n",
       "</div>"
      ],
      "text/plain": [
       "    Rank  D Score  E Score  Pen.   Total  year  Name  nation\n",
       "0   69.0      4.0    8.966   0.0  12.966  2023   241      67\n",
       "1   20.0      4.8    9.033   0.1  13.733  2022   502      30\n",
       "2   97.0      4.8    9.000   0.3  13.500  2022   502      30\n",
       "3   36.0      5.2    9.200   0.3  14.100  2022   502      30\n",
       "4  126.0      5.2    8.000   0.0  13.200  2023   502      30"
      ]
     },
     "execution_count": 16,
     "metadata": {},
     "output_type": "execute_result"
    }
   ],
   "source": [
    "olymp.head()\n"
   ]
  },
  {
   "cell_type": "code",
   "execution_count": 110,
   "id": "826a918c",
   "metadata": {},
   "outputs": [],
   "source": [
    "df=dfz.copy()"
   ]
  },
  {
   "cell_type": "code",
   "execution_count": 138,
   "id": "a49a6104",
   "metadata": {},
   "outputs": [
    {
     "name": "stdout",
     "output_type": "stream",
     "text": [
      "AdaBoost Classifier\n",
      "Accuracy: 0.9643\n",
      "Classification Report:\n",
      "              precision    recall  f1-score   support\n",
      "\n",
      "           0       1.00      0.96      0.98        26\n",
      "           1       0.67      1.00      0.80         2\n",
      "\n",
      "    accuracy                           0.96        28\n",
      "   macro avg       0.83      0.98      0.89        28\n",
      "weighted avg       0.98      0.96      0.97        28\n",
      "\n",
      "Confusion Matrix:\n",
      "[[25  1]\n",
      " [ 0  2]]\n"
     ]
    }
   ],
   "source": [
    "y = df['medal']\n",
    "X = df.drop(columns=['medal'])\n",
    "\n",
    "# Split the data into training and testing sets\n",
    "X_train, X_test, y_train, y_test = train_test_split(X, y, test_size=0.33, random_state=49)\n",
    "\n",
    "# Initialize the AdaBoost classifier\n",
    "# CHANGING LEARNIN RATE TO 0.31 RESULTS IN 1.000 \n",
    "clf = AdaBoostClassifier(n_estimators=70, learning_rate=.321)\n",
    "\n",
    "# Fit the model to the training data\n",
    "clf.fit(X_train, y_train)\n",
    "\n",
    "# Make predictions on the test data\n",
    "y_pred = clf.predict(X_test)\n",
    "\n",
    "# Evaluate the model's performance\n",
    "accuracy = accuracy_score(y_test, y_pred)\n",
    "report = classification_report(y_test, y_pred)\n",
    "conf_matrix = confusion_matrix(y_test, y_pred)\n",
    "\n",
    "# Print the results\n",
    "print(\"AdaBoost Classifier\")\n",
    "print(f\"Accuracy: {accuracy:.4f}\")\n",
    "print(f\"Classification Report:\\n{report}\")\n",
    "print(f\"Confusion Matrix:\\n{conf_matrix}\")"
   ]
  },
  {
   "cell_type": "code",
   "execution_count": 139,
   "id": "ece0d060",
   "metadata": {},
   "outputs": [],
   "source": [
    "olymp=olympz.copy()"
   ]
  },
  {
   "cell_type": "code",
   "execution_count": 140,
   "id": "6eead1fe",
   "metadata": {},
   "outputs": [],
   "source": [
    "y_pred = clf.predict(olymp)"
   ]
  },
  {
   "cell_type": "code",
   "execution_count": 141,
   "id": "854c9aee",
   "metadata": {
    "scrolled": true
   },
   "outputs": [],
   "source": [
    "ypreds  = pd.Series(y_pred)\n",
    "olymp['ypred']=ypreds\n"
   ]
  },
  {
   "cell_type": "code",
   "execution_count": 142,
   "id": "818ec271",
   "metadata": {},
   "outputs": [
    {
     "data": {
      "text/plain": [
       "ypred\n",
       "0    3075\n",
       "1      24\n",
       "Name: count, dtype: int64"
      ]
     },
     "execution_count": 142,
     "metadata": {},
     "output_type": "execute_result"
    }
   ],
   "source": [
    "olymp['ypred'].value_counts()"
   ]
  },
  {
   "cell_type": "code",
   "execution_count": 143,
   "id": "938cf148",
   "metadata": {},
   "outputs": [],
   "source": [
    "filtered_df = olymp[olymp['ypred'] == 1]"
   ]
  },
  {
   "cell_type": "code",
   "execution_count": 144,
   "id": "b1d50ae5",
   "metadata": {},
   "outputs": [
    {
     "data": {
      "text/plain": [
       "array([ 58, 272,  16, 271])"
      ]
     },
     "execution_count": 144,
     "metadata": {},
     "output_type": "execute_result"
    }
   ],
   "source": [
    "filtered_df['Name'].unique()"
   ]
  },
  {
   "cell_type": "code",
   "execution_count": 145,
   "id": "86c4f863",
   "metadata": {},
   "outputs": [],
   "source": [
    "name_encoded_values = [ 58, 272,  16, 271]\n",
    "\n",
    "# Filter the DataFrame to get the corresponding \"Name\" values\n",
    "result = vtnames.loc[vtnames['Name_encoded'].isin(name_encoded_values), 'Name']\n"
   ]
  },
  {
   "cell_type": "code",
   "execution_count": 147,
   "id": "2ef5fcb7",
   "metadata": {},
   "outputs": [
    {
     "data": {
      "text/plain": [
       "array(['artem dolgopyat', 'houssem eddine hamadouche',\n",
       "       'ahmed anis maoudj', 'hillal metidji'], dtype=object)"
      ]
     },
     "execution_count": 147,
     "metadata": {},
     "output_type": "execute_result"
    }
   ],
   "source": [
    "result.unique()"
   ]
  },
  {
   "cell_type": "code",
   "execution_count": 148,
   "id": "911cf451",
   "metadata": {},
   "outputs": [],
   "source": [
    "vtolymp[\"Name\"]=vtolymp[\"Name\"].str.lower()"
   ]
  },
  {
   "cell_type": "code",
   "execution_count": 149,
   "id": "56e2262c",
   "metadata": {},
   "outputs": [],
   "source": [
    "names_to_filter = ['artem dolgopyat', 'houssem eddine hamadouche',\n",
    "       'ahmed anis maoudj', 'hillal metidji']\n",
    "\n",
    "# Filter the DataFrame to get rows with the specified \"Name\" values\n",
    "result = vtolymp[vtolymp['Name'].isin(names_to_filter)]"
   ]
  },
  {
   "cell_type": "code",
   "execution_count": 150,
   "id": "62f7d8cd",
   "metadata": {},
   "outputs": [
    {
     "data": {
      "text/plain": [
       "Country\n",
       "ISR    83\n",
       "ALG    21\n",
       "Name: count, dtype: int64"
      ]
     },
     "execution_count": 150,
     "metadata": {},
     "output_type": "execute_result"
    }
   ],
   "source": [
    "result['Country'].value_counts()"
   ]
  },
  {
   "cell_type": "code",
   "execution_count": 151,
   "id": "1baf5a63",
   "metadata": {},
   "outputs": [
    {
     "data": {
      "text/html": [
       "<div>\n",
       "<style scoped>\n",
       "    .dataframe tbody tr th:only-of-type {\n",
       "        vertical-align: middle;\n",
       "    }\n",
       "\n",
       "    .dataframe tbody tr th {\n",
       "        vertical-align: top;\n",
       "    }\n",
       "\n",
       "    .dataframe thead th {\n",
       "        text-align: right;\n",
       "    }\n",
       "</style>\n",
       "<table border=\"1\" class=\"dataframe\">\n",
       "  <thead>\n",
       "    <tr style=\"text-align: right;\">\n",
       "      <th></th>\n",
       "      <th>Name</th>\n",
       "      <th>Country</th>\n",
       "      <th>Date</th>\n",
       "      <th>Gender</th>\n",
       "      <th>Competition</th>\n",
       "      <th>Round</th>\n",
       "      <th>Location</th>\n",
       "      <th>Apparatus</th>\n",
       "      <th>Rank</th>\n",
       "      <th>D_Score</th>\n",
       "      <th>E_Score</th>\n",
       "      <th>Penalty</th>\n",
       "      <th>Score</th>\n",
       "      <th>Total_Score</th>\n",
       "    </tr>\n",
       "  </thead>\n",
       "  <tbody>\n",
       "  </tbody>\n",
       "</table>\n",
       "</div>"
      ],
      "text/plain": [
       "Empty DataFrame\n",
       "Columns: [Name, Country, Date, Gender, Competition, Round, Location, Apparatus, Rank, D_Score, E_Score, Penalty, Score, Total_Score]\n",
       "Index: []"
      ]
     },
     "execution_count": 151,
     "metadata": {},
     "output_type": "execute_result"
    }
   ],
   "source": [
    "result[result['Country']=='USA']"
   ]
  },
  {
   "cell_type": "code",
   "execution_count": null,
   "id": "77005856",
   "metadata": {},
   "outputs": [],
   "source": []
  }
 ],
 "metadata": {
  "kernelspec": {
   "display_name": "Python 3 (ipykernel)",
   "language": "python",
   "name": "python3"
  },
  "language_info": {
   "codemirror_mode": {
    "name": "ipython",
    "version": 3
   },
   "file_extension": ".py",
   "mimetype": "text/x-python",
   "name": "python",
   "nbconvert_exporter": "python",
   "pygments_lexer": "ipython3",
   "version": "3.9.12"
  }
 },
 "nbformat": 4,
 "nbformat_minor": 5
}
