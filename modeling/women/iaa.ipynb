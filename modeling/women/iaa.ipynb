{
 "cells": [
  {
   "cell_type": "markdown",
   "id": "7d31b7d3",
   "metadata": {},
   "source": [
    "# USA potential medalists: jordan chiles\n",
    "## # k-folds cv\n",
    "\n",
    "['jessica gadirova', 'jordan chiles']"
   ]
  },
  {
   "cell_type": "code",
   "execution_count": 1,
   "id": "df404e80",
   "metadata": {},
   "outputs": [],
   "source": [
    "import pandas as pd\n",
    "import numpy as np\n",
    "from scipy import stats\n",
    "from mlxtend.preprocessing import minmax_scaling\n",
    "import seaborn as sns\n",
    "import matplotlib.pyplot as plt\n",
    "from matplotlib.colors import ListedColormap\n",
    "from sklearn.datasets import make_circles, make_classification, make_moons\n",
    "from sklearn.discriminant_analysis import QuadraticDiscriminantAnalysis\n",
    "from sklearn.ensemble import AdaBoostClassifier, RandomForestClassifier\n",
    "from sklearn.gaussian_process import GaussianProcessClassifier\n",
    "from sklearn.gaussian_process.kernels import RBF\n",
    "from sklearn.inspection import DecisionBoundaryDisplay\n",
    "from sklearn.model_selection import train_test_split\n",
    "from sklearn.naive_bayes import GaussianNB\n",
    "from sklearn.neighbors import KNeighborsClassifier\n",
    "from sklearn.neural_network import MLPClassifier\n",
    "from sklearn.pipeline import make_pipeline\n",
    "from sklearn.preprocessing import StandardScaler\n",
    "from sklearn.svm import SVC\n",
    "from sklearn.tree import DecisionTreeClassifier\n",
    "from sklearn import svm\n",
    "from sklearn.metrics import accuracy_score\n",
    "from sklearn.metrics import classification_report, fbeta_score\n",
    "from sklearn.metrics import confusion_matrix\n",
    "from sklearn.dummy import DummyClassifier\n",
    "import warnings"
   ]
  },
  {
   "cell_type": "code",
   "execution_count": 2,
   "id": "5af3acfa",
   "metadata": {},
   "outputs": [],
   "source": [
    "warnings.filterwarnings(\"ignore\")"
   ]
  },
  {
   "cell_type": "code",
   "execution_count": 3,
   "id": "da73eac3",
   "metadata": {},
   "outputs": [],
   "source": [
    "df = pd.read_csv('../../Combine_Data/women/iaa_encoded.csv')\n",
    "iaaolymp = pd.read_csv('../../Combine_Data/women/iaa2024.csv')\n",
    "olymp = pd.read_csv('../../Combine_Data/women/encoded_w_olympics_iaa.csv')\n",
    "iaanames = pd.read_csv('../../Combine_Data/women/encoded_w_olympics_iaanames.csv')"
   ]
  },
  {
   "cell_type": "markdown",
   "id": "fa50a8a5",
   "metadata": {},
   "source": [
    "# clean df and olymp"
   ]
  },
  {
   "cell_type": "code",
   "execution_count": 4,
   "id": "1d437cfb",
   "metadata": {
    "scrolled": true
   },
   "outputs": [],
   "source": [
    "df.replace('DNS', 0, inplace=True)\n"
   ]
  },
  {
   "cell_type": "code",
   "execution_count": 5,
   "id": "1f4eedbc",
   "metadata": {},
   "outputs": [],
   "source": [
    "columns_to_convert = ['VT', 'UB', 'BB', 'FX']\n",
    "df[columns_to_convert] = df[columns_to_convert].astype(float)"
   ]
  },
  {
   "cell_type": "code",
   "execution_count": 6,
   "id": "4e3959bb",
   "metadata": {},
   "outputs": [],
   "source": [
    "new_order = ['Name', 'Nation', 'Rank', 'VT', 'UB', 'BB', 'FX', 'AA', 'year', 'medal', \n",
    "       'round_final', 'round_qual']\n",
    "\n",
    "# Rearrange the columns\n",
    "df = df[new_order]"
   ]
  },
  {
   "cell_type": "code",
   "execution_count": 7,
   "id": "16f5605c",
   "metadata": {},
   "outputs": [],
   "source": [
    "new_order = ['Name', 'Nation', 'Rank', 'VT', 'UB', 'BB', 'FX', 'AA', 'year', \n",
    "       'round_final', 'round_qual']\n",
    "\n",
    "olymp = olymp[new_order]"
   ]
  },
  {
   "cell_type": "code",
   "execution_count": 8,
   "id": "6e6b7279",
   "metadata": {},
   "outputs": [],
   "source": [
    "y = df['medal']\n",
    "X = df.drop(columns=['medal'])"
   ]
  },
  {
   "cell_type": "markdown",
   "id": "49c86f35",
   "metadata": {},
   "source": [
    "# Base line using ZeroR"
   ]
  },
  {
   "cell_type": "code",
   "execution_count": 9,
   "id": "912c0ddd",
   "metadata": {},
   "outputs": [
    {
     "name": "stdout",
     "output_type": "stream",
     "text": [
      "ZeroR Classifier\n",
      "Accuracy: 0.9831\n",
      "Classification Report:\n",
      "              precision    recall  f1-score   support\n",
      "\n",
      "           0       0.98      1.00      0.99       175\n",
      "           1       0.00      0.00      0.00         3\n",
      "\n",
      "    accuracy                           0.98       178\n",
      "   macro avg       0.49      0.50      0.50       178\n",
      "weighted avg       0.97      0.98      0.97       178\n",
      "\n",
      "Confusion Matrix:\n",
      "[[175   0]\n",
      " [  3   0]]\n"
     ]
    }
   ],
   "source": [
    "\n",
    "X = df.drop(columns=['medal'])  \n",
    "y = df['medal']  \n",
    "\n",
    "X_train, X_test, y_train, y_test = train_test_split(X, y, test_size=0.33, random_state=90)\n",
    "\n",
    "# Initialize the ZeroR classifier\n",
    "zero_r_clf = DummyClassifier(strategy='most_frequent', random_state=42)\n",
    "\n",
    "zero_r_clf.fit(X_train, y_train)\n",
    "\n",
    "# Make predictions test data\n",
    "y_pred = zero_r_clf.predict(X_test)\n",
    "\n",
    "# Evaluate performance\n",
    "accuracy = accuracy_score(y_test, y_pred)\n",
    "report = classification_report(y_test, y_pred)\n",
    "conf_matrix = confusion_matrix(y_test, y_pred)\n",
    "\n",
    "print(\"ZeroR Classifier\")\n",
    "print(f\"Accuracy: {accuracy:.4f}\")\n",
    "print(f\"Classification Report:\\n{report}\")\n",
    "print(f\"Confusion Matrix:\\n{conf_matrix}\")\n"
   ]
  },
  {
   "cell_type": "markdown",
   "id": "71033da2",
   "metadata": {},
   "source": [
    "# Model Comparison\n"
   ]
  },
  {
   "cell_type": "code",
   "execution_count": 10,
   "id": "3f4b4700",
   "metadata": {
    "scrolled": false
   },
   "outputs": [
    {
     "name": "stdout",
     "output_type": "stream",
     "text": [
      "Classifier: Random Forest\n",
      "Accuracy: 0.9820\n",
      "F2-Score: 0.0000\n",
      "Classification Report:\n",
      "              precision    recall  f1-score   support\n",
      "\n",
      "           0       0.98      1.00      0.99       164\n",
      "           1       0.00      0.00      0.00         3\n",
      "\n",
      "    accuracy                           0.98       167\n",
      "   macro avg       0.49      0.50      0.50       167\n",
      "weighted avg       0.96      0.98      0.97       167\n",
      "\n",
      "Confusion Matrix:\n",
      "[[164   0]\n",
      " [  3   0]]\n",
      "\n",
      "Classifier: AdaBoost\n",
      "Accuracy: 0.9880\n",
      "F2-Score: 0.3846\n",
      "Classification Report:\n",
      "              precision    recall  f1-score   support\n",
      "\n",
      "           0       0.99      1.00      0.99       164\n",
      "           1       1.00      0.33      0.50         3\n",
      "\n",
      "    accuracy                           0.99       167\n",
      "   macro avg       0.99      0.67      0.75       167\n",
      "weighted avg       0.99      0.99      0.99       167\n",
      "\n",
      "Confusion Matrix:\n",
      "[[164   0]\n",
      " [  2   1]]\n",
      "\n",
      "Classifier: SVM\n",
      "Accuracy: 0.9820\n",
      "F2-Score: 0.0000\n",
      "Classification Report:\n",
      "              precision    recall  f1-score   support\n",
      "\n",
      "           0       0.98      1.00      0.99       164\n",
      "           1       0.00      0.00      0.00         3\n",
      "\n",
      "    accuracy                           0.98       167\n",
      "   macro avg       0.49      0.50      0.50       167\n",
      "weighted avg       0.96      0.98      0.97       167\n",
      "\n",
      "Confusion Matrix:\n",
      "[[164   0]\n",
      " [  3   0]]\n",
      "\n",
      "Classifier: K-Nearest Neighbors\n",
      "Accuracy: 0.9820\n",
      "F2-Score: 0.0000\n",
      "Classification Report:\n",
      "              precision    recall  f1-score   support\n",
      "\n",
      "           0       0.98      1.00      0.99       164\n",
      "           1       0.00      0.00      0.00         3\n",
      "\n",
      "    accuracy                           0.98       167\n",
      "   macro avg       0.49      0.50      0.50       167\n",
      "weighted avg       0.96      0.98      0.97       167\n",
      "\n",
      "Confusion Matrix:\n",
      "[[164   0]\n",
      " [  3   0]]\n",
      "\n",
      "Classifier: Decision Tree\n",
      "Accuracy: 0.9701\n",
      "F2-Score: 0.3125\n",
      "Classification Report:\n",
      "              precision    recall  f1-score   support\n",
      "\n",
      "           0       0.99      0.98      0.98       164\n",
      "           1       0.25      0.33      0.29         3\n",
      "\n",
      "    accuracy                           0.97       167\n",
      "   macro avg       0.62      0.66      0.64       167\n",
      "weighted avg       0.97      0.97      0.97       167\n",
      "\n",
      "Confusion Matrix:\n",
      "[[161   3]\n",
      " [  2   1]]\n",
      "\n",
      "Classifier: Naive Bayes\n",
      "Accuracy: 0.9042\n",
      "F2-Score: 0.4839\n",
      "Classification Report:\n",
      "              precision    recall  f1-score   support\n",
      "\n",
      "           0       1.00      0.90      0.95       164\n",
      "           1       0.16      1.00      0.27         3\n",
      "\n",
      "    accuracy                           0.90       167\n",
      "   macro avg       0.58      0.95      0.61       167\n",
      "weighted avg       0.98      0.90      0.94       167\n",
      "\n",
      "Confusion Matrix:\n",
      "[[148  16]\n",
      " [  0   3]]\n",
      "\n",
      "Classifier: Neural Network\n",
      "Accuracy: 0.9820\n",
      "F2-Score: 0.0000\n",
      "Classification Report:\n",
      "              precision    recall  f1-score   support\n",
      "\n",
      "           0       0.98      1.00      0.99       164\n",
      "           1       0.00      0.00      0.00         3\n",
      "\n",
      "    accuracy                           0.98       167\n",
      "   macro avg       0.49      0.50      0.50       167\n",
      "weighted avg       0.96      0.98      0.97       167\n",
      "\n",
      "Confusion Matrix:\n",
      "[[164   0]\n",
      " [  3   0]]\n",
      "\n"
     ]
    }
   ],
   "source": [
    "y = df['medal']\n",
    "X = df.drop(columns=['medal'])\n",
    "\n",
    "# Split the data into training and testing sets\n",
    "# CHANGED RANDOM STATE TO HAVE A LARGER NUMBER OF VALUES IN TEST DF\n",
    "X_train, X_test, y_train, y_test = train_test_split(X, y, test_size=0.31, random_state=90)\n",
    "\n",
    "# Initialize classifiers\n",
    "classifiers = {\n",
    "    \"Random Forest\": RandomForestClassifier(),\n",
    "    \"AdaBoost\": AdaBoostClassifier(),\n",
    "    \"SVM\": SVC(),\n",
    "    \"K-Nearest Neighbors\": KNeighborsClassifier(),\n",
    "    \"Decision Tree\": DecisionTreeClassifier(),\n",
    "    \"Naive Bayes\": GaussianNB(),\n",
    "    \"Neural Network\": MLPClassifier(),\n",
    "}\n",
    "\n",
    "results = {}\n",
    "\n",
    "# Iterate through each classifier\n",
    "for name, clf in classifiers.items():\n",
    "    # Create a pipeline with StandardScaler for classifiers that require it\n",
    "    if name in [\"SVM\", \"K-Nearest Neighbors\", \"Neural Network\"]:\n",
    "        clf = make_pipeline(StandardScaler(), clf)\n",
    "\n",
    "    # Fit the model to the training data\n",
    "    clf.fit(X_train, y_train)\n",
    "\n",
    "    # Make predictions on the test data\n",
    "    y_pred = clf.predict(X_test)\n",
    "\n",
    "    # Evaluate the model's performance\n",
    "    accuracy = accuracy_score(y_test, y_pred)\n",
    "    report = classification_report(y_test, y_pred)\n",
    "    conf_matrix = confusion_matrix(y_test, y_pred)\n",
    "\n",
    "    beta = 2\n",
    "    f2_score = fbeta_score(y_test, y_pred, beta=beta)\n",
    "\n",
    "    results[name] = {\n",
    "        \"accuracy\": accuracy,\n",
    "        \"classification_report\": report,\n",
    "        \"confusion_matrix\": conf_matrix,\n",
    "        \"f2_score\": f2_score,\n",
    "    }\n",
    "    \n",
    "# Print the results\n",
    "for name, result in results.items():\n",
    "    print(f\"Classifier: {name}\")\n",
    "    print(f\"Accuracy: {result['accuracy']:.4f}\")\n",
    "    print(f\"F2-Score: {result['f2_score']:.4f}\")\n",
    "    print(f\"Classification Report:\\n{result['classification_report']}\")\n",
    "    print(f\"Confusion Matrix:\\n{result['confusion_matrix']}\\n\")\n"
   ]
  },
  {
   "cell_type": "markdown",
   "id": "44a4a931",
   "metadata": {},
   "source": [
    "# Feature Importance - no diff"
   ]
  },
  {
   "cell_type": "code",
   "execution_count": 11,
   "id": "baf43cba",
   "metadata": {},
   "outputs": [
    {
     "name": "stdout",
     "output_type": "stream",
     "text": [
      "Feature Importances:\n",
      "Name: 0.0000\n",
      "Nation: 0.2857\n",
      "Rank: 0.0000\n",
      "VT: 0.2857\n",
      "UB: 0.1429\n",
      "BB: 0.0000\n",
      "FX: 0.1429\n",
      "AA: 0.1429\n",
      "year: 0.0000\n",
      "round_final: 0.0000\n",
      "round_qual: 0.0000\n"
     ]
    },
    {
     "data": {
      "image/png": "[encoded data removed]",
      "text/plain": [
       "<Figure size 720x432 with 1 Axes>"
      ]
     },
     "metadata": {
      "needs_background": "light"
     },
     "output_type": "display_data"
    }
   ],
   "source": [
    "from sklearn.model_selection import train_test_split\n",
    "from sklearn.ensemble import AdaBoostClassifier\n",
    "\n",
    "y = df['medal']\n",
    "X = df.drop(columns=['medal'])\n",
    "\n",
    "X_train, X_test, y_train, y_test = train_test_split(X, y, test_size=0.33, random_state=90)\n",
    "\n",
    "# Initialize the AdaBoost classifier\n",
    "clf = AdaBoostClassifier( n_estimators=7)\n",
    "\n",
    "# Fit the model to the training data\n",
    "clf.fit(X_train, y_train)\n",
    "\n",
    "# Extract feature importances\n",
    "feature_importances = clf.feature_importances_\n",
    "\n",
    "# Print feature importances\n",
    "print(\"Feature Importances:\")\n",
    "for feature, importance in zip(X.columns, feature_importances):\n",
    "    print(f\"{feature}: {importance:.4f}\")\n",
    "\n",
    "    \n",
    "\n",
    "# Assuming you have X_train, X_test, y_train, y_test already defined and clf is trained\n",
    "\n",
    "# Extract feature importances\n",
    "feature_importances = clf.feature_importances_\n",
    "\n",
    "# Plot feature importances\n",
    "plt.figure(figsize=(10, 6))\n",
    "plt.barh(X.columns, feature_importances, color='skyblue')\n",
    "plt.xlabel('Feature Importance')\n",
    "plt.title('AdaBoost Classifier - Feature Importances')\n",
    "plt.show()"
   ]
  },
  {
   "cell_type": "code",
   "execution_count": 12,
   "id": "2bb8ed5f",
   "metadata": {},
   "outputs": [],
   "source": [
    "feats = df.drop(columns=['round_final', 'round_qual'],)"
   ]
  },
  {
   "cell_type": "markdown",
   "id": "9d7b9e0e",
   "metadata": {},
   "source": [
    "# k-folds cv"
   ]
  },
  {
   "cell_type": "code",
   "execution_count": 13,
   "id": "343e37f2",
   "metadata": {},
   "outputs": [
    {
     "name": "stdout",
     "output_type": "stream",
     "text": [
      "\n",
      "Fold 1\n",
      "Accuracy: 0.9583\n",
      "\n",
      "Fold 2\n",
      "Accuracy: 0.9861\n",
      "\n",
      "Fold 3\n",
      "Accuracy: 0.9861\n",
      "\n",
      "Fold 4\n",
      "Accuracy: 0.9861\n",
      "\n",
      "Fold 5\n",
      "Accuracy: 0.9718\n",
      "\n",
      "Average Accuracy across Folds: 0.9777\n",
      "\n",
      "AdaBoost Classifier\n",
      "Accuracy: 0.9907\n",
      "Classification Report:\n",
      "              precision    recall  f1-score   support\n",
      "\n",
      "           0       1.00      0.99      1.00       529\n",
      "           1       0.67      0.75      0.71         8\n",
      "\n",
      "    accuracy                           0.99       537\n",
      "   macro avg       0.83      0.87      0.85       537\n",
      "weighted avg       0.99      0.99      0.99       537\n",
      "\n",
      "Confusion Matrix:\n",
      "[[526   3]\n",
      " [  2   6]]\n"
     ]
    }
   ],
   "source": [
    "from sklearn.ensemble import AdaBoostClassifier\n",
    "from sklearn.model_selection import StratifiedKFold, train_test_split\n",
    "from sklearn.metrics import accuracy_score, classification_report, confusion_matrix\n",
    "\n",
    "# Assuming 'feats' is your DataFrame\n",
    "df = feats.copy()\n",
    "\n",
    "y = df['medal']\n",
    "X = df.drop(columns=['medal'])\n",
    "\n",
    "# Split the data into training and testing sets\n",
    "X_train, X_test, y_train, y_test = train_test_split(X, y, test_size=0.33, random_state=90)\n",
    "\n",
    "# Initialize the AdaBoost classifier\n",
    "# CHANGING LEARNIN RATE TO 0.31 RESULTS IN 1.000 \n",
    "clf = AdaBoostClassifier(n_estimators=7)\n",
    "\n",
    "# Initialize StratifiedKFold for k-fold cross-validation\n",
    "k_folds = 5\n",
    "stratified_kfold = StratifiedKFold(n_splits=k_folds, shuffle=True, random_state=42)\n",
    "\n",
    "# Initialize variables to store results\n",
    "accuracies = []\n",
    "\n",
    "# Iterate over folds for evaluation\n",
    "for fold, (train_index, test_index) in enumerate(stratified_kfold.split(X_train, y_train)):\n",
    "    print(f\"\\nFold {fold + 1}\")\n",
    "\n",
    "    # Split the data into training and testing sets for this fold\n",
    "    X_train_fold, X_val_fold = X_train.iloc[train_index], X_train.iloc[test_index]\n",
    "    y_train_fold, y_val_fold = y_train.iloc[train_index], y_train.iloc[test_index]\n",
    "\n",
    "    # Train the model for this fold\n",
    "    clf.fit(X_train_fold, y_train_fold)\n",
    "\n",
    "    # Make predictions on the validation data for this fold\n",
    "    y_pred = clf.predict(X_val_fold)\n",
    "\n",
    "    # Evaluate the model's performance for this fold\n",
    "    accuracy = accuracy_score(y_val_fold, y_pred)\n",
    "    accuracies.append(accuracy)\n",
    "\n",
    "    print(f\"Accuracy: {accuracy:.4f}\")\n",
    "\n",
    "# Calculate and print the average accuracy across folds\n",
    "average_accuracy = sum(accuracies) / k_folds\n",
    "print(f\"\\nAverage Accuracy across Folds: {average_accuracy:.4f}\")\n",
    "\n",
    "# Optionally, you can use the entire dataset to train the final model\n",
    "# clf.fit(X, y)\n",
    "\n",
    "# Make predictions on the entire dataset\n",
    "y_pred = clf.predict(X)\n",
    "\n",
    "# Evaluate the model's performance on the entire dataset\n",
    "accuracy = accuracy_score(y, y_pred)\n",
    "report = classification_report(y, y_pred)\n",
    "conf_matrix = confusion_matrix(y, y_pred)\n",
    "\n",
    "# Print the results for the entire dataset\n",
    "print(\"\\nAdaBoost Classifier\")\n",
    "print(f\"Accuracy: {accuracy:.4f}\")\n",
    "print(f\"Classification Report:\\n{report}\")\n",
    "print(f\"Confusion Matrix:\\n{conf_matrix}\")\n"
   ]
  },
  {
   "cell_type": "code",
   "execution_count": 13,
   "id": "1d6d1fe7",
   "metadata": {},
   "outputs": [
    {
     "name": "stdout",
     "output_type": "stream",
     "text": [
      "AdaBoost Classifier\n",
      "Accuracy: 0.9944\n",
      "Classification Report:\n",
      "              precision    recall  f1-score   support\n",
      "\n",
      "           0       0.99      1.00      1.00       175\n",
      "           1       1.00      0.67      0.80         3\n",
      "\n",
      "    accuracy                           0.99       178\n",
      "   macro avg       1.00      0.83      0.90       178\n",
      "weighted avg       0.99      0.99      0.99       178\n",
      "\n",
      "Confusion Matrix:\n",
      "[[175   0]\n",
      " [  1   2]]\n"
     ]
    }
   ],
   "source": [
    "df = feats.copy()\n",
    "\n",
    "y = df['medal']\n",
    "X = df.drop(columns=['medal'])\n",
    "\n",
    "X_train, X_test, y_train, y_test = train_test_split(X, y, test_size=0.33, random_state=90)\n",
    "\n",
    "# Initialize the AdaBoost classifier\n",
    "# CHANGING LEARNIN RATE TO 0.31 RESULTS IN 1.000 \n",
    "clf = AdaBoostClassifier( n_estimators=7)\n",
    "\n",
    "# Fit the model to the training data\n",
    "clf.fit(X_train, y_train)\n",
    "\n",
    "# Make predictions on the test data\n",
    "y_pred = clf.predict(X_test)\n",
    "\n",
    "# Evaluate the model's performance\n",
    "accuracy = accuracy_score(y_test, y_pred)\n",
    "report = classification_report(y_test, y_pred)\n",
    "conf_matrix = confusion_matrix(y_test, y_pred)\n",
    "\n",
    "# Print the results\n",
    "print(\"AdaBoost Classifier\")\n",
    "print(f\"Accuracy: {accuracy:.4f}\")\n",
    "print(f\"Classification Report:\\n{report}\")\n",
    "print(f\"Confusion Matrix:\\n{conf_matrix}\")"
   ]
  },
  {
   "cell_type": "markdown",
   "id": "f8cf9dac",
   "metadata": {},
   "source": [
    "# Final Model"
   ]
  },
  {
   "cell_type": "code",
   "execution_count": 14,
   "id": "18f8e1b7",
   "metadata": {},
   "outputs": [],
   "source": [
    "df = pd.read_csv('../../Combine_Data/women/iaa_encoded.csv')\n",
    "df.replace('DNS', 0, inplace=True)\n",
    "columns_to_convert = ['VT', 'UB', 'BB', 'FX']\n",
    "df[columns_to_convert] = df[columns_to_convert].astype(float)"
   ]
  },
  {
   "cell_type": "code",
   "execution_count": 15,
   "id": "c96c369c",
   "metadata": {},
   "outputs": [],
   "source": [
    "new_order = ['Name', 'Nation', 'Rank', 'VT', 'UB', 'BB', 'FX', 'AA', 'year', 'medal', \n",
    "       'round_final', 'round_qual']\n",
    "\n",
    "# Rearrange the columns\n",
    "df = df[new_order]"
   ]
  },
  {
   "cell_type": "code",
   "execution_count": 16,
   "id": "d4c079d2",
   "metadata": {},
   "outputs": [],
   "source": [
    "y = df['medal']\n",
    "X = df.drop(columns=['medal'])"
   ]
  },
  {
   "cell_type": "code",
   "execution_count": 17,
   "id": "7afb743b",
   "metadata": {},
   "outputs": [],
   "source": [
    "X_train, X_test, y_train, y_test = train_test_split(X, y, test_size=0.33, random_state=90)\n"
   ]
  },
  {
   "cell_type": "code",
   "execution_count": 18,
   "id": "e806f3b3",
   "metadata": {},
   "outputs": [
    {
     "name": "stdout",
     "output_type": "stream",
     "text": [
      "AdaBoost Classifier\n",
      "Accuracy: 0.9944\n",
      "Classification Report:\n",
      "              precision    recall  f1-score   support\n",
      "\n",
      "           0       0.99      1.00      1.00       175\n",
      "           1       1.00      0.67      0.80         3\n",
      "\n",
      "    accuracy                           0.99       178\n",
      "   macro avg       1.00      0.83      0.90       178\n",
      "weighted avg       0.99      0.99      0.99       178\n",
      "\n",
      "Confusion Matrix:\n",
      "[[175   0]\n",
      " [  1   2]]\n"
     ]
    }
   ],
   "source": [
    "# Initialize the AdaBoost classifier\n",
    "# CHANGING LEARNIN RATE TO 0.31 RESULTS IN 1.000 \n",
    "clf = AdaBoostClassifier( n_estimators=7)\n",
    "\n",
    "# Fit the model to the training data\n",
    "clf.fit(X_train, y_train)\n",
    "\n",
    "# Make predictions on the test data\n",
    "y_pred = clf.predict(X_test)\n",
    "\n",
    "# Evaluate the model's performance\n",
    "accuracy = accuracy_score(y_test, y_pred)\n",
    "report = classification_report(y_test, y_pred)\n",
    "conf_matrix = confusion_matrix(y_test, y_pred)\n",
    "\n",
    "# Print the results\n",
    "print(\"AdaBoost Classifier\")\n",
    "print(f\"Accuracy: {accuracy:.4f}\")\n",
    "print(f\"Classification Report:\\n{report}\")\n",
    "print(f\"Confusion Matrix:\\n{conf_matrix}\")"
   ]
  },
  {
   "cell_type": "code",
   "execution_count": 19,
   "id": "c2c4483c",
   "metadata": {},
   "outputs": [],
   "source": [
    "y_pred = clf.predict(olymp)\n"
   ]
  },
  {
   "cell_type": "code",
   "execution_count": 20,
   "id": "686d6e67",
   "metadata": {},
   "outputs": [
    {
     "data": {
      "text/plain": [
       "ypred\n",
       "0    817\n",
       "1      4\n",
       "Name: count, dtype: int64"
      ]
     },
     "execution_count": 20,
     "metadata": {},
     "output_type": "execute_result"
    }
   ],
   "source": [
    "ypreds  = pd.Series(y_pred)\n",
    "olymp['ypred']=ypreds\n",
    "olymp['ypred'].value_counts()"
   ]
  },
  {
   "cell_type": "code",
   "execution_count": 21,
   "id": "a514aeea",
   "metadata": {},
   "outputs": [
    {
     "data": {
      "text/plain": [
       "array([170, 173])"
      ]
     },
     "execution_count": 21,
     "metadata": {},
     "output_type": "execute_result"
    }
   ],
   "source": [
    "filtered_df = olymp[olymp['ypred'] == 1]\n",
    "filtered_df['Name'].unique()"
   ]
  },
  {
   "cell_type": "markdown",
   "id": "a925d49b",
   "metadata": {},
   "source": [
    "# iaanames used to match encoded names with actual names"
   ]
  },
  {
   "cell_type": "code",
   "execution_count": 22,
   "id": "86aacede",
   "metadata": {},
   "outputs": [
    {
     "data": {
      "text/plain": [
       "array(['jessica gadirova', 'jordan chiles'], dtype=object)"
      ]
     },
     "execution_count": 22,
     "metadata": {},
     "output_type": "execute_result"
    }
   ],
   "source": [
    "name_encoded_values = [170, 173]\n",
    "\n",
    "# Filter the DataFrame to get the corresponding \"Name\" values\n",
    "result = iaanames.loc[iaanames['Name_encoded'].isin(name_encoded_values), 'Athlete']\n",
    "result.unique() "
   ]
  },
  {
   "cell_type": "markdown",
   "id": "725c8fe6",
   "metadata": {},
   "source": [
    "# iaaolymp used to get country info from name list above"
   ]
  },
  {
   "cell_type": "code",
   "execution_count": 23,
   "id": "4b3a61a4",
   "metadata": {},
   "outputs": [],
   "source": [
    "iaaolymp[\"Athlete\"]=iaaolymp[\"Athlete\"].str.lower()"
   ]
  },
  {
   "cell_type": "code",
   "execution_count": 24,
   "id": "9b916c87",
   "metadata": {},
   "outputs": [],
   "source": [
    "names_to_filter =['jessica gadirova', 'jordan chiles']\n",
    "\n",
    "# Filter the DataFrame to get rows with the specified values\n",
    "result = iaaolymp[iaaolymp['Athlete'].isin(names_to_filter)]\n"
   ]
  },
  {
   "cell_type": "code",
   "execution_count": 25,
   "id": "49c004db",
   "metadata": {},
   "outputs": [
    {
     "data": {
      "text/plain": [
       "Nation\n",
       "none    4\n",
       "USA     2\n",
       "Name: count, dtype: int64"
      ]
     },
     "execution_count": 25,
     "metadata": {},
     "output_type": "execute_result"
    }
   ],
   "source": [
    "result['Nation'].value_counts()"
   ]
  },
  {
   "cell_type": "code",
   "execution_count": 26,
   "id": "978e96f0",
   "metadata": {},
   "outputs": [],
   "source": [
    "usa = result[result['Nation']=='USA']"
   ]
  },
  {
   "cell_type": "code",
   "execution_count": 27,
   "id": "dfd9a965",
   "metadata": {},
   "outputs": [
    {
     "data": {
      "text/plain": [
       "Athlete\n",
       "jordan chiles    2\n",
       "Name: count, dtype: int64"
      ]
     },
     "execution_count": 27,
     "metadata": {},
     "output_type": "execute_result"
    }
   ],
   "source": [
    "usa['Athlete'].value_counts()"
   ]
  },
  {
   "cell_type": "code",
   "execution_count": null,
   "id": "e0209370",
   "metadata": {},
   "outputs": [],
   "source": []
  }
 ],
 "metadata": {
  "kernelspec": {
   "display_name": "Python 3 (ipykernel)",
   "language": "python",
   "name": "python3"
  },
  "language_info": {
   "codemirror_mode": {
    "name": "ipython",
    "version": 3
   },
   "file_extension": ".py",
   "mimetype": "text/x-python",
   "name": "python",
   "nbconvert_exporter": "python",
   "pygments_lexer": "ipython3",
   "version": "3.8.18"
  }
 },
 "nbformat": 4,
 "nbformat_minor": 5
}
