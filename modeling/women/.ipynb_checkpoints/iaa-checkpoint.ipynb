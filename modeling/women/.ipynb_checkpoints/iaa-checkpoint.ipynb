{
 "cells": [
  {
   "cell_type": "markdown",
   "id": "7d31b7d3",
   "metadata": {},
   "source": [
    "# USA potential medalists: jordan chiles"
   ]
  },
  {
   "cell_type": "code",
   "execution_count": 1,
   "id": "df404e80",
   "metadata": {},
   "outputs": [],
   "source": [
    "import pandas as pd\n",
    "import numpy as np\n",
    "from scipy import stats\n",
    "from mlxtend.preprocessing import minmax_scaling\n",
    "import seaborn as sns\n",
    "import matplotlib.pyplot as plt\n",
    "from matplotlib.colors import ListedColormap\n",
    "from sklearn.datasets import make_circles, make_classification, make_moons\n",
    "from sklearn.discriminant_analysis import QuadraticDiscriminantAnalysis\n",
    "from sklearn.ensemble import AdaBoostClassifier, RandomForestClassifier\n",
    "from sklearn.gaussian_process import GaussianProcessClassifier\n",
    "from sklearn.gaussian_process.kernels import RBF\n",
    "from sklearn.inspection import DecisionBoundaryDisplay\n",
    "from sklearn.model_selection import train_test_split\n",
    "from sklearn.naive_bayes import GaussianNB\n",
    "from sklearn.neighbors import KNeighborsClassifier\n",
    "from sklearn.neural_network import MLPClassifier\n",
    "from sklearn.pipeline import make_pipeline\n",
    "from sklearn.preprocessing import StandardScaler\n",
    "from sklearn.svm import SVC\n",
    "from sklearn.tree import DecisionTreeClassifier\n",
    "from sklearn import svm\n",
    "from sklearn.metrics import accuracy_score\n",
    "from sklearn.metrics import classification_report\n",
    "from sklearn.metrics import confusion_matrix"
   ]
  },
  {
   "cell_type": "code",
   "execution_count": 2,
   "id": "da73eac3",
   "metadata": {},
   "outputs": [],
   "source": [
    "df = pd.read_csv('../../Combine_Data/women/iaa_encoded.csv')\n",
    "iaaolymp = pd.read_csv('../../Combine_Data/women/iaa2024.csv')\n",
    "olymp = pd.read_csv('../../Combine_Data/women/encoded_w_olympics_iaa.csv')\n",
    "iaanames = pd.read_csv('../../Combine_Data/women/encoded_w_olympics_iaanames.csv')"
   ]
  },
  {
   "cell_type": "code",
   "execution_count": 3,
   "id": "7a5fe8ee",
   "metadata": {
    "scrolled": true
   },
   "outputs": [
    {
     "name": "stdout",
     "output_type": "stream",
     "text": [
      "<class 'pandas.core.frame.DataFrame'>\n",
      "RangeIndex: 821 entries, 0 to 820\n",
      "Data columns (total 11 columns):\n",
      " #   Column       Non-Null Count  Dtype  \n",
      "---  ------       --------------  -----  \n",
      " 0   Rank         821 non-null    int64  \n",
      " 1   VT           821 non-null    float64\n",
      " 2   UB           821 non-null    float64\n",
      " 3   BB           821 non-null    float64\n",
      " 4   FX           821 non-null    float64\n",
      " 5   AA           821 non-null    float64\n",
      " 6   year         821 non-null    int64  \n",
      " 7   Name         821 non-null    int64  \n",
      " 8   Nation       821 non-null    int64  \n",
      " 9   round_final  821 non-null    bool   \n",
      " 10  round_qual   821 non-null    bool   \n",
      "dtypes: bool(2), float64(5), int64(4)\n",
      "memory usage: 59.5 KB\n"
     ]
    }
   ],
   "source": [
    "olymp.info()\n"
   ]
  },
  {
   "cell_type": "code",
   "execution_count": 4,
   "id": "1d437cfb",
   "metadata": {
    "scrolled": true
   },
   "outputs": [],
   "source": [
    "df.replace('DNS', 0, inplace=True)"
   ]
  },
  {
   "cell_type": "code",
   "execution_count": 5,
   "id": "1f4eedbc",
   "metadata": {},
   "outputs": [],
   "source": [
    "columns_to_convert = ['VT', 'UB', 'BB', 'FX']\n",
    "df[columns_to_convert] = df[columns_to_convert].astype(float)"
   ]
  },
  {
   "cell_type": "code",
   "execution_count": 6,
   "id": "238201ae",
   "metadata": {
    "scrolled": true
   },
   "outputs": [
    {
     "name": "stdout",
     "output_type": "stream",
     "text": [
      "<class 'pandas.core.frame.DataFrame'>\n",
      "RangeIndex: 537 entries, 0 to 536\n",
      "Data columns (total 12 columns):\n",
      " #   Column       Non-Null Count  Dtype  \n",
      "---  ------       --------------  -----  \n",
      " 0   Rank         537 non-null    int64  \n",
      " 1   VT           537 non-null    float64\n",
      " 2   UB           537 non-null    float64\n",
      " 3   BB           537 non-null    float64\n",
      " 4   FX           537 non-null    float64\n",
      " 5   AA           537 non-null    float64\n",
      " 6   year         537 non-null    int64  \n",
      " 7   medal        537 non-null    int64  \n",
      " 8   Name         537 non-null    int64  \n",
      " 9   Nation       537 non-null    int64  \n",
      " 10  round_final  537 non-null    bool   \n",
      " 11  round_qual   537 non-null    bool   \n",
      "dtypes: bool(2), float64(5), int64(5)\n",
      "memory usage: 43.1 KB\n"
     ]
    }
   ],
   "source": [
    "df.info()"
   ]
  },
  {
   "cell_type": "code",
   "execution_count": 7,
   "id": "d3789f6e",
   "metadata": {},
   "outputs": [
    {
     "data": {
      "text/plain": [
       "Index(['Rank', 'VT', 'UB', 'BB', 'FX', 'AA', 'year', 'medal', 'Name', 'Nation',\n",
       "       'round_final', 'round_qual'],\n",
       "      dtype='object')"
      ]
     },
     "execution_count": 7,
     "metadata": {},
     "output_type": "execute_result"
    }
   ],
   "source": [
    "df.columns"
   ]
  },
  {
   "cell_type": "code",
   "execution_count": 8,
   "id": "4e3959bb",
   "metadata": {},
   "outputs": [],
   "source": [
    "new_order = ['Name', 'Nation', 'Rank', 'VT', 'UB', 'BB', 'FX', 'AA', 'year', 'medal', \n",
    "       'round_final', 'round_qual']\n",
    "\n",
    "# Rearrange the columns\n",
    "df = df[new_order]"
   ]
  },
  {
   "cell_type": "code",
   "execution_count": 9,
   "id": "16f5605c",
   "metadata": {},
   "outputs": [],
   "source": [
    "new_order = ['Name', 'Nation', 'Rank', 'VT', 'UB', 'BB', 'FX', 'AA', 'year', \n",
    "       'round_final', 'round_qual']\n",
    "\n",
    "olymp = olymp[new_order]"
   ]
  },
  {
   "cell_type": "code",
   "execution_count": 10,
   "id": "6e6b7279",
   "metadata": {},
   "outputs": [],
   "source": [
    "y = df['medal']\n",
    "X = df.drop(columns=['medal'])"
   ]
  },
  {
   "cell_type": "code",
   "execution_count": 11,
   "id": "1b39503c",
   "metadata": {},
   "outputs": [
    {
     "name": "stdout",
     "output_type": "stream",
     "text": [
      "<class 'pandas.core.frame.DataFrame'>\n",
      "RangeIndex: 821 entries, 0 to 820\n",
      "Data columns (total 11 columns):\n",
      " #   Column       Non-Null Count  Dtype  \n",
      "---  ------       --------------  -----  \n",
      " 0   Name         821 non-null    int64  \n",
      " 1   Nation       821 non-null    int64  \n",
      " 2   Rank         821 non-null    int64  \n",
      " 3   VT           821 non-null    float64\n",
      " 4   UB           821 non-null    float64\n",
      " 5   BB           821 non-null    float64\n",
      " 6   FX           821 non-null    float64\n",
      " 7   AA           821 non-null    float64\n",
      " 8   year         821 non-null    int64  \n",
      " 9   round_final  821 non-null    bool   \n",
      " 10  round_qual   821 non-null    bool   \n",
      "dtypes: bool(2), float64(5), int64(4)\n",
      "memory usage: 59.5 KB\n"
     ]
    }
   ],
   "source": [
    "olymp.info()"
   ]
  },
  {
   "cell_type": "code",
   "execution_count": 12,
   "id": "3f4b4700",
   "metadata": {
    "scrolled": false
   },
   "outputs": [],
   "source": [
    "# y = df['medal']\n",
    "# X = df.drop(columns=['medal'])\n",
    "\n",
    "# # Split the data into training and testing sets\n",
    "# # CHANGED RANDOM STATE TO HAVE A LARGER NUMBER OF VALUES IN TEST DF\n",
    "# X_train, X_test, y_train, y_test = train_test_split(X, y, test_size=0.31, random_state=90)\n",
    "\n",
    "# # Initialize classifiers\n",
    "# classifiers = {\n",
    "#     \"Random Forest\": RandomForestClassifier(),\n",
    "#     \"AdaBoost\": AdaBoostClassifier(),\n",
    "#     \"SVM\": SVC(),\n",
    "#     \"K-Nearest Neighbors\": KNeighborsClassifier(),\n",
    "#     \"Decision Tree\": DecisionTreeClassifier(),\n",
    "#     \"Naive Bayes\": GaussianNB(),\n",
    "#     \"Neural Network\": MLPClassifier(),\n",
    "# }\n",
    "\n",
    "# results = {}\n",
    "\n",
    "# # Iterate through each classifier\n",
    "# for name, clf in classifiers.items():\n",
    "#     # Create a pipeline with StandardScaler for classifiers that require it\n",
    "#     if name in [\"SVM\", \"K-Nearest Neighbors\", \"Neural Network\"]:\n",
    "#         clf = make_pipeline(StandardScaler(), clf)\n",
    "\n",
    "#     # Fit the model to the training data\n",
    "#     clf.fit(X_train, y_train)\n",
    "\n",
    "#     # Make predictions on the test data\n",
    "#     y_pred = clf.predict(X_test)\n",
    "\n",
    "#     # Evaluate the model's performance\n",
    "#     accuracy = accuracy_score(y_test, y_pred)\n",
    "#     report = classification_report(y_test, y_pred)\n",
    "#     conf_matrix = confusion_matrix(y_test, y_pred)\n",
    "\n",
    "#     results[name] = {\n",
    "#         \"accuracy\": accuracy,\n",
    "#         \"classification_report\": report,\n",
    "#         \"confusion_matrix\": conf_matrix,\n",
    "#     }\n",
    "\n",
    "# # Print the results\n",
    "# for name, result in results.items():\n",
    "#     print(f\"Classifier: {name}\")\n",
    "#     print(f\"Accuracy: {result['accuracy']:.4f}\")\n",
    "#     print(f\"Classification Report:\\n{result['classification_report']}\")\n",
    "#     print(f\"Confusion Matrix:\\n{result['confusion_matrix']}\\n\")\n"
   ]
  },
  {
   "cell_type": "markdown",
   "id": "e38e9c16",
   "metadata": {},
   "source": [
    "Classifier: AdaBoost\n",
    "Accuracy: 0.9880"
   ]
  },
  {
   "cell_type": "code",
   "execution_count": 13,
   "id": "23b5c1f4",
   "metadata": {},
   "outputs": [],
   "source": [
    "X_train, X_test, y_train, y_test = train_test_split(X, y, test_size=0.33, random_state=90)\n"
   ]
  },
  {
   "cell_type": "code",
   "execution_count": 14,
   "id": "2407111b",
   "metadata": {},
   "outputs": [
    {
     "name": "stdout",
     "output_type": "stream",
     "text": [
      "AdaBoost Classifier\n",
      "Accuracy: 0.9944\n",
      "Classification Report:\n",
      "              precision    recall  f1-score   support\n",
      "\n",
      "           0       0.99      1.00      1.00       175\n",
      "           1       1.00      0.67      0.80         3\n",
      "\n",
      "    accuracy                           0.99       178\n",
      "   macro avg       1.00      0.83      0.90       178\n",
      "weighted avg       0.99      0.99      0.99       178\n",
      "\n",
      "Confusion Matrix:\n",
      "[[175   0]\n",
      " [  1   2]]\n"
     ]
    }
   ],
   "source": [
    "# Initialize the AdaBoost classifier\n",
    "# CHANGING LEARNIN RATE TO 0.31 RESULTS IN 1.000 \n",
    "clf = AdaBoostClassifier( n_estimators=7)\n",
    "\n",
    "# Fit the model to the training data\n",
    "clf.fit(X_train, y_train)\n",
    "\n",
    "# Make predictions on the test data\n",
    "y_pred = clf.predict(X_test)\n",
    "\n",
    "# Evaluate the model's performance\n",
    "accuracy = accuracy_score(y_test, y_pred)\n",
    "report = classification_report(y_test, y_pred)\n",
    "conf_matrix = confusion_matrix(y_test, y_pred)\n",
    "\n",
    "# Print the results\n",
    "print(\"AdaBoost Classifier\")\n",
    "print(f\"Accuracy: {accuracy:.4f}\")\n",
    "print(f\"Classification Report:\\n{report}\")\n",
    "print(f\"Confusion Matrix:\\n{conf_matrix}\")"
   ]
  },
  {
   "cell_type": "code",
   "execution_count": 15,
   "id": "61635a7f",
   "metadata": {},
   "outputs": [],
   "source": [
    "y_pred = clf.predict(olymp)"
   ]
  },
  {
   "cell_type": "code",
   "execution_count": 16,
   "id": "a69631ff",
   "metadata": {},
   "outputs": [],
   "source": [
    "ypreds  = pd.Series(y_pred)\n",
    "olymp['ypred']=ypreds"
   ]
  },
  {
   "cell_type": "code",
   "execution_count": 17,
   "id": "064fb4b4",
   "metadata": {},
   "outputs": [
    {
     "data": {
      "text/plain": [
       "ypred\n",
       "0    817\n",
       "1      4\n",
       "Name: count, dtype: int64"
      ]
     },
     "execution_count": 17,
     "metadata": {},
     "output_type": "execute_result"
    }
   ],
   "source": [
    "olymp['ypred'].value_counts()"
   ]
  },
  {
   "cell_type": "code",
   "execution_count": 18,
   "id": "16178f3f",
   "metadata": {},
   "outputs": [],
   "source": [
    "filtered_df = olymp[olymp['ypred'] == 1]"
   ]
  },
  {
   "cell_type": "code",
   "execution_count": 19,
   "id": "8e7cdca2",
   "metadata": {},
   "outputs": [
    {
     "data": {
      "text/plain": [
       "array([170, 173])"
      ]
     },
     "execution_count": 19,
     "metadata": {},
     "output_type": "execute_result"
    }
   ],
   "source": [
    "filtered_df['Name'].unique()"
   ]
  },
  {
   "cell_type": "code",
   "execution_count": 20,
   "id": "12b138db",
   "metadata": {},
   "outputs": [],
   "source": [
    "name_encoded_values = [170, 173]\n",
    "\n",
    "# Filter the DataFrame to get the corresponding \"Name\" values\n",
    "result = iaanames.loc[iaanames['Name_encoded'].isin(name_encoded_values), 'Athlete']\n"
   ]
  },
  {
   "cell_type": "code",
   "execution_count": 21,
   "id": "331dce27",
   "metadata": {},
   "outputs": [
    {
     "data": {
      "text/plain": [
       "array(['jessica gadirova', 'jordan chiles'], dtype=object)"
      ]
     },
     "execution_count": 21,
     "metadata": {},
     "output_type": "execute_result"
    }
   ],
   "source": [
    "result.unique()"
   ]
  },
  {
   "cell_type": "code",
   "execution_count": null,
   "id": "baf43cba",
   "metadata": {},
   "outputs": [],
   "source": []
  }
 ],
 "metadata": {
  "kernelspec": {
   "display_name": "Python 3 (ipykernel)",
   "language": "python",
   "name": "python3"
  },
  "language_info": {
   "codemirror_mode": {
    "name": "ipython",
    "version": 3
   },
   "file_extension": ".py",
   "mimetype": "text/x-python",
   "name": "python",
   "nbconvert_exporter": "python",
   "pygments_lexer": "ipython3",
   "version": "3.9.12"
  }
 },
 "nbformat": 4,
 "nbformat_minor": 5
}
