{
 "cells": [
  {
   "cell_type": "markdown",
   "id": "6b311890",
   "metadata": {},
   "source": [
    "# FX\n",
    "# USA Gymnast with best chances to medal in fx are:\n",
    "\n",
    "- Simone Biles\n",
    "- Ashlee Sullivan\n",
    "\n",
    "## Scaling - no improvement\n",
    "## Feature importance no improvement\n",
    "\n",
    "['ashlee sullivan',\n",
    " 'ana barbosu',\n",
    " 'alexa moreno',\n",
    " 'angela andreoli',\n",
    " 'simone biles']"
   ]
  },
  {
   "cell_type": "code",
   "execution_count": 1,
   "id": "b7ce80f2",
   "metadata": {},
   "outputs": [],
   "source": [
    "import pandas as pd\n",
    "import numpy as np\n",
    "from scipy import stats\n",
    "# from mlxtend.preprocessing import minmax_scaling\n",
    "import seaborn as sns\n",
    "import matplotlib.pyplot as plt\n",
    "from matplotlib.colors import ListedColormap\n",
    "from sklearn.datasets import make_circles, make_classification, make_moons\n",
    "from sklearn.discriminant_analysis import QuadraticDiscriminantAnalysis\n",
    "from sklearn.ensemble import AdaBoostClassifier, RandomForestClassifier\n",
    "from sklearn.gaussian_process import GaussianProcessClassifier\n",
    "from sklearn.gaussian_process.kernels import RBF\n",
    "from sklearn.inspection import DecisionBoundaryDisplay\n",
    "from sklearn.model_selection import train_test_split\n",
    "from sklearn.naive_bayes import GaussianNB\n",
    "from sklearn.neighbors import KNeighborsClassifier\n",
    "from sklearn.neural_network import MLPClassifier\n",
    "from sklearn.pipeline import make_pipeline\n",
    "from sklearn.preprocessing import StandardScaler\n",
    "from sklearn.svm import SVC\n",
    "from sklearn.tree import DecisionTreeClassifier\n",
    "from sklearn import svm\n",
    "from sklearn.metrics import accuracy_score\n",
    "from sklearn.metrics import classification_report\n",
    "from sklearn.metrics import confusion_matrix, fbeta_score\n",
    "from sklearn.dummy import DummyClassifier\n",
    "import warnings"
   ]
  },
  {
   "cell_type": "code",
   "execution_count": 2,
   "id": "72d5b65f",
   "metadata": {},
   "outputs": [],
   "source": [
    "warnings.filterwarnings(\"ignore\")"
   ]
  },
  {
   "cell_type": "code",
   "execution_count": 3,
   "id": "8f241c12",
   "metadata": {},
   "outputs": [],
   "source": [
    "# df = pd.read_csv('../../Combine_Data/women/fx_encoded.csv')\n",
    "olymp = pd.read_csv('../../Data/cleandata22-23/encoded_w_olympics_fx.csv')\n",
    "fxnames = pd.read_csv('../../Data/cleandata22-23/encoded_w_olympics_fxnames.csv')\n",
    "fxolymp = pd.read_csv('../../Data/cleandata22-23/women22_23.csv')\n",
    "df = pd.read_csv('../../Combine_Data/women/mult_fx_encoded.csv')\n"
   ]
  },
  {
   "cell_type": "code",
   "execution_count": 4,
   "id": "56a6eaf8",
   "metadata": {},
   "outputs": [],
   "source": [
    "df=df.drop(columns=['tot_final',\n",
    "       'tot_fin_d', 'tot_fin_ddiv', 'tot_fin_ddiv_rank'])"
   ]
  },
  {
   "cell_type": "code",
   "execution_count": 5,
   "id": "29856a62-4423-44fd-bb4c-c99556a88e65",
   "metadata": {},
   "outputs": [
    {
     "name": "stdout",
     "output_type": "stream",
     "text": [
      "<class 'pandas.core.frame.DataFrame'>\n",
      "RangeIndex: 2116 entries, 0 to 2115\n",
      "Data columns (total 13 columns):\n",
      " #   Column           Non-Null Count  Dtype  \n",
      "---  ------           --------------  -----  \n",
      " 0   Rank             2116 non-null   float64\n",
      " 1   D Score          2116 non-null   float64\n",
      " 2   E Score          2116 non-null   float64\n",
      " 3   Pen.             2116 non-null   float64\n",
      " 4   Total            2116 non-null   float64\n",
      " 5   year             2116 non-null   int64  \n",
      " 6   Name             2116 non-null   int64  \n",
      " 7   nation           2116 non-null   int64  \n",
      " 8   round_aafinal    2116 non-null   bool   \n",
      " 9   round_final      2116 non-null   bool   \n",
      " 10  round_qual       2116 non-null   bool   \n",
      " 11  round_teamfinal  2116 non-null   bool   \n",
      " 12  round_teamqual   2116 non-null   bool   \n",
      "dtypes: bool(5), float64(5), int64(3)\n",
      "memory usage: 142.7 KB\n"
     ]
    }
   ],
   "source": [
    "olymp.info()"
   ]
  },
  {
   "cell_type": "markdown",
   "id": "3676790c",
   "metadata": {},
   "source": [
    "# Base line using ZeroR"
   ]
  },
  {
   "cell_type": "code",
   "execution_count": 5,
   "id": "c7ad3a84",
   "metadata": {},
   "outputs": [
    {
     "name": "stdout",
     "output_type": "stream",
     "text": [
      "ZeroR Classifier\n",
      "Accuracy: 0.9655\n",
      "Classification Report:\n",
      "              precision    recall  f1-score   support\n",
      "\n",
      "           0       0.97      1.00      0.98        56\n",
      "           1       0.00      0.00      0.00         2\n",
      "\n",
      "    accuracy                           0.97        58\n",
      "   macro avg       0.48      0.50      0.49        58\n",
      "weighted avg       0.93      0.97      0.95        58\n",
      "\n",
      "Confusion Matrix:\n",
      "[[56  0]\n",
      " [ 2  0]]\n"
     ]
    }
   ],
   "source": [
    "\n",
    "X = df.drop(columns=['medal'])  \n",
    "y = df['medal']  \n",
    "\n",
    "X_train, X_test, y_train, y_test = train_test_split(X, y, test_size=0.2, random_state=42)\n",
    "\n",
    "# Initialize the ZeroR classifier\n",
    "zero_r_clf = DummyClassifier(strategy='most_frequent', random_state=42)\n",
    "\n",
    "zero_r_clf.fit(X_train, y_train)\n",
    "\n",
    "# Make predictions test data\n",
    "y_pred = zero_r_clf.predict(X_test)\n",
    "\n",
    "# Evaluate performance\n",
    "accuracy = accuracy_score(y_test, y_pred)\n",
    "report = classification_report(y_test, y_pred)\n",
    "conf_matrix = confusion_matrix(y_test, y_pred)\n",
    "\n",
    "print(\"ZeroR Classifier\")\n",
    "print(f\"Accuracy: {accuracy:.4f}\")\n",
    "print(f\"Classification Report:\\n{report}\")\n",
    "print(f\"Confusion Matrix:\\n{conf_matrix}\")\n"
   ]
  },
  {
   "cell_type": "markdown",
   "id": "5535b310",
   "metadata": {},
   "source": [
    "# Model Comparison\n"
   ]
  },
  {
   "cell_type": "code",
   "execution_count": 6,
   "id": "4c0009f5",
   "metadata": {},
   "outputs": [
    {
     "name": "stdout",
     "output_type": "stream",
     "text": [
      "Classifier: Random Forest\n",
      "Accuracy: 0.9655\n",
      "F2-Score: 0.5000\n",
      "Classification Report:\n",
      "              precision    recall  f1-score   support\n",
      "\n",
      "           0       0.98      0.98      0.98        56\n",
      "           1       0.50      0.50      0.50         2\n",
      "\n",
      "    accuracy                           0.97        58\n",
      "   macro avg       0.74      0.74      0.74        58\n",
      "weighted avg       0.97      0.97      0.97        58\n",
      "\n",
      "Confusion Matrix:\n",
      "[[55  1]\n",
      " [ 1  1]]\n",
      "\n",
      "Classifier: AdaBoost\n",
      "Accuracy: 0.9483\n",
      "F2-Score: 0.4545\n",
      "Classification Report:\n",
      "              precision    recall  f1-score   support\n",
      "\n",
      "           0       0.98      0.96      0.97        56\n",
      "           1       0.33      0.50      0.40         2\n",
      "\n",
      "    accuracy                           0.95        58\n",
      "   macro avg       0.66      0.73      0.69        58\n",
      "weighted avg       0.96      0.95      0.95        58\n",
      "\n",
      "Confusion Matrix:\n",
      "[[54  2]\n",
      " [ 1  1]]\n",
      "\n",
      "Classifier: SVM\n",
      "Accuracy: 0.9655\n",
      "F2-Score: 0.0000\n",
      "Classification Report:\n",
      "              precision    recall  f1-score   support\n",
      "\n",
      "           0       0.97      1.00      0.98        56\n",
      "           1       0.00      0.00      0.00         2\n",
      "\n",
      "    accuracy                           0.97        58\n",
      "   macro avg       0.48      0.50      0.49        58\n",
      "weighted avg       0.93      0.97      0.95        58\n",
      "\n",
      "Confusion Matrix:\n",
      "[[56  0]\n",
      " [ 2  0]]\n",
      "\n",
      "Classifier: K-Nearest Neighbors\n",
      "Accuracy: 0.9828\n",
      "F2-Score: 0.5556\n",
      "Classification Report:\n",
      "              precision    recall  f1-score   support\n",
      "\n",
      "           0       0.98      1.00      0.99        56\n",
      "           1       1.00      0.50      0.67         2\n",
      "\n",
      "    accuracy                           0.98        58\n",
      "   macro avg       0.99      0.75      0.83        58\n",
      "weighted avg       0.98      0.98      0.98        58\n",
      "\n",
      "Confusion Matrix:\n",
      "[[56  0]\n",
      " [ 1  1]]\n",
      "\n",
      "Classifier: Decision Tree\n",
      "Accuracy: 0.8966\n",
      "F2-Score: 0.0000\n",
      "Classification Report:\n",
      "              precision    recall  f1-score   support\n",
      "\n",
      "           0       0.96      0.93      0.95        56\n",
      "           1       0.00      0.00      0.00         2\n",
      "\n",
      "    accuracy                           0.90        58\n",
      "   macro avg       0.48      0.46      0.47        58\n",
      "weighted avg       0.93      0.90      0.91        58\n",
      "\n",
      "Confusion Matrix:\n",
      "[[52  4]\n",
      " [ 2  0]]\n",
      "\n",
      "Classifier: Naive Bayes\n",
      "Accuracy: 0.6379\n",
      "F2-Score: 0.3226\n",
      "Classification Report:\n",
      "              precision    recall  f1-score   support\n",
      "\n",
      "           0       1.00      0.62      0.77        56\n",
      "           1       0.09      1.00      0.16         2\n",
      "\n",
      "    accuracy                           0.64        58\n",
      "   macro avg       0.54      0.81      0.46        58\n",
      "weighted avg       0.97      0.64      0.75        58\n",
      "\n",
      "Confusion Matrix:\n",
      "[[35 21]\n",
      " [ 0  2]]\n",
      "\n",
      "Classifier: Neural Network\n",
      "Accuracy: 0.9483\n",
      "F2-Score: 0.0000\n",
      "Classification Report:\n",
      "              precision    recall  f1-score   support\n",
      "\n",
      "           0       0.96      0.98      0.97        56\n",
      "           1       0.00      0.00      0.00         2\n",
      "\n",
      "    accuracy                           0.95        58\n",
      "   macro avg       0.48      0.49      0.49        58\n",
      "weighted avg       0.93      0.95      0.94        58\n",
      "\n",
      "Confusion Matrix:\n",
      "[[55  1]\n",
      " [ 2  0]]\n",
      "\n"
     ]
    }
   ],
   "source": [
    "y = df['medal']\n",
    "X = df.drop(columns=['medal'])\n",
    "\n",
    "X_train, X_test, y_train, y_test = train_test_split(X, y, test_size=0.2, random_state=42)\n",
    "\n",
    "# Initialize classifiers\n",
    "classifiers = {\n",
    "    \"Random Forest\": RandomForestClassifier(),\n",
    "    \"AdaBoost\": AdaBoostClassifier(),\n",
    "    \"SVM\": SVC(),\n",
    "    \"K-Nearest Neighbors\": KNeighborsClassifier(),\n",
    "    \"Decision Tree\": DecisionTreeClassifier(),\n",
    "    \"Naive Bayes\": GaussianNB(),\n",
    "    \"Neural Network\": MLPClassifier(),\n",
    "}\n",
    "\n",
    "results = {}\n",
    "\n",
    "# Iterate through each classifier\n",
    "for name, clf in classifiers.items():\n",
    "    # Create a pipeline with StandardScaler for classifiers that require it\n",
    "    if name in [\"SVM\", \"K-Nearest Neighbors\", \"Neural Network\"]:\n",
    "        clf = make_pipeline(StandardScaler(), clf)\n",
    "\n",
    "    # Fit the model to the training data\n",
    "    clf.fit(X_train, y_train)\n",
    "\n",
    "    # Make predictions on the test data\n",
    "    y_pred = clf.predict(X_test)\n",
    "\n",
    "    # Evaluate the model's performance\n",
    "    accuracy = accuracy_score(y_test, y_pred)\n",
    "    report = classification_report(y_test, y_pred)\n",
    "    conf_matrix = confusion_matrix(y_test, y_pred)\n",
    "\n",
    "    beta = 2\n",
    "    f2_score = fbeta_score(y_test, y_pred, beta=beta)\n",
    "\n",
    "    results[name] = {\n",
    "        \"accuracy\": accuracy,\n",
    "        \"classification_report\": report,\n",
    "        \"confusion_matrix\": conf_matrix,\n",
    "        \"f2_score\": f2_score,\n",
    "    }\n",
    "\n",
    "# Print the results\n",
    "for name, result in results.items():\n",
    "    print(f\"Classifier: {name}\")\n",
    "    print(f\"Accuracy: {result['accuracy']:.4f}\")\n",
    "    print(f\"F2-Score: {result['f2_score']:.4f}\")\n",
    "    print(f\"Classification Report:\\n{result['classification_report']}\")\n",
    "    print(f\"Confusion Matrix:\\n{result['confusion_matrix']}\\n\")\n"
   ]
  },
  {
   "cell_type": "markdown",
   "id": "45a75a11",
   "metadata": {},
   "source": [
    "# Grid Search k-folds cv No Improvement"
   ]
  },
  {
   "cell_type": "code",
   "execution_count": 7,
   "id": "5f79c875",
   "metadata": {},
   "outputs": [
    {
     "name": "stdout",
     "output_type": "stream",
     "text": [
      "\n",
      "Fold 1\n",
      "Best Hyperparameters: {'max_depth': None, 'min_samples_leaf': 2, 'min_samples_split': 10, 'n_estimators': 100}\n",
      "Accuracy: 0.9184\n",
      "Classification Report:\n",
      "              precision    recall  f1-score   support\n",
      "\n",
      "           0       0.92      1.00      0.96        45\n",
      "           1       0.00      0.00      0.00         4\n",
      "\n",
      "    accuracy                           0.92        49\n",
      "   macro avg       0.46      0.50      0.48        49\n",
      "weighted avg       0.84      0.92      0.88        49\n",
      "\n",
      "Confusion Matrix:\n",
      "[[45  0]\n",
      " [ 4  0]]\n",
      "\n",
      "Fold 2\n",
      "Best Hyperparameters: {'max_depth': None, 'min_samples_leaf': 2, 'min_samples_split': 10, 'n_estimators': 100}\n",
      "Accuracy: 0.9388\n",
      "Classification Report:\n",
      "              precision    recall  f1-score   support\n",
      "\n",
      "           0       0.94      1.00      0.97        45\n",
      "           1       1.00      0.25      0.40         4\n",
      "\n",
      "    accuracy                           0.94        49\n",
      "   macro avg       0.97      0.62      0.68        49\n",
      "weighted avg       0.94      0.94      0.92        49\n",
      "\n",
      "Confusion Matrix:\n",
      "[[45  0]\n",
      " [ 3  1]]\n",
      "\n",
      "Fold 3\n",
      "Best Hyperparameters: {'max_depth': None, 'min_samples_leaf': 2, 'min_samples_split': 10, 'n_estimators': 100}\n",
      "Accuracy: 0.9583\n",
      "Classification Report:\n",
      "              precision    recall  f1-score   support\n",
      "\n",
      "           0       0.96      1.00      0.98        45\n",
      "           1       1.00      0.33      0.50         3\n",
      "\n",
      "    accuracy                           0.96        48\n",
      "   macro avg       0.98      0.67      0.74        48\n",
      "weighted avg       0.96      0.96      0.95        48\n",
      "\n",
      "Confusion Matrix:\n",
      "[[45  0]\n",
      " [ 2  1]]\n",
      "\n",
      "Fold 4\n",
      "Best Hyperparameters: {'max_depth': None, 'min_samples_leaf': 2, 'min_samples_split': 10, 'n_estimators': 100}\n",
      "Accuracy: 0.9583\n",
      "Classification Report:\n",
      "              precision    recall  f1-score   support\n",
      "\n",
      "           0       0.96      1.00      0.98        45\n",
      "           1       1.00      0.33      0.50         3\n",
      "\n",
      "    accuracy                           0.96        48\n",
      "   macro avg       0.98      0.67      0.74        48\n",
      "weighted avg       0.96      0.96      0.95        48\n",
      "\n",
      "Confusion Matrix:\n",
      "[[45  0]\n",
      " [ 2  1]]\n",
      "\n",
      "Fold 5\n",
      "Best Hyperparameters: {'max_depth': None, 'min_samples_leaf': 2, 'min_samples_split': 10, 'n_estimators': 100}\n",
      "Accuracy: 0.9583\n",
      "Classification Report:\n",
      "              precision    recall  f1-score   support\n",
      "\n",
      "           0       0.96      1.00      0.98        45\n",
      "           1       1.00      0.33      0.50         3\n",
      "\n",
      "    accuracy                           0.96        48\n",
      "   macro avg       0.98      0.67      0.74        48\n",
      "weighted avg       0.96      0.96      0.95        48\n",
      "\n",
      "Confusion Matrix:\n",
      "[[45  0]\n",
      " [ 2  1]]\n",
      "\n",
      "Test Set Results\n",
      "Best Hyperparameters: {'max_depth': None, 'min_samples_leaf': 2, 'min_samples_split': 10, 'n_estimators': 100}\n",
      "Accuracy: 0.9787\n",
      "Classification Report:\n",
      "              precision    recall  f1-score   support\n",
      "\n",
      "           0       0.98      1.00      0.99        45\n",
      "           1       1.00      0.50      0.67         2\n",
      "\n",
      "    accuracy                           0.98        47\n",
      "   macro avg       0.99      0.75      0.83        47\n",
      "weighted avg       0.98      0.98      0.98        47\n",
      "\n",
      "Confusion Matrix:\n",
      "[[45  0]\n",
      " [ 1  1]]\n"
     ]
    }
   ],
   "source": [
    "import pandas as pd\n",
    "from sklearn.model_selection import train_test_split, GridSearchCV, StratifiedKFold\n",
    "from sklearn.ensemble import RandomForestClassifier\n",
    "from sklearn.metrics import accuracy_score, classification_report, confusion_matrix\n",
    "\n",
    "X = df.drop(columns=['medal'])  # Features\n",
    "y = df['medal']  # Target variable\n",
    "\n",
    "# Split the data into training and testing sets\n",
    "X_train, X_test, y_train, y_test = train_test_split(X, y, test_size=0.16, random_state=42)\n",
    "\n",
    "# Define the parameter grid for grid search\n",
    "param_grid = {\n",
    "    'n_estimators': [50, 100, 200],\n",
    "    'max_depth': [None, 10, 20, 30],\n",
    "    'min_samples_split': [2, 5, 10],\n",
    "    'min_samples_leaf': [1, 2, 4]\n",
    "}\n",
    "\n",
    "# Initialize the Random Forest classifier\n",
    "rf_clf = RandomForestClassifier(random_state=42)\n",
    "\n",
    "# Initialize StratifiedKFold for k-fold cross-validation\n",
    "k_folds = 5\n",
    "stratified_kfold = StratifiedKFold(n_splits=k_folds, shuffle=True, random_state=42)\n",
    "\n",
    "# Initialize GridSearchCV\n",
    "grid_search = GridSearchCV(estimator=rf_clf, param_grid=param_grid, cv=stratified_kfold, scoring='accuracy', n_jobs=-1)\n",
    "\n",
    "# Fit the model to the training data with grid search\n",
    "grid_search.fit(X_train, y_train)\n",
    "\n",
    "# Get the best parameters from grid search\n",
    "best_params = grid_search.best_params_\n",
    "\n",
    "# Initialize the Random Forest classifier with the best parameters\n",
    "best_rf_clf = RandomForestClassifier(random_state=42, **best_params)\n",
    "\n",
    "# Iterate over folds for evaluation\n",
    "for fold, (train_index, test_index) in enumerate(stratified_kfold.split(X_train, y_train)):\n",
    "    print(f\"\\nFold {fold + 1}\")\n",
    "\n",
    "    # Split the data into training and testing sets for this fold\n",
    "    X_train_fold, X_val_fold = X_train.iloc[train_index], X_train.iloc[test_index]\n",
    "    y_train_fold, y_val_fold = y_train.iloc[train_index], y_train.iloc[test_index]\n",
    "\n",
    "    # Fit the model to the training data with the best parameters for this fold\n",
    "    best_rf_clf.fit(X_train_fold, y_train_fold)\n",
    "\n",
    "    # Make predictions on the validation data for this fold\n",
    "    y_pred = best_rf_clf.predict(X_val_fold)\n",
    "\n",
    "    # Evaluate the model's performance for this fold\n",
    "    accuracy = accuracy_score(y_val_fold, y_pred)\n",
    "    report = classification_report(y_val_fold, y_pred)\n",
    "    conf_matrix = confusion_matrix(y_val_fold, y_pred)\n",
    "\n",
    "    print(f\"Best Hyperparameters: {best_params}\")\n",
    "    print(f\"Accuracy: {accuracy:.4f}\")\n",
    "    print(f\"Classification Report:\\n{report}\")\n",
    "    print(f\"Confusion Matrix:\\n{conf_matrix}\")\n",
    "\n",
    "# Make predictions on the test data\n",
    "y_pred_test = best_rf_clf.predict(X_test)\n",
    "\n",
    "# Evaluate the model's performance on the test set\n",
    "accuracy_test = accuracy_score(y_test, y_pred_test)\n",
    "report_test = classification_report(y_test, y_pred_test)\n",
    "conf_matrix_test = confusion_matrix(y_test, y_pred_test)\n",
    "\n",
    "# Print the results for the test set\n",
    "print(\"\\nTest Set Results\")\n",
    "print(f\"Best Hyperparameters: {best_params}\")\n",
    "print(f\"Accuracy: {accuracy_test:.4f}\")\n",
    "print(f\"Classification Report:\\n{report_test}\")\n",
    "print(f\"Confusion Matrix:\\n{conf_matrix_test}\")\n"
   ]
  },
  {
   "cell_type": "markdown",
   "id": "98d8ac78",
   "metadata": {},
   "source": [
    "# Grid Search k-folds cv No Improvement"
   ]
  },
  {
   "cell_type": "code",
   "execution_count": 10,
   "id": "083fc039",
   "metadata": {},
   "outputs": [
    {
     "name": "stdout",
     "output_type": "stream",
     "text": [
      "Random Forest Classifier with Grid Search\n",
      "Best Hyperparameters: {'max_depth': None, 'min_samples_leaf': 1, 'min_samples_split': 10, 'n_estimators': 50}\n",
      "Accuracy: 0.9574\n",
      "Classification Report:\n",
      "              precision    recall  f1-score   support\n",
      "\n",
      "           0       0.98      0.98      0.98        45\n",
      "           1       0.50      0.50      0.50         2\n",
      "\n",
      "    accuracy                           0.96        47\n",
      "   macro avg       0.74      0.74      0.74        47\n",
      "weighted avg       0.96      0.96      0.96        47\n",
      "\n",
      "Confusion Matrix:\n",
      "[[44  1]\n",
      " [ 1  1]]\n"
     ]
    }
   ],
   "source": [
    "import pandas as pd\n",
    "from sklearn.model_selection import train_test_split, GridSearchCV\n",
    "from sklearn.ensemble import RandomForestClassifier\n",
    "from sklearn.metrics import accuracy_score, classification_report, confusion_matrix\n",
    "\n",
    "X = df.drop(columns=['medal'])  # Features\n",
    "y = df['medal']  # Target variable\n",
    "\n",
    "# Split the data into training and testing sets\n",
    "X_train, X_test, y_train, y_test = train_test_split(X, y, test_size=0.16, random_state=42)\n",
    "\n",
    "# Define the parameter grid for grid search\n",
    "param_grid = {\n",
    "    'n_estimators': [50, 100, 200],\n",
    "    'max_depth': [None, 10, 20, 30],\n",
    "    'min_samples_split': [2, 5, 10],\n",
    "    'min_samples_leaf': [1, 2, 4]\n",
    "}\n",
    "\n",
    "# Initialize the Random Forest classifier\n",
    "rf_clf = RandomForestClassifier(random_state=42)\n",
    "\n",
    "# Initialize GridSearchCV\n",
    "grid_search = GridSearchCV(estimator=rf_clf, param_grid=param_grid, cv=3, scoring='accuracy', n_jobs=-1)\n",
    "\n",
    "# Fit the model to the training data with grid search\n",
    "grid_search.fit(X_train, y_train)\n",
    "\n",
    "# Get the best parameters from grid search\n",
    "best_params = grid_search.best_params_\n",
    "\n",
    "# Initialize the Random Forest classifier with the best parameters\n",
    "best_rf_clf = RandomForestClassifier(random_state=42, **best_params)\n",
    "\n",
    "# Fit the model to the training data with the best parameters\n",
    "best_rf_clf.fit(X_train, y_train)\n",
    "\n",
    "# Make predictions on the test data\n",
    "y_pred = best_rf_clf.predict(X_test)\n",
    "\n",
    "# Evaluate the model's performance\n",
    "accuracy = accuracy_score(y_test, y_pred)\n",
    "report = classification_report(y_test, y_pred)\n",
    "conf_matrix = confusion_matrix(y_test, y_pred)\n",
    "\n",
    "# Print the results\n",
    "print(\"Random Forest Classifier with Grid Search\")\n",
    "print(f\"Best Hyperparameters: {best_params}\")\n",
    "print(f\"Accuracy: {accuracy:.4f}\")\n",
    "print(f\"Classification Report:\\n{report}\")\n",
    "print(f\"Confusion Matrix:\\n{conf_matrix}\")\n"
   ]
  },
  {
   "cell_type": "markdown",
   "id": "a0611a1a",
   "metadata": {},
   "source": [
    "# Model"
   ]
  },
  {
   "cell_type": "code",
   "execution_count": 11,
   "id": "e9c5e981",
   "metadata": {},
   "outputs": [
    {
     "name": "stdout",
     "output_type": "stream",
     "text": [
      "Random Forest Classifier\n",
      "Accuracy: 0.9787\n",
      "Classification Report:\n",
      "              precision    recall  f1-score   support\n",
      "\n",
      "           0       0.98      1.00      0.99        45\n",
      "           1       1.00      0.50      0.67         2\n",
      "\n",
      "    accuracy                           0.98        47\n",
      "   macro avg       0.99      0.75      0.83        47\n",
      "weighted avg       0.98      0.98      0.98        47\n",
      "\n",
      "Confusion Matrix:\n",
      "[[45  0]\n",
      " [ 1  1]]\n"
     ]
    }
   ],
   "source": [
    "import pandas as pd\n",
    "from sklearn.model_selection import train_test_split\n",
    "from sklearn.ensemble import RandomForestClassifier\n",
    "from sklearn.metrics import accuracy_score, classification_report, confusion_matrix\n",
    "\n",
    "X = df.drop(columns=['medal'])  # Features\n",
    "y = df['medal']  # Target variable\n",
    "\n",
    "# Split the data into training and testing sets\n",
    "X_train, X_test, y_train, y_test = train_test_split(X, y, test_size=0.16, random_state=42)\n",
    "\n",
    "# Initialize the Random Forest classifier\n",
    "rf_clf = RandomForestClassifier(random_state=42, n_estimators=2)\n",
    "\n",
    "# Fit the model to the training data\n",
    "rf_clf.fit(X_train, y_train)\n",
    "\n",
    "# Make predictions on the test data\n",
    "y_pred = rf_clf.predict(X_test)\n",
    "\n",
    "# Evaluate the model's performance\n",
    "accuracy = accuracy_score(y_test, y_pred)\n",
    "report = classification_report(y_test, y_pred)\n",
    "conf_matrix = confusion_matrix(y_test, y_pred)\n",
    "\n",
    "# Print the results\n",
    "print(\"Random Forest Classifier\")\n",
    "print(f\"Accuracy: {accuracy:.4f}\")\n",
    "print(f\"Classification Report:\\n{report}\")\n",
    "print(f\"Confusion Matrix:\\n{conf_matrix}\")\n"
   ]
  },
  {
   "cell_type": "code",
   "execution_count": 12,
   "id": "e5e8817d",
   "metadata": {},
   "outputs": [],
   "source": [
    "olymp = pd.read_csv('../../Data/cleandata22-23/encoded_w_olympics_fx.csv')\n"
   ]
  },
  {
   "cell_type": "code",
   "execution_count": 13,
   "id": "048feb38",
   "metadata": {},
   "outputs": [],
   "source": [
    "olymp=olymp.drop(columns=['round_aafinal', 'round_teamfinal'])"
   ]
  },
  {
   "cell_type": "code",
   "execution_count": 14,
   "id": "2969e7ad",
   "metadata": {},
   "outputs": [],
   "source": [
    "olymp['round_0']=False"
   ]
  },
  {
   "cell_type": "code",
   "execution_count": 15,
   "id": "603cee74",
   "metadata": {},
   "outputs": [
    {
     "data": {
      "text/plain": [
       "Index(['Rank', 'D Score', 'E Score', 'Pen.', 'Total', 'year', 'Name', 'nation',\n",
       "       'round_final', 'round_qual', 'round_teamqual', 'round_0'],\n",
       "      dtype='object')"
      ]
     },
     "execution_count": 15,
     "metadata": {},
     "output_type": "execute_result"
    }
   ],
   "source": [
    "olymp.columns"
   ]
  },
  {
   "cell_type": "code",
   "execution_count": 16,
   "id": "8889fb00",
   "metadata": {},
   "outputs": [],
   "source": [
    "# Define the desired column order\n",
    "desired_order = ['Rank', 'D Score', 'E Score', 'Pen.', 'Total', 'year', 'Name', 'nation',\n",
    "       'round_0', 'round_final', 'round_qual']\n",
    "\n",
    "# Reorder the columns based on the desired order\n",
    "olymp = olymp[desired_order]"
   ]
  },
  {
   "cell_type": "code",
   "execution_count": 17,
   "id": "7d909fd4",
   "metadata": {},
   "outputs": [],
   "source": [
    "\n",
    "y_pred = rf_clf.predict(olymp)"
   ]
  },
  {
   "cell_type": "code",
   "execution_count": 18,
   "id": "27129fac",
   "metadata": {},
   "outputs": [],
   "source": [
    "ypreds  = pd.Series(y_pred)"
   ]
  },
  {
   "cell_type": "code",
   "execution_count": 19,
   "id": "2a60967f",
   "metadata": {},
   "outputs": [],
   "source": [
    "olymp['ypred']=ypreds"
   ]
  },
  {
   "cell_type": "code",
   "execution_count": 20,
   "id": "3ea22559",
   "metadata": {},
   "outputs": [
    {
     "data": {
      "text/plain": [
       "ypred\n",
       "0    2105\n",
       "1      11\n",
       "Name: count, dtype: int64"
      ]
     },
     "execution_count": 20,
     "metadata": {},
     "output_type": "execute_result"
    }
   ],
   "source": [
    "olymp['ypred'].value_counts()"
   ]
  },
  {
   "cell_type": "code",
   "execution_count": 21,
   "id": "8220fa1d",
   "metadata": {},
   "outputs": [],
   "source": [
    "filtered_df = olymp[olymp['ypred'] == 1]"
   ]
  },
  {
   "cell_type": "code",
   "execution_count": 22,
   "id": "1aea79da",
   "metadata": {},
   "outputs": [
    {
     "data": {
      "text/plain": [
       "array([ 69,  50, 642,  26, 100])"
      ]
     },
     "execution_count": 22,
     "metadata": {},
     "output_type": "execute_result"
    }
   ],
   "source": [
    "filtered_df['Name'].unique()"
   ]
  },
  {
   "cell_type": "code",
   "execution_count": 23,
   "id": "6ed00a8f",
   "metadata": {},
   "outputs": [],
   "source": [
    "# List of Name_encoded values to filter by\n",
    "name_encoded_values = [ 69,  50, 642,  26, 100]\n",
    "# Create an empty set to store unique names\n",
    "unique_names = set()\n",
    "\n",
    "# Iterate through the DataFrame and add unique names to the set\n",
    "for index, row in fxnames.iterrows():\n",
    "    if row['Name_encoded'] in name_encoded_values:\n",
    "        unique_names.add(row['Name'])\n",
    "\n",
    "# Convert the set of unique names back to a list\n",
    "unique_names_list = list(unique_names)\n"
   ]
  },
  {
   "cell_type": "code",
   "execution_count": 24,
   "id": "18382f69",
   "metadata": {},
   "outputs": [
    {
     "data": {
      "text/plain": [
       "['ashlee sullivan',\n",
       " 'ana barbosu',\n",
       " 'alexa moreno',\n",
       " 'angela andreoli',\n",
       " 'simone biles']"
      ]
     },
     "execution_count": 24,
     "metadata": {},
     "output_type": "execute_result"
    }
   ],
   "source": [
    "unique_names_list"
   ]
  },
  {
   "cell_type": "code",
   "execution_count": 25,
   "id": "cd62ffcb",
   "metadata": {},
   "outputs": [],
   "source": [
    "fxolymp['Name'] = fxolymp['Name'].str.lower()"
   ]
  },
  {
   "cell_type": "code",
   "execution_count": 26,
   "id": "292b9286",
   "metadata": {},
   "outputs": [],
   "source": [
    "names_to_find = ['ana barbosu',\n",
    " 'ashlee sullivan',\n",
    " 'angela andreoli',\n",
    " 'simone biles',\n",
    " 'alexa moreno']\n"
   ]
  },
  {
   "cell_type": "code",
   "execution_count": 27,
   "id": "d6af8eca",
   "metadata": {
    "scrolled": true
   },
   "outputs": [],
   "source": [
    "fxolymp['Name']=fxolymp['Name'].str.lower()"
   ]
  },
  {
   "cell_type": "code",
   "execution_count": 28,
   "id": "137dac82",
   "metadata": {},
   "outputs": [],
   "source": [
    "result_df = fxolymp[fxolymp['Name'].isin(names_to_find)]"
   ]
  },
  {
   "cell_type": "code",
   "execution_count": 29,
   "id": "bc15f192",
   "metadata": {},
   "outputs": [],
   "source": [
    "result_df=result_df[result_df['Apparatus']== 'FX']"
   ]
  },
  {
   "cell_type": "code",
   "execution_count": 30,
   "id": "7858418a",
   "metadata": {},
   "outputs": [],
   "source": [
    "usa = result_df[result_df['Country']=='USA']"
   ]
  },
  {
   "cell_type": "markdown",
   "id": "496f4d3a",
   "metadata": {},
   "source": [
    "# results"
   ]
  },
  {
   "cell_type": "code",
   "execution_count": 31,
   "id": "8165f643",
   "metadata": {},
   "outputs": [
    {
     "data": {
      "text/plain": [
       "array(['simone biles', 'ashlee sullivan'], dtype=object)"
      ]
     },
     "execution_count": 31,
     "metadata": {},
     "output_type": "execute_result"
    }
   ],
   "source": [
    "usa['Name'].unique()"
   ]
  },
  {
   "cell_type": "markdown",
   "id": "e1e672c3",
   "metadata": {},
   "source": [
    "---"
   ]
  },
  {
   "cell_type": "markdown",
   "id": "8aae9b4f",
   "metadata": {},
   "source": [
    "# Feature Importance - no improvement"
   ]
  },
  {
   "cell_type": "code",
   "execution_count": 32,
   "id": "383e4636",
   "metadata": {},
   "outputs": [
    {
     "name": "stdout",
     "output_type": "stream",
     "text": [
      "AdaBoost Classifier\n",
      "Accuracy: 0.9545\n",
      "Classification Report:\n",
      "              precision    recall  f1-score   support\n",
      "\n",
      "           0       0.98      0.98      0.98        42\n",
      "           1       0.50      0.50      0.50         2\n",
      "\n",
      "    accuracy                           0.95        44\n",
      "   macro avg       0.74      0.74      0.74        44\n",
      "weighted avg       0.95      0.95      0.95        44\n",
      "\n",
      "Confusion Matrix:\n",
      "[[41  1]\n",
      " [ 1  1]]\n"
     ]
    },
    {
     "data": {
      "image/png": "[encoded data removed]",
      "text/plain": [
       "<Figure size 720x432 with 1 Axes>"
      ]
     },
     "metadata": {
      "needs_background": "light"
     },
     "output_type": "display_data"
    }
   ],
   "source": [
    "y = df['medal']\n",
    "X = df.drop(columns=['medal'])\n",
    "\n",
    "# Split the data into training and testing sets\n",
    "X_train, X_test, y_train, y_test = train_test_split(X, y, test_size=0.15,\n",
    "                                                    random_state=42)\n",
    "\n",
    "# Initialize the AdaBoost classifier\n",
    "clf = AdaBoostClassifier(n_estimators=1000, learning_rate=.00047,\n",
    "                         random_state=42)\n",
    "\n",
    "# Fit the model to the training data\n",
    "clf.fit(X_train, y_train)\n",
    "\n",
    "# Make predictions on the test data\n",
    "y_pred = clf.predict(X_test)\n",
    "\n",
    "# Evaluate the model's performance\n",
    "accuracy = accuracy_score(y_test, y_pred)\n",
    "report = classification_report(y_test, y_pred)\n",
    "conf_matrix = confusion_matrix(y_test, y_pred)\n",
    "\n",
    "# Print the results\n",
    "print(\"AdaBoost Classifier\")\n",
    "print(f\"Accuracy: {accuracy:.4f}\")\n",
    "print(f\"Classification Report:\\n{report}\")\n",
    "print(f\"Confusion Matrix:\\n{conf_matrix}\")\n",
    "\n",
    "import matplotlib.pyplot as plt\n",
    "\n",
    "# Extract feature importances\n",
    "feature_importances = clf.feature_importances_\n",
    "\n",
    "# Plot feature importances\n",
    "plt.figure(figsize=(10, 6))\n",
    "plt.barh(X.columns, feature_importances, color='skyblue')\n",
    "plt.xlabel('Feature Importance')\n",
    "plt.title('AdaBoost Classifier - Feature Importances')\n",
    "plt.show()\n"
   ]
  },
  {
   "cell_type": "code",
   "execution_count": 33,
   "id": "498fa8bb",
   "metadata": {},
   "outputs": [],
   "source": [
    "# df = pd.read_csv('../../Combine_Data/women/fx_encoded.csv')\n",
    "olymp = pd.read_csv('../../Data/cleandata22-23/encoded_w_olympics_fx.csv')\n",
    "fxnames = pd.read_csv('../../Data/cleandata22-23/encoded_w_olympics_fxnames.csv')\n",
    "fxolymp = pd.read_csv('../../Data/cleandata22-23/women22_23.csv')\n",
    "df = pd.read_csv('../../Combine_Data/women/mult_fx_encoded.csv')\n"
   ]
  },
  {
   "cell_type": "code",
   "execution_count": 34,
   "id": "748ac1c9",
   "metadata": {},
   "outputs": [],
   "source": [
    "df=df.drop(columns=['tot_final',\n",
    "       'tot_fin_d', 'tot_fin_ddiv', 'tot_fin_ddiv_rank'])"
   ]
  },
  {
   "cell_type": "code",
   "execution_count": 35,
   "id": "c4c21472",
   "metadata": {},
   "outputs": [],
   "source": [
    "feats = df.copy()"
   ]
  },
  {
   "cell_type": "code",
   "execution_count": 36,
   "id": "7000bcb8",
   "metadata": {},
   "outputs": [],
   "source": [
    "df = df.drop(columns=['nation', 'Pen.', 'round_0', 'round_final', 'round_qual'])"
   ]
  },
  {
   "cell_type": "code",
   "execution_count": 37,
   "id": "334b6ec1",
   "metadata": {},
   "outputs": [
    {
     "name": "stdout",
     "output_type": "stream",
     "text": [
      "K-Nearest Neighbors Classifier with Grid Search\n",
      "Best Hyperparameters: {'n_neighbors': 5, 'p': 1, 'weights': 'distance'}\n",
      "Accuracy: 0.9688\n",
      "Classification Report:\n",
      "              precision    recall  f1-score   support\n",
      "\n",
      "           0       0.99      0.98      0.98        92\n",
      "           1       0.60      0.75      0.67         4\n",
      "\n",
      "    accuracy                           0.97        96\n",
      "   macro avg       0.79      0.86      0.83        96\n",
      "weighted avg       0.97      0.97      0.97        96\n",
      "\n",
      "Confusion Matrix:\n",
      "[[90  2]\n",
      " [ 1  3]]\n"
     ]
    }
   ],
   "source": [
    "from sklearn.model_selection import GridSearchCV\n",
    "from sklearn.neighbors import KNeighborsClassifier\n",
    "from sklearn.model_selection import train_test_split\n",
    "from sklearn.metrics import accuracy_score, classification_report, confusion_matrix\n",
    "\n",
    "y = df['medal']\n",
    "X = df.drop(columns=['medal'])\n",
    "\n",
    "# Split the data into training and testing sets\n",
    "X_train, X_test, y_train, y_test = train_test_split(X, y, test_size=0.33, random_state=42)\n",
    "\n",
    "# Initialize the K-Nearest Neighbors classifier\n",
    "knn_clf = KNeighborsClassifier()\n",
    "\n",
    "# Define the parameter grid for grid search\n",
    "param_grid = {\n",
    "    'n_neighbors': [3, 5, 7],\n",
    "    'weights': ['uniform', 'distance'],\n",
    "    'p': [1, 2]\n",
    "}\n",
    "\n",
    "# Perform grid search with 5-fold cross-validation\n",
    "grid_search = GridSearchCV(knn_clf, param_grid, cv=5, scoring='accuracy')\n",
    "grid_search.fit(X_train, y_train)\n",
    "\n",
    "# Use the best estimator from grid search\n",
    "best_knn_clf = grid_search.best_estimator_\n",
    "\n",
    "# Make predictions on the test data\n",
    "y_pred = best_knn_clf.predict(X_test)\n",
    "\n",
    "# Evaluate the model's performance\n",
    "accuracy = accuracy_score(y_test, y_pred)\n",
    "report = classification_report(y_test, y_pred)\n",
    "conf_matrix = confusion_matrix(y_test, y_pred)\n",
    "\n",
    "# Print the results\n",
    "print(\"K-Nearest Neighbors Classifier with Grid Search\")\n",
    "print(f\"Best Hyperparameters: {grid_search.best_params_}\")\n",
    "print(f\"Accuracy: {accuracy:.4f}\")\n",
    "print(f\"Classification Report:\\n{report}\")\n",
    "print(f\"Confusion Matrix:\\n{conf_matrix}\")\n"
   ]
  },
  {
   "cell_type": "code",
   "execution_count": 38,
   "id": "5df486e6",
   "metadata": {},
   "outputs": [
    {
     "data": {
      "text/html": [
       "<div>\n",
       "<style scoped>\n",
       "    .dataframe tbody tr th:only-of-type {\n",
       "        vertical-align: middle;\n",
       "    }\n",
       "\n",
       "    .dataframe tbody tr th {\n",
       "        vertical-align: top;\n",
       "    }\n",
       "\n",
       "    .dataframe thead th {\n",
       "        text-align: right;\n",
       "    }\n",
       "</style>\n",
       "<table border=\"1\" class=\"dataframe\">\n",
       "  <thead>\n",
       "    <tr style=\"text-align: right;\">\n",
       "      <th></th>\n",
       "      <th>Rank</th>\n",
       "      <th>D Score</th>\n",
       "      <th>E Score</th>\n",
       "      <th>Pen.</th>\n",
       "      <th>Total</th>\n",
       "      <th>year</th>\n",
       "      <th>Name</th>\n",
       "      <th>nation</th>\n",
       "      <th>round_aafinal</th>\n",
       "      <th>round_final</th>\n",
       "      <th>round_qual</th>\n",
       "      <th>round_teamfinal</th>\n",
       "      <th>round_teamqual</th>\n",
       "    </tr>\n",
       "  </thead>\n",
       "  <tbody>\n",
       "    <tr>\n",
       "      <th>0</th>\n",
       "      <td>109.0</td>\n",
       "      <td>4.4</td>\n",
       "      <td>7.466</td>\n",
       "      <td>0.1</td>\n",
       "      <td>11.766</td>\n",
       "      <td>2022</td>\n",
       "      <td>309</td>\n",
       "      <td>25</td>\n",
       "      <td>False</td>\n",
       "      <td>False</td>\n",
       "      <td>True</td>\n",
       "      <td>False</td>\n",
       "      <td>False</td>\n",
       "    </tr>\n",
       "  </tbody>\n",
       "</table>\n",
       "</div>"
      ],
      "text/plain": [
       "    Rank  D Score  E Score  Pen.   Total  year  Name  nation  round_aafinal  \\\n",
       "0  109.0      4.4    7.466   0.1  11.766  2022   309      25          False   \n",
       "\n",
       "   round_final  round_qual  round_teamfinal  round_teamqual  \n",
       "0        False        True            False           False  "
      ]
     },
     "execution_count": 38,
     "metadata": {},
     "output_type": "execute_result"
    }
   ],
   "source": [
    "olymp.head(1)"
   ]
  },
  {
   "cell_type": "code",
   "execution_count": 39,
   "id": "f561639f",
   "metadata": {},
   "outputs": [],
   "source": [
    "olymp=olymp.drop(columns=['Pen.','nation', 'round_aafinal', 'round_final',\n",
    "                          'round_qual','round_teamfinal',\n",
    "                          'round_teamqual'])\n",
    "\n"
   ]
  },
  {
   "cell_type": "code",
   "execution_count": 40,
   "id": "3e2603e4",
   "metadata": {},
   "outputs": [],
   "source": [
    "y_pred = best_knn_clf.predict(olymp)\n"
   ]
  },
  {
   "cell_type": "code",
   "execution_count": 41,
   "id": "addccb06",
   "metadata": {},
   "outputs": [
    {
     "data": {
      "text/plain": [
       "ypred\n",
       "0    1808\n",
       "1     308\n",
       "Name: count, dtype: int64"
      ]
     },
     "execution_count": 41,
     "metadata": {},
     "output_type": "execute_result"
    }
   ],
   "source": [
    "ypreds  = pd.Series(y_pred)\n",
    "olymp['ypred']=ypreds\n",
    "olymp['ypred'].value_counts()"
   ]
  },
  {
   "cell_type": "code",
   "execution_count": 42,
   "id": "d30c03e0",
   "metadata": {},
   "outputs": [
    {
     "data": {
      "text/plain": [
       "array([711, 556, 364, 172, 338, 584, 194, 693, 664, 131, 642, 221, 647,\n",
       "       157, 486, 690, 200, 307, 147, 201, 140, 330, 503, 335, 494, 526,\n",
       "       403, 404, 659, 350, 366, 525, 527, 272, 470, 592, 593, 267, 230,\n",
       "       320, 326, 266, 440, 485, 446, 162, 290, 288, 395, 536, 546, 449,\n",
       "       636, 360, 276, 413, 654, 612, 588, 736, 319, 196, 505, 517, 721,\n",
       "       348, 146, 246, 553, 488, 234, 601, 269, 544, 545, 685, 275, 382,\n",
       "       142, 496, 640, 734, 479, 638, 259, 216, 354, 487, 727, 604, 514,\n",
       "       515, 728, 432, 188, 143, 304, 124, 241, 501, 458, 697, 355, 578,\n",
       "       376, 333, 332,  66, 580, 620, 361, 560, 248, 186, 373, 256, 254,\n",
       "       590, 652, 337, 573, 572, 675, 708, 247, 665, 663, 340, 433, 705,\n",
       "       380, 722, 192, 476, 523, 407, 371, 583, 166, 414, 328, 577, 713,\n",
       "       243, 680])"
      ]
     },
     "execution_count": 42,
     "metadata": {},
     "output_type": "execute_result"
    }
   ],
   "source": [
    "filtered_df = olymp[olymp['ypred'] == 1]\n",
    "filtered_df['Name'].unique()"
   ]
  },
  {
   "cell_type": "code",
   "execution_count": null,
   "id": "16e7d77a",
   "metadata": {},
   "outputs": [],
   "source": []
  }
 ],
 "metadata": {
  "kernelspec": {
   "display_name": "Python 3 (ipykernel)",
   "language": "python",
   "name": "python3"
  },
  "language_info": {
   "codemirror_mode": {
    "name": "ipython",
    "version": 3
   },
   "file_extension": ".py",
   "mimetype": "text/x-python",
   "name": "python",
   "nbconvert_exporter": "python",
   "pygments_lexer": "ipython3",
   "version": "3.8.18"
  }
 },
 "nbformat": 4,
 "nbformat_minor": 5
}
