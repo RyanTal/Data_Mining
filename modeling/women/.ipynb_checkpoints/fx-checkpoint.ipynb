{
 "cells": [
  {
   "cell_type": "markdown",
   "id": "6b311890",
   "metadata": {},
   "source": [
    "# USA Gymnast with best chances to medal in Uneven Bars are:\n",
    "\n",
    "- kaliya lincoln"
   ]
  },
  {
   "cell_type": "code",
   "execution_count": 3,
   "id": "b7ce80f2",
   "metadata": {},
   "outputs": [],
   "source": [
    "import pandas as pd\n",
    "import numpy as np\n",
    "from scipy import stats\n",
    "from mlxtend.preprocessing import minmax_scaling\n",
    "import seaborn as sns\n",
    "import matplotlib.pyplot as plt\n",
    "from matplotlib.colors import ListedColormap\n",
    "from sklearn.datasets import make_circles, make_classification, make_moons\n",
    "from sklearn.discriminant_analysis import QuadraticDiscriminantAnalysis\n",
    "from sklearn.ensemble import AdaBoostClassifier, RandomForestClassifier\n",
    "from sklearn.gaussian_process import GaussianProcessClassifier\n",
    "from sklearn.gaussian_process.kernels import RBF\n",
    "from sklearn.inspection import DecisionBoundaryDisplay\n",
    "from sklearn.model_selection import train_test_split\n",
    "from sklearn.naive_bayes import GaussianNB\n",
    "from sklearn.neighbors import KNeighborsClassifier\n",
    "from sklearn.neural_network import MLPClassifier\n",
    "from sklearn.pipeline import make_pipeline\n",
    "from sklearn.preprocessing import StandardScaler\n",
    "from sklearn.svm import SVC\n",
    "from sklearn.tree import DecisionTreeClassifier\n"
   ]
  },
  {
   "cell_type": "code",
   "execution_count": 8,
   "id": "8f241c12",
   "metadata": {},
   "outputs": [],
   "source": [
    "df = pd.read_csv('../../Combine_Data/women/fx_encoded.csv')\n",
    "olymp = pd.read_csv('../../Data/cleandata22-23/encoded_w_olympics_fx.csv')\n",
    "fxnames = pd.read_csv('../../Data/cleandata22-23/encoded_w_olympics_fxnames.csv')\n",
    "fxolymp = pd.read_csv('../../Data/cleandata22-23/women22_23.csv')"
   ]
  },
  {
   "cell_type": "code",
   "execution_count": 9,
   "id": "bc4233ca",
   "metadata": {},
   "outputs": [
    {
     "data": {
      "text/plain": [
       "Index(['Rank', 'D Score', 'E Score', 'Pen.', 'Total', 'year', 'medal', 'Name',\n",
       "       'nation', 'round_0', 'round_final', 'round_qual'],\n",
       "      dtype='object')"
      ]
     },
     "execution_count": 9,
     "metadata": {},
     "output_type": "execute_result"
    }
   ],
   "source": [
    "df.columns"
   ]
  },
  {
   "cell_type": "code",
   "execution_count": null,
   "id": "3ba0b1a5",
   "metadata": {},
   "outputs": [],
   "source": [
    "# fx_encoded.csv\n",
    "# fx_w.csv"
   ]
  },
  {
   "cell_type": "code",
   "execution_count": 10,
   "id": "044a98a5",
   "metadata": {},
   "outputs": [
    {
     "data": {
      "text/html": [
       "<div>\n",
       "<style scoped>\n",
       "    .dataframe tbody tr th:only-of-type {\n",
       "        vertical-align: middle;\n",
       "    }\n",
       "\n",
       "    .dataframe tbody tr th {\n",
       "        vertical-align: top;\n",
       "    }\n",
       "\n",
       "    .dataframe thead th {\n",
       "        text-align: right;\n",
       "    }\n",
       "</style>\n",
       "<table border=\"1\" class=\"dataframe\">\n",
       "  <thead>\n",
       "    <tr style=\"text-align: right;\">\n",
       "      <th></th>\n",
       "      <th>Rank</th>\n",
       "      <th>D Score</th>\n",
       "      <th>E Score</th>\n",
       "      <th>Pen.</th>\n",
       "      <th>Total</th>\n",
       "      <th>year</th>\n",
       "      <th>medal</th>\n",
       "      <th>Name</th>\n",
       "      <th>nation</th>\n",
       "      <th>round_0</th>\n",
       "      <th>round_final</th>\n",
       "      <th>round_qual</th>\n",
       "    </tr>\n",
       "  </thead>\n",
       "  <tbody>\n",
       "    <tr>\n",
       "      <th>0</th>\n",
       "      <td>1.0</td>\n",
       "      <td>6.2</td>\n",
       "      <td>8.266</td>\n",
       "      <td>0.0</td>\n",
       "      <td>14.466</td>\n",
       "      <td>2019</td>\n",
       "      <td>1</td>\n",
       "      <td>128</td>\n",
       "      <td>58</td>\n",
       "      <td>False</td>\n",
       "      <td>True</td>\n",
       "      <td>False</td>\n",
       "    </tr>\n",
       "    <tr>\n",
       "      <th>1</th>\n",
       "      <td>2.0</td>\n",
       "      <td>5.6</td>\n",
       "      <td>7.833</td>\n",
       "      <td>0.0</td>\n",
       "      <td>13.433</td>\n",
       "      <td>2019</td>\n",
       "      <td>0</td>\n",
       "      <td>158</td>\n",
       "      <td>29</td>\n",
       "      <td>False</td>\n",
       "      <td>True</td>\n",
       "      <td>False</td>\n",
       "    </tr>\n",
       "    <tr>\n",
       "      <th>2</th>\n",
       "      <td>3.0</td>\n",
       "      <td>5.2</td>\n",
       "      <td>8.100</td>\n",
       "      <td>0.0</td>\n",
       "      <td>13.300</td>\n",
       "      <td>2019</td>\n",
       "      <td>1</td>\n",
       "      <td>267</td>\n",
       "      <td>29</td>\n",
       "      <td>False</td>\n",
       "      <td>True</td>\n",
       "      <td>False</td>\n",
       "    </tr>\n",
       "    <tr>\n",
       "      <th>3</th>\n",
       "      <td>4.0</td>\n",
       "      <td>5.4</td>\n",
       "      <td>7.933</td>\n",
       "      <td>-0.1</td>\n",
       "      <td>13.233</td>\n",
       "      <td>2019</td>\n",
       "      <td>0</td>\n",
       "      <td>192</td>\n",
       "      <td>42</td>\n",
       "      <td>False</td>\n",
       "      <td>True</td>\n",
       "      <td>False</td>\n",
       "    </tr>\n",
       "    <tr>\n",
       "      <th>4</th>\n",
       "      <td>5.0</td>\n",
       "      <td>5.0</td>\n",
       "      <td>8.200</td>\n",
       "      <td>0.0</td>\n",
       "      <td>13.200</td>\n",
       "      <td>2019</td>\n",
       "      <td>0</td>\n",
       "      <td>191</td>\n",
       "      <td>19</td>\n",
       "      <td>False</td>\n",
       "      <td>True</td>\n",
       "      <td>False</td>\n",
       "    </tr>\n",
       "  </tbody>\n",
       "</table>\n",
       "</div>"
      ],
      "text/plain": [
       "   Rank  D Score  E Score  Pen.   Total  year  medal  Name  nation  round_0  \\\n",
       "0   1.0      6.2    8.266   0.0  14.466  2019      1   128      58    False   \n",
       "1   2.0      5.6    7.833   0.0  13.433  2019      0   158      29    False   \n",
       "2   3.0      5.2    8.100   0.0  13.300  2019      1   267      29    False   \n",
       "3   4.0      5.4    7.933  -0.1  13.233  2019      0   192      42    False   \n",
       "4   5.0      5.0    8.200   0.0  13.200  2019      0   191      19    False   \n",
       "\n",
       "   round_final  round_qual  \n",
       "0         True       False  \n",
       "1         True       False  \n",
       "2         True       False  \n",
       "3         True       False  \n",
       "4         True       False  "
      ]
     },
     "execution_count": 10,
     "metadata": {},
     "output_type": "execute_result"
    }
   ],
   "source": [
    "df.head()"
   ]
  },
  {
   "cell_type": "code",
   "execution_count": null,
   "id": "2f2fc930",
   "metadata": {},
   "outputs": [],
   "source": [
    "# june 6 2017 till 2020 olympics = 1529\n",
    "# 2018 = 1164\n",
    "# 2019 = 799\n",
    "# 2020 = 433\n",
    "\n",
    "# june 6 2013 till  2016 olympics = 1177\n",
    "# 2014 = 812\n",
    "# 2015 = 447\n",
    "# 2016 = 90\n",
    "\n",
    "\n",
    "# dats till 2024 olympics = \n",
    "# 2022 = 796\n",
    "# 2023 = 431\n",
    "\n"
   ]
  },
  {
   "cell_type": "code",
   "execution_count": 12,
   "id": "bde3ec21",
   "metadata": {},
   "outputs": [
    {
     "data": {
      "text/plain": [
       "array([2019, 2020, 2018, 2017, 2015, 2014, 2013, 2016])"
      ]
     },
     "execution_count": 12,
     "metadata": {},
     "output_type": "execute_result"
    }
   ],
   "source": [
    "df['year'].unique()"
   ]
  },
  {
   "cell_type": "code",
   "execution_count": 13,
   "id": "fb8622f5",
   "metadata": {},
   "outputs": [],
   "source": [
    "df['days'] = df['year'].replace({\n",
    "    2017: 1529,\n",
    "    2018: 1164,\n",
    "    2019: 799,\n",
    "    2020: 433,\n",
    "    2013: 1177,\n",
    "    2014: 812,\n",
    "    2015: 447,\n",
    "    2016: 90\n",
    "})"
   ]
  },
  {
   "cell_type": "code",
   "execution_count": 15,
   "id": "2bebe993",
   "metadata": {},
   "outputs": [
    {
     "data": {
      "text/plain": [
       "array([ 799,  433, 1164, 1529,  447,  812, 1177,   90])"
      ]
     },
     "execution_count": 15,
     "metadata": {},
     "output_type": "execute_result"
    }
   ],
   "source": [
    "df['days'].unique()"
   ]
  },
  {
   "cell_type": "code",
   "execution_count": 16,
   "id": "0afeb379",
   "metadata": {},
   "outputs": [],
   "source": [
    "df = df.drop(columns=['year'])"
   ]
  },
  {
   "cell_type": "code",
   "execution_count": 17,
   "id": "baf52efe",
   "metadata": {},
   "outputs": [],
   "source": [
    "\n",
    "\n",
    "clf = make_pipeline(StandardScaler(), SVC())"
   ]
  },
  {
   "cell_type": "code",
   "execution_count": 18,
   "id": "cbbbdaad",
   "metadata": {},
   "outputs": [],
   "source": [
    "y = df['medal']\n",
    "X = df.drop(columns=['medal'])\n",
    "\n",
    "# Split the data into training and testing sets\n",
    "X_train, X_test, y_train, y_test = train_test_split(X, y, test_size=0.2, random_state=42)\n"
   ]
  },
  {
   "cell_type": "code",
   "execution_count": 19,
   "id": "8122d96f",
   "metadata": {},
   "outputs": [
    {
     "data": {
      "text/html": [
       "<style>#sk-container-id-1 {color: black;}#sk-container-id-1 pre{padding: 0;}#sk-container-id-1 div.sk-toggleable {background-color: white;}#sk-container-id-1 label.sk-toggleable__label {cursor: pointer;display: block;width: 100%;margin-bottom: 0;padding: 0.3em;box-sizing: border-box;text-align: center;}#sk-container-id-1 label.sk-toggleable__label-arrow:before {content: \"▸\";float: left;margin-right: 0.25em;color: #696969;}#sk-container-id-1 label.sk-toggleable__label-arrow:hover:before {color: black;}#sk-container-id-1 div.sk-estimator:hover label.sk-toggleable__label-arrow:before {color: black;}#sk-container-id-1 div.sk-toggleable__content {max-height: 0;max-width: 0;overflow: hidden;text-align: left;background-color: #f0f8ff;}#sk-container-id-1 div.sk-toggleable__content pre {margin: 0.2em;color: black;border-radius: 0.25em;background-color: #f0f8ff;}#sk-container-id-1 input.sk-toggleable__control:checked~div.sk-toggleable__content {max-height: 200px;max-width: 100%;overflow: auto;}#sk-container-id-1 input.sk-toggleable__control:checked~label.sk-toggleable__label-arrow:before {content: \"▾\";}#sk-container-id-1 div.sk-estimator input.sk-toggleable__control:checked~label.sk-toggleable__label {background-color: #d4ebff;}#sk-container-id-1 div.sk-label input.sk-toggleable__control:checked~label.sk-toggleable__label {background-color: #d4ebff;}#sk-container-id-1 input.sk-hidden--visually {border: 0;clip: rect(1px 1px 1px 1px);clip: rect(1px, 1px, 1px, 1px);height: 1px;margin: -1px;overflow: hidden;padding: 0;position: absolute;width: 1px;}#sk-container-id-1 div.sk-estimator {font-family: monospace;background-color: #f0f8ff;border: 1px dotted black;border-radius: 0.25em;box-sizing: border-box;margin-bottom: 0.5em;}#sk-container-id-1 div.sk-estimator:hover {background-color: #d4ebff;}#sk-container-id-1 div.sk-parallel-item::after {content: \"\";width: 100%;border-bottom: 1px solid gray;flex-grow: 1;}#sk-container-id-1 div.sk-label:hover label.sk-toggleable__label {background-color: #d4ebff;}#sk-container-id-1 div.sk-serial::before {content: \"\";position: absolute;border-left: 1px solid gray;box-sizing: border-box;top: 0;bottom: 0;left: 50%;z-index: 0;}#sk-container-id-1 div.sk-serial {display: flex;flex-direction: column;align-items: center;background-color: white;padding-right: 0.2em;padding-left: 0.2em;position: relative;}#sk-container-id-1 div.sk-item {position: relative;z-index: 1;}#sk-container-id-1 div.sk-parallel {display: flex;align-items: stretch;justify-content: center;background-color: white;position: relative;}#sk-container-id-1 div.sk-item::before, #sk-container-id-1 div.sk-parallel-item::before {content: \"\";position: absolute;border-left: 1px solid gray;box-sizing: border-box;top: 0;bottom: 0;left: 50%;z-index: -1;}#sk-container-id-1 div.sk-parallel-item {display: flex;flex-direction: column;z-index: 1;position: relative;background-color: white;}#sk-container-id-1 div.sk-parallel-item:first-child::after {align-self: flex-end;width: 50%;}#sk-container-id-1 div.sk-parallel-item:last-child::after {align-self: flex-start;width: 50%;}#sk-container-id-1 div.sk-parallel-item:only-child::after {width: 0;}#sk-container-id-1 div.sk-dashed-wrapped {border: 1px dashed gray;margin: 0 0.4em 0.5em 0.4em;box-sizing: border-box;padding-bottom: 0.4em;background-color: white;}#sk-container-id-1 div.sk-label label {font-family: monospace;font-weight: bold;display: inline-block;line-height: 1.2em;}#sk-container-id-1 div.sk-label-container {text-align: center;}#sk-container-id-1 div.sk-container {/* jupyter's `normalize.less` sets `[hidden] { display: none; }` but bootstrap.min.css set `[hidden] { display: none !important; }` so we also need the `!important` here to be able to override the default hidden behavior on the sphinx rendered scikit-learn.org. See: https://github.com/scikit-learn/scikit-learn/issues/21755 */display: inline-block !important;position: relative;}#sk-container-id-1 div.sk-text-repr-fallback {display: none;}</style><div id=\"sk-container-id-1\" class=\"sk-top-container\"><div class=\"sk-text-repr-fallback\"><pre>SVC(decision_function_shape=&#x27;ovo&#x27;)</pre><b>In a Jupyter environment, please rerun this cell to show the HTML representation or trust the notebook. <br />On GitHub, the HTML representation is unable to render, please try loading this page with nbviewer.org.</b></div><div class=\"sk-container\" hidden><div class=\"sk-item\"><div class=\"sk-estimator sk-toggleable\"><input class=\"sk-toggleable__control sk-hidden--visually\" id=\"sk-estimator-id-1\" type=\"checkbox\" checked><label for=\"sk-estimator-id-1\" class=\"sk-toggleable__label sk-toggleable__label-arrow\">SVC</label><div class=\"sk-toggleable__content\"><pre>SVC(decision_function_shape=&#x27;ovo&#x27;)</pre></div></div></div></div></div>"
      ],
      "text/plain": [
       "SVC(decision_function_shape='ovo')"
      ]
     },
     "execution_count": 19,
     "metadata": {},
     "output_type": "execute_result"
    }
   ],
   "source": [
    "clf = svm.SVC(decision_function_shape='ovo')\n",
    "clf.fit(X_train, y_train)"
   ]
  },
  {
   "cell_type": "code",
   "execution_count": 20,
   "id": "ebc40787",
   "metadata": {},
   "outputs": [],
   "source": [
    "dec = clf.decision_function(X_test)"
   ]
  },
  {
   "cell_type": "code",
   "execution_count": 21,
   "id": "c2f770c3",
   "metadata": {},
   "outputs": [
    {
     "data": {
      "text/plain": [
       "(88,)"
      ]
     },
     "execution_count": 21,
     "metadata": {},
     "output_type": "execute_result"
    }
   ],
   "source": [
    "dec.shape"
   ]
  },
  {
   "cell_type": "code",
   "execution_count": 22,
   "id": "037a10a7",
   "metadata": {},
   "outputs": [],
   "source": [
    "clf.decision_function_shape = \"ovr\""
   ]
  },
  {
   "cell_type": "code",
   "execution_count": 23,
   "id": "6d05e41d",
   "metadata": {},
   "outputs": [
    {
     "name": "stdout",
     "output_type": "stream",
     "text": [
      "Accuracy: 0.9545454545454546\n",
      "Classification Report:\n",
      "               precision    recall  f1-score   support\n",
      "\n",
      "           0       0.95      1.00      0.98        84\n",
      "           1       0.00      0.00      0.00         4\n",
      "\n",
      "    accuracy                           0.95        88\n",
      "   macro avg       0.48      0.50      0.49        88\n",
      "weighted avg       0.91      0.95      0.93        88\n",
      "\n",
      "Confusion Matrix:\n",
      " [[84  0]\n",
      " [ 4  0]]\n"
     ]
    },
    {
     "name": "stderr",
     "output_type": "stream",
     "text": [
      "/Users/ryantalbot/opt/anaconda3/envs/tf2/lib/python3.9/site-packages/sklearn/metrics/_classification.py:1469: UndefinedMetricWarning: Precision and F-score are ill-defined and being set to 0.0 in labels with no predicted samples. Use `zero_division` parameter to control this behavior.\n",
      "  _warn_prf(average, modifier, msg_start, len(result))\n",
      "/Users/ryantalbot/opt/anaconda3/envs/tf2/lib/python3.9/site-packages/sklearn/metrics/_classification.py:1469: UndefinedMetricWarning: Precision and F-score are ill-defined and being set to 0.0 in labels with no predicted samples. Use `zero_division` parameter to control this behavior.\n",
      "  _warn_prf(average, modifier, msg_start, len(result))\n",
      "/Users/ryantalbot/opt/anaconda3/envs/tf2/lib/python3.9/site-packages/sklearn/metrics/_classification.py:1469: UndefinedMetricWarning: Precision and F-score are ill-defined and being set to 0.0 in labels with no predicted samples. Use `zero_division` parameter to control this behavior.\n",
      "  _warn_prf(average, modifier, msg_start, len(result))\n"
     ]
    }
   ],
   "source": [
    "\n",
    "# Initialize the SVM classifier\n",
    "clf = SVC(decision_function_shape='ovo')\n",
    "\n",
    "# Fit the model to the training data\n",
    "clf.fit(X_train, y_train)\n",
    "\n",
    "# Make predictions on the test data\n",
    "y_pred = clf.predict(X_test)\n",
    "\n",
    "# Evaluate the model's performance\n",
    "accuracy = accuracy_score(y_test, y_pred)\n",
    "report = classification_report(y_test, y_pred)\n",
    "conf_matrix = confusion_matrix(y_test, y_pred)\n",
    "\n",
    "print(\"Accuracy:\", accuracy)\n",
    "print(\"Classification Report:\\n\", report)\n",
    "print(\"Confusion Matrix:\\n\", conf_matrix)\n"
   ]
  },
  {
   "cell_type": "code",
   "execution_count": 24,
   "id": "4c0009f5",
   "metadata": {
    "scrolled": false
   },
   "outputs": [
    {
     "name": "stderr",
     "output_type": "stream",
     "text": [
      "/Users/ryantalbot/opt/anaconda3/envs/tf2/lib/python3.9/site-packages/sklearn/metrics/_classification.py:1469: UndefinedMetricWarning: Precision and F-score are ill-defined and being set to 0.0 in labels with no predicted samples. Use `zero_division` parameter to control this behavior.\n",
      "  _warn_prf(average, modifier, msg_start, len(result))\n",
      "/Users/ryantalbot/opt/anaconda3/envs/tf2/lib/python3.9/site-packages/sklearn/metrics/_classification.py:1469: UndefinedMetricWarning: Precision and F-score are ill-defined and being set to 0.0 in labels with no predicted samples. Use `zero_division` parameter to control this behavior.\n",
      "  _warn_prf(average, modifier, msg_start, len(result))\n",
      "/Users/ryantalbot/opt/anaconda3/envs/tf2/lib/python3.9/site-packages/sklearn/metrics/_classification.py:1469: UndefinedMetricWarning: Precision and F-score are ill-defined and being set to 0.0 in labels with no predicted samples. Use `zero_division` parameter to control this behavior.\n",
      "  _warn_prf(average, modifier, msg_start, len(result))\n",
      "/Users/ryantalbot/opt/anaconda3/envs/tf2/lib/python3.9/site-packages/sklearn/metrics/_classification.py:1469: UndefinedMetricWarning: Precision and F-score are ill-defined and being set to 0.0 in labels with no predicted samples. Use `zero_division` parameter to control this behavior.\n",
      "  _warn_prf(average, modifier, msg_start, len(result))\n",
      "/Users/ryantalbot/opt/anaconda3/envs/tf2/lib/python3.9/site-packages/sklearn/metrics/_classification.py:1469: UndefinedMetricWarning: Precision and F-score are ill-defined and being set to 0.0 in labels with no predicted samples. Use `zero_division` parameter to control this behavior.\n",
      "  _warn_prf(average, modifier, msg_start, len(result))\n",
      "/Users/ryantalbot/opt/anaconda3/envs/tf2/lib/python3.9/site-packages/sklearn/metrics/_classification.py:1469: UndefinedMetricWarning: Precision and F-score are ill-defined and being set to 0.0 in labels with no predicted samples. Use `zero_division` parameter to control this behavior.\n",
      "  _warn_prf(average, modifier, msg_start, len(result))\n"
     ]
    },
    {
     "name": "stdout",
     "output_type": "stream",
     "text": [
      "Classifier: Random Forest\n",
      "Accuracy: 0.9659\n",
      "Classification Report:\n",
      "              precision    recall  f1-score   support\n",
      "\n",
      "           0       0.97      1.00      0.98        84\n",
      "           1       1.00      0.25      0.40         4\n",
      "\n",
      "    accuracy                           0.97        88\n",
      "   macro avg       0.98      0.62      0.69        88\n",
      "weighted avg       0.97      0.97      0.96        88\n",
      "\n",
      "Confusion Matrix:\n",
      "[[84  0]\n",
      " [ 3  1]]\n",
      "\n",
      "Classifier: AdaBoost\n",
      "Accuracy: 0.9659\n",
      "Classification Report:\n",
      "              precision    recall  f1-score   support\n",
      "\n",
      "           0       0.98      0.99      0.98        84\n",
      "           1       0.67      0.50      0.57         4\n",
      "\n",
      "    accuracy                           0.97        88\n",
      "   macro avg       0.82      0.74      0.78        88\n",
      "weighted avg       0.96      0.97      0.96        88\n",
      "\n",
      "Confusion Matrix:\n",
      "[[83  1]\n",
      " [ 2  2]]\n",
      "\n",
      "Classifier: SVM\n",
      "Accuracy: 0.9545\n",
      "Classification Report:\n",
      "              precision    recall  f1-score   support\n",
      "\n",
      "           0       0.95      1.00      0.98        84\n",
      "           1       0.00      0.00      0.00         4\n",
      "\n",
      "    accuracy                           0.95        88\n",
      "   macro avg       0.48      0.50      0.49        88\n",
      "weighted avg       0.91      0.95      0.93        88\n",
      "\n",
      "Confusion Matrix:\n",
      "[[84  0]\n",
      " [ 4  0]]\n",
      "\n",
      "Classifier: K-Nearest Neighbors\n",
      "Accuracy: 0.9545\n",
      "Classification Report:\n",
      "              precision    recall  f1-score   support\n",
      "\n",
      "           0       0.95      1.00      0.98        84\n",
      "           1       0.00      0.00      0.00         4\n",
      "\n",
      "    accuracy                           0.95        88\n",
      "   macro avg       0.48      0.50      0.49        88\n",
      "weighted avg       0.91      0.95      0.93        88\n",
      "\n",
      "Confusion Matrix:\n",
      "[[84  0]\n",
      " [ 4  0]]\n",
      "\n",
      "Classifier: Decision Tree\n",
      "Accuracy: 0.9091\n",
      "Classification Report:\n",
      "              precision    recall  f1-score   support\n",
      "\n",
      "           0       0.97      0.93      0.95        84\n",
      "           1       0.25      0.50      0.33         4\n",
      "\n",
      "    accuracy                           0.91        88\n",
      "   macro avg       0.61      0.71      0.64        88\n",
      "weighted avg       0.94      0.91      0.92        88\n",
      "\n",
      "Confusion Matrix:\n",
      "[[78  6]\n",
      " [ 2  2]]\n",
      "\n",
      "Classifier: Naive Bayes\n",
      "Accuracy: 0.8068\n",
      "Classification Report:\n",
      "              precision    recall  f1-score   support\n",
      "\n",
      "           0       0.99      0.81      0.89        84\n",
      "           1       0.16      0.75      0.26         4\n",
      "\n",
      "    accuracy                           0.81        88\n",
      "   macro avg       0.57      0.78      0.57        88\n",
      "weighted avg       0.95      0.81      0.86        88\n",
      "\n",
      "Confusion Matrix:\n",
      "[[68 16]\n",
      " [ 1  3]]\n",
      "\n",
      "Classifier: Neural Network\n",
      "Accuracy: 0.9545\n",
      "Classification Report:\n",
      "              precision    recall  f1-score   support\n",
      "\n",
      "           0       0.95      1.00      0.98        84\n",
      "           1       0.00      0.00      0.00         4\n",
      "\n",
      "    accuracy                           0.95        88\n",
      "   macro avg       0.48      0.50      0.49        88\n",
      "weighted avg       0.91      0.95      0.93        88\n",
      "\n",
      "Confusion Matrix:\n",
      "[[84  0]\n",
      " [ 4  0]]\n",
      "\n"
     ]
    },
    {
     "name": "stderr",
     "output_type": "stream",
     "text": [
      "/Users/ryantalbot/opt/anaconda3/envs/tf2/lib/python3.9/site-packages/sklearn/neural_network/_multilayer_perceptron.py:691: ConvergenceWarning: Stochastic Optimizer: Maximum iterations (200) reached and the optimization hasn't converged yet.\n",
      "  warnings.warn(\n",
      "/Users/ryantalbot/opt/anaconda3/envs/tf2/lib/python3.9/site-packages/sklearn/metrics/_classification.py:1469: UndefinedMetricWarning: Precision and F-score are ill-defined and being set to 0.0 in labels with no predicted samples. Use `zero_division` parameter to control this behavior.\n",
      "  _warn_prf(average, modifier, msg_start, len(result))\n",
      "/Users/ryantalbot/opt/anaconda3/envs/tf2/lib/python3.9/site-packages/sklearn/metrics/_classification.py:1469: UndefinedMetricWarning: Precision and F-score are ill-defined and being set to 0.0 in labels with no predicted samples. Use `zero_division` parameter to control this behavior.\n",
      "  _warn_prf(average, modifier, msg_start, len(result))\n",
      "/Users/ryantalbot/opt/anaconda3/envs/tf2/lib/python3.9/site-packages/sklearn/metrics/_classification.py:1469: UndefinedMetricWarning: Precision and F-score are ill-defined and being set to 0.0 in labels with no predicted samples. Use `zero_division` parameter to control this behavior.\n",
      "  _warn_prf(average, modifier, msg_start, len(result))\n"
     ]
    }
   ],
   "source": [
    "\n",
    "# Assuming you already have your DataFrame 'df' and the target variable is 'medal'\n",
    "y = df['medal']\n",
    "X = df.drop(columns=['medal'])\n",
    "\n",
    "# Split the data into training and testing sets\n",
    "X_train, X_test, y_train, y_test = train_test_split(X, y, test_size=0.2, random_state=42)\n",
    "\n",
    "# Initialize classifiers\n",
    "classifiers = {\n",
    "    \"Random Forest\": RandomForestClassifier(),\n",
    "    \"AdaBoost\": AdaBoostClassifier(),\n",
    "    \"SVM\": SVC(),\n",
    "    \"K-Nearest Neighbors\": KNeighborsClassifier(),\n",
    "    \"Decision Tree\": DecisionTreeClassifier(),\n",
    "    \"Naive Bayes\": GaussianNB(),\n",
    "    \"Neural Network\": MLPClassifier(),\n",
    "}\n",
    "\n",
    "results = {}\n",
    "\n",
    "# Iterate through each classifier\n",
    "for name, clf in classifiers.items():\n",
    "    # Create a pipeline with StandardScaler for classifiers that require it\n",
    "    if name in [\"SVM\", \"K-Nearest Neighbors\", \"Neural Network\"]:\n",
    "        clf = make_pipeline(StandardScaler(), clf)\n",
    "\n",
    "    # Fit the model to the training data\n",
    "    clf.fit(X_train, y_train)\n",
    "\n",
    "    # Make predictions on the test data\n",
    "    y_pred = clf.predict(X_test)\n",
    "\n",
    "    # Evaluate the model's performance\n",
    "    accuracy = accuracy_score(y_test, y_pred)\n",
    "    report = classification_report(y_test, y_pred)\n",
    "    conf_matrix = confusion_matrix(y_test, y_pred)\n",
    "\n",
    "    results[name] = {\n",
    "        \"accuracy\": accuracy,\n",
    "        \"classification_report\": report,\n",
    "        \"confusion_matrix\": conf_matrix,\n",
    "    }\n",
    "\n",
    "# Print the results\n",
    "for name, result in results.items():\n",
    "    print(f\"Classifier: {name}\")\n",
    "    print(f\"Accuracy: {result['accuracy']:.4f}\")\n",
    "    print(f\"Classification Report:\\n{result['classification_report']}\")\n",
    "    print(f\"Confusion Matrix:\\n{result['confusion_matrix']}\\n\")\n"
   ]
  },
  {
   "cell_type": "markdown",
   "id": "49120804",
   "metadata": {},
   "source": [
    "using days instead of year\n",
    "\n",
    "Classifier: Random Forest\n",
    "Accuracy: 0.9659\n",
    "\n",
    "Classifier: AdaBoost\n",
    "Accuracy: 0.9659\n",
    "\n",
    "---\n"
   ]
  },
  {
   "cell_type": "markdown",
   "id": "33e1b05b",
   "metadata": {},
   "source": [
    "Classifier: Random Forest\n",
    "Accuracy: 0.9659\n",
    "\n",
    "Classifier: SVM\n",
    "Accuracy: 0.9545\n",
    "\n",
    "Classifier: K-Nearest Neighbors\n",
    "Accuracy: 0.9659\n",
    "\n",
    "Classifier: Neural Network\n",
    "Accuracy: 0.9659\n",
    "\n",
    "Classifier: AdaBoost\n",
    "Accuracy: 0.9659"
   ]
  },
  {
   "cell_type": "code",
   "execution_count": 25,
   "id": "7c940853",
   "metadata": {},
   "outputs": [
    {
     "name": "stdout",
     "output_type": "stream",
     "text": [
      "AdaBoost Classifier\n",
      "Accuracy: 0.9773\n",
      "Classification Report:\n",
      "              precision    recall  f1-score   support\n",
      "\n",
      "           0       0.98      1.00      0.99        84\n",
      "           1       1.00      0.50      0.67         4\n",
      "\n",
      "    accuracy                           0.98        88\n",
      "   macro avg       0.99      0.75      0.83        88\n",
      "weighted avg       0.98      0.98      0.97        88\n",
      "\n",
      "Confusion Matrix:\n",
      "[[84  0]\n",
      " [ 2  2]]\n"
     ]
    }
   ],
   "source": [
    "\n",
    "# Assuming you already have your DataFrame 'df' and the target variable is 'medal'\n",
    "y = df['medal']\n",
    "X = df.drop(columns=['medal'])\n",
    "\n",
    "# Split the data into training and testing sets\n",
    "X_train, X_test, y_train, y_test = train_test_split(X, y, test_size=0.2, random_state=42)\n",
    "\n",
    "# Initialize the AdaBoost classifier\n",
    "clf = AdaBoostClassifier(n_estimators=100,  random_state=42)\n",
    "\n",
    "# Fit the model to the training data\n",
    "clf.fit(X_train, y_train)\n",
    "\n",
    "# Make predictions on the test data\n",
    "y_pred = clf.predict(X_test)\n",
    "\n",
    "# Evaluate the model's performance\n",
    "accuracy = accuracy_score(y_test, y_pred)\n",
    "report = classification_report(y_test, y_pred)\n",
    "conf_matrix = confusion_matrix(y_test, y_pred)\n",
    "\n",
    "# Print the results\n",
    "print(\"AdaBoost Classifier\")\n",
    "print(f\"Accuracy: {accuracy:.4f}\")\n",
    "print(f\"Classification Report:\\n{report}\")\n",
    "print(f\"Confusion Matrix:\\n{conf_matrix}\")\n"
   ]
  },
  {
   "cell_type": "code",
   "execution_count": null,
   "id": "b673115f",
   "metadata": {},
   "outputs": [],
   "source": [
    "X_train.head()"
   ]
  },
  {
   "cell_type": "code",
   "execution_count": null,
   "id": "4229dabc",
   "metadata": {},
   "outputs": [],
   "source": [
    "olymp.head()\n"
   ]
  },
  {
   "cell_type": "code",
   "execution_count": null,
   "id": "048feb38",
   "metadata": {},
   "outputs": [],
   "source": [
    "olymp=olymp.drop(columns=['round_aafinal', 'round_teamfinal'])"
   ]
  },
  {
   "cell_type": "code",
   "execution_count": null,
   "id": "2969e7ad",
   "metadata": {},
   "outputs": [],
   "source": [
    "olymp['round_0']=False"
   ]
  },
  {
   "cell_type": "code",
   "execution_count": null,
   "id": "603cee74",
   "metadata": {},
   "outputs": [],
   "source": [
    "olymp.columns"
   ]
  },
  {
   "cell_type": "code",
   "execution_count": null,
   "id": "8889fb00",
   "metadata": {},
   "outputs": [],
   "source": [
    "# Define the desired column order\n",
    "desired_order = ['Rank', 'D Score', 'E Score', 'Pen.', 'Total', 'year', 'Name', 'nation',\n",
    "       'round_0', 'round_final', 'round_qual']\n",
    "\n",
    "# Reorder the columns based on the desired order\n",
    "olymp = olymp[desired_order]"
   ]
  },
  {
   "cell_type": "code",
   "execution_count": null,
   "id": "7d909fd4",
   "metadata": {},
   "outputs": [],
   "source": [
    "y_pred = clf.predict(olymp)\n"
   ]
  },
  {
   "cell_type": "code",
   "execution_count": null,
   "id": "a0ef9b51",
   "metadata": {},
   "outputs": [],
   "source": [
    "y_pred"
   ]
  },
  {
   "cell_type": "code",
   "execution_count": null,
   "id": "27129fac",
   "metadata": {},
   "outputs": [],
   "source": [
    "ypreds  = pd.Series(y_pred)"
   ]
  },
  {
   "cell_type": "code",
   "execution_count": null,
   "id": "2a60967f",
   "metadata": {},
   "outputs": [],
   "source": [
    "olymp['ypred']=ypreds"
   ]
  },
  {
   "cell_type": "code",
   "execution_count": null,
   "id": "3ea22559",
   "metadata": {},
   "outputs": [],
   "source": [
    "olymp['ypred'].value_counts()"
   ]
  },
  {
   "cell_type": "code",
   "execution_count": null,
   "id": "cd98a34b",
   "metadata": {},
   "outputs": [],
   "source": [
    "olymp"
   ]
  },
  {
   "cell_type": "code",
   "execution_count": null,
   "id": "8220fa1d",
   "metadata": {},
   "outputs": [],
   "source": [
    "filtered_df = olymp[olymp['ypred'] == 1]"
   ]
  },
  {
   "cell_type": "code",
   "execution_count": null,
   "id": "dd36527d",
   "metadata": {},
   "outputs": [],
   "source": [
    "filtered_df"
   ]
  },
  {
   "cell_type": "code",
   "execution_count": null,
   "id": "834e17a1",
   "metadata": {},
   "outputs": [],
   "source": []
  },
  {
   "cell_type": "code",
   "execution_count": null,
   "id": "1aea79da",
   "metadata": {},
   "outputs": [],
   "source": [
    "filtered_df['Name'].unique()"
   ]
  },
  {
   "cell_type": "code",
   "execution_count": null,
   "id": "76e950f7",
   "metadata": {},
   "outputs": [],
   "source": [
    "fxnames[fxnames['Name_encoded']==241]"
   ]
  },
  {
   "cell_type": "code",
   "execution_count": null,
   "id": "27e27601",
   "metadata": {},
   "outputs": [],
   "source": [
    "fxnames[fxnames['Name_encoded']==258]"
   ]
  },
  {
   "cell_type": "code",
   "execution_count": null,
   "id": "79d0fbf1",
   "metadata": {},
   "outputs": [],
   "source": [
    "fxnames[fxnames['Name_encoded']==15]"
   ]
  },
  {
   "cell_type": "code",
   "execution_count": null,
   "id": "9cb8859d",
   "metadata": {},
   "outputs": [],
   "source": [
    "fxnames[fxnames['Name_encoded']==185]"
   ]
  },
  {
   "cell_type": "markdown",
   "id": "f0d96338",
   "metadata": {},
   "source": [
    "# Medalists for womens floor event (in no particular order)\n",
    "- jessica gadirova\n",
    "- kaliya lincoln\n",
    "- alexa moreno\n",
    "- flavia saraiva"
   ]
  },
  {
   "cell_type": "code",
   "execution_count": null,
   "id": "6ed00a8f",
   "metadata": {},
   "outputs": [],
   "source": [
    "# List of Name_encoded values you want to filter by\n",
    "name_encoded_values = [241, 258,  15, 185]\n",
    "\n",
    "# Create an empty set to store unique names\n",
    "unique_names = set()\n",
    "\n",
    "# Iterate through the DataFrame and add unique names to the set\n",
    "for index, row in fxnames.iterrows():\n",
    "    if row['Name_encoded'] in name_encoded_values:\n",
    "        unique_names.add(row['Name'])\n",
    "\n",
    "# Convert the set of unique names back to a list\n",
    "unique_names_list = list(unique_names)\n"
   ]
  },
  {
   "cell_type": "code",
   "execution_count": null,
   "id": "18382f69",
   "metadata": {},
   "outputs": [],
   "source": [
    "unique_names_list"
   ]
  },
  {
   "cell_type": "code",
   "execution_count": null,
   "id": "cd62ffcb",
   "metadata": {},
   "outputs": [],
   "source": [
    "fxolymp['Name'] = fxolymp['Name'].str.lower()"
   ]
  },
  {
   "cell_type": "code",
   "execution_count": null,
   "id": "292b9286",
   "metadata": {},
   "outputs": [],
   "source": [
    "names_to_find = ['jessica gadirova', 'flavia saraiva', 'kaliya lincoln', 'alexa moreno']\n",
    "\n",
    "# Filter the DataFrame to get the desired names and their corresponding countries\n",
    "result_df = fxolymp[fxolymp['Name'].isin(names_to_find)]\n"
   ]
  },
  {
   "cell_type": "code",
   "execution_count": null,
   "id": "bc15f192",
   "metadata": {},
   "outputs": [],
   "source": [
    "result_df=result_df[result_df['Apparatus']== 'FX']"
   ]
  },
  {
   "cell_type": "code",
   "execution_count": null,
   "id": "7858418a",
   "metadata": {},
   "outputs": [],
   "source": [
    "usa = result_df[result_df['Country']=='USA']"
   ]
  },
  {
   "cell_type": "code",
   "execution_count": null,
   "id": "8165f643",
   "metadata": {},
   "outputs": [],
   "source": [
    "usa['Name'].unique()"
   ]
  },
  {
   "cell_type": "code",
   "execution_count": null,
   "id": "383e4636",
   "metadata": {},
   "outputs": [],
   "source": []
  }
 ],
 "metadata": {
  "kernelspec": {
   "display_name": "Python 3 (ipykernel)",
   "language": "python",
   "name": "python3"
  },
  "language_info": {
   "codemirror_mode": {
    "name": "ipython",
    "version": 3
   },
   "file_extension": ".py",
   "mimetype": "text/x-python",
   "name": "python",
   "nbconvert_exporter": "python",
   "pygments_lexer": "ipython3",
   "version": "3.9.12"
  }
 },
 "nbformat": 4,
 "nbformat_minor": 5
}
