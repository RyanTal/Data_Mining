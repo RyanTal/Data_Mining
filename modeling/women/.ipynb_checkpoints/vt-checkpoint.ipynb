{
 "cells": [
  {
   "cell_type": "markdown",
   "id": "2f48e9e8",
   "metadata": {},
   "source": [
    "# USA Gymnast with best chances to medal in VT are:\n",
    "\n",
    "- simone biles\n",
    "\n"
   ]
  },
  {
   "cell_type": "code",
   "execution_count": 13,
   "id": "b29f7563",
   "metadata": {},
   "outputs": [],
   "source": [
    "import pandas as pd\n",
    "import numpy as np\n",
    "import seaborn as sns\n",
    "import matplotlib.pyplot as plt\n",
    "import numpy as np\n",
    "from matplotlib.colors import ListedColormap\n",
    "from sklearn.model_selection import train_test_split\n",
    "from sklearn.ensemble import AdaBoostClassifier, RandomForestClassifier\n",
    "from sklearn.gaussian_process import GaussianProcessClassifier\n",
    "from sklearn.gaussian_process.kernels import RBF\n",
    "from sklearn.inspection import DecisionBoundaryDisplay\n",
    "from sklearn.naive_bayes import GaussianNB\n",
    "from sklearn.neighbors import KNeighborsClassifier\n",
    "from sklearn.neural_network import MLPClassifier\n",
    "from sklearn.pipeline import make_pipeline\n",
    "from sklearn.preprocessing import StandardScaler\n",
    "from sklearn.svm import SVC\n",
    "from sklearn.tree import DecisionTreeClassifier\n",
    "from sklearn import svm\n",
    "from sklearn.pipeline import make_pipeline\n",
    "from sklearn.preprocessing import StandardScaler\n",
    "from sklearn.svm import SVC\n",
    "from sklearn.metrics import accuracy_score, classification_report, confusion_matrix, fbeta_score\n",
    "from sklearn.dummy import DummyClassifier\n",
    "import warnings"
   ]
  },
  {
   "cell_type": "code",
   "execution_count": 14,
   "id": "7b08545b",
   "metadata": {},
   "outputs": [],
   "source": [
    "warnings.filterwarnings(\"ignore\")"
   ]
  },
  {
   "cell_type": "code",
   "execution_count": 15,
   "id": "33374251",
   "metadata": {},
   "outputs": [],
   "source": [
    "df = pd.read_csv('../../Combine_Data/women/vt_encoded.csv')\n",
    "olymp = pd.read_csv('../../Data/cleandata22-23/encoded_w_olympics_vt.csv')\n",
    "vtnames = pd.read_csv('../../Data/cleandata22-23/encoded_w_olympics_vtnames.csv')"
   ]
  },
  {
   "cell_type": "markdown",
   "id": "5ddbc227",
   "metadata": {},
   "source": [
    "# Clean df and olymp"
   ]
  },
  {
   "cell_type": "code",
   "execution_count": 16,
   "id": "0140cf08",
   "metadata": {},
   "outputs": [],
   "source": [
    "df = df.drop(columns=['D2', 'E2', 'ND2', 'Total2', 'round_2015'])\n"
   ]
  },
  {
   "cell_type": "code",
   "execution_count": 17,
   "id": "d7a9d39c",
   "metadata": {},
   "outputs": [],
   "source": [
    "df = df.rename(columns={'D': 'D_Score', 'E': 'E_Score', 'ND': 'Penalty', \n",
    "                        'round_final': 'Round_final', 'Nation': 'nation'})\n",
    "\n"
   ]
  },
  {
   "cell_type": "code",
   "execution_count": 18,
   "id": "d2ac8662",
   "metadata": {},
   "outputs": [],
   "source": [
    "df = df.drop(columns=['Total'])\n"
   ]
  },
  {
   "cell_type": "code",
   "execution_count": 19,
   "id": "baa75192",
   "metadata": {},
   "outputs": [],
   "source": [
    "df = df.rename(columns={'Average': 'Score'})\n"
   ]
  },
  {
   "cell_type": "code",
   "execution_count": 20,
   "id": "eb62992e",
   "metadata": {},
   "outputs": [],
   "source": [
    "olymp = olymp.drop(columns=['Round_AAfinal', 'Round_TeamFinal', 'Round_qual', \n",
    "                            'Round_TeamQual'])\n"
   ]
  },
  {
   "cell_type": "code",
   "execution_count": 21,
   "id": "10a78966",
   "metadata": {},
   "outputs": [],
   "source": [
    "y = df['medal']\n",
    "X = df.drop(columns=['medal'])\n",
    "\n",
    "# Split the data into training and testing sets\n",
    "X_train, X_test, y_train, y_test = train_test_split(X, y, test_size=0.17, random_state=42)\n"
   ]
  },
  {
   "cell_type": "markdown",
   "id": "82324a03",
   "metadata": {},
   "source": [
    "# Base line using ZeroR"
   ]
  },
  {
   "cell_type": "code",
   "execution_count": 22,
   "id": "ac75c75f",
   "metadata": {},
   "outputs": [
    {
     "name": "stdout",
     "output_type": "stream",
     "text": [
      "ZeroR Classifier\n",
      "Accuracy: 0.9200\n",
      "Classification Report:\n",
      "              precision    recall  f1-score   support\n",
      "\n",
      "           0       0.92      1.00      0.96        23\n",
      "           1       0.00      0.00      0.00         2\n",
      "\n",
      "    accuracy                           0.92        25\n",
      "   macro avg       0.46      0.50      0.48        25\n",
      "weighted avg       0.85      0.92      0.88        25\n",
      "\n",
      "Confusion Matrix:\n",
      "[[23  0]\n",
      " [ 2  0]]\n"
     ]
    }
   ],
   "source": [
    "\n",
    "# Initialize the ZeroR classifier\n",
    "zero_r_clf = DummyClassifier(strategy='most_frequent', random_state=42)\n",
    "\n",
    "zero_r_clf.fit(X_train, y_train)\n",
    "\n",
    "# Make predictions test data\n",
    "y_pred = zero_r_clf.predict(X_test)\n",
    "\n",
    "# Evaluate performance\n",
    "accuracy = accuracy_score(y_test, y_pred)\n",
    "report = classification_report(y_test, y_pred)\n",
    "conf_matrix = confusion_matrix(y_test, y_pred)\n",
    "\n",
    "print(\"ZeroR Classifier\")\n",
    "print(f\"Accuracy: {accuracy:.4f}\")\n",
    "print(f\"Classification Report:\\n{report}\")\n",
    "print(f\"Confusion Matrix:\\n{conf_matrix}\")\n"
   ]
  },
  {
   "cell_type": "markdown",
   "id": "15146bfd",
   "metadata": {},
   "source": [
    "# Model Comparison\n"
   ]
  },
  {
   "cell_type": "code",
   "execution_count": 23,
   "id": "aa220a82",
   "metadata": {
    "scrolled": false
   },
   "outputs": [
    {
     "name": "stdout",
     "output_type": "stream",
     "text": [
      "Classifier: Random Forest\n",
      "Accuracy: 1.0000\n",
      "F2-Score: 1.0000\n",
      "Classification Report:\n",
      "              precision    recall  f1-score   support\n",
      "\n",
      "           0       1.00      1.00      1.00        27\n",
      "           1       1.00      1.00      1.00         2\n",
      "\n",
      "    accuracy                           1.00        29\n",
      "   macro avg       1.00      1.00      1.00        29\n",
      "weighted avg       1.00      1.00      1.00        29\n",
      "\n",
      "Classifier: AdaBoost\n",
      "Accuracy: 0.9655\n",
      "F2-Score: 0.9091\n",
      "Classification Report:\n",
      "              precision    recall  f1-score   support\n",
      "\n",
      "           0       1.00      0.96      0.98        27\n",
      "           1       0.67      1.00      0.80         2\n",
      "\n",
      "    accuracy                           0.97        29\n",
      "   macro avg       0.83      0.98      0.89        29\n",
      "weighted avg       0.98      0.97      0.97        29\n",
      "\n",
      "Classifier: SVM\n",
      "Accuracy: 0.9310\n",
      "F2-Score: 0.0000\n",
      "Classification Report:\n",
      "              precision    recall  f1-score   support\n",
      "\n",
      "           0       0.93      1.00      0.96        27\n",
      "           1       0.00      0.00      0.00         2\n",
      "\n",
      "    accuracy                           0.93        29\n",
      "   macro avg       0.47      0.50      0.48        29\n",
      "weighted avg       0.87      0.93      0.90        29\n",
      "\n",
      "Classifier: K-Nearest Neighbors\n",
      "Accuracy: 0.9655\n",
      "F2-Score: 0.5556\n",
      "Classification Report:\n",
      "              precision    recall  f1-score   support\n",
      "\n",
      "           0       0.96      1.00      0.98        27\n",
      "           1       1.00      0.50      0.67         2\n",
      "\n",
      "    accuracy                           0.97        29\n",
      "   macro avg       0.98      0.75      0.82        29\n",
      "weighted avg       0.97      0.97      0.96        29\n",
      "\n",
      "Classifier: Decision Tree\n",
      "Accuracy: 0.9655\n",
      "F2-Score: 0.9091\n",
      "Classification Report:\n",
      "              precision    recall  f1-score   support\n",
      "\n",
      "           0       1.00      0.96      0.98        27\n",
      "           1       0.67      1.00      0.80         2\n",
      "\n",
      "    accuracy                           0.97        29\n",
      "   macro avg       0.83      0.98      0.89        29\n",
      "weighted avg       0.98      0.97      0.97        29\n",
      "\n",
      "Classifier: Naive Bayes\n",
      "Accuracy: 0.7241\n",
      "F2-Score: 0.5556\n",
      "Classification Report:\n",
      "              precision    recall  f1-score   support\n",
      "\n",
      "           0       1.00      0.70      0.83        27\n",
      "           1       0.20      1.00      0.33         2\n",
      "\n",
      "    accuracy                           0.72        29\n",
      "   macro avg       0.60      0.85      0.58        29\n",
      "weighted avg       0.94      0.72      0.79        29\n",
      "\n",
      "Classifier: Neural Network\n",
      "Accuracy: 0.9655\n",
      "F2-Score: 0.5556\n",
      "Classification Report:\n",
      "              precision    recall  f1-score   support\n",
      "\n",
      "           0       0.96      1.00      0.98        27\n",
      "           1       1.00      0.50      0.67         2\n",
      "\n",
      "    accuracy                           0.97        29\n",
      "   macro avg       0.98      0.75      0.82        29\n",
      "weighted avg       0.97      0.97      0.96        29\n",
      "\n"
     ]
    }
   ],
   "source": [
    "y = df['medal']\n",
    "X = df.drop(columns=['medal'])\n",
    "\n",
    "# Split the data into training and testing sets\n",
    "X_train, X_test, y_train, y_test = train_test_split(X, y, test_size=0.2, random_state=42)\n",
    "\n",
    "# Initialize classifiers\n",
    "classifiers = {\n",
    "    \"Random Forest\": RandomForestClassifier(),\n",
    "    \"AdaBoost\": AdaBoostClassifier(),\n",
    "    \"SVM\": SVC(),\n",
    "    \"K-Nearest Neighbors\": KNeighborsClassifier(),\n",
    "    \"Decision Tree\": DecisionTreeClassifier(),\n",
    "    \"Naive Bayes\": GaussianNB(),\n",
    "    \"Neural Network\": MLPClassifier(),\n",
    "}\n",
    "\n",
    "results = {}\n",
    "\n",
    "# Iterate through each classifier\n",
    "for name, clf in classifiers.items():\n",
    "    # Create a pipeline with StandardScaler for classifiers that require it\n",
    "    if name in [\"SVM\", \"K-Nearest Neighbors\", \"Neural Network\"]:\n",
    "        clf = make_pipeline(StandardScaler(), clf)\n",
    "\n",
    "    # Fit the model to the training data\n",
    "    clf.fit(X_train, y_train)\n",
    "\n",
    "    # Make predictions on the test data\n",
    "    y_pred = clf.predict(X_test)\n",
    "\n",
    "    # Evaluate the model's performance\n",
    "    accuracy = accuracy_score(y_test, y_pred)\n",
    "    report = classification_report(y_test, y_pred)\n",
    "    conf_matrix = confusion_matrix(y_test, y_pred)\n",
    "\n",
    "    beta = 2\n",
    "    f2_score = fbeta_score(y_test, y_pred, beta=beta)\n",
    "\n",
    "    results[name] = {\n",
    "        \"accuracy\": accuracy,\n",
    "        \"classification_report\": report,\n",
    "        \"confusion_matrix\": conf_matrix,\n",
    "        \"f2_score\": f2_score,\n",
    "    }\n",
    "\n",
    "# Print the results\n",
    "for name, result in results.items():\n",
    "    print(f\"Classifier: {name}\")\n",
    "    print(f\"Accuracy: {result['accuracy']:.4f}\")\n",
    "    print(f\"F2-Score: {result['f2_score']:.4f}\")\n",
    "    print(f\"Classification Report:\\n{result['classification_report']}\")\n"
   ]
  },
  {
   "cell_type": "markdown",
   "id": "b691086f",
   "metadata": {},
   "source": [
    "# Feature Importance"
   ]
  },
  {
   "cell_type": "code",
   "execution_count": 12,
   "id": "72ebdd51",
   "metadata": {},
   "outputs": [
    {
     "name": "stdout",
     "output_type": "stream",
     "text": [
      "Accuracy: 0.9655172413793104\n",
      "Confusion Matrix:\n",
      " [[27  0]\n",
      " [ 1  1]]\n",
      "Classification Report:\n",
      "               precision    recall  f1-score   support\n",
      "\n",
      "           0       0.96      1.00      0.98        27\n",
      "           1       1.00      0.50      0.67         2\n",
      "\n",
      "    accuracy                           0.97        29\n",
      "   macro avg       0.98      0.75      0.82        29\n",
      "weighted avg       0.97      0.97      0.96        29\n",
      "\n"
     ]
    },
    {
     "data": {
      "image/png": "[encoded data removed]",
      "text/plain": [
       "<Figure size 720x432 with 1 Axes>"
      ]
     },
     "metadata": {
      "needs_background": "light"
     },
     "output_type": "display_data"
    }
   ],
   "source": [
    "from sklearn.ensemble import RandomForestClassifier\n",
    "from sklearn.metrics import accuracy_score, classification_report, confusion_matrix\n",
    "import matplotlib.pyplot as plt\n",
    "\n",
    "# Assuming you have X_train, X_test, y_train, y_test already defined\n",
    "\n",
    "# Initialize the RandomForestClassifier\n",
    "clf = RandomForestClassifier(max_depth=2, random_state=0)\n",
    "\n",
    "# Fit the model to the training data\n",
    "clf.fit(X_train, y_train)\n",
    "\n",
    "# Extract feature importances from the trained RandomForestClassifier\n",
    "feature_importances = clf.feature_importances_\n",
    "\n",
    "# Make predictions on the test data\n",
    "y_pred = clf.predict(X_test)\n",
    "\n",
    "# Evaluate the model's performance\n",
    "accuracy = accuracy_score(y_test, y_pred)\n",
    "conf_matrix = confusion_matrix(y_test, y_pred)\n",
    "class_report = classification_report(y_test, y_pred)\n",
    "\n",
    "# Print the results\n",
    "print(\"Accuracy:\", accuracy)\n",
    "print(\"Confusion Matrix:\\n\", conf_matrix)\n",
    "print(\"Classification Report:\\n\", class_report)\n",
    "\n",
    "# Plot feature importances\n",
    "plt.figure(figsize=(10, 6))\n",
    "plt.barh(X.columns, feature_importances, color='skyblue')\n",
    "plt.xlabel('Feature Importance')\n",
    "plt.title('RandomForest Classifier - Feature Importances')\n",
    "plt.show()\n"
   ]
  },
  {
   "cell_type": "code",
   "execution_count": 13,
   "id": "05d7a733",
   "metadata": {},
   "outputs": [],
   "source": [
    "feats = df.drop(columns=['Round_final'])"
   ]
  },
  {
   "cell_type": "code",
   "execution_count": 14,
   "id": "f4738579",
   "metadata": {},
   "outputs": [
    {
     "name": "stdout",
     "output_type": "stream",
     "text": [
      "Accuracy: 0.96\n",
      "Confusion Matrix:\n",
      " [[23  0]\n",
      " [ 1  1]]\n",
      "Classification Report:\n",
      "               precision    recall  f1-score   support\n",
      "\n",
      "           0       0.96      1.00      0.98        23\n",
      "           1       1.00      0.50      0.67         2\n",
      "\n",
      "    accuracy                           0.96        25\n",
      "   macro avg       0.98      0.75      0.82        25\n",
      "weighted avg       0.96      0.96      0.95        25\n",
      "\n"
     ]
    },
    {
     "data": {
      "image/png": "[encoded data removed]",
      "text/plain": [
       "<Figure size 720x432 with 1 Axes>"
      ]
     },
     "metadata": {
      "needs_background": "light"
     },
     "output_type": "display_data"
    }
   ],
   "source": [
    "from sklearn.ensemble import RandomForestClassifier\n",
    "from sklearn.metrics import accuracy_score, classification_report, confusion_matrix\n",
    "import matplotlib.pyplot as plt\n",
    "\n",
    "df=feats.copy()\n",
    "y = df['medal']\n",
    "X = df.drop(columns=['medal'])\n",
    "\n",
    "# Split the data into training and testing sets\n",
    "X_train, X_test, y_train, y_test = train_test_split(X, y, test_size=0.17, random_state=42)\n",
    "\n",
    "\n",
    "\n",
    "# Initialize the RandomForestClassifier\n",
    "clf = RandomForestClassifier(max_depth=2, random_state=0)\n",
    "\n",
    "# Fit the model to the training data\n",
    "clf.fit(X_train, y_train)\n",
    "\n",
    "# Extract feature importances from the trained RandomForestClassifier\n",
    "feature_importances = clf.feature_importances_\n",
    "\n",
    "# Make predictions on the test data\n",
    "y_pred = clf.predict(X_test)\n",
    "\n",
    "# Evaluate the model's performance\n",
    "accuracy = accuracy_score(y_test, y_pred)\n",
    "conf_matrix = confusion_matrix(y_test, y_pred)\n",
    "class_report = classification_report(y_test, y_pred)\n",
    "\n",
    "# Print the results\n",
    "print(\"Accuracy:\", accuracy)\n",
    "print(\"Confusion Matrix:\\n\", conf_matrix)\n",
    "print(\"Classification Report:\\n\", class_report)\n",
    "\n",
    "# Plot feature importances\n",
    "plt.figure(figsize=(10, 6))\n",
    "plt.barh(X.columns, feature_importances, color='skyblue')\n",
    "plt.xlabel('Feature Importance')\n",
    "plt.title('RandomForest Classifier - Feature Importances')\n",
    "plt.show()\n"
   ]
  },
  {
   "cell_type": "markdown",
   "id": "eb85ea73",
   "metadata": {},
   "source": [
    "# Final Model"
   ]
  },
  {
   "cell_type": "code",
   "execution_count": 15,
   "id": "55ca201c",
   "metadata": {},
   "outputs": [],
   "source": [
    "df = pd.read_csv('../../Combine_Data/women/vt_encoded.csv')\n",
    "\n",
    "df = df.drop(columns=['Total'])\n",
    "df = df.drop(columns=['D2', 'E2', 'ND2', 'Total2', 'round_2015'])\n",
    "\n",
    "df = df.rename(columns={'D': 'D_Score', 'E': 'E_Score', 'ND': 'Penalty', \n",
    "                        'round_final': 'Round_final', 'Nation': 'nation'})\n",
    "\n",
    "\n",
    "df = df.rename(columns={'Average': 'Score'})\n",
    "\n",
    "y = df['medal']\n",
    "X = df.drop(columns=['medal'])\n",
    "# Split the data into training and testing sets\n",
    "X_train, X_test, y_train, y_test = train_test_split(X, y, test_size=0.17, random_state=42)\n"
   ]
  },
  {
   "cell_type": "code",
   "execution_count": 16,
   "id": "92e8415a",
   "metadata": {},
   "outputs": [
    {
     "name": "stdout",
     "output_type": "stream",
     "text": [
      "Accuracy: 0.96\n",
      "Confusion Matrix:\n",
      " [[23  0]\n",
      " [ 1  1]]\n",
      "Classification Report:\n",
      "               precision    recall  f1-score   support\n",
      "\n",
      "           0       0.96      1.00      0.98        23\n",
      "           1       1.00      0.50      0.67         2\n",
      "\n",
      "    accuracy                           0.96        25\n",
      "   macro avg       0.98      0.75      0.82        25\n",
      "weighted avg       0.96      0.96      0.95        25\n",
      "\n"
     ]
    },
    {
     "data": {
      "image/png": "[encoded data removed]",
      "text/plain": [
       "<Figure size 576x432 with 2 Axes>"
      ]
     },
     "metadata": {
      "needs_background": "light"
     },
     "output_type": "display_data"
    }
   ],
   "source": [
    "from sklearn.ensemble import RandomForestClassifier\n",
    "from sklearn.datasets import make_classification\n",
    "\n",
    "clf = RandomForestClassifier(max_depth=2, random_state=0)\n",
    "clf.fit(X_train, y_train)\n",
    "\n",
    "y_pred = clf.predict(X_test)\n",
    "accuracy = accuracy_score(y_test, y_pred)\n",
    "conf_matrix = confusion_matrix(y_test, y_pred)\n",
    "class_report = classification_report(y_test, y_pred)\n",
    "\n",
    "print(\"Accuracy:\", accuracy)\n",
    "print(\"Confusion Matrix:\\n\", conf_matrix)\n",
    "print(\"Classification Report:\\n\", class_report)\n",
    "\n",
    "plt.figure(figsize=(8, 6))\n",
    "sns.heatmap(conf_matrix, annot=True, fmt=\"d\", cmap=\"Blues\")\n",
    "plt.xlabel('Predicted')\n",
    "plt.ylabel('Actual')\n",
    "plt.title('Confusion Matrix')\n",
    "plt.show()\n"
   ]
  },
  {
   "cell_type": "code",
   "execution_count": 17,
   "id": "621b4faa",
   "metadata": {},
   "outputs": [],
   "source": [
    "olymp_pred = clf.predict(olymp)\n"
   ]
  },
  {
   "cell_type": "code",
   "execution_count": 18,
   "id": "17fd6b98",
   "metadata": {},
   "outputs": [],
   "source": [
    "ypreds  = pd.Series(olymp_pred)"
   ]
  },
  {
   "cell_type": "code",
   "execution_count": 19,
   "id": "067354c5",
   "metadata": {},
   "outputs": [],
   "source": [
    "olymp['ypred']=ypreds"
   ]
  },
  {
   "cell_type": "code",
   "execution_count": 20,
   "id": "aaac797a",
   "metadata": {},
   "outputs": [
    {
     "data": {
      "text/plain": [
       "ypred\n",
       "0    2482\n",
       "1       3\n",
       "Name: count, dtype: int64"
      ]
     },
     "execution_count": 20,
     "metadata": {},
     "output_type": "execute_result"
    }
   ],
   "source": [
    "olymp['ypred'].value_counts()"
   ]
  },
  {
   "cell_type": "code",
   "execution_count": 21,
   "id": "c00a06f8",
   "metadata": {},
   "outputs": [],
   "source": [
    "filtered_df = olymp[olymp['ypred'] == 1]"
   ]
  },
  {
   "cell_type": "code",
   "execution_count": 22,
   "id": "0c30dee3",
   "metadata": {},
   "outputs": [
    {
     "data": {
      "text/plain": [
       "array([581])"
      ]
     },
     "execution_count": 22,
     "metadata": {},
     "output_type": "execute_result"
    }
   ],
   "source": [
    "filtered_df['Name'].unique()"
   ]
  },
  {
   "cell_type": "markdown",
   "id": "f8f78e75",
   "metadata": {},
   "source": [
    "# vtnames used to match encoded names with actual names"
   ]
  },
  {
   "cell_type": "code",
   "execution_count": 23,
   "id": "734e8eb9",
   "metadata": {},
   "outputs": [],
   "source": [
    "# List of Name_encoded values to filter by\n",
    "name_encoded_values = [581]\n",
    "\n",
    "# Create an empty set to store unique names\n",
    "unique_names = set()\n",
    "\n",
    "# Iterate through the DataFrame and add unique names to the set\n",
    "for index, row in vtnames.iterrows():\n",
    "    if row['Name_encoded'] in name_encoded_values:\n",
    "        unique_names.add(row['Name'])\n",
    "\n",
    "# Convert the set of unique names back to a list\n",
    "unique_names_list = list(unique_names)\n"
   ]
  },
  {
   "cell_type": "code",
   "execution_count": 24,
   "id": "527052ab",
   "metadata": {},
   "outputs": [
    {
     "data": {
      "text/plain": [
       "['simone biles']"
      ]
     },
     "execution_count": 24,
     "metadata": {},
     "output_type": "execute_result"
    }
   ],
   "source": [
    "unique_names_list"
   ]
  }
 ],
 "metadata": {
  "kernelspec": {
   "display_name": "Python 3 (ipykernel)",
   "language": "python",
   "name": "python3"
  },
  "language_info": {
   "codemirror_mode": {
    "name": "ipython",
    "version": 3
   },
   "file_extension": ".py",
   "mimetype": "text/x-python",
   "name": "python",
   "nbconvert_exporter": "python",
   "pygments_lexer": "ipython3",
   "version": "3.9.12"
  }
 },
 "nbformat": 4,
 "nbformat_minor": 5
}
