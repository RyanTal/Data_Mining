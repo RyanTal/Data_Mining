{
 "cells": [
  {
   "cell_type": "markdown",
   "id": "2f48e9e8",
   "metadata": {},
   "source": [
    "# USA Gymnast with best chances to medal in VT are:\n",
    "\n",
    "- simone biles"
   ]
  },
  {
   "cell_type": "code",
   "execution_count": 14,
   "id": "b29f7563",
   "metadata": {},
   "outputs": [],
   "source": [
    "import pandas as pd\n",
    "import numpy as np\n",
    "import seaborn as sns\n",
    "import matplotlib.pyplot as plt\n",
    "import numpy as np\n",
    "from matplotlib.colors import ListedColormap\n",
    "from sklearn.model_selection import train_test_split\n",
    "from sklearn.ensemble import AdaBoostClassifier, RandomForestClassifier\n",
    "from sklearn.gaussian_process import GaussianProcessClassifier\n",
    "from sklearn.gaussian_process.kernels import RBF\n",
    "from sklearn.inspection import DecisionBoundaryDisplay\n",
    "from sklearn.naive_bayes import GaussianNB\n",
    "from sklearn.neighbors import KNeighborsClassifier\n",
    "from sklearn.neural_network import MLPClassifier\n",
    "from sklearn.pipeline import make_pipeline\n",
    "from sklearn.preprocessing import StandardScaler\n",
    "from sklearn.svm import SVC\n",
    "from sklearn.tree import DecisionTreeClassifier\n",
    "from sklearn import svm\n",
    "from sklearn.pipeline import make_pipeline\n",
    "from sklearn.preprocessing import StandardScaler\n",
    "from sklearn.svm import SVC\n",
    "from sklearn.metrics import accuracy_score, classification_report, confusion_matrix\n"
   ]
  },
  {
   "cell_type": "code",
   "execution_count": 15,
   "id": "33374251",
   "metadata": {},
   "outputs": [],
   "source": [
    "df = pd.read_csv('../../Combine_Data/women/vt_encoded.csv')\n",
    "olymp = pd.read_csv('../../Data/cleandata22-23/encoded_w_olympics_vt.csv')\n",
    "vtnames = pd.read_csv('../../Data/cleandata22-23/encoded_w_olympics_vtnames.csv')"
   ]
  },
  {
   "cell_type": "code",
   "execution_count": 16,
   "id": "ed217384",
   "metadata": {},
   "outputs": [],
   "source": [
    "y = df['medal']\n",
    "X = df.drop(columns=['medal'])\n",
    "\n",
    "# Split the data into training and testing sets\n",
    "X_train, X_test, y_train, y_test = train_test_split(X, y, test_size=0.17, random_state=42)\n"
   ]
  },
  {
   "cell_type": "code",
   "execution_count": 17,
   "id": "3e8d1dd6",
   "metadata": {},
   "outputs": [
    {
     "data": {
      "text/html": [
       "<div>\n",
       "<style scoped>\n",
       "    .dataframe tbody tr th:only-of-type {\n",
       "        vertical-align: middle;\n",
       "    }\n",
       "\n",
       "    .dataframe tbody tr th {\n",
       "        vertical-align: top;\n",
       "    }\n",
       "\n",
       "    .dataframe thead th {\n",
       "        text-align: right;\n",
       "    }\n",
       "</style>\n",
       "<table border=\"1\" class=\"dataframe\">\n",
       "  <thead>\n",
       "    <tr style=\"text-align: right;\">\n",
       "      <th></th>\n",
       "      <th>Rank</th>\n",
       "      <th>D</th>\n",
       "      <th>E</th>\n",
       "      <th>ND</th>\n",
       "      <th>Total</th>\n",
       "      <th>D2</th>\n",
       "      <th>E2</th>\n",
       "      <th>ND2</th>\n",
       "      <th>Total2</th>\n",
       "      <th>Average</th>\n",
       "      <th>year</th>\n",
       "      <th>medal</th>\n",
       "      <th>Name</th>\n",
       "      <th>Nation</th>\n",
       "      <th>round_2015</th>\n",
       "      <th>round_final</th>\n",
       "    </tr>\n",
       "  </thead>\n",
       "  <tbody>\n",
       "    <tr>\n",
       "      <th>0</th>\n",
       "      <td>1.0</td>\n",
       "      <td>5.6</td>\n",
       "      <td>8.733</td>\n",
       "      <td>0.0</td>\n",
       "      <td>14.333</td>\n",
       "      <td>5.8</td>\n",
       "      <td>8.433</td>\n",
       "      <td>0.0</td>\n",
       "      <td>14.233</td>\n",
       "      <td>14.283</td>\n",
       "      <td>2018.0</td>\n",
       "      <td>0</td>\n",
       "      <td>45</td>\n",
       "      <td>6</td>\n",
       "      <td>False</td>\n",
       "      <td>True</td>\n",
       "    </tr>\n",
       "  </tbody>\n",
       "</table>\n",
       "</div>"
      ],
      "text/plain": [
       "   Rank    D      E   ND   Total   D2     E2  ND2  Total2  Average    year  \\\n",
       "0   1.0  5.6  8.733  0.0  14.333  5.8  8.433  0.0  14.233   14.283  2018.0   \n",
       "\n",
       "   medal  Name  Nation  round_2015  round_final  \n",
       "0      0    45       6       False         True  "
      ]
     },
     "execution_count": 17,
     "metadata": {},
     "output_type": "execute_result"
    }
   ],
   "source": [
    "df.head(1)"
   ]
  },
  {
   "cell_type": "code",
   "execution_count": 18,
   "id": "09c1e2aa",
   "metadata": {},
   "outputs": [
    {
     "data": {
      "text/html": [
       "<div>\n",
       "<style scoped>\n",
       "    .dataframe tbody tr th:only-of-type {\n",
       "        vertical-align: middle;\n",
       "    }\n",
       "\n",
       "    .dataframe tbody tr th {\n",
       "        vertical-align: top;\n",
       "    }\n",
       "\n",
       "    .dataframe thead th {\n",
       "        text-align: right;\n",
       "    }\n",
       "</style>\n",
       "<table border=\"1\" class=\"dataframe\">\n",
       "  <thead>\n",
       "    <tr style=\"text-align: right;\">\n",
       "      <th></th>\n",
       "      <th>Rank</th>\n",
       "      <th>D_Score</th>\n",
       "      <th>E_Score</th>\n",
       "      <th>Penalty</th>\n",
       "      <th>Score</th>\n",
       "      <th>year</th>\n",
       "      <th>Name</th>\n",
       "      <th>nation</th>\n",
       "      <th>Round_AAfinal</th>\n",
       "      <th>Round_TeamFinal</th>\n",
       "      <th>Round_TeamQual</th>\n",
       "      <th>Round_final</th>\n",
       "      <th>Round_qual</th>\n",
       "    </tr>\n",
       "  </thead>\n",
       "  <tbody>\n",
       "    <tr>\n",
       "      <th>0</th>\n",
       "      <td>110.0</td>\n",
       "      <td>4.2</td>\n",
       "      <td>8.433</td>\n",
       "      <td>0.3</td>\n",
       "      <td>12.333</td>\n",
       "      <td>2022</td>\n",
       "      <td>278</td>\n",
       "      <td>24</td>\n",
       "      <td>False</td>\n",
       "      <td>False</td>\n",
       "      <td>False</td>\n",
       "      <td>False</td>\n",
       "      <td>True</td>\n",
       "    </tr>\n",
       "  </tbody>\n",
       "</table>\n",
       "</div>"
      ],
      "text/plain": [
       "    Rank  D_Score  E_Score  Penalty   Score  year  Name  nation  \\\n",
       "0  110.0      4.2    8.433      0.3  12.333  2022   278      24   \n",
       "\n",
       "   Round_AAfinal  Round_TeamFinal  Round_TeamQual  Round_final  Round_qual  \n",
       "0          False            False           False        False        True  "
      ]
     },
     "execution_count": 18,
     "metadata": {},
     "output_type": "execute_result"
    }
   ],
   "source": [
    "olymp.head(1)"
   ]
  },
  {
   "cell_type": "code",
   "execution_count": 19,
   "id": "0140cf08",
   "metadata": {},
   "outputs": [],
   "source": [
    "df = df.drop(columns=['D2', 'E2', 'ND2', 'Total2', 'round_2015'])\n"
   ]
  },
  {
   "cell_type": "code",
   "execution_count": 20,
   "id": "d7a9d39c",
   "metadata": {},
   "outputs": [],
   "source": [
    "df = df.rename(columns={'D': 'D_Score', 'E': 'E_Score', 'ND': 'Penalty', \n",
    "                        'round_final': 'Round_final', 'Nation': 'nation'})\n",
    "\n"
   ]
  },
  {
   "cell_type": "code",
   "execution_count": 21,
   "id": "d2ac8662",
   "metadata": {},
   "outputs": [],
   "source": [
    "df = df.drop(columns=['Total'])\n"
   ]
  },
  {
   "cell_type": "code",
   "execution_count": 22,
   "id": "baa75192",
   "metadata": {},
   "outputs": [],
   "source": [
    "df = df.rename(columns={'Average': 'Score'})\n"
   ]
  },
  {
   "cell_type": "code",
   "execution_count": 23,
   "id": "eb62992e",
   "metadata": {},
   "outputs": [],
   "source": [
    "olymp = olymp.drop(columns=['Round_AAfinal', 'Round_TeamFinal', 'Round_qual', \n",
    "                            'Round_TeamQual'])\n"
   ]
  },
  {
   "cell_type": "code",
   "execution_count": 24,
   "id": "10a78966",
   "metadata": {},
   "outputs": [],
   "source": [
    "y = df['medal']\n",
    "X = df.drop(columns=['medal'])\n",
    "\n",
    "# Split the data into training and testing sets\n",
    "X_train, X_test, y_train, y_test = train_test_split(X, y, test_size=0.17, random_state=42)\n"
   ]
  },
  {
   "cell_type": "code",
   "execution_count": 25,
   "id": "aa220a82",
   "metadata": {
    "scrolled": false
   },
   "outputs": [
    {
     "name": "stdout",
     "output_type": "stream",
     "text": [
      "Classifier: Random Forest\n",
      "Accuracy: 1.0000\n",
      "Classification Report:\n",
      "              precision    recall  f1-score   support\n",
      "\n",
      "           0       1.00      1.00      1.00        27\n",
      "           1       1.00      1.00      1.00         2\n",
      "\n",
      "    accuracy                           1.00        29\n",
      "   macro avg       1.00      1.00      1.00        29\n",
      "weighted avg       1.00      1.00      1.00        29\n",
      "\n",
      "Confusion Matrix:\n",
      "[[27  0]\n",
      " [ 0  2]]\n",
      "\n",
      "Classifier: AdaBoost\n",
      "Accuracy: 0.9655\n",
      "Classification Report:\n",
      "              precision    recall  f1-score   support\n",
      "\n",
      "           0       1.00      0.96      0.98        27\n",
      "           1       0.67      1.00      0.80         2\n",
      "\n",
      "    accuracy                           0.97        29\n",
      "   macro avg       0.83      0.98      0.89        29\n",
      "weighted avg       0.98      0.97      0.97        29\n",
      "\n",
      "Confusion Matrix:\n",
      "[[26  1]\n",
      " [ 0  2]]\n",
      "\n",
      "Classifier: SVM\n",
      "Accuracy: 0.9310\n",
      "Classification Report:\n",
      "              precision    recall  f1-score   support\n",
      "\n",
      "           0       0.93      1.00      0.96        27\n",
      "           1       0.00      0.00      0.00         2\n",
      "\n",
      "    accuracy                           0.93        29\n",
      "   macro avg       0.47      0.50      0.48        29\n",
      "weighted avg       0.87      0.93      0.90        29\n",
      "\n",
      "Confusion Matrix:\n",
      "[[27  0]\n",
      " [ 2  0]]\n",
      "\n",
      "Classifier: K-Nearest Neighbors\n",
      "Accuracy: 0.9655\n",
      "Classification Report:\n",
      "              precision    recall  f1-score   support\n",
      "\n",
      "           0       0.96      1.00      0.98        27\n",
      "           1       1.00      0.50      0.67         2\n",
      "\n",
      "    accuracy                           0.97        29\n",
      "   macro avg       0.98      0.75      0.82        29\n",
      "weighted avg       0.97      0.97      0.96        29\n",
      "\n",
      "Confusion Matrix:\n",
      "[[27  0]\n",
      " [ 1  1]]\n",
      "\n",
      "Classifier: Decision Tree\n",
      "Accuracy: 0.9655\n",
      "Classification Report:\n",
      "              precision    recall  f1-score   support\n",
      "\n",
      "           0       1.00      0.96      0.98        27\n",
      "           1       0.67      1.00      0.80         2\n",
      "\n",
      "    accuracy                           0.97        29\n",
      "   macro avg       0.83      0.98      0.89        29\n",
      "weighted avg       0.98      0.97      0.97        29\n",
      "\n",
      "Confusion Matrix:\n",
      "[[26  1]\n",
      " [ 0  2]]\n",
      "\n",
      "Classifier: Naive Bayes\n",
      "Accuracy: 0.7241\n",
      "Classification Report:\n",
      "              precision    recall  f1-score   support\n",
      "\n",
      "           0       1.00      0.70      0.83        27\n",
      "           1       0.20      1.00      0.33         2\n",
      "\n",
      "    accuracy                           0.72        29\n",
      "   macro avg       0.60      0.85      0.58        29\n",
      "weighted avg       0.94      0.72      0.79        29\n",
      "\n",
      "Confusion Matrix:\n",
      "[[19  8]\n",
      " [ 0  2]]\n",
      "\n",
      "Classifier: Neural Network\n",
      "Accuracy: 0.9655\n",
      "Classification Report:\n",
      "              precision    recall  f1-score   support\n",
      "\n",
      "           0       0.96      1.00      0.98        27\n",
      "           1       1.00      0.50      0.67         2\n",
      "\n",
      "    accuracy                           0.97        29\n",
      "   macro avg       0.98      0.75      0.82        29\n",
      "weighted avg       0.97      0.97      0.96        29\n",
      "\n",
      "Confusion Matrix:\n",
      "[[27  0]\n",
      " [ 1  1]]\n",
      "\n"
     ]
    },
    {
     "name": "stderr",
     "output_type": "stream",
     "text": [
      "/Users/ryantalbot/opt/anaconda3/envs/tf2/lib/python3.9/site-packages/sklearn/metrics/_classification.py:1471: UndefinedMetricWarning: Precision and F-score are ill-defined and being set to 0.0 in labels with no predicted samples. Use `zero_division` parameter to control this behavior.\n",
      "  _warn_prf(average, modifier, msg_start, len(result))\n",
      "/Users/ryantalbot/opt/anaconda3/envs/tf2/lib/python3.9/site-packages/sklearn/metrics/_classification.py:1471: UndefinedMetricWarning: Precision and F-score are ill-defined and being set to 0.0 in labels with no predicted samples. Use `zero_division` parameter to control this behavior.\n",
      "  _warn_prf(average, modifier, msg_start, len(result))\n",
      "/Users/ryantalbot/opt/anaconda3/envs/tf2/lib/python3.9/site-packages/sklearn/metrics/_classification.py:1471: UndefinedMetricWarning: Precision and F-score are ill-defined and being set to 0.0 in labels with no predicted samples. Use `zero_division` parameter to control this behavior.\n",
      "  _warn_prf(average, modifier, msg_start, len(result))\n",
      "/Users/ryantalbot/opt/anaconda3/envs/tf2/lib/python3.9/site-packages/sklearn/neural_network/_multilayer_perceptron.py:691: ConvergenceWarning: Stochastic Optimizer: Maximum iterations (200) reached and the optimization hasn't converged yet.\n",
      "  warnings.warn(\n"
     ]
    }
   ],
   "source": [
    "y = df['medal']\n",
    "X = df.drop(columns=['medal'])\n",
    "\n",
    "# Split the data into training and testing sets\n",
    "X_train, X_test, y_train, y_test = train_test_split(X, y, test_size=0.2, random_state=42)\n",
    "\n",
    "# Initialize classifiers\n",
    "classifiers = {\n",
    "    \"Random Forest\": RandomForestClassifier(),\n",
    "    \"AdaBoost\": AdaBoostClassifier(),\n",
    "    \"SVM\": SVC(),\n",
    "    \"K-Nearest Neighbors\": KNeighborsClassifier(),\n",
    "    \"Decision Tree\": DecisionTreeClassifier(),\n",
    "    \"Naive Bayes\": GaussianNB(),\n",
    "    \"Neural Network\": MLPClassifier(),\n",
    "}\n",
    "\n",
    "results = {}\n",
    "\n",
    "# Iterate through each classifier\n",
    "for name, clf in classifiers.items():\n",
    "    # Create a pipeline with StandardScaler for classifiers that require it\n",
    "    if name in [\"SVM\", \"K-Nearest Neighbors\", \"Neural Network\"]:\n",
    "        clf = make_pipeline(StandardScaler(), clf)\n",
    "\n",
    "    # Fit the model to the training data\n",
    "    clf.fit(X_train, y_train)\n",
    "\n",
    "    # Make predictions on the test data\n",
    "    y_pred = clf.predict(X_test)\n",
    "\n",
    "    # Evaluate the model's performance\n",
    "    accuracy = accuracy_score(y_test, y_pred)\n",
    "    report = classification_report(y_test, y_pred)\n",
    "    conf_matrix = confusion_matrix(y_test, y_pred)\n",
    "\n",
    "    results[name] = {\n",
    "        \"accuracy\": accuracy,\n",
    "        \"classification_report\": report,\n",
    "        \"confusion_matrix\": conf_matrix,\n",
    "    }\n",
    "\n",
    "# Print the results\n",
    "for name, result in results.items():\n",
    "    print(f\"Classifier: {name}\")\n",
    "    print(f\"Accuracy: {result['accuracy']:.4f}\")\n",
    "    print(f\"Classification Report:\\n{result['classification_report']}\")\n",
    "    print(f\"Confusion Matrix:\\n{result['confusion_matrix']}\\n\")\n"
   ]
  },
  {
   "cell_type": "markdown",
   "id": "4e83fe86",
   "metadata": {},
   "source": [
    "Classifier: Random Forest\n",
    "Accuracy: 1.0000"
   ]
  },
  {
   "cell_type": "code",
   "execution_count": 26,
   "id": "ec1b3e54",
   "metadata": {},
   "outputs": [
    {
     "name": "stdout",
     "output_type": "stream",
     "text": [
      "Accuracy: 0.9655172413793104\n",
      "Confusion Matrix:\n",
      " [[27  0]\n",
      " [ 1  1]]\n",
      "Classification Report:\n",
      "               precision    recall  f1-score   support\n",
      "\n",
      "           0       0.96      1.00      0.98        27\n",
      "           1       1.00      0.50      0.67         2\n",
      "\n",
      "    accuracy                           0.97        29\n",
      "   macro avg       0.98      0.75      0.82        29\n",
      "weighted avg       0.97      0.97      0.96        29\n",
      "\n"
     ]
    },
    {
     "data": {
      "image/png": "[encoded data removed]",
      "text/plain": [
       "<Figure size 576x432 with 2 Axes>"
      ]
     },
     "metadata": {
      "needs_background": "light"
     },
     "output_type": "display_data"
    }
   ],
   "source": [
    "from sklearn.ensemble import RandomForestClassifier\n",
    "from sklearn.datasets import make_classification\n",
    "\n",
    "clf = RandomForestClassifier(max_depth=2, random_state=0)\n",
    "clf.fit(X_train, y_train)\n",
    "\n",
    "y_pred = clf.predict(X_test)\n",
    "accuracy = accuracy_score(y_test, y_pred)\n",
    "conf_matrix = confusion_matrix(y_test, y_pred)\n",
    "class_report = classification_report(y_test, y_pred)\n",
    "\n",
    "print(\"Accuracy:\", accuracy)\n",
    "print(\"Confusion Matrix:\\n\", conf_matrix)\n",
    "print(\"Classification Report:\\n\", class_report)\n",
    "\n",
    "plt.figure(figsize=(8, 6))\n",
    "sns.heatmap(conf_matrix, annot=True, fmt=\"d\", cmap=\"Blues\")\n",
    "plt.xlabel('Predicted')\n",
    "plt.ylabel('Actual')\n",
    "plt.title('Confusion Matrix')\n",
    "plt.show()\n"
   ]
  },
  {
   "cell_type": "markdown",
   "id": "b691086f",
   "metadata": {},
   "source": [
    "# Feature Importance"
   ]
  },
  {
   "cell_type": "code",
   "execution_count": 27,
   "id": "72ebdd51",
   "metadata": {},
   "outputs": [
    {
     "name": "stdout",
     "output_type": "stream",
     "text": [
      "Accuracy: 0.9655172413793104\n",
      "Confusion Matrix:\n",
      " [[27  0]\n",
      " [ 1  1]]\n",
      "Classification Report:\n",
      "               precision    recall  f1-score   support\n",
      "\n",
      "           0       0.96      1.00      0.98        27\n",
      "           1       1.00      0.50      0.67         2\n",
      "\n",
      "    accuracy                           0.97        29\n",
      "   macro avg       0.98      0.75      0.82        29\n",
      "weighted avg       0.97      0.97      0.96        29\n",
      "\n"
     ]
    },
    {
     "data": {
      "image/png": "[encoded data removed]",
      "text/plain": [
       "<Figure size 720x432 with 1 Axes>"
      ]
     },
     "metadata": {
      "needs_background": "light"
     },
     "output_type": "display_data"
    }
   ],
   "source": []
  },
  {
   "cell_type": "code",
   "execution_count": null,
   "id": "f66f24fb",
   "metadata": {},
   "outputs": [],
   "source": []
  },
  {
   "cell_type": "code",
   "execution_count": null,
   "id": "e8e3df1f",
   "metadata": {},
   "outputs": [],
   "source": []
  },
  {
   "cell_type": "code",
   "execution_count": 14,
   "id": "1d8e281c",
   "metadata": {},
   "outputs": [],
   "source": [
    "# from sklearn.ensemble import RandomForestClassifier\n",
    "# from sklearn.model_selection import train_test_split\n",
    "# from sklearn.metrics import accuracy_score, classification_report, confusion_matrix\n",
    "\n",
    "\n",
    "# # Create a Random Forest Classifier\n",
    "# rf_classifier = RandomForestClassifier(n_estimators=100, max_depth=3, random_state=42)\n",
    "\n",
    "# # Fit the classifier on the training data\n",
    "# rf_classifier.fit(X_train, y_train)\n",
    "\n",
    "# # Make predictions on the test data\n",
    "# y_pred = rf_classifier.predict(X_test)\n",
    "\n",
    "# # Evaluate the model\n",
    "# accuracy = accuracy_score(y_test, y_pred)\n",
    "# conf_matrix = confusion_matrix(y_test, y_pred)\n",
    "# class_report = classification_report(y_test, y_pred)\n",
    "\n",
    "# print(\"Accuracy:\", accuracy)\n",
    "# print(\"Confusion Matrix:\\n\", conf_matrix)\n",
    "# print(\"Classification Report:\\n\", class_report)\n",
    "\n",
    "# plt.figure(figsize=(8, 6))\n",
    "# sns.heatmap(conf_matrix, annot=True, fmt=\"d\", cmap=\"Blues\")\n",
    "# plt.xlabel('Predicted')\n",
    "# plt.ylabel('Actual')\n",
    "# plt.title('Confusion Matrix')\n",
    "# plt.show()\n"
   ]
  },
  {
   "cell_type": "code",
   "execution_count": 15,
   "id": "621b4faa",
   "metadata": {},
   "outputs": [],
   "source": [
    "olymp_pred = clf.predict(olymp)\n"
   ]
  },
  {
   "cell_type": "code",
   "execution_count": 16,
   "id": "17fd6b98",
   "metadata": {},
   "outputs": [],
   "source": [
    "ypreds  = pd.Series(olymp_pred)"
   ]
  },
  {
   "cell_type": "code",
   "execution_count": 17,
   "id": "067354c5",
   "metadata": {},
   "outputs": [],
   "source": [
    "olymp['ypred']=ypreds"
   ]
  },
  {
   "cell_type": "code",
   "execution_count": 18,
   "id": "aaac797a",
   "metadata": {},
   "outputs": [
    {
     "data": {
      "text/plain": [
       "ypred\n",
       "0    2481\n",
       "1       4\n",
       "Name: count, dtype: int64"
      ]
     },
     "execution_count": 18,
     "metadata": {},
     "output_type": "execute_result"
    }
   ],
   "source": [
    "olymp['ypred'].value_counts()"
   ]
  },
  {
   "cell_type": "code",
   "execution_count": 19,
   "id": "c00a06f8",
   "metadata": {},
   "outputs": [],
   "source": [
    "filtered_df = olymp[olymp['ypred'] == 1]"
   ]
  },
  {
   "cell_type": "code",
   "execution_count": 24,
   "id": "0c30dee3",
   "metadata": {},
   "outputs": [
    {
     "data": {
      "text/plain": [
       "array([581])"
      ]
     },
     "execution_count": 24,
     "metadata": {},
     "output_type": "execute_result"
    }
   ],
   "source": [
    "filtered_df['Name'].unique()"
   ]
  },
  {
   "cell_type": "code",
   "execution_count": 27,
   "id": "734e8eb9",
   "metadata": {},
   "outputs": [],
   "source": [
    "# List of Name_encoded values to filter by\n",
    "name_encoded_values = [581]\n",
    "\n",
    "# Create an empty set to store unique names\n",
    "unique_names = set()\n",
    "\n",
    "# Iterate through the DataFrame and add unique names to the set\n",
    "for index, row in vtnames.iterrows():\n",
    "    if row['Name_encoded'] in name_encoded_values:\n",
    "        unique_names.add(row['Name'])\n",
    "\n",
    "# Convert the set of unique names back to a list\n",
    "unique_names_list = list(unique_names)\n"
   ]
  },
  {
   "cell_type": "code",
   "execution_count": 28,
   "id": "527052ab",
   "metadata": {},
   "outputs": [
    {
     "data": {
      "text/plain": [
       "['simone biles']"
      ]
     },
     "execution_count": 28,
     "metadata": {},
     "output_type": "execute_result"
    }
   ],
   "source": [
    "unique_names_list"
   ]
  },
  {
   "cell_type": "code",
   "execution_count": 28,
   "id": "034ccc01",
   "metadata": {},
   "outputs": [
    {
     "name": "stdout",
     "output_type": "stream",
     "text": [
      "Accuracy: 0.9655172413793104\n",
      "Confusion Matrix:\n",
      " [[27  0]\n",
      " [ 1  1]]\n",
      "Classification Report:\n",
      "               precision    recall  f1-score   support\n",
      "\n",
      "           0       0.96      1.00      0.98        27\n",
      "           1       1.00      0.50      0.67         2\n",
      "\n",
      "    accuracy                           0.97        29\n",
      "   macro avg       0.98      0.75      0.82        29\n",
      "weighted avg       0.97      0.97      0.96        29\n",
      "\n"
     ]
    },
    {
     "data": {
      "image/png": "[encoded data removed]",
      "text/plain": [
       "<Figure size 720x432 with 1 Axes>"
      ]
     },
     "metadata": {
      "needs_background": "light"
     },
     "output_type": "display_data"
    }
   ],
   "source": [
    "from sklearn.ensemble import RandomForestClassifier\n",
    "from sklearn.metrics import accuracy_score, classification_report, confusion_matrix\n",
    "import matplotlib.pyplot as plt\n",
    "\n",
    "# Assuming you have X_train, X_test, y_train, y_test already defined\n",
    "\n",
    "# Initialize the RandomForestClassifier\n",
    "clf = RandomForestClassifier(max_depth=2, random_state=0)\n",
    "\n",
    "# Fit the model to the training data\n",
    "clf.fit(X_train, y_train)\n",
    "\n",
    "# Extract feature importances from the trained RandomForestClassifier\n",
    "feature_importances = clf.feature_importances_\n",
    "\n",
    "# Make predictions on the test data\n",
    "y_pred = clf.predict(X_test)\n",
    "\n",
    "# Evaluate the model's performance\n",
    "accuracy = accuracy_score(y_test, y_pred)\n",
    "conf_matrix = confusion_matrix(y_test, y_pred)\n",
    "class_report = classification_report(y_test, y_pred)\n",
    "\n",
    "# Print the results\n",
    "print(\"Accuracy:\", accuracy)\n",
    "print(\"Confusion Matrix:\\n\", conf_matrix)\n",
    "print(\"Classification Report:\\n\", class_report)\n",
    "\n",
    "# Plot feature importances\n",
    "plt.figure(figsize=(10, 6))\n",
    "plt.barh(X.columns, feature_importances, color='skyblue')\n",
    "plt.xlabel('Feature Importance')\n",
    "plt.title('RandomForest Classifier - Feature Importances')\n",
    "plt.show()\n"
   ]
  },
  {
   "cell_type": "code",
   "execution_count": 29,
   "id": "a770b44c",
   "metadata": {},
   "outputs": [],
   "source": [
    "feats = df.drop(columns=['Round_final'])"
   ]
  },
  {
   "cell_type": "code",
   "execution_count": 30,
   "id": "52879f17",
   "metadata": {},
   "outputs": [
    {
     "name": "stdout",
     "output_type": "stream",
     "text": [
      "Accuracy: 0.96\n",
      "Confusion Matrix:\n",
      " [[23  0]\n",
      " [ 1  1]]\n",
      "Classification Report:\n",
      "               precision    recall  f1-score   support\n",
      "\n",
      "           0       0.96      1.00      0.98        23\n",
      "           1       1.00      0.50      0.67         2\n",
      "\n",
      "    accuracy                           0.96        25\n",
      "   macro avg       0.98      0.75      0.82        25\n",
      "weighted avg       0.96      0.96      0.95        25\n",
      "\n"
     ]
    },
    {
     "data": {
      "image/png": "[encoded data removed]",
      "text/plain": [
       "<Figure size 720x432 with 1 Axes>"
      ]
     },
     "metadata": {
      "needs_background": "light"
     },
     "output_type": "display_data"
    }
   ],
   "source": [
    "from sklearn.ensemble import RandomForestClassifier\n",
    "from sklearn.metrics import accuracy_score, classification_report, confusion_matrix\n",
    "import matplotlib.pyplot as plt\n",
    "\n",
    "df=feats.copy()\n",
    "y = df['medal']\n",
    "X = df.drop(columns=['medal'])\n",
    "\n",
    "# Split the data into training and testing sets\n",
    "X_train, X_test, y_train, y_test = train_test_split(X, y, test_size=0.17, random_state=42)\n",
    "\n",
    "\n",
    "\n",
    "# Initialize the RandomForestClassifier\n",
    "clf = RandomForestClassifier(max_depth=2, random_state=0)\n",
    "\n",
    "# Fit the model to the training data\n",
    "clf.fit(X_train, y_train)\n",
    "\n",
    "# Extract feature importances from the trained RandomForestClassifier\n",
    "feature_importances = clf.feature_importances_\n",
    "\n",
    "# Make predictions on the test data\n",
    "y_pred = clf.predict(X_test)\n",
    "\n",
    "# Evaluate the model's performance\n",
    "accuracy = accuracy_score(y_test, y_pred)\n",
    "conf_matrix = confusion_matrix(y_test, y_pred)\n",
    "class_report = classification_report(y_test, y_pred)\n",
    "\n",
    "# Print the results\n",
    "print(\"Accuracy:\", accuracy)\n",
    "print(\"Confusion Matrix:\\n\", conf_matrix)\n",
    "print(\"Classification Report:\\n\", class_report)\n",
    "\n",
    "# Plot feature importances\n",
    "plt.figure(figsize=(10, 6))\n",
    "plt.barh(X.columns, feature_importances, color='skyblue')\n",
    "plt.xlabel('Feature Importance')\n",
    "plt.title('RandomForest Classifier - Feature Importances')\n",
    "plt.show()\n"
   ]
  },
  {
   "cell_type": "code",
   "execution_count": null,
   "id": "24f4c950",
   "metadata": {},
   "outputs": [],
   "source": []
  }
 ],
 "metadata": {
  "kernelspec": {
   "display_name": "Python 3 (ipykernel)",
   "language": "python",
   "name": "python3"
  },
  "language_info": {
   "codemirror_mode": {
    "name": "ipython",
    "version": 3
   },
   "file_extension": ".py",
   "mimetype": "text/x-python",
   "name": "python",
   "nbconvert_exporter": "python",
   "pygments_lexer": "ipython3",
   "version": "3.9.12"
  }
 },
 "nbformat": 4,
 "nbformat_minor": 5
}
