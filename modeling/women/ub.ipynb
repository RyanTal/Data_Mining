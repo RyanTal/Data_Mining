{
 "cells": [
  {
   "cell_type": "markdown",
   "id": "8d4f0eea",
   "metadata": {},
   "source": [
    "# USA Gymnast with best chances to medal in Uneven Bars are:\n",
    "\n",
    "- Shilese Jones\n",
    "- Zoe Miller"
   ]
  },
  {
   "cell_type": "code",
   "execution_count": 28,
   "id": "55bf6518",
   "metadata": {},
   "outputs": [],
   "source": [
    "import pandas as pd\n",
    "import numpy as np\n",
    "from scipy import stats\n",
    "from mlxtend.preprocessing import minmax_scaling\n",
    "import seaborn as sns\n",
    "import matplotlib.pyplot as plt\n",
    "import matplotlib.pyplot as plt\n",
    "import numpy as np\n",
    "from matplotlib.colors import ListedColormap\n",
    "from sklearn.model_selection import train_test_split\n",
    "\n",
    "\n",
    "from sklearn.datasets import make_circles, make_classification, make_moons\n",
    "from sklearn.discriminant_analysis import QuadraticDiscriminantAnalysis\n",
    "from sklearn.ensemble import AdaBoostClassifier, RandomForestClassifier\n",
    "from sklearn.gaussian_process import GaussianProcessClassifier\n",
    "from sklearn.gaussian_process.kernels import RBF\n",
    "from sklearn.inspection import DecisionBoundaryDisplay\n",
    "from sklearn.model_selection import train_test_split\n",
    "from sklearn.naive_bayes import GaussianNB\n",
    "from sklearn.neighbors import KNeighborsClassifier\n",
    "from sklearn.neural_network import MLPClassifier\n",
    "from sklearn.pipeline import make_pipeline\n",
    "from sklearn.preprocessing import StandardScaler\n",
    "from sklearn.svm import SVC\n",
    "from sklearn.tree import DecisionTreeClassifier\n",
    "\n",
    "\n",
    "from sklearn import svm\n",
    "from sklearn.model_selection import train_test_split\n",
    "from sklearn.pipeline import make_pipeline\n",
    "from sklearn.preprocessing import StandardScaler\n",
    "from sklearn.svm import SVC\n",
    "\n",
    "import pandas as pd\n",
    "from sklearn.model_selection import train_test_split\n",
    "from sklearn.ensemble import AdaBoostClassifier\n",
    "from sklearn.metrics import accuracy_score, classification_report, confusion_matrix\n",
    "\n",
    "from sklearn.svm import SVC\n",
    "from sklearn.metrics import accuracy_score, classification_report, confusion_matrix\n",
    "\n",
    "\n",
    "import pandas as pd\n",
    "from sklearn.model_selection import train_test_split\n",
    "from sklearn.metrics import accuracy_score, classification_report, confusion_matrix\n",
    "from sklearn.preprocessing import StandardScaler\n",
    "from sklearn.ensemble import RandomForestClassifier, AdaBoostClassifier\n",
    "from sklearn.svm import SVC\n",
    "from sklearn.neighbors import KNeighborsClassifier\n",
    "from sklearn.tree import DecisionTreeClassifier\n",
    "from sklearn.naive_bayes import GaussianNB\n",
    "from sklearn.neural_network import MLPClassifier\n"
   ]
  },
  {
   "cell_type": "code",
   "execution_count": 29,
   "id": "bab0c81b",
   "metadata": {},
   "outputs": [],
   "source": [
    "df = pd.read_csv('../../Combine_Data/women/ub_encoded.csv')\n",
    "olymp = pd.read_csv('../../Data/cleandata22-23/encoded_w_olympics_ub.csv')\n",
    "ubnames = pd.read_csv('../../Data/cleandata22-23/encoded_w_olympics_ubnames.csv')\n",
    "ubolymp = pd.read_csv('../../Data/cleandata22-23/women22_23.csv')\n",
    "\n"
   ]
  },
  {
   "cell_type": "code",
   "execution_count": 30,
   "id": "3df29899",
   "metadata": {},
   "outputs": [],
   "source": [
    "y = df['medal']\n",
    "X = df.drop(columns=['medal'])\n",
    "\n",
    "# Split the data into training and testing sets\n",
    "X_train, X_test, y_train, y_test = train_test_split(X, y, test_size=0.12, random_state=42)\n"
   ]
  },
  {
   "cell_type": "code",
   "execution_count": 31,
   "id": "393eb70c",
   "metadata": {
    "scrolled": false
   },
   "outputs": [
    {
     "name": "stderr",
     "output_type": "stream",
     "text": [
      "/Users/ryantalbot/opt/anaconda3/envs/tf2/lib/python3.9/site-packages/sklearn/metrics/_classification.py:1471: UndefinedMetricWarning: Precision and F-score are ill-defined and being set to 0.0 in labels with no predicted samples. Use `zero_division` parameter to control this behavior.\n",
      "  _warn_prf(average, modifier, msg_start, len(result))\n",
      "/Users/ryantalbot/opt/anaconda3/envs/tf2/lib/python3.9/site-packages/sklearn/metrics/_classification.py:1471: UndefinedMetricWarning: Precision and F-score are ill-defined and being set to 0.0 in labels with no predicted samples. Use `zero_division` parameter to control this behavior.\n",
      "  _warn_prf(average, modifier, msg_start, len(result))\n",
      "/Users/ryantalbot/opt/anaconda3/envs/tf2/lib/python3.9/site-packages/sklearn/metrics/_classification.py:1471: UndefinedMetricWarning: Precision and F-score are ill-defined and being set to 0.0 in labels with no predicted samples. Use `zero_division` parameter to control this behavior.\n",
      "  _warn_prf(average, modifier, msg_start, len(result))\n",
      "/Users/ryantalbot/opt/anaconda3/envs/tf2/lib/python3.9/site-packages/sklearn/metrics/_classification.py:1471: UndefinedMetricWarning: Precision and F-score are ill-defined and being set to 0.0 in labels with no predicted samples. Use `zero_division` parameter to control this behavior.\n",
      "  _warn_prf(average, modifier, msg_start, len(result))\n",
      "/Users/ryantalbot/opt/anaconda3/envs/tf2/lib/python3.9/site-packages/sklearn/metrics/_classification.py:1471: UndefinedMetricWarning: Precision and F-score are ill-defined and being set to 0.0 in labels with no predicted samples. Use `zero_division` parameter to control this behavior.\n",
      "  _warn_prf(average, modifier, msg_start, len(result))\n",
      "/Users/ryantalbot/opt/anaconda3/envs/tf2/lib/python3.9/site-packages/sklearn/metrics/_classification.py:1471: UndefinedMetricWarning: Precision and F-score are ill-defined and being set to 0.0 in labels with no predicted samples. Use `zero_division` parameter to control this behavior.\n",
      "  _warn_prf(average, modifier, msg_start, len(result))\n",
      "/Users/ryantalbot/opt/anaconda3/envs/tf2/lib/python3.9/site-packages/sklearn/metrics/_classification.py:1471: UndefinedMetricWarning: Precision and F-score are ill-defined and being set to 0.0 in labels with no predicted samples. Use `zero_division` parameter to control this behavior.\n",
      "  _warn_prf(average, modifier, msg_start, len(result))\n",
      "/Users/ryantalbot/opt/anaconda3/envs/tf2/lib/python3.9/site-packages/sklearn/metrics/_classification.py:1471: UndefinedMetricWarning: Precision and F-score are ill-defined and being set to 0.0 in labels with no predicted samples. Use `zero_division` parameter to control this behavior.\n",
      "  _warn_prf(average, modifier, msg_start, len(result))\n",
      "/Users/ryantalbot/opt/anaconda3/envs/tf2/lib/python3.9/site-packages/sklearn/metrics/_classification.py:1471: UndefinedMetricWarning: Precision and F-score are ill-defined and being set to 0.0 in labels with no predicted samples. Use `zero_division` parameter to control this behavior.\n",
      "  _warn_prf(average, modifier, msg_start, len(result))\n"
     ]
    },
    {
     "name": "stdout",
     "output_type": "stream",
     "text": [
      "Classifier: Random Forest\n",
      "Accuracy: 0.9074\n",
      "Classification Report:\n",
      "              precision    recall  f1-score   support\n",
      "\n",
      "           0       0.91      1.00      0.95        49\n",
      "           1       0.00      0.00      0.00         5\n",
      "\n",
      "    accuracy                           0.91        54\n",
      "   macro avg       0.45      0.50      0.48        54\n",
      "weighted avg       0.82      0.91      0.86        54\n",
      "\n",
      "Confusion Matrix:\n",
      "[[49  0]\n",
      " [ 5  0]]\n",
      "\n",
      "Classifier: AdaBoost\n",
      "Accuracy: 0.9259\n",
      "Classification Report:\n",
      "              precision    recall  f1-score   support\n",
      "\n",
      "           0       0.92      1.00      0.96        49\n",
      "           1       1.00      0.20      0.33         5\n",
      "\n",
      "    accuracy                           0.93        54\n",
      "   macro avg       0.96      0.60      0.65        54\n",
      "weighted avg       0.93      0.93      0.90        54\n",
      "\n",
      "Confusion Matrix:\n",
      "[[49  0]\n",
      " [ 4  1]]\n",
      "\n",
      "Classifier: SVM\n",
      "Accuracy: 0.9074\n",
      "Classification Report:\n",
      "              precision    recall  f1-score   support\n",
      "\n",
      "           0       0.91      1.00      0.95        49\n",
      "           1       0.00      0.00      0.00         5\n",
      "\n",
      "    accuracy                           0.91        54\n",
      "   macro avg       0.45      0.50      0.48        54\n",
      "weighted avg       0.82      0.91      0.86        54\n",
      "\n",
      "Confusion Matrix:\n",
      "[[49  0]\n",
      " [ 5  0]]\n",
      "\n",
      "Classifier: K-Nearest Neighbors\n",
      "Accuracy: 0.9074\n",
      "Classification Report:\n",
      "              precision    recall  f1-score   support\n",
      "\n",
      "           0       0.91      1.00      0.95        49\n",
      "           1       0.00      0.00      0.00         5\n",
      "\n",
      "    accuracy                           0.91        54\n",
      "   macro avg       0.45      0.50      0.48        54\n",
      "weighted avg       0.82      0.91      0.86        54\n",
      "\n",
      "Confusion Matrix:\n",
      "[[49  0]\n",
      " [ 5  0]]\n",
      "\n",
      "Classifier: Decision Tree\n",
      "Accuracy: 0.9259\n",
      "Classification Report:\n",
      "              precision    recall  f1-score   support\n",
      "\n",
      "           0       0.94      0.98      0.96        49\n",
      "           1       0.67      0.40      0.50         5\n",
      "\n",
      "    accuracy                           0.93        54\n",
      "   macro avg       0.80      0.69      0.73        54\n",
      "weighted avg       0.92      0.93      0.92        54\n",
      "\n",
      "Confusion Matrix:\n",
      "[[48  1]\n",
      " [ 3  2]]\n",
      "\n",
      "Classifier: Naive Bayes\n",
      "Accuracy: 0.8148\n",
      "Classification Report:\n",
      "              precision    recall  f1-score   support\n",
      "\n",
      "           0       1.00      0.80      0.89        49\n",
      "           1       0.33      1.00      0.50         5\n",
      "\n",
      "    accuracy                           0.81        54\n",
      "   macro avg       0.67      0.90      0.69        54\n",
      "weighted avg       0.94      0.81      0.85        54\n",
      "\n",
      "Confusion Matrix:\n",
      "[[39 10]\n",
      " [ 0  5]]\n",
      "\n",
      "Classifier: Neural Network\n",
      "Accuracy: 0.9074\n",
      "Classification Report:\n",
      "              precision    recall  f1-score   support\n",
      "\n",
      "           0       0.91      1.00      0.95        49\n",
      "           1       0.00      0.00      0.00         5\n",
      "\n",
      "    accuracy                           0.91        54\n",
      "   macro avg       0.45      0.50      0.48        54\n",
      "weighted avg       0.82      0.91      0.86        54\n",
      "\n",
      "Confusion Matrix:\n",
      "[[49  0]\n",
      " [ 5  0]]\n",
      "\n"
     ]
    },
    {
     "name": "stderr",
     "output_type": "stream",
     "text": [
      "/Users/ryantalbot/opt/anaconda3/envs/tf2/lib/python3.9/site-packages/sklearn/neural_network/_multilayer_perceptron.py:691: ConvergenceWarning: Stochastic Optimizer: Maximum iterations (200) reached and the optimization hasn't converged yet.\n",
      "  warnings.warn(\n",
      "/Users/ryantalbot/opt/anaconda3/envs/tf2/lib/python3.9/site-packages/sklearn/metrics/_classification.py:1471: UndefinedMetricWarning: Precision and F-score are ill-defined and being set to 0.0 in labels with no predicted samples. Use `zero_division` parameter to control this behavior.\n",
      "  _warn_prf(average, modifier, msg_start, len(result))\n",
      "/Users/ryantalbot/opt/anaconda3/envs/tf2/lib/python3.9/site-packages/sklearn/metrics/_classification.py:1471: UndefinedMetricWarning: Precision and F-score are ill-defined and being set to 0.0 in labels with no predicted samples. Use `zero_division` parameter to control this behavior.\n",
      "  _warn_prf(average, modifier, msg_start, len(result))\n",
      "/Users/ryantalbot/opt/anaconda3/envs/tf2/lib/python3.9/site-packages/sklearn/metrics/_classification.py:1471: UndefinedMetricWarning: Precision and F-score are ill-defined and being set to 0.0 in labels with no predicted samples. Use `zero_division` parameter to control this behavior.\n",
      "  _warn_prf(average, modifier, msg_start, len(result))\n"
     ]
    }
   ],
   "source": [
    "y = df['medal']\n",
    "X = df.drop(columns=['medal'])\n",
    "\n",
    "# Split the data into training and testing sets\n",
    "X_train, X_test, y_train, y_test = train_test_split(X, y, test_size=0.12, random_state=42)\n",
    "\n",
    "# Initialize classifiers\n",
    "classifiers = {\n",
    "    \"Random Forest\": RandomForestClassifier(),\n",
    "    \"AdaBoost\": AdaBoostClassifier(),\n",
    "    \"SVM\": SVC(),\n",
    "    \"K-Nearest Neighbors\": KNeighborsClassifier(),\n",
    "    \"Decision Tree\": DecisionTreeClassifier(),\n",
    "    \"Naive Bayes\": GaussianNB(),\n",
    "    \"Neural Network\": MLPClassifier(),\n",
    "}\n",
    "\n",
    "results = {}\n",
    "\n",
    "# Iterate through each classifier\n",
    "for name, clf in classifiers.items():\n",
    "    # Create a pipeline with StandardScaler for classifiers that require it\n",
    "    if name in [\"SVM\", \"K-Nearest Neighbors\", \"Neural Network\"]:\n",
    "        clf = make_pipeline(StandardScaler(), clf)\n",
    "\n",
    "    # Fit the model to the training data\n",
    "    clf.fit(X_train, y_train)\n",
    "\n",
    "    # Make predictions on the test data\n",
    "    y_pred = clf.predict(X_test)\n",
    "\n",
    "    # Evaluate the model's performance\n",
    "    accuracy = accuracy_score(y_test, y_pred)\n",
    "    report = classification_report(y_test, y_pred)\n",
    "    conf_matrix = confusion_matrix(y_test, y_pred)\n",
    "\n",
    "    results[name] = {\n",
    "        \"accuracy\": accuracy,\n",
    "        \"classification_report\": report,\n",
    "        \"confusion_matrix\": conf_matrix,\n",
    "    }\n",
    "\n",
    "# Print the results\n",
    "for name, result in results.items():\n",
    "    print(f\"Classifier: {name}\")\n",
    "    print(f\"Accuracy: {result['accuracy']:.4f}\")\n",
    "    print(f\"Classification Report:\\n{result['classification_report']}\")\n",
    "    print(f\"Confusion Matrix:\\n{result['confusion_matrix']}\\n\")\n"
   ]
  },
  {
   "cell_type": "code",
   "execution_count": 32,
   "id": "b95a7bc4",
   "metadata": {},
   "outputs": [
    {
     "name": "stdout",
     "output_type": "stream",
     "text": [
      "Accuracy: 0.96\n",
      "              precision    recall  f1-score   support\n",
      "\n",
      "           0       0.96      1.00      0.98        49\n",
      "           1       1.00      0.60      0.75         5\n",
      "\n",
      "    accuracy                           0.96        54\n",
      "   macro avg       0.98      0.80      0.86        54\n",
      "weighted avg       0.96      0.96      0.96        54\n",
      "\n"
     ]
    },
    {
     "data": {
      "image/png": "[encoded data removed]",
      "text/plain": [
       "<Figure size 576x432 with 2 Axes>"
      ]
     },
     "metadata": {
      "needs_background": "light"
     },
     "output_type": "display_data"
    }
   ],
   "source": [
    "# Create and train the DecisionTreeClassifier\n",
    "decision_tree_model = DecisionTreeClassifier(criterion='log_loss', \n",
    "                                             random_state=42)\n",
    "clf=decision_tree_model.fit(X_train, y_train)\n",
    "decision_tree_model.fit(X_train, y_train)\n",
    "\n",
    "# Make predictions\n",
    "y_pred = decision_tree_model.predict(X_test)\n",
    "\n",
    "# Calculate accuracy\n",
    "accuracy = accuracy_score(y_test, y_pred)\n",
    "print(f'Accuracy: {accuracy:.2f}')\n",
    "\n",
    "# Generate a classification report\n",
    "class_report = classification_report(y_test, y_pred)\n",
    "print(class_report)\n",
    "\n",
    "# Calculate the confusion matrix\n",
    "conf_matrix = confusion_matrix(y_test, y_pred)\n",
    "\n",
    "# Plot the confusion matrix using a heatmap\n",
    "plt.figure(figsize=(8, 6))\n",
    "sns.heatmap(conf_matrix, annot=True, fmt=\"d\", cmap=\"Blues\")\n",
    "plt.xlabel('Predicted')\n",
    "plt.ylabel('Actual')\n",
    "plt.title('Confusion Matrix')\n",
    "plt.show()\n"
   ]
  },
  {
   "cell_type": "code",
   "execution_count": 35,
   "id": "8155a35a",
   "metadata": {},
   "outputs": [],
   "source": [
    "# from sklearn import tree\n",
    "# tree.plot_tree(clf)"
   ]
  },
  {
   "cell_type": "code",
   "execution_count": 36,
   "id": "aa642509",
   "metadata": {},
   "outputs": [
    {
     "data": {
      "text/html": [
       "<div>\n",
       "<style scoped>\n",
       "    .dataframe tbody tr th:only-of-type {\n",
       "        vertical-align: middle;\n",
       "    }\n",
       "\n",
       "    .dataframe tbody tr th {\n",
       "        vertical-align: top;\n",
       "    }\n",
       "\n",
       "    .dataframe thead th {\n",
       "        text-align: right;\n",
       "    }\n",
       "</style>\n",
       "<table border=\"1\" class=\"dataframe\">\n",
       "  <thead>\n",
       "    <tr style=\"text-align: right;\">\n",
       "      <th></th>\n",
       "      <th>Rank</th>\n",
       "      <th>D Score</th>\n",
       "      <th>E Score</th>\n",
       "      <th>Pen.</th>\n",
       "      <th>Total</th>\n",
       "      <th>year</th>\n",
       "      <th>Name</th>\n",
       "      <th>nation</th>\n",
       "      <th>round_aafinal</th>\n",
       "      <th>round_final</th>\n",
       "      <th>round_qual</th>\n",
       "      <th>round_teamfinal</th>\n",
       "      <th>round_teamqual</th>\n",
       "    </tr>\n",
       "  </thead>\n",
       "  <tbody>\n",
       "    <tr>\n",
       "      <th>0</th>\n",
       "      <td>52.0</td>\n",
       "      <td>4.8</td>\n",
       "      <td>8.0</td>\n",
       "      <td>0.0</td>\n",
       "      <td>12.8</td>\n",
       "      <td>2022</td>\n",
       "      <td>288</td>\n",
       "      <td>25</td>\n",
       "      <td>False</td>\n",
       "      <td>False</td>\n",
       "      <td>True</td>\n",
       "      <td>False</td>\n",
       "      <td>False</td>\n",
       "    </tr>\n",
       "  </tbody>\n",
       "</table>\n",
       "</div>"
      ],
      "text/plain": [
       "   Rank  D Score  E Score  Pen.  Total  year  Name  nation  round_aafinal  \\\n",
       "0  52.0      4.8      8.0   0.0   12.8  2022   288      25          False   \n",
       "\n",
       "   round_final  round_qual  round_teamfinal  round_teamqual  \n",
       "0        False        True            False           False  "
      ]
     },
     "execution_count": 36,
     "metadata": {},
     "output_type": "execute_result"
    }
   ],
   "source": [
    "olymp.head(1)"
   ]
  },
  {
   "cell_type": "code",
   "execution_count": 8,
   "id": "7b49daca",
   "metadata": {},
   "outputs": [
    {
     "data": {
      "text/html": [
       "<div>\n",
       "<style scoped>\n",
       "    .dataframe tbody tr th:only-of-type {\n",
       "        vertical-align: middle;\n",
       "    }\n",
       "\n",
       "    .dataframe tbody tr th {\n",
       "        vertical-align: top;\n",
       "    }\n",
       "\n",
       "    .dataframe thead th {\n",
       "        text-align: right;\n",
       "    }\n",
       "</style>\n",
       "<table border=\"1\" class=\"dataframe\">\n",
       "  <thead>\n",
       "    <tr style=\"text-align: right;\">\n",
       "      <th></th>\n",
       "      <th>Rank</th>\n",
       "      <th>D Score</th>\n",
       "      <th>E Score</th>\n",
       "      <th>Pen.</th>\n",
       "      <th>Total</th>\n",
       "      <th>year</th>\n",
       "      <th>Name</th>\n",
       "      <th>nation</th>\n",
       "      <th>round_final</th>\n",
       "      <th>round_qual</th>\n",
       "      <th>round_unknown</th>\n",
       "    </tr>\n",
       "  </thead>\n",
       "  <tbody>\n",
       "    <tr>\n",
       "      <th>0</th>\n",
       "      <td>1.0</td>\n",
       "      <td>6.5</td>\n",
       "      <td>8.533</td>\n",
       "      <td>0.0</td>\n",
       "      <td>15.033</td>\n",
       "      <td>2019</td>\n",
       "      <td>208</td>\n",
       "      <td>6</td>\n",
       "      <td>True</td>\n",
       "      <td>False</td>\n",
       "      <td>False</td>\n",
       "    </tr>\n",
       "  </tbody>\n",
       "</table>\n",
       "</div>"
      ],
      "text/plain": [
       "   Rank  D Score  E Score  Pen.   Total  year  Name  nation  round_final  \\\n",
       "0   1.0      6.5    8.533   0.0  15.033  2019   208       6         True   \n",
       "\n",
       "   round_qual  round_unknown  \n",
       "0       False          False  "
      ]
     },
     "execution_count": 8,
     "metadata": {},
     "output_type": "execute_result"
    }
   ],
   "source": [
    "X.head(1)"
   ]
  },
  {
   "cell_type": "code",
   "execution_count": 9,
   "id": "00c4a0a8",
   "metadata": {},
   "outputs": [
    {
     "data": {
      "text/html": [
       "<div>\n",
       "<style scoped>\n",
       "    .dataframe tbody tr th:only-of-type {\n",
       "        vertical-align: middle;\n",
       "    }\n",
       "\n",
       "    .dataframe tbody tr th {\n",
       "        vertical-align: top;\n",
       "    }\n",
       "\n",
       "    .dataframe thead th {\n",
       "        text-align: right;\n",
       "    }\n",
       "</style>\n",
       "<table border=\"1\" class=\"dataframe\">\n",
       "  <thead>\n",
       "    <tr style=\"text-align: right;\">\n",
       "      <th></th>\n",
       "      <th>Rank</th>\n",
       "      <th>D Score</th>\n",
       "      <th>E Score</th>\n",
       "      <th>Pen.</th>\n",
       "      <th>Total</th>\n",
       "      <th>year</th>\n",
       "      <th>Name</th>\n",
       "      <th>nation</th>\n",
       "      <th>round_final</th>\n",
       "      <th>round_qual</th>\n",
       "      <th>round_unknown</th>\n",
       "    </tr>\n",
       "  </thead>\n",
       "  <tbody>\n",
       "    <tr>\n",
       "      <th>284</th>\n",
       "      <td>3.0</td>\n",
       "      <td>6.0</td>\n",
       "      <td>8.6</td>\n",
       "      <td>0.0</td>\n",
       "      <td>14.6</td>\n",
       "      <td>2016</td>\n",
       "      <td>50</td>\n",
       "      <td>11</td>\n",
       "      <td>True</td>\n",
       "      <td>False</td>\n",
       "      <td>False</td>\n",
       "    </tr>\n",
       "  </tbody>\n",
       "</table>\n",
       "</div>"
      ],
      "text/plain": [
       "     Rank  D Score  E Score  Pen.  Total  year  Name  nation  round_final  \\\n",
       "284   3.0      6.0      8.6   0.0   14.6  2016    50      11         True   \n",
       "\n",
       "     round_qual  round_unknown  \n",
       "284       False          False  "
      ]
     },
     "execution_count": 9,
     "metadata": {},
     "output_type": "execute_result"
    }
   ],
   "source": [
    "X_test.head(1)"
   ]
  },
  {
   "cell_type": "code",
   "execution_count": 10,
   "id": "59751ffa",
   "metadata": {},
   "outputs": [],
   "source": [
    "olymp = olymp.drop(columns=[\"round_aafinal\", \"round_teamfinal\", \"round_teamqual\"])"
   ]
  },
  {
   "cell_type": "code",
   "execution_count": 11,
   "id": "1f1cb491",
   "metadata": {},
   "outputs": [],
   "source": [
    "olymp['round_unknown']=False"
   ]
  },
  {
   "cell_type": "code",
   "execution_count": 12,
   "id": "37f682ed",
   "metadata": {},
   "outputs": [],
   "source": [
    "y_predz = decision_tree_model.predict(olymp)\n"
   ]
  },
  {
   "cell_type": "code",
   "execution_count": 24,
   "id": "8cf46a8e",
   "metadata": {},
   "outputs": [],
   "source": [
    "y_preds  = pd.Series(y_predz)"
   ]
  },
  {
   "cell_type": "code",
   "execution_count": 25,
   "id": "dee0d6e3",
   "metadata": {},
   "outputs": [],
   "source": [
    "olymp['ypredd']=y_preds"
   ]
  },
  {
   "cell_type": "code",
   "execution_count": 26,
   "id": "283adfdf",
   "metadata": {},
   "outputs": [
    {
     "data": {
      "text/plain": [
       "ypredd\n",
       "0    2097\n",
       "1      43\n",
       "Name: count, dtype: int64"
      ]
     },
     "execution_count": 26,
     "metadata": {},
     "output_type": "execute_result"
    }
   ],
   "source": [
    "olymp['ypredd'].value_counts()"
   ]
  },
  {
   "cell_type": "code",
   "execution_count": 27,
   "id": "5de074de",
   "metadata": {},
   "outputs": [],
   "source": [
    "filtered_df = olymp[olymp['ypredd'] == 1]"
   ]
  },
  {
   "cell_type": "code",
   "execution_count": 28,
   "id": "c125781c",
   "metadata": {},
   "outputs": [],
   "source": [
    "olymp = filtered_df.copy()"
   ]
  },
  {
   "cell_type": "code",
   "execution_count": 29,
   "id": "0d7d31f7",
   "metadata": {},
   "outputs": [
    {
     "data": {
      "text/plain": [
       "Name\n",
       "585    8\n",
       "705    7\n",
       "606    6\n",
       "691    4\n",
       "703    4\n",
       "493    4\n",
       "556    2\n",
       "405    1\n",
       "463    1\n",
       "359    1\n",
       "517    1\n",
       "464    1\n",
       "671    1\n",
       "350    1\n",
       "704    1\n",
       "Name: count, dtype: int64"
      ]
     },
     "execution_count": 29,
     "metadata": {},
     "output_type": "execute_result"
    }
   ],
   "source": [
    "olymp[\"Name\"].value_counts()"
   ]
  },
  {
   "cell_type": "code",
   "execution_count": 30,
   "id": "a2b4b1d5",
   "metadata": {},
   "outputs": [
    {
     "data": {
      "text/plain": [
       "array([405, 463, 556, 359, 517, 464, 606, 705, 691, 671, 703, 350, 704,\n",
       "       585, 493])"
      ]
     },
     "execution_count": 30,
     "metadata": {},
     "output_type": "execute_result"
    }
   ],
   "source": [
    "olymp[\"Name\"].unique()"
   ]
  },
  {
   "cell_type": "code",
   "execution_count": 20,
   "id": "7680150e",
   "metadata": {},
   "outputs": [],
   "source": [
    "# # List of Name_encoded values to filter by\n",
    "# name_encoded_values = [308, 425, 272, 356, 462, 522, 513, 520, 267, 445, 380]\n",
    "\n",
    "# # Create an empty set to store unique names\n",
    "# unique_names = set()\n",
    "\n",
    "# # Iterate through the DataFrame and add unique names to the set\n",
    "# for index, row in ubnames.iterrows():\n",
    "#     if row['Name_encoded'] in name_encoded_values:\n",
    "#         unique_names.add(row['Name'])\n",
    "\n",
    "# # Convert the set of unique names back to a list\n",
    "# unique_names_list = list(unique_names)\n"
   ]
  },
  {
   "cell_type": "code",
   "execution_count": 31,
   "id": "2ff26e91",
   "metadata": {},
   "outputs": [],
   "source": [
    "# List of Name_encoded values to filter by\n",
    "name_encoded_values = [405, 463, 556, 359, 517, 464, 606, 705, 691, 671, 703, 350, 704,\n",
    "       585, 493]\n",
    "# Create an empty set to store unique names\n",
    "unique_names = set()\n",
    "\n",
    "# Iterate through the DataFrame and add unique names to the set\n",
    "for index, row in ubnames.iterrows():\n",
    "    if row['Name_encoded'] in name_encoded_values:\n",
    "        unique_names.add(row['Name'])\n",
    "\n",
    "# Convert the set of unique names back to a list\n",
    "unique_names_list = list(unique_names)\n"
   ]
  },
  {
   "cell_type": "code",
   "execution_count": 35,
   "id": "fe9efaae",
   "metadata": {},
   "outputs": [
    {
     "data": {
      "text/plain": [
       "['yunseo lee',\n",
       " 'melanie jesus santos',\n",
       " 'zoja szekely',\n",
       " 'sanna veerman',\n",
       " 'naomi visser',\n",
       " 'rebecca downie',\n",
       " 'kokoro fukasawa',\n",
       " 'shilese jones',\n",
       " 'none jesus sant',\n",
       " 'zsofia kovacs',\n",
       " 'zoe miller',\n",
       " 'kelly simm',\n",
       " 'lorette charpy',\n",
       " 'viktoria listunova',\n",
       " 'melanie de jesus dos santos']"
      ]
     },
     "execution_count": 35,
     "metadata": {},
     "output_type": "execute_result"
    }
   ],
   "source": [
    "unique_names_list"
   ]
  },
  {
   "cell_type": "code",
   "execution_count": 33,
   "id": "8eeba0b5",
   "metadata": {},
   "outputs": [
    {
     "data": {
      "text/html": [
       "<div>\n",
       "<style scoped>\n",
       "    .dataframe tbody tr th:only-of-type {\n",
       "        vertical-align: middle;\n",
       "    }\n",
       "\n",
       "    .dataframe tbody tr th {\n",
       "        vertical-align: top;\n",
       "    }\n",
       "\n",
       "    .dataframe thead th {\n",
       "        text-align: right;\n",
       "    }\n",
       "</style>\n",
       "<table border=\"1\" class=\"dataframe\">\n",
       "  <thead>\n",
       "    <tr style=\"text-align: right;\">\n",
       "      <th></th>\n",
       "      <th>Name</th>\n",
       "      <th>Country</th>\n",
       "      <th>Date</th>\n",
       "      <th>Gender</th>\n",
       "      <th>Competition</th>\n",
       "      <th>Round</th>\n",
       "      <th>Location</th>\n",
       "      <th>Apparatus</th>\n",
       "      <th>Rank</th>\n",
       "      <th>D_Score</th>\n",
       "      <th>E_Score</th>\n",
       "      <th>Penalty</th>\n",
       "      <th>Score</th>\n",
       "      <th>Total_Score</th>\n",
       "    </tr>\n",
       "  </thead>\n",
       "  <tbody>\n",
       "    <tr>\n",
       "      <th>0</th>\n",
       "      <td>Jana ABDELSALAM</td>\n",
       "      <td>EGY</td>\n",
       "      <td>2022-11-06</td>\n",
       "      <td>w</td>\n",
       "      <td>2022 51st FIG Artistic Gymnastics World Champi...</td>\n",
       "      <td>qual</td>\n",
       "      <td>Liverpool, England</td>\n",
       "      <td>BB</td>\n",
       "      <td>100.0</td>\n",
       "      <td>4.8</td>\n",
       "      <td>6.200</td>\n",
       "      <td>0.0</td>\n",
       "      <td>11.000</td>\n",
       "      <td>11.000</td>\n",
       "    </tr>\n",
       "    <tr>\n",
       "      <th>1</th>\n",
       "      <td>Jana ABDELSALAM</td>\n",
       "      <td>EGY</td>\n",
       "      <td>2022-11-06</td>\n",
       "      <td>w</td>\n",
       "      <td>2022 51st FIG Artistic Gymnastics World Champi...</td>\n",
       "      <td>qual</td>\n",
       "      <td>Liverpool, England</td>\n",
       "      <td>FX</td>\n",
       "      <td>109.0</td>\n",
       "      <td>4.4</td>\n",
       "      <td>7.466</td>\n",
       "      <td>0.1</td>\n",
       "      <td>11.766</td>\n",
       "      <td>11.766</td>\n",
       "    </tr>\n",
       "    <tr>\n",
       "      <th>2</th>\n",
       "      <td>Jana ABDELSALAM</td>\n",
       "      <td>EGY</td>\n",
       "      <td>2022-11-06</td>\n",
       "      <td>w</td>\n",
       "      <td>2022 51st FIG Artistic Gymnastics World Champi...</td>\n",
       "      <td>qual</td>\n",
       "      <td>Liverpool, England</td>\n",
       "      <td>UB</td>\n",
       "      <td>52.0</td>\n",
       "      <td>4.8</td>\n",
       "      <td>8.000</td>\n",
       "      <td>0.0</td>\n",
       "      <td>12.800</td>\n",
       "      <td>12.800</td>\n",
       "    </tr>\n",
       "    <tr>\n",
       "      <th>3</th>\n",
       "      <td>Jana ABDELSALAM</td>\n",
       "      <td>EGY</td>\n",
       "      <td>2022-11-06</td>\n",
       "      <td>w</td>\n",
       "      <td>2022 51st FIG Artistic Gymnastics World Champi...</td>\n",
       "      <td>qual</td>\n",
       "      <td>Liverpool, England</td>\n",
       "      <td>VT1</td>\n",
       "      <td>110.0</td>\n",
       "      <td>4.2</td>\n",
       "      <td>8.433</td>\n",
       "      <td>0.3</td>\n",
       "      <td>12.333</td>\n",
       "      <td>12.333</td>\n",
       "    </tr>\n",
       "    <tr>\n",
       "      <th>4</th>\n",
       "      <td>Jana ABDELSALAM</td>\n",
       "      <td>EGY</td>\n",
       "      <td>2022-03-20</td>\n",
       "      <td>w</td>\n",
       "      <td>2022 Cairo World Cup</td>\n",
       "      <td>qual</td>\n",
       "      <td>Cairo, Egypt</td>\n",
       "      <td>BB</td>\n",
       "      <td>14.0</td>\n",
       "      <td>4.8</td>\n",
       "      <td>5.966</td>\n",
       "      <td>0.0</td>\n",
       "      <td>10.766</td>\n",
       "      <td>10.766</td>\n",
       "    </tr>\n",
       "  </tbody>\n",
       "</table>\n",
       "</div>"
      ],
      "text/plain": [
       "              Name Country        Date Gender  \\\n",
       "0  Jana ABDELSALAM     EGY  2022-11-06      w   \n",
       "1  Jana ABDELSALAM     EGY  2022-11-06      w   \n",
       "2  Jana ABDELSALAM     EGY  2022-11-06      w   \n",
       "3  Jana ABDELSALAM     EGY  2022-11-06      w   \n",
       "4  Jana ABDELSALAM     EGY  2022-03-20      w   \n",
       "\n",
       "                                         Competition Round  \\\n",
       "0  2022 51st FIG Artistic Gymnastics World Champi...  qual   \n",
       "1  2022 51st FIG Artistic Gymnastics World Champi...  qual   \n",
       "2  2022 51st FIG Artistic Gymnastics World Champi...  qual   \n",
       "3  2022 51st FIG Artistic Gymnastics World Champi...  qual   \n",
       "4                               2022 Cairo World Cup  qual   \n",
       "\n",
       "             Location Apparatus   Rank  D_Score  E_Score  Penalty   Score  \\\n",
       "0  Liverpool, England        BB  100.0      4.8    6.200      0.0  11.000   \n",
       "1  Liverpool, England        FX  109.0      4.4    7.466      0.1  11.766   \n",
       "2  Liverpool, England        UB   52.0      4.8    8.000      0.0  12.800   \n",
       "3  Liverpool, England       VT1  110.0      4.2    8.433      0.3  12.333   \n",
       "4        Cairo, Egypt        BB   14.0      4.8    5.966      0.0  10.766   \n",
       "\n",
       "   Total_Score  \n",
       "0       11.000  \n",
       "1       11.766  \n",
       "2       12.800  \n",
       "3       12.333  \n",
       "4       10.766  "
      ]
     },
     "execution_count": 33,
     "metadata": {},
     "output_type": "execute_result"
    }
   ],
   "source": [
    "ubolymp.head()"
   ]
  },
  {
   "cell_type": "code",
   "execution_count": 34,
   "id": "e85f6c57",
   "metadata": {},
   "outputs": [],
   "source": [
    "ubolymp['Name'] = ubolymp['Name'].str.lower()"
   ]
  },
  {
   "cell_type": "code",
   "execution_count": 36,
   "id": "51a16e63",
   "metadata": {},
   "outputs": [],
   "source": [
    "names_to_find = ['yunseo lee',\n",
    " 'melanie jesus santos',\n",
    " 'zoja szekely',\n",
    " 'sanna veerman',\n",
    " 'naomi visser',\n",
    " 'rebecca downie',\n",
    " 'kokoro fukasawa',\n",
    " 'shilese jones',\n",
    " 'none jesus sant',\n",
    " 'zsofia kovacs',\n",
    " 'zoe miller',\n",
    " 'kelly simm',\n",
    " 'lorette charpy',\n",
    " 'viktoria listunova',\n",
    " 'melanie de jesus dos santos']\n",
    "\n",
    "# Filter the DataFrame to get the desired names and their corresponding countries\n",
    "result_df = ubolymp[ubolymp['Name'].isin(names_to_find)]\n"
   ]
  },
  {
   "cell_type": "code",
   "execution_count": 37,
   "id": "0ac34a93",
   "metadata": {},
   "outputs": [],
   "source": [
    "result_df = result_df.drop(columns=['Gender', 'Date', 'Competition', 'Round', 'Location'])"
   ]
  },
  {
   "cell_type": "code",
   "execution_count": 38,
   "id": "89660e23",
   "metadata": {},
   "outputs": [],
   "source": [
    "result_df=result_df[result_df['Apparatus']== 'UB']"
   ]
  },
  {
   "cell_type": "code",
   "execution_count": 39,
   "id": "3087f24e",
   "metadata": {},
   "outputs": [],
   "source": [
    "usa = result_df[result_df['Country']=='USA']"
   ]
  },
  {
   "cell_type": "code",
   "execution_count": 40,
   "id": "ba3ccff0",
   "metadata": {},
   "outputs": [
    {
     "data": {
      "text/plain": [
       "array(['shilese jones', 'zoe miller'], dtype=object)"
      ]
     },
     "execution_count": 40,
     "metadata": {},
     "output_type": "execute_result"
    }
   ],
   "source": [
    "usa['Name'].unique()"
   ]
  },
  {
   "cell_type": "markdown",
   "id": "18ba120a",
   "metadata": {},
   "source": [
    "# USA Gymnastg with best chances to medal in Uneven Bars are:\n",
    "\n",
    "- Shilese Jones\n",
    "- Zoe Miller"
   ]
  },
  {
   "cell_type": "markdown",
   "id": "75219854",
   "metadata": {},
   "source": [
    "# Feature Importance - adjustments didn't help"
   ]
  },
  {
   "cell_type": "code",
   "execution_count": 41,
   "id": "47a2abea",
   "metadata": {},
   "outputs": [
    {
     "ename": "KeyError",
     "evalue": "\"['round_unknown', 'round_qual', 'round_final', 'year', 'Pen.', 'E Score', 'Rank'] not found in axis\"",
     "output_type": "error",
     "traceback": [
      "\u001b[0;31m---------------------------------------------------------------------------\u001b[0m",
      "\u001b[0;31mKeyError\u001b[0m                                  Traceback (most recent call last)",
      "\u001b[0;32m/var/folders/j_/555m2zps099832fjh_m8jjnc0000gn/T/ipykernel_38269/673724523.py\u001b[0m in \u001b[0;36m<cell line: 1>\u001b[0;34m()\u001b[0m\n\u001b[0;32m----> 1\u001b[0;31m \u001b[0mfeats\u001b[0m \u001b[0;34m=\u001b[0m \u001b[0mdf\u001b[0m\u001b[0;34m.\u001b[0m\u001b[0mdrop\u001b[0m\u001b[0;34m(\u001b[0m\u001b[0mcolumns\u001b[0m\u001b[0;34m=\u001b[0m\u001b[0;34m[\u001b[0m\u001b[0;34m'round_unknown'\u001b[0m\u001b[0;34m,\u001b[0m \u001b[0;34m'round_qual'\u001b[0m\u001b[0;34m,\u001b[0m \u001b[0;34m'round_final'\u001b[0m\u001b[0;34m,\u001b[0m \u001b[0;34m'year'\u001b[0m\u001b[0;34m,\u001b[0m \u001b[0;34m'Pen.'\u001b[0m\u001b[0;34m,\u001b[0m \u001b[0;34m'E Score'\u001b[0m\u001b[0;34m,\u001b[0m \u001b[0;34m'Rank'\u001b[0m \u001b[0;34m]\u001b[0m\u001b[0;34m)\u001b[0m\u001b[0;34m\u001b[0m\u001b[0;34m\u001b[0m\u001b[0m\n\u001b[0m",
      "\u001b[0;32m~/opt/anaconda3/envs/tf2/lib/python3.9/site-packages/pandas/core/frame.py\u001b[0m in \u001b[0;36mdrop\u001b[0;34m(self, labels, axis, index, columns, level, inplace, errors)\u001b[0m\n\u001b[1;32m   5256\u001b[0m                 \u001b[0mweight\u001b[0m  \u001b[0;36m1.0\u001b[0m     \u001b[0;36m0.8\u001b[0m\u001b[0;34m\u001b[0m\u001b[0;34m\u001b[0m\u001b[0m\n\u001b[1;32m   5257\u001b[0m         \"\"\"\n\u001b[0;32m-> 5258\u001b[0;31m         return super().drop(\n\u001b[0m\u001b[1;32m   5259\u001b[0m             \u001b[0mlabels\u001b[0m\u001b[0;34m=\u001b[0m\u001b[0mlabels\u001b[0m\u001b[0;34m,\u001b[0m\u001b[0;34m\u001b[0m\u001b[0;34m\u001b[0m\u001b[0m\n\u001b[1;32m   5260\u001b[0m             \u001b[0maxis\u001b[0m\u001b[0;34m=\u001b[0m\u001b[0maxis\u001b[0m\u001b[0;34m,\u001b[0m\u001b[0;34m\u001b[0m\u001b[0;34m\u001b[0m\u001b[0m\n",
      "\u001b[0;32m~/opt/anaconda3/envs/tf2/lib/python3.9/site-packages/pandas/core/generic.py\u001b[0m in \u001b[0;36mdrop\u001b[0;34m(self, labels, axis, index, columns, level, inplace, errors)\u001b[0m\n\u001b[1;32m   4547\u001b[0m         \u001b[0;32mfor\u001b[0m \u001b[0maxis\u001b[0m\u001b[0;34m,\u001b[0m \u001b[0mlabels\u001b[0m \u001b[0;32min\u001b[0m \u001b[0maxes\u001b[0m\u001b[0;34m.\u001b[0m\u001b[0mitems\u001b[0m\u001b[0;34m(\u001b[0m\u001b[0;34m)\u001b[0m\u001b[0;34m:\u001b[0m\u001b[0;34m\u001b[0m\u001b[0;34m\u001b[0m\u001b[0m\n\u001b[1;32m   4548\u001b[0m             \u001b[0;32mif\u001b[0m \u001b[0mlabels\u001b[0m \u001b[0;32mis\u001b[0m \u001b[0;32mnot\u001b[0m \u001b[0;32mNone\u001b[0m\u001b[0;34m:\u001b[0m\u001b[0;34m\u001b[0m\u001b[0;34m\u001b[0m\u001b[0m\n\u001b[0;32m-> 4549\u001b[0;31m                 \u001b[0mobj\u001b[0m \u001b[0;34m=\u001b[0m \u001b[0mobj\u001b[0m\u001b[0;34m.\u001b[0m\u001b[0m_drop_axis\u001b[0m\u001b[0;34m(\u001b[0m\u001b[0mlabels\u001b[0m\u001b[0;34m,\u001b[0m \u001b[0maxis\u001b[0m\u001b[0;34m,\u001b[0m \u001b[0mlevel\u001b[0m\u001b[0;34m=\u001b[0m\u001b[0mlevel\u001b[0m\u001b[0;34m,\u001b[0m \u001b[0merrors\u001b[0m\u001b[0;34m=\u001b[0m\u001b[0merrors\u001b[0m\u001b[0;34m)\u001b[0m\u001b[0;34m\u001b[0m\u001b[0;34m\u001b[0m\u001b[0m\n\u001b[0m\u001b[1;32m   4550\u001b[0m \u001b[0;34m\u001b[0m\u001b[0m\n\u001b[1;32m   4551\u001b[0m         \u001b[0;32mif\u001b[0m \u001b[0minplace\u001b[0m\u001b[0;34m:\u001b[0m\u001b[0;34m\u001b[0m\u001b[0;34m\u001b[0m\u001b[0m\n",
      "\u001b[0;32m~/opt/anaconda3/envs/tf2/lib/python3.9/site-packages/pandas/core/generic.py\u001b[0m in \u001b[0;36m_drop_axis\u001b[0;34m(self, labels, axis, level, errors, only_slice)\u001b[0m\n\u001b[1;32m   4589\u001b[0m                 \u001b[0mnew_axis\u001b[0m \u001b[0;34m=\u001b[0m \u001b[0maxis\u001b[0m\u001b[0;34m.\u001b[0m\u001b[0mdrop\u001b[0m\u001b[0;34m(\u001b[0m\u001b[0mlabels\u001b[0m\u001b[0;34m,\u001b[0m \u001b[0mlevel\u001b[0m\u001b[0;34m=\u001b[0m\u001b[0mlevel\u001b[0m\u001b[0;34m,\u001b[0m \u001b[0merrors\u001b[0m\u001b[0;34m=\u001b[0m\u001b[0merrors\u001b[0m\u001b[0;34m)\u001b[0m\u001b[0;34m\u001b[0m\u001b[0;34m\u001b[0m\u001b[0m\n\u001b[1;32m   4590\u001b[0m             \u001b[0;32melse\u001b[0m\u001b[0;34m:\u001b[0m\u001b[0;34m\u001b[0m\u001b[0;34m\u001b[0m\u001b[0m\n\u001b[0;32m-> 4591\u001b[0;31m                 \u001b[0mnew_axis\u001b[0m \u001b[0;34m=\u001b[0m \u001b[0maxis\u001b[0m\u001b[0;34m.\u001b[0m\u001b[0mdrop\u001b[0m\u001b[0;34m(\u001b[0m\u001b[0mlabels\u001b[0m\u001b[0;34m,\u001b[0m \u001b[0merrors\u001b[0m\u001b[0;34m=\u001b[0m\u001b[0merrors\u001b[0m\u001b[0;34m)\u001b[0m\u001b[0;34m\u001b[0m\u001b[0;34m\u001b[0m\u001b[0m\n\u001b[0m\u001b[1;32m   4592\u001b[0m             \u001b[0mindexer\u001b[0m \u001b[0;34m=\u001b[0m \u001b[0maxis\u001b[0m\u001b[0;34m.\u001b[0m\u001b[0mget_indexer\u001b[0m\u001b[0;34m(\u001b[0m\u001b[0mnew_axis\u001b[0m\u001b[0;34m)\u001b[0m\u001b[0;34m\u001b[0m\u001b[0;34m\u001b[0m\u001b[0m\n\u001b[1;32m   4593\u001b[0m \u001b[0;34m\u001b[0m\u001b[0m\n",
      "\u001b[0;32m~/opt/anaconda3/envs/tf2/lib/python3.9/site-packages/pandas/core/indexes/base.py\u001b[0m in \u001b[0;36mdrop\u001b[0;34m(self, labels, errors)\u001b[0m\n\u001b[1;32m   6697\u001b[0m         \u001b[0;32mif\u001b[0m \u001b[0mmask\u001b[0m\u001b[0;34m.\u001b[0m\u001b[0many\u001b[0m\u001b[0;34m(\u001b[0m\u001b[0;34m)\u001b[0m\u001b[0;34m:\u001b[0m\u001b[0;34m\u001b[0m\u001b[0;34m\u001b[0m\u001b[0m\n\u001b[1;32m   6698\u001b[0m             \u001b[0;32mif\u001b[0m \u001b[0merrors\u001b[0m \u001b[0;34m!=\u001b[0m \u001b[0;34m\"ignore\"\u001b[0m\u001b[0;34m:\u001b[0m\u001b[0;34m\u001b[0m\u001b[0;34m\u001b[0m\u001b[0m\n\u001b[0;32m-> 6699\u001b[0;31m                 \u001b[0;32mraise\u001b[0m \u001b[0mKeyError\u001b[0m\u001b[0;34m(\u001b[0m\u001b[0;34mf\"{list(labels[mask])} not found in axis\"\u001b[0m\u001b[0;34m)\u001b[0m\u001b[0;34m\u001b[0m\u001b[0;34m\u001b[0m\u001b[0m\n\u001b[0m\u001b[1;32m   6700\u001b[0m             \u001b[0mindexer\u001b[0m \u001b[0;34m=\u001b[0m \u001b[0mindexer\u001b[0m\u001b[0;34m[\u001b[0m\u001b[0;34m~\u001b[0m\u001b[0mmask\u001b[0m\u001b[0;34m]\u001b[0m\u001b[0;34m\u001b[0m\u001b[0;34m\u001b[0m\u001b[0m\n\u001b[1;32m   6701\u001b[0m         \u001b[0;32mreturn\u001b[0m \u001b[0mself\u001b[0m\u001b[0;34m.\u001b[0m\u001b[0mdelete\u001b[0m\u001b[0;34m(\u001b[0m\u001b[0mindexer\u001b[0m\u001b[0;34m)\u001b[0m\u001b[0;34m\u001b[0m\u001b[0;34m\u001b[0m\u001b[0m\n",
      "\u001b[0;31mKeyError\u001b[0m: \"['round_unknown', 'round_qual', 'round_final', 'year', 'Pen.', 'E Score', 'Rank'] not found in axis\""
     ]
    }
   ],
   "source": [
    "feats = df.drop(columns=['round_unknown', 'round_qual', 'round_final', 'year', 'Pen.', 'E Score', 'Rank' ])\n"
   ]
  },
  {
   "cell_type": "code",
   "execution_count": 42,
   "id": "d9d785dc",
   "metadata": {},
   "outputs": [
    {
     "name": "stdout",
     "output_type": "stream",
     "text": [
      "Accuracy: 0.93\n",
      "              precision    recall  f1-score   support\n",
      "\n",
      "           0       0.94      0.98      0.96        49\n",
      "           1       0.67      0.40      0.50         5\n",
      "\n",
      "    accuracy                           0.93        54\n",
      "   macro avg       0.80      0.69      0.73        54\n",
      "weighted avg       0.92      0.93      0.92        54\n",
      "\n"
     ]
    },
    {
     "data": {
      "image/png": "[encoded data removed]",
      "text/plain": [
       "<Figure size 576x432 with 2 Axes>"
      ]
     },
     "metadata": {
      "needs_background": "light"
     },
     "output_type": "display_data"
    },
    {
     "data": {
      "image/png": "[encoded data removed]",
      "text/plain": [
       "<Figure size 720x432 with 1 Axes>"
      ]
     },
     "metadata": {
      "needs_background": "light"
     },
     "output_type": "display_data"
    }
   ],
   "source": [
    "from sklearn.tree import DecisionTreeClassifier\n",
    "from sklearn.metrics import accuracy_score, classification_report, confusion_matrix\n",
    "import matplotlib.pyplot as plt\n",
    "import seaborn as sns\n",
    "\n",
    "df = feats.copy()\n",
    "y = df['medal']\n",
    "X = df.drop(columns=['medal'])\n",
    "\n",
    "X_train, X_test, y_train, y_test = train_test_split(X, y, test_size=0.12, random_state=42)\n",
    "\n",
    "# Create and train the DecisionTreeClassifier\n",
    "decision_tree_model = DecisionTreeClassifier(criterion='gini',  # or 'entropy' for information gain\n",
    "                                             random_state=42)\n",
    "decision_tree_model.fit(X_train, y_train)\n",
    "\n",
    "# Extract feature importances from the trained DecisionTreeClassifier\n",
    "feature_importances = decision_tree_model.feature_importances_\n",
    "\n",
    "# Make predictions\n",
    "y_pred = decision_tree_model.predict(X_test)\n",
    "\n",
    "# Calculate accuracy\n",
    "accuracy = accuracy_score(y_test, y_pred)\n",
    "print(f'Accuracy: {accuracy:.2f}')\n",
    "\n",
    "# Generate a classification report\n",
    "class_report = classification_report(y_test, y_pred)\n",
    "print(class_report)\n",
    "\n",
    "# Calculate the confusion matrix\n",
    "conf_matrix = confusion_matrix(y_test, y_pred)\n",
    "\n",
    "# Plot the confusion matrix using a heatmap\n",
    "plt.figure(figsize=(8, 6))\n",
    "sns.heatmap(conf_matrix, annot=True, fmt=\"d\", cmap=\"Blues\")\n",
    "plt.xlabel('Predicted')\n",
    "plt.ylabel('Actual')\n",
    "plt.title('Confusion Matrix')\n",
    "plt.show()\n",
    "\n",
    "# Plot feature importances\n",
    "plt.figure(figsize=(10, 6))\n",
    "plt.barh(X.columns, feature_importances, color='skyblue')\n",
    "plt.xlabel('Feature Importance')\n",
    "plt.title('DecisionTree Classifier - Feature Importances')\n",
    "plt.show()\n",
    "\n",
    "\n",
    "\n"
   ]
  },
  {
   "cell_type": "code",
   "execution_count": null,
   "id": "db744923",
   "metadata": {},
   "outputs": [],
   "source": []
  }
 ],
 "metadata": {
  "kernelspec": {
   "display_name": "Python 3 (ipykernel)",
   "language": "python",
   "name": "python3"
  },
  "language_info": {
   "codemirror_mode": {
    "name": "ipython",
    "version": 3
   },
   "file_extension": ".py",
   "mimetype": "text/x-python",
   "name": "python",
   "nbconvert_exporter": "python",
   "pygments_lexer": "ipython3",
   "version": "3.9.12"
  }
 },
 "nbformat": 4,
 "nbformat_minor": 5
}
