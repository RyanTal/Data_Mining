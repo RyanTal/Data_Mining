{
 "cells": [
  {
   "cell_type": "markdown",
   "id": "3a4d5870",
   "metadata": {},
   "source": [
    "Balance Beam\n",
    "- simone biles\n",
    "- joscelyn roberson\n",
    "\n",
    "Vault\n",
    "- simone biles\n",
    "\n",
    "Uneven Bars\n",
    "- Shilese Jones\n",
    "- Zoe Miller\n",
    "\n",
    "IAA\n",
    "- Jordan chiles\n",
    "\n",
    "Floor\n",
    "- Simone Biles\n",
    "- Ashlee Sullivan\n",
    "\n",
    "Balance Beam\n",
    "- simone biles\n",
    "- joscelyn roberson\n"
   ]
  },
  {
   "cell_type": "code",
   "execution_count": 2,
   "id": "af27e3db",
   "metadata": {},
   "outputs": [],
   "source": [
    "import pandas as pd"
   ]
  },
  {
   "cell_type": "code",
   "execution_count": 3,
   "id": "8ef006c7",
   "metadata": {},
   "outputs": [
    {
     "data": {
      "text/html": [
       "<div>\n",
       "<style scoped>\n",
       "    .dataframe tbody tr th:only-of-type {\n",
       "        vertical-align: middle;\n",
       "    }\n",
       "\n",
       "    .dataframe tbody tr th {\n",
       "        vertical-align: top;\n",
       "    }\n",
       "\n",
       "    .dataframe thead th {\n",
       "        text-align: right;\n",
       "    }\n",
       "</style>\n",
       "<table border=\"1\" class=\"dataframe\">\n",
       "  <thead>\n",
       "    <tr style=\"text-align: right;\">\n",
       "      <th></th>\n",
       "      <th>Event</th>\n",
       "      <th>Gymnast</th>\n",
       "    </tr>\n",
       "  </thead>\n",
       "  <tbody>\n",
       "    <tr>\n",
       "      <th>0</th>\n",
       "      <td>Balance Beam</td>\n",
       "      <td>Simone Biles</td>\n",
       "    </tr>\n",
       "    <tr>\n",
       "      <th>1</th>\n",
       "      <td>Balance Beam</td>\n",
       "      <td>Joscelyn Roberson</td>\n",
       "    </tr>\n",
       "    <tr>\n",
       "      <th>2</th>\n",
       "      <td>Vault</td>\n",
       "      <td>Simone Biles</td>\n",
       "    </tr>\n",
       "    <tr>\n",
       "      <th>3</th>\n",
       "      <td>Uneven Bars</td>\n",
       "      <td>Shilese Jones</td>\n",
       "    </tr>\n",
       "    <tr>\n",
       "      <th>4</th>\n",
       "      <td>Uneven Bars</td>\n",
       "      <td>Zoe Miller</td>\n",
       "    </tr>\n",
       "    <tr>\n",
       "      <th>5</th>\n",
       "      <td>IAA</td>\n",
       "      <td>Jordan Chiles</td>\n",
       "    </tr>\n",
       "    <tr>\n",
       "      <th>6</th>\n",
       "      <td>Floor</td>\n",
       "      <td>Simone Biles</td>\n",
       "    </tr>\n",
       "    <tr>\n",
       "      <th>7</th>\n",
       "      <td>Floor</td>\n",
       "      <td>Ashlee Sullivan</td>\n",
       "    </tr>\n",
       "  </tbody>\n",
       "</table>\n",
       "</div>"
      ],
      "text/plain": [
       "          Event            Gymnast\n",
       "0  Balance Beam       Simone Biles\n",
       "1  Balance Beam  Joscelyn Roberson\n",
       "2         Vault       Simone Biles\n",
       "3   Uneven Bars      Shilese Jones\n",
       "4   Uneven Bars         Zoe Miller\n",
       "5           IAA      Jordan Chiles\n",
       "6         Floor       Simone Biles\n",
       "7         Floor    Ashlee Sullivan"
      ]
     },
     "execution_count": 3,
     "metadata": {},
     "output_type": "execute_result"
    }
   ],
   "source": [
    "\n",
    "data = {\n",
    "    'Event': ['Balance Beam', 'Balance Beam', 'Vault', 'Uneven Bars', 'Uneven Bars', 'IAA', 'Floor', 'Floor'],\n",
    "    'Gymnast': ['Simone Biles', 'Joscelyn Roberson', 'Simone Biles', 'Shilese Jones', 'Zoe Miller', 'Jordan Chiles', 'Simone Biles', 'Ashlee Sullivan']\n",
    "}\n",
    "\n",
    "gymnastics_df = pd.DataFrame(data)\n",
    "\n",
    "gymnastics_df\n"
   ]
  },
  {
   "cell_type": "code",
   "execution_count": 4,
   "id": "5eb03828",
   "metadata": {},
   "outputs": [
    {
     "data": {
      "text/plain": [
       "Gymnast\n",
       "Simone Biles         3\n",
       "Joscelyn Roberson    1\n",
       "Shilese Jones        1\n",
       "Zoe Miller           1\n",
       "Jordan Chiles        1\n",
       "Ashlee Sullivan      1\n",
       "Name: count, dtype: int64"
      ]
     },
     "execution_count": 4,
     "metadata": {},
     "output_type": "execute_result"
    }
   ],
   "source": [
    "gymnastics_df['Gymnast'].value_counts()"
   ]
  },
  {
   "cell_type": "code",
   "execution_count": 6,
   "id": "45889ec5",
   "metadata": {},
   "outputs": [],
   "source": [
    "# gymnastics_df.to_csv('womens_individuals.csv', index=False)"
   ]
  },
  {
   "cell_type": "code",
   "execution_count": null,
   "id": "bfe5d501",
   "metadata": {},
   "outputs": [],
   "source": []
  }
 ],
 "metadata": {
  "kernelspec": {
   "display_name": "Python 3 (ipykernel)",
   "language": "python",
   "name": "python3"
  },
  "language_info": {
   "codemirror_mode": {
    "name": "ipython",
    "version": 3
   },
   "file_extension": ".py",
   "mimetype": "text/x-python",
   "name": "python",
   "nbconvert_exporter": "python",
   "pygments_lexer": "ipython3",
   "version": "3.9.12"
  }
 },
 "nbformat": 4,
 "nbformat_minor": 5
}
