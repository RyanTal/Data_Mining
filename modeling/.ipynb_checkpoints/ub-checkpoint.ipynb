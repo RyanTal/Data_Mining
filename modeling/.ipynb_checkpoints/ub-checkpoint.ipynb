{
 "cells": [
  {
   "cell_type": "markdown",
   "id": "da3e7144",
   "metadata": {},
   "source": [
    "# USA Gymnast with best chances to medal in Uneven Bars are:\n",
    "\n",
    "- Shilese Jones\n",
    "- Zoe Miller"
   ]
  },
  {
   "cell_type": "code",
   "execution_count": 1,
   "id": "2051896b",
   "metadata": {},
   "outputs": [],
   "source": [
    "import pandas as pd\n",
    "import numpy as np\n",
    "from scipy import stats\n",
    "from mlxtend.preprocessing import minmax_scaling\n",
    "import seaborn as sns\n",
    "import matplotlib.pyplot as plt\n",
    "import matplotlib.pyplot as plt\n",
    "import numpy as np\n",
    "from matplotlib.colors import ListedColormap\n",
    "from sklearn.model_selection import train_test_split\n",
    "\n",
    "\n",
    "from sklearn.datasets import make_circles, make_classification, make_moons\n",
    "from sklearn.discriminant_analysis import QuadraticDiscriminantAnalysis\n",
    "from sklearn.ensemble import AdaBoostClassifier, RandomForestClassifier\n",
    "from sklearn.gaussian_process import GaussianProcessClassifier\n",
    "from sklearn.gaussian_process.kernels import RBF\n",
    "from sklearn.inspection import DecisionBoundaryDisplay\n",
    "from sklearn.model_selection import train_test_split\n",
    "from sklearn.naive_bayes import GaussianNB\n",
    "from sklearn.neighbors import KNeighborsClassifier\n",
    "from sklearn.neural_network import MLPClassifier\n",
    "from sklearn.pipeline import make_pipeline\n",
    "from sklearn.preprocessing import StandardScaler\n",
    "from sklearn.svm import SVC\n",
    "from sklearn.tree import DecisionTreeClassifier\n",
    "\n",
    "\n",
    "from sklearn import svm\n",
    "from sklearn.model_selection import train_test_split\n",
    "from sklearn.pipeline import make_pipeline\n",
    "from sklearn.preprocessing import StandardScaler\n",
    "from sklearn.svm import SVC\n",
    "\n",
    "import pandas as pd\n",
    "from sklearn.model_selection import train_test_split\n",
    "from sklearn.ensemble import AdaBoostClassifier\n",
    "from sklearn.metrics import accuracy_score, classification_report, confusion_matrix\n",
    "\n",
    "from sklearn.svm import SVC\n",
    "from sklearn.metrics import accuracy_score, classification_report, confusion_matrix\n",
    "\n",
    "\n",
    "import pandas as pd\n",
    "from sklearn.model_selection import train_test_split\n",
    "from sklearn.metrics import accuracy_score, classification_report, confusion_matrix\n",
    "from sklearn.preprocessing import StandardScaler\n",
    "from sklearn.ensemble import RandomForestClassifier, AdaBoostClassifier\n",
    "from sklearn.svm import SVC\n",
    "from sklearn.neighbors import KNeighborsClassifier\n",
    "from sklearn.tree import DecisionTreeClassifier\n",
    "from sklearn.naive_bayes import GaussianNB\n",
    "from sklearn.neural_network import MLPClassifier\n"
   ]
  },
  {
   "cell_type": "code",
   "execution_count": 226,
   "id": "e2628276",
   "metadata": {},
   "outputs": [],
   "source": [
    "df = pd.read_csv('../Combine_Data/ub_encoded.csv')\n",
    "olymp = pd.read_csv('../Data/cleandata22-23/encoded_w_olympics_ub.csv')\n",
    "ubnames = pd.read_csv('../Data/cleandata22-23/encoded_w_olympics_ubnames.csv')\n",
    "ubolymp = pd.read_csv('../Data/cleandata22-23/women22_23.csv')"
   ]
  },
  {
   "cell_type": "code",
   "execution_count": 3,
   "id": "6aaeef5b",
   "metadata": {},
   "outputs": [],
   "source": [
    "y = df['medal']\n",
    "X = df.drop(columns=['medal'])\n",
    "\n",
    "# Split the data into training and testing sets\n",
    "X_train, X_test, y_train, y_test = train_test_split(X, y, test_size=0.12, random_state=42)\n"
   ]
  },
  {
   "cell_type": "code",
   "execution_count": 4,
   "id": "eedf8bf0",
   "metadata": {
    "scrolled": false
   },
   "outputs": [],
   "source": [
    "\n",
    "# Assuming you already have your DataFrame 'df' and the target variable is 'medal'\n",
    "y = df['medal']\n",
    "X = df.drop(columns=['medal'])\n",
    "\n",
    "# Split the data into training and testing sets\n",
    "X_train, X_test, y_train, y_test = train_test_split(X, y, test_size=0.12, random_state=42)\n",
    "\n",
    "# Initialize classifiers\n",
    "classifiers = {\n",
    "    \"Random Forest\": RandomForestClassifier(),\n",
    "    \"AdaBoost\": AdaBoostClassifier(),\n",
    "    \"SVM\": SVC(),\n",
    "    \"K-Nearest Neighbors\": KNeighborsClassifier(),\n",
    "    \"Decision Tree\": DecisionTreeClassifier(),\n",
    "    \"Naive Bayes\": GaussianNB(),\n",
    "    \"Neural Network\": MLPClassifier(),\n",
    "}\n",
    "\n",
    "results = {}\n",
    "\n",
    "# Iterate through each classifier\n",
    "for name, clf in classifiers.items():\n",
    "    # Create a pipeline with StandardScaler for classifiers that require it\n",
    "    if name in [\"SVM\", \"K-Nearest Neighbors\", \"Neural Network\"]:\n",
    "        clf = make_pipeline(StandardScaler(), clf)\n",
    "\n",
    "    # Fit the model to the training data\n",
    "    clf.fit(X_train, y_train)\n",
    "\n",
    "    # Make predictions on the test data\n",
    "    y_pred = clf.predict(X_test)\n",
    "\n",
    "    # Evaluate the model's performance\n",
    "    accuracy = accuracy_score(y_test, y_pred)\n",
    "    report = classification_report(y_test, y_pred)\n",
    "    conf_matrix = confusion_matrix(y_test, y_pred)\n",
    "\n",
    "    results[name] = {\n",
    "        \"accuracy\": accuracy,\n",
    "        \"classification_report\": report,\n",
    "        \"confusion_matrix\": conf_matrix,\n",
    "    }\n",
    "\n",
    "# Print the results\n",
    "for name, result in results.items():\n",
    "    print(f\"Classifier: {name}\")\n",
    "    print(f\"Accuracy: {result['accuracy']:.4f}\")\n",
    "    print(f\"Classification Report:\\n{result['classification_report']}\")\n",
    "    print(f\"Confusion Matrix:\\n{result['confusion_matrix']}\\n\")\n"
   ]
  },
  {
   "cell_type": "code",
   "execution_count": 199,
   "id": "86bd1626",
   "metadata": {},
   "outputs": [
    {
     "name": "stdout",
     "output_type": "stream",
     "text": [
      "Accuracy: 0.96\n",
      "              precision    recall  f1-score   support\n",
      "\n",
      "           0       0.96      1.00      0.98        49\n",
      "           1       1.00      0.60      0.75         5\n",
      "\n",
      "    accuracy                           0.96        54\n",
      "   macro avg       0.98      0.80      0.86        54\n",
      "weighted avg       0.96      0.96      0.96        54\n",
      "\n"
     ]
    },
    {
     "data": {
      "image/png": "[encoded data removed]",
      "text/plain": [
       "<Figure size 576x432 with 2 Axes>"
      ]
     },
     "metadata": {
      "needs_background": "light"
     },
     "output_type": "display_data"
    }
   ],
   "source": [
    "# Create and train the DecisionTreeClassifier\n",
    "decision_tree_model = DecisionTreeClassifier(criterion='log_loss', random_state=42)\n",
    "clf=decision_tree_model.fit(X_train, y_train)\n",
    "decision_tree_model.fit(X_train, y_train)\n",
    "\n",
    "# Make predictions\n",
    "y_pred = decision_tree_model.predict(X_test)\n",
    "\n",
    "# Calculate accuracy\n",
    "accuracy = accuracy_score(y_test, y_pred)\n",
    "print(f'Accuracy: {accuracy:.2f}')\n",
    "\n",
    "# Generate a classification report\n",
    "class_report = classification_report(y_test, y_pred)\n",
    "print(class_report)\n",
    "\n",
    "# Calculate the confusion matrix\n",
    "conf_matrix = confusion_matrix(y_test, y_pred)\n",
    "\n",
    "# Plot the confusion matrix using a heatmap\n",
    "plt.figure(figsize=(8, 6))\n",
    "sns.heatmap(conf_matrix, annot=True, fmt=\"d\", cmap=\"Blues\")\n",
    "plt.xlabel('Predicted')\n",
    "plt.ylabel('Actual')\n",
    "plt.title('Confusion Matrix')\n",
    "plt.show()\n"
   ]
  },
  {
   "cell_type": "code",
   "execution_count": 200,
   "id": "eb431172",
   "metadata": {},
   "outputs": [],
   "source": [
    "# from sklearn import tree\n",
    "# tree.plot_tree(clf)"
   ]
  },
  {
   "cell_type": "code",
   "execution_count": 201,
   "id": "ddfbce82",
   "metadata": {},
   "outputs": [
    {
     "data": {
      "text/html": [
       "<div>\n",
       "<style scoped>\n",
       "    .dataframe tbody tr th:only-of-type {\n",
       "        vertical-align: middle;\n",
       "    }\n",
       "\n",
       "    .dataframe tbody tr th {\n",
       "        vertical-align: top;\n",
       "    }\n",
       "\n",
       "    .dataframe thead th {\n",
       "        text-align: right;\n",
       "    }\n",
       "</style>\n",
       "<table border=\"1\" class=\"dataframe\">\n",
       "  <thead>\n",
       "    <tr style=\"text-align: right;\">\n",
       "      <th></th>\n",
       "      <th>Rank</th>\n",
       "      <th>D Score</th>\n",
       "      <th>E Score</th>\n",
       "      <th>Pen.</th>\n",
       "      <th>Total</th>\n",
       "      <th>year</th>\n",
       "      <th>Name</th>\n",
       "      <th>nation</th>\n",
       "      <th>round_aafinal</th>\n",
       "      <th>round_final</th>\n",
       "      <th>round_qual</th>\n",
       "      <th>round_teamfinal</th>\n",
       "    </tr>\n",
       "  </thead>\n",
       "  <tbody>\n",
       "    <tr>\n",
       "      <th>0</th>\n",
       "      <td>52.0</td>\n",
       "      <td>4.8</td>\n",
       "      <td>8.0</td>\n",
       "      <td>0.0</td>\n",
       "      <td>12.8</td>\n",
       "      <td>2022</td>\n",
       "      <td>216</td>\n",
       "      <td>22</td>\n",
       "      <td>False</td>\n",
       "      <td>False</td>\n",
       "      <td>True</td>\n",
       "      <td>False</td>\n",
       "    </tr>\n",
       "  </tbody>\n",
       "</table>\n",
       "</div>"
      ],
      "text/plain": [
       "   Rank  D Score  E Score  Pen.  Total  year  Name  nation  round_aafinal  \\\n",
       "0  52.0      4.8      8.0   0.0   12.8  2022   216      22          False   \n",
       "\n",
       "   round_final  round_qual  round_teamfinal  \n",
       "0        False        True            False  "
      ]
     },
     "execution_count": 201,
     "metadata": {},
     "output_type": "execute_result"
    }
   ],
   "source": [
    "olymp.head(1)"
   ]
  },
  {
   "cell_type": "code",
   "execution_count": 202,
   "id": "d12b11b9",
   "metadata": {},
   "outputs": [
    {
     "data": {
      "text/html": [
       "<div>\n",
       "<style scoped>\n",
       "    .dataframe tbody tr th:only-of-type {\n",
       "        vertical-align: middle;\n",
       "    }\n",
       "\n",
       "    .dataframe tbody tr th {\n",
       "        vertical-align: top;\n",
       "    }\n",
       "\n",
       "    .dataframe thead th {\n",
       "        text-align: right;\n",
       "    }\n",
       "</style>\n",
       "<table border=\"1\" class=\"dataframe\">\n",
       "  <thead>\n",
       "    <tr style=\"text-align: right;\">\n",
       "      <th></th>\n",
       "      <th>Rank</th>\n",
       "      <th>D Score</th>\n",
       "      <th>E Score</th>\n",
       "      <th>Pen.</th>\n",
       "      <th>Total</th>\n",
       "      <th>year</th>\n",
       "      <th>Name</th>\n",
       "      <th>nation</th>\n",
       "      <th>round_final</th>\n",
       "      <th>round_qual</th>\n",
       "      <th>round_unknown</th>\n",
       "    </tr>\n",
       "  </thead>\n",
       "  <tbody>\n",
       "    <tr>\n",
       "      <th>0</th>\n",
       "      <td>1.0</td>\n",
       "      <td>6.5</td>\n",
       "      <td>8.533</td>\n",
       "      <td>0.0</td>\n",
       "      <td>15.033</td>\n",
       "      <td>2019</td>\n",
       "      <td>208</td>\n",
       "      <td>6</td>\n",
       "      <td>True</td>\n",
       "      <td>False</td>\n",
       "      <td>False</td>\n",
       "    </tr>\n",
       "  </tbody>\n",
       "</table>\n",
       "</div>"
      ],
      "text/plain": [
       "   Rank  D Score  E Score  Pen.   Total  year  Name  nation  round_final  \\\n",
       "0   1.0      6.5    8.533   0.0  15.033  2019   208       6         True   \n",
       "\n",
       "   round_qual  round_unknown  \n",
       "0       False          False  "
      ]
     },
     "execution_count": 202,
     "metadata": {},
     "output_type": "execute_result"
    }
   ],
   "source": [
    "X.head(1)"
   ]
  },
  {
   "cell_type": "code",
   "execution_count": 203,
   "id": "c6291036",
   "metadata": {},
   "outputs": [
    {
     "data": {
      "text/html": [
       "<div>\n",
       "<style scoped>\n",
       "    .dataframe tbody tr th:only-of-type {\n",
       "        vertical-align: middle;\n",
       "    }\n",
       "\n",
       "    .dataframe tbody tr th {\n",
       "        vertical-align: top;\n",
       "    }\n",
       "\n",
       "    .dataframe thead th {\n",
       "        text-align: right;\n",
       "    }\n",
       "</style>\n",
       "<table border=\"1\" class=\"dataframe\">\n",
       "  <thead>\n",
       "    <tr style=\"text-align: right;\">\n",
       "      <th></th>\n",
       "      <th>Rank</th>\n",
       "      <th>D Score</th>\n",
       "      <th>E Score</th>\n",
       "      <th>Pen.</th>\n",
       "      <th>Total</th>\n",
       "      <th>year</th>\n",
       "      <th>Name</th>\n",
       "      <th>nation</th>\n",
       "      <th>round_final</th>\n",
       "      <th>round_qual</th>\n",
       "      <th>round_unknown</th>\n",
       "    </tr>\n",
       "  </thead>\n",
       "  <tbody>\n",
       "    <tr>\n",
       "      <th>284</th>\n",
       "      <td>3.0</td>\n",
       "      <td>6.0</td>\n",
       "      <td>8.6</td>\n",
       "      <td>0.0</td>\n",
       "      <td>14.6</td>\n",
       "      <td>2016</td>\n",
       "      <td>50</td>\n",
       "      <td>11</td>\n",
       "      <td>True</td>\n",
       "      <td>False</td>\n",
       "      <td>False</td>\n",
       "    </tr>\n",
       "  </tbody>\n",
       "</table>\n",
       "</div>"
      ],
      "text/plain": [
       "     Rank  D Score  E Score  Pen.  Total  year  Name  nation  round_final  \\\n",
       "284   3.0      6.0      8.6   0.0   14.6  2016    50      11         True   \n",
       "\n",
       "     round_qual  round_unknown  \n",
       "284       False          False  "
      ]
     },
     "execution_count": 203,
     "metadata": {},
     "output_type": "execute_result"
    }
   ],
   "source": [
    "X_test.head(1)"
   ]
  },
  {
   "cell_type": "code",
   "execution_count": 204,
   "id": "3d8ee6af",
   "metadata": {},
   "outputs": [],
   "source": [
    "olymp = olymp.drop(columns=[\"round_aafinal\", \"round_teamfinal\"])"
   ]
  },
  {
   "cell_type": "code",
   "execution_count": 205,
   "id": "b693e416",
   "metadata": {},
   "outputs": [],
   "source": [
    "olymp['round_unknown']=False"
   ]
  },
  {
   "cell_type": "code",
   "execution_count": 206,
   "id": "8b188e47",
   "metadata": {},
   "outputs": [],
   "source": [
    "y_predz = decision_tree_model.predict(olymp)\n"
   ]
  },
  {
   "cell_type": "code",
   "execution_count": 207,
   "id": "5331a972",
   "metadata": {},
   "outputs": [],
   "source": [
    "y_preds  = pd.Series(y_predz)"
   ]
  },
  {
   "cell_type": "code",
   "execution_count": 208,
   "id": "513c4162",
   "metadata": {},
   "outputs": [],
   "source": [
    "olymp['ypredd']=y_preds"
   ]
  },
  {
   "cell_type": "code",
   "execution_count": 209,
   "id": "73be6194",
   "metadata": {},
   "outputs": [
    {
     "data": {
      "text/plain": [
       "ypredd\n",
       "0    1213\n",
       "1      24\n",
       "Name: count, dtype: int64"
      ]
     },
     "execution_count": 209,
     "metadata": {},
     "output_type": "execute_result"
    }
   ],
   "source": [
    "olymp['ypredd'].value_counts()"
   ]
  },
  {
   "cell_type": "code",
   "execution_count": 210,
   "id": "54407962",
   "metadata": {},
   "outputs": [],
   "source": [
    "filtered_df = olymp[olymp['ypredd'] == 1]"
   ]
  },
  {
   "cell_type": "code",
   "execution_count": 211,
   "id": "ae992d3f",
   "metadata": {},
   "outputs": [],
   "source": [
    "olymp = filtered_df.copy()"
   ]
  },
  {
   "cell_type": "code",
   "execution_count": 221,
   "id": "3822f527",
   "metadata": {},
   "outputs": [
    {
     "data": {
      "text/plain": [
       "Name\n",
       "522    5\n",
       "445    5\n",
       "520    3\n",
       "425    2\n",
       "462    2\n",
       "380    2\n",
       "308    1\n",
       "272    1\n",
       "356    1\n",
       "513    1\n",
       "267    1\n",
       "Name: count, dtype: int64"
      ]
     },
     "execution_count": 221,
     "metadata": {},
     "output_type": "execute_result"
    }
   ],
   "source": [
    "olymp[\"Name\"].value_counts()"
   ]
  },
  {
   "cell_type": "code",
   "execution_count": 214,
   "id": "cc878436",
   "metadata": {},
   "outputs": [
    {
     "data": {
      "text/plain": [
       "array([308, 425, 272, 356, 462, 522, 513, 520, 267, 445, 380])"
      ]
     },
     "execution_count": 214,
     "metadata": {},
     "output_type": "execute_result"
    }
   ],
   "source": [
    "olymp[\"Name\"].unique()"
   ]
  },
  {
   "cell_type": "code",
   "execution_count": 219,
   "id": "cf43dc61",
   "metadata": {},
   "outputs": [],
   "source": [
    "# List of Name_encoded values you want to filter by\n",
    "name_encoded_values = [308, 425, 272, 356, 462, 522, 513, 520, 267, 445, 380]\n",
    "\n",
    "# Create an empty set to store unique names\n",
    "unique_names = set()\n",
    "\n",
    "# Iterate through the DataFrame and add unique names to the set\n",
    "for index, row in ubnames.iterrows():\n",
    "    if row['Name_encoded'] in name_encoded_values:\n",
    "        unique_names.add(row['Name'])\n",
    "\n",
    "# Convert the set of unique names back to a list\n",
    "unique_names_list = list(unique_names)\n"
   ]
  },
  {
   "cell_type": "code",
   "execution_count": 220,
   "id": "64a379ef",
   "metadata": {},
   "outputs": [
    {
     "data": {
      "text/plain": [
       "['melanie jesus santos',\n",
       " 'zsofia kovacs',\n",
       " 'sanna veerman',\n",
       " 'yunseo lee',\n",
       " 'lorette charpy',\n",
       " 'shilese jones',\n",
       " 'kelly simm',\n",
       " 'rebecca downie',\n",
       " 'kokoro fukasawa',\n",
       " 'zoe miller',\n",
       " 'naomi visser']"
      ]
     },
     "execution_count": 220,
     "metadata": {},
     "output_type": "execute_result"
    }
   ],
   "source": [
    "unique_names_list"
   ]
  },
  {
   "cell_type": "code",
   "execution_count": 228,
   "id": "0c678aae",
   "metadata": {},
   "outputs": [
    {
     "data": {
      "text/html": [
       "<div>\n",
       "<style scoped>\n",
       "    .dataframe tbody tr th:only-of-type {\n",
       "        vertical-align: middle;\n",
       "    }\n",
       "\n",
       "    .dataframe tbody tr th {\n",
       "        vertical-align: top;\n",
       "    }\n",
       "\n",
       "    .dataframe thead th {\n",
       "        text-align: right;\n",
       "    }\n",
       "</style>\n",
       "<table border=\"1\" class=\"dataframe\">\n",
       "  <thead>\n",
       "    <tr style=\"text-align: right;\">\n",
       "      <th></th>\n",
       "      <th>Name</th>\n",
       "      <th>Gender</th>\n",
       "      <th>Country</th>\n",
       "      <th>Date</th>\n",
       "      <th>Competition</th>\n",
       "      <th>Round</th>\n",
       "      <th>Location</th>\n",
       "      <th>Apparatus</th>\n",
       "      <th>Rank</th>\n",
       "      <th>D_Score</th>\n",
       "      <th>E_Score</th>\n",
       "      <th>Penalty</th>\n",
       "      <th>Score</th>\n",
       "      <th>Total_Score</th>\n",
       "    </tr>\n",
       "  </thead>\n",
       "  <tbody>\n",
       "    <tr>\n",
       "      <th>0</th>\n",
       "      <td>Jana ABDELSALAM</td>\n",
       "      <td>w</td>\n",
       "      <td>EGY</td>\n",
       "      <td>2022-11-06</td>\n",
       "      <td>2022 51st FIG Artistic Gymnastics World Champi...</td>\n",
       "      <td>qual</td>\n",
       "      <td>Liverpool, England</td>\n",
       "      <td>BB</td>\n",
       "      <td>100.0</td>\n",
       "      <td>4.8</td>\n",
       "      <td>6.200</td>\n",
       "      <td>0.0</td>\n",
       "      <td>11.000</td>\n",
       "      <td>11.000</td>\n",
       "    </tr>\n",
       "    <tr>\n",
       "      <th>1</th>\n",
       "      <td>Jana ABDELSALAM</td>\n",
       "      <td>w</td>\n",
       "      <td>EGY</td>\n",
       "      <td>2022-11-06</td>\n",
       "      <td>2022 51st FIG Artistic Gymnastics World Champi...</td>\n",
       "      <td>qual</td>\n",
       "      <td>Liverpool, England</td>\n",
       "      <td>FX</td>\n",
       "      <td>109.0</td>\n",
       "      <td>4.4</td>\n",
       "      <td>7.466</td>\n",
       "      <td>0.1</td>\n",
       "      <td>11.766</td>\n",
       "      <td>11.766</td>\n",
       "    </tr>\n",
       "    <tr>\n",
       "      <th>2</th>\n",
       "      <td>Jana ABDELSALAM</td>\n",
       "      <td>w</td>\n",
       "      <td>EGY</td>\n",
       "      <td>2022-11-06</td>\n",
       "      <td>2022 51st FIG Artistic Gymnastics World Champi...</td>\n",
       "      <td>qual</td>\n",
       "      <td>Liverpool, England</td>\n",
       "      <td>UB</td>\n",
       "      <td>52.0</td>\n",
       "      <td>4.8</td>\n",
       "      <td>8.000</td>\n",
       "      <td>0.0</td>\n",
       "      <td>12.800</td>\n",
       "      <td>12.800</td>\n",
       "    </tr>\n",
       "    <tr>\n",
       "      <th>3</th>\n",
       "      <td>Jana ABDELSALAM</td>\n",
       "      <td>w</td>\n",
       "      <td>EGY</td>\n",
       "      <td>2022-11-06</td>\n",
       "      <td>2022 51st FIG Artistic Gymnastics World Champi...</td>\n",
       "      <td>qual</td>\n",
       "      <td>Liverpool, England</td>\n",
       "      <td>VT1</td>\n",
       "      <td>110.0</td>\n",
       "      <td>4.2</td>\n",
       "      <td>8.433</td>\n",
       "      <td>0.3</td>\n",
       "      <td>12.333</td>\n",
       "      <td>12.333</td>\n",
       "    </tr>\n",
       "    <tr>\n",
       "      <th>4</th>\n",
       "      <td>Jana ABDELSALAM</td>\n",
       "      <td>w</td>\n",
       "      <td>EGY</td>\n",
       "      <td>2023-03-12</td>\n",
       "      <td>FIG Apparatus World Cup 2023</td>\n",
       "      <td>qual</td>\n",
       "      <td>Baku, Azerbaijan</td>\n",
       "      <td>BB</td>\n",
       "      <td>22.0</td>\n",
       "      <td>4.8</td>\n",
       "      <td>6.733</td>\n",
       "      <td>0.0</td>\n",
       "      <td>11.533</td>\n",
       "      <td>11.533</td>\n",
       "    </tr>\n",
       "  </tbody>\n",
       "</table>\n",
       "</div>"
      ],
      "text/plain": [
       "              Name Gender Country        Date  \\\n",
       "0  Jana ABDELSALAM      w     EGY  2022-11-06   \n",
       "1  Jana ABDELSALAM      w     EGY  2022-11-06   \n",
       "2  Jana ABDELSALAM      w     EGY  2022-11-06   \n",
       "3  Jana ABDELSALAM      w     EGY  2022-11-06   \n",
       "4  Jana ABDELSALAM      w     EGY  2023-03-12   \n",
       "\n",
       "                                         Competition Round  \\\n",
       "0  2022 51st FIG Artistic Gymnastics World Champi...  qual   \n",
       "1  2022 51st FIG Artistic Gymnastics World Champi...  qual   \n",
       "2  2022 51st FIG Artistic Gymnastics World Champi...  qual   \n",
       "3  2022 51st FIG Artistic Gymnastics World Champi...  qual   \n",
       "4                       FIG Apparatus World Cup 2023  qual   \n",
       "\n",
       "             Location Apparatus   Rank  D_Score  E_Score  Penalty   Score  \\\n",
       "0  Liverpool, England        BB  100.0      4.8    6.200      0.0  11.000   \n",
       "1  Liverpool, England        FX  109.0      4.4    7.466      0.1  11.766   \n",
       "2  Liverpool, England        UB   52.0      4.8    8.000      0.0  12.800   \n",
       "3  Liverpool, England       VT1  110.0      4.2    8.433      0.3  12.333   \n",
       "4    Baku, Azerbaijan        BB   22.0      4.8    6.733      0.0  11.533   \n",
       "\n",
       "   Total_Score  \n",
       "0       11.000  \n",
       "1       11.766  \n",
       "2       12.800  \n",
       "3       12.333  \n",
       "4       11.533  "
      ]
     },
     "execution_count": 228,
     "metadata": {},
     "output_type": "execute_result"
    }
   ],
   "source": [
    "ubolymp.head()"
   ]
  },
  {
   "cell_type": "code",
   "execution_count": 229,
   "id": "786eb985",
   "metadata": {},
   "outputs": [],
   "source": [
    "ubolymp['Name'] = ubolymp['Name'].str.lower()"
   ]
  },
  {
   "cell_type": "code",
   "execution_count": null,
   "id": "add16bee",
   "metadata": {},
   "outputs": [],
   "source": []
  },
  {
   "cell_type": "code",
   "execution_count": 230,
   "id": "09034fd0",
   "metadata": {},
   "outputs": [],
   "source": [
    "names_to_find = [\n",
    "    'melanie jesus santos', 'zsofia kovacs', 'sanna veerman', 'yunseo lee',\n",
    "    'lorette charpy', 'shilese jones', 'kelly simm', 'rebecca downie',\n",
    "    'kokoro fukasawa', 'zoe miller', 'naomi visser'\n",
    "]\n",
    "\n",
    "# Filter the DataFrame to get the desired names and their corresponding countries\n",
    "result_df = ubolymp[ubolymp['Name'].isin(names_to_find)]\n"
   ]
  },
  {
   "cell_type": "code",
   "execution_count": 232,
   "id": "5e83fbbb",
   "metadata": {},
   "outputs": [],
   "source": [
    "result_df = result_df.drop(columns=['Gender', 'Date', 'Competition', 'Round', 'Location'])"
   ]
  },
  {
   "cell_type": "code",
   "execution_count": 237,
   "id": "25a897b8",
   "metadata": {},
   "outputs": [],
   "source": [
    "result_df=result_df[result_df['Apparatus']== 'UB']"
   ]
  },
  {
   "cell_type": "code",
   "execution_count": 240,
   "id": "ad81cf4c",
   "metadata": {},
   "outputs": [],
   "source": [
    "usa = result_df[result_df['Country']=='USA']"
   ]
  },
  {
   "cell_type": "code",
   "execution_count": 242,
   "id": "0898819e",
   "metadata": {},
   "outputs": [
    {
     "data": {
      "text/plain": [
       "array(['shilese jones', 'zoe miller'], dtype=object)"
      ]
     },
     "execution_count": 242,
     "metadata": {},
     "output_type": "execute_result"
    }
   ],
   "source": [
    "usa['Name'].unique()"
   ]
  },
  {
   "cell_type": "markdown",
   "id": "debb27de",
   "metadata": {},
   "source": [
    "# USA Gymnastg with best chances to medal in Uneven Bars are:\n",
    "\n",
    "- Shilese Jones\n",
    "- Zoe Miller"
   ]
  },
  {
   "cell_type": "code",
   "execution_count": null,
   "id": "5126f1e8",
   "metadata": {},
   "outputs": [],
   "source": []
  }
 ],
 "metadata": {
  "kernelspec": {
   "display_name": "Python 3 (ipykernel)",
   "language": "python",
   "name": "python3"
  },
  "language_info": {
   "codemirror_mode": {
    "name": "ipython",
    "version": 3
   },
   "file_extension": ".py",
   "mimetype": "text/x-python",
   "name": "python",
   "nbconvert_exporter": "python",
   "pygments_lexer": "ipython3",
   "version": "3.9.12"
  }
 },
 "nbformat": 4,
 "nbformat_minor": 5
}
