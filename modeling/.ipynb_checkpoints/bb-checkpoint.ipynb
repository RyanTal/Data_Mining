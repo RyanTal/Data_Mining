{
 "cells": [
  {
   "cell_type": "code",
   "execution_count": 1,
   "id": "b9e2d590",
   "metadata": {},
   "outputs": [],
   "source": [
    "import pandas as pd\n",
    "import numpy as np\n",
    "from scipy import stats\n",
    "from mlxtend.preprocessing import minmax_scaling\n",
    "import seaborn as sns\n",
    "import matplotlib.pyplot as plt\n",
    "import matplotlib.pyplot as plt\n",
    "import numpy as np\n",
    "from matplotlib.colors import ListedColormap\n",
    "from sklearn.model_selection import train_test_split\n",
    "\n",
    "\n",
    "from sklearn.datasets import make_circles, make_classification, make_moons\n",
    "from sklearn.discriminant_analysis import QuadraticDiscriminantAnalysis\n",
    "from sklearn.ensemble import AdaBoostClassifier, RandomForestClassifier\n",
    "from sklearn.gaussian_process import GaussianProcessClassifier\n",
    "from sklearn.gaussian_process.kernels import RBF\n",
    "from sklearn.inspection import DecisionBoundaryDisplay\n",
    "from sklearn.model_selection import train_test_split\n",
    "from sklearn.naive_bayes import GaussianNB\n",
    "from sklearn.neighbors import KNeighborsClassifier\n",
    "from sklearn.neural_network import MLPClassifier\n",
    "from sklearn.pipeline import make_pipeline\n",
    "from sklearn.preprocessing import StandardScaler\n",
    "from sklearn.svm import SVC\n",
    "from sklearn.tree import DecisionTreeClassifier\n",
    "\n",
    "\n",
    "from sklearn import svm\n",
    "from sklearn.model_selection import train_test_split\n",
    "from sklearn.pipeline import make_pipeline\n",
    "from sklearn.preprocessing import StandardScaler\n",
    "from sklearn.svm import SVC\n",
    "\n",
    "import pandas as pd\n",
    "from sklearn.model_selection import train_test_split\n",
    "from sklearn.ensemble import AdaBoostClassifier\n",
    "from sklearn.metrics import accuracy_score, classification_report, confusion_matrix\n",
    "\n",
    "from sklearn.svm import SVC\n",
    "from sklearn.metrics import accuracy_score, classification_report, confusion_matrix\n",
    "\n",
    "\n",
    "import pandas as pd\n",
    "from sklearn.model_selection import train_test_split\n",
    "from sklearn.metrics import accuracy_score, classification_report, confusion_matrix\n",
    "from sklearn.preprocessing import StandardScaler\n",
    "from sklearn.ensemble import RandomForestClassifier, AdaBoostClassifier\n",
    "from sklearn.svm import SVC\n",
    "from sklearn.neighbors import KNeighborsClassifier\n",
    "from sklearn.tree import DecisionTreeClassifier\n",
    "from sklearn.naive_bayes import GaussianNB\n",
    "from sklearn.neural_network import MLPClassifier\n"
   ]
  },
  {
   "cell_type": "code",
   "execution_count": null,
   "id": "9cdd6229",
   "metadata": {},
   "outputs": [],
   "source": [
    "\n",
    "# # Assuming you already have your DataFrame 'df' and the target variable is 'medal'\n",
    "# y = df['medal']\n",
    "# X = df.drop(columns=['medal'])\n",
    "\n",
    "# # Split the data into training and testing sets\n",
    "# X_train, X_test, y_train, y_test = train_test_split(X, y, test_size=0.12, random_state=42)\n",
    "\n",
    "# # Initialize classifiers\n",
    "# classifiers = {\n",
    "#     \"Random Forest\": RandomForestClassifier(),\n",
    "#     \"AdaBoost\": AdaBoostClassifier(),\n",
    "#     \"SVM\": SVC(),\n",
    "#     \"K-Nearest Neighbors\": KNeighborsClassifier(),\n",
    "#     \"Decision Tree\": DecisionTreeClassifier(),\n",
    "#     \"Naive Bayes\": GaussianNB(),\n",
    "#     \"Neural Network\": MLPClassifier(),\n",
    "# }\n",
    "\n",
    "# results = {}\n",
    "\n",
    "# # Iterate through each classifier\n",
    "# for name, clf in classifiers.items():\n",
    "#     # Create a pipeline with StandardScaler for classifiers that require it\n",
    "#     if name in [\"SVM\", \"K-Nearest Neighbors\", \"Neural Network\"]:\n",
    "#         clf = make_pipeline(StandardScaler(), clf)\n",
    "\n",
    "#     # Fit the model to the training data\n",
    "#     clf.fit(X_train, y_train)\n",
    "\n",
    "#     # Make predictions on the test data\n",
    "#     y_pred = clf.predict(X_test)\n",
    "\n",
    "#     # Evaluate the model's performance\n",
    "#     accuracy = accuracy_score(y_test, y_pred)\n",
    "#     report = classification_report(y_test, y_pred)\n",
    "#     conf_matrix = confusion_matrix(y_test, y_pred)\n",
    "\n",
    "#     results[name] = {\n",
    "#         \"accuracy\": accuracy,\n",
    "#         \"classification_report\": report,\n",
    "#         \"confusion_matrix\": conf_matrix,\n",
    "#     }\n",
    "\n",
    "# # Print the results\n",
    "# for name, result in results.items():\n",
    "#     print(f\"Classifier: {name}\")\n",
    "#     print(f\"Accuracy: {result['accuracy']:.4f}\")\n",
    "#     print(f\"Classification Report:\\n{result['classification_report']}\")\n",
    "#     print(f\"Confusion Matrix:\\n{result['confusion_matrix']}\\n\")\n"
   ]
  },
  {
   "cell_type": "code",
   "execution_count": 24,
   "id": "d141d339",
   "metadata": {},
   "outputs": [],
   "source": [
    "df = pd.read_csv('../Combine_Data/bb_encoded.csv')\n",
    "olymp = pd.read_csv('../Data/cleandata22-23/encoded_w_olympics_bb.csv')\n",
    "bbnames = pd.read_csv('../Data/cleandata22-23/encoded_w_olympics_bbnames.csv')"
   ]
  },
  {
   "cell_type": "code",
   "execution_count": 25,
   "id": "d5fb99fb",
   "metadata": {},
   "outputs": [],
   "source": [
    "clf = make_pipeline(StandardScaler(), SVC())"
   ]
  },
  {
   "cell_type": "code",
   "execution_count": 26,
   "id": "f24407dc",
   "metadata": {},
   "outputs": [],
   "source": [
    "y = df['medal']\n",
    "X = df.drop(columns=['medal'])\n",
    "\n",
    "# Split the data into training and testing sets\n",
    "X_train, X_test, y_train, y_test = train_test_split(X, y, test_size=0.30, random_state=42)\n"
   ]
  },
  {
   "cell_type": "markdown",
   "id": "77830590",
   "metadata": {},
   "source": [
    "<!-- Classifier: AdaBoost\n",
    "Accuracy: 1.0000\n",
    "\n",
    "\n",
    "Classifier: SVM\n",
    "Accuracy: 0.9831\n",
    "\n",
    "\n",
    "Classifier: Decision Tree\n",
    "Accuracy: 0.9831\n",
    "\n",
    "Classifier: K-Nearest Neighbors\n",
    "Accuracy: 0.9746\n",
    "\n",
    "Classifier: Random Forest\n",
    "Accuracy: 0.9746 -->"
   ]
  },
  {
   "cell_type": "code",
   "execution_count": 27,
   "id": "cfaaf4f7",
   "metadata": {},
   "outputs": [
    {
     "name": "stdout",
     "output_type": "stream",
     "text": [
      "Accuracy: 0.97\n",
      "              precision    recall  f1-score   support\n",
      "\n",
      "           0       0.98      0.99      0.99       172\n",
      "           1       0.50      0.20      0.29         5\n",
      "\n",
      "    accuracy                           0.97       177\n",
      "   macro avg       0.74      0.60      0.64       177\n",
      "weighted avg       0.96      0.97      0.97       177\n",
      "\n"
     ]
    },
    {
     "data": {
      "image/png": "[encoded data removed]",
      "text/plain": [
       "<Figure size 576x432 with 2 Axes>"
      ]
     },
     "metadata": {
      "needs_background": "light"
     },
     "output_type": "display_data"
    }
   ],
   "source": [
    "# Create and train the DecisionTreeClassifier\n",
    "decision_tree_model = DecisionTreeClassifier(criterion='log_loss',  random_state=42)\n",
    "clf=decision_tree_model.fit(X_train, y_train)\n",
    "decision_tree_model.fit(X_train, y_train)\n",
    "\n",
    "# Make predictions\n",
    "y_pred = decision_tree_model.predict(X_test)\n",
    "\n",
    "# Calculate accuracy\n",
    "accuracy = accuracy_score(y_test, y_pred)\n",
    "print(f'Accuracy: {accuracy:.2f}')\n",
    "\n",
    "# Generate a classification report\n",
    "class_report = classification_report(y_test, y_pred)\n",
    "print(class_report)\n",
    "\n",
    "# Calculate the confusion matrix\n",
    "conf_matrix = confusion_matrix(y_test, y_pred)\n",
    "\n",
    "# Plot the confusion matrix using a heatmap\n",
    "plt.figure(figsize=(8, 6))\n",
    "sns.heatmap(conf_matrix, annot=True, fmt=\"d\", cmap=\"Blues\")\n",
    "plt.xlabel('Predicted')\n",
    "plt.ylabel('Actual')\n",
    "plt.title('Confusion Matrix')\n",
    "plt.show()\n"
   ]
  },
  {
   "cell_type": "code",
   "execution_count": null,
   "id": "6ef31d1f",
   "metadata": {},
   "outputs": [],
   "source": []
  },
  {
   "cell_type": "code",
   "execution_count": 28,
   "id": "c71828a8",
   "metadata": {},
   "outputs": [],
   "source": [
    "olymp = olymp.drop(columns=['round_aafinal', 'round_teamfinal'])"
   ]
  },
  {
   "cell_type": "code",
   "execution_count": 29,
   "id": "09b23eae",
   "metadata": {},
   "outputs": [],
   "source": [
    "olymp_pred = decision_tree_model.predict(olymp)\n"
   ]
  },
  {
   "cell_type": "code",
   "execution_count": 30,
   "id": "a9a8fdd4",
   "metadata": {},
   "outputs": [],
   "source": [
    "ypreds  = pd.Series(olymp_pred)"
   ]
  },
  {
   "cell_type": "code",
   "execution_count": 31,
   "id": "90cf4354",
   "metadata": {},
   "outputs": [],
   "source": [
    "olymp['ypred']=ypreds"
   ]
  },
  {
   "cell_type": "code",
   "execution_count": 32,
   "id": "217b29ec",
   "metadata": {},
   "outputs": [
    {
     "data": {
      "text/plain": [
       "ypred\n",
       "0    1307\n",
       "Name: count, dtype: int64"
      ]
     },
     "execution_count": 32,
     "metadata": {},
     "output_type": "execute_result"
    }
   ],
   "source": [
    "olymp['ypred'].value_counts()"
   ]
  },
  {
   "cell_type": "code",
   "execution_count": 33,
   "id": "19ad9d8b",
   "metadata": {},
   "outputs": [],
   "source": [
    "filtered_df = olymp[olymp['ypred'] == 1]"
   ]
  },
  {
   "cell_type": "code",
   "execution_count": 34,
   "id": "c97722f8",
   "metadata": {},
   "outputs": [
    {
     "data": {
      "text/html": [
       "<div>\n",
       "<style scoped>\n",
       "    .dataframe tbody tr th:only-of-type {\n",
       "        vertical-align: middle;\n",
       "    }\n",
       "\n",
       "    .dataframe tbody tr th {\n",
       "        vertical-align: top;\n",
       "    }\n",
       "\n",
       "    .dataframe thead th {\n",
       "        text-align: right;\n",
       "    }\n",
       "</style>\n",
       "<table border=\"1\" class=\"dataframe\">\n",
       "  <thead>\n",
       "    <tr style=\"text-align: right;\">\n",
       "      <th></th>\n",
       "      <th>Rank</th>\n",
       "      <th>D Score</th>\n",
       "      <th>E Score</th>\n",
       "      <th>Pen.</th>\n",
       "      <th>Total</th>\n",
       "      <th>year</th>\n",
       "      <th>Name</th>\n",
       "      <th>nation</th>\n",
       "      <th>round_final</th>\n",
       "      <th>round_qual</th>\n",
       "      <th>ypred</th>\n",
       "    </tr>\n",
       "  </thead>\n",
       "  <tbody>\n",
       "  </tbody>\n",
       "</table>\n",
       "</div>"
      ],
      "text/plain": [
       "Empty DataFrame\n",
       "Columns: [Rank, D Score, E Score, Pen., Total, year, Name, nation, round_final, round_qual, ypred]\n",
       "Index: []"
      ]
     },
     "execution_count": 34,
     "metadata": {},
     "output_type": "execute_result"
    }
   ],
   "source": [
    "filtered_df"
   ]
  },
  {
   "cell_type": "code",
   "execution_count": 35,
   "id": "ac364016",
   "metadata": {},
   "outputs": [
    {
     "data": {
      "text/plain": [
       "array([], dtype=int64)"
      ]
     },
     "execution_count": 35,
     "metadata": {},
     "output_type": "execute_result"
    }
   ],
   "source": [
    "filtered_df[\"Name\"].unique()"
   ]
  },
  {
   "cell_type": "code",
   "execution_count": 36,
   "id": "ebcde6f9",
   "metadata": {},
   "outputs": [],
   "source": [
    "# # List of Name_encoded values you want to filter by\n",
    "# name_encoded_values = [329]\n",
    "\n",
    "# # Create an empty set to store unique names\n",
    "# unique_names = set()\n",
    "\n",
    "# # Iterate through the DataFrame and add unique names to the set\n",
    "# for index, row in bbnames.iterrows():\n",
    "#     if row['Name_encoded'] in name_encoded_values:\n",
    "#         unique_names.add(row['Name'])\n",
    "\n",
    "# # Convert the set of unique names back to a list\n",
    "# unique_names_list = list(unique_names)\n"
   ]
  },
  {
   "cell_type": "code",
   "execution_count": 37,
   "id": "ce5ad871",
   "metadata": {},
   "outputs": [
    {
     "data": {
      "text/plain": [
       "['lucie trnkova']"
      ]
     },
     "execution_count": 37,
     "metadata": {},
     "output_type": "execute_result"
    }
   ],
   "source": [
    "unique_names_list"
   ]
  },
  {
   "cell_type": "code",
   "execution_count": null,
   "id": "3a3b378e",
   "metadata": {},
   "outputs": [],
   "source": []
  }
 ],
 "metadata": {
  "kernelspec": {
   "display_name": "Python 3 (ipykernel)",
   "language": "python",
   "name": "python3"
  },
  "language_info": {
   "codemirror_mode": {
    "name": "ipython",
    "version": 3
   },
   "file_extension": ".py",
   "mimetype": "text/x-python",
   "name": "python",
   "nbconvert_exporter": "python",
   "pygments_lexer": "ipython3",
   "version": "3.9.12"
  }
 },
 "nbformat": 4,
 "nbformat_minor": 5
}
