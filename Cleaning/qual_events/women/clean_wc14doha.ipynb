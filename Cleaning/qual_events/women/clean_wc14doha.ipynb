{
 "cells": [
  {
   "cell_type": "code",
   "execution_count": 1,
   "id": "59d408ba",
   "metadata": {},
   "outputs": [],
   "source": [
    "import pandas as pd \n",
    "import numpy as np"
   ]
  },
  {
   "cell_type": "code",
   "execution_count": 2,
   "id": "f51b17a8",
   "metadata": {},
   "outputs": [],
   "source": [
    "bb = pd.read_csv('../../../scraping/women/worldcup14doha/worldcup2014doha_bb.csv')\n",
    "bbq = pd.read_csv('../../../scraping/women/worldcup14doha/worldcup2014doha_bb_qual.csv')"
   ]
  },
  {
   "cell_type": "code",
   "execution_count": 3,
   "id": "03742027",
   "metadata": {},
   "outputs": [],
   "source": [
    "bb['round']='final'"
   ]
  },
  {
   "cell_type": "code",
   "execution_count": 4,
   "id": "32bf1e0f",
   "metadata": {},
   "outputs": [],
   "source": [
    "bbq['round']='qual'"
   ]
  },
  {
   "cell_type": "code",
   "execution_count": 5,
   "id": "edc62aca",
   "metadata": {},
   "outputs": [],
   "source": [
    "combined_df = pd.concat([bb, bbq])"
   ]
  },
  {
   "cell_type": "code",
   "execution_count": 6,
   "id": "2d49d3c0",
   "metadata": {},
   "outputs": [],
   "source": [
    "bb = combined_df.copy()"
   ]
  },
  {
   "cell_type": "code",
   "execution_count": 7,
   "id": "3a3ddec5",
   "metadata": {},
   "outputs": [],
   "source": [
    "bb['year']=2014"
   ]
  },
  {
   "cell_type": "code",
   "execution_count": 8,
   "id": "8e77eaee",
   "metadata": {},
   "outputs": [],
   "source": [
    "bb['ND'].fillna(0, inplace=True)"
   ]
  },
  {
   "cell_type": "code",
   "execution_count": 9,
   "id": "3502ec5a",
   "metadata": {},
   "outputs": [
    {
     "data": {
      "text/plain": [
       "array(['Romania', 'Australia', 'Vietnam', 'Hungary', 'Czech Republic',\n",
       "       'Singapore', 'Qatar', 'Kazakhstan', 'New Zealand', 'Switzerland',\n",
       "       'Slovenia', 'Belarus', 'Canada', 'Hong Kong', 'Turkey',\n",
       "       'Uzbekistan'], dtype=object)"
      ]
     },
     "execution_count": 9,
     "metadata": {},
     "output_type": "execute_result"
    }
   ],
   "source": [
    "bb['Nation'].unique()"
   ]
  },
  {
   "cell_type": "code",
   "execution_count": 10,
   "id": "51fed792",
   "metadata": {},
   "outputs": [],
   "source": [
    "nations_to_noc = {\n",
    "    'Romania': 'ROU',\n",
    "    'Australia': 'AUS',\n",
    "    'Vietnam': 'VIE',\n",
    "    'Hungary': 'HUN',\n",
    "    'Czech Republic': 'CZE',\n",
    "    'Singapore': 'SGP',\n",
    "    'Qatar': 'QAT',\n",
    "    'Kazakhstan': 'KAZ',\n",
    "    'New Zealand': 'NZL',\n",
    "    'Switzerland': 'SUI',\n",
    "    'Slovenia': 'SLO',\n",
    "    'Belarus': 'BLR',\n",
    "    'Canada': 'CAN',\n",
    "    'Hong Kong': 'HKG',\n",
    "    'Turkey': 'TUR',\n",
    "    'Uzbekistan': 'UZB',\n",
    "}\n",
    "\n",
    "# Use the replace method to replace values in the \"nations\" column with the provided NOC codes\n",
    "bb['Nation'] = bb['Nation'].replace(nations_to_noc)\n"
   ]
  },
  {
   "cell_type": "code",
   "execution_count": 11,
   "id": "fa38b341",
   "metadata": {},
   "outputs": [
    {
     "name": "stdout",
     "output_type": "stream",
     "text": [
      "<class 'pandas.core.frame.DataFrame'>\n",
      "Index: 38 entries, 0 to 28\n",
      "Data columns (total 9 columns):\n",
      " #   Column   Non-Null Count  Dtype  \n",
      "---  ------   --------------  -----  \n",
      " 0   Rank     38 non-null     int64  \n",
      " 1   Athlete  38 non-null     object \n",
      " 2   Nation   38 non-null     object \n",
      " 3   D        38 non-null     float64\n",
      " 4   E        38 non-null     float64\n",
      " 5   ND       38 non-null     float64\n",
      " 6   Score    38 non-null     float64\n",
      " 7   round    38 non-null     object \n",
      " 8   year     38 non-null     int64  \n",
      "dtypes: float64(4), int64(2), object(3)\n",
      "memory usage: 3.0+ KB\n"
     ]
    }
   ],
   "source": [
    "bb.info()"
   ]
  },
  {
   "cell_type": "code",
   "execution_count": 12,
   "id": "8b329ca2",
   "metadata": {},
   "outputs": [],
   "source": [
    "ub = pd.read_csv('../../../scraping/women/worldcup14doha/worldcup2014doha_ub.csv')\n",
    "ubq = pd.read_csv('../../../scraping/women/worldcup14doha/worldcup2014doha_ub_qual.csv')"
   ]
  },
  {
   "cell_type": "code",
   "execution_count": 13,
   "id": "d1f52771",
   "metadata": {},
   "outputs": [],
   "source": [
    "ub['round']='final'"
   ]
  },
  {
   "cell_type": "code",
   "execution_count": 14,
   "id": "157eec35",
   "metadata": {},
   "outputs": [],
   "source": [
    "ubq['round']='qual'"
   ]
  },
  {
   "cell_type": "code",
   "execution_count": 15,
   "id": "fbfb403d",
   "metadata": {},
   "outputs": [],
   "source": [
    "combined_df = pd.concat([bb, bbq])"
   ]
  },
  {
   "cell_type": "code",
   "execution_count": 16,
   "id": "13207123",
   "metadata": {},
   "outputs": [],
   "source": [
    "ub = combined_df.copy()"
   ]
  },
  {
   "cell_type": "code",
   "execution_count": 17,
   "id": "3a002ae9",
   "metadata": {},
   "outputs": [],
   "source": [
    "ub['year']=2014"
   ]
  },
  {
   "cell_type": "code",
   "execution_count": 18,
   "id": "2a1be944",
   "metadata": {},
   "outputs": [],
   "source": [
    "ub['ND'].fillna(0, inplace=True)"
   ]
  },
  {
   "cell_type": "code",
   "execution_count": 19,
   "id": "17af3c3d",
   "metadata": {},
   "outputs": [
    {
     "data": {
      "text/plain": [
       "array(['ROU', 'AUS', 'VIE', 'HUN', 'CZE', 'SGP', 'QAT', 'KAZ', 'NZL',\n",
       "       'SUI', 'SLO', 'BLR', 'CAN', 'HKG', 'TUR', 'UZB', 'Romania',\n",
       "       'Singapore', 'Australia', 'Vietnam', 'Hungary', 'Kazakhstan',\n",
       "       'Czech Republic', 'New Zealand', 'Switzerland', 'Slovenia',\n",
       "       'Belarus', 'Canada', 'Hong Kong', 'Qatar', 'Turkey', 'Uzbekistan'],\n",
       "      dtype=object)"
      ]
     },
     "execution_count": 19,
     "metadata": {},
     "output_type": "execute_result"
    }
   ],
   "source": [
    "ub['Nation'].unique()"
   ]
  },
  {
   "cell_type": "code",
   "execution_count": 20,
   "id": "f5a73ffd",
   "metadata": {},
   "outputs": [],
   "source": [
    "# Define a mapping dictionary for the provided values and their corresponding nations\n",
    "values_to_nations = {\n",
    "    'ROU': 'Romania',\n",
    "    'AUS': 'Australia',\n",
    "    'VIE': 'Vietnam',\n",
    "    'HUN': 'Hungary',\n",
    "    'CZE': 'Czech Republic',\n",
    "    'SGP': 'Singapore',\n",
    "    'QAT': 'Qatar',\n",
    "    'KAZ': 'Kazakhstan',\n",
    "    'NZL': 'New Zealand',\n",
    "    'SUI': 'Switzerland',\n",
    "    'SLO': 'Slovenia',\n",
    "    'BLR': 'Belarus',\n",
    "    'CAN': 'Canada',\n",
    "    'HKG': 'Hong Kong',\n",
    "    'TUR': 'Turkey',\n",
    "    'UZB': 'Uzbekistan'\n",
    "}\n",
    "\n",
    "# Use the replace method to replace values in the \"nations\" column with the corresponding nations\n",
    "ub['Nation'] = ub['Nation'].replace(values_to_nations)\n"
   ]
  },
  {
   "cell_type": "code",
   "execution_count": 21,
   "id": "75bd9094",
   "metadata": {},
   "outputs": [
    {
     "name": "stdout",
     "output_type": "stream",
     "text": [
      "<class 'pandas.core.frame.DataFrame'>\n",
      "Index: 67 entries, 0 to 28\n",
      "Data columns (total 9 columns):\n",
      " #   Column   Non-Null Count  Dtype  \n",
      "---  ------   --------------  -----  \n",
      " 0   Rank     67 non-null     int64  \n",
      " 1   Athlete  67 non-null     object \n",
      " 2   Nation   67 non-null     object \n",
      " 3   D        67 non-null     float64\n",
      " 4   E        67 non-null     float64\n",
      " 5   ND       67 non-null     float64\n",
      " 6   Score    67 non-null     float64\n",
      " 7   round    67 non-null     object \n",
      " 8   year     67 non-null     int64  \n",
      "dtypes: float64(4), int64(2), object(3)\n",
      "memory usage: 5.2+ KB\n"
     ]
    }
   ],
   "source": [
    "ub.info()"
   ]
  },
  {
   "cell_type": "code",
   "execution_count": 22,
   "id": "8fb7a1e1",
   "metadata": {},
   "outputs": [],
   "source": [
    "fx = pd.read_csv('../../../scraping/women/worldcup14doha/worldcup2014doha_fx.csv')\n",
    "fxq = pd.read_csv('../../../scraping/women/worldcup14doha/worldcup2014doha_fx_qual.csv')"
   ]
  },
  {
   "cell_type": "code",
   "execution_count": 23,
   "id": "1f00dafe",
   "metadata": {},
   "outputs": [],
   "source": [
    "fx['round']='final'"
   ]
  },
  {
   "cell_type": "code",
   "execution_count": 24,
   "id": "099dff2c",
   "metadata": {},
   "outputs": [],
   "source": [
    "fxq['round']='qual'"
   ]
  },
  {
   "cell_type": "code",
   "execution_count": 25,
   "id": "eb31b84e",
   "metadata": {},
   "outputs": [],
   "source": [
    "combined_df = pd.concat([fx, fxq])"
   ]
  },
  {
   "cell_type": "code",
   "execution_count": 26,
   "id": "b02f7873",
   "metadata": {},
   "outputs": [],
   "source": [
    "fx = combined_df.copy()"
   ]
  },
  {
   "cell_type": "code",
   "execution_count": 27,
   "id": "31c70c12",
   "metadata": {},
   "outputs": [],
   "source": [
    "fx['year']=2014"
   ]
  },
  {
   "cell_type": "code",
   "execution_count": 28,
   "id": "bdb0f18b",
   "metadata": {},
   "outputs": [],
   "source": [
    "fx['ND'].fillna(0, inplace=True)"
   ]
  },
  {
   "cell_type": "code",
   "execution_count": 29,
   "id": "ebcd499f",
   "metadata": {},
   "outputs": [
    {
     "data": {
      "text/plain": [
       "array(['Romania', 'Canada', 'Australia', 'New Zealand', 'Hungary',\n",
       "       'Slovenia', 'Switzerland', 'Latvia', 'Czech Republic', 'Singapore',\n",
       "       'Uzbekistan', 'Turkey', 'Belarus', 'Qatar', 'Vietnam',\n",
       "       'Kazakhstan'], dtype=object)"
      ]
     },
     "execution_count": 29,
     "metadata": {},
     "output_type": "execute_result"
    }
   ],
   "source": [
    "fx['Nation'].unique()"
   ]
  },
  {
   "cell_type": "code",
   "execution_count": 30,
   "id": "dd68d7d6",
   "metadata": {},
   "outputs": [],
   "source": [
    "# Define a mapping dictionary for the provided nations and their NOC codes\n",
    "nations_to_noc = {\n",
    "    'Romania': 'ROU',\n",
    "    'Canada': 'CAN',\n",
    "    'Australia': 'AUS',\n",
    "    'New Zealand': 'NZL',\n",
    "    'Hungary': 'HUN',\n",
    "    'Slovenia': 'SLO',\n",
    "    'Switzerland': 'SUI',\n",
    "    'Latvia': 'LAT',\n",
    "    'Czech Republic': 'CZE',\n",
    "    'Singapore': 'SGP',\n",
    "    'Uzbekistan': 'UZB',\n",
    "    'Turkey': 'TUR',\n",
    "    'Belarus': 'BLR',\n",
    "    'Qatar': 'QAT',\n",
    "    'Vietnam': 'VIE',\n",
    "    'Kazakhstan': 'KAZ',\n",
    "}\n",
    "\n",
    "# Use the replace method to replace values in the \"nations\" column with the provided NOC codes\n",
    "fx['Nation'] = fx['Nation'].replace(nations_to_noc)\n",
    "\n"
   ]
  },
  {
   "cell_type": "code",
   "execution_count": 31,
   "id": "5c5e86cd",
   "metadata": {},
   "outputs": [
    {
     "name": "stdout",
     "output_type": "stream",
     "text": [
      "<class 'pandas.core.frame.DataFrame'>\n",
      "Index: 34 entries, 0 to 25\n",
      "Data columns (total 9 columns):\n",
      " #   Column   Non-Null Count  Dtype  \n",
      "---  ------   --------------  -----  \n",
      " 0   Rank     34 non-null     int64  \n",
      " 1   Athlete  34 non-null     object \n",
      " 2   Nation   34 non-null     object \n",
      " 3   D        34 non-null     float64\n",
      " 4   E        34 non-null     float64\n",
      " 5   ND       34 non-null     float64\n",
      " 6   Score    34 non-null     float64\n",
      " 7   round    34 non-null     object \n",
      " 8   year     34 non-null     int64  \n",
      "dtypes: float64(4), int64(2), object(3)\n",
      "memory usage: 2.7+ KB\n"
     ]
    }
   ],
   "source": [
    "fx.info()"
   ]
  },
  {
   "cell_type": "code",
   "execution_count": 32,
   "id": "52f5bdb2",
   "metadata": {},
   "outputs": [],
   "source": [
    "vt = pd.read_csv('../../../scraping/women/worldcup14doha/worldcup2014doha_vt.csv')\n"
   ]
  },
  {
   "cell_type": "code",
   "execution_count": 33,
   "id": "c926e588",
   "metadata": {},
   "outputs": [],
   "source": [
    "vt['ND'].fillna(0, inplace=True)\n",
    "vt['nd2'].fillna(0, inplace=True)"
   ]
  },
  {
   "cell_type": "code",
   "execution_count": 34,
   "id": "1c1c207e",
   "metadata": {},
   "outputs": [],
   "source": [
    "vt['year']=2014"
   ]
  },
  {
   "cell_type": "code",
   "execution_count": 35,
   "id": "6ea0bb7a",
   "metadata": {},
   "outputs": [],
   "source": [
    "vt['round']='final'"
   ]
  },
  {
   "cell_type": "code",
   "execution_count": 36,
   "id": "207752bf",
   "metadata": {},
   "outputs": [
    {
     "data": {
      "text/plain": [
       "array(['Romania', 'Slovenia', 'Hong Kong', 'New Zealand', 'Latvia',\n",
       "       'Hungary', 'Vietnam'], dtype=object)"
      ]
     },
     "execution_count": 36,
     "metadata": {},
     "output_type": "execute_result"
    }
   ],
   "source": [
    "vt['Nation'].unique()"
   ]
  },
  {
   "cell_type": "code",
   "execution_count": 37,
   "id": "f9e9822e",
   "metadata": {},
   "outputs": [],
   "source": [
    "# Define a mapping dictionary for the provided nations and their NOC codes\n",
    "nations_to_noc = {\n",
    "    'Romania': 'ROU',\n",
    "    'Slovenia': 'SLO',\n",
    "    'Hong Kong': 'HKG',\n",
    "    'New Zealand': 'NZL',\n",
    "    'Latvia': 'LAT',\n",
    "    'Hungary': 'HUN',\n",
    "    'Vietnam': 'VIE',\n",
    "}\n",
    "\n",
    "# Use the replace method to replace values in the \"nations\" column with the provided NOC codes\n",
    "vt['Nation'] = vt['Nation'].replace(nations_to_noc)\n"
   ]
  },
  {
   "cell_type": "code",
   "execution_count": 38,
   "id": "3b2f0a29",
   "metadata": {},
   "outputs": [
    {
     "name": "stdout",
     "output_type": "stream",
     "text": [
      "<class 'pandas.core.frame.DataFrame'>\n",
      "RangeIndex: 8 entries, 0 to 7\n",
      "Data columns (total 14 columns):\n",
      " #   Column   Non-Null Count  Dtype  \n",
      "---  ------   --------------  -----  \n",
      " 0   Rank     8 non-null      int64  \n",
      " 1   Athlete  8 non-null      object \n",
      " 2   Nation   8 non-null      object \n",
      " 3   D        8 non-null      float64\n",
      " 4   E        8 non-null      float64\n",
      " 5   ND       8 non-null      float64\n",
      " 6   Score    8 non-null      float64\n",
      " 7   d2       8 non-null      float64\n",
      " 8   e2       8 non-null      float64\n",
      " 9   nd2      8 non-null      float64\n",
      " 10  score2   8 non-null      float64\n",
      " 11  Total    8 non-null      float64\n",
      " 12  year     8 non-null      int64  \n",
      " 13  round    8 non-null      object \n",
      "dtypes: float64(9), int64(2), object(3)\n",
      "memory usage: 1.0+ KB\n"
     ]
    }
   ],
   "source": [
    "vt.info()"
   ]
  },
  {
   "cell_type": "code",
   "execution_count": 39,
   "id": "d3a23168",
   "metadata": {},
   "outputs": [
    {
     "name": "stdout",
     "output_type": "stream",
     "text": [
      "<class 'pandas.core.frame.DataFrame'>\n",
      "Index: 34 entries, 0 to 25\n",
      "Data columns (total 9 columns):\n",
      " #   Column   Non-Null Count  Dtype  \n",
      "---  ------   --------------  -----  \n",
      " 0   Rank     34 non-null     int64  \n",
      " 1   Athlete  34 non-null     object \n",
      " 2   Nation   34 non-null     object \n",
      " 3   D        34 non-null     float64\n",
      " 4   E        34 non-null     float64\n",
      " 5   ND       34 non-null     float64\n",
      " 6   Score    34 non-null     float64\n",
      " 7   round    34 non-null     object \n",
      " 8   year     34 non-null     int64  \n",
      "dtypes: float64(4), int64(2), object(3)\n",
      "memory usage: 2.7+ KB\n"
     ]
    }
   ],
   "source": [
    "fx.info()"
   ]
  },
  {
   "cell_type": "code",
   "execution_count": 40,
   "id": "74d98789",
   "metadata": {},
   "outputs": [
    {
     "name": "stdout",
     "output_type": "stream",
     "text": [
      "<class 'pandas.core.frame.DataFrame'>\n",
      "Index: 67 entries, 0 to 28\n",
      "Data columns (total 9 columns):\n",
      " #   Column   Non-Null Count  Dtype  \n",
      "---  ------   --------------  -----  \n",
      " 0   Rank     67 non-null     int64  \n",
      " 1   Athlete  67 non-null     object \n",
      " 2   Nation   67 non-null     object \n",
      " 3   D        67 non-null     float64\n",
      " 4   E        67 non-null     float64\n",
      " 5   ND       67 non-null     float64\n",
      " 6   Score    67 non-null     float64\n",
      " 7   round    67 non-null     object \n",
      " 8   year     67 non-null     int64  \n",
      "dtypes: float64(4), int64(2), object(3)\n",
      "memory usage: 5.2+ KB\n"
     ]
    }
   ],
   "source": [
    "ub.info()"
   ]
  },
  {
   "cell_type": "code",
   "execution_count": 41,
   "id": "7ac955ea",
   "metadata": {},
   "outputs": [
    {
     "name": "stdout",
     "output_type": "stream",
     "text": [
      "<class 'pandas.core.frame.DataFrame'>\n",
      "Index: 38 entries, 0 to 28\n",
      "Data columns (total 9 columns):\n",
      " #   Column   Non-Null Count  Dtype  \n",
      "---  ------   --------------  -----  \n",
      " 0   Rank     38 non-null     int64  \n",
      " 1   Athlete  38 non-null     object \n",
      " 2   Nation   38 non-null     object \n",
      " 3   D        38 non-null     float64\n",
      " 4   E        38 non-null     float64\n",
      " 5   ND       38 non-null     float64\n",
      " 6   Score    38 non-null     float64\n",
      " 7   round    38 non-null     object \n",
      " 8   year     38 non-null     int64  \n",
      "dtypes: float64(4), int64(2), object(3)\n",
      "memory usage: 3.0+ KB\n"
     ]
    }
   ],
   "source": [
    "bb.info()"
   ]
  },
  {
   "cell_type": "code",
   "execution_count": 42,
   "id": "efab2dbd",
   "metadata": {},
   "outputs": [],
   "source": [
    "# vt.to_csv('clean_wc14doha_vt.csv', index=False)\n",
    "# fx.to_csv('clean_wc14doha_fx.csv', index=False)\n",
    "# ub.to_csv('clean_wc14doha_ub.csv', index=False)\n",
    "# bb.to_csv('clean_wc14doha_bb.csv', index=False)"
   ]
  },
  {
   "cell_type": "code",
   "execution_count": null,
   "id": "c7fe7a0c",
   "metadata": {},
   "outputs": [],
   "source": []
  }
 ],
 "metadata": {
  "kernelspec": {
   "display_name": "Python 3 (ipykernel)",
   "language": "python",
   "name": "python3"
  },
  "language_info": {
   "codemirror_mode": {
    "name": "ipython",
    "version": 3
   },
   "file_extension": ".py",
   "mimetype": "text/x-python",
   "name": "python",
   "nbconvert_exporter": "python",
   "pygments_lexer": "ipython3",
   "version": "3.8.18"
  }
 },
 "nbformat": 4,
 "nbformat_minor": 5
}
