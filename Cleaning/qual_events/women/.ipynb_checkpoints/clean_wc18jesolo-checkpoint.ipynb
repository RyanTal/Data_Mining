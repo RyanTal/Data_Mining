{
 "cells": [
  {
   "cell_type": "code",
   "execution_count": 1,
   "id": "ecb6167b",
   "metadata": {},
   "outputs": [],
   "source": [
    "import pandas as pd \n",
    "import numpy as np"
   ]
  },
  {
   "cell_type": "code",
   "execution_count": 2,
   "id": "6b29c3d9",
   "metadata": {},
   "outputs": [],
   "source": [
    "bb = pd.read_csv('../../../scraping/women/worldcup18jesolo/worldcup2018jesolo_bb.csv')\n",
    "ub = pd.read_csv('../../../scraping/women/worldcup18jesolo/worldcup2018jesolo_ub.csv')\n",
    "fx = pd.read_csv('../../../scraping/women/worldcup18jesolo/worldcup2018jesolo_fx.csv')\n",
    "vt = pd.read_csv('../../../scraping/women/worldcup18jesolo/worldcup2018jesolo_vt.csv')\n"
   ]
  },
  {
   "cell_type": "code",
   "execution_count": 6,
   "id": "2158dea3",
   "metadata": {},
   "outputs": [],
   "source": [
    "bb['ND'].fillna(0, inplace=True)"
   ]
  },
  {
   "cell_type": "code",
   "execution_count": 8,
   "id": "4858e2e1",
   "metadata": {},
   "outputs": [],
   "source": [
    "ub['ND'].fillna(0, inplace=True)\n",
    "vt['ND'].fillna(0, inplace=True)\n",
    "fx['ND'].fillna(0, inplace=True)"
   ]
  },
  {
   "cell_type": "code",
   "execution_count": 10,
   "id": "a36fa08d",
   "metadata": {},
   "outputs": [
    {
     "data": {
      "text/plain": [
       "array(['United States', 'Russia', 'Brazil', 'Italy', 'Romania'],\n",
       "      dtype=object)"
      ]
     },
     "execution_count": 10,
     "metadata": {},
     "output_type": "execute_result"
    }
   ],
   "source": [
    "bb['Nation'].unique()"
   ]
  },
  {
   "cell_type": "code",
   "execution_count": 14,
   "id": "d06b09bf",
   "metadata": {},
   "outputs": [],
   "source": [
    "# Define a mapping dictionary for the provided nations and their NOC codes\n",
    "nations_to_noc = {\n",
    "    'United States': 'USA',\n",
    "    'Russia': 'RUS',\n",
    "    'Brazil': 'BRA',\n",
    "    'Italy': 'ITA',\n",
    "    'Romania': 'ROU',\n",
    "}\n",
    "\n",
    "# Use the replace method to replace values in the \"nations\" column with the provided NOC codes\n",
    "bb['Nation'] = bb['Nation'].replace(nations_to_noc)\n"
   ]
  },
  {
   "cell_type": "code",
   "execution_count": 11,
   "id": "70867347",
   "metadata": {},
   "outputs": [
    {
     "data": {
      "text/plain": [
       "array(['Russia', 'United States', 'France', 'Brazil', 'Italy', 'China'],\n",
       "      dtype=object)"
      ]
     },
     "execution_count": 11,
     "metadata": {},
     "output_type": "execute_result"
    }
   ],
   "source": [
    "ub['Nation'].unique()"
   ]
  },
  {
   "cell_type": "code",
   "execution_count": 15,
   "id": "ce611447",
   "metadata": {},
   "outputs": [],
   "source": [
    "# Define a mapping dictionary for the provided nations and their NOC codes\n",
    "nations_to_noc = {\n",
    "    'Russia': 'RUS',\n",
    "    'United States': 'USA',\n",
    "    'France': 'FRA',\n",
    "    'Brazil': 'BRA',\n",
    "    'Italy': 'ITA',\n",
    "    'China': 'CHN',\n",
    "}\n",
    "\n",
    "# Use the replace method to replace values in the \"nations\" column with the provided NOC codes\n",
    "ub['Nation'] = ub['Nation'].replace(nations_to_noc)\n"
   ]
  },
  {
   "cell_type": "code",
   "execution_count": 12,
   "id": "b563e362",
   "metadata": {},
   "outputs": [
    {
     "data": {
      "text/plain": [
       "array(['United States', 'Brazil', 'Italy', 'Russia', 'Romania', 'China'],\n",
       "      dtype=object)"
      ]
     },
     "execution_count": 12,
     "metadata": {},
     "output_type": "execute_result"
    }
   ],
   "source": [
    "fx['Nation'].unique()"
   ]
  },
  {
   "cell_type": "code",
   "execution_count": 16,
   "id": "2cfd4562",
   "metadata": {},
   "outputs": [],
   "source": [
    "# Define a mapping dictionary for the provided nations and their NOC codes\n",
    "nations_to_noc = {\n",
    "    'United States': 'USA',\n",
    "    'Brazil': 'BRA',\n",
    "    'Italy': 'ITA',\n",
    "    'Russia': 'RUS',\n",
    "    'Romania': 'ROU',\n",
    "    'China': 'CHN',\n",
    "}\n",
    "\n",
    "# Use the replace method to replace values in the \"nations\" column with the provided NOC codes\n",
    "fx['Nation'] =fx['Nation'].replace(nations_to_noc)\n"
   ]
  },
  {
   "cell_type": "code",
   "execution_count": 13,
   "id": "39a80b24",
   "metadata": {},
   "outputs": [
    {
     "data": {
      "text/plain": [
       "array(['China', 'Russia', 'Romania', 'United States', 'Italy'],\n",
       "      dtype=object)"
      ]
     },
     "execution_count": 13,
     "metadata": {},
     "output_type": "execute_result"
    }
   ],
   "source": [
    "vt['Nation'].unique()"
   ]
  },
  {
   "cell_type": "code",
   "execution_count": 17,
   "id": "1e740228",
   "metadata": {},
   "outputs": [],
   "source": [
    "# Define a mapping dictionary for the provided nations and their NOC codes\n",
    "nations_to_noc = {\n",
    "    'China': 'CHN',\n",
    "    'Russia': 'RUS',\n",
    "    'Romania': 'ROU',\n",
    "    'United States': 'USA',\n",
    "    'Italy': 'ITA',\n",
    "}\n",
    "\n",
    "# Use the replace method to replace values in the \"nations\" column with the provided NOC codes\n",
    "vt['Nation'] = vt['Nation'].replace(nations_to_noc)\n"
   ]
  },
  {
   "cell_type": "code",
   "execution_count": 23,
   "id": "b449cf8b",
   "metadata": {},
   "outputs": [],
   "source": [
    "# vt.to_csv('clean_worldcup2018jesolo_vt.csv', index=False)\n",
    "# fx.to_csv('clean_worldcup2018jesolo_fx.csv', index=False)\n",
    "# ub.to_csv('clean_worldcup2018jesolo_ub.csv', index=False)\n",
    "# bb.to_csv('clean_worldcup2018jesolo_bb.csv', index=False)"
   ]
  },
  {
   "cell_type": "code",
   "execution_count": null,
   "id": "88f7105f",
   "metadata": {},
   "outputs": [],
   "source": []
  }
 ],
 "metadata": {
  "kernelspec": {
   "display_name": "Python 3 (ipykernel)",
   "language": "python",
   "name": "python3"
  },
  "language_info": {
   "codemirror_mode": {
    "name": "ipython",
    "version": 3
   },
   "file_extension": ".py",
   "mimetype": "text/x-python",
   "name": "python",
   "nbconvert_exporter": "python",
   "pygments_lexer": "ipython3",
   "version": "3.9.12"
  }
 },
 "nbformat": 4,
 "nbformat_minor": 5
}
