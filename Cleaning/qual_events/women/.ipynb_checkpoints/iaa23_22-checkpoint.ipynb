{
 "cells": [
  {
   "cell_type": "markdown",
   "id": "a90ffad9",
   "metadata": {},
   "source": [
    "# USA df needs to be fixed"
   ]
  },
  {
   "cell_type": "code",
   "execution_count": 1,
   "id": "30897688",
   "metadata": {},
   "outputs": [],
   "source": [
    "import pandas as pd\n",
    "import numpy as np"
   ]
  },
  {
   "cell_type": "code",
   "execution_count": 2,
   "id": "b76e6bf5",
   "metadata": {},
   "outputs": [],
   "source": [
    "iaaq22 = pd.read_csv('../../../scraping/women/iaa22_23/iaaq22.csv')\n",
    "iaaq23 = pd.read_csv('../../../scraping/women/iaa22_23/iaaq23.csv')\n",
    "\n",
    "wint22 = pd.read_csv('../../../scraping/women/iaa22_23/wint22cup_iaa.csv')\n",
    "iaa22 = pd.read_csv('../../../scraping/women/iaa22_23/iaaq22.csv')\n",
    "iaa23 = pd.read_csv('../../../scraping/women/iaa22_23/iaa23.csv')\n",
    "wint23 = pd.read_csv('../../../scraping/women/iaa22_23/winter_cup23iaa.csv')\n",
    "\n",
    "\n",
    "chi = pd.read_csv('../../../scraping/women/iaa22_23/chinese22championship_iaa.csv')\n",
    "eur = pd.read_csv('../../../scraping/women/iaa22_23/european22championship_iaa.csv')\n",
    "sam = pd.read_csv('../../../scraping/women/iaa22_23/south_america22championship_iaa.csv')\n",
    "usa = pd.read_csv('../../../scraping/women/iaa22_23/usa22championship_iaa.csv')\n"
   ]
  },
  {
   "cell_type": "code",
   "execution_count": 63,
   "id": "298c7fe5",
   "metadata": {},
   "outputs": [],
   "source": [
    "chi = chi.drop(columns=['Total', 'Province'])"
   ]
  },
  {
   "cell_type": "code",
   "execution_count": 64,
   "id": "73068b9c",
   "metadata": {},
   "outputs": [],
   "source": [
    "chi['Nation']='China'\n"
   ]
  },
  {
   "cell_type": "code",
   "execution_count": 65,
   "id": "7721bceb",
   "metadata": {},
   "outputs": [],
   "source": [
    "usa['Nation']='USA'\n",
    "usa = usa.drop(columns=[\"Club\"])"
   ]
  },
  {
   "cell_type": "code",
   "execution_count": 66,
   "id": "5d8bab17",
   "metadata": {},
   "outputs": [],
   "source": [
    "wint22['Nation']='USA'\n",
    "wint22 = wint22.drop(columns=[\"Club\"])"
   ]
  },
  {
   "cell_type": "code",
   "execution_count": 67,
   "id": "aae9ab4b",
   "metadata": {},
   "outputs": [],
   "source": [
    "wint23['Nation']='USA'\n",
    "wint23 = wint23.drop(columns=[\"Club\"])"
   ]
  },
  {
   "cell_type": "code",
   "execution_count": 68,
   "id": "dd044c5a",
   "metadata": {},
   "outputs": [],
   "source": [
    "iaaq22['round']='qual'\n",
    "iaaq23['round']='qual'\n",
    "\n",
    "\n",
    "wint22['round']='final'\n",
    "iaa22['round']='final'\n",
    "iaa23['round']='final'\n",
    "wint23['round']='final'\n",
    "chi['round']='final'\n",
    "usa['round']='final'\n",
    "eur['round']='final'\n",
    "sam['round']='final'"
   ]
  },
  {
   "cell_type": "code",
   "execution_count": 69,
   "id": "d186cac9",
   "metadata": {},
   "outputs": [],
   "source": [
    "combined_df = pd.concat([iaaq22, iaa22, wint22, chi, eur, sam], ignore_index=True)\n",
    "iaa22=combined_df.copy()"
   ]
  },
  {
   "cell_type": "code",
   "execution_count": 70,
   "id": "743d289b",
   "metadata": {},
   "outputs": [],
   "source": [
    "combined_df = pd.concat([iaaq23, iaa23, wint23], ignore_index=True)\n",
    "iaa23=combined_df.copy()"
   ]
  },
  {
   "cell_type": "code",
   "execution_count": 71,
   "id": "fea272fe",
   "metadata": {},
   "outputs": [],
   "source": [
    "iaa22['year']=2022\n",
    "iaa23['year']=2023"
   ]
  },
  {
   "cell_type": "code",
   "execution_count": 72,
   "id": "9dcfcf13",
   "metadata": {},
   "outputs": [],
   "source": [
    "country_to_noc = {\n",
    "    'Afghanistan': 'AFG',\n",
    "    'Netherlands Antilles': 'AHO',\n",
    "    'Albania': 'ALB',\n",
    "    'Algeria': 'ALG',\n",
    "    'Andorra': 'AND',\n",
    "    'Angola': 'ANG',\n",
    "    'Antigua & Barbuda': 'ANT',\n",
    "    'Argentina': 'ARG',\n",
    "    'Armenia': 'ARM',\n",
    "    'Aruba': 'ARU',\n",
    "    'American Samoa': 'ASA',\n",
    "    'Australia': 'AUS',\n",
    "    'Austria': 'AUT',\n",
    "    'Azerbaijan': 'AZE',\n",
    "    'Bahamas': 'BAH',\n",
    "    'Bangladesh': 'BAN',\n",
    "    'Barbados': 'BAR',\n",
    "    'Burundi': 'BDI',\n",
    "    'Belgium': 'BEL',\n",
    "    'Benin': 'BEN',\n",
    "    'Bermuda': 'BER',\n",
    "    'Bhutan': 'BHU',\n",
    "    'Bosnia-Herzegovina': 'BIH',\n",
    "    'Belize': 'BIZ',\n",
    "    'Belarus': 'BLR',\n",
    "    'Bolivia': 'BOL',\n",
    "    'Botswana': 'BOT',\n",
    "    'Brazil': 'BRA',\n",
    "    'Bahrain': 'BRN',\n",
    "    'Brunei': 'BRU',\n",
    "    'Bulgaria': 'BUL',\n",
    "    'Burkina Faso': 'BUR',\n",
    "    'Central African Republic': 'CAF',\n",
    "    'Cambodia': 'CAM',\n",
    "    'Canada': 'CAN',\n",
    "    'Cayman Islands': 'CAY',\n",
    "    'Republic of the Congo': 'CGO',\n",
    "    'Chad': 'CHA',\n",
    "    'Chile': 'CHI',\n",
    "    'China': 'CHN', \n",
    "    'Ivory Coast (Côte d´Ivoire)': 'CIV',\n",
    "    'Cameroon': 'CMR',\n",
    "    'Democratic Republic of the Congo': 'COD',\n",
    "    'Cook Islands': 'COK',\n",
    "    'Colombia': 'COL',\n",
    "    'Comoros': 'COM',\n",
    "    'Cape Verde': 'CPV',\n",
    "    'Costa Rica': 'CRC',\n",
    "    'Croatia': 'CRO',\n",
    "    'Cuba': 'CUB',\n",
    "    'Cyprus': 'CYP',\n",
    "    'Czech Republic': 'CZE',\n",
    "    'Denmark': 'DEN',\n",
    "    'Djibouti': 'DJI',\n",
    "    'Dominica': 'DMA',\n",
    "    'Dominican Republic': 'DOM',\n",
    "    'Ecuador': 'ECU',\n",
    "    'Egypt': 'EGY',\n",
    "    'England': 'ENG',\n",
    "    'Eritrea': 'ERI',\n",
    "    'El Salvador': 'ESA',\n",
    "    'Spain': 'ESP',\n",
    "    'Estonia': 'EST',\n",
    "    'Ethiopia': 'ETH',\n",
    "    'Fiji': 'FIJ',\n",
    "    'Finland': 'FIN',\n",
    "    'France': 'FRA',\n",
    "    'Federal Republic of Germany': 'FRG',\n",
    "    'Micronesia': 'FSM',\n",
    "    'Gabon': 'GAB',\n",
    "    'The Gambia': 'GAM',\n",
    "    'United Kingdom of Great Britain & Northern Ireland': 'GBR',\n",
    "    'Guinea-Bissau': 'GBS',\n",
    "    'German Democratic Republic': 'GDR',\n",
    "    'Georgia': 'GEO',\n",
    "    'Equatorial Guinea': 'GEQ',\n",
    "    'Germany (previous to 1948 and from 1991)': 'GER',\n",
    "    'Ghana': 'GHA',\n",
    "    'Greece': 'GRE',\n",
    "    'Grenada': 'GRN',\n",
    "    'Guatemala': 'GUA',\n",
    "    'Guinea': 'GUI',\n",
    "    'Guam': 'GUM',\n",
    "    'Guyana': 'GUY',\n",
    "    'Haiti': 'HAI',\n",
    "    'Hong Kong': 'HKG',\n",
    "    'Honduras': 'HON',\n",
    "    'Hungary': 'HUN',\n",
    "    'Indonesia': 'INA',\n",
    "    'India': 'IND',\n",
    "    'Iran': 'IRI',\n",
    "    'Ireland': 'IRL',\n",
    "    'Iraq': 'IRQ',\n",
    "    'Iceland': 'ISL',\n",
    "    'Israel': 'ISR',\n",
    "    'US Virgin Islands': 'ISV',\n",
    "    'Italy': 'ITA',\n",
    "    'British Virgin Islands': 'IVB',\n",
    "    'Jamaica': 'JAM',\n",
    "    'Jordan': 'JOR',\n",
    "    'Japan': 'JPN',\n",
    "    'Kazakhstan': 'KAZ',\n",
    "    'Kenya': 'KEN',\n",
    "    'Kyrgyzstan': 'KGZ',\n",
    "    'Kiribati': 'KIR',\n",
    "    'South Korea': 'KOR',\n",
    "    'Saudi Arabia': 'KSA',\n",
    "    'Kuwait': 'KUW',\n",
    "    'Laos': 'LAO',\n",
    "    'Latvia': 'LAT',\n",
    "    'Libya': 'LBA',\n",
    "    'Liberia': 'LBR',\n",
    "    'Saint Lucia': 'LCA',\n",
    "    'Lesotho': 'LES',\n",
    "    'Lebanon': 'LIB',\n",
    "    'Liechtenstein': 'LIE',\n",
    "    'Lithuania': 'LTU',\n",
    "    'Luxembourg': 'LUX',\n",
    "    'Madagascar': 'MAD',\n",
    "    'Morocco': 'MAR',\n",
    "    'Malaysia': 'MAS',\n",
    "    'Malawi': 'MAW',\n",
    "    'Moldova': 'MDA',\n",
    "    'Maldives': 'MDV',\n",
    "    'Mexico': 'MEX',\n",
    "    'Mongolia': 'MGL',\n",
    "    'Marshall Islands': 'MHL',\n",
    "    'Macedonia': 'MKD',\n",
    "    'Mali': 'MLI',\n",
    "    'Malta': 'MLT',\n",
    "    'Montenegro': 'MNE',\n",
    "    'Moldova': 'MOL',\n",
    "    'Monaco': 'MON',\n",
    "    'Mozambique': 'MOZ',\n",
    "    'Mauritius': 'MAU',\n",
    "    'Mauritania': 'MTN',\n",
    "    'Myanmar': 'MYA',\n",
    "    'Namibia': 'NAM',\n",
    "    'Nicaragua': 'NCA',\n",
    "    'Netherlands': 'NED',\n",
    "    'Nepal': 'NEP',\n",
    "    'Nigeria': 'NGR',\n",
    "    'Northern Ireland': 'NI',\n",
    "    'Niger': 'NIG',\n",
    "    'Norway': 'NOR',\n",
    "    'Northern Rhodesia': 'NRD',\n",
    "    'Nauru': 'NRU',\n",
    "    'New Zealand': 'NZL',\n",
    "    'Oman': 'OMA',\n",
    "    'Pakistan': 'PAK',\n",
    "    'Panama': 'PAN',\n",
    "    'Paraguay': 'PAR',\n",
    "    'Peru': 'PER',\n",
    "    'Philippines': 'PHI',\n",
    "    'Palestine': 'PLE',\n",
    "    'Palau': 'PLW',\n",
    "    'Papua New Guinea': 'PNG',\n",
    "    'Poland': 'POL',\n",
    "    'Portugal': 'POR',\n",
    "    'North Korea (Korean PDR)': 'PRK',\n",
    "    'Puerto Rico': 'PUR',\n",
    "    'Qatar': 'QAT',\n",
    "    'Romania': 'ROU',\n",
    "    'South Africa': 'RSA',\n",
    "    'Russia': 'RUS',\n",
    "    'Rwanda': 'RWA',\n",
    "    'Samoa': 'SAM',\n",
    "    'Saudi Arabia': 'SAU',\n",
    "    'Serbia and Montenegro': 'SCG',\n",
    "    'Scotland': 'Sco',\n",
    "    'Senegal': 'SEN',\n",
    "    'Seychelles': 'SEY',\n",
    "    'Singapore': 'SIN',\n",
    "    'Saint Kitts and Nevis': 'SKN',\n",
    "    'South Korea': 'SKR',\n",
    "    'Sierra Leone': 'SLE',\n",
    "    'Slovenia': 'SLO',\n",
    "    'San Marino Republic': 'SMR',\n",
    "    'Solomon Islands': 'SOL',\n",
    "    'Somalia': 'SOM',\n",
    "    'Serbia': 'SRB',\n",
    "    'Southern Rhodesia': 'SRD',\n",
    "    'Sri Lanka': 'SRI',\n",
    "    'São Tome and Principe': 'STP',\n",
    "    'Sudan': 'SUD',\n",
    "    'Switzerland': 'SUI',\n",
    "    'Suriname': 'SUR',\n",
    "    'Slovakia': 'SVK',\n",
    "    'Sweden': 'SWE',\n",
    "    'Swaziland': 'SWZ',\n",
    "    'Syria': 'SYR',\n",
    "    'Tanzania': 'TAN',\n",
    "    'Czechoslovakia': 'TCH',\n",
    "    'Tonga': 'TGA',\n",
    "    'Thailand': 'THA',\n",
    "    'Tajikistan': 'TJK',\n",
    "    'Turkmenistan': 'TKM',\n",
    "    'Timor-Leste': 'TLS',\n",
    "    'Togo': 'TOG',\n",
    "    'Taiwan (Chinese Taipei)': 'TPE',\n",
    "    'Trinidad & Tobago': 'TRI',\n",
    "    'Tunisia': 'TUN',\n",
    "    'Turkey': 'TUR',\n",
    "    'Tuvalu': 'TUV',\n",
    "    'United Arab Emirates': 'UAE',\n",
    "    'Uganda': 'UGA',\n",
    "    'Ukraine': 'UKR',\n",
    "    'Unified Team': 'UNT',\n",
    "    'Soviet Union': 'URS',\n",
    "    'Uruguay': 'URU',\n",
    "    'United States': 'USA',\n",
    "    'Uzbekistan': 'UZB',\n",
    "    'Vanuatu': 'VAN',\n",
    "    'Venezuela': 'VEN',\n",
    "    'Vietnam': 'VIE',\n",
    "    'St. Vincent and the Grenadines': 'VIN',\n",
    "    'Wales': 'Wal',\n",
    "    'West Indies': 'WI',\n",
    "    'Yemen': 'YEM',\n",
    "    'Former Yugoslavia': 'yug',\n",
    "    'Former Yugoslavia': 'yug',\n",
    "    'Zaire': 'ZAI',\n",
    "    'Zambia': 'ZAM',\n",
    "    'Zimbabwe': 'ZIM'\n",
    "}\n"
   ]
  },
  {
   "cell_type": "code",
   "execution_count": 73,
   "id": "9810a6cc",
   "metadata": {},
   "outputs": [],
   "source": [
    "iaa22['Athlete'] = iaa22['Athlete'].str.lower()\n",
    "iaa22['Nation'] = iaa22['Nation'].map(country_to_noc)"
   ]
  },
  {
   "cell_type": "code",
   "execution_count": 74,
   "id": "d8d6c9cb",
   "metadata": {},
   "outputs": [],
   "source": [
    "iaa23['Athlete'] = iaa23['Athlete'].str.lower()\n",
    "iaa23['Nation'] = iaa23['Nation'].map(country_to_noc)"
   ]
  },
  {
   "cell_type": "code",
   "execution_count": 75,
   "id": "3b5b6516",
   "metadata": {},
   "outputs": [
    {
     "data": {
      "text/plain": [
       "0"
      ]
     },
     "execution_count": 75,
     "metadata": {},
     "output_type": "execute_result"
    }
   ],
   "source": [
    "iaa22.duplicated().sum()"
   ]
  },
  {
   "cell_type": "code",
   "execution_count": 76,
   "id": "6f28f2e9",
   "metadata": {},
   "outputs": [
    {
     "data": {
      "text/plain": [
       "0"
      ]
     },
     "execution_count": 76,
     "metadata": {},
     "output_type": "execute_result"
    }
   ],
   "source": [
    "iaa23.duplicated().sum()"
   ]
  },
  {
   "cell_type": "code",
   "execution_count": 77,
   "id": "ed0b3532",
   "metadata": {},
   "outputs": [
    {
     "data": {
      "text/plain": [
       "Nation\n",
       "CHN    33\n",
       "BRA    16\n",
       "ARG    16\n",
       "BEL    15\n",
       "UKR    15\n",
       "       ..\n",
       "URU     1\n",
       "BUL     1\n",
       "GEO     1\n",
       "LTU     1\n",
       "ARU     1\n",
       "Name: count, Length: 67, dtype: int64"
      ]
     },
     "execution_count": 77,
     "metadata": {},
     "output_type": "execute_result"
    }
   ],
   "source": [
    "iaa22['Nation'].value_counts()"
   ]
  },
  {
   "cell_type": "code",
   "execution_count": 82,
   "id": "08142c22",
   "metadata": {},
   "outputs": [
    {
     "name": "stdout",
     "output_type": "stream",
     "text": [
      "<class 'pandas.core.frame.DataFrame'>\n",
      "RangeIndex: 574 entries, 0 to 573\n",
      "Data columns (total 10 columns):\n",
      " #   Column   Non-Null Count  Dtype  \n",
      "---  ------   --------------  -----  \n",
      " 0   Rank     574 non-null    int64  \n",
      " 1   Athlete  574 non-null    object \n",
      " 2   Nation   574 non-null    object \n",
      " 3   VT       574 non-null    float64\n",
      " 4   UB       574 non-null    float64\n",
      " 5   BB       574 non-null    float64\n",
      " 6   FX       574 non-null    float64\n",
      " 7   AA       574 non-null    float64\n",
      " 8   round    574 non-null    object \n",
      " 9   year     574 non-null    int64  \n",
      "dtypes: float64(5), int64(2), object(3)\n",
      "memory usage: 45.0+ KB\n"
     ]
    }
   ],
   "source": [
    "iaa22.info()"
   ]
  },
  {
   "cell_type": "code",
   "execution_count": 80,
   "id": "23a7a9c0",
   "metadata": {},
   "outputs": [],
   "source": [
    "iaa22['Nation'].fillna('none', inplace=True)"
   ]
  },
  {
   "cell_type": "code",
   "execution_count": 83,
   "id": "7cb2917f",
   "metadata": {},
   "outputs": [
    {
     "name": "stdout",
     "output_type": "stream",
     "text": [
      "<class 'pandas.core.frame.DataFrame'>\n",
      "RangeIndex: 247 entries, 0 to 246\n",
      "Data columns (total 10 columns):\n",
      " #   Column   Non-Null Count  Dtype  \n",
      "---  ------   --------------  -----  \n",
      " 0   Rank     247 non-null    object \n",
      " 1   Athlete  247 non-null    object \n",
      " 2   Nation   247 non-null    object \n",
      " 3   VT       247 non-null    float64\n",
      " 4   UB       247 non-null    float64\n",
      " 5   BB       247 non-null    float64\n",
      " 6   FX       247 non-null    float64\n",
      " 7   AA       247 non-null    float64\n",
      " 8   round    247 non-null    object \n",
      " 9   year     247 non-null    int64  \n",
      "dtypes: float64(5), int64(1), object(4)\n",
      "memory usage: 19.4+ KB\n"
     ]
    }
   ],
   "source": [
    "iaa23.info()"
   ]
  },
  {
   "cell_type": "code",
   "execution_count": 81,
   "id": "a490e160",
   "metadata": {},
   "outputs": [],
   "source": [
    "iaa23['Nation'].fillna('none', inplace=True)"
   ]
  },
  {
   "cell_type": "code",
   "execution_count": 84,
   "id": "568c8046",
   "metadata": {},
   "outputs": [],
   "source": [
    "# iaa22.to_csv('iaa2022.csv', index=False)\n",
    "# iaa23.to_csv('iaa2023.csv', index=False)"
   ]
  },
  {
   "cell_type": "code",
   "execution_count": null,
   "id": "85d8f9ef",
   "metadata": {},
   "outputs": [],
   "source": []
  }
 ],
 "metadata": {
  "kernelspec": {
   "display_name": "Python 3 (ipykernel)",
   "language": "python",
   "name": "python3"
  },
  "language_info": {
   "codemirror_mode": {
    "name": "ipython",
    "version": 3
   },
   "file_extension": ".py",
   "mimetype": "text/x-python",
   "name": "python",
   "nbconvert_exporter": "python",
   "pygments_lexer": "ipython3",
   "version": "3.8.18"
  }
 },
 "nbformat": 4,
 "nbformat_minor": 5
}
