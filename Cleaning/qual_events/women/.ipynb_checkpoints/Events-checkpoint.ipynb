{
 "cells": [
  {
   "cell_type": "markdown",
   "id": "5e6c6647",
   "metadata": {},
   "source": [
    "# 2024 Qualifying Events\n",
    "\n",
    "- 2023 World Artistic Gymnastics Championships[a] (1 quota per NOC)  Team\n",
    "\n",
    "- 2023 World Artistic Gymnastics Championships[a] (1 quota per NOC) IAA\n",
    "- 2023 World Artistic Gymnastics Championships[b] (max. 3 quotas per NOC across all apparatus) \n",
    "    - Vault \t\n",
    "    - Uneven Bars \t\n",
    "    - Balance beam \t\n",
    "    - Floor \n",
    "- 2024 FIG Artistic Gymnastics World Cup series (1 quota per NOC across all apparatus) \t\n",
    "    - Vault \t\n",
    "    - Uneven Bars \t\n",
    "    - Balance beam \t\n",
    "    - Floor \t\n",
    "- 2024 Continental Championships (1 quota per NOC; all-around qualification) \t\n",
    "    - Africa \t\n",
    "    - Asia \t\n",
    "    - Americas \t\n",
    "    - Europe \t\n",
    "    - Oceania "
   ]
  },
  {
   "cell_type": "markdown",
   "id": "52ba566d",
   "metadata": {},
   "source": [
    "# 2020 Qualifying Events\n",
    "- 2018 World Artistic Gymnastics Championships \t\n",
    "- 2019 World Artistic Gymnastics Championships \t\n",
    "- Artistic Gymnastics World Cup\n",
    "    - 2018 World Cup series\n",
    "    - 2019 World Cup series\n",
    "    - 2020 World Cup series\n",
    "    - 2021 World Cup series\n",
    "\n",
    "- 2021 Continental Championships\n",
    "    - 2021 European Championships\n",
    "    - 2021 Asian Championships[4]\n",
    "    - 2021 Pan American Championships\n",
    "    - 2021 African Championships\n",
    "    - 2021 Oceania Championships[5]"
   ]
  },
  {
   "cell_type": "markdown",
   "id": "0812764f",
   "metadata": {},
   "source": [
    "# 2016 Qualifying Events\n",
    "- World Championships\n",
    "- Olympic Test Event"
   ]
  },
  {
   "cell_type": "markdown",
   "id": "8329e0a0",
   "metadata": {},
   "source": [
    "# 2012 Qualifying Events\n",
    "- World Championships\n",
    "- Olympic Test Event"
   ]
  },
  {
   "cell_type": "markdown",
   "id": "c12bc300",
   "metadata": {},
   "source": [
    "# 2008 Qualifying Events\n",
    "- 2007 World Artistic Gymnastics Championships"
   ]
  },
  {
   "cell_type": "code",
   "execution_count": null,
   "id": "22ce2fbe",
   "metadata": {},
   "outputs": [],
   "source": []
  }
 ],
 "metadata": {
  "kernelspec": {
   "display_name": "Python 3 (ipykernel)",
   "language": "python",
   "name": "python3"
  },
  "language_info": {
   "codemirror_mode": {
    "name": "ipython",
    "version": 3
   },
   "file_extension": ".py",
   "mimetype": "text/x-python",
   "name": "python",
   "nbconvert_exporter": "python",
   "pygments_lexer": "ipython3",
   "version": "3.9.12"
  }
 },
 "nbformat": 4,
 "nbformat_minor": 5
}
