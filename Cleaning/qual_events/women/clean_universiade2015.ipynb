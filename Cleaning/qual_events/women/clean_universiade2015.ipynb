{
 "cells": [
  {
   "cell_type": "code",
   "execution_count": 1,
   "id": "ea14492b",
   "metadata": {},
   "outputs": [],
   "source": [
    "import pandas as pd \n",
    "import numpy as np\n"
   ]
  },
  {
   "cell_type": "code",
   "execution_count": 2,
   "id": "1f084966",
   "metadata": {},
   "outputs": [],
   "source": [
    "bb = pd.read_csv('../../../scraping/women/universiade2015/universiade2015bb.csv')\n",
    "bbq = pd.read_csv('../../../scraping/women/universiade2015/universiade2015bb_qual.csv')\n",
    "\n",
    "ub = pd.read_csv('../../../scraping/women/universiade2015/universiade2015ub.csv')\n",
    "ubq = pd.read_csv('../../../scraping/women/universiade2015/universiade2015ub_qual.csv')\n",
    "\n",
    "fx = pd.read_csv('../../../scraping/women/universiade2015/universiade2015fx.csv')\n",
    "fxq = pd.read_csv('../../../scraping/women/universiade2015/universiade2015fx_qual.csv')\n",
    "\n",
    "vt = pd.read_csv('../../../scraping/women/universiade2015/universiade2015vt.csv')\n"
   ]
  },
  {
   "cell_type": "code",
   "execution_count": 3,
   "id": "f73b6a65",
   "metadata": {},
   "outputs": [],
   "source": [
    "bb['round']='final'\n",
    "fx['round']='final'\n",
    "ub['round']='final'\n",
    "vt['round']='final'\n",
    "\n",
    "bbq['round']='qual'\n",
    "fxq['round']='qual'\n",
    "ubq['round']='qual'\n"
   ]
  },
  {
   "cell_type": "code",
   "execution_count": 4,
   "id": "3e8b6b3d",
   "metadata": {},
   "outputs": [],
   "source": [
    "bb['year']=2015\n",
    "fx['year']=2015\n",
    "ub['year']=2015\n",
    "vt['year']=2015\n",
    "bbq['year']=2015\n",
    "fxq['year']=2015\n",
    "ubq['year']=2015"
   ]
  },
  {
   "cell_type": "code",
   "execution_count": 5,
   "id": "9912a1bc",
   "metadata": {},
   "outputs": [],
   "source": [
    "combined_df = pd.concat([bb, bbq])\n",
    "bb = combined_df.copy()"
   ]
  },
  {
   "cell_type": "code",
   "execution_count": 6,
   "id": "a929fa3a",
   "metadata": {},
   "outputs": [],
   "source": [
    "combined_df = pd.concat([ub, ubq])\n",
    "ub = combined_df.copy()"
   ]
  },
  {
   "cell_type": "code",
   "execution_count": 7,
   "id": "4827fe7f",
   "metadata": {},
   "outputs": [],
   "source": [
    "combined_df = pd.concat([fx, fxq])\n",
    "fx = combined_df.copy()"
   ]
  },
  {
   "cell_type": "code",
   "execution_count": 8,
   "id": "0b4b0307",
   "metadata": {},
   "outputs": [],
   "source": [
    "bb['ND'].fillna(0, inplace=True)\n",
    "ub['ND'].fillna(0, inplace=True)\n",
    "fx['ND'].fillna(0, inplace=True)\n"
   ]
  },
  {
   "cell_type": "code",
   "execution_count": 9,
   "id": "cad00db9",
   "metadata": {},
   "outputs": [
    {
     "data": {
      "text/plain": [
       "array(['Japan', 'Russia', 'Portugal', 'Uzbekistan', 'Australia',\n",
       "       'South Korea', 'Malaysia', 'Great Britain', 'South Africa',\n",
       "       'Austria', 'Slovenia', 'Norway', 'Netherlands', 'New Zealand',\n",
       "       'Mexico'], dtype=object)"
      ]
     },
     "execution_count": 9,
     "metadata": {},
     "output_type": "execute_result"
    }
   ],
   "source": [
    "bb['Nation'].unique()"
   ]
  },
  {
   "cell_type": "code",
   "execution_count": 10,
   "id": "a9a71a71",
   "metadata": {},
   "outputs": [],
   "source": [
    "country_to_noc = {\n",
    "    'Japan': 'JPN',\n",
    "    'Russia': 'RUS',\n",
    "    'Portugal': 'POR',\n",
    "    'Uzbekistan': 'UZB',\n",
    "    'Australia': 'AUS',\n",
    "    'South Korea': 'KOR',\n",
    "    'Malaysia': 'MAS',\n",
    "    'Great Britain': 'GBR',\n",
    "    'South Africa': 'RSA',\n",
    "    'Austria': 'AUT',\n",
    "    'Slovenia': 'SLO',\n",
    "    'Norway': 'NOR',\n",
    "    'Netherlands': 'NED',\n",
    "    'New Zealand': 'NZL',\n",
    "    'Mexico': 'MEX'\n",
    "}\n",
    "\n",
    "bb['Nation'] = bb['Nation'].map(country_to_noc)"
   ]
  },
  {
   "cell_type": "code",
   "execution_count": 11,
   "id": "92e45a56",
   "metadata": {},
   "outputs": [
    {
     "data": {
      "text/plain": [
       "array(['Russia', 'Japan', 'Great Britain', 'Portugal', 'Australia',\n",
       "       'South Korea', 'Malaysia', 'Uzbekistan', 'Mexico', 'South Africa',\n",
       "       'Finland', 'Slovenia', 'Austria', 'Norway', 'New Zealand',\n",
       "       'Netherlands'], dtype=object)"
      ]
     },
     "execution_count": 11,
     "metadata": {},
     "output_type": "execute_result"
    }
   ],
   "source": [
    "ub['Nation'].unique()"
   ]
  },
  {
   "cell_type": "code",
   "execution_count": 12,
   "id": "6ec5f5f2",
   "metadata": {},
   "outputs": [],
   "source": [
    "country_to_noc = {\n",
    "    'Russia': 'RUS',\n",
    "    'Japan': 'JPN',\n",
    "    'Great Britain': 'GBR',\n",
    "    'Portugal': 'POR',\n",
    "    'Australia': 'AUS',\n",
    "    'South Korea': 'KOR',\n",
    "    'Malaysia': 'MAS',\n",
    "    'Uzbekistan': 'UZB',\n",
    "    'Mexico': 'MEX',\n",
    "    'South Africa': 'RSA',\n",
    "    'Finland': 'FIN',\n",
    "    'Slovenia': 'SLO',\n",
    "    'Austria': 'AUT',\n",
    "    'Norway': 'NOR',\n",
    "    'New Zealand': 'NZL',\n",
    "    'Netherlands': 'NED'\n",
    "}\n",
    "ub['Nation'] = ub['Nation'].map(country_to_noc)"
   ]
  },
  {
   "cell_type": "code",
   "execution_count": 13,
   "id": "6155aff6",
   "metadata": {},
   "outputs": [
    {
     "data": {
      "text/plain": [
       "array(['Russia', 'Great Britain', 'Japan', 'Malaysia', 'Uzbekistan',\n",
       "       'Portugal', 'South Korea', 'South Africa', 'Australia', 'Mexico',\n",
       "       'Austria', 'Norway', 'Slovenia', 'Netherlands', 'New Zealand'],\n",
       "      dtype=object)"
      ]
     },
     "execution_count": 13,
     "metadata": {},
     "output_type": "execute_result"
    }
   ],
   "source": [
    "fx['Nation'].unique()"
   ]
  },
  {
   "cell_type": "code",
   "execution_count": 14,
   "id": "5d7ae1a5",
   "metadata": {},
   "outputs": [],
   "source": [
    "country_to_noc = {\n",
    "    'Russia': 'RUS',\n",
    "    'Great Britain': 'GBR',\n",
    "    'Japan': 'JPN',\n",
    "    'Malaysia': 'MAS',\n",
    "    'Uzbekistan': 'UZB',\n",
    "    'Portugal': 'POR',\n",
    "    'South Korea': 'KOR',\n",
    "    'South Africa': 'RSA',\n",
    "    'Australia': 'AUS',\n",
    "    'Mexico': 'MEX',\n",
    "    'Austria': 'AUT',\n",
    "    'Norway': 'NOR',\n",
    "    'Slovenia': 'SLO',\n",
    "    'Netherlands': 'NED',\n",
    "    'New Zealand': 'NZL'\n",
    "}\n",
    "\n",
    "fx['Nation'] = fx['Nation'].map(country_to_noc)"
   ]
  },
  {
   "cell_type": "code",
   "execution_count": 15,
   "id": "498ae515",
   "metadata": {},
   "outputs": [
    {
     "data": {
      "text/plain": [
       "array(['Russia', 'Great Britain', 'Malaysia', 'Austria', 'Uzbekistan',\n",
       "       'Mexico'], dtype=object)"
      ]
     },
     "execution_count": 15,
     "metadata": {},
     "output_type": "execute_result"
    }
   ],
   "source": [
    "vt['Nation'].unique()"
   ]
  },
  {
   "cell_type": "code",
   "execution_count": 17,
   "id": "49d7d242",
   "metadata": {},
   "outputs": [],
   "source": [
    "country_to_noc = {\n",
    "    'Russia': 'RUS',\n",
    "    'Great Britain': 'GBR',\n",
    "    'Malaysia': 'MAS',\n",
    "    'Austria': 'AUT',\n",
    "    'Uzbekistan': 'UZB',\n",
    "    'Mexico': 'MEX'\n",
    "}\n",
    "\n",
    "vt['Nation'] =  vt['Nation'].map(country_to_noc)"
   ]
  },
  {
   "cell_type": "code",
   "execution_count": 21,
   "id": "2eea7de7",
   "metadata": {},
   "outputs": [],
   "source": [
    "vt['ND'].fillna(0, inplace=True)\n",
    "vt['ND2'].fillna(0, inplace=True)"
   ]
  },
  {
   "cell_type": "code",
   "execution_count": 23,
   "id": "1b0fe255",
   "metadata": {},
   "outputs": [],
   "source": [
    "# vt.to_csv('clean_universiade2015vt.csv', index=False)\n",
    "# fx.to_csv('clean_universiade2015fx.csv', index=False)\n",
    "# ub.to_csv('clean_universiade2015ub.csv', index=False)\n",
    "# bb.to_csv('clean_universiade2015bb.csv', index=False)\n"
   ]
  },
  {
   "cell_type": "code",
   "execution_count": null,
   "id": "61315e79",
   "metadata": {},
   "outputs": [],
   "source": []
  }
 ],
 "metadata": {
  "kernelspec": {
   "display_name": "Python 3 (ipykernel)",
   "language": "python",
   "name": "python3"
  },
  "language_info": {
   "codemirror_mode": {
    "name": "ipython",
    "version": 3
   },
   "file_extension": ".py",
   "mimetype": "text/x-python",
   "name": "python",
   "nbconvert_exporter": "python",
   "pygments_lexer": "ipython3",
   "version": "3.9.12"
  }
 },
 "nbformat": 4,
 "nbformat_minor": 5
}
