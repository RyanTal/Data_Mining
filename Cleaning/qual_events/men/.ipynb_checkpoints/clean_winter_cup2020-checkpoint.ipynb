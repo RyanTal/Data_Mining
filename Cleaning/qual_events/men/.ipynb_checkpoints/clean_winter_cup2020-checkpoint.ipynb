{
 "cells": [
  {
   "cell_type": "code",
   "execution_count": 1,
   "id": "c65b9e71",
   "metadata": {},
   "outputs": [],
   "source": [
    "import pandas as pd\n",
    "import numpy as np"
   ]
  },
  {
   "cell_type": "code",
   "execution_count": 2,
   "id": "d6dc5093",
   "metadata": {},
   "outputs": [],
   "source": [
    "fx = pd.read_csv('../../../scraping/men/winter_cup2020/fx.csv')\n",
    "\n",
    "hb = pd.read_csv('../../../scraping/men/winter_cup2020/hb.csv')\n",
    "\n",
    "ph = pd.read_csv('../../../scraping/men/winter_cup2020/ph.csv')\n",
    "\n",
    "pb = pd.read_csv('../../../scraping/men/winter_cup2020/pb.csv')\n",
    "\n",
    "sr = pd.read_csv('../../../scraping/men/winter_cup2020/sr.csv')\n",
    "\n",
    "iaa = pd.read_csv('../../../scraping/men/winter_cup2020/iaa.csv')\n",
    "\n",
    "vt = pd.read_csv('../../../scraping/men/winter_cup2020/vt.csv')\n"
   ]
  },
  {
   "cell_type": "code",
   "execution_count": 3,
   "id": "936c509a",
   "metadata": {},
   "outputs": [],
   "source": [
    "fx['round']='final'\n",
    "hb['round']='final'\n",
    "pb['round']='final'\n",
    "sr['round']='final'\n",
    "ph['round']='final'\n",
    "iaa['round']='final'\n",
    "vt['round']='final'\n"
   ]
  },
  {
   "cell_type": "code",
   "execution_count": 4,
   "id": "a836c9e2",
   "metadata": {},
   "outputs": [],
   "source": [
    "fx['year']=2020\n",
    "hb['year']=2020\n",
    "pb['year']=2020\n",
    "sr['year']=2020\n",
    "ph['year']=2020\n",
    "iaa['year']=2020\n",
    "vt['year']=2020\n"
   ]
  },
  {
   "cell_type": "code",
   "execution_count": 5,
   "id": "2c391463",
   "metadata": {},
   "outputs": [],
   "source": [
    "fx['Athlete'] = fx['Athlete'].str.lower()\n",
    "pb['Athlete'] = pb['Athlete'].str.lower()\n",
    "ph['Athlete'] = ph['Athlete'].str.lower()\n",
    "sr['Athlete'] = sr['Athlete'].str.lower()\n",
    "hb['Athlete'] = hb['Athlete'].str.lower()\n",
    "iaa['Athlete'] = iaa['Athlete'].str.lower()\n",
    "vt['Athlete'] = vt['Athlete'].str.lower()\n"
   ]
  },
  {
   "cell_type": "code",
   "execution_count": 10,
   "id": "42283e68",
   "metadata": {},
   "outputs": [],
   "source": [
    "fx['ND'].fillna(0, inplace=True)\n",
    "pb['ND'].fillna(0, inplace=True)\n",
    "ph['ND'].fillna(0, inplace=True)\n",
    "sr['ND'].fillna(0, inplace=True)\n",
    "hb['ND'].fillna(0, inplace=True)\n",
    "vt['ND'].fillna(0, inplace=True)\n",
    "vt['ND.1'].fillna(0, inplace=True)\n"
   ]
  },
  {
   "cell_type": "code",
   "execution_count": 7,
   "id": "2d50590d",
   "metadata": {},
   "outputs": [],
   "source": [
    "fx=fx.drop(columns=['Club'])\n",
    "hb=hb.drop(columns=['Club'])\n",
    "pb=pb.drop(columns=['Club'])\n",
    "sr=sr.drop(columns=['Club'])\n",
    "ph=ph.drop(columns=['Club'])\n",
    "iaa=iaa.drop(columns=['Club'])\n",
    "vt=vt.drop(columns=['Club'])\n"
   ]
  },
  {
   "cell_type": "code",
   "execution_count": 8,
   "id": "54957d3c",
   "metadata": {},
   "outputs": [],
   "source": [
    "hb['Nation'] = 'USA'\n",
    "pb['Nation'] = 'USA'\n",
    "sr['Nation'] = 'USA'\n",
    "ph['Nation'] = 'USA'\n",
    "fx['Nation'] = 'USA'\n",
    "iaa['Nation'] = 'USA'\n",
    "vt['Nation'] = 'USA'\n"
   ]
  },
  {
   "cell_type": "code",
   "execution_count": 12,
   "id": "f28cde42",
   "metadata": {},
   "outputs": [],
   "source": [
    "# fx.to_csv('winter20cup_fx.csv', index=False)\n",
    "# pb.to_csv('winter20cup_pb.csv', index=False)\n",
    "# ph.to_csv('winter20cup_ph.csv', index=False)\n",
    "# sr.to_csv('winter20cup_sr.csv', index=False)\n",
    "# hb.to_csv('winter20cup_hb.csv', index=False)\n",
    "# iaa.to_csv('winter20cup_iaa.csv', index=False)\n",
    "# vt.to_csv('winter20cup_vt.csv', index=False)\n"
   ]
  },
  {
   "cell_type": "code",
   "execution_count": null,
   "id": "2457070f",
   "metadata": {},
   "outputs": [],
   "source": []
  }
 ],
 "metadata": {
  "kernelspec": {
   "display_name": "Python 3 (ipykernel)",
   "language": "python",
   "name": "python3"
  },
  "language_info": {
   "codemirror_mode": {
    "name": "ipython",
    "version": 3
   },
   "file_extension": ".py",
   "mimetype": "text/x-python",
   "name": "python",
   "nbconvert_exporter": "python",
   "pygments_lexer": "ipython3",
   "version": "3.9.12"
  }
 },
 "nbformat": 4,
 "nbformat_minor": 5
}
