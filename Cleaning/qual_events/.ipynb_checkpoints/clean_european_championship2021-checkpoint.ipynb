{
 "cells": [
  {
   "cell_type": "code",
   "execution_count": 1,
   "id": "ddba7f82",
   "metadata": {},
   "outputs": [],
   "source": [
    "import pandas as pd \n",
    "import numpy as np"
   ]
  },
  {
   "cell_type": "code",
   "execution_count": 2,
   "id": "30f795f5",
   "metadata": {},
   "outputs": [],
   "source": [
    "bb = pd.read_csv('../../scraping/eurochamp2018/euro2018champ_bb.csv')\n",
    "ub = pd.read_csv('../../scraping/eurochamp2018/euro2018champ_ub.csv')\n",
    "vt = pd.read_csv('../../scraping/eurochamp2018/euro2018champ_vt.csv')\n",
    "fx = pd.read_csv('../../scraping/eurochamp2018/euro2018champ_fx.csv')\n",
    "\n",
    "bbq = pd.read_csv('../../scraping/eurochamp2018/euro2018champ_bb_qual.csv')\n",
    "ubq = pd.read_csv('../../scraping/eurochamp2018/euro2018champ_ub_qual.csv')\n",
    "fxq = pd.read_csv('../../scraping/eurochamp2018/euro2018champ_fx_qual.csv')"
   ]
  },
  {
   "cell_type": "code",
   "execution_count": 3,
   "id": "587e95db",
   "metadata": {},
   "outputs": [],
   "source": [
    "bb['year']=2021\n",
    "ub['year']=2021\n",
    "fx['year']=2021\n",
    "vt['year']=2021\n",
    "\n",
    "bbq['year']=2021\n",
    "ubq['year']=2021\n",
    "fxq['year']=2021"
   ]
  },
  {
   "cell_type": "code",
   "execution_count": 4,
   "id": "1a96bd02",
   "metadata": {},
   "outputs": [],
   "source": [
    "bb['ND'].fillna(0, inplace=True)\n",
    "vt['ND'].fillna(0, inplace=True)\n",
    "ub['ND'].fillna(0, inplace=True)\n",
    "fx['ND'].fillna(0, inplace=True)"
   ]
  },
  {
   "cell_type": "code",
   "execution_count": 5,
   "id": "cc4b3375",
   "metadata": {},
   "outputs": [],
   "source": [
    "bb['round']='final'\n",
    "ub['round']='final'\n",
    "fx['round']='final'\n",
    "vt['round']='final'\n",
    "\n",
    "bbq['round']='qual'\n",
    "ubq['round']='qual'\n",
    "fxq['round']='qual'\n"
   ]
  },
  {
   "cell_type": "code",
   "execution_count": 7,
   "id": "188595f3",
   "metadata": {},
   "outputs": [],
   "source": [
    "ub = pd.concat([ub, ubq], axis=0)"
   ]
  },
  {
   "cell_type": "code",
   "execution_count": 8,
   "id": "f8e9251d",
   "metadata": {},
   "outputs": [],
   "source": [
    "fx = pd.concat([fx, fxq], axis=0)"
   ]
  },
  {
   "cell_type": "code",
   "execution_count": 9,
   "id": "2d8af40f",
   "metadata": {},
   "outputs": [],
   "source": [
    "bb = pd.concat([bb, bbq], axis=0)"
   ]
  },
  {
   "cell_type": "code",
   "execution_count": 11,
   "id": "4aaa9b46",
   "metadata": {},
   "outputs": [
    {
     "data": {
      "text/plain": [
       "array(['Netherlands', 'Belgium', 'France', 'Switzerland', 'Germany',\n",
       "       'Greece', 'Great Britain', 'Spain', 'Italy', 'Romania', 'Russia',\n",
       "       'Hungary', 'Ukraine', 'Slovenia', 'Poland', 'Portugal', 'Austria',\n",
       "       'Latvia', 'Finland', 'Norway', 'Turkey', 'Cyprus', 'Sweden',\n",
       "       'Slovakia', 'Czech Republic', 'Bulgaria', 'Azerbaijan', 'Iceland',\n",
       "       'Luxembourg', 'Denmark', 'Croatia', 'Georgia', 'Ireland', 'Israel'],\n",
       "      dtype=object)"
      ]
     },
     "execution_count": 11,
     "metadata": {},
     "output_type": "execute_result"
    }
   ],
   "source": [
    "bb['Nation'].unique()"
   ]
  },
  {
   "cell_type": "code",
   "execution_count": 14,
   "id": "2cbc41b1",
   "metadata": {},
   "outputs": [],
   "source": [
    "country_code_mapping = {\n",
    "    'Netherlands': 'NED',\n",
    "    'Belgium': 'BEL',\n",
    "    'France': 'FRA',\n",
    "    'Switzerland': 'SUI',\n",
    "    'Germany': 'GER',\n",
    "    'Greece': 'GRE',\n",
    "    'Great Britain': 'GBR',\n",
    "    'Spain': 'ESP',\n",
    "    'Italy': 'ITA',\n",
    "    'Romania': 'ROU',\n",
    "    'Russia': 'RUS',\n",
    "    'Hungary': 'HUN',\n",
    "    'Ukraine': 'UKR',\n",
    "    'Slovenia': 'SLO',\n",
    "    'Poland': 'POL',\n",
    "    'Portugal': 'POR',\n",
    "    'Austria': 'AUT',\n",
    "    'Latvia': 'LAT',\n",
    "    'Finland': 'FIN',\n",
    "    'Norway': 'NOR',\n",
    "    'Turkey': 'TUR',\n",
    "    'Cyprus': 'CYP',\n",
    "    'Sweden': 'SWE',\n",
    "    'Slovakia': 'SVK',\n",
    "    'Czech Republic': 'CZE',\n",
    "    'Bulgaria': 'BUL',\n",
    "    'Azerbaijan': 'AZE',\n",
    "    'Iceland': 'ISL',\n",
    "    'Luxembourg': 'LUX',\n",
    "    'Denmark': 'DEN',\n",
    "    'Croatia': 'CRO',\n",
    "    'Georgia': 'GEO',\n",
    "    'Ireland': 'IRL',\n",
    "    'Israel': 'ISR'\n",
    "}\n",
    "\n",
    "\n",
    "# Map the 'Country' values to their NOC country codes\n",
    "bb['Nation'] = bb['Nation'].replace(country_code_mapping)\n"
   ]
  },
  {
   "cell_type": "code",
   "execution_count": 12,
   "id": "34f4fd82",
   "metadata": {},
   "outputs": [
    {
     "data": {
      "text/plain": [
       "array(['Belgium', 'Sweden', 'Russia', 'Germany', 'France',\n",
       "       'Great Britain', 'Ukraine', 'Netherlands', 'Spain', 'Portugal',\n",
       "       'Slovakia', 'Hungary', 'Italy', 'Switzerland', 'Austria',\n",
       "       'Finland', 'Greece', 'Poland', 'Azerbaijan', 'Norway',\n",
       "       'Czech Republic', 'Slovenia', 'Turkey', 'Ireland', 'Romania',\n",
       "       'Georgia', 'Iceland', 'Israel', 'Denmark', 'Croatia', 'Latvia',\n",
       "       'Cyprus', 'Lithuania', 'Bulgaria'], dtype=object)"
      ]
     },
     "execution_count": 12,
     "metadata": {},
     "output_type": "execute_result"
    }
   ],
   "source": [
    "ub['Nation'].unique()"
   ]
  },
  {
   "cell_type": "code",
   "execution_count": 15,
   "id": "04bc8d7a",
   "metadata": {},
   "outputs": [],
   "source": [
    "country_code_mapping = {\n",
    "    'Belgium': 'BEL',\n",
    "    'Sweden': 'SWE',\n",
    "    'Russia': 'RUS',\n",
    "    'Germany': 'GER',\n",
    "    'France': 'FRA',\n",
    "    'Great Britain': 'GBR',\n",
    "    'Ukraine': 'UKR',\n",
    "    'Netherlands': 'NED',\n",
    "    'Spain': 'ESP',\n",
    "    'Portugal': 'POR',\n",
    "    'Slovakia': 'SVK',\n",
    "    'Hungary': 'HUN',\n",
    "    'Italy': 'ITA',\n",
    "    'Switzerland': 'SUI',\n",
    "    'Austria': 'AUT',\n",
    "    'Finland': 'FIN',\n",
    "    'Greece': 'GRE',\n",
    "    'Poland': 'POL',\n",
    "    'Azerbaijan': 'AZE',\n",
    "    'Norway': 'NOR',\n",
    "    'Czech Republic': 'CZE',\n",
    "    'Slovenia': 'SLO',\n",
    "    'Turkey': 'TUR',\n",
    "    'Ireland': 'IRL',\n",
    "    'Romania': 'ROU',\n",
    "    'Georgia': 'GEO',\n",
    "    'Iceland': 'ISL',\n",
    "    'Israel': 'ISR',\n",
    "    'Denmark': 'DEN',\n",
    "    'Croatia': 'CRO',\n",
    "    'Latvia': 'LAT',\n",
    "    'Cyprus': 'CYP',\n",
    "    'Lithuania': 'LTU',\n",
    "    'Bulgaria': 'BUL'\n",
    "}\n",
    "\n",
    "# Map the 'Country' values to their NOC country codes\n",
    "ub['Nation'] = ub['Nation'].replace(country_code_mapping)\n"
   ]
  },
  {
   "cell_type": "code",
   "execution_count": 13,
   "id": "590c4a7c",
   "metadata": {},
   "outputs": [
    {
     "data": {
      "text/plain": [
       "array(['France', 'Romania', 'Belgium', 'Netherlands', 'Italy', 'Russia',\n",
       "       'Sweden', 'Great Britain', 'Germany', 'Czech Republic',\n",
       "       'Switzerland', 'Poland', 'Ukraine', 'Hungary', 'Spain', 'Slovakia',\n",
       "       'Finland', 'Denmark', 'Austria', 'Norway', 'Portugal', 'Turkey',\n",
       "       'Azerbaijan', 'Cyprus', 'Bulgaria', 'Ireland', 'Slovenia',\n",
       "       'Iceland', 'Georgia', 'Croatia', 'Israel', 'Latvia', 'Greece',\n",
       "       'Luxembourg'], dtype=object)"
      ]
     },
     "execution_count": 13,
     "metadata": {},
     "output_type": "execute_result"
    }
   ],
   "source": [
    "fx['Nation'].unique()"
   ]
  },
  {
   "cell_type": "code",
   "execution_count": 16,
   "id": "15118bc1",
   "metadata": {},
   "outputs": [],
   "source": [
    "country_code_mapping = {\n",
    "    'France': 'FRA',\n",
    "    'Romania': 'ROU',\n",
    "    'Belgium': 'BEL',\n",
    "    'Netherlands': 'NED',\n",
    "    'Italy': 'ITA',\n",
    "    'Russia': 'RUS',\n",
    "    'Sweden': 'SWE',\n",
    "    'Great Britain': 'GBR',\n",
    "    'Germany': 'GER',\n",
    "    'Czech Republic': 'CZE',\n",
    "    'Switzerland': 'SUI',\n",
    "    'Poland': 'POL',\n",
    "    'Ukraine': 'UKR',\n",
    "    'Hungary': 'HUN',\n",
    "    'Spain': 'ESP',\n",
    "    'Slovakia': 'SVK',\n",
    "    'Finland': 'FIN',\n",
    "    'Denmark': 'DEN',\n",
    "    'Austria': 'AUT',\n",
    "    'Norway': 'NOR',\n",
    "    'Portugal': 'POR',\n",
    "    'Turkey': 'TUR',\n",
    "    'Azerbaijan': 'AZE',\n",
    "    'Cyprus': 'CYP',\n",
    "    'Bulgaria': 'BUL',\n",
    "    'Ireland': 'IRL',\n",
    "    'Slovenia': 'SLO',\n",
    "    'Iceland': 'ISL',\n",
    "    'Georgia': 'GEO',\n",
    "    'Croatia': 'CRO',\n",
    "    'Israel': 'ISR',\n",
    "    'Latvia': 'LAT',\n",
    "    'Greece': 'GRE',\n",
    "    'Luxembourg': 'LUX'\n",
    "}\n",
    "\n",
    "\n",
    "# Map the 'Country' values to their NOC country codes\n",
    "fx['Nation'] = fx['Nation'].replace(country_code_mapping)\n"
   ]
  },
  {
   "cell_type": "code",
   "execution_count": 17,
   "id": "01d60a42",
   "metadata": {},
   "outputs": [
    {
     "data": {
      "text/plain": [
       "array(['Hungary', 'Russia', 'Romania', 'Germany', 'France', 'Netherlands',\n",
       "       'Slovenia'], dtype=object)"
      ]
     },
     "execution_count": 17,
     "metadata": {},
     "output_type": "execute_result"
    }
   ],
   "source": [
    "vt['Nation'].unique()"
   ]
  },
  {
   "cell_type": "code",
   "execution_count": 19,
   "id": "c05e5143",
   "metadata": {},
   "outputs": [],
   "source": [
    "country_code_mapping = {\n",
    "    'Hungary': 'HUN',\n",
    "    'Russia': 'RUS',\n",
    "    'Romania': 'ROU',\n",
    "    'Germany': 'GER',\n",
    "    'France': 'FRA',\n",
    "    'Netherlands': 'NED',\n",
    "    'Slovenia': 'SLO'\n",
    "}\n",
    "\n",
    "\n",
    "# Map the 'Country' values to their NOC country codes\n",
    "vt['Nation'] = vt['Nation'].replace(country_code_mapping)\n"
   ]
  },
  {
   "cell_type": "code",
   "execution_count": 21,
   "id": "caf469e4",
   "metadata": {},
   "outputs": [],
   "source": [
    "vt['D2']=0\n",
    "vt['E2']=0\n",
    "vt['ND2']=0\n",
    "vt['Total2']=0"
   ]
  },
  {
   "cell_type": "code",
   "execution_count": 22,
   "id": "1b56dbbb",
   "metadata": {},
   "outputs": [],
   "source": [
    "# vt.to_csv('clean_european_championship2021vt.csv', index=False)\n",
    "# ub.to_csv('clean_european_championship2021ub.csv', index=False)\n",
    "# bb.to_csv('clean_european_championship2021bb.csv', index=False)\n",
    "# fx.to_csv('clean_european_championship2021fx.csv', index=False)\n"
   ]
  },
  {
   "cell_type": "code",
   "execution_count": null,
   "id": "f2d782e7",
   "metadata": {},
   "outputs": [],
   "source": []
  }
 ],
 "metadata": {
  "kernelspec": {
   "display_name": "Python 3 (ipykernel)",
   "language": "python",
   "name": "python3"
  },
  "language_info": {
   "codemirror_mode": {
    "name": "ipython",
    "version": 3
   },
   "file_extension": ".py",
   "mimetype": "text/x-python",
   "name": "python",
   "nbconvert_exporter": "python",
   "pygments_lexer": "ipython3",
   "version": "3.9.12"
  }
 },
 "nbformat": 4,
 "nbformat_minor": 5
}
