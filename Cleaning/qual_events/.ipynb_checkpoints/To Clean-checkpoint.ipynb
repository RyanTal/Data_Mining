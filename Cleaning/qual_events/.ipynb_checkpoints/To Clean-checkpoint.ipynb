{
 "cells": [
  {
   "cell_type": "markdown",
   "id": "287517e7",
   "metadata": {},
   "source": [
    "# To Clean\n",
    "\n",
    "\n"
   ]
  },
  {
   "cell_type": "markdown",
   "id": "92113869",
   "metadata": {},
   "source": [
    "- "
   ]
  },
  {
   "cell_type": "markdown",
   "id": "6096f85a",
   "metadata": {},
   "source": [
    "# to scrape:\n",
    "- Maria Paseka  vt\n",
    "    - Gymnastics at the 2013 Summer Universiade\n",
    "    \n",
    "    \n"
   ]
  },
  {
   "cell_type": "code",
   "execution_count": null,
   "id": "94f184ce",
   "metadata": {},
   "outputs": [],
   "source": [
    " "
   ]
  }
 ],
 "metadata": {
  "kernelspec": {
   "display_name": "Python 3 (ipykernel)",
   "language": "python",
   "name": "python3"
  },
  "language_info": {
   "codemirror_mode": {
    "name": "ipython",
    "version": 3
   },
   "file_extension": ".py",
   "mimetype": "text/x-python",
   "name": "python",
   "nbconvert_exporter": "python",
   "pygments_lexer": "ipython3",
   "version": "3.9.12"
  }
 },
 "nbformat": 4,
 "nbformat_minor": 5
}
