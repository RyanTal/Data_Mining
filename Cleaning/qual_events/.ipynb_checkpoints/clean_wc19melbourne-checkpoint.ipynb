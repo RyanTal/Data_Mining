{
 "cells": [
  {
   "cell_type": "code",
   "execution_count": 1,
   "id": "d6071764",
   "metadata": {},
   "outputs": [],
   "source": [
    "import pandas as pd \n",
    "import numpy as np"
   ]
  },
  {
   "cell_type": "code",
   "execution_count": 2,
   "id": "8fb40cfa",
   "metadata": {},
   "outputs": [],
   "source": [
    "bb = pd.read_csv('../../scraping/worldcup19melbourne/worldcup2019melbourne_bb.csv')\n",
    "bbq = pd.read_csv('../../scraping/worldcup19melbourne/worldcup2019melbourne_bb_qual.csv')\n"
   ]
  },
  {
   "cell_type": "code",
   "execution_count": 4,
   "id": "295bc67e",
   "metadata": {},
   "outputs": [],
   "source": [
    "bb['round']='final'"
   ]
  },
  {
   "cell_type": "code",
   "execution_count": 5,
   "id": "48dab4cf",
   "metadata": {},
   "outputs": [],
   "source": [
    "bbq['round']='qual'"
   ]
  },
  {
   "cell_type": "code",
   "execution_count": 7,
   "id": "47da0c1c",
   "metadata": {},
   "outputs": [],
   "source": [
    "combined_df = pd.concat([bb, bbq])"
   ]
  },
  {
   "cell_type": "code",
   "execution_count": 8,
   "id": "7e4bdcf4",
   "metadata": {},
   "outputs": [],
   "source": [
    "bb = combined_df.copy()"
   ]
  },
  {
   "cell_type": "code",
   "execution_count": 9,
   "id": "438c0b21",
   "metadata": {},
   "outputs": [],
   "source": [
    "bb['year']=2019"
   ]
  },
  {
   "cell_type": "code",
   "execution_count": 10,
   "id": "efb9b98e",
   "metadata": {},
   "outputs": [],
   "source": [
    "bb['ND'].fillna(0, inplace=True)"
   ]
  },
  {
   "cell_type": "code",
   "execution_count": 11,
   "id": "9202d7f7",
   "metadata": {},
   "outputs": [
    {
     "data": {
      "text/plain": [
       "array(['China', 'Australia', 'Japan', 'Chinese Taipei', 'South Korea',\n",
       "       'Ukraine', 'Uzbekistan', 'Italy', 'Kazakhstan'], dtype=object)"
      ]
     },
     "execution_count": 11,
     "metadata": {},
     "output_type": "execute_result"
    }
   ],
   "source": [
    "bb['Nation'].unique()"
   ]
  },
  {
   "cell_type": "code",
   "execution_count": 12,
   "id": "df2d6f48",
   "metadata": {},
   "outputs": [],
   "source": [
    "# Define a mapping dictionary for the provided nations and their NOC codes\n",
    "nations_to_noc = {\n",
    "    'China': 'CHN',\n",
    "    'Australia': 'AUS',\n",
    "    'Japan': 'JPN',\n",
    "    'Chinese Taipei': 'TPE',  # Assuming this is Chinese Taipei's NOC code\n",
    "    'South Korea': 'KOR',\n",
    "    'Ukraine': 'UKR',\n",
    "    'Uzbekistan': 'UZB',\n",
    "    'Italy': 'ITA',\n",
    "    'Kazakhstan': 'KAZ',\n",
    "}\n",
    "\n",
    "# Use the replace method to replace values in the \"nations\" column with the provided NOC codes\n",
    "bb['Nation'] = bb['Nation'].replace(nations_to_noc)"
   ]
  },
  {
   "cell_type": "code",
   "execution_count": 14,
   "id": "6b218ca5",
   "metadata": {},
   "outputs": [],
   "source": [
    "ub = pd.read_csv('../../scraping/worldcup19melbourne/worldcup2019melbourne_ub.csv')\n",
    "ubq = pd.read_csv('../../scraping/worldcup19melbourne/worldcup2019melbourne_ub_qual.csv')\n",
    "\n"
   ]
  },
  {
   "cell_type": "code",
   "execution_count": 17,
   "id": "070cc23b",
   "metadata": {},
   "outputs": [],
   "source": [
    "ub['round']='final'"
   ]
  },
  {
   "cell_type": "code",
   "execution_count": 18,
   "id": "2abc1d22",
   "metadata": {},
   "outputs": [],
   "source": [
    "ubq['round']='qual'"
   ]
  },
  {
   "cell_type": "code",
   "execution_count": 19,
   "id": "ae7e74e9",
   "metadata": {},
   "outputs": [],
   "source": [
    "combined_df = pd.concat([ub, ubq])"
   ]
  },
  {
   "cell_type": "code",
   "execution_count": 20,
   "id": "d8fe4c75",
   "metadata": {},
   "outputs": [],
   "source": [
    "ub = combined_df.copy()"
   ]
  },
  {
   "cell_type": "code",
   "execution_count": 21,
   "id": "39bd3187",
   "metadata": {},
   "outputs": [],
   "source": [
    "ub['year']=2019"
   ]
  },
  {
   "cell_type": "code",
   "execution_count": 22,
   "id": "05a38d4c",
   "metadata": {},
   "outputs": [],
   "source": [
    "ub['ND'].fillna(0, inplace=True)"
   ]
  },
  {
   "cell_type": "code",
   "execution_count": 23,
   "id": "4c7c1c30",
   "metadata": {},
   "outputs": [
    {
     "data": {
      "text/plain": [
       "array(['China', 'Australia', 'Sweden', 'Ukraine', 'Chinese Taipei',\n",
       "       'Italy', 'South Korea'], dtype=object)"
      ]
     },
     "execution_count": 23,
     "metadata": {},
     "output_type": "execute_result"
    }
   ],
   "source": [
    "ub['Nation'].unique()"
   ]
  },
  {
   "cell_type": "code",
   "execution_count": 24,
   "id": "7b22af29",
   "metadata": {},
   "outputs": [],
   "source": [
    "# Define a mapping dictionary for the provided nations and their NOC codes\n",
    "nations_to_noc = {\n",
    "    'China': 'CHN',\n",
    "    'Australia': 'AUS',\n",
    "    'Sweden': 'SWE',\n",
    "    'Ukraine': 'UKR',\n",
    "    'Chinese Taipei': 'TPE',  # Assuming this is Chinese Taipei's NOC code\n",
    "    'Italy': 'ITA',\n",
    "    'South Korea': 'KOR',\n",
    "}\n",
    "\n",
    "# Use the replace method to replace values in the \"nations\" column with the provided NOC codes\n",
    "ub['Nation'] = ub['Nation'].replace(nations_to_noc)"
   ]
  },
  {
   "cell_type": "code",
   "execution_count": 26,
   "id": "42408cf1",
   "metadata": {},
   "outputs": [],
   "source": [
    "fx = pd.read_csv('../../scraping/worldcup19melbourne/worldcup2019melbourne_fx.csv')\n",
    "fxq = pd.read_csv('../../scraping/worldcup19melbourne/worldcup2019melbourne_fx_qual.csv')\n",
    "\n"
   ]
  },
  {
   "cell_type": "code",
   "execution_count": 27,
   "id": "fc350b5a",
   "metadata": {},
   "outputs": [],
   "source": [
    "fx['round']='final'"
   ]
  },
  {
   "cell_type": "code",
   "execution_count": 28,
   "id": "83bfe58b",
   "metadata": {},
   "outputs": [],
   "source": [
    "fxq['round']='qual'"
   ]
  },
  {
   "cell_type": "code",
   "execution_count": 29,
   "id": "33306e58",
   "metadata": {},
   "outputs": [],
   "source": [
    "combined_df = pd.concat([fx, fxq])\n",
    "fx = combined_df.copy()"
   ]
  },
  {
   "cell_type": "code",
   "execution_count": 30,
   "id": "026fcb8e",
   "metadata": {},
   "outputs": [],
   "source": [
    "fx['year']=2019"
   ]
  },
  {
   "cell_type": "code",
   "execution_count": 31,
   "id": "b99671fe",
   "metadata": {},
   "outputs": [],
   "source": [
    "fx['ND'].fillna(0, inplace=True)"
   ]
  },
  {
   "cell_type": "code",
   "execution_count": 32,
   "id": "f8875a09",
   "metadata": {},
   "outputs": [
    {
     "data": {
      "text/plain": [
       "array(['Italy', 'Puerto Rico', 'China', 'Australia', 'Chinese Taipei',\n",
       "       'Ukraine', 'Kazakhstan', 'Japan'], dtype=object)"
      ]
     },
     "execution_count": 32,
     "metadata": {},
     "output_type": "execute_result"
    }
   ],
   "source": [
    "fx['Nation'].unique()"
   ]
  },
  {
   "cell_type": "code",
   "execution_count": 33,
   "id": "be10fd70",
   "metadata": {},
   "outputs": [],
   "source": [
    "# Define a mapping dictionary for the provided nations and their NOC codes\n",
    "nations_to_noc = {\n",
    "    'Italy': 'ITA',\n",
    "    'Puerto Rico': 'PUR',\n",
    "    'China': 'CHN',\n",
    "    'Australia': 'AUS',\n",
    "    'Chinese Taipei': 'TPE',  # Assuming this is Chinese Taipei's NOC code\n",
    "    'Ukraine': 'UKR',\n",
    "    'Kazakhstan': 'KAZ',\n",
    "    'Japan': 'JPN',\n",
    "}\n",
    "\n",
    "# Use the replace method to replace values in the \"nations\" column with the provided NOC codes\n",
    "fx['Nation'] = fx['Nation'].replace(nations_to_noc)"
   ]
  },
  {
   "cell_type": "code",
   "execution_count": 36,
   "id": "7b69428c",
   "metadata": {},
   "outputs": [],
   "source": [
    "vt = pd.read_csv('../../scraping/worldcup19melbourne/worldcup2019melbourne_vt.csv')\n"
   ]
  },
  {
   "cell_type": "code",
   "execution_count": 38,
   "id": "5d3a4dc4",
   "metadata": {},
   "outputs": [
    {
     "data": {
      "text/plain": [
       "array(['South Korea', 'Uzbekistan', 'China', 'Mexico', 'Japan',\n",
       "       'Slovenia', 'Puerto Rico'], dtype=object)"
      ]
     },
     "execution_count": 38,
     "metadata": {},
     "output_type": "execute_result"
    }
   ],
   "source": [
    "vt['Nation'].unique()"
   ]
  },
  {
   "cell_type": "code",
   "execution_count": 39,
   "id": "ccfaad65",
   "metadata": {},
   "outputs": [],
   "source": [
    "# Define a mapping dictionary for the provided nations and their NOC codes\n",
    "nations_to_noc = {\n",
    "    'South Korea': 'KOR',\n",
    "    'Uzbekistan': 'UZB',\n",
    "    'China': 'CHN',\n",
    "    'Mexico': 'MEX',\n",
    "    'Japan': 'JPN',\n",
    "    'Slovenia': 'SLO',\n",
    "    'Puerto Rico': 'PUR',\n",
    "}\n",
    "\n",
    "# Use the replace method to replace values in the \"nations\" column with the provided NOC codes\n",
    "vt['Nation'] = vt['Nation'].replace(nations_to_noc)\n"
   ]
  },
  {
   "cell_type": "code",
   "execution_count": 41,
   "id": "5482ef25",
   "metadata": {},
   "outputs": [],
   "source": [
    "vt['ND'].fillna(0,inplace=True)\n",
    "vt['ND2'].fillna(0,inplace=True)"
   ]
  },
  {
   "cell_type": "code",
   "execution_count": 42,
   "id": "44cd13d3",
   "metadata": {},
   "outputs": [
    {
     "data": {
      "text/html": [
       "<div>\n",
       "<style scoped>\n",
       "    .dataframe tbody tr th:only-of-type {\n",
       "        vertical-align: middle;\n",
       "    }\n",
       "\n",
       "    .dataframe tbody tr th {\n",
       "        vertical-align: top;\n",
       "    }\n",
       "\n",
       "    .dataframe thead th {\n",
       "        text-align: right;\n",
       "    }\n",
       "</style>\n",
       "<table border=\"1\" class=\"dataframe\">\n",
       "  <thead>\n",
       "    <tr style=\"text-align: right;\">\n",
       "      <th></th>\n",
       "      <th>Rank</th>\n",
       "      <th>Athlete</th>\n",
       "      <th>Nation</th>\n",
       "      <th>D</th>\n",
       "      <th>E</th>\n",
       "      <th>ND</th>\n",
       "      <th>Total</th>\n",
       "      <th>D2</th>\n",
       "      <th>E2</th>\n",
       "      <th>ND2</th>\n",
       "      <th>Total2</th>\n",
       "      <th>Average</th>\n",
       "    </tr>\n",
       "  </thead>\n",
       "  <tbody>\n",
       "    <tr>\n",
       "      <th>0</th>\n",
       "      <td>1</td>\n",
       "      <td>Yeo Seo-jeong</td>\n",
       "      <td>KOR</td>\n",
       "      <td>5.8</td>\n",
       "      <td>8.666</td>\n",
       "      <td>0.0</td>\n",
       "      <td>14.466</td>\n",
       "      <td>5.4</td>\n",
       "      <td>8.666</td>\n",
       "      <td>0.0</td>\n",
       "      <td>14.066</td>\n",
       "      <td>14.266</td>\n",
       "    </tr>\n",
       "    <tr>\n",
       "      <th>1</th>\n",
       "      <td>2</td>\n",
       "      <td>Oksana Chusovitina</td>\n",
       "      <td>UZB</td>\n",
       "      <td>5.4</td>\n",
       "      <td>8.900</td>\n",
       "      <td>0.0</td>\n",
       "      <td>14.300</td>\n",
       "      <td>5.2</td>\n",
       "      <td>8.900</td>\n",
       "      <td>0.0</td>\n",
       "      <td>14.100</td>\n",
       "      <td>14.200</td>\n",
       "    </tr>\n",
       "    <tr>\n",
       "      <th>2</th>\n",
       "      <td>3</td>\n",
       "      <td>Yu Linmin</td>\n",
       "      <td>CHN</td>\n",
       "      <td>5.4</td>\n",
       "      <td>8.833</td>\n",
       "      <td>0.0</td>\n",
       "      <td>14.233</td>\n",
       "      <td>5.2</td>\n",
       "      <td>8.733</td>\n",
       "      <td>0.0</td>\n",
       "      <td>13.933</td>\n",
       "      <td>14.083</td>\n",
       "    </tr>\n",
       "    <tr>\n",
       "      <th>3</th>\n",
       "      <td>4</td>\n",
       "      <td>Alexa Moreno</td>\n",
       "      <td>MEX</td>\n",
       "      <td>5.8</td>\n",
       "      <td>8.633</td>\n",
       "      <td>0.0</td>\n",
       "      <td>14.433</td>\n",
       "      <td>4.8</td>\n",
       "      <td>8.900</td>\n",
       "      <td>0.0</td>\n",
       "      <td>13.700</td>\n",
       "      <td>14.066</td>\n",
       "    </tr>\n",
       "    <tr>\n",
       "      <th>4</th>\n",
       "      <td>5</td>\n",
       "      <td>Ayaka Sakaguchi</td>\n",
       "      <td>JPN</td>\n",
       "      <td>5.4</td>\n",
       "      <td>8.700</td>\n",
       "      <td>0.0</td>\n",
       "      <td>14.100</td>\n",
       "      <td>4.8</td>\n",
       "      <td>8.766</td>\n",
       "      <td>0.0</td>\n",
       "      <td>13.566</td>\n",
       "      <td>13.833</td>\n",
       "    </tr>\n",
       "    <tr>\n",
       "      <th>5</th>\n",
       "      <td>6</td>\n",
       "      <td>Tjasa Kysselef</td>\n",
       "      <td>SLO</td>\n",
       "      <td>4.8</td>\n",
       "      <td>8.833</td>\n",
       "      <td>0.0</td>\n",
       "      <td>13.633</td>\n",
       "      <td>5.0</td>\n",
       "      <td>9.033</td>\n",
       "      <td>0.0</td>\n",
       "      <td>14.033</td>\n",
       "      <td>13.833</td>\n",
       "    </tr>\n",
       "    <tr>\n",
       "      <th>6</th>\n",
       "      <td>7</td>\n",
       "      <td>Paula Mejias</td>\n",
       "      <td>PUR</td>\n",
       "      <td>4.8</td>\n",
       "      <td>8.766</td>\n",
       "      <td>0.0</td>\n",
       "      <td>13.566</td>\n",
       "      <td>4.8</td>\n",
       "      <td>8.700</td>\n",
       "      <td>0.0</td>\n",
       "      <td>13.500</td>\n",
       "      <td>13.533</td>\n",
       "    </tr>\n",
       "    <tr>\n",
       "      <th>7</th>\n",
       "      <td>8</td>\n",
       "      <td>Asuka Ogawa</td>\n",
       "      <td>JPN</td>\n",
       "      <td>5.4</td>\n",
       "      <td>7.758</td>\n",
       "      <td>-0.3</td>\n",
       "      <td>12.858</td>\n",
       "      <td>4.8</td>\n",
       "      <td>8.366</td>\n",
       "      <td>-0.1</td>\n",
       "      <td>13.066</td>\n",
       "      <td>12.962</td>\n",
       "    </tr>\n",
       "  </tbody>\n",
       "</table>\n",
       "</div>"
      ],
      "text/plain": [
       "   Rank             Athlete Nation    D      E   ND   Total   D2     E2  ND2  \\\n",
       "0     1       Yeo Seo-jeong    KOR  5.8  8.666  0.0  14.466  5.4  8.666  0.0   \n",
       "1     2  Oksana Chusovitina    UZB  5.4  8.900  0.0  14.300  5.2  8.900  0.0   \n",
       "2     3           Yu Linmin    CHN  5.4  8.833  0.0  14.233  5.2  8.733  0.0   \n",
       "3     4        Alexa Moreno    MEX  5.8  8.633  0.0  14.433  4.8  8.900  0.0   \n",
       "4     5     Ayaka Sakaguchi    JPN  5.4  8.700  0.0  14.100  4.8  8.766  0.0   \n",
       "5     6      Tjasa Kysselef    SLO  4.8  8.833  0.0  13.633  5.0  9.033  0.0   \n",
       "6     7        Paula Mejias    PUR  4.8  8.766  0.0  13.566  4.8  8.700  0.0   \n",
       "7     8         Asuka Ogawa    JPN  5.4  7.758 -0.3  12.858  4.8  8.366 -0.1   \n",
       "\n",
       "   Total2  Average  \n",
       "0  14.066   14.266  \n",
       "1  14.100   14.200  \n",
       "2  13.933   14.083  \n",
       "3  13.700   14.066  \n",
       "4  13.566   13.833  \n",
       "5  14.033   13.833  \n",
       "6  13.500   13.533  \n",
       "7  13.066   12.962  "
      ]
     },
     "execution_count": 42,
     "metadata": {},
     "output_type": "execute_result"
    }
   ],
   "source": [
    "vt"
   ]
  },
  {
   "cell_type": "code",
   "execution_count": 43,
   "id": "bd8ea9c0",
   "metadata": {},
   "outputs": [],
   "source": [
    "# vt.to_csv('clean_worldcup2019melbourne_vt.csv', index=False)\n",
    "# fx.to_csv('clean_worldcup2019melbourne_fx.csv', index=False)\n",
    "# ub.to_csv('clean_worldcup2019melbourne_ub.csv', index=False)\n",
    "# bb.to_csv('clean_worldcup2019melbourne_bb.csv', index=False)"
   ]
  },
  {
   "cell_type": "code",
   "execution_count": null,
   "id": "a2fb769d",
   "metadata": {},
   "outputs": [],
   "source": []
  }
 ],
 "metadata": {
  "kernelspec": {
   "display_name": "Python 3 (ipykernel)",
   "language": "python",
   "name": "python3"
  },
  "language_info": {
   "codemirror_mode": {
    "name": "ipython",
    "version": 3
   },
   "file_extension": ".py",
   "mimetype": "text/x-python",
   "name": "python",
   "nbconvert_exporter": "python",
   "pygments_lexer": "ipython3",
   "version": "3.9.12"
  }
 },
 "nbformat": 4,
 "nbformat_minor": 5
}
