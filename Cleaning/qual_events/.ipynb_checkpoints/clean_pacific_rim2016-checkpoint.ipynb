{
 "cells": [
  {
   "cell_type": "code",
   "execution_count": 1,
   "id": "a7da3ade",
   "metadata": {},
   "outputs": [],
   "source": [
    "import pandas as pd \n",
    "import numpy as np"
   ]
  },
  {
   "cell_type": "code",
   "execution_count": 2,
   "id": "3fdd9e06",
   "metadata": {},
   "outputs": [],
   "source": [
    "bb = pd.read_csv('../../scraping/pacific_rim_championship16/pac_rim_championshiop2016bb.csv')\n",
    "ub = pd.read_csv('../../scraping/pacific_rim_championship16/pac_rim_championshiop2016ub.csv')\n",
    "vt = pd.read_csv('../../scraping/pacific_rim_championship16/pac_rim_championshiop2016vt.csv')\n",
    "fx = pd.read_csv('../../scraping/pacific_rim_championship16/pac_rim_championshiop2016fx.csv')\n"
   ]
  },
  {
   "cell_type": "code",
   "execution_count": 3,
   "id": "84618fdc",
   "metadata": {},
   "outputs": [],
   "source": [
    "bb['year']=2016\n",
    "ub['year']=2016\n",
    "fx['year']=2016\n",
    "vt['year']=2016"
   ]
  },
  {
   "cell_type": "code",
   "execution_count": 4,
   "id": "6a4fab44",
   "metadata": {},
   "outputs": [],
   "source": [
    "bb['ND'].fillna(0, inplace=True)\n",
    "vt['ND'].fillna(0, inplace=True)\n",
    "vt['ND2'].fillna(0, inplace=True)\n",
    "ub['ND'].fillna(0, inplace=True)\n",
    "fx['ND'].fillna(0, inplace=True)"
   ]
  },
  {
   "cell_type": "code",
   "execution_count": 5,
   "id": "8c7550d7",
   "metadata": {},
   "outputs": [],
   "source": [
    "bb['round']='final'\n",
    "ub['round']='final'\n",
    "fx['round']='final'\n",
    "vt['round']='final'"
   ]
  },
  {
   "cell_type": "code",
   "execution_count": 10,
   "id": "336253a2",
   "metadata": {},
   "outputs": [
    {
     "data": {
      "text/plain": [
       "array(['Canada', 'New Zealand', 'Mexico', 'Panama', 'Hong Kong',\n",
       "       'Australia'], dtype=object)"
      ]
     },
     "execution_count": 10,
     "metadata": {},
     "output_type": "execute_result"
    }
   ],
   "source": [
    "vt['Nation'].unique()"
   ]
  },
  {
   "cell_type": "code",
   "execution_count": 16,
   "id": "0bf1eef9",
   "metadata": {},
   "outputs": [],
   "source": [
    "nation_to_noc = {\n",
    "    'Canada': 'CAN',\n",
    "    'New Zealand': 'NZL',\n",
    "    'Mexico': 'MEX',\n",
    "    'Panama': 'PAN',\n",
    "    'Hong Kong': 'HKG',\n",
    "    'Australia': 'AUS'\n",
    "}\n",
    "\n",
    "# Use the map function to replace values in the \"Nation\" column\n",
    "vt['Nation'] = vt['Nation'].map(nation_to_noc)\n"
   ]
  },
  {
   "cell_type": "code",
   "execution_count": 13,
   "id": "79e916b8",
   "metadata": {},
   "outputs": [
    {
     "data": {
      "text/plain": [
       "array(['United States', 'Japan', 'New Zealand', 'Canada', 'Australia'],\n",
       "      dtype=object)"
      ]
     },
     "execution_count": 13,
     "metadata": {},
     "output_type": "execute_result"
    }
   ],
   "source": [
    "bb['Nation'].unique()"
   ]
  },
  {
   "cell_type": "code",
   "execution_count": 17,
   "id": "8944bd3c",
   "metadata": {},
   "outputs": [],
   "source": [
    "# Create a mapping dictionary for nation to NOC codes\n",
    "nation_to_noc = {\n",
    "    'United States': 'USA',\n",
    "    'Japan': 'JPN',\n",
    "    'New Zealand': 'NZL',\n",
    "    'Canada': 'CAN',\n",
    "    'Australia': 'AUS'\n",
    "}\n",
    "\n",
    "# Use the map function to replace values in the \"Nation\" column\n",
    "bb['Nation'] = bb['Nation'].map(nation_to_noc)\n"
   ]
  },
  {
   "cell_type": "code",
   "execution_count": 14,
   "id": "467abe62",
   "metadata": {
    "scrolled": true
   },
   "outputs": [
    {
     "data": {
      "text/plain": [
       "array(['United States', 'Australia', 'Canada', 'Colombia', 'Japan'],\n",
       "      dtype=object)"
      ]
     },
     "execution_count": 14,
     "metadata": {},
     "output_type": "execute_result"
    }
   ],
   "source": [
    "ub['Nation'].unique()"
   ]
  },
  {
   "cell_type": "code",
   "execution_count": 18,
   "id": "1520b485",
   "metadata": {},
   "outputs": [],
   "source": [
    "# Create a mapping dictionary for nation to NOC codes\n",
    "nation_to_noc = {\n",
    "    'United States': 'USA',\n",
    "    'Australia': 'AUS',\n",
    "    'Canada': 'CAN',\n",
    "    'Colombia': 'COL',\n",
    "    'Japan': 'JPN'\n",
    "}\n",
    "\n",
    "# Use the map function to replace values in the \"Nation\" column\n",
    "ub['Nation'] = ub['Nation'].map(nation_to_noc)\n"
   ]
  },
  {
   "cell_type": "code",
   "execution_count": 15,
   "id": "3a9d126c",
   "metadata": {},
   "outputs": [
    {
     "data": {
      "text/plain": [
       "array(['United States', 'Canada', 'Japan', 'Australia', 'New Zealand'],\n",
       "      dtype=object)"
      ]
     },
     "execution_count": 15,
     "metadata": {},
     "output_type": "execute_result"
    }
   ],
   "source": [
    "fx['Nation'].unique()"
   ]
  },
  {
   "cell_type": "code",
   "execution_count": 19,
   "id": "abc54c87",
   "metadata": {},
   "outputs": [],
   "source": [
    "# Create a mapping dictionary for nation to NOC codes\n",
    "nation_to_noc = {\n",
    "    'United States': 'USA',\n",
    "    'Canada': 'CAN',\n",
    "    'Japan': 'JPN',\n",
    "    'Australia': 'AUS',\n",
    "    'New Zealand': 'NZL'\n",
    "}\n",
    "\n",
    "# Use the map function to replace values in the \"Nation\" column\n",
    "fx['Nation'] = fx['Nation'].map(nation_to_noc)\n",
    "\n"
   ]
  },
  {
   "cell_type": "code",
   "execution_count": 22,
   "id": "3baf0dfe",
   "metadata": {},
   "outputs": [],
   "source": [
    "# vt.to_csv('clean_pacific_rim2016vt.csv', index=False)\n",
    "# ub.to_csv('clean_pacific_rim2016ub.csv', index=False)\n",
    "# bb.to_csv('clean_pacific_rim2016bb.csv', index=False)\n",
    "# fx.to_csv('clean_pacific_rim2016fx.csv', index=False)\n"
   ]
  },
  {
   "cell_type": "code",
   "execution_count": null,
   "id": "93badea8",
   "metadata": {},
   "outputs": [],
   "source": []
  }
 ],
 "metadata": {
  "kernelspec": {
   "display_name": "Python 3 (ipykernel)",
   "language": "python",
   "name": "python3"
  },
  "language_info": {
   "codemirror_mode": {
    "name": "ipython",
    "version": 3
   },
   "file_extension": ".py",
   "mimetype": "text/x-python",
   "name": "python",
   "nbconvert_exporter": "python",
   "pygments_lexer": "ipython3",
   "version": "3.9.12"
  }
 },
 "nbformat": 4,
 "nbformat_minor": 5
}
