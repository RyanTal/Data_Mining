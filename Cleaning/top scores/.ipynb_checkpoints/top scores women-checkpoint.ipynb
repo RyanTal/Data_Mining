{
 "cells": [
  {
   "cell_type": "code",
   "execution_count": 1,
   "id": "91bf25f8",
   "metadata": {},
   "outputs": [],
   "source": [
    "import pandas as pd\n",
    "import numpy as np"
   ]
  },
  {
   "cell_type": "code",
   "execution_count": 2,
   "id": "7fae8c0b",
   "metadata": {},
   "outputs": [],
   "source": [
    "fx19 = pd.read_csv('../../scraping/women/top2019scores/fx.csv')\n",
    "fx20 = pd.read_csv('../../scraping/women/top2020scores/fx.csv')\n",
    "\n",
    "ub19 = pd.read_csv('../../scraping/women/top2019scores/uneven_bars.csv')\n",
    "ub20 = pd.read_csv('../../scraping/women/top2020scores/ub.csv')\n",
    "\n",
    "vt19 = pd.read_csv('../../scraping/women/top2019scores/vault.csv')\n",
    "vt20 = pd.read_csv('../../scraping/women/top2020scores/vt.csv')\n",
    "\n",
    "vta19 = pd.read_csv('../../scraping/women/top2019scores/vault_avg.csv')\n",
    "vta20 = pd.read_csv('../../scraping/women/top2020scores/vt_avg.csv')\n",
    "\n",
    "\n",
    "iaa19 = pd.read_csv('../../scraping/women/top2019scores/iaa.csv')\n",
    "iaa20 = pd.read_csv('../../scraping/women/top2020scores/iaa.csv')\n",
    "\n",
    "bb19 = pd.read_csv('../../scraping/women/top2019scores/bb.csv')\n",
    "bb20 = pd.read_csv('../../scraping/women/top2020scores/bb.csv')"
   ]
  },
  {
   "cell_type": "code",
   "execution_count": 49,
   "id": "88eb3336",
   "metadata": {},
   "outputs": [],
   "source": [
    "fx19['year']=2019\n",
    "ub19['year']=2019\n",
    "bb19['year']=2019\n",
    "vt19['year']=2019\n",
    "vta19['year']=2019\n",
    "iaa19['year']=2019\n",
    "\n",
    "fx20['year']=2020\n",
    "bb20['year']=2020\n",
    "ub20['year']=2020\n",
    "vt20['year']=2020\n",
    "vta20['year']=2020\n",
    "iaa20['year']=2020\n"
   ]
  },
  {
   "cell_type": "code",
   "execution_count": 50,
   "id": "10a04d8f",
   "metadata": {},
   "outputs": [],
   "source": [
    "fx = pd.concat([fx19, fx20], axis=0) \n",
    "ub = pd.concat([ub19, ub20], axis=0) \n",
    "vt = pd.concat([vt19, vt20], axis=0) \n",
    "vta = pd.concat([vta19, vta20], axis=0) \n",
    "iaa = pd.concat([iaa19, iaa20], axis=0) \n",
    "bb = pd.concat([bb19, bb20], axis=0) \n"
   ]
  },
  {
   "cell_type": "code",
   "execution_count": 51,
   "id": "a174142c",
   "metadata": {},
   "outputs": [],
   "source": [
    "fx['Athlete'] = fx['Athlete'].str.lower()\n",
    "ub['Athlete'] = ub['Athlete'].str.lower()\n",
    "vt['Athlete'] = vt['Athlete'].str.lower()\n",
    "vta['Athlete'] = vta['Athlete'].str.lower()\n",
    "iaa['Athlete'] = iaa['Athlete'].str.lower()\n",
    "bb['Athlete'] = bb['Athlete'].str.lower()\n"
   ]
  },
  {
   "cell_type": "code",
   "execution_count": 61,
   "id": "352804b5",
   "metadata": {},
   "outputs": [
    {
     "data": {
      "text/html": [
       "<div>\n",
       "<style scoped>\n",
       "    .dataframe tbody tr th:only-of-type {\n",
       "        vertical-align: middle;\n",
       "    }\n",
       "\n",
       "    .dataframe tbody tr th {\n",
       "        vertical-align: top;\n",
       "    }\n",
       "\n",
       "    .dataframe thead th {\n",
       "        text-align: right;\n",
       "    }\n",
       "</style>\n",
       "<table border=\"1\" class=\"dataframe\">\n",
       "  <thead>\n",
       "    <tr style=\"text-align: right;\">\n",
       "      <th></th>\n",
       "      <th>Rank</th>\n",
       "      <th>Athlete</th>\n",
       "      <th>Nation</th>\n",
       "      <th>Meet</th>\n",
       "      <th>Score</th>\n",
       "      <th>year</th>\n",
       "    </tr>\n",
       "  </thead>\n",
       "  <tbody>\n",
       "    <tr>\n",
       "      <th>0</th>\n",
       "      <td>1</td>\n",
       "      <td>kara eaker</td>\n",
       "      <td>United States</td>\n",
       "      <td>U.S. Classic</td>\n",
       "      <td>15.400</td>\n",
       "      <td>2019</td>\n",
       "    </tr>\n",
       "    <tr>\n",
       "      <th>1</th>\n",
       "      <td>2</td>\n",
       "      <td>ou yushan*</td>\n",
       "      <td>China</td>\n",
       "      <td>Chinese National Youth Games EF</td>\n",
       "      <td>15.300</td>\n",
       "      <td>2019</td>\n",
       "    </tr>\n",
       "    <tr>\n",
       "      <th>2</th>\n",
       "      <td>3</td>\n",
       "      <td>riley mccusker</td>\n",
       "      <td>United States</td>\n",
       "      <td>U.S. Classic</td>\n",
       "      <td>15.100</td>\n",
       "      <td>2019</td>\n",
       "    </tr>\n",
       "    <tr>\n",
       "      <th>3</th>\n",
       "      <td>4</td>\n",
       "      <td>simone biles</td>\n",
       "      <td>United States</td>\n",
       "      <td>World Championships EF</td>\n",
       "      <td>15.066</td>\n",
       "      <td>2019</td>\n",
       "    </tr>\n",
       "    <tr>\n",
       "      <th>4</th>\n",
       "      <td>5</td>\n",
       "      <td>guan chenchen*</td>\n",
       "      <td>China</td>\n",
       "      <td>Chinese Championships AA</td>\n",
       "      <td>15.050</td>\n",
       "      <td>2019</td>\n",
       "    </tr>\n",
       "    <tr>\n",
       "      <th>5</th>\n",
       "      <td>5</td>\n",
       "      <td>li shijia</td>\n",
       "      <td>China</td>\n",
       "      <td>Zhaoqing Challenge Cup EF</td>\n",
       "      <td>15.050</td>\n",
       "      <td>2019</td>\n",
       "    </tr>\n",
       "    <tr>\n",
       "      <th>6</th>\n",
       "      <td>7</td>\n",
       "      <td>mya witte*</td>\n",
       "      <td>United States</td>\n",
       "      <td>World Champion’s National Qualifier</td>\n",
       "      <td>15.000</td>\n",
       "      <td>2019</td>\n",
       "    </tr>\n",
       "    <tr>\n",
       "      <th>7</th>\n",
       "      <td>8</td>\n",
       "      <td>liu tingting</td>\n",
       "      <td>China</td>\n",
       "      <td>City of Jesolo Trophy AA</td>\n",
       "      <td>14.967</td>\n",
       "      <td>2019</td>\n",
       "    </tr>\n",
       "    <tr>\n",
       "      <th>8</th>\n",
       "      <td>9</td>\n",
       "      <td>yana vorona*</td>\n",
       "      <td>Russia</td>\n",
       "      <td>Russian Junior Championships QF</td>\n",
       "      <td>14.900</td>\n",
       "      <td>2019</td>\n",
       "    </tr>\n",
       "    <tr>\n",
       "      <th>9</th>\n",
       "      <td>10</td>\n",
       "      <td>ana padurariu</td>\n",
       "      <td>Canada</td>\n",
       "      <td>Elite Canada EF</td>\n",
       "      <td>14.875</td>\n",
       "      <td>2019</td>\n",
       "    </tr>\n",
       "    <tr>\n",
       "      <th>0</th>\n",
       "      <td>1</td>\n",
       "      <td>guan chenchen</td>\n",
       "      <td>China</td>\n",
       "      <td>Chinese Championships QF</td>\n",
       "      <td>15.400</td>\n",
       "      <td>2020</td>\n",
       "    </tr>\n",
       "    <tr>\n",
       "      <th>1</th>\n",
       "      <td>2</td>\n",
       "      <td>zhou yaqin</td>\n",
       "      <td>China</td>\n",
       "      <td>Chinese Individual Championships EF</td>\n",
       "      <td>15.066</td>\n",
       "      <td>2020</td>\n",
       "    </tr>\n",
       "    <tr>\n",
       "      <th>2</th>\n",
       "      <td>3</td>\n",
       "      <td>wei xiaoyuan</td>\n",
       "      <td>China</td>\n",
       "      <td>Chinese Individual Championships EF</td>\n",
       "      <td>14.900</td>\n",
       "      <td>2020</td>\n",
       "    </tr>\n",
       "    <tr>\n",
       "      <th>3</th>\n",
       "      <td>4</td>\n",
       "      <td>tang xijing</td>\n",
       "      <td>China</td>\n",
       "      <td>Chinese Championships AA</td>\n",
       "      <td>14.850</td>\n",
       "      <td>2020</td>\n",
       "    </tr>\n",
       "    <tr>\n",
       "      <th>4</th>\n",
       "      <td>5</td>\n",
       "      <td>ana padurariu</td>\n",
       "      <td>Canada</td>\n",
       "      <td>Elite Canada QF</td>\n",
       "      <td>14.600</td>\n",
       "      <td>2020</td>\n",
       "    </tr>\n",
       "    <tr>\n",
       "      <th>5</th>\n",
       "      <td>6</td>\n",
       "      <td>daniela batrona*</td>\n",
       "      <td>Ukraine</td>\n",
       "      <td>Ukrainian Youth Championships</td>\n",
       "      <td>14.550</td>\n",
       "      <td>2020</td>\n",
       "    </tr>\n",
       "    <tr>\n",
       "      <th>6</th>\n",
       "      <td>6</td>\n",
       "      <td>li qi</td>\n",
       "      <td>China</td>\n",
       "      <td>Chinese Championships QF</td>\n",
       "      <td>14.550</td>\n",
       "      <td>2020</td>\n",
       "    </tr>\n",
       "    <tr>\n",
       "      <th>7</th>\n",
       "      <td>8</td>\n",
       "      <td>liu tingting</td>\n",
       "      <td>China</td>\n",
       "      <td>Chinese Championships EF</td>\n",
       "      <td>14.533</td>\n",
       "      <td>2020</td>\n",
       "    </tr>\n",
       "    <tr>\n",
       "      <th>8</th>\n",
       "      <td>9</td>\n",
       "      <td>he licheng</td>\n",
       "      <td>China</td>\n",
       "      <td>Chinese Individual Championships EF</td>\n",
       "      <td>14.500</td>\n",
       "      <td>2020</td>\n",
       "    </tr>\n",
       "    <tr>\n",
       "      <th>9</th>\n",
       "      <td>10</td>\n",
       "      <td>chen yanfei</td>\n",
       "      <td>China</td>\n",
       "      <td>Chinese Individual Championships QF</td>\n",
       "      <td>14.450</td>\n",
       "      <td>2020</td>\n",
       "    </tr>\n",
       "  </tbody>\n",
       "</table>\n",
       "</div>"
      ],
      "text/plain": [
       "   Rank           Athlete         Nation                                 Meet  \\\n",
       "0     1        kara eaker  United States                         U.S. Classic   \n",
       "1     2        ou yushan*          China      Chinese National Youth Games EF   \n",
       "2     3    riley mccusker  United States                         U.S. Classic   \n",
       "3     4      simone biles  United States               World Championships EF   \n",
       "4     5    guan chenchen*          China             Chinese Championships AA   \n",
       "5     5         li shijia          China            Zhaoqing Challenge Cup EF   \n",
       "6     7        mya witte*  United States  World Champion’s National Qualifier   \n",
       "7     8      liu tingting          China             City of Jesolo Trophy AA   \n",
       "8     9      yana vorona*         Russia      Russian Junior Championships QF   \n",
       "9    10     ana padurariu         Canada                      Elite Canada EF   \n",
       "0     1     guan chenchen          China             Chinese Championships QF   \n",
       "1     2        zhou yaqin          China  Chinese Individual Championships EF   \n",
       "2     3      wei xiaoyuan          China  Chinese Individual Championships EF   \n",
       "3     4       tang xijing          China             Chinese Championships AA   \n",
       "4     5     ana padurariu         Canada                      Elite Canada QF   \n",
       "5     6  daniela batrona*        Ukraine        Ukrainian Youth Championships   \n",
       "6     6             li qi          China             Chinese Championships QF   \n",
       "7     8      liu tingting          China             Chinese Championships EF   \n",
       "8     9        he licheng          China  Chinese Individual Championships EF   \n",
       "9    10       chen yanfei          China  Chinese Individual Championships QF   \n",
       "\n",
       "    Score  year  \n",
       "0  15.400  2019  \n",
       "1  15.300  2019  \n",
       "2  15.100  2019  \n",
       "3  15.066  2019  \n",
       "4  15.050  2019  \n",
       "5  15.050  2019  \n",
       "6  15.000  2019  \n",
       "7  14.967  2019  \n",
       "8  14.900  2019  \n",
       "9  14.875  2019  \n",
       "0  15.400  2020  \n",
       "1  15.066  2020  \n",
       "2  14.900  2020  \n",
       "3  14.850  2020  \n",
       "4  14.600  2020  \n",
       "5  14.550  2020  \n",
       "6  14.550  2020  \n",
       "7  14.533  2020  \n",
       "8  14.500  2020  \n",
       "9  14.450  2020  "
      ]
     },
     "execution_count": 61,
     "metadata": {},
     "output_type": "execute_result"
    }
   ],
   "source": [
    "bb"
   ]
  },
  {
   "cell_type": "code",
   "execution_count": 53,
   "id": "420537bc",
   "metadata": {},
   "outputs": [
    {
     "data": {
      "text/plain": [
       "array(['simone biles', 'jade carey', 'amalia puflea*',\n",
       "       'viktoriia listunova*', 'sunisa lee', 'vladislava urazova*',\n",
       "       'grace mccallum', 'emma malabuyo', 'mai murakami',\n",
       "       'mélanie de jesus dos santos', 'skye blakely*',\n",
       "       'angelina radivilova', 'qi qi', 'mykayla skinner', 'sophia butler',\n",
       "       'karis german', 'katelyn rosen*', 'murakami mai', 'giorgia villa'],\n",
       "      dtype=object)"
      ]
     },
     "execution_count": 53,
     "metadata": {},
     "output_type": "execute_result"
    }
   ],
   "source": [
    "fx['Athlete'].unique()"
   ]
  },
  {
   "cell_type": "code",
   "execution_count": 54,
   "id": "023194c9",
   "metadata": {},
   "outputs": [
    {
     "data": {
      "text/plain": [
       "array(['nina derwael', 'fan yilin', 'sunisa lee', 'daria spiridonova',\n",
       "       'becky downie', 'anastasia agafonova', 'ana padurariu',\n",
       "       'elisabeth seitz', 'juliette bossu', 'riley mccusker',\n",
       "       'diana kustova*', 'cheng shiyi', 'giorgia villa',\n",
       "       'anastasia iliankova', 'elisa iorio', 'wei xiaoyuan',\n",
       "       'liu tingting', 'lu yufei', 'alice d’amato'], dtype=object)"
      ]
     },
     "execution_count": 54,
     "metadata": {},
     "output_type": "execute_result"
    }
   ],
   "source": [
    "ub['Athlete'].unique()"
   ]
  },
  {
   "cell_type": "code",
   "execution_count": 55,
   "id": "1406560f",
   "metadata": {},
   "outputs": [
    {
     "data": {
      "text/plain": [
       "array(['kara eaker', 'ou yushan*', 'riley mccusker', 'simone biles',\n",
       "       'guan chenchen*', 'li shijia', 'mya witte*', 'liu tingting',\n",
       "       'yana vorona*', 'ana padurariu', 'guan chenchen', 'zhou yaqin',\n",
       "       'wei xiaoyuan', 'tang xijing', 'daniela batrona*', 'li qi',\n",
       "       'he licheng', 'chen yanfei'], dtype=object)"
      ]
     },
     "execution_count": 55,
     "metadata": {},
     "output_type": "execute_result"
    }
   ],
   "source": [
    "bb['Athlete'].unique()"
   ]
  },
  {
   "cell_type": "code",
   "execution_count": 56,
   "id": "e9837bdb",
   "metadata": {},
   "outputs": [
    {
     "data": {
      "text/plain": [
       "array(['simone biles', 'jade carey', 'maria paseka', 'yeo seo-jeong',\n",
       "       'alexa moreno', 'ellie downie', 'mykayla skinner', 'shallon olsen',\n",
       "       'yu linmin', 'qi qi', 'asia d’amato', 'coline devillard',\n",
       "       'boglarka devai', 'teja belak', 'miyata shoko', 'marina nekrasova',\n",
       "       'carolina james'], dtype=object)"
      ]
     },
     "execution_count": 56,
     "metadata": {},
     "output_type": "execute_result"
    }
   ],
   "source": [
    "vta['Athlete'].unique()"
   ]
  },
  {
   "cell_type": "code",
   "execution_count": 57,
   "id": "a4340472",
   "metadata": {},
   "outputs": [
    {
     "data": {
      "text/plain": [
       "array(['simone biles', 'jade carey', 'coline devillard', 'yeo seo-jeong',\n",
       "       'maria paseka', 'giulia steingruber', 'mykayla skinner',\n",
       "       'ellie downie', 'aline friess', 'mélanie de jesus dos santos',\n",
       "       'murakami mai', 'miyakawa sae', 'alice d’amato', 'amari drayton',\n",
       "       'shilese jones', 'sakaguchi ayaka', 'asia d’amato',\n",
       "       'alizée letrange-mouakit'], dtype=object)"
      ]
     },
     "execution_count": 57,
     "metadata": {},
     "output_type": "execute_result"
    }
   ],
   "source": [
    "vt['Athlete'].unique()"
   ]
  },
  {
   "cell_type": "code",
   "execution_count": 58,
   "id": "5d043d6a",
   "metadata": {},
   "outputs": [
    {
     "data": {
      "text/plain": [
       "array(['simone biles', 'sunisa lee', 'riley mccusker',\n",
       "       'vladislava urazova*', 'grace mccallum',\n",
       "       'mélanie de jesus dos santos', 'kara eaker', 'rebeca andrade',\n",
       "       'tang xijing', 'leanne wong', 'morgan hurd', 'ellie black',\n",
       "       'kayla dicello*', 'angelina melnikova', 'giorgia villa',\n",
       "       'skye blakely*', 'konnor mcclain*', 'ou yushan*', 'ana padurariu',\n",
       "       'jade carey', 'mykayla skinner', 'nina derwael',\n",
       "       'viktoria listunova*', 'asuka teramoto', 'elisabeth seitz',\n",
       "       'mai murakami', 'liu tingting', 'silvia sfiringu*',\n",
       "       'emma malabuyo', 'ana maria barbosu*', 'flavia saraiva',\n",
       "       'li shijia', 'yana vorona*', 'ioana stanciulescu*',\n",
       "       'olivia greaves*', 'trinity thomas', 'wei xiaoyuan*',\n",
       "       'aleah finnegan', 'ellie downie', 'jordan chiles',\n",
       "       'georgia godwin', 'luo huan', 'amelie morgan', 'faith torrez',\n",
       "       'angelina radivilova', 'asia d’amato', 'sydney barros*',\n",
       "       'alyona shchennikova', 'shilese jones', 'brooklyn moors',\n",
       "       'murakami mai', 'angela andreoli*', 'guan chenchen',\n",
       "       'kaylia nemour*', 'wei xiaoyuan', 'desiree carofiglio',\n",
       "       'alizée letrange-mouakit', 'lu yufei', 'qi qi', 'kayla dicello',\n",
       "       'martina maggio', 'zhang jin', 'he licheng', 'amari drayton',\n",
       "       'daniela batrona*', 'lorette charpy', 'hiraiwa yuna',\n",
       "       'larisa iordache', 'hatakeda chiaki', 'kaylen morgan',\n",
       "       'hatakeda hitomi', 'anastasiia motak', 'daria lyska*',\n",
       "       'sugihara aiko', 'anna lashchevska*', 'soma ui*',\n",
       "       'silviana sfiringu', 'chen yanfei', 'sakaguchi ayaka', 'emily lee',\n",
       "       'kim bui', 'sophia butler', 'marta pihan-kulesza', 'wang jingying',\n",
       "       'karis german', 'katelyn jong*', 'giorgia leone*', 'zhou ruiyu',\n",
       "       'jennifer gadirova'], dtype=object)"
      ]
     },
     "execution_count": 58,
     "metadata": {},
     "output_type": "execute_result"
    }
   ],
   "source": [
    "iaa['Athlete'].unique()"
   ]
  },
  {
   "cell_type": "code",
   "execution_count": null,
   "id": "dbb158fc",
   "metadata": {},
   "outputs": [],
   "source": []
  },
  {
   "cell_type": "code",
   "execution_count": null,
   "id": "5625ede5",
   "metadata": {},
   "outputs": [],
   "source": []
  },
  {
   "cell_type": "markdown",
   "id": "d64f752b",
   "metadata": {},
   "source": [
    "# fx - 2 "
   ]
  },
  {
   "cell_type": "code",
   "execution_count": 20,
   "id": "62edd58e",
   "metadata": {},
   "outputs": [],
   "source": [
    "# Define a function to assign medal values based on the \"Name\" column\n",
    "def assign_medal(name):\n",
    "    name_lower = name.lower()\n",
    "    if name_lower == 'jade carey':\n",
    "        return 1\n",
    "    elif name_lower == 'vanessa ferrari':\n",
    "        return 1\n",
    "    elif name_lower == 'mai murakami':\n",
    "        return 1\n",
    "    else:\n",
    "        return 0\n",
    "\n",
    "# Apply the function to create the \"medal\" column\n",
    "fx['medal'] = fx['Athlete'].apply(assign_medal)"
   ]
  },
  {
   "cell_type": "code",
   "execution_count": 22,
   "id": "a4dc6f30",
   "metadata": {},
   "outputs": [
    {
     "data": {
      "text/html": [
       "<div>\n",
       "<style scoped>\n",
       "    .dataframe tbody tr th:only-of-type {\n",
       "        vertical-align: middle;\n",
       "    }\n",
       "\n",
       "    .dataframe tbody tr th {\n",
       "        vertical-align: top;\n",
       "    }\n",
       "\n",
       "    .dataframe thead th {\n",
       "        text-align: right;\n",
       "    }\n",
       "</style>\n",
       "<table border=\"1\" class=\"dataframe\">\n",
       "  <thead>\n",
       "    <tr style=\"text-align: right;\">\n",
       "      <th></th>\n",
       "      <th>Rank</th>\n",
       "      <th>Athlete</th>\n",
       "      <th>Nation</th>\n",
       "      <th>Meet</th>\n",
       "      <th>Score</th>\n",
       "      <th>medal</th>\n",
       "    </tr>\n",
       "  </thead>\n",
       "  <tbody>\n",
       "    <tr>\n",
       "      <th>1</th>\n",
       "      <td>2</td>\n",
       "      <td>jade carey</td>\n",
       "      <td>United States</td>\n",
       "      <td>Baku World Cup EF</td>\n",
       "      <td>14.600</td>\n",
       "      <td>1</td>\n",
       "    </tr>\n",
       "    <tr>\n",
       "      <th>8</th>\n",
       "      <td>9</td>\n",
       "      <td>mai murakami</td>\n",
       "      <td>Japan</td>\n",
       "      <td>All-Japan Championships AA</td>\n",
       "      <td>14.200</td>\n",
       "      <td>1</td>\n",
       "    </tr>\n",
       "    <tr>\n",
       "      <th>1</th>\n",
       "      <td>2</td>\n",
       "      <td>jade carey</td>\n",
       "      <td>United States</td>\n",
       "      <td>Melbourne World Cup EF</td>\n",
       "      <td>14.366</td>\n",
       "      <td>1</td>\n",
       "    </tr>\n",
       "  </tbody>\n",
       "</table>\n",
       "</div>"
      ],
      "text/plain": [
       "   Rank       Athlete         Nation                        Meet   Score  \\\n",
       "1     2    jade carey  United States           Baku World Cup EF  14.600   \n",
       "8     9  mai murakami          Japan  All-Japan Championships AA  14.200   \n",
       "1     2    jade carey  United States      Melbourne World Cup EF  14.366   \n",
       "\n",
       "   medal  \n",
       "1      1  \n",
       "8      1  \n",
       "1      1  "
      ]
     },
     "execution_count": 22,
     "metadata": {},
     "output_type": "execute_result"
    }
   ],
   "source": [
    "fx[fx['medal'] == 1]"
   ]
  },
  {
   "cell_type": "markdown",
   "id": "7e272e11",
   "metadata": {},
   "source": [
    "# bb - 3\n",
    "guan chenchen (CHN) \t\n",
    "tang xijing (CHN)\n",
    "simone biles (USA)"
   ]
  },
  {
   "cell_type": "code",
   "execution_count": 25,
   "id": "9562cce2",
   "metadata": {},
   "outputs": [],
   "source": [
    "# Define a function to assign medal values based on the \"Name\" column\n",
    "def assign_medal(name):\n",
    "    name_lower = name.lower()\n",
    "    if name_lower == 'guan chenchen':\n",
    "        return 1\n",
    "    elif name_lower == 'tang xijing':\n",
    "        return 1\n",
    "    elif name_lower == 'simone biles':\n",
    "        return 1\n",
    "    else:\n",
    "        return 0\n",
    "\n",
    "# Apply the function to create the \"medal\" column\n",
    "bb['medal'] = bb['Athlete'].apply(assign_medal)"
   ]
  },
  {
   "cell_type": "code",
   "execution_count": 27,
   "id": "71ab64a2",
   "metadata": {},
   "outputs": [
    {
     "data": {
      "text/html": [
       "<div>\n",
       "<style scoped>\n",
       "    .dataframe tbody tr th:only-of-type {\n",
       "        vertical-align: middle;\n",
       "    }\n",
       "\n",
       "    .dataframe tbody tr th {\n",
       "        vertical-align: top;\n",
       "    }\n",
       "\n",
       "    .dataframe thead th {\n",
       "        text-align: right;\n",
       "    }\n",
       "</style>\n",
       "<table border=\"1\" class=\"dataframe\">\n",
       "  <thead>\n",
       "    <tr style=\"text-align: right;\">\n",
       "      <th></th>\n",
       "      <th>Rank</th>\n",
       "      <th>Athlete</th>\n",
       "      <th>Nation</th>\n",
       "      <th>Meet</th>\n",
       "      <th>Score</th>\n",
       "      <th>medal</th>\n",
       "    </tr>\n",
       "  </thead>\n",
       "  <tbody>\n",
       "    <tr>\n",
       "      <th>3</th>\n",
       "      <td>4</td>\n",
       "      <td>simone biles</td>\n",
       "      <td>United States</td>\n",
       "      <td>World Championships EF</td>\n",
       "      <td>15.066</td>\n",
       "      <td>1</td>\n",
       "    </tr>\n",
       "    <tr>\n",
       "      <th>0</th>\n",
       "      <td>1</td>\n",
       "      <td>guan chenchen</td>\n",
       "      <td>China</td>\n",
       "      <td>Chinese Championships QF</td>\n",
       "      <td>15.400</td>\n",
       "      <td>1</td>\n",
       "    </tr>\n",
       "    <tr>\n",
       "      <th>3</th>\n",
       "      <td>4</td>\n",
       "      <td>tang xijing</td>\n",
       "      <td>China</td>\n",
       "      <td>Chinese Championships AA</td>\n",
       "      <td>14.850</td>\n",
       "      <td>1</td>\n",
       "    </tr>\n",
       "  </tbody>\n",
       "</table>\n",
       "</div>"
      ],
      "text/plain": [
       "   Rank        Athlete         Nation                      Meet   Score  medal\n",
       "3     4   simone biles  United States    World Championships EF  15.066      1\n",
       "0     1  guan chenchen          China  Chinese Championships QF  15.400      1\n",
       "3     4    tang xijing          China  Chinese Championships AA  14.850      1"
      ]
     },
     "execution_count": 27,
     "metadata": {},
     "output_type": "execute_result"
    }
   ],
   "source": [
    "bb[bb['medal'] == 1]"
   ]
  },
  {
   "cell_type": "markdown",
   "id": "2bdfffef",
   "metadata": {},
   "source": [
    "# ub - 3\n",
    "nina derwael (BEL) \n",
    "anastasia ilyankova (ROC)\n",
    "sunisa lee (USA)"
   ]
  },
  {
   "cell_type": "code",
   "execution_count": 23,
   "id": "496e50a7",
   "metadata": {},
   "outputs": [],
   "source": [
    "# Define a function to assign medal values based on the \"Name\" column\n",
    "def assign_medal(name):\n",
    "    name_lower = name.lower()\n",
    "    if name_lower == 'nina derwael':\n",
    "        return 1\n",
    "    elif name_lower == 'anastasia ilyankova':\n",
    "        return 1\n",
    "    elif name_lower == 'sunisa lee':\n",
    "        return 1\n",
    "    else:\n",
    "        return 0\n",
    "\n",
    "# Apply the function to create the \"medal\" column\n",
    "ub['medal'] = ub['Athlete'].apply(assign_medal)"
   ]
  },
  {
   "cell_type": "code",
   "execution_count": 28,
   "id": "d1f4f4ba",
   "metadata": {},
   "outputs": [
    {
     "data": {
      "text/html": [
       "<div>\n",
       "<style scoped>\n",
       "    .dataframe tbody tr th:only-of-type {\n",
       "        vertical-align: middle;\n",
       "    }\n",
       "\n",
       "    .dataframe tbody tr th {\n",
       "        vertical-align: top;\n",
       "    }\n",
       "\n",
       "    .dataframe thead th {\n",
       "        text-align: right;\n",
       "    }\n",
       "</style>\n",
       "<table border=\"1\" class=\"dataframe\">\n",
       "  <thead>\n",
       "    <tr style=\"text-align: right;\">\n",
       "      <th></th>\n",
       "      <th>Rank</th>\n",
       "      <th>Athlete</th>\n",
       "      <th>Nation</th>\n",
       "      <th>Meet</th>\n",
       "      <th>Score</th>\n",
       "      <th>medal</th>\n",
       "    </tr>\n",
       "  </thead>\n",
       "  <tbody>\n",
       "    <tr>\n",
       "      <th>0</th>\n",
       "      <td>1</td>\n",
       "      <td>nina derwael</td>\n",
       "      <td>Belgium</td>\n",
       "      <td>Worms Friendly</td>\n",
       "      <td>15.30</td>\n",
       "      <td>1</td>\n",
       "    </tr>\n",
       "    <tr>\n",
       "      <th>2</th>\n",
       "      <td>3</td>\n",
       "      <td>sunisa lee</td>\n",
       "      <td>United States</td>\n",
       "      <td>U.S. Championships Day 2</td>\n",
       "      <td>15.05</td>\n",
       "      <td>1</td>\n",
       "    </tr>\n",
       "  </tbody>\n",
       "</table>\n",
       "</div>"
      ],
      "text/plain": [
       "   Rank       Athlete         Nation                      Meet  Score  medal\n",
       "0     1  nina derwael        Belgium            Worms Friendly  15.30      1\n",
       "2     3    sunisa lee  United States  U.S. Championships Day 2  15.05      1"
      ]
     },
     "execution_count": 28,
     "metadata": {},
     "output_type": "execute_result"
    }
   ],
   "source": [
    "ub[ub['medal'] == 1]"
   ]
  },
  {
   "cell_type": "markdown",
   "id": "bfb96a7c",
   "metadata": {},
   "source": [
    "# iaa - 3"
   ]
  },
  {
   "cell_type": "markdown",
   "id": "354b5398",
   "metadata": {},
   "source": [
    "sunisa lee (USA) \n",
    "rebeca andrade (BRA) \t\n",
    "angelina melnikova (ROC)"
   ]
  },
  {
   "cell_type": "code",
   "execution_count": 29,
   "id": "e4b9a662",
   "metadata": {},
   "outputs": [],
   "source": [
    "# Define a function to assign medal values based on the \"Name\" column\n",
    "def assign_medal(name):\n",
    "    name_lower = name.lower()\n",
    "    if name_lower == 'sunisa lee':\n",
    "        return 1\n",
    "    elif name_lower == 'rebeca andrade':\n",
    "        return 1\n",
    "    elif name_lower == 'angelina melnikova':\n",
    "        return 1\n",
    "    else:\n",
    "        return 0\n",
    "\n",
    "# Apply the function to create the \"medal\" column\n",
    "iaa['medal'] = iaa['Athlete'].apply(assign_medal)"
   ]
  },
  {
   "cell_type": "code",
   "execution_count": 30,
   "id": "0259c755",
   "metadata": {},
   "outputs": [
    {
     "data": {
      "text/html": [
       "<div>\n",
       "<style scoped>\n",
       "    .dataframe tbody tr th:only-of-type {\n",
       "        vertical-align: middle;\n",
       "    }\n",
       "\n",
       "    .dataframe tbody tr th {\n",
       "        vertical-align: top;\n",
       "    }\n",
       "\n",
       "    .dataframe thead th {\n",
       "        text-align: right;\n",
       "    }\n",
       "</style>\n",
       "<table border=\"1\" class=\"dataframe\">\n",
       "  <thead>\n",
       "    <tr style=\"text-align: right;\">\n",
       "      <th></th>\n",
       "      <th>Rank</th>\n",
       "      <th>Athlete</th>\n",
       "      <th>Nation</th>\n",
       "      <th>Meet</th>\n",
       "      <th>Score</th>\n",
       "      <th>medal</th>\n",
       "    </tr>\n",
       "  </thead>\n",
       "  <tbody>\n",
       "    <tr>\n",
       "      <th>1</th>\n",
       "      <td>2</td>\n",
       "      <td>sunisa lee</td>\n",
       "      <td>United States</td>\n",
       "      <td>U.S. Worlds Trials</td>\n",
       "      <td>58.200</td>\n",
       "      <td>1</td>\n",
       "    </tr>\n",
       "    <tr>\n",
       "      <th>7</th>\n",
       "      <td>8</td>\n",
       "      <td>rebeca andrade</td>\n",
       "      <td>Brazil</td>\n",
       "      <td>DTB Team Challenge TF</td>\n",
       "      <td>56.932</td>\n",
       "      <td>1</td>\n",
       "    </tr>\n",
       "    <tr>\n",
       "      <th>13</th>\n",
       "      <td>14</td>\n",
       "      <td>angelina melnikova</td>\n",
       "      <td>Russia</td>\n",
       "      <td>World Championships QF</td>\n",
       "      <td>56.599</td>\n",
       "      <td>1</td>\n",
       "    </tr>\n",
       "    <tr>\n",
       "      <th>3</th>\n",
       "      <td>4</td>\n",
       "      <td>angelina melnikova</td>\n",
       "      <td>Russia</td>\n",
       "      <td>Friendship &amp; Solidarity Meet</td>\n",
       "      <td>56.700</td>\n",
       "      <td>1</td>\n",
       "    </tr>\n",
       "  </tbody>\n",
       "</table>\n",
       "</div>"
      ],
      "text/plain": [
       "    Rank             Athlete         Nation                          Meet  \\\n",
       "1      2          sunisa lee  United States            U.S. Worlds Trials   \n",
       "7      8      rebeca andrade         Brazil         DTB Team Challenge TF   \n",
       "13    14  angelina melnikova         Russia        World Championships QF   \n",
       "3      4  angelina melnikova         Russia  Friendship & Solidarity Meet   \n",
       "\n",
       "     Score  medal  \n",
       "1   58.200      1  \n",
       "7   56.932      1  \n",
       "13  56.599      1  \n",
       "3   56.700      1  "
      ]
     },
     "execution_count": 30,
     "metadata": {},
     "output_type": "execute_result"
    }
   ],
   "source": [
    "iaa[iaa['medal'] == 1]"
   ]
  },
  {
   "cell_type": "markdown",
   "id": "813bbb7c",
   "metadata": {},
   "source": [
    "# vt - 1"
   ]
  },
  {
   "cell_type": "markdown",
   "id": "d8110fa4",
   "metadata": {},
   "source": [
    "rebeca andrade (BRA) \n",
    "myKayla skinner (USA) \n",
    "yeo seo-eong (KOR)"
   ]
  },
  {
   "cell_type": "code",
   "execution_count": 44,
   "id": "7c8acb63",
   "metadata": {},
   "outputs": [],
   "source": [
    "# Define a function to assign medal values based on the \"Name\" column\n",
    "def assign_medal(name):\n",
    "    name_lower = name.lower()\n",
    "    if name_lower == 'rebeca andrade':\n",
    "        return 1\n",
    "    elif name_lower == 'mykayla skinner':\n",
    "        return 1\n",
    "    elif name_lower == 'yeo seo-eong ':\n",
    "        return 1\n",
    "    else:\n",
    "        return 0\n",
    "\n",
    "# Apply the function to create the \"medal\" column\n",
    "vt['medal'] = vt['Athlete'].apply(assign_medal)"
   ]
  },
  {
   "cell_type": "code",
   "execution_count": 45,
   "id": "02c32aa0",
   "metadata": {},
   "outputs": [
    {
     "data": {
      "text/html": [
       "<div>\n",
       "<style scoped>\n",
       "    .dataframe tbody tr th:only-of-type {\n",
       "        vertical-align: middle;\n",
       "    }\n",
       "\n",
       "    .dataframe tbody tr th {\n",
       "        vertical-align: top;\n",
       "    }\n",
       "\n",
       "    .dataframe thead th {\n",
       "        text-align: right;\n",
       "    }\n",
       "</style>\n",
       "<table border=\"1\" class=\"dataframe\">\n",
       "  <thead>\n",
       "    <tr style=\"text-align: right;\">\n",
       "      <th></th>\n",
       "      <th>Rank</th>\n",
       "      <th>Athlete</th>\n",
       "      <th>Nation</th>\n",
       "      <th>Meet</th>\n",
       "      <th>Score</th>\n",
       "      <th>medal</th>\n",
       "    </tr>\n",
       "  </thead>\n",
       "  <tbody>\n",
       "    <tr>\n",
       "      <th>6</th>\n",
       "      <td>7</td>\n",
       "      <td>mykayla skinner</td>\n",
       "      <td>United States</td>\n",
       "      <td>U.S. Worlds Trials</td>\n",
       "      <td>15.05</td>\n",
       "      <td>1</td>\n",
       "    </tr>\n",
       "  </tbody>\n",
       "</table>\n",
       "</div>"
      ],
      "text/plain": [
       "   Rank          Athlete         Nation                Meet  Score  medal\n",
       "6     7  mykayla skinner  United States  U.S. Worlds Trials  15.05      1"
      ]
     },
     "execution_count": 45,
     "metadata": {},
     "output_type": "execute_result"
    }
   ],
   "source": [
    "vt[vt['medal'] == 1]"
   ]
  },
  {
   "cell_type": "markdown",
   "id": "8e2efc13",
   "metadata": {},
   "source": [
    "# vt avg - 1\n"
   ]
  },
  {
   "cell_type": "markdown",
   "id": "14762dd9",
   "metadata": {},
   "source": [
    "rebeca andrade (BRA) \n",
    "myKayla skinner (USA) \n",
    "yeo seo-eong (KOR)"
   ]
  },
  {
   "cell_type": "code",
   "execution_count": 42,
   "id": "c24afcff",
   "metadata": {},
   "outputs": [],
   "source": [
    "# Define a function to assign medal values based on the \"Name\" column\n",
    "def assign_medal(name):\n",
    "    name_lower = name.lower()\n",
    "    if name_lower == 'rebeca andrade':\n",
    "        return 1\n",
    "    elif name_lower == 'mykayla skinner':\n",
    "        return 1\n",
    "    elif name_lower == 'yeo seo-eong ':\n",
    "        return 1\n",
    "    else:\n",
    "        return 0\n",
    "\n",
    "# Apply the function to create the \"medal\" column\n",
    "vta['medal'] = vta['Athlete'].apply(assign_medal)"
   ]
  },
  {
   "cell_type": "code",
   "execution_count": 43,
   "id": "4107d067",
   "metadata": {},
   "outputs": [
    {
     "data": {
      "text/html": [
       "<div>\n",
       "<style scoped>\n",
       "    .dataframe tbody tr th:only-of-type {\n",
       "        vertical-align: middle;\n",
       "    }\n",
       "\n",
       "    .dataframe tbody tr th {\n",
       "        vertical-align: top;\n",
       "    }\n",
       "\n",
       "    .dataframe thead th {\n",
       "        text-align: right;\n",
       "    }\n",
       "</style>\n",
       "<table border=\"1\" class=\"dataframe\">\n",
       "  <thead>\n",
       "    <tr style=\"text-align: right;\">\n",
       "      <th></th>\n",
       "      <th>Rank</th>\n",
       "      <th>Athlete</th>\n",
       "      <th>Nation</th>\n",
       "      <th>Meet</th>\n",
       "      <th>Score</th>\n",
       "      <th>medal</th>\n",
       "    </tr>\n",
       "  </thead>\n",
       "  <tbody>\n",
       "    <tr>\n",
       "      <th>6</th>\n",
       "      <td>7</td>\n",
       "      <td>mykayla skinner</td>\n",
       "      <td>United States</td>\n",
       "      <td>U.S. Championships Day 1</td>\n",
       "      <td>14.800</td>\n",
       "      <td>1</td>\n",
       "    </tr>\n",
       "    <tr>\n",
       "      <th>2</th>\n",
       "      <td>3</td>\n",
       "      <td>mykayla skinner</td>\n",
       "      <td>United States</td>\n",
       "      <td>International Gymnix AA</td>\n",
       "      <td>14.517</td>\n",
       "      <td>1</td>\n",
       "    </tr>\n",
       "  </tbody>\n",
       "</table>\n",
       "</div>"
      ],
      "text/plain": [
       "   Rank          Athlete         Nation                      Meet   Score  \\\n",
       "6     7  mykayla skinner  United States  U.S. Championships Day 1  14.800   \n",
       "2     3  mykayla skinner  United States   International Gymnix AA  14.517   \n",
       "\n",
       "   medal  \n",
       "6      1  \n",
       "2      1  "
      ]
     },
     "execution_count": 43,
     "metadata": {},
     "output_type": "execute_result"
    }
   ],
   "source": [
    "vta[vta['medal'] == 1]"
   ]
  },
  {
   "cell_type": "code",
   "execution_count": null,
   "id": "92bc8211",
   "metadata": {},
   "outputs": [],
   "source": []
  }
 ],
 "metadata": {
  "kernelspec": {
   "display_name": "Python 3 (ipykernel)",
   "language": "python",
   "name": "python3"
  },
  "language_info": {
   "codemirror_mode": {
    "name": "ipython",
    "version": 3
   },
   "file_extension": ".py",
   "mimetype": "text/x-python",
   "name": "python",
   "nbconvert_exporter": "python",
   "pygments_lexer": "ipython3",
   "version": "3.9.12"
  }
 },
 "nbformat": 4,
 "nbformat_minor": 5
}
