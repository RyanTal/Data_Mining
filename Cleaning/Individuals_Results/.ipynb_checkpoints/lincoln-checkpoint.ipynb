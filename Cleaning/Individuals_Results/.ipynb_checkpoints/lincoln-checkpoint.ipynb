{
 "cells": [
  {
   "cell_type": "code",
   "execution_count": 7,
   "id": "56c3adbc",
   "metadata": {},
   "outputs": [],
   "source": [
    "import pandas as pd\n",
    "import numpy as np\n",
    "from datetime import datetime\n",
    "from dateutil import parser"
   ]
  },
  {
   "cell_type": "code",
   "execution_count": 8,
   "id": "9287b3a8",
   "metadata": {},
   "outputs": [],
   "source": [
    "df = pd.read_csv('../../scraping/women/gymnasts_results/lincoln/lincoln23.csv')"
   ]
  },
  {
   "cell_type": "code",
   "execution_count": 9,
   "id": "1d4e5d7e",
   "metadata": {},
   "outputs": [
    {
     "data": {
      "text/html": [
       "<div>\n",
       "<style scoped>\n",
       "    .dataframe tbody tr th:only-of-type {\n",
       "        vertical-align: middle;\n",
       "    }\n",
       "\n",
       "    .dataframe tbody tr th {\n",
       "        vertical-align: top;\n",
       "    }\n",
       "\n",
       "    .dataframe thead th {\n",
       "        text-align: right;\n",
       "    }\n",
       "</style>\n",
       "<table border=\"1\" class=\"dataframe\">\n",
       "  <thead>\n",
       "    <tr style=\"text-align: right;\">\n",
       "      <th></th>\n",
       "      <th>Date</th>\n",
       "      <th>Competition</th>\n",
       "      <th>Unnamed: 2</th>\n",
       "      <th>VT</th>\n",
       "      <th>UB</th>\n",
       "      <th>BB</th>\n",
       "      <th>FX</th>\n",
       "      <th>AA</th>\n",
       "    </tr>\n",
       "  </thead>\n",
       "  <tbody>\n",
       "    <tr>\n",
       "      <th>0</th>\n",
       "      <td>Sep 19-20</td>\n",
       "      <td>U.S. Worlds Trials</td>\n",
       "      <td>EF</td>\n",
       "      <td>0.00</td>\n",
       "      <td>12.60</td>\n",
       "      <td>13.10</td>\n",
       "      <td>0.00</td>\n",
       "      <td>0.00</td>\n",
       "    </tr>\n",
       "    <tr>\n",
       "      <th>1</th>\n",
       "      <td>Sep 19-20</td>\n",
       "      <td>U.S. Worlds Trials</td>\n",
       "      <td>AA</td>\n",
       "      <td>14.25</td>\n",
       "      <td>12.45</td>\n",
       "      <td>13.80</td>\n",
       "      <td>13.85</td>\n",
       "      <td>54.35</td>\n",
       "    </tr>\n",
       "    <tr>\n",
       "      <th>2</th>\n",
       "      <td>Aug 24-27</td>\n",
       "      <td>U.S. Championships</td>\n",
       "      <td>AA</td>\n",
       "      <td>13.90</td>\n",
       "      <td>9.90</td>\n",
       "      <td>12.95</td>\n",
       "      <td>14.05</td>\n",
       "      <td>50.80</td>\n",
       "    </tr>\n",
       "    <tr>\n",
       "      <th>3</th>\n",
       "      <td>Aug 24-27</td>\n",
       "      <td>U.S. Championships</td>\n",
       "      <td>QF</td>\n",
       "      <td>14.10</td>\n",
       "      <td>12.30</td>\n",
       "      <td>13.25</td>\n",
       "      <td>14.35</td>\n",
       "      <td>54.00</td>\n",
       "    </tr>\n",
       "    <tr>\n",
       "      <th>4</th>\n",
       "      <td>Aug 4-6</td>\n",
       "      <td>U.S. Classic</td>\n",
       "      <td>AA</td>\n",
       "      <td>14.15</td>\n",
       "      <td>0.00</td>\n",
       "      <td>12.95</td>\n",
       "      <td>14.00</td>\n",
       "      <td>0.00</td>\n",
       "    </tr>\n",
       "    <tr>\n",
       "      <th>5</th>\n",
       "      <td>Feb 23-26</td>\n",
       "      <td>Winter Cup</td>\n",
       "      <td>AA</td>\n",
       "      <td>13.50</td>\n",
       "      <td>12.95</td>\n",
       "      <td>11.00</td>\n",
       "      <td>13.60</td>\n",
       "      <td>51.05</td>\n",
       "    </tr>\n",
       "    <tr>\n",
       "      <th>6</th>\n",
       "      <td>Feb 17-19</td>\n",
       "      <td>WOGA Classic</td>\n",
       "      <td>AA</td>\n",
       "      <td>0.00</td>\n",
       "      <td>13.30</td>\n",
       "      <td>0.00</td>\n",
       "      <td>0.00</td>\n",
       "      <td>0.00</td>\n",
       "    </tr>\n",
       "    <tr>\n",
       "      <th>7</th>\n",
       "      <td>Jan 27-29</td>\n",
       "      <td>Vegas Cup National Qualifier</td>\n",
       "      <td>AA</td>\n",
       "      <td>13.55</td>\n",
       "      <td>12.35</td>\n",
       "      <td>12.90</td>\n",
       "      <td>14.10</td>\n",
       "      <td>52.90</td>\n",
       "    </tr>\n",
       "  </tbody>\n",
       "</table>\n",
       "</div>"
      ],
      "text/plain": [
       "        Date                   Competition Unnamed: 2     VT     UB     BB  \\\n",
       "0  Sep 19-20            U.S. Worlds Trials         EF   0.00  12.60  13.10   \n",
       "1  Sep 19-20            U.S. Worlds Trials         AA  14.25  12.45  13.80   \n",
       "2  Aug 24-27            U.S. Championships         AA  13.90   9.90  12.95   \n",
       "3  Aug 24-27            U.S. Championships         QF  14.10  12.30  13.25   \n",
       "4    Aug 4-6                  U.S. Classic         AA  14.15   0.00  12.95   \n",
       "5  Feb 23-26                    Winter Cup         AA  13.50  12.95  11.00   \n",
       "6  Feb 17-19                  WOGA Classic         AA   0.00  13.30   0.00   \n",
       "7  Jan 27-29  Vegas Cup National Qualifier         AA  13.55  12.35  12.90   \n",
       "\n",
       "      FX     AA  \n",
       "0   0.00   0.00  \n",
       "1  13.85  54.35  \n",
       "2  14.05  50.80  \n",
       "3  14.35  54.00  \n",
       "4  14.00   0.00  \n",
       "5  13.60  51.05  \n",
       "6   0.00   0.00  \n",
       "7  14.10  52.90  "
      ]
     },
     "execution_count": 9,
     "metadata": {},
     "output_type": "execute_result"
    }
   ],
   "source": [
    "df"
   ]
  },
  {
   "cell_type": "code",
   "execution_count": 10,
   "id": "1ba3bef2",
   "metadata": {},
   "outputs": [],
   "source": [
    "df['year'] = 2023"
   ]
  },
  {
   "cell_type": "code",
   "execution_count": 11,
   "id": "def76f44",
   "metadata": {},
   "outputs": [],
   "source": [
    "df = df.drop(columns=['Date'])"
   ]
  },
  {
   "cell_type": "code",
   "execution_count": 12,
   "id": "7735195c",
   "metadata": {},
   "outputs": [],
   "source": [
    "df['Name'] = 'Kaliya Lincoln'"
   ]
  },
  {
   "cell_type": "code",
   "execution_count": 14,
   "id": "863f638b",
   "metadata": {},
   "outputs": [],
   "source": [
    "df.rename(columns={'Unnamed: 2': 'Round'}, inplace=True)"
   ]
  },
  {
   "cell_type": "code",
   "execution_count": 15,
   "id": "2bfcd79e",
   "metadata": {},
   "outputs": [],
   "source": [
    "# Specify the desired column order\n",
    "desired_order = ['Name', 'year', 'Competition', 'Round', 'VT', 'UB', 'BB', 'FX', 'AA',\n",
    "       ]\n",
    "\n",
    "# Create a new DataFrame with columns in the desired order\n",
    "df_reordered = df[desired_order]"
   ]
  },
  {
   "cell_type": "code",
   "execution_count": 18,
   "id": "0767d383",
   "metadata": {},
   "outputs": [],
   "source": [
    "df=df_reordered.copy()"
   ]
  },
  {
   "cell_type": "code",
   "execution_count": 19,
   "id": "67e1709d",
   "metadata": {},
   "outputs": [
    {
     "name": "stdout",
     "output_type": "stream",
     "text": [
      "<class 'pandas.core.frame.DataFrame'>\n",
      "RangeIndex: 8 entries, 0 to 7\n",
      "Data columns (total 9 columns):\n",
      " #   Column       Non-Null Count  Dtype  \n",
      "---  ------       --------------  -----  \n",
      " 0   Name         8 non-null      object \n",
      " 1   year         8 non-null      int64  \n",
      " 2   Competition  8 non-null      object \n",
      " 3   Round        8 non-null      object \n",
      " 4   VT           8 non-null      float64\n",
      " 5   UB           8 non-null      float64\n",
      " 6   BB           8 non-null      float64\n",
      " 7   FX           8 non-null      float64\n",
      " 8   AA           8 non-null      float64\n",
      "dtypes: float64(5), int64(1), object(3)\n",
      "memory usage: 704.0+ bytes\n"
     ]
    }
   ],
   "source": [
    "df.info()"
   ]
  },
  {
   "cell_type": "code",
   "execution_count": 20,
   "id": "84d17e56",
   "metadata": {},
   "outputs": [],
   "source": [
    "# df.to_csv('lincoln.csv', index=False) "
   ]
  },
  {
   "cell_type": "code",
   "execution_count": null,
   "id": "3c6bc5af",
   "metadata": {},
   "outputs": [],
   "source": []
  }
 ],
 "metadata": {
  "kernelspec": {
   "display_name": "Python 3 (ipykernel)",
   "language": "python",
   "name": "python3"
  },
  "language_info": {
   "codemirror_mode": {
    "name": "ipython",
    "version": 3
   },
   "file_extension": ".py",
   "mimetype": "text/x-python",
   "name": "python",
   "nbconvert_exporter": "python",
   "pygments_lexer": "ipython3",
   "version": "3.9.12"
  }
 },
 "nbformat": 4,
 "nbformat_minor": 5
}
