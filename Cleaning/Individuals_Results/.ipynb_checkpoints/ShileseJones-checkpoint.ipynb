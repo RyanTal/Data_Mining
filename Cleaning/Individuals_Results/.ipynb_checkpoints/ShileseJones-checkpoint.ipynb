{
 "cells": [
  {
   "cell_type": "code",
   "execution_count": 1,
   "id": "e3dcc265",
   "metadata": {},
   "outputs": [],
   "source": [
    "import pandas as pd\n",
    "import numpy as np\n",
    "from datetime import datetime\n",
    "from dateutil import parser"
   ]
  },
  {
   "cell_type": "code",
   "execution_count": 2,
   "id": "113e5afe",
   "metadata": {},
   "outputs": [],
   "source": [
    "df = pd.read_csv('../../scraping/women/gymnasts_results/jones/jones21.csv')\n"
   ]
  },
  {
   "cell_type": "code",
   "execution_count": 5,
   "id": "077a0022",
   "metadata": {},
   "outputs": [],
   "source": [
    "df[\"Year\"] = 2021"
   ]
  },
  {
   "cell_type": "code",
   "execution_count": 3,
   "id": "61612d79",
   "metadata": {},
   "outputs": [],
   "source": [
    "df2 = pd.read_csv('../../scraping/women/gymnasts_results/jones/jones22.csv')\n"
   ]
  },
  {
   "cell_type": "code",
   "execution_count": 7,
   "id": "e5779025",
   "metadata": {},
   "outputs": [],
   "source": [
    "df2[\"Year\"] = 2022"
   ]
  },
  {
   "cell_type": "code",
   "execution_count": 4,
   "id": "6d765c37",
   "metadata": {},
   "outputs": [],
   "source": [
    "df3 = pd.read_csv('../../scraping/women/gymnasts_results/jones/jones23.csv')\n"
   ]
  },
  {
   "cell_type": "code",
   "execution_count": 9,
   "id": "c5c789ea",
   "metadata": {},
   "outputs": [],
   "source": [
    "df3[\"Year\"] = 2023"
   ]
  },
  {
   "cell_type": "code",
   "execution_count": 10,
   "id": "f38d6b17",
   "metadata": {},
   "outputs": [],
   "source": [
    "result = pd.concat([df,df2, df3], ignore_index=True)"
   ]
  },
  {
   "cell_type": "code",
   "execution_count": 11,
   "id": "990686d5",
   "metadata": {},
   "outputs": [],
   "source": [
    "df = result.copy()"
   ]
  },
  {
   "cell_type": "code",
   "execution_count": 12,
   "id": "f3c699b8",
   "metadata": {},
   "outputs": [],
   "source": [
    "df[\"Name\"] = \"Shilese Jones\""
   ]
  },
  {
   "cell_type": "code",
   "execution_count": 13,
   "id": "07867157",
   "metadata": {},
   "outputs": [],
   "source": [
    "df.rename(columns={'Unnamed: 2': 'Round'}, inplace=True)"
   ]
  },
  {
   "cell_type": "code",
   "execution_count": 14,
   "id": "9dc1641d",
   "metadata": {},
   "outputs": [],
   "source": [
    "# Function to parse date entries\n",
    "def parse_date(entry):\n",
    "    try:\n",
    "        return parser.parse(entry).strftime(\"%b %d\")\n",
    "    except ValueError:\n",
    "        return entry\n",
    "\n",
    "# Apply the parse_date function to the \"Date\" column\n",
    "df[\"Date\"] = df[\"Date\"].apply(parse_date)\n"
   ]
  },
  {
   "cell_type": "code",
   "execution_count": 15,
   "id": "f8c62b2a",
   "metadata": {},
   "outputs": [],
   "source": [
    "def extract_month_day(entry):\n",
    "    parts = entry.split('-')\n",
    "    return parts[0]\n",
    "\n",
    "# Apply the extract_month_day function to the \"Date\" column\n",
    "df[\"Date\"] = df[\"Date\"].apply(extract_month_day)\n",
    "\n",
    "# Now, the \"Date"
   ]
  },
  {
   "cell_type": "code",
   "execution_count": 16,
   "id": "02d40123",
   "metadata": {},
   "outputs": [],
   "source": [
    "df[\"Date\"] = pd.to_datetime(df[\"Date\"] + \" \" + df[\"Year\"].astype(str), format=\"%b %d %Y\")\n"
   ]
  },
  {
   "cell_type": "code",
   "execution_count": 17,
   "id": "8704efd0",
   "metadata": {},
   "outputs": [
    {
     "name": "stdout",
     "output_type": "stream",
     "text": [
      "<class 'pandas.core.frame.DataFrame'>\n",
      "RangeIndex: 22 entries, 0 to 21\n",
      "Data columns (total 10 columns):\n",
      " #   Column       Non-Null Count  Dtype         \n",
      "---  ------       --------------  -----         \n",
      " 0   Date         22 non-null     datetime64[ns]\n",
      " 1   Competition  22 non-null     object        \n",
      " 2   Round        22 non-null     object        \n",
      " 3   VT           22 non-null     float64       \n",
      " 4   UB           22 non-null     float64       \n",
      " 5   BB           22 non-null     float64       \n",
      " 6   FX           22 non-null     float64       \n",
      " 7   AA           22 non-null     float64       \n",
      " 8   Year         22 non-null     int64         \n",
      " 9   Name         22 non-null     object        \n",
      "dtypes: datetime64[ns](1), float64(5), int64(1), object(3)\n",
      "memory usage: 1.8+ KB\n"
     ]
    }
   ],
   "source": [
    "df.info()"
   ]
  },
  {
   "cell_type": "code",
   "execution_count": 18,
   "id": "168baaff",
   "metadata": {},
   "outputs": [],
   "source": [
    "df = df.drop(columns=[\"Year\"])"
   ]
  },
  {
   "cell_type": "code",
   "execution_count": 19,
   "id": "7a9f5cd3",
   "metadata": {},
   "outputs": [],
   "source": [
    "# Specify the desired column order\n",
    "desired_order = ['Name', 'Date', 'Competition', 'Round', 'VT', 'UB', 'BB', 'FX', 'AA',\n",
    "       ]\n",
    "\n",
    "# Create a new DataFrame with columns in the desired order\n",
    "df_reordered = df[desired_order]"
   ]
  },
  {
   "cell_type": "code",
   "execution_count": 20,
   "id": "5a1b32d4",
   "metadata": {},
   "outputs": [
    {
     "data": {
      "text/html": [
       "<div>\n",
       "<style scoped>\n",
       "    .dataframe tbody tr th:only-of-type {\n",
       "        vertical-align: middle;\n",
       "    }\n",
       "\n",
       "    .dataframe tbody tr th {\n",
       "        vertical-align: top;\n",
       "    }\n",
       "\n",
       "    .dataframe thead th {\n",
       "        text-align: right;\n",
       "    }\n",
       "</style>\n",
       "<table border=\"1\" class=\"dataframe\">\n",
       "  <thead>\n",
       "    <tr style=\"text-align: right;\">\n",
       "      <th></th>\n",
       "      <th>Name</th>\n",
       "      <th>Date</th>\n",
       "      <th>Competition</th>\n",
       "      <th>Round</th>\n",
       "      <th>VT</th>\n",
       "      <th>UB</th>\n",
       "      <th>BB</th>\n",
       "      <th>FX</th>\n",
       "      <th>AA</th>\n",
       "    </tr>\n",
       "  </thead>\n",
       "  <tbody>\n",
       "    <tr>\n",
       "      <th>0</th>\n",
       "      <td>Shilese Jones</td>\n",
       "      <td>2021-06-24</td>\n",
       "      <td>U.S. Olympic Trials</td>\n",
       "      <td>AA</td>\n",
       "      <td>14.90</td>\n",
       "      <td>12.900</td>\n",
       "      <td>13.300</td>\n",
       "      <td>13.533</td>\n",
       "      <td>54.633</td>\n",
       "    </tr>\n",
       "    <tr>\n",
       "      <th>1</th>\n",
       "      <td>Shilese Jones</td>\n",
       "      <td>2021-06-24</td>\n",
       "      <td>U.S. Olympic Trials</td>\n",
       "      <td>QF</td>\n",
       "      <td>14.90</td>\n",
       "      <td>13.166</td>\n",
       "      <td>13.533</td>\n",
       "      <td>13.400</td>\n",
       "      <td>54.999</td>\n",
       "    </tr>\n",
       "    <tr>\n",
       "      <th>2</th>\n",
       "      <td>Shilese Jones</td>\n",
       "      <td>2021-06-03</td>\n",
       "      <td>U.S. Championships</td>\n",
       "      <td>AA</td>\n",
       "      <td>15.00</td>\n",
       "      <td>14.400</td>\n",
       "      <td>11.750</td>\n",
       "      <td>13.250</td>\n",
       "      <td>54.400</td>\n",
       "    </tr>\n",
       "    <tr>\n",
       "      <th>3</th>\n",
       "      <td>Shilese Jones</td>\n",
       "      <td>2021-06-03</td>\n",
       "      <td>U.S. Championships</td>\n",
       "      <td>QF</td>\n",
       "      <td>14.85</td>\n",
       "      <td>14.300</td>\n",
       "      <td>12.450</td>\n",
       "      <td>12.500</td>\n",
       "      <td>54.100</td>\n",
       "    </tr>\n",
       "    <tr>\n",
       "      <th>4</th>\n",
       "      <td>Shilese Jones</td>\n",
       "      <td>2021-05-21</td>\n",
       "      <td>U.S. Classic</td>\n",
       "      <td>AA</td>\n",
       "      <td>14.85</td>\n",
       "      <td>12.950</td>\n",
       "      <td>12.100</td>\n",
       "      <td>0.000</td>\n",
       "      <td>0.000</td>\n",
       "    </tr>\n",
       "  </tbody>\n",
       "</table>\n",
       "</div>"
      ],
      "text/plain": [
       "            Name       Date          Competition Round     VT      UB      BB  \\\n",
       "0  Shilese Jones 2021-06-24  U.S. Olympic Trials    AA  14.90  12.900  13.300   \n",
       "1  Shilese Jones 2021-06-24  U.S. Olympic Trials    QF  14.90  13.166  13.533   \n",
       "2  Shilese Jones 2021-06-03   U.S. Championships    AA  15.00  14.400  11.750   \n",
       "3  Shilese Jones 2021-06-03   U.S. Championships    QF  14.85  14.300  12.450   \n",
       "4  Shilese Jones 2021-05-21         U.S. Classic    AA  14.85  12.950  12.100   \n",
       "\n",
       "       FX      AA  \n",
       "0  13.533  54.633  \n",
       "1  13.400  54.999  \n",
       "2  13.250  54.400  \n",
       "3  12.500  54.100  \n",
       "4   0.000   0.000  "
      ]
     },
     "execution_count": 20,
     "metadata": {},
     "output_type": "execute_result"
    }
   ],
   "source": [
    "df_reordered.head()"
   ]
  },
  {
   "cell_type": "code",
   "execution_count": 21,
   "id": "ee271b1c",
   "metadata": {},
   "outputs": [],
   "source": [
    "# df_reordered.to_csv('jones.csv', index=False) "
   ]
  },
  {
   "cell_type": "code",
   "execution_count": null,
   "id": "5b57e828",
   "metadata": {},
   "outputs": [],
   "source": []
  }
 ],
 "metadata": {
  "kernelspec": {
   "display_name": "Python 3 (ipykernel)",
   "language": "python",
   "name": "python3"
  },
  "language_info": {
   "codemirror_mode": {
    "name": "ipython",
    "version": 3
   },
   "file_extension": ".py",
   "mimetype": "text/x-python",
   "name": "python",
   "nbconvert_exporter": "python",
   "pygments_lexer": "ipython3",
   "version": "3.9.12"
  }
 },
 "nbformat": 4,
 "nbformat_minor": 5
}
