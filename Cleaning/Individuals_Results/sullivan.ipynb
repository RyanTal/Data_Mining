{
 "cells": [
  {
   "cell_type": "code",
   "execution_count": 1,
   "id": "794e538f",
   "metadata": {},
   "outputs": [],
   "source": [
    "import pandas as pd\n",
    "import numpy as np\n",
    "from datetime import datetime\n",
    "from dateutil import parser"
   ]
  },
  {
   "cell_type": "code",
   "execution_count": 2,
   "id": "bc4e9eac",
   "metadata": {},
   "outputs": [],
   "source": [
    "df = pd.read_csv('../../scraping/women/gymnasts_results/sullivan/sullivan21.csv')\n"
   ]
  },
  {
   "cell_type": "code",
   "execution_count": 3,
   "id": "1ca8af7f",
   "metadata": {},
   "outputs": [],
   "source": [
    "df[\"Year\"] = 2021"
   ]
  },
  {
   "cell_type": "code",
   "execution_count": 3,
   "id": "603cffe9",
   "metadata": {},
   "outputs": [],
   "source": [
    "df2 = pd.read_csv('../../scraping/women/gymnasts_results/sullivan/sullivan22.csv')\n"
   ]
  },
  {
   "cell_type": "code",
   "execution_count": 5,
   "id": "4abb4240",
   "metadata": {},
   "outputs": [],
   "source": [
    "df2[\"Year\"] = 2022"
   ]
  },
  {
   "cell_type": "code",
   "execution_count": 4,
   "id": "bb931aa7",
   "metadata": {},
   "outputs": [],
   "source": [
    "df3 = pd.read_csv('../../scraping/women/gymnasts_results/sullivan/sullivan23.csv')\n"
   ]
  },
  {
   "cell_type": "code",
   "execution_count": 7,
   "id": "04c3c7bf",
   "metadata": {},
   "outputs": [],
   "source": [
    "df3[\"Year\"] = 2023"
   ]
  },
  {
   "cell_type": "code",
   "execution_count": 8,
   "id": "cc341c16",
   "metadata": {},
   "outputs": [],
   "source": [
    "result = pd.concat([df,df2, df3], ignore_index=True)"
   ]
  },
  {
   "cell_type": "code",
   "execution_count": 9,
   "id": "ff9e454b",
   "metadata": {},
   "outputs": [],
   "source": [
    "df = result.copy()"
   ]
  },
  {
   "cell_type": "code",
   "execution_count": 10,
   "id": "8552438c",
   "metadata": {},
   "outputs": [],
   "source": [
    "df[\"Name\"] = \"Ashlee Sullivan\""
   ]
  },
  {
   "cell_type": "code",
   "execution_count": 11,
   "id": "dd83c659",
   "metadata": {},
   "outputs": [],
   "source": [
    "df.rename(columns={'Unnamed: 2': 'Round'}, inplace=True)"
   ]
  },
  {
   "cell_type": "code",
   "execution_count": 12,
   "id": "4bf9bdfc",
   "metadata": {},
   "outputs": [],
   "source": [
    "# Function to parse date entries\n",
    "def parse_date(entry):\n",
    "    try:\n",
    "        return parser.parse(entry).strftime(\"%b %d\")\n",
    "    except ValueError:\n",
    "        return entry\n",
    "\n",
    "# Apply the parse_date function to the \"Date\" column\n",
    "df[\"Date\"] = df[\"Date\"].apply(parse_date)\n"
   ]
  },
  {
   "cell_type": "code",
   "execution_count": 13,
   "id": "19861a8f",
   "metadata": {},
   "outputs": [],
   "source": [
    "def extract_month_day(entry):\n",
    "    parts = entry.split('-')\n",
    "    return parts[0]\n",
    "\n",
    "# Apply the extract_month_day function to the \"Date\" column\n",
    "df[\"Date\"] = df[\"Date\"].apply(extract_month_day)\n",
    "\n",
    "# Now, the \"Date"
   ]
  },
  {
   "cell_type": "code",
   "execution_count": 14,
   "id": "3d73b039",
   "metadata": {},
   "outputs": [],
   "source": [
    "df[\"Date\"] = pd.to_datetime(df[\"Year\"].astype(int).astype(str) + '-' + df[\"Date\"], format=\"%Y-%b %d\")\n"
   ]
  },
  {
   "cell_type": "code",
   "execution_count": 15,
   "id": "21c4dfb2",
   "metadata": {},
   "outputs": [
    {
     "data": {
      "text/html": [
       "<div>\n",
       "<style scoped>\n",
       "    .dataframe tbody tr th:only-of-type {\n",
       "        vertical-align: middle;\n",
       "    }\n",
       "\n",
       "    .dataframe tbody tr th {\n",
       "        vertical-align: top;\n",
       "    }\n",
       "\n",
       "    .dataframe thead th {\n",
       "        text-align: right;\n",
       "    }\n",
       "</style>\n",
       "<table border=\"1\" class=\"dataframe\">\n",
       "  <thead>\n",
       "    <tr style=\"text-align: right;\">\n",
       "      <th></th>\n",
       "      <th>Date</th>\n",
       "      <th>Competition</th>\n",
       "      <th>Round</th>\n",
       "      <th>VT</th>\n",
       "      <th>UB</th>\n",
       "      <th>BB</th>\n",
       "      <th>FX</th>\n",
       "      <th>AA</th>\n",
       "      <th>Year</th>\n",
       "      <th>Name</th>\n",
       "    </tr>\n",
       "  </thead>\n",
       "  <tbody>\n",
       "    <tr>\n",
       "      <th>0</th>\n",
       "      <td>2021-02-26</td>\n",
       "      <td>Winter Cup</td>\n",
       "      <td>AA</td>\n",
       "      <td>14.100</td>\n",
       "      <td>12.35</td>\n",
       "      <td>10.20</td>\n",
       "      <td>12.450</td>\n",
       "      <td>49.10</td>\n",
       "      <td>2021</td>\n",
       "      <td>Ashlee Sullivan</td>\n",
       "    </tr>\n",
       "    <tr>\n",
       "      <th>1</th>\n",
       "      <td>2022-03-18</td>\n",
       "      <td>DTB Pokal Team Challenge</td>\n",
       "      <td>AA</td>\n",
       "      <td>14.033</td>\n",
       "      <td>0.00</td>\n",
       "      <td>13.60</td>\n",
       "      <td>13.533</td>\n",
       "      <td>0.00</td>\n",
       "      <td>2022</td>\n",
       "      <td>Ashlee Sullivan</td>\n",
       "    </tr>\n",
       "    <tr>\n",
       "      <th>2</th>\n",
       "      <td>2022-02-24</td>\n",
       "      <td>Winter Cup</td>\n",
       "      <td>AA</td>\n",
       "      <td>13.900</td>\n",
       "      <td>12.60</td>\n",
       "      <td>13.50</td>\n",
       "      <td>12.850</td>\n",
       "      <td>52.85</td>\n",
       "      <td>2022</td>\n",
       "      <td>Ashlee Sullivan</td>\n",
       "    </tr>\n",
       "    <tr>\n",
       "      <th>3</th>\n",
       "      <td>2022-02-12</td>\n",
       "      <td>WOGA Classic</td>\n",
       "      <td>AA</td>\n",
       "      <td>13.350</td>\n",
       "      <td>13.00</td>\n",
       "      <td>13.60</td>\n",
       "      <td>13.600</td>\n",
       "      <td>53.55</td>\n",
       "      <td>2022</td>\n",
       "      <td>Ashlee Sullivan</td>\n",
       "    </tr>\n",
       "    <tr>\n",
       "      <th>4</th>\n",
       "      <td>2022-01-21</td>\n",
       "      <td>Vegas Cup National Qualifier</td>\n",
       "      <td>AA</td>\n",
       "      <td>13.100</td>\n",
       "      <td>13.30</td>\n",
       "      <td>13.45</td>\n",
       "      <td>12.800</td>\n",
       "      <td>52.65</td>\n",
       "      <td>2022</td>\n",
       "      <td>Ashlee Sullivan</td>\n",
       "    </tr>\n",
       "    <tr>\n",
       "      <th>5</th>\n",
       "      <td>2023-08-24</td>\n",
       "      <td>U.S. Championships</td>\n",
       "      <td>AA</td>\n",
       "      <td>13.400</td>\n",
       "      <td>9.95</td>\n",
       "      <td>12.85</td>\n",
       "      <td>13.350</td>\n",
       "      <td>49.55</td>\n",
       "      <td>2023</td>\n",
       "      <td>Ashlee Sullivan</td>\n",
       "    </tr>\n",
       "    <tr>\n",
       "      <th>6</th>\n",
       "      <td>2023-08-24</td>\n",
       "      <td>U.S. Championships</td>\n",
       "      <td>QF</td>\n",
       "      <td>13.200</td>\n",
       "      <td>12.95</td>\n",
       "      <td>12.20</td>\n",
       "      <td>13.100</td>\n",
       "      <td>51.45</td>\n",
       "      <td>2023</td>\n",
       "      <td>Ashlee Sullivan</td>\n",
       "    </tr>\n",
       "    <tr>\n",
       "      <th>7</th>\n",
       "      <td>2023-04-30</td>\n",
       "      <td>Pan American Trials</td>\n",
       "      <td>AA</td>\n",
       "      <td>13.550</td>\n",
       "      <td>12.55</td>\n",
       "      <td>13.20</td>\n",
       "      <td>13.550</td>\n",
       "      <td>52.85</td>\n",
       "      <td>2023</td>\n",
       "      <td>Ashlee Sullivan</td>\n",
       "    </tr>\n",
       "    <tr>\n",
       "      <th>8</th>\n",
       "      <td>2023-03-17</td>\n",
       "      <td>DTB Pokal Team Challenge</td>\n",
       "      <td>EF</td>\n",
       "      <td>0.000</td>\n",
       "      <td>0.00</td>\n",
       "      <td>12.40</td>\n",
       "      <td>0.000</td>\n",
       "      <td>0.00</td>\n",
       "      <td>2023</td>\n",
       "      <td>Ashlee Sullivan</td>\n",
       "    </tr>\n",
       "    <tr>\n",
       "      <th>9</th>\n",
       "      <td>2023-03-17</td>\n",
       "      <td>DTB Pokal Team Challenge</td>\n",
       "      <td>AA</td>\n",
       "      <td>13.100</td>\n",
       "      <td>12.55</td>\n",
       "      <td>13.80</td>\n",
       "      <td>12.650</td>\n",
       "      <td>52.10</td>\n",
       "      <td>2023</td>\n",
       "      <td>Ashlee Sullivan</td>\n",
       "    </tr>\n",
       "    <tr>\n",
       "      <th>10</th>\n",
       "      <td>2023-02-23</td>\n",
       "      <td>Winter Cup</td>\n",
       "      <td>AA</td>\n",
       "      <td>13.600</td>\n",
       "      <td>12.60</td>\n",
       "      <td>13.20</td>\n",
       "      <td>13.350</td>\n",
       "      <td>52.75</td>\n",
       "      <td>2023</td>\n",
       "      <td>Ashlee Sullivan</td>\n",
       "    </tr>\n",
       "    <tr>\n",
       "      <th>11</th>\n",
       "      <td>2023-02-17</td>\n",
       "      <td>WOGA Classic</td>\n",
       "      <td>AA</td>\n",
       "      <td>0.000</td>\n",
       "      <td>11.30</td>\n",
       "      <td>12.00</td>\n",
       "      <td>0.000</td>\n",
       "      <td>0.00</td>\n",
       "      <td>2023</td>\n",
       "      <td>Ashlee Sullivan</td>\n",
       "    </tr>\n",
       "  </tbody>\n",
       "</table>\n",
       "</div>"
      ],
      "text/plain": [
       "         Date                   Competition Round      VT     UB     BB  \\\n",
       "0  2021-02-26                    Winter Cup    AA  14.100  12.35  10.20   \n",
       "1  2022-03-18      DTB Pokal Team Challenge    AA  14.033   0.00  13.60   \n",
       "2  2022-02-24                    Winter Cup    AA  13.900  12.60  13.50   \n",
       "3  2022-02-12                  WOGA Classic    AA  13.350  13.00  13.60   \n",
       "4  2022-01-21  Vegas Cup National Qualifier    AA  13.100  13.30  13.45   \n",
       "5  2023-08-24            U.S. Championships    AA  13.400   9.95  12.85   \n",
       "6  2023-08-24            U.S. Championships    QF  13.200  12.95  12.20   \n",
       "7  2023-04-30           Pan American Trials    AA  13.550  12.55  13.20   \n",
       "8  2023-03-17      DTB Pokal Team Challenge    EF   0.000   0.00  12.40   \n",
       "9  2023-03-17      DTB Pokal Team Challenge    AA  13.100  12.55  13.80   \n",
       "10 2023-02-23                    Winter Cup    AA  13.600  12.60  13.20   \n",
       "11 2023-02-17                  WOGA Classic    AA   0.000  11.30  12.00   \n",
       "\n",
       "        FX     AA  Year             Name  \n",
       "0   12.450  49.10  2021  Ashlee Sullivan  \n",
       "1   13.533   0.00  2022  Ashlee Sullivan  \n",
       "2   12.850  52.85  2022  Ashlee Sullivan  \n",
       "3   13.600  53.55  2022  Ashlee Sullivan  \n",
       "4   12.800  52.65  2022  Ashlee Sullivan  \n",
       "5   13.350  49.55  2023  Ashlee Sullivan  \n",
       "6   13.100  51.45  2023  Ashlee Sullivan  \n",
       "7   13.550  52.85  2023  Ashlee Sullivan  \n",
       "8    0.000   0.00  2023  Ashlee Sullivan  \n",
       "9   12.650  52.10  2023  Ashlee Sullivan  \n",
       "10  13.350  52.75  2023  Ashlee Sullivan  \n",
       "11   0.000   0.00  2023  Ashlee Sullivan  "
      ]
     },
     "execution_count": 15,
     "metadata": {},
     "output_type": "execute_result"
    }
   ],
   "source": [
    "df"
   ]
  },
  {
   "cell_type": "code",
   "execution_count": 16,
   "id": "3e1fc951",
   "metadata": {},
   "outputs": [],
   "source": [
    "# Specify the desired column order\n",
    "desired_order = ['Name', 'Date', 'Competition', 'Round', 'VT', 'UB', 'BB', 'FX', 'AA',\n",
    "       ]\n",
    "\n",
    "# Create a new DataFrame with columns in the desired order\n",
    "df_reordered = df[desired_order]"
   ]
  },
  {
   "cell_type": "code",
   "execution_count": 17,
   "id": "b9ee0a33",
   "metadata": {},
   "outputs": [],
   "source": [
    "# df_reordered.to_csv('sullivan.csv', index=False) "
   ]
  },
  {
   "cell_type": "code",
   "execution_count": null,
   "id": "0376da5c",
   "metadata": {},
   "outputs": [],
   "source": []
  }
 ],
 "metadata": {
  "kernelspec": {
   "display_name": "Python 3 (ipykernel)",
   "language": "python",
   "name": "python3"
  },
  "language_info": {
   "codemirror_mode": {
    "name": "ipython",
    "version": 3
   },
   "file_extension": ".py",
   "mimetype": "text/x-python",
   "name": "python",
   "nbconvert_exporter": "python",
   "pygments_lexer": "ipython3",
   "version": "3.9.12"
  }
 },
 "nbformat": 4,
 "nbformat_minor": 5
}
