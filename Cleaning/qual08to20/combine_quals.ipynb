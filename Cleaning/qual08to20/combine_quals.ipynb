{
 "cells": [
  {
   "cell_type": "code",
   "execution_count": 1,
   "id": "edb9b066",
   "metadata": {},
   "outputs": [],
   "source": [
    "import pandas as pd\n",
    "import numpy as np"
   ]
  },
  {
   "cell_type": "code",
   "execution_count": 2,
   "id": "a2ce686b",
   "metadata": {},
   "outputs": [],
   "source": [
    "o20 = pd.read_csv('../qual2020/clean2020qual_team.csv')"
   ]
  },
  {
   "cell_type": "code",
   "execution_count": 3,
   "id": "4dd72ece",
   "metadata": {},
   "outputs": [],
   "source": [
    "o16 = pd.read_csv('../qual2016/clean2016_team_qual.csv')"
   ]
  },
  {
   "cell_type": "code",
   "execution_count": 4,
   "id": "1dc6d968",
   "metadata": {},
   "outputs": [],
   "source": [
    "o12 = pd.read_csv('../qual2012/clean2012_team_qual.csv')"
   ]
  },
  {
   "cell_type": "code",
   "execution_count": 5,
   "id": "7f32456a",
   "metadata": {},
   "outputs": [],
   "source": [
    "o08 = pd.read_csv('../qual2008/clean2008qual_team.csv')"
   ]
  },
  {
   "cell_type": "code",
   "execution_count": 6,
   "id": "63b09c29",
   "metadata": {},
   "outputs": [
    {
     "data": {
      "text/html": [
       "<div>\n",
       "<style scoped>\n",
       "    .dataframe tbody tr th:only-of-type {\n",
       "        vertical-align: middle;\n",
       "    }\n",
       "\n",
       "    .dataframe tbody tr th {\n",
       "        vertical-align: top;\n",
       "    }\n",
       "\n",
       "    .dataframe thead th {\n",
       "        text-align: right;\n",
       "    }\n",
       "</style>\n",
       "<table border=\"1\" class=\"dataframe\">\n",
       "  <thead>\n",
       "    <tr style=\"text-align: right;\">\n",
       "      <th></th>\n",
       "      <th>Country</th>\n",
       "      <th>Name</th>\n",
       "      <th>vault_score</th>\n",
       "      <th>vault_rank</th>\n",
       "      <th>uneven_score</th>\n",
       "      <th>uneven_rank</th>\n",
       "      <th>bb_score</th>\n",
       "      <th>bb_rank</th>\n",
       "      <th>floor_score</th>\n",
       "      <th>floor_rank</th>\n",
       "      <th>total_score</th>\n",
       "      <th>total_rank</th>\n",
       "      <th>year</th>\n",
       "    </tr>\n",
       "  </thead>\n",
       "  <tbody>\n",
       "    <tr>\n",
       "      <th>0</th>\n",
       "      <td>CHN</td>\n",
       "      <td>Yang Yilin</td>\n",
       "      <td>15.2</td>\n",
       "      <td>12.0</td>\n",
       "      <td>16.65</td>\n",
       "      <td>1.0</td>\n",
       "      <td>15.5</td>\n",
       "      <td>11.0</td>\n",
       "      <td>15.0</td>\n",
       "      <td>10.0</td>\n",
       "      <td>62.35</td>\n",
       "      <td>3.0</td>\n",
       "      <td>2008</td>\n",
       "    </tr>\n",
       "  </tbody>\n",
       "</table>\n",
       "</div>"
      ],
      "text/plain": [
       "  Country        Name  vault_score  vault_rank  uneven_score  uneven_rank  \\\n",
       "0     CHN  Yang Yilin         15.2        12.0         16.65          1.0   \n",
       "\n",
       "   bb_score  bb_rank  floor_score  floor_rank  total_score  total_rank  year  \n",
       "0      15.5     11.0         15.0        10.0        62.35         3.0  2008  "
      ]
     },
     "execution_count": 6,
     "metadata": {},
     "output_type": "execute_result"
    }
   ],
   "source": [
    "o08.head(1)"
   ]
  },
  {
   "cell_type": "code",
   "execution_count": 13,
   "id": "af2a980f",
   "metadata": {},
   "outputs": [
    {
     "data": {
      "text/html": [
       "<div>\n",
       "<style scoped>\n",
       "    .dataframe tbody tr th:only-of-type {\n",
       "        vertical-align: middle;\n",
       "    }\n",
       "\n",
       "    .dataframe tbody tr th {\n",
       "        vertical-align: top;\n",
       "    }\n",
       "\n",
       "    .dataframe thead th {\n",
       "        text-align: right;\n",
       "    }\n",
       "</style>\n",
       "<table border=\"1\" class=\"dataframe\">\n",
       "  <thead>\n",
       "    <tr style=\"text-align: right;\">\n",
       "      <th></th>\n",
       "      <th>Country</th>\n",
       "      <th>Name</th>\n",
       "      <th>vault_score</th>\n",
       "      <th>vault_rank</th>\n",
       "      <th>uneven_score</th>\n",
       "      <th>uneven_rank</th>\n",
       "      <th>bb_score</th>\n",
       "      <th>bb_rank</th>\n",
       "      <th>floor_score</th>\n",
       "      <th>floor_rank</th>\n",
       "      <th>total_score</th>\n",
       "      <th>total_rank</th>\n",
       "    </tr>\n",
       "  </thead>\n",
       "  <tbody>\n",
       "    <tr>\n",
       "      <th>0</th>\n",
       "      <td>USA</td>\n",
       "      <td>Gabby Douglas</td>\n",
       "      <td>15.9</td>\n",
       "      <td>1.0</td>\n",
       "      <td>15.333</td>\n",
       "      <td>6.0</td>\n",
       "      <td>15.266</td>\n",
       "      <td>3.0</td>\n",
       "      <td>13.766</td>\n",
       "      <td>33.0</td>\n",
       "      <td>60.265</td>\n",
       "      <td>3.0</td>\n",
       "    </tr>\n",
       "  </tbody>\n",
       "</table>\n",
       "</div>"
      ],
      "text/plain": [
       "  Country           Name  vault_score  vault_rank  uneven_score  uneven_rank  \\\n",
       "0     USA  Gabby Douglas         15.9         1.0        15.333          6.0   \n",
       "\n",
       "   bb_score  bb_rank  floor_score  floor_rank  total_score  total_rank  \n",
       "0    15.266      3.0       13.766        33.0       60.265         3.0  "
      ]
     },
     "execution_count": 13,
     "metadata": {},
     "output_type": "execute_result"
    }
   ],
   "source": [
    "o12.head(1)"
   ]
  },
  {
   "cell_type": "code",
   "execution_count": 14,
   "id": "4ce9de18",
   "metadata": {},
   "outputs": [
    {
     "data": {
      "text/html": [
       "<div>\n",
       "<style scoped>\n",
       "    .dataframe tbody tr th:only-of-type {\n",
       "        vertical-align: middle;\n",
       "    }\n",
       "\n",
       "    .dataframe tbody tr th {\n",
       "        vertical-align: top;\n",
       "    }\n",
       "\n",
       "    .dataframe thead th {\n",
       "        text-align: right;\n",
       "    }\n",
       "</style>\n",
       "<table border=\"1\" class=\"dataframe\">\n",
       "  <thead>\n",
       "    <tr style=\"text-align: right;\">\n",
       "      <th></th>\n",
       "      <th>Name</th>\n",
       "      <th>Country</th>\n",
       "      <th>uneven_score</th>\n",
       "      <th>uneven_rank</th>\n",
       "      <th>bb_score</th>\n",
       "      <th>bb_rank</th>\n",
       "      <th>floor_score</th>\n",
       "      <th>floor_rank</th>\n",
       "      <th>vault1_score</th>\n",
       "      <th>vault2_score</th>\n",
       "      <th>vault_avg_score</th>\n",
       "      <th>vault_rank</th>\n",
       "      <th>total_score</th>\n",
       "      <th>total_rank</th>\n",
       "    </tr>\n",
       "  </thead>\n",
       "  <tbody>\n",
       "    <tr>\n",
       "      <th>0</th>\n",
       "      <td>Simone Biles</td>\n",
       "      <td>USA</td>\n",
       "      <td>15.0</td>\n",
       "      <td>14.0</td>\n",
       "      <td>15.633</td>\n",
       "      <td>1.0</td>\n",
       "      <td>15.733</td>\n",
       "      <td>1.0</td>\n",
       "      <td>16.0</td>\n",
       "      <td>16.1</td>\n",
       "      <td>16.05</td>\n",
       "      <td>1.0</td>\n",
       "      <td>62.416</td>\n",
       "      <td>1.0</td>\n",
       "    </tr>\n",
       "  </tbody>\n",
       "</table>\n",
       "</div>"
      ],
      "text/plain": [
       "           Name Country  uneven_score  uneven_rank  bb_score  bb_rank  \\\n",
       "0  Simone Biles     USA          15.0         14.0    15.633      1.0   \n",
       "\n",
       "   floor_score  floor_rank  vault1_score  vault2_score  vault_avg_score  \\\n",
       "0       15.733         1.0          16.0          16.1            16.05   \n",
       "\n",
       "   vault_rank  total_score  total_rank  \n",
       "0         1.0       62.416         1.0  "
      ]
     },
     "execution_count": 14,
     "metadata": {},
     "output_type": "execute_result"
    }
   ],
   "source": [
    "o16.head(1)"
   ]
  },
  {
   "cell_type": "code",
   "execution_count": 15,
   "id": "36b2e93f",
   "metadata": {},
   "outputs": [
    {
     "data": {
      "text/html": [
       "<div>\n",
       "<style scoped>\n",
       "    .dataframe tbody tr th:only-of-type {\n",
       "        vertical-align: middle;\n",
       "    }\n",
       "\n",
       "    .dataframe tbody tr th {\n",
       "        vertical-align: top;\n",
       "    }\n",
       "\n",
       "    .dataframe thead th {\n",
       "        text-align: right;\n",
       "    }\n",
       "</style>\n",
       "<table border=\"1\" class=\"dataframe\">\n",
       "  <thead>\n",
       "    <tr style=\"text-align: right;\">\n",
       "      <th></th>\n",
       "      <th>Name</th>\n",
       "      <th>Country</th>\n",
       "      <th>uneven_score</th>\n",
       "      <th>uneven_rank</th>\n",
       "      <th>bb_score</th>\n",
       "      <th>bb_rank</th>\n",
       "      <th>floor_score</th>\n",
       "      <th>floor_rank</th>\n",
       "      <th>vault1_score</th>\n",
       "      <th>vault2_score</th>\n",
       "      <th>vault_avg_score</th>\n",
       "      <th>vault_rank</th>\n",
       "      <th>total_score</th>\n",
       "      <th>total_rank</th>\n",
       "    </tr>\n",
       "  </thead>\n",
       "  <tbody>\n",
       "    <tr>\n",
       "      <th>0</th>\n",
       "      <td>Lilia Akhaimova</td>\n",
       "      <td>ROC</td>\n",
       "      <td>12.9</td>\n",
       "      <td>49.0</td>\n",
       "      <td>12.266</td>\n",
       "      <td>59.0</td>\n",
       "      <td>13.633</td>\n",
       "      <td>11.0</td>\n",
       "      <td>14.766</td>\n",
       "      <td>14.633</td>\n",
       "      <td>14.699</td>\n",
       "      <td>7</td>\n",
       "      <td>53.565</td>\n",
       "      <td>28</td>\n",
       "    </tr>\n",
       "  </tbody>\n",
       "</table>\n",
       "</div>"
      ],
      "text/plain": [
       "              Name Country  uneven_score  uneven_rank  bb_score  bb_rank  \\\n",
       "0  Lilia Akhaimova     ROC          12.9         49.0    12.266     59.0   \n",
       "\n",
       "   floor_score  floor_rank  vault1_score  vault2_score  vault_avg_score  \\\n",
       "0       13.633        11.0        14.766        14.633           14.699   \n",
       "\n",
       "   vault_rank  total_score  total_rank  \n",
       "0           7       53.565          28  "
      ]
     },
     "execution_count": 15,
     "metadata": {},
     "output_type": "execute_result"
    }
   ],
   "source": [
    "o20.head(1)"
   ]
  },
  {
   "cell_type": "code",
   "execution_count": 17,
   "id": "84e4e90d",
   "metadata": {},
   "outputs": [
    {
     "name": "stdout",
     "output_type": "stream",
     "text": [
      "<class 'pandas.core.frame.DataFrame'>\n",
      "RangeIndex: 73 entries, 0 to 72\n",
      "Data columns (total 12 columns):\n",
      " #   Column        Non-Null Count  Dtype  \n",
      "---  ------        --------------  -----  \n",
      " 0   Country       73 non-null     object \n",
      " 1   Name          73 non-null     object \n",
      " 2   vault_score   73 non-null     float64\n",
      " 3   vault_rank    73 non-null     float64\n",
      " 4   uneven_score  73 non-null     float64\n",
      " 5   uneven_rank   73 non-null     float64\n",
      " 6   bb_score      73 non-null     float64\n",
      " 7   bb_rank       73 non-null     float64\n",
      " 8   floor_score   73 non-null     float64\n",
      " 9   floor_rank    73 non-null     float64\n",
      " 10  total_score   73 non-null     float64\n",
      " 11  total_rank    73 non-null     float64\n",
      "dtypes: float64(10), object(2)\n",
      "memory usage: 7.0+ KB\n"
     ]
    }
   ],
   "source": [
    "o08.info()"
   ]
  },
  {
   "cell_type": "code",
   "execution_count": 18,
   "id": "02332951",
   "metadata": {},
   "outputs": [
    {
     "name": "stdout",
     "output_type": "stream",
     "text": [
      "<class 'pandas.core.frame.DataFrame'>\n",
      "RangeIndex: 60 entries, 0 to 59\n",
      "Data columns (total 12 columns):\n",
      " #   Column        Non-Null Count  Dtype  \n",
      "---  ------        --------------  -----  \n",
      " 0   Country       60 non-null     object \n",
      " 1   Name          60 non-null     object \n",
      " 2   vault_score   60 non-null     float64\n",
      " 3   vault_rank    60 non-null     float64\n",
      " 4   uneven_score  60 non-null     float64\n",
      " 5   uneven_rank   60 non-null     float64\n",
      " 6   bb_score      60 non-null     float64\n",
      " 7   bb_rank       60 non-null     float64\n",
      " 8   floor_score   60 non-null     float64\n",
      " 9   floor_rank    60 non-null     float64\n",
      " 10  total_score   60 non-null     float64\n",
      " 11  total_rank    60 non-null     float64\n",
      "dtypes: float64(10), object(2)\n",
      "memory usage: 5.8+ KB\n"
     ]
    }
   ],
   "source": [
    "o12.info()"
   ]
  },
  {
   "cell_type": "code",
   "execution_count": 20,
   "id": "176774e0",
   "metadata": {},
   "outputs": [],
   "source": [
    "o08to12 = pd.concat([o08, o12], axis=0)"
   ]
  },
  {
   "cell_type": "code",
   "execution_count": 21,
   "id": "0076448e",
   "metadata": {},
   "outputs": [
    {
     "name": "stdout",
     "output_type": "stream",
     "text": [
      "<class 'pandas.core.frame.DataFrame'>\n",
      "Index: 133 entries, 0 to 59\n",
      "Data columns (total 12 columns):\n",
      " #   Column        Non-Null Count  Dtype  \n",
      "---  ------        --------------  -----  \n",
      " 0   Country       133 non-null    object \n",
      " 1   Name          133 non-null    object \n",
      " 2   vault_score   133 non-null    float64\n",
      " 3   vault_rank    133 non-null    float64\n",
      " 4   uneven_score  133 non-null    float64\n",
      " 5   uneven_rank   133 non-null    float64\n",
      " 6   bb_score      133 non-null    float64\n",
      " 7   bb_rank       133 non-null    float64\n",
      " 8   floor_score   133 non-null    float64\n",
      " 9   floor_rank    133 non-null    float64\n",
      " 10  total_score   133 non-null    float64\n",
      " 11  total_rank    133 non-null    float64\n",
      "dtypes: float64(10), object(2)\n",
      "memory usage: 13.5+ KB\n"
     ]
    }
   ],
   "source": [
    "o08to12.info()"
   ]
  },
  {
   "cell_type": "code",
   "execution_count": 25,
   "id": "77b8b6d1",
   "metadata": {},
   "outputs": [],
   "source": [
    "o16to20 = pd.concat([o16, o20], axis=0)"
   ]
  },
  {
   "cell_type": "code",
   "execution_count": 27,
   "id": "6d2e1303",
   "metadata": {},
   "outputs": [
    {
     "name": "stdout",
     "output_type": "stream",
     "text": [
      "<class 'pandas.core.frame.DataFrame'>\n",
      "Index: 108 entries, 0 to 47\n",
      "Data columns (total 14 columns):\n",
      " #   Column           Non-Null Count  Dtype  \n",
      "---  ------           --------------  -----  \n",
      " 0   Name             108 non-null    object \n",
      " 1   Country          108 non-null    object \n",
      " 2   uneven_score     108 non-null    float64\n",
      " 3   uneven_rank      108 non-null    float64\n",
      " 4   bb_score         108 non-null    float64\n",
      " 5   bb_rank          108 non-null    float64\n",
      " 6   floor_score      108 non-null    float64\n",
      " 7   floor_rank       108 non-null    float64\n",
      " 8   vault1_score     108 non-null    float64\n",
      " 9   vault2_score     108 non-null    float64\n",
      " 10  vault_avg_score  108 non-null    float64\n",
      " 11  vault_rank       108 non-null    float64\n",
      " 12  total_score      108 non-null    float64\n",
      " 13  total_rank       108 non-null    float64\n",
      "dtypes: float64(12), object(2)\n",
      "memory usage: 12.7+ KB\n"
     ]
    }
   ],
   "source": [
    "o16to20.info()"
   ]
  },
  {
   "cell_type": "code",
   "execution_count": 28,
   "id": "94c6dca1",
   "metadata": {},
   "outputs": [],
   "source": [
    "# o16to20.to_csv('clean16to20_team_qual.csv', index=False)  # Set index=False to exclude index column\n"
   ]
  },
  {
   "cell_type": "code",
   "execution_count": 29,
   "id": "6a10d418",
   "metadata": {},
   "outputs": [],
   "source": [
    "# o08to12.to_csv('clean08to12_team_qual.csv', index=False)  # Set index=False to exclude index column\n"
   ]
  },
  {
   "cell_type": "code",
   "execution_count": null,
   "id": "e09156c3",
   "metadata": {},
   "outputs": [],
   "source": []
  }
 ],
 "metadata": {
  "kernelspec": {
   "display_name": "Python 3 (ipykernel)",
   "language": "python",
   "name": "python3"
  },
  "language_info": {
   "codemirror_mode": {
    "name": "ipython",
    "version": 3
   },
   "file_extension": ".py",
   "mimetype": "text/x-python",
   "name": "python",
   "nbconvert_exporter": "python",
   "pygments_lexer": "ipython3",
   "version": "3.9.12"
  }
 },
 "nbformat": 4,
 "nbformat_minor": 5
}
