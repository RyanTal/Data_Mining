{
 "cells": [
  {
   "cell_type": "code",
   "execution_count": 20,
   "id": "6d3e166c",
   "metadata": {},
   "outputs": [],
   "source": [
    "import pandas as pd\n",
    "import numpy as np"
   ]
  },
  {
   "cell_type": "code",
   "execution_count": 21,
   "id": "4669ec35",
   "metadata": {},
   "outputs": [],
   "source": [
    "df = pd.read_csv('../../scraping/olympics/womens2020olympics/Gymnastics_ 2020_Olympics_women\\'s_artistic_team_all-around.csv')\n"
   ]
  },
  {
   "cell_type": "code",
   "execution_count": 22,
   "id": "58db2dab",
   "metadata": {},
   "outputs": [
    {
     "data": {
      "text/html": [
       "<div>\n",
       "<style scoped>\n",
       "    .dataframe tbody tr th:only-of-type {\n",
       "        vertical-align: middle;\n",
       "    }\n",
       "\n",
       "    .dataframe tbody tr th {\n",
       "        vertical-align: top;\n",
       "    }\n",
       "\n",
       "    .dataframe thead th {\n",
       "        text-align: right;\n",
       "    }\n",
       "</style>\n",
       "<table border=\"1\" class=\"dataframe\">\n",
       "  <thead>\n",
       "    <tr style=\"text-align: right;\">\n",
       "      <th></th>\n",
       "      <th>Rank</th>\n",
       "      <th>Team</th>\n",
       "      <th>vt</th>\n",
       "      <th>ub</th>\n",
       "      <th>bb</th>\n",
       "      <th>fx</th>\n",
       "      <th>Total</th>\n",
       "    </tr>\n",
       "  </thead>\n",
       "  <tbody>\n",
       "    <tr>\n",
       "      <th>0</th>\n",
       "      <td>1.0</td>\n",
       "      <td>ROC</td>\n",
       "      <td>43.799 (1)</td>\n",
       "      <td>44.699 (1)</td>\n",
       "      <td>39.532 (4)</td>\n",
       "      <td>41.498 (1)</td>\n",
       "      <td>169.528</td>\n",
       "    </tr>\n",
       "    <tr>\n",
       "      <th>1</th>\n",
       "      <td>NaN</td>\n",
       "      <td>Lilia Akhaimova(ROC)</td>\n",
       "      <td>14.733</td>\n",
       "      <td>NaN</td>\n",
       "      <td>NaN</td>\n",
       "      <td>NaN</td>\n",
       "      <td>NaN</td>\n",
       "    </tr>\n",
       "    <tr>\n",
       "      <th>2</th>\n",
       "      <td>NaN</td>\n",
       "      <td>Viktoria Listunova(ROC)</td>\n",
       "      <td>NaN</td>\n",
       "      <td>14.9</td>\n",
       "      <td>14.333</td>\n",
       "      <td>14.166</td>\n",
       "      <td>NaN</td>\n",
       "    </tr>\n",
       "    <tr>\n",
       "      <th>3</th>\n",
       "      <td>NaN</td>\n",
       "      <td>Angelina Melnikova(ROC)</td>\n",
       "      <td>14.6</td>\n",
       "      <td>14.933</td>\n",
       "      <td>12.566</td>\n",
       "      <td>13.966</td>\n",
       "      <td>NaN</td>\n",
       "    </tr>\n",
       "    <tr>\n",
       "      <th>4</th>\n",
       "      <td>NaN</td>\n",
       "      <td>Vladislava Urazova(ROC)</td>\n",
       "      <td>14.466</td>\n",
       "      <td>14.866</td>\n",
       "      <td>12.633</td>\n",
       "      <td>13.366</td>\n",
       "      <td>NaN</td>\n",
       "    </tr>\n",
       "  </tbody>\n",
       "</table>\n",
       "</div>"
      ],
      "text/plain": [
       "   Rank                     Team          vt          ub          bb  \\\n",
       "0   1.0                      ROC  43.799 (1)  44.699 (1)  39.532 (4)   \n",
       "1   NaN     Lilia Akhaimova(ROC)      14.733         NaN         NaN   \n",
       "2   NaN  Viktoria Listunova(ROC)         NaN        14.9      14.333   \n",
       "3   NaN  Angelina Melnikova(ROC)        14.6      14.933      12.566   \n",
       "4   NaN  Vladislava Urazova(ROC)      14.466      14.866      12.633   \n",
       "\n",
       "           fx    Total  \n",
       "0  41.498 (1)  169.528  \n",
       "1         NaN      NaN  \n",
       "2      14.166      NaN  \n",
       "3      13.966      NaN  \n",
       "4      13.366      NaN  "
      ]
     },
     "execution_count": 22,
     "metadata": {},
     "output_type": "execute_result"
    }
   ],
   "source": [
    "df.head()\n"
   ]
  },
  {
   "cell_type": "code",
   "execution_count": 31,
   "id": "ff2d2955",
   "metadata": {},
   "outputs": [],
   "source": [
    "new_df = df.iloc[::6]\n",
    "\n",
    "# Reset index in the new DataFrame\n",
    "new_df.reset_index(drop=True, inplace=True)"
   ]
  },
  {
   "cell_type": "code",
   "execution_count": null,
   "id": "146df84f",
   "metadata": {},
   "outputs": [],
   "source": []
  }
 ],
 "metadata": {
  "kernelspec": {
   "display_name": "Python 3 (ipykernel)",
   "language": "python",
   "name": "python3"
  },
  "language_info": {
   "codemirror_mode": {
    "name": "ipython",
    "version": 3
   },
   "file_extension": ".py",
   "mimetype": "text/x-python",
   "name": "python",
   "nbconvert_exporter": "python",
   "pygments_lexer": "ipython3",
   "version": "3.9.12"
  }
 },
 "nbformat": 4,
 "nbformat_minor": 5
}
