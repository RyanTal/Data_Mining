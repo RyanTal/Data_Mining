{
 "cells": [
  {
   "cell_type": "code",
   "execution_count": 1,
   "id": "c32c5b02",
   "metadata": {},
   "outputs": [],
   "source": [
    "import pandas as pd\n",
    "import numpy as np"
   ]
  },
  {
   "cell_type": "code",
   "execution_count": 4,
   "id": "76ac8a7f",
   "metadata": {},
   "outputs": [],
   "source": [
    "iaa = pd.read_csv('../../../scraping/women/wc11w/wc11w_iaa.csv')\n",
    "vt = pd.read_csv('../../../scraping/women/wc11w/wc11w_vt.csv')\n",
    "fx = pd.read_csv('../../../scraping/women/wc11w/wc11w_fx.csv')\n",
    "ub = pd.read_csv('../../../scraping/women/wc11w/wc11w_ub.csv')\n",
    "bb = pd.read_csv('../../../scraping/women/wc11w/wc11w_bb.csv')"
   ]
  },
  {
   "cell_type": "code",
   "execution_count": 3,
   "id": "809cf648",
   "metadata": {},
   "outputs": [],
   "source": [
    "fx = fx.fillna(0)\n",
    "vt = vt.fillna(0)\n",
    "ub = ub.fillna(0)\n",
    "bb = bb.fillna(0)"
   ]
  },
  {
   "cell_type": "code",
   "execution_count": 4,
   "id": "4eee78de",
   "metadata": {},
   "outputs": [],
   "source": [
    "fx[\"year\"]=2011\n",
    "vt[\"year\"]=2011\n",
    "ub[\"year\"]=2011\n",
    "bb[\"year\"]=2011\n",
    "iaa[\"year\"]=2011"
   ]
  },
  {
   "cell_type": "code",
   "execution_count": 5,
   "id": "607284c6",
   "metadata": {},
   "outputs": [
    {
     "name": "stdout",
     "output_type": "stream",
     "text": [
      "<class 'pandas.core.frame.DataFrame'>\n",
      "RangeIndex: 8 entries, 0 to 7\n",
      "Data columns (total 8 columns):\n",
      " #   Column    Non-Null Count  Dtype  \n",
      "---  ------    --------------  -----  \n",
      " 0   Position  8 non-null      int64  \n",
      " 1   Gymnast   8 non-null      object \n",
      " 2   D Score   8 non-null      float64\n",
      " 3   E Score   8 non-null      float64\n",
      " 4   Pen.      8 non-null      float64\n",
      " 5   Qual Rk   8 non-null      int64  \n",
      " 6   Total     8 non-null      float64\n",
      " 7   year      8 non-null      int64  \n",
      "dtypes: float64(4), int64(3), object(1)\n",
      "memory usage: 640.0+ bytes\n"
     ]
    }
   ],
   "source": [
    "fx.info()"
   ]
  },
  {
   "cell_type": "code",
   "execution_count": 6,
   "id": "192efbc3",
   "metadata": {},
   "outputs": [
    {
     "name": "stdout",
     "output_type": "stream",
     "text": [
      "<class 'pandas.core.frame.DataFrame'>\n",
      "RangeIndex: 8 entries, 0 to 7\n",
      "Data columns (total 14 columns):\n",
      " #   Column    Non-Null Count  Dtype  \n",
      "---  ------    --------------  -----  \n",
      " 0   Position  8 non-null      int64  \n",
      " 1   Gymnast   8 non-null      object \n",
      " 2   D Score1  8 non-null      float64\n",
      " 3   E Score1  8 non-null      float64\n",
      " 4   Pen.1     8 non-null      float64\n",
      " 5   Score 1   8 non-null      float64\n",
      " 6   Rk1       8 non-null      int64  \n",
      " 7   D Score2  8 non-null      object \n",
      " 8   E Score2  8 non-null      float64\n",
      " 9   Pen.2     8 non-null      float64\n",
      " 10  Score 2   8 non-null      float64\n",
      " 11  Rk2       8 non-null      int64  \n",
      " 12  Total     8 non-null      float64\n",
      " 13  year      8 non-null      int64  \n",
      "dtypes: float64(8), int64(4), object(2)\n",
      "memory usage: 1.0+ KB\n"
     ]
    }
   ],
   "source": [
    "vt.info()"
   ]
  },
  {
   "cell_type": "code",
   "execution_count": 7,
   "id": "2eeed1f0",
   "metadata": {},
   "outputs": [
    {
     "name": "stdout",
     "output_type": "stream",
     "text": [
      "<class 'pandas.core.frame.DataFrame'>\n",
      "RangeIndex: 8 entries, 0 to 7\n",
      "Data columns (total 8 columns):\n",
      " #   Column    Non-Null Count  Dtype  \n",
      "---  ------    --------------  -----  \n",
      " 0   Position  8 non-null      int64  \n",
      " 1   Gymnast   8 non-null      object \n",
      " 2   D Score   8 non-null      float64\n",
      " 3   E Score   8 non-null      float64\n",
      " 4   Pen.      8 non-null      float64\n",
      " 5   Qual Rk   8 non-null      int64  \n",
      " 6   Total     8 non-null      float64\n",
      " 7   year      8 non-null      int64  \n",
      "dtypes: float64(4), int64(3), object(1)\n",
      "memory usage: 640.0+ bytes\n"
     ]
    }
   ],
   "source": [
    "ub.info()"
   ]
  },
  {
   "cell_type": "code",
   "execution_count": 8,
   "id": "2d42c294",
   "metadata": {},
   "outputs": [
    {
     "name": "stdout",
     "output_type": "stream",
     "text": [
      "<class 'pandas.core.frame.DataFrame'>\n",
      "RangeIndex: 8 entries, 0 to 7\n",
      "Data columns (total 8 columns):\n",
      " #   Column    Non-Null Count  Dtype  \n",
      "---  ------    --------------  -----  \n",
      " 0   Position  8 non-null      int64  \n",
      " 1   Gymnast   8 non-null      object \n",
      " 2   D Score   8 non-null      float64\n",
      " 3   E Score   8 non-null      float64\n",
      " 4   Pen.      8 non-null      float64\n",
      " 5   Qual Rk   8 non-null      int64  \n",
      " 6   Total     8 non-null      float64\n",
      " 7   year      8 non-null      int64  \n",
      "dtypes: float64(4), int64(3), object(1)\n",
      "memory usage: 640.0+ bytes\n"
     ]
    }
   ],
   "source": [
    "bb.info()"
   ]
  },
  {
   "cell_type": "code",
   "execution_count": 9,
   "id": "e43da274",
   "metadata": {},
   "outputs": [
    {
     "name": "stdout",
     "output_type": "stream",
     "text": [
      "<class 'pandas.core.frame.DataFrame'>\n",
      "RangeIndex: 24 entries, 0 to 23\n",
      "Data columns (total 8 columns):\n",
      " #   Column   Non-Null Count  Dtype  \n",
      "---  ------   --------------  -----  \n",
      " 0   Rank     24 non-null     int64  \n",
      " 1   Gymnast  24 non-null     object \n",
      " 2   vt       24 non-null     float64\n",
      " 3   ub       24 non-null     float64\n",
      " 4   bb       24 non-null     float64\n",
      " 5   fx       24 non-null     float64\n",
      " 6   Total    24 non-null     float64\n",
      " 7   year     24 non-null     int64  \n",
      "dtypes: float64(5), int64(2), object(1)\n",
      "memory usage: 1.6+ KB\n"
     ]
    }
   ],
   "source": [
    "iaa.info()"
   ]
  },
  {
   "cell_type": "code",
   "execution_count": null,
   "id": "51572c19",
   "metadata": {},
   "outputs": [],
   "source": [
    "fx\n",
    "vt \n",
    "ub \n",
    "bb \n",
    "iaa"
   ]
  },
  {
   "cell_type": "code",
   "execution_count": 11,
   "id": "8cdda8cb",
   "metadata": {},
   "outputs": [],
   "source": [
    "# fx.to_csv('wc11fx.csv', index=False)\n",
    "# vt.to_csv('wc11vt.csv', index=False)\n",
    "# ub.to_csv('wc11ub.csv', index=False)\n",
    "# bb.to_csv('wc11bb.csv', index=False)\n",
    "# iaa.to_csv('wc11iaa.csv', index=False)"
   ]
  },
  {
   "cell_type": "code",
   "execution_count": null,
   "id": "15dbc61b",
   "metadata": {},
   "outputs": [],
   "source": []
  }
 ],
 "metadata": {
  "kernelspec": {
   "display_name": "Python 3 (ipykernel)",
   "language": "python",
   "name": "python3"
  },
  "language_info": {
   "codemirror_mode": {
    "name": "ipython",
    "version": 3
   },
   "file_extension": ".py",
   "mimetype": "text/x-python",
   "name": "python",
   "nbconvert_exporter": "python",
   "pygments_lexer": "ipython3",
   "version": "3.9.12"
  }
 },
 "nbformat": 4,
 "nbformat_minor": 5
}
