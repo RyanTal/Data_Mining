{
 "cells": [
  {
   "cell_type": "code",
   "execution_count": 1,
   "id": "b088e6ff",
   "metadata": {},
   "outputs": [],
   "source": [
    "import pandas as pd\n",
    "import numpy as np"
   ]
  },
  {
   "cell_type": "code",
   "execution_count": 2,
   "id": "156de510",
   "metadata": {},
   "outputs": [],
   "source": [
    "wc11 = pd.read_csv('wc11iaa.csv')\n",
    "wc13 = pd.read_csv('wc13iaa.csv')\n",
    "wc14 = pd.read_csv('wc14iaa.csv')\n",
    "wc15 = pd.read_csv('wc15iaa.csv')\n",
    "wc17 = pd.read_csv('wc17iaa.csv')\n",
    "wc18 = pd.read_csv('wc18iaa.csv')\n",
    "wc19 = pd.read_csv('wc19iaa.csv')"
   ]
  },
  {
   "cell_type": "code",
   "execution_count": 3,
   "id": "c262ec5e",
   "metadata": {},
   "outputs": [
    {
     "data": {
      "text/html": [
       "<div>\n",
       "<style scoped>\n",
       "    .dataframe tbody tr th:only-of-type {\n",
       "        vertical-align: middle;\n",
       "    }\n",
       "\n",
       "    .dataframe tbody tr th {\n",
       "        vertical-align: top;\n",
       "    }\n",
       "\n",
       "    .dataframe thead th {\n",
       "        text-align: right;\n",
       "    }\n",
       "</style>\n",
       "<table border=\"1\" class=\"dataframe\">\n",
       "  <thead>\n",
       "    <tr style=\"text-align: right;\">\n",
       "      <th></th>\n",
       "      <th>Rank</th>\n",
       "      <th>Gymnast</th>\n",
       "      <th>vt</th>\n",
       "      <th>ub</th>\n",
       "      <th>bb</th>\n",
       "      <th>fx</th>\n",
       "      <th>Total</th>\n",
       "      <th>year</th>\n",
       "    </tr>\n",
       "  </thead>\n",
       "  <tbody>\n",
       "    <tr>\n",
       "      <th>0</th>\n",
       "      <td>1</td>\n",
       "      <td>Jordyn Wieber(USA)</td>\n",
       "      <td>15.716</td>\n",
       "      <td>13.6</td>\n",
       "      <td>15.266</td>\n",
       "      <td>14.8</td>\n",
       "      <td>59.382</td>\n",
       "      <td>2011</td>\n",
       "    </tr>\n",
       "  </tbody>\n",
       "</table>\n",
       "</div>"
      ],
      "text/plain": [
       "   Rank             Gymnast      vt    ub      bb    fx   Total  year\n",
       "0     1  Jordyn Wieber(USA)  15.716  13.6  15.266  14.8  59.382  2011"
      ]
     },
     "execution_count": 3,
     "metadata": {},
     "output_type": "execute_result"
    }
   ],
   "source": [
    "wc11.head(1)"
   ]
  },
  {
   "cell_type": "code",
   "execution_count": 4,
   "id": "8d9a4a71",
   "metadata": {},
   "outputs": [
    {
     "data": {
      "text/html": [
       "<div>\n",
       "<style scoped>\n",
       "    .dataframe tbody tr th:only-of-type {\n",
       "        vertical-align: middle;\n",
       "    }\n",
       "\n",
       "    .dataframe tbody tr th {\n",
       "        vertical-align: top;\n",
       "    }\n",
       "\n",
       "    .dataframe thead th {\n",
       "        text-align: right;\n",
       "    }\n",
       "</style>\n",
       "<table border=\"1\" class=\"dataframe\">\n",
       "  <thead>\n",
       "    <tr style=\"text-align: right;\">\n",
       "      <th></th>\n",
       "      <th>Rank</th>\n",
       "      <th>Gymnast</th>\n",
       "      <th>vt</th>\n",
       "      <th>ub</th>\n",
       "      <th>bb</th>\n",
       "      <th>fx</th>\n",
       "      <th>Total</th>\n",
       "      <th>year</th>\n",
       "    </tr>\n",
       "  </thead>\n",
       "  <tbody>\n",
       "    <tr>\n",
       "      <th>0</th>\n",
       "      <td>1</td>\n",
       "      <td>Simone Biles(USA)</td>\n",
       "      <td>15.85</td>\n",
       "      <td>14.7</td>\n",
       "      <td>14.433</td>\n",
       "      <td>15.233</td>\n",
       "      <td>60.216</td>\n",
       "      <td>2013</td>\n",
       "    </tr>\n",
       "  </tbody>\n",
       "</table>\n",
       "</div>"
      ],
      "text/plain": [
       "   Rank            Gymnast     vt    ub      bb      fx   Total  year\n",
       "0     1  Simone Biles(USA)  15.85  14.7  14.433  15.233  60.216  2013"
      ]
     },
     "execution_count": 4,
     "metadata": {},
     "output_type": "execute_result"
    }
   ],
   "source": [
    "wc13.head(1)"
   ]
  },
  {
   "cell_type": "code",
   "execution_count": 5,
   "id": "3e83af62",
   "metadata": {},
   "outputs": [
    {
     "data": {
      "text/html": [
       "<div>\n",
       "<style scoped>\n",
       "    .dataframe tbody tr th:only-of-type {\n",
       "        vertical-align: middle;\n",
       "    }\n",
       "\n",
       "    .dataframe tbody tr th {\n",
       "        vertical-align: top;\n",
       "    }\n",
       "\n",
       "    .dataframe thead th {\n",
       "        text-align: right;\n",
       "    }\n",
       "</style>\n",
       "<table border=\"1\" class=\"dataframe\">\n",
       "  <thead>\n",
       "    <tr style=\"text-align: right;\">\n",
       "      <th></th>\n",
       "      <th>Rank</th>\n",
       "      <th>Gymnast</th>\n",
       "      <th>vt</th>\n",
       "      <th>ub</th>\n",
       "      <th>bb</th>\n",
       "      <th>fx</th>\n",
       "      <th>Total</th>\n",
       "      <th>year</th>\n",
       "    </tr>\n",
       "  </thead>\n",
       "  <tbody>\n",
       "    <tr>\n",
       "      <th>0</th>\n",
       "      <td>1</td>\n",
       "      <td>Simone Biles(USA)</td>\n",
       "      <td>15.866</td>\n",
       "      <td>14.533</td>\n",
       "      <td>14.766</td>\n",
       "      <td>15.066</td>\n",
       "      <td>60.231</td>\n",
       "      <td>2014</td>\n",
       "    </tr>\n",
       "  </tbody>\n",
       "</table>\n",
       "</div>"
      ],
      "text/plain": [
       "   Rank            Gymnast      vt      ub      bb      fx   Total  year\n",
       "0     1  Simone Biles(USA)  15.866  14.533  14.766  15.066  60.231  2014"
      ]
     },
     "execution_count": 5,
     "metadata": {},
     "output_type": "execute_result"
    }
   ],
   "source": [
    "wc14.head(1)"
   ]
  },
  {
   "cell_type": "code",
   "execution_count": 6,
   "id": "3d66b21f",
   "metadata": {},
   "outputs": [
    {
     "data": {
      "text/html": [
       "<div>\n",
       "<style scoped>\n",
       "    .dataframe tbody tr th:only-of-type {\n",
       "        vertical-align: middle;\n",
       "    }\n",
       "\n",
       "    .dataframe tbody tr th {\n",
       "        vertical-align: top;\n",
       "    }\n",
       "\n",
       "    .dataframe thead th {\n",
       "        text-align: right;\n",
       "    }\n",
       "</style>\n",
       "<table border=\"1\" class=\"dataframe\">\n",
       "  <thead>\n",
       "    <tr style=\"text-align: right;\">\n",
       "      <th></th>\n",
       "      <th>Rank</th>\n",
       "      <th>Gymnast</th>\n",
       "      <th>vt</th>\n",
       "      <th>ub</th>\n",
       "      <th>bb</th>\n",
       "      <th>fx</th>\n",
       "      <th>Total</th>\n",
       "      <th>year</th>\n",
       "    </tr>\n",
       "  </thead>\n",
       "  <tbody>\n",
       "    <tr>\n",
       "      <th>0</th>\n",
       "      <td>1</td>\n",
       "      <td>Simone Biles(USA)</td>\n",
       "      <td>15.833</td>\n",
       "      <td>14.9</td>\n",
       "      <td>14.4</td>\n",
       "      <td>15.266</td>\n",
       "      <td>60.399</td>\n",
       "      <td>2015</td>\n",
       "    </tr>\n",
       "  </tbody>\n",
       "</table>\n",
       "</div>"
      ],
      "text/plain": [
       "   Rank            Gymnast      vt    ub    bb      fx   Total  year\n",
       "0     1  Simone Biles(USA)  15.833  14.9  14.4  15.266  60.399  2015"
      ]
     },
     "execution_count": 6,
     "metadata": {},
     "output_type": "execute_result"
    }
   ],
   "source": [
    "wc15.head(1)"
   ]
  },
  {
   "cell_type": "code",
   "execution_count": 7,
   "id": "c0c3e015",
   "metadata": {},
   "outputs": [
    {
     "data": {
      "text/html": [
       "<div>\n",
       "<style scoped>\n",
       "    .dataframe tbody tr th:only-of-type {\n",
       "        vertical-align: middle;\n",
       "    }\n",
       "\n",
       "    .dataframe tbody tr th {\n",
       "        vertical-align: top;\n",
       "    }\n",
       "\n",
       "    .dataframe thead th {\n",
       "        text-align: right;\n",
       "    }\n",
       "</style>\n",
       "<table border=\"1\" class=\"dataframe\">\n",
       "  <thead>\n",
       "    <tr style=\"text-align: right;\">\n",
       "      <th></th>\n",
       "      <th>Position</th>\n",
       "      <th>Gymnast</th>\n",
       "      <th>vt</th>\n",
       "      <th>ub</th>\n",
       "      <th>bb</th>\n",
       "      <th>fx</th>\n",
       "      <th>Total</th>\n",
       "      <th>year</th>\n",
       "    </tr>\n",
       "  </thead>\n",
       "  <tbody>\n",
       "    <tr>\n",
       "      <th>0</th>\n",
       "      <td>1</td>\n",
       "      <td>Morgan Hurd</td>\n",
       "      <td>14.533</td>\n",
       "      <td>14.3</td>\n",
       "      <td>12.666</td>\n",
       "      <td>13.733</td>\n",
       "      <td>55.232</td>\n",
       "      <td>2017</td>\n",
       "    </tr>\n",
       "  </tbody>\n",
       "</table>\n",
       "</div>"
      ],
      "text/plain": [
       "   Position      Gymnast      vt    ub      bb      fx   Total  year\n",
       "0         1  Morgan Hurd  14.533  14.3  12.666  13.733  55.232  2017"
      ]
     },
     "execution_count": 7,
     "metadata": {},
     "output_type": "execute_result"
    }
   ],
   "source": [
    "wc17.head(1)"
   ]
  },
  {
   "cell_type": "code",
   "execution_count": 8,
   "id": "74720504",
   "metadata": {},
   "outputs": [],
   "source": [
    "wc17.rename(columns={'Position': 'Rank'}, inplace=True)"
   ]
  },
  {
   "cell_type": "code",
   "execution_count": 15,
   "id": "d618aaf6",
   "metadata": {},
   "outputs": [
    {
     "data": {
      "text/html": [
       "<div>\n",
       "<style scoped>\n",
       "    .dataframe tbody tr th:only-of-type {\n",
       "        vertical-align: middle;\n",
       "    }\n",
       "\n",
       "    .dataframe tbody tr th {\n",
       "        vertical-align: top;\n",
       "    }\n",
       "\n",
       "    .dataframe thead th {\n",
       "        text-align: right;\n",
       "    }\n",
       "</style>\n",
       "<table border=\"1\" class=\"dataframe\">\n",
       "  <thead>\n",
       "    <tr style=\"text-align: right;\">\n",
       "      <th></th>\n",
       "      <th>Rank</th>\n",
       "      <th>Gymnast</th>\n",
       "      <th>vt</th>\n",
       "      <th>ub</th>\n",
       "      <th>bb</th>\n",
       "      <th>fx</th>\n",
       "      <th>Total</th>\n",
       "      <th>year</th>\n",
       "    </tr>\n",
       "  </thead>\n",
       "  <tbody>\n",
       "    <tr>\n",
       "      <th>0</th>\n",
       "      <td>1</td>\n",
       "      <td>Morgan Hurd</td>\n",
       "      <td>14.533</td>\n",
       "      <td>14.3</td>\n",
       "      <td>12.666</td>\n",
       "      <td>13.733</td>\n",
       "      <td>55.232</td>\n",
       "      <td>2017</td>\n",
       "    </tr>\n",
       "  </tbody>\n",
       "</table>\n",
       "</div>"
      ],
      "text/plain": [
       "   Rank      Gymnast      vt    ub      bb      fx   Total  year\n",
       "0     1  Morgan Hurd  14.533  14.3  12.666  13.733  55.232  2017"
      ]
     },
     "execution_count": 15,
     "metadata": {},
     "output_type": "execute_result"
    }
   ],
   "source": [
    "wc17.head(1)"
   ]
  },
  {
   "cell_type": "code",
   "execution_count": 9,
   "id": "d8477c90",
   "metadata": {},
   "outputs": [
    {
     "data": {
      "text/html": [
       "<div>\n",
       "<style scoped>\n",
       "    .dataframe tbody tr th:only-of-type {\n",
       "        vertical-align: middle;\n",
       "    }\n",
       "\n",
       "    .dataframe tbody tr th {\n",
       "        vertical-align: top;\n",
       "    }\n",
       "\n",
       "    .dataframe thead th {\n",
       "        text-align: right;\n",
       "    }\n",
       "</style>\n",
       "<table border=\"1\" class=\"dataframe\">\n",
       "  <thead>\n",
       "    <tr style=\"text-align: right;\">\n",
       "      <th></th>\n",
       "      <th>rank</th>\n",
       "      <th>name</th>\n",
       "      <th>vt</th>\n",
       "      <th>ub</th>\n",
       "      <th>bb</th>\n",
       "      <th>fx</th>\n",
       "      <th>total</th>\n",
       "      <th>year</th>\n",
       "    </tr>\n",
       "  </thead>\n",
       "  <tbody>\n",
       "    <tr>\n",
       "      <th>0</th>\n",
       "      <td>1</td>\n",
       "      <td>Simone Biles</td>\n",
       "      <td>14.533</td>\n",
       "      <td>14.725</td>\n",
       "      <td>13.233</td>\n",
       "      <td>15.0</td>\n",
       "      <td>57.491</td>\n",
       "      <td>2018</td>\n",
       "    </tr>\n",
       "  </tbody>\n",
       "</table>\n",
       "</div>"
      ],
      "text/plain": [
       "   rank          name      vt      ub      bb    fx   total  year\n",
       "0     1  Simone Biles  14.533  14.725  13.233  15.0  57.491  2018"
      ]
     },
     "execution_count": 9,
     "metadata": {},
     "output_type": "execute_result"
    }
   ],
   "source": [
    "wc18.head(1)"
   ]
  },
  {
   "cell_type": "code",
   "execution_count": 17,
   "id": "a03d2536",
   "metadata": {},
   "outputs": [],
   "source": [
    "wc18.rename(columns={'name': 'Gymnast', 'total': 'Total', 'rank': 'Rank'}, inplace=True)"
   ]
  },
  {
   "cell_type": "code",
   "execution_count": 18,
   "id": "d6a5716f",
   "metadata": {},
   "outputs": [
    {
     "data": {
      "text/html": [
       "<div>\n",
       "<style scoped>\n",
       "    .dataframe tbody tr th:only-of-type {\n",
       "        vertical-align: middle;\n",
       "    }\n",
       "\n",
       "    .dataframe tbody tr th {\n",
       "        vertical-align: top;\n",
       "    }\n",
       "\n",
       "    .dataframe thead th {\n",
       "        text-align: right;\n",
       "    }\n",
       "</style>\n",
       "<table border=\"1\" class=\"dataframe\">\n",
       "  <thead>\n",
       "    <tr style=\"text-align: right;\">\n",
       "      <th></th>\n",
       "      <th>Rank</th>\n",
       "      <th>Gymnast</th>\n",
       "      <th>vt</th>\n",
       "      <th>ub</th>\n",
       "      <th>bb</th>\n",
       "      <th>fx</th>\n",
       "      <th>Total</th>\n",
       "      <th>year</th>\n",
       "    </tr>\n",
       "  </thead>\n",
       "  <tbody>\n",
       "    <tr>\n",
       "      <th>0</th>\n",
       "      <td>1</td>\n",
       "      <td>Simone Biles</td>\n",
       "      <td>14.533</td>\n",
       "      <td>14.725</td>\n",
       "      <td>13.233</td>\n",
       "      <td>15.0</td>\n",
       "      <td>57.491</td>\n",
       "      <td>2018</td>\n",
       "    </tr>\n",
       "  </tbody>\n",
       "</table>\n",
       "</div>"
      ],
      "text/plain": [
       "   Rank       Gymnast      vt      ub      bb    fx   Total  year\n",
       "0     1  Simone Biles  14.533  14.725  13.233  15.0  57.491  2018"
      ]
     },
     "execution_count": 18,
     "metadata": {},
     "output_type": "execute_result"
    }
   ],
   "source": [
    "wc18.head(1)"
   ]
  },
  {
   "cell_type": "code",
   "execution_count": 19,
   "id": "99267dc7",
   "metadata": {},
   "outputs": [
    {
     "data": {
      "text/html": [
       "<div>\n",
       "<style scoped>\n",
       "    .dataframe tbody tr th:only-of-type {\n",
       "        vertical-align: middle;\n",
       "    }\n",
       "\n",
       "    .dataframe tbody tr th {\n",
       "        vertical-align: top;\n",
       "    }\n",
       "\n",
       "    .dataframe thead th {\n",
       "        text-align: right;\n",
       "    }\n",
       "</style>\n",
       "<table border=\"1\" class=\"dataframe\">\n",
       "  <thead>\n",
       "    <tr style=\"text-align: right;\">\n",
       "      <th></th>\n",
       "      <th>Rank</th>\n",
       "      <th>Gymnast</th>\n",
       "      <th>vt</th>\n",
       "      <th>ub</th>\n",
       "      <th>bb</th>\n",
       "      <th>fx</th>\n",
       "      <th>Total</th>\n",
       "      <th>year</th>\n",
       "    </tr>\n",
       "  </thead>\n",
       "  <tbody>\n",
       "    <tr>\n",
       "      <th>0</th>\n",
       "      <td>1</td>\n",
       "      <td>Simone Biles</td>\n",
       "      <td>15.233</td>\n",
       "      <td>14.733</td>\n",
       "      <td>14.633</td>\n",
       "      <td>14.4</td>\n",
       "      <td>58.999</td>\n",
       "      <td>2019</td>\n",
       "    </tr>\n",
       "  </tbody>\n",
       "</table>\n",
       "</div>"
      ],
      "text/plain": [
       "   Rank       Gymnast      vt      ub      bb    fx   Total  year\n",
       "0     1  Simone Biles  15.233  14.733  14.633  14.4  58.999  2019"
      ]
     },
     "execution_count": 19,
     "metadata": {},
     "output_type": "execute_result"
    }
   ],
   "source": [
    "wc19.head(1)"
   ]
  },
  {
   "cell_type": "code",
   "execution_count": 20,
   "id": "f55d252e",
   "metadata": {},
   "outputs": [],
   "source": [
    "combined_df = pd.concat([wc11, wc13, wc14, wc15, wc17, wc18, wc19], axis=0)"
   ]
  },
  {
   "cell_type": "code",
   "execution_count": 21,
   "id": "2e299642",
   "metadata": {},
   "outputs": [
    {
     "data": {
      "text/html": [
       "<div>\n",
       "<style scoped>\n",
       "    .dataframe tbody tr th:only-of-type {\n",
       "        vertical-align: middle;\n",
       "    }\n",
       "\n",
       "    .dataframe tbody tr th {\n",
       "        vertical-align: top;\n",
       "    }\n",
       "\n",
       "    .dataframe thead th {\n",
       "        text-align: right;\n",
       "    }\n",
       "</style>\n",
       "<table border=\"1\" class=\"dataframe\">\n",
       "  <thead>\n",
       "    <tr style=\"text-align: right;\">\n",
       "      <th></th>\n",
       "      <th>Rank</th>\n",
       "      <th>Gymnast</th>\n",
       "      <th>vt</th>\n",
       "      <th>ub</th>\n",
       "      <th>bb</th>\n",
       "      <th>fx</th>\n",
       "      <th>Total</th>\n",
       "      <th>year</th>\n",
       "    </tr>\n",
       "  </thead>\n",
       "  <tbody>\n",
       "    <tr>\n",
       "      <th>0</th>\n",
       "      <td>1</td>\n",
       "      <td>Jordyn Wieber(USA)</td>\n",
       "      <td>15.716</td>\n",
       "      <td>13.600</td>\n",
       "      <td>15.266</td>\n",
       "      <td>14.800</td>\n",
       "      <td>59.382</td>\n",
       "      <td>2011</td>\n",
       "    </tr>\n",
       "    <tr>\n",
       "      <th>1</th>\n",
       "      <td>2</td>\n",
       "      <td>Viktoria Komova(RUS)</td>\n",
       "      <td>14.933</td>\n",
       "      <td>15.400</td>\n",
       "      <td>14.683</td>\n",
       "      <td>14.333</td>\n",
       "      <td>59.349</td>\n",
       "      <td>2011</td>\n",
       "    </tr>\n",
       "    <tr>\n",
       "      <th>2</th>\n",
       "      <td>3</td>\n",
       "      <td>Yao Jinnan(CHN)</td>\n",
       "      <td>14.966</td>\n",
       "      <td>14.933</td>\n",
       "      <td>13.933</td>\n",
       "      <td>14.766</td>\n",
       "      <td>58.598</td>\n",
       "      <td>2011</td>\n",
       "    </tr>\n",
       "    <tr>\n",
       "      <th>3</th>\n",
       "      <td>4</td>\n",
       "      <td>Aly Raisman(USA)</td>\n",
       "      <td>15.233</td>\n",
       "      <td>12.900</td>\n",
       "      <td>14.525</td>\n",
       "      <td>14.900</td>\n",
       "      <td>57.558</td>\n",
       "      <td>2011</td>\n",
       "    </tr>\n",
       "    <tr>\n",
       "      <th>4</th>\n",
       "      <td>5</td>\n",
       "      <td>Huang Qiushuang(CHN)</td>\n",
       "      <td>14.733</td>\n",
       "      <td>14.966</td>\n",
       "      <td>13.633</td>\n",
       "      <td>14.100</td>\n",
       "      <td>57.432</td>\n",
       "      <td>2011</td>\n",
       "    </tr>\n",
       "    <tr>\n",
       "      <th>...</th>\n",
       "      <td>...</td>\n",
       "      <td>...</td>\n",
       "      <td>...</td>\n",
       "      <td>...</td>\n",
       "      <td>...</td>\n",
       "      <td>...</td>\n",
       "      <td>...</td>\n",
       "      <td>...</td>\n",
       "    </tr>\n",
       "    <tr>\n",
       "      <th>19</th>\n",
       "      <td>20</td>\n",
       "      <td>Mélanie de Jesus dos Santos</td>\n",
       "      <td>14.633</td>\n",
       "      <td>11.933</td>\n",
       "      <td>13.500</td>\n",
       "      <td>13.500</td>\n",
       "      <td>53.566</td>\n",
       "      <td>2019</td>\n",
       "    </tr>\n",
       "    <tr>\n",
       "      <th>20</th>\n",
       "      <td>21</td>\n",
       "      <td>Cintia Rodríguez</td>\n",
       "      <td>13.333</td>\n",
       "      <td>13.700</td>\n",
       "      <td>11.833</td>\n",
       "      <td>12.600</td>\n",
       "      <td>51.466</td>\n",
       "      <td>2019</td>\n",
       "    </tr>\n",
       "    <tr>\n",
       "      <th>21</th>\n",
       "      <td>22</td>\n",
       "      <td>Lilia Akhaimova</td>\n",
       "      <td>14.533</td>\n",
       "      <td>12.066</td>\n",
       "      <td>11.400</td>\n",
       "      <td>13.466</td>\n",
       "      <td>51.465</td>\n",
       "      <td>2019</td>\n",
       "    </tr>\n",
       "    <tr>\n",
       "      <th>22</th>\n",
       "      <td>23</td>\n",
       "      <td>Naomi Visser</td>\n",
       "      <td>13.266</td>\n",
       "      <td>12.100</td>\n",
       "      <td>13.600</td>\n",
       "      <td>12.200</td>\n",
       "      <td>51.166</td>\n",
       "      <td>2019</td>\n",
       "    </tr>\n",
       "    <tr>\n",
       "      <th>23</th>\n",
       "      <td>24</td>\n",
       "      <td>Elisa Iorio</td>\n",
       "      <td>13.266</td>\n",
       "      <td>0.000</td>\n",
       "      <td>12.666</td>\n",
       "      <td>12.866</td>\n",
       "      <td>0.000</td>\n",
       "      <td>2019</td>\n",
       "    </tr>\n",
       "  </tbody>\n",
       "</table>\n",
       "<p>168 rows × 8 columns</p>\n",
       "</div>"
      ],
      "text/plain": [
       "    Rank                      Gymnast      vt      ub      bb      fx   Total  \\\n",
       "0      1           Jordyn Wieber(USA)  15.716  13.600  15.266  14.800  59.382   \n",
       "1      2         Viktoria Komova(RUS)  14.933  15.400  14.683  14.333  59.349   \n",
       "2      3              Yao Jinnan(CHN)  14.966  14.933  13.933  14.766  58.598   \n",
       "3      4             Aly Raisman(USA)  15.233  12.900  14.525  14.900  57.558   \n",
       "4      5         Huang Qiushuang(CHN)  14.733  14.966  13.633  14.100  57.432   \n",
       "..   ...                          ...     ...     ...     ...     ...     ...   \n",
       "19    20  Mélanie de Jesus dos Santos  14.633  11.933  13.500  13.500  53.566   \n",
       "20    21             Cintia Rodríguez  13.333  13.700  11.833  12.600  51.466   \n",
       "21    22              Lilia Akhaimova  14.533  12.066  11.400  13.466  51.465   \n",
       "22    23                 Naomi Visser  13.266  12.100  13.600  12.200  51.166   \n",
       "23    24                  Elisa Iorio  13.266   0.000  12.666  12.866   0.000   \n",
       "\n",
       "    year  \n",
       "0   2011  \n",
       "1   2011  \n",
       "2   2011  \n",
       "3   2011  \n",
       "4   2011  \n",
       "..   ...  \n",
       "19  2019  \n",
       "20  2019  \n",
       "21  2019  \n",
       "22  2019  \n",
       "23  2019  \n",
       "\n",
       "[168 rows x 8 columns]"
      ]
     },
     "execution_count": 21,
     "metadata": {},
     "output_type": "execute_result"
    }
   ],
   "source": [
    "combined_df"
   ]
  },
  {
   "cell_type": "code",
   "execution_count": 22,
   "id": "19d8ae3d",
   "metadata": {},
   "outputs": [],
   "source": [
    "df=combined_df.copy()"
   ]
  },
  {
   "cell_type": "code",
   "execution_count": 23,
   "id": "572295b5",
   "metadata": {},
   "outputs": [
    {
     "name": "stdout",
     "output_type": "stream",
     "text": [
      "<class 'pandas.core.frame.DataFrame'>\n",
      "Index: 168 entries, 0 to 23\n",
      "Data columns (total 8 columns):\n",
      " #   Column   Non-Null Count  Dtype  \n",
      "---  ------   --------------  -----  \n",
      " 0   Rank     168 non-null    int64  \n",
      " 1   Gymnast  168 non-null    object \n",
      " 2   vt       168 non-null    float64\n",
      " 3   ub       168 non-null    float64\n",
      " 4   bb       168 non-null    float64\n",
      " 5   fx       168 non-null    float64\n",
      " 6   Total    168 non-null    float64\n",
      " 7   year     168 non-null    int64  \n",
      "dtypes: float64(5), int64(2), object(1)\n",
      "memory usage: 11.8+ KB\n"
     ]
    }
   ],
   "source": [
    "df.info()"
   ]
  },
  {
   "cell_type": "code",
   "execution_count": 25,
   "id": "0ff44787",
   "metadata": {},
   "outputs": [
    {
     "data": {
      "text/plain": [
       "Gymnast\n",
       "Giulia Steingruber(SUI)     4\n",
       "Elisabeth Seitz(GER)        3\n",
       "Shang Chunsong(CHN)         3\n",
       "Larisa Iordache(ROU)        3\n",
       "Simone Biles(USA)           3\n",
       "                           ..\n",
       "Erika Fasana(ITA)           1\n",
       "Ana Filipa Martins(POR)     1\n",
       "Marta Pihan-Kulesza(POL)    1\n",
       "Claudia Fragapane(GBR)      1\n",
       "Elisa Iorio                 1\n",
       "Name: count, Length: 116, dtype: int64"
      ]
     },
     "execution_count": 25,
     "metadata": {},
     "output_type": "execute_result"
    }
   ],
   "source": [
    "df['Gymnast'].value_counts()"
   ]
  },
  {
   "cell_type": "code",
   "execution_count": 26,
   "id": "e0e3a1de",
   "metadata": {},
   "outputs": [],
   "source": [
    "df['Gymnast'] = df['Gymnast'].str.replace(r'\\(.*\\)', '', regex=True)"
   ]
  },
  {
   "cell_type": "code",
   "execution_count": 29,
   "id": "9d864fb7",
   "metadata": {},
   "outputs": [
    {
     "name": "stdout",
     "output_type": "stream",
     "text": [
      "<class 'pandas.core.frame.DataFrame'>\n",
      "Index: 168 entries, 0 to 23\n",
      "Data columns (total 8 columns):\n",
      " #   Column   Non-Null Count  Dtype  \n",
      "---  ------   --------------  -----  \n",
      " 0   Rank     168 non-null    int64  \n",
      " 1   Gymnast  168 non-null    object \n",
      " 2   vt       168 non-null    float64\n",
      " 3   ub       168 non-null    float64\n",
      " 4   bb       168 non-null    float64\n",
      " 5   fx       168 non-null    float64\n",
      " 6   Total    168 non-null    float64\n",
      " 7   year     168 non-null    int64  \n",
      "dtypes: float64(5), int64(2), object(1)\n",
      "memory usage: 11.8+ KB\n"
     ]
    }
   ],
   "source": [
    "df.info()"
   ]
  },
  {
   "cell_type": "code",
   "execution_count": 30,
   "id": "e013454f",
   "metadata": {},
   "outputs": [],
   "source": [
    "# df.to_csv('wc11_19w_iaa.csv', index=False)"
   ]
  },
  {
   "cell_type": "code",
   "execution_count": null,
   "id": "33918ad7",
   "metadata": {},
   "outputs": [],
   "source": []
  }
 ],
 "metadata": {
  "kernelspec": {
   "display_name": "Python 3 (ipykernel)",
   "language": "python",
   "name": "python3"
  },
  "language_info": {
   "codemirror_mode": {
    "name": "ipython",
    "version": 3
   },
   "file_extension": ".py",
   "mimetype": "text/x-python",
   "name": "python",
   "nbconvert_exporter": "python",
   "pygments_lexer": "ipython3",
   "version": "3.9.12"
  }
 },
 "nbformat": 4,
 "nbformat_minor": 5
}
