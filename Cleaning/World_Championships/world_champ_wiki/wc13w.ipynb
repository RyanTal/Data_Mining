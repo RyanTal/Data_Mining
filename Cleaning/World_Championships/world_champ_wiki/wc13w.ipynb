{
 "cells": [
  {
   "cell_type": "code",
   "execution_count": 1,
   "id": "8fe6605b",
   "metadata": {},
   "outputs": [],
   "source": [
    "import pandas as pd\n",
    "import numpy as np"
   ]
  },
  {
   "cell_type": "code",
   "execution_count": 2,
   "id": "f8b2c925",
   "metadata": {},
   "outputs": [],
   "source": [
    "iaa = pd.read_csv('../../../scraping/women/wc13w/wc13w_iaa.csv')\n",
    "vt = pd.read_csv('../../../scraping/women/wc13w/wc13w_vt.csv')\n",
    "fx = pd.read_csv('../../../scraping/women/wc13w/wc13w_fx.csv')\n",
    "ub = pd.read_csv('../../../scraping/women/wc13w/wc13w_ub.csv')\n",
    "bb = pd.read_csv('../../../scraping/women/wc13w/wc13w_bb.csv')"
   ]
  },
  {
   "cell_type": "code",
   "execution_count": 3,
   "id": "02a80c0e",
   "metadata": {},
   "outputs": [],
   "source": [
    "fx = fx.fillna(0)\n",
    "vt = vt.fillna(0)\n",
    "ub = ub.fillna(0)\n",
    "bb = bb.fillna(0)"
   ]
  },
  {
   "cell_type": "code",
   "execution_count": 4,
   "id": "59fb0a9a",
   "metadata": {},
   "outputs": [],
   "source": [
    "fx[\"year\"]=2013\n",
    "vt[\"year\"]=2013\n",
    "ub[\"year\"]=2013\n",
    "bb[\"year\"]=2013\n",
    "iaa[\"year\"]=2013"
   ]
  },
  {
   "cell_type": "code",
   "execution_count": 5,
   "id": "b31a1ef5",
   "metadata": {},
   "outputs": [
    {
     "name": "stdout",
     "output_type": "stream",
     "text": [
      "<class 'pandas.core.frame.DataFrame'>\n",
      "RangeIndex: 8 entries, 0 to 7\n",
      "Data columns (total 7 columns):\n",
      " #   Column    Non-Null Count  Dtype  \n",
      "---  ------    --------------  -----  \n",
      " 0   Position  8 non-null      int64  \n",
      " 1   Gymnast   8 non-null      object \n",
      " 2   D Score   8 non-null      float64\n",
      " 3   E Score   8 non-null      float64\n",
      " 4   Penalty   8 non-null      float64\n",
      " 5   Total     8 non-null      float64\n",
      " 6   year      8 non-null      int64  \n",
      "dtypes: float64(4), int64(2), object(1)\n",
      "memory usage: 576.0+ bytes\n"
     ]
    }
   ],
   "source": [
    "bb.info()"
   ]
  },
  {
   "cell_type": "code",
   "execution_count": 6,
   "id": "77feaf56",
   "metadata": {},
   "outputs": [
    {
     "name": "stdout",
     "output_type": "stream",
     "text": [
      "<class 'pandas.core.frame.DataFrame'>\n",
      "RangeIndex: 8 entries, 0 to 7\n",
      "Data columns (total 12 columns):\n",
      " #   Column    Non-Null Count  Dtype  \n",
      "---  ------    --------------  -----  \n",
      " 0   Rank      8 non-null      int64  \n",
      " 1   Gymnast   8 non-null      object \n",
      " 2   D Score1  8 non-null      float64\n",
      " 3   E Score1  8 non-null      float64\n",
      " 4   Pen.1     8 non-null      float64\n",
      " 5   Score 1   8 non-null      float64\n",
      " 6   D Score2  8 non-null      float64\n",
      " 7   E Score2  8 non-null      float64\n",
      " 8   Pen.2     8 non-null      float64\n",
      " 9   Score 2   8 non-null      float64\n",
      " 10  Total     8 non-null      float64\n",
      " 11  year      8 non-null      int64  \n",
      "dtypes: float64(9), int64(2), object(1)\n",
      "memory usage: 896.0+ bytes\n"
     ]
    }
   ],
   "source": [
    "vt.info()"
   ]
  },
  {
   "cell_type": "code",
   "execution_count": 7,
   "id": "b7f047f9",
   "metadata": {},
   "outputs": [
    {
     "name": "stdout",
     "output_type": "stream",
     "text": [
      "<class 'pandas.core.frame.DataFrame'>\n",
      "RangeIndex: 8 entries, 0 to 7\n",
      "Data columns (total 7 columns):\n",
      " #   Column    Non-Null Count  Dtype  \n",
      "---  ------    --------------  -----  \n",
      " 0   Position  8 non-null      int64  \n",
      " 1   Gymnast   8 non-null      object \n",
      " 2   D Score   8 non-null      float64\n",
      " 3   E Score   8 non-null      float64\n",
      " 4   Penalty   8 non-null      float64\n",
      " 5   Total     8 non-null      float64\n",
      " 6   year      8 non-null      int64  \n",
      "dtypes: float64(4), int64(2), object(1)\n",
      "memory usage: 576.0+ bytes\n"
     ]
    }
   ],
   "source": [
    "ub.info()"
   ]
  },
  {
   "cell_type": "code",
   "execution_count": 8,
   "id": "2ff6c870",
   "metadata": {},
   "outputs": [
    {
     "name": "stdout",
     "output_type": "stream",
     "text": [
      "<class 'pandas.core.frame.DataFrame'>\n",
      "RangeIndex: 8 entries, 0 to 7\n",
      "Data columns (total 7 columns):\n",
      " #   Column    Non-Null Count  Dtype  \n",
      "---  ------    --------------  -----  \n",
      " 0   Position  8 non-null      int64  \n",
      " 1   Gymnast   8 non-null      object \n",
      " 2   D Score   8 non-null      float64\n",
      " 3   E Score   8 non-null      float64\n",
      " 4   Penalty   8 non-null      float64\n",
      " 5   Total     8 non-null      float64\n",
      " 6   year      8 non-null      int64  \n",
      "dtypes: float64(4), int64(2), object(1)\n",
      "memory usage: 576.0+ bytes\n"
     ]
    }
   ],
   "source": [
    "fx.info()"
   ]
  },
  {
   "cell_type": "code",
   "execution_count": 9,
   "id": "bdd3cd80",
   "metadata": {},
   "outputs": [
    {
     "name": "stdout",
     "output_type": "stream",
     "text": [
      "<class 'pandas.core.frame.DataFrame'>\n",
      "RangeIndex: 24 entries, 0 to 23\n",
      "Data columns (total 8 columns):\n",
      " #   Column   Non-Null Count  Dtype  \n",
      "---  ------   --------------  -----  \n",
      " 0   Rank     24 non-null     int64  \n",
      " 1   Gymnast  24 non-null     object \n",
      " 2   vt       24 non-null     float64\n",
      " 3   ub       24 non-null     float64\n",
      " 4   bb       24 non-null     float64\n",
      " 5   fx       24 non-null     float64\n",
      " 6   Total    24 non-null     float64\n",
      " 7   year     24 non-null     int64  \n",
      "dtypes: float64(5), int64(2), object(1)\n",
      "memory usage: 1.6+ KB\n"
     ]
    }
   ],
   "source": [
    "iaa.info()"
   ]
  },
  {
   "cell_type": "code",
   "execution_count": 10,
   "id": "d3489725",
   "metadata": {},
   "outputs": [],
   "source": [
    "# fx.to_csv('wc13fx.csv', index=False)\n",
    "# vt.to_csv('wc13vt.csv', index=False)\n",
    "# ub.to_csv('wc13ub.csv', index=False)\n",
    "# bb.to_csv('wc13bb.csv', index=False)\n",
    "# iaa.to_csv('wc13iaa.csv', index=False)"
   ]
  },
  {
   "cell_type": "code",
   "execution_count": null,
   "id": "7ec743fd",
   "metadata": {},
   "outputs": [],
   "source": []
  }
 ],
 "metadata": {
  "kernelspec": {
   "display_name": "Python 3 (ipykernel)",
   "language": "python",
   "name": "python3"
  },
  "language_info": {
   "codemirror_mode": {
    "name": "ipython",
    "version": 3
   },
   "file_extension": ".py",
   "mimetype": "text/x-python",
   "name": "python",
   "nbconvert_exporter": "python",
   "pygments_lexer": "ipython3",
   "version": "3.9.12"
  }
 },
 "nbformat": 4,
 "nbformat_minor": 5
}
