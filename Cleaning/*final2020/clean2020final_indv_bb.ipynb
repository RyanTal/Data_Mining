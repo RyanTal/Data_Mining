{
 "cells": [
  {
   "cell_type": "code",
   "execution_count": 1,
   "id": "c75c15d1",
   "metadata": {},
   "outputs": [],
   "source": [
    "import pandas as pd\n",
    "import numpy as np"
   ]
  },
  {
   "cell_type": "code",
   "execution_count": 8,
   "id": "2219b262",
   "metadata": {},
   "outputs": [],
   "source": [
    "df = pd.read_csv('../../scraping/final2020/scrape2020final_indv_bb.csv')"
   ]
  },
  {
   "cell_type": "code",
   "execution_count": 9,
   "id": "1981b34d",
   "metadata": {},
   "outputs": [
    {
     "data": {
      "text/html": [
       "<div>\n",
       "<style scoped>\n",
       "    .dataframe tbody tr th:only-of-type {\n",
       "        vertical-align: middle;\n",
       "    }\n",
       "\n",
       "    .dataframe tbody tr th {\n",
       "        vertical-align: top;\n",
       "    }\n",
       "\n",
       "    .dataframe thead th {\n",
       "        text-align: right;\n",
       "    }\n",
       "</style>\n",
       "<table border=\"1\" class=\"dataframe\">\n",
       "  <thead>\n",
       "    <tr style=\"text-align: right;\">\n",
       "      <th></th>\n",
       "      <th>Rank</th>\n",
       "      <th>Gymnast</th>\n",
       "      <th>D Score</th>\n",
       "      <th>E Score</th>\n",
       "      <th>Pen.</th>\n",
       "      <th>Total</th>\n",
       "    </tr>\n",
       "  </thead>\n",
       "  <tbody>\n",
       "    <tr>\n",
       "      <th>0</th>\n",
       "      <td>1</td>\n",
       "      <td>Guan Chenchen(CHN)</td>\n",
       "      <td>6.6</td>\n",
       "      <td>8.033</td>\n",
       "      <td>NaN</td>\n",
       "      <td>14.633</td>\n",
       "    </tr>\n",
       "    <tr>\n",
       "      <th>1</th>\n",
       "      <td>2</td>\n",
       "      <td>Tang Xijing(CHN)</td>\n",
       "      <td>6.0</td>\n",
       "      <td>8.233</td>\n",
       "      <td>NaN</td>\n",
       "      <td>14.233</td>\n",
       "    </tr>\n",
       "    <tr>\n",
       "      <th>2</th>\n",
       "      <td>3</td>\n",
       "      <td>Simone Biles(USA)</td>\n",
       "      <td>6.1</td>\n",
       "      <td>7.900</td>\n",
       "      <td>NaN</td>\n",
       "      <td>14.000</td>\n",
       "    </tr>\n",
       "    <tr>\n",
       "      <th>3</th>\n",
       "      <td>4</td>\n",
       "      <td>Ellie Black(CAN)</td>\n",
       "      <td>6.2</td>\n",
       "      <td>7.666</td>\n",
       "      <td>NaN</td>\n",
       "      <td>13.866</td>\n",
       "    </tr>\n",
       "    <tr>\n",
       "      <th>4</th>\n",
       "      <td>5</td>\n",
       "      <td>Sunisa Lee(USA)</td>\n",
       "      <td>6.4</td>\n",
       "      <td>7.466</td>\n",
       "      <td>NaN</td>\n",
       "      <td>13.866</td>\n",
       "    </tr>\n",
       "    <tr>\n",
       "      <th>5</th>\n",
       "      <td>6</td>\n",
       "      <td>Urara Ashikawa(JPN)</td>\n",
       "      <td>5.9</td>\n",
       "      <td>7.833</td>\n",
       "      <td>NaN</td>\n",
       "      <td>13.733</td>\n",
       "    </tr>\n",
       "    <tr>\n",
       "      <th>6</th>\n",
       "      <td>7</td>\n",
       "      <td>Flávia Saraiva(BRA)</td>\n",
       "      <td>5.7</td>\n",
       "      <td>7.433</td>\n",
       "      <td>NaN</td>\n",
       "      <td>13.133</td>\n",
       "    </tr>\n",
       "    <tr>\n",
       "      <th>7</th>\n",
       "      <td>8</td>\n",
       "      <td>Vladislava Urazova(ROC)</td>\n",
       "      <td>5.0</td>\n",
       "      <td>7.733</td>\n",
       "      <td>NaN</td>\n",
       "      <td>12.733</td>\n",
       "    </tr>\n",
       "  </tbody>\n",
       "</table>\n",
       "</div>"
      ],
      "text/plain": [
       "   Rank                  Gymnast  D Score  E Score  Pen.   Total\n",
       "0     1       Guan Chenchen(CHN)      6.6    8.033   NaN  14.633\n",
       "1     2         Tang Xijing(CHN)      6.0    8.233   NaN  14.233\n",
       "2     3        Simone Biles(USA)      6.1    7.900   NaN  14.000\n",
       "3     4         Ellie Black(CAN)      6.2    7.666   NaN  13.866\n",
       "4     5          Sunisa Lee(USA)      6.4    7.466   NaN  13.866\n",
       "5     6      Urara Ashikawa(JPN)      5.9    7.833   NaN  13.733\n",
       "6     7      Flávia Saraiva(BRA)      5.7    7.433   NaN  13.133\n",
       "7     8  Vladislava Urazova(ROC)      5.0    7.733   NaN  12.733"
      ]
     },
     "execution_count": 9,
     "metadata": {},
     "output_type": "execute_result"
    }
   ],
   "source": [
    "df"
   ]
  },
  {
   "cell_type": "code",
   "execution_count": 10,
   "id": "0cf3c59a",
   "metadata": {},
   "outputs": [
    {
     "name": "stdout",
     "output_type": "stream",
     "text": [
      "<class 'pandas.core.frame.DataFrame'>\n",
      "RangeIndex: 8 entries, 0 to 7\n",
      "Data columns (total 6 columns):\n",
      " #   Column   Non-Null Count  Dtype  \n",
      "---  ------   --------------  -----  \n",
      " 0   Rank     8 non-null      int64  \n",
      " 1   Gymnast  8 non-null      object \n",
      " 2   D Score  8 non-null      float64\n",
      " 3   E Score  8 non-null      float64\n",
      " 4   Pen.     0 non-null      float64\n",
      " 5   Total    8 non-null      float64\n",
      "dtypes: float64(4), int64(1), object(1)\n",
      "memory usage: 512.0+ bytes\n"
     ]
    }
   ],
   "source": [
    "df.info()"
   ]
  },
  {
   "cell_type": "code",
   "execution_count": 11,
   "id": "64ba751c",
   "metadata": {},
   "outputs": [
    {
     "data": {
      "text/html": [
       "<div>\n",
       "<style scoped>\n",
       "    .dataframe tbody tr th:only-of-type {\n",
       "        vertical-align: middle;\n",
       "    }\n",
       "\n",
       "    .dataframe tbody tr th {\n",
       "        vertical-align: top;\n",
       "    }\n",
       "\n",
       "    .dataframe thead th {\n",
       "        text-align: right;\n",
       "    }\n",
       "</style>\n",
       "<table border=\"1\" class=\"dataframe\">\n",
       "  <thead>\n",
       "    <tr style=\"text-align: right;\">\n",
       "      <th></th>\n",
       "      <th>Rank</th>\n",
       "      <th>Gymnast</th>\n",
       "      <th>D Score</th>\n",
       "      <th>E Score</th>\n",
       "      <th>Pen.</th>\n",
       "      <th>Total</th>\n",
       "      <th>Country</th>\n",
       "    </tr>\n",
       "  </thead>\n",
       "  <tbody>\n",
       "    <tr>\n",
       "      <th>0</th>\n",
       "      <td>1</td>\n",
       "      <td>Guan Chenchen</td>\n",
       "      <td>6.6</td>\n",
       "      <td>8.033</td>\n",
       "      <td>NaN</td>\n",
       "      <td>14.633</td>\n",
       "      <td>CHN</td>\n",
       "    </tr>\n",
       "    <tr>\n",
       "      <th>1</th>\n",
       "      <td>2</td>\n",
       "      <td>Tang Xijing</td>\n",
       "      <td>6.0</td>\n",
       "      <td>8.233</td>\n",
       "      <td>NaN</td>\n",
       "      <td>14.233</td>\n",
       "      <td>CHN</td>\n",
       "    </tr>\n",
       "    <tr>\n",
       "      <th>2</th>\n",
       "      <td>3</td>\n",
       "      <td>Simone Biles</td>\n",
       "      <td>6.1</td>\n",
       "      <td>7.900</td>\n",
       "      <td>NaN</td>\n",
       "      <td>14.000</td>\n",
       "      <td>USA</td>\n",
       "    </tr>\n",
       "    <tr>\n",
       "      <th>3</th>\n",
       "      <td>4</td>\n",
       "      <td>Ellie Black</td>\n",
       "      <td>6.2</td>\n",
       "      <td>7.666</td>\n",
       "      <td>NaN</td>\n",
       "      <td>13.866</td>\n",
       "      <td>CAN</td>\n",
       "    </tr>\n",
       "    <tr>\n",
       "      <th>4</th>\n",
       "      <td>5</td>\n",
       "      <td>Sunisa Lee</td>\n",
       "      <td>6.4</td>\n",
       "      <td>7.466</td>\n",
       "      <td>NaN</td>\n",
       "      <td>13.866</td>\n",
       "      <td>USA</td>\n",
       "    </tr>\n",
       "  </tbody>\n",
       "</table>\n",
       "</div>"
      ],
      "text/plain": [
       "   Rank        Gymnast  D Score  E Score  Pen.   Total Country\n",
       "0     1  Guan Chenchen      6.6    8.033   NaN  14.633     CHN\n",
       "1     2    Tang Xijing      6.0    8.233   NaN  14.233     CHN\n",
       "2     3   Simone Biles      6.1    7.900   NaN  14.000     USA\n",
       "3     4    Ellie Black      6.2    7.666   NaN  13.866     CAN\n",
       "4     5     Sunisa Lee      6.4    7.466   NaN  13.866     USA"
      ]
     },
     "execution_count": 11,
     "metadata": {},
     "output_type": "execute_result"
    }
   ],
   "source": [
    "# Extract data within parentheses and store it in a new column\n",
    "df[\"Country\"] = df['Gymnast'].str.extract(r'\\((.*?)\\)')\n",
    "\n",
    "df['Gymnast'] = df['Gymnast'].apply(lambda x: x.split('(')[0].strip())\n",
    "df.head()"
   ]
  },
  {
   "cell_type": "code",
   "execution_count": 12,
   "id": "fdee28d6",
   "metadata": {},
   "outputs": [],
   "source": [
    "df['Pen.'].fillna(0, inplace=True)"
   ]
  },
  {
   "cell_type": "code",
   "execution_count": 13,
   "id": "0dc60198",
   "metadata": {},
   "outputs": [
    {
     "name": "stdout",
     "output_type": "stream",
     "text": [
      "<class 'pandas.core.frame.DataFrame'>\n",
      "RangeIndex: 8 entries, 0 to 7\n",
      "Data columns (total 7 columns):\n",
      " #   Column   Non-Null Count  Dtype  \n",
      "---  ------   --------------  -----  \n",
      " 0   Rank     8 non-null      int64  \n",
      " 1   Gymnast  8 non-null      object \n",
      " 2   D Score  8 non-null      float64\n",
      " 3   E Score  8 non-null      float64\n",
      " 4   Pen.     8 non-null      float64\n",
      " 5   Total    8 non-null      float64\n",
      " 6   Country  8 non-null      object \n",
      "dtypes: float64(4), int64(1), object(2)\n",
      "memory usage: 576.0+ bytes\n"
     ]
    }
   ],
   "source": [
    "df.info()"
   ]
  },
  {
   "cell_type": "code",
   "execution_count": 14,
   "id": "80b9ba2a",
   "metadata": {},
   "outputs": [],
   "source": [
    "# df.to_csv('clean2020final_indv_bb.csv', index=False)  # Set index=False to exclude index column\n",
    "\n"
   ]
  },
  {
   "cell_type": "code",
   "execution_count": null,
   "id": "b0d48673",
   "metadata": {},
   "outputs": [],
   "source": []
  }
 ],
 "metadata": {
  "kernelspec": {
   "display_name": "Python 3 (ipykernel)",
   "language": "python",
   "name": "python3"
  },
  "language_info": {
   "codemirror_mode": {
    "name": "ipython",
    "version": 3
   },
   "file_extension": ".py",
   "mimetype": "text/x-python",
   "name": "python",
   "nbconvert_exporter": "python",
   "pygments_lexer": "ipython3",
   "version": "3.9.12"
  }
 },
 "nbformat": 4,
 "nbformat_minor": 5
}
