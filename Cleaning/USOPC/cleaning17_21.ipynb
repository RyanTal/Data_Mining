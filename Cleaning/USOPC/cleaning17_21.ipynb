{
 "cells": [
  {
   "cell_type": "code",
   "execution_count": 3,
   "id": "feb7494e",
   "metadata": {},
   "outputs": [],
   "source": [
    "import pandas as pd\n",
    "import numpy as np"
   ]
  },
  {
   "cell_type": "code",
   "execution_count": 5,
   "id": "1680caa8",
   "metadata": {},
   "outputs": [],
   "source": [
    "df = pd.read_csv(\"../../Data/USOPC/data_2017_2021.csv\")"
   ]
  },
  {
   "cell_type": "code",
   "execution_count": 6,
   "id": "1c86f64a",
   "metadata": {},
   "outputs": [
    {
     "data": {
      "text/html": [
       "<div>\n",
       "<style scoped>\n",
       "    .dataframe tbody tr th:only-of-type {\n",
       "        vertical-align: middle;\n",
       "    }\n",
       "\n",
       "    .dataframe tbody tr th {\n",
       "        vertical-align: top;\n",
       "    }\n",
       "\n",
       "    .dataframe thead th {\n",
       "        text-align: right;\n",
       "    }\n",
       "</style>\n",
       "<table border=\"1\" class=\"dataframe\">\n",
       "  <thead>\n",
       "    <tr style=\"text-align: right;\">\n",
       "      <th></th>\n",
       "      <th>LastName</th>\n",
       "      <th>FirstName</th>\n",
       "      <th>Gender</th>\n",
       "      <th>Country</th>\n",
       "      <th>Date</th>\n",
       "      <th>Competition</th>\n",
       "      <th>Round</th>\n",
       "      <th>Location</th>\n",
       "      <th>Apparatus</th>\n",
       "      <th>Rank</th>\n",
       "      <th>D_Score</th>\n",
       "      <th>E_Score</th>\n",
       "      <th>Penalty</th>\n",
       "      <th>Score</th>\n",
       "    </tr>\n",
       "  </thead>\n",
       "  <tbody>\n",
       "    <tr>\n",
       "      <th>0</th>\n",
       "      <td>ABDUL</td>\n",
       "      <td>HADI</td>\n",
       "      <td>w</td>\n",
       "      <td>MAS</td>\n",
       "      <td>SUN 25 JUL 2021</td>\n",
       "      <td>Olympic Games</td>\n",
       "      <td>qual</td>\n",
       "      <td>Tokyo, Japan</td>\n",
       "      <td>BB</td>\n",
       "      <td>76.0</td>\n",
       "      <td>4.8</td>\n",
       "      <td>6.766</td>\n",
       "      <td>NaN</td>\n",
       "      <td>11.566</td>\n",
       "    </tr>\n",
       "    <tr>\n",
       "      <th>1</th>\n",
       "      <td>ABDUL</td>\n",
       "      <td>HADI</td>\n",
       "      <td>w</td>\n",
       "      <td>MAS</td>\n",
       "      <td>SUN 25 JUL 2021</td>\n",
       "      <td>Olympic Games</td>\n",
       "      <td>qual</td>\n",
       "      <td>Tokyo, Japan</td>\n",
       "      <td>FX</td>\n",
       "      <td>64.0</td>\n",
       "      <td>4.6</td>\n",
       "      <td>7.633</td>\n",
       "      <td>NaN</td>\n",
       "      <td>12.233</td>\n",
       "    </tr>\n",
       "    <tr>\n",
       "      <th>2</th>\n",
       "      <td>ABDUL</td>\n",
       "      <td>HADI</td>\n",
       "      <td>w</td>\n",
       "      <td>MAS</td>\n",
       "      <td>SUN 25 JUL 2021</td>\n",
       "      <td>Olympic Games</td>\n",
       "      <td>qual</td>\n",
       "      <td>Tokyo, Japan</td>\n",
       "      <td>UE</td>\n",
       "      <td>74.0</td>\n",
       "      <td>5.1</td>\n",
       "      <td>6.500</td>\n",
       "      <td>NaN</td>\n",
       "      <td>11.600</td>\n",
       "    </tr>\n",
       "    <tr>\n",
       "      <th>3</th>\n",
       "      <td>ABDUL</td>\n",
       "      <td>HADI</td>\n",
       "      <td>w</td>\n",
       "      <td>MAS</td>\n",
       "      <td>SUN 25 JUL 2021</td>\n",
       "      <td>Olympic Games</td>\n",
       "      <td>qual</td>\n",
       "      <td>Tokyo, Japan</td>\n",
       "      <td>VT</td>\n",
       "      <td>72.0</td>\n",
       "      <td>4.6</td>\n",
       "      <td>8.566</td>\n",
       "      <td>NaN</td>\n",
       "      <td>13.166</td>\n",
       "    </tr>\n",
       "    <tr>\n",
       "      <th>4</th>\n",
       "      <td>ABDUL HADI</td>\n",
       "      <td>Farah Ann</td>\n",
       "      <td>w</td>\n",
       "      <td>MAS</td>\n",
       "      <td>25 July 2021</td>\n",
       "      <td>Olympic Games</td>\n",
       "      <td>qual</td>\n",
       "      <td>Tokyo, Japan</td>\n",
       "      <td>BB</td>\n",
       "      <td>76.0</td>\n",
       "      <td>4.8</td>\n",
       "      <td>6.766</td>\n",
       "      <td>NaN</td>\n",
       "      <td>11.566</td>\n",
       "    </tr>\n",
       "  </tbody>\n",
       "</table>\n",
       "</div>"
      ],
      "text/plain": [
       "     LastName  FirstName Gender Country             Date    Competition Round  \\\n",
       "0       ABDUL       HADI      w     MAS  SUN 25 JUL 2021  Olympic Games  qual   \n",
       "1       ABDUL       HADI      w     MAS  SUN 25 JUL 2021  Olympic Games  qual   \n",
       "2       ABDUL       HADI      w     MAS  SUN 25 JUL 2021  Olympic Games  qual   \n",
       "3       ABDUL       HADI      w     MAS  SUN 25 JUL 2021  Olympic Games  qual   \n",
       "4  ABDUL HADI  Farah Ann      w     MAS     25 July 2021  Olympic Games  qual   \n",
       "\n",
       "       Location Apparatus  Rank  D_Score  E_Score  Penalty   Score  \n",
       "0  Tokyo, Japan        BB  76.0      4.8    6.766      NaN  11.566  \n",
       "1  Tokyo, Japan        FX  64.0      4.6    7.633      NaN  12.233  \n",
       "2  Tokyo, Japan        UE  74.0      5.1    6.500      NaN  11.600  \n",
       "3  Tokyo, Japan        VT  72.0      4.6    8.566      NaN  13.166  \n",
       "4  Tokyo, Japan        BB  76.0      4.8    6.766      NaN  11.566  "
      ]
     },
     "execution_count": 6,
     "metadata": {},
     "output_type": "execute_result"
    }
   ],
   "source": [
    "df.head()"
   ]
  },
  {
   "cell_type": "code",
   "execution_count": 7,
   "id": "f807dcd5",
   "metadata": {},
   "outputs": [
    {
     "data": {
      "text/plain": [
       "Gender\n",
       "w    765\n",
       "Name: count, dtype: int64"
      ]
     },
     "execution_count": 7,
     "metadata": {},
     "output_type": "execute_result"
    }
   ],
   "source": [
    "df[\"Gender\"].value_counts()"
   ]
  },
  {
   "cell_type": "code",
   "execution_count": 8,
   "id": "0be34c96",
   "metadata": {},
   "outputs": [
    {
     "name": "stderr",
     "output_type": "stream",
     "text": [
      "/var/folders/j_/555m2zps099832fjh_m8jjnc0000gn/T/ipykernel_55398/579959469.py:1: UserWarning: Could not infer format, so each element will be parsed individually, falling back to `dateutil`. To ensure parsing is consistent and as-expected, please specify a format.\n",
      "  df['Date'] = pd.to_datetime(df['Date'], errors='coerce')\n"
     ]
    }
   ],
   "source": [
    "df['Date'] = pd.to_datetime(df['Date'], errors='coerce')\n"
   ]
  },
  {
   "cell_type": "code",
   "execution_count": 9,
   "id": "fbf9c586",
   "metadata": {},
   "outputs": [
    {
     "name": "stdout",
     "output_type": "stream",
     "text": [
      "<class 'pandas.core.frame.DataFrame'>\n",
      "RangeIndex: 765 entries, 0 to 764\n",
      "Data columns (total 14 columns):\n",
      " #   Column       Non-Null Count  Dtype         \n",
      "---  ------       --------------  -----         \n",
      " 0   LastName     765 non-null    object        \n",
      " 1   FirstName    765 non-null    object        \n",
      " 2   Gender       765 non-null    object        \n",
      " 3   Country      765 non-null    object        \n",
      " 4   Date         765 non-null    datetime64[ns]\n",
      " 5   Competition  765 non-null    object        \n",
      " 6   Round        765 non-null    object        \n",
      " 7   Location     765 non-null    object        \n",
      " 8   Apparatus    765 non-null    object        \n",
      " 9   Rank         761 non-null    float64       \n",
      " 10  D_Score      761 non-null    float64       \n",
      " 11  E_Score      761 non-null    float64       \n",
      " 12  Penalty      90 non-null     float64       \n",
      " 13  Score        758 non-null    float64       \n",
      "dtypes: datetime64[ns](1), float64(5), object(8)\n",
      "memory usage: 83.8+ KB\n"
     ]
    }
   ],
   "source": [
    "df.info()"
   ]
  },
  {
   "cell_type": "code",
   "execution_count": 10,
   "id": "488b9d9b",
   "metadata": {},
   "outputs": [
    {
     "data": {
      "text/html": [
       "<div>\n",
       "<style scoped>\n",
       "    .dataframe tbody tr th:only-of-type {\n",
       "        vertical-align: middle;\n",
       "    }\n",
       "\n",
       "    .dataframe tbody tr th {\n",
       "        vertical-align: top;\n",
       "    }\n",
       "\n",
       "    .dataframe thead th {\n",
       "        text-align: right;\n",
       "    }\n",
       "</style>\n",
       "<table border=\"1\" class=\"dataframe\">\n",
       "  <thead>\n",
       "    <tr style=\"text-align: right;\">\n",
       "      <th></th>\n",
       "      <th>LastName</th>\n",
       "      <th>FirstName</th>\n",
       "      <th>Gender</th>\n",
       "      <th>Country</th>\n",
       "      <th>Date</th>\n",
       "      <th>Competition</th>\n",
       "      <th>Round</th>\n",
       "      <th>Location</th>\n",
       "      <th>Apparatus</th>\n",
       "      <th>Rank</th>\n",
       "      <th>D_Score</th>\n",
       "      <th>E_Score</th>\n",
       "      <th>Penalty</th>\n",
       "      <th>Score</th>\n",
       "    </tr>\n",
       "  </thead>\n",
       "  <tbody>\n",
       "    <tr>\n",
       "      <th>0</th>\n",
       "      <td>ABDUL</td>\n",
       "      <td>HADI</td>\n",
       "      <td>w</td>\n",
       "      <td>MAS</td>\n",
       "      <td>2021-07-25</td>\n",
       "      <td>Olympic Games</td>\n",
       "      <td>qual</td>\n",
       "      <td>Tokyo, Japan</td>\n",
       "      <td>BB</td>\n",
       "      <td>76.0</td>\n",
       "      <td>4.8</td>\n",
       "      <td>6.766</td>\n",
       "      <td>NaN</td>\n",
       "      <td>11.566</td>\n",
       "    </tr>\n",
       "    <tr>\n",
       "      <th>1</th>\n",
       "      <td>ABDUL</td>\n",
       "      <td>HADI</td>\n",
       "      <td>w</td>\n",
       "      <td>MAS</td>\n",
       "      <td>2021-07-25</td>\n",
       "      <td>Olympic Games</td>\n",
       "      <td>qual</td>\n",
       "      <td>Tokyo, Japan</td>\n",
       "      <td>FX</td>\n",
       "      <td>64.0</td>\n",
       "      <td>4.6</td>\n",
       "      <td>7.633</td>\n",
       "      <td>NaN</td>\n",
       "      <td>12.233</td>\n",
       "    </tr>\n",
       "    <tr>\n",
       "      <th>2</th>\n",
       "      <td>ABDUL</td>\n",
       "      <td>HADI</td>\n",
       "      <td>w</td>\n",
       "      <td>MAS</td>\n",
       "      <td>2021-07-25</td>\n",
       "      <td>Olympic Games</td>\n",
       "      <td>qual</td>\n",
       "      <td>Tokyo, Japan</td>\n",
       "      <td>UE</td>\n",
       "      <td>74.0</td>\n",
       "      <td>5.1</td>\n",
       "      <td>6.500</td>\n",
       "      <td>NaN</td>\n",
       "      <td>11.600</td>\n",
       "    </tr>\n",
       "    <tr>\n",
       "      <th>3</th>\n",
       "      <td>ABDUL</td>\n",
       "      <td>HADI</td>\n",
       "      <td>w</td>\n",
       "      <td>MAS</td>\n",
       "      <td>2021-07-25</td>\n",
       "      <td>Olympic Games</td>\n",
       "      <td>qual</td>\n",
       "      <td>Tokyo, Japan</td>\n",
       "      <td>VT</td>\n",
       "      <td>72.0</td>\n",
       "      <td>4.6</td>\n",
       "      <td>8.566</td>\n",
       "      <td>NaN</td>\n",
       "      <td>13.166</td>\n",
       "    </tr>\n",
       "    <tr>\n",
       "      <th>4</th>\n",
       "      <td>ABDUL HADI</td>\n",
       "      <td>Farah Ann</td>\n",
       "      <td>w</td>\n",
       "      <td>MAS</td>\n",
       "      <td>2021-07-25</td>\n",
       "      <td>Olympic Games</td>\n",
       "      <td>qual</td>\n",
       "      <td>Tokyo, Japan</td>\n",
       "      <td>BB</td>\n",
       "      <td>76.0</td>\n",
       "      <td>4.8</td>\n",
       "      <td>6.766</td>\n",
       "      <td>NaN</td>\n",
       "      <td>11.566</td>\n",
       "    </tr>\n",
       "  </tbody>\n",
       "</table>\n",
       "</div>"
      ],
      "text/plain": [
       "     LastName  FirstName Gender Country       Date    Competition Round  \\\n",
       "0       ABDUL       HADI      w     MAS 2021-07-25  Olympic Games  qual   \n",
       "1       ABDUL       HADI      w     MAS 2021-07-25  Olympic Games  qual   \n",
       "2       ABDUL       HADI      w     MAS 2021-07-25  Olympic Games  qual   \n",
       "3       ABDUL       HADI      w     MAS 2021-07-25  Olympic Games  qual   \n",
       "4  ABDUL HADI  Farah Ann      w     MAS 2021-07-25  Olympic Games  qual   \n",
       "\n",
       "       Location Apparatus  Rank  D_Score  E_Score  Penalty   Score  \n",
       "0  Tokyo, Japan        BB  76.0      4.8    6.766      NaN  11.566  \n",
       "1  Tokyo, Japan        FX  64.0      4.6    7.633      NaN  12.233  \n",
       "2  Tokyo, Japan        UE  74.0      5.1    6.500      NaN  11.600  \n",
       "3  Tokyo, Japan        VT  72.0      4.6    8.566      NaN  13.166  \n",
       "4  Tokyo, Japan        BB  76.0      4.8    6.766      NaN  11.566  "
      ]
     },
     "execution_count": 10,
     "metadata": {},
     "output_type": "execute_result"
    }
   ],
   "source": [
    "df.head()"
   ]
  },
  {
   "cell_type": "code",
   "execution_count": 11,
   "id": "df0699da",
   "metadata": {},
   "outputs": [
    {
     "data": {
      "text/plain": [
       "Competition\n",
       "Olympic Games    765\n",
       "Name: count, dtype: int64"
      ]
     },
     "execution_count": 11,
     "metadata": {},
     "output_type": "execute_result"
    }
   ],
   "source": [
    "df[\"Competition\"].value_counts()"
   ]
  },
  {
   "cell_type": "code",
   "execution_count": null,
   "id": "2891f9b0",
   "metadata": {},
   "outputs": [],
   "source": [
    "df[\"Apparatus\"].value_counts()"
   ]
  },
  {
   "cell_type": "code",
   "execution_count": null,
   "id": "4b2b1175",
   "metadata": {},
   "outputs": [],
   "source": [
    "# # Define the values to be replaced and their replacements\n",
    "# replace_dict = {'VT1': 'VT', 'VT2': 'VT'}\n",
    "\n",
    "# # Use .replace() with the defined dictionary\n",
    "# df['Apparatus'] = df['Apparatus'].replace(replace_dict)"
   ]
  },
  {
   "cell_type": "code",
   "execution_count": null,
   "id": "fa8ffb9d",
   "metadata": {},
   "outputs": [],
   "source": [
    "df[\"Apparatus\"].value_counts()"
   ]
  },
  {
   "cell_type": "code",
   "execution_count": null,
   "id": "0bbc11d6",
   "metadata": {},
   "outputs": [],
   "source": [
    "df[\"FirstName\"].nunique()"
   ]
  },
  {
   "cell_type": "code",
   "execution_count": null,
   "id": "52cc4eb4",
   "metadata": {},
   "outputs": [],
   "source": [
    "df[\"LastName\"].nunique()"
   ]
  },
  {
   "cell_type": "code",
   "execution_count": null,
   "id": "1de4a381",
   "metadata": {},
   "outputs": [],
   "source": [
    "df[\"FirstName\"].isnull().sum()"
   ]
  },
  {
   "cell_type": "code",
   "execution_count": null,
   "id": "23b5c350",
   "metadata": {},
   "outputs": [],
   "source": [
    "df[\"LastName\"].isnull().sum()"
   ]
  },
  {
   "cell_type": "code",
   "execution_count": null,
   "id": "63c41664",
   "metadata": {},
   "outputs": [],
   "source": [
    "df[\"Name\"] = df[\"FirstName\"] + ' ' + df['LastName']"
   ]
  },
  {
   "cell_type": "code",
   "execution_count": null,
   "id": "b8ad3eb8",
   "metadata": {},
   "outputs": [],
   "source": [
    "df = df.drop(columns=[\"FirstName\", \"LastName\"])"
   ]
  },
  {
   "cell_type": "code",
   "execution_count": null,
   "id": "ce5bc7be",
   "metadata": {},
   "outputs": [],
   "source": [
    "df[\"Competition\"].value_counts()"
   ]
  },
  {
   "cell_type": "code",
   "execution_count": null,
   "id": "d01a9164",
   "metadata": {},
   "outputs": [],
   "source": [
    "df[\"Round\"].value_counts()"
   ]
  },
  {
   "cell_type": "code",
   "execution_count": null,
   "id": "201855c0",
   "metadata": {},
   "outputs": [],
   "source": [
    "df[\"Location\"].value_counts()"
   ]
  },
  {
   "cell_type": "code",
   "execution_count": null,
   "id": "55d2ab6d",
   "metadata": {},
   "outputs": [],
   "source": [
    "df.head()"
   ]
  },
  {
   "cell_type": "code",
   "execution_count": null,
   "id": "9e9e08e8",
   "metadata": {},
   "outputs": [],
   "source": [
    "df[\"Date\"].value_counts()"
   ]
  },
  {
   "cell_type": "code",
   "execution_count": null,
   "id": "569aa244",
   "metadata": {},
   "outputs": [],
   "source": [
    "df = df.drop(columns=[\"Competition\", \"Location\"])"
   ]
  },
  {
   "cell_type": "code",
   "execution_count": null,
   "id": "f28b9b80",
   "metadata": {},
   "outputs": [],
   "source": [
    "# df = df.drop(columns=[\"Gender\"])"
   ]
  },
  {
   "cell_type": "code",
   "execution_count": null,
   "id": "c2fb915c",
   "metadata": {},
   "outputs": [],
   "source": [
    "df.info()"
   ]
  },
  {
   "cell_type": "code",
   "execution_count": null,
   "id": "3ae44274",
   "metadata": {},
   "outputs": [],
   "source": [
    "df.columns"
   ]
  },
  {
   "cell_type": "code",
   "execution_count": null,
   "id": "87328a25",
   "metadata": {},
   "outputs": [],
   "source": [
    "df = df[[ 'Name','Country', 'Gender',  'Date', 'Round', 'Apparatus', 'Rank', 'D_Score',\n",
    "       'E_Score', 'Penalty', 'Score',]]"
   ]
  },
  {
   "cell_type": "code",
   "execution_count": null,
   "id": "6ff51f60",
   "metadata": {},
   "outputs": [],
   "source": [
    "df.info()"
   ]
  },
  {
   "cell_type": "code",
   "execution_count": null,
   "id": "1451b22d",
   "metadata": {},
   "outputs": [],
   "source": [
    "df['Penalty'].fillna(0, inplace=True)"
   ]
  },
  {
   "cell_type": "code",
   "execution_count": null,
   "id": "bd004fcb",
   "metadata": {},
   "outputs": [],
   "source": [
    "df.info()"
   ]
  },
  {
   "cell_type": "code",
   "execution_count": null,
   "id": "87927cab",
   "metadata": {},
   "outputs": [],
   "source": [
    "df.dropna(inplace=True)"
   ]
  },
  {
   "cell_type": "code",
   "execution_count": null,
   "id": "f8ac6f88",
   "metadata": {},
   "outputs": [],
   "source": [
    "df.info()"
   ]
  },
  {
   "cell_type": "code",
   "execution_count": null,
   "id": "bdbf6ea0",
   "metadata": {},
   "outputs": [],
   "source": [
    "# df.to_csv('usopc_clean_women_olympic.csv', index=False)"
   ]
  },
  {
   "cell_type": "code",
   "execution_count": null,
   "id": "faf64dc1",
   "metadata": {},
   "outputs": [],
   "source": [
    "usa=df[df[\"Country\"]==\"USA\"]"
   ]
  },
  {
   "cell_type": "code",
   "execution_count": null,
   "id": "b02fc420",
   "metadata": {},
   "outputs": [],
   "source": [
    "# usa.to_csv('usopc_usa_women_olympic.csv', index=False)"
   ]
  },
  {
   "cell_type": "code",
   "execution_count": null,
   "id": "05f7702b",
   "metadata": {},
   "outputs": [],
   "source": []
  }
 ],
 "metadata": {
  "kernelspec": {
   "display_name": "Python 3 (ipykernel)",
   "language": "python",
   "name": "python3"
  },
  "language_info": {
   "codemirror_mode": {
    "name": "ipython",
    "version": 3
   },
   "file_extension": ".py",
   "mimetype": "text/x-python",
   "name": "python",
   "nbconvert_exporter": "python",
   "pygments_lexer": "ipython3",
   "version": "3.9.12"
  }
 },
 "nbformat": 4,
 "nbformat_minor": 5
}
