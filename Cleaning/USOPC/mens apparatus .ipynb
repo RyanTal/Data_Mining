{
 "cells": [
  {
   "cell_type": "code",
   "execution_count": 1,
   "id": "070fa7e1",
   "metadata": {},
   "outputs": [],
   "source": [
    "import pandas as pd\n",
    "import numpy as np"
   ]
  },
  {
   "cell_type": "code",
   "execution_count": 3,
   "id": "d92a1e89",
   "metadata": {},
   "outputs": [],
   "source": [
    "df1 = pd.read_csv(\"../../Data/cleandata22-23/data_2017_2021.csv\")"
   ]
  },
  {
   "cell_type": "code",
   "execution_count": 6,
   "id": "673b1c3d",
   "metadata": {},
   "outputs": [],
   "source": [
    "df = pd.read_csv(\"../../Data/cleandata22-23/data_2022_2023.csv\")"
   ]
  },
  {
   "cell_type": "code",
   "execution_count": 7,
   "id": "65b5c6e5",
   "metadata": {},
   "outputs": [
    {
     "data": {
      "text/plain": [
       "Gender\n",
       "w    1049\n",
       "Name: count, dtype: int64"
      ]
     },
     "execution_count": 7,
     "metadata": {},
     "output_type": "execute_result"
    }
   ],
   "source": [
    "df1['Gender'].value_counts()"
   ]
  },
  {
   "cell_type": "code",
   "execution_count": 8,
   "id": "434ded64",
   "metadata": {
    "scrolled": true
   },
   "outputs": [
    {
     "data": {
      "text/html": [
       "<div>\n",
       "<style scoped>\n",
       "    .dataframe tbody tr th:only-of-type {\n",
       "        vertical-align: middle;\n",
       "    }\n",
       "\n",
       "    .dataframe tbody tr th {\n",
       "        vertical-align: top;\n",
       "    }\n",
       "\n",
       "    .dataframe thead th {\n",
       "        text-align: right;\n",
       "    }\n",
       "</style>\n",
       "<table border=\"1\" class=\"dataframe\">\n",
       "  <thead>\n",
       "    <tr style=\"text-align: right;\">\n",
       "      <th></th>\n",
       "      <th>LastName</th>\n",
       "      <th>FirstName</th>\n",
       "      <th>Gender</th>\n",
       "      <th>Country</th>\n",
       "      <th>Date</th>\n",
       "      <th>Competition</th>\n",
       "      <th>Round</th>\n",
       "      <th>Location</th>\n",
       "      <th>Apparatus</th>\n",
       "      <th>Rank</th>\n",
       "      <th>D_Score</th>\n",
       "      <th>E_Score</th>\n",
       "      <th>Penalty</th>\n",
       "      <th>Score</th>\n",
       "    </tr>\n",
       "  </thead>\n",
       "  <tbody>\n",
       "    <tr>\n",
       "      <th>0</th>\n",
       "      <td>AAS</td>\n",
       "      <td>Fredrik</td>\n",
       "      <td>m</td>\n",
       "      <td>NOR</td>\n",
       "      <td>24-27 Feb 2022</td>\n",
       "      <td>2022 Cottbus World Cup</td>\n",
       "      <td>qual</td>\n",
       "      <td>Cottbus, Germany</td>\n",
       "      <td>HB</td>\n",
       "      <td>18.0</td>\n",
       "      <td>3.9</td>\n",
       "      <td>8.266</td>\n",
       "      <td>NaN</td>\n",
       "      <td>12.166</td>\n",
       "    </tr>\n",
       "    <tr>\n",
       "      <th>1</th>\n",
       "      <td>AAS</td>\n",
       "      <td>Fredrik</td>\n",
       "      <td>m</td>\n",
       "      <td>NOR</td>\n",
       "      <td>24-27 Feb 2022</td>\n",
       "      <td>2022 Cottbus World Cup</td>\n",
       "      <td>qual</td>\n",
       "      <td>Cottbus, Germany</td>\n",
       "      <td>HB</td>\n",
       "      <td>18.0</td>\n",
       "      <td>3.9</td>\n",
       "      <td>8.266</td>\n",
       "      <td>NaN</td>\n",
       "      <td>12.166</td>\n",
       "    </tr>\n",
       "    <tr>\n",
       "      <th>2</th>\n",
       "      <td>AAS</td>\n",
       "      <td>Fredrik</td>\n",
       "      <td>m</td>\n",
       "      <td>NOR</td>\n",
       "      <td>24-27 Feb 2022</td>\n",
       "      <td>2022 Cottbus World Cup</td>\n",
       "      <td>qual</td>\n",
       "      <td>Cottbus, Germany</td>\n",
       "      <td>PB</td>\n",
       "      <td>23.0</td>\n",
       "      <td>3.9</td>\n",
       "      <td>6.900</td>\n",
       "      <td>NaN</td>\n",
       "      <td>10.800</td>\n",
       "    </tr>\n",
       "    <tr>\n",
       "      <th>3</th>\n",
       "      <td>AAS</td>\n",
       "      <td>Fredrik</td>\n",
       "      <td>m</td>\n",
       "      <td>NOR</td>\n",
       "      <td>24-27 Feb 2022</td>\n",
       "      <td>2022 Cottbus World Cup</td>\n",
       "      <td>qual</td>\n",
       "      <td>Cottbus, Germany</td>\n",
       "      <td>PB</td>\n",
       "      <td>23.0</td>\n",
       "      <td>3.9</td>\n",
       "      <td>6.900</td>\n",
       "      <td>NaN</td>\n",
       "      <td>10.800</td>\n",
       "    </tr>\n",
       "    <tr>\n",
       "      <th>4</th>\n",
       "      <td>AAS</td>\n",
       "      <td>Fredrik</td>\n",
       "      <td>m</td>\n",
       "      <td>NOR</td>\n",
       "      <td>24-27 Feb 2022</td>\n",
       "      <td>2022 Cottbus World Cup</td>\n",
       "      <td>qual</td>\n",
       "      <td>Cottbus, Germany</td>\n",
       "      <td>PH</td>\n",
       "      <td>33.0</td>\n",
       "      <td>4.2</td>\n",
       "      <td>6.666</td>\n",
       "      <td>NaN</td>\n",
       "      <td>10.866</td>\n",
       "    </tr>\n",
       "  </tbody>\n",
       "</table>\n",
       "</div>"
      ],
      "text/plain": [
       "  LastName FirstName Gender Country            Date             Competition  \\\n",
       "0      AAS   Fredrik      m     NOR  24-27 Feb 2022  2022 Cottbus World Cup   \n",
       "1      AAS   Fredrik      m     NOR  24-27 Feb 2022  2022 Cottbus World Cup   \n",
       "2      AAS   Fredrik      m     NOR  24-27 Feb 2022  2022 Cottbus World Cup   \n",
       "3      AAS   Fredrik      m     NOR  24-27 Feb 2022  2022 Cottbus World Cup   \n",
       "4      AAS   Fredrik      m     NOR  24-27 Feb 2022  2022 Cottbus World Cup   \n",
       "\n",
       "  Round          Location Apparatus  Rank  D_Score  E_Score  Penalty   Score  \n",
       "0  qual  Cottbus, Germany        HB  18.0      3.9    8.266      NaN  12.166  \n",
       "1  qual  Cottbus, Germany        HB  18.0      3.9    8.266      NaN  12.166  \n",
       "2  qual  Cottbus, Germany        PB  23.0      3.9    6.900      NaN  10.800  \n",
       "3  qual  Cottbus, Germany        PB  23.0      3.9    6.900      NaN  10.800  \n",
       "4  qual  Cottbus, Germany        PH  33.0      4.2    6.666      NaN  10.866  "
      ]
     },
     "execution_count": 8,
     "metadata": {},
     "output_type": "execute_result"
    }
   ],
   "source": [
    "df.head()"
   ]
  },
  {
   "cell_type": "code",
   "execution_count": 9,
   "id": "626e479d",
   "metadata": {},
   "outputs": [
    {
     "name": "stdout",
     "output_type": "stream",
     "text": [
      "<class 'pandas.core.frame.DataFrame'>\n",
      "RangeIndex: 24443 entries, 0 to 24442\n",
      "Data columns (total 14 columns):\n",
      " #   Column       Non-Null Count  Dtype  \n",
      "---  ------       --------------  -----  \n",
      " 0   LastName     24435 non-null  object \n",
      " 1   FirstName    24421 non-null  object \n",
      " 2   Gender       24443 non-null  object \n",
      " 3   Country      24439 non-null  object \n",
      " 4   Date         24443 non-null  object \n",
      " 5   Competition  24443 non-null  object \n",
      " 6   Round        24443 non-null  object \n",
      " 7   Location     24443 non-null  object \n",
      " 8   Apparatus    24443 non-null  object \n",
      " 9   Rank         21526 non-null  float64\n",
      " 10  D_Score      24443 non-null  float64\n",
      " 11  E_Score      24443 non-null  float64\n",
      " 12  Penalty      4666 non-null   float64\n",
      " 13  Score        24443 non-null  float64\n",
      "dtypes: float64(5), object(9)\n",
      "memory usage: 2.6+ MB\n"
     ]
    }
   ],
   "source": [
    "df.info()"
   ]
  },
  {
   "cell_type": "code",
   "execution_count": 10,
   "id": "65317d0c",
   "metadata": {},
   "outputs": [],
   "source": [
    "df['LastName'].fillna('none', inplace=True)\n",
    "df['FirstName'].fillna('none', inplace=True)"
   ]
  },
  {
   "cell_type": "code",
   "execution_count": 11,
   "id": "28fa8e83",
   "metadata": {},
   "outputs": [],
   "source": [
    "mens = df[df['Gender'] == \"m\"]"
   ]
  },
  {
   "cell_type": "code",
   "execution_count": 12,
   "id": "7458d296",
   "metadata": {},
   "outputs": [
    {
     "data": {
      "text/plain": [
       "Apparatus\n",
       "PH     2558\n",
       "FX     2439\n",
       "PB     2374\n",
       "SR     2319\n",
       "HB     2309\n",
       "VT1    1654\n",
       "VT2     865\n",
       "VT      580\n",
       "hb       35\n",
       "Name: count, dtype: int64"
      ]
     },
     "execution_count": 12,
     "metadata": {},
     "output_type": "execute_result"
    }
   ],
   "source": [
    "mens['Apparatus'].value_counts()"
   ]
  },
  {
   "cell_type": "code",
   "execution_count": 13,
   "id": "4a2f7383",
   "metadata": {},
   "outputs": [],
   "source": [
    "df = mens.copy()"
   ]
  },
  {
   "cell_type": "code",
   "execution_count": 14,
   "id": "3bfe6041",
   "metadata": {},
   "outputs": [],
   "source": [
    "df['Apparatus'] = df['Apparatus'].str.upper()"
   ]
  },
  {
   "cell_type": "code",
   "execution_count": 15,
   "id": "ea1d2b9a",
   "metadata": {},
   "outputs": [
    {
     "data": {
      "text/plain": [
       "Apparatus\n",
       "PH     2558\n",
       "FX     2439\n",
       "PB     2374\n",
       "HB     2344\n",
       "SR     2319\n",
       "VT1    1654\n",
       "VT2     865\n",
       "VT      580\n",
       "Name: count, dtype: int64"
      ]
     },
     "execution_count": 15,
     "metadata": {},
     "output_type": "execute_result"
    }
   ],
   "source": [
    "df['Apparatus'].value_counts()"
   ]
  },
  {
   "cell_type": "code",
   "execution_count": 16,
   "id": "fdca0469",
   "metadata": {},
   "outputs": [],
   "source": [
    "df['year'] = df['Date'].str[-4:]"
   ]
  },
  {
   "cell_type": "code",
   "execution_count": 17,
   "id": "1cc15497",
   "metadata": {},
   "outputs": [
    {
     "data": {
      "text/html": [
       "<div>\n",
       "<style scoped>\n",
       "    .dataframe tbody tr th:only-of-type {\n",
       "        vertical-align: middle;\n",
       "    }\n",
       "\n",
       "    .dataframe tbody tr th {\n",
       "        vertical-align: top;\n",
       "    }\n",
       "\n",
       "    .dataframe thead th {\n",
       "        text-align: right;\n",
       "    }\n",
       "</style>\n",
       "<table border=\"1\" class=\"dataframe\">\n",
       "  <thead>\n",
       "    <tr style=\"text-align: right;\">\n",
       "      <th></th>\n",
       "      <th>LastName</th>\n",
       "      <th>FirstName</th>\n",
       "      <th>Gender</th>\n",
       "      <th>Country</th>\n",
       "      <th>Date</th>\n",
       "      <th>Competition</th>\n",
       "      <th>Round</th>\n",
       "      <th>Location</th>\n",
       "      <th>Apparatus</th>\n",
       "      <th>Rank</th>\n",
       "      <th>D_Score</th>\n",
       "      <th>E_Score</th>\n",
       "      <th>Penalty</th>\n",
       "      <th>Score</th>\n",
       "      <th>year</th>\n",
       "    </tr>\n",
       "  </thead>\n",
       "  <tbody>\n",
       "    <tr>\n",
       "      <th>0</th>\n",
       "      <td>AAS</td>\n",
       "      <td>Fredrik</td>\n",
       "      <td>m</td>\n",
       "      <td>NOR</td>\n",
       "      <td>24-27 Feb 2022</td>\n",
       "      <td>2022 Cottbus World Cup</td>\n",
       "      <td>qual</td>\n",
       "      <td>Cottbus, Germany</td>\n",
       "      <td>HB</td>\n",
       "      <td>18.0</td>\n",
       "      <td>3.9</td>\n",
       "      <td>8.266</td>\n",
       "      <td>NaN</td>\n",
       "      <td>12.166</td>\n",
       "      <td>2022</td>\n",
       "    </tr>\n",
       "  </tbody>\n",
       "</table>\n",
       "</div>"
      ],
      "text/plain": [
       "  LastName FirstName Gender Country            Date             Competition  \\\n",
       "0      AAS   Fredrik      m     NOR  24-27 Feb 2022  2022 Cottbus World Cup   \n",
       "\n",
       "  Round          Location Apparatus  Rank  D_Score  E_Score  Penalty   Score  \\\n",
       "0  qual  Cottbus, Germany        HB  18.0      3.9    8.266      NaN  12.166   \n",
       "\n",
       "   year  \n",
       "0  2022  "
      ]
     },
     "execution_count": 17,
     "metadata": {},
     "output_type": "execute_result"
    }
   ],
   "source": [
    "df.head(1)"
   ]
  },
  {
   "cell_type": "code",
   "execution_count": 18,
   "id": "1f8a37ab",
   "metadata": {},
   "outputs": [],
   "source": [
    "df['LastName'] = df['LastName'].str.lower()\n",
    "df['FirstName'] = df['FirstName'].str.lower()"
   ]
  },
  {
   "cell_type": "code",
   "execution_count": 19,
   "id": "30749447",
   "metadata": {},
   "outputs": [],
   "source": [
    "df = df.drop(columns = ['Gender', 'Location']) "
   ]
  },
  {
   "cell_type": "code",
   "execution_count": 20,
   "id": "b17f34b3",
   "metadata": {},
   "outputs": [],
   "source": [
    "df['name'] = df['FirstName'] + \" \" + df['LastName'].str.lower()\n"
   ]
  },
  {
   "cell_type": "code",
   "execution_count": 21,
   "id": "5910627b",
   "metadata": {},
   "outputs": [],
   "source": [
    "df = df.drop(columns=[\"LastName\", \"FirstName\", \"Date\"])"
   ]
  },
  {
   "cell_type": "code",
   "execution_count": 22,
   "id": "d1396749",
   "metadata": {},
   "outputs": [
    {
     "data": {
      "text/plain": [
       "array(['2022 Cottbus World Cup', '2023 Cottbus World Cup',\n",
       "       '2023 FISU World University Games',\n",
       "       '2022 51st FIG Artistic Gymnastics World Championships',\n",
       "       '2022 Senior European Championships',\n",
       "       '2023 52nd FIG Artistic Gymnastics World Championships',\n",
       "       '2023 Senior European Championships',\n",
       "       '2023 Tel Aviv World Challenge Cup', '2023 Baku World Cup',\n",
       "       '2022 Cairo World Cup', '2022 Paris World Challenge Cup',\n",
       "       '2023 Cairo World Cup',\n",
       "       '2023 10th Senior Artistic Gymnastics Asian Championships',\n",
       "       '2022 9th Senior Artistic Gymnastics Asian Championships',\n",
       "       '2022 Baku World Cup', '2022 Doha World Cup',\n",
       "       '2023 Varna World Challenge Cup', '2023 Doha World Cup',\n",
       "       'HANGZHOU 2022 19th Asian Games',\n",
       "       'BIRMINGHAM 2022 Commonwealth Games',\n",
       "       '2023 Central American and Caribbean Games',\n",
       "       '2023 Artistic Gymnastics Senior Pan American Championships',\n",
       "       'SANTIAGO 2023 XIX Pan American Games', '2022 U.S. Classic',\n",
       "       '2022 Mersin World Challenge Cup',\n",
       "       '2023 Osijek World Challenge Cup',\n",
       "       '2022 Osijek World Challenge Cup',\n",
       "       '2022 Szombathely World Challenge Cup',\n",
       "       '2022 Varna World Challenge Cup', '2023 Core Hydration Classic',\n",
       "       '2022 U.S. Championships', '2023 U.S. Championships',\n",
       "       '2023 Winter Cup', 'EnBW DTB Pokal Team Challenge 2023',\n",
       "       '2022 Winter Cup', '2023 British Gymnastics Championships',\n",
       "       '2022 Koper World Challenge Cup',\n",
       "       '2022 British Gymnastics Championships',\n",
       "       'Oceania Continental Championships 2023'], dtype=object)"
      ]
     },
     "execution_count": 22,
     "metadata": {},
     "output_type": "execute_result"
    }
   ],
   "source": [
    "df[\"Competition\"].unique()"
   ]
  },
  {
   "cell_type": "code",
   "execution_count": 23,
   "id": "3905228f",
   "metadata": {},
   "outputs": [
    {
     "name": "stdout",
     "output_type": "stream",
     "text": [
      "<class 'pandas.core.frame.DataFrame'>\n",
      "Index: 15133 entries, 0 to 24434\n",
      "Data columns (total 11 columns):\n",
      " #   Column       Non-Null Count  Dtype  \n",
      "---  ------       --------------  -----  \n",
      " 0   Country      15130 non-null  object \n",
      " 1   Competition  15133 non-null  object \n",
      " 2   Round        15133 non-null  object \n",
      " 3   Apparatus    15133 non-null  object \n",
      " 4   Rank         13267 non-null  float64\n",
      " 5   D_Score      15133 non-null  float64\n",
      " 6   E_Score      15133 non-null  float64\n",
      " 7   Penalty      2704 non-null   float64\n",
      " 8   Score        15133 non-null  float64\n",
      " 9   year         15133 non-null  object \n",
      " 10  name         15133 non-null  object \n",
      "dtypes: float64(5), object(6)\n",
      "memory usage: 1.4+ MB\n"
     ]
    }
   ],
   "source": [
    "df.info()"
   ]
  },
  {
   "cell_type": "code",
   "execution_count": 24,
   "id": "22ba5f8f",
   "metadata": {},
   "outputs": [],
   "source": [
    "df['Penalty'].fillna(0, inplace=True)"
   ]
  },
  {
   "cell_type": "code",
   "execution_count": 25,
   "id": "52ddc5c5",
   "metadata": {},
   "outputs": [],
   "source": [
    "df['Country'].fillna('none', inplace=True)"
   ]
  },
  {
   "cell_type": "code",
   "execution_count": 26,
   "id": "79693467",
   "metadata": {},
   "outputs": [],
   "source": [
    "df=df.dropna()"
   ]
  },
  {
   "cell_type": "code",
   "execution_count": 27,
   "id": "e98ee178",
   "metadata": {},
   "outputs": [
    {
     "data": {
      "text/html": [
       "<div>\n",
       "<style scoped>\n",
       "    .dataframe tbody tr th:only-of-type {\n",
       "        vertical-align: middle;\n",
       "    }\n",
       "\n",
       "    .dataframe tbody tr th {\n",
       "        vertical-align: top;\n",
       "    }\n",
       "\n",
       "    .dataframe thead th {\n",
       "        text-align: right;\n",
       "    }\n",
       "</style>\n",
       "<table border=\"1\" class=\"dataframe\">\n",
       "  <thead>\n",
       "    <tr style=\"text-align: right;\">\n",
       "      <th></th>\n",
       "      <th>Country</th>\n",
       "      <th>Competition</th>\n",
       "      <th>Round</th>\n",
       "      <th>Apparatus</th>\n",
       "      <th>Rank</th>\n",
       "      <th>D_Score</th>\n",
       "      <th>E_Score</th>\n",
       "      <th>Penalty</th>\n",
       "      <th>Score</th>\n",
       "      <th>year</th>\n",
       "      <th>name</th>\n",
       "    </tr>\n",
       "  </thead>\n",
       "  <tbody>\n",
       "    <tr>\n",
       "      <th>0</th>\n",
       "      <td>NOR</td>\n",
       "      <td>2022 Cottbus World Cup</td>\n",
       "      <td>qual</td>\n",
       "      <td>HB</td>\n",
       "      <td>18.0</td>\n",
       "      <td>3.9</td>\n",
       "      <td>8.266</td>\n",
       "      <td>0.0</td>\n",
       "      <td>12.166</td>\n",
       "      <td>2022</td>\n",
       "      <td>fredrik aas</td>\n",
       "    </tr>\n",
       "    <tr>\n",
       "      <th>1</th>\n",
       "      <td>NOR</td>\n",
       "      <td>2022 Cottbus World Cup</td>\n",
       "      <td>qual</td>\n",
       "      <td>HB</td>\n",
       "      <td>18.0</td>\n",
       "      <td>3.9</td>\n",
       "      <td>8.266</td>\n",
       "      <td>0.0</td>\n",
       "      <td>12.166</td>\n",
       "      <td>2022</td>\n",
       "      <td>fredrik aas</td>\n",
       "    </tr>\n",
       "    <tr>\n",
       "      <th>2</th>\n",
       "      <td>NOR</td>\n",
       "      <td>2022 Cottbus World Cup</td>\n",
       "      <td>qual</td>\n",
       "      <td>PB</td>\n",
       "      <td>23.0</td>\n",
       "      <td>3.9</td>\n",
       "      <td>6.900</td>\n",
       "      <td>0.0</td>\n",
       "      <td>10.800</td>\n",
       "      <td>2022</td>\n",
       "      <td>fredrik aas</td>\n",
       "    </tr>\n",
       "    <tr>\n",
       "      <th>3</th>\n",
       "      <td>NOR</td>\n",
       "      <td>2022 Cottbus World Cup</td>\n",
       "      <td>qual</td>\n",
       "      <td>PB</td>\n",
       "      <td>23.0</td>\n",
       "      <td>3.9</td>\n",
       "      <td>6.900</td>\n",
       "      <td>0.0</td>\n",
       "      <td>10.800</td>\n",
       "      <td>2022</td>\n",
       "      <td>fredrik aas</td>\n",
       "    </tr>\n",
       "    <tr>\n",
       "      <th>4</th>\n",
       "      <td>NOR</td>\n",
       "      <td>2022 Cottbus World Cup</td>\n",
       "      <td>qual</td>\n",
       "      <td>PH</td>\n",
       "      <td>33.0</td>\n",
       "      <td>4.2</td>\n",
       "      <td>6.666</td>\n",
       "      <td>0.0</td>\n",
       "      <td>10.866</td>\n",
       "      <td>2022</td>\n",
       "      <td>fredrik aas</td>\n",
       "    </tr>\n",
       "    <tr>\n",
       "      <th>...</th>\n",
       "      <td>...</td>\n",
       "      <td>...</td>\n",
       "      <td>...</td>\n",
       "      <td>...</td>\n",
       "      <td>...</td>\n",
       "      <td>...</td>\n",
       "      <td>...</td>\n",
       "      <td>...</td>\n",
       "      <td>...</td>\n",
       "      <td>...</td>\n",
       "      <td>...</td>\n",
       "    </tr>\n",
       "    <tr>\n",
       "      <th>24430</th>\n",
       "      <td>TUR</td>\n",
       "      <td>2023 Tel Aviv World Challenge Cup</td>\n",
       "      <td>final</td>\n",
       "      <td>FX</td>\n",
       "      <td>8.0</td>\n",
       "      <td>4.8</td>\n",
       "      <td>7.050</td>\n",
       "      <td>0.0</td>\n",
       "      <td>11.850</td>\n",
       "      <td>2023</td>\n",
       "      <td>ahmet önder</td>\n",
       "    </tr>\n",
       "    <tr>\n",
       "      <th>24431</th>\n",
       "      <td>TUR</td>\n",
       "      <td>2023 Tel Aviv World Challenge Cup</td>\n",
       "      <td>qual</td>\n",
       "      <td>FX</td>\n",
       "      <td>3.0</td>\n",
       "      <td>5.8</td>\n",
       "      <td>7.950</td>\n",
       "      <td>0.1</td>\n",
       "      <td>13.650</td>\n",
       "      <td>2023</td>\n",
       "      <td>ahmet önder</td>\n",
       "    </tr>\n",
       "    <tr>\n",
       "      <th>24432</th>\n",
       "      <td>TUR</td>\n",
       "      <td>2023 Tel Aviv World Challenge Cup</td>\n",
       "      <td>qual</td>\n",
       "      <td>HB</td>\n",
       "      <td>10.0</td>\n",
       "      <td>5.0</td>\n",
       "      <td>6.250</td>\n",
       "      <td>0.0</td>\n",
       "      <td>11.250</td>\n",
       "      <td>2023</td>\n",
       "      <td>ahmet önder</td>\n",
       "    </tr>\n",
       "    <tr>\n",
       "      <th>24433</th>\n",
       "      <td>TUR</td>\n",
       "      <td>2023 Tel Aviv World Challenge Cup</td>\n",
       "      <td>final</td>\n",
       "      <td>PB</td>\n",
       "      <td>1.0</td>\n",
       "      <td>6.3</td>\n",
       "      <td>8.050</td>\n",
       "      <td>0.0</td>\n",
       "      <td>14.350</td>\n",
       "      <td>2023</td>\n",
       "      <td>ahmet önder</td>\n",
       "    </tr>\n",
       "    <tr>\n",
       "      <th>24434</th>\n",
       "      <td>TUR</td>\n",
       "      <td>2023 Tel Aviv World Challenge Cup</td>\n",
       "      <td>qual</td>\n",
       "      <td>PB</td>\n",
       "      <td>8.0</td>\n",
       "      <td>6.0</td>\n",
       "      <td>7.400</td>\n",
       "      <td>0.0</td>\n",
       "      <td>13.400</td>\n",
       "      <td>2023</td>\n",
       "      <td>ahmet önder</td>\n",
       "    </tr>\n",
       "  </tbody>\n",
       "</table>\n",
       "<p>13267 rows × 11 columns</p>\n",
       "</div>"
      ],
      "text/plain": [
       "      Country                        Competition  Round Apparatus  Rank  \\\n",
       "0         NOR             2022 Cottbus World Cup   qual        HB  18.0   \n",
       "1         NOR             2022 Cottbus World Cup   qual        HB  18.0   \n",
       "2         NOR             2022 Cottbus World Cup   qual        PB  23.0   \n",
       "3         NOR             2022 Cottbus World Cup   qual        PB  23.0   \n",
       "4         NOR             2022 Cottbus World Cup   qual        PH  33.0   \n",
       "...       ...                                ...    ...       ...   ...   \n",
       "24430     TUR  2023 Tel Aviv World Challenge Cup  final        FX   8.0   \n",
       "24431     TUR  2023 Tel Aviv World Challenge Cup   qual        FX   3.0   \n",
       "24432     TUR  2023 Tel Aviv World Challenge Cup   qual        HB  10.0   \n",
       "24433     TUR  2023 Tel Aviv World Challenge Cup  final        PB   1.0   \n",
       "24434     TUR  2023 Tel Aviv World Challenge Cup   qual        PB   8.0   \n",
       "\n",
       "       D_Score  E_Score  Penalty   Score  year         name  \n",
       "0          3.9    8.266      0.0  12.166  2022  fredrik aas  \n",
       "1          3.9    8.266      0.0  12.166  2022  fredrik aas  \n",
       "2          3.9    6.900      0.0  10.800  2022  fredrik aas  \n",
       "3          3.9    6.900      0.0  10.800  2022  fredrik aas  \n",
       "4          4.2    6.666      0.0  10.866  2022  fredrik aas  \n",
       "...        ...      ...      ...     ...   ...          ...  \n",
       "24430      4.8    7.050      0.0  11.850  2023  ahmet önder  \n",
       "24431      5.8    7.950      0.1  13.650  2023  ahmet önder  \n",
       "24432      5.0    6.250      0.0  11.250  2023  ahmet önder  \n",
       "24433      6.3    8.050      0.0  14.350  2023  ahmet önder  \n",
       "24434      6.0    7.400      0.0  13.400  2023  ahmet önder  \n",
       "\n",
       "[13267 rows x 11 columns]"
      ]
     },
     "execution_count": 27,
     "metadata": {},
     "output_type": "execute_result"
    }
   ],
   "source": [
    "df"
   ]
  },
  {
   "cell_type": "code",
   "execution_count": 28,
   "id": "fd3d450a",
   "metadata": {},
   "outputs": [
    {
     "data": {
      "text/plain": [
       "Apparatus\n",
       "PH     2262\n",
       "FX     2148\n",
       "PB     2067\n",
       "HB     2046\n",
       "SR     2022\n",
       "VT1    1593\n",
       "VT2     862\n",
       "VT      267\n",
       "Name: count, dtype: int64"
      ]
     },
     "execution_count": 28,
     "metadata": {},
     "output_type": "execute_result"
    }
   ],
   "source": [
    "df['Apparatus'].value_counts()"
   ]
  },
  {
   "cell_type": "code",
   "execution_count": 29,
   "id": "9f513a51",
   "metadata": {},
   "outputs": [],
   "source": [
    "hb = df[df['Apparatus'].str.contains('HB')]\n",
    "ph = df[df['Apparatus'].str.contains('PH')]\n",
    "fx = df[df['Apparatus'].str.contains('FX')]\n",
    "pb = df[df['Apparatus'].str.contains('PB')]\n",
    "sr = df[df['Apparatus'].str.contains('SR')]"
   ]
  },
  {
   "cell_type": "code",
   "execution_count": 30,
   "id": "5d2a5761",
   "metadata": {},
   "outputs": [],
   "source": [
    "# List of values to filter\n",
    "values_to_filter = ['VT', 'VT1', 'VT2']\n",
    "\n",
    "# Create a new DataFrame with 'Apparatus' containing specified values\n",
    "vt = df[df['Apparatus'].isin(values_to_filter)]\n"
   ]
  },
  {
   "cell_type": "code",
   "execution_count": null,
   "id": "864aa963",
   "metadata": {},
   "outputs": [],
   "source": []
  },
  {
   "cell_type": "code",
   "execution_count": 32,
   "id": "09421af5",
   "metadata": {},
   "outputs": [],
   "source": [
    "# hb.to_csv('hb_men.csv', index=False)\n",
    "# ph.to_csv('ph_men.csv', index=False)\n",
    "# fx.to_csv('fx_men.csv', index=False)\n",
    "# pb.to_csv('pb_men.csv', index=False)\n",
    "# sr.to_csv('sr_men.csv', index=False)\n",
    "# vt.to_csv('vt_men.csv', index=False)\n"
   ]
  },
  {
   "cell_type": "code",
   "execution_count": null,
   "id": "348146c2",
   "metadata": {},
   "outputs": [],
   "source": []
  }
 ],
 "metadata": {
  "kernelspec": {
   "display_name": "Python 3 (ipykernel)",
   "language": "python",
   "name": "python3"
  },
  "language_info": {
   "codemirror_mode": {
    "name": "ipython",
    "version": 3
   },
   "file_extension": ".py",
   "mimetype": "text/x-python",
   "name": "python",
   "nbconvert_exporter": "python",
   "pygments_lexer": "ipython3",
   "version": "3.8.18"
  }
 },
 "nbformat": 4,
 "nbformat_minor": 5
}
