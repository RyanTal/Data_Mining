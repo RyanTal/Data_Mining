{
 "cells": [
  {
   "cell_type": "code",
   "execution_count": 1,
   "id": "a0ae708e",
   "metadata": {},
   "outputs": [],
   "source": [
    "import pandas as pd\n",
    "import numpy as np"
   ]
  },
  {
   "cell_type": "code",
   "execution_count": 2,
   "id": "adc54fa4",
   "metadata": {},
   "outputs": [],
   "source": [
    "# df = pd.read_csv(\"../../Data/USOPC/cleandata/data_2017_2021.csv\")"
   ]
  },
  {
   "cell_type": "code",
   "execution_count": 3,
   "id": "cb3fa954",
   "metadata": {},
   "outputs": [],
   "source": [
    "df = pd.read_csv(\"../../Data/USOPC/cleandata/data_2022_2023.csv\")"
   ]
  },
  {
   "cell_type": "code",
   "execution_count": 4,
   "id": "3aa0091c",
   "metadata": {},
   "outputs": [
    {
     "name": "stdout",
     "output_type": "stream",
     "text": [
      "<class 'pandas.core.frame.DataFrame'>\n",
      "RangeIndex: 15450 entries, 0 to 15449\n",
      "Data columns (total 14 columns):\n",
      " #   Column       Non-Null Count  Dtype  \n",
      "---  ------       --------------  -----  \n",
      " 0   LastName     15442 non-null  object \n",
      " 1   FirstName    15432 non-null  object \n",
      " 2   Gender       15450 non-null  object \n",
      " 3   Country      15236 non-null  object \n",
      " 4   Date         15450 non-null  object \n",
      " 5   Competition  15450 non-null  object \n",
      " 6   Round        15450 non-null  object \n",
      " 7   Location     15450 non-null  object \n",
      " 8   Apparatus    15450 non-null  object \n",
      " 9   Rank         13819 non-null  float64\n",
      " 10  D_Score      15289 non-null  float64\n",
      " 11  E_Score      15214 non-null  float64\n",
      " 12  Penalty      3217 non-null   float64\n",
      " 13  Score        15287 non-null  float64\n",
      "dtypes: float64(5), object(9)\n",
      "memory usage: 1.7+ MB\n"
     ]
    }
   ],
   "source": [
    "df.info()"
   ]
  },
  {
   "cell_type": "code",
   "execution_count": 5,
   "id": "b46e9c1f",
   "metadata": {},
   "outputs": [],
   "source": [
    "# Split the \"Date\" column into two separate columns\n",
    "df[['StartDate', 'EndDate']] = df['Date'].str.split('-', n=1, expand=True)\n",
    "\n",
    "# If a \"-\" is not present, set the same value for both columns\n",
    "df['EndDate'].fillna(df['StartDate'], inplace=True)"
   ]
  },
  {
   "cell_type": "code",
   "execution_count": 6,
   "id": "90e4549e",
   "metadata": {},
   "outputs": [
    {
     "data": {
      "text/plain": [
       "Gender\n",
       "m    9610\n",
       "w    5840\n",
       "Name: count, dtype: int64"
      ]
     },
     "execution_count": 6,
     "metadata": {},
     "output_type": "execute_result"
    }
   ],
   "source": [
    "df[\"Gender\"].value_counts()"
   ]
  },
  {
   "cell_type": "code",
   "execution_count": 7,
   "id": "a255d8cd",
   "metadata": {},
   "outputs": [],
   "source": [
    "df['Date'] = df[\"EndDate\"]"
   ]
  },
  {
   "cell_type": "code",
   "execution_count": 8,
   "id": "9cffbbbe",
   "metadata": {},
   "outputs": [],
   "source": [
    "df = df.drop(columns=[\"EndDate\", \"StartDate\"])"
   ]
  },
  {
   "cell_type": "code",
   "execution_count": 9,
   "id": "ee548eb4",
   "metadata": {},
   "outputs": [
    {
     "data": {
      "text/html": [
       "<div>\n",
       "<style scoped>\n",
       "    .dataframe tbody tr th:only-of-type {\n",
       "        vertical-align: middle;\n",
       "    }\n",
       "\n",
       "    .dataframe tbody tr th {\n",
       "        vertical-align: top;\n",
       "    }\n",
       "\n",
       "    .dataframe thead th {\n",
       "        text-align: right;\n",
       "    }\n",
       "</style>\n",
       "<table border=\"1\" class=\"dataframe\">\n",
       "  <thead>\n",
       "    <tr style=\"text-align: right;\">\n",
       "      <th></th>\n",
       "      <th>LastName</th>\n",
       "      <th>FirstName</th>\n",
       "      <th>Gender</th>\n",
       "      <th>Country</th>\n",
       "      <th>Date</th>\n",
       "      <th>Competition</th>\n",
       "      <th>Round</th>\n",
       "      <th>Location</th>\n",
       "      <th>Apparatus</th>\n",
       "      <th>Rank</th>\n",
       "      <th>D_Score</th>\n",
       "      <th>E_Score</th>\n",
       "      <th>Penalty</th>\n",
       "      <th>Score</th>\n",
       "    </tr>\n",
       "  </thead>\n",
       "  <tbody>\n",
       "    <tr>\n",
       "      <th>0</th>\n",
       "      <td>AAS</td>\n",
       "      <td>Fredrik</td>\n",
       "      <td>m</td>\n",
       "      <td>NOR</td>\n",
       "      <td>26 Feb 2023</td>\n",
       "      <td>2023 Cottbus World Cup</td>\n",
       "      <td>qual</td>\n",
       "      <td>Cottbus, Germany</td>\n",
       "      <td>HB</td>\n",
       "      <td>39.0</td>\n",
       "      <td>4.6</td>\n",
       "      <td>6.700</td>\n",
       "      <td>NaN</td>\n",
       "      <td>11.300</td>\n",
       "    </tr>\n",
       "    <tr>\n",
       "      <th>1</th>\n",
       "      <td>AAS</td>\n",
       "      <td>Fredrik</td>\n",
       "      <td>m</td>\n",
       "      <td>NOR</td>\n",
       "      <td>26 Feb 2023</td>\n",
       "      <td>2023 Cottbus World Cup</td>\n",
       "      <td>qual</td>\n",
       "      <td>Cottbus, Germany</td>\n",
       "      <td>PH</td>\n",
       "      <td>44.0</td>\n",
       "      <td>4.4</td>\n",
       "      <td>7.800</td>\n",
       "      <td>NaN</td>\n",
       "      <td>12.200</td>\n",
       "    </tr>\n",
       "    <tr>\n",
       "      <th>2</th>\n",
       "      <td>AAS</td>\n",
       "      <td>Fredrik Bjornevik</td>\n",
       "      <td>m</td>\n",
       "      <td>NOR</td>\n",
       "      <td>5 Aug 2023</td>\n",
       "      <td>2023 FISU World University Games</td>\n",
       "      <td>qual</td>\n",
       "      <td>Chengdu, China</td>\n",
       "      <td>FX</td>\n",
       "      <td>54.0</td>\n",
       "      <td>4.0</td>\n",
       "      <td>8.566</td>\n",
       "      <td>NaN</td>\n",
       "      <td>12.566</td>\n",
       "    </tr>\n",
       "    <tr>\n",
       "      <th>3</th>\n",
       "      <td>AAS</td>\n",
       "      <td>Fredrik Bjornevik</td>\n",
       "      <td>m</td>\n",
       "      <td>NOR</td>\n",
       "      <td>5 Aug 2023</td>\n",
       "      <td>2023 FISU World University Games</td>\n",
       "      <td>qual</td>\n",
       "      <td>Chengdu, China</td>\n",
       "      <td>HB</td>\n",
       "      <td>44.0</td>\n",
       "      <td>4.6</td>\n",
       "      <td>8.166</td>\n",
       "      <td>NaN</td>\n",
       "      <td>12.766</td>\n",
       "    </tr>\n",
       "    <tr>\n",
       "      <th>4</th>\n",
       "      <td>AAS</td>\n",
       "      <td>Fredrik Bjornevik</td>\n",
       "      <td>m</td>\n",
       "      <td>NOR</td>\n",
       "      <td>5 Aug 2023</td>\n",
       "      <td>2023 FISU World University Games</td>\n",
       "      <td>qual</td>\n",
       "      <td>Chengdu, China</td>\n",
       "      <td>PB</td>\n",
       "      <td>54.0</td>\n",
       "      <td>4.4</td>\n",
       "      <td>8.066</td>\n",
       "      <td>NaN</td>\n",
       "      <td>12.466</td>\n",
       "    </tr>\n",
       "  </tbody>\n",
       "</table>\n",
       "</div>"
      ],
      "text/plain": [
       "  LastName          FirstName Gender Country         Date  \\\n",
       "0      AAS            Fredrik      m     NOR  26 Feb 2023   \n",
       "1      AAS            Fredrik      m     NOR  26 Feb 2023   \n",
       "2      AAS  Fredrik Bjornevik      m     NOR   5 Aug 2023   \n",
       "3      AAS  Fredrik Bjornevik      m     NOR   5 Aug 2023   \n",
       "4      AAS  Fredrik Bjornevik      m     NOR   5 Aug 2023   \n",
       "\n",
       "                        Competition Round          Location Apparatus  Rank  \\\n",
       "0            2023 Cottbus World Cup  qual  Cottbus, Germany        HB  39.0   \n",
       "1            2023 Cottbus World Cup  qual  Cottbus, Germany        PH  44.0   \n",
       "2  2023 FISU World University Games  qual    Chengdu, China        FX  54.0   \n",
       "3  2023 FISU World University Games  qual    Chengdu, China        HB  44.0   \n",
       "4  2023 FISU World University Games  qual    Chengdu, China        PB  54.0   \n",
       "\n",
       "   D_Score  E_Score  Penalty   Score  \n",
       "0      4.6    6.700      NaN  11.300  \n",
       "1      4.4    7.800      NaN  12.200  \n",
       "2      4.0    8.566      NaN  12.566  \n",
       "3      4.6    8.166      NaN  12.766  \n",
       "4      4.4    8.066      NaN  12.466  "
      ]
     },
     "execution_count": 9,
     "metadata": {},
     "output_type": "execute_result"
    }
   ],
   "source": [
    "df.head()"
   ]
  },
  {
   "cell_type": "code",
   "execution_count": 10,
   "id": "3e48c6cd",
   "metadata": {},
   "outputs": [],
   "source": [
    "df['Date'] = pd.to_datetime(df['Date'], errors='coerce')\n"
   ]
  },
  {
   "cell_type": "code",
   "execution_count": 11,
   "id": "30e694c4",
   "metadata": {},
   "outputs": [
    {
     "data": {
      "text/plain": [
       "Competition\n",
       "2022 51st FIG Artistic Gymnastics World Championships    1814\n",
       "2023 Senior European Championships                       1607\n",
       "2022 Senior European Championships                       1509\n",
       "2023 FISU World University Games                          956\n",
       "2023 U.S. Championships                                   674\n",
       "BIRMINGHAM 2022 Commonwealth Games                        646\n",
       "EnBW DTB Pokal Team Challenge 2023                        643\n",
       "2023 Central American and Caribbean Games                 627\n",
       "2022 U.S. Championships                                   615\n",
       "2022 British Gymnastics Championships                     583\n",
       "2023 Cottbus World Cup                                    571\n",
       "2023 Baku World Cup                                       541\n",
       "2023 British Gymnastics Championships                     493\n",
       "2023 Cairo World Cup                                      467\n",
       "2023 Doha World Cup                                       455\n",
       "2022 Baku World Cup                                       453\n",
       "2022 Cottbus World Cup                                    409\n",
       "2023 Osijek World Challenge Cup                           395\n",
       "2022 Cairo World Cup                                      381\n",
       "2023 Varna World Challenge Cup                            342\n",
       "2022 Doha World Cup                                       320\n",
       "2023 Winter Cup                                           318\n",
       "2022 Winter Cup                                           313\n",
       "2023 Tel Aviv World Challenge Cup                         271\n",
       "Oceania Continental Championships 2023                     47\n",
       "Name: count, dtype: int64"
      ]
     },
     "execution_count": 11,
     "metadata": {},
     "output_type": "execute_result"
    }
   ],
   "source": [
    "df[\"Competition\"].value_counts()"
   ]
  },
  {
   "cell_type": "code",
   "execution_count": 12,
   "id": "2ddb4a39",
   "metadata": {},
   "outputs": [],
   "source": [
    "df['FirstName'].fillna('None', inplace=True)\n",
    "df['LastName'].fillna('None', inplace=True)\n"
   ]
  },
  {
   "cell_type": "code",
   "execution_count": 13,
   "id": "6c024855",
   "metadata": {},
   "outputs": [],
   "source": [
    "df[\"Name\"] = df[\"FirstName\"] + ' ' + df['LastName']"
   ]
  },
  {
   "cell_type": "code",
   "execution_count": 14,
   "id": "18cd5ffe",
   "metadata": {},
   "outputs": [],
   "source": [
    "df = df.drop(columns=[\"FirstName\", \"LastName\"])"
   ]
  },
  {
   "cell_type": "code",
   "execution_count": 15,
   "id": "f6ff6cff",
   "metadata": {},
   "outputs": [],
   "source": [
    "df = df.drop(columns=[\"Location\"])"
   ]
  },
  {
   "cell_type": "code",
   "execution_count": 16,
   "id": "c4e32e51",
   "metadata": {},
   "outputs": [
    {
     "data": {
      "text/plain": [
       "Index(['Gender', 'Country', 'Date', 'Competition', 'Round', 'Apparatus',\n",
       "       'Rank', 'D_Score', 'E_Score', 'Penalty', 'Score', 'Name'],\n",
       "      dtype='object')"
      ]
     },
     "execution_count": 16,
     "metadata": {},
     "output_type": "execute_result"
    }
   ],
   "source": [
    "df.columns"
   ]
  },
  {
   "cell_type": "code",
   "execution_count": 17,
   "id": "c8d2af11",
   "metadata": {},
   "outputs": [],
   "source": [
    "df = df[[ 'Name','Country', 'Gender',  'Date','Competition' , 'Round', 'Apparatus', 'Rank', 'D_Score',\n",
    "       'E_Score', 'Penalty', 'Score',]]"
   ]
  },
  {
   "cell_type": "code",
   "execution_count": 18,
   "id": "eba49fa7",
   "metadata": {},
   "outputs": [],
   "source": [
    "df['Penalty'].fillna(0, inplace=True)"
   ]
  },
  {
   "cell_type": "code",
   "execution_count": 19,
   "id": "e3141b67",
   "metadata": {},
   "outputs": [
    {
     "name": "stdout",
     "output_type": "stream",
     "text": [
      "<class 'pandas.core.frame.DataFrame'>\n",
      "RangeIndex: 15450 entries, 0 to 15449\n",
      "Data columns (total 12 columns):\n",
      " #   Column       Non-Null Count  Dtype         \n",
      "---  ------       --------------  -----         \n",
      " 0   Name         15450 non-null  object        \n",
      " 1   Country      15236 non-null  object        \n",
      " 2   Gender       15450 non-null  object        \n",
      " 3   Date         15450 non-null  datetime64[ns]\n",
      " 4   Competition  15450 non-null  object        \n",
      " 5   Round        15450 non-null  object        \n",
      " 6   Apparatus    15450 non-null  object        \n",
      " 7   Rank         13819 non-null  float64       \n",
      " 8   D_Score      15289 non-null  float64       \n",
      " 9   E_Score      15214 non-null  float64       \n",
      " 10  Penalty      15450 non-null  float64       \n",
      " 11  Score        15287 non-null  float64       \n",
      "dtypes: datetime64[ns](1), float64(5), object(6)\n",
      "memory usage: 1.4+ MB\n"
     ]
    }
   ],
   "source": [
    "df.info()"
   ]
  },
  {
   "cell_type": "code",
   "execution_count": 20,
   "id": "29979af3",
   "metadata": {},
   "outputs": [],
   "source": [
    "# df['Date'].fillna('2022-08-05 20:23:00', inplace=True)"
   ]
  },
  {
   "cell_type": "code",
   "execution_count": 21,
   "id": "7da30a99",
   "metadata": {},
   "outputs": [
    {
     "data": {
      "text/html": [
       "<div>\n",
       "<style scoped>\n",
       "    .dataframe tbody tr th:only-of-type {\n",
       "        vertical-align: middle;\n",
       "    }\n",
       "\n",
       "    .dataframe tbody tr th {\n",
       "        vertical-align: top;\n",
       "    }\n",
       "\n",
       "    .dataframe thead th {\n",
       "        text-align: right;\n",
       "    }\n",
       "</style>\n",
       "<table border=\"1\" class=\"dataframe\">\n",
       "  <thead>\n",
       "    <tr style=\"text-align: right;\">\n",
       "      <th></th>\n",
       "      <th>Name</th>\n",
       "      <th>Country</th>\n",
       "      <th>Gender</th>\n",
       "      <th>Date</th>\n",
       "      <th>Competition</th>\n",
       "      <th>Round</th>\n",
       "      <th>Apparatus</th>\n",
       "      <th>Rank</th>\n",
       "      <th>D_Score</th>\n",
       "      <th>E_Score</th>\n",
       "      <th>Penalty</th>\n",
       "      <th>Score</th>\n",
       "    </tr>\n",
       "  </thead>\n",
       "  <tbody>\n",
       "    <tr>\n",
       "      <th>0</th>\n",
       "      <td>Fredrik AAS</td>\n",
       "      <td>NOR</td>\n",
       "      <td>m</td>\n",
       "      <td>2023-02-26</td>\n",
       "      <td>2023 Cottbus World Cup</td>\n",
       "      <td>qual</td>\n",
       "      <td>HB</td>\n",
       "      <td>39.0</td>\n",
       "      <td>4.6</td>\n",
       "      <td>6.700</td>\n",
       "      <td>0.0</td>\n",
       "      <td>11.300</td>\n",
       "    </tr>\n",
       "    <tr>\n",
       "      <th>1</th>\n",
       "      <td>Fredrik AAS</td>\n",
       "      <td>NOR</td>\n",
       "      <td>m</td>\n",
       "      <td>2023-02-26</td>\n",
       "      <td>2023 Cottbus World Cup</td>\n",
       "      <td>qual</td>\n",
       "      <td>PH</td>\n",
       "      <td>44.0</td>\n",
       "      <td>4.4</td>\n",
       "      <td>7.800</td>\n",
       "      <td>0.0</td>\n",
       "      <td>12.200</td>\n",
       "    </tr>\n",
       "    <tr>\n",
       "      <th>2</th>\n",
       "      <td>Fredrik Bjornevik AAS</td>\n",
       "      <td>NOR</td>\n",
       "      <td>m</td>\n",
       "      <td>2023-08-05</td>\n",
       "      <td>2023 FISU World University Games</td>\n",
       "      <td>qual</td>\n",
       "      <td>FX</td>\n",
       "      <td>54.0</td>\n",
       "      <td>4.0</td>\n",
       "      <td>8.566</td>\n",
       "      <td>0.0</td>\n",
       "      <td>12.566</td>\n",
       "    </tr>\n",
       "    <tr>\n",
       "      <th>3</th>\n",
       "      <td>Fredrik Bjornevik AAS</td>\n",
       "      <td>NOR</td>\n",
       "      <td>m</td>\n",
       "      <td>2023-08-05</td>\n",
       "      <td>2023 FISU World University Games</td>\n",
       "      <td>qual</td>\n",
       "      <td>HB</td>\n",
       "      <td>44.0</td>\n",
       "      <td>4.6</td>\n",
       "      <td>8.166</td>\n",
       "      <td>0.0</td>\n",
       "      <td>12.766</td>\n",
       "    </tr>\n",
       "    <tr>\n",
       "      <th>4</th>\n",
       "      <td>Fredrik Bjornevik AAS</td>\n",
       "      <td>NOR</td>\n",
       "      <td>m</td>\n",
       "      <td>2023-08-05</td>\n",
       "      <td>2023 FISU World University Games</td>\n",
       "      <td>qual</td>\n",
       "      <td>PB</td>\n",
       "      <td>54.0</td>\n",
       "      <td>4.4</td>\n",
       "      <td>8.066</td>\n",
       "      <td>0.0</td>\n",
       "      <td>12.466</td>\n",
       "    </tr>\n",
       "    <tr>\n",
       "      <th>...</th>\n",
       "      <td>...</td>\n",
       "      <td>...</td>\n",
       "      <td>...</td>\n",
       "      <td>...</td>\n",
       "      <td>...</td>\n",
       "      <td>...</td>\n",
       "      <td>...</td>\n",
       "      <td>...</td>\n",
       "      <td>...</td>\n",
       "      <td>...</td>\n",
       "      <td>...</td>\n",
       "      <td>...</td>\n",
       "    </tr>\n",
       "    <tr>\n",
       "      <th>15445</th>\n",
       "      <td>Kate None</td>\n",
       "      <td>AUS</td>\n",
       "      <td>w</td>\n",
       "      <td>2022-11-06</td>\n",
       "      <td>2022 51st FIG Artistic Gymnastics World Champi...</td>\n",
       "      <td>qual</td>\n",
       "      <td>UB</td>\n",
       "      <td>17.0</td>\n",
       "      <td>5.6</td>\n",
       "      <td>8.466</td>\n",
       "      <td>0.0</td>\n",
       "      <td>14.066</td>\n",
       "    </tr>\n",
       "    <tr>\n",
       "      <th>15446</th>\n",
       "      <td>Kate None</td>\n",
       "      <td>AUS</td>\n",
       "      <td>w</td>\n",
       "      <td>2022-08-02</td>\n",
       "      <td>BIRMINGHAM 2022 Commonwealth Games</td>\n",
       "      <td>final</td>\n",
       "      <td>BB</td>\n",
       "      <td>1.0</td>\n",
       "      <td>5.1</td>\n",
       "      <td>8.366</td>\n",
       "      <td>0.0</td>\n",
       "      <td>13.466</td>\n",
       "    </tr>\n",
       "    <tr>\n",
       "      <th>15447</th>\n",
       "      <td>Kate None</td>\n",
       "      <td>AUS</td>\n",
       "      <td>w</td>\n",
       "      <td>2022-08-02</td>\n",
       "      <td>BIRMINGHAM 2022 Commonwealth Games</td>\n",
       "      <td>qual</td>\n",
       "      <td>BB</td>\n",
       "      <td>5.0</td>\n",
       "      <td>5.0</td>\n",
       "      <td>7.950</td>\n",
       "      <td>0.0</td>\n",
       "      <td>12.950</td>\n",
       "    </tr>\n",
       "    <tr>\n",
       "      <th>15448</th>\n",
       "      <td>Kate None</td>\n",
       "      <td>AUS</td>\n",
       "      <td>w</td>\n",
       "      <td>2022-08-02</td>\n",
       "      <td>BIRMINGHAM 2022 Commonwealth Games</td>\n",
       "      <td>final</td>\n",
       "      <td>UB</td>\n",
       "      <td>7.0</td>\n",
       "      <td>5.3</td>\n",
       "      <td>7.233</td>\n",
       "      <td>0.0</td>\n",
       "      <td>12.533</td>\n",
       "    </tr>\n",
       "    <tr>\n",
       "      <th>15449</th>\n",
       "      <td>Kate None</td>\n",
       "      <td>AUS</td>\n",
       "      <td>w</td>\n",
       "      <td>2022-08-02</td>\n",
       "      <td>BIRMINGHAM 2022 Commonwealth Games</td>\n",
       "      <td>qual</td>\n",
       "      <td>UB</td>\n",
       "      <td>5.0</td>\n",
       "      <td>5.6</td>\n",
       "      <td>7.900</td>\n",
       "      <td>0.0</td>\n",
       "      <td>13.500</td>\n",
       "    </tr>\n",
       "  </tbody>\n",
       "</table>\n",
       "<p>15450 rows × 12 columns</p>\n",
       "</div>"
      ],
      "text/plain": [
       "                        Name Country Gender       Date  \\\n",
       "0                Fredrik AAS     NOR      m 2023-02-26   \n",
       "1                Fredrik AAS     NOR      m 2023-02-26   \n",
       "2      Fredrik Bjornevik AAS     NOR      m 2023-08-05   \n",
       "3      Fredrik Bjornevik AAS     NOR      m 2023-08-05   \n",
       "4      Fredrik Bjornevik AAS     NOR      m 2023-08-05   \n",
       "...                      ...     ...    ...        ...   \n",
       "15445              Kate None     AUS      w 2022-11-06   \n",
       "15446              Kate None     AUS      w 2022-08-02   \n",
       "15447              Kate None     AUS      w 2022-08-02   \n",
       "15448              Kate None     AUS      w 2022-08-02   \n",
       "15449              Kate None     AUS      w 2022-08-02   \n",
       "\n",
       "                                             Competition  Round Apparatus  \\\n",
       "0                                 2023 Cottbus World Cup   qual        HB   \n",
       "1                                 2023 Cottbus World Cup   qual        PH   \n",
       "2                       2023 FISU World University Games   qual        FX   \n",
       "3                       2023 FISU World University Games   qual        HB   \n",
       "4                       2023 FISU World University Games   qual        PB   \n",
       "...                                                  ...    ...       ...   \n",
       "15445  2022 51st FIG Artistic Gymnastics World Champi...   qual        UB   \n",
       "15446                 BIRMINGHAM 2022 Commonwealth Games  final        BB   \n",
       "15447                 BIRMINGHAM 2022 Commonwealth Games   qual        BB   \n",
       "15448                 BIRMINGHAM 2022 Commonwealth Games  final        UB   \n",
       "15449                 BIRMINGHAM 2022 Commonwealth Games   qual        UB   \n",
       "\n",
       "       Rank  D_Score  E_Score  Penalty   Score  \n",
       "0      39.0      4.6    6.700      0.0  11.300  \n",
       "1      44.0      4.4    7.800      0.0  12.200  \n",
       "2      54.0      4.0    8.566      0.0  12.566  \n",
       "3      44.0      4.6    8.166      0.0  12.766  \n",
       "4      54.0      4.4    8.066      0.0  12.466  \n",
       "...     ...      ...      ...      ...     ...  \n",
       "15445  17.0      5.6    8.466      0.0  14.066  \n",
       "15446   1.0      5.1    8.366      0.0  13.466  \n",
       "15447   5.0      5.0    7.950      0.0  12.950  \n",
       "15448   7.0      5.3    7.233      0.0  12.533  \n",
       "15449   5.0      5.6    7.900      0.0  13.500  \n",
       "\n",
       "[15450 rows x 12 columns]"
      ]
     },
     "execution_count": 21,
     "metadata": {},
     "output_type": "execute_result"
    }
   ],
   "source": [
    "df"
   ]
  },
  {
   "cell_type": "code",
   "execution_count": 22,
   "id": "5a0101c9",
   "metadata": {},
   "outputs": [
    {
     "name": "stdout",
     "output_type": "stream",
     "text": [
      "<class 'pandas.core.frame.DataFrame'>\n",
      "RangeIndex: 15450 entries, 0 to 15449\n",
      "Data columns (total 12 columns):\n",
      " #   Column       Non-Null Count  Dtype         \n",
      "---  ------       --------------  -----         \n",
      " 0   Name         15450 non-null  object        \n",
      " 1   Country      15236 non-null  object        \n",
      " 2   Gender       15450 non-null  object        \n",
      " 3   Date         15450 non-null  datetime64[ns]\n",
      " 4   Competition  15450 non-null  object        \n",
      " 5   Round        15450 non-null  object        \n",
      " 6   Apparatus    15450 non-null  object        \n",
      " 7   Rank         13819 non-null  float64       \n",
      " 8   D_Score      15289 non-null  float64       \n",
      " 9   E_Score      15214 non-null  float64       \n",
      " 10  Penalty      15450 non-null  float64       \n",
      " 11  Score        15287 non-null  float64       \n",
      "dtypes: datetime64[ns](1), float64(5), object(6)\n",
      "memory usage: 1.4+ MB\n"
     ]
    }
   ],
   "source": [
    "df.info()"
   ]
  },
  {
   "cell_type": "code",
   "execution_count": 23,
   "id": "ef9c9b4d",
   "metadata": {},
   "outputs": [],
   "source": [
    "dff = df.copy()"
   ]
  },
  {
   "cell_type": "code",
   "execution_count": 24,
   "id": "10b20920",
   "metadata": {},
   "outputs": [],
   "source": [
    "dff.dropna(inplace=True)"
   ]
  },
  {
   "cell_type": "code",
   "execution_count": 25,
   "id": "fa54f32d",
   "metadata": {},
   "outputs": [
    {
     "name": "stdout",
     "output_type": "stream",
     "text": [
      "<class 'pandas.core.frame.DataFrame'>\n",
      "Index: 13443 entries, 0 to 15449\n",
      "Data columns (total 12 columns):\n",
      " #   Column       Non-Null Count  Dtype         \n",
      "---  ------       --------------  -----         \n",
      " 0   Name         13443 non-null  object        \n",
      " 1   Country      13443 non-null  object        \n",
      " 2   Gender       13443 non-null  object        \n",
      " 3   Date         13443 non-null  datetime64[ns]\n",
      " 4   Competition  13443 non-null  object        \n",
      " 5   Round        13443 non-null  object        \n",
      " 6   Apparatus    13443 non-null  object        \n",
      " 7   Rank         13443 non-null  float64       \n",
      " 8   D_Score      13443 non-null  float64       \n",
      " 9   E_Score      13443 non-null  float64       \n",
      " 10  Penalty      13443 non-null  float64       \n",
      " 11  Score        13443 non-null  float64       \n",
      "dtypes: datetime64[ns](1), float64(5), object(6)\n",
      "memory usage: 1.3+ MB\n"
     ]
    }
   ],
   "source": [
    "dff.info()"
   ]
  },
  {
   "cell_type": "code",
   "execution_count": null,
   "id": "83e4f658",
   "metadata": {},
   "outputs": [],
   "source": []
  },
  {
   "cell_type": "code",
   "execution_count": 26,
   "id": "a9e801e2",
   "metadata": {},
   "outputs": [
    {
     "data": {
      "text/plain": [
       "Gender\n",
       "m    9610\n",
       "w    5840\n",
       "Name: count, dtype: int64"
      ]
     },
     "execution_count": 26,
     "metadata": {},
     "output_type": "execute_result"
    }
   ],
   "source": [
    "df[\"Gender\"].value_counts()"
   ]
  },
  {
   "cell_type": "code",
   "execution_count": 27,
   "id": "5250a5dc",
   "metadata": {},
   "outputs": [],
   "source": [
    "women = df[df[\"Gender\"] == \"w\"]"
   ]
  },
  {
   "cell_type": "code",
   "execution_count": 28,
   "id": "90781457",
   "metadata": {},
   "outputs": [],
   "source": [
    "men = df[df[\"Gender\"] == \"m\"]"
   ]
  },
  {
   "cell_type": "code",
   "execution_count": 29,
   "id": "a024e2db",
   "metadata": {},
   "outputs": [
    {
     "name": "stdout",
     "output_type": "stream",
     "text": [
      "<class 'pandas.core.frame.DataFrame'>\n",
      "Index: 9610 entries, 0 to 15441\n",
      "Data columns (total 12 columns):\n",
      " #   Column       Non-Null Count  Dtype         \n",
      "---  ------       --------------  -----         \n",
      " 0   Name         9610 non-null   object        \n",
      " 1   Country      9466 non-null   object        \n",
      " 2   Gender       9610 non-null   object        \n",
      " 3   Date         9610 non-null   datetime64[ns]\n",
      " 4   Competition  9610 non-null   object        \n",
      " 5   Round        9610 non-null   object        \n",
      " 6   Apparatus    9610 non-null   object        \n",
      " 7   Rank         8450 non-null   float64       \n",
      " 8   D_Score      9495 non-null   float64       \n",
      " 9   E_Score      9475 non-null   float64       \n",
      " 10  Penalty      9610 non-null   float64       \n",
      " 11  Score        9493 non-null   float64       \n",
      "dtypes: datetime64[ns](1), float64(5), object(6)\n",
      "memory usage: 976.0+ KB\n"
     ]
    }
   ],
   "source": [
    "men.info()"
   ]
  },
  {
   "cell_type": "code",
   "execution_count": 30,
   "id": "f317b743",
   "metadata": {},
   "outputs": [
    {
     "name": "stdout",
     "output_type": "stream",
     "text": [
      "<class 'pandas.core.frame.DataFrame'>\n",
      "Index: 5840 entries, 98 to 15449\n",
      "Data columns (total 12 columns):\n",
      " #   Column       Non-Null Count  Dtype         \n",
      "---  ------       --------------  -----         \n",
      " 0   Name         5840 non-null   object        \n",
      " 1   Country      5770 non-null   object        \n",
      " 2   Gender       5840 non-null   object        \n",
      " 3   Date         5840 non-null   datetime64[ns]\n",
      " 4   Competition  5840 non-null   object        \n",
      " 5   Round        5840 non-null   object        \n",
      " 6   Apparatus    5840 non-null   object        \n",
      " 7   Rank         5369 non-null   float64       \n",
      " 8   D_Score      5794 non-null   float64       \n",
      " 9   E_Score      5739 non-null   float64       \n",
      " 10  Penalty      5840 non-null   float64       \n",
      " 11  Score        5794 non-null   float64       \n",
      "dtypes: datetime64[ns](1), float64(5), object(6)\n",
      "memory usage: 593.1+ KB\n"
     ]
    }
   ],
   "source": [
    "women.info()"
   ]
  },
  {
   "cell_type": "code",
   "execution_count": 31,
   "id": "2e0be572",
   "metadata": {},
   "outputs": [
    {
     "name": "stderr",
     "output_type": "stream",
     "text": [
      "/var/folders/j_/555m2zps099832fjh_m8jjnc0000gn/T/ipykernel_88062/4146035132.py:1: SettingWithCopyWarning: \n",
      "A value is trying to be set on a copy of a slice from a DataFrame\n",
      "\n",
      "See the caveats in the documentation: https://pandas.pydata.org/pandas-docs/stable/user_guide/indexing.html#returning-a-view-versus-a-copy\n",
      "  women[\"Country\"].fillna(\"None\", inplace=True)\n"
     ]
    }
   ],
   "source": [
    "women[\"Country\"].fillna(\"None\", inplace=True)"
   ]
  },
  {
   "cell_type": "code",
   "execution_count": 32,
   "id": "cb7beb4d",
   "metadata": {},
   "outputs": [
    {
     "name": "stderr",
     "output_type": "stream",
     "text": [
      "/var/folders/j_/555m2zps099832fjh_m8jjnc0000gn/T/ipykernel_88062/367845592.py:1: SettingWithCopyWarning: \n",
      "A value is trying to be set on a copy of a slice from a DataFrame\n",
      "\n",
      "See the caveats in the documentation: https://pandas.pydata.org/pandas-docs/stable/user_guide/indexing.html#returning-a-view-versus-a-copy\n",
      "  women.dropna(inplace=True)\n"
     ]
    }
   ],
   "source": [
    "women.dropna(inplace=True)"
   ]
  },
  {
   "cell_type": "code",
   "execution_count": 33,
   "id": "be5cbff7",
   "metadata": {},
   "outputs": [
    {
     "name": "stdout",
     "output_type": "stream",
     "text": [
      "<class 'pandas.core.frame.DataFrame'>\n",
      "Index: 5285 entries, 98 to 15449\n",
      "Data columns (total 12 columns):\n",
      " #   Column       Non-Null Count  Dtype         \n",
      "---  ------       --------------  -----         \n",
      " 0   Name         5285 non-null   object        \n",
      " 1   Country      5285 non-null   object        \n",
      " 2   Gender       5285 non-null   object        \n",
      " 3   Date         5285 non-null   datetime64[ns]\n",
      " 4   Competition  5285 non-null   object        \n",
      " 5   Round        5285 non-null   object        \n",
      " 6   Apparatus    5285 non-null   object        \n",
      " 7   Rank         5285 non-null   float64       \n",
      " 8   D_Score      5285 non-null   float64       \n",
      " 9   E_Score      5285 non-null   float64       \n",
      " 10  Penalty      5285 non-null   float64       \n",
      " 11  Score        5285 non-null   float64       \n",
      "dtypes: datetime64[ns](1), float64(5), object(6)\n",
      "memory usage: 536.8+ KB\n"
     ]
    }
   ],
   "source": [
    "women.info()"
   ]
  },
  {
   "cell_type": "code",
   "execution_count": 34,
   "id": "eacfc875",
   "metadata": {},
   "outputs": [
    {
     "name": "stderr",
     "output_type": "stream",
     "text": [
      "/var/folders/j_/555m2zps099832fjh_m8jjnc0000gn/T/ipykernel_88062/1062396297.py:1: SettingWithCopyWarning: \n",
      "A value is trying to be set on a copy of a slice from a DataFrame\n",
      "\n",
      "See the caveats in the documentation: https://pandas.pydata.org/pandas-docs/stable/user_guide/indexing.html#returning-a-view-versus-a-copy\n",
      "  men[\"Country\"].fillna(\"None\", inplace=True)\n"
     ]
    }
   ],
   "source": [
    "men[\"Country\"].fillna(\"None\", inplace=True)"
   ]
  },
  {
   "cell_type": "code",
   "execution_count": 35,
   "id": "69133b7b",
   "metadata": {},
   "outputs": [
    {
     "name": "stdout",
     "output_type": "stream",
     "text": [
      "<class 'pandas.core.frame.DataFrame'>\n",
      "Index: 9610 entries, 0 to 15441\n",
      "Data columns (total 12 columns):\n",
      " #   Column       Non-Null Count  Dtype         \n",
      "---  ------       --------------  -----         \n",
      " 0   Name         9610 non-null   object        \n",
      " 1   Country      9610 non-null   object        \n",
      " 2   Gender       9610 non-null   object        \n",
      " 3   Date         9610 non-null   datetime64[ns]\n",
      " 4   Competition  9610 non-null   object        \n",
      " 5   Round        9610 non-null   object        \n",
      " 6   Apparatus    9610 non-null   object        \n",
      " 7   Rank         8450 non-null   float64       \n",
      " 8   D_Score      9495 non-null   float64       \n",
      " 9   E_Score      9475 non-null   float64       \n",
      " 10  Penalty      9610 non-null   float64       \n",
      " 11  Score        9493 non-null   float64       \n",
      "dtypes: datetime64[ns](1), float64(5), object(6)\n",
      "memory usage: 976.0+ KB\n"
     ]
    }
   ],
   "source": [
    "men.info()"
   ]
  },
  {
   "cell_type": "code",
   "execution_count": 36,
   "id": "e82b0d98",
   "metadata": {},
   "outputs": [
    {
     "name": "stderr",
     "output_type": "stream",
     "text": [
      "/var/folders/j_/555m2zps099832fjh_m8jjnc0000gn/T/ipykernel_88062/3298297671.py:1: SettingWithCopyWarning: \n",
      "A value is trying to be set on a copy of a slice from a DataFrame\n",
      "\n",
      "See the caveats in the documentation: https://pandas.pydata.org/pandas-docs/stable/user_guide/indexing.html#returning-a-view-versus-a-copy\n",
      "  men.dropna(inplace=True)\n"
     ]
    }
   ],
   "source": [
    "men.dropna(inplace=True)"
   ]
  },
  {
   "cell_type": "code",
   "execution_count": 37,
   "id": "8f5872f7",
   "metadata": {},
   "outputs": [
    {
     "name": "stdout",
     "output_type": "stream",
     "text": [
      "<class 'pandas.core.frame.DataFrame'>\n",
      "Index: 8369 entries, 0 to 15441\n",
      "Data columns (total 12 columns):\n",
      " #   Column       Non-Null Count  Dtype         \n",
      "---  ------       --------------  -----         \n",
      " 0   Name         8369 non-null   object        \n",
      " 1   Country      8369 non-null   object        \n",
      " 2   Gender       8369 non-null   object        \n",
      " 3   Date         8369 non-null   datetime64[ns]\n",
      " 4   Competition  8369 non-null   object        \n",
      " 5   Round        8369 non-null   object        \n",
      " 6   Apparatus    8369 non-null   object        \n",
      " 7   Rank         8369 non-null   float64       \n",
      " 8   D_Score      8369 non-null   float64       \n",
      " 9   E_Score      8369 non-null   float64       \n",
      " 10  Penalty      8369 non-null   float64       \n",
      " 11  Score        8369 non-null   float64       \n",
      "dtypes: datetime64[ns](1), float64(5), object(6)\n",
      "memory usage: 850.0+ KB\n"
     ]
    }
   ],
   "source": [
    "men.info()"
   ]
  },
  {
   "cell_type": "code",
   "execution_count": 38,
   "id": "e3c83092",
   "metadata": {},
   "outputs": [
    {
     "data": {
      "text/plain": [
       "Competition\n",
       "2022 51st FIG Artistic Gymnastics World Championships    737\n",
       "2022 Senior European Championships                       624\n",
       "2023 Senior European Championships                       619\n",
       "2022 British Gymnastics Championships                    308\n",
       "2023 FISU World University Games                         295\n",
       "2023 Central American and Caribbean Games                261\n",
       "BIRMINGHAM 2022 Commonwealth Games                       233\n",
       "EnBW DTB Pokal Team Challenge 2023                       217\n",
       "2023 Baku World Cup                                      196\n",
       "2023 Cairo World Cup                                     193\n",
       "2023 Cottbus World Cup                                   179\n",
       "2022 Baku World Cup                                      173\n",
       "2023 Osijek World Challenge Cup                          159\n",
       "2023 British Gymnastics Championships                    150\n",
       "2023 Varna World Challenge Cup                           147\n",
       "2023 Doha World Cup                                      147\n",
       "2022 Cairo World Cup                                     131\n",
       "2023 Tel Aviv World Challenge Cup                        128\n",
       "2022 Cottbus World Cup                                   127\n",
       "2022 Doha World Cup                                       98\n",
       "2023 Winter Cup                                           92\n",
       "2022 Winter Cup                                           71\n",
       "Name: count, dtype: int64"
      ]
     },
     "execution_count": 38,
     "metadata": {},
     "output_type": "execute_result"
    }
   ],
   "source": [
    "women[\"Competition\"].value_counts()"
   ]
  },
  {
   "cell_type": "code",
   "execution_count": 39,
   "id": "f7a87fb3",
   "metadata": {},
   "outputs": [],
   "source": [
    "# women.to_csv('usopc_women_october.csv', index=False)"
   ]
  },
  {
   "cell_type": "code",
   "execution_count": 40,
   "id": "fae26cee",
   "metadata": {},
   "outputs": [],
   "source": [
    "# men.to_csv('usopc_men_october.csv', index=False)"
   ]
  },
  {
   "cell_type": "code",
   "execution_count": 43,
   "id": "c4cd318a",
   "metadata": {},
   "outputs": [],
   "source": [
    "women_bb = women[women[\"Apparatus\"]== \"BB\"]"
   ]
  },
  {
   "cell_type": "code",
   "execution_count": 45,
   "id": "c71ffb17",
   "metadata": {},
   "outputs": [],
   "source": [
    "women_ub = women[women[\"Apparatus\"]== \"UB\"]"
   ]
  },
  {
   "cell_type": "code",
   "execution_count": 44,
   "id": "2f659337",
   "metadata": {},
   "outputs": [
    {
     "data": {
      "text/plain": [
       "Apparatus\n",
       "BB     1341\n",
       "UB     1237\n",
       "FX     1236\n",
       "VT1     911\n",
       "VT2     501\n",
       "VT       59\n",
       "Name: count, dtype: int64"
      ]
     },
     "execution_count": 44,
     "metadata": {},
     "output_type": "execute_result"
    }
   ],
   "source": [
    "women[\"Apparatus\"].value_counts()"
   ]
  },
  {
   "cell_type": "code",
   "execution_count": 46,
   "id": "c271e566",
   "metadata": {},
   "outputs": [],
   "source": [
    "women_fx = women[women[\"Apparatus\"]== \"FX\"]"
   ]
  },
  {
   "cell_type": "code",
   "execution_count": 47,
   "id": "a22fa869",
   "metadata": {},
   "outputs": [],
   "source": [
    "condition = women['Apparatus'].isin(['VT', 'VT1', 'VT2'])\n",
    "new_df = women[condition]"
   ]
  },
  {
   "cell_type": "code",
   "execution_count": 49,
   "id": "b3ca7e28",
   "metadata": {},
   "outputs": [
    {
     "data": {
      "text/plain": [
       "Apparatus\n",
       "VT1    911\n",
       "VT2    501\n",
       "VT      59\n",
       "Name: count, dtype: int64"
      ]
     },
     "execution_count": 49,
     "metadata": {},
     "output_type": "execute_result"
    }
   ],
   "source": [
    "new_df[\"Apparatus\"].value_counts()"
   ]
  },
  {
   "cell_type": "code",
   "execution_count": 50,
   "id": "252562fd",
   "metadata": {},
   "outputs": [],
   "source": [
    "women_vt = new_df.copy()"
   ]
  },
  {
   "cell_type": "code",
   "execution_count": 52,
   "id": "1768dad6",
   "metadata": {},
   "outputs": [],
   "source": [
    "# women_bb.to_csv('usopc_women_bb_october.csv', index=False)\n",
    "# women_ub.to_csv('usopc_women_ub_october.csv', index=False)\n",
    "# women_fx.to_csv('usopc_women_fx_october.csv', index=False)\n",
    "# women_vt.to_csv('usopc_women_vt_october.csv', index=False)\n"
   ]
  },
  {
   "cell_type": "code",
   "execution_count": null,
   "id": "1d339efe",
   "metadata": {},
   "outputs": [],
   "source": []
  }
 ],
 "metadata": {
  "kernelspec": {
   "display_name": "Python 3 (ipykernel)",
   "language": "python",
   "name": "python3"
  },
  "language_info": {
   "codemirror_mode": {
    "name": "ipython",
    "version": 3
   },
   "file_extension": ".py",
   "mimetype": "text/x-python",
   "name": "python",
   "nbconvert_exporter": "python",
   "pygments_lexer": "ipython3",
   "version": "3.9.12"
  }
 },
 "nbformat": 4,
 "nbformat_minor": 5
}
