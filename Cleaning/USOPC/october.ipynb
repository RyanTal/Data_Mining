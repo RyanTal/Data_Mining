{
 "cells": [
  {
   "cell_type": "code",
   "execution_count": 1,
   "id": "a0ae708e",
   "metadata": {},
   "outputs": [],
   "source": [
    "import pandas as pd\n",
    "import numpy as np"
   ]
  },
  {
   "cell_type": "code",
   "execution_count": 2,
   "id": "adc54fa4",
   "metadata": {},
   "outputs": [],
   "source": [
    "# df = pd.read_csv(\"../../Data/USOPC/cleandata/data_2017_2021.csv\")"
   ]
  },
  {
   "cell_type": "code",
   "execution_count": 4,
   "id": "cb3fa954",
   "metadata": {},
   "outputs": [],
   "source": [
    "df = pd.read_csv(\"../../Data/cleandata22-23/data_2022_2023.csv\")"
   ]
  },
  {
   "cell_type": "code",
   "execution_count": 5,
   "id": "3aa0091c",
   "metadata": {},
   "outputs": [
    {
     "name": "stdout",
     "output_type": "stream",
     "text": [
      "<class 'pandas.core.frame.DataFrame'>\n",
      "RangeIndex: 24443 entries, 0 to 24442\n",
      "Data columns (total 14 columns):\n",
      " #   Column       Non-Null Count  Dtype  \n",
      "---  ------       --------------  -----  \n",
      " 0   LastName     24435 non-null  object \n",
      " 1   FirstName    24421 non-null  object \n",
      " 2   Gender       24443 non-null  object \n",
      " 3   Country      24439 non-null  object \n",
      " 4   Date         24443 non-null  object \n",
      " 5   Competition  24443 non-null  object \n",
      " 6   Round        24443 non-null  object \n",
      " 7   Location     24443 non-null  object \n",
      " 8   Apparatus    24443 non-null  object \n",
      " 9   Rank         21526 non-null  float64\n",
      " 10  D_Score      24443 non-null  float64\n",
      " 11  E_Score      24443 non-null  float64\n",
      " 12  Penalty      4666 non-null   float64\n",
      " 13  Score        24443 non-null  float64\n",
      "dtypes: float64(5), object(9)\n",
      "memory usage: 2.6+ MB\n"
     ]
    }
   ],
   "source": [
    "df.info()"
   ]
  },
  {
   "cell_type": "code",
   "execution_count": 6,
   "id": "b46e9c1f",
   "metadata": {},
   "outputs": [],
   "source": [
    "# Split the \"Date\" column into two separate columns\n",
    "df[['StartDate', 'EndDate']] = df['Date'].str.split('-', n=1, expand=True)\n",
    "\n",
    "# If a \"-\" is not present, set the same value for both columns\n",
    "df['EndDate'].fillna(df['StartDate'], inplace=True)"
   ]
  },
  {
   "cell_type": "code",
   "execution_count": 7,
   "id": "90e4549e",
   "metadata": {},
   "outputs": [
    {
     "data": {
      "text/plain": [
       "Gender\n",
       "m    15133\n",
       "w     9310\n",
       "Name: count, dtype: int64"
      ]
     },
     "execution_count": 7,
     "metadata": {},
     "output_type": "execute_result"
    }
   ],
   "source": [
    "df[\"Gender\"].value_counts()"
   ]
  },
  {
   "cell_type": "code",
   "execution_count": 8,
   "id": "a255d8cd",
   "metadata": {},
   "outputs": [],
   "source": [
    "df['Date'] = df[\"EndDate\"]"
   ]
  },
  {
   "cell_type": "code",
   "execution_count": 9,
   "id": "9cffbbbe",
   "metadata": {},
   "outputs": [],
   "source": [
    "df = df.drop(columns=[\"EndDate\", \"StartDate\"])"
   ]
  },
  {
   "cell_type": "code",
   "execution_count": 10,
   "id": "ee548eb4",
   "metadata": {},
   "outputs": [
    {
     "data": {
      "text/html": [
       "<div>\n",
       "<style scoped>\n",
       "    .dataframe tbody tr th:only-of-type {\n",
       "        vertical-align: middle;\n",
       "    }\n",
       "\n",
       "    .dataframe tbody tr th {\n",
       "        vertical-align: top;\n",
       "    }\n",
       "\n",
       "    .dataframe thead th {\n",
       "        text-align: right;\n",
       "    }\n",
       "</style>\n",
       "<table border=\"1\" class=\"dataframe\">\n",
       "  <thead>\n",
       "    <tr style=\"text-align: right;\">\n",
       "      <th></th>\n",
       "      <th>LastName</th>\n",
       "      <th>FirstName</th>\n",
       "      <th>Gender</th>\n",
       "      <th>Country</th>\n",
       "      <th>Date</th>\n",
       "      <th>Competition</th>\n",
       "      <th>Round</th>\n",
       "      <th>Location</th>\n",
       "      <th>Apparatus</th>\n",
       "      <th>Rank</th>\n",
       "      <th>D_Score</th>\n",
       "      <th>E_Score</th>\n",
       "      <th>Penalty</th>\n",
       "      <th>Score</th>\n",
       "    </tr>\n",
       "  </thead>\n",
       "  <tbody>\n",
       "    <tr>\n",
       "      <th>0</th>\n",
       "      <td>AAS</td>\n",
       "      <td>Fredrik</td>\n",
       "      <td>m</td>\n",
       "      <td>NOR</td>\n",
       "      <td>27 Feb 2022</td>\n",
       "      <td>2022 Cottbus World Cup</td>\n",
       "      <td>qual</td>\n",
       "      <td>Cottbus, Germany</td>\n",
       "      <td>HB</td>\n",
       "      <td>18.0</td>\n",
       "      <td>3.9</td>\n",
       "      <td>8.266</td>\n",
       "      <td>NaN</td>\n",
       "      <td>12.166</td>\n",
       "    </tr>\n",
       "    <tr>\n",
       "      <th>1</th>\n",
       "      <td>AAS</td>\n",
       "      <td>Fredrik</td>\n",
       "      <td>m</td>\n",
       "      <td>NOR</td>\n",
       "      <td>27 Feb 2022</td>\n",
       "      <td>2022 Cottbus World Cup</td>\n",
       "      <td>qual</td>\n",
       "      <td>Cottbus, Germany</td>\n",
       "      <td>HB</td>\n",
       "      <td>18.0</td>\n",
       "      <td>3.9</td>\n",
       "      <td>8.266</td>\n",
       "      <td>NaN</td>\n",
       "      <td>12.166</td>\n",
       "    </tr>\n",
       "    <tr>\n",
       "      <th>2</th>\n",
       "      <td>AAS</td>\n",
       "      <td>Fredrik</td>\n",
       "      <td>m</td>\n",
       "      <td>NOR</td>\n",
       "      <td>27 Feb 2022</td>\n",
       "      <td>2022 Cottbus World Cup</td>\n",
       "      <td>qual</td>\n",
       "      <td>Cottbus, Germany</td>\n",
       "      <td>PB</td>\n",
       "      <td>23.0</td>\n",
       "      <td>3.9</td>\n",
       "      <td>6.900</td>\n",
       "      <td>NaN</td>\n",
       "      <td>10.800</td>\n",
       "    </tr>\n",
       "    <tr>\n",
       "      <th>3</th>\n",
       "      <td>AAS</td>\n",
       "      <td>Fredrik</td>\n",
       "      <td>m</td>\n",
       "      <td>NOR</td>\n",
       "      <td>27 Feb 2022</td>\n",
       "      <td>2022 Cottbus World Cup</td>\n",
       "      <td>qual</td>\n",
       "      <td>Cottbus, Germany</td>\n",
       "      <td>PB</td>\n",
       "      <td>23.0</td>\n",
       "      <td>3.9</td>\n",
       "      <td>6.900</td>\n",
       "      <td>NaN</td>\n",
       "      <td>10.800</td>\n",
       "    </tr>\n",
       "    <tr>\n",
       "      <th>4</th>\n",
       "      <td>AAS</td>\n",
       "      <td>Fredrik</td>\n",
       "      <td>m</td>\n",
       "      <td>NOR</td>\n",
       "      <td>27 Feb 2022</td>\n",
       "      <td>2022 Cottbus World Cup</td>\n",
       "      <td>qual</td>\n",
       "      <td>Cottbus, Germany</td>\n",
       "      <td>PH</td>\n",
       "      <td>33.0</td>\n",
       "      <td>4.2</td>\n",
       "      <td>6.666</td>\n",
       "      <td>NaN</td>\n",
       "      <td>10.866</td>\n",
       "    </tr>\n",
       "  </tbody>\n",
       "</table>\n",
       "</div>"
      ],
      "text/plain": [
       "  LastName FirstName Gender Country         Date             Competition  \\\n",
       "0      AAS   Fredrik      m     NOR  27 Feb 2022  2022 Cottbus World Cup   \n",
       "1      AAS   Fredrik      m     NOR  27 Feb 2022  2022 Cottbus World Cup   \n",
       "2      AAS   Fredrik      m     NOR  27 Feb 2022  2022 Cottbus World Cup   \n",
       "3      AAS   Fredrik      m     NOR  27 Feb 2022  2022 Cottbus World Cup   \n",
       "4      AAS   Fredrik      m     NOR  27 Feb 2022  2022 Cottbus World Cup   \n",
       "\n",
       "  Round          Location Apparatus  Rank  D_Score  E_Score  Penalty   Score  \n",
       "0  qual  Cottbus, Germany        HB  18.0      3.9    8.266      NaN  12.166  \n",
       "1  qual  Cottbus, Germany        HB  18.0      3.9    8.266      NaN  12.166  \n",
       "2  qual  Cottbus, Germany        PB  23.0      3.9    6.900      NaN  10.800  \n",
       "3  qual  Cottbus, Germany        PB  23.0      3.9    6.900      NaN  10.800  \n",
       "4  qual  Cottbus, Germany        PH  33.0      4.2    6.666      NaN  10.866  "
      ]
     },
     "execution_count": 10,
     "metadata": {},
     "output_type": "execute_result"
    }
   ],
   "source": [
    "df.head()"
   ]
  },
  {
   "cell_type": "code",
   "execution_count": 11,
   "id": "3e48c6cd",
   "metadata": {},
   "outputs": [],
   "source": [
    "df['Date'] = pd.to_datetime(df['Date'], errors='coerce')\n"
   ]
  },
  {
   "cell_type": "code",
   "execution_count": 12,
   "id": "30e694c4",
   "metadata": {},
   "outputs": [
    {
     "data": {
      "text/plain": [
       "Competition\n",
       "2023 52nd FIG Artistic Gymnastics World Championships         2144\n",
       "2022 51st FIG Artistic Gymnastics World Championships         2078\n",
       "2023 Senior European Championships                            1638\n",
       "2022 Senior European Championships                            1565\n",
       "2023 FISU World University Games                               995\n",
       "2023 Artistic Gymnastics Senior Pan American Championships     885\n",
       "SANTIAGO 2023 XIX Pan American Games                           777\n",
       "2023 U.S. Championships                                        671\n",
       "BIRMINGHAM 2022 Commonwealth Games                             644\n",
       "2023 Central American and Caribbean Games                      640\n",
       "2023 10th Senior Artistic Gymnastics Asian Championships       601\n",
       "HANGZHOU 2022 19th Asian Games                                 599\n",
       "2022 U.S. Championships                                        595\n",
       "2022 British Gymnastics Championships                          583\n",
       "2023 Core Hydration Classic                                    574\n",
       "2023 Cottbus World Cup                                         568\n",
       "EnBW DTB Pokal Team Challenge 2023                             564\n",
       "2022 9th Senior Artistic Gymnastics Asian Championships        544\n",
       "2023 Baku World Cup                                            537\n",
       "2022 Paris World Challenge Cup                                 521\n",
       "2023 British Gymnastics Championships                          476\n",
       "2023 Cairo World Cup                                           461\n",
       "2023 Doha World Cup                                            454\n",
       "2022 Baku World Cup                                            453\n",
       "2022 Osijek World Challenge Cup                                428\n",
       "2023 Osijek World Challenge Cup                                424\n",
       "2022 Varna World Challenge Cup                                 420\n",
       "2022 Cottbus World Cup                                         408\n",
       "2022 Cairo World Cup                                           379\n",
       "2023 Varna World Challenge Cup                                 342\n",
       "2022 Koper World Challenge Cup                                 342\n",
       "2022 Szombathely World Challenge Cup                           322\n",
       "2022 Doha World Cup                                            315\n",
       "2022 Winter Cup                                                313\n",
       "2023 Winter Cup                                                303\n",
       "2022 Mersin World Challenge Cup                                301\n",
       "2023 Tel Aviv World Challenge Cup                              269\n",
       "2022 U.S. Classic                                              263\n",
       "Oceania Continental Championships 2023                          47\n",
       "Name: count, dtype: int64"
      ]
     },
     "execution_count": 12,
     "metadata": {},
     "output_type": "execute_result"
    }
   ],
   "source": [
    "df[\"Competition\"].value_counts()"
   ]
  },
  {
   "cell_type": "code",
   "execution_count": 13,
   "id": "2ddb4a39",
   "metadata": {},
   "outputs": [],
   "source": [
    "df['FirstName'].fillna('None', inplace=True)\n",
    "df['LastName'].fillna('None', inplace=True)\n"
   ]
  },
  {
   "cell_type": "code",
   "execution_count": 14,
   "id": "6c024855",
   "metadata": {},
   "outputs": [],
   "source": [
    "df[\"Name\"] = df[\"FirstName\"] + ' ' + df['LastName']"
   ]
  },
  {
   "cell_type": "code",
   "execution_count": 15,
   "id": "18cd5ffe",
   "metadata": {},
   "outputs": [],
   "source": [
    "df = df.drop(columns=[\"FirstName\", \"LastName\"])"
   ]
  },
  {
   "cell_type": "code",
   "execution_count": 16,
   "id": "f6ff6cff",
   "metadata": {},
   "outputs": [],
   "source": [
    "df = df.drop(columns=[\"Location\"])"
   ]
  },
  {
   "cell_type": "code",
   "execution_count": 17,
   "id": "c4e32e51",
   "metadata": {},
   "outputs": [
    {
     "data": {
      "text/plain": [
       "Index(['Gender', 'Country', 'Date', 'Competition', 'Round', 'Apparatus',\n",
       "       'Rank', 'D_Score', 'E_Score', 'Penalty', 'Score', 'Name'],\n",
       "      dtype='object')"
      ]
     },
     "execution_count": 17,
     "metadata": {},
     "output_type": "execute_result"
    }
   ],
   "source": [
    "df.columns"
   ]
  },
  {
   "cell_type": "code",
   "execution_count": 18,
   "id": "c8d2af11",
   "metadata": {},
   "outputs": [],
   "source": [
    "df = df[[ 'Name','Country', 'Gender',  'Date','Competition' , 'Round', 'Apparatus', 'Rank', 'D_Score',\n",
    "       'E_Score', 'Penalty', 'Score',]]"
   ]
  },
  {
   "cell_type": "code",
   "execution_count": 19,
   "id": "eba49fa7",
   "metadata": {},
   "outputs": [],
   "source": [
    "df['Penalty'].fillna(0, inplace=True)"
   ]
  },
  {
   "cell_type": "code",
   "execution_count": 20,
   "id": "e3141b67",
   "metadata": {},
   "outputs": [
    {
     "name": "stdout",
     "output_type": "stream",
     "text": [
      "<class 'pandas.core.frame.DataFrame'>\n",
      "RangeIndex: 24443 entries, 0 to 24442\n",
      "Data columns (total 12 columns):\n",
      " #   Column       Non-Null Count  Dtype         \n",
      "---  ------       --------------  -----         \n",
      " 0   Name         24443 non-null  object        \n",
      " 1   Country      24439 non-null  object        \n",
      " 2   Gender       24443 non-null  object        \n",
      " 3   Date         21744 non-null  datetime64[ns]\n",
      " 4   Competition  24443 non-null  object        \n",
      " 5   Round        24443 non-null  object        \n",
      " 6   Apparatus    24443 non-null  object        \n",
      " 7   Rank         21526 non-null  float64       \n",
      " 8   D_Score      24443 non-null  float64       \n",
      " 9   E_Score      24443 non-null  float64       \n",
      " 10  Penalty      24443 non-null  float64       \n",
      " 11  Score        24443 non-null  float64       \n",
      "dtypes: datetime64[ns](1), float64(5), object(6)\n",
      "memory usage: 2.2+ MB\n"
     ]
    }
   ],
   "source": [
    "df.info()"
   ]
  },
  {
   "cell_type": "code",
   "execution_count": 21,
   "id": "29979af3",
   "metadata": {},
   "outputs": [],
   "source": [
    "# df['Date'].fillna('2022-08-05 20:23:00', inplace=True)"
   ]
  },
  {
   "cell_type": "code",
   "execution_count": 22,
   "id": "7da30a99",
   "metadata": {},
   "outputs": [
    {
     "data": {
      "text/html": [
       "<div>\n",
       "<style scoped>\n",
       "    .dataframe tbody tr th:only-of-type {\n",
       "        vertical-align: middle;\n",
       "    }\n",
       "\n",
       "    .dataframe tbody tr th {\n",
       "        vertical-align: top;\n",
       "    }\n",
       "\n",
       "    .dataframe thead th {\n",
       "        text-align: right;\n",
       "    }\n",
       "</style>\n",
       "<table border=\"1\" class=\"dataframe\">\n",
       "  <thead>\n",
       "    <tr style=\"text-align: right;\">\n",
       "      <th></th>\n",
       "      <th>Name</th>\n",
       "      <th>Country</th>\n",
       "      <th>Gender</th>\n",
       "      <th>Date</th>\n",
       "      <th>Competition</th>\n",
       "      <th>Round</th>\n",
       "      <th>Apparatus</th>\n",
       "      <th>Rank</th>\n",
       "      <th>D_Score</th>\n",
       "      <th>E_Score</th>\n",
       "      <th>Penalty</th>\n",
       "      <th>Score</th>\n",
       "    </tr>\n",
       "  </thead>\n",
       "  <tbody>\n",
       "    <tr>\n",
       "      <th>0</th>\n",
       "      <td>Fredrik AAS</td>\n",
       "      <td>NOR</td>\n",
       "      <td>m</td>\n",
       "      <td>2022-02-27</td>\n",
       "      <td>2022 Cottbus World Cup</td>\n",
       "      <td>qual</td>\n",
       "      <td>HB</td>\n",
       "      <td>18.0</td>\n",
       "      <td>3.9</td>\n",
       "      <td>8.266</td>\n",
       "      <td>0.0</td>\n",
       "      <td>12.166</td>\n",
       "    </tr>\n",
       "    <tr>\n",
       "      <th>1</th>\n",
       "      <td>Fredrik AAS</td>\n",
       "      <td>NOR</td>\n",
       "      <td>m</td>\n",
       "      <td>2022-02-27</td>\n",
       "      <td>2022 Cottbus World Cup</td>\n",
       "      <td>qual</td>\n",
       "      <td>HB</td>\n",
       "      <td>18.0</td>\n",
       "      <td>3.9</td>\n",
       "      <td>8.266</td>\n",
       "      <td>0.0</td>\n",
       "      <td>12.166</td>\n",
       "    </tr>\n",
       "    <tr>\n",
       "      <th>2</th>\n",
       "      <td>Fredrik AAS</td>\n",
       "      <td>NOR</td>\n",
       "      <td>m</td>\n",
       "      <td>2022-02-27</td>\n",
       "      <td>2022 Cottbus World Cup</td>\n",
       "      <td>qual</td>\n",
       "      <td>PB</td>\n",
       "      <td>23.0</td>\n",
       "      <td>3.9</td>\n",
       "      <td>6.900</td>\n",
       "      <td>0.0</td>\n",
       "      <td>10.800</td>\n",
       "    </tr>\n",
       "    <tr>\n",
       "      <th>3</th>\n",
       "      <td>Fredrik AAS</td>\n",
       "      <td>NOR</td>\n",
       "      <td>m</td>\n",
       "      <td>2022-02-27</td>\n",
       "      <td>2022 Cottbus World Cup</td>\n",
       "      <td>qual</td>\n",
       "      <td>PB</td>\n",
       "      <td>23.0</td>\n",
       "      <td>3.9</td>\n",
       "      <td>6.900</td>\n",
       "      <td>0.0</td>\n",
       "      <td>10.800</td>\n",
       "    </tr>\n",
       "    <tr>\n",
       "      <th>4</th>\n",
       "      <td>Fredrik AAS</td>\n",
       "      <td>NOR</td>\n",
       "      <td>m</td>\n",
       "      <td>2022-02-27</td>\n",
       "      <td>2022 Cottbus World Cup</td>\n",
       "      <td>qual</td>\n",
       "      <td>PH</td>\n",
       "      <td>33.0</td>\n",
       "      <td>4.2</td>\n",
       "      <td>6.666</td>\n",
       "      <td>0.0</td>\n",
       "      <td>10.866</td>\n",
       "    </tr>\n",
       "    <tr>\n",
       "      <th>...</th>\n",
       "      <td>...</td>\n",
       "      <td>...</td>\n",
       "      <td>...</td>\n",
       "      <td>...</td>\n",
       "      <td>...</td>\n",
       "      <td>...</td>\n",
       "      <td>...</td>\n",
       "      <td>...</td>\n",
       "      <td>...</td>\n",
       "      <td>...</td>\n",
       "      <td>...</td>\n",
       "      <td>...</td>\n",
       "    </tr>\n",
       "    <tr>\n",
       "      <th>24438</th>\n",
       "      <td>None None</td>\n",
       "      <td>AUS</td>\n",
       "      <td>w</td>\n",
       "      <td>2022-11-06</td>\n",
       "      <td>2022 51st FIG Artistic Gymnastics World Champi...</td>\n",
       "      <td>qual</td>\n",
       "      <td>UB</td>\n",
       "      <td>17.0</td>\n",
       "      <td>5.6</td>\n",
       "      <td>8.466</td>\n",
       "      <td>0.0</td>\n",
       "      <td>14.066</td>\n",
       "    </tr>\n",
       "    <tr>\n",
       "      <th>24439</th>\n",
       "      <td>None None</td>\n",
       "      <td>AUS</td>\n",
       "      <td>w</td>\n",
       "      <td>2022-08-02</td>\n",
       "      <td>BIRMINGHAM 2022 Commonwealth Games</td>\n",
       "      <td>final</td>\n",
       "      <td>BB</td>\n",
       "      <td>1.0</td>\n",
       "      <td>5.1</td>\n",
       "      <td>8.366</td>\n",
       "      <td>0.0</td>\n",
       "      <td>13.466</td>\n",
       "    </tr>\n",
       "    <tr>\n",
       "      <th>24440</th>\n",
       "      <td>None None</td>\n",
       "      <td>AUS</td>\n",
       "      <td>w</td>\n",
       "      <td>2022-08-02</td>\n",
       "      <td>BIRMINGHAM 2022 Commonwealth Games</td>\n",
       "      <td>qual</td>\n",
       "      <td>BB</td>\n",
       "      <td>5.0</td>\n",
       "      <td>5.0</td>\n",
       "      <td>7.950</td>\n",
       "      <td>0.0</td>\n",
       "      <td>12.950</td>\n",
       "    </tr>\n",
       "    <tr>\n",
       "      <th>24441</th>\n",
       "      <td>None None</td>\n",
       "      <td>AUS</td>\n",
       "      <td>w</td>\n",
       "      <td>2022-08-02</td>\n",
       "      <td>BIRMINGHAM 2022 Commonwealth Games</td>\n",
       "      <td>final</td>\n",
       "      <td>UB</td>\n",
       "      <td>7.0</td>\n",
       "      <td>5.3</td>\n",
       "      <td>7.233</td>\n",
       "      <td>0.0</td>\n",
       "      <td>12.533</td>\n",
       "    </tr>\n",
       "    <tr>\n",
       "      <th>24442</th>\n",
       "      <td>None None</td>\n",
       "      <td>AUS</td>\n",
       "      <td>w</td>\n",
       "      <td>2022-08-02</td>\n",
       "      <td>BIRMINGHAM 2022 Commonwealth Games</td>\n",
       "      <td>qual</td>\n",
       "      <td>UB</td>\n",
       "      <td>5.0</td>\n",
       "      <td>5.6</td>\n",
       "      <td>7.900</td>\n",
       "      <td>0.0</td>\n",
       "      <td>13.500</td>\n",
       "    </tr>\n",
       "  </tbody>\n",
       "</table>\n",
       "<p>24443 rows × 12 columns</p>\n",
       "</div>"
      ],
      "text/plain": [
       "              Name Country Gender       Date  \\\n",
       "0      Fredrik AAS     NOR      m 2022-02-27   \n",
       "1      Fredrik AAS     NOR      m 2022-02-27   \n",
       "2      Fredrik AAS     NOR      m 2022-02-27   \n",
       "3      Fredrik AAS     NOR      m 2022-02-27   \n",
       "4      Fredrik AAS     NOR      m 2022-02-27   \n",
       "...            ...     ...    ...        ...   \n",
       "24438    None None     AUS      w 2022-11-06   \n",
       "24439    None None     AUS      w 2022-08-02   \n",
       "24440    None None     AUS      w 2022-08-02   \n",
       "24441    None None     AUS      w 2022-08-02   \n",
       "24442    None None     AUS      w 2022-08-02   \n",
       "\n",
       "                                             Competition  Round Apparatus  \\\n",
       "0                                 2022 Cottbus World Cup   qual        HB   \n",
       "1                                 2022 Cottbus World Cup   qual        HB   \n",
       "2                                 2022 Cottbus World Cup   qual        PB   \n",
       "3                                 2022 Cottbus World Cup   qual        PB   \n",
       "4                                 2022 Cottbus World Cup   qual        PH   \n",
       "...                                                  ...    ...       ...   \n",
       "24438  2022 51st FIG Artistic Gymnastics World Champi...   qual        UB   \n",
       "24439                 BIRMINGHAM 2022 Commonwealth Games  final        BB   \n",
       "24440                 BIRMINGHAM 2022 Commonwealth Games   qual        BB   \n",
       "24441                 BIRMINGHAM 2022 Commonwealth Games  final        UB   \n",
       "24442                 BIRMINGHAM 2022 Commonwealth Games   qual        UB   \n",
       "\n",
       "       Rank  D_Score  E_Score  Penalty   Score  \n",
       "0      18.0      3.9    8.266      0.0  12.166  \n",
       "1      18.0      3.9    8.266      0.0  12.166  \n",
       "2      23.0      3.9    6.900      0.0  10.800  \n",
       "3      23.0      3.9    6.900      0.0  10.800  \n",
       "4      33.0      4.2    6.666      0.0  10.866  \n",
       "...     ...      ...      ...      ...     ...  \n",
       "24438  17.0      5.6    8.466      0.0  14.066  \n",
       "24439   1.0      5.1    8.366      0.0  13.466  \n",
       "24440   5.0      5.0    7.950      0.0  12.950  \n",
       "24441   7.0      5.3    7.233      0.0  12.533  \n",
       "24442   5.0      5.6    7.900      0.0  13.500  \n",
       "\n",
       "[24443 rows x 12 columns]"
      ]
     },
     "execution_count": 22,
     "metadata": {},
     "output_type": "execute_result"
    }
   ],
   "source": [
    "df"
   ]
  },
  {
   "cell_type": "code",
   "execution_count": 23,
   "id": "5a0101c9",
   "metadata": {},
   "outputs": [
    {
     "name": "stdout",
     "output_type": "stream",
     "text": [
      "<class 'pandas.core.frame.DataFrame'>\n",
      "RangeIndex: 24443 entries, 0 to 24442\n",
      "Data columns (total 12 columns):\n",
      " #   Column       Non-Null Count  Dtype         \n",
      "---  ------       --------------  -----         \n",
      " 0   Name         24443 non-null  object        \n",
      " 1   Country      24439 non-null  object        \n",
      " 2   Gender       24443 non-null  object        \n",
      " 3   Date         21744 non-null  datetime64[ns]\n",
      " 4   Competition  24443 non-null  object        \n",
      " 5   Round        24443 non-null  object        \n",
      " 6   Apparatus    24443 non-null  object        \n",
      " 7   Rank         21526 non-null  float64       \n",
      " 8   D_Score      24443 non-null  float64       \n",
      " 9   E_Score      24443 non-null  float64       \n",
      " 10  Penalty      24443 non-null  float64       \n",
      " 11  Score        24443 non-null  float64       \n",
      "dtypes: datetime64[ns](1), float64(5), object(6)\n",
      "memory usage: 2.2+ MB\n"
     ]
    }
   ],
   "source": [
    "df.info()"
   ]
  },
  {
   "cell_type": "code",
   "execution_count": 24,
   "id": "ef9c9b4d",
   "metadata": {},
   "outputs": [],
   "source": [
    "dff = df.copy()"
   ]
  },
  {
   "cell_type": "code",
   "execution_count": 25,
   "id": "10b20920",
   "metadata": {},
   "outputs": [],
   "source": [
    "dff.dropna(inplace=True)"
   ]
  },
  {
   "cell_type": "code",
   "execution_count": 26,
   "id": "fa54f32d",
   "metadata": {},
   "outputs": [
    {
     "name": "stdout",
     "output_type": "stream",
     "text": [
      "<class 'pandas.core.frame.DataFrame'>\n",
      "Index: 18866 entries, 0 to 24442\n",
      "Data columns (total 12 columns):\n",
      " #   Column       Non-Null Count  Dtype         \n",
      "---  ------       --------------  -----         \n",
      " 0   Name         18866 non-null  object        \n",
      " 1   Country      18866 non-null  object        \n",
      " 2   Gender       18866 non-null  object        \n",
      " 3   Date         18866 non-null  datetime64[ns]\n",
      " 4   Competition  18866 non-null  object        \n",
      " 5   Round        18866 non-null  object        \n",
      " 6   Apparatus    18866 non-null  object        \n",
      " 7   Rank         18866 non-null  float64       \n",
      " 8   D_Score      18866 non-null  float64       \n",
      " 9   E_Score      18866 non-null  float64       \n",
      " 10  Penalty      18866 non-null  float64       \n",
      " 11  Score        18866 non-null  float64       \n",
      "dtypes: datetime64[ns](1), float64(5), object(6)\n",
      "memory usage: 1.9+ MB\n"
     ]
    }
   ],
   "source": [
    "dff.info()"
   ]
  },
  {
   "cell_type": "code",
   "execution_count": null,
   "id": "83e4f658",
   "metadata": {},
   "outputs": [],
   "source": []
  },
  {
   "cell_type": "code",
   "execution_count": 27,
   "id": "a9e801e2",
   "metadata": {},
   "outputs": [
    {
     "data": {
      "text/plain": [
       "Gender\n",
       "m    15133\n",
       "w     9310\n",
       "Name: count, dtype: int64"
      ]
     },
     "execution_count": 27,
     "metadata": {},
     "output_type": "execute_result"
    }
   ],
   "source": [
    "df[\"Gender\"].value_counts()"
   ]
  },
  {
   "cell_type": "code",
   "execution_count": 28,
   "id": "5250a5dc",
   "metadata": {},
   "outputs": [],
   "source": [
    "women = df[df[\"Gender\"] == \"w\"]"
   ]
  },
  {
   "cell_type": "code",
   "execution_count": 29,
   "id": "90781457",
   "metadata": {},
   "outputs": [],
   "source": [
    "men = df[df[\"Gender\"] == \"m\"]"
   ]
  },
  {
   "cell_type": "code",
   "execution_count": 30,
   "id": "a024e2db",
   "metadata": {},
   "outputs": [
    {
     "name": "stdout",
     "output_type": "stream",
     "text": [
      "<class 'pandas.core.frame.DataFrame'>\n",
      "Index: 15133 entries, 0 to 24434\n",
      "Data columns (total 12 columns):\n",
      " #   Column       Non-Null Count  Dtype         \n",
      "---  ------       --------------  -----         \n",
      " 0   Name         15133 non-null  object        \n",
      " 1   Country      15130 non-null  object        \n",
      " 2   Gender       15133 non-null  object        \n",
      " 3   Date         13404 non-null  datetime64[ns]\n",
      " 4   Competition  15133 non-null  object        \n",
      " 5   Round        15133 non-null  object        \n",
      " 6   Apparatus    15133 non-null  object        \n",
      " 7   Rank         13267 non-null  float64       \n",
      " 8   D_Score      15133 non-null  float64       \n",
      " 9   E_Score      15133 non-null  float64       \n",
      " 10  Penalty      15133 non-null  float64       \n",
      " 11  Score        15133 non-null  float64       \n",
      "dtypes: datetime64[ns](1), float64(5), object(6)\n",
      "memory usage: 1.5+ MB\n"
     ]
    }
   ],
   "source": [
    "men.info()"
   ]
  },
  {
   "cell_type": "code",
   "execution_count": 31,
   "id": "f317b743",
   "metadata": {},
   "outputs": [
    {
     "name": "stdout",
     "output_type": "stream",
     "text": [
      "<class 'pandas.core.frame.DataFrame'>\n",
      "Index: 9310 entries, 147 to 24442\n",
      "Data columns (total 12 columns):\n",
      " #   Column       Non-Null Count  Dtype         \n",
      "---  ------       --------------  -----         \n",
      " 0   Name         9310 non-null   object        \n",
      " 1   Country      9309 non-null   object        \n",
      " 2   Gender       9310 non-null   object        \n",
      " 3   Date         8340 non-null   datetime64[ns]\n",
      " 4   Competition  9310 non-null   object        \n",
      " 5   Round        9310 non-null   object        \n",
      " 6   Apparatus    9310 non-null   object        \n",
      " 7   Rank         8259 non-null   float64       \n",
      " 8   D_Score      9310 non-null   float64       \n",
      " 9   E_Score      9310 non-null   float64       \n",
      " 10  Penalty      9310 non-null   float64       \n",
      " 11  Score        9310 non-null   float64       \n",
      "dtypes: datetime64[ns](1), float64(5), object(6)\n",
      "memory usage: 945.5+ KB\n"
     ]
    }
   ],
   "source": [
    "women.info()"
   ]
  },
  {
   "cell_type": "code",
   "execution_count": 32,
   "id": "2e0be572",
   "metadata": {},
   "outputs": [
    {
     "name": "stderr",
     "output_type": "stream",
     "text": [
      "/var/folders/j_/555m2zps099832fjh_m8jjnc0000gn/T/ipykernel_14465/4146035132.py:1: SettingWithCopyWarning: \n",
      "A value is trying to be set on a copy of a slice from a DataFrame\n",
      "\n",
      "See the caveats in the documentation: https://pandas.pydata.org/pandas-docs/stable/user_guide/indexing.html#returning-a-view-versus-a-copy\n",
      "  women[\"Country\"].fillna(\"None\", inplace=True)\n"
     ]
    }
   ],
   "source": [
    "women[\"Country\"].fillna(\"None\", inplace=True)"
   ]
  },
  {
   "cell_type": "code",
   "execution_count": 33,
   "id": "cb7beb4d",
   "metadata": {},
   "outputs": [
    {
     "name": "stderr",
     "output_type": "stream",
     "text": [
      "/var/folders/j_/555m2zps099832fjh_m8jjnc0000gn/T/ipykernel_14465/367845592.py:1: SettingWithCopyWarning: \n",
      "A value is trying to be set on a copy of a slice from a DataFrame\n",
      "\n",
      "See the caveats in the documentation: https://pandas.pydata.org/pandas-docs/stable/user_guide/indexing.html#returning-a-view-versus-a-copy\n",
      "  women.dropna(inplace=True)\n"
     ]
    }
   ],
   "source": [
    "women.dropna(inplace=True)"
   ]
  },
  {
   "cell_type": "code",
   "execution_count": 34,
   "id": "be5cbff7",
   "metadata": {},
   "outputs": [
    {
     "name": "stdout",
     "output_type": "stream",
     "text": [
      "<class 'pandas.core.frame.DataFrame'>\n",
      "Index: 7309 entries, 147 to 24442\n",
      "Data columns (total 12 columns):\n",
      " #   Column       Non-Null Count  Dtype         \n",
      "---  ------       --------------  -----         \n",
      " 0   Name         7309 non-null   object        \n",
      " 1   Country      7309 non-null   object        \n",
      " 2   Gender       7309 non-null   object        \n",
      " 3   Date         7309 non-null   datetime64[ns]\n",
      " 4   Competition  7309 non-null   object        \n",
      " 5   Round        7309 non-null   object        \n",
      " 6   Apparatus    7309 non-null   object        \n",
      " 7   Rank         7309 non-null   float64       \n",
      " 8   D_Score      7309 non-null   float64       \n",
      " 9   E_Score      7309 non-null   float64       \n",
      " 10  Penalty      7309 non-null   float64       \n",
      " 11  Score        7309 non-null   float64       \n",
      "dtypes: datetime64[ns](1), float64(5), object(6)\n",
      "memory usage: 742.3+ KB\n"
     ]
    }
   ],
   "source": [
    "women.info()"
   ]
  },
  {
   "cell_type": "code",
   "execution_count": 35,
   "id": "eacfc875",
   "metadata": {},
   "outputs": [
    {
     "name": "stderr",
     "output_type": "stream",
     "text": [
      "/var/folders/j_/555m2zps099832fjh_m8jjnc0000gn/T/ipykernel_14465/1062396297.py:1: SettingWithCopyWarning: \n",
      "A value is trying to be set on a copy of a slice from a DataFrame\n",
      "\n",
      "See the caveats in the documentation: https://pandas.pydata.org/pandas-docs/stable/user_guide/indexing.html#returning-a-view-versus-a-copy\n",
      "  men[\"Country\"].fillna(\"None\", inplace=True)\n"
     ]
    }
   ],
   "source": [
    "men[\"Country\"].fillna(\"None\", inplace=True)"
   ]
  },
  {
   "cell_type": "code",
   "execution_count": 36,
   "id": "69133b7b",
   "metadata": {},
   "outputs": [
    {
     "name": "stdout",
     "output_type": "stream",
     "text": [
      "<class 'pandas.core.frame.DataFrame'>\n",
      "Index: 15133 entries, 0 to 24434\n",
      "Data columns (total 12 columns):\n",
      " #   Column       Non-Null Count  Dtype         \n",
      "---  ------       --------------  -----         \n",
      " 0   Name         15133 non-null  object        \n",
      " 1   Country      15133 non-null  object        \n",
      " 2   Gender       15133 non-null  object        \n",
      " 3   Date         13404 non-null  datetime64[ns]\n",
      " 4   Competition  15133 non-null  object        \n",
      " 5   Round        15133 non-null  object        \n",
      " 6   Apparatus    15133 non-null  object        \n",
      " 7   Rank         13267 non-null  float64       \n",
      " 8   D_Score      15133 non-null  float64       \n",
      " 9   E_Score      15133 non-null  float64       \n",
      " 10  Penalty      15133 non-null  float64       \n",
      " 11  Score        15133 non-null  float64       \n",
      "dtypes: datetime64[ns](1), float64(5), object(6)\n",
      "memory usage: 1.5+ MB\n"
     ]
    }
   ],
   "source": [
    "men.info()"
   ]
  },
  {
   "cell_type": "code",
   "execution_count": 37,
   "id": "e82b0d98",
   "metadata": {},
   "outputs": [
    {
     "name": "stderr",
     "output_type": "stream",
     "text": [
      "/var/folders/j_/555m2zps099832fjh_m8jjnc0000gn/T/ipykernel_14465/3298297671.py:1: SettingWithCopyWarning: \n",
      "A value is trying to be set on a copy of a slice from a DataFrame\n",
      "\n",
      "See the caveats in the documentation: https://pandas.pydata.org/pandas-docs/stable/user_guide/indexing.html#returning-a-view-versus-a-copy\n",
      "  men.dropna(inplace=True)\n"
     ]
    }
   ],
   "source": [
    "men.dropna(inplace=True)"
   ]
  },
  {
   "cell_type": "code",
   "execution_count": 38,
   "id": "8f5872f7",
   "metadata": {},
   "outputs": [
    {
     "name": "stdout",
     "output_type": "stream",
     "text": [
      "<class 'pandas.core.frame.DataFrame'>\n",
      "Index: 11559 entries, 0 to 24434\n",
      "Data columns (total 12 columns):\n",
      " #   Column       Non-Null Count  Dtype         \n",
      "---  ------       --------------  -----         \n",
      " 0   Name         11559 non-null  object        \n",
      " 1   Country      11559 non-null  object        \n",
      " 2   Gender       11559 non-null  object        \n",
      " 3   Date         11559 non-null  datetime64[ns]\n",
      " 4   Competition  11559 non-null  object        \n",
      " 5   Round        11559 non-null  object        \n",
      " 6   Apparatus    11559 non-null  object        \n",
      " 7   Rank         11559 non-null  float64       \n",
      " 8   D_Score      11559 non-null  float64       \n",
      " 9   E_Score      11559 non-null  float64       \n",
      " 10  Penalty      11559 non-null  float64       \n",
      " 11  Score        11559 non-null  float64       \n",
      "dtypes: datetime64[ns](1), float64(5), object(6)\n",
      "memory usage: 1.1+ MB\n"
     ]
    }
   ],
   "source": [
    "men.info()"
   ]
  },
  {
   "cell_type": "code",
   "execution_count": 39,
   "id": "e3c83092",
   "metadata": {},
   "outputs": [
    {
     "data": {
      "text/plain": [
       "Competition\n",
       "2023 52nd FIG Artistic Gymnastics World Championships    809\n",
       "2022 51st FIG Artistic Gymnastics World Championships    776\n",
       "2022 Senior European Championships                       660\n",
       "2023 Senior European Championships                       646\n",
       "2023 FISU World University Games                         320\n",
       "SANTIAGO 2023 XIX Pan American Games                     309\n",
       "2022 British Gymnastics Championships                    308\n",
       "2023 Central American and Caribbean Games                282\n",
       "HANGZHOU 2022 19th Asian Games                           250\n",
       "BIRMINGHAM 2022 Commonwealth Games                       233\n",
       "2023 British Gymnastics Championships                    220\n",
       "2023 Baku World Cup                                      195\n",
       "2023 Cairo World Cup                                     192\n",
       "EnBW DTB Pokal Team Challenge 2023                       180\n",
       "2023 Cottbus World Cup                                   177\n",
       "2022 Baku World Cup                                      173\n",
       "2023 Osijek World Challenge Cup                          173\n",
       "2022 Varna World Challenge Cup                           155\n",
       "2023 Varna World Challenge Cup                           147\n",
       "2023 Doha World Cup                                      147\n",
       "2022 Cairo World Cup                                     130\n",
       "2023 Tel Aviv World Challenge Cup                        127\n",
       "2022 Cottbus World Cup                                   127\n",
       "2022 Mersin World Challenge Cup                          115\n",
       "2022 Szombathely World Challenge Cup                     107\n",
       "2022 Doha World Cup                                       98\n",
       "2023 Winter Cup                                           92\n",
       "2023 Core Hydration Classic                               90\n",
       "2022 Winter Cup                                           71\n",
       "Name: count, dtype: int64"
      ]
     },
     "execution_count": 39,
     "metadata": {},
     "output_type": "execute_result"
    }
   ],
   "source": [
    "women[\"Competition\"].value_counts()"
   ]
  },
  {
   "cell_type": "code",
   "execution_count": 54,
   "id": "f7a87fb3",
   "metadata": {},
   "outputs": [],
   "source": [
    "# women.to_csv('usopc_women_october.csv', index=False)"
   ]
  },
  {
   "cell_type": "code",
   "execution_count": 55,
   "id": "fae26cee",
   "metadata": {},
   "outputs": [],
   "source": [
    "# men.to_csv('usopc_men_october.csv', index=False)"
   ]
  },
  {
   "cell_type": "code",
   "execution_count": 45,
   "id": "c4cd318a",
   "metadata": {},
   "outputs": [],
   "source": [
    "women_bb = women[women[\"Apparatus\"]== \"BB\"]"
   ]
  },
  {
   "cell_type": "code",
   "execution_count": 46,
   "id": "c71ffb17",
   "metadata": {},
   "outputs": [],
   "source": [
    "women_ub = women[women[\"Apparatus\"]== \"UB\"]"
   ]
  },
  {
   "cell_type": "code",
   "execution_count": 47,
   "id": "2f659337",
   "metadata": {},
   "outputs": [
    {
     "data": {
      "text/plain": [
       "Apparatus\n",
       "BB     1803\n",
       "UB     1676\n",
       "FX     1668\n",
       "VT1    1402\n",
       "VT2     637\n",
       "VT      123\n",
       "Name: count, dtype: int64"
      ]
     },
     "execution_count": 47,
     "metadata": {},
     "output_type": "execute_result"
    }
   ],
   "source": [
    "women[\"Apparatus\"].value_counts()"
   ]
  },
  {
   "cell_type": "code",
   "execution_count": 48,
   "id": "c271e566",
   "metadata": {},
   "outputs": [],
   "source": [
    "women_fx = women[women[\"Apparatus\"]== \"FX\"]"
   ]
  },
  {
   "cell_type": "code",
   "execution_count": 49,
   "id": "a22fa869",
   "metadata": {},
   "outputs": [],
   "source": [
    "condition = women['Apparatus'].isin(['VT', 'VT1', 'VT2'])\n",
    "new_df = women[condition]"
   ]
  },
  {
   "cell_type": "code",
   "execution_count": 50,
   "id": "b3ca7e28",
   "metadata": {},
   "outputs": [
    {
     "data": {
      "text/plain": [
       "Apparatus\n",
       "VT1    1402\n",
       "VT2     637\n",
       "VT      123\n",
       "Name: count, dtype: int64"
      ]
     },
     "execution_count": 50,
     "metadata": {},
     "output_type": "execute_result"
    }
   ],
   "source": [
    "new_df[\"Apparatus\"].value_counts()"
   ]
  },
  {
   "cell_type": "code",
   "execution_count": 51,
   "id": "252562fd",
   "metadata": {},
   "outputs": [],
   "source": [
    "women_vt = new_df.copy()"
   ]
  },
  {
   "cell_type": "code",
   "execution_count": 52,
   "id": "1768dad6",
   "metadata": {},
   "outputs": [],
   "source": [
    "# women_bb.to_csv('usopc_women_bb_october.csv', index=False)\n",
    "# women_ub.to_csv('usopc_women_ub_october.csv', index=False)\n",
    "# women_fx.to_csv('usopc_women_fx_october.csv', index=False)\n",
    "# women_vt.to_csv('usopc_women_vt_october.csv', index=False)\n"
   ]
  },
  {
   "cell_type": "code",
   "execution_count": null,
   "id": "1d339efe",
   "metadata": {},
   "outputs": [],
   "source": []
  }
 ],
 "metadata": {
  "kernelspec": {
   "display_name": "Python 3 (ipykernel)",
   "language": "python",
   "name": "python3"
  },
  "language_info": {
   "codemirror_mode": {
    "name": "ipython",
    "version": 3
   },
   "file_extension": ".py",
   "mimetype": "text/x-python",
   "name": "python",
   "nbconvert_exporter": "python",
   "pygments_lexer": "ipython3",
   "version": "3.8.18"
  }
 },
 "nbformat": 4,
 "nbformat_minor": 5
}
