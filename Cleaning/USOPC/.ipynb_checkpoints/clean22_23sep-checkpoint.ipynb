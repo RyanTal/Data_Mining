{
 "cells": [
  {
   "cell_type": "code",
   "execution_count": 1,
   "id": "55df7ffa",
   "metadata": {},
   "outputs": [],
   "source": [
    "import pandas as pd\n",
    "import numpy as np"
   ]
  },
  {
   "cell_type": "code",
   "execution_count": 2,
   "id": "bb45b586",
   "metadata": {},
   "outputs": [],
   "source": [
    "# df = pd.read_csv('../Data/data_2022_2023_sep13.csv')"
   ]
  },
  {
   "cell_type": "code",
   "execution_count": 3,
   "id": "da4e34c8",
   "metadata": {},
   "outputs": [
    {
     "ename": "FileNotFoundError",
     "evalue": "[Errno 2] No such file or directory: '../Data/data_2022_2023sep14.csv'",
     "output_type": "error",
     "traceback": [
      "\u001b[0;31m---------------------------------------------------------------------------\u001b[0m",
      "\u001b[0;31mFileNotFoundError\u001b[0m                         Traceback (most recent call last)",
      "\u001b[0;32m/var/folders/j_/555m2zps099832fjh_m8jjnc0000gn/T/ipykernel_12265/3401534810.py\u001b[0m in \u001b[0;36m<cell line: 1>\u001b[0;34m()\u001b[0m\n\u001b[0;32m----> 1\u001b[0;31m \u001b[0mdf\u001b[0m \u001b[0;34m=\u001b[0m \u001b[0mpd\u001b[0m\u001b[0;34m.\u001b[0m\u001b[0mread_csv\u001b[0m\u001b[0;34m(\u001b[0m\u001b[0;34m'../Data/data_2022_2023sep14.csv'\u001b[0m\u001b[0;34m)\u001b[0m\u001b[0;34m\u001b[0m\u001b[0;34m\u001b[0m\u001b[0m\n\u001b[0m",
      "\u001b[0;32m~/opt/anaconda3/envs/tf2/lib/python3.9/site-packages/pandas/io/parsers/readers.py\u001b[0m in \u001b[0;36mread_csv\u001b[0;34m(filepath_or_buffer, sep, delimiter, header, names, index_col, usecols, dtype, engine, converters, true_values, false_values, skipinitialspace, skiprows, skipfooter, nrows, na_values, keep_default_na, na_filter, verbose, skip_blank_lines, parse_dates, infer_datetime_format, keep_date_col, date_parser, date_format, dayfirst, cache_dates, iterator, chunksize, compression, thousands, decimal, lineterminator, quotechar, quoting, doublequote, escapechar, comment, encoding, encoding_errors, dialect, on_bad_lines, delim_whitespace, low_memory, memory_map, float_precision, storage_options, dtype_backend)\u001b[0m\n\u001b[1;32m    910\u001b[0m     \u001b[0mkwds\u001b[0m\u001b[0;34m.\u001b[0m\u001b[0mupdate\u001b[0m\u001b[0;34m(\u001b[0m\u001b[0mkwds_defaults\u001b[0m\u001b[0;34m)\u001b[0m\u001b[0;34m\u001b[0m\u001b[0;34m\u001b[0m\u001b[0m\n\u001b[1;32m    911\u001b[0m \u001b[0;34m\u001b[0m\u001b[0m\n\u001b[0;32m--> 912\u001b[0;31m     \u001b[0;32mreturn\u001b[0m \u001b[0m_read\u001b[0m\u001b[0;34m(\u001b[0m\u001b[0mfilepath_or_buffer\u001b[0m\u001b[0;34m,\u001b[0m \u001b[0mkwds\u001b[0m\u001b[0;34m)\u001b[0m\u001b[0;34m\u001b[0m\u001b[0;34m\u001b[0m\u001b[0m\n\u001b[0m\u001b[1;32m    913\u001b[0m \u001b[0;34m\u001b[0m\u001b[0m\n\u001b[1;32m    914\u001b[0m \u001b[0;34m\u001b[0m\u001b[0m\n",
      "\u001b[0;32m~/opt/anaconda3/envs/tf2/lib/python3.9/site-packages/pandas/io/parsers/readers.py\u001b[0m in \u001b[0;36m_read\u001b[0;34m(filepath_or_buffer, kwds)\u001b[0m\n\u001b[1;32m    575\u001b[0m \u001b[0;34m\u001b[0m\u001b[0m\n\u001b[1;32m    576\u001b[0m     \u001b[0;31m# Create the parser.\u001b[0m\u001b[0;34m\u001b[0m\u001b[0;34m\u001b[0m\u001b[0m\n\u001b[0;32m--> 577\u001b[0;31m     \u001b[0mparser\u001b[0m \u001b[0;34m=\u001b[0m \u001b[0mTextFileReader\u001b[0m\u001b[0;34m(\u001b[0m\u001b[0mfilepath_or_buffer\u001b[0m\u001b[0;34m,\u001b[0m \u001b[0;34m**\u001b[0m\u001b[0mkwds\u001b[0m\u001b[0;34m)\u001b[0m\u001b[0;34m\u001b[0m\u001b[0;34m\u001b[0m\u001b[0m\n\u001b[0m\u001b[1;32m    578\u001b[0m \u001b[0;34m\u001b[0m\u001b[0m\n\u001b[1;32m    579\u001b[0m     \u001b[0;32mif\u001b[0m \u001b[0mchunksize\u001b[0m \u001b[0;32mor\u001b[0m \u001b[0miterator\u001b[0m\u001b[0;34m:\u001b[0m\u001b[0;34m\u001b[0m\u001b[0;34m\u001b[0m\u001b[0m\n",
      "\u001b[0;32m~/opt/anaconda3/envs/tf2/lib/python3.9/site-packages/pandas/io/parsers/readers.py\u001b[0m in \u001b[0;36m__init__\u001b[0;34m(self, f, engine, **kwds)\u001b[0m\n\u001b[1;32m   1405\u001b[0m \u001b[0;34m\u001b[0m\u001b[0m\n\u001b[1;32m   1406\u001b[0m         \u001b[0mself\u001b[0m\u001b[0;34m.\u001b[0m\u001b[0mhandles\u001b[0m\u001b[0;34m:\u001b[0m \u001b[0mIOHandles\u001b[0m \u001b[0;34m|\u001b[0m \u001b[0;32mNone\u001b[0m \u001b[0;34m=\u001b[0m \u001b[0;32mNone\u001b[0m\u001b[0;34m\u001b[0m\u001b[0;34m\u001b[0m\u001b[0m\n\u001b[0;32m-> 1407\u001b[0;31m         \u001b[0mself\u001b[0m\u001b[0;34m.\u001b[0m\u001b[0m_engine\u001b[0m \u001b[0;34m=\u001b[0m \u001b[0mself\u001b[0m\u001b[0;34m.\u001b[0m\u001b[0m_make_engine\u001b[0m\u001b[0;34m(\u001b[0m\u001b[0mf\u001b[0m\u001b[0;34m,\u001b[0m \u001b[0mself\u001b[0m\u001b[0;34m.\u001b[0m\u001b[0mengine\u001b[0m\u001b[0;34m)\u001b[0m\u001b[0;34m\u001b[0m\u001b[0;34m\u001b[0m\u001b[0m\n\u001b[0m\u001b[1;32m   1408\u001b[0m \u001b[0;34m\u001b[0m\u001b[0m\n\u001b[1;32m   1409\u001b[0m     \u001b[0;32mdef\u001b[0m \u001b[0mclose\u001b[0m\u001b[0;34m(\u001b[0m\u001b[0mself\u001b[0m\u001b[0;34m)\u001b[0m \u001b[0;34m->\u001b[0m \u001b[0;32mNone\u001b[0m\u001b[0;34m:\u001b[0m\u001b[0;34m\u001b[0m\u001b[0;34m\u001b[0m\u001b[0m\n",
      "\u001b[0;32m~/opt/anaconda3/envs/tf2/lib/python3.9/site-packages/pandas/io/parsers/readers.py\u001b[0m in \u001b[0;36m_make_engine\u001b[0;34m(self, f, engine)\u001b[0m\n\u001b[1;32m   1659\u001b[0m                 \u001b[0;32mif\u001b[0m \u001b[0;34m\"b\"\u001b[0m \u001b[0;32mnot\u001b[0m \u001b[0;32min\u001b[0m \u001b[0mmode\u001b[0m\u001b[0;34m:\u001b[0m\u001b[0;34m\u001b[0m\u001b[0;34m\u001b[0m\u001b[0m\n\u001b[1;32m   1660\u001b[0m                     \u001b[0mmode\u001b[0m \u001b[0;34m+=\u001b[0m \u001b[0;34m\"b\"\u001b[0m\u001b[0;34m\u001b[0m\u001b[0;34m\u001b[0m\u001b[0m\n\u001b[0;32m-> 1661\u001b[0;31m             self.handles = get_handle(\n\u001b[0m\u001b[1;32m   1662\u001b[0m                 \u001b[0mf\u001b[0m\u001b[0;34m,\u001b[0m\u001b[0;34m\u001b[0m\u001b[0;34m\u001b[0m\u001b[0m\n\u001b[1;32m   1663\u001b[0m                 \u001b[0mmode\u001b[0m\u001b[0;34m,\u001b[0m\u001b[0;34m\u001b[0m\u001b[0;34m\u001b[0m\u001b[0m\n",
      "\u001b[0;32m~/opt/anaconda3/envs/tf2/lib/python3.9/site-packages/pandas/io/common.py\u001b[0m in \u001b[0;36mget_handle\u001b[0;34m(path_or_buf, mode, encoding, compression, memory_map, is_text, errors, storage_options)\u001b[0m\n\u001b[1;32m    857\u001b[0m         \u001b[0;32mif\u001b[0m \u001b[0mioargs\u001b[0m\u001b[0;34m.\u001b[0m\u001b[0mencoding\u001b[0m \u001b[0;32mand\u001b[0m \u001b[0;34m\"b\"\u001b[0m \u001b[0;32mnot\u001b[0m \u001b[0;32min\u001b[0m \u001b[0mioargs\u001b[0m\u001b[0;34m.\u001b[0m\u001b[0mmode\u001b[0m\u001b[0;34m:\u001b[0m\u001b[0;34m\u001b[0m\u001b[0;34m\u001b[0m\u001b[0m\n\u001b[1;32m    858\u001b[0m             \u001b[0;31m# Encoding\u001b[0m\u001b[0;34m\u001b[0m\u001b[0;34m\u001b[0m\u001b[0m\n\u001b[0;32m--> 859\u001b[0;31m             handle = open(\n\u001b[0m\u001b[1;32m    860\u001b[0m                 \u001b[0mhandle\u001b[0m\u001b[0;34m,\u001b[0m\u001b[0;34m\u001b[0m\u001b[0;34m\u001b[0m\u001b[0m\n\u001b[1;32m    861\u001b[0m                 \u001b[0mioargs\u001b[0m\u001b[0;34m.\u001b[0m\u001b[0mmode\u001b[0m\u001b[0;34m,\u001b[0m\u001b[0;34m\u001b[0m\u001b[0;34m\u001b[0m\u001b[0m\n",
      "\u001b[0;31mFileNotFoundError\u001b[0m: [Errno 2] No such file or directory: '../Data/data_2022_2023sep14.csv'"
     ]
    }
   ],
   "source": [
    "df = pd.read_csv('../Data/data_2022_2023sep14.csv')"
   ]
  },
  {
   "cell_type": "code",
   "execution_count": null,
   "id": "14f48cdf",
   "metadata": {},
   "outputs": [],
   "source": [
    "df.info()"
   ]
  },
  {
   "cell_type": "code",
   "execution_count": null,
   "id": "0e4d9277",
   "metadata": {},
   "outputs": [],
   "source": []
  },
  {
   "cell_type": "code",
   "execution_count": null,
   "id": "9e2b82cf",
   "metadata": {},
   "outputs": [],
   "source": [
    "df['Penalty'].fillna(0, inplace=True)"
   ]
  },
  {
   "cell_type": "code",
   "execution_count": null,
   "id": "704087f9",
   "metadata": {},
   "outputs": [],
   "source": [
    "df[\"Gender\"].value_counts()"
   ]
  },
  {
   "cell_type": "code",
   "execution_count": null,
   "id": "3137690c",
   "metadata": {},
   "outputs": [],
   "source": [
    "df[\"Name\"] = df[\"FirstName\"] + ' ' + df['LastName']"
   ]
  },
  {
   "cell_type": "code",
   "execution_count": null,
   "id": "79ad7f8c",
   "metadata": {},
   "outputs": [],
   "source": [
    "df = df.drop(columns=[\"FirstName\", \"LastName\"])"
   ]
  },
  {
   "cell_type": "code",
   "execution_count": null,
   "id": "928b80d4",
   "metadata": {},
   "outputs": [],
   "source": [
    "df['Date'] = pd.to_datetime(df['Date'], errors='coerce')"
   ]
  },
  {
   "cell_type": "code",
   "execution_count": null,
   "id": "878ac00f",
   "metadata": {},
   "outputs": [],
   "source": [
    "df.info()"
   ]
  },
  {
   "cell_type": "code",
   "execution_count": null,
   "id": "288d620e",
   "metadata": {},
   "outputs": [],
   "source": [
    "df1 = df.copy()"
   ]
  },
  {
   "cell_type": "code",
   "execution_count": null,
   "id": "3850e925",
   "metadata": {},
   "outputs": [],
   "source": [
    "df1.dropna(inplace=True)"
   ]
  },
  {
   "cell_type": "code",
   "execution_count": null,
   "id": "164dc06d",
   "metadata": {},
   "outputs": [],
   "source": [
    "df1.info()"
   ]
  },
  {
   "cell_type": "code",
   "execution_count": null,
   "id": "ad0dc665",
   "metadata": {},
   "outputs": [],
   "source": [
    "mens = df1[df1[\"Gender\"] == 'm']"
   ]
  },
  {
   "cell_type": "code",
   "execution_count": null,
   "id": "37af685d",
   "metadata": {},
   "outputs": [],
   "source": [
    "women = df1[df1[\"Gender\"] == 'w']"
   ]
  },
  {
   "cell_type": "code",
   "execution_count": null,
   "id": "de284f06",
   "metadata": {},
   "outputs": [],
   "source": [
    "women.info()"
   ]
  },
  {
   "cell_type": "code",
   "execution_count": null,
   "id": "77feb8d1",
   "metadata": {},
   "outputs": [],
   "source": [
    "women.nunique()"
   ]
  },
  {
   "cell_type": "code",
   "execution_count": null,
   "id": "42a17dd8",
   "metadata": {},
   "outputs": [],
   "source": [
    "women[\"Apparatus\"].value_counts()"
   ]
  },
  {
   "cell_type": "code",
   "execution_count": null,
   "id": "8dfddc16",
   "metadata": {},
   "outputs": [],
   "source": [
    "# Define the values to be replaced and their replacements\n",
    "replace_dict = {'VT1': 'VT', 'VT2': 'VT', 'VT_1': 'VT', 'VT_2': 'VT'}\n",
    "\n",
    "# Use .replace() with the defined dictionary\n",
    "women['Apparatus'] = women['Apparatus'].replace(replace_dict)"
   ]
  },
  {
   "cell_type": "code",
   "execution_count": null,
   "id": "7ddaa08a",
   "metadata": {},
   "outputs": [],
   "source": [
    "women[\"Apparatus\"].value_counts()"
   ]
  },
  {
   "cell_type": "code",
   "execution_count": null,
   "id": "2301fce9",
   "metadata": {},
   "outputs": [],
   "source": [
    "women.info()"
   ]
  },
  {
   "cell_type": "code",
   "execution_count": null,
   "id": "3a9dd0e1",
   "metadata": {},
   "outputs": [],
   "source": [
    "women[\"Location\"].value_counts()"
   ]
  },
  {
   "cell_type": "code",
   "execution_count": null,
   "id": "e9bf2839",
   "metadata": {},
   "outputs": [],
   "source": [
    "women[\"Competition\"].value_counts()"
   ]
  },
  {
   "cell_type": "code",
   "execution_count": null,
   "id": "4aecb0e6",
   "metadata": {},
   "outputs": [],
   "source": [
    "women[\"Round\"].value_counts()"
   ]
  },
  {
   "cell_type": "code",
   "execution_count": null,
   "id": "8eb9cda6",
   "metadata": {},
   "outputs": [],
   "source": [
    "women = women.drop(columns=[\"Gender\"])"
   ]
  },
  {
   "cell_type": "code",
   "execution_count": null,
   "id": "09719449",
   "metadata": {},
   "outputs": [],
   "source": [
    "women.columns"
   ]
  },
  {
   "cell_type": "code",
   "execution_count": null,
   "id": "82dfa55f",
   "metadata": {},
   "outputs": [],
   "source": [
    "women = women[[ 'Name','Country', 'Date', 'Competition', 'Round', 'Location', 'Apparatus',\n",
    "       'Rank', 'D_Score', 'E_Score', 'Penalty', 'Score']]"
   ]
  },
  {
   "cell_type": "code",
   "execution_count": null,
   "id": "b1d1d46a",
   "metadata": {},
   "outputs": [],
   "source": [
    "women = women.drop(columns=[\"Date\"])"
   ]
  },
  {
   "cell_type": "code",
   "execution_count": null,
   "id": "397c031b",
   "metadata": {},
   "outputs": [],
   "source": [
    "women.info()"
   ]
  },
  {
   "cell_type": "code",
   "execution_count": null,
   "id": "f0b51151",
   "metadata": {},
   "outputs": [],
   "source": [
    "women.plot(lw=0, marker=\".\", subplots=True, layout=(-1, 4),\n",
    "          figsize=(15, 30), markersize=1);\n"
   ]
  },
  {
   "cell_type": "code",
   "execution_count": null,
   "id": "be66d0a6",
   "metadata": {},
   "outputs": [],
   "source": [
    "women = women[women['D_Score'] != 0.0]"
   ]
  },
  {
   "cell_type": "code",
   "execution_count": null,
   "id": "b0020ed8",
   "metadata": {},
   "outputs": [],
   "source": [
    "women.plot(lw=0, marker=\".\", subplots=True, layout=(-1, 4),\n",
    "          figsize=(15, 30), markersize=1);\n"
   ]
  },
  {
   "cell_type": "code",
   "execution_count": null,
   "id": "a1d41630",
   "metadata": {},
   "outputs": [],
   "source": [
    "# women.to_csv('cleaned22to23women_september.csv', index=False)"
   ]
  },
  {
   "cell_type": "code",
   "execution_count": null,
   "id": "0aa47767",
   "metadata": {},
   "outputs": [],
   "source": [
    "mens.info()"
   ]
  },
  {
   "cell_type": "code",
   "execution_count": null,
   "id": "5db788a7",
   "metadata": {},
   "outputs": [],
   "source": [
    "mens.nunique()"
   ]
  },
  {
   "cell_type": "code",
   "execution_count": null,
   "id": "2a12687f",
   "metadata": {},
   "outputs": [],
   "source": [
    "mens[\"Apparatus\"].value_counts()"
   ]
  },
  {
   "cell_type": "code",
   "execution_count": null,
   "id": "dca5f194",
   "metadata": {},
   "outputs": [],
   "source": [
    "# Define the values to be replaced and their replacements\n",
    "replace_dict = {'VT1': 'VT', 'VT2': 'VT', 'VT_1': 'VT', 'VT_2': 'VT'}\n",
    "\n",
    "# Use .replace() with the defined dictionary\n",
    "mens['Apparatus'] = mens['Apparatus'].replace(replace_dict)"
   ]
  },
  {
   "cell_type": "code",
   "execution_count": null,
   "id": "f53b5ddb",
   "metadata": {},
   "outputs": [],
   "source": [
    "mens[\"Apparatus\"].value_counts()"
   ]
  },
  {
   "cell_type": "code",
   "execution_count": null,
   "id": "bf1540b6",
   "metadata": {},
   "outputs": [],
   "source": [
    "# Define the values to be replaced and their replacements\n",
    "replace_dict = {'RG': 'SR'}\n",
    "\n",
    "# Use .replace() with the defined dictionary\n",
    "mens['Apparatus'] = mens['Apparatus'].replace(replace_dict)\n"
   ]
  },
  {
   "cell_type": "code",
   "execution_count": null,
   "id": "c7a9e65f",
   "metadata": {},
   "outputs": [],
   "source": [
    "mens = mens.drop(columns=[\"Gender\"])"
   ]
  },
  {
   "cell_type": "code",
   "execution_count": null,
   "id": "8f73bdd6",
   "metadata": {},
   "outputs": [],
   "source": [
    "mens.columns"
   ]
  },
  {
   "cell_type": "code",
   "execution_count": null,
   "id": "319f759a",
   "metadata": {},
   "outputs": [],
   "source": [
    "mens = mens[['Name', 'Country', 'Date', 'Competition', 'Round', 'Location', 'Apparatus',\n",
    "       'Rank', 'D_Score', 'E_Score', 'Penalty', 'Score']]"
   ]
  },
  {
   "cell_type": "code",
   "execution_count": null,
   "id": "85711188",
   "metadata": {},
   "outputs": [],
   "source": [
    "\n",
    "mens[\"Round\"].value_counts()"
   ]
  },
  {
   "cell_type": "code",
   "execution_count": null,
   "id": "e9264824",
   "metadata": {},
   "outputs": [],
   "source": [
    "mens.info()"
   ]
  },
  {
   "cell_type": "code",
   "execution_count": null,
   "id": "0b8fa9e5",
   "metadata": {},
   "outputs": [],
   "source": [
    "mens.plot(lw=0, marker=\".\", subplots=True, layout=(-1, 4),\n",
    "          figsize=(15, 30), markersize=1);"
   ]
  },
  {
   "cell_type": "code",
   "execution_count": null,
   "id": "b10a5dc1",
   "metadata": {},
   "outputs": [],
   "source": [
    "mens = mens[mens['D_Score'] != 0.0]"
   ]
  },
  {
   "cell_type": "code",
   "execution_count": null,
   "id": "c8fbf65c",
   "metadata": {},
   "outputs": [],
   "source": [
    "mens.info()"
   ]
  },
  {
   "cell_type": "code",
   "execution_count": null,
   "id": "a04411e3",
   "metadata": {},
   "outputs": [],
   "source": [
    "# mens.to_csv('cleaned22to23mens_September.csv', index=False)"
   ]
  },
  {
   "cell_type": "code",
   "execution_count": null,
   "id": "4df8c3d1",
   "metadata": {},
   "outputs": [],
   "source": []
  }
 ],
 "metadata": {
  "kernelspec": {
   "display_name": "Python 3 (ipykernel)",
   "language": "python",
   "name": "python3"
  },
  "language_info": {
   "codemirror_mode": {
    "name": "ipython",
    "version": 3
   },
   "file_extension": ".py",
   "mimetype": "text/x-python",
   "name": "python",
   "nbconvert_exporter": "python",
   "pygments_lexer": "ipython3",
   "version": "3.8.18"
  }
 },
 "nbformat": 4,
 "nbformat_minor": 5
}
