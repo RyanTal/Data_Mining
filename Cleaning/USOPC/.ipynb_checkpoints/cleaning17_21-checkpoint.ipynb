{
 "cells": [
  {
   "cell_type": "code",
   "execution_count": 1,
   "id": "feb7494e",
   "metadata": {},
   "outputs": [],
   "source": [
    "import pandas as pd\n",
    "import numpy as np"
   ]
  },
  {
   "cell_type": "code",
   "execution_count": 4,
   "id": "1680caa8",
   "metadata": {},
   "outputs": [],
   "source": [
    "df = pd.read_csv(\"../../Data/data_2017_2021.csv\")"
   ]
  },
  {
   "cell_type": "code",
   "execution_count": 5,
   "id": "1c86f64a",
   "metadata": {},
   "outputs": [
    {
     "data": {
      "text/html": [
       "<div>\n",
       "<style scoped>\n",
       "    .dataframe tbody tr th:only-of-type {\n",
       "        vertical-align: middle;\n",
       "    }\n",
       "\n",
       "    .dataframe tbody tr th {\n",
       "        vertical-align: top;\n",
       "    }\n",
       "\n",
       "    .dataframe thead th {\n",
       "        text-align: right;\n",
       "    }\n",
       "</style>\n",
       "<table border=\"1\" class=\"dataframe\">\n",
       "  <thead>\n",
       "    <tr style=\"text-align: right;\">\n",
       "      <th></th>\n",
       "      <th>LastName</th>\n",
       "      <th>FirstName</th>\n",
       "      <th>Gender</th>\n",
       "      <th>Country</th>\n",
       "      <th>Date</th>\n",
       "      <th>Competition</th>\n",
       "      <th>Round</th>\n",
       "      <th>Location</th>\n",
       "      <th>Apparatus</th>\n",
       "      <th>Rank</th>\n",
       "      <th>D_Score</th>\n",
       "      <th>E_Score</th>\n",
       "      <th>Penalty</th>\n",
       "      <th>Score</th>\n",
       "    </tr>\n",
       "  </thead>\n",
       "  <tbody>\n",
       "    <tr>\n",
       "      <th>0</th>\n",
       "      <td>ABDUL</td>\n",
       "      <td>HADI</td>\n",
       "      <td>w</td>\n",
       "      <td>MAS</td>\n",
       "      <td>SUN 25 JUL 2021</td>\n",
       "      <td>Olympic Games</td>\n",
       "      <td>qual</td>\n",
       "      <td>Tokyo, Japan</td>\n",
       "      <td>BB</td>\n",
       "      <td>76.0</td>\n",
       "      <td>4.8</td>\n",
       "      <td>6.766</td>\n",
       "      <td>NaN</td>\n",
       "      <td>11.566</td>\n",
       "    </tr>\n",
       "    <tr>\n",
       "      <th>1</th>\n",
       "      <td>ABDUL</td>\n",
       "      <td>HADI</td>\n",
       "      <td>w</td>\n",
       "      <td>MAS</td>\n",
       "      <td>SUN 25 JUL 2021</td>\n",
       "      <td>Olympic Games</td>\n",
       "      <td>qual</td>\n",
       "      <td>Tokyo, Japan</td>\n",
       "      <td>FX</td>\n",
       "      <td>64.0</td>\n",
       "      <td>4.6</td>\n",
       "      <td>7.633</td>\n",
       "      <td>NaN</td>\n",
       "      <td>12.233</td>\n",
       "    </tr>\n",
       "    <tr>\n",
       "      <th>2</th>\n",
       "      <td>ABDUL</td>\n",
       "      <td>HADI</td>\n",
       "      <td>w</td>\n",
       "      <td>MAS</td>\n",
       "      <td>SUN 25 JUL 2021</td>\n",
       "      <td>Olympic Games</td>\n",
       "      <td>qual</td>\n",
       "      <td>Tokyo, Japan</td>\n",
       "      <td>UE</td>\n",
       "      <td>74.0</td>\n",
       "      <td>5.1</td>\n",
       "      <td>6.500</td>\n",
       "      <td>NaN</td>\n",
       "      <td>11.600</td>\n",
       "    </tr>\n",
       "    <tr>\n",
       "      <th>3</th>\n",
       "      <td>ABDUL</td>\n",
       "      <td>HADI</td>\n",
       "      <td>w</td>\n",
       "      <td>MAS</td>\n",
       "      <td>SUN 25 JUL 2021</td>\n",
       "      <td>Olympic Games</td>\n",
       "      <td>qual</td>\n",
       "      <td>Tokyo, Japan</td>\n",
       "      <td>VT</td>\n",
       "      <td>72.0</td>\n",
       "      <td>4.6</td>\n",
       "      <td>8.566</td>\n",
       "      <td>NaN</td>\n",
       "      <td>13.166</td>\n",
       "    </tr>\n",
       "    <tr>\n",
       "      <th>4</th>\n",
       "      <td>ABDUL HADI</td>\n",
       "      <td>Farah Ann</td>\n",
       "      <td>w</td>\n",
       "      <td>MAS</td>\n",
       "      <td>25 July 2021</td>\n",
       "      <td>Olympic Games</td>\n",
       "      <td>qual</td>\n",
       "      <td>Tokyo, Japan</td>\n",
       "      <td>BB</td>\n",
       "      <td>76.0</td>\n",
       "      <td>4.8</td>\n",
       "      <td>6.766</td>\n",
       "      <td>NaN</td>\n",
       "      <td>11.566</td>\n",
       "    </tr>\n",
       "  </tbody>\n",
       "</table>\n",
       "</div>"
      ],
      "text/plain": [
       "     LastName  FirstName Gender Country             Date    Competition Round  \\\n",
       "0       ABDUL       HADI      w     MAS  SUN 25 JUL 2021  Olympic Games  qual   \n",
       "1       ABDUL       HADI      w     MAS  SUN 25 JUL 2021  Olympic Games  qual   \n",
       "2       ABDUL       HADI      w     MAS  SUN 25 JUL 2021  Olympic Games  qual   \n",
       "3       ABDUL       HADI      w     MAS  SUN 25 JUL 2021  Olympic Games  qual   \n",
       "4  ABDUL HADI  Farah Ann      w     MAS     25 July 2021  Olympic Games  qual   \n",
       "\n",
       "       Location Apparatus  Rank  D_Score  E_Score  Penalty   Score  \n",
       "0  Tokyo, Japan        BB  76.0      4.8    6.766      NaN  11.566  \n",
       "1  Tokyo, Japan        FX  64.0      4.6    7.633      NaN  12.233  \n",
       "2  Tokyo, Japan        UE  74.0      5.1    6.500      NaN  11.600  \n",
       "3  Tokyo, Japan        VT  72.0      4.6    8.566      NaN  13.166  \n",
       "4  Tokyo, Japan        BB  76.0      4.8    6.766      NaN  11.566  "
      ]
     },
     "execution_count": 5,
     "metadata": {},
     "output_type": "execute_result"
    }
   ],
   "source": [
    "df.head()"
   ]
  },
  {
   "cell_type": "code",
   "execution_count": 6,
   "id": "f807dcd5",
   "metadata": {},
   "outputs": [
    {
     "data": {
      "text/plain": [
       "Gender\n",
       "w    765\n",
       "Name: count, dtype: int64"
      ]
     },
     "execution_count": 6,
     "metadata": {},
     "output_type": "execute_result"
    }
   ],
   "source": [
    "df[\"Gender\"].value_counts()"
   ]
  },
  {
   "cell_type": "code",
   "execution_count": 7,
   "id": "0be34c96",
   "metadata": {},
   "outputs": [
    {
     "name": "stderr",
     "output_type": "stream",
     "text": [
      "/var/folders/j_/555m2zps099832fjh_m8jjnc0000gn/T/ipykernel_98273/579959469.py:1: UserWarning: Could not infer format, so each element will be parsed individually, falling back to `dateutil`. To ensure parsing is consistent and as-expected, please specify a format.\n",
      "  df['Date'] = pd.to_datetime(df['Date'], errors='coerce')\n"
     ]
    }
   ],
   "source": [
    "df['Date'] = pd.to_datetime(df['Date'], errors='coerce')\n"
   ]
  },
  {
   "cell_type": "code",
   "execution_count": 8,
   "id": "fbf9c586",
   "metadata": {},
   "outputs": [
    {
     "name": "stdout",
     "output_type": "stream",
     "text": [
      "<class 'pandas.core.frame.DataFrame'>\n",
      "RangeIndex: 765 entries, 0 to 764\n",
      "Data columns (total 14 columns):\n",
      " #   Column       Non-Null Count  Dtype         \n",
      "---  ------       --------------  -----         \n",
      " 0   LastName     765 non-null    object        \n",
      " 1   FirstName    765 non-null    object        \n",
      " 2   Gender       765 non-null    object        \n",
      " 3   Country      765 non-null    object        \n",
      " 4   Date         765 non-null    datetime64[ns]\n",
      " 5   Competition  765 non-null    object        \n",
      " 6   Round        765 non-null    object        \n",
      " 7   Location     765 non-null    object        \n",
      " 8   Apparatus    765 non-null    object        \n",
      " 9   Rank         761 non-null    float64       \n",
      " 10  D_Score      761 non-null    float64       \n",
      " 11  E_Score      761 non-null    float64       \n",
      " 12  Penalty      90 non-null     float64       \n",
      " 13  Score        758 non-null    float64       \n",
      "dtypes: datetime64[ns](1), float64(5), object(8)\n",
      "memory usage: 83.8+ KB\n"
     ]
    }
   ],
   "source": [
    "df.info()"
   ]
  },
  {
   "cell_type": "code",
   "execution_count": 9,
   "id": "488b9d9b",
   "metadata": {},
   "outputs": [
    {
     "data": {
      "text/html": [
       "<div>\n",
       "<style scoped>\n",
       "    .dataframe tbody tr th:only-of-type {\n",
       "        vertical-align: middle;\n",
       "    }\n",
       "\n",
       "    .dataframe tbody tr th {\n",
       "        vertical-align: top;\n",
       "    }\n",
       "\n",
       "    .dataframe thead th {\n",
       "        text-align: right;\n",
       "    }\n",
       "</style>\n",
       "<table border=\"1\" class=\"dataframe\">\n",
       "  <thead>\n",
       "    <tr style=\"text-align: right;\">\n",
       "      <th></th>\n",
       "      <th>LastName</th>\n",
       "      <th>FirstName</th>\n",
       "      <th>Gender</th>\n",
       "      <th>Country</th>\n",
       "      <th>Date</th>\n",
       "      <th>Competition</th>\n",
       "      <th>Round</th>\n",
       "      <th>Location</th>\n",
       "      <th>Apparatus</th>\n",
       "      <th>Rank</th>\n",
       "      <th>D_Score</th>\n",
       "      <th>E_Score</th>\n",
       "      <th>Penalty</th>\n",
       "      <th>Score</th>\n",
       "    </tr>\n",
       "  </thead>\n",
       "  <tbody>\n",
       "    <tr>\n",
       "      <th>0</th>\n",
       "      <td>ABDUL</td>\n",
       "      <td>HADI</td>\n",
       "      <td>w</td>\n",
       "      <td>MAS</td>\n",
       "      <td>2021-07-25</td>\n",
       "      <td>Olympic Games</td>\n",
       "      <td>qual</td>\n",
       "      <td>Tokyo, Japan</td>\n",
       "      <td>BB</td>\n",
       "      <td>76.0</td>\n",
       "      <td>4.8</td>\n",
       "      <td>6.766</td>\n",
       "      <td>NaN</td>\n",
       "      <td>11.566</td>\n",
       "    </tr>\n",
       "    <tr>\n",
       "      <th>1</th>\n",
       "      <td>ABDUL</td>\n",
       "      <td>HADI</td>\n",
       "      <td>w</td>\n",
       "      <td>MAS</td>\n",
       "      <td>2021-07-25</td>\n",
       "      <td>Olympic Games</td>\n",
       "      <td>qual</td>\n",
       "      <td>Tokyo, Japan</td>\n",
       "      <td>FX</td>\n",
       "      <td>64.0</td>\n",
       "      <td>4.6</td>\n",
       "      <td>7.633</td>\n",
       "      <td>NaN</td>\n",
       "      <td>12.233</td>\n",
       "    </tr>\n",
       "    <tr>\n",
       "      <th>2</th>\n",
       "      <td>ABDUL</td>\n",
       "      <td>HADI</td>\n",
       "      <td>w</td>\n",
       "      <td>MAS</td>\n",
       "      <td>2021-07-25</td>\n",
       "      <td>Olympic Games</td>\n",
       "      <td>qual</td>\n",
       "      <td>Tokyo, Japan</td>\n",
       "      <td>UE</td>\n",
       "      <td>74.0</td>\n",
       "      <td>5.1</td>\n",
       "      <td>6.500</td>\n",
       "      <td>NaN</td>\n",
       "      <td>11.600</td>\n",
       "    </tr>\n",
       "    <tr>\n",
       "      <th>3</th>\n",
       "      <td>ABDUL</td>\n",
       "      <td>HADI</td>\n",
       "      <td>w</td>\n",
       "      <td>MAS</td>\n",
       "      <td>2021-07-25</td>\n",
       "      <td>Olympic Games</td>\n",
       "      <td>qual</td>\n",
       "      <td>Tokyo, Japan</td>\n",
       "      <td>VT</td>\n",
       "      <td>72.0</td>\n",
       "      <td>4.6</td>\n",
       "      <td>8.566</td>\n",
       "      <td>NaN</td>\n",
       "      <td>13.166</td>\n",
       "    </tr>\n",
       "    <tr>\n",
       "      <th>4</th>\n",
       "      <td>ABDUL HADI</td>\n",
       "      <td>Farah Ann</td>\n",
       "      <td>w</td>\n",
       "      <td>MAS</td>\n",
       "      <td>2021-07-25</td>\n",
       "      <td>Olympic Games</td>\n",
       "      <td>qual</td>\n",
       "      <td>Tokyo, Japan</td>\n",
       "      <td>BB</td>\n",
       "      <td>76.0</td>\n",
       "      <td>4.8</td>\n",
       "      <td>6.766</td>\n",
       "      <td>NaN</td>\n",
       "      <td>11.566</td>\n",
       "    </tr>\n",
       "  </tbody>\n",
       "</table>\n",
       "</div>"
      ],
      "text/plain": [
       "     LastName  FirstName Gender Country       Date    Competition Round  \\\n",
       "0       ABDUL       HADI      w     MAS 2021-07-25  Olympic Games  qual   \n",
       "1       ABDUL       HADI      w     MAS 2021-07-25  Olympic Games  qual   \n",
       "2       ABDUL       HADI      w     MAS 2021-07-25  Olympic Games  qual   \n",
       "3       ABDUL       HADI      w     MAS 2021-07-25  Olympic Games  qual   \n",
       "4  ABDUL HADI  Farah Ann      w     MAS 2021-07-25  Olympic Games  qual   \n",
       "\n",
       "       Location Apparatus  Rank  D_Score  E_Score  Penalty   Score  \n",
       "0  Tokyo, Japan        BB  76.0      4.8    6.766      NaN  11.566  \n",
       "1  Tokyo, Japan        FX  64.0      4.6    7.633      NaN  12.233  \n",
       "2  Tokyo, Japan        UE  74.0      5.1    6.500      NaN  11.600  \n",
       "3  Tokyo, Japan        VT  72.0      4.6    8.566      NaN  13.166  \n",
       "4  Tokyo, Japan        BB  76.0      4.8    6.766      NaN  11.566  "
      ]
     },
     "execution_count": 9,
     "metadata": {},
     "output_type": "execute_result"
    }
   ],
   "source": [
    "df.head()"
   ]
  },
  {
   "cell_type": "code",
   "execution_count": 10,
   "id": "2891f9b0",
   "metadata": {},
   "outputs": [
    {
     "data": {
      "text/plain": [
       "Apparatus\n",
       "BB     204\n",
       "UE     203\n",
       "FX     200\n",
       "VT     104\n",
       "VT1     27\n",
       "VT2     27\n",
       "Name: count, dtype: int64"
      ]
     },
     "execution_count": 10,
     "metadata": {},
     "output_type": "execute_result"
    }
   ],
   "source": [
    "df[\"Apparatus\"].value_counts()"
   ]
  },
  {
   "cell_type": "code",
   "execution_count": 11,
   "id": "4b2b1175",
   "metadata": {},
   "outputs": [],
   "source": [
    "# # Define the values to be replaced and their replacements\n",
    "# replace_dict = {'VT1': 'VT', 'VT2': 'VT'}\n",
    "\n",
    "# # Use .replace() with the defined dictionary\n",
    "# df['Apparatus'] = df['Apparatus'].replace(replace_dict)"
   ]
  },
  {
   "cell_type": "code",
   "execution_count": 12,
   "id": "fa8ffb9d",
   "metadata": {},
   "outputs": [
    {
     "data": {
      "text/plain": [
       "Apparatus\n",
       "BB     204\n",
       "UE     203\n",
       "FX     200\n",
       "VT     104\n",
       "VT1     27\n",
       "VT2     27\n",
       "Name: count, dtype: int64"
      ]
     },
     "execution_count": 12,
     "metadata": {},
     "output_type": "execute_result"
    }
   ],
   "source": [
    "df[\"Apparatus\"].value_counts()"
   ]
  },
  {
   "cell_type": "code",
   "execution_count": 13,
   "id": "6ca4e587",
   "metadata": {},
   "outputs": [
    {
     "data": {
      "text/plain": [
       "101"
      ]
     },
     "execution_count": 13,
     "metadata": {},
     "output_type": "execute_result"
    }
   ],
   "source": [
    "df[\"FirstName\"].nunique()"
   ]
  },
  {
   "cell_type": "code",
   "execution_count": 14,
   "id": "60a96ba9",
   "metadata": {},
   "outputs": [
    {
     "data": {
      "text/plain": [
       "101"
      ]
     },
     "execution_count": 14,
     "metadata": {},
     "output_type": "execute_result"
    }
   ],
   "source": [
    "df[\"LastName\"].nunique()"
   ]
  },
  {
   "cell_type": "code",
   "execution_count": 15,
   "id": "a8bf5559",
   "metadata": {},
   "outputs": [
    {
     "data": {
      "text/plain": [
       "0"
      ]
     },
     "execution_count": 15,
     "metadata": {},
     "output_type": "execute_result"
    }
   ],
   "source": [
    "df[\"FirstName\"].isnull().sum()"
   ]
  },
  {
   "cell_type": "code",
   "execution_count": 16,
   "id": "c84cec34",
   "metadata": {},
   "outputs": [
    {
     "data": {
      "text/plain": [
       "0"
      ]
     },
     "execution_count": 16,
     "metadata": {},
     "output_type": "execute_result"
    }
   ],
   "source": [
    "df[\"LastName\"].isnull().sum()"
   ]
  },
  {
   "cell_type": "code",
   "execution_count": 17,
   "id": "63c41664",
   "metadata": {},
   "outputs": [],
   "source": [
    "df[\"Name\"] = df[\"FirstName\"] + ' ' + df['LastName']"
   ]
  },
  {
   "cell_type": "code",
   "execution_count": 18,
   "id": "b8ad3eb8",
   "metadata": {},
   "outputs": [],
   "source": [
    "df = df.drop(columns=[\"FirstName\", \"LastName\"])"
   ]
  },
  {
   "cell_type": "code",
   "execution_count": 19,
   "id": "ce5bc7be",
   "metadata": {},
   "outputs": [
    {
     "data": {
      "text/plain": [
       "Competition\n",
       "Olympic Games    765\n",
       "Name: count, dtype: int64"
      ]
     },
     "execution_count": 19,
     "metadata": {},
     "output_type": "execute_result"
    }
   ],
   "source": [
    "df[\"Competition\"].value_counts()"
   ]
  },
  {
   "cell_type": "code",
   "execution_count": 20,
   "id": "d01a9164",
   "metadata": {},
   "outputs": [
    {
     "data": {
      "text/plain": [
       "Round\n",
       "qual     629\n",
       "final    136\n",
       "Name: count, dtype: int64"
      ]
     },
     "execution_count": 20,
     "metadata": {},
     "output_type": "execute_result"
    }
   ],
   "source": [
    "df[\"Round\"].value_counts()"
   ]
  },
  {
   "cell_type": "code",
   "execution_count": 15,
   "id": "201855c0",
   "metadata": {},
   "outputs": [
    {
     "data": {
      "text/plain": [
       "Location\n",
       "Tokyo, Japan    765\n",
       "Name: count, dtype: int64"
      ]
     },
     "execution_count": 15,
     "metadata": {},
     "output_type": "execute_result"
    }
   ],
   "source": [
    "df[\"Location\"].value_counts()"
   ]
  },
  {
   "cell_type": "code",
   "execution_count": 16,
   "id": "55d2ab6d",
   "metadata": {},
   "outputs": [
    {
     "data": {
      "text/html": [
       "<div>\n",
       "<style scoped>\n",
       "    .dataframe tbody tr th:only-of-type {\n",
       "        vertical-align: middle;\n",
       "    }\n",
       "\n",
       "    .dataframe tbody tr th {\n",
       "        vertical-align: top;\n",
       "    }\n",
       "\n",
       "    .dataframe thead th {\n",
       "        text-align: right;\n",
       "    }\n",
       "</style>\n",
       "<table border=\"1\" class=\"dataframe\">\n",
       "  <thead>\n",
       "    <tr style=\"text-align: right;\">\n",
       "      <th></th>\n",
       "      <th>Gender</th>\n",
       "      <th>Country</th>\n",
       "      <th>Date</th>\n",
       "      <th>Competition</th>\n",
       "      <th>Round</th>\n",
       "      <th>Location</th>\n",
       "      <th>Apparatus</th>\n",
       "      <th>Rank</th>\n",
       "      <th>D_Score</th>\n",
       "      <th>E_Score</th>\n",
       "      <th>Penalty</th>\n",
       "      <th>Score</th>\n",
       "      <th>Name</th>\n",
       "    </tr>\n",
       "  </thead>\n",
       "  <tbody>\n",
       "    <tr>\n",
       "      <th>0</th>\n",
       "      <td>w</td>\n",
       "      <td>MAS</td>\n",
       "      <td>2021-07-25</td>\n",
       "      <td>Olympic Games</td>\n",
       "      <td>qual</td>\n",
       "      <td>Tokyo, Japan</td>\n",
       "      <td>BB</td>\n",
       "      <td>76.0</td>\n",
       "      <td>4.8</td>\n",
       "      <td>6.766</td>\n",
       "      <td>NaN</td>\n",
       "      <td>11.566</td>\n",
       "      <td>HADI ABDUL</td>\n",
       "    </tr>\n",
       "    <tr>\n",
       "      <th>1</th>\n",
       "      <td>w</td>\n",
       "      <td>MAS</td>\n",
       "      <td>2021-07-25</td>\n",
       "      <td>Olympic Games</td>\n",
       "      <td>qual</td>\n",
       "      <td>Tokyo, Japan</td>\n",
       "      <td>FX</td>\n",
       "      <td>64.0</td>\n",
       "      <td>4.6</td>\n",
       "      <td>7.633</td>\n",
       "      <td>NaN</td>\n",
       "      <td>12.233</td>\n",
       "      <td>HADI ABDUL</td>\n",
       "    </tr>\n",
       "    <tr>\n",
       "      <th>2</th>\n",
       "      <td>w</td>\n",
       "      <td>MAS</td>\n",
       "      <td>2021-07-25</td>\n",
       "      <td>Olympic Games</td>\n",
       "      <td>qual</td>\n",
       "      <td>Tokyo, Japan</td>\n",
       "      <td>UE</td>\n",
       "      <td>74.0</td>\n",
       "      <td>5.1</td>\n",
       "      <td>6.500</td>\n",
       "      <td>NaN</td>\n",
       "      <td>11.600</td>\n",
       "      <td>HADI ABDUL</td>\n",
       "    </tr>\n",
       "    <tr>\n",
       "      <th>3</th>\n",
       "      <td>w</td>\n",
       "      <td>MAS</td>\n",
       "      <td>2021-07-25</td>\n",
       "      <td>Olympic Games</td>\n",
       "      <td>qual</td>\n",
       "      <td>Tokyo, Japan</td>\n",
       "      <td>VT</td>\n",
       "      <td>72.0</td>\n",
       "      <td>4.6</td>\n",
       "      <td>8.566</td>\n",
       "      <td>NaN</td>\n",
       "      <td>13.166</td>\n",
       "      <td>HADI ABDUL</td>\n",
       "    </tr>\n",
       "    <tr>\n",
       "      <th>4</th>\n",
       "      <td>w</td>\n",
       "      <td>MAS</td>\n",
       "      <td>2021-07-25</td>\n",
       "      <td>Olympic Games</td>\n",
       "      <td>qual</td>\n",
       "      <td>Tokyo, Japan</td>\n",
       "      <td>BB</td>\n",
       "      <td>76.0</td>\n",
       "      <td>4.8</td>\n",
       "      <td>6.766</td>\n",
       "      <td>NaN</td>\n",
       "      <td>11.566</td>\n",
       "      <td>Farah Ann ABDUL HADI</td>\n",
       "    </tr>\n",
       "  </tbody>\n",
       "</table>\n",
       "</div>"
      ],
      "text/plain": [
       "  Gender Country       Date    Competition Round      Location Apparatus  \\\n",
       "0      w     MAS 2021-07-25  Olympic Games  qual  Tokyo, Japan        BB   \n",
       "1      w     MAS 2021-07-25  Olympic Games  qual  Tokyo, Japan        FX   \n",
       "2      w     MAS 2021-07-25  Olympic Games  qual  Tokyo, Japan        UE   \n",
       "3      w     MAS 2021-07-25  Olympic Games  qual  Tokyo, Japan        VT   \n",
       "4      w     MAS 2021-07-25  Olympic Games  qual  Tokyo, Japan        BB   \n",
       "\n",
       "   Rank  D_Score  E_Score  Penalty   Score                  Name  \n",
       "0  76.0      4.8    6.766      NaN  11.566            HADI ABDUL  \n",
       "1  64.0      4.6    7.633      NaN  12.233            HADI ABDUL  \n",
       "2  74.0      5.1    6.500      NaN  11.600            HADI ABDUL  \n",
       "3  72.0      4.6    8.566      NaN  13.166            HADI ABDUL  \n",
       "4  76.0      4.8    6.766      NaN  11.566  Farah Ann ABDUL HADI  "
      ]
     },
     "execution_count": 16,
     "metadata": {},
     "output_type": "execute_result"
    }
   ],
   "source": [
    "df.head()"
   ]
  },
  {
   "cell_type": "code",
   "execution_count": 17,
   "id": "9e9e08e8",
   "metadata": {},
   "outputs": [
    {
     "data": {
      "text/plain": [
       "Date\n",
       "2021-07-25    629\n",
       "2021-07-29     96\n",
       "2021-08-01     40\n",
       "Name: count, dtype: int64"
      ]
     },
     "execution_count": 17,
     "metadata": {},
     "output_type": "execute_result"
    }
   ],
   "source": [
    "df[\"Date\"].value_counts()"
   ]
  },
  {
   "cell_type": "code",
   "execution_count": 18,
   "id": "569aa244",
   "metadata": {},
   "outputs": [],
   "source": [
    "df = df.drop(columns=[\"Competition\", \"Location\"])"
   ]
  },
  {
   "cell_type": "code",
   "execution_count": 19,
   "id": "f28b9b80",
   "metadata": {},
   "outputs": [],
   "source": [
    "df = df.drop(columns=[\"Gender\"])"
   ]
  },
  {
   "cell_type": "code",
   "execution_count": 20,
   "id": "c2fb915c",
   "metadata": {},
   "outputs": [
    {
     "name": "stdout",
     "output_type": "stream",
     "text": [
      "<class 'pandas.core.frame.DataFrame'>\n",
      "RangeIndex: 765 entries, 0 to 764\n",
      "Data columns (total 10 columns):\n",
      " #   Column     Non-Null Count  Dtype         \n",
      "---  ------     --------------  -----         \n",
      " 0   Country    765 non-null    object        \n",
      " 1   Date       765 non-null    datetime64[ns]\n",
      " 2   Round      765 non-null    object        \n",
      " 3   Apparatus  765 non-null    object        \n",
      " 4   Rank       761 non-null    float64       \n",
      " 5   D_Score    761 non-null    float64       \n",
      " 6   E_Score    761 non-null    float64       \n",
      " 7   Penalty    90 non-null     float64       \n",
      " 8   Score      758 non-null    float64       \n",
      " 9   Name       765 non-null    object        \n",
      "dtypes: datetime64[ns](1), float64(5), object(4)\n",
      "memory usage: 59.9+ KB\n"
     ]
    }
   ],
   "source": [
    "df.info()"
   ]
  },
  {
   "cell_type": "code",
   "execution_count": 21,
   "id": "3ae44274",
   "metadata": {},
   "outputs": [
    {
     "data": {
      "text/plain": [
       "Index(['Country', 'Date', 'Round', 'Apparatus', 'Rank', 'D_Score', 'E_Score',\n",
       "       'Penalty', 'Score', 'Name'],\n",
       "      dtype='object')"
      ]
     },
     "execution_count": 21,
     "metadata": {},
     "output_type": "execute_result"
    }
   ],
   "source": [
    "df.columns"
   ]
  },
  {
   "cell_type": "code",
   "execution_count": 22,
   "id": "87328a25",
   "metadata": {},
   "outputs": [],
   "source": [
    "df = df[['Name', 'Country', 'Date', 'Round', 'Apparatus', 'Rank', 'D_Score', 'E_Score',\n",
    "       'Penalty', 'Score', ]]"
   ]
  },
  {
   "cell_type": "code",
   "execution_count": 23,
   "id": "6ff51f60",
   "metadata": {},
   "outputs": [
    {
     "name": "stdout",
     "output_type": "stream",
     "text": [
      "<class 'pandas.core.frame.DataFrame'>\n",
      "RangeIndex: 765 entries, 0 to 764\n",
      "Data columns (total 10 columns):\n",
      " #   Column     Non-Null Count  Dtype         \n",
      "---  ------     --------------  -----         \n",
      " 0   Name       765 non-null    object        \n",
      " 1   Country    765 non-null    object        \n",
      " 2   Date       765 non-null    datetime64[ns]\n",
      " 3   Round      765 non-null    object        \n",
      " 4   Apparatus  765 non-null    object        \n",
      " 5   Rank       761 non-null    float64       \n",
      " 6   D_Score    761 non-null    float64       \n",
      " 7   E_Score    761 non-null    float64       \n",
      " 8   Penalty    90 non-null     float64       \n",
      " 9   Score      758 non-null    float64       \n",
      "dtypes: datetime64[ns](1), float64(5), object(4)\n",
      "memory usage: 59.9+ KB\n"
     ]
    }
   ],
   "source": [
    "df.info()"
   ]
  },
  {
   "cell_type": "code",
   "execution_count": 24,
   "id": "1451b22d",
   "metadata": {},
   "outputs": [],
   "source": [
    "df['Penalty'].fillna(0, inplace=True)"
   ]
  },
  {
   "cell_type": "code",
   "execution_count": 25,
   "id": "bd004fcb",
   "metadata": {},
   "outputs": [
    {
     "name": "stdout",
     "output_type": "stream",
     "text": [
      "<class 'pandas.core.frame.DataFrame'>\n",
      "RangeIndex: 765 entries, 0 to 764\n",
      "Data columns (total 10 columns):\n",
      " #   Column     Non-Null Count  Dtype         \n",
      "---  ------     --------------  -----         \n",
      " 0   Name       765 non-null    object        \n",
      " 1   Country    765 non-null    object        \n",
      " 2   Date       765 non-null    datetime64[ns]\n",
      " 3   Round      765 non-null    object        \n",
      " 4   Apparatus  765 non-null    object        \n",
      " 5   Rank       761 non-null    float64       \n",
      " 6   D_Score    761 non-null    float64       \n",
      " 7   E_Score    761 non-null    float64       \n",
      " 8   Penalty    765 non-null    float64       \n",
      " 9   Score      758 non-null    float64       \n",
      "dtypes: datetime64[ns](1), float64(5), object(4)\n",
      "memory usage: 59.9+ KB\n"
     ]
    }
   ],
   "source": [
    "df.info()"
   ]
  },
  {
   "cell_type": "code",
   "execution_count": 26,
   "id": "87927cab",
   "metadata": {},
   "outputs": [],
   "source": [
    "df.dropna(inplace=True)"
   ]
  },
  {
   "cell_type": "code",
   "execution_count": 27,
   "id": "f8ac6f88",
   "metadata": {},
   "outputs": [
    {
     "name": "stdout",
     "output_type": "stream",
     "text": [
      "<class 'pandas.core.frame.DataFrame'>\n",
      "Index: 758 entries, 0 to 764\n",
      "Data columns (total 10 columns):\n",
      " #   Column     Non-Null Count  Dtype         \n",
      "---  ------     --------------  -----         \n",
      " 0   Name       758 non-null    object        \n",
      " 1   Country    758 non-null    object        \n",
      " 2   Date       758 non-null    datetime64[ns]\n",
      " 3   Round      758 non-null    object        \n",
      " 4   Apparatus  758 non-null    object        \n",
      " 5   Rank       758 non-null    float64       \n",
      " 6   D_Score    758 non-null    float64       \n",
      " 7   E_Score    758 non-null    float64       \n",
      " 8   Penalty    758 non-null    float64       \n",
      " 9   Score      758 non-null    float64       \n",
      "dtypes: datetime64[ns](1), float64(5), object(4)\n",
      "memory usage: 65.1+ KB\n"
     ]
    }
   ],
   "source": [
    "df.info()"
   ]
  },
  {
   "cell_type": "code",
   "execution_count": 28,
   "id": "bdbf6ea0",
   "metadata": {},
   "outputs": [],
   "source": [
    "# df.to_csv('cleaned17to21.csv', index=False)"
   ]
  },
  {
   "cell_type": "code",
   "execution_count": null,
   "id": "faf64dc1",
   "metadata": {},
   "outputs": [],
   "source": []
  }
 ],
 "metadata": {
  "kernelspec": {
   "display_name": "Python 3 (ipykernel)",
   "language": "python",
   "name": "python3"
  },
  "language_info": {
   "codemirror_mode": {
    "name": "ipython",
    "version": 3
   },
   "file_extension": ".py",
   "mimetype": "text/x-python",
   "name": "python",
   "nbconvert_exporter": "python",
   "pygments_lexer": "ipython3",
   "version": "3.9.12"
  }
 },
 "nbformat": 4,
 "nbformat_minor": 5
}
