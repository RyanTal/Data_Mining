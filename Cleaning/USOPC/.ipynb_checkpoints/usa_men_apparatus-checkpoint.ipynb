{
 "cells": [
  {
   "cell_type": "code",
   "execution_count": 176,
   "id": "ed88f386",
   "metadata": {},
   "outputs": [],
   "source": [
    "import pandas as pd\n",
    "import numpy as np"
   ]
  },
  {
   "cell_type": "code",
   "execution_count": 182,
   "id": "be5aea3f",
   "metadata": {},
   "outputs": [],
   "source": [
    "fx = pd.read_csv('fx_men.csv')\n",
    "sr = pd.read_csv('sr_men.csv')\n",
    "vt = pd.read_csv('vt_men.csv')\n",
    "pb = pd.read_csv('pb_men.csv')\n",
    "ph = pd.read_csv('ph_men.csv')\n",
    "hb = pd.read_csv('hb_men.csv')\n"
   ]
  },
  {
   "cell_type": "code",
   "execution_count": 183,
   "id": "3615c01a",
   "metadata": {},
   "outputs": [],
   "source": [
    "fxus=fx[fx['Country']=='USA']\n",
    "srus=sr[sr['Country']=='USA']\n",
    "vtus=vt[vt['Country']=='USA']\n",
    "pbus=pb[pb['Country']=='USA']\n",
    "phus=ph[ph['Country']=='USA']\n",
    "hbus=hb[hb['Country']=='USA']\n"
   ]
  },
  {
   "cell_type": "code",
   "execution_count": 184,
   "id": "c7c24ac7",
   "metadata": {},
   "outputs": [],
   "source": [
    "fx=fxus.drop(columns=['Country', 'Competition', 'Round', 'year', 'Apparatus'])\n",
    "sr=srus.drop(columns=['Country', 'Competition', 'Round', 'year', 'Apparatus'])\n",
    "vt=vtus.drop(columns=['Country', 'Competition', 'Round', 'year', 'Apparatus'])\n",
    "pb=pbus.drop(columns=['Country', 'Competition', 'Round', 'year', 'Apparatus'])\n",
    "ph=phus.drop(columns=['Country', 'Competition', 'Round', 'year', 'Apparatus'])\n",
    "hb=hbus.drop(columns=['Country', 'Competition', 'Round', 'year', 'Apparatus'])\n"
   ]
  },
  {
   "cell_type": "markdown",
   "id": "6a8fc305",
   "metadata": {},
   "source": [
    "# fx"
   ]
  },
  {
   "cell_type": "code",
   "execution_count": 203,
   "id": "29805b9a",
   "metadata": {},
   "outputs": [],
   "source": [
    "fx['name'] = fx['name'].replace('frederick richard', 'frederick nathaniel richard')\n",
    "\n",
    "name_counts = fx['name'].value_counts()\n",
    "\n",
    "# Filter out entries with only one occurrence\n",
    "fx_filtered = fx[fx['name'].isin(name_counts.index[name_counts > 1])]\n"
   ]
  },
  {
   "cell_type": "code",
   "execution_count": 207,
   "id": "9cdecf67",
   "metadata": {},
   "outputs": [],
   "source": [
    "fx=fx_filtered.copy()\n",
    "# Replace 'frederick richard' with 'frederick nathaniel richard' for consistency\n",
    "\n",
    "# Group by the 'name' column and calculate the mean of other columns\n",
    "fxavg = fx.groupby('name').mean().reset_index()\n"
   ]
  },
  {
   "cell_type": "code",
   "execution_count": 208,
   "id": "d66b01fa",
   "metadata": {},
   "outputs": [],
   "source": [
    "fxavg = fx.groupby('name').mean().reset_index()"
   ]
  },
  {
   "cell_type": "code",
   "execution_count": 209,
   "id": "deac7631",
   "metadata": {},
   "outputs": [],
   "source": [
    "fx_sorted = fxavg.sort_values(by='Score', ascending=False)"
   ]
  },
  {
   "cell_type": "code",
   "execution_count": 210,
   "id": "87f6ad50",
   "metadata": {},
   "outputs": [],
   "source": [
    "fx_sorted['Apparatus'] = 'fx'"
   ]
  },
  {
   "cell_type": "code",
   "execution_count": 211,
   "id": "b09ce99b",
   "metadata": {},
   "outputs": [
    {
     "name": "stdout",
     "output_type": "stream",
     "text": [
      "<class 'pandas.core.frame.DataFrame'>\n",
      "Index: 41 entries, 31 to 34\n",
      "Data columns (total 7 columns):\n",
      " #   Column     Non-Null Count  Dtype  \n",
      "---  ------     --------------  -----  \n",
      " 0   name       41 non-null     object \n",
      " 1   Rank       41 non-null     float64\n",
      " 2   D_Score    41 non-null     float64\n",
      " 3   E_Score    41 non-null     float64\n",
      " 4   Penalty    41 non-null     float64\n",
      " 5   Score      41 non-null     float64\n",
      " 6   Apparatus  41 non-null     object \n",
      "dtypes: float64(5), object(2)\n",
      "memory usage: 2.6+ KB\n"
     ]
    }
   ],
   "source": [
    "fx_sorted.info()"
   ]
  },
  {
   "cell_type": "markdown",
   "id": "81d9cba1",
   "metadata": {},
   "source": [
    "# sr"
   ]
  },
  {
   "cell_type": "code",
   "execution_count": 212,
   "id": "9ad46288",
   "metadata": {},
   "outputs": [],
   "source": [
    "sr['name'] = sr['name'].replace('frederick richard', 'frederick nathaniel richard')\n",
    "\n",
    "name_counts = sr['name'].value_counts()\n",
    "\n",
    "# Filter out entries with only one occurrence\n",
    "sr_filtered = sr[sr['name'].isin(name_counts.index[name_counts > 1])]\n"
   ]
  },
  {
   "cell_type": "code",
   "execution_count": 213,
   "id": "c680593e",
   "metadata": {},
   "outputs": [],
   "source": [
    "sr=sr_filtered.copy()\n",
    "sravg = sr.groupby('name').mean().reset_index()"
   ]
  },
  {
   "cell_type": "code",
   "execution_count": 214,
   "id": "8608b8ca",
   "metadata": {},
   "outputs": [],
   "source": [
    "sr_sorted = sravg.sort_values(by='Score', ascending=False)"
   ]
  },
  {
   "cell_type": "code",
   "execution_count": 215,
   "id": "aea9955a",
   "metadata": {},
   "outputs": [],
   "source": [
    "sr_sorted['Apparatus'] = 'sr'"
   ]
  },
  {
   "cell_type": "code",
   "execution_count": 216,
   "id": "cd721179",
   "metadata": {},
   "outputs": [
    {
     "name": "stdout",
     "output_type": "stream",
     "text": [
      "<class 'pandas.core.frame.DataFrame'>\n",
      "Index: 42 entries, 9 to 35\n",
      "Data columns (total 7 columns):\n",
      " #   Column     Non-Null Count  Dtype  \n",
      "---  ------     --------------  -----  \n",
      " 0   name       42 non-null     object \n",
      " 1   Rank       42 non-null     float64\n",
      " 2   D_Score    42 non-null     float64\n",
      " 3   E_Score    42 non-null     float64\n",
      " 4   Penalty    42 non-null     float64\n",
      " 5   Score      42 non-null     float64\n",
      " 6   Apparatus  42 non-null     object \n",
      "dtypes: float64(5), object(2)\n",
      "memory usage: 2.6+ KB\n"
     ]
    }
   ],
   "source": [
    "sr_sorted.info()"
   ]
  },
  {
   "cell_type": "markdown",
   "id": "bd7f281b",
   "metadata": {},
   "source": [
    "# vt"
   ]
  },
  {
   "cell_type": "code",
   "execution_count": 217,
   "id": "fb7d5fdc",
   "metadata": {},
   "outputs": [],
   "source": [
    "vt['name'] = vt['name'].replace('frederick richard', 'frederick nathaniel richard')\n",
    "\n",
    "name_counts = vt['name'].value_counts()\n",
    "\n",
    "# Filter out entries with only one occurrence\n",
    "vt_filtered = vt[vt['name'].isin(name_counts.index[name_counts > 1])]\n"
   ]
  },
  {
   "cell_type": "code",
   "execution_count": 218,
   "id": "43d65fb5",
   "metadata": {},
   "outputs": [],
   "source": [
    "vt=vt_filtered.copy()\n",
    "vtavg = vt.groupby('name').mean().reset_index()"
   ]
  },
  {
   "cell_type": "code",
   "execution_count": 219,
   "id": "8a061d8e",
   "metadata": {},
   "outputs": [],
   "source": [
    "vt_sorted = vtavg.sort_values(by='Score', ascending=False)"
   ]
  },
  {
   "cell_type": "code",
   "execution_count": 220,
   "id": "b1672e5d",
   "metadata": {},
   "outputs": [],
   "source": [
    "vt_sorted['Apparatus'] = 'vt'"
   ]
  },
  {
   "cell_type": "code",
   "execution_count": 221,
   "id": "e5fc4e9f",
   "metadata": {},
   "outputs": [
    {
     "name": "stdout",
     "output_type": "stream",
     "text": [
      "<class 'pandas.core.frame.DataFrame'>\n",
      "Index: 35 entries, 21 to 29\n",
      "Data columns (total 7 columns):\n",
      " #   Column     Non-Null Count  Dtype  \n",
      "---  ------     --------------  -----  \n",
      " 0   name       35 non-null     object \n",
      " 1   Rank       35 non-null     float64\n",
      " 2   D_Score    35 non-null     float64\n",
      " 3   E_Score    35 non-null     float64\n",
      " 4   Penalty    35 non-null     float64\n",
      " 5   Score      35 non-null     float64\n",
      " 6   Apparatus  35 non-null     object \n",
      "dtypes: float64(5), object(2)\n",
      "memory usage: 2.2+ KB\n"
     ]
    }
   ],
   "source": [
    "vt_sorted.info()"
   ]
  },
  {
   "cell_type": "markdown",
   "id": "2ea10944",
   "metadata": {},
   "source": [
    "# pb"
   ]
  },
  {
   "cell_type": "code",
   "execution_count": 227,
   "id": "c6643c8c",
   "metadata": {},
   "outputs": [],
   "source": [
    "pb['name'] = pb['name'].replace('frederick richard', 'frederick nathaniel richard')\n",
    "\n",
    "name_counts = pb['name'].value_counts()\n",
    "\n",
    "# Filter out entries with only one occurrence\n",
    "pb_filtered = pb[pb['name'].isin(name_counts.index[name_counts > 1])]\n"
   ]
  },
  {
   "cell_type": "code",
   "execution_count": 228,
   "id": "ef91da7b",
   "metadata": {},
   "outputs": [],
   "source": [
    "pb=pb_filtered.copy()\n",
    "pbavg = pb.groupby('name').mean().reset_index()"
   ]
  },
  {
   "cell_type": "code",
   "execution_count": 229,
   "id": "9ae45fbb",
   "metadata": {},
   "outputs": [],
   "source": [
    "pb_sorted = pbavg.sort_values(by='Score', ascending=False)"
   ]
  },
  {
   "cell_type": "code",
   "execution_count": 230,
   "id": "9e4f0404",
   "metadata": {},
   "outputs": [],
   "source": [
    "pb_sorted['Apparatus'] = 'pb'"
   ]
  },
  {
   "cell_type": "code",
   "execution_count": 233,
   "id": "58f42c0b",
   "metadata": {},
   "outputs": [
    {
     "name": "stdout",
     "output_type": "stream",
     "text": [
      "<class 'pandas.core.frame.DataFrame'>\n",
      "Index: 47 entries, 8 to 19\n",
      "Data columns (total 7 columns):\n",
      " #   Column     Non-Null Count  Dtype  \n",
      "---  ------     --------------  -----  \n",
      " 0   name       47 non-null     object \n",
      " 1   Rank       47 non-null     float64\n",
      " 2   D_Score    47 non-null     float64\n",
      " 3   E_Score    47 non-null     float64\n",
      " 4   Penalty    47 non-null     float64\n",
      " 5   Score      47 non-null     float64\n",
      " 6   Apparatus  47 non-null     object \n",
      "dtypes: float64(5), object(2)\n",
      "memory usage: 2.9+ KB\n"
     ]
    }
   ],
   "source": [
    "pb_sorted.info()"
   ]
  },
  {
   "cell_type": "markdown",
   "id": "2305f9d6",
   "metadata": {},
   "source": [
    "# ph"
   ]
  },
  {
   "cell_type": "code",
   "execution_count": 234,
   "id": "ee1b8e16",
   "metadata": {},
   "outputs": [],
   "source": [
    "ph['name'] = ph['name'].replace('frederick richard', 'frederick nathaniel richard')\n"
   ]
  },
  {
   "cell_type": "code",
   "execution_count": 235,
   "id": "9600eeb3",
   "metadata": {},
   "outputs": [],
   "source": [
    "name_counts = ph['name'].value_counts()\n",
    "\n",
    "# Filter out entries with only one occurrence\n",
    "ph_filtered = ph[ph['name'].isin(name_counts.index[name_counts > 1])]\n"
   ]
  },
  {
   "cell_type": "code",
   "execution_count": 236,
   "id": "253df96d",
   "metadata": {},
   "outputs": [],
   "source": [
    "ph=ph_filtered.copy()\n",
    "phavg = ph.groupby('name').mean().reset_index()"
   ]
  },
  {
   "cell_type": "code",
   "execution_count": 237,
   "id": "8b9b6226",
   "metadata": {},
   "outputs": [],
   "source": [
    "ph_sorted = phavg.sort_values(by='Score', ascending=False)"
   ]
  },
  {
   "cell_type": "code",
   "execution_count": 238,
   "id": "48bcc224",
   "metadata": {},
   "outputs": [],
   "source": [
    "ph_sorted['Apparatus'] = 'ph'"
   ]
  },
  {
   "cell_type": "code",
   "execution_count": 239,
   "id": "02041c0d",
   "metadata": {},
   "outputs": [
    {
     "name": "stdout",
     "output_type": "stream",
     "text": [
      "<class 'pandas.core.frame.DataFrame'>\n",
      "Index: 47 entries, 38 to 20\n",
      "Data columns (total 7 columns):\n",
      " #   Column     Non-Null Count  Dtype  \n",
      "---  ------     --------------  -----  \n",
      " 0   name       47 non-null     object \n",
      " 1   Rank       47 non-null     float64\n",
      " 2   D_Score    47 non-null     float64\n",
      " 3   E_Score    47 non-null     float64\n",
      " 4   Penalty    47 non-null     float64\n",
      " 5   Score      47 non-null     float64\n",
      " 6   Apparatus  47 non-null     object \n",
      "dtypes: float64(5), object(2)\n",
      "memory usage: 2.9+ KB\n"
     ]
    }
   ],
   "source": [
    "ph_sorted.info()"
   ]
  },
  {
   "cell_type": "markdown",
   "id": "6986731e",
   "metadata": {},
   "source": [
    "# hb"
   ]
  },
  {
   "cell_type": "code",
   "execution_count": 245,
   "id": "6a3ab120",
   "metadata": {},
   "outputs": [],
   "source": [
    "hb['name'] = hb['name'].replace('frederick richard', 'frederick nathaniel richard')\n"
   ]
  },
  {
   "cell_type": "code",
   "execution_count": 246,
   "id": "ce603b08",
   "metadata": {},
   "outputs": [],
   "source": [
    "name_counts = hb['name'].value_counts()\n",
    "\n",
    "# Filter out entries with only one occurrence\n",
    "hb_filtered = hb[hb['name'].isin(name_counts.index[name_counts > 1])]\n"
   ]
  },
  {
   "cell_type": "code",
   "execution_count": 247,
   "id": "530c4c3f",
   "metadata": {},
   "outputs": [],
   "source": [
    "hb=hb_filtered.copy()\n",
    "hbavg = hb.groupby('name').mean().reset_index()"
   ]
  },
  {
   "cell_type": "code",
   "execution_count": 248,
   "id": "51ecb3c3",
   "metadata": {},
   "outputs": [],
   "source": [
    "hb_sorted = hbavg.sort_values(by='Score', ascending=False)"
   ]
  },
  {
   "cell_type": "code",
   "execution_count": 249,
   "id": "af848b82",
   "metadata": {},
   "outputs": [],
   "source": [
    "hb_sorted['Apparatus'] = 'hb'"
   ]
  },
  {
   "cell_type": "code",
   "execution_count": 250,
   "id": "12f15b62",
   "metadata": {},
   "outputs": [
    {
     "name": "stdout",
     "output_type": "stream",
     "text": [
      "<class 'pandas.core.frame.DataFrame'>\n",
      "Index: 44 entries, 1 to 13\n",
      "Data columns (total 7 columns):\n",
      " #   Column     Non-Null Count  Dtype  \n",
      "---  ------     --------------  -----  \n",
      " 0   name       44 non-null     object \n",
      " 1   Rank       44 non-null     float64\n",
      " 2   D_Score    44 non-null     float64\n",
      " 3   E_Score    44 non-null     float64\n",
      " 4   Penalty    44 non-null     float64\n",
      " 5   Score      44 non-null     float64\n",
      " 6   Apparatus  44 non-null     object \n",
      "dtypes: float64(5), object(2)\n",
      "memory usage: 2.8+ KB\n"
     ]
    }
   ],
   "source": [
    "hb_sorted.info()"
   ]
  },
  {
   "cell_type": "code",
   "execution_count": 251,
   "id": "28297e5f",
   "metadata": {},
   "outputs": [],
   "source": [
    "hb=hb_sorted.copy()\n",
    "vt=vt_sorted.copy()\n",
    "sr=sr_sorted.copy()\n",
    "fx=fx_sorted.copy()\n",
    "pb=pb_sorted.copy()\n",
    "ph=ph_sorted.copy()\n"
   ]
  },
  {
   "cell_type": "code",
   "execution_count": 252,
   "id": "42d3ddc3",
   "metadata": {},
   "outputs": [
    {
     "data": {
      "text/html": [
       "<div>\n",
       "<style scoped>\n",
       "    .dataframe tbody tr th:only-of-type {\n",
       "        vertical-align: middle;\n",
       "    }\n",
       "\n",
       "    .dataframe tbody tr th {\n",
       "        vertical-align: top;\n",
       "    }\n",
       "\n",
       "    .dataframe thead th {\n",
       "        text-align: right;\n",
       "    }\n",
       "</style>\n",
       "<table border=\"1\" class=\"dataframe\">\n",
       "  <thead>\n",
       "    <tr style=\"text-align: right;\">\n",
       "      <th></th>\n",
       "      <th>name</th>\n",
       "      <th>Rank</th>\n",
       "      <th>D_Score</th>\n",
       "      <th>E_Score</th>\n",
       "      <th>Penalty</th>\n",
       "      <th>Score</th>\n",
       "      <th>Apparatus</th>\n",
       "    </tr>\n",
       "  </thead>\n",
       "  <tbody>\n",
       "    <tr>\n",
       "      <th>1</th>\n",
       "      <td>brody malone</td>\n",
       "      <td>2.2</td>\n",
       "      <td>6.05</td>\n",
       "      <td>8.3532</td>\n",
       "      <td>0.0</td>\n",
       "      <td>14.4032</td>\n",
       "      <td>hb</td>\n",
       "    </tr>\n",
       "  </tbody>\n",
       "</table>\n",
       "</div>"
      ],
      "text/plain": [
       "           name  Rank  D_Score  E_Score  Penalty    Score Apparatus\n",
       "1  brody malone   2.2     6.05   8.3532      0.0  14.4032        hb"
      ]
     },
     "execution_count": 252,
     "metadata": {},
     "output_type": "execute_result"
    }
   ],
   "source": [
    "hb.head(1)"
   ]
  },
  {
   "cell_type": "code",
   "execution_count": 253,
   "id": "d178a4f4",
   "metadata": {},
   "outputs": [
    {
     "data": {
      "text/html": [
       "<div>\n",
       "<style scoped>\n",
       "    .dataframe tbody tr th:only-of-type {\n",
       "        vertical-align: middle;\n",
       "    }\n",
       "\n",
       "    .dataframe tbody tr th {\n",
       "        vertical-align: top;\n",
       "    }\n",
       "\n",
       "    .dataframe thead th {\n",
       "        text-align: right;\n",
       "    }\n",
       "</style>\n",
       "<table border=\"1\" class=\"dataframe\">\n",
       "  <thead>\n",
       "    <tr style=\"text-align: right;\">\n",
       "      <th></th>\n",
       "      <th>name</th>\n",
       "      <th>Rank</th>\n",
       "      <th>D_Score</th>\n",
       "      <th>E_Score</th>\n",
       "      <th>Penalty</th>\n",
       "      <th>Score</th>\n",
       "      <th>Apparatus</th>\n",
       "    </tr>\n",
       "  </thead>\n",
       "  <tbody>\n",
       "    <tr>\n",
       "      <th>21</th>\n",
       "      <td>khoi young</td>\n",
       "      <td>4.125</td>\n",
       "      <td>5.425</td>\n",
       "      <td>9.339375</td>\n",
       "      <td>0.025</td>\n",
       "      <td>14.739375</td>\n",
       "      <td>vt</td>\n",
       "    </tr>\n",
       "  </tbody>\n",
       "</table>\n",
       "</div>"
      ],
      "text/plain": [
       "          name   Rank  D_Score   E_Score  Penalty      Score Apparatus\n",
       "21  khoi young  4.125    5.425  9.339375    0.025  14.739375        vt"
      ]
     },
     "execution_count": 253,
     "metadata": {},
     "output_type": "execute_result"
    }
   ],
   "source": [
    "vt.head(1)"
   ]
  },
  {
   "cell_type": "code",
   "execution_count": 254,
   "id": "540e5bf0",
   "metadata": {},
   "outputs": [
    {
     "data": {
      "text/html": [
       "<div>\n",
       "<style scoped>\n",
       "    .dataframe tbody tr th:only-of-type {\n",
       "        vertical-align: middle;\n",
       "    }\n",
       "\n",
       "    .dataframe tbody tr th {\n",
       "        vertical-align: top;\n",
       "    }\n",
       "\n",
       "    .dataframe thead th {\n",
       "        text-align: right;\n",
       "    }\n",
       "</style>\n",
       "<table border=\"1\" class=\"dataframe\">\n",
       "  <thead>\n",
       "    <tr style=\"text-align: right;\">\n",
       "      <th></th>\n",
       "      <th>name</th>\n",
       "      <th>Rank</th>\n",
       "      <th>D_Score</th>\n",
       "      <th>E_Score</th>\n",
       "      <th>Penalty</th>\n",
       "      <th>Score</th>\n",
       "      <th>Apparatus</th>\n",
       "    </tr>\n",
       "  </thead>\n",
       "  <tbody>\n",
       "    <tr>\n",
       "      <th>9</th>\n",
       "      <td>donnell whittenburg</td>\n",
       "      <td>3.9</td>\n",
       "      <td>5.98</td>\n",
       "      <td>8.4398</td>\n",
       "      <td>0.0</td>\n",
       "      <td>14.4198</td>\n",
       "      <td>sr</td>\n",
       "    </tr>\n",
       "  </tbody>\n",
       "</table>\n",
       "</div>"
      ],
      "text/plain": [
       "                  name  Rank  D_Score  E_Score  Penalty    Score Apparatus\n",
       "9  donnell whittenburg   3.9     5.98   8.4398      0.0  14.4198        sr"
      ]
     },
     "execution_count": 254,
     "metadata": {},
     "output_type": "execute_result"
    }
   ],
   "source": [
    "sr.head(1)"
   ]
  },
  {
   "cell_type": "code",
   "execution_count": 255,
   "id": "005c7628",
   "metadata": {},
   "outputs": [
    {
     "data": {
      "text/html": [
       "<div>\n",
       "<style scoped>\n",
       "    .dataframe tbody tr th:only-of-type {\n",
       "        vertical-align: middle;\n",
       "    }\n",
       "\n",
       "    .dataframe tbody tr th {\n",
       "        vertical-align: top;\n",
       "    }\n",
       "\n",
       "    .dataframe thead th {\n",
       "        text-align: right;\n",
       "    }\n",
       "</style>\n",
       "<table border=\"1\" class=\"dataframe\">\n",
       "  <thead>\n",
       "    <tr style=\"text-align: right;\">\n",
       "      <th></th>\n",
       "      <th>name</th>\n",
       "      <th>Rank</th>\n",
       "      <th>D_Score</th>\n",
       "      <th>E_Score</th>\n",
       "      <th>Penalty</th>\n",
       "      <th>Score</th>\n",
       "      <th>Apparatus</th>\n",
       "    </tr>\n",
       "  </thead>\n",
       "  <tbody>\n",
       "    <tr>\n",
       "      <th>31</th>\n",
       "      <td>paul juda</td>\n",
       "      <td>12.0</td>\n",
       "      <td>5.65</td>\n",
       "      <td>8.56225</td>\n",
       "      <td>0.025</td>\n",
       "      <td>14.18725</td>\n",
       "      <td>fx</td>\n",
       "    </tr>\n",
       "  </tbody>\n",
       "</table>\n",
       "</div>"
      ],
      "text/plain": [
       "         name  Rank  D_Score  E_Score  Penalty     Score Apparatus\n",
       "31  paul juda  12.0     5.65  8.56225    0.025  14.18725        fx"
      ]
     },
     "execution_count": 255,
     "metadata": {},
     "output_type": "execute_result"
    }
   ],
   "source": [
    "fx.head(1)"
   ]
  },
  {
   "cell_type": "code",
   "execution_count": 256,
   "id": "85a2a9ff",
   "metadata": {},
   "outputs": [
    {
     "data": {
      "text/html": [
       "<div>\n",
       "<style scoped>\n",
       "    .dataframe tbody tr th:only-of-type {\n",
       "        vertical-align: middle;\n",
       "    }\n",
       "\n",
       "    .dataframe tbody tr th {\n",
       "        vertical-align: top;\n",
       "    }\n",
       "\n",
       "    .dataframe thead th {\n",
       "        text-align: right;\n",
       "    }\n",
       "</style>\n",
       "<table border=\"1\" class=\"dataframe\">\n",
       "  <thead>\n",
       "    <tr style=\"text-align: right;\">\n",
       "      <th></th>\n",
       "      <th>name</th>\n",
       "      <th>Rank</th>\n",
       "      <th>D_Score</th>\n",
       "      <th>E_Score</th>\n",
       "      <th>Penalty</th>\n",
       "      <th>Score</th>\n",
       "      <th>Apparatus</th>\n",
       "    </tr>\n",
       "  </thead>\n",
       "  <tbody>\n",
       "    <tr>\n",
       "      <th>8</th>\n",
       "      <td>curran phillips</td>\n",
       "      <td>2.111111</td>\n",
       "      <td>6.733333</td>\n",
       "      <td>8.029556</td>\n",
       "      <td>0.0</td>\n",
       "      <td>14.762889</td>\n",
       "      <td>pb</td>\n",
       "    </tr>\n",
       "  </tbody>\n",
       "</table>\n",
       "</div>"
      ],
      "text/plain": [
       "              name      Rank   D_Score   E_Score  Penalty      Score Apparatus\n",
       "8  curran phillips  2.111111  6.733333  8.029556      0.0  14.762889        pb"
      ]
     },
     "execution_count": 256,
     "metadata": {},
     "output_type": "execute_result"
    }
   ],
   "source": [
    "pb.head(1)\n"
   ]
  },
  {
   "cell_type": "code",
   "execution_count": 257,
   "id": "c6ad5805",
   "metadata": {},
   "outputs": [
    {
     "data": {
      "text/html": [
       "<div>\n",
       "<style scoped>\n",
       "    .dataframe tbody tr th:only-of-type {\n",
       "        vertical-align: middle;\n",
       "    }\n",
       "\n",
       "    .dataframe tbody tr th {\n",
       "        vertical-align: top;\n",
       "    }\n",
       "\n",
       "    .dataframe thead th {\n",
       "        text-align: right;\n",
       "    }\n",
       "</style>\n",
       "<table border=\"1\" class=\"dataframe\">\n",
       "  <thead>\n",
       "    <tr style=\"text-align: right;\">\n",
       "      <th></th>\n",
       "      <th>name</th>\n",
       "      <th>Rank</th>\n",
       "      <th>D_Score</th>\n",
       "      <th>E_Score</th>\n",
       "      <th>Penalty</th>\n",
       "      <th>Score</th>\n",
       "      <th>Apparatus</th>\n",
       "    </tr>\n",
       "  </thead>\n",
       "  <tbody>\n",
       "    <tr>\n",
       "      <th>38</th>\n",
       "      <td>stephen nedoroscik</td>\n",
       "      <td>3.0</td>\n",
       "      <td>6.414286</td>\n",
       "      <td>7.840286</td>\n",
       "      <td>0.0</td>\n",
       "      <td>14.254571</td>\n",
       "      <td>ph</td>\n",
       "    </tr>\n",
       "  </tbody>\n",
       "</table>\n",
       "</div>"
      ],
      "text/plain": [
       "                  name  Rank   D_Score   E_Score  Penalty      Score Apparatus\n",
       "38  stephen nedoroscik   3.0  6.414286  7.840286      0.0  14.254571        ph"
      ]
     },
     "execution_count": 257,
     "metadata": {},
     "output_type": "execute_result"
    }
   ],
   "source": [
    "ph.head(1)"
   ]
  },
  {
   "cell_type": "code",
   "execution_count": 258,
   "id": "1c5fd971",
   "metadata": {},
   "outputs": [],
   "source": [
    "df = pd.concat([hb, vt, sr, fx, pb, ph], ignore_index=True)"
   ]
  },
  {
   "cell_type": "code",
   "execution_count": 259,
   "id": "0190dd26",
   "metadata": {},
   "outputs": [
    {
     "data": {
      "text/html": [
       "<div>\n",
       "<style scoped>\n",
       "    .dataframe tbody tr th:only-of-type {\n",
       "        vertical-align: middle;\n",
       "    }\n",
       "\n",
       "    .dataframe tbody tr th {\n",
       "        vertical-align: top;\n",
       "    }\n",
       "\n",
       "    .dataframe thead th {\n",
       "        text-align: right;\n",
       "    }\n",
       "</style>\n",
       "<table border=\"1\" class=\"dataframe\">\n",
       "  <thead>\n",
       "    <tr style=\"text-align: right;\">\n",
       "      <th></th>\n",
       "      <th>name</th>\n",
       "      <th>Rank</th>\n",
       "      <th>D_Score</th>\n",
       "      <th>E_Score</th>\n",
       "      <th>Penalty</th>\n",
       "      <th>Score</th>\n",
       "      <th>Apparatus</th>\n",
       "    </tr>\n",
       "  </thead>\n",
       "  <tbody>\n",
       "    <tr>\n",
       "      <th>0</th>\n",
       "      <td>brody malone</td>\n",
       "      <td>2.200000</td>\n",
       "      <td>6.050000</td>\n",
       "      <td>8.353200</td>\n",
       "      <td>0.00</td>\n",
       "      <td>14.403200</td>\n",
       "      <td>hb</td>\n",
       "    </tr>\n",
       "    <tr>\n",
       "      <th>1</th>\n",
       "      <td>paul juda</td>\n",
       "      <td>3.800000</td>\n",
       "      <td>5.360000</td>\n",
       "      <td>8.666400</td>\n",
       "      <td>0.00</td>\n",
       "      <td>14.026400</td>\n",
       "      <td>hb</td>\n",
       "    </tr>\n",
       "    <tr>\n",
       "      <th>2</th>\n",
       "      <td>frederick nathaniel richard</td>\n",
       "      <td>24.166667</td>\n",
       "      <td>5.833333</td>\n",
       "      <td>7.761000</td>\n",
       "      <td>0.05</td>\n",
       "      <td>13.544333</td>\n",
       "      <td>hb</td>\n",
       "    </tr>\n",
       "    <tr>\n",
       "      <th>3</th>\n",
       "      <td>fred richard</td>\n",
       "      <td>11.333333</td>\n",
       "      <td>5.733333</td>\n",
       "      <td>7.783333</td>\n",
       "      <td>0.00</td>\n",
       "      <td>13.516667</td>\n",
       "      <td>hb</td>\n",
       "    </tr>\n",
       "    <tr>\n",
       "      <th>4</th>\n",
       "      <td>michael jaroh</td>\n",
       "      <td>6.000000</td>\n",
       "      <td>5.150000</td>\n",
       "      <td>8.350000</td>\n",
       "      <td>0.00</td>\n",
       "      <td>13.500000</td>\n",
       "      <td>hb</td>\n",
       "    </tr>\n",
       "    <tr>\n",
       "      <th>...</th>\n",
       "      <td>...</td>\n",
       "      <td>...</td>\n",
       "      <td>...</td>\n",
       "      <td>...</td>\n",
       "      <td>...</td>\n",
       "      <td>...</td>\n",
       "      <td>...</td>\n",
       "    </tr>\n",
       "    <tr>\n",
       "      <th>251</th>\n",
       "      <td>kameron nelson</td>\n",
       "      <td>32.000000</td>\n",
       "      <td>3.600000</td>\n",
       "      <td>6.700000</td>\n",
       "      <td>0.00</td>\n",
       "      <td>10.300000</td>\n",
       "      <td>ph</td>\n",
       "    </tr>\n",
       "    <tr>\n",
       "      <th>252</th>\n",
       "      <td>tyler flores</td>\n",
       "      <td>47.000000</td>\n",
       "      <td>4.400000</td>\n",
       "      <td>5.625000</td>\n",
       "      <td>0.00</td>\n",
       "      <td>10.025000</td>\n",
       "      <td>ph</td>\n",
       "    </tr>\n",
       "    <tr>\n",
       "      <th>253</th>\n",
       "      <td>kazuki hayashi</td>\n",
       "      <td>48.000000</td>\n",
       "      <td>3.850000</td>\n",
       "      <td>5.975000</td>\n",
       "      <td>0.00</td>\n",
       "      <td>9.825000</td>\n",
       "      <td>ph</td>\n",
       "    </tr>\n",
       "    <tr>\n",
       "      <th>254</th>\n",
       "      <td>drake andrews</td>\n",
       "      <td>47.500000</td>\n",
       "      <td>3.400000</td>\n",
       "      <td>7.925000</td>\n",
       "      <td>2.00</td>\n",
       "      <td>9.325000</td>\n",
       "      <td>ph</td>\n",
       "    </tr>\n",
       "    <tr>\n",
       "      <th>255</th>\n",
       "      <td>izaiha mlay</td>\n",
       "      <td>53.500000</td>\n",
       "      <td>3.350000</td>\n",
       "      <td>5.000000</td>\n",
       "      <td>0.00</td>\n",
       "      <td>8.350000</td>\n",
       "      <td>ph</td>\n",
       "    </tr>\n",
       "  </tbody>\n",
       "</table>\n",
       "<p>256 rows × 7 columns</p>\n",
       "</div>"
      ],
      "text/plain": [
       "                            name       Rank   D_Score   E_Score  Penalty  \\\n",
       "0                   brody malone   2.200000  6.050000  8.353200     0.00   \n",
       "1                      paul juda   3.800000  5.360000  8.666400     0.00   \n",
       "2    frederick nathaniel richard  24.166667  5.833333  7.761000     0.05   \n",
       "3                   fred richard  11.333333  5.733333  7.783333     0.00   \n",
       "4                  michael jaroh   6.000000  5.150000  8.350000     0.00   \n",
       "..                           ...        ...       ...       ...      ...   \n",
       "251               kameron nelson  32.000000  3.600000  6.700000     0.00   \n",
       "252                 tyler flores  47.000000  4.400000  5.625000     0.00   \n",
       "253               kazuki hayashi  48.000000  3.850000  5.975000     0.00   \n",
       "254                drake andrews  47.500000  3.400000  7.925000     2.00   \n",
       "255                  izaiha mlay  53.500000  3.350000  5.000000     0.00   \n",
       "\n",
       "         Score Apparatus  \n",
       "0    14.403200        hb  \n",
       "1    14.026400        hb  \n",
       "2    13.544333        hb  \n",
       "3    13.516667        hb  \n",
       "4    13.500000        hb  \n",
       "..         ...       ...  \n",
       "251  10.300000        ph  \n",
       "252  10.025000        ph  \n",
       "253   9.825000        ph  \n",
       "254   9.325000        ph  \n",
       "255   8.350000        ph  \n",
       "\n",
       "[256 rows x 7 columns]"
      ]
     },
     "execution_count": 259,
     "metadata": {},
     "output_type": "execute_result"
    }
   ],
   "source": [
    "df"
   ]
  },
  {
   "cell_type": "code",
   "execution_count": 260,
   "id": "76327352",
   "metadata": {},
   "outputs": [],
   "source": [
    "# df.to_csv('usa_men_apparatus.csv', index=False)"
   ]
  },
  {
   "cell_type": "code",
   "execution_count": null,
   "id": "751e9398",
   "metadata": {},
   "outputs": [],
   "source": []
  }
 ],
 "metadata": {
  "kernelspec": {
   "display_name": "Python 3 (ipykernel)",
   "language": "python",
   "name": "python3"
  },
  "language_info": {
   "codemirror_mode": {
    "name": "ipython",
    "version": 3
   },
   "file_extension": ".py",
   "mimetype": "text/x-python",
   "name": "python",
   "nbconvert_exporter": "python",
   "pygments_lexer": "ipython3",
   "version": "3.9.12"
  }
 },
 "nbformat": 4,
 "nbformat_minor": 5
}
