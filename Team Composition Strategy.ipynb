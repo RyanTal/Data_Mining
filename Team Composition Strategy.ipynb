{
 "cells": [
  {
   "cell_type": "markdown",
   "id": "161b2719",
   "metadata": {},
   "source": [
    "Team Composition Strategy: The selection committee may not necessarily choose the top six all-around gymnasts for the world team because constructing lineups for the team finals requires a balance of strengths across different apparatuses. Some gymnasts excel in specific events and can fill in the weak spots, which is important for achieving high scores in the team final."
   ]
  },
  {
   "cell_type": "code",
   "execution_count": null,
   "id": "ac844229",
   "metadata": {},
   "outputs": [],
   "source": []
  }
 ],
 "metadata": {
  "kernelspec": {
   "display_name": "Python 3 (ipykernel)",
   "language": "python",
   "name": "python3"
  },
  "language_info": {
   "codemirror_mode": {
    "name": "ipython",
    "version": 3
   },
   "file_extension": ".py",
   "mimetype": "text/x-python",
   "name": "python",
   "nbconvert_exporter": "python",
   "pygments_lexer": "ipython3",
   "version": "3.9.12"
  }
 },
 "nbformat": 4,
 "nbformat_minor": 5
}
