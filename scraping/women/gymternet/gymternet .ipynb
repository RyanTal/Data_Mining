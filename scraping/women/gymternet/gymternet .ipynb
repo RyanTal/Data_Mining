{
 "cells": [
  {
   "cell_type": "markdown",
   "id": "1ace330e",
   "metadata": {},
   "source": [
    "https://thegymter.net/the-best-scores-in-2023/\n",
    "\n",
    "## As of sept 1 2023"
   ]
  },
  {
   "cell_type": "code",
   "execution_count": 48,
   "id": "1e16405d",
   "metadata": {},
   "outputs": [],
   "source": [
    "import pandas as pd\n",
    "import numpy as np\n",
    "import matplotlib.pyplot as plt"
   ]
  },
  {
   "cell_type": "code",
   "execution_count": 24,
   "id": "37d6c15a",
   "metadata": {},
   "outputs": [],
   "source": [
    "df = pd.read_csv(\"best_scores2023.csv\")"
   ]
  },
  {
   "cell_type": "markdown",
   "id": "63e7b89c",
   "metadata": {},
   "source": [
    "names with * are not at the elite level"
   ]
  },
  {
   "cell_type": "code",
   "execution_count": 25,
   "id": "3f6f234c",
   "metadata": {},
   "outputs": [
    {
     "name": "stdout",
     "output_type": "stream",
     "text": [
      "<class 'pandas.core.frame.DataFrame'>\n",
      "RangeIndex: 50 entries, 0 to 49\n",
      "Data columns (total 5 columns):\n",
      " #   Column   Non-Null Count  Dtype  \n",
      "---  ------   --------------  -----  \n",
      " 0   Rank     50 non-null     int64  \n",
      " 1   Athlete  50 non-null     object \n",
      " 2   Nation   50 non-null     object \n",
      " 3   Meet     50 non-null     object \n",
      " 4   Score    50 non-null     float64\n",
      "dtypes: float64(1), int64(1), object(3)\n",
      "memory usage: 2.1+ KB\n"
     ]
    }
   ],
   "source": [
    "df.info()"
   ]
  },
  {
   "cell_type": "code",
   "execution_count": 26,
   "id": "a04089b1",
   "metadata": {},
   "outputs": [],
   "source": [
    "df = df[~df[\"Athlete\"].str.contains(r'\\*')]"
   ]
  },
  {
   "cell_type": "code",
   "execution_count": 27,
   "id": "4c77d2b0",
   "metadata": {},
   "outputs": [
    {
     "name": "stdout",
     "output_type": "stream",
     "text": [
      "<class 'pandas.core.frame.DataFrame'>\n",
      "Index: 36 entries, 0 to 49\n",
      "Data columns (total 5 columns):\n",
      " #   Column   Non-Null Count  Dtype  \n",
      "---  ------   --------------  -----  \n",
      " 0   Rank     36 non-null     int64  \n",
      " 1   Athlete  36 non-null     object \n",
      " 2   Nation   36 non-null     object \n",
      " 3   Meet     36 non-null     object \n",
      " 4   Score    36 non-null     float64\n",
      "dtypes: float64(1), int64(1), object(3)\n",
      "memory usage: 1.7+ KB\n"
     ]
    }
   ],
   "source": [
    "df.info()"
   ]
  },
  {
   "cell_type": "code",
   "execution_count": 28,
   "id": "100cff73",
   "metadata": {},
   "outputs": [
    {
     "data": {
      "text/plain": [
       "Nation\n",
       "United States    8\n",
       "Russia           5\n",
       "China            5\n",
       "Great Britain    4\n",
       "Italy            3\n",
       "Japan            3\n",
       "Australia        2\n",
       "France           1\n",
       "Hungary          1\n",
       "Netherlands      1\n",
       "Belgium          1\n",
       "Algeria          1\n",
       "Canada           1\n",
       "Name: count, dtype: int64"
      ]
     },
     "execution_count": 28,
     "metadata": {},
     "output_type": "execute_result"
    }
   ],
   "source": [
    "df[\"Nation\"].value_counts()"
   ]
  },
  {
   "cell_type": "code",
   "execution_count": 29,
   "id": "2f4b70dc",
   "metadata": {},
   "outputs": [
    {
     "data": {
      "text/plain": [
       "36"
      ]
     },
     "execution_count": 29,
     "metadata": {},
     "output_type": "execute_result"
    }
   ],
   "source": [
    "df[\"Athlete\"].nunique()"
   ]
  },
  {
   "cell_type": "code",
   "execution_count": 30,
   "id": "3ada6be7",
   "metadata": {},
   "outputs": [],
   "source": [
    "bb = pd.read_csv(\"best_BB2023.csv\")"
   ]
  },
  {
   "cell_type": "code",
   "execution_count": 31,
   "id": "ff451ebd",
   "metadata": {},
   "outputs": [
    {
     "data": {
      "text/html": [
       "<div>\n",
       "<style scoped>\n",
       "    .dataframe tbody tr th:only-of-type {\n",
       "        vertical-align: middle;\n",
       "    }\n",
       "\n",
       "    .dataframe tbody tr th {\n",
       "        vertical-align: top;\n",
       "    }\n",
       "\n",
       "    .dataframe thead th {\n",
       "        text-align: right;\n",
       "    }\n",
       "</style>\n",
       "<table border=\"1\" class=\"dataframe\">\n",
       "  <thead>\n",
       "    <tr style=\"text-align: right;\">\n",
       "      <th></th>\n",
       "      <th>Rank</th>\n",
       "      <th>Athlete</th>\n",
       "      <th>Nation</th>\n",
       "      <th>Meet</th>\n",
       "      <th>Score</th>\n",
       "    </tr>\n",
       "  </thead>\n",
       "  <tbody>\n",
       "    <tr>\n",
       "      <th>0</th>\n",
       "      <td>1</td>\n",
       "      <td>Qiu Qiyuan</td>\n",
       "      <td>China</td>\n",
       "      <td>Chinese Championships EF</td>\n",
       "      <td>14.900</td>\n",
       "    </tr>\n",
       "    <tr>\n",
       "      <th>1</th>\n",
       "      <td>1</td>\n",
       "      <td>Angelina Melnikova</td>\n",
       "      <td>Russia</td>\n",
       "      <td>Russian Championships AA</td>\n",
       "      <td>14.900</td>\n",
       "    </tr>\n",
       "    <tr>\n",
       "      <th>2</th>\n",
       "      <td>1</td>\n",
       "      <td>Zlata Osokina*</td>\n",
       "      <td>Russia</td>\n",
       "      <td>Russian Junior Championships AA</td>\n",
       "      <td>14.900</td>\n",
       "    </tr>\n",
       "    <tr>\n",
       "      <th>3</th>\n",
       "      <td>4</td>\n",
       "      <td>Zhang Qingying</td>\n",
       "      <td>China</td>\n",
       "      <td>Asian Championships AA</td>\n",
       "      <td>14.833</td>\n",
       "    </tr>\n",
       "    <tr>\n",
       "      <th>4</th>\n",
       "      <td>5</td>\n",
       "      <td>Simone Biles</td>\n",
       "      <td>United States</td>\n",
       "      <td>U.S. Classic</td>\n",
       "      <td>14.800</td>\n",
       "    </tr>\n",
       "    <tr>\n",
       "      <th>5</th>\n",
       "      <td>6</td>\n",
       "      <td>Ekaterina Andreeva*</td>\n",
       "      <td>Russia</td>\n",
       "      <td>Russian Junior Championships AA</td>\n",
       "      <td>14.600</td>\n",
       "    </tr>\n",
       "    <tr>\n",
       "      <th>6</th>\n",
       "      <td>7</td>\n",
       "      <td>Yana Vorona</td>\n",
       "      <td>Russia</td>\n",
       "      <td>Russian Championships EF</td>\n",
       "      <td>14.500</td>\n",
       "    </tr>\n",
       "    <tr>\n",
       "      <th>7</th>\n",
       "      <td>7</td>\n",
       "      <td>Sunisa Lee</td>\n",
       "      <td>United States</td>\n",
       "      <td>U.S. Classic</td>\n",
       "      <td>14.500</td>\n",
       "    </tr>\n",
       "    <tr>\n",
       "      <th>8</th>\n",
       "      <td>9</td>\n",
       "      <td>Marine Boyer</td>\n",
       "      <td>France</td>\n",
       "      <td>French Championships EF</td>\n",
       "      <td>14.450</td>\n",
       "    </tr>\n",
       "    <tr>\n",
       "      <th>9</th>\n",
       "      <td>10</td>\n",
       "      <td>Alyona Glotova</td>\n",
       "      <td>Russia</td>\n",
       "      <td>Russian Championships QF</td>\n",
       "      <td>14.433</td>\n",
       "    </tr>\n",
       "  </tbody>\n",
       "</table>\n",
       "</div>"
      ],
      "text/plain": [
       "   Rank              Athlete         Nation                             Meet  \\\n",
       "0     1           Qiu Qiyuan          China         Chinese Championships EF   \n",
       "1     1   Angelina Melnikova         Russia         Russian Championships AA   \n",
       "2     1       Zlata Osokina*         Russia  Russian Junior Championships AA   \n",
       "3     4       Zhang Qingying          China           Asian Championships AA   \n",
       "4     5         Simone Biles  United States                     U.S. Classic   \n",
       "5     6  Ekaterina Andreeva*         Russia  Russian Junior Championships AA   \n",
       "6     7          Yana Vorona         Russia         Russian Championships EF   \n",
       "7     7           Sunisa Lee  United States                     U.S. Classic   \n",
       "8     9         Marine Boyer         France          French Championships EF   \n",
       "9    10       Alyona Glotova         Russia         Russian Championships QF   \n",
       "\n",
       "    Score  \n",
       "0  14.900  \n",
       "1  14.900  \n",
       "2  14.900  \n",
       "3  14.833  \n",
       "4  14.800  \n",
       "5  14.600  \n",
       "6  14.500  \n",
       "7  14.500  \n",
       "8  14.450  \n",
       "9  14.433  "
      ]
     },
     "execution_count": 31,
     "metadata": {},
     "output_type": "execute_result"
    }
   ],
   "source": [
    "bb"
   ]
  },
  {
   "cell_type": "code",
   "execution_count": 32,
   "id": "c5f5d1de",
   "metadata": {},
   "outputs": [],
   "source": [
    "bb = bb[~bb[\"Athlete\"].str.contains(r'\\*')]"
   ]
  },
  {
   "cell_type": "code",
   "execution_count": 33,
   "id": "5c18d26b",
   "metadata": {},
   "outputs": [
    {
     "data": {
      "text/html": [
       "<div>\n",
       "<style scoped>\n",
       "    .dataframe tbody tr th:only-of-type {\n",
       "        vertical-align: middle;\n",
       "    }\n",
       "\n",
       "    .dataframe tbody tr th {\n",
       "        vertical-align: top;\n",
       "    }\n",
       "\n",
       "    .dataframe thead th {\n",
       "        text-align: right;\n",
       "    }\n",
       "</style>\n",
       "<table border=\"1\" class=\"dataframe\">\n",
       "  <thead>\n",
       "    <tr style=\"text-align: right;\">\n",
       "      <th></th>\n",
       "      <th>Rank</th>\n",
       "      <th>Athlete</th>\n",
       "      <th>Nation</th>\n",
       "      <th>Meet</th>\n",
       "      <th>Score</th>\n",
       "    </tr>\n",
       "  </thead>\n",
       "  <tbody>\n",
       "    <tr>\n",
       "      <th>0</th>\n",
       "      <td>1</td>\n",
       "      <td>Qiu Qiyuan</td>\n",
       "      <td>China</td>\n",
       "      <td>Chinese Championships EF</td>\n",
       "      <td>14.900</td>\n",
       "    </tr>\n",
       "    <tr>\n",
       "      <th>1</th>\n",
       "      <td>1</td>\n",
       "      <td>Angelina Melnikova</td>\n",
       "      <td>Russia</td>\n",
       "      <td>Russian Championships AA</td>\n",
       "      <td>14.900</td>\n",
       "    </tr>\n",
       "    <tr>\n",
       "      <th>3</th>\n",
       "      <td>4</td>\n",
       "      <td>Zhang Qingying</td>\n",
       "      <td>China</td>\n",
       "      <td>Asian Championships AA</td>\n",
       "      <td>14.833</td>\n",
       "    </tr>\n",
       "    <tr>\n",
       "      <th>4</th>\n",
       "      <td>5</td>\n",
       "      <td>Simone Biles</td>\n",
       "      <td>United States</td>\n",
       "      <td>U.S. Classic</td>\n",
       "      <td>14.800</td>\n",
       "    </tr>\n",
       "    <tr>\n",
       "      <th>6</th>\n",
       "      <td>7</td>\n",
       "      <td>Yana Vorona</td>\n",
       "      <td>Russia</td>\n",
       "      <td>Russian Championships EF</td>\n",
       "      <td>14.500</td>\n",
       "    </tr>\n",
       "    <tr>\n",
       "      <th>7</th>\n",
       "      <td>7</td>\n",
       "      <td>Sunisa Lee</td>\n",
       "      <td>United States</td>\n",
       "      <td>U.S. Classic</td>\n",
       "      <td>14.500</td>\n",
       "    </tr>\n",
       "    <tr>\n",
       "      <th>8</th>\n",
       "      <td>9</td>\n",
       "      <td>Marine Boyer</td>\n",
       "      <td>France</td>\n",
       "      <td>French Championships EF</td>\n",
       "      <td>14.450</td>\n",
       "    </tr>\n",
       "    <tr>\n",
       "      <th>9</th>\n",
       "      <td>10</td>\n",
       "      <td>Alyona Glotova</td>\n",
       "      <td>Russia</td>\n",
       "      <td>Russian Championships QF</td>\n",
       "      <td>14.433</td>\n",
       "    </tr>\n",
       "  </tbody>\n",
       "</table>\n",
       "</div>"
      ],
      "text/plain": [
       "   Rank             Athlete         Nation                      Meet   Score\n",
       "0     1          Qiu Qiyuan          China  Chinese Championships EF  14.900\n",
       "1     1  Angelina Melnikova         Russia  Russian Championships AA  14.900\n",
       "3     4      Zhang Qingying          China    Asian Championships AA  14.833\n",
       "4     5        Simone Biles  United States              U.S. Classic  14.800\n",
       "6     7         Yana Vorona         Russia  Russian Championships EF  14.500\n",
       "7     7          Sunisa Lee  United States              U.S. Classic  14.500\n",
       "8     9        Marine Boyer         France   French Championships EF  14.450\n",
       "9    10      Alyona Glotova         Russia  Russian Championships QF  14.433"
      ]
     },
     "execution_count": 33,
     "metadata": {},
     "output_type": "execute_result"
    }
   ],
   "source": [
    "bb"
   ]
  },
  {
   "cell_type": "code",
   "execution_count": 34,
   "id": "204065f4",
   "metadata": {},
   "outputs": [
    {
     "data": {
      "text/plain": [
       "Nation\n",
       "Russia           3\n",
       "China            2\n",
       "United States    2\n",
       "France           1\n",
       "Name: count, dtype: int64"
      ]
     },
     "execution_count": 34,
     "metadata": {},
     "output_type": "execute_result"
    }
   ],
   "source": [
    "bb[\"Nation\"].value_counts()"
   ]
  },
  {
   "cell_type": "code",
   "execution_count": 35,
   "id": "29fc95c5",
   "metadata": {},
   "outputs": [],
   "source": [
    "floor = pd.read_csv(\"best_floor2023.csv\")"
   ]
  },
  {
   "cell_type": "code",
   "execution_count": 36,
   "id": "ac01eb9d",
   "metadata": {},
   "outputs": [
    {
     "data": {
      "text/html": [
       "<div>\n",
       "<style scoped>\n",
       "    .dataframe tbody tr th:only-of-type {\n",
       "        vertical-align: middle;\n",
       "    }\n",
       "\n",
       "    .dataframe tbody tr th {\n",
       "        vertical-align: top;\n",
       "    }\n",
       "\n",
       "    .dataframe thead th {\n",
       "        text-align: right;\n",
       "    }\n",
       "</style>\n",
       "<table border=\"1\" class=\"dataframe\">\n",
       "  <thead>\n",
       "    <tr style=\"text-align: right;\">\n",
       "      <th></th>\n",
       "      <th>Rank</th>\n",
       "      <th>Athlete</th>\n",
       "      <th>Nation</th>\n",
       "      <th>Meet</th>\n",
       "      <th>Score</th>\n",
       "    </tr>\n",
       "  </thead>\n",
       "  <tbody>\n",
       "    <tr>\n",
       "      <th>0</th>\n",
       "      <td>1</td>\n",
       "      <td>Viktoria Listunova</td>\n",
       "      <td>Russia</td>\n",
       "      <td>Russian Championships EF</td>\n",
       "      <td>15.100</td>\n",
       "    </tr>\n",
       "    <tr>\n",
       "      <th>1</th>\n",
       "      <td>2</td>\n",
       "      <td>Simone Biles</td>\n",
       "      <td>United States</td>\n",
       "      <td>U.S. Classic</td>\n",
       "      <td>14.900</td>\n",
       "    </tr>\n",
       "    <tr>\n",
       "      <th>2</th>\n",
       "      <td>3</td>\n",
       "      <td>Angelina Melnikova</td>\n",
       "      <td>Russia</td>\n",
       "      <td>Russian Championships AA</td>\n",
       "      <td>14.766</td>\n",
       "    </tr>\n",
       "    <tr>\n",
       "      <th>3</th>\n",
       "      <td>4</td>\n",
       "      <td>Alice D’Amato</td>\n",
       "      <td>Italy</td>\n",
       "      <td>3rd Italian Serie A</td>\n",
       "      <td>14.400</td>\n",
       "    </tr>\n",
       "    <tr>\n",
       "      <th>4</th>\n",
       "      <td>5</td>\n",
       "      <td>Joscelyn Roberson</td>\n",
       "      <td>United States</td>\n",
       "      <td>DTB Pokal Team Challenge AA</td>\n",
       "      <td>14.150</td>\n",
       "    </tr>\n",
       "    <tr>\n",
       "      <th>5</th>\n",
       "      <td>6</td>\n",
       "      <td>Kaliya Lincoln</td>\n",
       "      <td>United States</td>\n",
       "      <td>Las Vegas National Qualifier</td>\n",
       "      <td>14.100</td>\n",
       "    </tr>\n",
       "    <tr>\n",
       "      <th>6</th>\n",
       "      <td>7</td>\n",
       "      <td>Manila Esposito</td>\n",
       "      <td>Italy</td>\n",
       "      <td>Italian Serie A Final Six TF</td>\n",
       "      <td>14.050</td>\n",
       "    </tr>\n",
       "    <tr>\n",
       "      <th>7</th>\n",
       "      <td>8</td>\n",
       "      <td>Jessica Gadirova</td>\n",
       "      <td>Great Britain</td>\n",
       "      <td>European Championships EF</td>\n",
       "      <td>14.000</td>\n",
       "    </tr>\n",
       "    <tr>\n",
       "      <th>8</th>\n",
       "      <td>8</td>\n",
       "      <td>Ou Yushan</td>\n",
       "      <td>China</td>\n",
       "      <td>Chinese Championships TF</td>\n",
       "      <td>14.000</td>\n",
       "    </tr>\n",
       "    <tr>\n",
       "      <th>9</th>\n",
       "      <td>10</td>\n",
       "      <td>Lyudmila Roshchina*</td>\n",
       "      <td>Russia</td>\n",
       "      <td>Russian Junior Championships QF</td>\n",
       "      <td>13.966</td>\n",
       "    </tr>\n",
       "  </tbody>\n",
       "</table>\n",
       "</div>"
      ],
      "text/plain": [
       "   Rank              Athlete         Nation                             Meet  \\\n",
       "0     1   Viktoria Listunova         Russia         Russian Championships EF   \n",
       "1     2         Simone Biles  United States                     U.S. Classic   \n",
       "2     3   Angelina Melnikova         Russia         Russian Championships AA   \n",
       "3     4        Alice D’Amato          Italy              3rd Italian Serie A   \n",
       "4     5    Joscelyn Roberson  United States      DTB Pokal Team Challenge AA   \n",
       "5     6       Kaliya Lincoln  United States     Las Vegas National Qualifier   \n",
       "6     7      Manila Esposito          Italy     Italian Serie A Final Six TF   \n",
       "7     8     Jessica Gadirova  Great Britain        European Championships EF   \n",
       "8     8            Ou Yushan          China         Chinese Championships TF   \n",
       "9    10  Lyudmila Roshchina*         Russia  Russian Junior Championships QF   \n",
       "\n",
       "    Score  \n",
       "0  15.100  \n",
       "1  14.900  \n",
       "2  14.766  \n",
       "3  14.400  \n",
       "4  14.150  \n",
       "5  14.100  \n",
       "6  14.050  \n",
       "7  14.000  \n",
       "8  14.000  \n",
       "9  13.966  "
      ]
     },
     "execution_count": 36,
     "metadata": {},
     "output_type": "execute_result"
    }
   ],
   "source": [
    "floor"
   ]
  },
  {
   "cell_type": "code",
   "execution_count": 37,
   "id": "88c4565b",
   "metadata": {},
   "outputs": [],
   "source": [
    "floor = floor[~floor[\"Athlete\"].str.contains(r'\\*')]"
   ]
  },
  {
   "cell_type": "code",
   "execution_count": 38,
   "id": "5ec125f1",
   "metadata": {},
   "outputs": [
    {
     "data": {
      "text/plain": [
       "Nation\n",
       "United States    3\n",
       "Russia           2\n",
       "Italy            2\n",
       "Great Britain    1\n",
       "China            1\n",
       "Name: count, dtype: int64"
      ]
     },
     "execution_count": 38,
     "metadata": {},
     "output_type": "execute_result"
    }
   ],
   "source": [
    "floor[\"Nation\"].value_counts()"
   ]
  },
  {
   "cell_type": "code",
   "execution_count": 39,
   "id": "4344f970",
   "metadata": {},
   "outputs": [],
   "source": [
    "vt = pd.read_csv(\"best_vault2023.csv\")"
   ]
  },
  {
   "cell_type": "code",
   "execution_count": 40,
   "id": "935bb2f5",
   "metadata": {},
   "outputs": [
    {
     "data": {
      "text/html": [
       "<div>\n",
       "<style scoped>\n",
       "    .dataframe tbody tr th:only-of-type {\n",
       "        vertical-align: middle;\n",
       "    }\n",
       "\n",
       "    .dataframe tbody tr th {\n",
       "        vertical-align: top;\n",
       "    }\n",
       "\n",
       "    .dataframe thead th {\n",
       "        text-align: right;\n",
       "    }\n",
       "</style>\n",
       "<table border=\"1\" class=\"dataframe\">\n",
       "  <thead>\n",
       "    <tr style=\"text-align: right;\">\n",
       "      <th></th>\n",
       "      <th>Rank</th>\n",
       "      <th>Athlete</th>\n",
       "      <th>Nation</th>\n",
       "      <th>Meet</th>\n",
       "      <th>Score</th>\n",
       "    </tr>\n",
       "  </thead>\n",
       "  <tbody>\n",
       "    <tr>\n",
       "      <th>0</th>\n",
       "      <td>1</td>\n",
       "      <td>Simone Biles</td>\n",
       "      <td>United States</td>\n",
       "      <td>U.S. Classic</td>\n",
       "      <td>15.200</td>\n",
       "    </tr>\n",
       "    <tr>\n",
       "      <th>1</th>\n",
       "      <td>2</td>\n",
       "      <td>Joscelyn Roberson</td>\n",
       "      <td>United States</td>\n",
       "      <td>U.S. Classic</td>\n",
       "      <td>14.650</td>\n",
       "    </tr>\n",
       "    <tr>\n",
       "      <th>2</th>\n",
       "      <td>3</td>\n",
       "      <td>Kishi Rina</td>\n",
       "      <td>Japan</td>\n",
       "      <td>All-Japan Championships AA</td>\n",
       "      <td>14.433</td>\n",
       "    </tr>\n",
       "    <tr>\n",
       "      <th>3</th>\n",
       "      <td>3</td>\n",
       "      <td>Yeo Seojeong</td>\n",
       "      <td>South Korea</td>\n",
       "      <td>Asian Championships EF</td>\n",
       "      <td>14.433</td>\n",
       "    </tr>\n",
       "    <tr>\n",
       "      <th>4</th>\n",
       "      <td>5</td>\n",
       "      <td>Coline Devillard</td>\n",
       "      <td>France</td>\n",
       "      <td>Doha World Cup EF</td>\n",
       "      <td>14.400</td>\n",
       "    </tr>\n",
       "    <tr>\n",
       "      <th>5</th>\n",
       "      <td>5</td>\n",
       "      <td>Ruby Pass</td>\n",
       "      <td>Australia</td>\n",
       "      <td>Australian Championships AA</td>\n",
       "      <td>14.400</td>\n",
       "    </tr>\n",
       "    <tr>\n",
       "      <th>6</th>\n",
       "      <td>5</td>\n",
       "      <td>Zsofia Kovacs</td>\n",
       "      <td>Hungary</td>\n",
       "      <td>Hungarian Team Championships AA</td>\n",
       "      <td>14.400</td>\n",
       "    </tr>\n",
       "    <tr>\n",
       "      <th>7</th>\n",
       "      <td>8</td>\n",
       "      <td>Alexa Moreno</td>\n",
       "      <td>Mexico</td>\n",
       "      <td>Central American &amp; Caribbean Games QF</td>\n",
       "      <td>14.350</td>\n",
       "    </tr>\n",
       "    <tr>\n",
       "      <th>8</th>\n",
       "      <td>8</td>\n",
       "      <td>Ondine Achampong</td>\n",
       "      <td>Great Britain</td>\n",
       "      <td>Welsh Championships</td>\n",
       "      <td>14.350</td>\n",
       "    </tr>\n",
       "    <tr>\n",
       "      <th>9</th>\n",
       "      <td>10</td>\n",
       "      <td>Lisa Vaelen</td>\n",
       "      <td>Belgium</td>\n",
       "      <td>European Championships AA</td>\n",
       "      <td>14.333</td>\n",
       "    </tr>\n",
       "    <tr>\n",
       "      <th>10</th>\n",
       "      <td>10</td>\n",
       "      <td>Miyata Shoko</td>\n",
       "      <td>Japan</td>\n",
       "      <td>All-Japan Championships AA</td>\n",
       "      <td>14.333</td>\n",
       "    </tr>\n",
       "  </tbody>\n",
       "</table>\n",
       "</div>"
      ],
      "text/plain": [
       "    Rank            Athlete         Nation  \\\n",
       "0      1       Simone Biles  United States   \n",
       "1      2  Joscelyn Roberson  United States   \n",
       "2      3         Kishi Rina          Japan   \n",
       "3      3       Yeo Seojeong    South Korea   \n",
       "4      5   Coline Devillard         France   \n",
       "5      5          Ruby Pass      Australia   \n",
       "6      5      Zsofia Kovacs        Hungary   \n",
       "7      8       Alexa Moreno         Mexico   \n",
       "8      8   Ondine Achampong  Great Britain   \n",
       "9     10        Lisa Vaelen        Belgium   \n",
       "10    10       Miyata Shoko          Japan   \n",
       "\n",
       "                                     Meet   Score  \n",
       "0                            U.S. Classic  15.200  \n",
       "1                            U.S. Classic  14.650  \n",
       "2              All-Japan Championships AA  14.433  \n",
       "3                  Asian Championships EF  14.433  \n",
       "4                       Doha World Cup EF  14.400  \n",
       "5             Australian Championships AA  14.400  \n",
       "6         Hungarian Team Championships AA  14.400  \n",
       "7   Central American & Caribbean Games QF  14.350  \n",
       "8                     Welsh Championships  14.350  \n",
       "9               European Championships AA  14.333  \n",
       "10             All-Japan Championships AA  14.333  "
      ]
     },
     "execution_count": 40,
     "metadata": {},
     "output_type": "execute_result"
    }
   ],
   "source": [
    "vt"
   ]
  },
  {
   "cell_type": "code",
   "execution_count": 41,
   "id": "96a8e0b0",
   "metadata": {},
   "outputs": [
    {
     "data": {
      "text/plain": [
       "Nation\n",
       "United States    2\n",
       "Japan            2\n",
       "South Korea      1\n",
       "France           1\n",
       "Australia        1\n",
       "Hungary          1\n",
       "Mexico           1\n",
       "Great Britain    1\n",
       "Belgium          1\n",
       "Name: count, dtype: int64"
      ]
     },
     "execution_count": 41,
     "metadata": {},
     "output_type": "execute_result"
    }
   ],
   "source": [
    "vt[\"Nation\"].value_counts()"
   ]
  },
  {
   "cell_type": "code",
   "execution_count": 42,
   "id": "aec519e4",
   "metadata": {},
   "outputs": [],
   "source": [
    "ub = pd.read_csv('best_UB2023.csv')"
   ]
  },
  {
   "cell_type": "code",
   "execution_count": 43,
   "id": "009aa652",
   "metadata": {},
   "outputs": [
    {
     "data": {
      "text/html": [
       "<div>\n",
       "<style scoped>\n",
       "    .dataframe tbody tr th:only-of-type {\n",
       "        vertical-align: middle;\n",
       "    }\n",
       "\n",
       "    .dataframe tbody tr th {\n",
       "        vertical-align: top;\n",
       "    }\n",
       "\n",
       "    .dataframe thead th {\n",
       "        text-align: right;\n",
       "    }\n",
       "</style>\n",
       "<table border=\"1\" class=\"dataframe\">\n",
       "  <thead>\n",
       "    <tr style=\"text-align: right;\">\n",
       "      <th></th>\n",
       "      <th>Rank</th>\n",
       "      <th>Athlete</th>\n",
       "      <th>Nation</th>\n",
       "      <th>Meet</th>\n",
       "      <th>Score</th>\n",
       "    </tr>\n",
       "  </thead>\n",
       "  <tbody>\n",
       "    <tr>\n",
       "      <th>0</th>\n",
       "      <td>1</td>\n",
       "      <td>Viktoria Listunova</td>\n",
       "      <td>Russia</td>\n",
       "      <td>Russian Championships AA</td>\n",
       "      <td>15.366</td>\n",
       "    </tr>\n",
       "    <tr>\n",
       "      <th>1</th>\n",
       "      <td>2</td>\n",
       "      <td>Kaylia Nemour</td>\n",
       "      <td>Algeria</td>\n",
       "      <td>Top 12 Finals</td>\n",
       "      <td>15.350</td>\n",
       "    </tr>\n",
       "    <tr>\n",
       "      <th>2</th>\n",
       "      <td>3</td>\n",
       "      <td>Qiu Qiyuan</td>\n",
       "      <td>China</td>\n",
       "      <td>Asian Championships AA</td>\n",
       "      <td>15.233</td>\n",
       "    </tr>\n",
       "    <tr>\n",
       "      <th>3</th>\n",
       "      <td>4</td>\n",
       "      <td>Alice D’Amato</td>\n",
       "      <td>Italy</td>\n",
       "      <td>2nd Italian Serie A</td>\n",
       "      <td>15.100</td>\n",
       "    </tr>\n",
       "    <tr>\n",
       "      <th>4</th>\n",
       "      <td>4</td>\n",
       "      <td>Ekaterina Andreeva*</td>\n",
       "      <td>Russia</td>\n",
       "      <td>Russian Junior Championships AA</td>\n",
       "      <td>15.100</td>\n",
       "    </tr>\n",
       "    <tr>\n",
       "      <th>5</th>\n",
       "      <td>6</td>\n",
       "      <td>Veranika Semenova*</td>\n",
       "      <td>Russia</td>\n",
       "      <td>Russian Junior Championships QF</td>\n",
       "      <td>15.033</td>\n",
       "    </tr>\n",
       "    <tr>\n",
       "      <th>6</th>\n",
       "      <td>7</td>\n",
       "      <td>Anastasia Iliankova</td>\n",
       "      <td>Russia</td>\n",
       "      <td>Russian Championships QF</td>\n",
       "      <td>14.900</td>\n",
       "    </tr>\n",
       "    <tr>\n",
       "      <th>7</th>\n",
       "      <td>8</td>\n",
       "      <td>Lyudmila Roshchina*</td>\n",
       "      <td>Russia</td>\n",
       "      <td>Russian Junior Championships QF</td>\n",
       "      <td>14.866</td>\n",
       "    </tr>\n",
       "    <tr>\n",
       "      <th>8</th>\n",
       "      <td>9</td>\n",
       "      <td>Zoe Miller</td>\n",
       "      <td>United States</td>\n",
       "      <td>DTB Pokal Team Challenge AA</td>\n",
       "      <td>14.850</td>\n",
       "    </tr>\n",
       "    <tr>\n",
       "      <th>9</th>\n",
       "      <td>10</td>\n",
       "      <td>Mélanie De Jesus Dos Santos</td>\n",
       "      <td>France</td>\n",
       "      <td>U.S. Classic</td>\n",
       "      <td>14.850</td>\n",
       "    </tr>\n",
       "  </tbody>\n",
       "</table>\n",
       "</div>"
      ],
      "text/plain": [
       "   Rank                      Athlete         Nation  \\\n",
       "0     1           Viktoria Listunova         Russia   \n",
       "1     2                Kaylia Nemour        Algeria   \n",
       "2     3                   Qiu Qiyuan          China   \n",
       "3     4                Alice D’Amato          Italy   \n",
       "4     4          Ekaterina Andreeva*         Russia   \n",
       "5     6           Veranika Semenova*         Russia   \n",
       "6     7          Anastasia Iliankova         Russia   \n",
       "7     8          Lyudmila Roshchina*         Russia   \n",
       "8     9                   Zoe Miller  United States   \n",
       "9    10  Mélanie De Jesus Dos Santos         France   \n",
       "\n",
       "                              Meet   Score  \n",
       "0         Russian Championships AA  15.366  \n",
       "1                    Top 12 Finals  15.350  \n",
       "2           Asian Championships AA  15.233  \n",
       "3              2nd Italian Serie A  15.100  \n",
       "4  Russian Junior Championships AA  15.100  \n",
       "5  Russian Junior Championships QF  15.033  \n",
       "6         Russian Championships QF  14.900  \n",
       "7  Russian Junior Championships QF  14.866  \n",
       "8      DTB Pokal Team Challenge AA  14.850  \n",
       "9                     U.S. Classic  14.850  "
      ]
     },
     "execution_count": 43,
     "metadata": {},
     "output_type": "execute_result"
    }
   ],
   "source": [
    "ub"
   ]
  },
  {
   "cell_type": "code",
   "execution_count": 44,
   "id": "0b92c208",
   "metadata": {},
   "outputs": [],
   "source": [
    "ub = ub[~ub[\"Athlete\"].str.contains(r'\\*')]"
   ]
  },
  {
   "cell_type": "code",
   "execution_count": 45,
   "id": "14774e6f",
   "metadata": {},
   "outputs": [
    {
     "data": {
      "text/html": [
       "<div>\n",
       "<style scoped>\n",
       "    .dataframe tbody tr th:only-of-type {\n",
       "        vertical-align: middle;\n",
       "    }\n",
       "\n",
       "    .dataframe tbody tr th {\n",
       "        vertical-align: top;\n",
       "    }\n",
       "\n",
       "    .dataframe thead th {\n",
       "        text-align: right;\n",
       "    }\n",
       "</style>\n",
       "<table border=\"1\" class=\"dataframe\">\n",
       "  <thead>\n",
       "    <tr style=\"text-align: right;\">\n",
       "      <th></th>\n",
       "      <th>Rank</th>\n",
       "      <th>Athlete</th>\n",
       "      <th>Nation</th>\n",
       "      <th>Meet</th>\n",
       "      <th>Score</th>\n",
       "    </tr>\n",
       "  </thead>\n",
       "  <tbody>\n",
       "    <tr>\n",
       "      <th>0</th>\n",
       "      <td>1</td>\n",
       "      <td>Viktoria Listunova</td>\n",
       "      <td>Russia</td>\n",
       "      <td>Russian Championships AA</td>\n",
       "      <td>15.366</td>\n",
       "    </tr>\n",
       "    <tr>\n",
       "      <th>1</th>\n",
       "      <td>2</td>\n",
       "      <td>Kaylia Nemour</td>\n",
       "      <td>Algeria</td>\n",
       "      <td>Top 12 Finals</td>\n",
       "      <td>15.350</td>\n",
       "    </tr>\n",
       "    <tr>\n",
       "      <th>2</th>\n",
       "      <td>3</td>\n",
       "      <td>Qiu Qiyuan</td>\n",
       "      <td>China</td>\n",
       "      <td>Asian Championships AA</td>\n",
       "      <td>15.233</td>\n",
       "    </tr>\n",
       "    <tr>\n",
       "      <th>3</th>\n",
       "      <td>4</td>\n",
       "      <td>Alice D’Amato</td>\n",
       "      <td>Italy</td>\n",
       "      <td>2nd Italian Serie A</td>\n",
       "      <td>15.100</td>\n",
       "    </tr>\n",
       "    <tr>\n",
       "      <th>6</th>\n",
       "      <td>7</td>\n",
       "      <td>Anastasia Iliankova</td>\n",
       "      <td>Russia</td>\n",
       "      <td>Russian Championships QF</td>\n",
       "      <td>14.900</td>\n",
       "    </tr>\n",
       "    <tr>\n",
       "      <th>8</th>\n",
       "      <td>9</td>\n",
       "      <td>Zoe Miller</td>\n",
       "      <td>United States</td>\n",
       "      <td>DTB Pokal Team Challenge AA</td>\n",
       "      <td>14.850</td>\n",
       "    </tr>\n",
       "    <tr>\n",
       "      <th>9</th>\n",
       "      <td>10</td>\n",
       "      <td>Mélanie De Jesus Dos Santos</td>\n",
       "      <td>France</td>\n",
       "      <td>U.S. Classic</td>\n",
       "      <td>14.850</td>\n",
       "    </tr>\n",
       "  </tbody>\n",
       "</table>\n",
       "</div>"
      ],
      "text/plain": [
       "   Rank                      Athlete         Nation  \\\n",
       "0     1           Viktoria Listunova         Russia   \n",
       "1     2                Kaylia Nemour        Algeria   \n",
       "2     3                   Qiu Qiyuan          China   \n",
       "3     4                Alice D’Amato          Italy   \n",
       "6     7          Anastasia Iliankova         Russia   \n",
       "8     9                   Zoe Miller  United States   \n",
       "9    10  Mélanie De Jesus Dos Santos         France   \n",
       "\n",
       "                          Meet   Score  \n",
       "0     Russian Championships AA  15.366  \n",
       "1                Top 12 Finals  15.350  \n",
       "2       Asian Championships AA  15.233  \n",
       "3          2nd Italian Serie A  15.100  \n",
       "6     Russian Championships QF  14.900  \n",
       "8  DTB Pokal Team Challenge AA  14.850  \n",
       "9                 U.S. Classic  14.850  "
      ]
     },
     "execution_count": 45,
     "metadata": {},
     "output_type": "execute_result"
    }
   ],
   "source": [
    "ub"
   ]
  },
  {
   "cell_type": "code",
   "execution_count": 46,
   "id": "1662a243",
   "metadata": {},
   "outputs": [
    {
     "data": {
      "text/plain": [
       "Nation\n",
       "Russia           2\n",
       "Algeria          1\n",
       "China            1\n",
       "Italy            1\n",
       "United States    1\n",
       "France           1\n",
       "Name: count, dtype: int64"
      ]
     },
     "execution_count": 46,
     "metadata": {},
     "output_type": "execute_result"
    }
   ],
   "source": [
    "ub[\"Nation\"].value_counts()"
   ]
  },
  {
   "cell_type": "code",
   "execution_count": 49,
   "id": "c3af0c7e",
   "metadata": {},
   "outputs": [
    {
     "data": {
      "image/png": "[encoded data removed]",
      "text/plain": [
       "<Figure size 720x432 with 1 Axes>"
      ]
     },
     "metadata": {
      "needs_background": "light"
     },
     "output_type": "display_data"
    }
   ],
   "source": [
    "# Count the number of athletes from each country\n",
    "country_counts = df['Nation'].value_counts()\n",
    "\n",
    "# Create a bar chart\n",
    "plt.figure(figsize=(10, 6))\n",
    "country_counts.plot(kind='bar')\n",
    "plt.title('Number of Athletes from Each Country')\n",
    "plt.xlabel('Country')\n",
    "plt.ylabel('Number of Athletes')\n",
    "plt.xticks(rotation=45)  # Rotate x-axis labels for better readability\n",
    "plt.show()"
   ]
  },
  {
   "cell_type": "code",
   "execution_count": 50,
   "id": "9ff95ead",
   "metadata": {},
   "outputs": [
    {
     "data": {
      "image/png": "[encoded data removed]",
      "text/plain": [
       "<Figure size 720x432 with 1 Axes>"
      ]
     },
     "metadata": {
      "needs_background": "light"
     },
     "output_type": "display_data"
    }
   ],
   "source": [
    "# Count the number of athletes from each country\n",
    "country_counts = bb['Nation'].value_counts()\n",
    "\n",
    "# Create a bar chart\n",
    "plt.figure(figsize=(10, 6))\n",
    "country_counts.plot(kind='bar')\n",
    "plt.title('Number of Athletes from Each Country')\n",
    "plt.xlabel('Country')\n",
    "plt.ylabel('Number of Athletes')\n",
    "plt.xticks(rotation=45)  # Rotate x-axis labels for better readability\n",
    "plt.show()"
   ]
  },
  {
   "cell_type": "code",
   "execution_count": 51,
   "id": "4a1f66af",
   "metadata": {},
   "outputs": [
    {
     "data": {
      "image/png": "[encoded data removed]",
      "text/plain": [
       "<Figure size 720x432 with 1 Axes>"
      ]
     },
     "metadata": {
      "needs_background": "light"
     },
     "output_type": "display_data"
    }
   ],
   "source": [
    "# Count the number of athletes from each country\n",
    "country_counts = vt['Nation'].value_counts()\n",
    "\n",
    "# Create a bar chart\n",
    "plt.figure(figsize=(10, 6))\n",
    "country_counts.plot(kind='bar')\n",
    "plt.title('Number of Athletes from Each Country')\n",
    "plt.xlabel('Country')\n",
    "plt.ylabel('Number of Athletes')\n",
    "plt.xticks(rotation=45)  # Rotate x-axis labels for better readability\n",
    "plt.show()"
   ]
  },
  {
   "cell_type": "code",
   "execution_count": 52,
   "id": "8c395c4c",
   "metadata": {},
   "outputs": [
    {
     "data": {
      "image/png": "[encoded data removed]",
      "text/plain": [
       "<Figure size 720x432 with 1 Axes>"
      ]
     },
     "metadata": {
      "needs_background": "light"
     },
     "output_type": "display_data"
    }
   ],
   "source": [
    "# Count the number of athletes from each country\n",
    "country_counts = ub['Nation'].value_counts()\n",
    "\n",
    "# Create a bar chart\n",
    "plt.figure(figsize=(10, 6))\n",
    "country_counts.plot(kind='bar')\n",
    "plt.title('Number of Athletes from Each Country')\n",
    "plt.xlabel('Country')\n",
    "plt.ylabel('Number of Athletes')\n",
    "plt.xticks(rotation=45)  # Rotate x-axis labels for better readability\n",
    "plt.show()"
   ]
  },
  {
   "cell_type": "code",
   "execution_count": 53,
   "id": "3ede0e6d",
   "metadata": {},
   "outputs": [
    {
     "data": {
      "image/png": "[encoded data removed]",
      "text/plain": [
       "<Figure size 720x432 with 1 Axes>"
      ]
     },
     "metadata": {
      "needs_background": "light"
     },
     "output_type": "display_data"
    }
   ],
   "source": [
    "# Count the number of athletes from each country\n",
    "country_counts = floor['Nation'].value_counts()\n",
    "\n",
    "# Create a bar chart\n",
    "plt.figure(figsize=(10, 6))\n",
    "country_counts.plot(kind='bar')\n",
    "plt.title('Number of Athletes from Each Country')\n",
    "plt.xlabel('Country')\n",
    "plt.ylabel('Number of Athletes')\n",
    "plt.xticks(rotation=45)  # Rotate x-axis labels for better readability\n",
    "plt.show()"
   ]
  },
  {
   "cell_type": "code",
   "execution_count": 54,
   "id": "00feda21",
   "metadata": {},
   "outputs": [
    {
     "data": {
      "text/html": [
       "<div>\n",
       "<style scoped>\n",
       "    .dataframe tbody tr th:only-of-type {\n",
       "        vertical-align: middle;\n",
       "    }\n",
       "\n",
       "    .dataframe tbody tr th {\n",
       "        vertical-align: top;\n",
       "    }\n",
       "\n",
       "    .dataframe thead th {\n",
       "        text-align: right;\n",
       "    }\n",
       "</style>\n",
       "<table border=\"1\" class=\"dataframe\">\n",
       "  <thead>\n",
       "    <tr style=\"text-align: right;\">\n",
       "      <th></th>\n",
       "      <th>Rank</th>\n",
       "      <th>Athlete</th>\n",
       "      <th>Nation</th>\n",
       "      <th>Meet</th>\n",
       "      <th>Score</th>\n",
       "    </tr>\n",
       "  </thead>\n",
       "  <tbody>\n",
       "    <tr>\n",
       "      <th>0</th>\n",
       "      <td>1</td>\n",
       "      <td>Simone Biles</td>\n",
       "      <td>United States</td>\n",
       "      <td>U.S. Classic</td>\n",
       "      <td>58.900</td>\n",
       "    </tr>\n",
       "    <tr>\n",
       "      <th>1</th>\n",
       "      <td>2</td>\n",
       "      <td>Viktoria Listunova</td>\n",
       "      <td>Russia</td>\n",
       "      <td>Russian Championships AA</td>\n",
       "      <td>58.532</td>\n",
       "    </tr>\n",
       "    <tr>\n",
       "      <th>2</th>\n",
       "      <td>3</td>\n",
       "      <td>Angelina Melnikova</td>\n",
       "      <td>Russia</td>\n",
       "      <td>Russian Championships AA</td>\n",
       "      <td>58.166</td>\n",
       "    </tr>\n",
       "    <tr>\n",
       "      <th>3</th>\n",
       "      <td>4</td>\n",
       "      <td>Mélanie De Jesus Dos Santos</td>\n",
       "      <td>France</td>\n",
       "      <td>U.S. Classic</td>\n",
       "      <td>56.200</td>\n",
       "    </tr>\n",
       "    <tr>\n",
       "      <th>6</th>\n",
       "      <td>7</td>\n",
       "      <td>Alice D’Amato</td>\n",
       "      <td>Italy</td>\n",
       "      <td>1st Italian Serie A</td>\n",
       "      <td>55.950</td>\n",
       "    </tr>\n",
       "  </tbody>\n",
       "</table>\n",
       "</div>"
      ],
      "text/plain": [
       "   Rank                      Athlete         Nation                      Meet  \\\n",
       "0     1                 Simone Biles  United States              U.S. Classic   \n",
       "1     2           Viktoria Listunova         Russia  Russian Championships AA   \n",
       "2     3           Angelina Melnikova         Russia  Russian Championships AA   \n",
       "3     4  Mélanie De Jesus Dos Santos         France              U.S. Classic   \n",
       "6     7                Alice D’Amato          Italy       1st Italian Serie A   \n",
       "\n",
       "    Score  \n",
       "0  58.900  \n",
       "1  58.532  \n",
       "2  58.166  \n",
       "3  56.200  \n",
       "6  55.950  "
      ]
     },
     "execution_count": 54,
     "metadata": {},
     "output_type": "execute_result"
    }
   ],
   "source": [
    "df.head()"
   ]
  },
  {
   "cell_type": "code",
   "execution_count": 55,
   "id": "aa9bf6e1",
   "metadata": {},
   "outputs": [
    {
     "data": {
      "text/html": [
       "<div>\n",
       "<style scoped>\n",
       "    .dataframe tbody tr th:only-of-type {\n",
       "        vertical-align: middle;\n",
       "    }\n",
       "\n",
       "    .dataframe tbody tr th {\n",
       "        vertical-align: top;\n",
       "    }\n",
       "\n",
       "    .dataframe thead th {\n",
       "        text-align: right;\n",
       "    }\n",
       "</style>\n",
       "<table border=\"1\" class=\"dataframe\">\n",
       "  <thead>\n",
       "    <tr style=\"text-align: right;\">\n",
       "      <th></th>\n",
       "      <th>Rank</th>\n",
       "      <th>Athlete</th>\n",
       "      <th>Nation</th>\n",
       "      <th>Meet</th>\n",
       "      <th>Score</th>\n",
       "    </tr>\n",
       "  </thead>\n",
       "  <tbody>\n",
       "    <tr>\n",
       "      <th>0</th>\n",
       "      <td>1</td>\n",
       "      <td>Simone Biles</td>\n",
       "      <td>United States</td>\n",
       "      <td>U.S. Classic</td>\n",
       "      <td>58.90</td>\n",
       "    </tr>\n",
       "    <tr>\n",
       "      <th>26</th>\n",
       "      <td>27</td>\n",
       "      <td>Nola Matthews</td>\n",
       "      <td>United States</td>\n",
       "      <td>U.S. Pan Ams Trials</td>\n",
       "      <td>54.20</td>\n",
       "    </tr>\n",
       "    <tr>\n",
       "      <th>30</th>\n",
       "      <td>31</td>\n",
       "      <td>Joscelyn Roberson</td>\n",
       "      <td>United States</td>\n",
       "      <td>July National Team Camp</td>\n",
       "      <td>54.15</td>\n",
       "    </tr>\n",
       "    <tr>\n",
       "      <th>31</th>\n",
       "      <td>31</td>\n",
       "      <td>Marissa Neal</td>\n",
       "      <td>United States</td>\n",
       "      <td>Parkettes National Qualifier</td>\n",
       "      <td>54.15</td>\n",
       "    </tr>\n",
       "    <tr>\n",
       "      <th>32</th>\n",
       "      <td>33</td>\n",
       "      <td>Leanne Wong</td>\n",
       "      <td>United States</td>\n",
       "      <td>U.S. Classic</td>\n",
       "      <td>54.10</td>\n",
       "    </tr>\n",
       "    <tr>\n",
       "      <th>37</th>\n",
       "      <td>38</td>\n",
       "      <td>Zoe Miller</td>\n",
       "      <td>United States</td>\n",
       "      <td>U.S. Pan Ams Trials</td>\n",
       "      <td>53.95</td>\n",
       "    </tr>\n",
       "    <tr>\n",
       "      <th>39</th>\n",
       "      <td>40</td>\n",
       "      <td>Tiana Sumanasekera</td>\n",
       "      <td>United States</td>\n",
       "      <td>Pan American Championships AA</td>\n",
       "      <td>53.90</td>\n",
       "    </tr>\n",
       "    <tr>\n",
       "      <th>44</th>\n",
       "      <td>45</td>\n",
       "      <td>Addison Fatta</td>\n",
       "      <td>United States</td>\n",
       "      <td>U.S. Pan Ams Trials</td>\n",
       "      <td>53.70</td>\n",
       "    </tr>\n",
       "  </tbody>\n",
       "</table>\n",
       "</div>"
      ],
      "text/plain": [
       "    Rank             Athlete         Nation                           Meet  \\\n",
       "0      1        Simone Biles  United States                   U.S. Classic   \n",
       "26    27       Nola Matthews  United States            U.S. Pan Ams Trials   \n",
       "30    31   Joscelyn Roberson  United States        July National Team Camp   \n",
       "31    31        Marissa Neal  United States   Parkettes National Qualifier   \n",
       "32    33         Leanne Wong  United States                   U.S. Classic   \n",
       "37    38          Zoe Miller  United States            U.S. Pan Ams Trials   \n",
       "39    40  Tiana Sumanasekera  United States  Pan American Championships AA   \n",
       "44    45       Addison Fatta  United States            U.S. Pan Ams Trials   \n",
       "\n",
       "    Score  \n",
       "0   58.90  \n",
       "26  54.20  \n",
       "30  54.15  \n",
       "31  54.15  \n",
       "32  54.10  \n",
       "37  53.95  \n",
       "39  53.90  \n",
       "44  53.70  "
      ]
     },
     "execution_count": 55,
     "metadata": {},
     "output_type": "execute_result"
    }
   ],
   "source": [
    "df[df[\"Nation\"] == \"United States\"]"
   ]
  },
  {
   "cell_type": "code",
   "execution_count": 56,
   "id": "a3e35195",
   "metadata": {},
   "outputs": [
    {
     "data": {
      "text/html": [
       "<div>\n",
       "<style scoped>\n",
       "    .dataframe tbody tr th:only-of-type {\n",
       "        vertical-align: middle;\n",
       "    }\n",
       "\n",
       "    .dataframe tbody tr th {\n",
       "        vertical-align: top;\n",
       "    }\n",
       "\n",
       "    .dataframe thead th {\n",
       "        text-align: right;\n",
       "    }\n",
       "</style>\n",
       "<table border=\"1\" class=\"dataframe\">\n",
       "  <thead>\n",
       "    <tr style=\"text-align: right;\">\n",
       "      <th></th>\n",
       "      <th>Rank</th>\n",
       "      <th>Athlete</th>\n",
       "      <th>Nation</th>\n",
       "      <th>Meet</th>\n",
       "      <th>Score</th>\n",
       "    </tr>\n",
       "  </thead>\n",
       "  <tbody>\n",
       "    <tr>\n",
       "      <th>4</th>\n",
       "      <td>5</td>\n",
       "      <td>Simone Biles</td>\n",
       "      <td>United States</td>\n",
       "      <td>U.S. Classic</td>\n",
       "      <td>14.8</td>\n",
       "    </tr>\n",
       "    <tr>\n",
       "      <th>7</th>\n",
       "      <td>7</td>\n",
       "      <td>Sunisa Lee</td>\n",
       "      <td>United States</td>\n",
       "      <td>U.S. Classic</td>\n",
       "      <td>14.5</td>\n",
       "    </tr>\n",
       "  </tbody>\n",
       "</table>\n",
       "</div>"
      ],
      "text/plain": [
       "   Rank       Athlete         Nation          Meet  Score\n",
       "4     5  Simone Biles  United States  U.S. Classic   14.8\n",
       "7     7    Sunisa Lee  United States  U.S. Classic   14.5"
      ]
     },
     "execution_count": 56,
     "metadata": {},
     "output_type": "execute_result"
    }
   ],
   "source": [
    "bb[bb[\"Nation\"] == \"United States\"]"
   ]
  },
  {
   "cell_type": "code",
   "execution_count": 57,
   "id": "b9b26cf3",
   "metadata": {},
   "outputs": [
    {
     "data": {
      "text/html": [
       "<div>\n",
       "<style scoped>\n",
       "    .dataframe tbody tr th:only-of-type {\n",
       "        vertical-align: middle;\n",
       "    }\n",
       "\n",
       "    .dataframe tbody tr th {\n",
       "        vertical-align: top;\n",
       "    }\n",
       "\n",
       "    .dataframe thead th {\n",
       "        text-align: right;\n",
       "    }\n",
       "</style>\n",
       "<table border=\"1\" class=\"dataframe\">\n",
       "  <thead>\n",
       "    <tr style=\"text-align: right;\">\n",
       "      <th></th>\n",
       "      <th>Rank</th>\n",
       "      <th>Athlete</th>\n",
       "      <th>Nation</th>\n",
       "      <th>Meet</th>\n",
       "      <th>Score</th>\n",
       "    </tr>\n",
       "  </thead>\n",
       "  <tbody>\n",
       "    <tr>\n",
       "      <th>0</th>\n",
       "      <td>1</td>\n",
       "      <td>Simone Biles</td>\n",
       "      <td>United States</td>\n",
       "      <td>U.S. Classic</td>\n",
       "      <td>15.20</td>\n",
       "    </tr>\n",
       "    <tr>\n",
       "      <th>1</th>\n",
       "      <td>2</td>\n",
       "      <td>Joscelyn Roberson</td>\n",
       "      <td>United States</td>\n",
       "      <td>U.S. Classic</td>\n",
       "      <td>14.65</td>\n",
       "    </tr>\n",
       "  </tbody>\n",
       "</table>\n",
       "</div>"
      ],
      "text/plain": [
       "   Rank            Athlete         Nation          Meet  Score\n",
       "0     1       Simone Biles  United States  U.S. Classic  15.20\n",
       "1     2  Joscelyn Roberson  United States  U.S. Classic  14.65"
      ]
     },
     "execution_count": 57,
     "metadata": {},
     "output_type": "execute_result"
    }
   ],
   "source": [
    "vt[vt[\"Nation\"] == \"United States\"]"
   ]
  },
  {
   "cell_type": "code",
   "execution_count": 58,
   "id": "92083ca6",
   "metadata": {},
   "outputs": [
    {
     "data": {
      "text/html": [
       "<div>\n",
       "<style scoped>\n",
       "    .dataframe tbody tr th:only-of-type {\n",
       "        vertical-align: middle;\n",
       "    }\n",
       "\n",
       "    .dataframe tbody tr th {\n",
       "        vertical-align: top;\n",
       "    }\n",
       "\n",
       "    .dataframe thead th {\n",
       "        text-align: right;\n",
       "    }\n",
       "</style>\n",
       "<table border=\"1\" class=\"dataframe\">\n",
       "  <thead>\n",
       "    <tr style=\"text-align: right;\">\n",
       "      <th></th>\n",
       "      <th>Rank</th>\n",
       "      <th>Athlete</th>\n",
       "      <th>Nation</th>\n",
       "      <th>Meet</th>\n",
       "      <th>Score</th>\n",
       "    </tr>\n",
       "  </thead>\n",
       "  <tbody>\n",
       "    <tr>\n",
       "      <th>8</th>\n",
       "      <td>9</td>\n",
       "      <td>Zoe Miller</td>\n",
       "      <td>United States</td>\n",
       "      <td>DTB Pokal Team Challenge AA</td>\n",
       "      <td>14.85</td>\n",
       "    </tr>\n",
       "  </tbody>\n",
       "</table>\n",
       "</div>"
      ],
      "text/plain": [
       "   Rank     Athlete         Nation                         Meet  Score\n",
       "8     9  Zoe Miller  United States  DTB Pokal Team Challenge AA  14.85"
      ]
     },
     "execution_count": 58,
     "metadata": {},
     "output_type": "execute_result"
    }
   ],
   "source": [
    "ub[ub[\"Nation\"] == \"United States\"]"
   ]
  },
  {
   "cell_type": "code",
   "execution_count": 59,
   "id": "c6f143c3",
   "metadata": {},
   "outputs": [
    {
     "data": {
      "text/html": [
       "<div>\n",
       "<style scoped>\n",
       "    .dataframe tbody tr th:only-of-type {\n",
       "        vertical-align: middle;\n",
       "    }\n",
       "\n",
       "    .dataframe tbody tr th {\n",
       "        vertical-align: top;\n",
       "    }\n",
       "\n",
       "    .dataframe thead th {\n",
       "        text-align: right;\n",
       "    }\n",
       "</style>\n",
       "<table border=\"1\" class=\"dataframe\">\n",
       "  <thead>\n",
       "    <tr style=\"text-align: right;\">\n",
       "      <th></th>\n",
       "      <th>Rank</th>\n",
       "      <th>Athlete</th>\n",
       "      <th>Nation</th>\n",
       "      <th>Meet</th>\n",
       "      <th>Score</th>\n",
       "    </tr>\n",
       "  </thead>\n",
       "  <tbody>\n",
       "    <tr>\n",
       "      <th>1</th>\n",
       "      <td>2</td>\n",
       "      <td>Simone Biles</td>\n",
       "      <td>United States</td>\n",
       "      <td>U.S. Classic</td>\n",
       "      <td>14.90</td>\n",
       "    </tr>\n",
       "    <tr>\n",
       "      <th>4</th>\n",
       "      <td>5</td>\n",
       "      <td>Joscelyn Roberson</td>\n",
       "      <td>United States</td>\n",
       "      <td>DTB Pokal Team Challenge AA</td>\n",
       "      <td>14.15</td>\n",
       "    </tr>\n",
       "    <tr>\n",
       "      <th>5</th>\n",
       "      <td>6</td>\n",
       "      <td>Kaliya Lincoln</td>\n",
       "      <td>United States</td>\n",
       "      <td>Las Vegas National Qualifier</td>\n",
       "      <td>14.10</td>\n",
       "    </tr>\n",
       "  </tbody>\n",
       "</table>\n",
       "</div>"
      ],
      "text/plain": [
       "   Rank            Athlete         Nation                          Meet  Score\n",
       "1     2       Simone Biles  United States                  U.S. Classic  14.90\n",
       "4     5  Joscelyn Roberson  United States   DTB Pokal Team Challenge AA  14.15\n",
       "5     6     Kaliya Lincoln  United States  Las Vegas National Qualifier  14.10"
      ]
     },
     "execution_count": 59,
     "metadata": {},
     "output_type": "execute_result"
    }
   ],
   "source": [
    "floor[floor[\"Nation\"] == \"United States\"]"
   ]
  },
  {
   "cell_type": "code",
   "execution_count": null,
   "id": "46e3cffd",
   "metadata": {},
   "outputs": [],
   "source": []
  }
 ],
 "metadata": {
  "kernelspec": {
   "display_name": "Python 3 (ipykernel)",
   "language": "python",
   "name": "python3"
  },
  "language_info": {
   "codemirror_mode": {
    "name": "ipython",
    "version": 3
   },
   "file_extension": ".py",
   "mimetype": "text/x-python",
   "name": "python",
   "nbconvert_exporter": "python",
   "pygments_lexer": "ipython3",
   "version": "3.9.12"
  }
 },
 "nbformat": 4,
 "nbformat_minor": 5
}
