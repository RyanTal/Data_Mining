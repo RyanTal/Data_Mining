{
 "cells": [
  {
   "cell_type": "markdown",
   "id": "26c1a778-3b35-4364-89f4-5b8deac766db",
   "metadata": {},
   "source": [
    "# Men's data hard to find for 2015 international events - even wikipedia\n"
   ]
  },
  {
   "cell_type": "markdown",
   "id": "b742a36d-70de-4f2b-b8e0-ef09d76d7acf",
   "metadata": {},
   "source": [
    "## IAA\n",
    "- Kōhei Uchimura \t Japan \n",
    "- Oleg Verniaiev \t Ukraine \t\n",
    "- Max Whitlock \t Great Britain\n",
    "\n",
    "## Vault\n",
    "- Ri Se-gwang \t North Korea \t\n",
    "- Denis Ablyazin \t Russia \t\n",
    "- Kenzō Shirai \t Japan\n",
    "\n",
    "## Floor\n",
    "-  Max Whitlock (GBR) \t\n",
    "- Diego Hypólito (BRA) \t\n",
    "- Arthur Mariano (BRA)\n",
    "\n",
    "## pommel horse\n",
    "- Max Whitlock \t Great Britain \n",
    "- Louis Smith \t Great Britain \t\n",
    "- Alexander Naddour\n",
    "\n",
    "## rings\n",
    "- Eleftherios Petrounias Greece\n",
    "- Arthur Zanetti Brazil\n",
    "- Denis Ablyazin Russia\n",
    "\n",
    "## parallel bars\n",
    "- Oleg Verniaiev\t Ukraine\n",
    "- Danell Leyva\t United States\n",
    "- David Belyavskiy\t Russia\n",
    "\n",
    "## horizontal bar\n",
    "- Fabian Hambüchen Germany\n",
    "- Danell Leyva United States\n",
    "- Nile Wilson Great Britain"
   ]
  },
  {
   "cell_type": "code",
   "execution_count": null,
   "id": "d2c2ecf7-f9b8-470a-8c4c-efbe7e550374",
   "metadata": {},
   "outputs": [],
   "source": []
  }
 ],
 "metadata": {
  "kernelspec": {
   "display_name": "Python 3 (ipykernel)",
   "language": "python",
   "name": "python3"
  },
  "language_info": {
   "codemirror_mode": {
    "name": "ipython",
    "version": 3
   },
   "file_extension": ".py",
   "mimetype": "text/x-python",
   "name": "python",
   "nbconvert_exporter": "python",
   "pygments_lexer": "ipython3",
   "version": "3.8.18"
  }
 },
 "nbformat": 4,
 "nbformat_minor": 5
}
