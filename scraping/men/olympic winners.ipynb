{
 "cells": [
  {
   "cell_type": "markdown",
   "id": "de616b7e",
   "metadata": {},
   "source": [
    "# 2020 Olympic Games Men’s Results\n",
    "\n",
    "\n",
    "Floor Final Results:\n",
    "1. Artem Dolgopyat \n",
    "2. Rayderley Zapata \t\n",
    "3. Xiao Ruoteng\n",
    "\n",
    "Pommel Horse Final Results:\n",
    "1. Max Whitlock \n",
    "2. Lee Chih-Kai \t\n",
    "3. Kaya Kazuma \t\n",
    "\n",
    "Rings Final Results\n",
    "1. Liu Yang \tChina \t\n",
    "2. You Hao \tChina \t\n",
    "3. Eleftherios Petrounias \tGreece\n",
    "\n",
    "Vault Final Results:\n",
    "1. Shin Jea-hwan \tSouth Korea\n",
    "2. Denis Abliazin \tRussia \n",
    "3. Artur Davtyan \tArmenia\n",
    "\n",
    "Parallel Bars Final Results:\n",
    "1. Zou Jingyuan \tChina \t\n",
    "2. Lukas Dauser \tGermany \n",
    "3. Ferhat Arican \tTurkey\n",
    "\n",
    "High Bar Final Results\n",
    "1. Hashimoto Daiki \tJapan \t\n",
    "2. Tin Srbic \tCroatia \t\n",
    "3. Nikita Nagornyy \tRussia\n",
    "\n",
    "Team Final Results\n",
    "1. RUSSIA\n",
    "2. JAPAN\n",
    "3. CHINA\n",
    "\n",
    "All-Around Final Results:\n",
    "1. Hashimoto Daiki\n",
    "2. Xiao Ruoteng\n",
    "3. Nikita Nagornyy"
   ]
  },
  {
   "cell_type": "markdown",
   "id": "25d6c7c4",
   "metadata": {},
   "source": []
  }
 ],
 "metadata": {
  "kernelspec": {
   "display_name": "Python 3 (ipykernel)",
   "language": "python",
   "name": "python3"
  },
  "language_info": {
   "codemirror_mode": {
    "name": "ipython",
    "version": 3
   },
   "file_extension": ".py",
   "mimetype": "text/x-python",
   "name": "python",
   "nbconvert_exporter": "python",
   "pygments_lexer": "ipython3",
   "version": "3.9.12"
  }
 },
 "nbformat": 4,
 "nbformat_minor": 5
}
