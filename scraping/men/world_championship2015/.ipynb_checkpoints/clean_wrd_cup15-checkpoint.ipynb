{
 "cells": [
  {
   "cell_type": "code",
   "execution_count": 33,
   "id": "89b4f9ae-b596-4391-8f1b-0089b8bbc6f8",
   "metadata": {},
   "outputs": [],
   "source": [
    "import pandas as pd"
   ]
  },
  {
   "cell_type": "code",
   "execution_count": 34,
   "id": "b2362fad-6718-44e1-a630-21b136230c36",
   "metadata": {},
   "outputs": [],
   "source": [
    "fx=pd.read_csv('wrld15champ_fx.csv')\n",
    "hb=pd.read_csv('wrld15champ_hb.csv')\n",
    "pb=pd.read_csv('wrld15champ_pb.csv')\n",
    "ph=pd.read_csv('wrld15champ_ph.csv')\n",
    "sr=pd.read_csv('wrld15champ_sr.csv')\n",
    "vt=pd.read_csv('wrld15champ_vt.csv')\n"
   ]
  },
  {
   "cell_type": "code",
   "execution_count": 35,
   "id": "bb56fb6b-0c25-43df-a6c2-2ddae63c2aff",
   "metadata": {},
   "outputs": [
    {
     "data": {
      "text/plain": [
       "Index(['Rank', 'NOC', 'D', 'E', 'Pen.', 'Total', 'Name'], dtype='object')"
      ]
     },
     "execution_count": 35,
     "metadata": {},
     "output_type": "execute_result"
    }
   ],
   "source": [
    "fx.columns"
   ]
  },
  {
   "cell_type": "code",
   "execution_count": 36,
   "id": "09304849-a206-445f-8aef-aad6c94a0876",
   "metadata": {},
   "outputs": [],
   "source": [
    "new_column_order = ['Name', 'Rank', 'NOC', 'D', 'E', 'Pen.', 'Total']\n",
    "fx = fx[new_column_order]"
   ]
  },
  {
   "cell_type": "code",
   "execution_count": 37,
   "id": "e188c849-45bb-48f2-937d-65de8ef2345e",
   "metadata": {},
   "outputs": [],
   "source": [
    "fx['Name']=fx['Name'].str.lower()"
   ]
  },
  {
   "cell_type": "code",
   "execution_count": 38,
   "id": "9f304702-6f4b-4160-84d2-db39096e3c00",
   "metadata": {},
   "outputs": [],
   "source": [
    "new_column_order = ['Name', 'Rank', 'NOC', 'D', 'E', 'Pen.', 'Total']\n",
    "pb = pb[new_column_order]"
   ]
  },
  {
   "cell_type": "code",
   "execution_count": 39,
   "id": "7ed47587-b392-4f15-8485-b49f13c1cbc5",
   "metadata": {},
   "outputs": [],
   "source": [
    "new_column_order = ['Name', 'Rank', 'NOC', 'D', 'E', 'Pen.', 'Total']\n",
    "ph = ph[new_column_order]"
   ]
  },
  {
   "cell_type": "code",
   "execution_count": 40,
   "id": "3232e9e8-2c6d-44d1-baff-9f4a024208bd",
   "metadata": {},
   "outputs": [],
   "source": [
    "new_column_order = ['Name', 'Rank', 'NOC', 'D', 'E', 'Pen.', 'Total']\n",
    "hb = hb[new_column_order]"
   ]
  },
  {
   "cell_type": "code",
   "execution_count": 41,
   "id": "ae3b56c6-123f-4c0d-b8a4-0657466574a2",
   "metadata": {},
   "outputs": [],
   "source": [
    "new_column_order = ['Name', 'Rank', 'NOC', 'D', 'E', 'Pen.', 'Total']\n",
    "sr = sr[new_column_order]"
   ]
  },
  {
   "cell_type": "code",
   "execution_count": 42,
   "id": "480a6ee2-0de5-49d1-9f2d-c512fecb0860",
   "metadata": {},
   "outputs": [],
   "source": [
    "new_column_order = ['Name', 'Rank', 'NOC', 'D', 'E', 'Pen.', 'Total']\n",
    "vt = vt[new_column_order]"
   ]
  },
  {
   "cell_type": "code",
   "execution_count": 43,
   "id": "438f13f3-a1ab-471b-a8fb-66549d733037",
   "metadata": {},
   "outputs": [],
   "source": [
    "pb['Name']=pb['Name'].str.lower()\n",
    "ph['Name']=ph['Name'].str.lower()\n",
    "vt['Name']=vt['Name'].str.lower()\n",
    "sr['Name']=sr['Name'].str.lower()\n",
    "hb['Name']=hb['Name'].str.lower()\n"
   ]
  },
  {
   "cell_type": "code",
   "execution_count": 44,
   "id": "65c84613-f370-42d2-bee0-87583c1c7b74",
   "metadata": {},
   "outputs": [],
   "source": [
    "fx['Total'] = fx['Total'].str[:-1]\n"
   ]
  },
  {
   "cell_type": "code",
   "execution_count": 46,
   "id": "cbd2ce2c-6556-4725-85b1-fa670e53d6b4",
   "metadata": {},
   "outputs": [],
   "source": [
    "pb['Total'] = pb['Total'].str[:-1]\n",
    "ph['Total'] = ph['Total'].str[:-1]\n",
    "vt['Total'] = vt['Total'].str[:-1]\n",
    "sr['Total'] = sr['Total'].str[:-1]\n",
    "hb['Total'] = hb['Total'].str[:-1]\n"
   ]
  },
  {
   "cell_type": "code",
   "execution_count": 48,
   "id": "5bb1bfa1-55a0-4c3c-ade5-b887136dab67",
   "metadata": {},
   "outputs": [
    {
     "name": "stdout",
     "output_type": "stream",
     "text": [
      "<class 'pandas.core.frame.DataFrame'>\n",
      "RangeIndex: 221 entries, 0 to 220\n",
      "Data columns (total 7 columns):\n",
      " #   Column  Non-Null Count  Dtype \n",
      "---  ------  --------------  ----- \n",
      " 0   Name    209 non-null    object\n",
      " 1   Rank    209 non-null    object\n",
      " 2   NOC     209 non-null    object\n",
      " 3   D       209 non-null    object\n",
      " 4   E       209 non-null    object\n",
      " 5   Pen.    221 non-null    object\n",
      " 6   Total   217 non-null    object\n",
      "dtypes: object(7)\n",
      "memory usage: 12.2+ KB\n"
     ]
    }
   ],
   "source": [
    "hb.info()"
   ]
  },
  {
   "cell_type": "code",
   "execution_count": 53,
   "id": "250a65e1-d5fc-42a6-b483-6369dfed4ecf",
   "metadata": {},
   "outputs": [],
   "source": [
    "fx['Total'] = fx['Total'].str.rstrip('R')"
   ]
  },
  {
   "cell_type": "code",
   "execution_count": 54,
   "id": "7cfb562c-6bac-46cd-8db2-5ceb6dacd32e",
   "metadata": {},
   "outputs": [],
   "source": [
    "fx['Name'] = fx['Name'].astype(str)\n",
    "fx['Rank'] = fx['Rank'].astype(int)\n",
    "fx['NOC'] = fx['NOC'].astype(str)\n",
    "fx['D'] = fx['D'].astype(float)\n",
    "fx['E'] = fx['E'].astype(float)\n",
    "fx['Pen.'] = fx['Pen.'].astype(float)\n",
    "fx['Total'] = fx['Total'].astype(float)"
   ]
  },
  {
   "cell_type": "code",
   "execution_count": 58,
   "id": "c99e4633-950b-4a9c-b97c-dd98bf5df6c4",
   "metadata": {},
   "outputs": [],
   "source": [
    "pb['Total'] = pb['Total'].str.rstrip('R')\n",
    "ph['Total'] = ph['Total'].str.rstrip('R')\n",
    "hb['Total'] = hb['Total'].str.rstrip('R')\n",
    "sr['Total'] = sr['Total'].str.rstrip('R')\n",
    "vt['Total'] = vt['Total'].str.rstrip('R')\n"
   ]
  },
  {
   "cell_type": "code",
   "execution_count": 59,
   "id": "68302df1-2254-4c4c-8e6f-2aa7b933ae7c",
   "metadata": {},
   "outputs": [],
   "source": [
    "ph['Name'] = ph['Name'].astype(str)\n",
    "ph['Rank'] = ph['Rank'].astype(int)\n",
    "ph['NOC'] = ph['NOC'].astype(str)\n",
    "ph['D'] = ph['D'].astype(float)\n",
    "ph['E'] = ph['E'].astype(float)\n",
    "ph['Pen.'] = ph['Pen.'].astype(float)\n",
    "ph['Total'] = ph['Total'].astype(float)\n"
   ]
  },
  {
   "cell_type": "code",
   "execution_count": 65,
   "id": "61c71b5b-24df-42a3-8e8a-496513cb29c3",
   "metadata": {},
   "outputs": [],
   "source": [
    "vt = vt.dropna(subset=['Rank'])\n",
    "sr = sr.dropna(subset=['Rank'])\n",
    "hb = hb.dropna(subset=['Rank'])\n",
    "pb = pb.dropna(subset=['Rank'])\n"
   ]
  },
  {
   "cell_type": "code",
   "execution_count": 72,
   "id": "3a30bdbf-04f2-45c3-b89e-4a51362a1001",
   "metadata": {},
   "outputs": [
    {
     "name": "stdout",
     "output_type": "stream",
     "text": [
      "<class 'pandas.core.frame.DataFrame'>\n",
      "Int64Index: 209 entries, 0 to 220\n",
      "Data columns (total 7 columns):\n",
      " #   Column  Non-Null Count  Dtype \n",
      "---  ------  --------------  ----- \n",
      " 0   Name    209 non-null    object\n",
      " 1   Rank    209 non-null    object\n",
      " 2   NOC     205 non-null    object\n",
      " 3   D       205 non-null    object\n",
      " 4   E       205 non-null    object\n",
      " 5   Pen.    209 non-null    object\n",
      " 6   Total   209 non-null    object\n",
      "dtypes: object(7)\n",
      "memory usage: 13.1+ KB\n"
     ]
    }
   ],
   "source": [
    "vt.info()"
   ]
  },
  {
   "cell_type": "code",
   "execution_count": 76,
   "id": "9ea08a01-1319-4125-8447-42771943c663",
   "metadata": {},
   "outputs": [
    {
     "name": "stdout",
     "output_type": "stream",
     "text": [
      "['1' '2' '4' '5' '7' '10' '14' '16' '18' '19' '20' '22' '25' '27' '29'\n",
      " '34' '35' '37' '38' '41' 'Rank' '48' '54' '55' '57' '59' '62' '64' '71'\n",
      " '76' '79' '80' '84' '88' '94' '95' '103' '107' '113' '116' '125' '134'\n",
      " '139' '140' '144' '148' '149' '152' '153' '154' '157' '161' '162' '165'\n",
      " '166' '168' '170' '175' '179' '184' '187' '191' '193' '195' '196' '199'\n",
      " '200' '201' '205']\n"
     ]
    }
   ],
   "source": [
    "print(vt['Rank'].unique())\n"
   ]
  },
  {
   "cell_type": "code",
   "execution_count": 77,
   "id": "40490926-2270-43f4-8d7f-bef7b748a260",
   "metadata": {},
   "outputs": [
    {
     "name": "stderr",
     "output_type": "stream",
     "text": [
      "/var/folders/j_/555m2zps099832fjh_m8jjnc0000gn/T/ipykernel_69855/935527393.py:5: SettingWithCopyWarning: \n",
      "A value is trying to be set on a copy of a slice from a DataFrame.\n",
      "Try using .loc[row_indexer,col_indexer] = value instead\n",
      "\n",
      "See the caveats in the documentation: https://pandas.pydata.org/pandas-docs/stable/user_guide/indexing.html#returning-a-view-versus-a-copy\n",
      "  vt['Rank'] = vt['Rank'].astype(int)\n"
     ]
    }
   ],
   "source": [
    "# Remove rows where 'Rank' is present in the 'Rank' column\n",
    "vt = vt[vt['Rank'] != 'Rank']\n",
    "\n",
    "# Convert the 'Rank' column to integers\n",
    "vt['Rank'] = vt['Rank'].astype(int)\n"
   ]
  },
  {
   "cell_type": "code",
   "execution_count": 79,
   "id": "e3fb8c95-4e87-4c33-a61d-e6abc2589203",
   "metadata": {},
   "outputs": [
    {
     "name": "stdout",
     "output_type": "stream",
     "text": [
      "<class 'pandas.core.frame.DataFrame'>\n",
      "Int64Index: 205 entries, 0 to 220\n",
      "Data columns (total 7 columns):\n",
      " #   Column  Non-Null Count  Dtype \n",
      "---  ------  --------------  ----- \n",
      " 0   Name    205 non-null    object\n",
      " 1   Rank    205 non-null    int64 \n",
      " 2   NOC     205 non-null    object\n",
      " 3   D       205 non-null    object\n",
      " 4   E       205 non-null    object\n",
      " 5   Pen.    205 non-null    object\n",
      " 6   Total   205 non-null    object\n",
      "dtypes: int64(1), object(6)\n",
      "memory usage: 12.8+ KB\n"
     ]
    }
   ],
   "source": []
  },
  {
   "cell_type": "code",
   "execution_count": 80,
   "id": "341e7ac5-0f89-499d-9c43-1c47f3c8fa30",
   "metadata": {},
   "outputs": [
    {
     "name": "stderr",
     "output_type": "stream",
     "text": [
      "/var/folders/j_/555m2zps099832fjh_m8jjnc0000gn/T/ipykernel_69855/556699801.py:1: SettingWithCopyWarning: \n",
      "A value is trying to be set on a copy of a slice from a DataFrame.\n",
      "Try using .loc[row_indexer,col_indexer] = value instead\n",
      "\n",
      "See the caveats in the documentation: https://pandas.pydata.org/pandas-docs/stable/user_guide/indexing.html#returning-a-view-versus-a-copy\n",
      "  vt['Name'] = vt['Name'].astype(str)\n",
      "/var/folders/j_/555m2zps099832fjh_m8jjnc0000gn/T/ipykernel_69855/556699801.py:2: SettingWithCopyWarning: \n",
      "A value is trying to be set on a copy of a slice from a DataFrame.\n",
      "Try using .loc[row_indexer,col_indexer] = value instead\n",
      "\n",
      "See the caveats in the documentation: https://pandas.pydata.org/pandas-docs/stable/user_guide/indexing.html#returning-a-view-versus-a-copy\n",
      "  vt['Rank'] = vt['Rank'].astype(int)\n",
      "/var/folders/j_/555m2zps099832fjh_m8jjnc0000gn/T/ipykernel_69855/556699801.py:3: SettingWithCopyWarning: \n",
      "A value is trying to be set on a copy of a slice from a DataFrame.\n",
      "Try using .loc[row_indexer,col_indexer] = value instead\n",
      "\n",
      "See the caveats in the documentation: https://pandas.pydata.org/pandas-docs/stable/user_guide/indexing.html#returning-a-view-versus-a-copy\n",
      "  vt['NOC'] = vt['NOC'].astype(str)\n",
      "/var/folders/j_/555m2zps099832fjh_m8jjnc0000gn/T/ipykernel_69855/556699801.py:4: SettingWithCopyWarning: \n",
      "A value is trying to be set on a copy of a slice from a DataFrame.\n",
      "Try using .loc[row_indexer,col_indexer] = value instead\n",
      "\n",
      "See the caveats in the documentation: https://pandas.pydata.org/pandas-docs/stable/user_guide/indexing.html#returning-a-view-versus-a-copy\n",
      "  vt['D'] = vt['D'].astype(float)\n",
      "/var/folders/j_/555m2zps099832fjh_m8jjnc0000gn/T/ipykernel_69855/556699801.py:5: SettingWithCopyWarning: \n",
      "A value is trying to be set on a copy of a slice from a DataFrame.\n",
      "Try using .loc[row_indexer,col_indexer] = value instead\n",
      "\n",
      "See the caveats in the documentation: https://pandas.pydata.org/pandas-docs/stable/user_guide/indexing.html#returning-a-view-versus-a-copy\n",
      "  vt['E'] = vt['E'].astype(float)\n",
      "/var/folders/j_/555m2zps099832fjh_m8jjnc0000gn/T/ipykernel_69855/556699801.py:6: SettingWithCopyWarning: \n",
      "A value is trying to be set on a copy of a slice from a DataFrame.\n",
      "Try using .loc[row_indexer,col_indexer] = value instead\n",
      "\n",
      "See the caveats in the documentation: https://pandas.pydata.org/pandas-docs/stable/user_guide/indexing.html#returning-a-view-versus-a-copy\n",
      "  vt['Pen.'] = vt['Pen.'].astype(float)\n",
      "/var/folders/j_/555m2zps099832fjh_m8jjnc0000gn/T/ipykernel_69855/556699801.py:7: SettingWithCopyWarning: \n",
      "A value is trying to be set on a copy of a slice from a DataFrame.\n",
      "Try using .loc[row_indexer,col_indexer] = value instead\n",
      "\n",
      "See the caveats in the documentation: https://pandas.pydata.org/pandas-docs/stable/user_guide/indexing.html#returning-a-view-versus-a-copy\n",
      "  vt['Total'] = vt['Total'].astype(float)\n"
     ]
    }
   ],
   "source": [
    "vt['Name'] = vt['Name'].astype(str)\n",
    "vt['Rank'] = vt['Rank'].astype(int)\n",
    "vt['NOC'] = vt['NOC'].astype(str)\n",
    "vt['D'] = vt['D'].astype(float)\n",
    "vt['E'] = vt['E'].astype(float)\n",
    "vt['Pen.'] = vt['Pen.'].astype(float)\n",
    "vt['Total'] = vt['Total'].astype(float)\n"
   ]
  },
  {
   "cell_type": "code",
   "execution_count": 81,
   "id": "dd2ff378-7a7d-4572-9ca6-9f27043b2718",
   "metadata": {},
   "outputs": [],
   "source": [
    "# Remove rows where 'Rank' is present in the 'Rank' column\n",
    "sr = sr[sr['Rank'] != 'Rank']\n",
    "\n",
    "# Convert the 'Rank' column to integers\n",
    "sr['Rank'] = sr['Rank'].astype(int)\n"
   ]
  },
  {
   "cell_type": "code",
   "execution_count": 82,
   "id": "9e8d6549-7fa5-4f9e-95ef-91aadedd5992",
   "metadata": {},
   "outputs": [],
   "source": [
    "sr['Name'] = sr['Name'].astype(str)\n",
    "sr['Rank'] = sr['Rank'].astype(int)\n",
    "sr['NOC'] = sr['NOC'].astype(str)\n",
    "sr['D'] = sr['D'].astype(float)\n",
    "sr['E'] = sr['E'].astype(float)\n",
    "sr['Pen.'] = sr['Pen.'].astype(float)\n",
    "sr['Total'] = sr['Total'].astype(float)\n"
   ]
  },
  {
   "cell_type": "code",
   "execution_count": 83,
   "id": "abb4b0d8-c096-410b-9376-f479d1bb03c0",
   "metadata": {},
   "outputs": [],
   "source": [
    "# Remove rows where 'Rank' is present in the 'Rank' column\n",
    "hb = hb[hb['Rank'] != 'Rank']\n",
    "\n",
    "# Convert the 'Rank' column to integers\n",
    "hb['Rank'] = hb['Rank'].astype(int)\n"
   ]
  },
  {
   "cell_type": "code",
   "execution_count": 84,
   "id": "fa830f44-97c6-48f2-ac27-77b4b2109814",
   "metadata": {},
   "outputs": [],
   "source": [
    "hb['Name'] = hb['Name'].astype(str)\n",
    "hb['Rank'] = hb['Rank'].astype(int)\n",
    "hb['NOC'] = hb['NOC'].astype(str)\n",
    "hb['D'] = hb['D'].astype(float)\n",
    "hb['E'] = hb['E'].astype(float)\n",
    "hb['Pen.'] = hb['Pen.'].astype(float)\n",
    "hb['Total'] = hb['Total'].astype(float)\n"
   ]
  },
  {
   "cell_type": "code",
   "execution_count": 85,
   "id": "12e556ab-d2ba-4976-93bf-9d7710732a78",
   "metadata": {},
   "outputs": [],
   "source": [
    "# Remove rows where 'Rank' is present in the 'Rank' column\n",
    "pb = pb[pb['Rank'] != 'Rank']\n",
    "\n",
    "# Convert the 'Rank' column to integers\n",
    "pb['Rank'] = pb['Rank'].astype(int)\n"
   ]
  },
  {
   "cell_type": "code",
   "execution_count": 86,
   "id": "2ee3e04c-01f4-4cfd-8c58-c7e707292674",
   "metadata": {},
   "outputs": [],
   "source": [
    "pb['Name'] = pb['Name'].astype(str)\n",
    "pb['Rank'] = pb['Rank'].astype(int)\n",
    "pb['NOC'] = pb['NOC'].astype(str)\n",
    "pb['D'] = pb['D'].astype(float)\n",
    "pb['E'] = pb['E'].astype(float)\n",
    "pb['Pen.'] = pb['Pen.'].astype(float)\n",
    "pb['Total'] = pb['Total'].astype(float)\n"
   ]
  },
  {
   "cell_type": "code",
   "execution_count": 87,
   "id": "5117d004-09ed-4a4a-8e8a-851edd5618be",
   "metadata": {},
   "outputs": [
    {
     "name": "stdout",
     "output_type": "stream",
     "text": [
      "<class 'pandas.core.frame.DataFrame'>\n",
      "Int64Index: 205 entries, 0 to 220\n",
      "Data columns (total 7 columns):\n",
      " #   Column  Non-Null Count  Dtype  \n",
      "---  ------  --------------  -----  \n",
      " 0   Name    205 non-null    object \n",
      " 1   Rank    205 non-null    int64  \n",
      " 2   NOC     205 non-null    object \n",
      " 3   D       205 non-null    float64\n",
      " 4   E       205 non-null    float64\n",
      " 5   Pen.    205 non-null    float64\n",
      " 6   Total   205 non-null    float64\n",
      "dtypes: float64(4), int64(1), object(2)\n",
      "memory usage: 12.8+ KB\n"
     ]
    }
   ],
   "source": [
    "pb.info()"
   ]
  },
  {
   "cell_type": "code",
   "execution_count": 88,
   "id": "02870f32-f113-4f14-9bb3-10aa27ee321f",
   "metadata": {},
   "outputs": [
    {
     "data": {
      "text/html": [
       "<div>\n",
       "<style scoped>\n",
       "    .dataframe tbody tr th:only-of-type {\n",
       "        vertical-align: middle;\n",
       "    }\n",
       "\n",
       "    .dataframe tbody tr th {\n",
       "        vertical-align: top;\n",
       "    }\n",
       "\n",
       "    .dataframe thead th {\n",
       "        text-align: right;\n",
       "    }\n",
       "</style>\n",
       "<table border=\"1\" class=\"dataframe\">\n",
       "  <thead>\n",
       "    <tr style=\"text-align: right;\">\n",
       "      <th></th>\n",
       "      <th>Name</th>\n",
       "      <th>Rank</th>\n",
       "      <th>NOC</th>\n",
       "      <th>D</th>\n",
       "      <th>E</th>\n",
       "      <th>Pen.</th>\n",
       "      <th>Total</th>\n",
       "    </tr>\n",
       "  </thead>\n",
       "  <tbody>\n",
       "    <tr>\n",
       "      <th>0</th>\n",
       "      <td>oleg verniaiev</td>\n",
       "      <td>1</td>\n",
       "      <td>UKR</td>\n",
       "      <td>7.1</td>\n",
       "      <td>9.033</td>\n",
       "      <td>0.0</td>\n",
       "      <td>16.133</td>\n",
       "    </tr>\n",
       "    <tr>\n",
       "      <th>1</th>\n",
       "      <td>yusuke tanaka</td>\n",
       "      <td>2</td>\n",
       "      <td>JPN</td>\n",
       "      <td>6.6</td>\n",
       "      <td>9.158</td>\n",
       "      <td>0.0</td>\n",
       "      <td>15.758</td>\n",
       "    </tr>\n",
       "    <tr>\n",
       "      <th>2</th>\n",
       "      <td>oleg stepko</td>\n",
       "      <td>3</td>\n",
       "      <td>AZE</td>\n",
       "      <td>7.0</td>\n",
       "      <td>8.700</td>\n",
       "      <td>0.0</td>\n",
       "      <td>15.700</td>\n",
       "    </tr>\n",
       "    <tr>\n",
       "      <th>3</th>\n",
       "      <td>hao you</td>\n",
       "      <td>4</td>\n",
       "      <td>CHN</td>\n",
       "      <td>7.3</td>\n",
       "      <td>8.400</td>\n",
       "      <td>0.0</td>\n",
       "      <td>15.700</td>\n",
       "    </tr>\n",
       "    <tr>\n",
       "      <th>4</th>\n",
       "      <td>manrique larduet</td>\n",
       "      <td>5</td>\n",
       "      <td>CUB</td>\n",
       "      <td>6.7</td>\n",
       "      <td>8.966</td>\n",
       "      <td>0.0</td>\n",
       "      <td>15.666</td>\n",
       "    </tr>\n",
       "    <tr>\n",
       "      <th>...</th>\n",
       "      <td>...</td>\n",
       "      <td>...</td>\n",
       "      <td>...</td>\n",
       "      <td>...</td>\n",
       "      <td>...</td>\n",
       "      <td>...</td>\n",
       "      <td>...</td>\n",
       "    </tr>\n",
       "    <tr>\n",
       "      <th>216</th>\n",
       "      <td>mohamed reghib</td>\n",
       "      <td>201</td>\n",
       "      <td>ALG</td>\n",
       "      <td>5.1</td>\n",
       "      <td>7.466</td>\n",
       "      <td>0.0</td>\n",
       "      <td>12.560</td>\n",
       "    </tr>\n",
       "    <tr>\n",
       "      <th>217</th>\n",
       "      <td>slavomir michnak</td>\n",
       "      <td>202</td>\n",
       "      <td>SVK</td>\n",
       "      <td>5.3</td>\n",
       "      <td>7.200</td>\n",
       "      <td>0.0</td>\n",
       "      <td>12.500</td>\n",
       "    </tr>\n",
       "    <tr>\n",
       "      <th>218</th>\n",
       "      <td>jonathan vrolix</td>\n",
       "      <td>203</td>\n",
       "      <td>BEL</td>\n",
       "      <td>5.0</td>\n",
       "      <td>7.466</td>\n",
       "      <td>0.0</td>\n",
       "      <td>12.460</td>\n",
       "    </tr>\n",
       "    <tr>\n",
       "      <th>219</th>\n",
       "      <td>nomondalai jamiyankhuu</td>\n",
       "      <td>204</td>\n",
       "      <td>MGL</td>\n",
       "      <td>4.6</td>\n",
       "      <td>7.833</td>\n",
       "      <td>0.0</td>\n",
       "      <td>12.430</td>\n",
       "    </tr>\n",
       "    <tr>\n",
       "      <th>220</th>\n",
       "      <td>anderson loran</td>\n",
       "      <td>205</td>\n",
       "      <td>CAN</td>\n",
       "      <td>5.3</td>\n",
       "      <td>7.133</td>\n",
       "      <td>0.0</td>\n",
       "      <td>12.430</td>\n",
       "    </tr>\n",
       "  </tbody>\n",
       "</table>\n",
       "<p>205 rows × 7 columns</p>\n",
       "</div>"
      ],
      "text/plain": [
       "                       Name  Rank  NOC    D      E  Pen.   Total\n",
       "0            oleg verniaiev     1  UKR  7.1  9.033   0.0  16.133\n",
       "1             yusuke tanaka     2  JPN  6.6  9.158   0.0  15.758\n",
       "2               oleg stepko     3  AZE  7.0  8.700   0.0  15.700\n",
       "3                   hao you     4  CHN  7.3  8.400   0.0  15.700\n",
       "4          manrique larduet     5  CUB  6.7  8.966   0.0  15.666\n",
       "..                      ...   ...  ...  ...    ...   ...     ...\n",
       "216          mohamed reghib   201  ALG  5.1  7.466   0.0  12.560\n",
       "217        slavomir michnak   202  SVK  5.3  7.200   0.0  12.500\n",
       "218         jonathan vrolix   203  BEL  5.0  7.466   0.0  12.460\n",
       "219  nomondalai jamiyankhuu   204  MGL  4.6  7.833   0.0  12.430\n",
       "220          anderson loran   205  CAN  5.3  7.133   0.0  12.430\n",
       "\n",
       "[205 rows x 7 columns]"
      ]
     },
     "execution_count": 88,
     "metadata": {},
     "output_type": "execute_result"
    }
   ],
   "source": [
    "pb"
   ]
  },
  {
   "cell_type": "code",
   "execution_count": 89,
   "id": "4b95d9ec-7ca1-4d86-a7d5-b97cde19893a",
   "metadata": {},
   "outputs": [
    {
     "data": {
      "text/plain": [
       "Index(['Name', 'Rank', 'NOC', 'D', 'E', 'Pen.', 'Total'], dtype='object')"
      ]
     },
     "execution_count": 89,
     "metadata": {},
     "output_type": "execute_result"
    }
   ],
   "source": [
    "pb.columns\n"
   ]
  },
  {
   "cell_type": "code",
   "execution_count": 91,
   "id": "187a3cb1-7f49-4f5f-9c79-47db8e5b649d",
   "metadata": {},
   "outputs": [],
   "source": [
    "column_order = ['Rank','Name',  'NOC', 'D', 'E', 'Pen.', 'Total']\n",
    "\n",
    "# Assign the reordered DataFrame to the original DataFrame\n",
    "vt = vt[column_order]\n",
    "sr = sr[column_order]\n",
    "fx = fx[column_order]\n",
    "hb = hb[column_order]\n",
    "pb = pb[column_order]\n",
    "ph = ph[column_order]"
   ]
  },
  {
   "cell_type": "code",
   "execution_count": 93,
   "id": "a2dc205c-719f-4957-a1ef-f0674862c290",
   "metadata": {},
   "outputs": [
    {
     "name": "stderr",
     "output_type": "stream",
     "text": [
      "/var/folders/j_/555m2zps099832fjh_m8jjnc0000gn/T/ipykernel_69855/2438153119.py:1: SettingWithCopyWarning: \n",
      "A value is trying to be set on a copy of a slice from a DataFrame.\n",
      "Try using .loc[row_indexer,col_indexer] = value instead\n",
      "\n",
      "See the caveats in the documentation: https://pandas.pydata.org/pandas-docs/stable/user_guide/indexing.html#returning-a-view-versus-a-copy\n",
      "  pb['year']=2015\n",
      "/var/folders/j_/555m2zps099832fjh_m8jjnc0000gn/T/ipykernel_69855/2438153119.py:4: SettingWithCopyWarning: \n",
      "A value is trying to be set on a copy of a slice from a DataFrame.\n",
      "Try using .loc[row_indexer,col_indexer] = value instead\n",
      "\n",
      "See the caveats in the documentation: https://pandas.pydata.org/pandas-docs/stable/user_guide/indexing.html#returning-a-view-versus-a-copy\n",
      "  fx['year']=2015\n"
     ]
    }
   ],
   "source": [
    "pb['year']=2015\n",
    "ph['year']=2015\n",
    "sr['year']=2015\n",
    "fx['year']=2015\n",
    "vt['year']=2015\n",
    "hb['year']=2015\n"
   ]
  },
  {
   "cell_type": "code",
   "execution_count": 95,
   "id": "fc13cd2c-f674-4f66-b7f7-ed3de46eaae7",
   "metadata": {},
   "outputs": [
    {
     "data": {
      "text/html": [
       "<div>\n",
       "<style scoped>\n",
       "    .dataframe tbody tr th:only-of-type {\n",
       "        vertical-align: middle;\n",
       "    }\n",
       "\n",
       "    .dataframe tbody tr th {\n",
       "        vertical-align: top;\n",
       "    }\n",
       "\n",
       "    .dataframe thead th {\n",
       "        text-align: right;\n",
       "    }\n",
       "</style>\n",
       "<table border=\"1\" class=\"dataframe\">\n",
       "  <thead>\n",
       "    <tr style=\"text-align: right;\">\n",
       "      <th></th>\n",
       "      <th>Rank</th>\n",
       "      <th>Name</th>\n",
       "      <th>NOC</th>\n",
       "      <th>D</th>\n",
       "      <th>E</th>\n",
       "      <th>Pen.</th>\n",
       "      <th>Total</th>\n",
       "      <th>year</th>\n",
       "    </tr>\n",
       "  </thead>\n",
       "  <tbody>\n",
       "    <tr>\n",
       "      <th>0</th>\n",
       "      <td>1</td>\n",
       "      <td>oleg verniaiev</td>\n",
       "      <td>UKR</td>\n",
       "      <td>7.1</td>\n",
       "      <td>9.033</td>\n",
       "      <td>0.0</td>\n",
       "      <td>16.133</td>\n",
       "      <td>2015</td>\n",
       "    </tr>\n",
       "    <tr>\n",
       "      <th>1</th>\n",
       "      <td>2</td>\n",
       "      <td>yusuke tanaka</td>\n",
       "      <td>JPN</td>\n",
       "      <td>6.6</td>\n",
       "      <td>9.158</td>\n",
       "      <td>0.0</td>\n",
       "      <td>15.758</td>\n",
       "      <td>2015</td>\n",
       "    </tr>\n",
       "    <tr>\n",
       "      <th>2</th>\n",
       "      <td>3</td>\n",
       "      <td>oleg stepko</td>\n",
       "      <td>AZE</td>\n",
       "      <td>7.0</td>\n",
       "      <td>8.700</td>\n",
       "      <td>0.0</td>\n",
       "      <td>15.700</td>\n",
       "      <td>2015</td>\n",
       "    </tr>\n",
       "    <tr>\n",
       "      <th>3</th>\n",
       "      <td>4</td>\n",
       "      <td>hao you</td>\n",
       "      <td>CHN</td>\n",
       "      <td>7.3</td>\n",
       "      <td>8.400</td>\n",
       "      <td>0.0</td>\n",
       "      <td>15.700</td>\n",
       "      <td>2015</td>\n",
       "    </tr>\n",
       "    <tr>\n",
       "      <th>4</th>\n",
       "      <td>5</td>\n",
       "      <td>manrique larduet</td>\n",
       "      <td>CUB</td>\n",
       "      <td>6.7</td>\n",
       "      <td>8.966</td>\n",
       "      <td>0.0</td>\n",
       "      <td>15.666</td>\n",
       "      <td>2015</td>\n",
       "    </tr>\n",
       "    <tr>\n",
       "      <th>...</th>\n",
       "      <td>...</td>\n",
       "      <td>...</td>\n",
       "      <td>...</td>\n",
       "      <td>...</td>\n",
       "      <td>...</td>\n",
       "      <td>...</td>\n",
       "      <td>...</td>\n",
       "      <td>...</td>\n",
       "    </tr>\n",
       "    <tr>\n",
       "      <th>216</th>\n",
       "      <td>201</td>\n",
       "      <td>mohamed reghib</td>\n",
       "      <td>ALG</td>\n",
       "      <td>5.1</td>\n",
       "      <td>7.466</td>\n",
       "      <td>0.0</td>\n",
       "      <td>12.560</td>\n",
       "      <td>2015</td>\n",
       "    </tr>\n",
       "    <tr>\n",
       "      <th>217</th>\n",
       "      <td>202</td>\n",
       "      <td>slavomir michnak</td>\n",
       "      <td>SVK</td>\n",
       "      <td>5.3</td>\n",
       "      <td>7.200</td>\n",
       "      <td>0.0</td>\n",
       "      <td>12.500</td>\n",
       "      <td>2015</td>\n",
       "    </tr>\n",
       "    <tr>\n",
       "      <th>218</th>\n",
       "      <td>203</td>\n",
       "      <td>jonathan vrolix</td>\n",
       "      <td>BEL</td>\n",
       "      <td>5.0</td>\n",
       "      <td>7.466</td>\n",
       "      <td>0.0</td>\n",
       "      <td>12.460</td>\n",
       "      <td>2015</td>\n",
       "    </tr>\n",
       "    <tr>\n",
       "      <th>219</th>\n",
       "      <td>204</td>\n",
       "      <td>nomondalai jamiyankhuu</td>\n",
       "      <td>MGL</td>\n",
       "      <td>4.6</td>\n",
       "      <td>7.833</td>\n",
       "      <td>0.0</td>\n",
       "      <td>12.430</td>\n",
       "      <td>2015</td>\n",
       "    </tr>\n",
       "    <tr>\n",
       "      <th>220</th>\n",
       "      <td>205</td>\n",
       "      <td>anderson loran</td>\n",
       "      <td>CAN</td>\n",
       "      <td>5.3</td>\n",
       "      <td>7.133</td>\n",
       "      <td>0.0</td>\n",
       "      <td>12.430</td>\n",
       "      <td>2015</td>\n",
       "    </tr>\n",
       "  </tbody>\n",
       "</table>\n",
       "<p>205 rows × 8 columns</p>\n",
       "</div>"
      ],
      "text/plain": [
       "     Rank                    Name  NOC    D      E  Pen.   Total  year\n",
       "0       1          oleg verniaiev  UKR  7.1  9.033   0.0  16.133  2015\n",
       "1       2           yusuke tanaka  JPN  6.6  9.158   0.0  15.758  2015\n",
       "2       3             oleg stepko  AZE  7.0  8.700   0.0  15.700  2015\n",
       "3       4                 hao you  CHN  7.3  8.400   0.0  15.700  2015\n",
       "4       5        manrique larduet  CUB  6.7  8.966   0.0  15.666  2015\n",
       "..    ...                     ...  ...  ...    ...   ...     ...   ...\n",
       "216   201          mohamed reghib  ALG  5.1  7.466   0.0  12.560  2015\n",
       "217   202        slavomir michnak  SVK  5.3  7.200   0.0  12.500  2015\n",
       "218   203         jonathan vrolix  BEL  5.0  7.466   0.0  12.460  2015\n",
       "219   204  nomondalai jamiyankhuu  MGL  4.6  7.833   0.0  12.430  2015\n",
       "220   205          anderson loran  CAN  5.3  7.133   0.0  12.430  2015\n",
       "\n",
       "[205 rows x 8 columns]"
      ]
     },
     "execution_count": 95,
     "metadata": {},
     "output_type": "execute_result"
    }
   ],
   "source": [
    "pb"
   ]
  },
  {
   "cell_type": "code",
   "execution_count": 97,
   "id": "f65c13f9-b80d-4f8b-8b33-8bba15b2efb5",
   "metadata": {},
   "outputs": [],
   "source": []
  },
  {
   "cell_type": "code",
   "execution_count": 98,
   "id": "a7b50aaf-a7a2-4606-b50a-d6fd619e1723",
   "metadata": {},
   "outputs": [],
   "source": [
    "# fx\n",
    "#     Artem dolgopyat\n",
    "#     Rayderley zapata\n",
    "#     Xiao ruoteng\n",
    "ruoteng\n",
    "zapata\n",
    "dolgopyat"
   ]
  },
  {
   "cell_type": "code",
   "execution_count": 102,
   "id": "9e68c888-bd76-4376-8ab5-66478ca61376",
   "metadata": {},
   "outputs": [
    {
     "data": {
      "text/html": [
       "<div>\n",
       "<style scoped>\n",
       "    .dataframe tbody tr th:only-of-type {\n",
       "        vertical-align: middle;\n",
       "    }\n",
       "\n",
       "    .dataframe tbody tr th {\n",
       "        vertical-align: top;\n",
       "    }\n",
       "\n",
       "    .dataframe thead th {\n",
       "        text-align: right;\n",
       "    }\n",
       "</style>\n",
       "<table border=\"1\" class=\"dataframe\">\n",
       "  <thead>\n",
       "    <tr style=\"text-align: right;\">\n",
       "      <th></th>\n",
       "      <th>Rank</th>\n",
       "      <th>Name</th>\n",
       "      <th>NOC</th>\n",
       "      <th>D</th>\n",
       "      <th>E</th>\n",
       "      <th>Pen.</th>\n",
       "      <th>Total</th>\n",
       "      <th>year</th>\n",
       "    </tr>\n",
       "  </thead>\n",
       "  <tbody>\n",
       "    <tr>\n",
       "      <th>132</th>\n",
       "      <td>133</td>\n",
       "      <td>artem dolgopyat</td>\n",
       "      <td>ISR</td>\n",
       "      <td>6.4</td>\n",
       "      <td>7.133</td>\n",
       "      <td>0.0</td>\n",
       "      <td>13.53</td>\n",
       "      <td>2015</td>\n",
       "    </tr>\n",
       "  </tbody>\n",
       "</table>\n",
       "</div>"
      ],
      "text/plain": [
       "     Rank             Name  NOC    D      E  Pen.  Total  year\n",
       "132   133  artem dolgopyat  ISR  6.4  7.133   0.0  13.53  2015"
      ]
     },
     "execution_count": 102,
     "metadata": {},
     "output_type": "execute_result"
    }
   ],
   "source": [
    "fx[fx['Name']=='artem dolgopyat']"
   ]
  },
  {
   "cell_type": "code",
   "execution_count": 107,
   "id": "14290545-a247-4c7f-b5e5-41629023db36",
   "metadata": {},
   "outputs": [
    {
     "name": "stdout",
     "output_type": "stream",
     "text": [
      "    Rank          Name  NOC    D    E  Pen.  Total  year\n",
      "27    28  ruoteng xiao  CHN  6.1  8.5   0.0   14.6  2015\n"
     ]
    }
   ],
   "source": [
    "contains_dolgopyat=fx['Name'].str.contains('ruoteng')\n",
    "\n",
    "print(fx[contains_dolgopyat])"
   ]
  },
  {
   "cell_type": "code",
   "execution_count": 108,
   "id": "cde1850e-a8dc-4c4e-8563-6de7a1cdd4ba",
   "metadata": {},
   "outputs": [
    {
     "name": "stderr",
     "output_type": "stream",
     "text": [
      "/var/folders/j_/555m2zps099832fjh_m8jjnc0000gn/T/ipykernel_69855/3476972283.py:7: SettingWithCopyWarning: \n",
      "A value is trying to be set on a copy of a slice from a DataFrame.\n",
      "Try using .loc[row_indexer,col_indexer] = value instead\n",
      "\n",
      "See the caveats in the documentation: https://pandas.pydata.org/pandas-docs/stable/user_guide/indexing.html#returning-a-view-versus-a-copy\n",
      "  fx['Medal'] = np.where(fx['Name'].str.contains('|'.join(target_names)), 1, 0)\n"
     ]
    }
   ],
   "source": [
    "import numpy as np\n",
    "\n",
    "# Define the list of names\n",
    "target_names = ['ruoteng', 'zapata', 'dolgopyat']\n",
    "\n",
    "# Create a new column \"Medal\" and set the values based on the condition\n",
    "fx['Medal'] = np.where(fx['Name'].str.contains('|'.join(target_names)), 1, 0)\n",
    "\n",
    "\n"
   ]
  },
  {
   "cell_type": "code",
   "execution_count": 111,
   "id": "1a0e88c3-b0e2-4449-85a3-5f749f472c76",
   "metadata": {},
   "outputs": [
    {
     "data": {
      "text/plain": [
       "0    202\n",
       "1      3\n",
       "Name: Medal, dtype: int64"
      ]
     },
     "execution_count": 111,
     "metadata": {},
     "output_type": "execute_result"
    }
   ],
   "source": [
    "fx['Medal'].value_counts()"
   ]
  },
  {
   "cell_type": "code",
   "execution_count": 112,
   "id": "93b66b71-b578-4de6-b08f-ae34a66db130",
   "metadata": {},
   "outputs": [],
   "source": [
    "# ph\n",
    "#     Max Whitlock\n",
    "#     Lee Chih-Kai\n",
    "#     Kaya Kazuma\n",
    "\n",
    "# whitlock\n",
    "# chih-kai\n",
    "# kazuma"
   ]
  },
  {
   "cell_type": "code",
   "execution_count": 115,
   "id": "86d29bb6-39b3-4265-9dc2-34422810c5fe",
   "metadata": {},
   "outputs": [],
   "source": [
    "import numpy as np\n",
    "\n",
    "# Define the list of names\n",
    "target_names = ['whitlock', 'chih', 'kazuma']\n",
    "\n",
    "# Create a new column \"Medal\" and set the values based on the condition\n",
    "ph['Medal'] = np.where(ph['Name'].str.contains('|'.join(target_names)), 1, 0)\n",
    "\n",
    "\n"
   ]
  },
  {
   "cell_type": "code",
   "execution_count": 116,
   "id": "9c979aca-5999-4d9d-b883-425d0f44fae2",
   "metadata": {},
   "outputs": [
    {
     "data": {
      "text/plain": [
       "0    202\n",
       "1      3\n",
       "Name: Medal, dtype: int64"
      ]
     },
     "execution_count": 116,
     "metadata": {},
     "output_type": "execute_result"
    }
   ],
   "source": [
    "ph['Medal'].value_counts()"
   ]
  },
  {
   "cell_type": "code",
   "execution_count": null,
   "id": "720fbc88-de25-47a0-8434-1e0eed311366",
   "metadata": {},
   "outputs": [],
   "source": [
    "# Rings Final Results\n",
    "\n",
    "#     Liu Yang China\n",
    "#     You Hao China\n",
    "#     Eleftherios Petrounias Greece\n",
    "\n",
    "# yang\n",
    "# hao\n",
    "# petrounias"
   ]
  },
  {
   "cell_type": "code",
   "execution_count": 120,
   "id": "7947edaf-65b7-4aed-81f9-19086f130650",
   "metadata": {},
   "outputs": [],
   "source": [
    "import numpy as np\n",
    "\n",
    "# Define the list of names\n",
    "target_names = ['yang liu', 'hao you', 'petrounias']\n",
    "\n",
    "# Create a new column \"Medal\" and set the values based on the condition\n",
    "sr['Medal'] = np.where(sr['Name'].str.contains('|'.join(target_names)), 1, 0)\n"
   ]
  },
  {
   "cell_type": "code",
   "execution_count": 121,
   "id": "c45466c9-4c20-47f3-ab23-3ce60c39b5d2",
   "metadata": {},
   "outputs": [
    {
     "data": {
      "text/plain": [
       "0    202\n",
       "1      3\n",
       "Name: Medal, dtype: int64"
      ]
     },
     "execution_count": 121,
     "metadata": {},
     "output_type": "execute_result"
    }
   ],
   "source": [
    "sr['Medal'].value_counts()"
   ]
  },
  {
   "cell_type": "code",
   "execution_count": 122,
   "id": "50720a3e-5b1f-42ee-aa63-420f7fa838b9",
   "metadata": {},
   "outputs": [
    {
     "data": {
      "text/html": [
       "<div>\n",
       "<style scoped>\n",
       "    .dataframe tbody tr th:only-of-type {\n",
       "        vertical-align: middle;\n",
       "    }\n",
       "\n",
       "    .dataframe tbody tr th {\n",
       "        vertical-align: top;\n",
       "    }\n",
       "\n",
       "    .dataframe thead th {\n",
       "        text-align: right;\n",
       "    }\n",
       "</style>\n",
       "<table border=\"1\" class=\"dataframe\">\n",
       "  <thead>\n",
       "    <tr style=\"text-align: right;\">\n",
       "      <th></th>\n",
       "      <th>Rank</th>\n",
       "      <th>Name</th>\n",
       "      <th>NOC</th>\n",
       "      <th>D</th>\n",
       "      <th>E</th>\n",
       "      <th>Pen.</th>\n",
       "      <th>Total</th>\n",
       "      <th>year</th>\n",
       "      <th>Medal</th>\n",
       "    </tr>\n",
       "  </thead>\n",
       "  <tbody>\n",
       "    <tr>\n",
       "      <th>0</th>\n",
       "      <td>1</td>\n",
       "      <td>eleftherios petrounias</td>\n",
       "      <td>GRE</td>\n",
       "      <td>6.8</td>\n",
       "      <td>9.100</td>\n",
       "      <td>0.0</td>\n",
       "      <td>15.900</td>\n",
       "      <td>2015</td>\n",
       "      <td>1</td>\n",
       "    </tr>\n",
       "    <tr>\n",
       "      <th>1</th>\n",
       "      <td>2</td>\n",
       "      <td>yang liu</td>\n",
       "      <td>CHN</td>\n",
       "      <td>6.9</td>\n",
       "      <td>8.966</td>\n",
       "      <td>0.0</td>\n",
       "      <td>15.866</td>\n",
       "      <td>2015</td>\n",
       "      <td>1</td>\n",
       "    </tr>\n",
       "    <tr>\n",
       "      <th>6</th>\n",
       "      <td>7</td>\n",
       "      <td>hao you</td>\n",
       "      <td>CHN</td>\n",
       "      <td>7.0</td>\n",
       "      <td>8.500</td>\n",
       "      <td>0.0</td>\n",
       "      <td>15.500</td>\n",
       "      <td>2015</td>\n",
       "      <td>1</td>\n",
       "    </tr>\n",
       "  </tbody>\n",
       "</table>\n",
       "</div>"
      ],
      "text/plain": [
       "   Rank                    Name  NOC    D      E  Pen.   Total  year  Medal\n",
       "0     1  eleftherios petrounias  GRE  6.8  9.100   0.0  15.900  2015      1\n",
       "1     2                yang liu  CHN  6.9  8.966   0.0  15.866  2015      1\n",
       "6     7                 hao you  CHN  7.0  8.500   0.0  15.500  2015      1"
      ]
     },
     "execution_count": 122,
     "metadata": {},
     "output_type": "execute_result"
    }
   ],
   "source": [
    "sr[sr['Medal']==1]"
   ]
  },
  {
   "cell_type": "code",
   "execution_count": 123,
   "id": "39b37712-afe6-4c74-9324-b043e2bf6a31",
   "metadata": {},
   "outputs": [],
   "source": [
    "# Vault Final Results:\n",
    "\n",
    "#     Shin Jea-hwan South Korea\n",
    "#     Denis Abliazin Russia\n",
    "#     Artur Davtyan Armenia\n",
    "\n",
    "# jea-hwan\n",
    "# abliazin\n",
    "# davtyan"
   ]
  },
  {
   "cell_type": "code",
   "execution_count": 129,
   "id": "1d22481f-5eeb-4fb1-bc50-96c553b4553a",
   "metadata": {},
   "outputs": [],
   "source": [
    "import numpy as np\n",
    "\n",
    "# Define the list of names\n",
    "target_names = ['jea', 'abliazin', 'davtyan']\n",
    "\n",
    "# Create a new column \"Medal\" and set the values based on the condition\n",
    "vt['Medal'] = np.where(vt['Name'].str.contains('|'.join(target_names)), 1, 0)\n"
   ]
  },
  {
   "cell_type": "code",
   "execution_count": 130,
   "id": "d623a962-0fb7-4ca2-9de6-05620a480bc0",
   "metadata": {},
   "outputs": [
    {
     "data": {
      "text/plain": [
       "0    203\n",
       "1      2\n",
       "Name: Medal, dtype: int64"
      ]
     },
     "execution_count": 130,
     "metadata": {},
     "output_type": "execute_result"
    }
   ],
   "source": [
    "vt['Medal'].value_counts()"
   ]
  },
  {
   "cell_type": "code",
   "execution_count": 131,
   "id": "877153f0-d5ef-4a1d-a516-1ad70bafc3ec",
   "metadata": {},
   "outputs": [
    {
     "data": {
      "text/html": [
       "<div>\n",
       "<style scoped>\n",
       "    .dataframe tbody tr th:only-of-type {\n",
       "        vertical-align: middle;\n",
       "    }\n",
       "\n",
       "    .dataframe tbody tr th {\n",
       "        vertical-align: top;\n",
       "    }\n",
       "\n",
       "    .dataframe thead th {\n",
       "        text-align: right;\n",
       "    }\n",
       "</style>\n",
       "<table border=\"1\" class=\"dataframe\">\n",
       "  <thead>\n",
       "    <tr style=\"text-align: right;\">\n",
       "      <th></th>\n",
       "      <th>Rank</th>\n",
       "      <th>Name</th>\n",
       "      <th>NOC</th>\n",
       "      <th>D</th>\n",
       "      <th>E</th>\n",
       "      <th>Pen.</th>\n",
       "      <th>Total</th>\n",
       "      <th>year</th>\n",
       "      <th>Medal</th>\n",
       "    </tr>\n",
       "  </thead>\n",
       "  <tbody>\n",
       "    <tr>\n",
       "      <th>2</th>\n",
       "      <td>2</td>\n",
       "      <td>denis abliazin</td>\n",
       "      <td>RUS</td>\n",
       "      <td>6.4</td>\n",
       "      <td>9.133</td>\n",
       "      <td>0.0</td>\n",
       "      <td>15.53</td>\n",
       "      <td>2015</td>\n",
       "      <td>1</td>\n",
       "    </tr>\n",
       "    <tr>\n",
       "      <th>57</th>\n",
       "      <td>54</td>\n",
       "      <td>artur davtyan</td>\n",
       "      <td>ARM</td>\n",
       "      <td>5.2</td>\n",
       "      <td>9.500</td>\n",
       "      <td>0.0</td>\n",
       "      <td>14.70</td>\n",
       "      <td>2015</td>\n",
       "      <td>1</td>\n",
       "    </tr>\n",
       "  </tbody>\n",
       "</table>\n",
       "</div>"
      ],
      "text/plain": [
       "    Rank            Name  NOC    D      E  Pen.  Total  year  Medal\n",
       "2      2  denis abliazin  RUS  6.4  9.133   0.0  15.53  2015      1\n",
       "57    54   artur davtyan  ARM  5.2  9.500   0.0  14.70  2015      1"
      ]
     },
     "execution_count": 131,
     "metadata": {},
     "output_type": "execute_result"
    }
   ],
   "source": [
    "vt[vt['Medal']==1]"
   ]
  },
  {
   "cell_type": "markdown",
   "id": "8c78b250-8ba0-4a91-8e8b-3c6ef8ab3105",
   "metadata": {},
   "source": [
    "<!-- Parallel Bars Final Results:\n",
    "\n",
    "    Zou Jingyuan China\n",
    "    Lukas Dauser Germany\n",
    "    Ferhat Arican Turkey\n",
    "\n",
    "jingyuan\n",
    "dauser\n",
    "arican -->"
   ]
  },
  {
   "cell_type": "code",
   "execution_count": 132,
   "id": "ace90675-f92e-41ea-83f3-322afe28003c",
   "metadata": {},
   "outputs": [
    {
     "name": "stderr",
     "output_type": "stream",
     "text": [
      "/var/folders/j_/555m2zps099832fjh_m8jjnc0000gn/T/ipykernel_69855/463776769.py:7: SettingWithCopyWarning: \n",
      "A value is trying to be set on a copy of a slice from a DataFrame.\n",
      "Try using .loc[row_indexer,col_indexer] = value instead\n",
      "\n",
      "See the caveats in the documentation: https://pandas.pydata.org/pandas-docs/stable/user_guide/indexing.html#returning-a-view-versus-a-copy\n",
      "  pb['Medal'] = np.where(pb['Name'].str.contains('|'.join(target_names)), 1, 0)\n"
     ]
    }
   ],
   "source": [
    "import numpy as np\n",
    "\n",
    "# Define the list of names\n",
    "target_names = ['jingyuan', 'dauser', 'arican']\n",
    "\n",
    "# Create a new column \"Medal\" and set the values based on the condition\n",
    "pb['Medal'] = np.where(pb['Name'].str.contains('|'.join(target_names)), 1, 0)\n"
   ]
  },
  {
   "cell_type": "code",
   "execution_count": 133,
   "id": "d79c5548-6509-4af3-9413-eb4dae560177",
   "metadata": {},
   "outputs": [
    {
     "data": {
      "text/plain": [
       "0    204\n",
       "1      1\n",
       "Name: Medal, dtype: int64"
      ]
     },
     "execution_count": 133,
     "metadata": {},
     "output_type": "execute_result"
    }
   ],
   "source": [
    "pb['Medal'].value_counts()"
   ]
  },
  {
   "cell_type": "code",
   "execution_count": 134,
   "id": "67e52639-abac-4795-a99f-5f704614ba77",
   "metadata": {},
   "outputs": [
    {
     "data": {
      "text/html": [
       "<div>\n",
       "<style scoped>\n",
       "    .dataframe tbody tr th:only-of-type {\n",
       "        vertical-align: middle;\n",
       "    }\n",
       "\n",
       "    .dataframe tbody tr th {\n",
       "        vertical-align: top;\n",
       "    }\n",
       "\n",
       "    .dataframe thead th {\n",
       "        text-align: right;\n",
       "    }\n",
       "</style>\n",
       "<table border=\"1\" class=\"dataframe\">\n",
       "  <thead>\n",
       "    <tr style=\"text-align: right;\">\n",
       "      <th></th>\n",
       "      <th>Rank</th>\n",
       "      <th>Name</th>\n",
       "      <th>NOC</th>\n",
       "      <th>D</th>\n",
       "      <th>E</th>\n",
       "      <th>Pen.</th>\n",
       "      <th>Total</th>\n",
       "      <th>year</th>\n",
       "      <th>Medal</th>\n",
       "    </tr>\n",
       "  </thead>\n",
       "  <tbody>\n",
       "    <tr>\n",
       "      <th>20</th>\n",
       "      <td>19</td>\n",
       "      <td>ferhat arican</td>\n",
       "      <td>TUR</td>\n",
       "      <td>6.6</td>\n",
       "      <td>8.733</td>\n",
       "      <td>0.0</td>\n",
       "      <td>15.33</td>\n",
       "      <td>2015</td>\n",
       "      <td>1</td>\n",
       "    </tr>\n",
       "  </tbody>\n",
       "</table>\n",
       "</div>"
      ],
      "text/plain": [
       "    Rank           Name  NOC    D      E  Pen.  Total  year  Medal\n",
       "20    19  ferhat arican  TUR  6.6  8.733   0.0  15.33  2015      1"
      ]
     },
     "execution_count": 134,
     "metadata": {},
     "output_type": "execute_result"
    }
   ],
   "source": [
    "pb[pb['Medal']==1]"
   ]
  },
  {
   "cell_type": "code",
   "execution_count": 136,
   "id": "ca7ba94c-6ecf-4ea0-bde3-3175dfabaa9e",
   "metadata": {},
   "outputs": [],
   "source": [
    "# # High Bar Final Results\n",
    "\n",
    "# #     Hashimoto Daiki Japan\n",
    "# #     Tin Srbic Croatia\n",
    "# #     Nikita Nagornyy Russia\n",
    "\n",
    "# daiki\n",
    "# srbic\n",
    "# nagornyy"
   ]
  },
  {
   "cell_type": "code",
   "execution_count": 140,
   "id": "eeff0a45-ba0a-437e-9ec2-7ccfb8ca4c48",
   "metadata": {},
   "outputs": [],
   "source": [
    "import numpy as np\n",
    "\n",
    "# Define the list of names\n",
    "target_names = ['daiki', 'Tin', 'nagornyy']\n",
    "\n",
    "# Create a new column \"Medal\" and set the values based on the condition\n",
    "hb['Medal'] = np.where(hb['Name'].str.contains('|'.join(target_names)), 1, 0)\n"
   ]
  },
  {
   "cell_type": "code",
   "execution_count": 141,
   "id": "5cc27e52-6ba5-4204-8b06-47c9d8fd56e0",
   "metadata": {},
   "outputs": [
    {
     "data": {
      "text/plain": [
       "0    204\n",
       "1      1\n",
       "Name: Medal, dtype: int64"
      ]
     },
     "execution_count": 141,
     "metadata": {},
     "output_type": "execute_result"
    }
   ],
   "source": [
    "hb['Medal'].value_counts()"
   ]
  },
  {
   "cell_type": "code",
   "execution_count": 142,
   "id": "3eb8e1d2-088a-41d9-888d-72099cef55d7",
   "metadata": {},
   "outputs": [
    {
     "data": {
      "text/html": [
       "<div>\n",
       "<style scoped>\n",
       "    .dataframe tbody tr th:only-of-type {\n",
       "        vertical-align: middle;\n",
       "    }\n",
       "\n",
       "    .dataframe tbody tr th {\n",
       "        vertical-align: top;\n",
       "    }\n",
       "\n",
       "    .dataframe thead th {\n",
       "        text-align: right;\n",
       "    }\n",
       "</style>\n",
       "<table border=\"1\" class=\"dataframe\">\n",
       "  <thead>\n",
       "    <tr style=\"text-align: right;\">\n",
       "      <th></th>\n",
       "      <th>Rank</th>\n",
       "      <th>Name</th>\n",
       "      <th>NOC</th>\n",
       "      <th>D</th>\n",
       "      <th>E</th>\n",
       "      <th>Pen.</th>\n",
       "      <th>Total</th>\n",
       "      <th>year</th>\n",
       "      <th>Medal</th>\n",
       "    </tr>\n",
       "  </thead>\n",
       "  <tbody>\n",
       "    <tr>\n",
       "      <th>125</th>\n",
       "      <td>117</td>\n",
       "      <td>nikita nagornyy</td>\n",
       "      <td>RUS</td>\n",
       "      <td>5.5</td>\n",
       "      <td>7.866</td>\n",
       "      <td>0.0</td>\n",
       "      <td>13.36</td>\n",
       "      <td>2015</td>\n",
       "      <td>1</td>\n",
       "    </tr>\n",
       "  </tbody>\n",
       "</table>\n",
       "</div>"
      ],
      "text/plain": [
       "     Rank             Name  NOC    D      E  Pen.  Total  year  Medal\n",
       "125   117  nikita nagornyy  RUS  5.5  7.866   0.0  13.36  2015      1"
      ]
     },
     "execution_count": 142,
     "metadata": {},
     "output_type": "execute_result"
    }
   ],
   "source": [
    "hb[hb['Medal']==1]"
   ]
  },
  {
   "cell_type": "code",
   "execution_count": 145,
   "id": "73398cc3-9f20-4108-9e1e-4b21d834ff90",
   "metadata": {},
   "outputs": [],
   "source": [
    "# hb.to_csv('wrld15champ_hb_clean.csv', index=False)\n",
    "# sr.to_csv('wrld15champ_sr_clean.csv', index=False)\n",
    "# fx.to_csv('wrld15champ_fx_clean.csv', index=False)\n",
    "# vt.to_csv('wrld15champ_vt_clean.csv', index=False)\n",
    "# pb.to_csv('wrld15champ_pb_clean.csv', index=False)\n",
    "# ph.to_csv('wrld15champ_ph_clean.csv', index=False)\n"
   ]
  },
  {
   "cell_type": "code",
   "execution_count": null,
   "id": "582c9085-5447-46b2-aca4-aec9ab2becce",
   "metadata": {},
   "outputs": [],
   "source": []
  }
 ],
 "metadata": {
  "kernelspec": {
   "display_name": "Python 3 (ipykernel)",
   "language": "python",
   "name": "python3"
  },
  "language_info": {
   "codemirror_mode": {
    "name": "ipython",
    "version": 3
   },
   "file_extension": ".py",
   "mimetype": "text/x-python",
   "name": "python",
   "nbconvert_exporter": "python",
   "pygments_lexer": "ipython3",
   "version": "3.8.18"
  }
 },
 "nbformat": 4,
 "nbformat_minor": 5
}
