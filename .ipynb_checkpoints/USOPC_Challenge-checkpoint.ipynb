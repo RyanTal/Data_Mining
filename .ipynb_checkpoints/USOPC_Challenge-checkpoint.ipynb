{
 "cells": [
  {
   "cell_type": "markdown",
   "id": "921901b1",
   "metadata": {},
   "source": [
    "github link: https://github.com/ucsas/gym2024data/tree/main"
   ]
  },
  {
   "cell_type": "markdown",
   "id": "8697426a",
   "metadata": {},
   "source": [
    "\n",
    "# UCSAS 2024 USOPC Data Challenge\n",
    "(UConn Sports Analytics Symposium)\n",
    "\n",
    "For this data challenge, your goal is to <b>identify the group of 5 athletes who will enable the Team USA Olympic Men’s and Women’s Artistic Gymnastics teams to optimize success in Paris 2024.</b> You are tasked with developing an analytics model that can be used to identify and compare the expected medal count</b> in the 8 medal events for men (team all-around, individual all-around, floor exercise, pommel horse, still rings, vault, parallel bars, and high bar) and 6 medal events for the women (team all-around, individual all-around, vault, uneven bars, balance beam, and floor exercise).\n",
    "\n",
    "In total, 192 artistic gymnasts will compete at Paris 2024: 96 men and 96 women. <b>Team events will feature 12 teams of 5 athletes each in the men’s and women’s events.</b>* For countries that do not win a full team entry for Paris 2024, a maximum of 3 individuals per country will be able to qualify. Those <b>remaining 36 entries for each gender will be determined by results of the 2023 World Championships, the 2024 World Cup Series, and the 2024 Continental Championships.</b>\n",
    "\n",
    "For each gender, 3 teams qualified at the 2022 World Championships in Liverpool, England. In the men’s competition, teams from China, Japan, and Great Britain qualified. In the women’s competition, teams from the United States, Great Britain, and Canada qualified. For each gender, 9 other countries will qualify teams based on their placements at the 2023 World Championships in Antwerp, Belgium, which will take place from September 30, 2023, and October 8, 2023.\n",
    "\n",
    "*Note that at Tokyo 2020, men’s and women’s teams were composed of 4 athletes. Countries with full teams could also qualify up to 2 additional athletes to compete in Tokyo as individuals. The Team USA men had a 4-person team of Brody Malone, Sam Mikulak, Yul Moldauer, and Shane Wiskus. The USA men had one individual athlete, Alec Yoder, who could compete in the qualifying round at the Olympics to potentially qualify for the individual all-around and the apparatus finals. Similarly, the <b>Team USA women had a 4-person team of Simone Biles, Jordan Chiles, Sunisa Lee, and Grace McCallum. The USA women had two individual athletes, Jade Carey and MyKayla Skinner, who could compete in the qualifying round at the Olympics to potentially qualify for the individual all-around and the apparatus finals.</b>\n",
    "\n",
    "According to recent news, <b>gymnasts from Russia and Belarus</b> will be allowed to take part in sanctioned competitions as “individual neutral athletes” from the start of 2024. Based on that information, Russia and Belarus will not be able to qualify for team artistics gymnastics events in Paris, but they <b>would each be able to qualify up to 3 athletes to compete as individuals</b>, as described above.\n",
    "\n",
    "The problem of choosing a team is complicated by the structure of the Olympic competition. For both the men and women, the athletes first compete in a qualifying round in which their scores are used to determine advancement of teams (i.e,, countries) to the team all-around final and individuals to the individual all-around final and apparatus finals. <b>In qualifying, 4 of the 5 athletes on each team compete on each apparatus, so not every athlete will compete in all apparatus. The athletes representing countries who did not qualify a full team may participate on all apparatus in the qualifying round.</b>\n",
    "\n",
    "<b>The top 8 teams in qualifying advance to the team final based on the sum of the top 3 out of 4 scores on each apparatus (“4 up, 3 count”, for a total of 18 scores for men and 12 scores for women).</b> Athletes must compete on all apparatus in qualifying to be eligible for the individual all-around final. <b>The top 24 athletes qualify for the individual all-around final, with a maximum of two gymnasts per country. The top 8 athletes on each apparatus qualify for the final in that apparatus, again with a maximum of 2 gymnasts per country.<b>\n",
    "\n",
    "In the team all-around, individual all-around, and individual apparatus finals, all athletes’ scores from qualifying are thrown out. <b>In the team all-around final, the medalists are determined by the sum of the 3 scores on each apparatus (“3 up, 3 count”, for a total of 18 scores for men and 12 scores for women).</b> An athlete’s scores in the team all-around final have no effect on their scores in the individual all-around final, and in the individual apparatus finals, all previous scores from qualifying, the team all-around final, and the individual all-around final are thrown out.\n",
    "\n",
    "<b>The goal of this data challenge is to put together the best possible men’s and women’s Team USA Olympic Artistic Gymnastics teams, however, the meaning of “best” is left open to the interpretation of the entrant.</b>\n",
    "\n",
    "For example, a few questions that students could consider for their entry include:\n",
    "\n",
    "    - How would your recommended team differ if you are trying to maximize total medal count, gold medals, or a weighted medal count (e.g., 3 for gold, 2 for silver, 1 for bronze)?\n",
    "    - How would your recommended team change if you consider a team all-around medal to be more valuable than the individual all-around medals and/or if you consider the individual all-around medals to be more valuable than the individual apparatus medals? \n",
    "    - Can Team USA maximize its total medal count by selecting a team of 5 gymnasts who are all-around gymnasts, event specialists (gymnasts who focus on 1 or more apparatus but not all apparatus), or a combination of those?\n",
    "    - Under what circumstances can Team USA maximize its total medal count by selecting a gymnast who only competes on 1 apparatus (e.g., Stephen Nederoscik, 2021 pommel horse World Champion)?\n",
    "\n",
    "Data\n",
    "\n",
    "Data from major domestic and international gymnastics competitions from the seasons leading up to the 2020 Tokyo and 2024 Paris Olympics will be provided to entrants. Because <b>the Code of Points scoring system is changed each Olympic cycle, data from the years (2017-2021) leading up to the 2020 Olympics, which actually took place in 2021, should be used as a separate data set from the data from competitions in the 2022 and 2023 seasons leading up to the 2024 Olympics.</b>\n",
    "\n",
    "The cleaned data is on GitHub, which is being actively updated. The last update of data will be the 2023 World Artistic Gymnastics Championships in Belgium, which ends in early October, 2023.\n",
    "\n",
    "Entrants can use any additional data that they choose as long as that data is publicly available, but the additional data need to be included in the final submission for reproducibility\n",
    "Submission\n",
    "\n",
    "<b>Students must submit a zip file containing:\n",
    "\n",
    "- A pdf report describing their results (max 3000 words)\n",
    "- A folder with\n",
    "    - Documented code files\n",
    "    - A README file describing what each file does.\n",
    "</b>\n",
    "    \n",
    " \n",
    "<b>Note: Students can include other files including any app code or supporting documents. Any code or apps included need to be self-contained and able to run on reviewers’ computers without modification.\n",
    "Eligibility</b>\n",
    "\n",
    "The UCSAS 2024 Data Challenge is open to students only. You must be enrolled as a high school, undergraduate, or graduate student at some point during the 2023-24 academic year. Participants must register using their school email address and participants must be at least 18 years old.\n",
    "\n",
    "Teams must enter one of the following two tracks:\n",
    "\n",
    "- High School / Undergraduate Track\n",
    "- Graduate Track\n",
    "\n",
    "To be eligible for the High School / Undergraduate ALL members of the team must consist of either high school and/or undergraduate students. Each team can have up to 3 members.\n",
    "\n",
    "Terms of Participation\n",
    "\n",
    "United States Olympic & Paralympic Committee IP (logos, terminology, etc.) may not be used in any manner, without prior written consent of the USOPC. USOPC terminology examples include but are not limited to: Olympic, Paralympic, Olympian, Paralympian, United States Olympic & Paralympic Committee (USOPC), Team USA.\n",
    "\n",
    "UCSAS 2024 Data Challenge participants may not imply or publicize any relationship or association between themselves and the USOPC, Team USA and/or the Olympic and Paralympic Movements, without prior written consent of the USOPC.\n",
    "\n",
    "For subsequent use of the project in personal portfolios and presentations other than those related to the UCSAS 2024 Data Challenge and the U.S. Olympic & Paralympic Data, Analytics & Technology Summit (for the Data Challenge winners), participants may anonymize the work product (for example, replace “USOPC” with “U.S. Sport Organization”). Federal law gives the USOPC extensive rights to control the use of USOPC IP in the United States and allows the USOPC to file a lawsuit against any entity using such IP without consent.\n",
    "\n",
    "Note: The USOPC does not control the trademarks or logos owned by the National Governing Body (NGB) for a specific sport. For instruction on the proper use of those marks, please contact the relevant NGB directly.\n",
    "Prizes\n",
    "\n",
    "Finalists (Six teams: three high school / undergraduate and three graduate) will be invited to present their work at UCSAS 2024 in Storrs, CT. Winning teams (one high school/undergraduate team and one graduate team) will receive some travel support and have their registration fees waived. The winning teams will receive a cash prize (UCONN) and a plaque (UCONN). Additionally, the winning teams will have the opportunity to showcase their work, with all travel, registrations, and expenses paid, at the 2024 U.S. Olympic & Paralympic Data, Analytics & Technology Summit in Colorado Springs, CO, providing them with increased exposure and potential opportunities for future collaborations. The runners-up will receive a certificate of achievement (UCONN) and recognition for their outstanding performance in the Data Challenge.\n",
    "Webinar intro to the Challenge and Data\n",
    "\n",
    "    Introduction workshop led by Elliot Schwartz (USOPC) and Jun Yan (UConn)\n",
    "    Time: 09/14/2023, 7-8 pm ET\n",
    "    Registration: here\n",
    "\n",
    "A repetition webinar may be arranged depending on the demands.\n",
    "Important Dates\n",
    "\n",
    "- Data challenge release: August 4, 2023\n",
    "- Webinar introduction: September 14, 2023; Register the training workshop\n",
    "- Submission deadline: January 15, 2024\n",
    "- Finalists notified: February 15, 2024\n",
    "- UCSAS 2024: April 12-13, 2024\n",
    "\n"
   ]
  },
  {
   "cell_type": "markdown",
   "id": "1c5e02ff",
   "metadata": {},
   "source": [
    "https://statds.org/events/ucsas2024/challenge.html"
   ]
  },
  {
   "cell_type": "markdown",
   "id": "50a6d50d",
   "metadata": {},
   "source": [
    "---"
   ]
  },
  {
   "cell_type": "markdown",
   "id": "c4b5f01c",
   "metadata": {},
   "source": [
    "team:\n",
    "\n",
    "- In qualifying, 4 of the 5 athletes on each team compete on each apparatus, so not every athlete will compete in all apparatus. \n",
    "\n",
    "- The top 8 teams in qualifying advance to the team final based on the sum of the top 3 out of 4 scores on each apparatus (“4 up, 3 count”, for a total of 12 scores for women).\n",
    "\n",
    "- In the team all-around final, the medalists are determined by the sum of the 3 scores on each apparatus (“3 up, 3 count”, for a total of 12 scores for women)"
   ]
  },
  {
   "cell_type": "markdown",
   "id": "c8c32579",
   "metadata": {},
   "source": [
    "team:\n",
    "\n",
    "- In qualifying, 4 of the 5 athletes on each team compete on each apparatus, so not every athlete will compete in all apparatus. \n",
    "\n",
    "- The top 8 teams in qualifying advance to the team final based on the sum of the top 3 out of 4 scores on each apparatus (“4 up, 3 count”, for a total of 18 scores for men).\n",
    "\n",
    "- In the team all-around final, the medalists are determined by the sum of the 3 scores on each apparatus (“3 up, 3 count”, for a total of 18 scores for men)"
   ]
  }
 ],
 "metadata": {
  "kernelspec": {
   "display_name": "Python 3 (ipykernel)",
   "language": "python",
   "name": "python3"
  },
  "language_info": {
   "codemirror_mode": {
    "name": "ipython",
    "version": 3
   },
   "file_extension": ".py",
   "mimetype": "text/x-python",
   "name": "python",
   "nbconvert_exporter": "python",
   "pygments_lexer": "ipython3",
   "version": "3.9.12"
  }
 },
 "nbformat": 4,
 "nbformat_minor": 5
}
