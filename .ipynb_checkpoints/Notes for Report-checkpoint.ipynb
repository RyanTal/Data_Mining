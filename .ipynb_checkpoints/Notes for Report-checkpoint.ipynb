{
 "cells": [
  {
   "cell_type": "markdown",
   "id": "24251d20",
   "metadata": {},
   "source": [
    "Goal: pick 4 USA men's Gymnasts. Gymnasts cannot compete on the same appartaus more than once. And each apparatus needs to be competed on 3 times each, then get the largest sum of the top 3 out of 4 scores on each apparats\n",
    "\n"
   ]
  },
  {
   "cell_type": "markdown",
   "id": "53ee73ec",
   "metadata": {
    "jp-MarkdownHeadingCollapsed": true
   },
   "source": [
    "# MODELS \n",
    "\n",
    "## MEN \n",
    "\n",
    "- ph\n",
    "    - AdaBoostClassifier \n",
    "\n",
    "- pb\n",
    "    - XGBClassifier *\n",
    "\n",
    "- vt\n",
    "    - AdaBoost Classifier \n",
    "\n",
    "- sr\n",
    "    - AdaBoost Classifier *\n",
    "\n",
    "- hb\n",
    "    - AdaBoost Classifier \n",
    "    \n",
    "- fx\n",
    "    - AdaBoostClassifier *\n",
    "    \n",
    "- iaa\n",
    "    - AdaBoost Classifier #\n",
    "\n",
    "---\n",
    "\n",
    "- (*) Grid Search\n",
    "- (#) Feature Importance\n",
    "- Scaling made no improvement on any of the mens events\n",
    "\n",
    "\n",
    "## WOMEN \n",
    "\n",
    "- fx\n",
    "    - AdaBoost Classifier *\n",
    "\n",
    "- vt\n",
    "    - RandomForestClassifier\n",
    "    \n",
    "- ub\n",
    "    - DecisionTreeClassifier\n",
    "\n",
    "- bb\n",
    "    - AdaBoostClassifier *\n",
    "        - scaling no improvement\n",
    "        - Feature importanc not used\n",
    "        - grid seach no improvement\n",
    "\n",
    "- iaa\n",
    "    - AdaBoostClassifier *\n",
    "\n"
   ]
  },
  {
   "cell_type": "markdown",
   "id": "e7e5a3b7",
   "metadata": {},
   "source": [
    "# Questions:\n",
    "\n",
    "1. In github there is a example_report.pdf in the submisdsion folder, which is currently blank. Will there be an example report, there in teh future?\n",
    "    - No"
   ]
  },
  {
   "cell_type": "markdown",
   "id": "0685d448",
   "metadata": {},
   "source": [
    "### More interested in models than the results of the models\n",
    "    - for each individual event do modeling with:\n",
    "        1. Adaboost Classifier\n",
    "        2. Random Forest Classifier"
   ]
  },
  {
   "cell_type": "markdown",
   "id": "9c312965",
   "metadata": {},
   "source": [
    "- https://lpsolve.sourceforge.net/4.0/LinearProgrammingFAQ.htm\n",
    "- http://people.brunel.ac.uk/~mastjjb/jeb/or/lp.html\n",
    "- - https://developers.google.com/optimization/lp/lp_example\n",
    "- https://developers.google.com/optimization/lp/mpsolver\n",
    "- https://developers.google.com/optimization/lp/lp_advanced\n",
    "- https://coin-or.github.io/pulp/guides/how_to_configure_solvers.html\n"
   ]
  },
  {
   "cell_type": "markdown",
   "id": "7d6d1b1a",
   "metadata": {},
   "source": [
    "Other metaheuristic methods\n",
    "\n",
    "Metaheuristic methods broadly fall within stochastic optimisation methods.\n",
    "\n",
    "- Simulated annealing (SA) is a related global optimization technique that traverses the search space by testing random mutations on an individual solution. A mutation that increases fitness is always accepted. A mutation that lowers fitness is accepted probabilistically based on the difference in fitness and a decreasing temperature parameter. In SA parlance, one speaks of seeking the lowest energy instead of the maximum fitness. SA can also be used within a standard GA algorithm by starting with a relatively high rate of mutation and decreasing it over time along a given schedule.\n",
    "- Tabu search (TS) is similar to simulated annealing in that both traverse the solution space by testing mutations of an individual solution. While simulated annealing generates only one mutated solution, tabu search generates many mutated solutions and moves to the solution with the lowest energy of those generated. In order to prevent cycling and encourage greater movement through the solution space, a tabu list is maintained of partial or complete solutions. It is forbidden to move to a solution that contains elements of the tabu list, which is updated as the solution traverses the solution space.\n",
    "\n",
    "\n",
    "https://en.wikipedia.org/wiki/Genetic_algorithm"
   ]
  },
  {
   "cell_type": "markdown",
   "id": "fb7d1613",
   "metadata": {},
   "source": [
    "metaheuristic image in images folder - link https://en.wikipedia.org/wiki/Metaheuristic"
   ]
  },
  {
   "cell_type": "markdown",
   "id": "eb5811d8",
   "metadata": {},
   "source": [
    "# mens 2020 Olympic Finals Used 4 up 3 count in Finals, which is what will be used in Qualifying round in 2024\n",
    "\n",
    "russia - 262.500\n",
    "japan - 262.397 \n",
    "China - 261.894 \n",
    "GB - 255.760 \n",
    "USA - 254.594 "
   ]
  }
 ],
 "metadata": {
  "kernelspec": {
   "display_name": "Python 3 (ipykernel)",
   "language": "python",
   "name": "python3"
  },
  "language_info": {
   "codemirror_mode": {
    "name": "ipython",
    "version": 3
   },
   "file_extension": ".py",
   "mimetype": "text/x-python",
   "name": "python",
   "nbconvert_exporter": "python",
   "pygments_lexer": "ipython3",
   "version": "3.8.18"
  }
 },
 "nbformat": 4,
 "nbformat_minor": 5
}
