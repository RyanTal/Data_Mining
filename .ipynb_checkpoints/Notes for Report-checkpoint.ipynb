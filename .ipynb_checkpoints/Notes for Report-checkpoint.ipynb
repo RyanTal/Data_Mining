{
 "cells": [
  {
   "cell_type": "markdown",
   "id": "24251d20",
   "metadata": {},
   "source": [
    "Goal: pick 4 USA men's Gymnasts. Gymnasts cannot compete on the same appartaus more than once. And each apparatus needs to be competed on 3 times each, then get the largest sum of the top 3 out of 4 scores on each apparats\n",
    "\n"
   ]
  },
  {
   "cell_type": "markdown",
   "id": "e7e5a3b7",
   "metadata": {},
   "source": [
    "# Questions:\n",
    "\n",
    "1. In github there is a example_report.pdf in the submisdsion folder, which is currently blank. Will there be an example report, there in teh future?\n",
    "    - No"
   ]
  },
  {
   "cell_type": "markdown",
   "id": "0685d448",
   "metadata": {},
   "source": [
    "### More interested in models than the results of the models\n",
    "    - for each individual event do modeling with:\n",
    "        1. Adaboost Classifier\n",
    "        2. Random Forest Classifier"
   ]
  },
  {
   "cell_type": "markdown",
   "id": "9c312965",
   "metadata": {},
   "source": [
    "- https://lpsolve.sourceforge.net/4.0/LinearProgrammingFAQ.htm\n",
    "- http://people.brunel.ac.uk/~mastjjb/jeb/or/lp.html\n",
    "- - https://developers.google.com/optimization/lp/lp_example\n",
    "- https://developers.google.com/optimization/lp/mpsolver\n",
    "- https://developers.google.com/optimization/lp/lp_advanced\n",
    "- https://coin-or.github.io/pulp/guides/how_to_configure_solvers.html\n"
   ]
  },
  {
   "cell_type": "markdown",
   "id": "fb7d1613",
   "metadata": {},
   "source": [
    "metaheuristic image in images folder - link https://en.wikipedia.org/wiki/Metaheuristic"
   ]
  },
  {
   "cell_type": "markdown",
   "id": "eb5811d8",
   "metadata": {},
   "source": [
    "# mens 2020 Olympic Finals Used 4 up 3 count in Finals, which is what will be used in Qualifying round in 2024\n",
    "\n",
    "russia - 262.500\n",
    "japan - 262.397 \n",
    "China - 261.894 \n",
    "GB - 255.760 \n",
    "USA - 254.594 "
   ]
  }
 ],
 "metadata": {
  "kernelspec": {
   "display_name": "Python 3 (ipykernel)",
   "language": "python",
   "name": "python3"
  },
  "language_info": {
   "codemirror_mode": {
    "name": "ipython",
    "version": 3
   },
   "file_extension": ".py",
   "mimetype": "text/x-python",
   "name": "python",
   "nbconvert_exporter": "python",
   "pygments_lexer": "ipython3",
   "version": "3.8.18"
  }
 },
 "nbformat": 4,
 "nbformat_minor": 5
}
