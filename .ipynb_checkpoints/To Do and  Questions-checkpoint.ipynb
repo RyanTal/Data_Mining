{
 "cells": [
  {
   "cell_type": "markdown",
   "id": "f3b64d36",
   "metadata": {},
   "source": [
    "Yes, students taking for-credit classes receive an IdentiKey, which includes your CU Boulder login name and password. Your IdentiKey uniquely identifies you and acts as your student identification number. Students can also receive a physical Buff OneCard (student ID card) for $30 by emailing a headshot, photo ID, and mailing address to boc@colorado.edu from your colorado.edu student email address. Learn more on the Buff OneCard site.\n",
    "\n",
    "https://www.colorado.edu/program/data-science/coursera/faqs"
   ]
  },
  {
   "cell_type": "markdown",
   "id": "dc3f441b",
   "metadata": {},
   "source": [
    "to change to CU \n",
    "\n",
    "\n",
    "- (base) cu-genvpn-tcom-10:Data_Mining ryantalbot$ ssh-add ~/.ssh/RyanTal\n",
    "- Enter passphrase for /Users/ryantalbot/.ssh/RyanTal: \n",
    "\n",
    "- then git add, commit, push"
   ]
  },
  {
   "cell_type": "markdown",
   "id": "93070853",
   "metadata": {},
   "source": [
    "import sys\n",
    "sys.path\n",
    "/Users/ryantalbot/opt/anaconda3/envs/tf2/bin/python3 -m pip install pyswarms"
   ]
  },
  {
   "cell_type": "code",
   "execution_count": 2,
   "id": "cc16a590",
   "metadata": {},
   "outputs": [],
   "source": [
    "# import site\n",
    "\n",
    "# # Get the site-packages directory\n",
    "# site_packages = site.getsitepackages()\n",
    "\n",
    "# print(\"Site Packages Directory:\")\n",
    "# for path in site_packages:\n",
    "#     print(path)\n"
   ]
  },
  {
   "cell_type": "markdown",
   "id": "8ac774e4",
   "metadata": {},
   "source": []
  },
  {
   "cell_type": "markdown",
   "id": "f4a07b28",
   "metadata": {},
   "source": [
    "# Questions:\n",
    "\n",
    "1. In github there is a example_report.pdf in the submisdsion folder, which is currently blank. Will there be an example report, there in teh future?\n",
    "    - No\n",
    "\n",
    "\n",
    "\n",
    "\n"
   ]
  },
  {
   "cell_type": "markdown",
   "id": "d895fe08",
   "metadata": {},
   "source": [
    "### More interested in models than the results of the models\n",
    "    - for each individual event do modeling with:\n",
    "        1. Adaboost Classifier\n",
    "        2. Random Forest Classifier\n",
    "\n",
    "###  EDA"
   ]
  },
  {
   "cell_type": "markdown",
   "id": "5944958e",
   "metadata": {},
   "source": [
    "https://www.kdnuggets.com/understanding-classification-metrics-your-guide-to-assessing-model-accuracy\n",
    "\n",
    "\n",
    "https://www.kdnuggets.com/hyperparameter-tuning-gridsearchcv-and-randomizedsearchcv-explained\n",
    "\n",
    "\n",
    "for team - Grid Search - Randomized Search\n",
    "\n",
    "Pros and Cons of \n",
    "\n",
    " \n",
    "\n",
    "Using grid search for hyperparameter tuning has the following advantages:\n",
    "\n",
    "    Grid search explores all specified combinations, ensuring you don't miss the best hyperparameters within the defined search space.\n",
    "    It is a good choice for exploring smaller hyperparameter spaces. \n",
    "\n",
    "On the flip side, however:\n",
    "\n",
    "    Grid search can be computationally expensive, especially when dealing with a large number of hyperparameters and their values. It may not be feasible for very complex models or extensive hyperparameter searches. \n",
    "    \n",
    "    \n",
    "    \n",
    "Pros and Cons of Randomized Search\n",
    "\n",
    "\n",
    "Let’s sum up the advantages of randomized search:\n",
    "\n",
    "    Randomized search is efficient when dealing with a large number of hyperparameters or a wide range of values because it doesn't require an exhaustive search.\n",
    "    It can handle various parameter types, including continuous and discrete values. \n",
    "\n",
    "Here are some limitations of randomized search:\n",
    "\n",
    "    Due to its random nature, it may not always find the best hyperparameters. But it often finds good ones quickly.\n",
    "    Unlike grid search, it doesn't guarantee that all possible combinations will be explored. "
   ]
  },
  {
   "cell_type": "markdown",
   "id": "179897a1",
   "metadata": {},
   "source": [
    "Integer Linear Programming (ILP):\n",
    "- ILP is a natural fit for your problem, especially if you want to ensure that the selected athletes are integer values (you either select an athlete or you don't).\n",
    "\n",
    "Linear Programming with PuLP:\n",
    "- PuLP is a Python library for defining linear programming problems. It can handle both continuous and binary decision variables. You can formulate your problem using PuLP, and it will use appropriate algorithms to find the optimal solution.\n",
    "\n",
    "Mixed-Integer Linear Programming (MILP):\n",
    "- MILP is an extension of ILP where some decision variables are restricted to integer values. Since you are selecting a fixed number of athletes (integer values), MILP could be a suitable approach.\n",
    "\n",
    "Branch and Bound:\n",
    "- Branch and Bound is a general algorithmic framework that can be adapted for solving MILP problems. It explores different combinations of athletes and apparatus to find the optimal solution.\n",
    "\n",
    "Combinatorial Optimization Algorithms:\n",
    "- In addition to linear programming, you might also consider combinatorial optimization algorithms like genetic algorithms, simulated annealing, or other metaheuristic approaches. These algorithms are good at exploring large solution spaces."
   ]
  },
  {
   "cell_type": "markdown",
   "id": "4a3b1b3a",
   "metadata": {},
   "source": [
    "Combinatorial Optimization Algorithms:\n",
    "\n",
    "\n",
    "genetic Algorithms (GA):\n",
    "\n",
    "- Strengths:\n",
    "        Can handle combinatorial optimization problems well.\n",
    "        Provides a mechanism for exploring a diverse set of solutions.\n",
    "        Effective in searching large solution spaces.\n",
    "- Considerations:\n",
    "        May require careful tuning of parameters.\n",
    "        Population size and mutation/crossover rates need optimization.\n",
    "\n",
    "Simulated Annealing:\n",
    "\n",
    "- Strengths:\n",
    "        Can escape local optima by allowing worse solutions early in the search.\n",
    "        Well-suited for exploration-exploitation trade-offs.\n",
    "        Effective for problems with complex solution spaces.\n",
    "- Considerations:\n",
    "        The choice of the annealing schedule and temperature parameters is crucial.\n",
    "\n",
    "Particle Swarm Optimization (PSO):\n",
    "\n",
    "- Strengths:\n",
    "        Particularly effective in continuous optimization but can be adapted for combinatorial problems.\n",
    "        Utilizes a population of solutions, mimicking social behavior.\n",
    "- Considerations:\n",
    "        Sensitivity to parameter settings.\n",
    "        May require careful balancing of exploration and exploitation.\n",
    "        \n",
    "        \n",
    "        \n",
    "Ant Colony Optimization (ACO):\n",
    "- Strengths:\n",
    "            Particularly effective for problems involving graphs and networks.\n",
    "            Can be adapted to combinatorial optimization problems.\n",
    "- Considerations:\n",
    "            Requires defining the problem in terms of graph representation.\n",
    "\n",
    "Tabu Search:\n",
    "- Strengths:\n",
    "            Effective for escaping local optima by introducing memory to prevent revisiting the same solutions.\n",
    "- Considerations:\n",
    "            The effectiveness can depend on the definition of the neighborhood structure.\n",
    "\n",
    "Genetic Programming (GP):\n",
    "- Strengths:\n",
    "            Extends genetic algorithms to evolve computer programs or solutions represented as tree structures.\n",
    "            Useful for symbolic regression and automatic code generation.\n",
    "- Considerations:\n",
    "            Requires careful consideration of the representation of solutions.\n",
    "\n",
    "Hyper-Heuristics:\n",
    "- Strengths:\n",
    "            Operate on a set of heuristics rather than directly on the problem space.\n",
    "            Dynamically choose or combine heuristics during the optimization process.\n",
    "- Considerations:\n",
    "            Effective if a set of diverse heuristics is available.\n",
    "\n",
    "Variable Neighborhood Search (VNS):\n",
    "- Strengths:\n",
    "            Systematically changes the neighborhood structure of a solution, exploring different neighborhoods.\n",
    "- Considerations:\n",
    "            Requires defining a strategy for changing the neighborhood.\n",
    "\n",
    "Evolutionary Strategies:\n",
    "- Strengths:\n",
    "            Effective for optimizing a population of candidate solutions in continuous or combinatorial spaces.\n",
    "- Considerations:\n",
    "            Adaptations may be needed for combinatorial problems.\n",
    "\n",
    "Harmony Search:\n",
    "- Strengths:\n",
    "            Inspired by musical improvisation, it creates a harmony memory to explore the solution space.\n",
    "- Considerations:\n",
    "            Suitable for continuous optimization; may need adaptations for combinatorial problems."
   ]
  },
  {
   "cell_type": "code",
   "execution_count": null,
   "id": "1c93df79",
   "metadata": {},
   "outputs": [],
   "source": []
  }
 ],
 "metadata": {
  "kernelspec": {
   "display_name": "Python 3 (ipykernel)",
   "language": "python",
   "name": "python3"
  },
  "language_info": {
   "codemirror_mode": {
    "name": "ipython",
    "version": 3
   },
   "file_extension": ".py",
   "mimetype": "text/x-python",
   "name": "python",
   "nbconvert_exporter": "python",
   "pygments_lexer": "ipython3",
   "version": "3.9.12"
  }
 },
 "nbformat": 4,
 "nbformat_minor": 5
}
