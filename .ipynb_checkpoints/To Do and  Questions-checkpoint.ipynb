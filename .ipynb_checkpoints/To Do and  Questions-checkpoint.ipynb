{
 "cells": [
  {
   "cell_type": "markdown",
   "id": "dc3f441b",
   "metadata": {},
   "source": [
    "to change to CU \n",
    "\n",
    "\n",
    "- (base) cu-genvpn-tcom-10:Data_Mining ryantalbot$ ssh-add ~/.ssh/RyanTal\n",
    "- Enter passphrase for /Users/ryantalbot/.ssh/RyanTal: \n",
    "\n",
    "- then git add, commit, push"
   ]
  },
  {
   "cell_type": "markdown",
   "id": "93070853",
   "metadata": {},
   "source": [
    "import sys\n",
    "sys.path\n",
    "/Users/ryantalbot/opt/anaconda3/envs/tf2/bin/python3 -m pip install matlabengine\n"
   ]
  },
  {
   "cell_type": "code",
   "execution_count": 2,
   "id": "cc16a590",
   "metadata": {},
   "outputs": [],
   "source": [
    "# import site\n",
    "\n",
    "# # Get the site-packages directory\n",
    "# site_packages = site.getsitepackages()\n",
    "\n",
    "# print(\"Site Packages Directory:\")\n",
    "# for path in site_packages:\n",
    "#     print(path)\n"
   ]
  },
  {
   "cell_type": "markdown",
   "id": "8ac774e4",
   "metadata": {},
   "source": [
    "# eda on Vitaliy Guimaraes"
   ]
  },
  {
   "cell_type": "markdown",
   "id": "f4a07b28",
   "metadata": {},
   "source": [
    "# Questions:\n",
    "\n",
    "1. In github there is a example_report.pdf in the submisdsion folder, which is currently blank. Will there be an example report, there in teh future?\n",
    "    - No\n",
    "\n",
    "3. If we have numerous files and several files are doing the same thing, are we still expected to have a description for each file in the README.md\n",
    "\n",
    "\n",
    "\n",
    "\n"
   ]
  },
  {
   "cell_type": "markdown",
   "id": "d895fe08",
   "metadata": {},
   "source": [
    "### More interested in models than the results of the models\n",
    "    - for each individual event do modeling with:\n",
    "        1. Adaboost Classifier\n",
    "        2. Random Forest Classifier\n",
    "\n",
    "###  EDA"
   ]
  },
  {
   "cell_type": "markdown",
   "id": "80705a34",
   "metadata": {},
   "source": [
    "Neural Combinatorial Optimization using Reinforcement Learning\n",
    "\n",
    "from ortools.linear_solver import pywraplp\n",
    "\n",
    "\n",
    "Reinforcement learning for combinatorial optimization\n",
    "\n",
    "Genetic Algorithm\n",
    "\n",
    " RL and Deep Q Networks\n",
    " \n",
    " "
   ]
  },
  {
   "cell_type": "markdown",
   "id": "02b818ec",
   "metadata": {},
   "source": [
    "https://github.com/baptistar/BOCS"
   ]
  },
  {
   "cell_type": "markdown",
   "id": "057ade36",
   "metadata": {},
   "source": [
    "combinatorial optimization problems:\n",
    "\n",
    "    Random-restart hill-climbing\n",
    "    Simulated annealing\n",
    "    Genetic algorithms\n",
    "    Tabu search "
   ]
  },
  {
   "cell_type": "code",
   "execution_count": null,
   "id": "32b63ad2",
   "metadata": {},
   "outputs": [],
   "source": []
  }
 ],
 "metadata": {
  "kernelspec": {
   "display_name": "Python 3 (ipykernel)",
   "language": "python",
   "name": "python3"
  },
  "language_info": {
   "codemirror_mode": {
    "name": "ipython",
    "version": 3
   },
   "file_extension": ".py",
   "mimetype": "text/x-python",
   "name": "python",
   "nbconvert_exporter": "python",
   "pygments_lexer": "ipython3",
   "version": "3.9.12"
  }
 },
 "nbformat": 4,
 "nbformat_minor": 5
}
