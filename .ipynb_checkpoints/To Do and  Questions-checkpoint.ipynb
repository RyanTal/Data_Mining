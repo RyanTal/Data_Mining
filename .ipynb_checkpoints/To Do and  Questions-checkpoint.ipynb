{
 "cells": [
  {
   "cell_type": "markdown",
   "id": "fd3a1e82",
   "metadata": {},
   "source": [
    "## Feature Importance added to\n",
    "\n",
    "### Mens:\n",
    "\n",
    "- iaa\n",
    "- ph\n",
    "- vt\n",
    "- hb\n",
    "- sr\n",
    "- pb\n",
    "- fx\n",
    "\n",
    "### Women\n",
    "\n",
    "- bb - IMPROVED \n",
    "- iaa - didn't help\n",
    "- fx - didn't help\n",
    "- vt - didn't help\n",
    "- ub - didn't help\n",
    "        \n",
    "# BB needs work"
   ]
  },
  {
   "cell_type": "markdown",
   "id": "4885e6a0",
   "metadata": {
    "extensions": {
     "jupyter_dashboards": {
      "version": 1,
      "views": {
       "grid_default": {},
       "report_default": {
        "hidden": false
       }
      }
     }
    }
   },
   "source": [
    "# Questions\n",
    "\n",
    "1. What type of format should the report be in? What are you looking to see?\n",
    "\n",
    "2. looking over criteria for qualifying for individual events in the olympics. My understanding is that if for ex. Team USA has qualified for the olympics then a person from the USA cannot qualify for individual events. Is that correct? \n",
    "\n",
    "https://gymnasticsresults.com/results/2024/olympics/qualification/\n",
    "2023 World Championships – All-Around Qualification Athletes\n",
    "\n",
    "Based on the qualification results from the 2023 World Championships, the top 8 men and 14 women in the all-around standings who are NOT from a country that has already qualified a team place are awarded an individual qualification place.\n",
    "\n",
    "When looking at wikipedia this seems to be true:\n",
    "https://en.wikipedia.org/wiki/Gymnastics_at_the_2024_Summer_Olympics_%E2%80%93_Qualification#Individuals_2\n",
    "\n",
    "this has Kaylia Nemour qualifying for the olympics in the IAA despite her getting 6th 2023 World Artistic Gymnastics Championships and Simone Biles who won the event is not listed as qualified for the IAA in the Olympics.\n",
    "\n",
    "Is it possible to have athletes compete in team and individual events and if so how is that determined? Can only the individuals on the 5 person Team compete in individual events? I feel like this is very basic principle, but I'm failing to understand. \n",
    "\n",
    "If you could please illucidate how many people can qualify from a country and how that works I would greatly appreciate it. I've also attached the qualifying criteria below, which just seemed to further confuse me. "
   ]
  },
  {
   "cell_type": "markdown",
   "id": "48ba0bcd",
   "metadata": {
    "extensions": {
     "jupyter_dashboards": {
      "version": 1,
      "views": {
       "grid_default": {},
       "report_default": {
        "hidden": false
       }
      }
     }
    }
   },
   "source": [
    "Review confusion matrixs for \n",
    "- False negatives = bad\n",
    "- False postives = ok"
   ]
  },
  {
   "cell_type": "markdown",
   "id": "f3b64d36",
   "metadata": {
    "extensions": {
     "jupyter_dashboards": {
      "version": 1,
      "views": {
       "grid_default": {},
       "report_default": {
        "hidden": false
       }
      }
     }
    }
   },
   "source": [
    "Yes, students taking for-credit classes receive an IdentiKey, which includes your CU Boulder login name and password. Your IdentiKey uniquely identifies you and acts as your student identification number. Students can also receive a physical Buff OneCard (student ID card) for $30 by emailing a headshot, photo ID, and mailing address to boc@colorado.edu from your colorado.edu student email address. Learn more on the Buff OneCard site.\n",
    "\n",
    "https://www.colorado.edu/program/data-science/coursera/faqs"
   ]
  },
  {
   "cell_type": "markdown",
   "id": "dc3f441b",
   "metadata": {
    "extensions": {
     "jupyter_dashboards": {
      "version": 1,
      "views": {
       "grid_default": {},
       "report_default": {
        "hidden": false
       }
      }
     }
    }
   },
   "source": [
    "to change to CU \n",
    "\n",
    "\n",
    "- (base) cu-genvpn-tcom-10:Data_Mining ryantalbot$ ssh-add ~/.ssh/RyanTal\n",
    "- Enter passphrase for /Users/ryantalbot/.ssh/RyanTal: \n",
    "\n",
    "- then git add, commit, push"
   ]
  },
  {
   "cell_type": "markdown",
   "id": "93070853",
   "metadata": {
    "extensions": {
     "jupyter_dashboards": {
      "version": 1,
      "views": {
       "grid_default": {},
       "report_default": {
        "hidden": false
       }
      }
     }
    }
   },
   "source": [
    "import sys\n",
    "sys.path\n",
    "/Users/ryantalbot/opt/anaconda3/envs/tf2/bin/python3 -m pip install voila\n"
   ]
  },
  {
   "cell_type": "code",
   "execution_count": 1,
   "id": "cc16a590",
   "metadata": {
    "extensions": {
     "jupyter_dashboards": {
      "version": 1,
      "views": {
       "grid_default": {},
       "report_default": {
        "hidden": true
       }
      }
     }
    }
   },
   "outputs": [],
   "source": [
    "# import site\n",
    "\n",
    "# # Get the site-packages directory\n",
    "# site_packages = site.getsitepackages()\n",
    "\n",
    "# print(\"Site Packages Directory:\")\n",
    "# for path in site_packages:\n",
    "#     print(path)\n"
   ]
  },
  {
   "cell_type": "markdown",
   "id": "1c1d0328",
   "metadata": {
    "extensions": {
     "jupyter_dashboards": {
      "version": 1,
      "views": {
       "grid_default": {},
       "report_default": {
        "hidden": false
       }
      }
     }
    }
   },
   "source": [
    "When dealing with an imbalanced dataset, your goal with PCA can align with several objectives, depending on the context of your analysis. Here are some considerations:\n",
    "\n",
    "    Visualization of Imbalanced Data:\n",
    "        Goal: Visualize high-dimensional imbalanced data in a lower-dimensional space.\n",
    "        Why: PCA allows you to project data onto a smaller number of dimensions, facilitating visualization. This can be useful for understanding the distribution of both majority and minority classes in a more manageable space.\n",
    "\n",
    "    Dimensionality Reduction for Model Training:\n",
    "        Goal: Reduce the dimensionality of features for training machine learning models.\n",
    "        Why: Imbalanced datasets with a large number of features may benefit from dimensionality reduction to mitigate the risk of overfitting. Reducing the number of features can also speed up model training.\n",
    "\n",
    "    Enhancing Feature Importance Analysis:\n",
    "        Goal: Identify which features contribute the most to the variability in the imbalanced data.\n",
    "        Why: PCA can reveal which features are most important for explaining the observed variance. Understanding feature importance can guide feature selection and model interpretation.\n",
    "\n",
    "    Pattern Recognition:\n",
    "        Goal: Uncover patterns or clusters within the imbalanced dataset.\n",
    "        Why: While imbalanced datasets pose challenges for traditional modeling, PCA may reveal underlying structures or patterns. This can be useful for identifying potential subgroups within the minority class.\n",
    "\n",
    "    Improving Model Performance:\n",
    "        Goal: Enhance the performance of machine learning models on imbalanced data.\n",
    "        Why: Reducing dimensionality through PCA may help address issues related to the curse of dimensionality and overfitting, leading to more stable and generalizable models.\n",
    "\n",
    "    Noise Reduction:\n",
    "        Goal: Diminish the impact of noisy or less informative features.\n",
    "        Why: Imbalanced datasets may contain features that are less relevant for the minority class. PCA tends to emphasize features with higher variance, potentially reducing the impact of noise.\n",
    "\n",
    "It's important to note that while PCA can offer benefits, it's not a one-size-fits-all solution. The effectiveness of PCA depends on the characteristics of your data and the specific challenges posed by the class imbalance. Additionally, consider combining PCA with techniques like oversampling (e.g., SMOTE) or adjusting class weights during model training to address class imbalance more directly. Experimentation and careful evaluation are key in determining the most suitable approach for your specific case."
   ]
  },
  {
   "cell_type": "code",
   "execution_count": null,
   "id": "db4b39ca",
   "metadata": {
    "extensions": {
     "jupyter_dashboards": {
      "version": 1,
      "views": {
       "grid_default": {},
       "report_default": {
        "hidden": true
       }
      }
     }
    }
   },
   "outputs": [],
   "source": []
  }
 ],
 "metadata": {
  "extensions": {
   "jupyter_dashboards": {
    "activeView": "report_default",
    "version": 1,
    "views": {
     "grid_default": {
      "cellMargin": 10,
      "defaultCellHeight": 20,
      "maxColumns": 12,
      "name": "grid",
      "type": "grid"
     },
     "report_default": {
      "name": "report",
      "type": "report"
     }
    }
   }
  },
  "kernelspec": {
   "display_name": "Python 3 (ipykernel)",
   "language": "python",
   "name": "python3"
  },
  "language_info": {
   "codemirror_mode": {
    "name": "ipython",
    "version": 3
   },
   "file_extension": ".py",
   "mimetype": "text/x-python",
   "name": "python",
   "nbconvert_exporter": "python",
   "pygments_lexer": "ipython3",
   "version": "3.9.12"
  }
 },
 "nbformat": 4,
 "nbformat_minor": 5
}
