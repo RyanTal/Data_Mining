{
 "cells": [
  {
   "cell_type": "markdown",
   "id": "dc3f441b",
   "metadata": {},
   "source": [
    "to change to CU \n",
    "\n",
    "\n",
    "- (base) cu-genvpn-tcom-10:Data_Mining ryantalbot$ ssh-add ~/.ssh/RyanTal\n",
    "- Enter passphrase for /Users/ryantalbot/.ssh/RyanTal: \n",
    "\n",
    "- then git add, commit, push"
   ]
  },
  {
   "cell_type": "markdown",
   "id": "8ac774e4",
   "metadata": {},
   "source": [
    "# eda on Vitaliy Guimaraes"
   ]
  },
  {
   "cell_type": "markdown",
   "id": "f4a07b28",
   "metadata": {},
   "source": [
    "# Questions:\n",
    "\n",
    "1. In github there is a example_report.pdf in the submisdsion folder, which is currently blank, will that be filled-in in the future as an example report?\n",
    "\n",
    "\n",
    "2. Is there a maximum number of files we can have? Will we lose 'points' if we have a lot of files?\n",
    "\n",
    "3. If we have numerous files and several files are doing the same thing, are we still expected to have a description for each file in the README.md\n",
    "\n"
   ]
  }
 ],
 "metadata": {
  "kernelspec": {
   "display_name": "Python 3 (ipykernel)",
   "language": "python",
   "name": "python3"
  },
  "language_info": {
   "codemirror_mode": {
    "name": "ipython",
    "version": 3
   },
   "file_extension": ".py",
   "mimetype": "text/x-python",
   "name": "python",
   "nbconvert_exporter": "python",
   "pygments_lexer": "ipython3",
   "version": "3.9.12"
  }
 },
 "nbformat": 4,
 "nbformat_minor": 5
}
