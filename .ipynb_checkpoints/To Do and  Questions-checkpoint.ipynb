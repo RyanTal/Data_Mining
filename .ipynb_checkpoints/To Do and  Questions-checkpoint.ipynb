{
 "cells": [
  {
   "cell_type": "markdown",
   "id": "dc3f441b",
   "metadata": {},
   "source": [
    "to change to CU \n",
    "\n",
    "\n",
    "- (base) cu-genvpn-tcom-10:Data_Mining ryantalbot$ ssh-add ~/.ssh/RyanTal\n",
    "- Enter passphrase for /Users/ryantalbot/.ssh/RyanTal: \n",
    "\n",
    "- then git add, commit, push"
   ]
  },
  {
   "cell_type": "markdown",
   "id": "8ac774e4",
   "metadata": {},
   "source": [
    "# eda on Vitaliy Guimaraes"
   ]
  },
  {
   "cell_type": "markdown",
   "id": "f4a07b28",
   "metadata": {},
   "source": [
    "# Questions:\n",
    "\n",
    "1. In github there is a example_report.pdf in the submisdsion folder, which is currently blank, will that be filled-in in the future as an example report?\n",
    "\n",
    "\n",
    "2. Is there a maximum number of files we can have? Will we lose 'points' if we have a lot of files?\n",
    "\n",
    "3. If we have numerous files and several files are doing the same thing, are we still expected to have a description for each file in the README.md\n",
    "\n"
   ]
  },
  {
   "cell_type": "markdown",
   "id": "4de03d66",
   "metadata": {},
   "source": [
    "# - /Combine_Data/women/combine_usa_women.ipynb\n",
    "\n",
    "csv files changed after update in teh above file.\n",
    "\n",
    "# - /Combine_Data/men/encode_fx.ipynb\n",
    "\n",
    "df length wqas 421 now its 363\n",
    "\n",
    "# - /Combine_Data/men/encode_hb.ipynb\n",
    "\n",
    " df went from 381 to 322"
   ]
  },
  {
   "cell_type": "code",
   "execution_count": 1,
   "id": "7a3be4d7",
   "metadata": {},
   "outputs": [
    {
     "data": {
      "text/plain": [
       "59"
      ]
     },
     "execution_count": 1,
     "metadata": {},
     "output_type": "execute_result"
    }
   ],
   "source": [
    "381-322"
   ]
  },
  {
   "cell_type": "code",
   "execution_count": 2,
   "id": "d1311606",
   "metadata": {},
   "outputs": [
    {
     "data": {
      "text/plain": [
       "58"
      ]
     },
     "execution_count": 2,
     "metadata": {},
     "output_type": "execute_result"
    }
   ],
   "source": [
    "421-363"
   ]
  },
  {
   "cell_type": "code",
   "execution_count": 3,
   "id": "96e6c5c5",
   "metadata": {},
   "outputs": [
    {
     "data": {
      "text/plain": [
       "117"
      ]
     },
     "execution_count": 3,
     "metadata": {},
     "output_type": "execute_result"
    }
   ],
   "source": [
    "59+58"
   ]
  },
  {
   "cell_type": "code",
   "execution_count": 4,
   "id": "61269952",
   "metadata": {},
   "outputs": [],
   "source": [
    "# encode_pb increased by 139"
   ]
  },
  {
   "cell_type": "code",
   "execution_count": 5,
   "id": "2c242777",
   "metadata": {},
   "outputs": [
    {
     "data": {
      "text/plain": [
       "147"
      ]
     },
     "execution_count": 5,
     "metadata": {},
     "output_type": "execute_result"
    }
   ],
   "source": [
    "561-414 "
   ]
  },
  {
   "cell_type": "code",
   "execution_count": 6,
   "id": "67b24823",
   "metadata": {},
   "outputs": [],
   "source": [
    "# ph inc. by 147"
   ]
  },
  {
   "cell_type": "code",
   "execution_count": 7,
   "id": "8feea9b4",
   "metadata": {},
   "outputs": [
    {
     "data": {
      "text/plain": [
       "139"
      ]
     },
     "execution_count": 7,
     "metadata": {},
     "output_type": "execute_result"
    }
   ],
   "source": [
    "520-381"
   ]
  },
  {
   "cell_type": "code",
   "execution_count": null,
   "id": "eb2d7f0b",
   "metadata": {},
   "outputs": [],
   "source": [
    "# sr inc by 139"
   ]
  }
 ],
 "metadata": {
  "kernelspec": {
   "display_name": "Python 3 (ipykernel)",
   "language": "python",
   "name": "python3"
  },
  "language_info": {
   "codemirror_mode": {
    "name": "ipython",
    "version": 3
   },
   "file_extension": ".py",
   "mimetype": "text/x-python",
   "name": "python",
   "nbconvert_exporter": "python",
   "pygments_lexer": "ipython3",
   "version": "3.9.12"
  }
 },
 "nbformat": 4,
 "nbformat_minor": 5
}
