{
 "cells": [
  {
   "cell_type": "code",
   "execution_count": 1,
   "id": "c58d7bbe",
   "metadata": {},
   "outputs": [],
   "source": [
    "import pandas as pd\n",
    "import numpy as np"
   ]
  },
  {
   "cell_type": "code",
   "execution_count": 2,
   "id": "525c6d9a",
   "metadata": {},
   "outputs": [],
   "source": [
    "df = pd.read_csv('men22_23.csv')"
   ]
  },
  {
   "cell_type": "code",
   "execution_count": 3,
   "id": "c02a673d",
   "metadata": {},
   "outputs": [
    {
     "data": {
      "text/plain": [
       "m    15133\n",
       "Name: Gender, dtype: int64"
      ]
     },
     "execution_count": 3,
     "metadata": {},
     "output_type": "execute_result"
    }
   ],
   "source": [
    "df['Gender'].value_counts()"
   ]
  },
  {
   "cell_type": "code",
   "execution_count": 4,
   "id": "3982fad8",
   "metadata": {},
   "outputs": [],
   "source": [
    "df = df.drop(columns=['Gender', 'Competition', 'Location', 'Total_Score'])"
   ]
  },
  {
   "cell_type": "code",
   "execution_count": 5,
   "id": "d6960497",
   "metadata": {},
   "outputs": [],
   "source": [
    "df['year'] = df['Date'].str[:4]\n"
   ]
  },
  {
   "cell_type": "code",
   "execution_count": 6,
   "id": "0f872b8d",
   "metadata": {},
   "outputs": [],
   "source": [
    "df = df.drop(columns=['Date'])"
   ]
  },
  {
   "cell_type": "code",
   "execution_count": 7,
   "id": "710bf56f",
   "metadata": {},
   "outputs": [
    {
     "data": {
      "text/html": [
       "<div>\n",
       "<style scoped>\n",
       "    .dataframe tbody tr th:only-of-type {\n",
       "        vertical-align: middle;\n",
       "    }\n",
       "\n",
       "    .dataframe tbody tr th {\n",
       "        vertical-align: top;\n",
       "    }\n",
       "\n",
       "    .dataframe thead th {\n",
       "        text-align: right;\n",
       "    }\n",
       "</style>\n",
       "<table border=\"1\" class=\"dataframe\">\n",
       "  <thead>\n",
       "    <tr style=\"text-align: right;\">\n",
       "      <th></th>\n",
       "      <th>Name</th>\n",
       "      <th>Country</th>\n",
       "      <th>Round</th>\n",
       "      <th>Apparatus</th>\n",
       "      <th>Rank</th>\n",
       "      <th>D_Score</th>\n",
       "      <th>E_Score</th>\n",
       "      <th>Penalty</th>\n",
       "      <th>Score</th>\n",
       "      <th>year</th>\n",
       "    </tr>\n",
       "  </thead>\n",
       "  <tbody>\n",
       "    <tr>\n",
       "      <th>0</th>\n",
       "      <td>Fredrik AAS</td>\n",
       "      <td>NOR</td>\n",
       "      <td>qual</td>\n",
       "      <td>HB</td>\n",
       "      <td>18.0</td>\n",
       "      <td>3.9</td>\n",
       "      <td>8.266</td>\n",
       "      <td>0.0</td>\n",
       "      <td>12.166</td>\n",
       "      <td>2022</td>\n",
       "    </tr>\n",
       "    <tr>\n",
       "      <th>1</th>\n",
       "      <td>Fredrik AAS</td>\n",
       "      <td>NOR</td>\n",
       "      <td>qual</td>\n",
       "      <td>HB</td>\n",
       "      <td>18.0</td>\n",
       "      <td>3.9</td>\n",
       "      <td>8.266</td>\n",
       "      <td>0.0</td>\n",
       "      <td>12.166</td>\n",
       "      <td>2022</td>\n",
       "    </tr>\n",
       "    <tr>\n",
       "      <th>2</th>\n",
       "      <td>Fredrik AAS</td>\n",
       "      <td>NOR</td>\n",
       "      <td>qual</td>\n",
       "      <td>PB</td>\n",
       "      <td>23.0</td>\n",
       "      <td>3.9</td>\n",
       "      <td>6.900</td>\n",
       "      <td>0.0</td>\n",
       "      <td>10.800</td>\n",
       "      <td>2022</td>\n",
       "    </tr>\n",
       "    <tr>\n",
       "      <th>3</th>\n",
       "      <td>Fredrik AAS</td>\n",
       "      <td>NOR</td>\n",
       "      <td>qual</td>\n",
       "      <td>PB</td>\n",
       "      <td>23.0</td>\n",
       "      <td>3.9</td>\n",
       "      <td>6.900</td>\n",
       "      <td>0.0</td>\n",
       "      <td>10.800</td>\n",
       "      <td>2022</td>\n",
       "    </tr>\n",
       "    <tr>\n",
       "      <th>4</th>\n",
       "      <td>Fredrik AAS</td>\n",
       "      <td>NOR</td>\n",
       "      <td>qual</td>\n",
       "      <td>PH</td>\n",
       "      <td>33.0</td>\n",
       "      <td>4.2</td>\n",
       "      <td>6.666</td>\n",
       "      <td>0.0</td>\n",
       "      <td>10.866</td>\n",
       "      <td>2022</td>\n",
       "    </tr>\n",
       "  </tbody>\n",
       "</table>\n",
       "</div>"
      ],
      "text/plain": [
       "          Name Country Round Apparatus  Rank  D_Score  E_Score  Penalty  \\\n",
       "0  Fredrik AAS     NOR  qual        HB  18.0      3.9    8.266      0.0   \n",
       "1  Fredrik AAS     NOR  qual        HB  18.0      3.9    8.266      0.0   \n",
       "2  Fredrik AAS     NOR  qual        PB  23.0      3.9    6.900      0.0   \n",
       "3  Fredrik AAS     NOR  qual        PB  23.0      3.9    6.900      0.0   \n",
       "4  Fredrik AAS     NOR  qual        PH  33.0      4.2    6.666      0.0   \n",
       "\n",
       "    Score  year  \n",
       "0  12.166  2022  \n",
       "1  12.166  2022  \n",
       "2  10.800  2022  \n",
       "3  10.800  2022  \n",
       "4  10.866  2022  "
      ]
     },
     "execution_count": 7,
     "metadata": {},
     "output_type": "execute_result"
    }
   ],
   "source": [
    "df.head()"
   ]
  },
  {
   "cell_type": "code",
   "execution_count": 8,
   "id": "915a2895",
   "metadata": {},
   "outputs": [],
   "source": [
    "df['Name'] = df['Name'].str.lower()\n"
   ]
  },
  {
   "cell_type": "code",
   "execution_count": 9,
   "id": "777a4882",
   "metadata": {},
   "outputs": [],
   "source": [
    "df['Country'].fillna('none', inplace=True)\n",
    "df['year'].fillna(2023, inplace=True)"
   ]
  },
  {
   "cell_type": "code",
   "execution_count": 10,
   "id": "08708f37",
   "metadata": {},
   "outputs": [
    {
     "data": {
      "text/plain": [
       "array(['HB', 'PB', 'PH', 'FX', 'SR', 'VT1', 'VT', 'VT2', 'hb'],\n",
       "      dtype=object)"
      ]
     },
     "execution_count": 10,
     "metadata": {},
     "output_type": "execute_result"
    }
   ],
   "source": [
    "df['Apparatus'].unique()"
   ]
  },
  {
   "cell_type": "code",
   "execution_count": 11,
   "id": "d7c97aff",
   "metadata": {},
   "outputs": [],
   "source": [
    "df['Apparatus'] = df['Apparatus'].str.upper()"
   ]
  },
  {
   "cell_type": "code",
   "execution_count": 12,
   "id": "a31ce7c3",
   "metadata": {},
   "outputs": [],
   "source": [
    "hb = df[df['Apparatus'] == 'HB']\n",
    "ph = df[df['Apparatus'] == 'PH']\n",
    "fx = df[df['Apparatus'] == 'FX']\n",
    "pb = df[df['Apparatus'] == 'PB']\n",
    "sr = df[df['Apparatus'] == 'SR']\n"
   ]
  },
  {
   "cell_type": "code",
   "execution_count": 13,
   "id": "089e0da9",
   "metadata": {},
   "outputs": [
    {
     "name": "stdout",
     "output_type": "stream",
     "text": [
      "<class 'pandas.core.frame.DataFrame'>\n",
      "Int64Index: 2344 entries, 0 to 15130\n",
      "Data columns (total 10 columns):\n",
      " #   Column     Non-Null Count  Dtype  \n",
      "---  ------     --------------  -----  \n",
      " 0   Name       2344 non-null   object \n",
      " 1   Country    2344 non-null   object \n",
      " 2   Round      2344 non-null   object \n",
      " 3   Apparatus  2344 non-null   object \n",
      " 4   Rank       2344 non-null   float64\n",
      " 5   D_Score    2344 non-null   float64\n",
      " 6   E_Score    2344 non-null   float64\n",
      " 7   Penalty    2344 non-null   float64\n",
      " 8   Score      2344 non-null   float64\n",
      " 9   year       2344 non-null   object \n",
      "dtypes: float64(5), object(5)\n",
      "memory usage: 201.4+ KB\n"
     ]
    }
   ],
   "source": [
    "hb.info()"
   ]
  },
  {
   "cell_type": "code",
   "execution_count": 14,
   "id": "e1c4a637",
   "metadata": {},
   "outputs": [],
   "source": [
    "values_to_remove = ['HB', 'PH', 'FX', 'PB', 'SR']\n",
    "\n",
    "# Remove rows where 'Apparatus' is in values_to_remove\n",
    "filtered_df = df[~df['Apparatus'].isin(values_to_remove)]\n"
   ]
  },
  {
   "cell_type": "code",
   "execution_count": 15,
   "id": "72cef13a",
   "metadata": {},
   "outputs": [
    {
     "data": {
      "text/plain": [
       "VT1    1654\n",
       "VT2     865\n",
       "VT      580\n",
       "Name: Apparatus, dtype: int64"
      ]
     },
     "execution_count": 15,
     "metadata": {},
     "output_type": "execute_result"
    }
   ],
   "source": [
    "filtered_df['Apparatus'].value_counts()"
   ]
  },
  {
   "cell_type": "code",
   "execution_count": 16,
   "id": "1eb043d7",
   "metadata": {},
   "outputs": [],
   "source": [
    "vt = filtered_df.copy()"
   ]
  },
  {
   "cell_type": "code",
   "execution_count": 17,
   "id": "ec50b97e",
   "metadata": {},
   "outputs": [],
   "source": [
    "sr = sr.drop(columns=['Apparatus'])\n",
    "pb = pb.drop(columns=['Apparatus'])\n",
    "fx = fx.drop(columns=['Apparatus'])\n",
    "vt = vt.drop(columns=['Apparatus'])\n",
    "ph = ph.drop(columns=['Apparatus'])\n",
    "hb = hb.drop(columns=['Apparatus'])"
   ]
  },
  {
   "cell_type": "code",
   "execution_count": 18,
   "id": "e6ac84b2",
   "metadata": {},
   "outputs": [],
   "source": [
    "sr.rename(columns={'Country': 'nation', 'D_Score': 'D Score',\n",
    "                            'E_Score': 'E Score', 'Penalty': 'Pen.',\n",
    "                           'Score': 'Total', 'Round': 'round'}, inplace=True)\n",
    "\n",
    "sr=sr[['Rank', 'Name', 'nation', 'D Score', 'E Score', 'Pen.', \n",
    "                         'Total','year' , 'round' ]]"
   ]
  },
  {
   "cell_type": "code",
   "execution_count": 19,
   "id": "6a65fd93",
   "metadata": {},
   "outputs": [],
   "source": [
    "pb.rename(columns={'Country': 'nation', 'D_Score': 'D Score',\n",
    "                            'E_Score': 'E Score', 'Penalty': 'Pen.',\n",
    "                           'Score': 'Total', 'Round': 'round'}, inplace=True)\n",
    "\n",
    "pb=pb[['Rank', 'Name', 'nation', 'D Score', 'E Score', 'Pen.', \n",
    "                         'Total','year' , 'round' ]]"
   ]
  },
  {
   "cell_type": "code",
   "execution_count": 20,
   "id": "45944535",
   "metadata": {},
   "outputs": [],
   "source": [
    "fx.rename(columns={'Country': 'nation', 'D_Score': 'D Score',\n",
    "                            'E_Score': 'E Score', 'Penalty': 'Pen.',\n",
    "                           'Score': 'Total', 'Round': 'round'}, inplace=True)\n",
    "\n",
    "fx=fx[['Rank', 'Name', 'nation', 'D Score', 'E Score', 'Pen.', \n",
    "                         'Total','year' , 'round' ]]"
   ]
  },
  {
   "cell_type": "code",
   "execution_count": 21,
   "id": "e70795f2",
   "metadata": {},
   "outputs": [],
   "source": [
    "vt.rename(columns={'Country': 'nation', 'D_Score': 'D Score',\n",
    "                            'E_Score': 'E Score', 'Penalty': 'Pen.',\n",
    "                           'Score': 'Total', 'Round': 'round'}, inplace=True)\n",
    "\n",
    "vt=vt[['Rank', 'Name', 'nation', 'D Score', 'E Score', 'Pen.', \n",
    "                         'Total','year' , 'round' ]]"
   ]
  },
  {
   "cell_type": "code",
   "execution_count": 22,
   "id": "7ce02fc8",
   "metadata": {},
   "outputs": [],
   "source": [
    "ph.rename(columns={'Country': 'nation', 'D_Score': 'D Score',\n",
    "                            'E_Score': 'E Score', 'Penalty': 'Pen.',\n",
    "                           'Score': 'Total', 'Round': 'round'}, inplace=True)\n",
    "\n",
    "ph=ph[['Rank', 'Name', 'nation', 'D Score', 'E Score', 'Pen.', \n",
    "                         'Total','year' , 'round' ]]"
   ]
  },
  {
   "cell_type": "code",
   "execution_count": 23,
   "id": "3200cd5c",
   "metadata": {},
   "outputs": [],
   "source": [
    "hb.rename(columns={'Country': 'nation', 'D_Score': 'D Score',\n",
    "                            'E_Score': 'E Score', 'Penalty': 'Pen.',\n",
    "                           'Score': 'Total', 'Round': 'round'}, inplace=True)\n",
    "\n",
    "hb=hb[['Rank', 'Name', 'nation', 'D Score', 'E Score', 'Pen.', \n",
    "                         'Total','year' , 'round' ]]"
   ]
  },
  {
   "cell_type": "code",
   "execution_count": 24,
   "id": "7bac10c1",
   "metadata": {},
   "outputs": [],
   "source": [
    "from sklearn.preprocessing import LabelEncoder\n",
    "\n",
    "le = LabelEncoder()\n",
    "\n",
    "# Fit and transform the 'Name' column to create integer labels\n",
    "fx['Name_encoded'] = le.fit_transform(fx['Name'])\n",
    "\n"
   ]
  },
  {
   "cell_type": "code",
   "execution_count": 25,
   "id": "00709f25",
   "metadata": {},
   "outputs": [],
   "source": [
    "fxnames = fx[['Name', 'Name_encoded']]"
   ]
  },
  {
   "cell_type": "code",
   "execution_count": 26,
   "id": "07c09c02",
   "metadata": {},
   "outputs": [],
   "source": [
    "fx=fx.drop(columns=[\"Name\"])\n",
    "fx.rename(columns={'Name_encoded': 'Name'}, inplace=True)"
   ]
  },
  {
   "cell_type": "code",
   "execution_count": 27,
   "id": "f81ded84",
   "metadata": {},
   "outputs": [],
   "source": [
    "from sklearn.preprocessing import LabelEncoder\n",
    "\n",
    "le = LabelEncoder()\n",
    "\n",
    "fx['nation_encoded'] = le.fit_transform(fx['nation'])\n",
    "\n",
    "# Store the mapping between integers and original objects\n",
    "label_mapping_nation = dict(zip(le.transform(fx['nation']), fx['nation']))\n"
   ]
  },
  {
   "cell_type": "code",
   "execution_count": 28,
   "id": "f4fa11ce",
   "metadata": {},
   "outputs": [],
   "source": [
    "fx=fx.drop(columns=[\"nation\"])\n",
    "fx.rename(columns={'nation_encoded': 'nation'}, inplace=True)"
   ]
  },
  {
   "cell_type": "code",
   "execution_count": 29,
   "id": "7c9461eb",
   "metadata": {},
   "outputs": [],
   "source": [
    "fx_encoded = pd.get_dummies(fx, columns=['round'], prefix='round')"
   ]
  },
  {
   "cell_type": "code",
   "execution_count": 30,
   "id": "56379fd1",
   "metadata": {},
   "outputs": [],
   "source": [
    "fx_encoded['year'] = pd.to_numeric(fx_encoded['year'], errors='coerce').fillna(0).astype(int)\n"
   ]
  },
  {
   "cell_type": "code",
   "execution_count": 31,
   "id": "b7f441de",
   "metadata": {},
   "outputs": [
    {
     "name": "stdout",
     "output_type": "stream",
     "text": [
      "<class 'pandas.core.frame.DataFrame'>\n",
      "Int64Index: 2439 entries, 8 to 15129\n",
      "Data columns (total 13 columns):\n",
      " #   Column           Non-Null Count  Dtype  \n",
      "---  ------           --------------  -----  \n",
      " 0   Rank             2439 non-null   float64\n",
      " 1   D Score          2439 non-null   float64\n",
      " 2   E Score          2439 non-null   float64\n",
      " 3   Pen.             2439 non-null   float64\n",
      " 4   Total            2439 non-null   float64\n",
      " 5   year             2439 non-null   int64  \n",
      " 6   Name             2439 non-null   int64  \n",
      " 7   nation           2439 non-null   int64  \n",
      " 8   round_AAfinal    2439 non-null   uint8  \n",
      " 9   round_TeamFinal  2439 non-null   uint8  \n",
      " 10  round_TeamQual   2439 non-null   uint8  \n",
      " 11  round_final      2439 non-null   uint8  \n",
      " 12  round_qual       2439 non-null   uint8  \n",
      "dtypes: float64(5), int64(3), uint8(5)\n",
      "memory usage: 183.4 KB\n"
     ]
    }
   ],
   "source": [
    "fx_encoded.info()"
   ]
  },
  {
   "cell_type": "code",
   "execution_count": 32,
   "id": "95b1a29c",
   "metadata": {},
   "outputs": [],
   "source": [
    "fx = fx_encoded.copy()"
   ]
  },
  {
   "cell_type": "code",
   "execution_count": 33,
   "id": "e46424f4",
   "metadata": {},
   "outputs": [],
   "source": [
    "# fx.to_csv(\"encoded_m_olympics_fx.csv\", index=False)  \n",
    "# fxnames.to_csv(\"encoded_m_olympics_fxnames.csv\", index=False)  "
   ]
  },
  {
   "cell_type": "code",
   "execution_count": 34,
   "id": "71bd31e5",
   "metadata": {},
   "outputs": [],
   "source": [
    "from sklearn.preprocessing import LabelEncoder\n",
    "\n",
    "le = LabelEncoder()\n",
    "\n",
    "# Fit and transform the 'Name' column to create integer labels\n",
    "hb['Name_encoded'] = le.fit_transform(hb['Name'])\n",
    "\n"
   ]
  },
  {
   "cell_type": "code",
   "execution_count": 35,
   "id": "b8fedae1",
   "metadata": {},
   "outputs": [],
   "source": [
    "hbnames = hb[['Name', 'Name_encoded']]"
   ]
  },
  {
   "cell_type": "code",
   "execution_count": 36,
   "id": "050afbee",
   "metadata": {},
   "outputs": [],
   "source": [
    "hb=hb.drop(columns=[\"Name\"])\n",
    "hb.rename(columns={'Name_encoded': 'Name'}, inplace=True)"
   ]
  },
  {
   "cell_type": "code",
   "execution_count": 37,
   "id": "50f20039",
   "metadata": {},
   "outputs": [],
   "source": [
    "from sklearn.preprocessing import LabelEncoder\n",
    "\n",
    "le = LabelEncoder()\n",
    "\n",
    "hb['nation_encoded'] = le.fit_transform(hb['nation'])\n",
    "\n",
    "# Store the mapping between integers and original objects\n",
    "label_mapping_nation = dict(zip(le.transform(hb['nation']), hb['nation']))\n",
    "\n"
   ]
  },
  {
   "cell_type": "code",
   "execution_count": 38,
   "id": "0adc56c9",
   "metadata": {},
   "outputs": [],
   "source": [
    "hb=hb.drop(columns=[\"nation\"])\n",
    "hb.rename(columns={'nation_encoded': 'nation'}, inplace=True)"
   ]
  },
  {
   "cell_type": "code",
   "execution_count": 39,
   "id": "5a4d4646",
   "metadata": {},
   "outputs": [],
   "source": [
    "hb_encoded = pd.get_dummies(hb, columns=['round'], prefix='round')\n",
    "hb_encoded['year'] = pd.to_numeric(hb_encoded['year'], errors='coerce').fillna(0).astype(int)\n"
   ]
  },
  {
   "cell_type": "code",
   "execution_count": 40,
   "id": "4e092640",
   "metadata": {},
   "outputs": [
    {
     "name": "stdout",
     "output_type": "stream",
     "text": [
      "<class 'pandas.core.frame.DataFrame'>\n",
      "Int64Index: 2344 entries, 0 to 15130\n",
      "Data columns (total 13 columns):\n",
      " #   Column           Non-Null Count  Dtype  \n",
      "---  ------           --------------  -----  \n",
      " 0   Rank             2344 non-null   float64\n",
      " 1   D Score          2344 non-null   float64\n",
      " 2   E Score          2344 non-null   float64\n",
      " 3   Pen.             2344 non-null   float64\n",
      " 4   Total            2344 non-null   float64\n",
      " 5   year             2344 non-null   int64  \n",
      " 6   Name             2344 non-null   int64  \n",
      " 7   nation           2344 non-null   int64  \n",
      " 8   round_AAfinal    2344 non-null   uint8  \n",
      " 9   round_TeamFinal  2344 non-null   uint8  \n",
      " 10  round_TeamQual   2344 non-null   uint8  \n",
      " 11  round_final      2344 non-null   uint8  \n",
      " 12  round_qual       2344 non-null   uint8  \n",
      "dtypes: float64(5), int64(3), uint8(5)\n",
      "memory usage: 176.3 KB\n"
     ]
    }
   ],
   "source": [
    "hb_encoded.info()"
   ]
  },
  {
   "cell_type": "code",
   "execution_count": 41,
   "id": "6ea0f22a",
   "metadata": {},
   "outputs": [],
   "source": [
    "hb = hb_encoded.copy()"
   ]
  },
  {
   "cell_type": "code",
   "execution_count": 42,
   "id": "6b0953eb",
   "metadata": {},
   "outputs": [],
   "source": [
    "# hb.to_csv(\"encoded_m_olympics_hb.csv\", index=False)  \n",
    "# hbnames.to_csv(\"encoded_m_olympics_hbnames.csv\", index=False)  "
   ]
  },
  {
   "cell_type": "code",
   "execution_count": 43,
   "id": "460db58e",
   "metadata": {},
   "outputs": [],
   "source": [
    "from sklearn.preprocessing import LabelEncoder\n",
    "\n",
    "le = LabelEncoder()\n",
    "\n",
    "# Fit and transform the 'Name' column to create integer labels\n",
    "pb['Name_encoded'] = le.fit_transform(pb['Name'])\n",
    "\n"
   ]
  },
  {
   "cell_type": "code",
   "execution_count": 44,
   "id": "0414986d",
   "metadata": {},
   "outputs": [],
   "source": [
    "pbnames = pb[['Name', 'Name_encoded']]"
   ]
  },
  {
   "cell_type": "code",
   "execution_count": 45,
   "id": "07892253",
   "metadata": {},
   "outputs": [],
   "source": [
    "pb=pb.drop(columns=[\"Name\"])\n",
    "pb.rename(columns={'Name_encoded': 'Name'}, inplace=True)"
   ]
  },
  {
   "cell_type": "code",
   "execution_count": 46,
   "id": "a13232df",
   "metadata": {},
   "outputs": [],
   "source": [
    "from sklearn.preprocessing import LabelEncoder\n",
    "\n",
    "le = LabelEncoder()\n",
    "\n",
    "pb['nation_encoded'] = le.fit_transform(pb['nation'])\n",
    "\n",
    "# Store the mapping between integers and original objects\n",
    "label_mapping_nation = dict(zip(le.transform(pb['nation']), pb['nation']))\n",
    "\n"
   ]
  },
  {
   "cell_type": "code",
   "execution_count": 47,
   "id": "0e1d0cd7",
   "metadata": {},
   "outputs": [],
   "source": [
    "pb=pb.drop(columns=[\"nation\"])\n",
    "pb.rename(columns={'nation_encoded': 'nation'}, inplace=True)"
   ]
  },
  {
   "cell_type": "code",
   "execution_count": 48,
   "id": "60d72115",
   "metadata": {},
   "outputs": [],
   "source": [
    "pb_encoded = pd.get_dummies(pb, columns=['round'], prefix='round')\n",
    "pb_encoded['year'] = pd.to_numeric(pb_encoded['year'], errors='coerce').fillna(0).astype(int)\n"
   ]
  },
  {
   "cell_type": "code",
   "execution_count": 49,
   "id": "98023878",
   "metadata": {},
   "outputs": [
    {
     "name": "stdout",
     "output_type": "stream",
     "text": [
      "<class 'pandas.core.frame.DataFrame'>\n",
      "Int64Index: 2374 entries, 2 to 15132\n",
      "Data columns (total 13 columns):\n",
      " #   Column           Non-Null Count  Dtype  \n",
      "---  ------           --------------  -----  \n",
      " 0   Rank             2374 non-null   float64\n",
      " 1   D Score          2374 non-null   float64\n",
      " 2   E Score          2374 non-null   float64\n",
      " 3   Pen.             2374 non-null   float64\n",
      " 4   Total            2374 non-null   float64\n",
      " 5   year             2374 non-null   int64  \n",
      " 6   Name             2374 non-null   int64  \n",
      " 7   nation           2374 non-null   int64  \n",
      " 8   round_AAfinal    2374 non-null   uint8  \n",
      " 9   round_TeamFinal  2374 non-null   uint8  \n",
      " 10  round_TeamQual   2374 non-null   uint8  \n",
      " 11  round_final      2374 non-null   uint8  \n",
      " 12  round_qual       2374 non-null   uint8  \n",
      "dtypes: float64(5), int64(3), uint8(5)\n",
      "memory usage: 178.5 KB\n"
     ]
    }
   ],
   "source": [
    "pb_encoded.info()"
   ]
  },
  {
   "cell_type": "code",
   "execution_count": 50,
   "id": "5e0848c3",
   "metadata": {},
   "outputs": [],
   "source": [
    "pb = pb_encoded.copy()"
   ]
  },
  {
   "cell_type": "code",
   "execution_count": 51,
   "id": "484ec34c",
   "metadata": {},
   "outputs": [],
   "source": [
    "# pb.to_csv(\"encoded_m_olympics_pb.csv\", index=False)  \n",
    "# pbnames.to_csv(\"encoded_m_olympics_pbnames.csv\", index=False)  "
   ]
  },
  {
   "cell_type": "code",
   "execution_count": null,
   "id": "f2b6c695-0278-449e-ad4e-2318d792da30",
   "metadata": {},
   "outputs": [],
   "source": [
    "\n"
   ]
  },
  {
   "cell_type": "code",
   "execution_count": null,
   "id": "d6bdcee9-c3ab-49bf-92a1-625339a6bb75",
   "metadata": {},
   "outputs": [],
   "source": []
  },
  {
   "cell_type": "code",
   "execution_count": 54,
   "id": "95d389df-75d1-46ae-baee-b8e4b8a2d3c4",
   "metadata": {},
   "outputs": [],
   "source": [
    "import pandas as pd\n",
    "\n",
    "# Assuming df is your DataFrame\n",
    "ph['Name'] =ph['Name'].replace({\n",
    "    'frederick richard': 'fred richard',\n",
    "    'frederick nathaniel richard': 'fred richard'\n",
    "})\n"
   ]
  },
  {
   "cell_type": "code",
   "execution_count": 56,
   "id": "00863235-c053-435c-895a-76c86eb5adaf",
   "metadata": {},
   "outputs": [],
   "source": [
    "import pandas as pd\n",
    "\n",
    "# Assuming df is your DataFrame\n",
    "ph['Name'] =ph['Name'].replace({\n",
    "    'ian hunter skirkey': 'ian skirkey',\n",
    "})\n"
   ]
  },
  {
   "cell_type": "code",
   "execution_count": 59,
   "id": "a694468e",
   "metadata": {},
   "outputs": [],
   "source": [
    "from sklearn.preprocessing import LabelEncoder\n",
    "\n",
    "le = LabelEncoder()\n",
    "\n",
    "# Fit and transform the 'Name' column to create integer labels\n",
    "ph['Name_encoded'] = le.fit_transform(ph['Name'])\n",
    "\n"
   ]
  },
  {
   "cell_type": "code",
   "execution_count": 60,
   "id": "8939f33d",
   "metadata": {},
   "outputs": [],
   "source": [
    "phnames = ph[['Name', 'Name_encoded']]\n",
    "ph=ph.drop(columns=[\"Name\"])\n",
    "ph.rename(columns={'Name_encoded': 'Name'}, inplace=True)"
   ]
  },
  {
   "cell_type": "code",
   "execution_count": 61,
   "id": "053b0fa7",
   "metadata": {},
   "outputs": [],
   "source": [
    "from sklearn.preprocessing import LabelEncoder\n",
    "\n",
    "le = LabelEncoder()\n",
    "\n",
    "ph['nation_encoded'] = le.fit_transform(ph['nation'])\n",
    "\n",
    "# Store the mapping between integers and original objects\n",
    "label_mapping_nation = dict(zip(le.transform(ph['nation']), ph['nation']))\n"
   ]
  },
  {
   "cell_type": "code",
   "execution_count": 62,
   "id": "f4263011",
   "metadata": {},
   "outputs": [],
   "source": [
    "ph=ph.drop(columns=[\"nation\"])\n",
    "ph.rename(columns={'nation_encoded': 'nation'}, inplace=True)"
   ]
  },
  {
   "cell_type": "code",
   "execution_count": 63,
   "id": "ec0e6a3d",
   "metadata": {},
   "outputs": [],
   "source": [
    "ph_encoded = pd.get_dummies(ph, columns=['round'], prefix='round')\n",
    "ph_encoded['year'] = pd.to_numeric(ph_encoded['year'], errors='coerce').fillna(0).astype(int)\n"
   ]
  },
  {
   "cell_type": "code",
   "execution_count": 64,
   "id": "38d3afad",
   "metadata": {},
   "outputs": [],
   "source": [
    "ph = ph_encoded.copy()"
   ]
  },
  {
   "cell_type": "code",
   "execution_count": 66,
   "id": "a1442a54",
   "metadata": {},
   "outputs": [],
   "source": [
    "# ph.to_csv(\"encoded_m_olympics_ph.csv\", index=False)  \n",
    "# phnames.to_csv(\"encoded_m_olympics_phnames.csv\", index=False)  "
   ]
  },
  {
   "cell_type": "code",
   "execution_count": 139,
   "id": "0a606f48",
   "metadata": {},
   "outputs": [],
   "source": [
    "from sklearn.preprocessing import LabelEncoder\n",
    "\n",
    "le = LabelEncoder()\n",
    "\n",
    "# Fit and transform the 'Name' column to create integer labels\n",
    "sr['Name_encoded'] = le.fit_transform(sr['Name'])\n"
   ]
  },
  {
   "cell_type": "code",
   "execution_count": 140,
   "id": "bd80d038",
   "metadata": {},
   "outputs": [],
   "source": [
    "srnames = sr[['Name', 'Name_encoded']]\n",
    "sr=sr.drop(columns=[\"Name\"])\n",
    "sr.rename(columns={'Name_encoded': 'Name'}, inplace=True)"
   ]
  },
  {
   "cell_type": "code",
   "execution_count": 141,
   "id": "57a7c4e1",
   "metadata": {},
   "outputs": [],
   "source": [
    "from sklearn.preprocessing import LabelEncoder\n",
    "\n",
    "le = LabelEncoder()\n",
    "\n",
    "sr['nation_encoded'] = le.fit_transform(sr['nation'])\n",
    "\n",
    "# Store the mapping between integers and original objects\n",
    "label_mapping_nation = dict(zip(le.transform(sr['nation']), sr['nation']))\n",
    "\n"
   ]
  },
  {
   "cell_type": "code",
   "execution_count": 142,
   "id": "c0952bbf",
   "metadata": {},
   "outputs": [],
   "source": [
    "sr=sr.drop(columns=[\"nation\"])\n",
    "sr.rename(columns={'nation_encoded': 'nation'}, inplace=True)"
   ]
  },
  {
   "cell_type": "code",
   "execution_count": 143,
   "id": "3d9fef87",
   "metadata": {},
   "outputs": [],
   "source": [
    "sr_encoded = pd.get_dummies(sr, columns=['round'], prefix='round')\n",
    "sr_encoded['year'] = pd.to_numeric(sr_encoded['year'], errors='coerce').fillna(0).astype(int)\n"
   ]
  },
  {
   "cell_type": "code",
   "execution_count": 144,
   "id": "3b168a85",
   "metadata": {},
   "outputs": [],
   "source": [
    "sr = sr_encoded.copy()"
   ]
  },
  {
   "cell_type": "code",
   "execution_count": 146,
   "id": "9b8dca77",
   "metadata": {},
   "outputs": [],
   "source": [
    "# sr.to_csv(\"encoded_m_olympics_sr.csv\", index=False)  \n",
    "# srnames.to_csv(\"encoded_m_olympics_srnames.csv\", index=False)  "
   ]
  },
  {
   "cell_type": "code",
   "execution_count": 147,
   "id": "2e1927c6",
   "metadata": {},
   "outputs": [],
   "source": [
    "from sklearn.preprocessing import LabelEncoder\n",
    "\n",
    "le = LabelEncoder()\n",
    "\n",
    "# Fit and transform the 'Name' column to create integer labels\n",
    "vt['Name_encoded'] = le.fit_transform(vt['Name'])\n"
   ]
  },
  {
   "cell_type": "code",
   "execution_count": 148,
   "id": "f6a22030",
   "metadata": {},
   "outputs": [],
   "source": [
    "vtnames = vt[['Name', 'Name_encoded']]\n",
    "vt=vt.drop(columns=[\"Name\"])\n",
    "vt.rename(columns={'Name_encoded': 'Name'}, inplace=True)"
   ]
  },
  {
   "cell_type": "code",
   "execution_count": 149,
   "id": "3807b2c9",
   "metadata": {},
   "outputs": [],
   "source": [
    "from sklearn.preprocessing import LabelEncoder\n",
    "\n",
    "le = LabelEncoder()\n",
    "\n",
    "vt['nation_encoded'] = le.fit_transform(vt['nation'])\n",
    "\n",
    "# Store the mapping between integers and original objects\n",
    "label_mapping_nation = dict(zip(le.transform(vt['nation']), vt['nation']))\n",
    "\n"
   ]
  },
  {
   "cell_type": "code",
   "execution_count": 150,
   "id": "e3ab30e2",
   "metadata": {},
   "outputs": [],
   "source": [
    "vt=vt.drop(columns=[\"nation\"])\n",
    "vt.rename(columns={'nation_encoded': 'nation'}, inplace=True)"
   ]
  },
  {
   "cell_type": "code",
   "execution_count": 151,
   "id": "492f945c",
   "metadata": {},
   "outputs": [],
   "source": [
    "vt_encoded = pd.get_dummies(vt, columns=['round'], prefix='round')\n",
    "vt_encoded['year'] = pd.to_numeric(vt_encoded['year'], errors='coerce').fillna(0).astype(int)\n"
   ]
  },
  {
   "cell_type": "code",
   "execution_count": 152,
   "id": "b14fe19b",
   "metadata": {},
   "outputs": [],
   "source": [
    "vt = vt_encoded.copy()"
   ]
  },
  {
   "cell_type": "code",
   "execution_count": 153,
   "id": "bfcf8270",
   "metadata": {},
   "outputs": [
    {
     "data": {
      "text/html": [
       "<div>\n",
       "<style scoped>\n",
       "    .dataframe tbody tr th:only-of-type {\n",
       "        vertical-align: middle;\n",
       "    }\n",
       "\n",
       "    .dataframe tbody tr th {\n",
       "        vertical-align: top;\n",
       "    }\n",
       "\n",
       "    .dataframe thead th {\n",
       "        text-align: right;\n",
       "    }\n",
       "</style>\n",
       "<table border=\"1\" class=\"dataframe\">\n",
       "  <thead>\n",
       "    <tr style=\"text-align: right;\">\n",
       "      <th></th>\n",
       "      <th>Rank</th>\n",
       "      <th>D Score</th>\n",
       "      <th>E Score</th>\n",
       "      <th>Pen.</th>\n",
       "      <th>Total</th>\n",
       "      <th>year</th>\n",
       "      <th>Name</th>\n",
       "      <th>nation</th>\n",
       "      <th>round_AAfinal</th>\n",
       "      <th>round_AAqual</th>\n",
       "      <th>round_TeamFinal</th>\n",
       "      <th>round_TeamQual</th>\n",
       "      <th>round_final</th>\n",
       "      <th>round_qual</th>\n",
       "    </tr>\n",
       "  </thead>\n",
       "  <tbody>\n",
       "    <tr>\n",
       "      <th>13</th>\n",
       "      <td>69.0</td>\n",
       "      <td>4.0</td>\n",
       "      <td>8.966</td>\n",
       "      <td>0.0</td>\n",
       "      <td>12.966</td>\n",
       "      <td>2023</td>\n",
       "      <td>241</td>\n",
       "      <td>67</td>\n",
       "      <td>False</td>\n",
       "      <td>False</td>\n",
       "      <td>False</td>\n",
       "      <td>False</td>\n",
       "      <td>False</td>\n",
       "      <td>True</td>\n",
       "    </tr>\n",
       "    <tr>\n",
       "      <th>27</th>\n",
       "      <td>20.0</td>\n",
       "      <td>4.8</td>\n",
       "      <td>9.033</td>\n",
       "      <td>0.1</td>\n",
       "      <td>13.733</td>\n",
       "      <td>2022</td>\n",
       "      <td>502</td>\n",
       "      <td>30</td>\n",
       "      <td>True</td>\n",
       "      <td>False</td>\n",
       "      <td>False</td>\n",
       "      <td>False</td>\n",
       "      <td>False</td>\n",
       "      <td>False</td>\n",
       "    </tr>\n",
       "    <tr>\n",
       "      <th>28</th>\n",
       "      <td>97.0</td>\n",
       "      <td>4.8</td>\n",
       "      <td>9.000</td>\n",
       "      <td>0.3</td>\n",
       "      <td>13.500</td>\n",
       "      <td>2022</td>\n",
       "      <td>502</td>\n",
       "      <td>30</td>\n",
       "      <td>False</td>\n",
       "      <td>False</td>\n",
       "      <td>False</td>\n",
       "      <td>False</td>\n",
       "      <td>False</td>\n",
       "      <td>True</td>\n",
       "    </tr>\n",
       "    <tr>\n",
       "      <th>37</th>\n",
       "      <td>36.0</td>\n",
       "      <td>5.2</td>\n",
       "      <td>9.200</td>\n",
       "      <td>0.3</td>\n",
       "      <td>14.100</td>\n",
       "      <td>2022</td>\n",
       "      <td>502</td>\n",
       "      <td>30</td>\n",
       "      <td>False</td>\n",
       "      <td>False</td>\n",
       "      <td>False</td>\n",
       "      <td>False</td>\n",
       "      <td>False</td>\n",
       "      <td>True</td>\n",
       "    </tr>\n",
       "    <tr>\n",
       "      <th>43</th>\n",
       "      <td>126.0</td>\n",
       "      <td>5.2</td>\n",
       "      <td>8.000</td>\n",
       "      <td>0.0</td>\n",
       "      <td>13.200</td>\n",
       "      <td>2023</td>\n",
       "      <td>502</td>\n",
       "      <td>30</td>\n",
       "      <td>False</td>\n",
       "      <td>False</td>\n",
       "      <td>False</td>\n",
       "      <td>False</td>\n",
       "      <td>False</td>\n",
       "      <td>True</td>\n",
       "    </tr>\n",
       "    <tr>\n",
       "      <th>...</th>\n",
       "      <td>...</td>\n",
       "      <td>...</td>\n",
       "      <td>...</td>\n",
       "      <td>...</td>\n",
       "      <td>...</td>\n",
       "      <td>...</td>\n",
       "      <td>...</td>\n",
       "      <td>...</td>\n",
       "      <td>...</td>\n",
       "      <td>...</td>\n",
       "      <td>...</td>\n",
       "      <td>...</td>\n",
       "      <td>...</td>\n",
       "      <td>...</td>\n",
       "    </tr>\n",
       "    <tr>\n",
       "      <th>15064</th>\n",
       "      <td>57.0</td>\n",
       "      <td>4.8</td>\n",
       "      <td>9.333</td>\n",
       "      <td>0.0</td>\n",
       "      <td>14.133</td>\n",
       "      <td>2023</td>\n",
       "      <td>332</td>\n",
       "      <td>32</td>\n",
       "      <td>False</td>\n",
       "      <td>False</td>\n",
       "      <td>False</td>\n",
       "      <td>False</td>\n",
       "      <td>False</td>\n",
       "      <td>True</td>\n",
       "    </tr>\n",
       "    <tr>\n",
       "      <th>15069</th>\n",
       "      <td>48.0</td>\n",
       "      <td>4.8</td>\n",
       "      <td>9.100</td>\n",
       "      <td>0.0</td>\n",
       "      <td>13.900</td>\n",
       "      <td>2023</td>\n",
       "      <td>332</td>\n",
       "      <td>32</td>\n",
       "      <td>False</td>\n",
       "      <td>False</td>\n",
       "      <td>False</td>\n",
       "      <td>False</td>\n",
       "      <td>False</td>\n",
       "      <td>True</td>\n",
       "    </tr>\n",
       "    <tr>\n",
       "      <th>15074</th>\n",
       "      <td>51.0</td>\n",
       "      <td>3.2</td>\n",
       "      <td>9.250</td>\n",
       "      <td>0.0</td>\n",
       "      <td>12.450</td>\n",
       "      <td>2023</td>\n",
       "      <td>332</td>\n",
       "      <td>32</td>\n",
       "      <td>False</td>\n",
       "      <td>False</td>\n",
       "      <td>False</td>\n",
       "      <td>False</td>\n",
       "      <td>False</td>\n",
       "      <td>True</td>\n",
       "    </tr>\n",
       "    <tr>\n",
       "      <th>15122</th>\n",
       "      <td>9.0</td>\n",
       "      <td>5.2</td>\n",
       "      <td>8.900</td>\n",
       "      <td>0.0</td>\n",
       "      <td>14.100</td>\n",
       "      <td>2023</td>\n",
       "      <td>18</td>\n",
       "      <td>91</td>\n",
       "      <td>False</td>\n",
       "      <td>False</td>\n",
       "      <td>False</td>\n",
       "      <td>False</td>\n",
       "      <td>False</td>\n",
       "      <td>True</td>\n",
       "    </tr>\n",
       "    <tr>\n",
       "      <th>15123</th>\n",
       "      <td>9.0</td>\n",
       "      <td>4.8</td>\n",
       "      <td>8.750</td>\n",
       "      <td>0.0</td>\n",
       "      <td>13.550</td>\n",
       "      <td>2023</td>\n",
       "      <td>18</td>\n",
       "      <td>91</td>\n",
       "      <td>False</td>\n",
       "      <td>False</td>\n",
       "      <td>False</td>\n",
       "      <td>False</td>\n",
       "      <td>False</td>\n",
       "      <td>True</td>\n",
       "    </tr>\n",
       "  </tbody>\n",
       "</table>\n",
       "<p>3099 rows × 14 columns</p>\n",
       "</div>"
      ],
      "text/plain": [
       "        Rank  D Score  E Score  Pen.   Total  year  Name  nation  \\\n",
       "13      69.0      4.0    8.966   0.0  12.966  2023   241      67   \n",
       "27      20.0      4.8    9.033   0.1  13.733  2022   502      30   \n",
       "28      97.0      4.8    9.000   0.3  13.500  2022   502      30   \n",
       "37      36.0      5.2    9.200   0.3  14.100  2022   502      30   \n",
       "43     126.0      5.2    8.000   0.0  13.200  2023   502      30   \n",
       "...      ...      ...      ...   ...     ...   ...   ...     ...   \n",
       "15064   57.0      4.8    9.333   0.0  14.133  2023   332      32   \n",
       "15069   48.0      4.8    9.100   0.0  13.900  2023   332      32   \n",
       "15074   51.0      3.2    9.250   0.0  12.450  2023   332      32   \n",
       "15122    9.0      5.2    8.900   0.0  14.100  2023    18      91   \n",
       "15123    9.0      4.8    8.750   0.0  13.550  2023    18      91   \n",
       "\n",
       "       round_AAfinal  round_AAqual  round_TeamFinal  round_TeamQual  \\\n",
       "13             False         False            False           False   \n",
       "27              True         False            False           False   \n",
       "28             False         False            False           False   \n",
       "37             False         False            False           False   \n",
       "43             False         False            False           False   \n",
       "...              ...           ...              ...             ...   \n",
       "15064          False         False            False           False   \n",
       "15069          False         False            False           False   \n",
       "15074          False         False            False           False   \n",
       "15122          False         False            False           False   \n",
       "15123          False         False            False           False   \n",
       "\n",
       "       round_final  round_qual  \n",
       "13           False        True  \n",
       "27           False       False  \n",
       "28           False        True  \n",
       "37           False        True  \n",
       "43           False        True  \n",
       "...            ...         ...  \n",
       "15064        False        True  \n",
       "15069        False        True  \n",
       "15074        False        True  \n",
       "15122        False        True  \n",
       "15123        False        True  \n",
       "\n",
       "[3099 rows x 14 columns]"
      ]
     },
     "execution_count": 153,
     "metadata": {},
     "output_type": "execute_result"
    }
   ],
   "source": [
    "vt"
   ]
  },
  {
   "cell_type": "code",
   "execution_count": 154,
   "id": "202e7a2e",
   "metadata": {},
   "outputs": [
    {
     "data": {
      "text/html": [
       "<div>\n",
       "<style scoped>\n",
       "    .dataframe tbody tr th:only-of-type {\n",
       "        vertical-align: middle;\n",
       "    }\n",
       "\n",
       "    .dataframe tbody tr th {\n",
       "        vertical-align: top;\n",
       "    }\n",
       "\n",
       "    .dataframe thead th {\n",
       "        text-align: right;\n",
       "    }\n",
       "</style>\n",
       "<table border=\"1\" class=\"dataframe\">\n",
       "  <thead>\n",
       "    <tr style=\"text-align: right;\">\n",
       "      <th></th>\n",
       "      <th>Name</th>\n",
       "      <th>Name_encoded</th>\n",
       "    </tr>\n",
       "  </thead>\n",
       "  <tbody>\n",
       "    <tr>\n",
       "      <th>13</th>\n",
       "      <td>fredrik aas</td>\n",
       "      <td>241</td>\n",
       "    </tr>\n",
       "    <tr>\n",
       "      <th>27</th>\n",
       "      <td>nestor abad</td>\n",
       "      <td>502</td>\n",
       "    </tr>\n",
       "    <tr>\n",
       "      <th>28</th>\n",
       "      <td>nestor abad</td>\n",
       "      <td>502</td>\n",
       "    </tr>\n",
       "    <tr>\n",
       "      <th>37</th>\n",
       "      <td>nestor abad</td>\n",
       "      <td>502</td>\n",
       "    </tr>\n",
       "    <tr>\n",
       "      <th>43</th>\n",
       "      <td>nestor abad</td>\n",
       "      <td>502</td>\n",
       "    </tr>\n",
       "    <tr>\n",
       "      <th>...</th>\n",
       "      <td>...</td>\n",
       "      <td>...</td>\n",
       "    </tr>\n",
       "    <tr>\n",
       "      <th>15064</th>\n",
       "      <td>jim zona</td>\n",
       "      <td>332</td>\n",
       "    </tr>\n",
       "    <tr>\n",
       "      <th>15069</th>\n",
       "      <td>jim zona</td>\n",
       "      <td>332</td>\n",
       "    </tr>\n",
       "    <tr>\n",
       "      <th>15074</th>\n",
       "      <td>jim zona</td>\n",
       "      <td>332</td>\n",
       "    </tr>\n",
       "    <tr>\n",
       "      <th>15122</th>\n",
       "      <td>ahmet önder</td>\n",
       "      <td>18</td>\n",
       "    </tr>\n",
       "    <tr>\n",
       "      <th>15123</th>\n",
       "      <td>ahmet önder</td>\n",
       "      <td>18</td>\n",
       "    </tr>\n",
       "  </tbody>\n",
       "</table>\n",
       "<p>3099 rows × 2 columns</p>\n",
       "</div>"
      ],
      "text/plain": [
       "              Name  Name_encoded\n",
       "13     fredrik aas           241\n",
       "27     nestor abad           502\n",
       "28     nestor abad           502\n",
       "37     nestor abad           502\n",
       "43     nestor abad           502\n",
       "...            ...           ...\n",
       "15064     jim zona           332\n",
       "15069     jim zona           332\n",
       "15074     jim zona           332\n",
       "15122  ahmet önder            18\n",
       "15123  ahmet önder            18\n",
       "\n",
       "[3099 rows x 2 columns]"
      ]
     },
     "execution_count": 154,
     "metadata": {},
     "output_type": "execute_result"
    }
   ],
   "source": [
    "vtnames"
   ]
  },
  {
   "cell_type": "code",
   "execution_count": 156,
   "id": "314b935e",
   "metadata": {},
   "outputs": [],
   "source": [
    "# vt.to_csv(\"encoded_m_olympics_vt.csv\", index=False)  \n",
    "# vtnames.to_csv(\"encoded_m_olympics_vtnames.csv\", index=False)  "
   ]
  },
  {
   "cell_type": "code",
   "execution_count": null,
   "id": "51c7a138",
   "metadata": {},
   "outputs": [],
   "source": []
  }
 ],
 "metadata": {
  "kernelspec": {
   "display_name": "Python 3 (ipykernel)",
   "language": "python",
   "name": "python3"
  },
  "language_info": {
   "codemirror_mode": {
    "name": "ipython",
    "version": 3
   },
   "file_extension": ".py",
   "mimetype": "text/x-python",
   "name": "python",
   "nbconvert_exporter": "python",
   "pygments_lexer": "ipython3",
   "version": "3.8.18"
  }
 },
 "nbformat": 4,
 "nbformat_minor": 5
}
