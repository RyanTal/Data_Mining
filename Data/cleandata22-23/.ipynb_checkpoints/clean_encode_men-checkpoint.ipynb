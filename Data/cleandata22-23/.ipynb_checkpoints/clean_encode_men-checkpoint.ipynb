{
 "cells": [
  {
   "cell_type": "code",
   "execution_count": 1,
   "id": "c58d7bbe",
   "metadata": {},
   "outputs": [],
   "source": [
    "import pandas as pd\n",
    "import numpy as np"
   ]
  },
  {
   "cell_type": "code",
   "execution_count": 2,
   "id": "525c6d9a",
   "metadata": {},
   "outputs": [],
   "source": [
    "df = pd.read_csv('men22_23.csv')"
   ]
  },
  {
   "cell_type": "code",
   "execution_count": 3,
   "id": "c02a673d",
   "metadata": {},
   "outputs": [
    {
     "data": {
      "text/plain": [
       "Gender\n",
       "m    8578\n",
       "Name: count, dtype: int64"
      ]
     },
     "execution_count": 3,
     "metadata": {},
     "output_type": "execute_result"
    }
   ],
   "source": [
    "df['Gender'].value_counts()"
   ]
  },
  {
   "cell_type": "code",
   "execution_count": 4,
   "id": "3982fad8",
   "metadata": {},
   "outputs": [],
   "source": [
    "df = df.drop(columns=['Gender', 'Competition', 'Location', 'Total_Score'])"
   ]
  },
  {
   "cell_type": "code",
   "execution_count": 5,
   "id": "d6960497",
   "metadata": {},
   "outputs": [],
   "source": [
    "df['year'] = df['Date'].str[:4]\n"
   ]
  },
  {
   "cell_type": "code",
   "execution_count": 6,
   "id": "0f872b8d",
   "metadata": {},
   "outputs": [],
   "source": [
    "df = df.drop(columns=['Date'])"
   ]
  },
  {
   "cell_type": "code",
   "execution_count": 7,
   "id": "710bf56f",
   "metadata": {},
   "outputs": [
    {
     "data": {
      "text/html": [
       "<div>\n",
       "<style scoped>\n",
       "    .dataframe tbody tr th:only-of-type {\n",
       "        vertical-align: middle;\n",
       "    }\n",
       "\n",
       "    .dataframe tbody tr th {\n",
       "        vertical-align: top;\n",
       "    }\n",
       "\n",
       "    .dataframe thead th {\n",
       "        text-align: right;\n",
       "    }\n",
       "</style>\n",
       "<table border=\"1\" class=\"dataframe\">\n",
       "  <thead>\n",
       "    <tr style=\"text-align: right;\">\n",
       "      <th></th>\n",
       "      <th>Name</th>\n",
       "      <th>Country</th>\n",
       "      <th>Round</th>\n",
       "      <th>Apparatus</th>\n",
       "      <th>Rank</th>\n",
       "      <th>D_Score</th>\n",
       "      <th>E_Score</th>\n",
       "      <th>Penalty</th>\n",
       "      <th>Score</th>\n",
       "      <th>year</th>\n",
       "    </tr>\n",
       "  </thead>\n",
       "  <tbody>\n",
       "    <tr>\n",
       "      <th>0</th>\n",
       "      <td>Fredrik AAS</td>\n",
       "      <td>NOR</td>\n",
       "      <td>qual</td>\n",
       "      <td>HB</td>\n",
       "      <td>39.0</td>\n",
       "      <td>4.6</td>\n",
       "      <td>6.700</td>\n",
       "      <td>0.0</td>\n",
       "      <td>11.300</td>\n",
       "      <td>2023</td>\n",
       "    </tr>\n",
       "    <tr>\n",
       "      <th>1</th>\n",
       "      <td>Fredrik AAS</td>\n",
       "      <td>NOR</td>\n",
       "      <td>qual</td>\n",
       "      <td>PH</td>\n",
       "      <td>44.0</td>\n",
       "      <td>4.4</td>\n",
       "      <td>7.800</td>\n",
       "      <td>0.0</td>\n",
       "      <td>12.200</td>\n",
       "      <td>2023</td>\n",
       "    </tr>\n",
       "    <tr>\n",
       "      <th>2</th>\n",
       "      <td>Fredrik Bjornevik AAS</td>\n",
       "      <td>NOR</td>\n",
       "      <td>qual</td>\n",
       "      <td>FX</td>\n",
       "      <td>54.0</td>\n",
       "      <td>4.0</td>\n",
       "      <td>8.566</td>\n",
       "      <td>0.0</td>\n",
       "      <td>12.566</td>\n",
       "      <td>2023</td>\n",
       "    </tr>\n",
       "    <tr>\n",
       "      <th>3</th>\n",
       "      <td>Fredrik Bjornevik AAS</td>\n",
       "      <td>NOR</td>\n",
       "      <td>qual</td>\n",
       "      <td>HB</td>\n",
       "      <td>44.0</td>\n",
       "      <td>4.6</td>\n",
       "      <td>8.166</td>\n",
       "      <td>0.0</td>\n",
       "      <td>12.766</td>\n",
       "      <td>2023</td>\n",
       "    </tr>\n",
       "    <tr>\n",
       "      <th>4</th>\n",
       "      <td>Fredrik Bjornevik AAS</td>\n",
       "      <td>NOR</td>\n",
       "      <td>qual</td>\n",
       "      <td>PB</td>\n",
       "      <td>54.0</td>\n",
       "      <td>4.4</td>\n",
       "      <td>8.066</td>\n",
       "      <td>0.0</td>\n",
       "      <td>12.466</td>\n",
       "      <td>2023</td>\n",
       "    </tr>\n",
       "  </tbody>\n",
       "</table>\n",
       "</div>"
      ],
      "text/plain": [
       "                    Name Country Round Apparatus  Rank  D_Score  E_Score  \\\n",
       "0            Fredrik AAS     NOR  qual        HB  39.0      4.6    6.700   \n",
       "1            Fredrik AAS     NOR  qual        PH  44.0      4.4    7.800   \n",
       "2  Fredrik Bjornevik AAS     NOR  qual        FX  54.0      4.0    8.566   \n",
       "3  Fredrik Bjornevik AAS     NOR  qual        HB  44.0      4.6    8.166   \n",
       "4  Fredrik Bjornevik AAS     NOR  qual        PB  54.0      4.4    8.066   \n",
       "\n",
       "   Penalty   Score  year  \n",
       "0      0.0  11.300  2023  \n",
       "1      0.0  12.200  2023  \n",
       "2      0.0  12.566  2023  \n",
       "3      0.0  12.766  2023  \n",
       "4      0.0  12.466  2023  "
      ]
     },
     "execution_count": 7,
     "metadata": {},
     "output_type": "execute_result"
    }
   ],
   "source": [
    "df.head()"
   ]
  },
  {
   "cell_type": "code",
   "execution_count": 8,
   "id": "915a2895",
   "metadata": {},
   "outputs": [],
   "source": [
    "df['Name'] = df['Name'].str.lower()\n"
   ]
  },
  {
   "cell_type": "code",
   "execution_count": 9,
   "id": "777a4882",
   "metadata": {},
   "outputs": [],
   "source": [
    "df['Country'].fillna('none', inplace=True)\n",
    "df['year'].fillna(2023, inplace=True)"
   ]
  },
  {
   "cell_type": "code",
   "execution_count": 10,
   "id": "08708f37",
   "metadata": {},
   "outputs": [
    {
     "data": {
      "text/plain": [
       "array(['HB', 'PH', 'FX', 'PB', 'SR', 'VT1', 'VT', 'VT2', 'hb'],\n",
       "      dtype=object)"
      ]
     },
     "execution_count": 10,
     "metadata": {},
     "output_type": "execute_result"
    }
   ],
   "source": [
    "df['Apparatus'].unique()"
   ]
  },
  {
   "cell_type": "code",
   "execution_count": 11,
   "id": "d7c97aff",
   "metadata": {},
   "outputs": [],
   "source": [
    "df['Apparatus'] = df['Apparatus'].str.upper()"
   ]
  },
  {
   "cell_type": "code",
   "execution_count": 12,
   "id": "a31ce7c3",
   "metadata": {},
   "outputs": [],
   "source": [
    "hb = df[df['Apparatus'] == 'HB']\n",
    "ph = df[df['Apparatus'] == 'PH']\n",
    "fx = df[df['Apparatus'] == 'FX']\n",
    "pb = df[df['Apparatus'] == 'PB']\n",
    "sr = df[df['Apparatus'] == 'SR']\n"
   ]
  },
  {
   "cell_type": "code",
   "execution_count": 13,
   "id": "089e0da9",
   "metadata": {},
   "outputs": [
    {
     "name": "stdout",
     "output_type": "stream",
     "text": [
      "<class 'pandas.core.frame.DataFrame'>\n",
      "Index: 1347 entries, 0 to 8575\n",
      "Data columns (total 10 columns):\n",
      " #   Column     Non-Null Count  Dtype  \n",
      "---  ------     --------------  -----  \n",
      " 0   Name       1347 non-null   object \n",
      " 1   Country    1347 non-null   object \n",
      " 2   Round      1347 non-null   object \n",
      " 3   Apparatus  1347 non-null   object \n",
      " 4   Rank       1347 non-null   float64\n",
      " 5   D_Score    1347 non-null   float64\n",
      " 6   E_Score    1347 non-null   float64\n",
      " 7   Penalty    1347 non-null   float64\n",
      " 8   Score      1347 non-null   float64\n",
      " 9   year       1347 non-null   object \n",
      "dtypes: float64(5), object(5)\n",
      "memory usage: 115.8+ KB\n"
     ]
    }
   ],
   "source": [
    "hb.info()"
   ]
  },
  {
   "cell_type": "code",
   "execution_count": 14,
   "id": "e1c4a637",
   "metadata": {},
   "outputs": [],
   "source": [
    "values_to_remove = ['HB', 'PH', 'FX', 'PB', 'SR']\n",
    "\n",
    "# Remove rows where 'Apparatus' is in values_to_remove\n",
    "filtered_df = df[~df['Apparatus'].isin(values_to_remove)]\n"
   ]
  },
  {
   "cell_type": "code",
   "execution_count": 15,
   "id": "72cef13a",
   "metadata": {},
   "outputs": [
    {
     "data": {
      "text/plain": [
       "Apparatus\n",
       "VT1    962\n",
       "VT2    516\n",
       "VT     279\n",
       "Name: count, dtype: int64"
      ]
     },
     "execution_count": 15,
     "metadata": {},
     "output_type": "execute_result"
    }
   ],
   "source": [
    "filtered_df['Apparatus'].value_counts()"
   ]
  },
  {
   "cell_type": "code",
   "execution_count": 16,
   "id": "1eb043d7",
   "metadata": {},
   "outputs": [],
   "source": [
    "vt = filtered_df.copy()"
   ]
  },
  {
   "cell_type": "code",
   "execution_count": 17,
   "id": "ec50b97e",
   "metadata": {},
   "outputs": [],
   "source": [
    "sr = sr.drop(columns=['Apparatus'])\n",
    "pb = pb.drop(columns=['Apparatus'])\n",
    "fx = fx.drop(columns=['Apparatus'])\n",
    "vt = vt.drop(columns=['Apparatus'])\n",
    "ph = ph.drop(columns=['Apparatus'])\n",
    "hb = hb.drop(columns=['Apparatus'])"
   ]
  },
  {
   "cell_type": "code",
   "execution_count": 18,
   "id": "e6ac84b2",
   "metadata": {},
   "outputs": [],
   "source": [
    "sr.rename(columns={'Country': 'nation', 'D_Score': 'D Score',\n",
    "                            'E_Score': 'E Score', 'Penalty': 'Pen.',\n",
    "                           'Score': 'Total', 'Round': 'round'}, inplace=True)\n",
    "\n",
    "sr=sr[['Rank', 'Name', 'nation', 'D Score', 'E Score', 'Pen.', \n",
    "                         'Total','year' , 'round' ]]"
   ]
  },
  {
   "cell_type": "code",
   "execution_count": 19,
   "id": "6a65fd93",
   "metadata": {},
   "outputs": [],
   "source": [
    "pb.rename(columns={'Country': 'nation', 'D_Score': 'D Score',\n",
    "                            'E_Score': 'E Score', 'Penalty': 'Pen.',\n",
    "                           'Score': 'Total', 'Round': 'round'}, inplace=True)\n",
    "\n",
    "pb=pb[['Rank', 'Name', 'nation', 'D Score', 'E Score', 'Pen.', \n",
    "                         'Total','year' , 'round' ]]"
   ]
  },
  {
   "cell_type": "code",
   "execution_count": 20,
   "id": "45944535",
   "metadata": {},
   "outputs": [],
   "source": [
    "fx.rename(columns={'Country': 'nation', 'D_Score': 'D Score',\n",
    "                            'E_Score': 'E Score', 'Penalty': 'Pen.',\n",
    "                           'Score': 'Total', 'Round': 'round'}, inplace=True)\n",
    "\n",
    "fx=fx[['Rank', 'Name', 'nation', 'D Score', 'E Score', 'Pen.', \n",
    "                         'Total','year' , 'round' ]]"
   ]
  },
  {
   "cell_type": "code",
   "execution_count": 21,
   "id": "e70795f2",
   "metadata": {},
   "outputs": [],
   "source": [
    "vt.rename(columns={'Country': 'nation', 'D_Score': 'D Score',\n",
    "                            'E_Score': 'E Score', 'Penalty': 'Pen.',\n",
    "                           'Score': 'Total', 'Round': 'round'}, inplace=True)\n",
    "\n",
    "vt=vt[['Rank', 'Name', 'nation', 'D Score', 'E Score', 'Pen.', \n",
    "                         'Total','year' , 'round' ]]"
   ]
  },
  {
   "cell_type": "code",
   "execution_count": 22,
   "id": "7ce02fc8",
   "metadata": {},
   "outputs": [],
   "source": [
    "ph.rename(columns={'Country': 'nation', 'D_Score': 'D Score',\n",
    "                            'E_Score': 'E Score', 'Penalty': 'Pen.',\n",
    "                           'Score': 'Total', 'Round': 'round'}, inplace=True)\n",
    "\n",
    "ph=ph[['Rank', 'Name', 'nation', 'D Score', 'E Score', 'Pen.', \n",
    "                         'Total','year' , 'round' ]]"
   ]
  },
  {
   "cell_type": "code",
   "execution_count": 23,
   "id": "3200cd5c",
   "metadata": {},
   "outputs": [],
   "source": [
    "hb.rename(columns={'Country': 'nation', 'D_Score': 'D Score',\n",
    "                            'E_Score': 'E Score', 'Penalty': 'Pen.',\n",
    "                           'Score': 'Total', 'Round': 'round'}, inplace=True)\n",
    "\n",
    "hb=hb[['Rank', 'Name', 'nation', 'D Score', 'E Score', 'Pen.', \n",
    "                         'Total','year' , 'round' ]]"
   ]
  },
  {
   "cell_type": "code",
   "execution_count": 25,
   "id": "7bac10c1",
   "metadata": {},
   "outputs": [],
   "source": [
    "from sklearn.preprocessing import LabelEncoder\n",
    "\n",
    "# Assuming df is your DataFrame and 'Name' is the column you want to encode\n",
    "le = LabelEncoder()\n",
    "\n",
    "# Fit and transform the 'Name' column to create integer labels\n",
    "fx['Name_encoded'] = le.fit_transform(fx['Name'])\n",
    "\n"
   ]
  },
  {
   "cell_type": "code",
   "execution_count": 26,
   "id": "00709f25",
   "metadata": {},
   "outputs": [],
   "source": [
    "fxnames = fx[['Name', 'Name_encoded']]"
   ]
  },
  {
   "cell_type": "code",
   "execution_count": 27,
   "id": "07c09c02",
   "metadata": {},
   "outputs": [],
   "source": [
    "fx=fx.drop(columns=[\"Name\"])\n",
    "fx.rename(columns={'Name_encoded': 'Name'}, inplace=True)"
   ]
  },
  {
   "cell_type": "code",
   "execution_count": 27,
   "id": "f81ded84",
   "metadata": {},
   "outputs": [],
   "source": [
    "from sklearn.preprocessing import LabelEncoder\n",
    "\n",
    "# Assuming df is your DataFrame and 'Name' is the column you want to encode\n",
    "le = LabelEncoder()\n",
    "\n",
    "# Fit and transform the 'Name' column to create integer labels\n",
    "fx['nation_encoded'] = le.fit_transform(fx['nation'])\n",
    "\n",
    "# Store the mapping between integers and original objects\n",
    "label_mapping_nation = dict(zip(le.transform(fx['nation']), fx['nation']))\n",
    "\n",
    "# To revert the integers back to objects, use the label_mapping\n",
    "# reverted_names = df['Name_encoded'].map(label_mapping)"
   ]
  },
  {
   "cell_type": "code",
   "execution_count": 28,
   "id": "f4fa11ce",
   "metadata": {},
   "outputs": [],
   "source": [
    "fx=fx.drop(columns=[\"nation\"])\n",
    "fx.rename(columns={'nation_encoded': 'nation'}, inplace=True)"
   ]
  },
  {
   "cell_type": "code",
   "execution_count": 29,
   "id": "7c9461eb",
   "metadata": {},
   "outputs": [],
   "source": [
    "fx_encoded = pd.get_dummies(fx, columns=['round'], prefix='round')"
   ]
  },
  {
   "cell_type": "code",
   "execution_count": 30,
   "id": "56379fd1",
   "metadata": {},
   "outputs": [],
   "source": [
    "fx_encoded['year'] = pd.to_numeric(fx_encoded['year'], errors='coerce').fillna(0).astype(int)\n"
   ]
  },
  {
   "cell_type": "code",
   "execution_count": 31,
   "id": "b7f441de",
   "metadata": {},
   "outputs": [
    {
     "name": "stdout",
     "output_type": "stream",
     "text": [
      "<class 'pandas.core.frame.DataFrame'>\n",
      "Index: 1365 entries, 2 to 8574\n",
      "Data columns (total 12 columns):\n",
      " #   Column           Non-Null Count  Dtype  \n",
      "---  ------           --------------  -----  \n",
      " 0   Rank             1365 non-null   float64\n",
      " 1   D Score          1365 non-null   float64\n",
      " 2   E Score          1365 non-null   float64\n",
      " 3   Pen.             1365 non-null   float64\n",
      " 4   Total            1365 non-null   float64\n",
      " 5   year             1365 non-null   int64  \n",
      " 6   Name             1365 non-null   int64  \n",
      " 7   nation           1365 non-null   int64  \n",
      " 8   round_AAfinal    1365 non-null   bool   \n",
      " 9   round_TeamFinal  1365 non-null   bool   \n",
      " 10  round_final      1365 non-null   bool   \n",
      " 11  round_qual       1365 non-null   bool   \n",
      "dtypes: bool(4), float64(5), int64(3)\n",
      "memory usage: 101.3 KB\n"
     ]
    }
   ],
   "source": [
    "fx_encoded.info()"
   ]
  },
  {
   "cell_type": "code",
   "execution_count": 32,
   "id": "95b1a29c",
   "metadata": {},
   "outputs": [],
   "source": [
    "fx = fx_encoded.copy()"
   ]
  },
  {
   "cell_type": "code",
   "execution_count": 33,
   "id": "e46424f4",
   "metadata": {},
   "outputs": [],
   "source": [
    "# fx.to_csv(\"encoded_m_olympics_fx.csv\", index=False)  \n",
    "# fxnames.to_csv(\"encoded_m_olympics_fxnames.csv\", index=False)  "
   ]
  },
  {
   "cell_type": "code",
   "execution_count": 34,
   "id": "71bd31e5",
   "metadata": {},
   "outputs": [],
   "source": [
    "from sklearn.preprocessing import LabelEncoder\n",
    "\n",
    "# Assuming df is your DataFrame and 'Name' is the column you want to encode\n",
    "le = LabelEncoder()\n",
    "\n",
    "# Fit and transform the 'Name' column to create integer labels\n",
    "hb['Name_encoded'] = le.fit_transform(hb['Name'])\n",
    "\n"
   ]
  },
  {
   "cell_type": "code",
   "execution_count": 35,
   "id": "b8fedae1",
   "metadata": {},
   "outputs": [],
   "source": [
    "hbnames = hb[['Name', 'Name_encoded']]"
   ]
  },
  {
   "cell_type": "code",
   "execution_count": 36,
   "id": "050afbee",
   "metadata": {},
   "outputs": [],
   "source": [
    "hb=hb.drop(columns=[\"Name\"])\n",
    "hb.rename(columns={'Name_encoded': 'Name'}, inplace=True)"
   ]
  },
  {
   "cell_type": "code",
   "execution_count": 37,
   "id": "50f20039",
   "metadata": {},
   "outputs": [],
   "source": [
    "from sklearn.preprocessing import LabelEncoder\n",
    "\n",
    "# Assuming df is your DataFrame and 'Name' is the column you want to encode\n",
    "le = LabelEncoder()\n",
    "\n",
    "# Fit and transform the 'Name' column to create integer labels\n",
    "hb['nation_encoded'] = le.fit_transform(hb['nation'])\n",
    "\n",
    "# Store the mapping between integers and original objects\n",
    "label_mapping_nation = dict(zip(le.transform(hb['nation']), hb['nation']))\n",
    "\n",
    "# To revert the integers back to objects, use the label_mapping\n",
    "# reverted_names = df['Name_encoded'].map(label_mapping)"
   ]
  },
  {
   "cell_type": "code",
   "execution_count": 38,
   "id": "0adc56c9",
   "metadata": {},
   "outputs": [],
   "source": [
    "hb=hb.drop(columns=[\"nation\"])\n",
    "hb.rename(columns={'nation_encoded': 'nation'}, inplace=True)"
   ]
  },
  {
   "cell_type": "code",
   "execution_count": 39,
   "id": "5a4d4646",
   "metadata": {},
   "outputs": [],
   "source": [
    "hb_encoded = pd.get_dummies(hb, columns=['round'], prefix='round')\n",
    "hb_encoded['year'] = pd.to_numeric(hb_encoded['year'], errors='coerce').fillna(0).astype(int)\n"
   ]
  },
  {
   "cell_type": "code",
   "execution_count": 40,
   "id": "4e092640",
   "metadata": {},
   "outputs": [
    {
     "name": "stdout",
     "output_type": "stream",
     "text": [
      "<class 'pandas.core.frame.DataFrame'>\n",
      "Index: 1347 entries, 0 to 8575\n",
      "Data columns (total 12 columns):\n",
      " #   Column           Non-Null Count  Dtype  \n",
      "---  ------           --------------  -----  \n",
      " 0   Rank             1347 non-null   float64\n",
      " 1   D Score          1347 non-null   float64\n",
      " 2   E Score          1347 non-null   float64\n",
      " 3   Pen.             1347 non-null   float64\n",
      " 4   Total            1347 non-null   float64\n",
      " 5   year             1347 non-null   int64  \n",
      " 6   Name             1347 non-null   int64  \n",
      " 7   nation           1347 non-null   int64  \n",
      " 8   round_AAfinal    1347 non-null   bool   \n",
      " 9   round_TeamFinal  1347 non-null   bool   \n",
      " 10  round_final      1347 non-null   bool   \n",
      " 11  round_qual       1347 non-null   bool   \n",
      "dtypes: bool(4), float64(5), int64(3)\n",
      "memory usage: 100.0 KB\n"
     ]
    }
   ],
   "source": [
    "hb_encoded.info()"
   ]
  },
  {
   "cell_type": "code",
   "execution_count": 41,
   "id": "6ea0f22a",
   "metadata": {},
   "outputs": [],
   "source": [
    "hb = hb_encoded.copy()"
   ]
  },
  {
   "cell_type": "code",
   "execution_count": 42,
   "id": "6b0953eb",
   "metadata": {},
   "outputs": [],
   "source": [
    "# hb.to_csv(\"encoded_m_olympics_hb.csv\", index=False)  \n",
    "# hbnames.to_csv(\"encoded_m_olympics_hbnames.csv\", index=False)  "
   ]
  },
  {
   "cell_type": "code",
   "execution_count": 43,
   "id": "460db58e",
   "metadata": {},
   "outputs": [],
   "source": [
    "from sklearn.preprocessing import LabelEncoder\n",
    "\n",
    "# Assuming df is your DataFrame and 'Name' is the column you want to encode\n",
    "le = LabelEncoder()\n",
    "\n",
    "# Fit and transform the 'Name' column to create integer labels\n",
    "pb['Name_encoded'] = le.fit_transform(pb['Name'])\n",
    "\n"
   ]
  },
  {
   "cell_type": "code",
   "execution_count": 44,
   "id": "0414986d",
   "metadata": {},
   "outputs": [],
   "source": [
    "pbnames = pb[['Name', 'Name_encoded']]"
   ]
  },
  {
   "cell_type": "code",
   "execution_count": 45,
   "id": "07892253",
   "metadata": {},
   "outputs": [],
   "source": [
    "pb=pb.drop(columns=[\"Name\"])\n",
    "pb.rename(columns={'Name_encoded': 'Name'}, inplace=True)"
   ]
  },
  {
   "cell_type": "code",
   "execution_count": 46,
   "id": "a13232df",
   "metadata": {},
   "outputs": [],
   "source": [
    "from sklearn.preprocessing import LabelEncoder\n",
    "\n",
    "# Assuming df is your DataFrame and 'Name' is the column you want to encode\n",
    "le = LabelEncoder()\n",
    "\n",
    "# Fit and transform the 'Name' column to create integer labels\n",
    "pb['nation_encoded'] = le.fit_transform(pb['nation'])\n",
    "\n",
    "# Store the mapping between integers and original objects\n",
    "label_mapping_nation = dict(zip(le.transform(pb['nation']), pb['nation']))\n",
    "\n",
    "# To revert the integers back to objects, use the label_mapping\n",
    "# reverted_names = df['Name_encoded'].map(label_mapping)"
   ]
  },
  {
   "cell_type": "code",
   "execution_count": 47,
   "id": "0e1d0cd7",
   "metadata": {},
   "outputs": [],
   "source": [
    "pb=pb.drop(columns=[\"nation\"])\n",
    "pb.rename(columns={'nation_encoded': 'nation'}, inplace=True)"
   ]
  },
  {
   "cell_type": "code",
   "execution_count": 48,
   "id": "60d72115",
   "metadata": {},
   "outputs": [],
   "source": [
    "pb_encoded = pd.get_dummies(pb, columns=['round'], prefix='round')\n",
    "pb_encoded['year'] = pd.to_numeric(pb_encoded['year'], errors='coerce').fillna(0).astype(int)\n"
   ]
  },
  {
   "cell_type": "code",
   "execution_count": 49,
   "id": "98023878",
   "metadata": {},
   "outputs": [
    {
     "name": "stdout",
     "output_type": "stream",
     "text": [
      "<class 'pandas.core.frame.DataFrame'>\n",
      "Index: 1339 entries, 4 to 8577\n",
      "Data columns (total 12 columns):\n",
      " #   Column           Non-Null Count  Dtype  \n",
      "---  ------           --------------  -----  \n",
      " 0   Rank             1339 non-null   float64\n",
      " 1   D Score          1339 non-null   float64\n",
      " 2   E Score          1339 non-null   float64\n",
      " 3   Pen.             1339 non-null   float64\n",
      " 4   Total            1339 non-null   float64\n",
      " 5   year             1339 non-null   int64  \n",
      " 6   Name             1339 non-null   int64  \n",
      " 7   nation           1339 non-null   int64  \n",
      " 8   round_AAfinal    1339 non-null   bool   \n",
      " 9   round_TeamFinal  1339 non-null   bool   \n",
      " 10  round_final      1339 non-null   bool   \n",
      " 11  round_qual       1339 non-null   bool   \n",
      "dtypes: bool(4), float64(5), int64(3)\n",
      "memory usage: 99.4 KB\n"
     ]
    }
   ],
   "source": [
    "pb_encoded.info()"
   ]
  },
  {
   "cell_type": "code",
   "execution_count": 50,
   "id": "5e0848c3",
   "metadata": {},
   "outputs": [],
   "source": [
    "pb = pb_encoded.copy()"
   ]
  },
  {
   "cell_type": "code",
   "execution_count": 51,
   "id": "484ec34c",
   "metadata": {},
   "outputs": [],
   "source": [
    "# pb.to_csv(\"encoded_m_olympics_pb.csv\", index=False)  \n",
    "# pbnames.to_csv(\"encoded_m_olympics_pbnames.csv\", index=False)  "
   ]
  },
  {
   "cell_type": "code",
   "execution_count": 52,
   "id": "a694468e",
   "metadata": {},
   "outputs": [],
   "source": [
    "from sklearn.preprocessing import LabelEncoder\n",
    "\n",
    "# Assuming df is your DataFrame and 'Name' is the column you want to encode\n",
    "le = LabelEncoder()\n",
    "\n",
    "# Fit and transform the 'Name' column to create integer labels\n",
    "ph['Name_encoded'] = le.fit_transform(ph['Name'])\n",
    "\n"
   ]
  },
  {
   "cell_type": "code",
   "execution_count": 53,
   "id": "8939f33d",
   "metadata": {},
   "outputs": [],
   "source": [
    "phnames = ph[['Name', 'Name_encoded']]\n",
    "ph=ph.drop(columns=[\"Name\"])\n",
    "ph.rename(columns={'Name_encoded': 'Name'}, inplace=True)"
   ]
  },
  {
   "cell_type": "code",
   "execution_count": 54,
   "id": "053b0fa7",
   "metadata": {},
   "outputs": [],
   "source": [
    "from sklearn.preprocessing import LabelEncoder\n",
    "\n",
    "# Assuming df is your DataFrame and 'Name' is the column you want to encode\n",
    "le = LabelEncoder()\n",
    "\n",
    "# Fit and transform the 'Name' column to create integer labels\n",
    "ph['nation_encoded'] = le.fit_transform(ph['nation'])\n",
    "\n",
    "# Store the mapping between integers and original objects\n",
    "label_mapping_nation = dict(zip(le.transform(ph['nation']), ph['nation']))\n",
    "\n",
    "# To revert the integers back to objects, use the label_mapping\n",
    "# reverted_names = df['Name_encoded'].map(label_mapping)"
   ]
  },
  {
   "cell_type": "code",
   "execution_count": 55,
   "id": "f4263011",
   "metadata": {},
   "outputs": [],
   "source": [
    "ph=ph.drop(columns=[\"nation\"])\n",
    "ph.rename(columns={'nation_encoded': 'nation'}, inplace=True)"
   ]
  },
  {
   "cell_type": "code",
   "execution_count": 56,
   "id": "ec0e6a3d",
   "metadata": {},
   "outputs": [],
   "source": [
    "ph_encoded = pd.get_dummies(ph, columns=['round'], prefix='round')\n",
    "ph_encoded['year'] = pd.to_numeric(ph_encoded['year'], errors='coerce').fillna(0).astype(int)\n"
   ]
  },
  {
   "cell_type": "code",
   "execution_count": 57,
   "id": "38d3afad",
   "metadata": {},
   "outputs": [],
   "source": [
    "ph = ph_encoded.copy()"
   ]
  },
  {
   "cell_type": "code",
   "execution_count": 58,
   "id": "a1442a54",
   "metadata": {},
   "outputs": [],
   "source": [
    "# ph.to_csv(\"encoded_m_olympics_ph.csv\", index=False)  \n",
    "# phnames.to_csv(\"encoded_m_olympics_phnames.csv\", index=False)  "
   ]
  },
  {
   "cell_type": "code",
   "execution_count": 59,
   "id": "0a606f48",
   "metadata": {},
   "outputs": [],
   "source": [
    "from sklearn.preprocessing import LabelEncoder\n",
    "\n",
    "# Assuming df is your DataFrame and 'Name' is the column you want to encode\n",
    "le = LabelEncoder()\n",
    "\n",
    "# Fit and transform the 'Name' column to create integer labels\n",
    "sr['Name_encoded'] = le.fit_transform(sr['Name'])\n"
   ]
  },
  {
   "cell_type": "code",
   "execution_count": 60,
   "id": "bd80d038",
   "metadata": {},
   "outputs": [],
   "source": [
    "srnames = sr[['Name', 'Name_encoded']]\n",
    "sr=sr.drop(columns=[\"Name\"])\n",
    "sr.rename(columns={'Name_encoded': 'Name'}, inplace=True)"
   ]
  },
  {
   "cell_type": "code",
   "execution_count": 61,
   "id": "57a7c4e1",
   "metadata": {},
   "outputs": [],
   "source": [
    "from sklearn.preprocessing import LabelEncoder\n",
    "\n",
    "# Assuming df is your DataFrame and 'Name' is the column you want to encode\n",
    "le = LabelEncoder()\n",
    "\n",
    "# Fit and transform the 'Name' column to create integer labels\n",
    "sr['nation_encoded'] = le.fit_transform(sr['nation'])\n",
    "\n",
    "# Store the mapping between integers and original objects\n",
    "label_mapping_nation = dict(zip(le.transform(sr['nation']), sr['nation']))\n",
    "\n",
    "# To revert the integers back to objects, use the label_mapping\n",
    "# reverted_names = df['Name_encoded'].map(label_mapping)"
   ]
  },
  {
   "cell_type": "code",
   "execution_count": 62,
   "id": "c0952bbf",
   "metadata": {},
   "outputs": [],
   "source": [
    "sr=sr.drop(columns=[\"nation\"])\n",
    "sr.rename(columns={'nation_encoded': 'nation'}, inplace=True)"
   ]
  },
  {
   "cell_type": "code",
   "execution_count": 63,
   "id": "3d9fef87",
   "metadata": {},
   "outputs": [],
   "source": [
    "sr_encoded = pd.get_dummies(sr, columns=['round'], prefix='round')\n",
    "sr_encoded['year'] = pd.to_numeric(sr_encoded['year'], errors='coerce').fillna(0).astype(int)\n"
   ]
  },
  {
   "cell_type": "code",
   "execution_count": 64,
   "id": "3b168a85",
   "metadata": {},
   "outputs": [],
   "source": [
    "sr = sr_encoded.copy()"
   ]
  },
  {
   "cell_type": "code",
   "execution_count": 65,
   "id": "9b8dca77",
   "metadata": {},
   "outputs": [],
   "source": [
    "# sr.to_csv(\"encoded_m_olympics_sr.csv\", index=False)  \n",
    "# srnames.to_csv(\"encoded_m_olympics_srnames.csv\", index=False)  "
   ]
  },
  {
   "cell_type": "code",
   "execution_count": 37,
   "id": "2e1927c6",
   "metadata": {},
   "outputs": [],
   "source": [
    "from sklearn.preprocessing import LabelEncoder\n",
    "\n",
    "# Assuming df is your DataFrame and 'Name' is the column you want to encode\n",
    "le = LabelEncoder()\n",
    "\n",
    "# Fit and transform the 'Name' column to create integer labels\n",
    "vt['Name_encoded'] = le.fit_transform(vt['Name'])\n"
   ]
  },
  {
   "cell_type": "code",
   "execution_count": 38,
   "id": "f6a22030",
   "metadata": {},
   "outputs": [],
   "source": [
    "vtnames = vt[['Name', 'Name_encoded']]\n",
    "vt=vt.drop(columns=[\"Name\"])\n",
    "vt.rename(columns={'Name_encoded': 'Name'}, inplace=True)"
   ]
  },
  {
   "cell_type": "code",
   "execution_count": 39,
   "id": "3807b2c9",
   "metadata": {},
   "outputs": [],
   "source": [
    "from sklearn.preprocessing import LabelEncoder\n",
    "\n",
    "# Assuming df is your DataFrame and 'Name' is the column you want to encode\n",
    "le = LabelEncoder()\n",
    "\n",
    "# Fit and transform the 'Name' column to create integer labels\n",
    "vt['nation_encoded'] = le.fit_transform(vt['nation'])\n",
    "\n",
    "# Store the mapping between integers and original objects\n",
    "label_mapping_nation = dict(zip(le.transform(vt['nation']), vt['nation']))\n",
    "\n",
    "# To revert the integers back to objects, use the label_mapping\n",
    "# reverted_names = df['Name_encoded'].map(label_mapping)"
   ]
  },
  {
   "cell_type": "code",
   "execution_count": 40,
   "id": "e3ab30e2",
   "metadata": {},
   "outputs": [],
   "source": [
    "vt=vt.drop(columns=[\"nation\"])\n",
    "vt.rename(columns={'nation_encoded': 'nation'}, inplace=True)"
   ]
  },
  {
   "cell_type": "code",
   "execution_count": 41,
   "id": "492f945c",
   "metadata": {},
   "outputs": [
    {
     "ename": "KeyError",
     "evalue": "\"None of [Index(['round'], dtype='object')] are in the [columns]\"",
     "output_type": "error",
     "traceback": [
      "\u001b[0;31m---------------------------------------------------------------------------\u001b[0m",
      "\u001b[0;31mKeyError\u001b[0m                                  Traceback (most recent call last)",
      "\u001b[0;32m/var/folders/j_/555m2zps099832fjh_m8jjnc0000gn/T/ipykernel_14117/14124711.py\u001b[0m in \u001b[0;36m<cell line: 1>\u001b[0;34m()\u001b[0m\n\u001b[0;32m----> 1\u001b[0;31m \u001b[0mvt_encoded\u001b[0m \u001b[0;34m=\u001b[0m \u001b[0mpd\u001b[0m\u001b[0;34m.\u001b[0m\u001b[0mget_dummies\u001b[0m\u001b[0;34m(\u001b[0m\u001b[0mvt\u001b[0m\u001b[0;34m,\u001b[0m \u001b[0mcolumns\u001b[0m\u001b[0;34m=\u001b[0m\u001b[0;34m[\u001b[0m\u001b[0;34m'round'\u001b[0m\u001b[0;34m]\u001b[0m\u001b[0;34m,\u001b[0m \u001b[0mprefix\u001b[0m\u001b[0;34m=\u001b[0m\u001b[0;34m'round'\u001b[0m\u001b[0;34m)\u001b[0m\u001b[0;34m\u001b[0m\u001b[0;34m\u001b[0m\u001b[0m\n\u001b[0m\u001b[1;32m      2\u001b[0m \u001b[0mvt_encoded\u001b[0m\u001b[0;34m[\u001b[0m\u001b[0;34m'year'\u001b[0m\u001b[0;34m]\u001b[0m \u001b[0;34m=\u001b[0m \u001b[0mpd\u001b[0m\u001b[0;34m.\u001b[0m\u001b[0mto_numeric\u001b[0m\u001b[0;34m(\u001b[0m\u001b[0mvt_encoded\u001b[0m\u001b[0;34m[\u001b[0m\u001b[0;34m'year'\u001b[0m\u001b[0;34m]\u001b[0m\u001b[0;34m,\u001b[0m \u001b[0merrors\u001b[0m\u001b[0;34m=\u001b[0m\u001b[0;34m'coerce'\u001b[0m\u001b[0;34m)\u001b[0m\u001b[0;34m.\u001b[0m\u001b[0mfillna\u001b[0m\u001b[0;34m(\u001b[0m\u001b[0;36m0\u001b[0m\u001b[0;34m)\u001b[0m\u001b[0;34m.\u001b[0m\u001b[0mastype\u001b[0m\u001b[0;34m(\u001b[0m\u001b[0mint\u001b[0m\u001b[0;34m)\u001b[0m\u001b[0;34m\u001b[0m\u001b[0;34m\u001b[0m\u001b[0m\n",
      "\u001b[0;32m~/opt/anaconda3/envs/tf2/lib/python3.9/site-packages/pandas/core/reshape/encoding.py\u001b[0m in \u001b[0;36mget_dummies\u001b[0;34m(data, prefix, prefix_sep, dummy_na, columns, sparse, drop_first, dtype)\u001b[0m\n\u001b[1;32m    156\u001b[0m             \u001b[0;32mraise\u001b[0m \u001b[0mTypeError\u001b[0m\u001b[0;34m(\u001b[0m\u001b[0;34m\"Input must be a list-like for parameter `columns`\"\u001b[0m\u001b[0;34m)\u001b[0m\u001b[0;34m\u001b[0m\u001b[0;34m\u001b[0m\u001b[0m\n\u001b[1;32m    157\u001b[0m         \u001b[0;32melse\u001b[0m\u001b[0;34m:\u001b[0m\u001b[0;34m\u001b[0m\u001b[0;34m\u001b[0m\u001b[0m\n\u001b[0;32m--> 158\u001b[0;31m             \u001b[0mdata_to_encode\u001b[0m \u001b[0;34m=\u001b[0m \u001b[0mdata\u001b[0m\u001b[0;34m[\u001b[0m\u001b[0mcolumns\u001b[0m\u001b[0;34m]\u001b[0m\u001b[0;34m\u001b[0m\u001b[0;34m\u001b[0m\u001b[0m\n\u001b[0m\u001b[1;32m    159\u001b[0m \u001b[0;34m\u001b[0m\u001b[0m\n\u001b[1;32m    160\u001b[0m         \u001b[0;31m# validate prefixes and separator to avoid silently dropping cols\u001b[0m\u001b[0;34m\u001b[0m\u001b[0;34m\u001b[0m\u001b[0m\n",
      "\u001b[0;32m~/opt/anaconda3/envs/tf2/lib/python3.9/site-packages/pandas/core/frame.py\u001b[0m in \u001b[0;36m__getitem__\u001b[0;34m(self, key)\u001b[0m\n\u001b[1;32m   3765\u001b[0m             \u001b[0;32mif\u001b[0m \u001b[0mis_iterator\u001b[0m\u001b[0;34m(\u001b[0m\u001b[0mkey\u001b[0m\u001b[0;34m)\u001b[0m\u001b[0;34m:\u001b[0m\u001b[0;34m\u001b[0m\u001b[0;34m\u001b[0m\u001b[0m\n\u001b[1;32m   3766\u001b[0m                 \u001b[0mkey\u001b[0m \u001b[0;34m=\u001b[0m \u001b[0mlist\u001b[0m\u001b[0;34m(\u001b[0m\u001b[0mkey\u001b[0m\u001b[0;34m)\u001b[0m\u001b[0;34m\u001b[0m\u001b[0;34m\u001b[0m\u001b[0m\n\u001b[0;32m-> 3767\u001b[0;31m             \u001b[0mindexer\u001b[0m \u001b[0;34m=\u001b[0m \u001b[0mself\u001b[0m\u001b[0;34m.\u001b[0m\u001b[0mcolumns\u001b[0m\u001b[0;34m.\u001b[0m\u001b[0m_get_indexer_strict\u001b[0m\u001b[0;34m(\u001b[0m\u001b[0mkey\u001b[0m\u001b[0;34m,\u001b[0m \u001b[0;34m\"columns\"\u001b[0m\u001b[0;34m)\u001b[0m\u001b[0;34m[\u001b[0m\u001b[0;36m1\u001b[0m\u001b[0;34m]\u001b[0m\u001b[0;34m\u001b[0m\u001b[0;34m\u001b[0m\u001b[0m\n\u001b[0m\u001b[1;32m   3768\u001b[0m \u001b[0;34m\u001b[0m\u001b[0m\n\u001b[1;32m   3769\u001b[0m         \u001b[0;31m# take() does not accept boolean indexers\u001b[0m\u001b[0;34m\u001b[0m\u001b[0;34m\u001b[0m\u001b[0m\n",
      "\u001b[0;32m~/opt/anaconda3/envs/tf2/lib/python3.9/site-packages/pandas/core/indexes/base.py\u001b[0m in \u001b[0;36m_get_indexer_strict\u001b[0;34m(self, key, axis_name)\u001b[0m\n\u001b[1;32m   5875\u001b[0m             \u001b[0mkeyarr\u001b[0m\u001b[0;34m,\u001b[0m \u001b[0mindexer\u001b[0m\u001b[0;34m,\u001b[0m \u001b[0mnew_indexer\u001b[0m \u001b[0;34m=\u001b[0m \u001b[0mself\u001b[0m\u001b[0;34m.\u001b[0m\u001b[0m_reindex_non_unique\u001b[0m\u001b[0;34m(\u001b[0m\u001b[0mkeyarr\u001b[0m\u001b[0;34m)\u001b[0m\u001b[0;34m\u001b[0m\u001b[0;34m\u001b[0m\u001b[0m\n\u001b[1;32m   5876\u001b[0m \u001b[0;34m\u001b[0m\u001b[0m\n\u001b[0;32m-> 5877\u001b[0;31m         \u001b[0mself\u001b[0m\u001b[0;34m.\u001b[0m\u001b[0m_raise_if_missing\u001b[0m\u001b[0;34m(\u001b[0m\u001b[0mkeyarr\u001b[0m\u001b[0;34m,\u001b[0m \u001b[0mindexer\u001b[0m\u001b[0;34m,\u001b[0m \u001b[0maxis_name\u001b[0m\u001b[0;34m)\u001b[0m\u001b[0;34m\u001b[0m\u001b[0;34m\u001b[0m\u001b[0m\n\u001b[0m\u001b[1;32m   5878\u001b[0m \u001b[0;34m\u001b[0m\u001b[0m\n\u001b[1;32m   5879\u001b[0m         \u001b[0mkeyarr\u001b[0m \u001b[0;34m=\u001b[0m \u001b[0mself\u001b[0m\u001b[0;34m.\u001b[0m\u001b[0mtake\u001b[0m\u001b[0;34m(\u001b[0m\u001b[0mindexer\u001b[0m\u001b[0;34m)\u001b[0m\u001b[0;34m\u001b[0m\u001b[0;34m\u001b[0m\u001b[0m\n",
      "\u001b[0;32m~/opt/anaconda3/envs/tf2/lib/python3.9/site-packages/pandas/core/indexes/base.py\u001b[0m in \u001b[0;36m_raise_if_missing\u001b[0;34m(self, key, indexer, axis_name)\u001b[0m\n\u001b[1;32m   5936\u001b[0m                 \u001b[0;32mif\u001b[0m \u001b[0muse_interval_msg\u001b[0m\u001b[0;34m:\u001b[0m\u001b[0;34m\u001b[0m\u001b[0;34m\u001b[0m\u001b[0m\n\u001b[1;32m   5937\u001b[0m                     \u001b[0mkey\u001b[0m \u001b[0;34m=\u001b[0m \u001b[0mlist\u001b[0m\u001b[0;34m(\u001b[0m\u001b[0mkey\u001b[0m\u001b[0;34m)\u001b[0m\u001b[0;34m\u001b[0m\u001b[0;34m\u001b[0m\u001b[0m\n\u001b[0;32m-> 5938\u001b[0;31m                 \u001b[0;32mraise\u001b[0m \u001b[0mKeyError\u001b[0m\u001b[0;34m(\u001b[0m\u001b[0;34mf\"None of [{key}] are in the [{axis_name}]\"\u001b[0m\u001b[0;34m)\u001b[0m\u001b[0;34m\u001b[0m\u001b[0;34m\u001b[0m\u001b[0m\n\u001b[0m\u001b[1;32m   5939\u001b[0m \u001b[0;34m\u001b[0m\u001b[0m\n\u001b[1;32m   5940\u001b[0m             \u001b[0mnot_found\u001b[0m \u001b[0;34m=\u001b[0m \u001b[0mlist\u001b[0m\u001b[0;34m(\u001b[0m\u001b[0mensure_index\u001b[0m\u001b[0;34m(\u001b[0m\u001b[0mkey\u001b[0m\u001b[0;34m)\u001b[0m\u001b[0;34m[\u001b[0m\u001b[0mmissing_mask\u001b[0m\u001b[0;34m.\u001b[0m\u001b[0mnonzero\u001b[0m\u001b[0;34m(\u001b[0m\u001b[0;34m)\u001b[0m\u001b[0;34m[\u001b[0m\u001b[0;36m0\u001b[0m\u001b[0;34m]\u001b[0m\u001b[0;34m]\u001b[0m\u001b[0;34m.\u001b[0m\u001b[0munique\u001b[0m\u001b[0;34m(\u001b[0m\u001b[0;34m)\u001b[0m\u001b[0;34m)\u001b[0m\u001b[0;34m\u001b[0m\u001b[0;34m\u001b[0m\u001b[0m\n",
      "\u001b[0;31mKeyError\u001b[0m: \"None of [Index(['round'], dtype='object')] are in the [columns]\""
     ]
    }
   ],
   "source": [
    "vt_encoded = pd.get_dummies(vt, columns=['round'], prefix='round')\n",
    "vt_encoded['year'] = pd.to_numeric(vt_encoded['year'], errors='coerce').fillna(0).astype(int)\n"
   ]
  },
  {
   "cell_type": "code",
   "execution_count": 42,
   "id": "b14fe19b",
   "metadata": {},
   "outputs": [],
   "source": [
    "vt = vt_encoded.copy()"
   ]
  },
  {
   "cell_type": "code",
   "execution_count": 43,
   "id": "bfcf8270",
   "metadata": {},
   "outputs": [
    {
     "data": {
      "text/html": [
       "<div>\n",
       "<style scoped>\n",
       "    .dataframe tbody tr th:only-of-type {\n",
       "        vertical-align: middle;\n",
       "    }\n",
       "\n",
       "    .dataframe tbody tr th {\n",
       "        vertical-align: top;\n",
       "    }\n",
       "\n",
       "    .dataframe thead th {\n",
       "        text-align: right;\n",
       "    }\n",
       "</style>\n",
       "<table border=\"1\" class=\"dataframe\">\n",
       "  <thead>\n",
       "    <tr style=\"text-align: right;\">\n",
       "      <th></th>\n",
       "      <th>Rank</th>\n",
       "      <th>D Score</th>\n",
       "      <th>E Score</th>\n",
       "      <th>Pen.</th>\n",
       "      <th>Total</th>\n",
       "      <th>year</th>\n",
       "      <th>Name</th>\n",
       "      <th>nation</th>\n",
       "      <th>round_AAfinal</th>\n",
       "      <th>round_AAqual</th>\n",
       "      <th>round_TeamFinal</th>\n",
       "      <th>round_final</th>\n",
       "      <th>round_qual</th>\n",
       "    </tr>\n",
       "  </thead>\n",
       "  <tbody>\n",
       "    <tr>\n",
       "      <th>7</th>\n",
       "      <td>69.0</td>\n",
       "      <td>4.0</td>\n",
       "      <td>8.966</td>\n",
       "      <td>0.0</td>\n",
       "      <td>12.966</td>\n",
       "      <td>2023</td>\n",
       "      <td>167</td>\n",
       "      <td>60</td>\n",
       "      <td>False</td>\n",
       "      <td>False</td>\n",
       "      <td>False</td>\n",
       "      <td>False</td>\n",
       "      <td>True</td>\n",
       "    </tr>\n",
       "    <tr>\n",
       "      <th>18</th>\n",
       "      <td>20.0</td>\n",
       "      <td>4.8</td>\n",
       "      <td>9.033</td>\n",
       "      <td>0.1</td>\n",
       "      <td>13.733</td>\n",
       "      <td>2022</td>\n",
       "      <td>373</td>\n",
       "      <td>26</td>\n",
       "      <td>True</td>\n",
       "      <td>False</td>\n",
       "      <td>False</td>\n",
       "      <td>False</td>\n",
       "      <td>False</td>\n",
       "    </tr>\n",
       "    <tr>\n",
       "      <th>19</th>\n",
       "      <td>97.0</td>\n",
       "      <td>4.8</td>\n",
       "      <td>9.000</td>\n",
       "      <td>0.3</td>\n",
       "      <td>13.500</td>\n",
       "      <td>2022</td>\n",
       "      <td>373</td>\n",
       "      <td>26</td>\n",
       "      <td>False</td>\n",
       "      <td>False</td>\n",
       "      <td>False</td>\n",
       "      <td>False</td>\n",
       "      <td>True</td>\n",
       "    </tr>\n",
       "    <tr>\n",
       "      <th>28</th>\n",
       "      <td>36.0</td>\n",
       "      <td>5.2</td>\n",
       "      <td>9.200</td>\n",
       "      <td>0.3</td>\n",
       "      <td>14.100</td>\n",
       "      <td>2022</td>\n",
       "      <td>373</td>\n",
       "      <td>26</td>\n",
       "      <td>False</td>\n",
       "      <td>False</td>\n",
       "      <td>False</td>\n",
       "      <td>False</td>\n",
       "      <td>True</td>\n",
       "    </tr>\n",
       "    <tr>\n",
       "      <th>40</th>\n",
       "      <td>22.0</td>\n",
       "      <td>5.2</td>\n",
       "      <td>7.900</td>\n",
       "      <td>0.1</td>\n",
       "      <td>13.000</td>\n",
       "      <td>2023</td>\n",
       "      <td>373</td>\n",
       "      <td>26</td>\n",
       "      <td>True</td>\n",
       "      <td>False</td>\n",
       "      <td>False</td>\n",
       "      <td>False</td>\n",
       "      <td>False</td>\n",
       "    </tr>\n",
       "    <tr>\n",
       "      <th>...</th>\n",
       "      <td>...</td>\n",
       "      <td>...</td>\n",
       "      <td>...</td>\n",
       "      <td>...</td>\n",
       "      <td>...</td>\n",
       "      <td>...</td>\n",
       "      <td>...</td>\n",
       "      <td>...</td>\n",
       "      <td>...</td>\n",
       "      <td>...</td>\n",
       "      <td>...</td>\n",
       "      <td>...</td>\n",
       "      <td>...</td>\n",
       "    </tr>\n",
       "    <tr>\n",
       "      <th>8557</th>\n",
       "      <td>0.0</td>\n",
       "      <td>4.8</td>\n",
       "      <td>8.400</td>\n",
       "      <td>0.0</td>\n",
       "      <td>13.200</td>\n",
       "      <td>2023</td>\n",
       "      <td>394</td>\n",
       "      <td>84</td>\n",
       "      <td>False</td>\n",
       "      <td>False</td>\n",
       "      <td>False</td>\n",
       "      <td>True</td>\n",
       "      <td>False</td>\n",
       "    </tr>\n",
       "    <tr>\n",
       "      <th>8565</th>\n",
       "      <td>6.0</td>\n",
       "      <td>5.2</td>\n",
       "      <td>8.900</td>\n",
       "      <td>0.0</td>\n",
       "      <td>14.100</td>\n",
       "      <td>2023</td>\n",
       "      <td>62</td>\n",
       "      <td>89</td>\n",
       "      <td>False</td>\n",
       "      <td>False</td>\n",
       "      <td>False</td>\n",
       "      <td>True</td>\n",
       "      <td>False</td>\n",
       "    </tr>\n",
       "    <tr>\n",
       "      <th>8566</th>\n",
       "      <td>7.0</td>\n",
       "      <td>5.2</td>\n",
       "      <td>8.850</td>\n",
       "      <td>0.0</td>\n",
       "      <td>14.050</td>\n",
       "      <td>2023</td>\n",
       "      <td>62</td>\n",
       "      <td>89</td>\n",
       "      <td>False</td>\n",
       "      <td>False</td>\n",
       "      <td>False</td>\n",
       "      <td>False</td>\n",
       "      <td>True</td>\n",
       "    </tr>\n",
       "    <tr>\n",
       "      <th>8567</th>\n",
       "      <td>6.0</td>\n",
       "      <td>4.8</td>\n",
       "      <td>8.966</td>\n",
       "      <td>0.0</td>\n",
       "      <td>13.766</td>\n",
       "      <td>2023</td>\n",
       "      <td>62</td>\n",
       "      <td>89</td>\n",
       "      <td>False</td>\n",
       "      <td>False</td>\n",
       "      <td>False</td>\n",
       "      <td>True</td>\n",
       "      <td>False</td>\n",
       "    </tr>\n",
       "    <tr>\n",
       "      <th>8568</th>\n",
       "      <td>7.0</td>\n",
       "      <td>4.8</td>\n",
       "      <td>9.000</td>\n",
       "      <td>0.0</td>\n",
       "      <td>13.800</td>\n",
       "      <td>2023</td>\n",
       "      <td>62</td>\n",
       "      <td>89</td>\n",
       "      <td>False</td>\n",
       "      <td>False</td>\n",
       "      <td>False</td>\n",
       "      <td>False</td>\n",
       "      <td>True</td>\n",
       "    </tr>\n",
       "  </tbody>\n",
       "</table>\n",
       "<p>1757 rows × 13 columns</p>\n",
       "</div>"
      ],
      "text/plain": [
       "      Rank  D Score  E Score  Pen.   Total  year  Name  nation  round_AAfinal  \\\n",
       "7     69.0      4.0    8.966   0.0  12.966  2023   167      60          False   \n",
       "18    20.0      4.8    9.033   0.1  13.733  2022   373      26           True   \n",
       "19    97.0      4.8    9.000   0.3  13.500  2022   373      26          False   \n",
       "28    36.0      5.2    9.200   0.3  14.100  2022   373      26          False   \n",
       "40    22.0      5.2    7.900   0.1  13.000  2023   373      26           True   \n",
       "...    ...      ...      ...   ...     ...   ...   ...     ...            ...   \n",
       "8557   0.0      4.8    8.400   0.0  13.200  2023   394      84          False   \n",
       "8565   6.0      5.2    8.900   0.0  14.100  2023    62      89          False   \n",
       "8566   7.0      5.2    8.850   0.0  14.050  2023    62      89          False   \n",
       "8567   6.0      4.8    8.966   0.0  13.766  2023    62      89          False   \n",
       "8568   7.0      4.8    9.000   0.0  13.800  2023    62      89          False   \n",
       "\n",
       "      round_AAqual  round_TeamFinal  round_final  round_qual  \n",
       "7            False            False        False        True  \n",
       "18           False            False        False       False  \n",
       "19           False            False        False        True  \n",
       "28           False            False        False        True  \n",
       "40           False            False        False       False  \n",
       "...            ...              ...          ...         ...  \n",
       "8557         False            False         True       False  \n",
       "8565         False            False         True       False  \n",
       "8566         False            False        False        True  \n",
       "8567         False            False         True       False  \n",
       "8568         False            False        False        True  \n",
       "\n",
       "[1757 rows x 13 columns]"
      ]
     },
     "execution_count": 43,
     "metadata": {},
     "output_type": "execute_result"
    }
   ],
   "source": [
    "vt"
   ]
  },
  {
   "cell_type": "code",
   "execution_count": 44,
   "id": "314b935e",
   "metadata": {},
   "outputs": [],
   "source": [
    "# vt.to_csv(\"encoded_m_olympics_vt.csv\", index=False)  \n",
    "# vtnames.to_csv(\"encoded_m_olympics_vtnames.csv\", index=False)  "
   ]
  },
  {
   "cell_type": "code",
   "execution_count": null,
   "id": "51c7a138",
   "metadata": {},
   "outputs": [],
   "source": []
  }
 ],
 "metadata": {
  "kernelspec": {
   "display_name": "Python 3 (ipykernel)",
   "language": "python",
   "name": "python3"
  },
  "language_info": {
   "codemirror_mode": {
    "name": "ipython",
    "version": 3
   },
   "file_extension": ".py",
   "mimetype": "text/x-python",
   "name": "python",
   "nbconvert_exporter": "python",
   "pygments_lexer": "ipython3",
   "version": "3.9.12"
  }
 },
 "nbformat": 4,
 "nbformat_minor": 5
}
