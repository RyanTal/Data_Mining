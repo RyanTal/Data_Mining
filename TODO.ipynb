{
 "cells": [
  {
   "cell_type": "markdown",
   "id": "35592014",
   "metadata": {},
   "source": [
    "# update all data with new csv cleandata-nov"
   ]
  },
  {
   "cell_type": "code",
   "execution_count": 3,
   "id": "9c4bf093",
   "metadata": {},
   "outputs": [],
   "source": [
    "# import sys\n",
    "# sys.executable\n"
   ]
  },
  {
   "cell_type": "code",
   "execution_count": 1,
   "id": "47f41a7d",
   "metadata": {},
   "outputs": [],
   "source": [
    "# /Users/ryantalbot/opt/anaconda3/envs/tf2/bin/python -m pip install PyPDF2\n"
   ]
  },
  {
   "cell_type": "code",
   "execution_count": 2,
   "id": "df512d50",
   "metadata": {},
   "outputs": [],
   "source": [
    "# /Users/ryantalbot/opt/anaconda3/bin/python3 -m pip install PyPDF2\n"
   ]
  },
  {
   "cell_type": "markdown",
   "id": "157c8721",
   "metadata": {},
   "source": [
    "To do: \n",
    "    mens:\n",
    "    \n",
    "\n",
    "\n",
    "2019\n",
    "\n",
    "- https://thegymter.net/2019/08/03/2019-pan-american-games-mens-results/\n",
    "- https://thegymter.net/2019/11/25/2019-cottbus-world-cup-mens-results/\n",
    "- https://thegymter.net/2019/03/22/2019-baku-world-cup-mens-results/\n",
    "\n",
    "\n",
    "2017 \n",
    "- https://thegymter.net/2017/10/11/2017-world-championships-mens-results/\n",
    "\n",
    "2015\n",
    "- https://thegymter.net/2015/03/20/2015-cottbus-world-challenge-cup-results/\n",
    "- https://en.wikipedia.org/wiki/2015_World_Artistic_Gymnastics_Championships#Men's_results\n",
    "\n",
    "2014\n",
    "- https://en.wikipedia.org/wiki/2014_World_Artistic_Gymnastics_Championships#Floor\n",
    "\n",
    "2013\n",
    "- https://en.wikipedia.org/wiki/2013_World_Artistic_Gymnastics_Championships#Floor \n",
    "\n",
    "\n",
    "## finished\n",
    "2018 \n",
    "- https://thegymter.net/2018/11/29/2018-world-championships-mens-results/\n",
    "\n",
    "2020\n",
    "- world cup baku\n",
    "- https://thegymter.net/2019/10/19/2019-world-championships-mens-results/\n",
    "\n",
    "2019\n",
    "- world cup melbourne\n",
    "- https://thegymter.net/2020/02/24/2020-winter-cup-challenge-results/\n",
    "- https://thegymter.net/2020/02/24/2020-melbourne-world-cup-mens-results/\n",
    "- https://thegymter.net/2019/07/11/2019-summer-universiade-mens-results/\n",
    "\n",
    "events from 2015 and before are not documented in gymter for mens results\n"
   ]
  },
  {
   "cell_type": "markdown",
   "id": "506fc1fe",
   "metadata": {},
   "source": [
    "# To Explore:\n",
    "- feature engineering: \n",
    "    - https://feature-engine.trainindata.com/en/1.3.x/index.html\n",
    "    \n",
    "- feature importance:\n",
    "    - https://medium.com/swlh/feature-importance-hows-and-why-s-3678ede1e58f\n",
    "    - https://towardsdatascience.com/understanding-feature-importance-and-how-to-implement-it-in-python-ff0287b20285\n",
    "    - \n"
   ]
  }
 ],
 "metadata": {
  "kernelspec": {
   "display_name": "Python 3 (ipykernel)",
   "language": "python",
   "name": "python3"
  },
  "language_info": {
   "codemirror_mode": {
    "name": "ipython",
    "version": 3
   },
   "file_extension": ".py",
   "mimetype": "text/x-python",
   "name": "python",
   "nbconvert_exporter": "python",
   "pygments_lexer": "ipython3",
   "version": "3.9.12"
  }
 },
 "nbformat": 4,
 "nbformat_minor": 5
}
