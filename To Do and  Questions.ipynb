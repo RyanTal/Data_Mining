{
 "cells": [
  {
   "cell_type": "markdown",
   "id": "5a321259-fe45-46a4-b447-752ffee3a56f",
   "metadata": {},
   "source": [
    "men - update models used, athletes chosen, data size\n",
    "\n",
    "<!-- ## fx - adaboost cvlassifier - no usa - 743\n",
    "## hb - adaboost - no usa -  707\n",
    "## ph - adaboost - fred richard - 748\n",
    "## pb - adaboost - fred richard - 706\n",
    "## sr - random forest classifier - 700 -->"
   ]
  },
  {
   "cell_type": "markdown",
   "id": "7580a7e1",
   "metadata": {},
   "source": [
    " conda activate tf2\n"
   ]
  },
  {
   "cell_type": "markdown",
   "id": "44707352",
   "metadata": {},
   "source": [
    "# Create Dashboard with shinyapps??"
   ]
  },
  {
   "cell_type": "markdown",
   "id": "f3b64d36",
   "metadata": {
    "extensions": {
     "jupyter_dashboards": {
      "version": 1,
      "views": {
       "grid_default": {},
       "report_default": {
        "hidden": false
       }
      }
     }
    }
   },
   "source": [
    "Yes, students taking for-credit classes receive an IdentiKey, which includes your CU Boulder login name and password. Your IdentiKey uniquely identifies you and acts as your student identification number. Students can also receive a physical Buff OneCard (student ID card) for $30 by emailing a headshot, photo ID, and mailing address to boc@colorado.edu from your colorado.edu student email address. Learn more on the Buff OneCard site.\n",
    "\n",
    "https://www.colorado.edu/program/data-science/coursera/faqs"
   ]
  },
  {
   "cell_type": "markdown",
   "id": "dc3f441b",
   "metadata": {
    "extensions": {
     "jupyter_dashboards": {
      "version": 1,
      "views": {
       "grid_default": {},
       "report_default": {
        "hidden": false
       }
      }
     }
    }
   },
   "source": [
    "to change to CU \n",
    "\n",
    "\n",
    "- (base) cu-genvpn-tcom-10:Data_Mining ryantalbot$ ssh-add ~/.ssh/RyanTal\n",
    "- Enter passphrase for /Users/ryantalbot/.ssh/RyanTal: \n",
    "\n",
    "- then git add, commit, push"
   ]
  },
  {
   "cell_type": "markdown",
   "id": "93070853",
   "metadata": {
    "extensions": {
     "jupyter_dashboards": {
      "version": 1,
      "views": {
       "grid_default": {},
       "report_default": {
        "hidden": false
       }
      }
     }
    }
   },
   "source": [
    "import sys\n",
    "sys.path\n",
    "/Users/ryantalbot/opt/anaconda3/envs/tf2/bin/python3 -m pip install Flask \n",
    "\n"
   ]
  },
  {
   "cell_type": "code",
   "execution_count": 1,
   "id": "cc16a590",
   "metadata": {
    "extensions": {
     "jupyter_dashboards": {
      "version": 1,
      "views": {
       "grid_default": {},
       "report_default": {
        "hidden": true
       }
      }
     }
    }
   },
   "outputs": [],
   "source": [
    "# import site\n",
    "\n",
    "# # Get the site-packages directory\n",
    "# site_packages = site.getsitepackages()\n",
    "\n",
    "# print(\"Site Packages Directory:\")\n",
    "# for path in site_packages:\n",
    "#     print(path)\n"
   ]
  },
  {
   "cell_type": "markdown",
   "id": "90a30b63-b816-487b-89c6-be4c8672338b",
   "metadata": {},
   "source": [
    "<!-- ssh-ed25519 AAAAC3NzaC1lZDI1NTE5AAAAICzB5EiPRe8RhDc7C9pRcTSTcLRpaAjdZyolG+EnSpjH -->"
   ]
  }
 ],
 "metadata": {
  "extensions": {
   "jupyter_dashboards": {
    "activeView": "report_default",
    "version": 1,
    "views": {
     "grid_default": {
      "cellMargin": 10,
      "defaultCellHeight": 20,
      "maxColumns": 12,
      "name": "grid",
      "type": "grid"
     },
     "report_default": {
      "name": "report",
      "type": "report"
     }
    }
   }
  },
  "kernelspec": {
   "display_name": "Python 3 (ipykernel)",
   "language": "python",
   "name": "python3"
  },
  "language_info": {
   "codemirror_mode": {
    "name": "ipython",
    "version": 3
   },
   "file_extension": ".py",
   "mimetype": "text/x-python",
   "name": "python",
   "nbconvert_exporter": "python",
   "pygments_lexer": "ipython3",
   "version": "3.8.18"
  }
 },
 "nbformat": 4,
 "nbformat_minor": 5
}
