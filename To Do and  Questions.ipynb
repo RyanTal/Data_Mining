{
 "cells": [
  {
   "cell_type": "markdown",
   "id": "0e38aae2",
   "metadata": {},
   "source": [
    "# needs work\n",
    "- womens bb and fx"
   ]
  },
  {
   "cell_type": "markdown",
   "id": "e6f45774",
   "metadata": {},
   "source": [
    "mens model remove duop names \n",
    "ex pb\n",
    "\n",
    "```\n",
    "name_counts = df['Name'].value_counts()\n",
    "\n",
    "# Extract names that appear 2 or more times\n",
    "names_with_multiple_occurrences = name_counts[name_counts >= 2].index\n",
    "\n",
    "# Filter the DataFrame based on condition\n",
    "df_filtered_names = df[df['Name'].isin(names_with_multiple_occurrences)]\n",
    "```"
   ]
  },
  {
   "cell_type": "markdown",
   "id": "fd3a1e82",
   "metadata": {},
   "source": [
    "## Feature Importance added to\n",
    "\n",
    "### Mens:\n",
    "\n",
    "- iaa\n",
    "- ph\n",
    "- vt\n",
    "- hb\n",
    "- sr\n",
    "- pb\n",
    "- fx\n",
    "\n",
    "### Women\n",
    "\n",
    "- bb - IMPROVED \n",
    "- iaa - didn't help\n",
    "- fx - didn't help\n",
    "- vt - didn't help\n",
    "- ub - didn't help\n",
    "        \n",
    "# BB needs work"
   ]
  },
  {
   "cell_type": "markdown",
   "id": "22212d57",
   "metadata": {},
   "source": [
    "n-folds ore k-folds"
   ]
  },
  {
   "cell_type": "markdown",
   "id": "f3b64d36",
   "metadata": {
    "extensions": {
     "jupyter_dashboards": {
      "version": 1,
      "views": {
       "grid_default": {},
       "report_default": {
        "hidden": false
       }
      }
     }
    }
   },
   "source": [
    "Yes, students taking for-credit classes receive an IdentiKey, which includes your CU Boulder login name and password. Your IdentiKey uniquely identifies you and acts as your student identification number. Students can also receive a physical Buff OneCard (student ID card) for $30 by emailing a headshot, photo ID, and mailing address to boc@colorado.edu from your colorado.edu student email address. Learn more on the Buff OneCard site.\n",
    "\n",
    "https://www.colorado.edu/program/data-science/coursera/faqs"
   ]
  },
  {
   "cell_type": "markdown",
   "id": "dc3f441b",
   "metadata": {
    "extensions": {
     "jupyter_dashboards": {
      "version": 1,
      "views": {
       "grid_default": {},
       "report_default": {
        "hidden": false
       }
      }
     }
    }
   },
   "source": [
    "to change to CU \n",
    "\n",
    "\n",
    "- (base) cu-genvpn-tcom-10:Data_Mining ryantalbot$ ssh-add ~/.ssh/RyanTal\n",
    "- Enter passphrase for /Users/ryantalbot/.ssh/RyanTal: \n",
    "\n",
    "- then git add, commit, push"
   ]
  },
  {
   "cell_type": "markdown",
   "id": "93070853",
   "metadata": {
    "extensions": {
     "jupyter_dashboards": {
      "version": 1,
      "views": {
       "grid_default": {},
       "report_default": {
        "hidden": false
       }
      }
     }
    }
   },
   "source": [
    "import sys\n",
    "sys.path\n",
    "/Users/ryantalbot/opt/anaconda3/envs/tf2/bin/python3 -m pip install voila\n"
   ]
  },
  {
   "cell_type": "code",
   "execution_count": 1,
   "id": "cc16a590",
   "metadata": {
    "extensions": {
     "jupyter_dashboards": {
      "version": 1,
      "views": {
       "grid_default": {},
       "report_default": {
        "hidden": true
       }
      }
     }
    }
   },
   "outputs": [],
   "source": [
    "# import site\n",
    "\n",
    "# # Get the site-packages directory\n",
    "# site_packages = site.getsitepackages()\n",
    "\n",
    "# print(\"Site Packages Directory:\")\n",
    "# for path in site_packages:\n",
    "#     print(path)\n"
   ]
  },
  {
   "cell_type": "markdown",
   "id": "1c1d0328",
   "metadata": {
    "extensions": {
     "jupyter_dashboards": {
      "version": 1,
      "views": {
       "grid_default": {},
       "report_default": {
        "hidden": false
       }
      }
     }
    }
   },
   "source": [
    "When dealing with an imbalanced dataset, your goal with PCA can align with several objectives, depending on the context of your analysis. Here are some considerations:\n",
    "\n",
    "    Visualization of Imbalanced Data:\n",
    "        Goal: Visualize high-dimensional imbalanced data in a lower-dimensional space.\n",
    "        Why: PCA allows you to project data onto a smaller number of dimensions, facilitating visualization. This can be useful for understanding the distribution of both majority and minority classes in a more manageable space.\n",
    "\n",
    "    Dimensionality Reduction for Model Training:\n",
    "        Goal: Reduce the dimensionality of features for training machine learning models.\n",
    "        Why: Imbalanced datasets with a large number of features may benefit from dimensionality reduction to mitigate the risk of overfitting. Reducing the number of features can also speed up model training.\n",
    "\n",
    "    Enhancing Feature Importance Analysis:\n",
    "        Goal: Identify which features contribute the most to the variability in the imbalanced data.\n",
    "        Why: PCA can reveal which features are most important for explaining the observed variance. Understanding feature importance can guide feature selection and model interpretation.\n",
    "\n",
    "    Pattern Recognition:\n",
    "        Goal: Uncover patterns or clusters within the imbalanced dataset.\n",
    "        Why: While imbalanced datasets pose challenges for traditional modeling, PCA may reveal underlying structures or patterns. This can be useful for identifying potential subgroups within the minority class.\n",
    "\n",
    "    Improving Model Performance:\n",
    "        Goal: Enhance the performance of machine learning models on imbalanced data.\n",
    "        Why: Reducing dimensionality through PCA may help address issues related to the curse of dimensionality and overfitting, leading to more stable and generalizable models.\n",
    "\n",
    "    Noise Reduction:\n",
    "        Goal: Diminish the impact of noisy or less informative features.\n",
    "        Why: Imbalanced datasets may contain features that are less relevant for the minority class. PCA tends to emphasize features with higher variance, potentially reducing the impact of noise.\n",
    "\n",
    "It's important to note that while PCA can offer benefits, it's not a one-size-fits-all solution. The effectiveness of PCA depends on the characteristics of your data and the specific challenges posed by the class imbalance. Additionally, consider combining PCA with techniques like oversampling (e.g., SMOTE) or adjusting class weights during model training to address class imbalance more directly. Experimentation and careful evaluation are key in determining the most suitable approach for your specific case."
   ]
  },
  {
   "cell_type": "code",
   "execution_count": null,
   "id": "db4b39ca",
   "metadata": {
    "extensions": {
     "jupyter_dashboards": {
      "version": 1,
      "views": {
       "grid_default": {},
       "report_default": {
        "hidden": true
       }
      }
     }
    }
   },
   "outputs": [],
   "source": []
  }
 ],
 "metadata": {
  "extensions": {
   "jupyter_dashboards": {
    "activeView": "report_default",
    "version": 1,
    "views": {
     "grid_default": {
      "cellMargin": 10,
      "defaultCellHeight": 20,
      "maxColumns": 12,
      "name": "grid",
      "type": "grid"
     },
     "report_default": {
      "name": "report",
      "type": "report"
     }
    }
   }
  },
  "kernelspec": {
   "display_name": "Python 3 (ipykernel)",
   "language": "python",
   "name": "python3"
  },
  "language_info": {
   "codemirror_mode": {
    "name": "ipython",
    "version": 3
   },
   "file_extension": ".py",
   "mimetype": "text/x-python",
   "name": "python",
   "nbconvert_exporter": "python",
   "pygments_lexer": "ipython3",
   "version": "3.9.12"
  }
 },
 "nbformat": 4,
 "nbformat_minor": 5
}
