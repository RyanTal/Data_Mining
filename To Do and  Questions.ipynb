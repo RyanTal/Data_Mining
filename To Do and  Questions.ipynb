{
 "cells": [
  {
   "cell_type": "markdown",
   "id": "13807f10",
   "metadata": {},
   "source": [
    "# SMOTE?"
   ]
  },
  {
   "cell_type": "markdown",
   "id": "48ba0bcd",
   "metadata": {},
   "source": [
    "Review confusion matrixs for \n",
    "- False negatives = bad\n",
    "- False postives = ok"
   ]
  },
  {
   "cell_type": "markdown",
   "id": "f3b64d36",
   "metadata": {},
   "source": [
    "Yes, students taking for-credit classes receive an IdentiKey, which includes your CU Boulder login name and password. Your IdentiKey uniquely identifies you and acts as your student identification number. Students can also receive a physical Buff OneCard (student ID card) for $30 by emailing a headshot, photo ID, and mailing address to boc@colorado.edu from your colorado.edu student email address. Learn more on the Buff OneCard site.\n",
    "\n",
    "https://www.colorado.edu/program/data-science/coursera/faqs"
   ]
  },
  {
   "cell_type": "markdown",
   "id": "dc3f441b",
   "metadata": {},
   "source": [
    "to change to CU \n",
    "\n",
    "\n",
    "- (base) cu-genvpn-tcom-10:Data_Mining ryantalbot$ ssh-add ~/.ssh/RyanTal\n",
    "- Enter passphrase for /Users/ryantalbot/.ssh/RyanTal: \n",
    "\n",
    "- then git add, commit, push"
   ]
  },
  {
   "cell_type": "markdown",
   "id": "93070853",
   "metadata": {},
   "source": [
    "import sys\n",
    "sys.path\n",
    "/Users/ryantalbot/opt/anaconda3/envs/tf2/bin/python3 -m pip install --upgrade scikit-learn imbalanced-learn\n"
   ]
  },
  {
   "cell_type": "code",
   "execution_count": 1,
   "id": "cc16a590",
   "metadata": {},
   "outputs": [],
   "source": [
    "# import site\n",
    "\n",
    "# # Get the site-packages directory\n",
    "# site_packages = site.getsitepackages()\n",
    "\n",
    "# print(\"Site Packages Directory:\")\n",
    "# for path in site_packages:\n",
    "#     print(path)\n"
   ]
  },
  {
   "cell_type": "markdown",
   "id": "d958fb7c",
   "metadata": {},
   "source": [
    "- branch-and-bound algorithm.\n",
    "\n",
    "- sum subset sum problem \n",
    "\n",
    "- Assignment Problem??"
   ]
  },
  {
   "cell_type": "markdown",
   "id": "1c1d0328",
   "metadata": {},
   "source": [
    "When dealing with an imbalanced dataset, your goal with PCA can align with several objectives, depending on the context of your analysis. Here are some considerations:\n",
    "\n",
    "    Visualization of Imbalanced Data:\n",
    "        Goal: Visualize high-dimensional imbalanced data in a lower-dimensional space.\n",
    "        Why: PCA allows you to project data onto a smaller number of dimensions, facilitating visualization. This can be useful for understanding the distribution of both majority and minority classes in a more manageable space.\n",
    "\n",
    "    Dimensionality Reduction for Model Training:\n",
    "        Goal: Reduce the dimensionality of features for training machine learning models.\n",
    "        Why: Imbalanced datasets with a large number of features may benefit from dimensionality reduction to mitigate the risk of overfitting. Reducing the number of features can also speed up model training.\n",
    "\n",
    "    Enhancing Feature Importance Analysis:\n",
    "        Goal: Identify which features contribute the most to the variability in the imbalanced data.\n",
    "        Why: PCA can reveal which features are most important for explaining the observed variance. Understanding feature importance can guide feature selection and model interpretation.\n",
    "\n",
    "    Pattern Recognition:\n",
    "        Goal: Uncover patterns or clusters within the imbalanced dataset.\n",
    "        Why: While imbalanced datasets pose challenges for traditional modeling, PCA may reveal underlying structures or patterns. This can be useful for identifying potential subgroups within the minority class.\n",
    "\n",
    "    Improving Model Performance:\n",
    "        Goal: Enhance the performance of machine learning models on imbalanced data.\n",
    "        Why: Reducing dimensionality through PCA may help address issues related to the curse of dimensionality and overfitting, leading to more stable and generalizable models.\n",
    "\n",
    "    Noise Reduction:\n",
    "        Goal: Diminish the impact of noisy or less informative features.\n",
    "        Why: Imbalanced datasets may contain features that are less relevant for the minority class. PCA tends to emphasize features with higher variance, potentially reducing the impact of noise.\n",
    "\n",
    "It's important to note that while PCA can offer benefits, it's not a one-size-fits-all solution. The effectiveness of PCA depends on the characteristics of your data and the specific challenges posed by the class imbalance. Additionally, consider combining PCA with techniques like oversampling (e.g., SMOTE) or adjusting class weights during model training to address class imbalance more directly. Experimentation and careful evaluation are key in determining the most suitable approach for your specific case."
   ]
  },
  {
   "cell_type": "code",
   "execution_count": null,
   "id": "db4b39ca",
   "metadata": {},
   "outputs": [],
   "source": []
  }
 ],
 "metadata": {
  "kernelspec": {
   "display_name": "Python 3 (ipykernel)",
   "language": "python",
   "name": "python3"
  },
  "language_info": {
   "codemirror_mode": {
    "name": "ipython",
    "version": 3
   },
   "file_extension": ".py",
   "mimetype": "text/x-python",
   "name": "python",
   "nbconvert_exporter": "python",
   "pygments_lexer": "ipython3",
   "version": "3.9.12"
  }
 },
 "nbformat": 4,
 "nbformat_minor": 5
}
