{
 "cells": [
  {
   "cell_type": "markdown",
   "id": "bd57af78",
   "metadata": {},
   "source": [
    "# Women\n",
    "\n",
    "Vault\n",
    "\n",
    "    Simone Biles\n",
    "\n",
    "Uneven Bars\n",
    "\n",
    "    Shilese Jones\n",
    "    Zoe Miller\n",
    "\n",
    "Floor\n",
    "\n",
    "    Simone Biles\n",
    "\n",
    "Balance Beam\n",
    "\n",
    "    Skye Blakely\n",
    "\n",
    "Individual All-around good\n",
    "\n",
    "    Jordan Chile\n",
    "    \n",
    "Team\n",
    "\n",
    "    Joscelyn Roberson\n",
    "    Shilese Jones\n",
    "    Simone Biles\n",
    "\n",
    "    \n",
    "# Men\n",
    "Parallel Bars¶\n",
    "\n",
    "    Yul Moldauer\n",
    "\n",
    "Pommel Horse\n",
    "\n",
    "    Stephen Nedoroscik\n",
    "\n",
    "Team\n",
    "\n",
    "    Yul Moldauer\n",
    "    Fred Richard\n",
    "    Vitaliy Guimaraes\n"
   ]
  },
  {
   "cell_type": "code",
   "execution_count": null,
   "id": "05225f87",
   "metadata": {},
   "outputs": [],
   "source": []
  }
 ],
 "metadata": {
  "kernelspec": {
   "display_name": "Python 3 (ipykernel)",
   "language": "python",
   "name": "python3"
  },
  "language_info": {
   "codemirror_mode": {
    "name": "ipython",
    "version": 3
   },
   "file_extension": ".py",
   "mimetype": "text/x-python",
   "name": "python",
   "nbconvert_exporter": "python",
   "pygments_lexer": "ipython3",
   "version": "3.9.12"
  }
 },
 "nbformat": 4,
 "nbformat_minor": 5
}
