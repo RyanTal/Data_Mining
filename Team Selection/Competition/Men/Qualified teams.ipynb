{
 "cells": [
  {
   "cell_type": "markdown",
   "id": "4997bdcf",
   "metadata": {},
   "source": [
    "Qualified teams:\n",
    "- China\n",
    "- Japan\n",
    "- Great Britain\n",
    "- United States\n",
    "- Canada\n",
    "- Germany\n",
    "- Italy\n",
    "- Switzerland\n",
    "- Spain\n",
    "- Turkey\n",
    "- Netherlands\n",
    "- Ukraine"
   ]
  },
  {
   "cell_type": "code",
   "execution_count": 1,
   "id": "f5dd9a0c",
   "metadata": {},
   "outputs": [],
   "source": [
    "import numpy as np\n",
    "import pandas as pd"
   ]
  },
  {
   "cell_type": "code",
   "execution_count": 2,
   "id": "fa972430",
   "metadata": {},
   "outputs": [],
   "source": [
    "gb = pd.read_csv('uk.csv')\n",
    "chn = pd.read_csv('china.csv')\n",
    "jpn = pd.read_csv('japan.csv')\n",
    "de = pd.read_csv('de.csv')\n",
    "ch = pd.read_csv('ch.csv')\n",
    "usa = pd.read_csv('usa.csv')"
   ]
  },
  {
   "cell_type": "code",
   "execution_count": 3,
   "id": "6d94dbed",
   "metadata": {},
   "outputs": [],
   "source": [
    "ch = ch.rename(columns={'Selected Athletes': 'Athletes', \n",
    "                        \"Total Score\": 'Score'})\n"
   ]
  },
  {
   "cell_type": "code",
   "execution_count": 4,
   "id": "d4339623",
   "metadata": {},
   "outputs": [
    {
     "data": {
      "text/html": [
       "<div>\n",
       "<style scoped>\n",
       "    .dataframe tbody tr th:only-of-type {\n",
       "        vertical-align: middle;\n",
       "    }\n",
       "\n",
       "    .dataframe tbody tr th {\n",
       "        vertical-align: top;\n",
       "    }\n",
       "\n",
       "    .dataframe thead th {\n",
       "        text-align: right;\n",
       "    }\n",
       "</style>\n",
       "<table border=\"1\" class=\"dataframe\">\n",
       "  <thead>\n",
       "    <tr style=\"text-align: right;\">\n",
       "      <th></th>\n",
       "      <th>Method</th>\n",
       "      <th>Athletes</th>\n",
       "      <th>Score</th>\n",
       "    </tr>\n",
       "  </thead>\n",
       "  <tbody>\n",
       "    <tr>\n",
       "      <th>0</th>\n",
       "      <td>vns</td>\n",
       "      <td>['florian langenegger', 'henji mboyo', 'christ...</td>\n",
       "      <td>250.195</td>\n",
       "    </tr>\n",
       "    <tr>\n",
       "      <th>1</th>\n",
       "      <td>hh</td>\n",
       "      <td>['noe seifert', 'moreno kratter', 'henji mboyo...</td>\n",
       "      <td>248.453</td>\n",
       "    </tr>\n",
       "    <tr>\n",
       "      <th>2</th>\n",
       "      <td>ts</td>\n",
       "      <td>['henji mboyo', 'noe seifert', 'christian baum...</td>\n",
       "      <td>250.195</td>\n",
       "    </tr>\n",
       "  </tbody>\n",
       "</table>\n",
       "</div>"
      ],
      "text/plain": [
       "  Method                                           Athletes    Score\n",
       "0    vns  ['florian langenegger', 'henji mboyo', 'christ...  250.195\n",
       "1     hh  ['noe seifert', 'moreno kratter', 'henji mboyo...  248.453\n",
       "2     ts  ['henji mboyo', 'noe seifert', 'christian baum...  250.195"
      ]
     },
     "execution_count": 4,
     "metadata": {},
     "output_type": "execute_result"
    }
   ],
   "source": [
    "ch"
   ]
  },
  {
   "cell_type": "code",
   "execution_count": 5,
   "id": "de5aaa7b",
   "metadata": {},
   "outputs": [],
   "source": [
    "gb_sorted = gb.sort_values(by='Score', ascending=False)\n",
    "jpn_sorted = jpn.sort_values(by='Score', ascending=False)\n",
    "chn_sorted = chn.sort_values(by='Score', ascending=False)\n",
    "\n",
    "usa_sorted = usa.sort_values(by='Score', ascending=False)\n",
    "de_sorted = de.sort_values(by='Score', ascending=False)\n",
    "ch_sorted = ch.sort_values(by='Score', ascending=False)\n"
   ]
  },
  {
   "cell_type": "code",
   "execution_count": 6,
   "id": "a8823bf1",
   "metadata": {},
   "outputs": [],
   "source": [
    "top_row_gb = gb.head(1)\n",
    "top_row_chn = chn.head(1)\n",
    "top_row_jpn = jpn.head(1)\n",
    "top_row_ch=ch.head(1)\n",
    "top_row_de=de.head(1)\n",
    "top_row_usa=usa.head(1)\n"
   ]
  },
  {
   "cell_type": "code",
   "execution_count": 7,
   "id": "5d934216",
   "metadata": {},
   "outputs": [
    {
     "name": "stderr",
     "output_type": "stream",
     "text": [
      "/var/folders/j_/555m2zps099832fjh_m8jjnc0000gn/T/ipykernel_41845/3723919169.py:1: SettingWithCopyWarning: \n",
      "A value is trying to be set on a copy of a slice from a DataFrame.\n",
      "Try using .loc[row_indexer,col_indexer] = value instead\n",
      "\n",
      "See the caveats in the documentation: https://pandas.pydata.org/pandas-docs/stable/user_guide/indexing.html#returning-a-view-versus-a-copy\n",
      "  top_row_gb['Nation']='UK'\n"
     ]
    }
   ],
   "source": [
    "top_row_gb['Nation']='UK'"
   ]
  },
  {
   "cell_type": "code",
   "execution_count": 8,
   "id": "53a9c06c",
   "metadata": {},
   "outputs": [
    {
     "name": "stderr",
     "output_type": "stream",
     "text": [
      "/var/folders/j_/555m2zps099832fjh_m8jjnc0000gn/T/ipykernel_41845/1701726554.py:1: SettingWithCopyWarning: \n",
      "A value is trying to be set on a copy of a slice from a DataFrame.\n",
      "Try using .loc[row_indexer,col_indexer] = value instead\n",
      "\n",
      "See the caveats in the documentation: https://pandas.pydata.org/pandas-docs/stable/user_guide/indexing.html#returning-a-view-versus-a-copy\n",
      "  top_row_chn['Naiton']='China'\n"
     ]
    }
   ],
   "source": [
    "top_row_chn['Naiton']='China'"
   ]
  },
  {
   "cell_type": "code",
   "execution_count": 9,
   "id": "dd9a4c93",
   "metadata": {},
   "outputs": [
    {
     "name": "stderr",
     "output_type": "stream",
     "text": [
      "/var/folders/j_/555m2zps099832fjh_m8jjnc0000gn/T/ipykernel_41845/3683583403.py:1: SettingWithCopyWarning: \n",
      "A value is trying to be set on a copy of a slice from a DataFrame.\n",
      "Try using .loc[row_indexer,col_indexer] = value instead\n",
      "\n",
      "See the caveats in the documentation: https://pandas.pydata.org/pandas-docs/stable/user_guide/indexing.html#returning-a-view-versus-a-copy\n",
      "  top_row_jpn['Nation']='Japan'\n"
     ]
    }
   ],
   "source": [
    "top_row_jpn['Nation']='Japan'"
   ]
  },
  {
   "cell_type": "code",
   "execution_count": 10,
   "id": "da32d07d",
   "metadata": {},
   "outputs": [
    {
     "name": "stderr",
     "output_type": "stream",
     "text": [
      "/var/folders/j_/555m2zps099832fjh_m8jjnc0000gn/T/ipykernel_41845/1743533305.py:1: SettingWithCopyWarning: \n",
      "A value is trying to be set on a copy of a slice from a DataFrame.\n",
      "Try using .loc[row_indexer,col_indexer] = value instead\n",
      "\n",
      "See the caveats in the documentation: https://pandas.pydata.org/pandas-docs/stable/user_guide/indexing.html#returning-a-view-versus-a-copy\n",
      "  top_row_usa['Nation']='United States'\n"
     ]
    }
   ],
   "source": [
    "top_row_usa['Nation']='United States'"
   ]
  },
  {
   "cell_type": "code",
   "execution_count": 11,
   "id": "3aaa361f",
   "metadata": {},
   "outputs": [
    {
     "name": "stderr",
     "output_type": "stream",
     "text": [
      "/var/folders/j_/555m2zps099832fjh_m8jjnc0000gn/T/ipykernel_41845/348722045.py:1: SettingWithCopyWarning: \n",
      "A value is trying to be set on a copy of a slice from a DataFrame.\n",
      "Try using .loc[row_indexer,col_indexer] = value instead\n",
      "\n",
      "See the caveats in the documentation: https://pandas.pydata.org/pandas-docs/stable/user_guide/indexing.html#returning-a-view-versus-a-copy\n",
      "  top_row_de['Nation']='Germany'\n"
     ]
    }
   ],
   "source": [
    "top_row_de['Nation']='Germany'"
   ]
  },
  {
   "cell_type": "code",
   "execution_count": 12,
   "id": "57b5c80d",
   "metadata": {},
   "outputs": [
    {
     "name": "stderr",
     "output_type": "stream",
     "text": [
      "/var/folders/j_/555m2zps099832fjh_m8jjnc0000gn/T/ipykernel_41845/2256731906.py:1: SettingWithCopyWarning: \n",
      "A value is trying to be set on a copy of a slice from a DataFrame.\n",
      "Try using .loc[row_indexer,col_indexer] = value instead\n",
      "\n",
      "See the caveats in the documentation: https://pandas.pydata.org/pandas-docs/stable/user_guide/indexing.html#returning-a-view-versus-a-copy\n",
      "  top_row_ch['Nation']='Switzerland'\n"
     ]
    }
   ],
   "source": [
    "top_row_ch['Nation']='Switzerland'"
   ]
  },
  {
   "cell_type": "code",
   "execution_count": 13,
   "id": "fb03d574",
   "metadata": {},
   "outputs": [
    {
     "data": {
      "text/html": [
       "<div>\n",
       "<style scoped>\n",
       "    .dataframe tbody tr th:only-of-type {\n",
       "        vertical-align: middle;\n",
       "    }\n",
       "\n",
       "    .dataframe tbody tr th {\n",
       "        vertical-align: top;\n",
       "    }\n",
       "\n",
       "    .dataframe thead th {\n",
       "        text-align: right;\n",
       "    }\n",
       "</style>\n",
       "<table border=\"1\" class=\"dataframe\">\n",
       "  <thead>\n",
       "    <tr style=\"text-align: right;\">\n",
       "      <th></th>\n",
       "      <th>Method</th>\n",
       "      <th>Athletes</th>\n",
       "      <th>Score</th>\n",
       "      <th>Nation</th>\n",
       "    </tr>\n",
       "  </thead>\n",
       "  <tbody>\n",
       "    <tr>\n",
       "      <th>0</th>\n",
       "      <td>vns</td>\n",
       "      <td>['florian langenegger', 'henji mboyo', 'christ...</td>\n",
       "      <td>250.195</td>\n",
       "      <td>Switzerland</td>\n",
       "    </tr>\n",
       "  </tbody>\n",
       "</table>\n",
       "</div>"
      ],
      "text/plain": [
       "  Method                                           Athletes    Score  \\\n",
       "0    vns  ['florian langenegger', 'henji mboyo', 'christ...  250.195   \n",
       "\n",
       "        Nation  \n",
       "0  Switzerland  "
      ]
     },
     "execution_count": 13,
     "metadata": {},
     "output_type": "execute_result"
    }
   ],
   "source": [
    "top_row_ch"
   ]
  },
  {
   "cell_type": "code",
   "execution_count": 14,
   "id": "9a7e33a5",
   "metadata": {},
   "outputs": [
    {
     "data": {
      "text/html": [
       "<div>\n",
       "<style scoped>\n",
       "    .dataframe tbody tr th:only-of-type {\n",
       "        vertical-align: middle;\n",
       "    }\n",
       "\n",
       "    .dataframe tbody tr th {\n",
       "        vertical-align: top;\n",
       "    }\n",
       "\n",
       "    .dataframe thead th {\n",
       "        text-align: right;\n",
       "    }\n",
       "</style>\n",
       "<table border=\"1\" class=\"dataframe\">\n",
       "  <thead>\n",
       "    <tr style=\"text-align: right;\">\n",
       "      <th></th>\n",
       "      <th>Method</th>\n",
       "      <th>Athletes</th>\n",
       "      <th>Score</th>\n",
       "      <th>Nation</th>\n",
       "    </tr>\n",
       "  </thead>\n",
       "  <tbody>\n",
       "    <tr>\n",
       "      <th>0</th>\n",
       "      <td>vns</td>\n",
       "      <td>['lukas dauser', 'nils dunkel', 'pascal brende...</td>\n",
       "      <td>248.194</td>\n",
       "      <td>Germany</td>\n",
       "    </tr>\n",
       "  </tbody>\n",
       "</table>\n",
       "</div>"
      ],
      "text/plain": [
       "  Method                                           Athletes    Score   Nation\n",
       "0    vns  ['lukas dauser', 'nils dunkel', 'pascal brende...  248.194  Germany"
      ]
     },
     "execution_count": 14,
     "metadata": {},
     "output_type": "execute_result"
    }
   ],
   "source": [
    "top_row_de"
   ]
  },
  {
   "cell_type": "code",
   "execution_count": 15,
   "id": "b32206c8",
   "metadata": {},
   "outputs": [
    {
     "data": {
      "text/html": [
       "<div>\n",
       "<style scoped>\n",
       "    .dataframe tbody tr th:only-of-type {\n",
       "        vertical-align: middle;\n",
       "    }\n",
       "\n",
       "    .dataframe tbody tr th {\n",
       "        vertical-align: top;\n",
       "    }\n",
       "\n",
       "    .dataframe thead th {\n",
       "        text-align: right;\n",
       "    }\n",
       "</style>\n",
       "<table border=\"1\" class=\"dataframe\">\n",
       "  <thead>\n",
       "    <tr style=\"text-align: right;\">\n",
       "      <th></th>\n",
       "      <th>Method</th>\n",
       "      <th>Athletes</th>\n",
       "      <th>Score</th>\n",
       "      <th>Nation</th>\n",
       "    </tr>\n",
       "  </thead>\n",
       "  <tbody>\n",
       "    <tr>\n",
       "      <th>0</th>\n",
       "      <td>ts</td>\n",
       "      <td>['asher hong', 'yul moldauer', 'khoi young', '...</td>\n",
       "      <td>260.579</td>\n",
       "      <td>United States</td>\n",
       "    </tr>\n",
       "  </tbody>\n",
       "</table>\n",
       "</div>"
      ],
      "text/plain": [
       "  Method                                           Athletes    Score  \\\n",
       "0     ts  ['asher hong', 'yul moldauer', 'khoi young', '...  260.579   \n",
       "\n",
       "          Nation  \n",
       "0  United States  "
      ]
     },
     "execution_count": 15,
     "metadata": {},
     "output_type": "execute_result"
    }
   ],
   "source": [
    "top_row_usa"
   ]
  },
  {
   "cell_type": "code",
   "execution_count": 16,
   "id": "2117b3b4",
   "metadata": {},
   "outputs": [
    {
     "data": {
      "text/html": [
       "<div>\n",
       "<style scoped>\n",
       "    .dataframe tbody tr th:only-of-type {\n",
       "        vertical-align: middle;\n",
       "    }\n",
       "\n",
       "    .dataframe tbody tr th {\n",
       "        vertical-align: top;\n",
       "    }\n",
       "\n",
       "    .dataframe thead th {\n",
       "        text-align: right;\n",
       "    }\n",
       "</style>\n",
       "<table border=\"1\" class=\"dataframe\">\n",
       "  <thead>\n",
       "    <tr style=\"text-align: right;\">\n",
       "      <th></th>\n",
       "      <th>Method</th>\n",
       "      <th>Athletes</th>\n",
       "      <th>Score</th>\n",
       "      <th>Nation</th>\n",
       "    </tr>\n",
       "  </thead>\n",
       "  <tbody>\n",
       "    <tr>\n",
       "      <th>0</th>\n",
       "      <td>vns</td>\n",
       "      <td>['hashimoto daiki', 'kamoto yuya', 'kaya kazum...</td>\n",
       "      <td>264.402</td>\n",
       "      <td>Japan</td>\n",
       "    </tr>\n",
       "  </tbody>\n",
       "</table>\n",
       "</div>"
      ],
      "text/plain": [
       "  Method                                           Athletes    Score Nation\n",
       "0    vns  ['hashimoto daiki', 'kamoto yuya', 'kaya kazum...  264.402  Japan"
      ]
     },
     "execution_count": 16,
     "metadata": {},
     "output_type": "execute_result"
    }
   ],
   "source": [
    "top_row_jpn"
   ]
  },
  {
   "cell_type": "code",
   "execution_count": 17,
   "id": "4b90c7bb",
   "metadata": {},
   "outputs": [
    {
     "data": {
      "text/html": [
       "<div>\n",
       "<style scoped>\n",
       "    .dataframe tbody tr th:only-of-type {\n",
       "        vertical-align: middle;\n",
       "    }\n",
       "\n",
       "    .dataframe tbody tr th {\n",
       "        vertical-align: top;\n",
       "    }\n",
       "\n",
       "    .dataframe thead th {\n",
       "        text-align: right;\n",
       "    }\n",
       "</style>\n",
       "<table border=\"1\" class=\"dataframe\">\n",
       "  <thead>\n",
       "    <tr style=\"text-align: right;\">\n",
       "      <th></th>\n",
       "      <th>Method</th>\n",
       "      <th>Athletes</th>\n",
       "      <th>Score</th>\n",
       "      <th>Naiton</th>\n",
       "    </tr>\n",
       "  </thead>\n",
       "  <tbody>\n",
       "    <tr>\n",
       "      <th>0</th>\n",
       "      <td>vns</td>\n",
       "      <td>['sun wei', 'zhang boheng', 'shi cong', 'weng ...</td>\n",
       "      <td>262.537</td>\n",
       "      <td>China</td>\n",
       "    </tr>\n",
       "  </tbody>\n",
       "</table>\n",
       "</div>"
      ],
      "text/plain": [
       "  Method                                           Athletes    Score Naiton\n",
       "0    vns  ['sun wei', 'zhang boheng', 'shi cong', 'weng ...  262.537  China"
      ]
     },
     "execution_count": 17,
     "metadata": {},
     "output_type": "execute_result"
    }
   ],
   "source": [
    "top_row_chn"
   ]
  },
  {
   "cell_type": "code",
   "execution_count": 18,
   "id": "a4e586d5",
   "metadata": {},
   "outputs": [
    {
     "data": {
      "text/html": [
       "<div>\n",
       "<style scoped>\n",
       "    .dataframe tbody tr th:only-of-type {\n",
       "        vertical-align: middle;\n",
       "    }\n",
       "\n",
       "    .dataframe tbody tr th {\n",
       "        vertical-align: top;\n",
       "    }\n",
       "\n",
       "    .dataframe thead th {\n",
       "        text-align: right;\n",
       "    }\n",
       "</style>\n",
       "<table border=\"1\" class=\"dataframe\">\n",
       "  <thead>\n",
       "    <tr style=\"text-align: right;\">\n",
       "      <th></th>\n",
       "      <th>Method</th>\n",
       "      <th>Athletes</th>\n",
       "      <th>Score</th>\n",
       "      <th>Nation</th>\n",
       "    </tr>\n",
       "  </thead>\n",
       "  <tbody>\n",
       "    <tr>\n",
       "      <th>0</th>\n",
       "      <td>vns</td>\n",
       "      <td>['james hall great', 'joshua nathan great', 'j...</td>\n",
       "      <td>256.993</td>\n",
       "      <td>UK</td>\n",
       "    </tr>\n",
       "  </tbody>\n",
       "</table>\n",
       "</div>"
      ],
      "text/plain": [
       "  Method                                           Athletes    Score Nation\n",
       "0    vns  ['james hall great', 'joshua nathan great', 'j...  256.993     UK"
      ]
     },
     "execution_count": 18,
     "metadata": {},
     "output_type": "execute_result"
    }
   ],
   "source": [
    "top_row_gb"
   ]
  },
  {
   "cell_type": "code",
   "execution_count": 19,
   "id": "bb4d4f51",
   "metadata": {},
   "outputs": [],
   "source": [
    "import pandas as pd\n",
    "\n",
    "data_combined = {\n",
    "    'Method': ['vns', 'vns', 'vns'],\n",
    "    'Athletes': [\n",
    "        ['hashimoto daiki', 'kamoto yuya', 'kaya kazuma', 'doi ryosuke'],\n",
    "        ['sun wei', 'zhang boheng', 'shi cong', 'weng hao'],\n",
    "        ['james hall great', 'joshua nathan great', 'joe fraser great', 'jake jarman great']\n",
    "    ],\n",
    "    'Score': [264.402, 262.537, 256.993],\n",
    "    'Nation': ['Japan', 'China', 'UK']\n",
    "}\n",
    "\n",
    "df = pd.DataFrame(data_combined)\n",
    "\n"
   ]
  },
  {
   "cell_type": "code",
   "execution_count": 20,
   "id": "5ff2d5eb",
   "metadata": {},
   "outputs": [],
   "source": [
    "combined_df = pd.concat([top_row_de, top_row_ch, \n",
    "                         top_row_usa], ignore_index=True)"
   ]
  },
  {
   "cell_type": "code",
   "execution_count": 21,
   "id": "c6e8ea09",
   "metadata": {},
   "outputs": [
    {
     "data": {
      "text/html": [
       "<div>\n",
       "<style scoped>\n",
       "    .dataframe tbody tr th:only-of-type {\n",
       "        vertical-align: middle;\n",
       "    }\n",
       "\n",
       "    .dataframe tbody tr th {\n",
       "        vertical-align: top;\n",
       "    }\n",
       "\n",
       "    .dataframe thead th {\n",
       "        text-align: right;\n",
       "    }\n",
       "</style>\n",
       "<table border=\"1\" class=\"dataframe\">\n",
       "  <thead>\n",
       "    <tr style=\"text-align: right;\">\n",
       "      <th></th>\n",
       "      <th>Method</th>\n",
       "      <th>Athletes</th>\n",
       "      <th>Score</th>\n",
       "      <th>Nation</th>\n",
       "    </tr>\n",
       "  </thead>\n",
       "  <tbody>\n",
       "    <tr>\n",
       "      <th>0</th>\n",
       "      <td>vns</td>\n",
       "      <td>['lukas dauser', 'nils dunkel', 'pascal brende...</td>\n",
       "      <td>248.194</td>\n",
       "      <td>Germany</td>\n",
       "    </tr>\n",
       "    <tr>\n",
       "      <th>1</th>\n",
       "      <td>vns</td>\n",
       "      <td>['florian langenegger', 'henji mboyo', 'christ...</td>\n",
       "      <td>250.195</td>\n",
       "      <td>Switzerland</td>\n",
       "    </tr>\n",
       "    <tr>\n",
       "      <th>2</th>\n",
       "      <td>ts</td>\n",
       "      <td>['asher hong', 'yul moldauer', 'khoi young', '...</td>\n",
       "      <td>260.579</td>\n",
       "      <td>United States</td>\n",
       "    </tr>\n",
       "  </tbody>\n",
       "</table>\n",
       "</div>"
      ],
      "text/plain": [
       "  Method                                           Athletes    Score  \\\n",
       "0    vns  ['lukas dauser', 'nils dunkel', 'pascal brende...  248.194   \n",
       "1    vns  ['florian langenegger', 'henji mboyo', 'christ...  250.195   \n",
       "2     ts  ['asher hong', 'yul moldauer', 'khoi young', '...  260.579   \n",
       "\n",
       "          Nation  \n",
       "0        Germany  \n",
       "1    Switzerland  \n",
       "2  United States  "
      ]
     },
     "execution_count": 21,
     "metadata": {},
     "output_type": "execute_result"
    }
   ],
   "source": [
    "combined_df"
   ]
  },
  {
   "cell_type": "code",
   "execution_count": 22,
   "id": "c81cecc7",
   "metadata": {},
   "outputs": [
    {
     "data": {
      "text/html": [
       "<div>\n",
       "<style scoped>\n",
       "    .dataframe tbody tr th:only-of-type {\n",
       "        vertical-align: middle;\n",
       "    }\n",
       "\n",
       "    .dataframe tbody tr th {\n",
       "        vertical-align: top;\n",
       "    }\n",
       "\n",
       "    .dataframe thead th {\n",
       "        text-align: right;\n",
       "    }\n",
       "</style>\n",
       "<table border=\"1\" class=\"dataframe\">\n",
       "  <thead>\n",
       "    <tr style=\"text-align: right;\">\n",
       "      <th></th>\n",
       "      <th>Method</th>\n",
       "      <th>Athletes</th>\n",
       "      <th>Score</th>\n",
       "      <th>Nation</th>\n",
       "    </tr>\n",
       "  </thead>\n",
       "  <tbody>\n",
       "    <tr>\n",
       "      <th>0</th>\n",
       "      <td>vns</td>\n",
       "      <td>[hashimoto daiki, kamoto yuya, kaya kazuma, do...</td>\n",
       "      <td>264.402</td>\n",
       "      <td>Japan</td>\n",
       "    </tr>\n",
       "    <tr>\n",
       "      <th>1</th>\n",
       "      <td>vns</td>\n",
       "      <td>[sun wei, zhang boheng, shi cong, weng hao]</td>\n",
       "      <td>262.537</td>\n",
       "      <td>China</td>\n",
       "    </tr>\n",
       "    <tr>\n",
       "      <th>2</th>\n",
       "      <td>vns</td>\n",
       "      <td>[james hall great, joshua nathan great, joe fr...</td>\n",
       "      <td>256.993</td>\n",
       "      <td>UK</td>\n",
       "    </tr>\n",
       "  </tbody>\n",
       "</table>\n",
       "</div>"
      ],
      "text/plain": [
       "  Method                                           Athletes    Score Nation\n",
       "0    vns  [hashimoto daiki, kamoto yuya, kaya kazuma, do...  264.402  Japan\n",
       "1    vns        [sun wei, zhang boheng, shi cong, weng hao]  262.537  China\n",
       "2    vns  [james hall great, joshua nathan great, joe fr...  256.993     UK"
      ]
     },
     "execution_count": 22,
     "metadata": {},
     "output_type": "execute_result"
    }
   ],
   "source": [
    "df"
   ]
  },
  {
   "cell_type": "code",
   "execution_count": 23,
   "id": "6e87e53b",
   "metadata": {},
   "outputs": [],
   "source": [
    "df = pd.concat([df, combined_df], ignore_index=True)"
   ]
  },
  {
   "cell_type": "code",
   "execution_count": 24,
   "id": "cd750cc8",
   "metadata": {},
   "outputs": [
    {
     "data": {
      "text/html": [
       "<div>\n",
       "<style scoped>\n",
       "    .dataframe tbody tr th:only-of-type {\n",
       "        vertical-align: middle;\n",
       "    }\n",
       "\n",
       "    .dataframe tbody tr th {\n",
       "        vertical-align: top;\n",
       "    }\n",
       "\n",
       "    .dataframe thead th {\n",
       "        text-align: right;\n",
       "    }\n",
       "</style>\n",
       "<table border=\"1\" class=\"dataframe\">\n",
       "  <thead>\n",
       "    <tr style=\"text-align: right;\">\n",
       "      <th></th>\n",
       "      <th>Method</th>\n",
       "      <th>Athletes</th>\n",
       "      <th>Score</th>\n",
       "      <th>Nation</th>\n",
       "    </tr>\n",
       "  </thead>\n",
       "  <tbody>\n",
       "    <tr>\n",
       "      <th>0</th>\n",
       "      <td>vns</td>\n",
       "      <td>[hashimoto daiki, kamoto yuya, kaya kazuma, do...</td>\n",
       "      <td>264.402</td>\n",
       "      <td>Japan</td>\n",
       "    </tr>\n",
       "    <tr>\n",
       "      <th>1</th>\n",
       "      <td>vns</td>\n",
       "      <td>[sun wei, zhang boheng, shi cong, weng hao]</td>\n",
       "      <td>262.537</td>\n",
       "      <td>China</td>\n",
       "    </tr>\n",
       "    <tr>\n",
       "      <th>2</th>\n",
       "      <td>vns</td>\n",
       "      <td>[james hall great, joshua nathan great, joe fr...</td>\n",
       "      <td>256.993</td>\n",
       "      <td>UK</td>\n",
       "    </tr>\n",
       "    <tr>\n",
       "      <th>3</th>\n",
       "      <td>vns</td>\n",
       "      <td>['lukas dauser', 'nils dunkel', 'pascal brende...</td>\n",
       "      <td>248.194</td>\n",
       "      <td>Germany</td>\n",
       "    </tr>\n",
       "    <tr>\n",
       "      <th>4</th>\n",
       "      <td>vns</td>\n",
       "      <td>['florian langenegger', 'henji mboyo', 'christ...</td>\n",
       "      <td>250.195</td>\n",
       "      <td>Switzerland</td>\n",
       "    </tr>\n",
       "    <tr>\n",
       "      <th>5</th>\n",
       "      <td>ts</td>\n",
       "      <td>['asher hong', 'yul moldauer', 'khoi young', '...</td>\n",
       "      <td>260.579</td>\n",
       "      <td>United States</td>\n",
       "    </tr>\n",
       "  </tbody>\n",
       "</table>\n",
       "</div>"
      ],
      "text/plain": [
       "  Method                                           Athletes    Score  \\\n",
       "0    vns  [hashimoto daiki, kamoto yuya, kaya kazuma, do...  264.402   \n",
       "1    vns        [sun wei, zhang boheng, shi cong, weng hao]  262.537   \n",
       "2    vns  [james hall great, joshua nathan great, joe fr...  256.993   \n",
       "3    vns  ['lukas dauser', 'nils dunkel', 'pascal brende...  248.194   \n",
       "4    vns  ['florian langenegger', 'henji mboyo', 'christ...  250.195   \n",
       "5     ts  ['asher hong', 'yul moldauer', 'khoi young', '...  260.579   \n",
       "\n",
       "          Nation  \n",
       "0          Japan  \n",
       "1          China  \n",
       "2             UK  \n",
       "3        Germany  \n",
       "4    Switzerland  \n",
       "5  United States  "
      ]
     },
     "execution_count": 24,
     "metadata": {},
     "output_type": "execute_result"
    }
   ],
   "source": [
    "df"
   ]
  },
  {
   "cell_type": "code",
   "execution_count": 25,
   "id": "6f142577",
   "metadata": {},
   "outputs": [],
   "source": [
    "df=df.drop(columns=['Method', 'Athletes'])"
   ]
  },
  {
   "cell_type": "code",
   "execution_count": 26,
   "id": "7c14ed8a",
   "metadata": {},
   "outputs": [
    {
     "data": {
      "text/html": [
       "<div>\n",
       "<style scoped>\n",
       "    .dataframe tbody tr th:only-of-type {\n",
       "        vertical-align: middle;\n",
       "    }\n",
       "\n",
       "    .dataframe tbody tr th {\n",
       "        vertical-align: top;\n",
       "    }\n",
       "\n",
       "    .dataframe thead th {\n",
       "        text-align: right;\n",
       "    }\n",
       "</style>\n",
       "<table border=\"1\" class=\"dataframe\">\n",
       "  <thead>\n",
       "    <tr style=\"text-align: right;\">\n",
       "      <th></th>\n",
       "      <th>Score</th>\n",
       "      <th>Nation</th>\n",
       "    </tr>\n",
       "  </thead>\n",
       "  <tbody>\n",
       "    <tr>\n",
       "      <th>0</th>\n",
       "      <td>264.402</td>\n",
       "      <td>Japan</td>\n",
       "    </tr>\n",
       "    <tr>\n",
       "      <th>1</th>\n",
       "      <td>262.537</td>\n",
       "      <td>China</td>\n",
       "    </tr>\n",
       "    <tr>\n",
       "      <th>2</th>\n",
       "      <td>256.993</td>\n",
       "      <td>UK</td>\n",
       "    </tr>\n",
       "    <tr>\n",
       "      <th>3</th>\n",
       "      <td>248.194</td>\n",
       "      <td>Germany</td>\n",
       "    </tr>\n",
       "    <tr>\n",
       "      <th>4</th>\n",
       "      <td>250.195</td>\n",
       "      <td>Switzerland</td>\n",
       "    </tr>\n",
       "    <tr>\n",
       "      <th>5</th>\n",
       "      <td>260.579</td>\n",
       "      <td>United States</td>\n",
       "    </tr>\n",
       "  </tbody>\n",
       "</table>\n",
       "</div>"
      ],
      "text/plain": [
       "     Score         Nation\n",
       "0  264.402          Japan\n",
       "1  262.537          China\n",
       "2  256.993             UK\n",
       "3  248.194        Germany\n",
       "4  250.195    Switzerland\n",
       "5  260.579  United States"
      ]
     },
     "execution_count": 26,
     "metadata": {},
     "output_type": "execute_result"
    }
   ],
   "source": [
    "df"
   ]
  },
  {
   "cell_type": "code",
   "execution_count": 27,
   "id": "7c75a6e4",
   "metadata": {},
   "outputs": [],
   "source": [
    "df=df[['Nation', 'Score']]"
   ]
  },
  {
   "cell_type": "code",
   "execution_count": 28,
   "id": "eecf2038",
   "metadata": {},
   "outputs": [
    {
     "data": {
      "text/html": [
       "<div>\n",
       "<style scoped>\n",
       "    .dataframe tbody tr th:only-of-type {\n",
       "        vertical-align: middle;\n",
       "    }\n",
       "\n",
       "    .dataframe tbody tr th {\n",
       "        vertical-align: top;\n",
       "    }\n",
       "\n",
       "    .dataframe thead th {\n",
       "        text-align: right;\n",
       "    }\n",
       "</style>\n",
       "<table border=\"1\" class=\"dataframe\">\n",
       "  <thead>\n",
       "    <tr style=\"text-align: right;\">\n",
       "      <th></th>\n",
       "      <th>Nation</th>\n",
       "      <th>Score</th>\n",
       "    </tr>\n",
       "  </thead>\n",
       "  <tbody>\n",
       "    <tr>\n",
       "      <th>0</th>\n",
       "      <td>Japan</td>\n",
       "      <td>264.402</td>\n",
       "    </tr>\n",
       "    <tr>\n",
       "      <th>1</th>\n",
       "      <td>China</td>\n",
       "      <td>262.537</td>\n",
       "    </tr>\n",
       "    <tr>\n",
       "      <th>2</th>\n",
       "      <td>UK</td>\n",
       "      <td>256.993</td>\n",
       "    </tr>\n",
       "    <tr>\n",
       "      <th>3</th>\n",
       "      <td>Germany</td>\n",
       "      <td>248.194</td>\n",
       "    </tr>\n",
       "    <tr>\n",
       "      <th>4</th>\n",
       "      <td>Switzerland</td>\n",
       "      <td>250.195</td>\n",
       "    </tr>\n",
       "    <tr>\n",
       "      <th>5</th>\n",
       "      <td>United States</td>\n",
       "      <td>260.579</td>\n",
       "    </tr>\n",
       "  </tbody>\n",
       "</table>\n",
       "</div>"
      ],
      "text/plain": [
       "          Nation    Score\n",
       "0          Japan  264.402\n",
       "1          China  262.537\n",
       "2             UK  256.993\n",
       "3        Germany  248.194\n",
       "4    Switzerland  250.195\n",
       "5  United States  260.579"
      ]
     },
     "execution_count": 28,
     "metadata": {},
     "output_type": "execute_result"
    }
   ],
   "source": [
    "df"
   ]
  },
  {
   "cell_type": "code",
   "execution_count": 29,
   "id": "c9a0a8a0",
   "metadata": {},
   "outputs": [
    {
     "data": {
      "text/html": [
       "<div>\n",
       "<style scoped>\n",
       "    .dataframe tbody tr th:only-of-type {\n",
       "        vertical-align: middle;\n",
       "    }\n",
       "\n",
       "    .dataframe tbody tr th {\n",
       "        vertical-align: top;\n",
       "    }\n",
       "\n",
       "    .dataframe thead th {\n",
       "        text-align: right;\n",
       "    }\n",
       "</style>\n",
       "<table border=\"1\" class=\"dataframe\">\n",
       "  <thead>\n",
       "    <tr style=\"text-align: right;\">\n",
       "      <th></th>\n",
       "      <th>Nation</th>\n",
       "      <th>Score</th>\n",
       "    </tr>\n",
       "  </thead>\n",
       "  <tbody>\n",
       "    <tr>\n",
       "      <th>0</th>\n",
       "      <td>Japan</td>\n",
       "      <td>264.402</td>\n",
       "    </tr>\n",
       "    <tr>\n",
       "      <th>1</th>\n",
       "      <td>China</td>\n",
       "      <td>262.537</td>\n",
       "    </tr>\n",
       "    <tr>\n",
       "      <th>5</th>\n",
       "      <td>United States</td>\n",
       "      <td>260.579</td>\n",
       "    </tr>\n",
       "    <tr>\n",
       "      <th>2</th>\n",
       "      <td>UK</td>\n",
       "      <td>256.993</td>\n",
       "    </tr>\n",
       "    <tr>\n",
       "      <th>4</th>\n",
       "      <td>Switzerland</td>\n",
       "      <td>250.195</td>\n",
       "    </tr>\n",
       "    <tr>\n",
       "      <th>3</th>\n",
       "      <td>Germany</td>\n",
       "      <td>248.194</td>\n",
       "    </tr>\n",
       "  </tbody>\n",
       "</table>\n",
       "</div>"
      ],
      "text/plain": [
       "          Nation    Score\n",
       "0          Japan  264.402\n",
       "1          China  262.537\n",
       "5  United States  260.579\n",
       "2             UK  256.993\n",
       "4    Switzerland  250.195\n",
       "3        Germany  248.194"
      ]
     },
     "execution_count": 29,
     "metadata": {},
     "output_type": "execute_result"
    }
   ],
   "source": [
    "df.sort_values(by='Score', ascending=False)"
   ]
  },
  {
   "cell_type": "code",
   "execution_count": 30,
   "id": "cb4025af",
   "metadata": {},
   "outputs": [],
   "source": [
    "# df=df.iloc[:5]"
   ]
  },
  {
   "cell_type": "code",
   "execution_count": 31,
   "id": "05f4acfd",
   "metadata": {},
   "outputs": [],
   "source": [
    "df=df.sort_values(by='Score', ascending=False)"
   ]
  },
  {
   "cell_type": "code",
   "execution_count": 32,
   "id": "565c1b59",
   "metadata": {},
   "outputs": [
    {
     "data": {
      "image/png": "[encoded data removed]",
      "text/plain": [
       "<Figure size 1000x600 with 1 Axes>"
      ]
     },
     "metadata": {},
     "output_type": "display_data"
    }
   ],
   "source": [
    "import matplotlib.pyplot as plt\n",
    "\n",
    "plt.figure(figsize=(10, 6))\n",
    "plt.bar(df['Nation'], df['Score'], color='skyblue')\n",
    "plt.title('Qualification Scores by Nation')\n",
    "plt.xlabel('Nation')\n",
    "plt.ylabel('Score')\n",
    "\n",
    "# Set y-axis to start at 200\n",
    "plt.ylim(240, 266)\n",
    "\n",
    "plt.show()\n"
   ]
  },
  {
   "cell_type": "markdown",
   "id": "627af927",
   "metadata": {},
   "source": [
    "# finals"
   ]
  },
  {
   "cell_type": "markdown",
   "id": "eb76abf0",
   "metadata": {},
   "source": [
    "# top 3\n",
    "- chn: 254.736\n",
    "- jpn: 259.437\n",
    "- usa: 250.515\n",
    "- uk: 251.626\n",
    "- de: 240.661\n",
    "- ch: 247.019"
   ]
  },
  {
   "cell_type": "code",
   "execution_count": 33,
   "id": "5b15f1b2",
   "metadata": {},
   "outputs": [],
   "source": [
    "data = {\n",
    "    'Country': ['chn', 'jpn', 'usa-gui', 'uk', 'de', 'ch', 'usa-moldauer'],\n",
    "    'Score': [254.736, 259.437, 250.515, 251.626, 240.661, 247.019, 249.134]\n",
    "}\n",
    "\n",
    "df = pd.DataFrame(data)"
   ]
  },
  {
   "cell_type": "code",
   "execution_count": 34,
   "id": "585e70a7",
   "metadata": {},
   "outputs": [],
   "source": [
    "data = {\n",
    "    'Country': ['chn', 'jpn', 'usa', 'uk', 'de', 'ch'],\n",
    "    'Score': [254.736, 259.437, 253.4800,251.626, 240.661, 247.019]\n",
    "}\n",
    "\n",
    "df = pd.DataFrame(data)"
   ]
  },
  {
   "cell_type": "code",
   "execution_count": 35,
   "id": "75e023de",
   "metadata": {},
   "outputs": [
    {
     "data": {
      "text/html": [
       "<div>\n",
       "<style scoped>\n",
       "    .dataframe tbody tr th:only-of-type {\n",
       "        vertical-align: middle;\n",
       "    }\n",
       "\n",
       "    .dataframe tbody tr th {\n",
       "        vertical-align: top;\n",
       "    }\n",
       "\n",
       "    .dataframe thead th {\n",
       "        text-align: right;\n",
       "    }\n",
       "</style>\n",
       "<table border=\"1\" class=\"dataframe\">\n",
       "  <thead>\n",
       "    <tr style=\"text-align: right;\">\n",
       "      <th></th>\n",
       "      <th>Country</th>\n",
       "      <th>Score</th>\n",
       "    </tr>\n",
       "  </thead>\n",
       "  <tbody>\n",
       "    <tr>\n",
       "      <th>0</th>\n",
       "      <td>chn</td>\n",
       "      <td>254.736</td>\n",
       "    </tr>\n",
       "    <tr>\n",
       "      <th>1</th>\n",
       "      <td>jpn</td>\n",
       "      <td>259.437</td>\n",
       "    </tr>\n",
       "    <tr>\n",
       "      <th>2</th>\n",
       "      <td>usa</td>\n",
       "      <td>253.480</td>\n",
       "    </tr>\n",
       "    <tr>\n",
       "      <th>3</th>\n",
       "      <td>uk</td>\n",
       "      <td>251.626</td>\n",
       "    </tr>\n",
       "    <tr>\n",
       "      <th>4</th>\n",
       "      <td>de</td>\n",
       "      <td>240.661</td>\n",
       "    </tr>\n",
       "    <tr>\n",
       "      <th>5</th>\n",
       "      <td>ch</td>\n",
       "      <td>247.019</td>\n",
       "    </tr>\n",
       "  </tbody>\n",
       "</table>\n",
       "</div>"
      ],
      "text/plain": [
       "  Country    Score\n",
       "0     chn  254.736\n",
       "1     jpn  259.437\n",
       "2     usa  253.480\n",
       "3      uk  251.626\n",
       "4      de  240.661\n",
       "5      ch  247.019"
      ]
     },
     "execution_count": 35,
     "metadata": {},
     "output_type": "execute_result"
    }
   ],
   "source": [
    "df"
   ]
  },
  {
   "cell_type": "code",
   "execution_count": 36,
   "id": "fa5581fc",
   "metadata": {},
   "outputs": [
    {
     "data": {
      "text/html": [
       "<div>\n",
       "<style scoped>\n",
       "    .dataframe tbody tr th:only-of-type {\n",
       "        vertical-align: middle;\n",
       "    }\n",
       "\n",
       "    .dataframe tbody tr th {\n",
       "        vertical-align: top;\n",
       "    }\n",
       "\n",
       "    .dataframe thead th {\n",
       "        text-align: right;\n",
       "    }\n",
       "</style>\n",
       "<table border=\"1\" class=\"dataframe\">\n",
       "  <thead>\n",
       "    <tr style=\"text-align: right;\">\n",
       "      <th></th>\n",
       "      <th>Country</th>\n",
       "      <th>Score</th>\n",
       "    </tr>\n",
       "  </thead>\n",
       "  <tbody>\n",
       "    <tr>\n",
       "      <th>1</th>\n",
       "      <td>jpn</td>\n",
       "      <td>259.437</td>\n",
       "    </tr>\n",
       "    <tr>\n",
       "      <th>0</th>\n",
       "      <td>chn</td>\n",
       "      <td>254.736</td>\n",
       "    </tr>\n",
       "    <tr>\n",
       "      <th>2</th>\n",
       "      <td>usa</td>\n",
       "      <td>253.480</td>\n",
       "    </tr>\n",
       "    <tr>\n",
       "      <th>3</th>\n",
       "      <td>uk</td>\n",
       "      <td>251.626</td>\n",
       "    </tr>\n",
       "    <tr>\n",
       "      <th>5</th>\n",
       "      <td>ch</td>\n",
       "      <td>247.019</td>\n",
       "    </tr>\n",
       "    <tr>\n",
       "      <th>4</th>\n",
       "      <td>de</td>\n",
       "      <td>240.661</td>\n",
       "    </tr>\n",
       "  </tbody>\n",
       "</table>\n",
       "</div>"
      ],
      "text/plain": [
       "  Country    Score\n",
       "1     jpn  259.437\n",
       "0     chn  254.736\n",
       "2     usa  253.480\n",
       "3      uk  251.626\n",
       "5      ch  247.019\n",
       "4      de  240.661"
      ]
     },
     "execution_count": 36,
     "metadata": {},
     "output_type": "execute_result"
    }
   ],
   "source": [
    "df.sort_values(by='Score', ascending=False)"
   ]
  },
  {
   "cell_type": "code",
   "execution_count": 37,
   "id": "837facf3",
   "metadata": {},
   "outputs": [
    {
     "data": {
      "image/png": "[encoded data removed]",
      "text/plain": [
       "<Figure size 1000x600 with 1 Axes>"
      ]
     },
     "metadata": {},
     "output_type": "display_data"
    }
   ],
   "source": [
    "plt.figure(figsize=(10, 6))\n",
    "plt.bar(df['Country'], df['Score'], color='skyblue')\n",
    "plt.title('Finals Scores by Country')\n",
    "plt.xlabel('Country')\n",
    "plt.ylabel('Score')\n",
    "plt.ylim(239, 260)  # Set y-axis limits\n",
    "\n",
    "plt.show()"
   ]
  },
  {
   "cell_type": "code",
   "execution_count": 38,
   "id": "24e331ca",
   "metadata": {},
   "outputs": [],
   "source": [
    "df = pd.read_csv('../../../Combine_Data/men/iaa2024.csv')\n"
   ]
  },
  {
   "cell_type": "code",
   "execution_count": 39,
   "id": "29ec88d8",
   "metadata": {},
   "outputs": [],
   "source": [
    "usa=df[df['Nation']=='USA']"
   ]
  },
  {
   "cell_type": "code",
   "execution_count": 40,
   "id": "6527935f",
   "metadata": {
    "scrolled": true
   },
   "outputs": [
    {
     "data": {
      "text/html": [
       "<div>\n",
       "<style scoped>\n",
       "    .dataframe tbody tr th:only-of-type {\n",
       "        vertical-align: middle;\n",
       "    }\n",
       "\n",
       "    .dataframe tbody tr th {\n",
       "        vertical-align: top;\n",
       "    }\n",
       "\n",
       "    .dataframe thead th {\n",
       "        text-align: right;\n",
       "    }\n",
       "</style>\n",
       "<table border=\"1\" class=\"dataframe\">\n",
       "  <thead>\n",
       "    <tr style=\"text-align: right;\">\n",
       "      <th></th>\n",
       "      <th>Rank</th>\n",
       "      <th>Athlete</th>\n",
       "      <th>FX</th>\n",
       "      <th>PH</th>\n",
       "      <th>SR</th>\n",
       "      <th>VT</th>\n",
       "      <th>PB</th>\n",
       "      <th>HB</th>\n",
       "      <th>AA</th>\n",
       "      <th>round</th>\n",
       "      <th>Nation</th>\n",
       "      <th>year</th>\n",
       "    </tr>\n",
       "  </thead>\n",
       "  <tbody>\n",
       "    <tr>\n",
       "      <th>679</th>\n",
       "      <td>1.0</td>\n",
       "      <td>yul moldauer</td>\n",
       "      <td>14.400</td>\n",
       "      <td>13.957</td>\n",
       "      <td>14.114</td>\n",
       "      <td>14.250</td>\n",
       "      <td>15.121</td>\n",
       "      <td>13.500</td>\n",
       "      <td>85.342</td>\n",
       "      <td>final</td>\n",
       "      <td>USA</td>\n",
       "      <td>2023</td>\n",
       "    </tr>\n",
       "    <tr>\n",
       "      <th>680</th>\n",
       "      <td>2.0</td>\n",
       "      <td>fred richard</td>\n",
       "      <td>14.483</td>\n",
       "      <td>13.357</td>\n",
       "      <td>13.350</td>\n",
       "      <td>14.000</td>\n",
       "      <td>14.450</td>\n",
       "      <td>14.962</td>\n",
       "      <td>84.602</td>\n",
       "      <td>final</td>\n",
       "      <td>USA</td>\n",
       "      <td>2023</td>\n",
       "    </tr>\n",
       "    <tr>\n",
       "      <th>421</th>\n",
       "      <td>1.0</td>\n",
       "      <td>vitaliy guimaraes</td>\n",
       "      <td>14.250</td>\n",
       "      <td>14.350</td>\n",
       "      <td>13.600</td>\n",
       "      <td>14.450</td>\n",
       "      <td>13.900</td>\n",
       "      <td>13.400</td>\n",
       "      <td>83.950</td>\n",
       "      <td>final</td>\n",
       "      <td>USA</td>\n",
       "      <td>2022</td>\n",
       "    </tr>\n",
       "    <tr>\n",
       "      <th>422</th>\n",
       "      <td>2.0</td>\n",
       "      <td>khoi young</td>\n",
       "      <td>13.550</td>\n",
       "      <td>15.342</td>\n",
       "      <td>12.550</td>\n",
       "      <td>15.244</td>\n",
       "      <td>13.750</td>\n",
       "      <td>13.100</td>\n",
       "      <td>83.536</td>\n",
       "      <td>final</td>\n",
       "      <td>USA</td>\n",
       "      <td>2022</td>\n",
       "    </tr>\n",
       "    <tr>\n",
       "      <th>423</th>\n",
       "      <td>3.0</td>\n",
       "      <td>asher hong</td>\n",
       "      <td>14.029</td>\n",
       "      <td>12.949</td>\n",
       "      <td>14.566</td>\n",
       "      <td>16.680</td>\n",
       "      <td>14.355</td>\n",
       "      <td>10.450</td>\n",
       "      <td>83.029</td>\n",
       "      <td>final</td>\n",
       "      <td>USA</td>\n",
       "      <td>2022</td>\n",
       "    </tr>\n",
       "    <tr>\n",
       "      <th>...</th>\n",
       "      <td>...</td>\n",
       "      <td>...</td>\n",
       "      <td>...</td>\n",
       "      <td>...</td>\n",
       "      <td>...</td>\n",
       "      <td>...</td>\n",
       "      <td>...</td>\n",
       "      <td>...</td>\n",
       "      <td>...</td>\n",
       "      <td>...</td>\n",
       "      <td>...</td>\n",
       "      <td>...</td>\n",
       "    </tr>\n",
       "    <tr>\n",
       "      <th>716</th>\n",
       "      <td>38.0</td>\n",
       "      <td>ian skirkey</td>\n",
       "      <td>0.000</td>\n",
       "      <td>14.972</td>\n",
       "      <td>0.000</td>\n",
       "      <td>0.000</td>\n",
       "      <td>0.000</td>\n",
       "      <td>0.000</td>\n",
       "      <td>14.972</td>\n",
       "      <td>final</td>\n",
       "      <td>USA</td>\n",
       "      <td>2023</td>\n",
       "    </tr>\n",
       "    <tr>\n",
       "      <th>717</th>\n",
       "      <td>39.0</td>\n",
       "      <td>ignacio yockers</td>\n",
       "      <td>0.000</td>\n",
       "      <td>14.942</td>\n",
       "      <td>0.000</td>\n",
       "      <td>0.000</td>\n",
       "      <td>0.000</td>\n",
       "      <td>0.000</td>\n",
       "      <td>14.942</td>\n",
       "      <td>final</td>\n",
       "      <td>USA</td>\n",
       "      <td>2023</td>\n",
       "    </tr>\n",
       "    <tr>\n",
       "      <th>718</th>\n",
       "      <td>40.0</td>\n",
       "      <td>brandon dang</td>\n",
       "      <td>0.000</td>\n",
       "      <td>14.466</td>\n",
       "      <td>0.000</td>\n",
       "      <td>0.000</td>\n",
       "      <td>0.000</td>\n",
       "      <td>0.000</td>\n",
       "      <td>14.466</td>\n",
       "      <td>final</td>\n",
       "      <td>USA</td>\n",
       "      <td>2023</td>\n",
       "    </tr>\n",
       "    <tr>\n",
       "      <th>719</th>\n",
       "      <td>41.0</td>\n",
       "      <td>vahe petrosyan</td>\n",
       "      <td>0.000</td>\n",
       "      <td>0.000</td>\n",
       "      <td>0.000</td>\n",
       "      <td>13.350</td>\n",
       "      <td>0.000</td>\n",
       "      <td>0.000</td>\n",
       "      <td>13.350</td>\n",
       "      <td>final</td>\n",
       "      <td>USA</td>\n",
       "      <td>2023</td>\n",
       "    </tr>\n",
       "    <tr>\n",
       "      <th>720</th>\n",
       "      <td>42.0</td>\n",
       "      <td>troy lipis</td>\n",
       "      <td>0.000</td>\n",
       "      <td>0.000</td>\n",
       "      <td>12.711</td>\n",
       "      <td>0.000</td>\n",
       "      <td>0.000</td>\n",
       "      <td>0.000</td>\n",
       "      <td>12.711</td>\n",
       "      <td>final</td>\n",
       "      <td>USA</td>\n",
       "      <td>2023</td>\n",
       "    </tr>\n",
       "  </tbody>\n",
       "</table>\n",
       "<p>80 rows × 12 columns</p>\n",
       "</div>"
      ],
      "text/plain": [
       "     Rank            Athlete      FX      PH      SR      VT      PB      HB  \\\n",
       "679   1.0       yul moldauer  14.400  13.957  14.114  14.250  15.121  13.500   \n",
       "680   2.0       fred richard  14.483  13.357  13.350  14.000  14.450  14.962   \n",
       "421   1.0  vitaliy guimaraes  14.250  14.350  13.600  14.450  13.900  13.400   \n",
       "422   2.0         khoi young  13.550  15.342  12.550  15.244  13.750  13.100   \n",
       "423   3.0         asher hong  14.029  12.949  14.566  16.680  14.355  10.450   \n",
       "..    ...                ...     ...     ...     ...     ...     ...     ...   \n",
       "716  38.0        ian skirkey   0.000  14.972   0.000   0.000   0.000   0.000   \n",
       "717  39.0    ignacio yockers   0.000  14.942   0.000   0.000   0.000   0.000   \n",
       "718  40.0       brandon dang   0.000  14.466   0.000   0.000   0.000   0.000   \n",
       "719  41.0     vahe petrosyan   0.000   0.000   0.000  13.350   0.000   0.000   \n",
       "720  42.0         troy lipis   0.000   0.000  12.711   0.000   0.000   0.000   \n",
       "\n",
       "         AA  round Nation  year  \n",
       "679  85.342  final    USA  2023  \n",
       "680  84.602  final    USA  2023  \n",
       "421  83.950  final    USA  2022  \n",
       "422  83.536  final    USA  2022  \n",
       "423  83.029  final    USA  2022  \n",
       "..      ...    ...    ...   ...  \n",
       "716  14.972  final    USA  2023  \n",
       "717  14.942  final    USA  2023  \n",
       "718  14.466  final    USA  2023  \n",
       "719  13.350  final    USA  2023  \n",
       "720  12.711  final    USA  2023  \n",
       "\n",
       "[80 rows x 12 columns]"
      ]
     },
     "execution_count": 40,
     "metadata": {},
     "output_type": "execute_result"
    }
   ],
   "source": [
    "usa.sort_values(by='AA', ascending=False)"
   ]
  },
  {
   "cell_type": "code",
   "execution_count": 41,
   "id": "34ab8f3a",
   "metadata": {},
   "outputs": [
    {
     "data": {
      "text/plain": [
       "253.48000000000002"
      ]
     },
     "execution_count": 41,
     "metadata": {},
     "output_type": "execute_result"
    }
   ],
   "source": [
    "85.342+84.602+83.536"
   ]
  },
  {
   "cell_type": "code",
   "execution_count": 42,
   "id": "a11ae331",
   "metadata": {},
   "outputs": [
    {
     "data": {
      "text/plain": [
       "Nation\n",
       "USA           80\n",
       "Japan         21\n",
       "States        21\n",
       "Britain       21\n",
       "Italy         20\n",
       "              ..\n",
       "Cuba           1\n",
       "Peru           1\n",
       "Denmark        1\n",
       "Ecuador        1\n",
       "Luxembourg     1\n",
       "Name: count, Length: 72, dtype: int64"
      ]
     },
     "execution_count": 42,
     "metadata": {},
     "output_type": "execute_result"
    }
   ],
   "source": [
    "df['Nation'].value_counts()"
   ]
  },
  {
   "cell_type": "code",
   "execution_count": 43,
   "id": "82223fc2",
   "metadata": {},
   "outputs": [],
   "source": [
    "jpn=df[df['Nation']=='Japan']\n",
    "chn=df[df['Nation']=='China']\n",
    "uk=df[df['Nation']=='Britain']\n",
    "de=df[df['Nation']=='Germany']\n",
    "ch=df[df['Nation']=='Switzerland']\n"
   ]
  },
  {
   "cell_type": "code",
   "execution_count": 44,
   "id": "712f93e0",
   "metadata": {
    "scrolled": true
   },
   "outputs": [
    {
     "data": {
      "text/html": [
       "<div>\n",
       "<style scoped>\n",
       "    .dataframe tbody tr th:only-of-type {\n",
       "        vertical-align: middle;\n",
       "    }\n",
       "\n",
       "    .dataframe tbody tr th {\n",
       "        vertical-align: top;\n",
       "    }\n",
       "\n",
       "    .dataframe thead th {\n",
       "        text-align: right;\n",
       "    }\n",
       "</style>\n",
       "<table border=\"1\" class=\"dataframe\">\n",
       "  <thead>\n",
       "    <tr style=\"text-align: right;\">\n",
       "      <th></th>\n",
       "      <th>Rank</th>\n",
       "      <th>Athlete</th>\n",
       "      <th>FX</th>\n",
       "      <th>PH</th>\n",
       "      <th>SR</th>\n",
       "      <th>VT</th>\n",
       "      <th>PB</th>\n",
       "      <th>HB</th>\n",
       "      <th>AA</th>\n",
       "      <th>round</th>\n",
       "      <th>Nation</th>\n",
       "      <th>year</th>\n",
       "    </tr>\n",
       "  </thead>\n",
       "  <tbody>\n",
       "    <tr>\n",
       "      <th>471</th>\n",
       "      <td>13.0</td>\n",
       "      <td>lukas dauser</td>\n",
       "      <td>13.433</td>\n",
       "      <td>13.233</td>\n",
       "      <td>12.966</td>\n",
       "      <td>13.866</td>\n",
       "      <td>15.300</td>\n",
       "      <td>13.566</td>\n",
       "      <td>82.364</td>\n",
       "      <td>qual</td>\n",
       "      <td>Germany</td>\n",
       "      <td>2023</td>\n",
       "    </tr>\n",
       "    <tr>\n",
       "      <th>407</th>\n",
       "      <td>11.0</td>\n",
       "      <td>lukas dauser</td>\n",
       "      <td>13.666</td>\n",
       "      <td>13.200</td>\n",
       "      <td>12.900</td>\n",
       "      <td>13.766</td>\n",
       "      <td>15.166</td>\n",
       "      <td>12.900</td>\n",
       "      <td>81.598</td>\n",
       "      <td>final</td>\n",
       "      <td>Germany</td>\n",
       "      <td>2022</td>\n",
       "    </tr>\n",
       "    <tr>\n",
       "      <th>670</th>\n",
       "      <td>16.0</td>\n",
       "      <td>lukas dauser</td>\n",
       "      <td>11.966</td>\n",
       "      <td>13.033</td>\n",
       "      <td>12.933</td>\n",
       "      <td>13.733</td>\n",
       "      <td>15.400</td>\n",
       "      <td>13.366</td>\n",
       "      <td>80.431</td>\n",
       "      <td>final</td>\n",
       "      <td>Germany</td>\n",
       "      <td>2023</td>\n",
       "    </tr>\n",
       "    <tr>\n",
       "      <th>228</th>\n",
       "      <td>18.0</td>\n",
       "      <td>lukas dauser</td>\n",
       "      <td>13.666</td>\n",
       "      <td>12.233</td>\n",
       "      <td>13.133</td>\n",
       "      <td>13.866</td>\n",
       "      <td>15.400</td>\n",
       "      <td>12.133</td>\n",
       "      <td>80.431</td>\n",
       "      <td>qual</td>\n",
       "      <td>Germany</td>\n",
       "      <td>2022</td>\n",
       "    </tr>\n",
       "    <tr>\n",
       "      <th>492</th>\n",
       "      <td>34.0</td>\n",
       "      <td>pascal brendel</td>\n",
       "      <td>14.000</td>\n",
       "      <td>13.300</td>\n",
       "      <td>13.200</td>\n",
       "      <td>12.833</td>\n",
       "      <td>12.800</td>\n",
       "      <td>13.933</td>\n",
       "      <td>80.066</td>\n",
       "      <td>qual</td>\n",
       "      <td>Germany</td>\n",
       "      <td>2023</td>\n",
       "    </tr>\n",
       "    <tr>\n",
       "      <th>247</th>\n",
       "      <td>37.0</td>\n",
       "      <td>glenn trebing</td>\n",
       "      <td>12.833</td>\n",
       "      <td>12.166</td>\n",
       "      <td>13.166</td>\n",
       "      <td>13.766</td>\n",
       "      <td>13.200</td>\n",
       "      <td>13.100</td>\n",
       "      <td>78.231</td>\n",
       "      <td>qual</td>\n",
       "      <td>Germany</td>\n",
       "      <td>2022</td>\n",
       "    </tr>\n",
       "    <tr>\n",
       "      <th>30</th>\n",
       "      <td>31.0</td>\n",
       "      <td>carlo hörr</td>\n",
       "      <td>13.566</td>\n",
       "      <td>11.300</td>\n",
       "      <td>12.266</td>\n",
       "      <td>14.000</td>\n",
       "      <td>13.366</td>\n",
       "      <td>12.000</td>\n",
       "      <td>76.498</td>\n",
       "      <td>qual</td>\n",
       "      <td>Germany</td>\n",
       "      <td>2021</td>\n",
       "    </tr>\n",
       "    <tr>\n",
       "      <th>555</th>\n",
       "      <td>NaN</td>\n",
       "      <td>lucas kochan</td>\n",
       "      <td>12.900</td>\n",
       "      <td>13.100</td>\n",
       "      <td>0.000</td>\n",
       "      <td>14.066</td>\n",
       "      <td>14.233</td>\n",
       "      <td>13.400</td>\n",
       "      <td>67.699</td>\n",
       "      <td>qual</td>\n",
       "      <td>Germany</td>\n",
       "      <td>2023</td>\n",
       "    </tr>\n",
       "    <tr>\n",
       "      <th>317</th>\n",
       "      <td>NaN</td>\n",
       "      <td>nils dunkel</td>\n",
       "      <td>13.166</td>\n",
       "      <td>14.166</td>\n",
       "      <td>13.466</td>\n",
       "      <td>0.000</td>\n",
       "      <td>14.133</td>\n",
       "      <td>0.000</td>\n",
       "      <td>54.931</td>\n",
       "      <td>qual</td>\n",
       "      <td>Germany</td>\n",
       "      <td>2022</td>\n",
       "    </tr>\n",
       "    <tr>\n",
       "      <th>573</th>\n",
       "      <td>NaN</td>\n",
       "      <td>nils dunkel</td>\n",
       "      <td>0.000</td>\n",
       "      <td>14.600</td>\n",
       "      <td>13.533</td>\n",
       "      <td>0.000</td>\n",
       "      <td>14.133</td>\n",
       "      <td>12.500</td>\n",
       "      <td>54.766</td>\n",
       "      <td>qual</td>\n",
       "      <td>Germany</td>\n",
       "      <td>2023</td>\n",
       "    </tr>\n",
       "    <tr>\n",
       "      <th>319</th>\n",
       "      <td>NaN</td>\n",
       "      <td>andreas toba</td>\n",
       "      <td>0.000</td>\n",
       "      <td>13.433</td>\n",
       "      <td>13.666</td>\n",
       "      <td>14.300</td>\n",
       "      <td>0.000</td>\n",
       "      <td>13.133</td>\n",
       "      <td>54.532</td>\n",
       "      <td>qual</td>\n",
       "      <td>Germany</td>\n",
       "      <td>2022</td>\n",
       "    </tr>\n",
       "    <tr>\n",
       "      <th>327</th>\n",
       "      <td>NaN</td>\n",
       "      <td>pascal brendel</td>\n",
       "      <td>12.700</td>\n",
       "      <td>0.000</td>\n",
       "      <td>0.000</td>\n",
       "      <td>13.633</td>\n",
       "      <td>13.666</td>\n",
       "      <td>11.733</td>\n",
       "      <td>51.732</td>\n",
       "      <td>qual</td>\n",
       "      <td>Germany</td>\n",
       "      <td>2022</td>\n",
       "    </tr>\n",
       "    <tr>\n",
       "      <th>62</th>\n",
       "      <td>63.0</td>\n",
       "      <td>glenn trebing</td>\n",
       "      <td>0.000</td>\n",
       "      <td>11.466</td>\n",
       "      <td>12.333</td>\n",
       "      <td>0.000</td>\n",
       "      <td>14.400</td>\n",
       "      <td>12.733</td>\n",
       "      <td>50.932</td>\n",
       "      <td>qual</td>\n",
       "      <td>Germany</td>\n",
       "      <td>2021</td>\n",
       "    </tr>\n",
       "    <tr>\n",
       "      <th>596</th>\n",
       "      <td>NaN</td>\n",
       "      <td>nick klessing</td>\n",
       "      <td>12.233</td>\n",
       "      <td>0.000</td>\n",
       "      <td>13.733</td>\n",
       "      <td>14.433</td>\n",
       "      <td>0.000</td>\n",
       "      <td>0.000</td>\n",
       "      <td>40.399</td>\n",
       "      <td>qual</td>\n",
       "      <td>Germany</td>\n",
       "      <td>2023</td>\n",
       "    </tr>\n",
       "    <tr>\n",
       "      <th>75</th>\n",
       "      <td>76.0</td>\n",
       "      <td>dario sissakis</td>\n",
       "      <td>13.633</td>\n",
       "      <td>12.266</td>\n",
       "      <td>0.000</td>\n",
       "      <td>14.300</td>\n",
       "      <td>0.000</td>\n",
       "      <td>0.000</td>\n",
       "      <td>40.199</td>\n",
       "      <td>qual</td>\n",
       "      <td>Germany</td>\n",
       "      <td>2021</td>\n",
       "    </tr>\n",
       "    <tr>\n",
       "      <th>76</th>\n",
       "      <td>77.0</td>\n",
       "      <td>felix remuta</td>\n",
       "      <td>13.700</td>\n",
       "      <td>0.000</td>\n",
       "      <td>0.000</td>\n",
       "      <td>12.900</td>\n",
       "      <td>13.333</td>\n",
       "      <td>0.000</td>\n",
       "      <td>39.933</td>\n",
       "      <td>qual</td>\n",
       "      <td>Germany</td>\n",
       "      <td>2021</td>\n",
       "    </tr>\n",
       "    <tr>\n",
       "      <th>157</th>\n",
       "      <td>159.0</td>\n",
       "      <td>andreas bretschneider</td>\n",
       "      <td>0.000</td>\n",
       "      <td>0.000</td>\n",
       "      <td>0.000</td>\n",
       "      <td>0.000</td>\n",
       "      <td>0.000</td>\n",
       "      <td>14.100</td>\n",
       "      <td>14.100</td>\n",
       "      <td>qual</td>\n",
       "      <td>Germany</td>\n",
       "      <td>2021</td>\n",
       "    </tr>\n",
       "  </tbody>\n",
       "</table>\n",
       "</div>"
      ],
      "text/plain": [
       "      Rank                Athlete      FX      PH      SR      VT      PB  \\\n",
       "471   13.0           lukas dauser  13.433  13.233  12.966  13.866  15.300   \n",
       "407   11.0           lukas dauser  13.666  13.200  12.900  13.766  15.166   \n",
       "670   16.0           lukas dauser  11.966  13.033  12.933  13.733  15.400   \n",
       "228   18.0           lukas dauser  13.666  12.233  13.133  13.866  15.400   \n",
       "492   34.0         pascal brendel  14.000  13.300  13.200  12.833  12.800   \n",
       "247   37.0          glenn trebing  12.833  12.166  13.166  13.766  13.200   \n",
       "30    31.0             carlo hörr  13.566  11.300  12.266  14.000  13.366   \n",
       "555    NaN           lucas kochan  12.900  13.100   0.000  14.066  14.233   \n",
       "317    NaN            nils dunkel  13.166  14.166  13.466   0.000  14.133   \n",
       "573    NaN            nils dunkel   0.000  14.600  13.533   0.000  14.133   \n",
       "319    NaN           andreas toba   0.000  13.433  13.666  14.300   0.000   \n",
       "327    NaN         pascal brendel  12.700   0.000   0.000  13.633  13.666   \n",
       "62    63.0          glenn trebing   0.000  11.466  12.333   0.000  14.400   \n",
       "596    NaN          nick klessing  12.233   0.000  13.733  14.433   0.000   \n",
       "75    76.0         dario sissakis  13.633  12.266   0.000  14.300   0.000   \n",
       "76    77.0           felix remuta  13.700   0.000   0.000  12.900  13.333   \n",
       "157  159.0  andreas bretschneider   0.000   0.000   0.000   0.000   0.000   \n",
       "\n",
       "         HB      AA  round   Nation  year  \n",
       "471  13.566  82.364   qual  Germany  2023  \n",
       "407  12.900  81.598  final  Germany  2022  \n",
       "670  13.366  80.431  final  Germany  2023  \n",
       "228  12.133  80.431   qual  Germany  2022  \n",
       "492  13.933  80.066   qual  Germany  2023  \n",
       "247  13.100  78.231   qual  Germany  2022  \n",
       "30   12.000  76.498   qual  Germany  2021  \n",
       "555  13.400  67.699   qual  Germany  2023  \n",
       "317   0.000  54.931   qual  Germany  2022  \n",
       "573  12.500  54.766   qual  Germany  2023  \n",
       "319  13.133  54.532   qual  Germany  2022  \n",
       "327  11.733  51.732   qual  Germany  2022  \n",
       "62   12.733  50.932   qual  Germany  2021  \n",
       "596   0.000  40.399   qual  Germany  2023  \n",
       "75    0.000  40.199   qual  Germany  2021  \n",
       "76    0.000  39.933   qual  Germany  2021  \n",
       "157  14.100  14.100   qual  Germany  2021  "
      ]
     },
     "execution_count": 44,
     "metadata": {},
     "output_type": "execute_result"
    }
   ],
   "source": [
    "de.sort_values(by='AA', ascending=False)"
   ]
  },
  {
   "cell_type": "code",
   "execution_count": 45,
   "id": "1d12c72a",
   "metadata": {},
   "outputs": [
    {
     "data": {
      "text/plain": [
       "259.437"
      ]
     },
     "execution_count": 45,
     "metadata": {},
     "output_type": "execute_result"
    }
   ],
   "source": [
    "88.040 +85.799+85.598"
   ]
  },
  {
   "cell_type": "code",
   "execution_count": 46,
   "id": "f99b1a61",
   "metadata": {},
   "outputs": [],
   "source": [
    "df = pd.read_csv('../../../scraping/men/men23top/iaa.csv')\n"
   ]
  },
  {
   "cell_type": "code",
   "execution_count": 47,
   "id": "14624310",
   "metadata": {},
   "outputs": [],
   "source": [
    "usa=df[df['Nation']=='United States']\n",
    "jpn=df[df['Nation']=='Japan']\n",
    "chn=df[df['Nation']=='China']\n",
    "de=df[df['Nation']=='Germany']\n",
    "ch=df[df['Nation']=='Switzerland']\n",
    "uk=df[df['Nation']=='Great Britain']\n",
    "\n"
   ]
  },
  {
   "cell_type": "code",
   "execution_count": 48,
   "id": "7b1b792f",
   "metadata": {},
   "outputs": [
    {
     "data": {
      "text/html": [
       "<div>\n",
       "<style scoped>\n",
       "    .dataframe tbody tr th:only-of-type {\n",
       "        vertical-align: middle;\n",
       "    }\n",
       "\n",
       "    .dataframe tbody tr th {\n",
       "        vertical-align: top;\n",
       "    }\n",
       "\n",
       "    .dataframe thead th {\n",
       "        text-align: right;\n",
       "    }\n",
       "</style>\n",
       "<table border=\"1\" class=\"dataframe\">\n",
       "  <thead>\n",
       "    <tr style=\"text-align: right;\">\n",
       "      <th></th>\n",
       "      <th>Rank</th>\n",
       "      <th>Athlete</th>\n",
       "      <th>Nation</th>\n",
       "      <th>Meet</th>\n",
       "      <th>Score</th>\n",
       "    </tr>\n",
       "  </thead>\n",
       "  <tbody>\n",
       "    <tr>\n",
       "      <th>15</th>\n",
       "      <td>15</td>\n",
       "      <td>Colt Walker</td>\n",
       "      <td>United States</td>\n",
       "      <td>U.S. Championships AA</td>\n",
       "      <td>85.00</td>\n",
       "    </tr>\n",
       "    <tr>\n",
       "      <th>20</th>\n",
       "      <td>21</td>\n",
       "      <td>Yul Moldauer</td>\n",
       "      <td>United States</td>\n",
       "      <td>U.S. Championships QF</td>\n",
       "      <td>84.80</td>\n",
       "    </tr>\n",
       "    <tr>\n",
       "      <th>23</th>\n",
       "      <td>24</td>\n",
       "      <td>Fred Richard</td>\n",
       "      <td>United States</td>\n",
       "      <td>U.S. Championships QF</td>\n",
       "      <td>84.65</td>\n",
       "    </tr>\n",
       "    <tr>\n",
       "      <th>26</th>\n",
       "      <td>27</td>\n",
       "      <td>Asher Hong</td>\n",
       "      <td>United States</td>\n",
       "      <td>Stanford Open</td>\n",
       "      <td>84.40</td>\n",
       "    </tr>\n",
       "    <tr>\n",
       "      <th>27</th>\n",
       "      <td>28</td>\n",
       "      <td>Khoi Young</td>\n",
       "      <td>United States</td>\n",
       "      <td>U.S. Championships QF</td>\n",
       "      <td>84.35</td>\n",
       "    </tr>\n",
       "    <tr>\n",
       "      <th>29</th>\n",
       "      <td>30</td>\n",
       "      <td>Paul Juda</td>\n",
       "      <td>United States</td>\n",
       "      <td>U.S. Championships QF</td>\n",
       "      <td>84.30</td>\n",
       "    </tr>\n",
       "    <tr>\n",
       "      <th>30</th>\n",
       "      <td>31</td>\n",
       "      <td>Ian Lasic-Ellis</td>\n",
       "      <td>United States</td>\n",
       "      <td>Stanford Open</td>\n",
       "      <td>84.25</td>\n",
       "    </tr>\n",
       "    <tr>\n",
       "      <th>38</th>\n",
       "      <td>39</td>\n",
       "      <td>Cameron Bock</td>\n",
       "      <td>United States</td>\n",
       "      <td>U.S. Championships AA</td>\n",
       "      <td>83.80</td>\n",
       "    </tr>\n",
       "    <tr>\n",
       "      <th>41</th>\n",
       "      <td>42</td>\n",
       "      <td>Riley Loos</td>\n",
       "      <td>United States</td>\n",
       "      <td>Stanford Open</td>\n",
       "      <td>83.70</td>\n",
       "    </tr>\n",
       "    <tr>\n",
       "      <th>42</th>\n",
       "      <td>42</td>\n",
       "      <td>Shane Wiskus</td>\n",
       "      <td>United States</td>\n",
       "      <td>U.S. Championships AA</td>\n",
       "      <td>83.70</td>\n",
       "    </tr>\n",
       "  </tbody>\n",
       "</table>\n",
       "</div>"
      ],
      "text/plain": [
       "    Rank          Athlete         Nation                   Meet  Score\n",
       "15    15      Colt Walker  United States  U.S. Championships AA  85.00\n",
       "20    21     Yul Moldauer  United States  U.S. Championships QF  84.80\n",
       "23    24     Fred Richard  United States  U.S. Championships QF  84.65\n",
       "26    27       Asher Hong  United States          Stanford Open  84.40\n",
       "27    28       Khoi Young  United States  U.S. Championships QF  84.35\n",
       "29    30        Paul Juda  United States  U.S. Championships QF  84.30\n",
       "30    31  Ian Lasic-Ellis  United States          Stanford Open  84.25\n",
       "38    39     Cameron Bock  United States  U.S. Championships AA  83.80\n",
       "41    42       Riley Loos  United States          Stanford Open  83.70\n",
       "42    42     Shane Wiskus  United States  U.S. Championships AA  83.70"
      ]
     },
     "execution_count": 48,
     "metadata": {},
     "output_type": "execute_result"
    }
   ],
   "source": [
    "usa\n"
   ]
  },
  {
   "cell_type": "code",
   "execution_count": 49,
   "id": "61f87e13",
   "metadata": {},
   "outputs": [
    {
     "data": {
      "text/plain": [
       "254.45000000000002"
      ]
     },
     "execution_count": 49,
     "metadata": {},
     "output_type": "execute_result"
    }
   ],
   "source": [
    "85.00+84.80+84.65"
   ]
  },
  {
   "cell_type": "code",
   "execution_count": 50,
   "id": "7650a9b8",
   "metadata": {},
   "outputs": [
    {
     "data": {
      "text/plain": [
       "253.85"
      ]
     },
     "execution_count": 50,
     "metadata": {},
     "output_type": "execute_result"
    }
   ],
   "source": [
    "84.80+84.65+84.40"
   ]
  },
  {
   "cell_type": "code",
   "execution_count": 51,
   "id": "67da7402",
   "metadata": {},
   "outputs": [
    {
     "data": {
      "text/html": [
       "<div>\n",
       "<style scoped>\n",
       "    .dataframe tbody tr th:only-of-type {\n",
       "        vertical-align: middle;\n",
       "    }\n",
       "\n",
       "    .dataframe tbody tr th {\n",
       "        vertical-align: top;\n",
       "    }\n",
       "\n",
       "    .dataframe thead th {\n",
       "        text-align: right;\n",
       "    }\n",
       "</style>\n",
       "<table border=\"1\" class=\"dataframe\">\n",
       "  <thead>\n",
       "    <tr style=\"text-align: right;\">\n",
       "      <th></th>\n",
       "      <th>Rank</th>\n",
       "      <th>Athlete</th>\n",
       "      <th>Nation</th>\n",
       "      <th>Meet</th>\n",
       "      <th>Score</th>\n",
       "    </tr>\n",
       "  </thead>\n",
       "  <tbody>\n",
       "    <tr>\n",
       "      <th>0</th>\n",
       "      <td>1</td>\n",
       "      <td>Zhang Boheng</td>\n",
       "      <td>China</td>\n",
       "      <td>Asian Games AA</td>\n",
       "      <td>89.299</td>\n",
       "    </tr>\n",
       "    <tr>\n",
       "      <th>4</th>\n",
       "      <td>5</td>\n",
       "      <td>Shi Cong</td>\n",
       "      <td>China</td>\n",
       "      <td>Summer Universiade AA</td>\n",
       "      <td>86.398</td>\n",
       "    </tr>\n",
       "    <tr>\n",
       "      <th>7</th>\n",
       "      <td>8</td>\n",
       "      <td>Sun Wei</td>\n",
       "      <td>China</td>\n",
       "      <td>World Championships TF</td>\n",
       "      <td>86.064</td>\n",
       "    </tr>\n",
       "    <tr>\n",
       "      <th>17</th>\n",
       "      <td>17</td>\n",
       "      <td>Lan Xingyu</td>\n",
       "      <td>China</td>\n",
       "      <td>Asian Games AA</td>\n",
       "      <td>84.965</td>\n",
       "    </tr>\n",
       "    <tr>\n",
       "      <th>44</th>\n",
       "      <td>44</td>\n",
       "      <td>Tian Hao</td>\n",
       "      <td>China</td>\n",
       "      <td>Asian Championships AA</td>\n",
       "      <td>83.631</td>\n",
       "    </tr>\n",
       "  </tbody>\n",
       "</table>\n",
       "</div>"
      ],
      "text/plain": [
       "    Rank       Athlete Nation                    Meet   Score\n",
       "0      1  Zhang Boheng  China          Asian Games AA  89.299\n",
       "4      5      Shi Cong  China   Summer Universiade AA  86.398\n",
       "7      8       Sun Wei  China  World Championships TF  86.064\n",
       "17    17    Lan Xingyu  China          Asian Games AA  84.965\n",
       "44    44      Tian Hao  China  Asian Championships AA  83.631"
      ]
     },
     "execution_count": 51,
     "metadata": {},
     "output_type": "execute_result"
    }
   ],
   "source": [
    "chn\n"
   ]
  },
  {
   "cell_type": "code",
   "execution_count": 52,
   "id": "cd6284d6",
   "metadata": {},
   "outputs": [
    {
     "data": {
      "text/plain": [
       "261.76099999999997"
      ]
     },
     "execution_count": 52,
     "metadata": {},
     "output_type": "execute_result"
    }
   ],
   "source": [
    "89.299+86.398+86.064"
   ]
  },
  {
   "cell_type": "code",
   "execution_count": 53,
   "id": "fd4f3cda",
   "metadata": {},
   "outputs": [
    {
     "data": {
      "text/html": [
       "<div>\n",
       "<style scoped>\n",
       "    .dataframe tbody tr th:only-of-type {\n",
       "        vertical-align: middle;\n",
       "    }\n",
       "\n",
       "    .dataframe tbody tr th {\n",
       "        vertical-align: top;\n",
       "    }\n",
       "\n",
       "    .dataframe thead th {\n",
       "        text-align: right;\n",
       "    }\n",
       "</style>\n",
       "<table border=\"1\" class=\"dataframe\">\n",
       "  <thead>\n",
       "    <tr style=\"text-align: right;\">\n",
       "      <th></th>\n",
       "      <th>Rank</th>\n",
       "      <th>Athlete</th>\n",
       "      <th>Nation</th>\n",
       "      <th>Meet</th>\n",
       "      <th>Score</th>\n",
       "    </tr>\n",
       "  </thead>\n",
       "  <tbody>\n",
       "    <tr>\n",
       "      <th>1</th>\n",
       "      <td>2</td>\n",
       "      <td>Hashimoto Daiki</td>\n",
       "      <td>Japan</td>\n",
       "      <td>Summer Universiade QF</td>\n",
       "      <td>88.698</td>\n",
       "    </tr>\n",
       "    <tr>\n",
       "      <th>2</th>\n",
       "      <td>3</td>\n",
       "      <td>Kitazono Takeru</td>\n",
       "      <td>Japan</td>\n",
       "      <td>Asian Games AA</td>\n",
       "      <td>87.032</td>\n",
       "    </tr>\n",
       "    <tr>\n",
       "      <th>3</th>\n",
       "      <td>4</td>\n",
       "      <td>Chiba Kenta</td>\n",
       "      <td>Japan</td>\n",
       "      <td>NHK Trophy</td>\n",
       "      <td>86.565</td>\n",
       "    </tr>\n",
       "    <tr>\n",
       "      <th>5</th>\n",
       "      <td>6</td>\n",
       "      <td>Miwa Teppei</td>\n",
       "      <td>Japan</td>\n",
       "      <td>All-Japan Championships QF</td>\n",
       "      <td>86.132</td>\n",
       "    </tr>\n",
       "    <tr>\n",
       "      <th>6</th>\n",
       "      <td>7</td>\n",
       "      <td>Oka Shinnosuke</td>\n",
       "      <td>Japan</td>\n",
       "      <td>Asian Championships AA</td>\n",
       "      <td>86.065</td>\n",
       "    </tr>\n",
       "    <tr>\n",
       "      <th>10</th>\n",
       "      <td>11</td>\n",
       "      <td>Sugino Takaaki</td>\n",
       "      <td>Japan</td>\n",
       "      <td>All-Japan Senior Championships</td>\n",
       "      <td>85.733</td>\n",
       "    </tr>\n",
       "    <tr>\n",
       "      <th>11</th>\n",
       "      <td>12</td>\n",
       "      <td>Kaya Kazuma</td>\n",
       "      <td>Japan</td>\n",
       "      <td>World Championships QF</td>\n",
       "      <td>85.598</td>\n",
       "    </tr>\n",
       "    <tr>\n",
       "      <th>13</th>\n",
       "      <td>14</td>\n",
       "      <td>Matsumi Kazuki</td>\n",
       "      <td>Japan</td>\n",
       "      <td>All-Japan Senior Championships</td>\n",
       "      <td>85.398</td>\n",
       "    </tr>\n",
       "    <tr>\n",
       "      <th>19</th>\n",
       "      <td>20</td>\n",
       "      <td>Tanigawa Kakeru</td>\n",
       "      <td>Japan</td>\n",
       "      <td>All-Japan Championships AA</td>\n",
       "      <td>84.830</td>\n",
       "    </tr>\n",
       "    <tr>\n",
       "      <th>21</th>\n",
       "      <td>22</td>\n",
       "      <td>Tanigawa Wataru</td>\n",
       "      <td>Japan</td>\n",
       "      <td>All-Japan Championships QF</td>\n",
       "      <td>84.698</td>\n",
       "    </tr>\n",
       "    <tr>\n",
       "      <th>22</th>\n",
       "      <td>23</td>\n",
       "      <td>Hasegawa Tsuyoshi</td>\n",
       "      <td>Japan</td>\n",
       "      <td>All-Japan Senior Championships</td>\n",
       "      <td>84.665</td>\n",
       "    </tr>\n",
       "    <tr>\n",
       "      <th>24</th>\n",
       "      <td>25</td>\n",
       "      <td>Kawakami Shohei</td>\n",
       "      <td>Japan</td>\n",
       "      <td>NHK Trophy</td>\n",
       "      <td>84.632</td>\n",
       "    </tr>\n",
       "    <tr>\n",
       "      <th>31</th>\n",
       "      <td>32</td>\n",
       "      <td>Sugimoto Kaito</td>\n",
       "      <td>Japan</td>\n",
       "      <td>All-Japan Championships AA</td>\n",
       "      <td>84.198</td>\n",
       "    </tr>\n",
       "    <tr>\n",
       "      <th>34</th>\n",
       "      <td>35</td>\n",
       "      <td>Tanaka Yusuke</td>\n",
       "      <td>Japan</td>\n",
       "      <td>NHK Trophy</td>\n",
       "      <td>84.031</td>\n",
       "    </tr>\n",
       "    <tr>\n",
       "      <th>35</th>\n",
       "      <td>36</td>\n",
       "      <td>Maeda Koki</td>\n",
       "      <td>Japan</td>\n",
       "      <td>All-Japan Championships QF</td>\n",
       "      <td>83.999</td>\n",
       "    </tr>\n",
       "    <tr>\n",
       "      <th>37</th>\n",
       "      <td>38</td>\n",
       "      <td>Kitamura Fumiya</td>\n",
       "      <td>Japan</td>\n",
       "      <td>All-Japan Senior Championships</td>\n",
       "      <td>83.898</td>\n",
       "    </tr>\n",
       "    <tr>\n",
       "      <th>39</th>\n",
       "      <td>40</td>\n",
       "      <td>Ueda Naoki</td>\n",
       "      <td>Japan</td>\n",
       "      <td>All-Japan Senior Championships</td>\n",
       "      <td>83.765</td>\n",
       "    </tr>\n",
       "    <tr>\n",
       "      <th>45</th>\n",
       "      <td>46</td>\n",
       "      <td>Tsumura Ryota</td>\n",
       "      <td>Japan</td>\n",
       "      <td>NHK Trophy</td>\n",
       "      <td>83.532</td>\n",
       "    </tr>\n",
       "    <tr>\n",
       "      <th>46</th>\n",
       "      <td>46</td>\n",
       "      <td>Yunoki Kentaro</td>\n",
       "      <td>Japan</td>\n",
       "      <td>All-Japan Senior Championships</td>\n",
       "      <td>83.532</td>\n",
       "    </tr>\n",
       "  </tbody>\n",
       "</table>\n",
       "</div>"
      ],
      "text/plain": [
       "    Rank            Athlete Nation                            Meet   Score\n",
       "1      2    Hashimoto Daiki  Japan           Summer Universiade QF  88.698\n",
       "2      3    Kitazono Takeru  Japan                  Asian Games AA  87.032\n",
       "3      4        Chiba Kenta  Japan                      NHK Trophy  86.565\n",
       "5      6        Miwa Teppei  Japan      All-Japan Championships QF  86.132\n",
       "6      7     Oka Shinnosuke  Japan          Asian Championships AA  86.065\n",
       "10    11     Sugino Takaaki  Japan  All-Japan Senior Championships  85.733\n",
       "11    12        Kaya Kazuma  Japan          World Championships QF  85.598\n",
       "13    14     Matsumi Kazuki  Japan  All-Japan Senior Championships  85.398\n",
       "19    20    Tanigawa Kakeru  Japan      All-Japan Championships AA  84.830\n",
       "21    22    Tanigawa Wataru  Japan      All-Japan Championships QF  84.698\n",
       "22    23  Hasegawa Tsuyoshi  Japan  All-Japan Senior Championships  84.665\n",
       "24    25    Kawakami Shohei  Japan                      NHK Trophy  84.632\n",
       "31    32     Sugimoto Kaito  Japan      All-Japan Championships AA  84.198\n",
       "34    35      Tanaka Yusuke  Japan                      NHK Trophy  84.031\n",
       "35    36         Maeda Koki  Japan      All-Japan Championships QF  83.999\n",
       "37    38    Kitamura Fumiya  Japan  All-Japan Senior Championships  83.898\n",
       "39    40         Ueda Naoki  Japan  All-Japan Senior Championships  83.765\n",
       "45    46      Tsumura Ryota  Japan                      NHK Trophy  83.532\n",
       "46    46     Yunoki Kentaro  Japan  All-Japan Senior Championships  83.532"
      ]
     },
     "execution_count": 53,
     "metadata": {},
     "output_type": "execute_result"
    }
   ],
   "source": [
    "jpn"
   ]
  },
  {
   "cell_type": "code",
   "execution_count": 54,
   "id": "c6446fa9",
   "metadata": {},
   "outputs": [
    {
     "data": {
      "text/plain": [
       "262.29499999999996"
      ]
     },
     "execution_count": 54,
     "metadata": {},
     "output_type": "execute_result"
    }
   ],
   "source": [
    "88.698+87.032+ \t86.565"
   ]
  },
  {
   "cell_type": "code",
   "execution_count": 55,
   "id": "51077f68",
   "metadata": {},
   "outputs": [],
   "source": [
    "df = pd.read_csv('../../../Combine_Data/men/iaa2024.csv')\n",
    "dt = pd.read_csv('../../../scraping/men/men23top/iaa.csv')\n"
   ]
  },
  {
   "cell_type": "code",
   "execution_count": 56,
   "id": "2f285776",
   "metadata": {},
   "outputs": [
    {
     "data": {
      "text/html": [
       "<div>\n",
       "<style scoped>\n",
       "    .dataframe tbody tr th:only-of-type {\n",
       "        vertical-align: middle;\n",
       "    }\n",
       "\n",
       "    .dataframe tbody tr th {\n",
       "        vertical-align: top;\n",
       "    }\n",
       "\n",
       "    .dataframe thead th {\n",
       "        text-align: right;\n",
       "    }\n",
       "</style>\n",
       "<table border=\"1\" class=\"dataframe\">\n",
       "  <thead>\n",
       "    <tr style=\"text-align: right;\">\n",
       "      <th></th>\n",
       "      <th>Rank</th>\n",
       "      <th>Athlete</th>\n",
       "      <th>FX</th>\n",
       "      <th>PH</th>\n",
       "      <th>SR</th>\n",
       "      <th>VT</th>\n",
       "      <th>PB</th>\n",
       "      <th>HB</th>\n",
       "      <th>AA</th>\n",
       "      <th>round</th>\n",
       "      <th>Nation</th>\n",
       "      <th>year</th>\n",
       "    </tr>\n",
       "  </thead>\n",
       "  <tbody>\n",
       "    <tr>\n",
       "      <th>0</th>\n",
       "      <td>1.0</td>\n",
       "      <td>hashimoto daiki</td>\n",
       "      <td>14.733</td>\n",
       "      <td>15.075</td>\n",
       "      <td>13.333</td>\n",
       "      <td>15.066</td>\n",
       "      <td>15.200</td>\n",
       "      <td>14.633</td>\n",
       "      <td>88.040</td>\n",
       "      <td>qual</td>\n",
       "      <td>Japan</td>\n",
       "      <td>2021</td>\n",
       "    </tr>\n",
       "    <tr>\n",
       "      <th>1</th>\n",
       "      <td>2.0</td>\n",
       "      <td>zhang boheng</td>\n",
       "      <td>14.133</td>\n",
       "      <td>14.666</td>\n",
       "      <td>14.866</td>\n",
       "      <td>14.766</td>\n",
       "      <td>15.300</td>\n",
       "      <td>14.166</td>\n",
       "      <td>87.897</td>\n",
       "      <td>qual</td>\n",
       "      <td>China</td>\n",
       "      <td>2021</td>\n",
       "    </tr>\n",
       "    <tr>\n",
       "      <th>2</th>\n",
       "      <td>3.0</td>\n",
       "      <td>adem asil</td>\n",
       "      <td>14.066</td>\n",
       "      <td>12.666</td>\n",
       "      <td>14.533</td>\n",
       "      <td>14.966</td>\n",
       "      <td>14.366</td>\n",
       "      <td>13.833</td>\n",
       "      <td>84.430</td>\n",
       "      <td>qual</td>\n",
       "      <td>Turkey</td>\n",
       "      <td>2021</td>\n",
       "    </tr>\n",
       "    <tr>\n",
       "      <th>3</th>\n",
       "      <td>4.0</td>\n",
       "      <td>shi cong</td>\n",
       "      <td>13.200</td>\n",
       "      <td>13.466</td>\n",
       "      <td>13.933</td>\n",
       "      <td>14.233</td>\n",
       "      <td>15.200</td>\n",
       "      <td>13.866</td>\n",
       "      <td>83.898</td>\n",
       "      <td>qual</td>\n",
       "      <td>China</td>\n",
       "      <td>2021</td>\n",
       "    </tr>\n",
       "    <tr>\n",
       "      <th>4</th>\n",
       "      <td>5.0</td>\n",
       "      <td>illia kovtun</td>\n",
       "      <td>14.333</td>\n",
       "      <td>13.766</td>\n",
       "      <td>12.500</td>\n",
       "      <td>14.066</td>\n",
       "      <td>14.700</td>\n",
       "      <td>14.200</td>\n",
       "      <td>83.565</td>\n",
       "      <td>qual</td>\n",
       "      <td>Ukraine</td>\n",
       "      <td>2021</td>\n",
       "    </tr>\n",
       "  </tbody>\n",
       "</table>\n",
       "</div>"
      ],
      "text/plain": [
       "   Rank          Athlete      FX      PH      SR      VT      PB      HB  \\\n",
       "0   1.0  hashimoto daiki  14.733  15.075  13.333  15.066  15.200  14.633   \n",
       "1   2.0     zhang boheng  14.133  14.666  14.866  14.766  15.300  14.166   \n",
       "2   3.0        adem asil  14.066  12.666  14.533  14.966  14.366  13.833   \n",
       "3   4.0         shi cong  13.200  13.466  13.933  14.233  15.200  13.866   \n",
       "4   5.0     illia kovtun  14.333  13.766  12.500  14.066  14.700  14.200   \n",
       "\n",
       "       AA round   Nation  year  \n",
       "0  88.040  qual    Japan  2021  \n",
       "1  87.897  qual    China  2021  \n",
       "2  84.430  qual   Turkey  2021  \n",
       "3  83.898  qual    China  2021  \n",
       "4  83.565  qual  Ukraine  2021  "
      ]
     },
     "execution_count": 56,
     "metadata": {},
     "output_type": "execute_result"
    }
   ],
   "source": [
    "df.head()"
   ]
  },
  {
   "cell_type": "code",
   "execution_count": 57,
   "id": "d34ce873",
   "metadata": {},
   "outputs": [
    {
     "data": {
      "text/html": [
       "<div>\n",
       "<style scoped>\n",
       "    .dataframe tbody tr th:only-of-type {\n",
       "        vertical-align: middle;\n",
       "    }\n",
       "\n",
       "    .dataframe tbody tr th {\n",
       "        vertical-align: top;\n",
       "    }\n",
       "\n",
       "    .dataframe thead th {\n",
       "        text-align: right;\n",
       "    }\n",
       "</style>\n",
       "<table border=\"1\" class=\"dataframe\">\n",
       "  <thead>\n",
       "    <tr style=\"text-align: right;\">\n",
       "      <th></th>\n",
       "      <th>Rank</th>\n",
       "      <th>Athlete</th>\n",
       "      <th>Nation</th>\n",
       "      <th>Meet</th>\n",
       "      <th>Score</th>\n",
       "    </tr>\n",
       "  </thead>\n",
       "  <tbody>\n",
       "    <tr>\n",
       "      <th>0</th>\n",
       "      <td>1</td>\n",
       "      <td>Zhang Boheng</td>\n",
       "      <td>China</td>\n",
       "      <td>Asian Games AA</td>\n",
       "      <td>89.299</td>\n",
       "    </tr>\n",
       "    <tr>\n",
       "      <th>1</th>\n",
       "      <td>2</td>\n",
       "      <td>Hashimoto Daiki</td>\n",
       "      <td>Japan</td>\n",
       "      <td>Summer Universiade QF</td>\n",
       "      <td>88.698</td>\n",
       "    </tr>\n",
       "    <tr>\n",
       "      <th>2</th>\n",
       "      <td>3</td>\n",
       "      <td>Kitazono Takeru</td>\n",
       "      <td>Japan</td>\n",
       "      <td>Asian Games AA</td>\n",
       "      <td>87.032</td>\n",
       "    </tr>\n",
       "    <tr>\n",
       "      <th>3</th>\n",
       "      <td>4</td>\n",
       "      <td>Chiba Kenta</td>\n",
       "      <td>Japan</td>\n",
       "      <td>NHK Trophy</td>\n",
       "      <td>86.565</td>\n",
       "    </tr>\n",
       "    <tr>\n",
       "      <th>4</th>\n",
       "      <td>5</td>\n",
       "      <td>Shi Cong</td>\n",
       "      <td>China</td>\n",
       "      <td>Summer Universiade AA</td>\n",
       "      <td>86.398</td>\n",
       "    </tr>\n",
       "  </tbody>\n",
       "</table>\n",
       "</div>"
      ],
      "text/plain": [
       "   Rank          Athlete Nation                   Meet   Score\n",
       "0     1     Zhang Boheng  China         Asian Games AA  89.299\n",
       "1     2  Hashimoto Daiki  Japan  Summer Universiade QF  88.698\n",
       "2     3  Kitazono Takeru  Japan         Asian Games AA  87.032\n",
       "3     4      Chiba Kenta  Japan             NHK Trophy  86.565\n",
       "4     5         Shi Cong  China  Summer Universiade AA  86.398"
      ]
     },
     "execution_count": 57,
     "metadata": {},
     "output_type": "execute_result"
    }
   ],
   "source": [
    "dt.head()"
   ]
  },
  {
   "cell_type": "code",
   "execution_count": 58,
   "id": "2a7078cc",
   "metadata": {},
   "outputs": [],
   "source": [
    "df=df.drop(columns=['Rank', 'FX', 'PH', 'SR', 'VT', 'PB', 'HB', 'round', 'year'])"
   ]
  },
  {
   "cell_type": "code",
   "execution_count": 59,
   "id": "6c90b025",
   "metadata": {},
   "outputs": [
    {
     "data": {
      "text/html": [
       "<div>\n",
       "<style scoped>\n",
       "    .dataframe tbody tr th:only-of-type {\n",
       "        vertical-align: middle;\n",
       "    }\n",
       "\n",
       "    .dataframe tbody tr th {\n",
       "        vertical-align: top;\n",
       "    }\n",
       "\n",
       "    .dataframe thead th {\n",
       "        text-align: right;\n",
       "    }\n",
       "</style>\n",
       "<table border=\"1\" class=\"dataframe\">\n",
       "  <thead>\n",
       "    <tr style=\"text-align: right;\">\n",
       "      <th></th>\n",
       "      <th>Athlete</th>\n",
       "      <th>AA</th>\n",
       "      <th>Nation</th>\n",
       "    </tr>\n",
       "  </thead>\n",
       "  <tbody>\n",
       "    <tr>\n",
       "      <th>0</th>\n",
       "      <td>hashimoto daiki</td>\n",
       "      <td>88.04</td>\n",
       "      <td>Japan</td>\n",
       "    </tr>\n",
       "  </tbody>\n",
       "</table>\n",
       "</div>"
      ],
      "text/plain": [
       "           Athlete     AA Nation\n",
       "0  hashimoto daiki  88.04  Japan"
      ]
     },
     "execution_count": 59,
     "metadata": {},
     "output_type": "execute_result"
    }
   ],
   "source": [
    "df.head(1)"
   ]
  },
  {
   "cell_type": "code",
   "execution_count": 60,
   "id": "878e4231",
   "metadata": {},
   "outputs": [],
   "source": [
    "dt=dt.drop(columns=['Rank', 'Meet'])"
   ]
  },
  {
   "cell_type": "code",
   "execution_count": 61,
   "id": "571b86ca",
   "metadata": {},
   "outputs": [
    {
     "data": {
      "text/html": [
       "<div>\n",
       "<style scoped>\n",
       "    .dataframe tbody tr th:only-of-type {\n",
       "        vertical-align: middle;\n",
       "    }\n",
       "\n",
       "    .dataframe tbody tr th {\n",
       "        vertical-align: top;\n",
       "    }\n",
       "\n",
       "    .dataframe thead th {\n",
       "        text-align: right;\n",
       "    }\n",
       "</style>\n",
       "<table border=\"1\" class=\"dataframe\">\n",
       "  <thead>\n",
       "    <tr style=\"text-align: right;\">\n",
       "      <th></th>\n",
       "      <th>Athlete</th>\n",
       "      <th>Nation</th>\n",
       "      <th>Score</th>\n",
       "    </tr>\n",
       "  </thead>\n",
       "  <tbody>\n",
       "    <tr>\n",
       "      <th>0</th>\n",
       "      <td>Zhang Boheng</td>\n",
       "      <td>China</td>\n",
       "      <td>89.299</td>\n",
       "    </tr>\n",
       "  </tbody>\n",
       "</table>\n",
       "</div>"
      ],
      "text/plain": [
       "        Athlete Nation   Score\n",
       "0  Zhang Boheng  China  89.299"
      ]
     },
     "execution_count": 61,
     "metadata": {},
     "output_type": "execute_result"
    }
   ],
   "source": [
    "dt.head(1)"
   ]
  },
  {
   "cell_type": "code",
   "execution_count": 62,
   "id": "72d8527e",
   "metadata": {},
   "outputs": [],
   "source": [
    "df=df[['Athlete', 'Nation', 'AA']]"
   ]
  },
  {
   "cell_type": "code",
   "execution_count": 63,
   "id": "05aa3427",
   "metadata": {},
   "outputs": [],
   "source": [
    "df.rename(columns={'AA': 'Score'}, inplace=True)"
   ]
  },
  {
   "cell_type": "code",
   "execution_count": 64,
   "id": "a808cba0",
   "metadata": {},
   "outputs": [
    {
     "name": "stdout",
     "output_type": "stream",
     "text": [
      "<class 'pandas.core.frame.DataFrame'>\n",
      "RangeIndex: 721 entries, 0 to 720\n",
      "Data columns (total 3 columns):\n",
      " #   Column   Non-Null Count  Dtype  \n",
      "---  ------   --------------  -----  \n",
      " 0   Athlete  721 non-null    object \n",
      " 1   Nation   721 non-null    object \n",
      " 2   Score    721 non-null    float64\n",
      "dtypes: float64(1), object(2)\n",
      "memory usage: 17.0+ KB\n"
     ]
    }
   ],
   "source": [
    "df.info()"
   ]
  },
  {
   "cell_type": "code",
   "execution_count": 65,
   "id": "0eea5ae4",
   "metadata": {},
   "outputs": [
    {
     "name": "stdout",
     "output_type": "stream",
     "text": [
      "<class 'pandas.core.frame.DataFrame'>\n",
      "RangeIndex: 50 entries, 0 to 49\n",
      "Data columns (total 3 columns):\n",
      " #   Column   Non-Null Count  Dtype  \n",
      "---  ------   --------------  -----  \n",
      " 0   Athlete  50 non-null     object \n",
      " 1   Nation   50 non-null     object \n",
      " 2   Score    50 non-null     float64\n",
      "dtypes: float64(1), object(2)\n",
      "memory usage: 1.3+ KB\n"
     ]
    }
   ],
   "source": [
    "dt.info()"
   ]
  },
  {
   "cell_type": "code",
   "execution_count": 66,
   "id": "bc7507e8",
   "metadata": {},
   "outputs": [],
   "source": [
    "combined_df = pd.concat([df, dt], ignore_index=True)"
   ]
  },
  {
   "cell_type": "code",
   "execution_count": 67,
   "id": "e0e09662",
   "metadata": {},
   "outputs": [],
   "source": [
    "df=combined_df.copy()"
   ]
  },
  {
   "cell_type": "code",
   "execution_count": 68,
   "id": "4f3454cd",
   "metadata": {},
   "outputs": [
    {
     "data": {
      "text/html": [
       "<div>\n",
       "<style scoped>\n",
       "    .dataframe tbody tr th:only-of-type {\n",
       "        vertical-align: middle;\n",
       "    }\n",
       "\n",
       "    .dataframe tbody tr th {\n",
       "        vertical-align: top;\n",
       "    }\n",
       "\n",
       "    .dataframe thead th {\n",
       "        text-align: right;\n",
       "    }\n",
       "</style>\n",
       "<table border=\"1\" class=\"dataframe\">\n",
       "  <thead>\n",
       "    <tr style=\"text-align: right;\">\n",
       "      <th></th>\n",
       "      <th>Athlete</th>\n",
       "      <th>Nation</th>\n",
       "      <th>Score</th>\n",
       "    </tr>\n",
       "  </thead>\n",
       "  <tbody>\n",
       "    <tr>\n",
       "      <th>0</th>\n",
       "      <td>hashimoto daiki</td>\n",
       "      <td>Japan</td>\n",
       "      <td>88.040</td>\n",
       "    </tr>\n",
       "    <tr>\n",
       "      <th>1</th>\n",
       "      <td>zhang boheng</td>\n",
       "      <td>China</td>\n",
       "      <td>87.897</td>\n",
       "    </tr>\n",
       "    <tr>\n",
       "      <th>2</th>\n",
       "      <td>adem asil</td>\n",
       "      <td>Turkey</td>\n",
       "      <td>84.430</td>\n",
       "    </tr>\n",
       "    <tr>\n",
       "      <th>3</th>\n",
       "      <td>shi cong</td>\n",
       "      <td>China</td>\n",
       "      <td>83.898</td>\n",
       "    </tr>\n",
       "    <tr>\n",
       "      <th>4</th>\n",
       "      <td>illia kovtun</td>\n",
       "      <td>Ukraine</td>\n",
       "      <td>83.565</td>\n",
       "    </tr>\n",
       "    <tr>\n",
       "      <th>...</th>\n",
       "      <td>...</td>\n",
       "      <td>...</td>\n",
       "      <td>...</td>\n",
       "    </tr>\n",
       "    <tr>\n",
       "      <th>766</th>\n",
       "      <td>Tsumura Ryota</td>\n",
       "      <td>Japan</td>\n",
       "      <td>83.532</td>\n",
       "    </tr>\n",
       "    <tr>\n",
       "      <th>767</th>\n",
       "      <td>Yunoki Kentaro</td>\n",
       "      <td>Japan</td>\n",
       "      <td>83.532</td>\n",
       "    </tr>\n",
       "    <tr>\n",
       "      <th>768</th>\n",
       "      <td>Lorenzo Bonicelli</td>\n",
       "      <td>Italy</td>\n",
       "      <td>83.500</td>\n",
       "    </tr>\n",
       "    <tr>\n",
       "      <th>769</th>\n",
       "      <td>Thierno Diallo</td>\n",
       "      <td>Spain</td>\n",
       "      <td>83.467</td>\n",
       "    </tr>\n",
       "    <tr>\n",
       "      <th>770</th>\n",
       "      <td>Lee Chih-Kai</td>\n",
       "      <td>Taiwan</td>\n",
       "      <td>83.299</td>\n",
       "    </tr>\n",
       "  </tbody>\n",
       "</table>\n",
       "<p>771 rows × 3 columns</p>\n",
       "</div>"
      ],
      "text/plain": [
       "               Athlete   Nation   Score\n",
       "0      hashimoto daiki    Japan  88.040\n",
       "1         zhang boheng    China  87.897\n",
       "2            adem asil   Turkey  84.430\n",
       "3             shi cong    China  83.898\n",
       "4         illia kovtun  Ukraine  83.565\n",
       "..                 ...      ...     ...\n",
       "766      Tsumura Ryota    Japan  83.532\n",
       "767     Yunoki Kentaro    Japan  83.532\n",
       "768  Lorenzo Bonicelli    Italy  83.500\n",
       "769     Thierno Diallo    Spain  83.467\n",
       "770       Lee Chih-Kai   Taiwan  83.299\n",
       "\n",
       "[771 rows x 3 columns]"
      ]
     },
     "execution_count": 68,
     "metadata": {},
     "output_type": "execute_result"
    }
   ],
   "source": [
    "df"
   ]
  },
  {
   "cell_type": "code",
   "execution_count": 69,
   "id": "01412128",
   "metadata": {},
   "outputs": [],
   "source": [
    "df['Nation'] = df['Nation'].replace(['United States', 'States', 'USA'], 'USA')\n",
    "df['Nation'] = df['Nation'].replace(['Great Britain', 'Britain'], 'UK')\n"
   ]
  },
  {
   "cell_type": "code",
   "execution_count": 70,
   "id": "30d1220a",
   "metadata": {},
   "outputs": [
    {
     "data": {
      "text/plain": [
       "array(['Japan', 'China', 'Turkey', 'Ukraine', 'Hungary', 'Cyprus',\n",
       "       'Spain', 'Lithuania', 'Canada', 'Belgium', 'USA', 'Switzerland',\n",
       "       'UK', 'Kazakhstan', 'Brazil', 'Norway', 'Colombia', 'Finland',\n",
       "       'Israel', 'Russia', 'Austria', 'Greece', 'India', 'Germany',\n",
       "       'Vietnam', 'Bulgaria', 'Iceland', 'Netherlands', 'Korea',\n",
       "       'Portugal', 'Ecuador', 'Sweden', 'Belarus', 'Republic', 'Taiwan',\n",
       "       'Latvia', 'Panama', 'Egypt', 'Thailand', 'Mexico', 'Philippines',\n",
       "       'Italy', 'Azerbaijan', 'Armenia', 'Syria', 'Croatia', 'Romania',\n",
       "       'Slovenia', 'Kong', 'Ireland', 'Arabia', 'Denmark', 'France',\n",
       "       'Uzbekistan', 'Argentina', 'Australia', 'Chile', 'Peru', 'Morocco',\n",
       "       'Rico', 'Zealand', 'Algeria', 'Jordan', 'Türkiye', 'Poland',\n",
       "       'Cuba', 'Serbia', 'Mongolia', 'Albania', 'Czechia', 'Luxembourg'],\n",
       "      dtype=object)"
      ]
     },
     "execution_count": 70,
     "metadata": {},
     "output_type": "execute_result"
    }
   ],
   "source": [
    "df['Nation'].unique()"
   ]
  },
  {
   "cell_type": "code",
   "execution_count": 71,
   "id": "2a7c70aa",
   "metadata": {},
   "outputs": [],
   "source": [
    "df['Athlete'] = df['Athlete'].str.lower()"
   ]
  },
  {
   "cell_type": "code",
   "execution_count": 72,
   "id": "5e9cf080",
   "metadata": {},
   "outputs": [],
   "source": [
    "df=df.sort_values(by='Score', ascending=False)"
   ]
  },
  {
   "cell_type": "code",
   "execution_count": 73,
   "id": "afa97146",
   "metadata": {},
   "outputs": [],
   "source": [
    "df = df.drop_duplicates(subset='Athlete')"
   ]
  },
  {
   "cell_type": "code",
   "execution_count": 74,
   "id": "96ce3971",
   "metadata": {},
   "outputs": [
    {
     "data": {
      "text/html": [
       "<div>\n",
       "<style scoped>\n",
       "    .dataframe tbody tr th:only-of-type {\n",
       "        vertical-align: middle;\n",
       "    }\n",
       "\n",
       "    .dataframe tbody tr th {\n",
       "        vertical-align: top;\n",
       "    }\n",
       "\n",
       "    .dataframe thead th {\n",
       "        text-align: right;\n",
       "    }\n",
       "</style>\n",
       "<table border=\"1\" class=\"dataframe\">\n",
       "  <thead>\n",
       "    <tr style=\"text-align: right;\">\n",
       "      <th></th>\n",
       "      <th>Athlete</th>\n",
       "      <th>Nation</th>\n",
       "      <th>Score</th>\n",
       "    </tr>\n",
       "  </thead>\n",
       "  <tbody>\n",
       "    <tr>\n",
       "      <th>721</th>\n",
       "      <td>zhang boheng</td>\n",
       "      <td>China</td>\n",
       "      <td>89.299</td>\n",
       "    </tr>\n",
       "    <tr>\n",
       "      <th>722</th>\n",
       "      <td>hashimoto daiki</td>\n",
       "      <td>Japan</td>\n",
       "      <td>88.698</td>\n",
       "    </tr>\n",
       "    <tr>\n",
       "      <th>723</th>\n",
       "      <td>kitazono takeru</td>\n",
       "      <td>Japan</td>\n",
       "      <td>87.032</td>\n",
       "    </tr>\n",
       "    <tr>\n",
       "      <th>724</th>\n",
       "      <td>chiba kenta</td>\n",
       "      <td>Japan</td>\n",
       "      <td>86.565</td>\n",
       "    </tr>\n",
       "    <tr>\n",
       "      <th>725</th>\n",
       "      <td>shi cong</td>\n",
       "      <td>China</td>\n",
       "      <td>86.398</td>\n",
       "    </tr>\n",
       "    <tr>\n",
       "      <th>...</th>\n",
       "      <td>...</td>\n",
       "      <td>...</td>\n",
       "      <td>...</td>\n",
       "    </tr>\n",
       "    <tr>\n",
       "      <th>180</th>\n",
       "      <td>bae garam south</td>\n",
       "      <td>Korea</td>\n",
       "      <td>11.900</td>\n",
       "    </tr>\n",
       "    <tr>\n",
       "      <th>653</th>\n",
       "      <td>ondrej kalny</td>\n",
       "      <td>Czechia</td>\n",
       "      <td>11.800</td>\n",
       "    </tr>\n",
       "    <tr>\n",
       "      <th>183</th>\n",
       "      <td>nasser al samiri saudi</td>\n",
       "      <td>Arabia</td>\n",
       "      <td>10.933</td>\n",
       "    </tr>\n",
       "    <tr>\n",
       "      <th>185</th>\n",
       "      <td>christoforos konstantinidis</td>\n",
       "      <td>Greece</td>\n",
       "      <td>10.566</td>\n",
       "    </tr>\n",
       "    <tr>\n",
       "      <th>186</th>\n",
       "      <td>marko jovicic</td>\n",
       "      <td>Croatia</td>\n",
       "      <td>10.100</td>\n",
       "    </tr>\n",
       "  </tbody>\n",
       "</table>\n",
       "<p>434 rows × 3 columns</p>\n",
       "</div>"
      ],
      "text/plain": [
       "                         Athlete   Nation   Score\n",
       "721                 zhang boheng    China  89.299\n",
       "722              hashimoto daiki    Japan  88.698\n",
       "723              kitazono takeru    Japan  87.032\n",
       "724                  chiba kenta    Japan  86.565\n",
       "725                     shi cong    China  86.398\n",
       "..                           ...      ...     ...\n",
       "180              bae garam south    Korea  11.900\n",
       "653                 ondrej kalny  Czechia  11.800\n",
       "183       nasser al samiri saudi   Arabia  10.933\n",
       "185  christoforos konstantinidis   Greece  10.566\n",
       "186                marko jovicic  Croatia  10.100\n",
       "\n",
       "[434 rows x 3 columns]"
      ]
     },
     "execution_count": 74,
     "metadata": {},
     "output_type": "execute_result"
    }
   ],
   "source": [
    "df"
   ]
  },
  {
   "cell_type": "code",
   "execution_count": 75,
   "id": "f2dd41e7",
   "metadata": {},
   "outputs": [],
   "source": [
    "usa = df[df['Nation']=='USA']\n",
    "uk = df[df['Nation']=='UK']\n",
    "chn = df[df['Nation']=='China']\n",
    "jpn = df[df['Nation']=='Japan']\n",
    "de = df[df['Nation']=='Germany']\n",
    "ch = df[df['Nation']=='Switzerland']\n"
   ]
  },
  {
   "cell_type": "code",
   "execution_count": 76,
   "id": "6a65b622",
   "metadata": {},
   "outputs": [
    {
     "data": {
      "text/html": [
       "<div>\n",
       "<style scoped>\n",
       "    .dataframe tbody tr th:only-of-type {\n",
       "        vertical-align: middle;\n",
       "    }\n",
       "\n",
       "    .dataframe tbody tr th {\n",
       "        vertical-align: top;\n",
       "    }\n",
       "\n",
       "    .dataframe thead th {\n",
       "        text-align: right;\n",
       "    }\n",
       "</style>\n",
       "<table border=\"1\" class=\"dataframe\">\n",
       "  <thead>\n",
       "    <tr style=\"text-align: right;\">\n",
       "      <th></th>\n",
       "      <th>Athlete</th>\n",
       "      <th>Nation</th>\n",
       "      <th>Score</th>\n",
       "    </tr>\n",
       "  </thead>\n",
       "  <tbody>\n",
       "    <tr>\n",
       "      <th>679</th>\n",
       "      <td>yul moldauer</td>\n",
       "      <td>USA</td>\n",
       "      <td>85.342</td>\n",
       "    </tr>\n",
       "    <tr>\n",
       "      <th>736</th>\n",
       "      <td>colt walker</td>\n",
       "      <td>USA</td>\n",
       "      <td>85.000</td>\n",
       "    </tr>\n",
       "    <tr>\n",
       "      <th>400</th>\n",
       "      <td>brody malone united</td>\n",
       "      <td>USA</td>\n",
       "      <td>84.931</td>\n",
       "    </tr>\n",
       "    <tr>\n",
       "      <th>744</th>\n",
       "      <td>fred richard</td>\n",
       "      <td>USA</td>\n",
       "      <td>84.650</td>\n",
       "    </tr>\n",
       "    <tr>\n",
       "      <th>747</th>\n",
       "      <td>asher hong</td>\n",
       "      <td>USA</td>\n",
       "      <td>84.400</td>\n",
       "    </tr>\n",
       "    <tr>\n",
       "      <th>...</th>\n",
       "      <td>...</td>\n",
       "      <td>...</td>\n",
       "      <td>...</td>\n",
       "    </tr>\n",
       "    <tr>\n",
       "      <th>716</th>\n",
       "      <td>ian skirkey</td>\n",
       "      <td>USA</td>\n",
       "      <td>14.972</td>\n",
       "    </tr>\n",
       "    <tr>\n",
       "      <th>718</th>\n",
       "      <td>brandon dang</td>\n",
       "      <td>USA</td>\n",
       "      <td>14.466</td>\n",
       "    </tr>\n",
       "    <tr>\n",
       "      <th>173</th>\n",
       "      <td>alexander diab united</td>\n",
       "      <td>USA</td>\n",
       "      <td>13.366</td>\n",
       "    </tr>\n",
       "    <tr>\n",
       "      <th>719</th>\n",
       "      <td>vahe petrosyan</td>\n",
       "      <td>USA</td>\n",
       "      <td>13.350</td>\n",
       "    </tr>\n",
       "    <tr>\n",
       "      <th>720</th>\n",
       "      <td>troy lipis</td>\n",
       "      <td>USA</td>\n",
       "      <td>12.711</td>\n",
       "    </tr>\n",
       "  </tbody>\n",
       "</table>\n",
       "<p>70 rows × 3 columns</p>\n",
       "</div>"
      ],
      "text/plain": [
       "                   Athlete Nation   Score\n",
       "679           yul moldauer    USA  85.342\n",
       "736            colt walker    USA  85.000\n",
       "400    brody malone united    USA  84.931\n",
       "744           fred richard    USA  84.650\n",
       "747             asher hong    USA  84.400\n",
       "..                     ...    ...     ...\n",
       "716            ian skirkey    USA  14.972\n",
       "718           brandon dang    USA  14.466\n",
       "173  alexander diab united    USA  13.366\n",
       "719         vahe petrosyan    USA  13.350\n",
       "720             troy lipis    USA  12.711\n",
       "\n",
       "[70 rows x 3 columns]"
      ]
     },
     "execution_count": 76,
     "metadata": {},
     "output_type": "execute_result"
    }
   ],
   "source": [
    "usa"
   ]
  },
  {
   "cell_type": "code",
   "execution_count": 77,
   "id": "b1441c4a",
   "metadata": {},
   "outputs": [
    {
     "data": {
      "text/plain": [
       "253.85"
      ]
     },
     "execution_count": 77,
     "metadata": {},
     "output_type": "execute_result"
    }
   ],
   "source": [
    "# yul moldauer 84.800\n",
    "# fred richard 84.650\n",
    "# asher hong 84.400\n",
    "\n",
    "84.800+84.650+84.400"
   ]
  },
  {
   "cell_type": "code",
   "execution_count": 78,
   "id": "e294f855",
   "metadata": {},
   "outputs": [],
   "source": [
    "# gb = pd.read_csv('uk.csv')\n",
    "# chn = pd.read_csv('china.csv')\n",
    "# jpn = pd.read_csv('japan.csv')\n",
    "# de = pd.read_csv('de.csv')\n",
    "# ch = pd.read_csv('ch.csv')\n",
    "# usa = pd.read_csv('usa.csv')\n"
   ]
  },
  {
   "cell_type": "code",
   "execution_count": 79,
   "id": "9bd05ef1",
   "metadata": {},
   "outputs": [],
   "source": [
    "usa=usa.sort_values(by='Score', ascending=False)\n",
    "uk=uk.sort_values(by='Score', ascending=False)\n",
    "chn=chn.sort_values(by='Score', ascending=False)\n",
    "jpn=jpn.sort_values(by='Score', ascending=False)\n",
    "de=de.sort_values(by='Score', ascending=False)\n",
    "ch=ch.sort_values(by='Score', ascending=False)\n"
   ]
  },
  {
   "cell_type": "code",
   "execution_count": 80,
   "id": "40ec34b8",
   "metadata": {},
   "outputs": [],
   "source": [
    "usa=usa.head(3)\n",
    "uk=uk.head(3)\n",
    "chn=chn.head(3)\n",
    "jpn=jpn.head(3)\n",
    "de=de.head(3)\n",
    "ch=ch.head(3)\n"
   ]
  },
  {
   "cell_type": "code",
   "execution_count": 81,
   "id": "53c18bc1",
   "metadata": {},
   "outputs": [],
   "source": [
    "usa_score = usa['Score'].sum()\n",
    "uk_score = uk['Score'].sum()\n",
    "chn_score = chn['Score'].sum()\n",
    "jpn_score = jpn['Score'].sum()\n",
    "de_score = de['Score'].sum()\n",
    "ch_score = ch['Score'].sum()\n"
   ]
  },
  {
   "cell_type": "code",
   "execution_count": 82,
   "id": "80073b04",
   "metadata": {},
   "outputs": [
    {
     "data": {
      "text/plain": [
       "255.27299999999997"
      ]
     },
     "execution_count": 82,
     "metadata": {},
     "output_type": "execute_result"
    }
   ],
   "source": [
    "usa_score"
   ]
  },
  {
   "cell_type": "code",
   "execution_count": 83,
   "id": "355deae3",
   "metadata": {},
   "outputs": [
    {
     "name": "stdout",
     "output_type": "stream",
     "text": [
      "255.27299999999997\n",
      "261.76099999999997\n",
      "262.29499999999996\n",
      "252.095\n",
      "240.661\n",
      "249.055\n"
     ]
    }
   ],
   "source": [
    "print(usa_score)\n",
    "print(chn_score)\n",
    "print(jpn_score)\n",
    "print(uk_score)\n",
    "print(de_score)\n",
    "print(ch_score)\n",
    "\n"
   ]
  },
  {
   "cell_type": "code",
   "execution_count": 84,
   "id": "be3fd9ae",
   "metadata": {},
   "outputs": [],
   "source": [
    "data = {'Nation': ['USA-walker', 'USA-Phillips', 'CHN', 'JPN', 'UK'],\n",
    "        'Score': [254.45,253.85, 261.76, 262.295, 248.929]}\n",
    "\n",
    "# Creating the DataFrame\n",
    "df = pd.DataFrame(data)\n"
   ]
  },
  {
   "cell_type": "code",
   "execution_count": 85,
   "id": "51eebf36",
   "metadata": {},
   "outputs": [],
   "source": [
    "df=df.sort_values(by='Score', ascending=False)"
   ]
  },
  {
   "cell_type": "code",
   "execution_count": 88,
   "id": "64032988",
   "metadata": {},
   "outputs": [
    {
     "data": {
      "image/png": "[encoded data removed]",
      "text/plain": [
       "<Figure size 800x600 with 1 Axes>"
      ]
     },
     "metadata": {},
     "output_type": "display_data"
    }
   ],
   "source": [
    "import pandas as pd\n",
    "import matplotlib.pyplot as plt\n",
    "\n",
    "\n",
    "\n",
    "# Plotting the bar chart\n",
    "plt.figure(figsize=(8, 6))\n",
    "plt.bar(df['Nation'], df['Score'], color='lightblue')\n",
    "plt.xlabel('Nation')\n",
    "plt.ylabel('Score')\n",
    "plt.title('Men\\'s Top 3 IAA Scores by Nation')\n",
    "plt.ylim(245,264)  # Set the y-axis limits\n",
    "plt.show()\n"
   ]
  },
  {
   "cell_type": "code",
   "execution_count": null,
   "id": "8afb2fe7",
   "metadata": {},
   "outputs": [],
   "source": []
  }
 ],
 "metadata": {
  "kernelspec": {
   "display_name": "Python 3 (ipykernel)",
   "language": "python",
   "name": "python3"
  },
  "language_info": {
   "codemirror_mode": {
    "name": "ipython",
    "version": 3
   },
   "file_extension": ".py",
   "mimetype": "text/x-python",
   "name": "python",
   "nbconvert_exporter": "python",
   "pygments_lexer": "ipython3",
   "version": "3.8.18"
  }
 },
 "nbformat": 4,
 "nbformat_minor": 5
}
