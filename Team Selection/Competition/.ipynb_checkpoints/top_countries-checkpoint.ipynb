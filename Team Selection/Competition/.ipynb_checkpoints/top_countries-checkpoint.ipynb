{
 "cells": [
  {
   "cell_type": "code",
   "execution_count": 2,
   "id": "a503531f",
   "metadata": {},
   "outputs": [],
   "source": [
    "import pandas as pd\n",
    "import numpy as np"
   ]
  },
  {
   "cell_type": "code",
   "execution_count": 3,
   "id": "2e2b8431",
   "metadata": {},
   "outputs": [],
   "source": [
    "gb = pd.read_csv('great_britain.csv')\n",
    "\n",
    "fra= pd.read_csv('france.csv')\n",
    "\n",
    "chn = pd.read_csv('china.csv')\n",
    "\n",
    "can = pd.read_csv('canada.csv')\n",
    "\n",
    "bra= pd.read_csv('brazil.csv')\n"
   ]
  },
  {
   "cell_type": "code",
   "execution_count": 4,
   "id": "bfcb9db9",
   "metadata": {},
   "outputs": [],
   "source": [
    "gb_sorted = gb.sort_values(by='Score', ascending=False)\n",
    "fra_sorted = fra.sort_values(by='Score', ascending=False)\n",
    "chn_sorted = chn.sort_values(by='Score', ascending=False)\n",
    "can_sorted = can.sort_values(by='Score', ascending=False)\n",
    "bra_sorted = bra.sort_values(by='Score', ascending=False)\n"
   ]
  },
  {
   "cell_type": "code",
   "execution_count": 5,
   "id": "5f969ceb",
   "metadata": {},
   "outputs": [],
   "source": [
    "top_row_gb = gb.head(1)\n",
    "top_row_fra = fra.head(1)\n",
    "top_row_chn = chn.head(1)\n",
    "top_row_can = can.head(1)\n",
    "top_row_bra = bra.head(1)\n",
    "\n",
    "# Create a new DataFrame with selected columns from the top rows\n",
    "df = pd.DataFrame({\n",
    "    'Country': ['Great Britain', 'France', 'China', 'Canada', 'Brazil'],\n",
    "    'Algorithm': [top_row_gb['Algorithm'].values[0], top_row_fra['Algorithm'].values[0], top_row_chn['Algorithm'].values[0], top_row_can['Algorithm'].values[0], top_row_bra['Algorithm'].values[0]],\n",
    "    'Athletes': [top_row_gb['Athletes'].values[0], top_row_fra['Athletes'].values[0], top_row_chn['Athletes'].values[0], top_row_can['Athletes'].values[0], top_row_bra['Athletes'].values[0]],\n",
    "    'Score': [top_row_gb['Score'].values[0], top_row_fra['Score'].values[0], top_row_chn['Score'].values[0], top_row_can['Score'].values[0], top_row_bra['Score'].values[0]],\n",
    "})\n"
   ]
  },
  {
   "cell_type": "code",
   "execution_count": 6,
   "id": "47b0bb50",
   "metadata": {},
   "outputs": [
    {
     "data": {
      "text/html": [
       "<div>\n",
       "<style scoped>\n",
       "    .dataframe tbody tr th:only-of-type {\n",
       "        vertical-align: middle;\n",
       "    }\n",
       "\n",
       "    .dataframe tbody tr th {\n",
       "        vertical-align: top;\n",
       "    }\n",
       "\n",
       "    .dataframe thead th {\n",
       "        text-align: right;\n",
       "    }\n",
       "</style>\n",
       "<table border=\"1\" class=\"dataframe\">\n",
       "  <thead>\n",
       "    <tr style=\"text-align: right;\">\n",
       "      <th></th>\n",
       "      <th>Country</th>\n",
       "      <th>Algorithm</th>\n",
       "      <th>Athletes</th>\n",
       "      <th>Score</th>\n",
       "    </tr>\n",
       "  </thead>\n",
       "  <tbody>\n",
       "    <tr>\n",
       "      <th>0</th>\n",
       "      <td>Great Britain</td>\n",
       "      <td>VNS</td>\n",
       "      <td>['ondine achampong', 'alice kinsella', 'jessic...</td>\n",
       "      <td>167.763</td>\n",
       "    </tr>\n",
       "    <tr>\n",
       "      <th>1</th>\n",
       "      <td>France</td>\n",
       "      <td>vns</td>\n",
       "      <td>['aline friess', 'mélanie de jesus dos santos'...</td>\n",
       "      <td>164.763</td>\n",
       "    </tr>\n",
       "    <tr>\n",
       "      <th>2</th>\n",
       "      <td>China</td>\n",
       "      <td>vns</td>\n",
       "      <td>['ou yushan', 'qiu qiyuan', 'tang xijing', 'zh...</td>\n",
       "      <td>166.965</td>\n",
       "    </tr>\n",
       "    <tr>\n",
       "      <th>3</th>\n",
       "      <td>Canada</td>\n",
       "      <td>VNS</td>\n",
       "      <td>['ava stewart', 'ellie black', 'laurie denommé...</td>\n",
       "      <td>159.562</td>\n",
       "    </tr>\n",
       "    <tr>\n",
       "      <th>4</th>\n",
       "      <td>Brazil</td>\n",
       "      <td>vns</td>\n",
       "      <td>['rebeca andrade', 'julia soares', 'flavia sar...</td>\n",
       "      <td>164.995</td>\n",
       "    </tr>\n",
       "  </tbody>\n",
       "</table>\n",
       "</div>"
      ],
      "text/plain": [
       "         Country Algorithm                                           Athletes  \\\n",
       "0  Great Britain       VNS  ['ondine achampong', 'alice kinsella', 'jessic...   \n",
       "1         France       vns  ['aline friess', 'mélanie de jesus dos santos'...   \n",
       "2          China       vns  ['ou yushan', 'qiu qiyuan', 'tang xijing', 'zh...   \n",
       "3         Canada       VNS  ['ava stewart', 'ellie black', 'laurie denommé...   \n",
       "4         Brazil       vns  ['rebeca andrade', 'julia soares', 'flavia sar...   \n",
       "\n",
       "     Score  \n",
       "0  167.763  \n",
       "1  164.763  \n",
       "2  166.965  \n",
       "3  159.562  \n",
       "4  164.995  "
      ]
     },
     "execution_count": 6,
     "metadata": {},
     "output_type": "execute_result"
    }
   ],
   "source": [
    "df"
   ]
  },
  {
   "cell_type": "code",
   "execution_count": 7,
   "id": "3f318984",
   "metadata": {},
   "outputs": [],
   "source": [
    "# df.to_csv('top_countries.csv', index=False)"
   ]
  },
  {
   "cell_type": "code",
   "execution_count": 8,
   "id": "23a0f11e",
   "metadata": {},
   "outputs": [],
   "source": [
    "df=df.drop(columns=['Algorithm', 'Athletes'])"
   ]
  },
  {
   "cell_type": "code",
   "execution_count": 9,
   "id": "df085313",
   "metadata": {},
   "outputs": [],
   "source": [
    "new_row = {'Country': 'USA', 'Score': 171.4707499}\n",
    "df = pd.concat([df, pd.DataFrame([new_row])], ignore_index=True)"
   ]
  },
  {
   "cell_type": "code",
   "execution_count": 10,
   "id": "c7a45f5c",
   "metadata": {
    "scrolled": true
   },
   "outputs": [
    {
     "data": {
      "text/html": [
       "<div>\n",
       "<style scoped>\n",
       "    .dataframe tbody tr th:only-of-type {\n",
       "        vertical-align: middle;\n",
       "    }\n",
       "\n",
       "    .dataframe tbody tr th {\n",
       "        vertical-align: top;\n",
       "    }\n",
       "\n",
       "    .dataframe thead th {\n",
       "        text-align: right;\n",
       "    }\n",
       "</style>\n",
       "<table border=\"1\" class=\"dataframe\">\n",
       "  <thead>\n",
       "    <tr style=\"text-align: right;\">\n",
       "      <th></th>\n",
       "      <th>Country</th>\n",
       "      <th>Score</th>\n",
       "    </tr>\n",
       "  </thead>\n",
       "  <tbody>\n",
       "    <tr>\n",
       "      <th>0</th>\n",
       "      <td>Great Britain</td>\n",
       "      <td>167.76300</td>\n",
       "    </tr>\n",
       "    <tr>\n",
       "      <th>1</th>\n",
       "      <td>France</td>\n",
       "      <td>164.76300</td>\n",
       "    </tr>\n",
       "    <tr>\n",
       "      <th>2</th>\n",
       "      <td>China</td>\n",
       "      <td>166.96500</td>\n",
       "    </tr>\n",
       "    <tr>\n",
       "      <th>3</th>\n",
       "      <td>Canada</td>\n",
       "      <td>159.56200</td>\n",
       "    </tr>\n",
       "    <tr>\n",
       "      <th>4</th>\n",
       "      <td>Brazil</td>\n",
       "      <td>164.99500</td>\n",
       "    </tr>\n",
       "    <tr>\n",
       "      <th>5</th>\n",
       "      <td>USA</td>\n",
       "      <td>171.47075</td>\n",
       "    </tr>\n",
       "  </tbody>\n",
       "</table>\n",
       "</div>"
      ],
      "text/plain": [
       "         Country      Score\n",
       "0  Great Britain  167.76300\n",
       "1         France  164.76300\n",
       "2          China  166.96500\n",
       "3         Canada  159.56200\n",
       "4         Brazil  164.99500\n",
       "5            USA  171.47075"
      ]
     },
     "execution_count": 10,
     "metadata": {},
     "output_type": "execute_result"
    }
   ],
   "source": [
    "df"
   ]
  },
  {
   "cell_type": "markdown",
   "id": "fc85fa90",
   "metadata": {},
   "source": [
    "uk: 166.4959999\n",
    "fr: 160.963\n",
    "chn: 164.431\n",
    "bra: 163.863\n",
    "usa:169.963"
   ]
  },
  {
   "cell_type": "code",
   "execution_count": 11,
   "id": "54180a08",
   "metadata": {},
   "outputs": [
    {
     "data": {
      "image/png": "[encoded data removed]",
      "text/plain": [
       "<Figure size 1000x600 with 1 Axes>"
      ]
     },
     "metadata": {},
     "output_type": "display_data"
    }
   ],
   "source": [
    "import matplotlib.pyplot as plt\n",
    "\n",
    "# Plotting a bar chart\n",
    "plt.figure(figsize=(10, 6))\n",
    "plt.bar(df['Country'], df['Score'], color='skyblue')\n",
    "plt.title('Qualifying Scores by Country')\n",
    "plt.xlabel('Country')\n",
    "plt.ylabel('Score')\n",
    "plt.xticks(rotation=45, ha='right')  # Rotate x-axis labels for better readability\n",
    "plt.tight_layout()\n",
    "plt.ylim(158, 172)  # Set y-axis limits\n",
    "\n",
    "\n",
    "# Display the plot\n",
    "plt.show()"
   ]
  },
  {
   "cell_type": "code",
   "execution_count": 12,
   "id": "f09e3186",
   "metadata": {},
   "outputs": [],
   "source": [
    "data = {\n",
    "    'Country': ['UK', 'France', 'China', 'Brazil', 'USA'],\n",
    "    'Score': [166.496, 160.963, 164.431, 163.863, 169.963]\n",
    "}\n",
    "\n",
    "ddf = pd.DataFrame(data)"
   ]
  },
  {
   "cell_type": "code",
   "execution_count": 13,
   "id": "accecb4f",
   "metadata": {},
   "outputs": [],
   "source": [
    "ddf=ddf.sort_values(by=\"Score\", ascending=False)"
   ]
  },
  {
   "cell_type": "code",
   "execution_count": 14,
   "id": "aeaa6770",
   "metadata": {},
   "outputs": [
    {
     "data": {
      "image/png": "[encoded data removed]",
      "text/plain": [
       "<Figure size 1000x600 with 1 Axes>"
      ]
     },
     "metadata": {},
     "output_type": "display_data"
    }
   ],
   "source": [
    "import matplotlib.pyplot as plt\n",
    "\n",
    "df=ddf.copy()\n",
    "\n",
    "plt.figure(figsize=(10, 6))\n",
    "plt.bar(df['Country'], df['Score'], color='lightblue')\n",
    "plt.title('Womens Finals Scores by Country')\n",
    "plt.xlabel('Country')\n",
    "plt.ylabel('Score')\n",
    "plt.ylim(157, 171)  # Set y-axis limits\n",
    "\n",
    "plt.show()"
   ]
  },
  {
   "cell_type": "code",
   "execution_count": null,
   "id": "5e54b905",
   "metadata": {},
   "outputs": [],
   "source": []
  },
  {
   "cell_type": "code",
   "execution_count": null,
   "id": "28f03d6e",
   "metadata": {},
   "outputs": [],
   "source": []
  },
  {
   "cell_type": "code",
   "execution_count": null,
   "id": "b79c811d",
   "metadata": {},
   "outputs": [],
   "source": []
  },
  {
   "cell_type": "code",
   "execution_count": null,
   "id": "997b911d",
   "metadata": {},
   "outputs": [],
   "source": []
  },
  {
   "cell_type": "code",
   "execution_count": null,
   "id": "a99bb52e",
   "metadata": {},
   "outputs": [],
   "source": []
  },
  {
   "cell_type": "code",
   "execution_count": null,
   "id": "c6ff4c13",
   "metadata": {},
   "outputs": [],
   "source": []
  },
  {
   "cell_type": "code",
   "execution_count": null,
   "id": "fd2f16e4",
   "metadata": {},
   "outputs": [],
   "source": []
  }
 ],
 "metadata": {
  "kernelspec": {
   "display_name": "Python 3 (ipykernel)",
   "language": "python",
   "name": "python3"
  },
  "language_info": {
   "codemirror_mode": {
    "name": "ipython",
    "version": 3
   },
   "file_extension": ".py",
   "mimetype": "text/x-python",
   "name": "python",
   "nbconvert_exporter": "python",
   "pygments_lexer": "ipython3",
   "version": "3.8.18"
  }
 },
 "nbformat": 4,
 "nbformat_minor": 5
}
