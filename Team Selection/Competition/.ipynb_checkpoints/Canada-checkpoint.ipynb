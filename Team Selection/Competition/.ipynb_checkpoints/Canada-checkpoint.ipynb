{
 "cells": [
  {
   "cell_type": "markdown",
   "id": "67898b5c",
   "metadata": {},
   "source": [
    "# Top 3: ?"
   ]
  },
  {
   "cell_type": "markdown",
   "id": "1e6e6c9e",
   "metadata": {},
   "source": [
    "VNS\n",
    " Athletes:\n",
    "['ava stewart' 'ellie black' 'laurie denommée' 'sydney turner']\n",
    "Total Score:\n",
    "159.562\n",
    "\n",
    "\n",
    "Hyper-Heuristics\n",
    "Athletes: ['ellie black' 'laurie denommée' 'ava stewart' 'aurélie tran']\n",
    "Best Score: 145.53\n",
    "\n",
    "\n",
    "TAbu Search\n",
    " Athletes:\n",
    "['ellie black' 'sydney turner' 'denelle pedrick' 'emma spence']\n",
    "Total Score:\n",
    "160.197\n",
    "\n",
    "Brute force\n",
    " Athletes:\n",
    "['aurélie tran', 'ava stewart', 'ellie black', 'laurie denommée']\n",
    "Maximum Score:\n",
    "145.53"
   ]
  },
  {
   "cell_type": "code",
   "execution_count": 3,
   "id": "7d968e2e",
   "metadata": {},
   "outputs": [],
   "source": [
    "import pandas as pd\n",
    "import numpy as np"
   ]
  },
  {
   "cell_type": "code",
   "execution_count": 4,
   "id": "2ff3a5c8",
   "metadata": {},
   "outputs": [],
   "source": [
    "df = pd.read_csv('../../Combine_Data/women/iaa2024.csv')\n"
   ]
  },
  {
   "cell_type": "code",
   "execution_count": 5,
   "id": "c81c3e5f",
   "metadata": {},
   "outputs": [],
   "source": [
    "names=['ellie black',\n",
    "'laurie denommée',\n",
    "'jessica dowling',\n",
    "'rébéka groulx',\n",
    "'amy jorgensen',\n",
    "'jenna lalonde',\n",
    "'cassie lee',\n",
    "'sophie marois',\n",
    "'shallon olsen',\n",
    "'denelle pedrick',\n",
    "'clara raposo',\n",
    "'audrey rousseau',\n",
    "'ava sorrento',\n",
    "'emma spence',\n",
    "'ava stewart',\n",
    "'jenna timmons',\n",
    "'aurélie tran',\n",
    "'sydney turner',\n",
    "'rose-kaying woo']\n"
   ]
  },
  {
   "cell_type": "code",
   "execution_count": 6,
   "id": "ba361e7c",
   "metadata": {},
   "outputs": [],
   "source": [
    "filtered_df = df[df['Athlete'].str.lower().isin(names)]\n"
   ]
  },
  {
   "cell_type": "code",
   "execution_count": 7,
   "id": "8f69e9fe",
   "metadata": {},
   "outputs": [
    {
     "name": "stdout",
     "output_type": "stream",
     "text": [
      "<class 'pandas.core.frame.DataFrame'>\n",
      "Index: 15 entries, 10 to 779\n",
      "Data columns (total 10 columns):\n",
      " #   Column   Non-Null Count  Dtype  \n",
      "---  ------   --------------  -----  \n",
      " 0   Rank     15 non-null     int64  \n",
      " 1   Athlete  15 non-null     object \n",
      " 2   Nation   15 non-null     object \n",
      " 3   VT       15 non-null     float64\n",
      " 4   UB       15 non-null     float64\n",
      " 5   BB       15 non-null     float64\n",
      " 6   FX       15 non-null     float64\n",
      " 7   AA       15 non-null     float64\n",
      " 8   round    15 non-null     object \n",
      " 9   year     15 non-null     int64  \n",
      "dtypes: float64(5), int64(2), object(3)\n",
      "memory usage: 1.3+ KB\n"
     ]
    }
   ],
   "source": [
    "filtered_df.info()"
   ]
  },
  {
   "cell_type": "code",
   "execution_count": 8,
   "id": "b579b7b8",
   "metadata": {},
   "outputs": [],
   "source": [
    "can=df[df['Nation']=='CAN']\n"
   ]
  },
  {
   "cell_type": "code",
   "execution_count": 9,
   "id": "79edcf8b",
   "metadata": {},
   "outputs": [
    {
     "name": "stdout",
     "output_type": "stream",
     "text": [
      "<class 'pandas.core.frame.DataFrame'>\n",
      "Index: 16 entries, 10 to 779\n",
      "Data columns (total 10 columns):\n",
      " #   Column   Non-Null Count  Dtype  \n",
      "---  ------   --------------  -----  \n",
      " 0   Rank     16 non-null     int64  \n",
      " 1   Athlete  16 non-null     object \n",
      " 2   Nation   16 non-null     object \n",
      " 3   VT       16 non-null     float64\n",
      " 4   UB       16 non-null     float64\n",
      " 5   BB       16 non-null     float64\n",
      " 6   FX       16 non-null     float64\n",
      " 7   AA       16 non-null     float64\n",
      " 8   round    16 non-null     object \n",
      " 9   year     16 non-null     int64  \n",
      "dtypes: float64(5), int64(2), object(3)\n",
      "memory usage: 1.4+ KB\n"
     ]
    }
   ],
   "source": [
    "can.info()"
   ]
  },
  {
   "cell_type": "code",
   "execution_count": 10,
   "id": "21f8b328",
   "metadata": {},
   "outputs": [],
   "source": [
    "df=can.copy()"
   ]
  },
  {
   "cell_type": "code",
   "execution_count": 17,
   "id": "2a5e2e33",
   "metadata": {},
   "outputs": [
    {
     "data": {
      "text/plain": [
       "0"
      ]
     },
     "execution_count": 17,
     "metadata": {},
     "output_type": "execute_result"
    }
   ],
   "source": [
    "df.duplicated().sum()"
   ]
  },
  {
   "cell_type": "code",
   "execution_count": 20,
   "id": "72ecf73a",
   "metadata": {},
   "outputs": [],
   "source": [
    "df=df.drop(columns=['Rank', 'Nation', 'AA', 'round', 'year'])"
   ]
  },
  {
   "cell_type": "code",
   "execution_count": 21,
   "id": "6b5a4570",
   "metadata": {},
   "outputs": [],
   "source": [
    "# Group by 'Athlete' and get the index of the maximum score for each apparatus\n",
    "idx_max = df.groupby('Athlete').idxmax()\n",
    "\n",
    "# Create a new DataFrame with the highest scores for each athlete\n",
    "df_max_scores = pd.DataFrame({\n",
    "    'Athlete': df.loc[idx_max['VT'], 'Athlete'].values,\n",
    "    'VT': df.loc[idx_max['VT'], 'VT'].values,\n",
    "    'UB': df.loc[idx_max['UB'], 'UB'].values,\n",
    "    'BB': df.loc[idx_max['BB'], 'BB'].values,\n",
    "    'FX': df.loc[idx_max['FX'], 'FX'].values\n",
    "})\n"
   ]
  },
  {
   "cell_type": "code",
   "execution_count": 23,
   "id": "2314b525",
   "metadata": {},
   "outputs": [],
   "source": [
    "df = df_max_scores.copy()"
   ]
  },
  {
   "cell_type": "markdown",
   "id": "7eae75b5",
   "metadata": {},
   "source": [
    "Variable Neighborhood Search (VNS):"
   ]
  },
  {
   "cell_type": "code",
   "execution_count": 24,
   "id": "1eaec901",
   "metadata": {},
   "outputs": [
    {
     "name": "stdout",
     "output_type": "stream",
     "text": [
      "Selected Athletes:\n",
      "['ava stewart' 'ellie black' 'laurie denommée' 'sydney turner']\n",
      "Total Score:\n",
      "159.562\n"
     ]
    }
   ],
   "source": [
    "import pandas as pd\n",
    "import numpy as np\n",
    "\n",
    "\n",
    "# Define the number of athletes to select\n",
    "num_athletes_to_select = 4\n",
    "\n",
    "# Define the apparatuses\n",
    "apparatuses = ['FX', 'UB', 'BB', 'VT']\n",
    "\n",
    "# Define the neighborhood size\n",
    "neighborhood_size = 2  # Adjust as needed\n",
    "\n",
    "# Initialize the solution randomly\n",
    "selected_athletes = np.random.choice(df['Athlete'], num_athletes_to_select, replace=False)\n",
    "\n",
    "# Define a function to calculate the total score for a given solution\n",
    "def calculate_total_score(selected_athletes):\n",
    "    selected_scores = df[df['Athlete'].isin(selected_athletes)][apparatuses].values\n",
    "    top_3_scores = np.sum(np.partition(selected_scores, -3)[:, -3:])\n",
    "    return top_3_scores\n",
    "\n",
    "# Define the main VNS algorithm\n",
    "def variable_neighborhood_search(df, num_athletes_to_select, apparatuses, neighborhood_size, num_iterations):\n",
    "    best_solution = None\n",
    "    best_score = float('-inf')\n",
    "\n",
    "    for iteration in range(num_iterations):\n",
    "        # Shake: Generate a new solution by randomly changing athletes\n",
    "        current_solution = np.random.choice(df['Athlete'], num_athletes_to_select, replace=False)\n",
    "        \n",
    "        for _ in range(neighborhood_size):\n",
    "            # Local Search: Optimize the solution locally\n",
    "            current_score = calculate_total_score(current_solution)\n",
    "            \n",
    "            # Perturb: Randomly change some athletes in the current solution\n",
    "            perturbed_solution = np.random.choice(df['Athlete'], num_athletes_to_select, replace=False)\n",
    "            perturbed_score = calculate_total_score(perturbed_solution)\n",
    "            \n",
    "            # Acceptance Criterion: Accept the perturbed solution if it improves the score\n",
    "            if perturbed_score > current_score:\n",
    "                current_solution = perturbed_solution\n",
    "                current_score = perturbed_score\n",
    "\n",
    "        # Update the best solution if the current one is better\n",
    "        if current_score > best_score:\n",
    "            best_solution = current_solution\n",
    "            best_score = current_score\n",
    "\n",
    "    return best_solution, best_score\n",
    "\n",
    "# Run the VNS algorithm\n",
    "best_solution, best_score = variable_neighborhood_search(df, num_athletes_to_select, apparatuses, neighborhood_size, num_iterations=1000)\n",
    "\n",
    "# Print the result\n",
    "print('Selected Athletes:')\n",
    "print(best_solution)\n",
    "print('Total Score:')\n",
    "print(best_score)\n"
   ]
  },
  {
   "cell_type": "markdown",
   "id": "1b2084cb",
   "metadata": {},
   "source": [
    "Hyper-Heuristics\n"
   ]
  },
  {
   "cell_type": "code",
   "execution_count": 1,
   "id": "5228a6c4",
   "metadata": {},
   "outputs": [
    {
     "ename": "NameError",
     "evalue": "name 'df' is not defined",
     "output_type": "error",
     "traceback": [
      "\u001b[0;31m---------------------------------------------------------------------------\u001b[0m",
      "\u001b[0;31mNameError\u001b[0m                                 Traceback (most recent call last)",
      "Cell \u001b[0;32mIn[1], line 21\u001b[0m\n\u001b[1;32m     17\u001b[0m num_iterations \u001b[38;5;241m=\u001b[39m \u001b[38;5;241m1000\u001b[39m\n\u001b[1;32m     19\u001b[0m \u001b[38;5;28;01mfor\u001b[39;00m _ \u001b[38;5;129;01min\u001b[39;00m \u001b[38;5;28mrange\u001b[39m(num_iterations):\n\u001b[1;32m     20\u001b[0m     \u001b[38;5;66;03m# Randomly select 4 athletes\u001b[39;00m\n\u001b[0;32m---> 21\u001b[0m     selected_athletes \u001b[38;5;241m=\u001b[39m np\u001b[38;5;241m.\u001b[39mrandom\u001b[38;5;241m.\u001b[39mchoice(\u001b[43mdf\u001b[49m[\u001b[38;5;124m'\u001b[39m\u001b[38;5;124mAthlete\u001b[39m\u001b[38;5;124m'\u001b[39m], size\u001b[38;5;241m=\u001b[39mnum_athletes_to_select, replace\u001b[38;5;241m=\u001b[39m\u001b[38;5;28;01mFalse\u001b[39;00m)\n\u001b[1;32m     23\u001b[0m     \u001b[38;5;66;03m# Calculate the score for the current selection\u001b[39;00m\n\u001b[1;32m     24\u001b[0m     scores \u001b[38;5;241m=\u001b[39m df[df[\u001b[38;5;124m'\u001b[39m\u001b[38;5;124mAthlete\u001b[39m\u001b[38;5;124m'\u001b[39m]\u001b[38;5;241m.\u001b[39misin(selected_athletes)][apparatuses]\u001b[38;5;241m.\u001b[39msum(axis\u001b[38;5;241m=\u001b[39m\u001b[38;5;241m1\u001b[39m)\u001b[38;5;241m.\u001b[39mnlargest(\u001b[38;5;241m3\u001b[39m)\u001b[38;5;241m.\u001b[39msum()\n",
      "\u001b[0;31mNameError\u001b[0m: name 'df' is not defined"
     ]
    }
   ],
   "source": [
    "import pandas as pd\n",
    "import numpy as np\n",
    "\n",
    "\n",
    "\n",
    "# Define the number of athletes to select\n",
    "num_athletes_to_select = 4\n",
    "\n",
    "# Define the apparatuses\n",
    "apparatuses = ['FX', 'VT', 'BB', 'UB']\n",
    "\n",
    "# Initialize variables to store the best solution\n",
    "best_score = 0\n",
    "best_selection = None\n",
    "\n",
    "# Define the number of iterations for the hyper-heuristic\n",
    "num_iterations = 1000\n",
    "\n",
    "for _ in range(num_iterations):\n",
    "    # Randomly select 4 athletes\n",
    "    selected_athletes = np.random.choice(df['Athlete'], size=num_athletes_to_select, replace=False)\n",
    "\n",
    "    # Calculate the score for the current selection\n",
    "    scores = df[df['Athlete'].isin(selected_athletes)][apparatuses].sum(axis=1).nlargest(3).sum()\n",
    "\n",
    "    # Update the best solution if the current one is better\n",
    "    if scores > best_score:\n",
    "        best_score = scores\n",
    "        best_selection = selected_athletes\n",
    "\n",
    "# Print the best selection and score\n",
    "print(\"Best Selection:\", best_selection)\n",
    "print(\"Best Score:\", best_score)\n"
   ]
  },
  {
   "cell_type": "markdown",
   "id": "c03cb16a",
   "metadata": {},
   "source": [
    "TAbu Search"
   ]
  },
  {
   "cell_type": "code",
   "execution_count": 26,
   "id": "8b4ad2e6",
   "metadata": {},
   "outputs": [
    {
     "name": "stdout",
     "output_type": "stream",
     "text": [
      "Iteration 1, Best Score: 155.963\n",
      "Iteration 2, Best Score: 160.12900000000002\n",
      "Iteration 3, Best Score: 160.197\n",
      "Iteration 4, Best Score: 160.197\n",
      "Iteration 5, Best Score: 160.197\n",
      "Iteration 6, Best Score: 160.197\n",
      "Iteration 7, Best Score: 160.197\n",
      "Iteration 8, Best Score: 160.197\n",
      "Iteration 9, Best Score: 160.197\n",
      "Iteration 10, Best Score: 160.197\n",
      "Iteration 11, Best Score: 160.197\n",
      "Iteration 12, Best Score: 160.197\n",
      "Iteration 13, Best Score: 160.197\n",
      "Iteration 14, Best Score: 160.197\n",
      "Iteration 15, Best Score: 160.197\n",
      "Iteration 16, Best Score: 160.197\n",
      "Iteration 17, Best Score: 160.197\n",
      "Iteration 18, Best Score: 160.197\n",
      "Iteration 19, Best Score: 160.197\n",
      "Iteration 20, Best Score: 160.197\n",
      "Iteration 21, Best Score: 160.197\n",
      "Iteration 22, Best Score: 160.197\n",
      "Iteration 23, Best Score: 160.197\n",
      "Iteration 24, Best Score: 160.197\n",
      "Iteration 25, Best Score: 160.197\n",
      "Iteration 26, Best Score: 160.197\n",
      "Iteration 27, Best Score: 160.197\n",
      "Iteration 28, Best Score: 160.197\n",
      "Iteration 29, Best Score: 160.197\n",
      "Iteration 30, Best Score: 160.197\n",
      "Iteration 31, Best Score: 160.197\n",
      "Iteration 32, Best Score: 160.197\n",
      "Iteration 33, Best Score: 160.197\n",
      "Iteration 34, Best Score: 160.197\n",
      "Iteration 35, Best Score: 160.197\n",
      "Iteration 36, Best Score: 160.197\n",
      "Iteration 37, Best Score: 160.197\n",
      "Iteration 38, Best Score: 160.197\n",
      "Iteration 39, Best Score: 160.197\n",
      "Iteration 40, Best Score: 160.197\n",
      "Iteration 41, Best Score: 160.197\n",
      "Iteration 42, Best Score: 160.197\n",
      "Iteration 43, Best Score: 160.197\n",
      "Iteration 44, Best Score: 160.197\n",
      "Iteration 45, Best Score: 160.197\n",
      "Iteration 46, Best Score: 160.197\n",
      "Iteration 47, Best Score: 160.197\n",
      "Iteration 48, Best Score: 160.197\n",
      "Iteration 49, Best Score: 160.197\n",
      "Iteration 50, Best Score: 160.197\n",
      "Iteration 51, Best Score: 160.197\n",
      "Iteration 52, Best Score: 160.197\n",
      "Iteration 53, Best Score: 160.197\n",
      "Iteration 54, Best Score: 160.197\n",
      "Iteration 55, Best Score: 160.197\n",
      "Iteration 56, Best Score: 160.197\n",
      "Iteration 57, Best Score: 160.197\n",
      "Iteration 58, Best Score: 160.197\n",
      "Iteration 59, Best Score: 160.197\n",
      "Iteration 60, Best Score: 160.197\n",
      "Iteration 61, Best Score: 160.197\n",
      "Iteration 62, Best Score: 160.197\n",
      "Iteration 63, Best Score: 160.197\n",
      "Iteration 64, Best Score: 160.197\n",
      "Iteration 65, Best Score: 160.197\n",
      "Iteration 66, Best Score: 160.197\n",
      "Iteration 67, Best Score: 160.197\n",
      "Iteration 68, Best Score: 160.197\n",
      "Iteration 69, Best Score: 160.197\n",
      "Iteration 70, Best Score: 160.197\n",
      "Iteration 71, Best Score: 160.197\n",
      "Iteration 72, Best Score: 160.197\n",
      "Iteration 73, Best Score: 160.197\n",
      "Iteration 74, Best Score: 160.197\n",
      "Iteration 75, Best Score: 160.197\n",
      "Iteration 76, Best Score: 160.197\n",
      "Iteration 77, Best Score: 160.197\n",
      "Iteration 78, Best Score: 160.197\n",
      "Iteration 79, Best Score: 160.197\n",
      "Iteration 80, Best Score: 160.197\n",
      "Iteration 81, Best Score: 160.197\n",
      "Iteration 82, Best Score: 160.197\n",
      "Iteration 83, Best Score: 160.197\n",
      "Iteration 84, Best Score: 160.197\n",
      "Iteration 85, Best Score: 160.197\n",
      "Iteration 86, Best Score: 160.197\n",
      "Iteration 87, Best Score: 160.197\n",
      "Iteration 88, Best Score: 160.197\n",
      "Iteration 89, Best Score: 160.197\n",
      "Iteration 90, Best Score: 160.197\n",
      "Iteration 91, Best Score: 160.197\n",
      "Iteration 92, Best Score: 160.197\n",
      "Iteration 93, Best Score: 160.197\n",
      "Iteration 94, Best Score: 160.197\n",
      "Iteration 95, Best Score: 160.197\n",
      "Iteration 96, Best Score: 160.197\n",
      "Iteration 97, Best Score: 160.197\n",
      "Iteration 98, Best Score: 160.197\n",
      "Iteration 99, Best Score: 160.197\n",
      "Iteration 100, Best Score: 160.197\n",
      "Selected Athletes:\n",
      "['ellie black' 'sydney turner' 'denelle pedrick' 'emma spence']\n",
      "Total Score:\n",
      "160.197\n"
     ]
    }
   ],
   "source": [
    "import pandas as pd\n",
    "import numpy as np\n",
    "\n",
    "def calculate_score(selected_athletes, df):\n",
    "    \"\"\"\n",
    "    Calculate the total score for a given set of selected athletes.\n",
    "    \"\"\"\n",
    "    # Select rows corresponding to the chosen athletes\n",
    "    selected_df = df[df['Athlete'].isin(selected_athletes)]\n",
    "\n",
    "    # Calculate the sum of the top 3 scores for each apparatus\n",
    "    apparatus_scores = selected_df.drop(['Athlete'], axis=1)\n",
    "    top_3_sum = apparatus_scores.apply(lambda row: sum(sorted(row, reverse=True)[:3]), axis=0)\n",
    "\n",
    "    # Calculate the total score\n",
    "    total_score = top_3_sum.sum()\n",
    "\n",
    "    return total_score\n",
    "\n",
    "\n",
    "\n",
    "\n",
    "def tabu_search(df, num_athletes_to_select, tabu_size, max_iterations):\n",
    "    # Initialize the solution with a random set of athletes\n",
    "    available_athletes = df['Athlete'].tolist()\n",
    "    current_solution = np.random.choice(available_athletes, size=num_athletes_to_select, replace=False)\n",
    "    best_solution = current_solution.copy()\n",
    "    best_score = calculate_score(best_solution, df)\n",
    "\n",
    "    # Initialize tabu list\n",
    "    tabu_list = []\n",
    "\n",
    "    # Main Tabu Search loop\n",
    "    for iteration in range(max_iterations):\n",
    "        # Generate neighbors by swapping athletes\n",
    "        neighbors = []\n",
    "        for i in range(num_athletes_to_select):\n",
    "            for athlete in df['Athlete']:\n",
    "                if athlete not in current_solution:\n",
    "                    neighbor = current_solution.copy()\n",
    "                    neighbor[i] = athlete\n",
    "                    neighbors.append(neighbor)\n",
    "\n",
    "                    \n",
    "                    \n",
    "                best_neighbor = None\n",
    "        best_neighbor_score = float('-inf')\n",
    "\n",
    "        for neighbor in neighbors:\n",
    "            neighbor_score = calculate_score(neighbor, df)\n",
    "\n",
    "            # Convert the NumPy array to a tuple\n",
    "            neighbor_tuple = tuple(neighbor)\n",
    "\n",
    "            if neighbor_score > best_neighbor_score and neighbor_tuple not in tabu_list:\n",
    "                best_neighbor = neighbor\n",
    "                best_neighbor_score = neighbor_score\n",
    "\n",
    "        # Update current solution and tabu list\n",
    "        current_solution = best_neighbor\n",
    "        tabu_list.append(tuple(best_neighbor))\n",
    "\n",
    "        # Keep the tabu list size within the specified limit\n",
    "        if len(tabu_list) > tabu_size:\n",
    "            tabu_list.pop(0)\n",
    "\n",
    "        # Update the best solution if a better one is found\n",
    "        if best_neighbor_score > best_score:\n",
    "            best_solution = best_neighbor\n",
    "            best_score = best_neighbor_score\n",
    "\n",
    "        # Print progress\n",
    "        print(f\"Iteration {iteration + 1}, Best Score: {best_score}\")\n",
    "\n",
    "    return best_solution, best_score\n",
    "\n",
    "\n",
    "# Set parameters\n",
    "num_athletes_to_select = 4\n",
    "tabu_size = 10\n",
    "max_iterations = 100\n",
    "\n",
    "# Perform Tabu Search\n",
    "best_solution, best_score = tabu_search(df, num_athletes_to_select, tabu_size, max_iterations)\n",
    "\n",
    "# Print the selected athletes and the corresponding score\n",
    "print('Selected Athletes:')\n",
    "print(best_solution)\n",
    "print('Total Score:')\n",
    "print(best_score)\n",
    "\n",
    "      "
   ]
  },
  {
   "cell_type": "markdown",
   "id": "9027563d",
   "metadata": {},
   "source": [
    "Brute Force"
   ]
  },
  {
   "cell_type": "code",
   "execution_count": 27,
   "id": "31752a16",
   "metadata": {},
   "outputs": [
    {
     "name": "stderr",
     "output_type": "stream",
     "text": [
      "100%|█████████████████████████████████████████| 126/126 [00:08<00:00, 15.69it/s]"
     ]
    },
    {
     "name": "stdout",
     "output_type": "stream",
     "text": [
      "Selected Athletes:\n",
      "['aurélie tran', 'ava stewart', 'ellie black', 'laurie denommée']\n",
      "Maximum Score:\n",
      "145.53\n"
     ]
    },
    {
     "name": "stderr",
     "output_type": "stream",
     "text": [
      "\n"
     ]
    }
   ],
   "source": [
    "import pandas as pd\n",
    "import itertools\n",
    "from tqdm import tqdm\n",
    "\n",
    "num_athletes = 4\n",
    "apparatuses = ['VT', 'UB', 'BB', 'FX']\n",
    "\n",
    "# Generate all combinations of athletes\n",
    "athlete_combinations = list(itertools.combinations(df['Athlete'], num_athletes))\n",
    "\n",
    "# variables to store maximum score and athletes\n",
    "max_score = 0\n",
    "selected_athletes = []\n",
    "\n",
    "# tqdm progress bar\n",
    "progress_bar = tqdm(total=len(athlete_combinations))\n",
    "\n",
    "# Iterate through combination of athletes\n",
    "for combination in athlete_combinations:\n",
    "    # Generate all possible combinations of apparatuses for current athlete combination\n",
    "    apparatus_combinations = list(itertools.permutations(apparatuses, num_athletes))\n",
    "\n",
    "    # Iterate through each combination of apparatuses\n",
    "    for apparatus_combination in apparatus_combinations:\n",
    "        # Calculate the sum of top three scores for current apparatus combination\n",
    "        score = df[df['Athlete'].isin(combination)][list(apparatus_combination)].sum(axis=1).nlargest(3).sum()\n",
    "\n",
    "        # Update maximum score and selected athletes if a higher score is found\n",
    "        if score > max_score:\n",
    "            max_score = score\n",
    "            selected_athletes = list(combination)\n",
    "\n",
    "    # Update progress bar\n",
    "    progress_bar.update(1)\n",
    "\n",
    "progress_bar.close()\n",
    "\n",
    "print('Selected Athletes:')\n",
    "print(selected_athletes)\n",
    "print('Maximum Score:')\n",
    "print(max_score)\n"
   ]
  },
  {
   "cell_type": "code",
   "execution_count": 28,
   "id": "6a1c1fdb",
   "metadata": {},
   "outputs": [
    {
     "data": {
      "text/html": [
       "<div>\n",
       "<style scoped>\n",
       "    .dataframe tbody tr th:only-of-type {\n",
       "        vertical-align: middle;\n",
       "    }\n",
       "\n",
       "    .dataframe tbody tr th {\n",
       "        vertical-align: top;\n",
       "    }\n",
       "\n",
       "    .dataframe thead th {\n",
       "        text-align: right;\n",
       "    }\n",
       "</style>\n",
       "<table border=\"1\" class=\"dataframe\">\n",
       "  <thead>\n",
       "    <tr style=\"text-align: right;\">\n",
       "      <th></th>\n",
       "      <th>Algorithm</th>\n",
       "      <th>Athletes</th>\n",
       "      <th>Score</th>\n",
       "    </tr>\n",
       "  </thead>\n",
       "  <tbody>\n",
       "    <tr>\n",
       "      <th>0</th>\n",
       "      <td>VNS</td>\n",
       "      <td>[ava stewart, ellie black, laurie denommée, sy...</td>\n",
       "      <td>159.562</td>\n",
       "    </tr>\n",
       "    <tr>\n",
       "      <th>1</th>\n",
       "      <td>Hyper-Heuristics</td>\n",
       "      <td>[ellie black, laurie denommée, ava stewart, au...</td>\n",
       "      <td>145.530</td>\n",
       "    </tr>\n",
       "    <tr>\n",
       "      <th>2</th>\n",
       "      <td>TAbu Search</td>\n",
       "      <td>[ellie black, sydney turner, denelle pedrick, ...</td>\n",
       "      <td>160.197</td>\n",
       "    </tr>\n",
       "    <tr>\n",
       "      <th>3</th>\n",
       "      <td>Brute force</td>\n",
       "      <td>[aurélie tran, ava stewart, ellie black, lauri...</td>\n",
       "      <td>145.530</td>\n",
       "    </tr>\n",
       "  </tbody>\n",
       "</table>\n",
       "</div>"
      ],
      "text/plain": [
       "          Algorithm                                           Athletes  \\\n",
       "0               VNS  [ava stewart, ellie black, laurie denommée, sy...   \n",
       "1  Hyper-Heuristics  [ellie black, laurie denommée, ava stewart, au...   \n",
       "2       TAbu Search  [ellie black, sydney turner, denelle pedrick, ...   \n",
       "3       Brute force  [aurélie tran, ava stewart, ellie black, lauri...   \n",
       "\n",
       "     Score  \n",
       "0  159.562  \n",
       "1  145.530  \n",
       "2  160.197  \n",
       "3  145.530  "
      ]
     },
     "execution_count": 28,
     "metadata": {},
     "output_type": "execute_result"
    }
   ],
   "source": [
    "\n",
    "data = {\n",
    "    'Algorithm': ['VNS', 'Hyper-Heuristics', 'TAbu Search', 'Brute force'],\n",
    "    'Athletes': [\n",
    "        ['ava stewart', 'ellie black', 'laurie denommée', 'sydney turner'],\n",
    "        ['ellie black', 'laurie denommée', 'ava stewart', 'aurélie tran'],\n",
    "        ['ellie black', 'sydney turner', 'denelle pedrick', 'emma spence'],\n",
    "        ['aurélie tran', 'ava stewart', 'ellie black', 'laurie denommée']\n",
    "    ],\n",
    "    'Score': [159.562, 145.53, 160.197, 145.53]\n",
    "}\n",
    "\n",
    "# Create DataFrame\n",
    "dfs = pd.DataFrame(data)\n",
    "\n",
    "\n",
    "dfs"
   ]
  },
  {
   "cell_type": "code",
   "execution_count": 29,
   "id": "15d5d9e9",
   "metadata": {},
   "outputs": [],
   "source": [
    "dfs['nation']='CAN'"
   ]
  },
  {
   "cell_type": "code",
   "execution_count": 30,
   "id": "aed60694",
   "metadata": {},
   "outputs": [
    {
     "data": {
      "text/html": [
       "<div>\n",
       "<style scoped>\n",
       "    .dataframe tbody tr th:only-of-type {\n",
       "        vertical-align: middle;\n",
       "    }\n",
       "\n",
       "    .dataframe tbody tr th {\n",
       "        vertical-align: top;\n",
       "    }\n",
       "\n",
       "    .dataframe thead th {\n",
       "        text-align: right;\n",
       "    }\n",
       "</style>\n",
       "<table border=\"1\" class=\"dataframe\">\n",
       "  <thead>\n",
       "    <tr style=\"text-align: right;\">\n",
       "      <th></th>\n",
       "      <th>Algorithm</th>\n",
       "      <th>Athletes</th>\n",
       "      <th>Score</th>\n",
       "      <th>nation</th>\n",
       "    </tr>\n",
       "  </thead>\n",
       "  <tbody>\n",
       "    <tr>\n",
       "      <th>0</th>\n",
       "      <td>VNS</td>\n",
       "      <td>[ava stewart, ellie black, laurie denommée, sy...</td>\n",
       "      <td>159.562</td>\n",
       "      <td>CAN</td>\n",
       "    </tr>\n",
       "    <tr>\n",
       "      <th>1</th>\n",
       "      <td>Hyper-Heuristics</td>\n",
       "      <td>[ellie black, laurie denommée, ava stewart, au...</td>\n",
       "      <td>145.530</td>\n",
       "      <td>CAN</td>\n",
       "    </tr>\n",
       "    <tr>\n",
       "      <th>2</th>\n",
       "      <td>TAbu Search</td>\n",
       "      <td>[ellie black, sydney turner, denelle pedrick, ...</td>\n",
       "      <td>160.197</td>\n",
       "      <td>CAN</td>\n",
       "    </tr>\n",
       "    <tr>\n",
       "      <th>3</th>\n",
       "      <td>Brute force</td>\n",
       "      <td>[aurélie tran, ava stewart, ellie black, lauri...</td>\n",
       "      <td>145.530</td>\n",
       "      <td>CAN</td>\n",
       "    </tr>\n",
       "  </tbody>\n",
       "</table>\n",
       "</div>"
      ],
      "text/plain": [
       "          Algorithm                                           Athletes  \\\n",
       "0               VNS  [ava stewart, ellie black, laurie denommée, sy...   \n",
       "1  Hyper-Heuristics  [ellie black, laurie denommée, ava stewart, au...   \n",
       "2       TAbu Search  [ellie black, sydney turner, denelle pedrick, ...   \n",
       "3       Brute force  [aurélie tran, ava stewart, ellie black, lauri...   \n",
       "\n",
       "     Score nation  \n",
       "0  159.562    CAN  \n",
       "1  145.530    CAN  \n",
       "2  160.197    CAN  \n",
       "3  145.530    CAN  "
      ]
     },
     "execution_count": 30,
     "metadata": {},
     "output_type": "execute_result"
    }
   ],
   "source": [
    "dfs"
   ]
  },
  {
   "cell_type": "code",
   "execution_count": 31,
   "id": "1d2b00c0",
   "metadata": {},
   "outputs": [],
   "source": [
    "# dfs.to_csv('canada.csv', index=False)"
   ]
  },
  {
   "cell_type": "code",
   "execution_count": 10,
   "id": "5b66ec0b",
   "metadata": {},
   "outputs": [],
   "source": [
    "\n",
    "df = pd.read_csv('../../Combine_Data/women/iaa2024.csv')\n"
   ]
  },
  {
   "cell_type": "code",
   "execution_count": 11,
   "id": "83524617",
   "metadata": {},
   "outputs": [],
   "source": [
    "names=['ellie black',\n",
    "'laurie denommée',\n",
    "'jessica dowling',\n",
    "'rébéka groulx',\n",
    "'amy jorgensen',\n",
    "'jenna lalonde',\n",
    "'cassie lee',\n",
    "'sophie marois',\n",
    "'shallon olsen',\n",
    "'denelle pedrick',\n",
    "'clara raposo',\n",
    "'audrey rousseau',\n",
    "'ava sorrento',\n",
    "'emma spence',\n",
    "'ava stewart',\n",
    "'jenna timmons',\n",
    "'aurélie tran',\n",
    "'sydney turner',\n",
    "'rose-kaying woo']\n"
   ]
  },
  {
   "cell_type": "code",
   "execution_count": 12,
   "id": "6d12b4b1",
   "metadata": {},
   "outputs": [],
   "source": [
    "filtered_df = df[df['Athlete'].str.lower().isin(names)]\n"
   ]
  },
  {
   "cell_type": "code",
   "execution_count": 13,
   "id": "207c98cf",
   "metadata": {},
   "outputs": [],
   "source": [
    "df=filtered_df.copy()"
   ]
  },
  {
   "cell_type": "code",
   "execution_count": 14,
   "id": "2c8415bf",
   "metadata": {},
   "outputs": [],
   "source": [
    "df = df.drop(columns=['Nation', 'round', 'year', 'AA'])\n"
   ]
  },
  {
   "cell_type": "code",
   "execution_count": 15,
   "id": "413b7c67",
   "metadata": {},
   "outputs": [
    {
     "data": {
      "text/plain": [
       "5"
      ]
     },
     "execution_count": 15,
     "metadata": {},
     "output_type": "execute_result"
    }
   ],
   "source": [
    "df.duplicated().sum()\n"
   ]
  },
  {
   "cell_type": "code",
   "execution_count": 16,
   "id": "3ed68a9b",
   "metadata": {},
   "outputs": [],
   "source": [
    "df = df.drop_duplicates()"
   ]
  },
  {
   "cell_type": "code",
   "execution_count": 17,
   "id": "8528f33d",
   "metadata": {},
   "outputs": [],
   "source": [
    "idx_max = df.groupby('Athlete').idxmax()\n",
    "\n",
    "# Create a new DataFrame with the highest scores for each athlete\n",
    "df_max_scores = pd.DataFrame({\n",
    "    'Athlete': df.loc[idx_max['VT'], 'Athlete'].values,\n",
    "    'VT': df.loc[idx_max['VT'], 'VT'].values,\n",
    "    'UB': df.loc[idx_max['UB'], 'UB'].values,\n",
    "    'BB': df.loc[idx_max['BB'], 'BB'].values,\n",
    "    'FX': df.loc[idx_max['FX'], 'FX'].values\n",
    "})"
   ]
  },
  {
   "cell_type": "code",
   "execution_count": 18,
   "id": "dc86ed12",
   "metadata": {},
   "outputs": [],
   "source": [
    "df=df_max_scores.copy()"
   ]
  },
  {
   "cell_type": "code",
   "execution_count": 19,
   "id": "6c7305a9",
   "metadata": {},
   "outputs": [],
   "source": [
    "df['AA'] = df.select_dtypes(include='number').sum(axis=1)"
   ]
  },
  {
   "cell_type": "code",
   "execution_count": 20,
   "id": "8264cfd5",
   "metadata": {},
   "outputs": [],
   "source": [
    "df=df.sort_values(by='AA', ascending=False)"
   ]
  },
  {
   "cell_type": "code",
   "execution_count": 21,
   "id": "517327e2",
   "metadata": {},
   "outputs": [
    {
     "data": {
      "text/html": [
       "<div>\n",
       "<style scoped>\n",
       "    .dataframe tbody tr th:only-of-type {\n",
       "        vertical-align: middle;\n",
       "    }\n",
       "\n",
       "    .dataframe tbody tr th {\n",
       "        vertical-align: top;\n",
       "    }\n",
       "\n",
       "    .dataframe thead th {\n",
       "        text-align: right;\n",
       "    }\n",
       "</style>\n",
       "<table border=\"1\" class=\"dataframe\">\n",
       "  <thead>\n",
       "    <tr style=\"text-align: right;\">\n",
       "      <th></th>\n",
       "      <th>Athlete</th>\n",
       "      <th>VT</th>\n",
       "      <th>UB</th>\n",
       "      <th>BB</th>\n",
       "      <th>FX</th>\n",
       "      <th>AA</th>\n",
       "    </tr>\n",
       "  </thead>\n",
       "  <tbody>\n",
       "    <tr>\n",
       "      <th>4</th>\n",
       "      <td>ellie black</td>\n",
       "      <td>14.000</td>\n",
       "      <td>14.133</td>\n",
       "      <td>13.566</td>\n",
       "      <td>13.400</td>\n",
       "      <td>55.099</td>\n",
       "    </tr>\n",
       "    <tr>\n",
       "      <th>0</th>\n",
       "      <td>aurélie tran</td>\n",
       "      <td>13.233</td>\n",
       "      <td>13.133</td>\n",
       "      <td>11.933</td>\n",
       "      <td>12.600</td>\n",
       "      <td>50.899</td>\n",
       "    </tr>\n",
       "    <tr>\n",
       "      <th>6</th>\n",
       "      <td>laurie denommée</td>\n",
       "      <td>13.400</td>\n",
       "      <td>12.866</td>\n",
       "      <td>0.000</td>\n",
       "      <td>13.266</td>\n",
       "      <td>39.532</td>\n",
       "    </tr>\n",
       "    <tr>\n",
       "      <th>7</th>\n",
       "      <td>sydney turner</td>\n",
       "      <td>0.000</td>\n",
       "      <td>13.166</td>\n",
       "      <td>12.866</td>\n",
       "      <td>13.300</td>\n",
       "      <td>39.332</td>\n",
       "    </tr>\n",
       "    <tr>\n",
       "      <th>1</th>\n",
       "      <td>ava stewart</td>\n",
       "      <td>13.466</td>\n",
       "      <td>12.800</td>\n",
       "      <td>0.000</td>\n",
       "      <td>12.733</td>\n",
       "      <td>38.999</td>\n",
       "    </tr>\n",
       "    <tr>\n",
       "      <th>5</th>\n",
       "      <td>emma spence</td>\n",
       "      <td>13.633</td>\n",
       "      <td>12.800</td>\n",
       "      <td>12.533</td>\n",
       "      <td>0.000</td>\n",
       "      <td>38.966</td>\n",
       "    </tr>\n",
       "    <tr>\n",
       "      <th>3</th>\n",
       "      <td>denelle pedrick</td>\n",
       "      <td>13.900</td>\n",
       "      <td>0.000</td>\n",
       "      <td>11.700</td>\n",
       "      <td>12.900</td>\n",
       "      <td>38.500</td>\n",
       "    </tr>\n",
       "    <tr>\n",
       "      <th>2</th>\n",
       "      <td>cassie lee</td>\n",
       "      <td>13.100</td>\n",
       "      <td>0.000</td>\n",
       "      <td>9.700</td>\n",
       "      <td>12.666</td>\n",
       "      <td>35.466</td>\n",
       "    </tr>\n",
       "  </tbody>\n",
       "</table>\n",
       "</div>"
      ],
      "text/plain": [
       "           Athlete      VT      UB      BB      FX      AA\n",
       "4      ellie black  14.000  14.133  13.566  13.400  55.099\n",
       "0     aurélie tran  13.233  13.133  11.933  12.600  50.899\n",
       "6  laurie denommée  13.400  12.866   0.000  13.266  39.532\n",
       "7    sydney turner   0.000  13.166  12.866  13.300  39.332\n",
       "1      ava stewart  13.466  12.800   0.000  12.733  38.999\n",
       "5      emma spence  13.633  12.800  12.533   0.000  38.966\n",
       "3  denelle pedrick  13.900   0.000  11.700  12.900  38.500\n",
       "2       cassie lee  13.100   0.000   9.700  12.666  35.466"
      ]
     },
     "execution_count": 21,
     "metadata": {},
     "output_type": "execute_result"
    }
   ],
   "source": [
    "df"
   ]
  },
  {
   "cell_type": "code",
   "execution_count": 22,
   "id": "12e74daa",
   "metadata": {},
   "outputs": [
    {
     "data": {
      "text/plain": [
       "154.998"
      ]
     },
     "execution_count": 22,
     "metadata": {},
     "output_type": "execute_result"
    }
   ],
   "source": [
    "55.099+50.899"
   ]
  },
  {
   "cell_type": "code",
   "execution_count": 11,
   "id": "6723a52b",
   "metadata": {},
   "outputs": [],
   "source": [
    "\n",
    "df=df.drop(columns=['Rank', 'Nation', 'round', 'year'])\n",
    "# Group by 'Athlete' and get the index of the maximum score for each apparatus\n",
    "idx_max = df.groupby('Athlete').idxmax()\n",
    "\n",
    "# Create a new DataFrame with the highest scores for each athlete\n",
    "df_max_scores = pd.DataFrame({\n",
    "    'Athlete': df.loc[idx_max['VT'], 'Athlete'].values,\n",
    "    'VT': df.loc[idx_max['VT'], 'VT'].values,\n",
    "    'UB': df.loc[idx_max['UB'], 'UB'].values,\n",
    "    'BB': df.loc[idx_max['BB'], 'BB'].values,\n",
    "    'FX': df.loc[idx_max['FX'], 'FX'].values,\n",
    "    'AA': df.loc[idx_max['AA'], 'AA'].values\n",
    "\n",
    "})"
   ]
  },
  {
   "cell_type": "code",
   "execution_count": 12,
   "id": "ccdad0af",
   "metadata": {},
   "outputs": [],
   "source": [
    "df=df_max_scores.copy()"
   ]
  },
  {
   "cell_type": "code",
   "execution_count": 13,
   "id": "ad756305",
   "metadata": {},
   "outputs": [
    {
     "data": {
      "text/html": [
       "<div>\n",
       "<style scoped>\n",
       "    .dataframe tbody tr th:only-of-type {\n",
       "        vertical-align: middle;\n",
       "    }\n",
       "\n",
       "    .dataframe tbody tr th {\n",
       "        vertical-align: top;\n",
       "    }\n",
       "\n",
       "    .dataframe thead th {\n",
       "        text-align: right;\n",
       "    }\n",
       "</style>\n",
       "<table border=\"1\" class=\"dataframe\">\n",
       "  <thead>\n",
       "    <tr style=\"text-align: right;\">\n",
       "      <th></th>\n",
       "      <th>Athlete</th>\n",
       "      <th>VT</th>\n",
       "      <th>UB</th>\n",
       "      <th>BB</th>\n",
       "      <th>FX</th>\n",
       "      <th>AA</th>\n",
       "    </tr>\n",
       "  </thead>\n",
       "  <tbody>\n",
       "    <tr>\n",
       "      <th>4</th>\n",
       "      <td>ellie black</td>\n",
       "      <td>14.000</td>\n",
       "      <td>14.133</td>\n",
       "      <td>13.566</td>\n",
       "      <td>13.400</td>\n",
       "      <td>55.065</td>\n",
       "    </tr>\n",
       "    <tr>\n",
       "      <th>0</th>\n",
       "      <td>aurélie tran</td>\n",
       "      <td>13.233</td>\n",
       "      <td>13.133</td>\n",
       "      <td>11.933</td>\n",
       "      <td>12.600</td>\n",
       "      <td>50.899</td>\n",
       "    </tr>\n",
       "    <tr>\n",
       "      <th>6</th>\n",
       "      <td>laurie denommée</td>\n",
       "      <td>13.400</td>\n",
       "      <td>12.866</td>\n",
       "      <td>0.000</td>\n",
       "      <td>13.266</td>\n",
       "      <td>39.532</td>\n",
       "    </tr>\n",
       "    <tr>\n",
       "      <th>8</th>\n",
       "      <td>sydney turner</td>\n",
       "      <td>0.000</td>\n",
       "      <td>13.166</td>\n",
       "      <td>12.866</td>\n",
       "      <td>13.300</td>\n",
       "      <td>39.332</td>\n",
       "    </tr>\n",
       "    <tr>\n",
       "      <th>1</th>\n",
       "      <td>ava stewart</td>\n",
       "      <td>13.466</td>\n",
       "      <td>12.800</td>\n",
       "      <td>0.000</td>\n",
       "      <td>12.733</td>\n",
       "      <td>38.999</td>\n",
       "    </tr>\n",
       "    <tr>\n",
       "      <th>5</th>\n",
       "      <td>emma spence</td>\n",
       "      <td>13.633</td>\n",
       "      <td>12.800</td>\n",
       "      <td>12.533</td>\n",
       "      <td>0.000</td>\n",
       "      <td>38.966</td>\n",
       "    </tr>\n",
       "    <tr>\n",
       "      <th>3</th>\n",
       "      <td>denelle pedrick</td>\n",
       "      <td>13.900</td>\n",
       "      <td>0.000</td>\n",
       "      <td>11.700</td>\n",
       "      <td>12.900</td>\n",
       "      <td>38.500</td>\n",
       "    </tr>\n",
       "    <tr>\n",
       "      <th>2</th>\n",
       "      <td>cassie lee</td>\n",
       "      <td>13.100</td>\n",
       "      <td>0.000</td>\n",
       "      <td>9.700</td>\n",
       "      <td>12.666</td>\n",
       "      <td>35.466</td>\n",
       "    </tr>\n",
       "    <tr>\n",
       "      <th>7</th>\n",
       "      <td>rose woo</td>\n",
       "      <td>0.000</td>\n",
       "      <td>12.166</td>\n",
       "      <td>12.200</td>\n",
       "      <td>0.000</td>\n",
       "      <td>24.366</td>\n",
       "    </tr>\n",
       "  </tbody>\n",
       "</table>\n",
       "</div>"
      ],
      "text/plain": [
       "           Athlete      VT      UB      BB      FX      AA\n",
       "4      ellie black  14.000  14.133  13.566  13.400  55.065\n",
       "0     aurélie tran  13.233  13.133  11.933  12.600  50.899\n",
       "6  laurie denommée  13.400  12.866   0.000  13.266  39.532\n",
       "8    sydney turner   0.000  13.166  12.866  13.300  39.332\n",
       "1      ava stewart  13.466  12.800   0.000  12.733  38.999\n",
       "5      emma spence  13.633  12.800  12.533   0.000  38.966\n",
       "3  denelle pedrick  13.900   0.000  11.700  12.900  38.500\n",
       "2       cassie lee  13.100   0.000   9.700  12.666  35.466\n",
       "7         rose woo   0.000  12.166  12.200   0.000  24.366"
      ]
     },
     "execution_count": 13,
     "metadata": {},
     "output_type": "execute_result"
    }
   ],
   "source": [
    "df.sort_values(by='AA', ascending=False)"
   ]
  },
  {
   "cell_type": "code",
   "execution_count": null,
   "id": "e509271a",
   "metadata": {},
   "outputs": [],
   "source": [
    "55.065+50.899"
   ]
  }
 ],
 "metadata": {
  "kernelspec": {
   "display_name": "Python 3 (ipykernel)",
   "language": "python",
   "name": "python3"
  },
  "language_info": {
   "codemirror_mode": {
    "name": "ipython",
    "version": 3
   },
   "file_extension": ".py",
   "mimetype": "text/x-python",
   "name": "python",
   "nbconvert_exporter": "python",
   "pygments_lexer": "ipython3",
   "version": "3.8.18"
  }
 },
 "nbformat": 4,
 "nbformat_minor": 5
}
