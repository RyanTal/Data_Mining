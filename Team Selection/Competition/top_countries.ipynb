{
 "cells": [
  {
   "cell_type": "code",
   "execution_count": 9,
   "id": "67e4a1c3",
   "metadata": {},
   "outputs": [],
   "source": [
    "import pandas as pd\n",
    "import numpy as np"
   ]
  },
  {
   "cell_type": "code",
   "execution_count": 10,
   "id": "1b31c766",
   "metadata": {},
   "outputs": [],
   "source": [
    "gb = pd.read_csv('great_britain.csv')\n",
    "\n",
    "fra= pd.read_csv('france.csv')\n",
    "\n",
    "chn = pd.read_csv('china.csv')\n",
    "\n",
    "can = pd.read_csv('canada.csv')\n",
    "\n",
    "bra= pd.read_csv('brazil.csv')"
   ]
  },
  {
   "cell_type": "code",
   "execution_count": 5,
   "id": "443a9365",
   "metadata": {},
   "outputs": [],
   "source": [
    "gb_sorted = gb.sort_values(by='Score', ascending=False)\n",
    "fra_sorted = fra.sort_values(by='Score', ascending=False)\n",
    "chn_sorted = chn.sort_values(by='Score', ascending=False)\n",
    "can_sorted = can.sort_values(by='Score', ascending=False)\n",
    "bra_sorted = bra.sort_values(by='Score', ascending=False)\n"
   ]
  },
  {
   "cell_type": "code",
   "execution_count": 6,
   "id": "593e8758",
   "metadata": {},
   "outputs": [],
   "source": [
    "top_row_gb = gb.head(1)\n",
    "top_row_fra = fra.head(1)\n",
    "top_row_chn = chn.head(1)\n",
    "top_row_can = can.head(1)\n",
    "top_row_bra = bra.head(1)\n",
    "\n",
    "# Create a new DataFrame with selected columns from the top rows\n",
    "df = pd.DataFrame({\n",
    "    'Country': ['Great Britain', 'France', 'China', 'Canada', 'Brazil'],\n",
    "    'Algorithm': [top_row_gb['Algorithm'].values[0], top_row_fra['Algorithm'].values[0], top_row_chn['Algorithm'].values[0], top_row_can['Algorithm'].values[0], top_row_bra['Algorithm'].values[0]],\n",
    "    'Athletes': [top_row_gb['Athletes'].values[0], top_row_fra['Athletes'].values[0], top_row_chn['Athletes'].values[0], top_row_can['Athletes'].values[0], top_row_bra['Athletes'].values[0]],\n",
    "    'Score': [top_row_gb['Score'].values[0], top_row_fra['Score'].values[0], top_row_chn['Score'].values[0], top_row_can['Score'].values[0], top_row_bra['Score'].values[0]],\n",
    "})\n"
   ]
  },
  {
   "cell_type": "code",
   "execution_count": 7,
   "id": "f10e6651",
   "metadata": {},
   "outputs": [
    {
     "data": {
      "text/html": [
       "<div>\n",
       "<style scoped>\n",
       "    .dataframe tbody tr th:only-of-type {\n",
       "        vertical-align: middle;\n",
       "    }\n",
       "\n",
       "    .dataframe tbody tr th {\n",
       "        vertical-align: top;\n",
       "    }\n",
       "\n",
       "    .dataframe thead th {\n",
       "        text-align: right;\n",
       "    }\n",
       "</style>\n",
       "<table border=\"1\" class=\"dataframe\">\n",
       "  <thead>\n",
       "    <tr style=\"text-align: right;\">\n",
       "      <th></th>\n",
       "      <th>Country</th>\n",
       "      <th>Algorithm</th>\n",
       "      <th>Athletes</th>\n",
       "      <th>Score</th>\n",
       "    </tr>\n",
       "  </thead>\n",
       "  <tbody>\n",
       "    <tr>\n",
       "      <th>0</th>\n",
       "      <td>Great Britain</td>\n",
       "      <td>VNS</td>\n",
       "      <td>['ondine achampong', 'alice kinsella', 'jessic...</td>\n",
       "      <td>167.763</td>\n",
       "    </tr>\n",
       "    <tr>\n",
       "      <th>1</th>\n",
       "      <td>France</td>\n",
       "      <td>vns</td>\n",
       "      <td>['aline friess', 'mélanie de jesus dos santos'...</td>\n",
       "      <td>164.763</td>\n",
       "    </tr>\n",
       "    <tr>\n",
       "      <th>2</th>\n",
       "      <td>China</td>\n",
       "      <td>vns</td>\n",
       "      <td>['ou yushan', 'qiu qiyuan', 'tang xijing', 'zh...</td>\n",
       "      <td>166.965</td>\n",
       "    </tr>\n",
       "    <tr>\n",
       "      <th>3</th>\n",
       "      <td>Canada</td>\n",
       "      <td>VNS</td>\n",
       "      <td>['ava stewart', 'ellie black', 'laurie denommé...</td>\n",
       "      <td>159.562</td>\n",
       "    </tr>\n",
       "    <tr>\n",
       "      <th>4</th>\n",
       "      <td>Brazil</td>\n",
       "      <td>vns</td>\n",
       "      <td>['rebeca andrade', 'julia soares', 'flavia sar...</td>\n",
       "      <td>164.995</td>\n",
       "    </tr>\n",
       "  </tbody>\n",
       "</table>\n",
       "</div>"
      ],
      "text/plain": [
       "         Country Algorithm                                           Athletes  \\\n",
       "0  Great Britain       VNS  ['ondine achampong', 'alice kinsella', 'jessic...   \n",
       "1         France       vns  ['aline friess', 'mélanie de jesus dos santos'...   \n",
       "2          China       vns  ['ou yushan', 'qiu qiyuan', 'tang xijing', 'zh...   \n",
       "3         Canada       VNS  ['ava stewart', 'ellie black', 'laurie denommé...   \n",
       "4         Brazil       vns  ['rebeca andrade', 'julia soares', 'flavia sar...   \n",
       "\n",
       "     Score  \n",
       "0  167.763  \n",
       "1  164.763  \n",
       "2  166.965  \n",
       "3  159.562  \n",
       "4  164.995  "
      ]
     },
     "execution_count": 7,
     "metadata": {},
     "output_type": "execute_result"
    }
   ],
   "source": [
    "df"
   ]
  },
  {
   "cell_type": "code",
   "execution_count": 8,
   "id": "7ec1cd87",
   "metadata": {},
   "outputs": [],
   "source": [
    "# df.to_csv('top_countries.csv', index=False)"
   ]
  },
  {
   "cell_type": "code",
   "execution_count": 6,
   "id": "4dd68656",
   "metadata": {},
   "outputs": [],
   "source": [
    "df=df.drop(columns=['Algorithm', 'Athletes'])"
   ]
  },
  {
   "cell_type": "code",
   "execution_count": 7,
   "id": "5f622d60",
   "metadata": {},
   "outputs": [
    {
     "data": {
      "text/html": [
       "<div>\n",
       "<style scoped>\n",
       "    .dataframe tbody tr th:only-of-type {\n",
       "        vertical-align: middle;\n",
       "    }\n",
       "\n",
       "    .dataframe tbody tr th {\n",
       "        vertical-align: top;\n",
       "    }\n",
       "\n",
       "    .dataframe thead th {\n",
       "        text-align: right;\n",
       "    }\n",
       "</style>\n",
       "<table border=\"1\" class=\"dataframe\">\n",
       "  <thead>\n",
       "    <tr style=\"text-align: right;\">\n",
       "      <th></th>\n",
       "      <th>Country</th>\n",
       "      <th>Score</th>\n",
       "    </tr>\n",
       "  </thead>\n",
       "  <tbody>\n",
       "    <tr>\n",
       "      <th>0</th>\n",
       "      <td>Great Britain</td>\n",
       "      <td>167.763</td>\n",
       "    </tr>\n",
       "    <tr>\n",
       "      <th>1</th>\n",
       "      <td>France</td>\n",
       "      <td>164.763</td>\n",
       "    </tr>\n",
       "    <tr>\n",
       "      <th>2</th>\n",
       "      <td>China</td>\n",
       "      <td>166.965</td>\n",
       "    </tr>\n",
       "    <tr>\n",
       "      <th>3</th>\n",
       "      <td>Canada</td>\n",
       "      <td>159.562</td>\n",
       "    </tr>\n",
       "    <tr>\n",
       "      <th>4</th>\n",
       "      <td>Brazil</td>\n",
       "      <td>164.995</td>\n",
       "    </tr>\n",
       "  </tbody>\n",
       "</table>\n",
       "</div>"
      ],
      "text/plain": [
       "         Country    Score\n",
       "0  Great Britain  167.763\n",
       "1         France  164.763\n",
       "2          China  166.965\n",
       "3         Canada  159.562\n",
       "4         Brazil  164.995"
      ]
     },
     "execution_count": 7,
     "metadata": {},
     "output_type": "execute_result"
    }
   ],
   "source": [
    "df"
   ]
  },
  {
   "cell_type": "code",
   "execution_count": null,
   "id": "35b7ccea",
   "metadata": {},
   "outputs": [],
   "source": []
  }
 ],
 "metadata": {
  "kernelspec": {
   "display_name": "Python 3 (ipykernel)",
   "language": "python",
   "name": "python3"
  },
  "language_info": {
   "codemirror_mode": {
    "name": "ipython",
    "version": 3
   },
   "file_extension": ".py",
   "mimetype": "text/x-python",
   "name": "python",
   "nbconvert_exporter": "python",
   "pygments_lexer": "ipython3",
   "version": "3.9.12"
  }
 },
 "nbformat": 4,
 "nbformat_minor": 5
}
