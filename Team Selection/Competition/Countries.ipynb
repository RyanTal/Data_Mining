{
 "cells": [
  {
   "cell_type": "markdown",
   "id": "b8fda014",
   "metadata": {},
   "source": [
    "- United States\n",
    "- Great Britain\n",
    "- Canada\n",
    "- China\n",
    "- Brazil\n",
    "- Italy\n",
    "- Netherlands\n",
    "- France\n",
    "- Japan\n",
    "- Australia\n",
    "- Romania\n",
    "- South Korea"
   ]
  },
  {
   "cell_type": "markdown",
   "id": "048e5a13",
   "metadata": {},
   "source": [
    "uk\n",
    "\n",
    "VNS\n",
    "Selected Athletes:\n",
    "['ondine achampong' 'alice kinsella' 'jessica gadirova'\n",
    " 'georgia-mae fenton']\n",
    "Total Score:\n",
    "167.763\n",
    "\n",
    "\n",
    "\n",
    "HH\n",
    "Best Selection: ['jessica gadirova' 'alice kinsella' 'georgia-mae fenton'\n",
    " 'ondine achampong']\n",
    "Best Score: 166.496\n",
    "\n",
    "\n",
    "\n",
    "TS\n",
    "Selected Athletes:\n",
    "['georgia-mae fenton' 'jessica gadirova' 'alice kinsella'\n",
    " 'ondine achampong']\n",
    "Total Score:\n",
    "167.796\n",
    "\n",
    "\n",
    "\n",
    "\n",
    "\n",
    "Brute force\n",
    "Selected Athletes:\n",
    "['alice kinsella', 'georgia-mae fenton', 'jessica gadirova', 'ondine achampong']\n",
    "Maximum Score:\n",
    "166.496"
   ]
  },
  {
   "cell_type": "markdown",
   "id": "aff5f511",
   "metadata": {},
   "source": [
    "can\n",
    "\n",
    "VNS Selected Athletes: ['ava stewart' 'ellie black' 'laurie denommée' 'sydney turner'] Total Score: 159.562\n",
    "\n",
    "Hyper-Heuristics Best Selection: ['ellie black' 'laurie denommée' 'ava stewart' 'aurélie tran'] Best Score: 145.53\n",
    "\n",
    "TAbu Search Selected Athletes: ['ellie black' 'sydney turner' 'denelle pedrick' 'emma spence'] Total Score: 160.197\n",
    "\n",
    "Brute force Selected Athletes: ['aurélie tran', 'ava stewart', 'ellie black', 'laurie denommée'] Maximum Score: 145.53\n"
   ]
  },
  {
   "cell_type": "code",
   "execution_count": null,
   "id": "65e68ed0",
   "metadata": {},
   "outputs": [],
   "source": []
  }
 ],
 "metadata": {
  "kernelspec": {
   "display_name": "Python 3 (ipykernel)",
   "language": "python",
   "name": "python3"
  },
  "language_info": {
   "codemirror_mode": {
    "name": "ipython",
    "version": 3
   },
   "file_extension": ".py",
   "mimetype": "text/x-python",
   "name": "python",
   "nbconvert_exporter": "python",
   "pygments_lexer": "ipython3",
   "version": "3.8.18"
  }
 },
 "nbformat": 4,
 "nbformat_minor": 5
}
