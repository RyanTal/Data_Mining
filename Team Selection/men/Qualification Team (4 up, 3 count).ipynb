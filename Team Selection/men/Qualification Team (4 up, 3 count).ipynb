{
 "cells": [
  {
   "cell_type": "markdown",
   "id": "f30790ca",
   "metadata": {},
   "source": [
    "# brute-force search\n",
    "\n",
    "Selected Athletes:\n",
    "['yul moldauer', 'fred richard', 'vitaliy guimaraes', 'asher hong']\n",
    "Maximum Score:\n",
    "173.798\n",
    "\n",
    "\n",
    "# CBC (Coin-or branch and cut) MILP solver \n",
    "\n",
    "Objective value:                177.60300000\n",
    "\n",
    "- yul moldauer \n",
    "- fred richard \n",
    "- khoi young \n",
    "- asher hong \n"
   ]
  },
  {
   "cell_type": "code",
   "execution_count": 2,
   "id": "93858416",
   "metadata": {
    "extensions": {
     "jupyter_dashboards": {
      "version": 1,
      "views": {
       "grid_default": {},
       "report_default": {}
      }
     }
    }
   },
   "outputs": [],
   "source": [
    "# Welcome to the CBC MILP Solver \n",
    "# Version: Trunk\n",
    "# Build Date: Oct 28 2021 \n",
    "\n",
    "# Starting solution of the Linear programming relaxation problem using Primal Simplex\n",
    "\n",
    "# The problem does not have an optimal solution.\n"
   ]
  },
  {
   "cell_type": "code",
   "execution_count": 3,
   "id": "47509060",
   "metadata": {
    "extensions": {
     "jupyter_dashboards": {
      "version": 1,
      "views": {
       "grid_default": {},
       "report_default": {}
      }
     }
    }
   },
   "outputs": [],
   "source": [
    "# from ortools.linear_solver import pywraplp\n",
    "# The problem does not have an optimal solution."
   ]
  },
  {
   "cell_type": "code",
   "execution_count": 16,
   "id": "b92c1537",
   "metadata": {
    "extensions": {
     "jupyter_dashboards": {
      "version": 1,
      "views": {
       "grid_default": {},
       "report_default": {}
      }
     }
    }
   },
   "outputs": [],
   "source": [
    "import pandas as pd\n",
    "import numpy as np\n",
    "import itertools\n",
    "from itertools import combinations\n",
    "from pyqubo import Array, Constraint, Placeholder, solve_qubo\n",
    "from pulp import LpProblem, LpVariable, lpSum, LpMaximize\n",
    "\n"
   ]
  },
  {
   "cell_type": "code",
   "execution_count": 5,
   "id": "361a3921",
   "metadata": {
    "extensions": {
     "jupyter_dashboards": {
      "version": 1,
      "views": {
       "grid_default": {},
       "report_default": {}
      }
     }
    }
   },
   "outputs": [],
   "source": [
    "df = pd.read_csv('usa_men.csv')\n"
   ]
  },
  {
   "cell_type": "code",
   "execution_count": 6,
   "id": "38fca972",
   "metadata": {
    "extensions": {
     "jupyter_dashboards": {
      "version": 1,
      "views": {
       "grid_default": {},
       "report_default": {}
      }
     }
    }
   },
   "outputs": [],
   "source": [
    "dfs = pd.read_csv('../../Data/cleandata22-23/usa_men22_23.csv')"
   ]
  },
  {
   "cell_type": "code",
   "execution_count": 7,
   "id": "d61219ab",
   "metadata": {
    "extensions": {
     "jupyter_dashboards": {
      "version": 1,
      "views": {
       "grid_default": {},
       "report_default": {}
      }
     }
    }
   },
   "outputs": [
    {
     "data": {
      "text/html": [
       "<div>\n",
       "<style scoped>\n",
       "    .dataframe tbody tr th:only-of-type {\n",
       "        vertical-align: middle;\n",
       "    }\n",
       "\n",
       "    .dataframe tbody tr th {\n",
       "        vertical-align: top;\n",
       "    }\n",
       "\n",
       "    .dataframe thead th {\n",
       "        text-align: right;\n",
       "    }\n",
       "</style>\n",
       "<table border=\"1\" class=\"dataframe\">\n",
       "  <thead>\n",
       "    <tr style=\"text-align: right;\">\n",
       "      <th></th>\n",
       "      <th>Name</th>\n",
       "      <th>Apparatus</th>\n",
       "      <th>D_Score</th>\n",
       "      <th>E_Score</th>\n",
       "      <th>Penalty</th>\n",
       "      <th>Score</th>\n",
       "    </tr>\n",
       "  </thead>\n",
       "  <tbody>\n",
       "    <tr>\n",
       "      <th>0</th>\n",
       "      <td>adriel perales-valencia</td>\n",
       "      <td>PB</td>\n",
       "      <td>5.200</td>\n",
       "      <td>8.7000</td>\n",
       "      <td>0.000</td>\n",
       "      <td>13.9000</td>\n",
       "    </tr>\n",
       "    <tr>\n",
       "      <th>1</th>\n",
       "      <td>adriel perales-valencia</td>\n",
       "      <td>SR</td>\n",
       "      <td>5.400</td>\n",
       "      <td>7.4500</td>\n",
       "      <td>0.000</td>\n",
       "      <td>12.8500</td>\n",
       "    </tr>\n",
       "    <tr>\n",
       "      <th>2</th>\n",
       "      <td>aidan cuy</td>\n",
       "      <td>FX</td>\n",
       "      <td>4.700</td>\n",
       "      <td>8.2000</td>\n",
       "      <td>0.000</td>\n",
       "      <td>12.9000</td>\n",
       "    </tr>\n",
       "    <tr>\n",
       "      <th>3</th>\n",
       "      <td>aidan cuy</td>\n",
       "      <td>HB</td>\n",
       "      <td>4.000</td>\n",
       "      <td>7.6500</td>\n",
       "      <td>0.000</td>\n",
       "      <td>11.6500</td>\n",
       "    </tr>\n",
       "    <tr>\n",
       "      <th>4</th>\n",
       "      <td>aidan cuy</td>\n",
       "      <td>PB</td>\n",
       "      <td>4.800</td>\n",
       "      <td>8.1500</td>\n",
       "      <td>0.000</td>\n",
       "      <td>12.9500</td>\n",
       "    </tr>\n",
       "    <tr>\n",
       "      <th>...</th>\n",
       "      <td>...</td>\n",
       "      <td>...</td>\n",
       "      <td>...</td>\n",
       "      <td>...</td>\n",
       "      <td>...</td>\n",
       "      <td>...</td>\n",
       "    </tr>\n",
       "    <tr>\n",
       "      <th>770</th>\n",
       "      <td>zachary nunez</td>\n",
       "      <td>HB</td>\n",
       "      <td>4.500</td>\n",
       "      <td>8.6500</td>\n",
       "      <td>0.000</td>\n",
       "      <td>13.1500</td>\n",
       "    </tr>\n",
       "    <tr>\n",
       "      <th>771</th>\n",
       "      <td>zachary nunez</td>\n",
       "      <td>PB</td>\n",
       "      <td>5.125</td>\n",
       "      <td>8.1125</td>\n",
       "      <td>0.000</td>\n",
       "      <td>13.2375</td>\n",
       "    </tr>\n",
       "    <tr>\n",
       "      <th>772</th>\n",
       "      <td>zachary nunez</td>\n",
       "      <td>PH</td>\n",
       "      <td>5.650</td>\n",
       "      <td>7.6250</td>\n",
       "      <td>0.000</td>\n",
       "      <td>13.2750</td>\n",
       "    </tr>\n",
       "    <tr>\n",
       "      <th>773</th>\n",
       "      <td>zachary nunez</td>\n",
       "      <td>SR</td>\n",
       "      <td>4.700</td>\n",
       "      <td>8.2500</td>\n",
       "      <td>0.000</td>\n",
       "      <td>12.9500</td>\n",
       "    </tr>\n",
       "    <tr>\n",
       "      <th>774</th>\n",
       "      <td>zachary nunez</td>\n",
       "      <td>VT</td>\n",
       "      <td>5.100</td>\n",
       "      <td>8.5375</td>\n",
       "      <td>0.025</td>\n",
       "      <td>13.6125</td>\n",
       "    </tr>\n",
       "  </tbody>\n",
       "</table>\n",
       "<p>775 rows × 6 columns</p>\n",
       "</div>"
      ],
      "text/plain": [
       "                        Name Apparatus  D_Score  E_Score  Penalty    Score\n",
       "0    adriel perales-valencia        PB    5.200   8.7000    0.000  13.9000\n",
       "1    adriel perales-valencia        SR    5.400   7.4500    0.000  12.8500\n",
       "2                  aidan cuy        FX    4.700   8.2000    0.000  12.9000\n",
       "3                  aidan cuy        HB    4.000   7.6500    0.000  11.6500\n",
       "4                  aidan cuy        PB    4.800   8.1500    0.000  12.9500\n",
       "..                       ...       ...      ...      ...      ...      ...\n",
       "770            zachary nunez        HB    4.500   8.6500    0.000  13.1500\n",
       "771            zachary nunez        PB    5.125   8.1125    0.000  13.2375\n",
       "772            zachary nunez        PH    5.650   7.6250    0.000  13.2750\n",
       "773            zachary nunez        SR    4.700   8.2500    0.000  12.9500\n",
       "774            zachary nunez        VT    5.100   8.5375    0.025  13.6125\n",
       "\n",
       "[775 rows x 6 columns]"
      ]
     },
     "execution_count": 7,
     "metadata": {},
     "output_type": "execute_result"
    }
   ],
   "source": [
    "dfs"
   ]
  },
  {
   "cell_type": "code",
   "execution_count": 8,
   "id": "38baff65",
   "metadata": {
    "extensions": {
     "jupyter_dashboards": {
      "version": 1,
      "views": {
       "grid_default": {},
       "report_default": {}
      }
     }
    }
   },
   "outputs": [],
   "source": [
    "df2=df.copy()"
   ]
  },
  {
   "cell_type": "code",
   "execution_count": 9,
   "id": "2bf3d3ec",
   "metadata": {
    "extensions": {
     "jupyter_dashboards": {
      "version": 1,
      "views": {
       "grid_default": {},
       "report_default": {}
      }
     }
    }
   },
   "outputs": [],
   "source": [
    "# Asher Hong\n",
    "# Fred Richard\n",
    "# Khoi Young\n",
    "# Vitaliy Guimaraes\n",
    "# Yul Moldauer"
   ]
  },
  {
   "cell_type": "code",
   "execution_count": 10,
   "id": "5de7d9f4",
   "metadata": {
    "extensions": {
     "jupyter_dashboards": {
      "version": 1,
      "views": {
       "grid_default": {},
       "report_default": {}
      }
     }
    }
   },
   "outputs": [],
   "source": [
    "selected_athletes = ['asher hong', 'fred richard', 'khoi young', \n",
    "                     'vitaliy guimaraes', 'yul moldauer']\n",
    "\n",
    "# Filter DataFrame based on the list of athletes\n",
    "filtered_df = df[df['Athlete'].isin(selected_athletes)]\n",
    "\n"
   ]
  },
  {
   "cell_type": "code",
   "execution_count": 11,
   "id": "fad60460",
   "metadata": {
    "extensions": {
     "jupyter_dashboards": {
      "version": 1,
      "views": {
       "grid_default": {},
       "report_default": {}
      }
     }
    }
   },
   "outputs": [],
   "source": [
    "df = filtered_df.copy()"
   ]
  },
  {
   "cell_type": "code",
   "execution_count": 12,
   "id": "d9dd53bc",
   "metadata": {
    "extensions": {
     "jupyter_dashboards": {
      "version": 1,
      "views": {
       "grid_default": {},
       "report_default": {}
      }
     }
    }
   },
   "outputs": [
    {
     "data": {
      "text/html": [
       "<div>\n",
       "<style scoped>\n",
       "    .dataframe tbody tr th:only-of-type {\n",
       "        vertical-align: middle;\n",
       "    }\n",
       "\n",
       "    .dataframe tbody tr th {\n",
       "        vertical-align: top;\n",
       "    }\n",
       "\n",
       "    .dataframe thead th {\n",
       "        text-align: right;\n",
       "    }\n",
       "</style>\n",
       "<table border=\"1\" class=\"dataframe\">\n",
       "  <thead>\n",
       "    <tr style=\"text-align: right;\">\n",
       "      <th></th>\n",
       "      <th>Unnamed: 0</th>\n",
       "      <th>Rank</th>\n",
       "      <th>Athlete</th>\n",
       "      <th>FX</th>\n",
       "      <th>PH</th>\n",
       "      <th>SR</th>\n",
       "      <th>VT</th>\n",
       "      <th>PB</th>\n",
       "      <th>HB</th>\n",
       "      <th>AA</th>\n",
       "    </tr>\n",
       "  </thead>\n",
       "  <tbody>\n",
       "    <tr>\n",
       "      <th>9</th>\n",
       "      <td>679</td>\n",
       "      <td>1.0</td>\n",
       "      <td>yul moldauer</td>\n",
       "      <td>14.4</td>\n",
       "      <td>13.957</td>\n",
       "      <td>14.114</td>\n",
       "      <td>14.25</td>\n",
       "      <td>15.121</td>\n",
       "      <td>13.5</td>\n",
       "      <td>85.342</td>\n",
       "    </tr>\n",
       "  </tbody>\n",
       "</table>\n",
       "</div>"
      ],
      "text/plain": [
       "   Unnamed: 0  Rank       Athlete    FX      PH      SR     VT      PB    HB  \\\n",
       "9         679   1.0  yul moldauer  14.4  13.957  14.114  14.25  15.121  13.5   \n",
       "\n",
       "       AA  \n",
       "9  85.342  "
      ]
     },
     "execution_count": 12,
     "metadata": {},
     "output_type": "execute_result"
    }
   ],
   "source": [
    "df.iloc[4:5]"
   ]
  },
  {
   "cell_type": "code",
   "execution_count": 13,
   "id": "86a9df42",
   "metadata": {
    "extensions": {
     "jupyter_dashboards": {
      "version": 1,
      "views": {
       "grid_default": {},
       "report_default": {}
      }
     }
    }
   },
   "outputs": [
    {
     "data": {
      "text/html": [
       "<div>\n",
       "<style scoped>\n",
       "    .dataframe tbody tr th:only-of-type {\n",
       "        vertical-align: middle;\n",
       "    }\n",
       "\n",
       "    .dataframe tbody tr th {\n",
       "        vertical-align: top;\n",
       "    }\n",
       "\n",
       "    .dataframe thead th {\n",
       "        text-align: right;\n",
       "    }\n",
       "</style>\n",
       "<table border=\"1\" class=\"dataframe\">\n",
       "  <thead>\n",
       "    <tr style=\"text-align: right;\">\n",
       "      <th></th>\n",
       "      <th>Unnamed: 0</th>\n",
       "      <th>Rank</th>\n",
       "      <th>Athlete</th>\n",
       "      <th>FX</th>\n",
       "      <th>PH</th>\n",
       "      <th>SR</th>\n",
       "      <th>VT</th>\n",
       "      <th>PB</th>\n",
       "      <th>HB</th>\n",
       "      <th>AA</th>\n",
       "    </tr>\n",
       "  </thead>\n",
       "  <tbody>\n",
       "    <tr>\n",
       "      <th>0</th>\n",
       "      <td>421</td>\n",
       "      <td>1.0</td>\n",
       "      <td>vitaliy guimaraes</td>\n",
       "      <td>14.250</td>\n",
       "      <td>14.350</td>\n",
       "      <td>13.600</td>\n",
       "      <td>14.450</td>\n",
       "      <td>13.900</td>\n",
       "      <td>13.400</td>\n",
       "      <td>83.950</td>\n",
       "    </tr>\n",
       "    <tr>\n",
       "      <th>1</th>\n",
       "      <td>422</td>\n",
       "      <td>2.0</td>\n",
       "      <td>khoi young</td>\n",
       "      <td>13.550</td>\n",
       "      <td>15.342</td>\n",
       "      <td>12.550</td>\n",
       "      <td>15.244</td>\n",
       "      <td>13.750</td>\n",
       "      <td>13.100</td>\n",
       "      <td>83.536</td>\n",
       "    </tr>\n",
       "    <tr>\n",
       "      <th>2</th>\n",
       "      <td>423</td>\n",
       "      <td>3.0</td>\n",
       "      <td>asher hong</td>\n",
       "      <td>14.029</td>\n",
       "      <td>12.949</td>\n",
       "      <td>14.566</td>\n",
       "      <td>16.680</td>\n",
       "      <td>14.355</td>\n",
       "      <td>10.450</td>\n",
       "      <td>83.029</td>\n",
       "    </tr>\n",
       "    <tr>\n",
       "      <th>3</th>\n",
       "      <td>424</td>\n",
       "      <td>4.0</td>\n",
       "      <td>yul moldauer</td>\n",
       "      <td>13.400</td>\n",
       "      <td>13.789</td>\n",
       "      <td>14.116</td>\n",
       "      <td>13.400</td>\n",
       "      <td>15.543</td>\n",
       "      <td>11.400</td>\n",
       "      <td>81.648</td>\n",
       "    </tr>\n",
       "    <tr>\n",
       "      <th>9</th>\n",
       "      <td>679</td>\n",
       "      <td>1.0</td>\n",
       "      <td>yul moldauer</td>\n",
       "      <td>14.400</td>\n",
       "      <td>13.957</td>\n",
       "      <td>14.114</td>\n",
       "      <td>14.250</td>\n",
       "      <td>15.121</td>\n",
       "      <td>13.500</td>\n",
       "      <td>85.342</td>\n",
       "    </tr>\n",
       "    <tr>\n",
       "      <th>10</th>\n",
       "      <td>680</td>\n",
       "      <td>2.0</td>\n",
       "      <td>fred richard</td>\n",
       "      <td>14.483</td>\n",
       "      <td>13.357</td>\n",
       "      <td>13.350</td>\n",
       "      <td>14.000</td>\n",
       "      <td>14.450</td>\n",
       "      <td>14.962</td>\n",
       "      <td>84.602</td>\n",
       "    </tr>\n",
       "    <tr>\n",
       "      <th>11</th>\n",
       "      <td>681</td>\n",
       "      <td>3.0</td>\n",
       "      <td>asher hong</td>\n",
       "      <td>12.203</td>\n",
       "      <td>12.507</td>\n",
       "      <td>14.133</td>\n",
       "      <td>14.755</td>\n",
       "      <td>14.700</td>\n",
       "      <td>13.650</td>\n",
       "      <td>81.948</td>\n",
       "    </tr>\n",
       "  </tbody>\n",
       "</table>\n",
       "</div>"
      ],
      "text/plain": [
       "    Unnamed: 0  Rank            Athlete      FX      PH      SR      VT  \\\n",
       "0          421   1.0  vitaliy guimaraes  14.250  14.350  13.600  14.450   \n",
       "1          422   2.0         khoi young  13.550  15.342  12.550  15.244   \n",
       "2          423   3.0         asher hong  14.029  12.949  14.566  16.680   \n",
       "3          424   4.0       yul moldauer  13.400  13.789  14.116  13.400   \n",
       "9          679   1.0       yul moldauer  14.400  13.957  14.114  14.250   \n",
       "10         680   2.0       fred richard  14.483  13.357  13.350  14.000   \n",
       "11         681   3.0         asher hong  12.203  12.507  14.133  14.755   \n",
       "\n",
       "        PB      HB      AA  \n",
       "0   13.900  13.400  83.950  \n",
       "1   13.750  13.100  83.536  \n",
       "2   14.355  10.450  83.029  \n",
       "3   15.543  11.400  81.648  \n",
       "9   15.121  13.500  85.342  \n",
       "10  14.450  14.962  84.602  \n",
       "11  14.700  13.650  81.948  "
      ]
     },
     "execution_count": 13,
     "metadata": {},
     "output_type": "execute_result"
    }
   ],
   "source": [
    "df"
   ]
  },
  {
   "cell_type": "code",
   "execution_count": 13,
   "id": "355c40e5",
   "metadata": {
    "extensions": {
     "jupyter_dashboards": {
      "version": 1,
      "views": {
       "grid_default": {},
       "report_default": {}
      }
     }
    }
   },
   "outputs": [],
   "source": [
    "sorted_df = df.sort_values(by='AA', ascending=False)"
   ]
  },
  {
   "cell_type": "code",
   "execution_count": 14,
   "id": "37791dda",
   "metadata": {
    "extensions": {
     "jupyter_dashboards": {
      "version": 1,
      "views": {
       "grid_default": {},
       "report_default": {}
      }
     }
    }
   },
   "outputs": [],
   "source": [
    "df=sorted_df.copy()"
   ]
  },
  {
   "cell_type": "code",
   "execution_count": 15,
   "id": "552e5981",
   "metadata": {
    "extensions": {
     "jupyter_dashboards": {
      "version": 1,
      "views": {
       "grid_default": {},
       "report_default": {}
      }
     }
    }
   },
   "outputs": [],
   "source": [
    "df = df.iloc[0:5]"
   ]
  },
  {
   "cell_type": "code",
   "execution_count": 16,
   "id": "ee592aaa",
   "metadata": {
    "extensions": {
     "jupyter_dashboards": {
      "version": 1,
      "views": {
       "grid_default": {},
       "report_default": {}
      }
     }
    }
   },
   "outputs": [],
   "source": [
    "df=df.drop(columns=['Unnamed: 0', 'Rank'])"
   ]
  },
  {
   "cell_type": "code",
   "execution_count": 17,
   "id": "c678ccc1",
   "metadata": {
    "extensions": {
     "jupyter_dashboards": {
      "version": 1,
      "views": {
       "grid_default": {},
       "report_default": {}
      }
     }
    }
   },
   "outputs": [],
   "source": [
    "df= df.drop(columns=['AA'])"
   ]
  },
  {
   "cell_type": "code",
   "execution_count": 18,
   "id": "6b69a4bf",
   "metadata": {
    "extensions": {
     "jupyter_dashboards": {
      "version": 1,
      "views": {
       "grid_default": {},
       "report_default": {}
      }
     }
    }
   },
   "outputs": [],
   "source": []
  },
  {
   "cell_type": "code",
   "execution_count": 19,
   "id": "9f9839be",
   "metadata": {
    "extensions": {
     "jupyter_dashboards": {
      "version": 1,
      "views": {
       "grid_default": {},
       "report_default": {}
      }
     }
    }
   },
   "outputs": [
    {
     "data": {
      "text/html": [
       "<div>\n",
       "<style scoped>\n",
       "    .dataframe tbody tr th:only-of-type {\n",
       "        vertical-align: middle;\n",
       "    }\n",
       "\n",
       "    .dataframe tbody tr th {\n",
       "        vertical-align: top;\n",
       "    }\n",
       "\n",
       "    .dataframe thead th {\n",
       "        text-align: right;\n",
       "    }\n",
       "</style>\n",
       "<table border=\"1\" class=\"dataframe\">\n",
       "  <thead>\n",
       "    <tr style=\"text-align: right;\">\n",
       "      <th></th>\n",
       "      <th>Athlete</th>\n",
       "      <th>FX</th>\n",
       "      <th>PH</th>\n",
       "      <th>SR</th>\n",
       "      <th>VT</th>\n",
       "      <th>PB</th>\n",
       "      <th>HB</th>\n",
       "    </tr>\n",
       "  </thead>\n",
       "  <tbody>\n",
       "    <tr>\n",
       "      <th>9</th>\n",
       "      <td>yul moldauer</td>\n",
       "      <td>14.400</td>\n",
       "      <td>13.957</td>\n",
       "      <td>14.114</td>\n",
       "      <td>14.250</td>\n",
       "      <td>15.121</td>\n",
       "      <td>13.500</td>\n",
       "    </tr>\n",
       "    <tr>\n",
       "      <th>10</th>\n",
       "      <td>fred richard</td>\n",
       "      <td>14.483</td>\n",
       "      <td>13.357</td>\n",
       "      <td>13.350</td>\n",
       "      <td>14.000</td>\n",
       "      <td>14.450</td>\n",
       "      <td>14.962</td>\n",
       "    </tr>\n",
       "    <tr>\n",
       "      <th>0</th>\n",
       "      <td>vitaliy guimaraes</td>\n",
       "      <td>14.250</td>\n",
       "      <td>14.350</td>\n",
       "      <td>13.600</td>\n",
       "      <td>14.450</td>\n",
       "      <td>13.900</td>\n",
       "      <td>13.400</td>\n",
       "    </tr>\n",
       "    <tr>\n",
       "      <th>1</th>\n",
       "      <td>khoi young</td>\n",
       "      <td>13.550</td>\n",
       "      <td>15.342</td>\n",
       "      <td>12.550</td>\n",
       "      <td>15.244</td>\n",
       "      <td>13.750</td>\n",
       "      <td>13.100</td>\n",
       "    </tr>\n",
       "    <tr>\n",
       "      <th>2</th>\n",
       "      <td>asher hong</td>\n",
       "      <td>14.029</td>\n",
       "      <td>12.949</td>\n",
       "      <td>14.566</td>\n",
       "      <td>16.680</td>\n",
       "      <td>14.355</td>\n",
       "      <td>10.450</td>\n",
       "    </tr>\n",
       "  </tbody>\n",
       "</table>\n",
       "</div>"
      ],
      "text/plain": [
       "              Athlete      FX      PH      SR      VT      PB      HB\n",
       "9        yul moldauer  14.400  13.957  14.114  14.250  15.121  13.500\n",
       "10       fred richard  14.483  13.357  13.350  14.000  14.450  14.962\n",
       "0   vitaliy guimaraes  14.250  14.350  13.600  14.450  13.900  13.400\n",
       "1          khoi young  13.550  15.342  12.550  15.244  13.750  13.100\n",
       "2          asher hong  14.029  12.949  14.566  16.680  14.355  10.450"
      ]
     },
     "execution_count": 19,
     "metadata": {},
     "output_type": "execute_result"
    }
   ],
   "source": [
    "df"
   ]
  },
  {
   "cell_type": "code",
   "execution_count": 20,
   "id": "f8418815",
   "metadata": {
    "extensions": {
     "jupyter_dashboards": {
      "version": 1,
      "views": {
       "grid_default": {},
       "report_default": {}
      }
     }
    },
    "scrolled": false
   },
   "outputs": [],
   "source": [
    "# import pandas as pd\n",
    "# import networkx as nx\n",
    "# from networkx.algorithms import bipartite\n",
    "\n",
    "\n",
    "\n",
    "# # Create a bipartite graph\n",
    "# B = nx.Graph()\n",
    "# B.add_nodes_from(df['Athlete'], bipartite=0)\n",
    "# B.add_nodes_from(df.columns[1:-1], bipartite=1)\n",
    "\n",
    "# # Add weighted edges\n",
    "# for i, row in df.iterrows():\n",
    "#     for j in range(1, len(df.columns)-1):\n",
    "#         B.add_edge(row['Athlete'], df.columns[j], weight=row[df.columns[j]])\n",
    "\n",
    "# # Solve the weighted bipartite matching problem\n",
    "# matching = bipartite.maximum_matching(B)\n",
    "\n",
    "# # Extract the selected athletes and their corresponding apparatus\n",
    "# selected_athletes = {athlete: apparatus for athlete, apparatus in matching.items() if isinstance(apparatus, str)}\n",
    "\n",
    "# # Print the selected athletes and their corresponding apparatus\n",
    "# for athlete, apparatus in selected_athletes.items():\n",
    "#     print(f\"{athlete} will compete on {apparatus}\")\n"
   ]
  },
  {
   "cell_type": "code",
   "execution_count": 21,
   "id": "5d621d57",
   "metadata": {
    "extensions": {
     "jupyter_dashboards": {
      "version": 1,
      "views": {
       "grid_default": {},
       "report_default": {}
      }
     }
    }
   },
   "outputs": [],
   "source": [
    "# data = {\n",
    "#     'Athlete': ['khoi young', 'fred richard', 'yul moldauer', 'vitaliy guimaraes', \n",
    "#                 'asher hong','vitaliy guimaraes', 'asher hong', 'fred richard',\n",
    "#                 'yul moldauer', 'khoi young'],\n",
    "#     'Apparatus': ['FX', 'PH', 'SR', 'VT', 'PB', 'VT', 'PB', 'PH', 'SR', 'FX' ]\n",
    "# }\n",
    "\n",
    "# df = pd.DataFrame(data)"
   ]
  },
  {
   "cell_type": "code",
   "execution_count": 22,
   "id": "67876a13",
   "metadata": {
    "extensions": {
     "jupyter_dashboards": {
      "version": 1,
      "views": {
       "grid_default": {},
       "report_default": {}
      }
     }
    }
   },
   "outputs": [],
   "source": [
    "# df['Apparatus'].value_counts()"
   ]
  },
  {
   "cell_type": "code",
   "execution_count": 23,
   "id": "83f72300",
   "metadata": {
    "extensions": {
     "jupyter_dashboards": {
      "version": 1,
      "views": {
       "grid_default": {},
       "report_default": {}
      }
     }
    }
   },
   "outputs": [],
   "source": [
    "# df['Athlete'].value_counts()"
   ]
  },
  {
   "cell_type": "code",
   "execution_count": 24,
   "id": "87c5eeb8",
   "metadata": {
    "extensions": {
     "jupyter_dashboards": {
      "version": 1,
      "views": {
       "grid_default": {},
       "report_default": {}
      }
     }
    }
   },
   "outputs": [
    {
     "data": {
      "text/html": [
       "<div>\n",
       "<style scoped>\n",
       "    .dataframe tbody tr th:only-of-type {\n",
       "        vertical-align: middle;\n",
       "    }\n",
       "\n",
       "    .dataframe tbody tr th {\n",
       "        vertical-align: top;\n",
       "    }\n",
       "\n",
       "    .dataframe thead th {\n",
       "        text-align: right;\n",
       "    }\n",
       "</style>\n",
       "<table border=\"1\" class=\"dataframe\">\n",
       "  <thead>\n",
       "    <tr style=\"text-align: right;\">\n",
       "      <th></th>\n",
       "      <th>Athlete</th>\n",
       "      <th>FX</th>\n",
       "      <th>PH</th>\n",
       "      <th>SR</th>\n",
       "      <th>VT</th>\n",
       "      <th>PB</th>\n",
       "      <th>HB</th>\n",
       "    </tr>\n",
       "  </thead>\n",
       "  <tbody>\n",
       "    <tr>\n",
       "      <th>9</th>\n",
       "      <td>yul moldauer</td>\n",
       "      <td>14.400</td>\n",
       "      <td>13.957</td>\n",
       "      <td>14.114</td>\n",
       "      <td>14.250</td>\n",
       "      <td>15.121</td>\n",
       "      <td>13.500</td>\n",
       "    </tr>\n",
       "    <tr>\n",
       "      <th>10</th>\n",
       "      <td>fred richard</td>\n",
       "      <td>14.483</td>\n",
       "      <td>13.357</td>\n",
       "      <td>13.350</td>\n",
       "      <td>14.000</td>\n",
       "      <td>14.450</td>\n",
       "      <td>14.962</td>\n",
       "    </tr>\n",
       "    <tr>\n",
       "      <th>0</th>\n",
       "      <td>vitaliy guimaraes</td>\n",
       "      <td>14.250</td>\n",
       "      <td>14.350</td>\n",
       "      <td>13.600</td>\n",
       "      <td>14.450</td>\n",
       "      <td>13.900</td>\n",
       "      <td>13.400</td>\n",
       "    </tr>\n",
       "    <tr>\n",
       "      <th>1</th>\n",
       "      <td>khoi young</td>\n",
       "      <td>13.550</td>\n",
       "      <td>15.342</td>\n",
       "      <td>12.550</td>\n",
       "      <td>15.244</td>\n",
       "      <td>13.750</td>\n",
       "      <td>13.100</td>\n",
       "    </tr>\n",
       "    <tr>\n",
       "      <th>2</th>\n",
       "      <td>asher hong</td>\n",
       "      <td>14.029</td>\n",
       "      <td>12.949</td>\n",
       "      <td>14.566</td>\n",
       "      <td>16.680</td>\n",
       "      <td>14.355</td>\n",
       "      <td>10.450</td>\n",
       "    </tr>\n",
       "  </tbody>\n",
       "</table>\n",
       "</div>"
      ],
      "text/plain": [
       "              Athlete      FX      PH      SR      VT      PB      HB\n",
       "9        yul moldauer  14.400  13.957  14.114  14.250  15.121  13.500\n",
       "10       fred richard  14.483  13.357  13.350  14.000  14.450  14.962\n",
       "0   vitaliy guimaraes  14.250  14.350  13.600  14.450  13.900  13.400\n",
       "1          khoi young  13.550  15.342  12.550  15.244  13.750  13.100\n",
       "2          asher hong  14.029  12.949  14.566  16.680  14.355  10.450"
      ]
     },
     "execution_count": 24,
     "metadata": {},
     "output_type": "execute_result"
    }
   ],
   "source": [
    "df"
   ]
  },
  {
   "cell_type": "markdown",
   "id": "e81f8782",
   "metadata": {},
   "source": [
    "# CBC (Coin-or branch and cut) MILP solver \n",
    "\n",
    "Objective value:                177.60300000\n",
    "Enumerated nodes:               0\n",
    "Total iterations:               0\n",
    "Time (CPU seconds):             0.01\n",
    "Time (Wallclock seconds):       0.02\n",
    "\n",
    "Option for printingOptions changed from normal to all\n",
    "Total time (CPU seconds):       0.01   (Wallclock seconds):       0.04\n",
    "\n",
    "yul moldauer \n",
    "fred richard \n",
    "khoi young \n",
    "asher hong \n"
   ]
  },
  {
   "cell_type": "code",
   "execution_count": 25,
   "id": "d15a9eb1",
   "metadata": {
    "extensions": {
     "jupyter_dashboards": {
      "version": 1,
      "views": {
       "grid_default": {},
       "report_default": {}
      }
     }
    },
    "scrolled": false
   },
   "outputs": [
    {
     "name": "stdout",
     "output_type": "stream",
     "text": [
      "Welcome to the CBC MILP Solver \n",
      "Version: 2.10.3 \n",
      "Build Date: Dec 15 2019 \n",
      "\n",
      "command line - /Users/ryantalbot/opt/anaconda3/envs/tf2/lib/python3.9/site-packages/pulp/solverdir/cbc/osx/64/cbc /var/folders/j_/555m2zps099832fjh_m8jjnc0000gn/T/a6a83c21ce6f4bb687fc4d2e83f05fd6-pulp.mps max timeMode elapsed branch printingOptions all solution /var/folders/j_/555m2zps099832fjh_m8jjnc0000gn/T/a6a83c21ce6f4bb687fc4d2e83f05fd6-pulp.sol (default strategy 1)\n",
      "At line 2 NAME          MODEL\n",
      "At line 3 ROWS\n",
      "At line 41 COLUMNS\n",
      "At line 382 RHS\n",
      "At line 419 BOUNDS\n",
      "At line 455 ENDATA\n",
      "Problem MODEL has 36 rows, 35 columns and 240 elements\n",
      "Coin0008I MODEL read with 0 errors\n",
      "Option for timeMode changed from cpu to elapsed\n",
      "Continuous objective value is 178.403 - 0.00 seconds\n",
      "Cgl0004I processed model has 6 rows, 35 columns (35 integer (35 of which binary)) and 40 elements\n",
      "Cutoff increment increased from 1e-05 to 0.000999\n",
      "Cbc0038I Initial state - 3 integers unsatisfied sum - 1\n",
      "Cbc0038I Pass   1: suminf.    1.00000 (3) obj. -178.403 iterations 1\n",
      "Cbc0038I Pass   2: suminf.    1.00000 (3) obj. -178.403 iterations 3\n",
      "Cbc0038I Pass   3: suminf.    1.00000 (3) obj. -173.029 iterations 8\n",
      "Cbc0038I Pass   4: suminf.    1.00000 (3) obj. -173.029 iterations 1\n",
      "Cbc0038I Pass   5: suminf.    1.00000 (3) obj. -173.029 iterations 1\n",
      "Cbc0038I Pass   6: suminf.    0.66667 (2) obj. -168.724 iterations 4\n",
      "Cbc0038I Pass   7: suminf.    0.66667 (2) obj. -168.724 iterations 4\n",
      "Cbc0038I Pass   8: suminf.    0.66667 (2) obj. -168.724 iterations 3\n",
      "Cbc0038I Pass   9: suminf.    0.66667 (2) obj. -167.241 iterations 9\n",
      "Cbc0038I Pass  10: suminf.    0.66667 (2) obj. -167.241 iterations 2\n",
      "Cbc0038I Pass  11: suminf.    0.66667 (2) obj. -167.241 iterations 1\n",
      "Cbc0038I Pass  12: suminf.    1.00000 (3) obj. -165.56 iterations 7\n",
      "Cbc0038I Pass  13: suminf.    1.00000 (3) obj. -165.56 iterations 1\n",
      "Cbc0038I Pass  14: suminf.    1.00000 (3) obj. -165.56 iterations 2\n",
      "Cbc0038I Pass  15: suminf.    0.66667 (2) obj. -166.517 iterations 5\n",
      "Cbc0038I Pass  16: suminf.    0.66667 (2) obj. -166.517 iterations 2\n",
      "Cbc0038I Pass  17: suminf.    0.66667 (2) obj. -166.517 iterations 2\n",
      "Cbc0038I Pass  18: suminf.    1.00000 (3) obj. -169.239 iterations 10\n",
      "Cbc0038I Pass  19: suminf.    1.00000 (3) obj. -169.239 iterations 1\n",
      "Cbc0038I Pass  20: suminf.    1.00000 (3) obj. -169.239 iterations 2\n",
      "Cbc0038I Pass  21: suminf.    0.66667 (2) obj. -171.308 iterations 15\n",
      "Cbc0038I Pass  22: suminf.    0.66667 (2) obj. -171.308 iterations 3\n",
      "Cbc0038I Pass  23: suminf.    0.66667 (2) obj. -171.308 iterations 1\n",
      "Cbc0038I Pass  24: suminf.    0.66667 (2) obj. -172.082 iterations 11\n",
      "Cbc0038I Pass  25: suminf.    0.66667 (2) obj. -172.082 iterations 2\n",
      "Cbc0038I Pass  26: suminf.    0.66667 (2) obj. -172.082 iterations 3\n",
      "Cbc0038I Pass  27: suminf.    0.00000 (0) obj. -170.884 iterations 10\n",
      "Cbc0038I Solution found of -170.884\n",
      "Cbc0038I Before mini branch and bound, 2 integers at bound fixed and 0 continuous\n",
      "Cbc0038I Full problem 6 rows 35 columns, reduced to 6 rows 32 columns\n",
      "Cbc0038I Mini branch and bound improved solution from -170.884 to -177.603 (0.02 seconds)\n",
      "Cbc0038I Round again with cutoff of -177.684\n",
      "Cbc0038I Reduced cost fixing fixed 12 variables on major pass 2\n",
      "Cbc0038I Pass  28: suminf.    1.00000 (3) obj. -178.403 iterations 0\n",
      "Cbc0038I Pass  29: suminf.    1.00000 (3) obj. -178.403 iterations 1\n",
      "Cbc0038I Pass  30: suminf.    1.80811 (6) obj. -177.684 iterations 5\n",
      "Cbc0038I Pass  31: suminf.    1.00000 (3) obj. -177.953 iterations 1\n",
      "Cbc0038I Pass  32: suminf.    1.00000 (3) obj. -177.953 iterations 1\n",
      "Cbc0038I Pass  33: suminf.    0.91073 (5) obj. -177.684 iterations 5\n",
      "Cbc0038I Pass  34: suminf.    0.66667 (2) obj. -177.753 iterations 4\n",
      "Cbc0038I Pass  35: suminf.    0.66667 (2) obj. -177.753 iterations 1\n",
      "Cbc0038I Pass  36: suminf.    1.21947 (5) obj. -177.684 iterations 6\n",
      "Cbc0038I Pass  37: suminf.    0.97863 (4) obj. -177.684 iterations 5\n",
      "Cbc0038I Pass  38: suminf.    0.84018 (5) obj. -177.684 iterations 3\n",
      "Cbc0038I Pass  39: suminf.    1.11236 (5) obj. -177.684 iterations 3\n",
      "Cbc0038I Pass  40: suminf.    1.11236 (5) obj. -177.684 iterations 2\n",
      "Cbc0038I Pass  41: suminf.    1.00000 (3) obj. -178.203 iterations 2\n",
      "Cbc0038I Pass  42: suminf.    1.00000 (3) obj. -178.203 iterations 1\n",
      "Cbc0038I Pass  43: suminf.    1.00000 (3) obj. -178.403 iterations 2\n",
      "Cbc0038I Pass  44: suminf.    1.00000 (3) obj. -178.403 iterations 1\n",
      "Cbc0038I Pass  45: suminf.    1.00000 (3) obj. -178.403 iterations 0\n",
      "Cbc0038I Pass  46: suminf.    1.00000 (3) obj. -178.403 iterations 0\n",
      "Cbc0038I Pass  47: suminf.    1.32761 (4) obj. -177.684 iterations 5\n",
      "Cbc0038I Pass  48: suminf.    1.32761 (4) obj. -177.684 iterations 1\n",
      "Cbc0038I Pass  49: suminf.    0.66667 (2) obj. -178.253 iterations 2\n",
      "Cbc0038I Pass  50: suminf.    0.66667 (2) obj. -178.253 iterations 1\n",
      "Cbc0038I Pass  51: suminf.    0.66667 (2) obj. -178.253 iterations 1\n",
      "Cbc0038I Pass  52: suminf.    0.66667 (2) obj. -178.253 iterations 1\n",
      "Cbc0038I Pass  53: suminf.    0.72981 (5) obj. -177.684 iterations 4\n",
      "Cbc0038I Pass  54: suminf.    0.66667 (2) obj. -177.703 iterations 1\n",
      "Cbc0038I Pass  55: suminf.    0.66667 (2) obj. -177.703 iterations 1\n",
      "Cbc0038I Pass  56: suminf.    0.81395 (5) obj. -177.684 iterations 5\n",
      "Cbc0038I Pass  57: suminf.    0.78534 (5) obj. -177.684 iterations 2\n",
      "Cbc0038I No solution found this major pass\n",
      "Cbc0038I Before mini branch and bound, 17 integers at bound fixed and 0 continuous\n",
      "Cbc0038I Mini branch and bound did not improve solution (0.02 seconds)\n",
      "Cbc0038I After 0.02 seconds - Feasibility pump exiting with objective of -177.603 - took 0.00 seconds\n",
      "Cbc0012I Integer solution of -177.603 found by feasibility pump after 0 iterations and 0 nodes (0.02 seconds)\n",
      "Cbc0001I Search completed - best objective -177.603, took 0 iterations and 0 nodes (0.02 seconds)\n",
      "Cbc0035I Maximum depth 0, 11 variables fixed on reduced cost\n",
      "Cuts at root node changed objective from -178.403 to -177.603\n",
      "Probing was tried 0 times and created 0 cuts of which 0 were active after adding rounds of cuts (0.000 seconds)\n",
      "Gomory was tried 0 times and created 0 cuts of which 0 were active after adding rounds of cuts (0.000 seconds)\n",
      "Knapsack was tried 0 times and created 0 cuts of which 0 were active after adding rounds of cuts (0.000 seconds)\n",
      "Clique was tried 0 times and created 0 cuts of which 0 were active after adding rounds of cuts (0.000 seconds)\n",
      "MixedIntegerRounding2 was tried 0 times and created 0 cuts of which 0 were active after adding rounds of cuts (0.000 seconds)\n",
      "FlowCover was tried 0 times and created 0 cuts of which 0 were active after adding rounds of cuts (0.000 seconds)\n",
      "TwoMirCuts was tried 0 times and created 0 cuts of which 0 were active after adding rounds of cuts (0.000 seconds)\n",
      "ZeroHalf was tried 0 times and created 0 cuts of which 0 were active after adding rounds of cuts (0.000 seconds)\n",
      "\n",
      "Result - Optimal solution found\n",
      "\n",
      "Objective value:                177.60300000\n",
      "Enumerated nodes:               0\n",
      "Total iterations:               0\n",
      "Time (CPU seconds):             0.01\n",
      "Time (Wallclock seconds):       0.02\n",
      "\n",
      "Option for printingOptions changed from normal to all\n",
      "Total time (CPU seconds):       0.01   (Wallclock seconds):       0.04\n",
      "\n",
      "yul moldauer \n",
      "fred richard \n",
      "khoi young \n",
      "asher hong \n"
     ]
    }
   ],
   "source": [
    "import pandas as pd\n",
    "from pulp import LpProblem, LpVariable, lpSum, LpMaximize\n",
    "\n",
    "# Sample DataFrame\n",
    "data = {\n",
    "    'Athlete': ['yul moldauer', 'fred richard', 'vitaliy guimaraes', 'khoi young', 'asher hong'],\n",
    "    'FX': [14.400, 14.483, 14.250, 13.550, 14.029],\n",
    "    'PH': [13.957, 13.357, 14.350, 15.342, 12.949],\n",
    "    'SR': [14.114, 13.350, 13.600, 12.550, 14.566],\n",
    "    'VT': [14.250, 14.000, 14.450, 15.244, 16.680],\n",
    "    'PB': [15.121, 14.450, 13.900, 13.750, 14.355],\n",
    "    'HB': [13.500, 14.962, 13.400, 13.100, 10.450],\n",
    "}\n",
    "\n",
    "df = pd.DataFrame(data)\n",
    "\n",
    "# Number of athletes and apparatus\n",
    "num_athletes = len(df)\n",
    "num_apparatus = len(df.columns) - 1  # Exclude 'Athlete' column\n",
    "\n",
    "# Binary decision variables\n",
    "athlete_vars = {athlete: LpVariable(f'athlete_{athlete}', cat='Binary') for athlete in df['Athlete']}\n",
    "apparatus_vars = {apparatus: LpVariable(f'apparatus_{apparatus}', cat='Binary') for apparatus in df.columns[1:]}\n",
    "\n",
    "# Continuous decision variables for scores\n",
    "score_vars = {(athlete, apparatus): LpVariable(f'score_{athlete}_{apparatus}', cat='Binary')\n",
    "              for athlete in df['Athlete'] for apparatus in df.columns[1:]}\n",
    "\n",
    "# Create the optimization problem\n",
    "prob = LpProblem(\"Athlete_Apparatus_Assignment\", LpMaximize)\n",
    "\n",
    "# Objective function: maximize the total AA score\n",
    "prob += lpSum(df.loc[i, apparatus] * score_vars[df['Athlete'][i], apparatus]\n",
    "              for i in range(num_athletes) for apparatus in df.columns[1:]), \"Total_Score\"\n",
    "\n",
    "# Constraints: each athlete competes on each apparatus exactly 3 times\n",
    "for i in range(num_athletes):\n",
    "    for apparatus in df.columns[1:]:\n",
    "        prob += lpSum(score_vars[df['Athlete'][i], app] for app in df.columns[1:]) == 3 * athlete_vars[df['Athlete'][i]]\n",
    "\n",
    "# Constraints: each apparatus is competed on exactly 3 times\n",
    "for apparatus in df.columns[1:]:\n",
    "    prob += lpSum(athlete_vars[athlete] for athlete in df['Athlete']) == 4, f'Apparatus_{apparatus}_constraint'\n",
    "\n",
    "# Solve the problem\n",
    "prob.solve()\n",
    "\n",
    "# Extract the selected athletes and their corresponding apparatus\n",
    "selected_athletes = [athlete for athlete, var in athlete_vars.items() if var.value() == 1]\n",
    "selected_apparatus = [apparatus for apparatus, var in apparatus_vars.items() if var.value() == 1]\n",
    "\n",
    "\n",
    "\n",
    "    \n",
    "# Print the selected athletes and their corresponding apparatus\n",
    "for athlete in selected_athletes:\n",
    "    athlete_apparatus = [apparatus for apparatus in df.columns[1:] if score_vars[athlete, apparatus].value() == 1]\n",
    "    print(f\"{athlete} \")\n"
   ]
  },
  {
   "cell_type": "code",
   "execution_count": 26,
   "id": "c2f32809",
   "metadata": {
    "extensions": {
     "jupyter_dashboards": {
      "version": 1,
      "views": {
       "grid_default": {},
       "report_default": {}
      }
     }
    }
   },
   "outputs": [
    {
     "data": {
      "text/html": [
       "<div>\n",
       "<style scoped>\n",
       "    .dataframe tbody tr th:only-of-type {\n",
       "        vertical-align: middle;\n",
       "    }\n",
       "\n",
       "    .dataframe tbody tr th {\n",
       "        vertical-align: top;\n",
       "    }\n",
       "\n",
       "    .dataframe thead th {\n",
       "        text-align: right;\n",
       "    }\n",
       "</style>\n",
       "<table border=\"1\" class=\"dataframe\">\n",
       "  <thead>\n",
       "    <tr style=\"text-align: right;\">\n",
       "      <th></th>\n",
       "      <th>Athlete</th>\n",
       "      <th>FX</th>\n",
       "      <th>PH</th>\n",
       "      <th>SR</th>\n",
       "      <th>VT</th>\n",
       "      <th>PB</th>\n",
       "      <th>HB</th>\n",
       "    </tr>\n",
       "  </thead>\n",
       "  <tbody>\n",
       "    <tr>\n",
       "      <th>0</th>\n",
       "      <td>yul moldauer</td>\n",
       "      <td>14.400</td>\n",
       "      <td>13.957</td>\n",
       "      <td>14.114</td>\n",
       "      <td>14.250</td>\n",
       "      <td>15.121</td>\n",
       "      <td>13.500</td>\n",
       "    </tr>\n",
       "    <tr>\n",
       "      <th>1</th>\n",
       "      <td>fred richard</td>\n",
       "      <td>14.483</td>\n",
       "      <td>13.357</td>\n",
       "      <td>13.350</td>\n",
       "      <td>14.000</td>\n",
       "      <td>14.450</td>\n",
       "      <td>14.962</td>\n",
       "    </tr>\n",
       "    <tr>\n",
       "      <th>2</th>\n",
       "      <td>vitaliy guimaraes</td>\n",
       "      <td>14.250</td>\n",
       "      <td>14.350</td>\n",
       "      <td>13.600</td>\n",
       "      <td>14.450</td>\n",
       "      <td>13.900</td>\n",
       "      <td>13.400</td>\n",
       "    </tr>\n",
       "    <tr>\n",
       "      <th>3</th>\n",
       "      <td>khoi young</td>\n",
       "      <td>13.550</td>\n",
       "      <td>15.342</td>\n",
       "      <td>12.550</td>\n",
       "      <td>15.244</td>\n",
       "      <td>13.750</td>\n",
       "      <td>13.100</td>\n",
       "    </tr>\n",
       "    <tr>\n",
       "      <th>4</th>\n",
       "      <td>asher hong</td>\n",
       "      <td>14.029</td>\n",
       "      <td>12.949</td>\n",
       "      <td>14.566</td>\n",
       "      <td>16.680</td>\n",
       "      <td>14.355</td>\n",
       "      <td>10.450</td>\n",
       "    </tr>\n",
       "  </tbody>\n",
       "</table>\n",
       "</div>"
      ],
      "text/plain": [
       "             Athlete      FX      PH      SR      VT      PB      HB\n",
       "0       yul moldauer  14.400  13.957  14.114  14.250  15.121  13.500\n",
       "1       fred richard  14.483  13.357  13.350  14.000  14.450  14.962\n",
       "2  vitaliy guimaraes  14.250  14.350  13.600  14.450  13.900  13.400\n",
       "3         khoi young  13.550  15.342  12.550  15.244  13.750  13.100\n",
       "4         asher hong  14.029  12.949  14.566  16.680  14.355  10.450"
      ]
     },
     "execution_count": 26,
     "metadata": {},
     "output_type": "execute_result"
    }
   ],
   "source": [
    "df"
   ]
  },
  {
   "cell_type": "code",
   "execution_count": 27,
   "id": "023c1a45",
   "metadata": {
    "extensions": {
     "jupyter_dashboards": {
      "version": 1,
      "views": {
       "grid_default": {},
       "report_default": {}
      }
     }
    }
   },
   "outputs": [],
   "source": [
    "df2=df2.drop(columns=['Unnamed: 0', 'Rank'])"
   ]
  },
  {
   "cell_type": "code",
   "execution_count": 28,
   "id": "99af1df0",
   "metadata": {
    "extensions": {
     "jupyter_dashboards": {
      "version": 1,
      "views": {
       "grid_default": {},
       "report_default": {}
      }
     }
    }
   },
   "outputs": [],
   "source": [
    "df_sorted = df2.sort_values(by='AA', ascending=False)"
   ]
  },
  {
   "cell_type": "code",
   "execution_count": 29,
   "id": "51d29223",
   "metadata": {
    "extensions": {
     "jupyter_dashboards": {
      "version": 1,
      "views": {
       "grid_default": {},
       "report_default": {}
      }
     }
    }
   },
   "outputs": [
    {
     "data": {
      "text/html": [
       "<div>\n",
       "<style scoped>\n",
       "    .dataframe tbody tr th:only-of-type {\n",
       "        vertical-align: middle;\n",
       "    }\n",
       "\n",
       "    .dataframe tbody tr th {\n",
       "        vertical-align: top;\n",
       "    }\n",
       "\n",
       "    .dataframe thead th {\n",
       "        text-align: right;\n",
       "    }\n",
       "</style>\n",
       "<table border=\"1\" class=\"dataframe\">\n",
       "  <thead>\n",
       "    <tr style=\"text-align: right;\">\n",
       "      <th></th>\n",
       "      <th>Athlete</th>\n",
       "      <th>FX</th>\n",
       "      <th>PH</th>\n",
       "      <th>SR</th>\n",
       "      <th>VT</th>\n",
       "      <th>PB</th>\n",
       "      <th>HB</th>\n",
       "      <th>AA</th>\n",
       "    </tr>\n",
       "  </thead>\n",
       "  <tbody>\n",
       "    <tr>\n",
       "      <th>9</th>\n",
       "      <td>yul moldauer</td>\n",
       "      <td>14.400</td>\n",
       "      <td>13.957</td>\n",
       "      <td>14.114</td>\n",
       "      <td>14.250</td>\n",
       "      <td>15.121</td>\n",
       "      <td>13.500</td>\n",
       "      <td>85.342</td>\n",
       "    </tr>\n",
       "    <tr>\n",
       "      <th>10</th>\n",
       "      <td>fred richard</td>\n",
       "      <td>14.483</td>\n",
       "      <td>13.357</td>\n",
       "      <td>13.350</td>\n",
       "      <td>14.000</td>\n",
       "      <td>14.450</td>\n",
       "      <td>14.962</td>\n",
       "      <td>84.602</td>\n",
       "    </tr>\n",
       "    <tr>\n",
       "      <th>0</th>\n",
       "      <td>vitaliy guimaraes</td>\n",
       "      <td>14.250</td>\n",
       "      <td>14.350</td>\n",
       "      <td>13.600</td>\n",
       "      <td>14.450</td>\n",
       "      <td>13.900</td>\n",
       "      <td>13.400</td>\n",
       "      <td>83.950</td>\n",
       "    </tr>\n",
       "    <tr>\n",
       "      <th>1</th>\n",
       "      <td>khoi young</td>\n",
       "      <td>13.550</td>\n",
       "      <td>15.342</td>\n",
       "      <td>12.550</td>\n",
       "      <td>15.244</td>\n",
       "      <td>13.750</td>\n",
       "      <td>13.100</td>\n",
       "      <td>83.536</td>\n",
       "    </tr>\n",
       "    <tr>\n",
       "      <th>2</th>\n",
       "      <td>asher hong</td>\n",
       "      <td>14.029</td>\n",
       "      <td>12.949</td>\n",
       "      <td>14.566</td>\n",
       "      <td>16.680</td>\n",
       "      <td>14.355</td>\n",
       "      <td>10.450</td>\n",
       "      <td>83.029</td>\n",
       "    </tr>\n",
       "    <tr>\n",
       "      <th>11</th>\n",
       "      <td>asher hong</td>\n",
       "      <td>12.203</td>\n",
       "      <td>12.507</td>\n",
       "      <td>14.133</td>\n",
       "      <td>14.755</td>\n",
       "      <td>14.700</td>\n",
       "      <td>13.650</td>\n",
       "      <td>81.948</td>\n",
       "    </tr>\n",
       "    <tr>\n",
       "      <th>12</th>\n",
       "      <td>ian lasic-ellis</td>\n",
       "      <td>13.600</td>\n",
       "      <td>13.400</td>\n",
       "      <td>13.950</td>\n",
       "      <td>13.700</td>\n",
       "      <td>14.500</td>\n",
       "      <td>12.755</td>\n",
       "      <td>81.905</td>\n",
       "    </tr>\n",
       "    <tr>\n",
       "      <th>3</th>\n",
       "      <td>yul moldauer</td>\n",
       "      <td>13.400</td>\n",
       "      <td>13.789</td>\n",
       "      <td>14.116</td>\n",
       "      <td>13.400</td>\n",
       "      <td>15.543</td>\n",
       "      <td>11.400</td>\n",
       "      <td>81.648</td>\n",
       "    </tr>\n",
       "    <tr>\n",
       "      <th>4</th>\n",
       "      <td>colt walker</td>\n",
       "      <td>12.450</td>\n",
       "      <td>12.750</td>\n",
       "      <td>13.250</td>\n",
       "      <td>14.897</td>\n",
       "      <td>15.055</td>\n",
       "      <td>13.100</td>\n",
       "      <td>81.502</td>\n",
       "    </tr>\n",
       "    <tr>\n",
       "      <th>13</th>\n",
       "      <td>shane wiskus</td>\n",
       "      <td>13.700</td>\n",
       "      <td>13.250</td>\n",
       "      <td>14.250</td>\n",
       "      <td>13.750</td>\n",
       "      <td>14.050</td>\n",
       "      <td>12.200</td>\n",
       "      <td>81.200</td>\n",
       "    </tr>\n",
       "    <tr>\n",
       "      <th>5</th>\n",
       "      <td>taylor burkhart</td>\n",
       "      <td>13.200</td>\n",
       "      <td>13.600</td>\n",
       "      <td>12.950</td>\n",
       "      <td>14.594</td>\n",
       "      <td>14.150</td>\n",
       "      <td>12.700</td>\n",
       "      <td>81.194</td>\n",
       "    </tr>\n",
       "    <tr>\n",
       "      <th>6</th>\n",
       "      <td>ian lasic-ellis</td>\n",
       "      <td>13.650</td>\n",
       "      <td>13.500</td>\n",
       "      <td>13.750</td>\n",
       "      <td>13.550</td>\n",
       "      <td>13.300</td>\n",
       "      <td>13.300</td>\n",
       "      <td>81.050</td>\n",
       "    </tr>\n",
       "    <tr>\n",
       "      <th>7</th>\n",
       "      <td>riley loos</td>\n",
       "      <td>12.700</td>\n",
       "      <td>13.600</td>\n",
       "      <td>13.600</td>\n",
       "      <td>14.747</td>\n",
       "      <td>14.100</td>\n",
       "      <td>12.300</td>\n",
       "      <td>81.047</td>\n",
       "    </tr>\n",
       "    <tr>\n",
       "      <th>14</th>\n",
       "      <td>riley loos</td>\n",
       "      <td>12.900</td>\n",
       "      <td>12.300</td>\n",
       "      <td>13.953</td>\n",
       "      <td>14.252</td>\n",
       "      <td>13.350</td>\n",
       "      <td>13.450</td>\n",
       "      <td>80.205</td>\n",
       "    </tr>\n",
       "    <tr>\n",
       "      <th>8</th>\n",
       "      <td>colin van</td>\n",
       "      <td>13.450</td>\n",
       "      <td>11.700</td>\n",
       "      <td>13.300</td>\n",
       "      <td>14.847</td>\n",
       "      <td>13.700</td>\n",
       "      <td>13.150</td>\n",
       "      <td>80.147</td>\n",
       "    </tr>\n",
       "  </tbody>\n",
       "</table>\n",
       "</div>"
      ],
      "text/plain": [
       "              Athlete      FX      PH      SR      VT      PB      HB      AA\n",
       "9        yul moldauer  14.400  13.957  14.114  14.250  15.121  13.500  85.342\n",
       "10       fred richard  14.483  13.357  13.350  14.000  14.450  14.962  84.602\n",
       "0   vitaliy guimaraes  14.250  14.350  13.600  14.450  13.900  13.400  83.950\n",
       "1          khoi young  13.550  15.342  12.550  15.244  13.750  13.100  83.536\n",
       "2          asher hong  14.029  12.949  14.566  16.680  14.355  10.450  83.029\n",
       "11         asher hong  12.203  12.507  14.133  14.755  14.700  13.650  81.948\n",
       "12    ian lasic-ellis  13.600  13.400  13.950  13.700  14.500  12.755  81.905\n",
       "3        yul moldauer  13.400  13.789  14.116  13.400  15.543  11.400  81.648\n",
       "4         colt walker  12.450  12.750  13.250  14.897  15.055  13.100  81.502\n",
       "13       shane wiskus  13.700  13.250  14.250  13.750  14.050  12.200  81.200\n",
       "5     taylor burkhart  13.200  13.600  12.950  14.594  14.150  12.700  81.194\n",
       "6     ian lasic-ellis  13.650  13.500  13.750  13.550  13.300  13.300  81.050\n",
       "7          riley loos  12.700  13.600  13.600  14.747  14.100  12.300  81.047\n",
       "14         riley loos  12.900  12.300  13.953  14.252  13.350  13.450  80.205\n",
       "8           colin van  13.450  11.700  13.300  14.847  13.700  13.150  80.147"
      ]
     },
     "execution_count": 29,
     "metadata": {},
     "output_type": "execute_result"
    }
   ],
   "source": [
    "df_sorted"
   ]
  },
  {
   "cell_type": "code",
   "execution_count": 30,
   "id": "847c5ecd",
   "metadata": {
    "extensions": {
     "jupyter_dashboards": {
      "version": 1,
      "views": {
       "grid_default": {},
       "report_default": {}
      }
     }
    }
   },
   "outputs": [],
   "source": [
    "df_unique = df_sorted.drop_duplicates(subset='Athlete', keep='first')"
   ]
  },
  {
   "cell_type": "code",
   "execution_count": 31,
   "id": "6aa52c18",
   "metadata": {
    "extensions": {
     "jupyter_dashboards": {
      "version": 1,
      "views": {
       "grid_default": {},
       "report_default": {}
      }
     }
    }
   },
   "outputs": [],
   "source": [
    "dfs = df_unique.copy()"
   ]
  },
  {
   "cell_type": "code",
   "execution_count": 32,
   "id": "56bc005e",
   "metadata": {
    "extensions": {
     "jupyter_dashboards": {
      "version": 1,
      "views": {
       "grid_default": {},
       "report_default": {}
      }
     }
    }
   },
   "outputs": [],
   "source": [
    "dfs=dfs.drop(columns=['AA'])"
   ]
  },
  {
   "cell_type": "code",
   "execution_count": 33,
   "id": "25c46bbc",
   "metadata": {
    "extensions": {
     "jupyter_dashboards": {
      "version": 1,
      "views": {
       "grid_default": {},
       "report_default": {}
      }
     }
    }
   },
   "outputs": [
    {
     "data": {
      "text/html": [
       "<div>\n",
       "<style scoped>\n",
       "    .dataframe tbody tr th:only-of-type {\n",
       "        vertical-align: middle;\n",
       "    }\n",
       "\n",
       "    .dataframe tbody tr th {\n",
       "        vertical-align: top;\n",
       "    }\n",
       "\n",
       "    .dataframe thead th {\n",
       "        text-align: right;\n",
       "    }\n",
       "</style>\n",
       "<table border=\"1\" class=\"dataframe\">\n",
       "  <thead>\n",
       "    <tr style=\"text-align: right;\">\n",
       "      <th></th>\n",
       "      <th>Athlete</th>\n",
       "      <th>FX</th>\n",
       "      <th>PH</th>\n",
       "      <th>SR</th>\n",
       "      <th>VT</th>\n",
       "      <th>PB</th>\n",
       "      <th>HB</th>\n",
       "    </tr>\n",
       "  </thead>\n",
       "  <tbody>\n",
       "    <tr>\n",
       "      <th>9</th>\n",
       "      <td>yul moldauer</td>\n",
       "      <td>14.400</td>\n",
       "      <td>13.957</td>\n",
       "      <td>14.114</td>\n",
       "      <td>14.250</td>\n",
       "      <td>15.121</td>\n",
       "      <td>13.500</td>\n",
       "    </tr>\n",
       "    <tr>\n",
       "      <th>10</th>\n",
       "      <td>fred richard</td>\n",
       "      <td>14.483</td>\n",
       "      <td>13.357</td>\n",
       "      <td>13.350</td>\n",
       "      <td>14.000</td>\n",
       "      <td>14.450</td>\n",
       "      <td>14.962</td>\n",
       "    </tr>\n",
       "    <tr>\n",
       "      <th>0</th>\n",
       "      <td>vitaliy guimaraes</td>\n",
       "      <td>14.250</td>\n",
       "      <td>14.350</td>\n",
       "      <td>13.600</td>\n",
       "      <td>14.450</td>\n",
       "      <td>13.900</td>\n",
       "      <td>13.400</td>\n",
       "    </tr>\n",
       "    <tr>\n",
       "      <th>1</th>\n",
       "      <td>khoi young</td>\n",
       "      <td>13.550</td>\n",
       "      <td>15.342</td>\n",
       "      <td>12.550</td>\n",
       "      <td>15.244</td>\n",
       "      <td>13.750</td>\n",
       "      <td>13.100</td>\n",
       "    </tr>\n",
       "    <tr>\n",
       "      <th>2</th>\n",
       "      <td>asher hong</td>\n",
       "      <td>14.029</td>\n",
       "      <td>12.949</td>\n",
       "      <td>14.566</td>\n",
       "      <td>16.680</td>\n",
       "      <td>14.355</td>\n",
       "      <td>10.450</td>\n",
       "    </tr>\n",
       "    <tr>\n",
       "      <th>12</th>\n",
       "      <td>ian lasic-ellis</td>\n",
       "      <td>13.600</td>\n",
       "      <td>13.400</td>\n",
       "      <td>13.950</td>\n",
       "      <td>13.700</td>\n",
       "      <td>14.500</td>\n",
       "      <td>12.755</td>\n",
       "    </tr>\n",
       "    <tr>\n",
       "      <th>4</th>\n",
       "      <td>colt walker</td>\n",
       "      <td>12.450</td>\n",
       "      <td>12.750</td>\n",
       "      <td>13.250</td>\n",
       "      <td>14.897</td>\n",
       "      <td>15.055</td>\n",
       "      <td>13.100</td>\n",
       "    </tr>\n",
       "    <tr>\n",
       "      <th>13</th>\n",
       "      <td>shane wiskus</td>\n",
       "      <td>13.700</td>\n",
       "      <td>13.250</td>\n",
       "      <td>14.250</td>\n",
       "      <td>13.750</td>\n",
       "      <td>14.050</td>\n",
       "      <td>12.200</td>\n",
       "    </tr>\n",
       "    <tr>\n",
       "      <th>5</th>\n",
       "      <td>taylor burkhart</td>\n",
       "      <td>13.200</td>\n",
       "      <td>13.600</td>\n",
       "      <td>12.950</td>\n",
       "      <td>14.594</td>\n",
       "      <td>14.150</td>\n",
       "      <td>12.700</td>\n",
       "    </tr>\n",
       "    <tr>\n",
       "      <th>7</th>\n",
       "      <td>riley loos</td>\n",
       "      <td>12.700</td>\n",
       "      <td>13.600</td>\n",
       "      <td>13.600</td>\n",
       "      <td>14.747</td>\n",
       "      <td>14.100</td>\n",
       "      <td>12.300</td>\n",
       "    </tr>\n",
       "    <tr>\n",
       "      <th>8</th>\n",
       "      <td>colin van</td>\n",
       "      <td>13.450</td>\n",
       "      <td>11.700</td>\n",
       "      <td>13.300</td>\n",
       "      <td>14.847</td>\n",
       "      <td>13.700</td>\n",
       "      <td>13.150</td>\n",
       "    </tr>\n",
       "  </tbody>\n",
       "</table>\n",
       "</div>"
      ],
      "text/plain": [
       "              Athlete      FX      PH      SR      VT      PB      HB\n",
       "9        yul moldauer  14.400  13.957  14.114  14.250  15.121  13.500\n",
       "10       fred richard  14.483  13.357  13.350  14.000  14.450  14.962\n",
       "0   vitaliy guimaraes  14.250  14.350  13.600  14.450  13.900  13.400\n",
       "1          khoi young  13.550  15.342  12.550  15.244  13.750  13.100\n",
       "2          asher hong  14.029  12.949  14.566  16.680  14.355  10.450\n",
       "12    ian lasic-ellis  13.600  13.400  13.950  13.700  14.500  12.755\n",
       "4         colt walker  12.450  12.750  13.250  14.897  15.055  13.100\n",
       "13       shane wiskus  13.700  13.250  14.250  13.750  14.050  12.200\n",
       "5     taylor burkhart  13.200  13.600  12.950  14.594  14.150  12.700\n",
       "7          riley loos  12.700  13.600  13.600  14.747  14.100  12.300\n",
       "8           colin van  13.450  11.700  13.300  14.847  13.700  13.150"
      ]
     },
     "execution_count": 33,
     "metadata": {},
     "output_type": "execute_result"
    }
   ],
   "source": [
    "dfs"
   ]
  },
  {
   "cell_type": "code",
   "execution_count": 34,
   "id": "2f9ef6a1",
   "metadata": {
    "extensions": {
     "jupyter_dashboards": {
      "version": 1,
      "views": {
       "grid_default": {},
       "report_default": {}
      }
     }
    }
   },
   "outputs": [],
   "source": [
    "from pulp import LpProblem, LpVariable, lpSum, value, LpMaximize"
   ]
  },
  {
   "cell_type": "code",
   "execution_count": 35,
   "id": "ffe51e85",
   "metadata": {
    "extensions": {
     "jupyter_dashboards": {
      "version": 1,
      "views": {
       "grid_default": {},
       "report_default": {}
      }
     }
    }
   },
   "outputs": [],
   "source": [
    "dfs = pd.read_csv('../../Data/cleandata22-23/usa_men22_23.csv')"
   ]
  },
  {
   "cell_type": "code",
   "execution_count": 36,
   "id": "3525033f",
   "metadata": {
    "extensions": {
     "jupyter_dashboards": {
      "version": 1,
      "views": {
       "grid_default": {},
       "report_default": {}
      }
     }
    }
   },
   "outputs": [],
   "source": [
    "df=dfs.copy()"
   ]
  },
  {
   "cell_type": "code",
   "execution_count": 37,
   "id": "f9913a92",
   "metadata": {
    "extensions": {
     "jupyter_dashboards": {
      "version": 1,
      "views": {
       "grid_default": {},
       "report_default": {}
      }
     }
    }
   },
   "outputs": [
    {
     "data": {
      "text/html": [
       "<div>\n",
       "<style scoped>\n",
       "    .dataframe tbody tr th:only-of-type {\n",
       "        vertical-align: middle;\n",
       "    }\n",
       "\n",
       "    .dataframe tbody tr th {\n",
       "        vertical-align: top;\n",
       "    }\n",
       "\n",
       "    .dataframe thead th {\n",
       "        text-align: right;\n",
       "    }\n",
       "</style>\n",
       "<table border=\"1\" class=\"dataframe\">\n",
       "  <thead>\n",
       "    <tr style=\"text-align: right;\">\n",
       "      <th></th>\n",
       "      <th>Name</th>\n",
       "      <th>Apparatus</th>\n",
       "      <th>D_Score</th>\n",
       "      <th>E_Score</th>\n",
       "      <th>Penalty</th>\n",
       "      <th>Score</th>\n",
       "    </tr>\n",
       "  </thead>\n",
       "  <tbody>\n",
       "    <tr>\n",
       "      <th>0</th>\n",
       "      <td>adriel perales-valencia</td>\n",
       "      <td>PB</td>\n",
       "      <td>5.200</td>\n",
       "      <td>8.7000</td>\n",
       "      <td>0.000</td>\n",
       "      <td>13.9000</td>\n",
       "    </tr>\n",
       "    <tr>\n",
       "      <th>1</th>\n",
       "      <td>adriel perales-valencia</td>\n",
       "      <td>SR</td>\n",
       "      <td>5.400</td>\n",
       "      <td>7.4500</td>\n",
       "      <td>0.000</td>\n",
       "      <td>12.8500</td>\n",
       "    </tr>\n",
       "    <tr>\n",
       "      <th>2</th>\n",
       "      <td>aidan cuy</td>\n",
       "      <td>FX</td>\n",
       "      <td>4.700</td>\n",
       "      <td>8.2000</td>\n",
       "      <td>0.000</td>\n",
       "      <td>12.9000</td>\n",
       "    </tr>\n",
       "    <tr>\n",
       "      <th>3</th>\n",
       "      <td>aidan cuy</td>\n",
       "      <td>HB</td>\n",
       "      <td>4.000</td>\n",
       "      <td>7.6500</td>\n",
       "      <td>0.000</td>\n",
       "      <td>11.6500</td>\n",
       "    </tr>\n",
       "    <tr>\n",
       "      <th>4</th>\n",
       "      <td>aidan cuy</td>\n",
       "      <td>PB</td>\n",
       "      <td>4.800</td>\n",
       "      <td>8.1500</td>\n",
       "      <td>0.000</td>\n",
       "      <td>12.9500</td>\n",
       "    </tr>\n",
       "    <tr>\n",
       "      <th>...</th>\n",
       "      <td>...</td>\n",
       "      <td>...</td>\n",
       "      <td>...</td>\n",
       "      <td>...</td>\n",
       "      <td>...</td>\n",
       "      <td>...</td>\n",
       "    </tr>\n",
       "    <tr>\n",
       "      <th>770</th>\n",
       "      <td>zachary nunez</td>\n",
       "      <td>HB</td>\n",
       "      <td>4.500</td>\n",
       "      <td>8.6500</td>\n",
       "      <td>0.000</td>\n",
       "      <td>13.1500</td>\n",
       "    </tr>\n",
       "    <tr>\n",
       "      <th>771</th>\n",
       "      <td>zachary nunez</td>\n",
       "      <td>PB</td>\n",
       "      <td>5.125</td>\n",
       "      <td>8.1125</td>\n",
       "      <td>0.000</td>\n",
       "      <td>13.2375</td>\n",
       "    </tr>\n",
       "    <tr>\n",
       "      <th>772</th>\n",
       "      <td>zachary nunez</td>\n",
       "      <td>PH</td>\n",
       "      <td>5.650</td>\n",
       "      <td>7.6250</td>\n",
       "      <td>0.000</td>\n",
       "      <td>13.2750</td>\n",
       "    </tr>\n",
       "    <tr>\n",
       "      <th>773</th>\n",
       "      <td>zachary nunez</td>\n",
       "      <td>SR</td>\n",
       "      <td>4.700</td>\n",
       "      <td>8.2500</td>\n",
       "      <td>0.000</td>\n",
       "      <td>12.9500</td>\n",
       "    </tr>\n",
       "    <tr>\n",
       "      <th>774</th>\n",
       "      <td>zachary nunez</td>\n",
       "      <td>VT</td>\n",
       "      <td>5.100</td>\n",
       "      <td>8.5375</td>\n",
       "      <td>0.025</td>\n",
       "      <td>13.6125</td>\n",
       "    </tr>\n",
       "  </tbody>\n",
       "</table>\n",
       "<p>775 rows × 6 columns</p>\n",
       "</div>"
      ],
      "text/plain": [
       "                        Name Apparatus  D_Score  E_Score  Penalty    Score\n",
       "0    adriel perales-valencia        PB    5.200   8.7000    0.000  13.9000\n",
       "1    adriel perales-valencia        SR    5.400   7.4500    0.000  12.8500\n",
       "2                  aidan cuy        FX    4.700   8.2000    0.000  12.9000\n",
       "3                  aidan cuy        HB    4.000   7.6500    0.000  11.6500\n",
       "4                  aidan cuy        PB    4.800   8.1500    0.000  12.9500\n",
       "..                       ...       ...      ...      ...      ...      ...\n",
       "770            zachary nunez        HB    4.500   8.6500    0.000  13.1500\n",
       "771            zachary nunez        PB    5.125   8.1125    0.000  13.2375\n",
       "772            zachary nunez        PH    5.650   7.6250    0.000  13.2750\n",
       "773            zachary nunez        SR    4.700   8.2500    0.000  12.9500\n",
       "774            zachary nunez        VT    5.100   8.5375    0.025  13.6125\n",
       "\n",
       "[775 rows x 6 columns]"
      ]
     },
     "execution_count": 37,
     "metadata": {},
     "output_type": "execute_result"
    }
   ],
   "source": [
    "df\n"
   ]
  },
  {
   "cell_type": "code",
   "execution_count": 38,
   "id": "04978747",
   "metadata": {},
   "outputs": [],
   "source": [
    "average_scores = df.groupby(['Name', 'Apparatus']).mean().reset_index()"
   ]
  },
  {
   "cell_type": "code",
   "execution_count": 39,
   "id": "64ab1853",
   "metadata": {},
   "outputs": [
    {
     "data": {
      "text/html": [
       "<div>\n",
       "<style scoped>\n",
       "    .dataframe tbody tr th:only-of-type {\n",
       "        vertical-align: middle;\n",
       "    }\n",
       "\n",
       "    .dataframe tbody tr th {\n",
       "        vertical-align: top;\n",
       "    }\n",
       "\n",
       "    .dataframe thead th {\n",
       "        text-align: right;\n",
       "    }\n",
       "</style>\n",
       "<table border=\"1\" class=\"dataframe\">\n",
       "  <thead>\n",
       "    <tr style=\"text-align: right;\">\n",
       "      <th></th>\n",
       "      <th>Name</th>\n",
       "      <th>Apparatus</th>\n",
       "      <th>D_Score</th>\n",
       "      <th>E_Score</th>\n",
       "      <th>Penalty</th>\n",
       "      <th>Score</th>\n",
       "    </tr>\n",
       "  </thead>\n",
       "  <tbody>\n",
       "    <tr>\n",
       "      <th>0</th>\n",
       "      <td>adriel perales-valencia</td>\n",
       "      <td>PB</td>\n",
       "      <td>5.200</td>\n",
       "      <td>8.7000</td>\n",
       "      <td>0.000</td>\n",
       "      <td>13.9000</td>\n",
       "    </tr>\n",
       "    <tr>\n",
       "      <th>1</th>\n",
       "      <td>adriel perales-valencia</td>\n",
       "      <td>SR</td>\n",
       "      <td>5.400</td>\n",
       "      <td>7.4500</td>\n",
       "      <td>0.000</td>\n",
       "      <td>12.8500</td>\n",
       "    </tr>\n",
       "    <tr>\n",
       "      <th>2</th>\n",
       "      <td>aidan cuy</td>\n",
       "      <td>FX</td>\n",
       "      <td>4.700</td>\n",
       "      <td>8.2000</td>\n",
       "      <td>0.000</td>\n",
       "      <td>12.9000</td>\n",
       "    </tr>\n",
       "    <tr>\n",
       "      <th>3</th>\n",
       "      <td>aidan cuy</td>\n",
       "      <td>HB</td>\n",
       "      <td>4.000</td>\n",
       "      <td>7.6500</td>\n",
       "      <td>0.000</td>\n",
       "      <td>11.6500</td>\n",
       "    </tr>\n",
       "    <tr>\n",
       "      <th>4</th>\n",
       "      <td>aidan cuy</td>\n",
       "      <td>PB</td>\n",
       "      <td>4.800</td>\n",
       "      <td>8.1500</td>\n",
       "      <td>0.000</td>\n",
       "      <td>12.9500</td>\n",
       "    </tr>\n",
       "    <tr>\n",
       "      <th>...</th>\n",
       "      <td>...</td>\n",
       "      <td>...</td>\n",
       "      <td>...</td>\n",
       "      <td>...</td>\n",
       "      <td>...</td>\n",
       "      <td>...</td>\n",
       "    </tr>\n",
       "    <tr>\n",
       "      <th>770</th>\n",
       "      <td>zachary nunez</td>\n",
       "      <td>HB</td>\n",
       "      <td>4.500</td>\n",
       "      <td>8.6500</td>\n",
       "      <td>0.000</td>\n",
       "      <td>13.1500</td>\n",
       "    </tr>\n",
       "    <tr>\n",
       "      <th>771</th>\n",
       "      <td>zachary nunez</td>\n",
       "      <td>PB</td>\n",
       "      <td>5.125</td>\n",
       "      <td>8.1125</td>\n",
       "      <td>0.000</td>\n",
       "      <td>13.2375</td>\n",
       "    </tr>\n",
       "    <tr>\n",
       "      <th>772</th>\n",
       "      <td>zachary nunez</td>\n",
       "      <td>PH</td>\n",
       "      <td>5.650</td>\n",
       "      <td>7.6250</td>\n",
       "      <td>0.000</td>\n",
       "      <td>13.2750</td>\n",
       "    </tr>\n",
       "    <tr>\n",
       "      <th>773</th>\n",
       "      <td>zachary nunez</td>\n",
       "      <td>SR</td>\n",
       "      <td>4.700</td>\n",
       "      <td>8.2500</td>\n",
       "      <td>0.000</td>\n",
       "      <td>12.9500</td>\n",
       "    </tr>\n",
       "    <tr>\n",
       "      <th>774</th>\n",
       "      <td>zachary nunez</td>\n",
       "      <td>VT</td>\n",
       "      <td>5.100</td>\n",
       "      <td>8.5375</td>\n",
       "      <td>0.025</td>\n",
       "      <td>13.6125</td>\n",
       "    </tr>\n",
       "  </tbody>\n",
       "</table>\n",
       "<p>775 rows × 6 columns</p>\n",
       "</div>"
      ],
      "text/plain": [
       "                        Name Apparatus  D_Score  E_Score  Penalty    Score\n",
       "0    adriel perales-valencia        PB    5.200   8.7000    0.000  13.9000\n",
       "1    adriel perales-valencia        SR    5.400   7.4500    0.000  12.8500\n",
       "2                  aidan cuy        FX    4.700   8.2000    0.000  12.9000\n",
       "3                  aidan cuy        HB    4.000   7.6500    0.000  11.6500\n",
       "4                  aidan cuy        PB    4.800   8.1500    0.000  12.9500\n",
       "..                       ...       ...      ...      ...      ...      ...\n",
       "770            zachary nunez        HB    4.500   8.6500    0.000  13.1500\n",
       "771            zachary nunez        PB    5.125   8.1125    0.000  13.2375\n",
       "772            zachary nunez        PH    5.650   7.6250    0.000  13.2750\n",
       "773            zachary nunez        SR    4.700   8.2500    0.000  12.9500\n",
       "774            zachary nunez        VT    5.100   8.5375    0.025  13.6125\n",
       "\n",
       "[775 rows x 6 columns]"
      ]
     },
     "execution_count": 39,
     "metadata": {},
     "output_type": "execute_result"
    }
   ],
   "source": [
    "average_scores"
   ]
  },
  {
   "cell_type": "markdown",
   "id": "a89c0597",
   "metadata": {},
   "source": [
    "# brute-force search\n",
    "\n",
    "Selected Athletes:\n",
    "['yul moldauer', 'fred richard', 'vitaliy guimaraes', 'asher hong']\n",
    "Maximum Score:\n",
    "173.798\n"
   ]
  },
  {
   "cell_type": "code",
   "execution_count": 18,
   "id": "b4174535",
   "metadata": {
    "extensions": {
     "jupyter_dashboards": {
      "version": 1,
      "views": {
       "grid_default": {},
       "report_default": {}
      }
     }
    }
   },
   "outputs": [
    {
     "name": "stdout",
     "output_type": "stream",
     "text": [
      "Selected Athletes:\n",
      "['yul moldauer', 'fred richard', 'vitaliy guimaraes', 'asher hong']\n",
      "Maximum Score:\n",
      "173.798\n"
     ]
    }
   ],
   "source": [
    "\n",
    "# Define the dataframe with athlete scores\n",
    "df = pd.DataFrame({\n",
    "    'Athlete': ['yul moldauer', 'fred richard', 'vitaliy guimaraes', 'khoi young', 'asher hong'],\n",
    "    'FX': [14.400, 14.483, 14.250, 13.550, 14.029],\n",
    "    'PH': [13.957, 13.357, 14.350, 15.342, 12.949],\n",
    "    'SR': [14.114, 13.350, 13.600, 12.550, 14.566],\n",
    "    'VT': [14.250, 14.000, 14.450, 15.244, 16.680],\n",
    "    'PB': [15.121, 14.450, 13.900, 13.750, 14.355],\n",
    "    'HB': [13.500, 14.962, 13.400, 13.100, 10.450]\n",
    "})\n",
    "\n",
    "# Define the number of athletes to select\n",
    "num_athletes = 4\n",
    "\n",
    "# Define the apparatuses\n",
    "apparatuses = ['FX', 'PH', 'SR', 'VT', 'PB', 'HB']\n",
    "\n",
    "# Generate all possible combinations of athletes\n",
    "athlete_combinations = list(itertools.combinations(df['Athlete'], num_athletes))\n",
    "\n",
    "# Initialize variables to store the maximum score and the selected athletes\n",
    "max_score = 0\n",
    "selected_athletes = []\n",
    "\n",
    "# Iterate through each combination of athletes\n",
    "for combination in athlete_combinations:\n",
    "    # Generate all possible combinations of apparatuses for the current athlete combination\n",
    "    apparatus_combinations = list(itertools.combinations(apparatuses, num_athletes))\n",
    "    \n",
    "    # Iterate through each combination of apparatuses\n",
    "    for apparatus_combination in apparatus_combinations:\n",
    "        # Calculate the sum of the top three scores for the current apparatus combination\n",
    "        score = df[df['Athlete'].isin(combination)][list(apparatus_combination)].sum(axis=1).nlargest(3).sum()\n",
    "        \n",
    "        # Update the maximum score and selected athletes if a higher score is found\n",
    "        if score > max_score:\n",
    "            max_score = score\n",
    "            selected_athletes = list(combination)\n",
    "\n",
    "# Print the selected athletes and the maximum score\n",
    "print('Selected Athletes:')\n",
    "print(selected_athletes)\n",
    "print('Maximum Score:')\n",
    "print(max_score)"
   ]
  },
  {
   "cell_type": "code",
   "execution_count": 41,
   "id": "5db19d59",
   "metadata": {
    "extensions": {
     "jupyter_dashboards": {
      "version": 1,
      "views": {
       "grid_default": {},
       "report_default": {}
      }
     }
    }
   },
   "outputs": [
    {
     "data": {
      "text/html": [
       "<div>\n",
       "<style scoped>\n",
       "    .dataframe tbody tr th:only-of-type {\n",
       "        vertical-align: middle;\n",
       "    }\n",
       "\n",
       "    .dataframe tbody tr th {\n",
       "        vertical-align: top;\n",
       "    }\n",
       "\n",
       "    .dataframe thead th {\n",
       "        text-align: right;\n",
       "    }\n",
       "</style>\n",
       "<table border=\"1\" class=\"dataframe\">\n",
       "  <thead>\n",
       "    <tr style=\"text-align: right;\">\n",
       "      <th></th>\n",
       "      <th>Athlete</th>\n",
       "      <th>FX</th>\n",
       "      <th>PH</th>\n",
       "      <th>SR</th>\n",
       "      <th>VT</th>\n",
       "      <th>PB</th>\n",
       "      <th>HB</th>\n",
       "    </tr>\n",
       "  </thead>\n",
       "  <tbody>\n",
       "    <tr>\n",
       "      <th>0</th>\n",
       "      <td>yul moldauer</td>\n",
       "      <td>14.400</td>\n",
       "      <td>13.957</td>\n",
       "      <td>14.114</td>\n",
       "      <td>14.250</td>\n",
       "      <td>15.121</td>\n",
       "      <td>13.500</td>\n",
       "    </tr>\n",
       "    <tr>\n",
       "      <th>1</th>\n",
       "      <td>fred richard</td>\n",
       "      <td>14.483</td>\n",
       "      <td>13.357</td>\n",
       "      <td>13.350</td>\n",
       "      <td>14.000</td>\n",
       "      <td>14.450</td>\n",
       "      <td>14.962</td>\n",
       "    </tr>\n",
       "    <tr>\n",
       "      <th>2</th>\n",
       "      <td>vitaliy guimaraes</td>\n",
       "      <td>14.250</td>\n",
       "      <td>14.350</td>\n",
       "      <td>13.600</td>\n",
       "      <td>14.450</td>\n",
       "      <td>13.900</td>\n",
       "      <td>13.400</td>\n",
       "    </tr>\n",
       "    <tr>\n",
       "      <th>3</th>\n",
       "      <td>khoi young</td>\n",
       "      <td>13.550</td>\n",
       "      <td>15.342</td>\n",
       "      <td>12.550</td>\n",
       "      <td>15.244</td>\n",
       "      <td>13.750</td>\n",
       "      <td>13.100</td>\n",
       "    </tr>\n",
       "    <tr>\n",
       "      <th>4</th>\n",
       "      <td>asher hong</td>\n",
       "      <td>14.029</td>\n",
       "      <td>12.949</td>\n",
       "      <td>14.566</td>\n",
       "      <td>16.680</td>\n",
       "      <td>14.355</td>\n",
       "      <td>10.450</td>\n",
       "    </tr>\n",
       "  </tbody>\n",
       "</table>\n",
       "</div>"
      ],
      "text/plain": [
       "             Athlete      FX      PH      SR      VT      PB      HB\n",
       "0       yul moldauer  14.400  13.957  14.114  14.250  15.121  13.500\n",
       "1       fred richard  14.483  13.357  13.350  14.000  14.450  14.962\n",
       "2  vitaliy guimaraes  14.250  14.350  13.600  14.450  13.900  13.400\n",
       "3         khoi young  13.550  15.342  12.550  15.244  13.750  13.100\n",
       "4         asher hong  14.029  12.949  14.566  16.680  14.355  10.450"
      ]
     },
     "execution_count": 41,
     "metadata": {},
     "output_type": "execute_result"
    }
   ],
   "source": [
    "df"
   ]
  },
  {
   "cell_type": "code",
   "execution_count": null,
   "id": "6821f044",
   "metadata": {},
   "outputs": [],
   "source": []
  }
 ],
 "metadata": {
  "extensions": {
   "jupyter_dashboards": {
    "activeView": "grid_default",
    "version": 1,
    "views": {
     "grid_default": {
      "cellMargin": 10,
      "defaultCellHeight": 20,
      "maxColumns": 12,
      "name": "grid",
      "type": "grid"
     },
     "report_default": {
      "name": "report",
      "type": "report"
     }
    }
   }
  },
  "kernelspec": {
   "display_name": "Python 3 (ipykernel)",
   "language": "python",
   "name": "python3"
  },
  "language_info": {
   "codemirror_mode": {
    "name": "ipython",
    "version": 3
   },
   "file_extension": ".py",
   "mimetype": "text/x-python",
   "name": "python",
   "nbconvert_exporter": "python",
   "pygments_lexer": "ipython3",
   "version": "3.9.12"
  }
 },
 "nbformat": 4,
 "nbformat_minor": 5
}
