{
 "cells": [
  {
   "cell_type": "code",
   "execution_count": null,
   "id": "93858416",
   "metadata": {
    "extensions": {
     "jupyter_dashboards": {
      "version": 1,
      "views": {
       "grid_default": {},
       "report_default": {}
      }
     }
    }
   },
   "outputs": [],
   "source": [
    "# Welcome to the CBC MILP Solver \n",
    "# Version: Trunk\n",
    "# Build Date: Oct 28 2021 \n",
    "\n",
    "# Starting solution of the Linear programming relaxation problem using Primal Simplex\n",
    "\n",
    "# The problem does not have an optimal solution.\n"
   ]
  },
  {
   "cell_type": "code",
   "execution_count": null,
   "id": "47509060",
   "metadata": {
    "extensions": {
     "jupyter_dashboards": {
      "version": 1,
      "views": {
       "grid_default": {},
       "report_default": {}
      }
     }
    }
   },
   "outputs": [],
   "source": [
    "# from ortools.linear_solver import pywraplp\n",
    "# The problem does not have an optimal solution."
   ]
  },
  {
   "cell_type": "code",
   "execution_count": 1,
   "id": "b92c1537",
   "metadata": {
    "extensions": {
     "jupyter_dashboards": {
      "version": 1,
      "views": {
       "grid_default": {},
       "report_default": {}
      }
     }
    }
   },
   "outputs": [],
   "source": [
    "import pandas as pd\n",
    "import numpy as np"
   ]
  },
  {
   "cell_type": "code",
   "execution_count": 2,
   "id": "361a3921",
   "metadata": {
    "extensions": {
     "jupyter_dashboards": {
      "version": 1,
      "views": {
       "grid_default": {},
       "report_default": {}
      }
     }
    }
   },
   "outputs": [],
   "source": [
    "df = pd.read_csv('usa_men.csv')\n"
   ]
  },
  {
   "cell_type": "code",
   "execution_count": 3,
   "id": "38fca972",
   "metadata": {
    "extensions": {
     "jupyter_dashboards": {
      "version": 1,
      "views": {
       "grid_default": {},
       "report_default": {}
      }
     }
    }
   },
   "outputs": [],
   "source": [
    "dfs = pd.read_csv('../../Data/cleandata22-23/usa_men22_23.csv')"
   ]
  },
  {
   "cell_type": "code",
   "execution_count": 4,
   "id": "d61219ab",
   "metadata": {
    "extensions": {
     "jupyter_dashboards": {
      "version": 1,
      "views": {
       "grid_default": {},
       "report_default": {}
      }
     }
    }
   },
   "outputs": [
    {
     "data": {
      "text/html": [
       "<div>\n",
       "<style scoped>\n",
       "    .dataframe tbody tr th:only-of-type {\n",
       "        vertical-align: middle;\n",
       "    }\n",
       "\n",
       "    .dataframe tbody tr th {\n",
       "        vertical-align: top;\n",
       "    }\n",
       "\n",
       "    .dataframe thead th {\n",
       "        text-align: right;\n",
       "    }\n",
       "</style>\n",
       "<table border=\"1\" class=\"dataframe\">\n",
       "  <thead>\n",
       "    <tr style=\"text-align: right;\">\n",
       "      <th></th>\n",
       "      <th>Name</th>\n",
       "      <th>Apparatus</th>\n",
       "      <th>D_Score</th>\n",
       "      <th>E_Score</th>\n",
       "      <th>Penalty</th>\n",
       "      <th>Score</th>\n",
       "    </tr>\n",
       "  </thead>\n",
       "  <tbody>\n",
       "    <tr>\n",
       "      <th>0</th>\n",
       "      <td>adriel perales-valencia</td>\n",
       "      <td>PB</td>\n",
       "      <td>5.200</td>\n",
       "      <td>8.7000</td>\n",
       "      <td>0.000</td>\n",
       "      <td>13.9000</td>\n",
       "    </tr>\n",
       "    <tr>\n",
       "      <th>1</th>\n",
       "      <td>adriel perales-valencia</td>\n",
       "      <td>SR</td>\n",
       "      <td>5.400</td>\n",
       "      <td>7.4500</td>\n",
       "      <td>0.000</td>\n",
       "      <td>12.8500</td>\n",
       "    </tr>\n",
       "    <tr>\n",
       "      <th>2</th>\n",
       "      <td>aidan cuy</td>\n",
       "      <td>FX</td>\n",
       "      <td>4.700</td>\n",
       "      <td>8.2000</td>\n",
       "      <td>0.000</td>\n",
       "      <td>12.9000</td>\n",
       "    </tr>\n",
       "    <tr>\n",
       "      <th>3</th>\n",
       "      <td>aidan cuy</td>\n",
       "      <td>HB</td>\n",
       "      <td>4.000</td>\n",
       "      <td>7.6500</td>\n",
       "      <td>0.000</td>\n",
       "      <td>11.6500</td>\n",
       "    </tr>\n",
       "    <tr>\n",
       "      <th>4</th>\n",
       "      <td>aidan cuy</td>\n",
       "      <td>PB</td>\n",
       "      <td>4.800</td>\n",
       "      <td>8.1500</td>\n",
       "      <td>0.000</td>\n",
       "      <td>12.9500</td>\n",
       "    </tr>\n",
       "    <tr>\n",
       "      <th>...</th>\n",
       "      <td>...</td>\n",
       "      <td>...</td>\n",
       "      <td>...</td>\n",
       "      <td>...</td>\n",
       "      <td>...</td>\n",
       "      <td>...</td>\n",
       "    </tr>\n",
       "    <tr>\n",
       "      <th>770</th>\n",
       "      <td>zachary nunez</td>\n",
       "      <td>HB</td>\n",
       "      <td>4.500</td>\n",
       "      <td>8.6500</td>\n",
       "      <td>0.000</td>\n",
       "      <td>13.1500</td>\n",
       "    </tr>\n",
       "    <tr>\n",
       "      <th>771</th>\n",
       "      <td>zachary nunez</td>\n",
       "      <td>PB</td>\n",
       "      <td>5.125</td>\n",
       "      <td>8.1125</td>\n",
       "      <td>0.000</td>\n",
       "      <td>13.2375</td>\n",
       "    </tr>\n",
       "    <tr>\n",
       "      <th>772</th>\n",
       "      <td>zachary nunez</td>\n",
       "      <td>PH</td>\n",
       "      <td>5.650</td>\n",
       "      <td>7.6250</td>\n",
       "      <td>0.000</td>\n",
       "      <td>13.2750</td>\n",
       "    </tr>\n",
       "    <tr>\n",
       "      <th>773</th>\n",
       "      <td>zachary nunez</td>\n",
       "      <td>SR</td>\n",
       "      <td>4.700</td>\n",
       "      <td>8.2500</td>\n",
       "      <td>0.000</td>\n",
       "      <td>12.9500</td>\n",
       "    </tr>\n",
       "    <tr>\n",
       "      <th>774</th>\n",
       "      <td>zachary nunez</td>\n",
       "      <td>VT</td>\n",
       "      <td>5.100</td>\n",
       "      <td>8.5375</td>\n",
       "      <td>0.025</td>\n",
       "      <td>13.6125</td>\n",
       "    </tr>\n",
       "  </tbody>\n",
       "</table>\n",
       "<p>775 rows × 6 columns</p>\n",
       "</div>"
      ],
      "text/plain": [
       "                        Name Apparatus  D_Score  E_Score  Penalty    Score\n",
       "0    adriel perales-valencia        PB    5.200   8.7000    0.000  13.9000\n",
       "1    adriel perales-valencia        SR    5.400   7.4500    0.000  12.8500\n",
       "2                  aidan cuy        FX    4.700   8.2000    0.000  12.9000\n",
       "3                  aidan cuy        HB    4.000   7.6500    0.000  11.6500\n",
       "4                  aidan cuy        PB    4.800   8.1500    0.000  12.9500\n",
       "..                       ...       ...      ...      ...      ...      ...\n",
       "770            zachary nunez        HB    4.500   8.6500    0.000  13.1500\n",
       "771            zachary nunez        PB    5.125   8.1125    0.000  13.2375\n",
       "772            zachary nunez        PH    5.650   7.6250    0.000  13.2750\n",
       "773            zachary nunez        SR    4.700   8.2500    0.000  12.9500\n",
       "774            zachary nunez        VT    5.100   8.5375    0.025  13.6125\n",
       "\n",
       "[775 rows x 6 columns]"
      ]
     },
     "execution_count": 4,
     "metadata": {},
     "output_type": "execute_result"
    }
   ],
   "source": [
    "dfs"
   ]
  },
  {
   "cell_type": "code",
   "execution_count": null,
   "id": "38baff65",
   "metadata": {
    "extensions": {
     "jupyter_dashboards": {
      "version": 1,
      "views": {
       "grid_default": {},
       "report_default": {}
      }
     }
    }
   },
   "outputs": [],
   "source": [
    "df2=df.copy()"
   ]
  },
  {
   "cell_type": "code",
   "execution_count": null,
   "id": "2bf3d3ec",
   "metadata": {
    "extensions": {
     "jupyter_dashboards": {
      "version": 1,
      "views": {
       "grid_default": {},
       "report_default": {}
      }
     }
    }
   },
   "outputs": [],
   "source": [
    "# Asher Hong\n",
    "# Fred Richard\n",
    "# Khoi Young\n",
    "# Vitaliy Guimaraes\n",
    "# Yul Moldauer"
   ]
  },
  {
   "cell_type": "code",
   "execution_count": null,
   "id": "5de7d9f4",
   "metadata": {
    "extensions": {
     "jupyter_dashboards": {
      "version": 1,
      "views": {
       "grid_default": {},
       "report_default": {}
      }
     }
    }
   },
   "outputs": [],
   "source": [
    "selected_athletes = ['asher hong', 'fred richard', 'khoi young', \n",
    "                     'vitaliy guimaraes', 'yul moldauer']\n",
    "\n",
    "# Filter DataFrame based on the list of athletes\n",
    "filtered_df = df[df['Athlete'].isin(selected_athletes)]\n",
    "\n"
   ]
  },
  {
   "cell_type": "code",
   "execution_count": null,
   "id": "fad60460",
   "metadata": {
    "extensions": {
     "jupyter_dashboards": {
      "version": 1,
      "views": {
       "grid_default": {},
       "report_default": {}
      }
     }
    }
   },
   "outputs": [],
   "source": [
    "df = filtered_df.copy()"
   ]
  },
  {
   "cell_type": "code",
   "execution_count": null,
   "id": "d9dd53bc",
   "metadata": {
    "extensions": {
     "jupyter_dashboards": {
      "version": 1,
      "views": {
       "grid_default": {},
       "report_default": {}
      }
     }
    }
   },
   "outputs": [],
   "source": [
    "df.iloc[4:5]"
   ]
  },
  {
   "cell_type": "code",
   "execution_count": null,
   "id": "86a9df42",
   "metadata": {
    "extensions": {
     "jupyter_dashboards": {
      "version": 1,
      "views": {
       "grid_default": {},
       "report_default": {}
      }
     }
    }
   },
   "outputs": [],
   "source": [
    "df"
   ]
  },
  {
   "cell_type": "code",
   "execution_count": null,
   "id": "355c40e5",
   "metadata": {
    "extensions": {
     "jupyter_dashboards": {
      "version": 1,
      "views": {
       "grid_default": {},
       "report_default": {}
      }
     }
    }
   },
   "outputs": [],
   "source": [
    "sorted_df = df.sort_values(by='AA', ascending=False)"
   ]
  },
  {
   "cell_type": "code",
   "execution_count": null,
   "id": "37791dda",
   "metadata": {
    "extensions": {
     "jupyter_dashboards": {
      "version": 1,
      "views": {
       "grid_default": {},
       "report_default": {}
      }
     }
    }
   },
   "outputs": [],
   "source": [
    "df=sorted_df.copy()"
   ]
  },
  {
   "cell_type": "code",
   "execution_count": null,
   "id": "552e5981",
   "metadata": {
    "extensions": {
     "jupyter_dashboards": {
      "version": 1,
      "views": {
       "grid_default": {},
       "report_default": {}
      }
     }
    }
   },
   "outputs": [],
   "source": [
    "df = df.iloc[0:5]"
   ]
  },
  {
   "cell_type": "code",
   "execution_count": null,
   "id": "ee592aaa",
   "metadata": {
    "extensions": {
     "jupyter_dashboards": {
      "version": 1,
      "views": {
       "grid_default": {},
       "report_default": {}
      }
     }
    }
   },
   "outputs": [],
   "source": [
    "df=df.drop(columns=['Unnamed: 0', 'Rank'])"
   ]
  },
  {
   "cell_type": "code",
   "execution_count": null,
   "id": "c678ccc1",
   "metadata": {
    "extensions": {
     "jupyter_dashboards": {
      "version": 1,
      "views": {
       "grid_default": {},
       "report_default": {}
      }
     }
    }
   },
   "outputs": [],
   "source": [
    "df= df.drop(columns=['AA'])"
   ]
  },
  {
   "cell_type": "code",
   "execution_count": null,
   "id": "6b69a4bf",
   "metadata": {
    "extensions": {
     "jupyter_dashboards": {
      "version": 1,
      "views": {
       "grid_default": {},
       "report_default": {}
      }
     }
    }
   },
   "outputs": [],
   "source": [
    "import pandas as pd\n",
    "from itertools import combinations\n",
    "import pandas as pd\n",
    "from pyqubo import Array, Constraint, Placeholder, solve_qubo\n",
    "from itertools import combinations"
   ]
  },
  {
   "cell_type": "code",
   "execution_count": null,
   "id": "9f9839be",
   "metadata": {
    "extensions": {
     "jupyter_dashboards": {
      "version": 1,
      "views": {
       "grid_default": {},
       "report_default": {}
      }
     }
    }
   },
   "outputs": [],
   "source": [
    "df"
   ]
  },
  {
   "cell_type": "code",
   "execution_count": null,
   "id": "f8418815",
   "metadata": {
    "extensions": {
     "jupyter_dashboards": {
      "version": 1,
      "views": {
       "grid_default": {},
       "report_default": {}
      }
     }
    },
    "scrolled": false
   },
   "outputs": [],
   "source": [
    "# import pandas as pd\n",
    "# import networkx as nx\n",
    "# from networkx.algorithms import bipartite\n",
    "\n",
    "\n",
    "\n",
    "# # Create a bipartite graph\n",
    "# B = nx.Graph()\n",
    "# B.add_nodes_from(df['Athlete'], bipartite=0)\n",
    "# B.add_nodes_from(df.columns[1:-1], bipartite=1)\n",
    "\n",
    "# # Add weighted edges\n",
    "# for i, row in df.iterrows():\n",
    "#     for j in range(1, len(df.columns)-1):\n",
    "#         B.add_edge(row['Athlete'], df.columns[j], weight=row[df.columns[j]])\n",
    "\n",
    "# # Solve the weighted bipartite matching problem\n",
    "# matching = bipartite.maximum_matching(B)\n",
    "\n",
    "# # Extract the selected athletes and their corresponding apparatus\n",
    "# selected_athletes = {athlete: apparatus for athlete, apparatus in matching.items() if isinstance(apparatus, str)}\n",
    "\n",
    "# # Print the selected athletes and their corresponding apparatus\n",
    "# for athlete, apparatus in selected_athletes.items():\n",
    "#     print(f\"{athlete} will compete on {apparatus}\")\n"
   ]
  },
  {
   "cell_type": "code",
   "execution_count": null,
   "id": "5d621d57",
   "metadata": {
    "extensions": {
     "jupyter_dashboards": {
      "version": 1,
      "views": {
       "grid_default": {},
       "report_default": {}
      }
     }
    }
   },
   "outputs": [],
   "source": [
    "# data = {\n",
    "#     'Athlete': ['khoi young', 'fred richard', 'yul moldauer', 'vitaliy guimaraes', \n",
    "#                 'asher hong','vitaliy guimaraes', 'asher hong', 'fred richard',\n",
    "#                 'yul moldauer', 'khoi young'],\n",
    "#     'Apparatus': ['FX', 'PH', 'SR', 'VT', 'PB', 'VT', 'PB', 'PH', 'SR', 'FX' ]\n",
    "# }\n",
    "\n",
    "# df = pd.DataFrame(data)"
   ]
  },
  {
   "cell_type": "code",
   "execution_count": null,
   "id": "67876a13",
   "metadata": {
    "extensions": {
     "jupyter_dashboards": {
      "version": 1,
      "views": {
       "grid_default": {},
       "report_default": {}
      }
     }
    }
   },
   "outputs": [],
   "source": [
    "# df['Apparatus'].value_counts()"
   ]
  },
  {
   "cell_type": "code",
   "execution_count": null,
   "id": "83f72300",
   "metadata": {
    "extensions": {
     "jupyter_dashboards": {
      "version": 1,
      "views": {
       "grid_default": {},
       "report_default": {}
      }
     }
    }
   },
   "outputs": [],
   "source": [
    "# df['Athlete'].value_counts()"
   ]
  },
  {
   "cell_type": "code",
   "execution_count": null,
   "id": "87c5eeb8",
   "metadata": {
    "extensions": {
     "jupyter_dashboards": {
      "version": 1,
      "views": {
       "grid_default": {},
       "report_default": {}
      }
     }
    }
   },
   "outputs": [],
   "source": [
    "df"
   ]
  },
  {
   "cell_type": "code",
   "execution_count": null,
   "id": "d15a9eb1",
   "metadata": {
    "extensions": {
     "jupyter_dashboards": {
      "version": 1,
      "views": {
       "grid_default": {},
       "report_default": {}
      }
     }
    },
    "scrolled": false
   },
   "outputs": [],
   "source": [
    "import pandas as pd\n",
    "from pulp import LpProblem, LpVariable, lpSum, LpMaximize\n",
    "\n",
    "# Sample DataFrame\n",
    "data = {\n",
    "    'Athlete': ['yul moldauer', 'fred richard', 'vitaliy guimaraes', 'khoi young', 'asher hong'],\n",
    "    'FX': [14.400, 14.483, 14.250, 13.550, 14.029],\n",
    "    'PH': [13.957, 13.357, 14.350, 15.342, 12.949],\n",
    "    'SR': [14.114, 13.350, 13.600, 12.550, 14.566],\n",
    "    'VT': [14.250, 14.000, 14.450, 15.244, 16.680],\n",
    "    'PB': [15.121, 14.450, 13.900, 13.750, 14.355],\n",
    "    'HB': [13.500, 14.962, 13.400, 13.100, 10.450],\n",
    "}\n",
    "\n",
    "df = pd.DataFrame(data)\n",
    "\n",
    "# Number of athletes and apparatus\n",
    "num_athletes = len(df)\n",
    "num_apparatus = len(df.columns) - 1  # Exclude 'Athlete' column\n",
    "\n",
    "# Binary decision variables\n",
    "athlete_vars = {athlete: LpVariable(f'athlete_{athlete}', cat='Binary') for athlete in df['Athlete']}\n",
    "apparatus_vars = {apparatus: LpVariable(f'apparatus_{apparatus}', cat='Binary') for apparatus in df.columns[1:]}\n",
    "\n",
    "# Continuous decision variables for scores\n",
    "score_vars = {(athlete, apparatus): LpVariable(f'score_{athlete}_{apparatus}', cat='Binary')\n",
    "              for athlete in df['Athlete'] for apparatus in df.columns[1:]}\n",
    "\n",
    "# Create the optimization problem\n",
    "prob = LpProblem(\"Athlete_Apparatus_Assignment\", LpMaximize)\n",
    "\n",
    "# Objective function: maximize the total AA score\n",
    "prob += lpSum(df.loc[i, apparatus] * score_vars[df['Athlete'][i], apparatus]\n",
    "              for i in range(num_athletes) for apparatus in df.columns[1:]), \"Total_Score\"\n",
    "\n",
    "# Constraints: each athlete competes on each apparatus exactly 3 times\n",
    "for i in range(num_athletes):\n",
    "    for apparatus in df.columns[1:]:\n",
    "        prob += lpSum(score_vars[df['Athlete'][i], app] for app in df.columns[1:]) == 3 * athlete_vars[df['Athlete'][i]]\n",
    "\n",
    "# Constraints: each apparatus is competed on exactly 3 times\n",
    "for apparatus in df.columns[1:]:\n",
    "    prob += lpSum(athlete_vars[athlete] for athlete in df['Athlete']) == 4, f'Apparatus_{apparatus}_constraint'\n",
    "\n",
    "# Solve the problem\n",
    "prob.solve()\n",
    "\n",
    "# Extract the selected athletes and their corresponding apparatus\n",
    "selected_athletes = [athlete for athlete, var in athlete_vars.items() if var.value() == 1]\n",
    "selected_apparatus = [apparatus for apparatus, var in apparatus_vars.items() if var.value() == 1]\n",
    "\n",
    "\n",
    "\n",
    "    \n",
    "# Print the selected athletes and their corresponding apparatus\n",
    "for athlete in selected_athletes:\n",
    "    athlete_apparatus = [apparatus for apparatus in df.columns[1:] if score_vars[athlete, apparatus].value() == 1]\n",
    "    print(f\"{athlete} \")\n"
   ]
  },
  {
   "cell_type": "code",
   "execution_count": null,
   "id": "c2f32809",
   "metadata": {
    "extensions": {
     "jupyter_dashboards": {
      "version": 1,
      "views": {
       "grid_default": {},
       "report_default": {}
      }
     }
    }
   },
   "outputs": [],
   "source": [
    "df"
   ]
  },
  {
   "cell_type": "code",
   "execution_count": null,
   "id": "023c1a45",
   "metadata": {
    "extensions": {
     "jupyter_dashboards": {
      "version": 1,
      "views": {
       "grid_default": {},
       "report_default": {}
      }
     }
    }
   },
   "outputs": [],
   "source": [
    "df2=df2.drop(columns=['Unnamed: 0', 'Rank'])"
   ]
  },
  {
   "cell_type": "code",
   "execution_count": null,
   "id": "99af1df0",
   "metadata": {
    "extensions": {
     "jupyter_dashboards": {
      "version": 1,
      "views": {
       "grid_default": {},
       "report_default": {}
      }
     }
    }
   },
   "outputs": [],
   "source": [
    "df_sorted = df2.sort_values(by='AA', ascending=False)"
   ]
  },
  {
   "cell_type": "code",
   "execution_count": null,
   "id": "51d29223",
   "metadata": {
    "extensions": {
     "jupyter_dashboards": {
      "version": 1,
      "views": {
       "grid_default": {},
       "report_default": {}
      }
     }
    }
   },
   "outputs": [],
   "source": [
    "df_sorted"
   ]
  },
  {
   "cell_type": "code",
   "execution_count": null,
   "id": "847c5ecd",
   "metadata": {
    "extensions": {
     "jupyter_dashboards": {
      "version": 1,
      "views": {
       "grid_default": {},
       "report_default": {}
      }
     }
    }
   },
   "outputs": [],
   "source": [
    "df_unique = df_sorted.drop_duplicates(subset='Athlete', keep='first')"
   ]
  },
  {
   "cell_type": "code",
   "execution_count": null,
   "id": "6aa52c18",
   "metadata": {
    "extensions": {
     "jupyter_dashboards": {
      "version": 1,
      "views": {
       "grid_default": {},
       "report_default": {}
      }
     }
    }
   },
   "outputs": [],
   "source": [
    "dfs = df_unique.copy()"
   ]
  },
  {
   "cell_type": "code",
   "execution_count": null,
   "id": "56bc005e",
   "metadata": {
    "extensions": {
     "jupyter_dashboards": {
      "version": 1,
      "views": {
       "grid_default": {},
       "report_default": {}
      }
     }
    }
   },
   "outputs": [],
   "source": [
    "dfs=dfs.drop(columns=['AA'])"
   ]
  },
  {
   "cell_type": "code",
   "execution_count": null,
   "id": "25c46bbc",
   "metadata": {
    "extensions": {
     "jupyter_dashboards": {
      "version": 1,
      "views": {
       "grid_default": {},
       "report_default": {}
      }
     }
    }
   },
   "outputs": [],
   "source": [
    "dfs"
   ]
  },
  {
   "cell_type": "code",
   "execution_count": 5,
   "id": "2f9ef6a1",
   "metadata": {
    "extensions": {
     "jupyter_dashboards": {
      "version": 1,
      "views": {
       "grid_default": {},
       "report_default": {}
      }
     }
    }
   },
   "outputs": [],
   "source": [
    "from pulp import LpProblem, LpVariable, lpSum, value, LpMaximize"
   ]
  },
  {
   "cell_type": "code",
   "execution_count": 6,
   "id": "ffe51e85",
   "metadata": {
    "extensions": {
     "jupyter_dashboards": {
      "version": 1,
      "views": {
       "grid_default": {},
       "report_default": {}
      }
     }
    }
   },
   "outputs": [],
   "source": [
    "dfs = pd.read_csv('../../Data/cleandata22-23/usa_men22_23.csv')"
   ]
  },
  {
   "cell_type": "code",
   "execution_count": 7,
   "id": "3525033f",
   "metadata": {
    "extensions": {
     "jupyter_dashboards": {
      "version": 1,
      "views": {
       "grid_default": {},
       "report_default": {}
      }
     }
    }
   },
   "outputs": [],
   "source": [
    "df=dfs.copy()"
   ]
  },
  {
   "cell_type": "code",
   "execution_count": 8,
   "id": "f9913a92",
   "metadata": {
    "extensions": {
     "jupyter_dashboards": {
      "version": 1,
      "views": {
       "grid_default": {},
       "report_default": {}
      }
     }
    }
   },
   "outputs": [
    {
     "data": {
      "text/html": [
       "<div>\n",
       "<style scoped>\n",
       "    .dataframe tbody tr th:only-of-type {\n",
       "        vertical-align: middle;\n",
       "    }\n",
       "\n",
       "    .dataframe tbody tr th {\n",
       "        vertical-align: top;\n",
       "    }\n",
       "\n",
       "    .dataframe thead th {\n",
       "        text-align: right;\n",
       "    }\n",
       "</style>\n",
       "<table border=\"1\" class=\"dataframe\">\n",
       "  <thead>\n",
       "    <tr style=\"text-align: right;\">\n",
       "      <th></th>\n",
       "      <th>Name</th>\n",
       "      <th>Apparatus</th>\n",
       "      <th>D_Score</th>\n",
       "      <th>E_Score</th>\n",
       "      <th>Penalty</th>\n",
       "      <th>Score</th>\n",
       "    </tr>\n",
       "  </thead>\n",
       "  <tbody>\n",
       "    <tr>\n",
       "      <th>0</th>\n",
       "      <td>adriel perales-valencia</td>\n",
       "      <td>PB</td>\n",
       "      <td>5.200</td>\n",
       "      <td>8.7000</td>\n",
       "      <td>0.000</td>\n",
       "      <td>13.9000</td>\n",
       "    </tr>\n",
       "    <tr>\n",
       "      <th>1</th>\n",
       "      <td>adriel perales-valencia</td>\n",
       "      <td>SR</td>\n",
       "      <td>5.400</td>\n",
       "      <td>7.4500</td>\n",
       "      <td>0.000</td>\n",
       "      <td>12.8500</td>\n",
       "    </tr>\n",
       "    <tr>\n",
       "      <th>2</th>\n",
       "      <td>aidan cuy</td>\n",
       "      <td>FX</td>\n",
       "      <td>4.700</td>\n",
       "      <td>8.2000</td>\n",
       "      <td>0.000</td>\n",
       "      <td>12.9000</td>\n",
       "    </tr>\n",
       "    <tr>\n",
       "      <th>3</th>\n",
       "      <td>aidan cuy</td>\n",
       "      <td>HB</td>\n",
       "      <td>4.000</td>\n",
       "      <td>7.6500</td>\n",
       "      <td>0.000</td>\n",
       "      <td>11.6500</td>\n",
       "    </tr>\n",
       "    <tr>\n",
       "      <th>4</th>\n",
       "      <td>aidan cuy</td>\n",
       "      <td>PB</td>\n",
       "      <td>4.800</td>\n",
       "      <td>8.1500</td>\n",
       "      <td>0.000</td>\n",
       "      <td>12.9500</td>\n",
       "    </tr>\n",
       "    <tr>\n",
       "      <th>...</th>\n",
       "      <td>...</td>\n",
       "      <td>...</td>\n",
       "      <td>...</td>\n",
       "      <td>...</td>\n",
       "      <td>...</td>\n",
       "      <td>...</td>\n",
       "    </tr>\n",
       "    <tr>\n",
       "      <th>770</th>\n",
       "      <td>zachary nunez</td>\n",
       "      <td>HB</td>\n",
       "      <td>4.500</td>\n",
       "      <td>8.6500</td>\n",
       "      <td>0.000</td>\n",
       "      <td>13.1500</td>\n",
       "    </tr>\n",
       "    <tr>\n",
       "      <th>771</th>\n",
       "      <td>zachary nunez</td>\n",
       "      <td>PB</td>\n",
       "      <td>5.125</td>\n",
       "      <td>8.1125</td>\n",
       "      <td>0.000</td>\n",
       "      <td>13.2375</td>\n",
       "    </tr>\n",
       "    <tr>\n",
       "      <th>772</th>\n",
       "      <td>zachary nunez</td>\n",
       "      <td>PH</td>\n",
       "      <td>5.650</td>\n",
       "      <td>7.6250</td>\n",
       "      <td>0.000</td>\n",
       "      <td>13.2750</td>\n",
       "    </tr>\n",
       "    <tr>\n",
       "      <th>773</th>\n",
       "      <td>zachary nunez</td>\n",
       "      <td>SR</td>\n",
       "      <td>4.700</td>\n",
       "      <td>8.2500</td>\n",
       "      <td>0.000</td>\n",
       "      <td>12.9500</td>\n",
       "    </tr>\n",
       "    <tr>\n",
       "      <th>774</th>\n",
       "      <td>zachary nunez</td>\n",
       "      <td>VT</td>\n",
       "      <td>5.100</td>\n",
       "      <td>8.5375</td>\n",
       "      <td>0.025</td>\n",
       "      <td>13.6125</td>\n",
       "    </tr>\n",
       "  </tbody>\n",
       "</table>\n",
       "<p>775 rows × 6 columns</p>\n",
       "</div>"
      ],
      "text/plain": [
       "                        Name Apparatus  D_Score  E_Score  Penalty    Score\n",
       "0    adriel perales-valencia        PB    5.200   8.7000    0.000  13.9000\n",
       "1    adriel perales-valencia        SR    5.400   7.4500    0.000  12.8500\n",
       "2                  aidan cuy        FX    4.700   8.2000    0.000  12.9000\n",
       "3                  aidan cuy        HB    4.000   7.6500    0.000  11.6500\n",
       "4                  aidan cuy        PB    4.800   8.1500    0.000  12.9500\n",
       "..                       ...       ...      ...      ...      ...      ...\n",
       "770            zachary nunez        HB    4.500   8.6500    0.000  13.1500\n",
       "771            zachary nunez        PB    5.125   8.1125    0.000  13.2375\n",
       "772            zachary nunez        PH    5.650   7.6250    0.000  13.2750\n",
       "773            zachary nunez        SR    4.700   8.2500    0.000  12.9500\n",
       "774            zachary nunez        VT    5.100   8.5375    0.025  13.6125\n",
       "\n",
       "[775 rows x 6 columns]"
      ]
     },
     "execution_count": 8,
     "metadata": {},
     "output_type": "execute_result"
    }
   ],
   "source": [
    "df\n"
   ]
  },
  {
   "cell_type": "code",
   "execution_count": 10,
   "id": "04978747",
   "metadata": {},
   "outputs": [],
   "source": [
    "average_scores = df.groupby(['Name', 'Apparatus']).mean().reset_index()"
   ]
  },
  {
   "cell_type": "code",
   "execution_count": 11,
   "id": "64ab1853",
   "metadata": {},
   "outputs": [
    {
     "data": {
      "text/html": [
       "<div>\n",
       "<style scoped>\n",
       "    .dataframe tbody tr th:only-of-type {\n",
       "        vertical-align: middle;\n",
       "    }\n",
       "\n",
       "    .dataframe tbody tr th {\n",
       "        vertical-align: top;\n",
       "    }\n",
       "\n",
       "    .dataframe thead th {\n",
       "        text-align: right;\n",
       "    }\n",
       "</style>\n",
       "<table border=\"1\" class=\"dataframe\">\n",
       "  <thead>\n",
       "    <tr style=\"text-align: right;\">\n",
       "      <th></th>\n",
       "      <th>Name</th>\n",
       "      <th>Apparatus</th>\n",
       "      <th>D_Score</th>\n",
       "      <th>E_Score</th>\n",
       "      <th>Penalty</th>\n",
       "      <th>Score</th>\n",
       "    </tr>\n",
       "  </thead>\n",
       "  <tbody>\n",
       "    <tr>\n",
       "      <th>0</th>\n",
       "      <td>adriel perales-valencia</td>\n",
       "      <td>PB</td>\n",
       "      <td>5.200</td>\n",
       "      <td>8.7000</td>\n",
       "      <td>0.000</td>\n",
       "      <td>13.9000</td>\n",
       "    </tr>\n",
       "    <tr>\n",
       "      <th>1</th>\n",
       "      <td>adriel perales-valencia</td>\n",
       "      <td>SR</td>\n",
       "      <td>5.400</td>\n",
       "      <td>7.4500</td>\n",
       "      <td>0.000</td>\n",
       "      <td>12.8500</td>\n",
       "    </tr>\n",
       "    <tr>\n",
       "      <th>2</th>\n",
       "      <td>aidan cuy</td>\n",
       "      <td>FX</td>\n",
       "      <td>4.700</td>\n",
       "      <td>8.2000</td>\n",
       "      <td>0.000</td>\n",
       "      <td>12.9000</td>\n",
       "    </tr>\n",
       "    <tr>\n",
       "      <th>3</th>\n",
       "      <td>aidan cuy</td>\n",
       "      <td>HB</td>\n",
       "      <td>4.000</td>\n",
       "      <td>7.6500</td>\n",
       "      <td>0.000</td>\n",
       "      <td>11.6500</td>\n",
       "    </tr>\n",
       "    <tr>\n",
       "      <th>4</th>\n",
       "      <td>aidan cuy</td>\n",
       "      <td>PB</td>\n",
       "      <td>4.800</td>\n",
       "      <td>8.1500</td>\n",
       "      <td>0.000</td>\n",
       "      <td>12.9500</td>\n",
       "    </tr>\n",
       "    <tr>\n",
       "      <th>...</th>\n",
       "      <td>...</td>\n",
       "      <td>...</td>\n",
       "      <td>...</td>\n",
       "      <td>...</td>\n",
       "      <td>...</td>\n",
       "      <td>...</td>\n",
       "    </tr>\n",
       "    <tr>\n",
       "      <th>770</th>\n",
       "      <td>zachary nunez</td>\n",
       "      <td>HB</td>\n",
       "      <td>4.500</td>\n",
       "      <td>8.6500</td>\n",
       "      <td>0.000</td>\n",
       "      <td>13.1500</td>\n",
       "    </tr>\n",
       "    <tr>\n",
       "      <th>771</th>\n",
       "      <td>zachary nunez</td>\n",
       "      <td>PB</td>\n",
       "      <td>5.125</td>\n",
       "      <td>8.1125</td>\n",
       "      <td>0.000</td>\n",
       "      <td>13.2375</td>\n",
       "    </tr>\n",
       "    <tr>\n",
       "      <th>772</th>\n",
       "      <td>zachary nunez</td>\n",
       "      <td>PH</td>\n",
       "      <td>5.650</td>\n",
       "      <td>7.6250</td>\n",
       "      <td>0.000</td>\n",
       "      <td>13.2750</td>\n",
       "    </tr>\n",
       "    <tr>\n",
       "      <th>773</th>\n",
       "      <td>zachary nunez</td>\n",
       "      <td>SR</td>\n",
       "      <td>4.700</td>\n",
       "      <td>8.2500</td>\n",
       "      <td>0.000</td>\n",
       "      <td>12.9500</td>\n",
       "    </tr>\n",
       "    <tr>\n",
       "      <th>774</th>\n",
       "      <td>zachary nunez</td>\n",
       "      <td>VT</td>\n",
       "      <td>5.100</td>\n",
       "      <td>8.5375</td>\n",
       "      <td>0.025</td>\n",
       "      <td>13.6125</td>\n",
       "    </tr>\n",
       "  </tbody>\n",
       "</table>\n",
       "<p>775 rows × 6 columns</p>\n",
       "</div>"
      ],
      "text/plain": [
       "                        Name Apparatus  D_Score  E_Score  Penalty    Score\n",
       "0    adriel perales-valencia        PB    5.200   8.7000    0.000  13.9000\n",
       "1    adriel perales-valencia        SR    5.400   7.4500    0.000  12.8500\n",
       "2                  aidan cuy        FX    4.700   8.2000    0.000  12.9000\n",
       "3                  aidan cuy        HB    4.000   7.6500    0.000  11.6500\n",
       "4                  aidan cuy        PB    4.800   8.1500    0.000  12.9500\n",
       "..                       ...       ...      ...      ...      ...      ...\n",
       "770            zachary nunez        HB    4.500   8.6500    0.000  13.1500\n",
       "771            zachary nunez        PB    5.125   8.1125    0.000  13.2375\n",
       "772            zachary nunez        PH    5.650   7.6250    0.000  13.2750\n",
       "773            zachary nunez        SR    4.700   8.2500    0.000  12.9500\n",
       "774            zachary nunez        VT    5.100   8.5375    0.025  13.6125\n",
       "\n",
       "[775 rows x 6 columns]"
      ]
     },
     "execution_count": 11,
     "metadata": {},
     "output_type": "execute_result"
    }
   ],
   "source": [
    "average_scores"
   ]
  },
  {
   "cell_type": "code",
   "execution_count": 13,
   "id": "b4174535",
   "metadata": {
    "extensions": {
     "jupyter_dashboards": {
      "version": 1,
      "views": {
       "grid_default": {},
       "report_default": {}
      }
     }
    }
   },
   "outputs": [
    {
     "name": "stdout",
     "output_type": "stream",
     "text": [
      "Selected Athletes:\n",
      "['yul moldauer', 'fred richard', 'vitaliy guimaraes', 'asher hong']\n",
      "Maximum Score:\n",
      "173.798\n"
     ]
    }
   ],
   "source": [
    "import pandas as pd\n",
    "import itertools\n",
    "\n",
    "# Define the dataframe with athlete scores\n",
    "df = pd.DataFrame({\n",
    "    'Athlete': ['yul moldauer', 'fred richard', 'vitaliy guimaraes', 'khoi young', 'asher hong'],\n",
    "    'FX': [14.400, 14.483, 14.250, 13.550, 14.029],\n",
    "    'PH': [13.957, 13.357, 14.350, 15.342, 12.949],\n",
    "    'SR': [14.114, 13.350, 13.600, 12.550, 14.566],\n",
    "    'VT': [14.250, 14.000, 14.450, 15.244, 16.680],\n",
    "    'PB': [15.121, 14.450, 13.900, 13.750, 14.355],\n",
    "    'HB': [13.500, 14.962, 13.400, 13.100, 10.450]\n",
    "})\n",
    "\n",
    "# Define the number of athletes to select\n",
    "num_athletes = 4\n",
    "\n",
    "# Define the apparatuses\n",
    "apparatuses = ['FX', 'PH', 'SR', 'VT', 'PB', 'HB']\n",
    "\n",
    "# Generate all possible combinations of athletes\n",
    "athlete_combinations = list(itertools.combinations(df['Athlete'], num_athletes))\n",
    "\n",
    "# Initialize variables to store the maximum score and the selected athletes\n",
    "max_score = 0\n",
    "selected_athletes = []\n",
    "\n",
    "# Iterate through each combination of athletes\n",
    "for combination in athlete_combinations:\n",
    "    # Generate all possible combinations of apparatuses for the current athlete combination\n",
    "    apparatus_combinations = list(itertools.combinations(apparatuses, num_athletes))\n",
    "    \n",
    "    # Iterate through each combination of apparatuses\n",
    "    for apparatus_combination in apparatus_combinations:\n",
    "        # Calculate the sum of the top three scores for the current apparatus combination\n",
    "        score = df[df['Athlete'].isin(combination)][list(apparatus_combination)].sum(axis=1).nlargest(3).sum()\n",
    "        \n",
    "        # Update the maximum score and selected athletes if a higher score is found\n",
    "        if score > max_score:\n",
    "            max_score = score\n",
    "            selected_athletes = list(combination)\n",
    "\n",
    "# Print the selected athletes and the maximum score\n",
    "print('Selected Athletes:')\n",
    "print(selected_athletes)\n",
    "print('Maximum Score:')\n",
    "print(max_score)"
   ]
  },
  {
   "cell_type": "code",
   "execution_count": null,
   "id": "5db19d59",
   "metadata": {
    "extensions": {
     "jupyter_dashboards": {
      "version": 1,
      "views": {
       "grid_default": {},
       "report_default": {}
      }
     }
    }
   },
   "outputs": [],
   "source": []
  }
 ],
 "metadata": {
  "extensions": {
   "jupyter_dashboards": {
    "activeView": "grid_default",
    "version": 1,
    "views": {
     "grid_default": {
      "cellMargin": 10,
      "defaultCellHeight": 20,
      "maxColumns": 12,
      "name": "grid",
      "type": "grid"
     },
     "report_default": {
      "name": "report",
      "type": "report"
     }
    }
   }
  },
  "kernelspec": {
   "display_name": "Python 3 (ipykernel)",
   "language": "python",
   "name": "python3"
  },
  "language_info": {
   "codemirror_mode": {
    "name": "ipython",
    "version": 3
   },
   "file_extension": ".py",
   "mimetype": "text/x-python",
   "name": "python",
   "nbconvert_exporter": "python",
   "pygments_lexer": "ipython3",
   "version": "3.9.12"
  }
 },
 "nbformat": 4,
 "nbformat_minor": 5
}
