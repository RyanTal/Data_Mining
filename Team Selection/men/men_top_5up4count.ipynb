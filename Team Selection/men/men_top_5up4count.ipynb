{
 "cells": [
  {
   "cell_type": "code",
   "execution_count": 1,
   "id": "f5dfe26f",
   "metadata": {},
   "outputs": [],
   "source": [
    "import pandas as pd\n",
    "import numpy as np"
   ]
  },
  {
   "cell_type": "code",
   "execution_count": 2,
   "id": "bca8369f",
   "metadata": {},
   "outputs": [],
   "source": [
    "fx = pd.read_csv('../../scraping/men/men23top/fx.csv')\n",
    "sr = pd.read_csv('../../scraping/men/men23top/sr.csv')\n",
    "hb = pd.read_csv('../../scraping/men/men23top/hb.csv')\n",
    "ph = pd.read_csv('../../scraping/men/men23top/ph.csv')\n",
    "pb = pd.read_csv('../../scraping/men/men23top/pb.csv')\n",
    "vt_avg = pd.read_csv('../../scraping/men/men23top/vt_avg.csv')\n",
    "vt_com_d = pd.read_csv('../../scraping/men/men23top/vt_combo_d.csv')\n",
    "vt_sing = pd.read_csv('../../scraping/men/men23top/vt_single.csv')\n",
    "\n",
    "fxd = pd.read_csv('../../scraping/men/men23top/fxd.csv')\n",
    "hbd = pd.read_csv('../../scraping/men/men23top/hbd.csv')\n",
    "iaa = pd.read_csv('../../scraping/men/men23top/iaa.csv')\n",
    "pbd = pd.read_csv('../../scraping/men/men23top/pbd.csv')\n",
    "phd = pd.read_csv('../../scraping/men/men23top/phd.csv')\n",
    "\n",
    "iaa24 = pd.read_csv('../../Combine_Data/men/iaa2024.csv')"
   ]
  },
  {
   "cell_type": "code",
   "execution_count": 3,
   "id": "75ec2073",
   "metadata": {},
   "outputs": [],
   "source": [
    "usa = iaa24[iaa24['Nation']=='USA']"
   ]
  },
  {
   "cell_type": "code",
   "execution_count": 4,
   "id": "849a70c1",
   "metadata": {},
   "outputs": [],
   "source": [
    "usa2 = iaa24[iaa24['Nation']=='USA']"
   ]
  },
  {
   "cell_type": "code",
   "execution_count": 5,
   "id": "c3837d38",
   "metadata": {},
   "outputs": [],
   "source": [
    "dfz=usa.copy()"
   ]
  },
  {
   "cell_type": "code",
   "execution_count": 6,
   "id": "ad94a63b",
   "metadata": {},
   "outputs": [],
   "source": [
    "usa = usa[usa['AA'] > 80]"
   ]
  },
  {
   "cell_type": "code",
   "execution_count": 7,
   "id": "942b4e1c",
   "metadata": {},
   "outputs": [],
   "source": [
    "usa=usa.drop(columns=['round', 'Nation', 'year'])"
   ]
  },
  {
   "cell_type": "code",
   "execution_count": 8,
   "id": "f6b313c0",
   "metadata": {},
   "outputs": [
    {
     "name": "stdout",
     "output_type": "stream",
     "text": [
      "<class 'pandas.core.frame.DataFrame'>\n",
      "Index: 15 entries, 421 to 684\n",
      "Data columns (total 9 columns):\n",
      " #   Column   Non-Null Count  Dtype  \n",
      "---  ------   --------------  -----  \n",
      " 0   Rank     15 non-null     float64\n",
      " 1   Athlete  15 non-null     object \n",
      " 2   FX       15 non-null     float64\n",
      " 3   PH       15 non-null     float64\n",
      " 4   SR       15 non-null     float64\n",
      " 5   VT       15 non-null     float64\n",
      " 6   PB       15 non-null     float64\n",
      " 7   HB       15 non-null     float64\n",
      " 8   AA       15 non-null     float64\n",
      "dtypes: float64(8), object(1)\n",
      "memory usage: 1.2+ KB\n"
     ]
    }
   ],
   "source": [
    "usa.info()"
   ]
  },
  {
   "cell_type": "code",
   "execution_count": 9,
   "id": "89fee184",
   "metadata": {},
   "outputs": [],
   "source": [
    "dfs = usa.copy()"
   ]
  },
  {
   "cell_type": "code",
   "execution_count": 10,
   "id": "3b71500e",
   "metadata": {},
   "outputs": [],
   "source": [
    "# dfs.to_csv('usa_men.csv', index=True)"
   ]
  },
  {
   "cell_type": "code",
   "execution_count": 11,
   "id": "8b170cc9",
   "metadata": {
    "scrolled": false
   },
   "outputs": [],
   "source": [
    "grouped_means = usa.groupby('Athlete').mean()"
   ]
  },
  {
   "cell_type": "code",
   "execution_count": 12,
   "id": "0f02afb7",
   "metadata": {},
   "outputs": [],
   "source": [
    "athlete_names = [\"asher aong\", \"fred richard\", \"khoi young\", \"vitaliy guimaraes\", \"yul moldauer\"]\n",
    "\n",
    "dfs = dfz[dfz['Athlete'].isin(athlete_names)]"
   ]
  },
  {
   "cell_type": "code",
   "execution_count": 13,
   "id": "560b6db9",
   "metadata": {},
   "outputs": [
    {
     "data": {
      "text/html": [
       "<div>\n",
       "<style scoped>\n",
       "    .dataframe tbody tr th:only-of-type {\n",
       "        vertical-align: middle;\n",
       "    }\n",
       "\n",
       "    .dataframe tbody tr th {\n",
       "        vertical-align: top;\n",
       "    }\n",
       "\n",
       "    .dataframe thead th {\n",
       "        text-align: right;\n",
       "    }\n",
       "</style>\n",
       "<table border=\"1\" class=\"dataframe\">\n",
       "  <thead>\n",
       "    <tr style=\"text-align: right;\">\n",
       "      <th></th>\n",
       "      <th>Rank</th>\n",
       "      <th>Athlete</th>\n",
       "      <th>FX</th>\n",
       "      <th>PH</th>\n",
       "      <th>SR</th>\n",
       "      <th>VT</th>\n",
       "      <th>PB</th>\n",
       "      <th>HB</th>\n",
       "      <th>AA</th>\n",
       "      <th>round</th>\n",
       "      <th>Nation</th>\n",
       "      <th>year</th>\n",
       "    </tr>\n",
       "  </thead>\n",
       "  <tbody>\n",
       "    <tr>\n",
       "      <th>421</th>\n",
       "      <td>1.0</td>\n",
       "      <td>vitaliy guimaraes</td>\n",
       "      <td>14.250</td>\n",
       "      <td>14.350</td>\n",
       "      <td>13.600</td>\n",
       "      <td>14.450</td>\n",
       "      <td>13.900</td>\n",
       "      <td>13.400</td>\n",
       "      <td>83.950</td>\n",
       "      <td>final</td>\n",
       "      <td>USA</td>\n",
       "      <td>2022</td>\n",
       "    </tr>\n",
       "    <tr>\n",
       "      <th>422</th>\n",
       "      <td>2.0</td>\n",
       "      <td>khoi young</td>\n",
       "      <td>13.550</td>\n",
       "      <td>15.342</td>\n",
       "      <td>12.550</td>\n",
       "      <td>15.244</td>\n",
       "      <td>13.750</td>\n",
       "      <td>13.100</td>\n",
       "      <td>83.536</td>\n",
       "      <td>final</td>\n",
       "      <td>USA</td>\n",
       "      <td>2022</td>\n",
       "    </tr>\n",
       "    <tr>\n",
       "      <th>424</th>\n",
       "      <td>4.0</td>\n",
       "      <td>yul moldauer</td>\n",
       "      <td>13.400</td>\n",
       "      <td>13.789</td>\n",
       "      <td>14.116</td>\n",
       "      <td>13.400</td>\n",
       "      <td>15.543</td>\n",
       "      <td>11.400</td>\n",
       "      <td>81.648</td>\n",
       "      <td>final</td>\n",
       "      <td>USA</td>\n",
       "      <td>2022</td>\n",
       "    </tr>\n",
       "    <tr>\n",
       "      <th>448</th>\n",
       "      <td>28.0</td>\n",
       "      <td>fred richard</td>\n",
       "      <td>11.850</td>\n",
       "      <td>12.250</td>\n",
       "      <td>11.950</td>\n",
       "      <td>13.900</td>\n",
       "      <td>12.400</td>\n",
       "      <td>11.650</td>\n",
       "      <td>74.000</td>\n",
       "      <td>final</td>\n",
       "      <td>USA</td>\n",
       "      <td>2022</td>\n",
       "    </tr>\n",
       "    <tr>\n",
       "      <th>679</th>\n",
       "      <td>1.0</td>\n",
       "      <td>yul moldauer</td>\n",
       "      <td>14.400</td>\n",
       "      <td>13.957</td>\n",
       "      <td>14.114</td>\n",
       "      <td>14.250</td>\n",
       "      <td>15.121</td>\n",
       "      <td>13.500</td>\n",
       "      <td>85.342</td>\n",
       "      <td>final</td>\n",
       "      <td>USA</td>\n",
       "      <td>2023</td>\n",
       "    </tr>\n",
       "    <tr>\n",
       "      <th>680</th>\n",
       "      <td>2.0</td>\n",
       "      <td>fred richard</td>\n",
       "      <td>14.483</td>\n",
       "      <td>13.357</td>\n",
       "      <td>13.350</td>\n",
       "      <td>14.000</td>\n",
       "      <td>14.450</td>\n",
       "      <td>14.962</td>\n",
       "      <td>84.602</td>\n",
       "      <td>final</td>\n",
       "      <td>USA</td>\n",
       "      <td>2023</td>\n",
       "    </tr>\n",
       "    <tr>\n",
       "      <th>712</th>\n",
       "      <td>34.0</td>\n",
       "      <td>khoi young</td>\n",
       "      <td>0.000</td>\n",
       "      <td>11.200</td>\n",
       "      <td>0.000</td>\n",
       "      <td>14.802</td>\n",
       "      <td>0.000</td>\n",
       "      <td>0.000</td>\n",
       "      <td>26.002</td>\n",
       "      <td>final</td>\n",
       "      <td>USA</td>\n",
       "      <td>2023</td>\n",
       "    </tr>\n",
       "  </tbody>\n",
       "</table>\n",
       "</div>"
      ],
      "text/plain": [
       "     Rank            Athlete      FX      PH      SR      VT      PB      HB  \\\n",
       "421   1.0  vitaliy guimaraes  14.250  14.350  13.600  14.450  13.900  13.400   \n",
       "422   2.0         khoi young  13.550  15.342  12.550  15.244  13.750  13.100   \n",
       "424   4.0       yul moldauer  13.400  13.789  14.116  13.400  15.543  11.400   \n",
       "448  28.0       fred richard  11.850  12.250  11.950  13.900  12.400  11.650   \n",
       "679   1.0       yul moldauer  14.400  13.957  14.114  14.250  15.121  13.500   \n",
       "680   2.0       fred richard  14.483  13.357  13.350  14.000  14.450  14.962   \n",
       "712  34.0         khoi young   0.000  11.200   0.000  14.802   0.000   0.000   \n",
       "\n",
       "         AA  round Nation  year  \n",
       "421  83.950  final    USA  2022  \n",
       "422  83.536  final    USA  2022  \n",
       "424  81.648  final    USA  2022  \n",
       "448  74.000  final    USA  2022  \n",
       "679  85.342  final    USA  2023  \n",
       "680  84.602  final    USA  2023  \n",
       "712  26.002  final    USA  2023  "
      ]
     },
     "execution_count": 13,
     "metadata": {},
     "output_type": "execute_result"
    }
   ],
   "source": [
    "dfs"
   ]
  },
  {
   "cell_type": "code",
   "execution_count": 14,
   "id": "5956e2c2",
   "metadata": {},
   "outputs": [],
   "source": [
    "dfs = dfs.drop(columns=['AA', 'round', 'Nation', 'year', 'Rank'])\n",
    "\n"
   ]
  },
  {
   "cell_type": "code",
   "execution_count": 15,
   "id": "d9604095",
   "metadata": {},
   "outputs": [],
   "source": [
    "asher_hong_data = {\n",
    "    'Athlete': ['Asher Hong'] * 7,\n",
    "    'FX': 13.116,\n",
    "    'PH':12.728,\n",
    "    'SR': 14.3495,\n",
    "    'VT':15.7175,\n",
    "    'PB':14.5275,\n",
    "    'HB': 12.05,\n",
    "\n",
    "}\n",
    "\n",
    "# Convert the additional data to a DataFrame\n",
    "asher_hong_df = pd.DataFrame(asher_hong_data)\n",
    "\n",
    "# Concatenate the original DataFrame with the new data for 'Asher Hong'\n",
    "dfs = pd.concat([dfs, asher_hong_df], ignore_index=True)\n"
   ]
  },
  {
   "cell_type": "code",
   "execution_count": 16,
   "id": "ebfb77c4",
   "metadata": {},
   "outputs": [],
   "source": [
    "dff = dfs.iloc[:8]"
   ]
  },
  {
   "cell_type": "code",
   "execution_count": 17,
   "id": "7ccf59b6",
   "metadata": {
    "scrolled": false
   },
   "outputs": [],
   "source": [
    "average_scores = dff.groupby('Athlete').mean().reset_index()"
   ]
  },
  {
   "cell_type": "code",
   "execution_count": 18,
   "id": "79e003fd",
   "metadata": {},
   "outputs": [],
   "source": [
    "df=average_scores.copy()"
   ]
  },
  {
   "cell_type": "code",
   "execution_count": 22,
   "id": "6289d95f",
   "metadata": {},
   "outputs": [
    {
     "name": "stdout",
     "output_type": "stream",
     "text": [
      "Welcome to the CBC MILP Solver \n",
      "Version: 2.10.3 \n",
      "Build Date: Dec 15 2019 \n",
      "\n",
      "command line - /Users/ryantalbot/opt/anaconda3/envs/tf2/lib/python3.9/site-packages/pulp/solverdir/cbc/osx/64/cbc /var/folders/j_/555m2zps099832fjh_m8jjnc0000gn/T/9abdede5547d49b2bff7d6af198c5f0e-pulp.mps max timeMode elapsed branch printingOptions all solution /var/folders/j_/555m2zps099832fjh_m8jjnc0000gn/T/9abdede5547d49b2bff7d6af198c5f0e-pulp.sol (default strategy 1)\n",
      "At line 2 NAME          MODEL\n",
      "At line 3 ROWS\n",
      "At line 6 COLUMNS\n",
      "At line 27 RHS\n",
      "At line 29 BOUNDS\n",
      "At line 35 ENDATA\n",
      "Problem MODEL has 1 rows, 5 columns and 5 elements\n",
      "Coin0008I MODEL read with 0 errors\n",
      "Option for timeMode changed from cpu to elapsed\n",
      "Continuous objective value is 5 - 0.00 seconds\n",
      "Cgl0004I processed model has 0 rows, 0 columns (0 integer (0 of which binary)) and 0 elements\n",
      "Cbc3007W No integer variables - nothing to do\n",
      "Cuts at root node changed objective from -5 to -1.79769e+308\n",
      "Probing was tried 0 times and created 0 cuts of which 0 were active after adding rounds of cuts (0.000 seconds)\n",
      "Gomory was tried 0 times and created 0 cuts of which 0 were active after adding rounds of cuts (0.000 seconds)\n",
      "Knapsack was tried 0 times and created 0 cuts of which 0 were active after adding rounds of cuts (0.000 seconds)\n",
      "Clique was tried 0 times and created 0 cuts of which 0 were active after adding rounds of cuts (0.000 seconds)\n",
      "MixedIntegerRounding2 was tried 0 times and created 0 cuts of which 0 were active after adding rounds of cuts (0.000 seconds)\n",
      "FlowCover was tried 0 times and created 0 cuts of which 0 were active after adding rounds of cuts (0.000 seconds)\n",
      "TwoMirCuts was tried 0 times and created 0 cuts of which 0 were active after adding rounds of cuts (0.000 seconds)\n",
      "ZeroHalf was tried 0 times and created 0 cuts of which 0 were active after adding rounds of cuts (0.000 seconds)\n",
      "\n",
      "Result - Optimal solution found\n",
      "\n",
      "Objective value:                5.00000000\n",
      "Enumerated nodes:               0\n",
      "Total iterations:               0\n",
      "Time (CPU seconds):             0.00\n",
      "Time (Wallclock seconds):       0.01\n",
      "\n",
      "Option for printingOptions changed from normal to all\n",
      "Total time (CPU seconds):       0.00   (Wallclock seconds):       0.01\n",
      "\n",
      "Status: Optimal\n",
      "Selected Athletes: ['Asher Hong', 'fred richard', 'khoi young', 'vitaliy guimaraes', 'yul moldauer']\n"
     ]
    }
   ],
   "source": [
    "import pandas as pd\n",
    "from pulp import LpProblem, LpVariable, lpSum, LpMaximize, LpInteger, LpStatus\n",
    "\n",
    "# Assuming df is your average_scores DataFrame\n",
    "\n",
    "def select_athletes_with_pulp(df):\n",
    "    # Define the problem as a maximization problem\n",
    "    prob = LpProblem(\"Athlete_Selection\", LpMaximize)\n",
    "\n",
    "    # Create binary decision variables for each athlete\n",
    "    athletes = df['Athlete'].unique()\n",
    "    selected = LpVariable.dicts(\"Selected\", athletes, 0, 1, LpInteger)\n",
    "\n",
    "    # Objective function: maximize the total number of selected athletes\n",
    "    prob += lpSum(selected[athlete] for athlete in athletes)\n",
    "\n",
    "    # Constraint: Select exactly 4 athletes\n",
    "    prob += lpSum(selected[athlete] for athlete in athletes) == 5\n",
    "\n",
    "    # Solve the problem\n",
    "    status = prob.solve()\n",
    "\n",
    "    # Check the status\n",
    "    print(\"Status:\", LpStatus[status])\n",
    "\n",
    "    # Extract selected athletes\n",
    "    selected_athletes = [athlete for athlete in athletes if selected[athlete].varValue == 1]\n",
    "\n",
    "    # Display the result\n",
    "    print(\"Selected Athletes:\", selected_athletes)\n",
    "\n",
    "# Call the function\n",
    "select_athletes_with_pulp(df)\n"
   ]
  },
  {
   "cell_type": "code",
   "execution_count": null,
   "id": "d7423629",
   "metadata": {},
   "outputs": [],
   "source": []
  }
 ],
 "metadata": {
  "kernelspec": {
   "display_name": "Python 3 (ipykernel)",
   "language": "python",
   "name": "python3"
  },
  "language_info": {
   "codemirror_mode": {
    "name": "ipython",
    "version": 3
   },
   "file_extension": ".py",
   "mimetype": "text/x-python",
   "name": "python",
   "nbconvert_exporter": "python",
   "pygments_lexer": "ipython3",
   "version": "3.9.12"
  }
 },
 "nbformat": 4,
 "nbformat_minor": 5
}
