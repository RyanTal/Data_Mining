{
 "cells": [
  {
   "cell_type": "code",
   "execution_count": 7,
   "id": "7270441b",
   "metadata": {},
   "outputs": [],
   "source": [
    "import pandas as pd \n",
    "import numpy as np"
   ]
  },
  {
   "cell_type": "code",
   "execution_count": 8,
   "id": "c17cbde8",
   "metadata": {},
   "outputs": [],
   "source": [
    "df=pd.read_csv('../../Data/cleandata22-23/men22_23.csv')"
   ]
  },
  {
   "cell_type": "code",
   "execution_count": 9,
   "id": "77de5095",
   "metadata": {},
   "outputs": [
    {
     "data": {
      "text/plain": [
       "Gender\n",
       "m    8578\n",
       "Name: count, dtype: int64"
      ]
     },
     "execution_count": 9,
     "metadata": {},
     "output_type": "execute_result"
    }
   ],
   "source": [
    "df['Gender'].value_counts()"
   ]
  },
  {
   "cell_type": "code",
   "execution_count": 10,
   "id": "05502776",
   "metadata": {},
   "outputs": [],
   "source": [
    "df = df[df['Country']=='USA']"
   ]
  },
  {
   "cell_type": "code",
   "execution_count": 11,
   "id": "4856f5da",
   "metadata": {},
   "outputs": [
    {
     "data": {
      "text/html": [
       "<div>\n",
       "<style scoped>\n",
       "    .dataframe tbody tr th:only-of-type {\n",
       "        vertical-align: middle;\n",
       "    }\n",
       "\n",
       "    .dataframe tbody tr th {\n",
       "        vertical-align: top;\n",
       "    }\n",
       "\n",
       "    .dataframe thead th {\n",
       "        text-align: right;\n",
       "    }\n",
       "</style>\n",
       "<table border=\"1\" class=\"dataframe\">\n",
       "  <thead>\n",
       "    <tr style=\"text-align: right;\">\n",
       "      <th></th>\n",
       "      <th>Name</th>\n",
       "      <th>Country</th>\n",
       "      <th>Date</th>\n",
       "      <th>Gender</th>\n",
       "      <th>Competition</th>\n",
       "      <th>Round</th>\n",
       "      <th>Location</th>\n",
       "      <th>Apparatus</th>\n",
       "      <th>Rank</th>\n",
       "      <th>D_Score</th>\n",
       "      <th>E_Score</th>\n",
       "      <th>Penalty</th>\n",
       "      <th>Score</th>\n",
       "      <th>Total_Score</th>\n",
       "    </tr>\n",
       "  </thead>\n",
       "  <tbody>\n",
       "    <tr>\n",
       "      <th>525</th>\n",
       "      <td>Javier Alfonso</td>\n",
       "      <td>USA</td>\n",
       "      <td>2022-08-20</td>\n",
       "      <td>m</td>\n",
       "      <td>2022 U.S. Championships</td>\n",
       "      <td>qual</td>\n",
       "      <td>Tampa, FL</td>\n",
       "      <td>FX</td>\n",
       "      <td>0.0</td>\n",
       "      <td>0.0</td>\n",
       "      <td>0.00</td>\n",
       "      <td>0.0</td>\n",
       "      <td>0.00</td>\n",
       "      <td>0.00</td>\n",
       "    </tr>\n",
       "    <tr>\n",
       "      <th>526</th>\n",
       "      <td>Javier Alfonso</td>\n",
       "      <td>USA</td>\n",
       "      <td>2022-08-20</td>\n",
       "      <td>m</td>\n",
       "      <td>2022 U.S. Championships</td>\n",
       "      <td>qual</td>\n",
       "      <td>Tampa, FL</td>\n",
       "      <td>HB</td>\n",
       "      <td>0.0</td>\n",
       "      <td>0.0</td>\n",
       "      <td>0.00</td>\n",
       "      <td>0.0</td>\n",
       "      <td>0.00</td>\n",
       "      <td>0.00</td>\n",
       "    </tr>\n",
       "    <tr>\n",
       "      <th>527</th>\n",
       "      <td>Javier Alfonso</td>\n",
       "      <td>USA</td>\n",
       "      <td>2022-08-20</td>\n",
       "      <td>m</td>\n",
       "      <td>2022 U.S. Championships</td>\n",
       "      <td>qual</td>\n",
       "      <td>Tampa, FL</td>\n",
       "      <td>PB</td>\n",
       "      <td>0.0</td>\n",
       "      <td>0.0</td>\n",
       "      <td>0.00</td>\n",
       "      <td>0.0</td>\n",
       "      <td>0.00</td>\n",
       "      <td>0.00</td>\n",
       "    </tr>\n",
       "    <tr>\n",
       "      <th>528</th>\n",
       "      <td>Javier Alfonso</td>\n",
       "      <td>USA</td>\n",
       "      <td>2022-08-20</td>\n",
       "      <td>m</td>\n",
       "      <td>2022 U.S. Championships</td>\n",
       "      <td>qual</td>\n",
       "      <td>Tampa, FL</td>\n",
       "      <td>PH</td>\n",
       "      <td>0.0</td>\n",
       "      <td>0.0</td>\n",
       "      <td>0.00</td>\n",
       "      <td>0.0</td>\n",
       "      <td>0.00</td>\n",
       "      <td>0.00</td>\n",
       "    </tr>\n",
       "    <tr>\n",
       "      <th>529</th>\n",
       "      <td>Javier Alfonso</td>\n",
       "      <td>USA</td>\n",
       "      <td>2022-08-20</td>\n",
       "      <td>m</td>\n",
       "      <td>2022 U.S. Championships</td>\n",
       "      <td>qual</td>\n",
       "      <td>Tampa, FL</td>\n",
       "      <td>SR</td>\n",
       "      <td>0.0</td>\n",
       "      <td>0.0</td>\n",
       "      <td>0.00</td>\n",
       "      <td>0.0</td>\n",
       "      <td>0.00</td>\n",
       "      <td>0.00</td>\n",
       "    </tr>\n",
       "    <tr>\n",
       "      <th>...</th>\n",
       "      <td>...</td>\n",
       "      <td>...</td>\n",
       "      <td>...</td>\n",
       "      <td>...</td>\n",
       "      <td>...</td>\n",
       "      <td>...</td>\n",
       "      <td>...</td>\n",
       "      <td>...</td>\n",
       "      <td>...</td>\n",
       "      <td>...</td>\n",
       "      <td>...</td>\n",
       "      <td>...</td>\n",
       "      <td>...</td>\n",
       "      <td>...</td>\n",
       "    </tr>\n",
       "    <tr>\n",
       "      <th>8553</th>\n",
       "      <td>Oliver Zavel</td>\n",
       "      <td>USA</td>\n",
       "      <td>2023-08-27</td>\n",
       "      <td>m</td>\n",
       "      <td>2023 U.S. Championships</td>\n",
       "      <td>final</td>\n",
       "      <td>San Jose, CA</td>\n",
       "      <td>PH</td>\n",
       "      <td>0.0</td>\n",
       "      <td>4.5</td>\n",
       "      <td>7.05</td>\n",
       "      <td>0.0</td>\n",
       "      <td>11.55</td>\n",
       "      <td>11.55</td>\n",
       "    </tr>\n",
       "    <tr>\n",
       "      <th>8554</th>\n",
       "      <td>Oliver Zavel</td>\n",
       "      <td>USA</td>\n",
       "      <td>2023-08-27</td>\n",
       "      <td>m</td>\n",
       "      <td>2023 U.S. Championships</td>\n",
       "      <td>qual</td>\n",
       "      <td>San Jose, CA</td>\n",
       "      <td>SR</td>\n",
       "      <td>0.0</td>\n",
       "      <td>4.6</td>\n",
       "      <td>7.85</td>\n",
       "      <td>0.0</td>\n",
       "      <td>12.45</td>\n",
       "      <td>12.45</td>\n",
       "    </tr>\n",
       "    <tr>\n",
       "      <th>8555</th>\n",
       "      <td>Oliver Zavel</td>\n",
       "      <td>USA</td>\n",
       "      <td>2023-08-27</td>\n",
       "      <td>m</td>\n",
       "      <td>2023 U.S. Championships</td>\n",
       "      <td>final</td>\n",
       "      <td>San Jose, CA</td>\n",
       "      <td>SR</td>\n",
       "      <td>0.0</td>\n",
       "      <td>4.6</td>\n",
       "      <td>8.25</td>\n",
       "      <td>0.0</td>\n",
       "      <td>12.85</td>\n",
       "      <td>12.85</td>\n",
       "    </tr>\n",
       "    <tr>\n",
       "      <th>8556</th>\n",
       "      <td>Oliver Zavel</td>\n",
       "      <td>USA</td>\n",
       "      <td>2023-08-27</td>\n",
       "      <td>m</td>\n",
       "      <td>2023 U.S. Championships</td>\n",
       "      <td>qual</td>\n",
       "      <td>San Jose, CA</td>\n",
       "      <td>VT</td>\n",
       "      <td>0.0</td>\n",
       "      <td>4.8</td>\n",
       "      <td>8.70</td>\n",
       "      <td>0.3</td>\n",
       "      <td>13.20</td>\n",
       "      <td>13.20</td>\n",
       "    </tr>\n",
       "    <tr>\n",
       "      <th>8557</th>\n",
       "      <td>Oliver Zavel</td>\n",
       "      <td>USA</td>\n",
       "      <td>2023-08-27</td>\n",
       "      <td>m</td>\n",
       "      <td>2023 U.S. Championships</td>\n",
       "      <td>final</td>\n",
       "      <td>San Jose, CA</td>\n",
       "      <td>VT</td>\n",
       "      <td>0.0</td>\n",
       "      <td>4.8</td>\n",
       "      <td>8.40</td>\n",
       "      <td>0.0</td>\n",
       "      <td>13.20</td>\n",
       "      <td>13.20</td>\n",
       "    </tr>\n",
       "  </tbody>\n",
       "</table>\n",
       "<p>1463 rows × 14 columns</p>\n",
       "</div>"
      ],
      "text/plain": [
       "                Name Country        Date Gender              Competition  \\\n",
       "525   Javier Alfonso     USA  2022-08-20      m  2022 U.S. Championships   \n",
       "526   Javier Alfonso     USA  2022-08-20      m  2022 U.S. Championships   \n",
       "527   Javier Alfonso     USA  2022-08-20      m  2022 U.S. Championships   \n",
       "528   Javier Alfonso     USA  2022-08-20      m  2022 U.S. Championships   \n",
       "529   Javier Alfonso     USA  2022-08-20      m  2022 U.S. Championships   \n",
       "...              ...     ...         ...    ...                      ...   \n",
       "8553    Oliver Zavel     USA  2023-08-27      m  2023 U.S. Championships   \n",
       "8554    Oliver Zavel     USA  2023-08-27      m  2023 U.S. Championships   \n",
       "8555    Oliver Zavel     USA  2023-08-27      m  2023 U.S. Championships   \n",
       "8556    Oliver Zavel     USA  2023-08-27      m  2023 U.S. Championships   \n",
       "8557    Oliver Zavel     USA  2023-08-27      m  2023 U.S. Championships   \n",
       "\n",
       "      Round      Location Apparatus  Rank  D_Score  E_Score  Penalty  Score  \\\n",
       "525    qual     Tampa, FL        FX   0.0      0.0     0.00      0.0   0.00   \n",
       "526    qual     Tampa, FL        HB   0.0      0.0     0.00      0.0   0.00   \n",
       "527    qual     Tampa, FL        PB   0.0      0.0     0.00      0.0   0.00   \n",
       "528    qual     Tampa, FL        PH   0.0      0.0     0.00      0.0   0.00   \n",
       "529    qual     Tampa, FL        SR   0.0      0.0     0.00      0.0   0.00   \n",
       "...     ...           ...       ...   ...      ...      ...      ...    ...   \n",
       "8553  final  San Jose, CA        PH   0.0      4.5     7.05      0.0  11.55   \n",
       "8554   qual  San Jose, CA        SR   0.0      4.6     7.85      0.0  12.45   \n",
       "8555  final  San Jose, CA        SR   0.0      4.6     8.25      0.0  12.85   \n",
       "8556   qual  San Jose, CA        VT   0.0      4.8     8.70      0.3  13.20   \n",
       "8557  final  San Jose, CA        VT   0.0      4.8     8.40      0.0  13.20   \n",
       "\n",
       "      Total_Score  \n",
       "525          0.00  \n",
       "526          0.00  \n",
       "527          0.00  \n",
       "528          0.00  \n",
       "529          0.00  \n",
       "...           ...  \n",
       "8553        11.55  \n",
       "8554        12.45  \n",
       "8555        12.85  \n",
       "8556        13.20  \n",
       "8557        13.20  \n",
       "\n",
       "[1463 rows x 14 columns]"
      ]
     },
     "execution_count": 11,
     "metadata": {},
     "output_type": "execute_result"
    }
   ],
   "source": [
    "df"
   ]
  },
  {
   "cell_type": "code",
   "execution_count": 12,
   "id": "509a3939",
   "metadata": {},
   "outputs": [],
   "source": [
    "df = df[df['Score'] != 0]"
   ]
  },
  {
   "cell_type": "code",
   "execution_count": 13,
   "id": "a24dfdae",
   "metadata": {},
   "outputs": [
    {
     "name": "stderr",
     "output_type": "stream",
     "text": [
      "/var/folders/j_/555m2zps099832fjh_m8jjnc0000gn/T/ipykernel_17530/2167317410.py:1: SettingWithCopyWarning: \n",
      "A value is trying to be set on a copy of a slice from a DataFrame.\n",
      "Try using .loc[row_indexer,col_indexer] = value instead\n",
      "\n",
      "See the caveats in the documentation: https://pandas.pydata.org/pandas-docs/stable/user_guide/indexing.html#returning-a-view-versus-a-copy\n",
      "  df['Name']=df['Name'].str.lower()\n"
     ]
    }
   ],
   "source": [
    "df['Name']=df['Name'].str.lower()"
   ]
  },
  {
   "cell_type": "code",
   "execution_count": 14,
   "id": "093d3eb1",
   "metadata": {},
   "outputs": [
    {
     "data": {
      "text/html": [
       "<div>\n",
       "<style scoped>\n",
       "    .dataframe tbody tr th:only-of-type {\n",
       "        vertical-align: middle;\n",
       "    }\n",
       "\n",
       "    .dataframe tbody tr th {\n",
       "        vertical-align: top;\n",
       "    }\n",
       "\n",
       "    .dataframe thead th {\n",
       "        text-align: right;\n",
       "    }\n",
       "</style>\n",
       "<table border=\"1\" class=\"dataframe\">\n",
       "  <thead>\n",
       "    <tr style=\"text-align: right;\">\n",
       "      <th></th>\n",
       "      <th>Name</th>\n",
       "      <th>Country</th>\n",
       "      <th>Date</th>\n",
       "      <th>Gender</th>\n",
       "      <th>Competition</th>\n",
       "      <th>Round</th>\n",
       "      <th>Location</th>\n",
       "      <th>Apparatus</th>\n",
       "      <th>Rank</th>\n",
       "      <th>D_Score</th>\n",
       "      <th>E_Score</th>\n",
       "      <th>Penalty</th>\n",
       "      <th>Score</th>\n",
       "      <th>Total_Score</th>\n",
       "    </tr>\n",
       "  </thead>\n",
       "  <tbody>\n",
       "    <tr>\n",
       "      <th>530</th>\n",
       "      <td>javier alfonso</td>\n",
       "      <td>USA</td>\n",
       "      <td>2022-08-20</td>\n",
       "      <td>m</td>\n",
       "      <td>2022 U.S. Championships</td>\n",
       "      <td>final</td>\n",
       "      <td>Tampa, FL</td>\n",
       "      <td>SR</td>\n",
       "      <td>0.0</td>\n",
       "      <td>4.5</td>\n",
       "      <td>8.50</td>\n",
       "      <td>0.0</td>\n",
       "      <td>13.00</td>\n",
       "      <td>13.00</td>\n",
       "    </tr>\n",
       "    <tr>\n",
       "      <th>532</th>\n",
       "      <td>javier alfonso</td>\n",
       "      <td>USA</td>\n",
       "      <td>2023-08-27</td>\n",
       "      <td>m</td>\n",
       "      <td>2023 U.S. Championships</td>\n",
       "      <td>qual</td>\n",
       "      <td>San Jose, CA</td>\n",
       "      <td>FX</td>\n",
       "      <td>0.0</td>\n",
       "      <td>5.0</td>\n",
       "      <td>9.05</td>\n",
       "      <td>0.0</td>\n",
       "      <td>14.05</td>\n",
       "      <td>14.05</td>\n",
       "    </tr>\n",
       "    <tr>\n",
       "      <th>533</th>\n",
       "      <td>javier alfonso</td>\n",
       "      <td>USA</td>\n",
       "      <td>2023-08-27</td>\n",
       "      <td>m</td>\n",
       "      <td>2023 U.S. Championships</td>\n",
       "      <td>final</td>\n",
       "      <td>San Jose, CA</td>\n",
       "      <td>FX</td>\n",
       "      <td>0.0</td>\n",
       "      <td>5.0</td>\n",
       "      <td>8.95</td>\n",
       "      <td>0.0</td>\n",
       "      <td>13.95</td>\n",
       "      <td>13.95</td>\n",
       "    </tr>\n",
       "    <tr>\n",
       "      <th>534</th>\n",
       "      <td>javier alfonso</td>\n",
       "      <td>USA</td>\n",
       "      <td>2023-08-27</td>\n",
       "      <td>m</td>\n",
       "      <td>2023 U.S. Championships</td>\n",
       "      <td>qual</td>\n",
       "      <td>San Jose, CA</td>\n",
       "      <td>PB</td>\n",
       "      <td>0.0</td>\n",
       "      <td>4.7</td>\n",
       "      <td>7.85</td>\n",
       "      <td>0.0</td>\n",
       "      <td>12.55</td>\n",
       "      <td>12.55</td>\n",
       "    </tr>\n",
       "    <tr>\n",
       "      <th>535</th>\n",
       "      <td>javier alfonso</td>\n",
       "      <td>USA</td>\n",
       "      <td>2023-08-27</td>\n",
       "      <td>m</td>\n",
       "      <td>2023 U.S. Championships</td>\n",
       "      <td>final</td>\n",
       "      <td>San Jose, CA</td>\n",
       "      <td>PB</td>\n",
       "      <td>0.0</td>\n",
       "      <td>5.0</td>\n",
       "      <td>8.80</td>\n",
       "      <td>0.0</td>\n",
       "      <td>13.80</td>\n",
       "      <td>13.80</td>\n",
       "    </tr>\n",
       "    <tr>\n",
       "      <th>...</th>\n",
       "      <td>...</td>\n",
       "      <td>...</td>\n",
       "      <td>...</td>\n",
       "      <td>...</td>\n",
       "      <td>...</td>\n",
       "      <td>...</td>\n",
       "      <td>...</td>\n",
       "      <td>...</td>\n",
       "      <td>...</td>\n",
       "      <td>...</td>\n",
       "      <td>...</td>\n",
       "      <td>...</td>\n",
       "      <td>...</td>\n",
       "      <td>...</td>\n",
       "    </tr>\n",
       "    <tr>\n",
       "      <th>8553</th>\n",
       "      <td>oliver zavel</td>\n",
       "      <td>USA</td>\n",
       "      <td>2023-08-27</td>\n",
       "      <td>m</td>\n",
       "      <td>2023 U.S. Championships</td>\n",
       "      <td>final</td>\n",
       "      <td>San Jose, CA</td>\n",
       "      <td>PH</td>\n",
       "      <td>0.0</td>\n",
       "      <td>4.5</td>\n",
       "      <td>7.05</td>\n",
       "      <td>0.0</td>\n",
       "      <td>11.55</td>\n",
       "      <td>11.55</td>\n",
       "    </tr>\n",
       "    <tr>\n",
       "      <th>8554</th>\n",
       "      <td>oliver zavel</td>\n",
       "      <td>USA</td>\n",
       "      <td>2023-08-27</td>\n",
       "      <td>m</td>\n",
       "      <td>2023 U.S. Championships</td>\n",
       "      <td>qual</td>\n",
       "      <td>San Jose, CA</td>\n",
       "      <td>SR</td>\n",
       "      <td>0.0</td>\n",
       "      <td>4.6</td>\n",
       "      <td>7.85</td>\n",
       "      <td>0.0</td>\n",
       "      <td>12.45</td>\n",
       "      <td>12.45</td>\n",
       "    </tr>\n",
       "    <tr>\n",
       "      <th>8555</th>\n",
       "      <td>oliver zavel</td>\n",
       "      <td>USA</td>\n",
       "      <td>2023-08-27</td>\n",
       "      <td>m</td>\n",
       "      <td>2023 U.S. Championships</td>\n",
       "      <td>final</td>\n",
       "      <td>San Jose, CA</td>\n",
       "      <td>SR</td>\n",
       "      <td>0.0</td>\n",
       "      <td>4.6</td>\n",
       "      <td>8.25</td>\n",
       "      <td>0.0</td>\n",
       "      <td>12.85</td>\n",
       "      <td>12.85</td>\n",
       "    </tr>\n",
       "    <tr>\n",
       "      <th>8556</th>\n",
       "      <td>oliver zavel</td>\n",
       "      <td>USA</td>\n",
       "      <td>2023-08-27</td>\n",
       "      <td>m</td>\n",
       "      <td>2023 U.S. Championships</td>\n",
       "      <td>qual</td>\n",
       "      <td>San Jose, CA</td>\n",
       "      <td>VT</td>\n",
       "      <td>0.0</td>\n",
       "      <td>4.8</td>\n",
       "      <td>8.70</td>\n",
       "      <td>0.3</td>\n",
       "      <td>13.20</td>\n",
       "      <td>13.20</td>\n",
       "    </tr>\n",
       "    <tr>\n",
       "      <th>8557</th>\n",
       "      <td>oliver zavel</td>\n",
       "      <td>USA</td>\n",
       "      <td>2023-08-27</td>\n",
       "      <td>m</td>\n",
       "      <td>2023 U.S. Championships</td>\n",
       "      <td>final</td>\n",
       "      <td>San Jose, CA</td>\n",
       "      <td>VT</td>\n",
       "      <td>0.0</td>\n",
       "      <td>4.8</td>\n",
       "      <td>8.40</td>\n",
       "      <td>0.0</td>\n",
       "      <td>13.20</td>\n",
       "      <td>13.20</td>\n",
       "    </tr>\n",
       "  </tbody>\n",
       "</table>\n",
       "<p>1423 rows × 14 columns</p>\n",
       "</div>"
      ],
      "text/plain": [
       "                Name Country        Date Gender              Competition  \\\n",
       "530   javier alfonso     USA  2022-08-20      m  2022 U.S. Championships   \n",
       "532   javier alfonso     USA  2023-08-27      m  2023 U.S. Championships   \n",
       "533   javier alfonso     USA  2023-08-27      m  2023 U.S. Championships   \n",
       "534   javier alfonso     USA  2023-08-27      m  2023 U.S. Championships   \n",
       "535   javier alfonso     USA  2023-08-27      m  2023 U.S. Championships   \n",
       "...              ...     ...         ...    ...                      ...   \n",
       "8553    oliver zavel     USA  2023-08-27      m  2023 U.S. Championships   \n",
       "8554    oliver zavel     USA  2023-08-27      m  2023 U.S. Championships   \n",
       "8555    oliver zavel     USA  2023-08-27      m  2023 U.S. Championships   \n",
       "8556    oliver zavel     USA  2023-08-27      m  2023 U.S. Championships   \n",
       "8557    oliver zavel     USA  2023-08-27      m  2023 U.S. Championships   \n",
       "\n",
       "      Round      Location Apparatus  Rank  D_Score  E_Score  Penalty  Score  \\\n",
       "530   final     Tampa, FL        SR   0.0      4.5     8.50      0.0  13.00   \n",
       "532    qual  San Jose, CA        FX   0.0      5.0     9.05      0.0  14.05   \n",
       "533   final  San Jose, CA        FX   0.0      5.0     8.95      0.0  13.95   \n",
       "534    qual  San Jose, CA        PB   0.0      4.7     7.85      0.0  12.55   \n",
       "535   final  San Jose, CA        PB   0.0      5.0     8.80      0.0  13.80   \n",
       "...     ...           ...       ...   ...      ...      ...      ...    ...   \n",
       "8553  final  San Jose, CA        PH   0.0      4.5     7.05      0.0  11.55   \n",
       "8554   qual  San Jose, CA        SR   0.0      4.6     7.85      0.0  12.45   \n",
       "8555  final  San Jose, CA        SR   0.0      4.6     8.25      0.0  12.85   \n",
       "8556   qual  San Jose, CA        VT   0.0      4.8     8.70      0.3  13.20   \n",
       "8557  final  San Jose, CA        VT   0.0      4.8     8.40      0.0  13.20   \n",
       "\n",
       "      Total_Score  \n",
       "530         13.00  \n",
       "532         14.05  \n",
       "533         13.95  \n",
       "534         12.55  \n",
       "535         13.80  \n",
       "...           ...  \n",
       "8553        11.55  \n",
       "8554        12.45  \n",
       "8555        12.85  \n",
       "8556        13.20  \n",
       "8557        13.20  \n",
       "\n",
       "[1423 rows x 14 columns]"
      ]
     },
     "execution_count": 14,
     "metadata": {},
     "output_type": "execute_result"
    }
   ],
   "source": [
    "df"
   ]
  },
  {
   "cell_type": "code",
   "execution_count": 21,
   "id": "c40973e3",
   "metadata": {},
   "outputs": [],
   "source": [
    "dfs=df.drop(columns=['Country', 'Date', 'Gender', 'Competition', 'Round', \n",
    "                    'Location', 'Rank', 'D_Score', 'E_Score', 'Penalty', 'Total_Score'])"
   ]
  },
  {
   "cell_type": "code",
   "execution_count": 26,
   "id": "9b4a1ab3",
   "metadata": {},
   "outputs": [],
   "source": [
    "dfs['Apparatus'] = dfs['Apparatus'].replace(['VT1', 'VT2'], 'VT')"
   ]
  },
  {
   "cell_type": "code",
   "execution_count": 27,
   "id": "cbf94853",
   "metadata": {
    "scrolled": true
   },
   "outputs": [
    {
     "data": {
      "text/plain": [
       "Apparatus\n",
       "PH    251\n",
       "PB    243\n",
       "HB    238\n",
       "FX    231\n",
       "VT    230\n",
       "SR    230\n",
       "Name: count, dtype: int64"
      ]
     },
     "execution_count": 27,
     "metadata": {},
     "output_type": "execute_result"
    }
   ],
   "source": [
    "dfs['Apparatus'].value_counts()"
   ]
  },
  {
   "cell_type": "code",
   "execution_count": 30,
   "id": "de09e1b6",
   "metadata": {},
   "outputs": [],
   "source": [
    "# dfs.to_csv('all_usa.csv', index=False)  "
   ]
  },
  {
   "cell_type": "code",
   "execution_count": 15,
   "id": "5eb9d047",
   "metadata": {},
   "outputs": [],
   "source": [
    "sr = df[df['Apparatus'] == 'SR']\n",
    "fx = df[df['Apparatus'] == 'FX']\n",
    "pb = df[df['Apparatus'] == 'PB']\n",
    "ph = df[df['Apparatus'] == 'PH']\n",
    "vt = df[df['Apparatus'] == 'VT']\n",
    "hb = df[df['Apparatus'] == 'HB']\n"
   ]
  },
  {
   "cell_type": "code",
   "execution_count": 16,
   "id": "b238589d",
   "metadata": {},
   "outputs": [],
   "source": [
    "srt = sr.sort_values(by='Score', ascending=False)\n",
    "fxt = fx.sort_values(by='Score', ascending=False)\n",
    "pbt = pb.sort_values(by='Score', ascending=False)\n",
    "pht = ph.sort_values(by='Score', ascending=False)\n",
    "vtt = vt.sort_values(by='Score', ascending=False)\n",
    "hbt = hb.sort_values(by='Score', ascending=False)\n"
   ]
  },
  {
   "cell_type": "code",
   "execution_count": 17,
   "id": "108842fd",
   "metadata": {},
   "outputs": [],
   "source": [
    "srtz = srt.head(10)\n",
    "fxtz = fxt.head(10)\n",
    "pbtz = pbt.head(10)\n",
    "phtz = pht.head(10)\n",
    "vttz = vtt.head(10)\n",
    "hbtz = hbt.head(10)\n"
   ]
  },
  {
   "cell_type": "code",
   "execution_count": 18,
   "id": "73865d9f",
   "metadata": {},
   "outputs": [],
   "source": [
    "srs = srt[['Name']].drop_duplicates()\n",
    "fxs = fxt[['Name']].drop_duplicates()\n",
    "pbs = pbt[['Name']].drop_duplicates()\n",
    "phs = pht[['Name']].drop_duplicates()\n",
    "vts = vtt[['Name']].drop_duplicates()\n",
    "hbs = hbt[['Name']].drop_duplicates()\n"
   ]
  },
  {
   "cell_type": "code",
   "execution_count": 14,
   "id": "ae516e01",
   "metadata": {},
   "outputs": [
    {
     "data": {
      "text/plain": [
       "array(['donnell whittenburg', 'asher hong', 'alex diab'], dtype=object)"
      ]
     },
     "execution_count": 14,
     "metadata": {},
     "output_type": "execute_result"
    }
   ],
   "source": [
    "srtz['Name'].unique()"
   ]
  },
  {
   "cell_type": "code",
   "execution_count": 15,
   "id": "f38b8f15",
   "metadata": {},
   "outputs": [
    {
     "data": {
      "text/plain": [
       "array(['curran phillips', 'yul moldauer', 'blake sun', 'colt walker'],\n",
       "      dtype=object)"
      ]
     },
     "execution_count": 15,
     "metadata": {},
     "output_type": "execute_result"
    }
   ],
   "source": [
    "pbtz['Name'].unique()"
   ]
  },
  {
   "cell_type": "code",
   "execution_count": 16,
   "id": "3058f487",
   "metadata": {},
   "outputs": [
    {
     "data": {
      "text/plain": [
       "array(['stephen nedoroscik', 'ian skirkey', 'khoi young', 'brody malone',\n",
       "       'patrick hoopes'], dtype=object)"
      ]
     },
     "execution_count": 16,
     "metadata": {},
     "output_type": "execute_result"
    }
   ],
   "source": [
    "phtz['Name'].unique()"
   ]
  },
  {
   "cell_type": "code",
   "execution_count": 17,
   "id": "608f1282",
   "metadata": {},
   "outputs": [
    {
     "data": {
      "text/plain": [
       "array(['donnell whittenburg', 'paul juda', 'brody malone', 'yul moldauer',\n",
       "       'khoi young', 'shane wiskus', 'asher hong'], dtype=object)"
      ]
     },
     "execution_count": 17,
     "metadata": {},
     "output_type": "execute_result"
    }
   ],
   "source": [
    "fxtz['Name'].unique()"
   ]
  },
  {
   "cell_type": "code",
   "execution_count": 18,
   "id": "ce82f8d9",
   "metadata": {},
   "outputs": [
    {
     "data": {
      "text/plain": [
       "array(['khoi young', 'asher hong', 'taylor burkhart', 'riley loos',\n",
       "       'curran phillips', 'dallas hale'], dtype=object)"
      ]
     },
     "execution_count": 18,
     "metadata": {},
     "output_type": "execute_result"
    }
   ],
   "source": [
    "vttz['Name'].unique()"
   ]
  },
  {
   "cell_type": "code",
   "execution_count": 19,
   "id": "e67f0961",
   "metadata": {},
   "outputs": [
    {
     "data": {
      "text/plain": [
       "array(['brody malone', 'frederick nathaniel richard', 'fred richard',\n",
       "       'frederick richard'], dtype=object)"
      ]
     },
     "execution_count": 19,
     "metadata": {},
     "output_type": "execute_result"
    }
   ],
   "source": [
    "hbtz['Name'].unique()"
   ]
  },
  {
   "cell_type": "code",
   "execution_count": 20,
   "id": "8b4875dd",
   "metadata": {},
   "outputs": [],
   "source": [
    "sorted_names = ['donnell whittenburg', 'asher hong', 'alex diab']\n",
    "\n",
    "# Filter the DataFrame based on the list of names\n",
    "sr_names = sr[sr['Name'].isin(sorted_names)]"
   ]
  },
  {
   "cell_type": "code",
   "execution_count": 21,
   "id": "997dd511",
   "metadata": {},
   "outputs": [],
   "source": [
    "sorted_names =['curran phillips', 'yul moldauer', 'blake sun', 'colt walker']\n",
    "\n",
    "pb_names = pb[pb['Name'].isin(sorted_names)]"
   ]
  },
  {
   "cell_type": "code",
   "execution_count": 22,
   "id": "1cf767e7",
   "metadata": {},
   "outputs": [],
   "source": [
    "sorted_names = ['stephen nedoroscik', 'ian skirkey', 'khoi young', 'brody malone',\n",
    "       'patrick hoopes']\n",
    "\n",
    "ph_names = ph[ph['Name'].isin(sorted_names)]"
   ]
  },
  {
   "cell_type": "code",
   "execution_count": 23,
   "id": "e9244e62",
   "metadata": {},
   "outputs": [],
   "source": [
    "sorted_names = ['donnell whittenburg', 'paul juda', 'brody malone', 'yul moldauer',\n",
    "       'khoi young', 'shane wiskus', 'asher hong']\n",
    "\n",
    "fx_names = fx[fx['Name'].isin(sorted_names)]"
   ]
  },
  {
   "cell_type": "code",
   "execution_count": 24,
   "id": "af4c7b5c",
   "metadata": {},
   "outputs": [],
   "source": [
    "sorted_names = ['khoi young', 'asher hong', 'taylor burkhart', 'riley loos',\n",
    "       'curran phillips', 'dallas hale']\n",
    "\n",
    "vt_names = vt[vt['Name'].isin(sorted_names)]"
   ]
  },
  {
   "cell_type": "code",
   "execution_count": 25,
   "id": "cbe9fd19",
   "metadata": {},
   "outputs": [],
   "source": [
    "sorted_names = ['brody malone', 'frederick nathaniel richard', 'fred richard',\n",
    "       'frederick richard']\n",
    "\n",
    "hb_names = hb[hb['Name'].isin(sorted_names)]"
   ]
  },
  {
   "cell_type": "code",
   "execution_count": 26,
   "id": "c7bfeee7",
   "metadata": {},
   "outputs": [],
   "source": [
    "average_totals = sr_names.groupby('Name')['Score'].mean()\n",
    "\n",
    "# Create a new DataFrame from the Series\n",
    "average_totals_df = average_totals.reset_index(name='Average Total')\n"
   ]
  },
  {
   "cell_type": "code",
   "execution_count": 27,
   "id": "778b01ad",
   "metadata": {},
   "outputs": [],
   "source": [
    "sr=average_totals_df.sort_values(by='Average Total', ascending=False)"
   ]
  },
  {
   "cell_type": "code",
   "execution_count": 28,
   "id": "0b4d3c51",
   "metadata": {},
   "outputs": [],
   "source": [
    "average_totals = ph_names.groupby('Name')['Score'].mean()\n",
    "\n",
    "# Create a new DataFrame from the Series\n",
    "average_totals_df = average_totals.reset_index(name='Average Total')\n"
   ]
  },
  {
   "cell_type": "code",
   "execution_count": 29,
   "id": "fde3c398",
   "metadata": {},
   "outputs": [],
   "source": [
    "ph=average_totals_df.sort_values(by='Average Total', ascending=False)"
   ]
  },
  {
   "cell_type": "code",
   "execution_count": 30,
   "id": "6bb2e905",
   "metadata": {},
   "outputs": [],
   "source": [
    "average_totals = pb_names.groupby('Name')['Score'].mean()\n",
    "\n",
    "# Create a new DataFrame from the Series\n",
    "average_totals_df = average_totals.reset_index(name='Average Total')\n"
   ]
  },
  {
   "cell_type": "code",
   "execution_count": 31,
   "id": "17c2cf48",
   "metadata": {},
   "outputs": [],
   "source": [
    "pb=average_totals_df.sort_values(by='Average Total', ascending=False)"
   ]
  },
  {
   "cell_type": "code",
   "execution_count": 32,
   "id": "0a23fd0f",
   "metadata": {},
   "outputs": [],
   "source": [
    "average_totals = fx_names.groupby('Name')['Score'].mean()\n",
    "\n",
    "# Create a new DataFrame from the Series\n",
    "average_totals_df = average_totals.reset_index(name='Average Total')\n"
   ]
  },
  {
   "cell_type": "code",
   "execution_count": 33,
   "id": "01795ec5",
   "metadata": {},
   "outputs": [],
   "source": [
    "fx=average_totals_df.sort_values(by='Average Total', ascending=False)"
   ]
  },
  {
   "cell_type": "code",
   "execution_count": 34,
   "id": "6d964783",
   "metadata": {},
   "outputs": [],
   "source": [
    "average_totals = vt_names.groupby('Name')['Score'].mean()\n",
    "\n",
    "# Create a new DataFrame from the Series\n",
    "average_totals_df = average_totals.reset_index(name='Average Total')\n"
   ]
  },
  {
   "cell_type": "code",
   "execution_count": 35,
   "id": "74924efa",
   "metadata": {},
   "outputs": [],
   "source": [
    "vt=average_totals_df.sort_values(by='Average Total', ascending=False)"
   ]
  },
  {
   "cell_type": "code",
   "execution_count": 36,
   "id": "6e5d0ff7",
   "metadata": {},
   "outputs": [],
   "source": [
    "average_totals = hb_names.groupby('Name')['Score'].mean()\n",
    "\n",
    "# Create a new DataFrame from the Series\n",
    "average_totals_df = average_totals.reset_index(name='Average Total')\n"
   ]
  },
  {
   "cell_type": "code",
   "execution_count": 37,
   "id": "330331d4",
   "metadata": {},
   "outputs": [],
   "source": [
    "hb=average_totals_df.sort_values(by='Average Total', ascending=False)"
   ]
  },
  {
   "cell_type": "code",
   "execution_count": 47,
   "id": "6afc1fc9",
   "metadata": {},
   "outputs": [],
   "source": [
    "sr['Apparatus']='SR'"
   ]
  },
  {
   "cell_type": "code",
   "execution_count": 48,
   "id": "fb6c9131",
   "metadata": {},
   "outputs": [],
   "source": [
    "hb['Apparatus']='HB'"
   ]
  },
  {
   "cell_type": "code",
   "execution_count": 49,
   "id": "88c3262f",
   "metadata": {},
   "outputs": [],
   "source": [
    "fx['Apparatus']='FX'"
   ]
  },
  {
   "cell_type": "code",
   "execution_count": 50,
   "id": "1f801964",
   "metadata": {},
   "outputs": [],
   "source": [
    "ph['Apparatus']='PH'"
   ]
  },
  {
   "cell_type": "code",
   "execution_count": 51,
   "id": "be58edb8",
   "metadata": {},
   "outputs": [],
   "source": [
    "pb['Apparatus']='PB'"
   ]
  },
  {
   "cell_type": "code",
   "execution_count": 52,
   "id": "f48b78dd",
   "metadata": {},
   "outputs": [],
   "source": [
    "vt['Apparatus']='VT'"
   ]
  },
  {
   "cell_type": "code",
   "execution_count": 53,
   "id": "54c2608f",
   "metadata": {},
   "outputs": [],
   "source": [
    "top_men = pd.concat([sr, ph, pb, hb, fx, vt], axis=0)\n"
   ]
  },
  {
   "cell_type": "code",
   "execution_count": 54,
   "id": "84fdac9f",
   "metadata": {},
   "outputs": [
    {
     "data": {
      "text/html": [
       "<div>\n",
       "<style scoped>\n",
       "    .dataframe tbody tr th:only-of-type {\n",
       "        vertical-align: middle;\n",
       "    }\n",
       "\n",
       "    .dataframe tbody tr th {\n",
       "        vertical-align: top;\n",
       "    }\n",
       "\n",
       "    .dataframe thead th {\n",
       "        text-align: right;\n",
       "    }\n",
       "</style>\n",
       "<table border=\"1\" class=\"dataframe\">\n",
       "  <thead>\n",
       "    <tr style=\"text-align: right;\">\n",
       "      <th></th>\n",
       "      <th>Name</th>\n",
       "      <th>Average Total</th>\n",
       "      <th>Apparatus</th>\n",
       "    </tr>\n",
       "  </thead>\n",
       "  <tbody>\n",
       "    <tr>\n",
       "      <th>2</th>\n",
       "      <td>donnell whittenburg</td>\n",
       "      <td>14.592714</td>\n",
       "      <td>SR</td>\n",
       "    </tr>\n",
       "    <tr>\n",
       "      <th>1</th>\n",
       "      <td>asher hong</td>\n",
       "      <td>14.199900</td>\n",
       "      <td>SR</td>\n",
       "    </tr>\n",
       "    <tr>\n",
       "      <th>0</th>\n",
       "      <td>alex diab</td>\n",
       "      <td>14.158333</td>\n",
       "      <td>SR</td>\n",
       "    </tr>\n",
       "    <tr>\n",
       "      <th>4</th>\n",
       "      <td>stephen nedoroscik</td>\n",
       "      <td>14.726143</td>\n",
       "      <td>PH</td>\n",
       "    </tr>\n",
       "    <tr>\n",
       "      <th>0</th>\n",
       "      <td>brody malone</td>\n",
       "      <td>13.929800</td>\n",
       "      <td>PH</td>\n",
       "    </tr>\n",
       "    <tr>\n",
       "      <th>1</th>\n",
       "      <td>ian skirkey</td>\n",
       "      <td>13.783200</td>\n",
       "      <td>PH</td>\n",
       "    </tr>\n",
       "    <tr>\n",
       "      <th>2</th>\n",
       "      <td>khoi young</td>\n",
       "      <td>13.460000</td>\n",
       "      <td>PH</td>\n",
       "    </tr>\n",
       "    <tr>\n",
       "      <th>3</th>\n",
       "      <td>patrick hoopes</td>\n",
       "      <td>13.420000</td>\n",
       "      <td>PH</td>\n",
       "    </tr>\n",
       "    <tr>\n",
       "      <th>2</th>\n",
       "      <td>curran phillips</td>\n",
       "      <td>15.156250</td>\n",
       "      <td>PB</td>\n",
       "    </tr>\n",
       "    <tr>\n",
       "      <th>1</th>\n",
       "      <td>colt walker</td>\n",
       "      <td>15.019333</td>\n",
       "      <td>PB</td>\n",
       "    </tr>\n",
       "    <tr>\n",
       "      <th>3</th>\n",
       "      <td>yul moldauer</td>\n",
       "      <td>14.678571</td>\n",
       "      <td>PB</td>\n",
       "    </tr>\n",
       "    <tr>\n",
       "      <th>0</th>\n",
       "      <td>blake sun</td>\n",
       "      <td>13.973714</td>\n",
       "      <td>PB</td>\n",
       "    </tr>\n",
       "    <tr>\n",
       "      <th>3</th>\n",
       "      <td>frederick richard</td>\n",
       "      <td>14.183333</td>\n",
       "      <td>HB</td>\n",
       "    </tr>\n",
       "    <tr>\n",
       "      <th>0</th>\n",
       "      <td>brody malone</td>\n",
       "      <td>14.171286</td>\n",
       "      <td>HB</td>\n",
       "    </tr>\n",
       "    <tr>\n",
       "      <th>2</th>\n",
       "      <td>frederick nathaniel richard</td>\n",
       "      <td>13.911000</td>\n",
       "      <td>HB</td>\n",
       "    </tr>\n",
       "    <tr>\n",
       "      <th>1</th>\n",
       "      <td>fred richard</td>\n",
       "      <td>13.212500</td>\n",
       "      <td>HB</td>\n",
       "    </tr>\n",
       "    <tr>\n",
       "      <th>4</th>\n",
       "      <td>paul juda</td>\n",
       "      <td>14.650000</td>\n",
       "      <td>FX</td>\n",
       "    </tr>\n",
       "    <tr>\n",
       "      <th>3</th>\n",
       "      <td>khoi young</td>\n",
       "      <td>14.000000</td>\n",
       "      <td>FX</td>\n",
       "    </tr>\n",
       "    <tr>\n",
       "      <th>1</th>\n",
       "      <td>brody malone</td>\n",
       "      <td>13.974750</td>\n",
       "      <td>FX</td>\n",
       "    </tr>\n",
       "    <tr>\n",
       "      <th>6</th>\n",
       "      <td>yul moldauer</td>\n",
       "      <td>13.954125</td>\n",
       "      <td>FX</td>\n",
       "    </tr>\n",
       "    <tr>\n",
       "      <th>5</th>\n",
       "      <td>shane wiskus</td>\n",
       "      <td>13.891667</td>\n",
       "      <td>FX</td>\n",
       "    </tr>\n",
       "    <tr>\n",
       "      <th>0</th>\n",
       "      <td>asher hong</td>\n",
       "      <td>13.825778</td>\n",
       "      <td>FX</td>\n",
       "    </tr>\n",
       "    <tr>\n",
       "      <th>2</th>\n",
       "      <td>donnell whittenburg</td>\n",
       "      <td>13.694333</td>\n",
       "      <td>FX</td>\n",
       "    </tr>\n",
       "    <tr>\n",
       "      <th>3</th>\n",
       "      <td>khoi young</td>\n",
       "      <td>14.860000</td>\n",
       "      <td>VT</td>\n",
       "    </tr>\n",
       "    <tr>\n",
       "      <th>2</th>\n",
       "      <td>dallas hale</td>\n",
       "      <td>14.662500</td>\n",
       "      <td>VT</td>\n",
       "    </tr>\n",
       "    <tr>\n",
       "      <th>0</th>\n",
       "      <td>asher hong</td>\n",
       "      <td>14.595143</td>\n",
       "      <td>VT</td>\n",
       "    </tr>\n",
       "    <tr>\n",
       "      <th>1</th>\n",
       "      <td>curran phillips</td>\n",
       "      <td>14.520000</td>\n",
       "      <td>VT</td>\n",
       "    </tr>\n",
       "    <tr>\n",
       "      <th>5</th>\n",
       "      <td>taylor burkhart</td>\n",
       "      <td>14.480000</td>\n",
       "      <td>VT</td>\n",
       "    </tr>\n",
       "    <tr>\n",
       "      <th>4</th>\n",
       "      <td>riley loos</td>\n",
       "      <td>14.283333</td>\n",
       "      <td>VT</td>\n",
       "    </tr>\n",
       "  </tbody>\n",
       "</table>\n",
       "</div>"
      ],
      "text/plain": [
       "                          Name  Average Total Apparatus\n",
       "2          donnell whittenburg      14.592714        SR\n",
       "1                   asher hong      14.199900        SR\n",
       "0                    alex diab      14.158333        SR\n",
       "4           stephen nedoroscik      14.726143        PH\n",
       "0                 brody malone      13.929800        PH\n",
       "1                  ian skirkey      13.783200        PH\n",
       "2                   khoi young      13.460000        PH\n",
       "3               patrick hoopes      13.420000        PH\n",
       "2              curran phillips      15.156250        PB\n",
       "1                  colt walker      15.019333        PB\n",
       "3                 yul moldauer      14.678571        PB\n",
       "0                    blake sun      13.973714        PB\n",
       "3            frederick richard      14.183333        HB\n",
       "0                 brody malone      14.171286        HB\n",
       "2  frederick nathaniel richard      13.911000        HB\n",
       "1                 fred richard      13.212500        HB\n",
       "4                    paul juda      14.650000        FX\n",
       "3                   khoi young      14.000000        FX\n",
       "1                 brody malone      13.974750        FX\n",
       "6                 yul moldauer      13.954125        FX\n",
       "5                 shane wiskus      13.891667        FX\n",
       "0                   asher hong      13.825778        FX\n",
       "2          donnell whittenburg      13.694333        FX\n",
       "3                   khoi young      14.860000        VT\n",
       "2                  dallas hale      14.662500        VT\n",
       "0                   asher hong      14.595143        VT\n",
       "1              curran phillips      14.520000        VT\n",
       "5              taylor burkhart      14.480000        VT\n",
       "4                   riley loos      14.283333        VT"
      ]
     },
     "execution_count": 54,
     "metadata": {},
     "output_type": "execute_result"
    }
   ],
   "source": [
    "top_men"
   ]
  },
  {
   "cell_type": "code",
   "execution_count": 55,
   "id": "eb47e70a",
   "metadata": {},
   "outputs": [],
   "source": [
    "# top_men.to_csv('top_men.csv', index=False)  "
   ]
  },
  {
   "cell_type": "code",
   "execution_count": null,
   "id": "118440a4",
   "metadata": {},
   "outputs": [],
   "source": []
  }
 ],
 "metadata": {
  "kernelspec": {
   "display_name": "Python 3 (ipykernel)",
   "language": "python",
   "name": "python3"
  },
  "language_info": {
   "codemirror_mode": {
    "name": "ipython",
    "version": 3
   },
   "file_extension": ".py",
   "mimetype": "text/x-python",
   "name": "python",
   "nbconvert_exporter": "python",
   "pygments_lexer": "ipython3",
   "version": "3.9.12"
  }
 },
 "nbformat": 4,
 "nbformat_minor": 5
}
