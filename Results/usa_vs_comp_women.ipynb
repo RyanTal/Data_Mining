{
 "cells": [
  {
   "cell_type": "code",
   "execution_count": 46,
   "id": "d827ea49",
   "metadata": {},
   "outputs": [],
   "source": [
    "import pandas as pd\n",
    "import numpy as np\n",
    "import matplotlib.pyplot as plt\n",
    "import seaborn as sns"
   ]
  },
  {
   "cell_type": "code",
   "execution_count": 2,
   "id": "63ecff50",
   "metadata": {},
   "outputs": [],
   "source": [
    "usa = pd.read_csv('../Team_Selection/team_from_ind_scores.csv')"
   ]
  },
  {
   "cell_type": "code",
   "execution_count": 3,
   "id": "98dcc3e5",
   "metadata": {},
   "outputs": [
    {
     "data": {
      "text/html": [
       "<div>\n",
       "<style scoped>\n",
       "    .dataframe tbody tr th:only-of-type {\n",
       "        vertical-align: middle;\n",
       "    }\n",
       "\n",
       "    .dataframe tbody tr th {\n",
       "        vertical-align: top;\n",
       "    }\n",
       "\n",
       "    .dataframe thead th {\n",
       "        text-align: right;\n",
       "    }\n",
       "</style>\n",
       "<table border=\"1\" class=\"dataframe\">\n",
       "  <thead>\n",
       "    <tr style=\"text-align: right;\">\n",
       "      <th></th>\n",
       "      <th>Algorithm</th>\n",
       "      <th>Athletes</th>\n",
       "      <th>Score Type</th>\n",
       "      <th>Score</th>\n",
       "    </tr>\n",
       "  </thead>\n",
       "  <tbody>\n",
       "    <tr>\n",
       "      <th>0</th>\n",
       "      <td>Variable Neighborhood Search (VNS)</td>\n",
       "      <td>['Jordan Chiles', 'Joscelyn Roberson', 'Shiles...</td>\n",
       "      <td>Total Score</td>\n",
       "      <td>168.998125</td>\n",
       "    </tr>\n",
       "    <tr>\n",
       "      <th>1</th>\n",
       "      <td>Hyper-Heuristics</td>\n",
       "      <td>['Joscelyn Roberson', 'Simone Biles', 'Shilese...</td>\n",
       "      <td>Best Score</td>\n",
       "      <td>168.422350</td>\n",
       "    </tr>\n",
       "    <tr>\n",
       "      <th>2</th>\n",
       "      <td>Tabu Search</td>\n",
       "      <td>['Simone Biles', 'Shilese Jones', 'Zoe Miller'...</td>\n",
       "      <td>Total Score</td>\n",
       "      <td>169.719089</td>\n",
       "    </tr>\n",
       "    <tr>\n",
       "      <th>3</th>\n",
       "      <td>Brute Force</td>\n",
       "      <td>['Ashlee Sullivan', 'Jordan Chiles', 'Shilese ...</td>\n",
       "      <td>Maximum Score</td>\n",
       "      <td>168.422350</td>\n",
       "    </tr>\n",
       "  </tbody>\n",
       "</table>\n",
       "</div>"
      ],
      "text/plain": [
       "                            Algorithm  \\\n",
       "0  Variable Neighborhood Search (VNS)   \n",
       "1                    Hyper-Heuristics   \n",
       "2                         Tabu Search   \n",
       "3                         Brute Force   \n",
       "\n",
       "                                            Athletes     Score Type  \\\n",
       "0  ['Jordan Chiles', 'Joscelyn Roberson', 'Shiles...    Total Score   \n",
       "1  ['Joscelyn Roberson', 'Simone Biles', 'Shilese...     Best Score   \n",
       "2  ['Simone Biles', 'Shilese Jones', 'Zoe Miller'...    Total Score   \n",
       "3  ['Ashlee Sullivan', 'Jordan Chiles', 'Shilese ...  Maximum Score   \n",
       "\n",
       "        Score  \n",
       "0  168.998125  \n",
       "1  168.422350  \n",
       "2  169.719089  \n",
       "3  168.422350  "
      ]
     },
     "execution_count": 3,
     "metadata": {},
     "output_type": "execute_result"
    }
   ],
   "source": [
    "usa"
   ]
  },
  {
   "cell_type": "code",
   "execution_count": 47,
   "id": "5eac793c",
   "metadata": {},
   "outputs": [],
   "source": [
    "df = pd.read_csv('../Team_Selection/Competition/top_countries.csv')"
   ]
  },
  {
   "cell_type": "code",
   "execution_count": 48,
   "id": "5d1acc71",
   "metadata": {},
   "outputs": [
    {
     "data": {
      "text/html": [
       "<div>\n",
       "<style scoped>\n",
       "    .dataframe tbody tr th:only-of-type {\n",
       "        vertical-align: middle;\n",
       "    }\n",
       "\n",
       "    .dataframe tbody tr th {\n",
       "        vertical-align: top;\n",
       "    }\n",
       "\n",
       "    .dataframe thead th {\n",
       "        text-align: right;\n",
       "    }\n",
       "</style>\n",
       "<table border=\"1\" class=\"dataframe\">\n",
       "  <thead>\n",
       "    <tr style=\"text-align: right;\">\n",
       "      <th></th>\n",
       "      <th>Country</th>\n",
       "      <th>Algorithm</th>\n",
       "      <th>Athletes</th>\n",
       "      <th>Score</th>\n",
       "    </tr>\n",
       "  </thead>\n",
       "  <tbody>\n",
       "    <tr>\n",
       "      <th>0</th>\n",
       "      <td>Great Britain</td>\n",
       "      <td>VNS</td>\n",
       "      <td>['ondine achampong', 'alice kinsella', 'jessic...</td>\n",
       "      <td>167.763</td>\n",
       "    </tr>\n",
       "    <tr>\n",
       "      <th>1</th>\n",
       "      <td>France</td>\n",
       "      <td>vns</td>\n",
       "      <td>['aline friess', 'mélanie de jesus dos santos'...</td>\n",
       "      <td>164.763</td>\n",
       "    </tr>\n",
       "    <tr>\n",
       "      <th>2</th>\n",
       "      <td>China</td>\n",
       "      <td>vns</td>\n",
       "      <td>['ou yushan', 'qiu qiyuan', 'tang xijing', 'zh...</td>\n",
       "      <td>166.965</td>\n",
       "    </tr>\n",
       "    <tr>\n",
       "      <th>3</th>\n",
       "      <td>Canada</td>\n",
       "      <td>VNS</td>\n",
       "      <td>['ava stewart', 'ellie black', 'laurie denommé...</td>\n",
       "      <td>159.562</td>\n",
       "    </tr>\n",
       "    <tr>\n",
       "      <th>4</th>\n",
       "      <td>Brazil</td>\n",
       "      <td>vns</td>\n",
       "      <td>['rebeca andrade', 'julia soares', 'flavia sar...</td>\n",
       "      <td>164.995</td>\n",
       "    </tr>\n",
       "  </tbody>\n",
       "</table>\n",
       "</div>"
      ],
      "text/plain": [
       "         Country Algorithm                                           Athletes  \\\n",
       "0  Great Britain       VNS  ['ondine achampong', 'alice kinsella', 'jessic...   \n",
       "1         France       vns  ['aline friess', 'mélanie de jesus dos santos'...   \n",
       "2          China       vns  ['ou yushan', 'qiu qiyuan', 'tang xijing', 'zh...   \n",
       "3         Canada       VNS  ['ava stewart', 'ellie black', 'laurie denommé...   \n",
       "4         Brazil       vns  ['rebeca andrade', 'julia soares', 'flavia sar...   \n",
       "\n",
       "     Score  \n",
       "0  167.763  \n",
       "1  164.763  \n",
       "2  166.965  \n",
       "3  159.562  \n",
       "4  164.995  "
      ]
     },
     "execution_count": 48,
     "metadata": {},
     "output_type": "execute_result"
    }
   ],
   "source": [
    "df"
   ]
  },
  {
   "cell_type": "code",
   "execution_count": 49,
   "id": "222edf20",
   "metadata": {},
   "outputs": [],
   "source": [
    "df = df.sort_values(by='Score', ascending=False)"
   ]
  },
  {
   "cell_type": "code",
   "execution_count": 50,
   "id": "383570e1",
   "metadata": {},
   "outputs": [
    {
     "data": {
      "text/html": [
       "<div>\n",
       "<style scoped>\n",
       "    .dataframe tbody tr th:only-of-type {\n",
       "        vertical-align: middle;\n",
       "    }\n",
       "\n",
       "    .dataframe tbody tr th {\n",
       "        vertical-align: top;\n",
       "    }\n",
       "\n",
       "    .dataframe thead th {\n",
       "        text-align: right;\n",
       "    }\n",
       "</style>\n",
       "<table border=\"1\" class=\"dataframe\">\n",
       "  <thead>\n",
       "    <tr style=\"text-align: right;\">\n",
       "      <th></th>\n",
       "      <th>Country</th>\n",
       "      <th>Algorithm</th>\n",
       "      <th>Athletes</th>\n",
       "      <th>Score</th>\n",
       "    </tr>\n",
       "  </thead>\n",
       "  <tbody>\n",
       "    <tr>\n",
       "      <th>0</th>\n",
       "      <td>Great Britain</td>\n",
       "      <td>VNS</td>\n",
       "      <td>['ondine achampong', 'alice kinsella', 'jessic...</td>\n",
       "      <td>167.763</td>\n",
       "    </tr>\n",
       "    <tr>\n",
       "      <th>2</th>\n",
       "      <td>China</td>\n",
       "      <td>vns</td>\n",
       "      <td>['ou yushan', 'qiu qiyuan', 'tang xijing', 'zh...</td>\n",
       "      <td>166.965</td>\n",
       "    </tr>\n",
       "    <tr>\n",
       "      <th>4</th>\n",
       "      <td>Brazil</td>\n",
       "      <td>vns</td>\n",
       "      <td>['rebeca andrade', 'julia soares', 'flavia sar...</td>\n",
       "      <td>164.995</td>\n",
       "    </tr>\n",
       "    <tr>\n",
       "      <th>1</th>\n",
       "      <td>France</td>\n",
       "      <td>vns</td>\n",
       "      <td>['aline friess', 'mélanie de jesus dos santos'...</td>\n",
       "      <td>164.763</td>\n",
       "    </tr>\n",
       "    <tr>\n",
       "      <th>3</th>\n",
       "      <td>Canada</td>\n",
       "      <td>VNS</td>\n",
       "      <td>['ava stewart', 'ellie black', 'laurie denommé...</td>\n",
       "      <td>159.562</td>\n",
       "    </tr>\n",
       "  </tbody>\n",
       "</table>\n",
       "</div>"
      ],
      "text/plain": [
       "         Country Algorithm                                           Athletes  \\\n",
       "0  Great Britain       VNS  ['ondine achampong', 'alice kinsella', 'jessic...   \n",
       "2          China       vns  ['ou yushan', 'qiu qiyuan', 'tang xijing', 'zh...   \n",
       "4         Brazil       vns  ['rebeca andrade', 'julia soares', 'flavia sar...   \n",
       "1         France       vns  ['aline friess', 'mélanie de jesus dos santos'...   \n",
       "3         Canada       VNS  ['ava stewart', 'ellie black', 'laurie denommé...   \n",
       "\n",
       "     Score  \n",
       "0  167.763  \n",
       "2  166.965  \n",
       "4  164.995  \n",
       "1  164.763  \n",
       "3  159.562  "
      ]
     },
     "execution_count": 50,
     "metadata": {},
     "output_type": "execute_result"
    }
   ],
   "source": [
    "df"
   ]
  },
  {
   "cell_type": "code",
   "execution_count": 51,
   "id": "1c19b77b",
   "metadata": {},
   "outputs": [],
   "source": [
    "usa = usa.sort_values(by='Score', ascending=False)"
   ]
  },
  {
   "cell_type": "code",
   "execution_count": 9,
   "id": "88a7a401",
   "metadata": {},
   "outputs": [],
   "source": [
    "usa=usa.drop(columns=['Score Type'])"
   ]
  },
  {
   "cell_type": "code",
   "execution_count": 10,
   "id": "9cd5d5b0",
   "metadata": {},
   "outputs": [],
   "source": [
    "usa=usa.drop(columns=['Athletes'])"
   ]
  },
  {
   "cell_type": "code",
   "execution_count": 11,
   "id": "a7af9c63",
   "metadata": {},
   "outputs": [],
   "source": [
    "usa['Country']='USA'"
   ]
  },
  {
   "cell_type": "code",
   "execution_count": 52,
   "id": "d54d1c1a",
   "metadata": {},
   "outputs": [],
   "source": [
    "df=df.drop(columns=['Athletes'])"
   ]
  },
  {
   "cell_type": "code",
   "execution_count": 53,
   "id": "bdf68d3a",
   "metadata": {},
   "outputs": [
    {
     "data": {
      "text/html": [
       "<div>\n",
       "<style scoped>\n",
       "    .dataframe tbody tr th:only-of-type {\n",
       "        vertical-align: middle;\n",
       "    }\n",
       "\n",
       "    .dataframe tbody tr th {\n",
       "        vertical-align: top;\n",
       "    }\n",
       "\n",
       "    .dataframe thead th {\n",
       "        text-align: right;\n",
       "    }\n",
       "</style>\n",
       "<table border=\"1\" class=\"dataframe\">\n",
       "  <thead>\n",
       "    <tr style=\"text-align: right;\">\n",
       "      <th></th>\n",
       "      <th>Country</th>\n",
       "      <th>Algorithm</th>\n",
       "      <th>Score</th>\n",
       "    </tr>\n",
       "  </thead>\n",
       "  <tbody>\n",
       "    <tr>\n",
       "      <th>0</th>\n",
       "      <td>Great Britain</td>\n",
       "      <td>VNS</td>\n",
       "      <td>167.763</td>\n",
       "    </tr>\n",
       "    <tr>\n",
       "      <th>2</th>\n",
       "      <td>China</td>\n",
       "      <td>vns</td>\n",
       "      <td>166.965</td>\n",
       "    </tr>\n",
       "    <tr>\n",
       "      <th>4</th>\n",
       "      <td>Brazil</td>\n",
       "      <td>vns</td>\n",
       "      <td>164.995</td>\n",
       "    </tr>\n",
       "    <tr>\n",
       "      <th>1</th>\n",
       "      <td>France</td>\n",
       "      <td>vns</td>\n",
       "      <td>164.763</td>\n",
       "    </tr>\n",
       "    <tr>\n",
       "      <th>3</th>\n",
       "      <td>Canada</td>\n",
       "      <td>VNS</td>\n",
       "      <td>159.562</td>\n",
       "    </tr>\n",
       "  </tbody>\n",
       "</table>\n",
       "</div>"
      ],
      "text/plain": [
       "         Country Algorithm    Score\n",
       "0  Great Britain       VNS  167.763\n",
       "2          China       vns  166.965\n",
       "4         Brazil       vns  164.995\n",
       "1         France       vns  164.763\n",
       "3         Canada       VNS  159.562"
      ]
     },
     "execution_count": 53,
     "metadata": {},
     "output_type": "execute_result"
    }
   ],
   "source": [
    "df"
   ]
  },
  {
   "cell_type": "code",
   "execution_count": 14,
   "id": "8f14e433",
   "metadata": {},
   "outputs": [
    {
     "data": {
      "text/html": [
       "<div>\n",
       "<style scoped>\n",
       "    .dataframe tbody tr th:only-of-type {\n",
       "        vertical-align: middle;\n",
       "    }\n",
       "\n",
       "    .dataframe tbody tr th {\n",
       "        vertical-align: top;\n",
       "    }\n",
       "\n",
       "    .dataframe thead th {\n",
       "        text-align: right;\n",
       "    }\n",
       "</style>\n",
       "<table border=\"1\" class=\"dataframe\">\n",
       "  <thead>\n",
       "    <tr style=\"text-align: right;\">\n",
       "      <th></th>\n",
       "      <th>Algorithm</th>\n",
       "      <th>Score</th>\n",
       "      <th>Country</th>\n",
       "    </tr>\n",
       "  </thead>\n",
       "  <tbody>\n",
       "    <tr>\n",
       "      <th>2</th>\n",
       "      <td>Tabu Search</td>\n",
       "      <td>169.719089</td>\n",
       "      <td>USA</td>\n",
       "    </tr>\n",
       "    <tr>\n",
       "      <th>0</th>\n",
       "      <td>Variable Neighborhood Search (VNS)</td>\n",
       "      <td>168.998125</td>\n",
       "      <td>USA</td>\n",
       "    </tr>\n",
       "    <tr>\n",
       "      <th>1</th>\n",
       "      <td>Hyper-Heuristics</td>\n",
       "      <td>168.422350</td>\n",
       "      <td>USA</td>\n",
       "    </tr>\n",
       "    <tr>\n",
       "      <th>3</th>\n",
       "      <td>Brute Force</td>\n",
       "      <td>168.422350</td>\n",
       "      <td>USA</td>\n",
       "    </tr>\n",
       "  </tbody>\n",
       "</table>\n",
       "</div>"
      ],
      "text/plain": [
       "                            Algorithm       Score Country\n",
       "2                         Tabu Search  169.719089     USA\n",
       "0  Variable Neighborhood Search (VNS)  168.998125     USA\n",
       "1                    Hyper-Heuristics  168.422350     USA\n",
       "3                         Brute Force  168.422350     USA"
      ]
     },
     "execution_count": 14,
     "metadata": {},
     "output_type": "execute_result"
    }
   ],
   "source": [
    "usa"
   ]
  },
  {
   "cell_type": "code",
   "execution_count": 15,
   "id": "76d8d2fb",
   "metadata": {},
   "outputs": [],
   "source": [
    "new_order = ['Country', 'Algorithm', 'Score']\n",
    "\n",
    "usa = usa[new_order]\n"
   ]
  },
  {
   "cell_type": "code",
   "execution_count": 16,
   "id": "51958f21-c865-4bb3-9384-7932b16bd891",
   "metadata": {},
   "outputs": [
    {
     "data": {
      "text/html": [
       "<div>\n",
       "<style scoped>\n",
       "    .dataframe tbody tr th:only-of-type {\n",
       "        vertical-align: middle;\n",
       "    }\n",
       "\n",
       "    .dataframe tbody tr th {\n",
       "        vertical-align: top;\n",
       "    }\n",
       "\n",
       "    .dataframe thead th {\n",
       "        text-align: right;\n",
       "    }\n",
       "</style>\n",
       "<table border=\"1\" class=\"dataframe\">\n",
       "  <thead>\n",
       "    <tr style=\"text-align: right;\">\n",
       "      <th></th>\n",
       "      <th>Country</th>\n",
       "      <th>Algorithm</th>\n",
       "      <th>Score</th>\n",
       "    </tr>\n",
       "  </thead>\n",
       "  <tbody>\n",
       "    <tr>\n",
       "      <th>2</th>\n",
       "      <td>USA</td>\n",
       "      <td>Tabu Search</td>\n",
       "      <td>169.719089</td>\n",
       "    </tr>\n",
       "    <tr>\n",
       "      <th>0</th>\n",
       "      <td>USA</td>\n",
       "      <td>Variable Neighborhood Search (VNS)</td>\n",
       "      <td>168.998125</td>\n",
       "    </tr>\n",
       "    <tr>\n",
       "      <th>1</th>\n",
       "      <td>USA</td>\n",
       "      <td>Hyper-Heuristics</td>\n",
       "      <td>168.422350</td>\n",
       "    </tr>\n",
       "    <tr>\n",
       "      <th>3</th>\n",
       "      <td>USA</td>\n",
       "      <td>Brute Force</td>\n",
       "      <td>168.422350</td>\n",
       "    </tr>\n",
       "  </tbody>\n",
       "</table>\n",
       "</div>"
      ],
      "text/plain": [
       "  Country                           Algorithm       Score\n",
       "2     USA                         Tabu Search  169.719089\n",
       "0     USA  Variable Neighborhood Search (VNS)  168.998125\n",
       "1     USA                    Hyper-Heuristics  168.422350\n",
       "3     USA                         Brute Force  168.422350"
      ]
     },
     "execution_count": 16,
     "metadata": {},
     "output_type": "execute_result"
    }
   ],
   "source": [
    "usa"
   ]
  },
  {
   "cell_type": "code",
   "execution_count": 54,
   "id": "45630aba-c84e-4be3-bd69-5a62c4c478f0",
   "metadata": {},
   "outputs": [],
   "source": [
    "import pandas as pd\n",
    "\n",
    "data = {\n",
    "    'Method': ['VNS', 'RH', 'TS', 'BF'],\n",
    "    'Selection Type': ['Max', 'Max', 'Max', 'Max'],\n",
    "    'Selected Athletes': [\n",
    "        ['jade carey', 'simone biles', 'shilese jones', 'jordan chiles'],\n",
    "        ['skye blakely', 'jade carey', 'simone biles', 'shilese jones'],\n",
    "        ['simone biles', 'jade carey', 'skye blakely', 'shilese jones'],\n",
    "        ['jade carey', 'jordan chiles', 'shilese jones', 'simone biles']\n",
    "    ],\n",
    "    'Total Score': [172.261, 170.962, 172.362, 170.962]\n",
    "}\n",
    "\n",
    "# Creating DataFrame\n",
    "dff = pd.DataFrame(data)\n",
    "\n",
    "dff\n",
    "\n",
    "maxus = dff.iloc[2:3]\n"
   ]
  },
  {
   "cell_type": "code",
   "execution_count": 55,
   "id": "e5302a56-0567-4fba-93b1-2c8b188a8b92",
   "metadata": {},
   "outputs": [
    {
     "name": "stderr",
     "output_type": "stream",
     "text": [
      "/var/folders/j_/555m2zps099832fjh_m8jjnc0000gn/T/ipykernel_75967/1665848874.py:1: SettingWithCopyWarning: \n",
      "A value is trying to be set on a copy of a slice from a DataFrame.\n",
      "Try using .loc[row_indexer,col_indexer] = value instead\n",
      "\n",
      "See the caveats in the documentation: https://pandas.pydata.org/pandas-docs/stable/user_guide/indexing.html#returning-a-view-versus-a-copy\n",
      "  maxus['Country']='USA'\n"
     ]
    }
   ],
   "source": [
    "maxus['Country']='USA'"
   ]
  },
  {
   "cell_type": "code",
   "execution_count": 56,
   "id": "f66aa253-1941-44eb-a50e-6827478e8ddf",
   "metadata": {},
   "outputs": [
    {
     "data": {
      "text/html": [
       "<div>\n",
       "<style scoped>\n",
       "    .dataframe tbody tr th:only-of-type {\n",
       "        vertical-align: middle;\n",
       "    }\n",
       "\n",
       "    .dataframe tbody tr th {\n",
       "        vertical-align: top;\n",
       "    }\n",
       "\n",
       "    .dataframe thead th {\n",
       "        text-align: right;\n",
       "    }\n",
       "</style>\n",
       "<table border=\"1\" class=\"dataframe\">\n",
       "  <thead>\n",
       "    <tr style=\"text-align: right;\">\n",
       "      <th></th>\n",
       "      <th>Method</th>\n",
       "      <th>Selection Type</th>\n",
       "      <th>Selected Athletes</th>\n",
       "      <th>Total Score</th>\n",
       "      <th>Country</th>\n",
       "    </tr>\n",
       "  </thead>\n",
       "  <tbody>\n",
       "    <tr>\n",
       "      <th>2</th>\n",
       "      <td>TS</td>\n",
       "      <td>Max</td>\n",
       "      <td>[simone biles, jade carey, skye blakely, shile...</td>\n",
       "      <td>172.362</td>\n",
       "      <td>USA</td>\n",
       "    </tr>\n",
       "  </tbody>\n",
       "</table>\n",
       "</div>"
      ],
      "text/plain": [
       "  Method Selection Type                                  Selected Athletes  \\\n",
       "2     TS            Max  [simone biles, jade carey, skye blakely, shile...   \n",
       "\n",
       "   Total Score Country  \n",
       "2      172.362     USA  "
      ]
     },
     "execution_count": 56,
     "metadata": {},
     "output_type": "execute_result"
    }
   ],
   "source": [
    "maxus"
   ]
  },
  {
   "cell_type": "code",
   "execution_count": 57,
   "id": "61772275-4954-47d6-b155-c3c1aea5fd88",
   "metadata": {},
   "outputs": [],
   "source": [
    "maxus=maxus.drop(columns=['Selection Type', 'Selected Athletes'])"
   ]
  },
  {
   "cell_type": "code",
   "execution_count": 58,
   "id": "01fac430-aad9-499a-ba53-20a703bd9c24",
   "metadata": {},
   "outputs": [
    {
     "data": {
      "text/html": [
       "<div>\n",
       "<style scoped>\n",
       "    .dataframe tbody tr th:only-of-type {\n",
       "        vertical-align: middle;\n",
       "    }\n",
       "\n",
       "    .dataframe tbody tr th {\n",
       "        vertical-align: top;\n",
       "    }\n",
       "\n",
       "    .dataframe thead th {\n",
       "        text-align: right;\n",
       "    }\n",
       "</style>\n",
       "<table border=\"1\" class=\"dataframe\">\n",
       "  <thead>\n",
       "    <tr style=\"text-align: right;\">\n",
       "      <th></th>\n",
       "      <th>Method</th>\n",
       "      <th>Total Score</th>\n",
       "      <th>Country</th>\n",
       "    </tr>\n",
       "  </thead>\n",
       "  <tbody>\n",
       "    <tr>\n",
       "      <th>2</th>\n",
       "      <td>TS</td>\n",
       "      <td>172.362</td>\n",
       "      <td>USA</td>\n",
       "    </tr>\n",
       "  </tbody>\n",
       "</table>\n",
       "</div>"
      ],
      "text/plain": [
       "  Method  Total Score Country\n",
       "2     TS      172.362     USA"
      ]
     },
     "execution_count": 58,
     "metadata": {},
     "output_type": "execute_result"
    }
   ],
   "source": [
    "maxus"
   ]
  },
  {
   "cell_type": "code",
   "execution_count": 66,
   "id": "3d74dee8-4b73-4ce0-9af6-f12c01a601f9",
   "metadata": {},
   "outputs": [],
   "source": [
    "maxus = maxus.rename(columns={'Method': 'Algorithm','Total Score': 'Score' })"
   ]
  },
  {
   "cell_type": "code",
   "execution_count": 67,
   "id": "1318fdcd-df8f-4fb9-b508-138d79de509d",
   "metadata": {},
   "outputs": [
    {
     "data": {
      "text/html": [
       "<div>\n",
       "<style scoped>\n",
       "    .dataframe tbody tr th:only-of-type {\n",
       "        vertical-align: middle;\n",
       "    }\n",
       "\n",
       "    .dataframe tbody tr th {\n",
       "        vertical-align: top;\n",
       "    }\n",
       "\n",
       "    .dataframe thead th {\n",
       "        text-align: right;\n",
       "    }\n",
       "</style>\n",
       "<table border=\"1\" class=\"dataframe\">\n",
       "  <thead>\n",
       "    <tr style=\"text-align: right;\">\n",
       "      <th></th>\n",
       "      <th>Algorithm</th>\n",
       "      <th>Score</th>\n",
       "      <th>Country</th>\n",
       "    </tr>\n",
       "  </thead>\n",
       "  <tbody>\n",
       "    <tr>\n",
       "      <th>2</th>\n",
       "      <td>TS</td>\n",
       "      <td>172.362</td>\n",
       "      <td>USA</td>\n",
       "    </tr>\n",
       "  </tbody>\n",
       "</table>\n",
       "</div>"
      ],
      "text/plain": [
       "  Algorithm    Score Country\n",
       "2        TS  172.362     USA"
      ]
     },
     "execution_count": 67,
     "metadata": {},
     "output_type": "execute_result"
    }
   ],
   "source": [
    "maxus"
   ]
  },
  {
   "cell_type": "code",
   "execution_count": 68,
   "id": "a24c4183-81a7-4edb-b470-ff0f77c20f71",
   "metadata": {},
   "outputs": [],
   "source": [
    "# maxus['Algorithm']='Tabu Search'"
   ]
  },
  {
   "cell_type": "code",
   "execution_count": 69,
   "id": "61c8173f-76ed-4d44-8ee8-67bf9db3ed03",
   "metadata": {},
   "outputs": [
    {
     "data": {
      "text/html": [
       "<div>\n",
       "<style scoped>\n",
       "    .dataframe tbody tr th:only-of-type {\n",
       "        vertical-align: middle;\n",
       "    }\n",
       "\n",
       "    .dataframe tbody tr th {\n",
       "        vertical-align: top;\n",
       "    }\n",
       "\n",
       "    .dataframe thead th {\n",
       "        text-align: right;\n",
       "    }\n",
       "</style>\n",
       "<table border=\"1\" class=\"dataframe\">\n",
       "  <thead>\n",
       "    <tr style=\"text-align: right;\">\n",
       "      <th></th>\n",
       "      <th>Algorithm</th>\n",
       "      <th>Score</th>\n",
       "      <th>Country</th>\n",
       "    </tr>\n",
       "  </thead>\n",
       "  <tbody>\n",
       "    <tr>\n",
       "      <th>2</th>\n",
       "      <td>TS</td>\n",
       "      <td>172.362</td>\n",
       "      <td>USA</td>\n",
       "    </tr>\n",
       "  </tbody>\n",
       "</table>\n",
       "</div>"
      ],
      "text/plain": [
       "  Algorithm    Score Country\n",
       "2        TS  172.362     USA"
      ]
     },
     "execution_count": 69,
     "metadata": {},
     "output_type": "execute_result"
    }
   ],
   "source": [
    "maxus"
   ]
  },
  {
   "cell_type": "code",
   "execution_count": null,
   "id": "189141cb-abe5-4e5a-a3c4-f669af476785",
   "metadata": {},
   "outputs": [],
   "source": []
  },
  {
   "cell_type": "code",
   "execution_count": null,
   "id": "106458a5-a681-408d-9a62-b76b1e7fc96f",
   "metadata": {},
   "outputs": [],
   "source": []
  },
  {
   "cell_type": "code",
   "execution_count": 70,
   "id": "861f5f70-4c8b-4935-8c53-14d72f56da4f",
   "metadata": {},
   "outputs": [
    {
     "data": {
      "text/html": [
       "<div>\n",
       "<style scoped>\n",
       "    .dataframe tbody tr th:only-of-type {\n",
       "        vertical-align: middle;\n",
       "    }\n",
       "\n",
       "    .dataframe tbody tr th {\n",
       "        vertical-align: top;\n",
       "    }\n",
       "\n",
       "    .dataframe thead th {\n",
       "        text-align: right;\n",
       "    }\n",
       "</style>\n",
       "<table border=\"1\" class=\"dataframe\">\n",
       "  <thead>\n",
       "    <tr style=\"text-align: right;\">\n",
       "      <th></th>\n",
       "      <th>Country</th>\n",
       "      <th>Algorithm</th>\n",
       "      <th>Score</th>\n",
       "    </tr>\n",
       "  </thead>\n",
       "  <tbody>\n",
       "    <tr>\n",
       "      <th>0</th>\n",
       "      <td>Great Britain</td>\n",
       "      <td>VNS</td>\n",
       "      <td>167.763</td>\n",
       "    </tr>\n",
       "    <tr>\n",
       "      <th>2</th>\n",
       "      <td>China</td>\n",
       "      <td>vns</td>\n",
       "      <td>166.965</td>\n",
       "    </tr>\n",
       "    <tr>\n",
       "      <th>4</th>\n",
       "      <td>Brazil</td>\n",
       "      <td>vns</td>\n",
       "      <td>164.995</td>\n",
       "    </tr>\n",
       "    <tr>\n",
       "      <th>1</th>\n",
       "      <td>France</td>\n",
       "      <td>vns</td>\n",
       "      <td>164.763</td>\n",
       "    </tr>\n",
       "    <tr>\n",
       "      <th>3</th>\n",
       "      <td>Canada</td>\n",
       "      <td>VNS</td>\n",
       "      <td>159.562</td>\n",
       "    </tr>\n",
       "  </tbody>\n",
       "</table>\n",
       "</div>"
      ],
      "text/plain": [
       "         Country Algorithm    Score\n",
       "0  Great Britain       VNS  167.763\n",
       "2          China       vns  166.965\n",
       "4         Brazil       vns  164.995\n",
       "1         France       vns  164.763\n",
       "3         Canada       VNS  159.562"
      ]
     },
     "execution_count": 70,
     "metadata": {},
     "output_type": "execute_result"
    }
   ],
   "source": [
    "df"
   ]
  },
  {
   "cell_type": "code",
   "execution_count": 71,
   "id": "1bc95eaf",
   "metadata": {},
   "outputs": [],
   "source": [
    "# combined_df = pd.concat([df, usa], ignore_index=True)\n",
    "\n",
    "combined_df = pd.concat([df, maxus], ignore_index=True)"
   ]
  },
  {
   "cell_type": "code",
   "execution_count": 72,
   "id": "e9dee447-2e61-4299-9a14-6a7f8ddc7ade",
   "metadata": {},
   "outputs": [
    {
     "data": {
      "text/html": [
       "<div>\n",
       "<style scoped>\n",
       "    .dataframe tbody tr th:only-of-type {\n",
       "        vertical-align: middle;\n",
       "    }\n",
       "\n",
       "    .dataframe tbody tr th {\n",
       "        vertical-align: top;\n",
       "    }\n",
       "\n",
       "    .dataframe thead th {\n",
       "        text-align: right;\n",
       "    }\n",
       "</style>\n",
       "<table border=\"1\" class=\"dataframe\">\n",
       "  <thead>\n",
       "    <tr style=\"text-align: right;\">\n",
       "      <th></th>\n",
       "      <th>Country</th>\n",
       "      <th>Algorithm</th>\n",
       "      <th>Score</th>\n",
       "    </tr>\n",
       "  </thead>\n",
       "  <tbody>\n",
       "    <tr>\n",
       "      <th>0</th>\n",
       "      <td>Great Britain</td>\n",
       "      <td>VNS</td>\n",
       "      <td>167.763</td>\n",
       "    </tr>\n",
       "    <tr>\n",
       "      <th>1</th>\n",
       "      <td>China</td>\n",
       "      <td>vns</td>\n",
       "      <td>166.965</td>\n",
       "    </tr>\n",
       "    <tr>\n",
       "      <th>2</th>\n",
       "      <td>Brazil</td>\n",
       "      <td>vns</td>\n",
       "      <td>164.995</td>\n",
       "    </tr>\n",
       "    <tr>\n",
       "      <th>3</th>\n",
       "      <td>France</td>\n",
       "      <td>vns</td>\n",
       "      <td>164.763</td>\n",
       "    </tr>\n",
       "    <tr>\n",
       "      <th>4</th>\n",
       "      <td>Canada</td>\n",
       "      <td>VNS</td>\n",
       "      <td>159.562</td>\n",
       "    </tr>\n",
       "    <tr>\n",
       "      <th>5</th>\n",
       "      <td>USA</td>\n",
       "      <td>TS</td>\n",
       "      <td>172.362</td>\n",
       "    </tr>\n",
       "  </tbody>\n",
       "</table>\n",
       "</div>"
      ],
      "text/plain": [
       "         Country Algorithm    Score\n",
       "0  Great Britain       VNS  167.763\n",
       "1          China       vns  166.965\n",
       "2         Brazil       vns  164.995\n",
       "3         France       vns  164.763\n",
       "4         Canada       VNS  159.562\n",
       "5            USA        TS  172.362"
      ]
     },
     "execution_count": 72,
     "metadata": {},
     "output_type": "execute_result"
    }
   ],
   "source": [
    "combined_df"
   ]
  },
  {
   "cell_type": "code",
   "execution_count": 73,
   "id": "9355f0f2",
   "metadata": {},
   "outputs": [
    {
     "data": {
      "text/html": [
       "<div>\n",
       "<style scoped>\n",
       "    .dataframe tbody tr th:only-of-type {\n",
       "        vertical-align: middle;\n",
       "    }\n",
       "\n",
       "    .dataframe tbody tr th {\n",
       "        vertical-align: top;\n",
       "    }\n",
       "\n",
       "    .dataframe thead th {\n",
       "        text-align: right;\n",
       "    }\n",
       "</style>\n",
       "<table border=\"1\" class=\"dataframe\">\n",
       "  <thead>\n",
       "    <tr style=\"text-align: right;\">\n",
       "      <th></th>\n",
       "      <th>Country</th>\n",
       "      <th>Algorithm</th>\n",
       "      <th>Score</th>\n",
       "    </tr>\n",
       "  </thead>\n",
       "  <tbody>\n",
       "    <tr>\n",
       "      <th>5</th>\n",
       "      <td>USA</td>\n",
       "      <td>TS</td>\n",
       "      <td>172.362</td>\n",
       "    </tr>\n",
       "    <tr>\n",
       "      <th>0</th>\n",
       "      <td>Great Britain</td>\n",
       "      <td>VNS</td>\n",
       "      <td>167.763</td>\n",
       "    </tr>\n",
       "    <tr>\n",
       "      <th>1</th>\n",
       "      <td>China</td>\n",
       "      <td>vns</td>\n",
       "      <td>166.965</td>\n",
       "    </tr>\n",
       "    <tr>\n",
       "      <th>2</th>\n",
       "      <td>Brazil</td>\n",
       "      <td>vns</td>\n",
       "      <td>164.995</td>\n",
       "    </tr>\n",
       "    <tr>\n",
       "      <th>3</th>\n",
       "      <td>France</td>\n",
       "      <td>vns</td>\n",
       "      <td>164.763</td>\n",
       "    </tr>\n",
       "    <tr>\n",
       "      <th>4</th>\n",
       "      <td>Canada</td>\n",
       "      <td>VNS</td>\n",
       "      <td>159.562</td>\n",
       "    </tr>\n",
       "  </tbody>\n",
       "</table>\n",
       "</div>"
      ],
      "text/plain": [
       "         Country Algorithm    Score\n",
       "5            USA        TS  172.362\n",
       "0  Great Britain       VNS  167.763\n",
       "1          China       vns  166.965\n",
       "2         Brazil       vns  164.995\n",
       "3         France       vns  164.763\n",
       "4         Canada       VNS  159.562"
      ]
     },
     "execution_count": 73,
     "metadata": {},
     "output_type": "execute_result"
    }
   ],
   "source": [
    "combined_df.sort_values(by='Score', ascending=False)"
   ]
  },
  {
   "cell_type": "code",
   "execution_count": 79,
   "id": "242adc2b-ab38-4335-b073-68a0c8b3c368",
   "metadata": {},
   "outputs": [
    {
     "data": {
      "text/plain": [
       "4.5989999999999895"
      ]
     },
     "execution_count": 79,
     "metadata": {},
     "output_type": "execute_result"
    }
   ],
   "source": [
    "172.362-167.763"
   ]
  },
  {
   "cell_type": "code",
   "execution_count": 74,
   "id": "4308432c",
   "metadata": {},
   "outputs": [],
   "source": [
    "df=combined_df.copy()"
   ]
  },
  {
   "cell_type": "code",
   "execution_count": 75,
   "id": "7e5ef397",
   "metadata": {},
   "outputs": [],
   "source": [
    "df=df.sort_values(by='Score')"
   ]
  },
  {
   "cell_type": "code",
   "execution_count": 76,
   "id": "4fce571b-1e6b-4605-9ffa-35341ff1ca1a",
   "metadata": {},
   "outputs": [],
   "source": [
    "# df.to_csv('algos_qual.csv', index=False)"
   ]
  },
  {
   "cell_type": "code",
   "execution_count": 78,
   "id": "eb0751cf",
   "metadata": {},
   "outputs": [
    {
     "data": {
      "image/png": "[encoded data removed]",
      "text/plain": [
       "<Figure size 1000x600 with 1 Axes>"
      ]
     },
     "metadata": {},
     "output_type": "display_data"
    }
   ],
   "source": [
    "plt.figure(figsize=(10, 6))\n",
    "sns.barplot(x='Score', y='Country', data=df, color='lightblue', orient='h')\n",
    "plt.title('Algorithm Qualification Scores by Country')\n",
    "plt.xlabel('Score')\n",
    "plt.ylabel('Country')\n",
    "plt.xlim(158, 173)  # Set x-axis limit starting from 150\n",
    "\n",
    "# Show plot\n",
    "plt.tight_layout()\n",
    "plt.show()"
   ]
  },
  {
   "cell_type": "code",
   "execution_count": null,
   "id": "708c46b3",
   "metadata": {},
   "outputs": [],
   "source": []
  },
  {
   "cell_type": "code",
   "execution_count": null,
   "id": "1f49fda2-b4bd-4636-a520-f0bb34d940bb",
   "metadata": {},
   "outputs": [],
   "source": []
  },
  {
   "cell_type": "code",
   "execution_count": null,
   "id": "2bca165a-9a9e-4f45-84e5-5019863006a3",
   "metadata": {},
   "outputs": [],
   "source": []
  },
  {
   "cell_type": "code",
   "execution_count": null,
   "id": "0b5b054c-3322-4e00-b285-aaec93673825",
   "metadata": {},
   "outputs": [],
   "source": []
  }
 ],
 "metadata": {
  "kernelspec": {
   "display_name": "Python 3 (ipykernel)",
   "language": "python",
   "name": "python3"
  },
  "language_info": {
   "codemirror_mode": {
    "name": "ipython",
    "version": 3
   },
   "file_extension": ".py",
   "mimetype": "text/x-python",
   "name": "python",
   "nbconvert_exporter": "python",
   "pygments_lexer": "ipython3",
   "version": "3.8.18"
  }
 },
 "nbformat": 4,
 "nbformat_minor": 5
}
