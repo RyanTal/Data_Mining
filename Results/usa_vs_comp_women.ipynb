{
 "cells": [
  {
   "cell_type": "code",
   "execution_count": 8,
   "id": "d827ea49",
   "metadata": {},
   "outputs": [],
   "source": [
    "import pandas as pd\n",
    "import numpy as np"
   ]
  },
  {
   "cell_type": "code",
   "execution_count": 19,
   "id": "63ecff50",
   "metadata": {},
   "outputs": [],
   "source": [
    "usa = pd.read_csv('../Team Selection/team_from_ind_scores.csv')"
   ]
  },
  {
   "cell_type": "code",
   "execution_count": 20,
   "id": "98dcc3e5",
   "metadata": {},
   "outputs": [
    {
     "data": {
      "text/html": [
       "<div>\n",
       "<style scoped>\n",
       "    .dataframe tbody tr th:only-of-type {\n",
       "        vertical-align: middle;\n",
       "    }\n",
       "\n",
       "    .dataframe tbody tr th {\n",
       "        vertical-align: top;\n",
       "    }\n",
       "\n",
       "    .dataframe thead th {\n",
       "        text-align: right;\n",
       "    }\n",
       "</style>\n",
       "<table border=\"1\" class=\"dataframe\">\n",
       "  <thead>\n",
       "    <tr style=\"text-align: right;\">\n",
       "      <th></th>\n",
       "      <th>Algorithm</th>\n",
       "      <th>Athletes</th>\n",
       "      <th>Score Type</th>\n",
       "      <th>Score</th>\n",
       "    </tr>\n",
       "  </thead>\n",
       "  <tbody>\n",
       "    <tr>\n",
       "      <th>0</th>\n",
       "      <td>Variable Neighborhood Search (VNS)</td>\n",
       "      <td>['Jordan Chiles', 'Joscelyn Roberson', 'Shiles...</td>\n",
       "      <td>Total Score</td>\n",
       "      <td>168.998125</td>\n",
       "    </tr>\n",
       "    <tr>\n",
       "      <th>1</th>\n",
       "      <td>Hyper-Heuristics</td>\n",
       "      <td>['Joscelyn Roberson', 'Simone Biles', 'Shilese...</td>\n",
       "      <td>Best Score</td>\n",
       "      <td>168.422350</td>\n",
       "    </tr>\n",
       "    <tr>\n",
       "      <th>2</th>\n",
       "      <td>Tabu Search</td>\n",
       "      <td>['Simone Biles', 'Shilese Jones', 'Zoe Miller'...</td>\n",
       "      <td>Total Score</td>\n",
       "      <td>169.719089</td>\n",
       "    </tr>\n",
       "    <tr>\n",
       "      <th>3</th>\n",
       "      <td>Brute Force</td>\n",
       "      <td>['Ashlee Sullivan', 'Jordan Chiles', 'Shilese ...</td>\n",
       "      <td>Maximum Score</td>\n",
       "      <td>168.422350</td>\n",
       "    </tr>\n",
       "  </tbody>\n",
       "</table>\n",
       "</div>"
      ],
      "text/plain": [
       "                            Algorithm  \\\n",
       "0  Variable Neighborhood Search (VNS)   \n",
       "1                    Hyper-Heuristics   \n",
       "2                         Tabu Search   \n",
       "3                         Brute Force   \n",
       "\n",
       "                                            Athletes     Score Type  \\\n",
       "0  ['Jordan Chiles', 'Joscelyn Roberson', 'Shiles...    Total Score   \n",
       "1  ['Joscelyn Roberson', 'Simone Biles', 'Shilese...     Best Score   \n",
       "2  ['Simone Biles', 'Shilese Jones', 'Zoe Miller'...    Total Score   \n",
       "3  ['Ashlee Sullivan', 'Jordan Chiles', 'Shilese ...  Maximum Score   \n",
       "\n",
       "        Score  \n",
       "0  168.998125  \n",
       "1  168.422350  \n",
       "2  169.719089  \n",
       "3  168.422350  "
      ]
     },
     "execution_count": 20,
     "metadata": {},
     "output_type": "execute_result"
    }
   ],
   "source": [
    "usa"
   ]
  },
  {
   "cell_type": "code",
   "execution_count": 11,
   "id": "5eac793c",
   "metadata": {},
   "outputs": [],
   "source": [
    "df = pd.read_csv('../Team Selection/Competition/top_countries.csv')"
   ]
  },
  {
   "cell_type": "code",
   "execution_count": 12,
   "id": "5d1acc71",
   "metadata": {},
   "outputs": [
    {
     "data": {
      "text/html": [
       "<div>\n",
       "<style scoped>\n",
       "    .dataframe tbody tr th:only-of-type {\n",
       "        vertical-align: middle;\n",
       "    }\n",
       "\n",
       "    .dataframe tbody tr th {\n",
       "        vertical-align: top;\n",
       "    }\n",
       "\n",
       "    .dataframe thead th {\n",
       "        text-align: right;\n",
       "    }\n",
       "</style>\n",
       "<table border=\"1\" class=\"dataframe\">\n",
       "  <thead>\n",
       "    <tr style=\"text-align: right;\">\n",
       "      <th></th>\n",
       "      <th>Country</th>\n",
       "      <th>Algorithm</th>\n",
       "      <th>Athletes</th>\n",
       "      <th>Score</th>\n",
       "    </tr>\n",
       "  </thead>\n",
       "  <tbody>\n",
       "    <tr>\n",
       "      <th>0</th>\n",
       "      <td>Great Britain</td>\n",
       "      <td>VNS</td>\n",
       "      <td>['ondine achampong', 'alice kinsella', 'jessic...</td>\n",
       "      <td>167.763</td>\n",
       "    </tr>\n",
       "    <tr>\n",
       "      <th>1</th>\n",
       "      <td>France</td>\n",
       "      <td>vns</td>\n",
       "      <td>['aline friess', 'mélanie de jesus dos santos'...</td>\n",
       "      <td>164.763</td>\n",
       "    </tr>\n",
       "    <tr>\n",
       "      <th>2</th>\n",
       "      <td>China</td>\n",
       "      <td>vns</td>\n",
       "      <td>['ou yushan', 'qiu qiyuan', 'tang xijing', 'zh...</td>\n",
       "      <td>166.965</td>\n",
       "    </tr>\n",
       "    <tr>\n",
       "      <th>3</th>\n",
       "      <td>Canada</td>\n",
       "      <td>VNS</td>\n",
       "      <td>['ava stewart', 'ellie black', 'laurie denommé...</td>\n",
       "      <td>159.562</td>\n",
       "    </tr>\n",
       "    <tr>\n",
       "      <th>4</th>\n",
       "      <td>Brazil</td>\n",
       "      <td>vns</td>\n",
       "      <td>['rebeca andrade', 'julia soares', 'flavia sar...</td>\n",
       "      <td>164.995</td>\n",
       "    </tr>\n",
       "  </tbody>\n",
       "</table>\n",
       "</div>"
      ],
      "text/plain": [
       "         Country Algorithm                                           Athletes  \\\n",
       "0  Great Britain       VNS  ['ondine achampong', 'alice kinsella', 'jessic...   \n",
       "1         France       vns  ['aline friess', 'mélanie de jesus dos santos'...   \n",
       "2          China       vns  ['ou yushan', 'qiu qiyuan', 'tang xijing', 'zh...   \n",
       "3         Canada       VNS  ['ava stewart', 'ellie black', 'laurie denommé...   \n",
       "4         Brazil       vns  ['rebeca andrade', 'julia soares', 'flavia sar...   \n",
       "\n",
       "     Score  \n",
       "0  167.763  \n",
       "1  164.763  \n",
       "2  166.965  \n",
       "3  159.562  \n",
       "4  164.995  "
      ]
     },
     "execution_count": 12,
     "metadata": {},
     "output_type": "execute_result"
    }
   ],
   "source": [
    "df"
   ]
  },
  {
   "cell_type": "code",
   "execution_count": 22,
   "id": "222edf20",
   "metadata": {},
   "outputs": [],
   "source": [
    "df = df.sort_values(by='Score', ascending=False)"
   ]
  },
  {
   "cell_type": "code",
   "execution_count": 23,
   "id": "383570e1",
   "metadata": {},
   "outputs": [
    {
     "data": {
      "text/html": [
       "<div>\n",
       "<style scoped>\n",
       "    .dataframe tbody tr th:only-of-type {\n",
       "        vertical-align: middle;\n",
       "    }\n",
       "\n",
       "    .dataframe tbody tr th {\n",
       "        vertical-align: top;\n",
       "    }\n",
       "\n",
       "    .dataframe thead th {\n",
       "        text-align: right;\n",
       "    }\n",
       "</style>\n",
       "<table border=\"1\" class=\"dataframe\">\n",
       "  <thead>\n",
       "    <tr style=\"text-align: right;\">\n",
       "      <th></th>\n",
       "      <th>Country</th>\n",
       "      <th>Algorithm</th>\n",
       "      <th>Athletes</th>\n",
       "      <th>Score</th>\n",
       "    </tr>\n",
       "  </thead>\n",
       "  <tbody>\n",
       "    <tr>\n",
       "      <th>0</th>\n",
       "      <td>Great Britain</td>\n",
       "      <td>VNS</td>\n",
       "      <td>['ondine achampong', 'alice kinsella', 'jessic...</td>\n",
       "      <td>167.763</td>\n",
       "    </tr>\n",
       "    <tr>\n",
       "      <th>2</th>\n",
       "      <td>China</td>\n",
       "      <td>vns</td>\n",
       "      <td>['ou yushan', 'qiu qiyuan', 'tang xijing', 'zh...</td>\n",
       "      <td>166.965</td>\n",
       "    </tr>\n",
       "    <tr>\n",
       "      <th>4</th>\n",
       "      <td>Brazil</td>\n",
       "      <td>vns</td>\n",
       "      <td>['rebeca andrade', 'julia soares', 'flavia sar...</td>\n",
       "      <td>164.995</td>\n",
       "    </tr>\n",
       "    <tr>\n",
       "      <th>1</th>\n",
       "      <td>France</td>\n",
       "      <td>vns</td>\n",
       "      <td>['aline friess', 'mélanie de jesus dos santos'...</td>\n",
       "      <td>164.763</td>\n",
       "    </tr>\n",
       "    <tr>\n",
       "      <th>3</th>\n",
       "      <td>Canada</td>\n",
       "      <td>VNS</td>\n",
       "      <td>['ava stewart', 'ellie black', 'laurie denommé...</td>\n",
       "      <td>159.562</td>\n",
       "    </tr>\n",
       "  </tbody>\n",
       "</table>\n",
       "</div>"
      ],
      "text/plain": [
       "         Country Algorithm                                           Athletes  \\\n",
       "0  Great Britain       VNS  ['ondine achampong', 'alice kinsella', 'jessic...   \n",
       "2          China       vns  ['ou yushan', 'qiu qiyuan', 'tang xijing', 'zh...   \n",
       "4         Brazil       vns  ['rebeca andrade', 'julia soares', 'flavia sar...   \n",
       "1         France       vns  ['aline friess', 'mélanie de jesus dos santos'...   \n",
       "3         Canada       VNS  ['ava stewart', 'ellie black', 'laurie denommé...   \n",
       "\n",
       "     Score  \n",
       "0  167.763  \n",
       "2  166.965  \n",
       "4  164.995  \n",
       "1  164.763  \n",
       "3  159.562  "
      ]
     },
     "execution_count": 23,
     "metadata": {},
     "output_type": "execute_result"
    }
   ],
   "source": [
    "df"
   ]
  },
  {
   "cell_type": "code",
   "execution_count": 24,
   "id": "1c19b77b",
   "metadata": {},
   "outputs": [],
   "source": [
    "usa = usa.sort_values(by='Score', ascending=False)"
   ]
  },
  {
   "cell_type": "code",
   "execution_count": 26,
   "id": "88a7a401",
   "metadata": {},
   "outputs": [],
   "source": [
    "usa=usa.drop(columns=['Score Type'])"
   ]
  },
  {
   "cell_type": "code",
   "execution_count": 27,
   "id": "9cd5d5b0",
   "metadata": {},
   "outputs": [
    {
     "data": {
      "text/html": [
       "<div>\n",
       "<style scoped>\n",
       "    .dataframe tbody tr th:only-of-type {\n",
       "        vertical-align: middle;\n",
       "    }\n",
       "\n",
       "    .dataframe tbody tr th {\n",
       "        vertical-align: top;\n",
       "    }\n",
       "\n",
       "    .dataframe thead th {\n",
       "        text-align: right;\n",
       "    }\n",
       "</style>\n",
       "<table border=\"1\" class=\"dataframe\">\n",
       "  <thead>\n",
       "    <tr style=\"text-align: right;\">\n",
       "      <th></th>\n",
       "      <th>Algorithm</th>\n",
       "      <th>Athletes</th>\n",
       "      <th>Score</th>\n",
       "    </tr>\n",
       "  </thead>\n",
       "  <tbody>\n",
       "    <tr>\n",
       "      <th>2</th>\n",
       "      <td>Tabu Search</td>\n",
       "      <td>['Simone Biles', 'Shilese Jones', 'Zoe Miller'...</td>\n",
       "      <td>169.719089</td>\n",
       "    </tr>\n",
       "    <tr>\n",
       "      <th>0</th>\n",
       "      <td>Variable Neighborhood Search (VNS)</td>\n",
       "      <td>['Jordan Chiles', 'Joscelyn Roberson', 'Shiles...</td>\n",
       "      <td>168.998125</td>\n",
       "    </tr>\n",
       "    <tr>\n",
       "      <th>1</th>\n",
       "      <td>Hyper-Heuristics</td>\n",
       "      <td>['Joscelyn Roberson', 'Simone Biles', 'Shilese...</td>\n",
       "      <td>168.422350</td>\n",
       "    </tr>\n",
       "    <tr>\n",
       "      <th>3</th>\n",
       "      <td>Brute Force</td>\n",
       "      <td>['Ashlee Sullivan', 'Jordan Chiles', 'Shilese ...</td>\n",
       "      <td>168.422350</td>\n",
       "    </tr>\n",
       "  </tbody>\n",
       "</table>\n",
       "</div>"
      ],
      "text/plain": [
       "                            Algorithm  \\\n",
       "2                         Tabu Search   \n",
       "0  Variable Neighborhood Search (VNS)   \n",
       "1                    Hyper-Heuristics   \n",
       "3                         Brute Force   \n",
       "\n",
       "                                            Athletes       Score  \n",
       "2  ['Simone Biles', 'Shilese Jones', 'Zoe Miller'...  169.719089  \n",
       "0  ['Jordan Chiles', 'Joscelyn Roberson', 'Shiles...  168.998125  \n",
       "1  ['Joscelyn Roberson', 'Simone Biles', 'Shilese...  168.422350  \n",
       "3  ['Ashlee Sullivan', 'Jordan Chiles', 'Shilese ...  168.422350  "
      ]
     },
     "execution_count": 27,
     "metadata": {},
     "output_type": "execute_result"
    }
   ],
   "source": [
    "usa"
   ]
  },
  {
   "cell_type": "code",
   "execution_count": null,
   "id": "a7af9c63",
   "metadata": {},
   "outputs": [],
   "source": []
  }
 ],
 "metadata": {
  "kernelspec": {
   "display_name": "Python 3 (ipykernel)",
   "language": "python",
   "name": "python3"
  },
  "language_info": {
   "codemirror_mode": {
    "name": "ipython",
    "version": 3
   },
   "file_extension": ".py",
   "mimetype": "text/x-python",
   "name": "python",
   "nbconvert_exporter": "python",
   "pygments_lexer": "ipython3",
   "version": "3.9.12"
  }
 },
 "nbformat": 4,
 "nbformat_minor": 5
}
