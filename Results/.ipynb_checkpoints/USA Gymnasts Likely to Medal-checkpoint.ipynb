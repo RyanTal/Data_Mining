{
 "cells": [
  {
   "cell_type": "markdown",
   "id": "2b3bd235",
   "metadata": {},
   "source": [
    "# Update USA womens Gymnnastics team\n",
    "\n",
    "## Team:\n",
    "- Simone Biles\n",
    "- Skye Blakely\n",
    "- Shilese Jones\n",
    "- Joscelyn Roberson\n",
    "- Zoe Miller\n",
    "\n",
    "---\n",
    "\n",
    "### Balance Beam:\n",
    "- Simone Biles\n",
    "- Skye Blakely\n",
    "- Shilese Jones\n",
    "\n",
    "### Uneven Bars:\n",
    "- Skye Blakely\n",
    "- Shilese Jones\n",
    "- Zoe Miller\n",
    "\n",
    "### Floor:\n",
    "- Simone Biles\n",
    "- Shilese Jones\n",
    "- Joscelyn Roberson\n",
    "\n",
    "### Vault:\n",
    "- Simone Biles \n",
    "- Shilese Jones\n",
    "- Joscelyn Roberson\n",
    "\n",
    "\n",
    "## Expected Score: 169.37484255189258\n",
    "\n",
    "2020 olympics were won with a score of 169.528 \n",
    "\n",
    "with second place being 166.096 \n",
    "\n"
   ]
  },
  {
   "cell_type": "markdown",
   "id": "486a4657",
   "metadata": {},
   "source": [
    "# Best USA Womens Gymnasts:\n",
    "\n",
    "### vault\n",
    "- simone biles \n",
    "\n",
    "### Uneven Bars\n",
    "- Shilese Jones \n",
    "- Zoe Miller \n",
    "\n",
    "### Floor\n",
    "- kaliya lincoln\n",
    "\n",
    "### Balance Beam\n",
    "- skye blakely \n",
    "\n",
    "### Individual All-around\n",
    "- jordan chiles "
   ]
  },
  {
   "cell_type": "markdown",
   "id": "34702d36",
   "metadata": {},
   "source": [
    "---\n",
    "# Team USA Mens Gymnasts:\n",
    "\n",
    "- Asher Hong \n",
    "- Yul Moldauer \n",
    "- Fred Richard \n",
    "- Khoi Young \n",
    "- Vitaliy Guimaraes \n",
    "---\n",
    "\n",
    "- Alternate: Colt Walker"
   ]
  },
  {
   "cell_type": "markdown",
   "id": "787d1b7c",
   "metadata": {},
   "source": [
    "# USA Mens Gymnasts Most likely to medal:\n",
    "\n",
    "### pb\n",
    "- curran phillips\n",
    "### ph\n",
    "- stephen nedoroscik\n",
    "- khoi young"
   ]
  },
  {
   "cell_type": "markdown",
   "id": "e876afad",
   "metadata": {},
   "source": [
    "Women's Senior National Team https://usagym.org/women/team/\n",
    "- Simone Biles\n",
    "- Skye Blakely\n",
    "- Jade Carey\n",
    "- Jordan Chiles\n",
    "- Kayla DiCello\n",
    "- Amelia Disidore\n",
    "- Shilese Jones\n",
    "- Katelyn Jong\n",
    "- Kaliya Lincoln\n",
    "- Eveylynn Lowe\n",
    "- Nola Matthews\n",
    "- Zoe Miller\n",
    "- Joscelyn Roberson\n",
    "- Tiana Sumanasekera\n",
    "- Leanne Wong\n",
    "- Alicia Zhou\n"
   ]
  },
  {
   "cell_type": "markdown",
   "id": "9d97cc88",
   "metadata": {},
   "source": [
    "Men's Senior National Team https://usagym.org/men/team/\n",
    "- Jeremy Bischoff\n",
    "- Cameron Bock\n",
    "- Brandon Briones\n",
    "- Taylor Burkhart\n",
    "- Alex Diab\n",
    "- Dallas Hale\n",
    "- Asher Hong\n",
    "- Paul Juda\n",
    "- Riley Loos\n",
    "- Brody Malone\n",
    "- Yul Moldauer\n",
    "- Stephen Nedoroscik\n",
    "- Vahe Petrosyan\n",
    "- Curran Phillips\n",
    "- Fred Richard\n",
    "- Colt Walker\n",
    "- Donnell Whittenburg\n",
    "- Shane Wiskus\n",
    "- Khoi Young\n"
   ]
  },
  {
   "cell_type": "code",
   "execution_count": null,
   "id": "502b1ef5",
   "metadata": {},
   "outputs": [],
   "source": []
  }
 ],
 "metadata": {
  "kernelspec": {
   "display_name": "Python 3 (ipykernel)",
   "language": "python",
   "name": "python3"
  },
  "language_info": {
   "codemirror_mode": {
    "name": "ipython",
    "version": 3
   },
   "file_extension": ".py",
   "mimetype": "text/x-python",
   "name": "python",
   "nbconvert_exporter": "python",
   "pygments_lexer": "ipython3",
   "version": "3.9.12"
  }
 },
 "nbformat": 4,
 "nbformat_minor": 5
}
