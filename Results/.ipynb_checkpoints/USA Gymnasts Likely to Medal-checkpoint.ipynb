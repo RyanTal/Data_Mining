{
 "cells": [
  {
   "cell_type": "markdown",
   "id": "2b3bd235",
   "metadata": {},
   "source": [
    "# Update USA womens Gymnnastics team\n",
    "\n",
    "## Team:\n",
    "- Simone Biles\n",
    "- Skye Blakely\n",
    "- Shilese Jones\n",
    "- Joscelyn Roberson\n",
    "- Zoe Miller\n",
    "\n",
    "---\n",
    "\n",
    "# Qualification Team (4 up, 3 count):\n",
    "### Balance Beam:\n",
    "- Joscelyn Roberson \n",
    "- Skye Blakely\n",
    "- Shilese Jones\n",
    "\n",
    "### Uneven Bars:\n",
    "- Skye Blakely\n",
    "- Shilese Jones\n",
    "- Zoe Miller\n",
    "\n",
    "### Floor:\n",
    "- Skye Blakely\n",
    "- Shilese Jones\n",
    "- Joscelyn Roberson\n",
    "\n",
    "### Vault:\n",
    "- Skye Blakely \n",
    "- Shilese Jones\n",
    "- Joscelyn Roberson\n",
    "\n",
    "\n",
    "\n",
    "# Finals Team (3 up, 3 count):\n",
    "- Joscelyn Roberson\n",
    "- Shilese Jones\n",
    "- Simone Biles\n"
   ]
  },
  {
   "cell_type": "markdown",
   "id": "486a4657",
   "metadata": {},
   "source": [
    "# Individual Event - USA Womens Gymnasts most likely to medal:\n",
    "\n",
    "### vault \n",
    "- simone biles \n",
    "\n",
    "### Uneven Bars \n",
    "- Shilese Jones \n",
    "- Zoe Miller \n",
    "\n",
    "#  NEEDs WORK \n",
    "### Floor \n",
    "- kaliya lincoln\n",
    "\n",
    "#  NEEDs WORK \n",
    "### Balance Beam \n",
    "- skye blakely \n",
    "\n",
    "\n",
    "### Individual All-around good\n",
    "- jordan chiles "
   ]
  },
  {
   "cell_type": "markdown",
   "id": "34702d36",
   "metadata": {},
   "source": [
    "---\n",
    "# Team USA Mens Gymnasts:\n",
    "\n",
    "- Asher Hong \n",
    "- Yul Moldauer \n",
    "- Fred Richard \n",
    "- Khoi Young \n",
    "- Vitaliy Guimaraes \n",
    "\n",
    "---\n",
    "\n",
    "# Qualification Team (4 up, 3 count):\n",
    "\n",
    "# Needs work / not working\n",
    "\n",
    "\n",
    "# Finals Team (3 up, 3 count)::\n",
    "- Yul Moldauer \n",
    "- Fred Richard \n",
    "- Vitaliy Guimaraes \n"
   ]
  },
  {
   "cell_type": "markdown",
   "id": "787d1b7c",
   "metadata": {},
   "source": [
    "# USA Mens Gymnasts Most likely to medal:\n",
    "\n",
    "#  NEEDs WORK \n",
    "### pb\n",
    "- curran phillips\n",
    "\n",
    "#  NEEDs WORK \n",
    "### ph\n",
    "- stephen nedoroscik\n",
    "- khoi young\n",
    "\n",
    "#  NEEDs WORK \n",
    "### fx"
   ]
  },
  {
   "cell_type": "code",
   "execution_count": null,
   "id": "6add950f",
   "metadata": {},
   "outputs": [],
   "source": []
  }
 ],
 "metadata": {
  "kernelspec": {
   "display_name": "Python 3 (ipykernel)",
   "language": "python",
   "name": "python3"
  },
  "language_info": {
   "codemirror_mode": {
    "name": "ipython",
    "version": 3
   },
   "file_extension": ".py",
   "mimetype": "text/x-python",
   "name": "python",
   "nbconvert_exporter": "python",
   "pygments_lexer": "ipython3",
   "version": "3.9.12"
  }
 },
 "nbformat": 4,
 "nbformat_minor": 5
}
