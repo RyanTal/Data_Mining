{
 "cells": [
  {
   "cell_type": "markdown",
   "id": "7c07e239",
   "metadata": {},
   "source": [
    "Other Algorithms:\n",
    "1. Harmony Search algorithm \n",
    "    - results for 6 and not 4 athletes\n",
    "    \n",
    "2. Simulated Annealing\n",
    "    - would return different athletes each time it was ran. After adding a Seed, the results were terrible\n"
   ]
  },
  {
   "cell_type": "markdown",
   "id": "cdbee8d5",
   "metadata": {},
   "source": [
    "### Goal: pick 4 USA men's Gymnasts. Gymnasts cannot compete on the same appartaus more than once. And each apparatus needs to be competed on 3 times each, then get the largest sum of the top 3 out of 4 scores on each apparats. "
   ]
  },
  {
   "cell_type": "markdown",
   "id": "fc3937c7",
   "metadata": {},
   "source": [
    "\n",
    "## TABU Search vs Variable Neighborhood Search vs Hyper-Heuristics\n",
    "\n",
    "Results:\n",
    "1. TABU Search (first in every test)\n",
    "2. Hyper-Heuristics\n",
    "3. Variable Neighborhood Search "
   ]
  },
  {
   "cell_type": "markdown",
   "id": "6022aff5",
   "metadata": {},
   "source": [
    "# Mens Performance of Models \n",
    "\n",
    "## IAA Scores\n",
    "## Scores from 2023  \n",
    "\n",
    "### TABU Search 2023:\n",
    "- **Total Score in ts23: = 252.69400000000002**\n",
    "\n",
    "### Hyper-Heuristics 2023:\n",
    "- **Total Score in hh23: = 249.64600000000002**\n",
    "\n",
    "### Variable Neighborhood Search 2023:\n",
    "- asher hong\n",
    "- alex diab\n",
    "- ian gunther\n",
    "- yul moldauer\n",
    "\n",
    "- **Total Score in vns23: 248.05900000000003**\n",
    "\n",
    "---\n",
    "\n",
    "## Average Scores from 2022 and 2023\n",
    "- TABU Search Average: 247.02550000000002\n",
    "- Variable Neighborhood Search Average: 246.00600000000003\n",
    "- Hyper-Heuristics Average: 242.6115\n",
    "\n",
    "---\n",
    "\n",
    "## USOPC data - individual apparatus\n",
    "\n",
    "### TABU Search\n",
    "\n",
    "- paul juda\n",
    "- brody malone\n",
    "- frederick nathaniel richard\n",
    "- khoi young\n",
    "\n",
    "- **Total Score: 253.19598690476192**\n",
    "\n",
    "### Hyper-Heuristics\n",
    "- colt walker\n",
    "- asher hong\n",
    "- brody malone\n",
    "- paul juda\n",
    "\n",
    "- **Total Score: 251.4961353174603**\n",
    "\n",
    "### Variable Neighborhood Search\n",
    "- colt walker\n",
    "- paul juda\n",
    "- frederick richard\n",
    "- brody malone\n",
    "\n",
    "- **Total Score: 249.83797857142858**"
   ]
  },
  {
   "cell_type": "markdown",
   "id": "82fc3d74",
   "metadata": {},
   "source": [
    "---"
   ]
  },
  {
   "cell_type": "markdown",
   "id": "7ca24c31",
   "metadata": {},
   "source": [
    "# WOMEN\n"
   ]
  },
  {
   "cell_type": "markdown",
   "id": "ea957bfe",
   "metadata": {},
   "source": [
    "### Goal: pick 4 USA women's Gymnasts. Gymnasts cannot compete on the same appartaus more than once. And each apparatus needs to be competed on 3 times each, then get the largest sum of the top 3 out of 4 scores on each apparats. "
   ]
  },
  {
   "cell_type": "markdown",
   "id": "304e2ee0",
   "metadata": {},
   "source": [
    "## TABU Search vs Variable Neighborhood Search vs Hyper-Heuristics\n",
    "\n",
    "Results:\n",
    "1. TABU Search (performed very well)\n",
    "2. Variable Neighborhood Search (same athletes as tabu from IAA data)\n",
    "3. Hyper-Heuristics"
   ]
  },
  {
   "cell_type": "markdown",
   "id": "63fe94d6",
   "metadata": {},
   "source": [
    "\n",
    "# Tabu Search\n",
    "\n",
    "## IAA\n",
    "\n",
    "Selected Athletes:\n",
    "['jade carey' 'jordan chiles' 'shilese jones' 'simone biles']\n",
    "Total Score:\n",
    "171.33725\n",
    "\n",
    "\n",
    "## Apparatus\n",
    "\n",
    "Selected Athletes:\n",
    "['jade carey' 'konnor mcclain' 'shilese jones' 'simone biles']\n",
    "Total Score:\n",
    "170.79811666666666\n",
    "\n",
    "\n",
    "#  Variable Neighborhood Search (VNS):\n",
    "\n",
    "\n",
    "## IAA\n",
    "\n",
    "Selected Athletes:\n",
    "['shilese jones' 'simone biles' 'jordan chiles' 'jade carey']\n",
    "Total Score:\n",
    "171.47074999999998\n",
    "\n",
    "## Apparatus\n",
    "\n",
    "Selected Athletes:\n",
    "['simone biles' 'leanne wong' 'konnor mcclain' 'kayla dicello']\n",
    "Total Score:\n",
    "166.038475\n",
    "\n",
    "\n",
    "# Hyper-Heuristics\n",
    "\n",
    "## IAA\n",
    "\n",
    "Best Selection: ['skye blakely' 'jade carey' 'shilese jones' 'simone biles']\n",
    "Best Score: 169.963\n",
    "\n",
    "\n",
    "## Apparatus\n",
    "\n",
    "Best Selection: ['christiane popovich' 'ashlee sullivan' 'shilese jones' 'simone biles']\n",
    "Best Score: 166.26328333333333\n"
   ]
  },
  {
   "cell_type": "code",
   "execution_count": null,
   "id": "e9e861bd",
   "metadata": {},
   "outputs": [],
   "source": []
  }
 ],
 "metadata": {
  "kernelspec": {
   "display_name": "Python 3 (ipykernel)",
   "language": "python",
   "name": "python3"
  },
  "language_info": {
   "codemirror_mode": {
    "name": "ipython",
    "version": 3
   },
   "file_extension": ".py",
   "mimetype": "text/x-python",
   "name": "python",
   "nbconvert_exporter": "python",
   "pygments_lexer": "ipython3",
   "version": "3.9.12"
  }
 },
 "nbformat": 4,
 "nbformat_minor": 5
}
