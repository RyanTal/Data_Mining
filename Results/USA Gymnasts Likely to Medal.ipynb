{
 "cells": [
  {
   "cell_type": "markdown",
   "id": "2b3bd235",
   "metadata": {},
   "source": [
    "# Update USA womens Gymnnastics team\n",
    "\n",
    "## Team:\n",
    "- Simone Biles\n",
    "- Skye Blakely\n",
    "- Shilese Jones\n",
    "- Joscelyn Roberson\n",
    "- Zoe Miller\n",
    "\n",
    "---\n",
    "\n",
    "# Qualification Team (4 up, 3 count):\n",
    "\n",
    "- Joscelyn Roberson \n",
    "- Skye Blakely\n",
    "- Shilese Jones\n",
    "- Simone Biles\n",
    "\n",
    "# Finals Team (3 up, 3 count):\n",
    "- Joscelyn Roberson\n",
    "- Shilese Jones\n",
    "- Simone Biles\n"
   ]
  },
  {
   "cell_type": "markdown",
   "id": "34702d36",
   "metadata": {},
   "source": [
    "---\n",
    "# Team USA Mens Gymnasts:\n",
    "\n",
    "- Asher Hong \n",
    "- Yul Moldauer \n",
    "- Fred Richard \n",
    "- Khoi Young \n",
    "- Vitaliy Guimaraes \n",
    "\n",
    "---\n",
    "\n",
    "# Qualification Team (4 up, 3 count): # Needs work \n",
    "\n",
    "- Asher Hong \n",
    "- Yul Moldauer \n",
    "- Fred Richard \n",
    "- Khoi Young \n",
    "\n",
    "\n",
    "\n",
    "\n",
    "# Finals Team (3 up, 3 count)::\n",
    "- Yul Moldauer \n",
    "- Fred Richard \n",
    "- Vitaliy Guimaraes \n"
   ]
  },
  {
   "cell_type": "markdown",
   "id": "c8b842de",
   "metadata": {},
   "source": [
    "# Individual Event - USA Womens Gymnasts most likely to medal:\n",
    "\n",
    "### Vault \n",
    "- Simone Biles\n",
    "\n",
    "### Uneven Bars \n",
    "- Shilese Jones \n",
    "- Zoe Miller \n",
    "\n",
    "### Floor \n",
    "- Simone Biles\n",
    "\n",
    "### Balance Beam \n",
    "- Skye Blakely \n",
    "\n",
    "\n",
    "### Individual All-around good\n",
    "- Jordan Chiles "
   ]
  },
  {
   "cell_type": "markdown",
   "id": "787d1b7c",
   "metadata": {},
   "source": [
    "# USA Mens Gymnasts Most likely to medal:\n",
    "\n",
    "---\n",
    "\n",
    "### Floor\n",
    "- None\n",
    "\n",
    "### High Bar\n",
    "- None\n",
    "\n",
    "### Parallel Bars \n",
    "- Yul Moldauer \n",
    "- Curran Phillips\n",
    "\n",
    "### Pommel Horse\n",
    "- Stephen Nedoroscik\n",
    "\n",
    "### Rings\n",
    "- None\n",
    "\n",
    "### Vault\n",
    "- None\n",
    "\n",
    "### Individual All-around \n",
    "- None"
   ]
  },
  {
   "cell_type": "markdown",
   "id": "4dae4d9d",
   "metadata": {},
   "source": [
    "# Models:\n",
    "\n",
    "\n",
    "\n",
    "\n",
    "---\n",
    "\n",
    "### Women\n",
    "\n",
    "#### Vault\n",
    "- Random Forest Classifier\n",
    "    - max_depth=2\n",
    "\n",
    "#### Floor\n",
    "- AdaBoost Classifier\n",
    "    - n_estimators=1000, learning_rate=.00047\n",
    "\n",
    "#### Uneven Bars\n",
    "- Decision Tree Classifier\n",
    "    - criterion='log_loss'\n",
    "\n",
    "#### Balance Beam\n",
    "- AdaBoost Classifier\n",
    "    - n_estimators=31\n",
    "\n",
    "#### Individual All-Around\n",
    "- AdaBoost Classifier\n",
    "    - n_estimators=7\n",
    "\n",
    "---\n",
    "\n",
    "### Men\n",
    "\n",
    "#### Vault\n",
    "- AdaBoost Classifier\n",
    "    - n_estimators=70, learning_rate=.321\n",
    "\n",
    "#### Floor\n",
    "- AdaBoost Classifier\n",
    "    - n_estimators=31\n",
    "\n",
    "#### High Bar\n",
    "- AdaBoost Classifier\n",
    "    - n_estimators=20, learning_rate=0.35\n",
    "\n",
    "#### Parallel Bars\n",
    "- Random Forest Classifier\n",
    "    - n_estimators=820\n",
    "\n",
    "#### Rings\n",
    "- Random Forest Classifier\n",
    "    - it evaluates the accuracy based on the top N predicted classes and a minimum probability threshold.\n",
    "    - n_estimators=100\n",
    "    - top_n = 3\n",
    "    - min_probability_threshold = 0.02\n",
    "\n",
    "#### Pommel Horse\n",
    "- AdaBoost Classifier\n",
    "\n",
    "#### Individual All-Around\n",
    "- AdaBoost Classifier\n",
    "\n"
   ]
  },
  {
   "cell_type": "markdown",
   "id": "0b5415e1",
   "metadata": {},
   "source": [
    "---"
   ]
  },
  {
   "cell_type": "markdown",
   "id": "9acba9fa",
   "metadata": {},
   "source": [
    "Integer Linear Programming (ILP) model \n",
    "Linear Programming with PuLP \n",
    "Mixed-Integer Linear Programming \n",
    "Linear Programming (LP) optimization problem"
   ]
  },
  {
   "cell_type": "markdown",
   "id": "e56fbfbc",
   "metadata": {},
   "source": [
    "# Womens Team Selection Algorithms????\n",
    "\n",
    "## Model to pick team\n",
    "- Linear Programming (LP) optimization problem\n",
    "- Linear Programming to select a specified number of athletes under certain constraints to maximize a given objective function. The specific problem being solved here is athlete selection for different apparatus with constraints on the number of athletes for each apparatus.\n",
    "\n",
    "not sure which is better?\n",
    "\n",
    "- Mixed-Integer Linear Programming to select a team of athletes to maximize the sum of scores on various apparatus, subject to constraints on the number of athletes for each apparatus and the total number of selected athletes\n",
    "\n",
    "\n",
    "## Qualifying Team:\n",
    "- \n",
    "\n",
    "## Model Finals\n",
    "- Linear Programming with PuLP to select a set of athletes under the given constraints to maximize the total number of selected athletes. The specific problem being solved here is athlete selection for different apparatus with constraints on the number of athletes for each apparatus.\n"
   ]
  },
  {
   "cell_type": "markdown",
   "id": "c2dbbd5d",
   "metadata": {},
   "source": [
    "---"
   ]
  },
  {
   "cell_type": "markdown",
   "id": "755cd152",
   "metadata": {},
   "source": [
    "# Mens Team Selection Algorithms\n",
    "\n",
    "## Model to pick team\n",
    "- Integer Linear Programming (ILP) model to find the optimal combination of athletes and events to maximize the total value of performance data, subject to constraints on athlete participation and the total number of selected athletes.\n",
    "\n",
    "## Qualifying Team:\n",
    "- brute-force approach to explore all possible combinations of athletes and apparatuses, aiming to find the combination that maximizes the total score. It's an effective approach for a small number of athletes and apparatuses but may become impractical for larger sets due to its exponential time complexity.\n",
    "\n",
    "## Model Finals\n",
    "- "
   ]
  },
  {
   "cell_type": "markdown",
   "id": "a59ba874",
   "metadata": {},
   "source": [
    "the four terms are different variations or types of optimization problems, specifically in the context of linear programming:\n",
    "\n",
    "1. **Integer Linear Programming (ILP) model:**\n",
    "   - Integer Linear Programming extends Linear Programming by introducing the additional constraint that some or all decision variables must be integers (whole numbers). This is used when the decision variables must take on discrete values.\n",
    "\n",
    "2. **Linear Programming with PuLP:**\n",
    "   - PuLP is a Python library for modeling linear programming problems. When someone refers to \"Linear Programming with PuLP,\" they are likely indicating that they are using the PuLP library to formulate and solve linear programming problems. It's not a distinct type of linear programming but rather an implementation or tool for working with linear programming in Python.\n",
    "\n",
    "3. **Mixed-Integer Linear Programming (MILP):**\n",
    "   - Mixed-Integer Linear Programming is a generalization of ILP. In MILP, some of the decision variables are allowed to take on fractional values (like in linear programming), while others must take on integer values. This flexibility can be useful in modeling certain types of problems.\n",
    "\n",
    "4. **Linear Programming (LP) optimization problem:**\n",
    "   - Linear Programming is a method to achieve the best outcome (such as maximum profit or lowest cost) in a mathematical model whose requirements are represented by linear relationships. In an LP optimization problem, the goal is to optimize a linear objective function subject to linear equality and inequality constraints.\n",
    "\n",
    "In summary, Linear Programming is the general term for problems where both the objective function and the constraints are linear. Integer Linear Programming and Mixed-Integer Linear Programming introduce constraints related to integer values.\n",
    "\n",
    "Linear programming (LP), also called linear optimization, is a method to achieve the best outcome (such as maximum profit or lowest cost) in a mathematical model whose requirements are represented by linear relationships. "
   ]
  },
  {
   "cell_type": "markdown",
   "id": "a160b4d4",
   "metadata": {},
   "source": [
    "- https://developers.google.com/optimization/lp/lp_example\n",
    "- https://developers.google.com/optimization/lp/mpsolver\n",
    "- https://developers.google.com/optimization/lp/lp_advanced"
   ]
  },
  {
   "cell_type": "markdown",
   "id": "e952471f",
   "metadata": {},
   "source": [
    "- https://lpsolve.sourceforge.net/4.0/LinearProgrammingFAQ.htm\n",
    "- http://people.brunel.ac.uk/~mastjjb/jeb/or/lp.html\n",
    "- "
   ]
  }
 ],
 "metadata": {
  "kernelspec": {
   "display_name": "Python 3 (ipykernel)",
   "language": "python",
   "name": "python3"
  },
  "language_info": {
   "codemirror_mode": {
    "name": "ipython",
    "version": 3
   },
   "file_extension": ".py",
   "mimetype": "text/x-python",
   "name": "python",
   "nbconvert_exporter": "python",
   "pygments_lexer": "ipython3",
   "version": "3.9.12"
  }
 },
 "nbformat": 4,
 "nbformat_minor": 5
}
