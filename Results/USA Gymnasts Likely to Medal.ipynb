{
 "cells": [
  {
   "cell_type": "markdown",
   "id": "2b3bd235",
   "metadata": {},
   "source": [
    "# Update USA womens Gymnnastics team\n",
    "\n",
    "## Team:\n",
    "- Simone Biles\n",
    "- Shilese Jones\n",
    "- Jordan Chiles\n",
    "- and 2 of the 3 following:  \n",
    "    - Ashlee Sullivan\n",
    "    - Joscelyn Roberson\n",
    "    - Zoe Miller\n",
    "\n",
    "# Qualification Team (4 up, 3 count):\n",
    "\n",
    "\n",
    "\n",
    "# Finals Team (3 up, 3 count):\n",
    "- Jordan Chiles\n",
    "- Shilese Jones\n",
    "- Simone Biles"
   ]
  },
  {
   "cell_type": "markdown",
   "id": "34702d36",
   "metadata": {},
   "source": [
    "---\n",
    "# Team USA Mens Gymnasts:\n",
    "\n",
    "- Asher Hong \n",
    "- Yul Moldauer \n",
    "- Fred Richard \n",
    "- Khoi Young \n",
    "- Curran Phillips\n",
    "\n",
    "---\n",
    "\n",
    "# Qualification Team (4 up, 3 count): # Needs work \n",
    "\n",
    "- Asher Hong \n",
    "- Yul Moldauer \n",
    "- Fred Richard \n",
    "- Khoi Young \n",
    "\n",
    "# Finals Team (3 up, 3 count)::\n",
    "- Yul Moldauer \n",
    "- Fred Richard \n",
    "- Khoi Young\n"
   ]
  },
  {
   "cell_type": "markdown",
   "id": "c8b842de",
   "metadata": {},
   "source": [
    "# Individual Event - USA Womens Gymnasts most likely to medal:\n",
    "\n",
    "### Vault \n",
    "- Simone Biles\n",
    "\n",
    "### Uneven Bars \n",
    "- Shilese Jones \n",
    "- Zoe Miller \n",
    "\n",
    "### Floor \n",
    "- Simone Biles\n",
    "- Ashlee Sullivan\n",
    "\n",
    "### Balance Beam \n",
    "- simone biles\n",
    "- joscelyn roberson\n",
    "\n",
    "### Individual All-around good\n",
    "- Jordan Chiles \n"
   ]
  },
  {
   "cell_type": "markdown",
   "id": "787d1b7c",
   "metadata": {},
   "source": [
    "# USA Mens Gymnasts Most likely to medal:\n",
    "\n",
    "---\n",
    "\n",
    "### Floor\n",
    "- None\n",
    "\n",
    "### High Bar\n",
    "- None\n",
    "\n",
    "### Parallel Bars \n",
    "- Yul Moldauer \n",
    "- Curran Phillips\n",
    "\n",
    "### Pommel Horse\n",
    "- None\n",
    "\n",
    "### Rings\n",
    "- None\n",
    "\n",
    "### Vault\n",
    "- None\n",
    "\n",
    "### Individual All-around \n",
    "- None"
   ]
  },
  {
   "cell_type": "code",
   "execution_count": null,
   "id": "75046329",
   "metadata": {},
   "outputs": [],
   "source": []
  }
 ],
 "metadata": {
  "kernelspec": {
   "display_name": "Python 3 (ipykernel)",
   "language": "python",
   "name": "python3"
  },
  "language_info": {
   "codemirror_mode": {
    "name": "ipython",
    "version": 3
   },
   "file_extension": ".py",
   "mimetype": "text/x-python",
   "name": "python",
   "nbconvert_exporter": "python",
   "pygments_lexer": "ipython3",
   "version": "3.8.18"
  }
 },
 "nbformat": 4,
 "nbformat_minor": 5
}
