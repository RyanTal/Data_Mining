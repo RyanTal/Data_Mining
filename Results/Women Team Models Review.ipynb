{
 "cells": [
  {
   "cell_type": "markdown",
   "id": "90425d4a",
   "metadata": {
    "extensions": {
     "jupyter_dashboards": {
      "version": 1,
      "views": {
       "grid_default": {},
       "report_default": {
        "hidden": false
       }
      }
     }
    }
   },
   "source": [
    "### Goal: pick 4 USA women's Gymnasts. Gymnasts cannot compete on the same appartaus more than once. And each apparatus needs to be competed on 3 times each, then get the largest sum of the top 3 out of 4 scores on each of the 4 apparatus. "
   ]
  },
  {
   "cell_type": "markdown",
   "id": "1b544cf4",
   "metadata": {
    "extensions": {
     "jupyter_dashboards": {
      "version": 1,
      "views": {
       "grid_default": {},
       "report_default": {
        "hidden": false
       }
      }
     }
    }
   },
   "source": [
    "\n",
    "# Tabu Search\n",
    "\n",
    "### IAA\n",
    "\n",
    "Selected Athletes:\n",
    "['jade carey' 'jordan chiles' 'shilese jones' 'simone biles']\n",
    "Total Score:\n",
    "171.33725\n",
    "\n",
    "\n",
    "### Apparatus\n",
    "\n",
    "Selected Athletes:\n",
    "['jade carey' 'konnor mcclain' 'shilese jones' 'simone biles']\n",
    "Total Score:\n",
    "170.79811666666666\n",
    "\n",
    "\n",
    "#  Variable Neighborhood Search (VNS):\n",
    "\n",
    "\n",
    "### IAA\n",
    "\n",
    "Selected Athletes:\n",
    "['shilese jones' 'simone biles' 'jordan chiles' 'jade carey']\n",
    "Total Score:\n",
    "171.47074999999998\n",
    "\n",
    "### Apparatus\n",
    "\n",
    "Selected Athletes:\n",
    "['simone biles' 'leanne wong' 'konnor mcclain' 'kayla dicello']\n",
    "Total Score:\n",
    "166.038475\n",
    "\n",
    "\n",
    "# Hyper-Heuristics\n",
    "\n",
    "### IAA\n",
    "\n",
    "Best Selection: ['skye blakely' 'jade carey' 'shilese jones' 'simone biles']\n",
    "Best Score: 169.963\n",
    "\n",
    "\n",
    "### Apparatus\n",
    "\n",
    "Best Selection: ['christiane popovich' 'ashlee sullivan' 'shilese jones' 'simone biles']\n",
    "Best Score: 166.26328333333333\n",
    "\n",
    "\n",
    "\n",
    "# Brute Force\n",
    "\n",
    "### IAA\n",
    "\n",
    "Selected Athletes:\n",
    "['jade carey', 'jordan chiles', 'shilese jones', 'simone biles']\n",
    "Maximum Score:\n",
    "169.96300000000002\n",
    "\n",
    "### Apparatus\n",
    "\n",
    "Selected Athletes:\n",
    "['addison fatta', 'jade carey', 'shilese jones', 'simone biles']\n",
    "Maximum Score:\n",
    "169.12011666666666\n",
    "\n",
    "\n",
    "# Mixed-Integer Linear Programming (MILP) \n",
    "\n",
    "### IAA\n",
    "Selected Gymnasts:\n",
    "jade carey\n",
    "jordan chiles\n",
    "shilese jones\n",
    "simone biles\n",
    "\n",
    "### Apparatus\n",
    "Selected Gymnasts:\n",
    "camryn richardson\n",
    "chloe cho\n",
    "emjae frazier\n",
    "simone biles"
   ]
  },
  {
   "cell_type": "markdown",
   "id": "968a6233",
   "metadata": {
    "extensions": {
     "jupyter_dashboards": {
      "version": 1,
      "views": {
       "grid_default": {},
       "report_default": {
        "hidden": false
       }
      }
     }
    }
   },
   "source": [
    "---"
   ]
  },
  {
   "cell_type": "code",
   "execution_count": 97,
   "id": "e481c59f",
   "metadata": {
    "extensions": {
     "jupyter_dashboards": {
      "version": 1,
      "views": {
       "grid_default": {},
       "report_default": {
        "hidden": true
       }
      }
     }
    }
   },
   "outputs": [],
   "source": [
    "import seaborn as sns\n",
    "import matplotlib.pyplot as plt\n",
    "import pandas as pd\n",
    "import numpy as np\n"
   ]
  },
  {
   "cell_type": "code",
   "execution_count": 101,
   "id": "27c3e8b4",
   "metadata": {
    "extensions": {
     "jupyter_dashboards": {
      "version": 1,
      "views": {
       "grid_default": {},
       "report_default": {
        "hidden": false
       }
      }
     }
    }
   },
   "outputs": [
    {
     "name": "stdout",
     "output_type": "stream",
     "text": [
      "simone biles           8\n",
      "shilese jones          7\n",
      "jade carey             6\n",
      "jordan chiles          3\n",
      "konnor mcclain         2\n",
      "leanne wong            1\n",
      "kayla dicello          1\n",
      "skye blakely           1\n",
      "christiane popovich    1\n",
      "ashlee sullivan        1\n",
      "addison fatta          1\n",
      "Name: count, dtype: int64\n"
     ]
    }
   ],
   "source": [
    "import pandas as pd\n",
    "import re\n",
    "\n",
    "data = {\n",
    "    'Algorithm': ['Tabu Search', 'Tabu Search', 'Variable Neighborhood Search (VNS)', 'Variable Neighborhood Search (VNS)',\n",
    "                   'Hyper-Heuristics', 'Hyper-Heuristics', 'Brute Force', 'Brute Force'],\n",
    "    'IAA/Apparatus': ['IAA', 'Apparatus', 'IAA', 'Apparatus', 'IAA', 'Apparatus', 'IAA', 'Apparatus'],\n",
    "    'Selected Athletes': [\n",
    "        \"['jade carey' 'jordan chiles' 'shilese jones' 'simone biles']\",\n",
    "        \"['jade carey' 'konnor mcclain' 'shilese jones' 'simone biles']\",\n",
    "        \"['shilese jones' 'simone biles' 'jordan chiles' 'jade carey']\",\n",
    "        \"['simone biles' 'leanne wong' 'konnor mcclain' 'kayla dicello']\",\n",
    "        \"['skye blakely' 'jade carey' 'shilese jones' 'simone biles']\",\n",
    "        \"['christiane popovich' 'ashlee sullivan' 'shilese jones' 'simone biles']\",\n",
    "        \"['jade carey', 'jordan chiles', 'shilese jones', 'simone biles']\",\n",
    "        \"['addison fatta', 'jade carey', 'shilese jones', 'simone biles']\"\n",
    "    ],\n",
    "    'Total Score/Maximum Score': [171.33725, 170.79811666666666, 171.47074999999998, 166.038475, 169.963, 166.26328333333333, 169.96300000000002, 169.12011666666666]\n",
    "}\n",
    "\n",
    "result_df = pd.DataFrame(data)\n",
    "\n",
    "# Extract athlete names using regular expressions\n",
    "result_df['Selected Athletes'] = result_df['Selected Athletes'].apply(lambda x: re.findall(r\"'(.*?)'\", x))\n",
    "\n",
    "# Flatten the list of athletes and create a Series\n",
    "athletes_series = pd.Series([athlete for athletes_list in result_df['Selected Athletes'] for athlete in athletes_list])\n",
    "\n",
    "# Get the count of each athlete\n",
    "athlete_counts = athletes_series.value_counts()\n",
    "\n",
    "print(athlete_counts)\n"
   ]
  },
  {
   "cell_type": "code",
   "execution_count": 106,
   "id": "48d53552",
   "metadata": {
    "extensions": {
     "jupyter_dashboards": {
      "version": 1,
      "views": {
       "grid_default": {},
       "report_default": {
        "hidden": true
       }
      }
     }
    }
   },
   "outputs": [],
   "source": [
    "df=result_df.copy()"
   ]
  },
  {
   "cell_type": "code",
   "execution_count": 107,
   "id": "b29eaa7e",
   "metadata": {
    "extensions": {
     "jupyter_dashboards": {
      "version": 1,
      "views": {
       "grid_default": {},
       "report_default": {
        "hidden": false
       }
      }
     }
    }
   },
   "outputs": [
    {
     "data": {
      "image/png": "[encoded data removed]",
      "text/plain": [
       "<Figure size 720x432 with 1 Axes>"
      ]
     },
     "metadata": {
      "needs_background": "light"
     },
     "output_type": "display_data"
    }
   ],
   "source": [
    "# Flatten the 'Selected Athletes' column\n",
    "athletes_flat = [athlete for sublist in df['Selected Athletes'] for athlete in sublist]\n",
    "\n",
    "# Plotting\n",
    "fig, ax = plt.subplots(figsize=(10, 6))\n",
    "pd.Series(athletes_flat).value_counts().sort_values(ascending=True).plot(kind='barh', ax=ax)\n",
    "\n",
    "ax.set_xlabel('Count')\n",
    "ax.set_title('Value Counts of Selected Athletes')\n",
    "\n",
    "plt.show()"
   ]
  },
  {
   "cell_type": "code",
   "execution_count": 116,
   "id": "453f9f54",
   "metadata": {
    "extensions": {
     "jupyter_dashboards": {
      "version": 1,
      "views": {
       "grid_default": {},
       "report_default": {
        "hidden": true
       }
      }
     }
    }
   },
   "outputs": [],
   "source": [
    "df = df.sort_values(by='Total Score/Maximum Score', ascending=False)"
   ]
  },
  {
   "cell_type": "code",
   "execution_count": 119,
   "id": "6d816f23",
   "metadata": {
    "extensions": {
     "jupyter_dashboards": {
      "version": 1,
      "views": {
       "grid_default": {},
       "report_default": {
        "hidden": true
       }
      }
     }
    }
   },
   "outputs": [],
   "source": [
    "df = df.reset_index(drop=True) "
   ]
  },
  {
   "cell_type": "code",
   "execution_count": 122,
   "id": "c9a5ea85",
   "metadata": {
    "extensions": {
     "jupyter_dashboards": {
      "version": 1,
      "views": {
       "grid_default": {},
       "report_default": {
        "hidden": true
       }
      }
     }
    }
   },
   "outputs": [],
   "source": []
  },
  {
   "cell_type": "code",
   "execution_count": 118,
   "id": "b0812132",
   "metadata": {
    "extensions": {
     "jupyter_dashboards": {
      "version": 1,
      "views": {
       "grid_default": {},
       "report_default": {
        "hidden": false
       }
      }
     }
    }
   },
   "outputs": [
    {
     "data": {
      "image/png": "[encoded data removed]",
      "text/plain": [
       "<Figure size 864x432 with 1 Axes>"
      ]
     },
     "metadata": {
      "needs_background": "light"
     },
     "output_type": "display_data"
    }
   ],
   "source": [
    "# Bar Plot for Total Score\n",
    "plt.figure(figsize=(12, 6))\n",
    "ax = sns.barplot(x='Algorithm', y='Total Score/Maximum Score', hue='IAA/Apparatus', data=df)\n",
    "plt.title('Bar Plot for Total Score')\n",
    "plt.xlabel('Algorithm')\n",
    "plt.ylabel('Total Score')\n",
    "\n",
    "# Set y-axis to start at 150\n",
    "ax.set_ylim(130, ax.get_ylim()[1])\n",
    "\n",
    "plt.show()\n",
    "\n"
   ]
  },
  {
   "cell_type": "code",
   "execution_count": 114,
   "id": "07ec33ca",
   "metadata": {
    "extensions": {
     "jupyter_dashboards": {
      "version": 1,
      "views": {
       "grid_default": {},
       "report_default": {
        "hidden": false
       }
      }
     }
    },
    "scrolled": false
   },
   "outputs": [
    {
     "data": {
      "image/png": "[encoded data removed]",
      "text/plain": [
       "<Figure size 720x432 with 1 Axes>"
      ]
     },
     "metadata": {
      "needs_background": "light"
     },
     "output_type": "display_data"
    }
   ],
   "source": [
    "# Bubble Plot\n",
    "plt.figure(figsize=(10, 6))\n",
    "for i, algorithm in enumerate(df['Algorithm'].unique()):\n",
    "    subset = df[df['Algorithm'] == algorithm]\n",
    "    plt.scatter(subset['Total Score/Maximum Score'], subset['Algorithm'], s=len(subset['Selected Athletes']) * 30, alpha=0.6, label=algorithm)\n",
    "\n",
    "plt.xlabel('Total Score')\n",
    "plt.ylabel('Algorithm')\n",
    "plt.title('Bubble Plot: Total Score vs. Algorithm (Size represents the number of selected athletes)')\n",
    "plt.legend()\n",
    "plt.show()\n",
    "\n"
   ]
  },
  {
   "cell_type": "code",
   "execution_count": 115,
   "id": "4da3ca0f",
   "metadata": {
    "extensions": {
     "jupyter_dashboards": {
      "version": 1,
      "views": {
       "grid_default": {},
       "report_default": {
        "hidden": false
       }
      }
     }
    }
   },
   "outputs": [
    {
     "data": {
      "image/png": "[encoded data removed]",
      "text/plain": [
       "<Figure size 259.5x180 with 2 Axes>"
      ]
     },
     "metadata": {
      "needs_background": "light"
     },
     "output_type": "display_data"
    }
   ],
   "source": [
    "# Pair Plot\n",
    "sns.pairplot(df, hue='IAA/Apparatus', vars=['Total Score/Maximum Score'])\n",
    "plt.title('Pair Plot: Total Score vs. IAA/Apparatus')\n",
    "plt.show()"
   ]
  },
  {
   "cell_type": "code",
   "execution_count": 123,
   "id": "9072c920",
   "metadata": {
    "extensions": {
     "jupyter_dashboards": {
      "version": 1,
      "views": {
       "grid_default": {},
       "report_default": {
        "hidden": true
       }
      }
     }
    }
   },
   "outputs": [],
   "source": [
    "top5=df.iloc[:5]"
   ]
  },
  {
   "cell_type": "code",
   "execution_count": 124,
   "id": "b61e830b",
   "metadata": {
    "extensions": {
     "jupyter_dashboards": {
      "version": 1,
      "views": {
       "grid_default": {},
       "report_default": {
        "hidden": false
       }
      }
     }
    }
   },
   "outputs": [
    {
     "data": {
      "text/html": [
       "<div>\n",
       "<style scoped>\n",
       "    .dataframe tbody tr th:only-of-type {\n",
       "        vertical-align: middle;\n",
       "    }\n",
       "\n",
       "    .dataframe tbody tr th {\n",
       "        vertical-align: top;\n",
       "    }\n",
       "\n",
       "    .dataframe thead th {\n",
       "        text-align: right;\n",
       "    }\n",
       "</style>\n",
       "<table border=\"1\" class=\"dataframe\">\n",
       "  <thead>\n",
       "    <tr style=\"text-align: right;\">\n",
       "      <th></th>\n",
       "      <th>Algorithm</th>\n",
       "      <th>IAA/Apparatus</th>\n",
       "      <th>Selected Athletes</th>\n",
       "      <th>Total Score/Maximum Score</th>\n",
       "    </tr>\n",
       "  </thead>\n",
       "  <tbody>\n",
       "    <tr>\n",
       "      <th>0</th>\n",
       "      <td>Variable Neighborhood Search (VNS)</td>\n",
       "      <td>IAA</td>\n",
       "      <td>[shilese jones, simone biles, jordan chiles, j...</td>\n",
       "      <td>171.470750</td>\n",
       "    </tr>\n",
       "    <tr>\n",
       "      <th>1</th>\n",
       "      <td>Tabu Search</td>\n",
       "      <td>IAA</td>\n",
       "      <td>[jade carey, jordan chiles, shilese jones, sim...</td>\n",
       "      <td>171.337250</td>\n",
       "    </tr>\n",
       "    <tr>\n",
       "      <th>2</th>\n",
       "      <td>Tabu Search</td>\n",
       "      <td>Apparatus</td>\n",
       "      <td>[jade carey, konnor mcclain, shilese jones, si...</td>\n",
       "      <td>170.798117</td>\n",
       "    </tr>\n",
       "    <tr>\n",
       "      <th>3</th>\n",
       "      <td>Brute Force</td>\n",
       "      <td>IAA</td>\n",
       "      <td>[jade carey, jordan chiles, shilese jones, sim...</td>\n",
       "      <td>169.963000</td>\n",
       "    </tr>\n",
       "    <tr>\n",
       "      <th>4</th>\n",
       "      <td>Hyper-Heuristics</td>\n",
       "      <td>IAA</td>\n",
       "      <td>[skye blakely, jade carey, shilese jones, simo...</td>\n",
       "      <td>169.963000</td>\n",
       "    </tr>\n",
       "  </tbody>\n",
       "</table>\n",
       "</div>"
      ],
      "text/plain": [
       "                            Algorithm IAA/Apparatus  \\\n",
       "0  Variable Neighborhood Search (VNS)           IAA   \n",
       "1                         Tabu Search           IAA   \n",
       "2                         Tabu Search     Apparatus   \n",
       "3                         Brute Force           IAA   \n",
       "4                    Hyper-Heuristics           IAA   \n",
       "\n",
       "                                   Selected Athletes  \\\n",
       "0  [shilese jones, simone biles, jordan chiles, j...   \n",
       "1  [jade carey, jordan chiles, shilese jones, sim...   \n",
       "2  [jade carey, konnor mcclain, shilese jones, si...   \n",
       "3  [jade carey, jordan chiles, shilese jones, sim...   \n",
       "4  [skye blakely, jade carey, shilese jones, simo...   \n",
       "\n",
       "   Total Score/Maximum Score  \n",
       "0                 171.470750  \n",
       "1                 171.337250  \n",
       "2                 170.798117  \n",
       "3                 169.963000  \n",
       "4                 169.963000  "
      ]
     },
     "execution_count": 124,
     "metadata": {},
     "output_type": "execute_result"
    }
   ],
   "source": [
    "top5"
   ]
  },
  {
   "cell_type": "code",
   "execution_count": 125,
   "id": "427acfea",
   "metadata": {
    "extensions": {
     "jupyter_dashboards": {
      "version": 1,
      "views": {
       "grid_default": {},
       "report_default": {
        "hidden": true
       }
      }
     }
    }
   },
   "outputs": [],
   "source": [
    "athletes_series = pd.Series([athlete for athletes_list in top5['Selected Athletes'] for athlete in athletes_list])\n",
    "\n",
    "# Get the count of each athlete\n",
    "top5list = athletes_series.value_counts()\n"
   ]
  },
  {
   "cell_type": "code",
   "execution_count": 126,
   "id": "700dd1a5",
   "metadata": {
    "extensions": {
     "jupyter_dashboards": {
      "version": 1,
      "views": {
       "grid_default": {},
       "report_default": {
        "hidden": false
       }
      }
     }
    }
   },
   "outputs": [
    {
     "data": {
      "text/plain": [
       "shilese jones     5\n",
       "simone biles      5\n",
       "jade carey        5\n",
       "jordan chiles     3\n",
       "konnor mcclain    1\n",
       "skye blakely      1\n",
       "Name: count, dtype: int64"
      ]
     },
     "execution_count": 126,
     "metadata": {},
     "output_type": "execute_result"
    }
   ],
   "source": [
    "top5list"
   ]
  },
  {
   "cell_type": "code",
   "execution_count": null,
   "id": "43b87a10",
   "metadata": {
    "extensions": {
     "jupyter_dashboards": {
      "version": 1,
      "views": {
       "grid_default": {},
       "report_default": {
        "hidden": true
       }
      }
     }
    }
   },
   "outputs": [],
   "source": []
  }
 ],
 "metadata": {
  "extensions": {
   "jupyter_dashboards": {
    "activeView": "grid_default",
    "version": 1,
    "views": {
     "grid_default": {
      "cellMargin": 10,
      "defaultCellHeight": 20,
      "maxColumns": 12,
      "name": "grid",
      "type": "grid"
     },
     "report_default": {
      "name": "report",
      "type": "report"
     }
    }
   }
  },
  "kernelspec": {
   "display_name": "Python 3 (ipykernel)",
   "language": "python",
   "name": "python3"
  },
  "language_info": {
   "codemirror_mode": {
    "name": "ipython",
    "version": 3
   },
   "file_extension": ".py",
   "mimetype": "text/x-python",
   "name": "python",
   "nbconvert_exporter": "python",
   "pygments_lexer": "ipython3",
   "version": "3.9.12"
  }
 },
 "nbformat": 4,
 "nbformat_minor": 5
}
