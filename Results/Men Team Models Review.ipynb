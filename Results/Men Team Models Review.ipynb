{
 "cells": [
  {
   "cell_type": "markdown",
   "id": "14d8ff7e",
   "metadata": {},
   "source": [
    "# Brute Force Needs Work"
   ]
  },
  {
   "cell_type": "markdown",
   "id": "cdbee8d5",
   "metadata": {},
   "source": [
    "### Goal: pick 4 USA men's Gymnasts. Gymnasts cannot compete on the same appartaus more than once. And each apparatus needs to be competed on 3 times each, then get the largest sum of the top 3 out of 4 scores on each of the 6 apparatus. "
   ]
  },
  {
   "cell_type": "markdown",
   "id": "c196681b",
   "metadata": {},
   "source": [
    "# Mens Performance of Models for 2024 Olympics\n",
    "\n",
    "\n"
   ]
  },
  {
   "cell_type": "markdown",
   "id": "fa81f608",
   "metadata": {},
   "source": [
    "# VNS\n",
    "\n",
    "### Apparatus\n",
    "Selected Athletes: ['colin van wicklen', 'yul moldauer', 'marvin kimble', 'samuel mikulak']\n",
    "Total Score: 257.289\n",
    "Best Seed: 5033\n",
    "\n",
    "### iaa\n",
    "Selected Athletes: ['akash modi', 'samuel mikulak', 'yul moldauer', 'allan bower']\n",
    "Total Score: 256.536\n",
    "Best Seed: 8\n",
    "\n",
    "\n",
    "# Hyper-Heuristics\n",
    "\n",
    "#### Apparatus\n",
    "Best Selection: ['yul moldauer' 'akash modi' 'colin van wicklen' 'alec yoder']\n",
    "Best Score: 251.773\n",
    "\n",
    "\n",
    "#### IAA\n",
    "Best Selection: ['allan bower' 'akash modi' 'yul moldauer' 'samuel mikulak']\n",
    "Best Score: 255.00300000000001\n",
    "\n",
    "# Tabu Search\n",
    "\n",
    "#### Apparatus\n",
    "Selected Athletes:\n",
    "['yul moldauer' 'marvin kimble' 'samuel mikulak' 'shane wiskus']\n",
    "Total Score:\n",
    "258.205\n",
    "\n",
    "#### IAA\n",
    "Selected Athletes:\n",
    "['allan bower' 'akash modi' 'yul moldauer' 'samuel mikulak']\n",
    "Total Score:\n",
    "256.536\n",
    "\n",
    "\n",
    "\n"
   ]
  },
  {
   "cell_type": "code",
   "execution_count": null,
   "id": "eb289761",
   "metadata": {},
   "outputs": [],
   "source": []
  },
  {
   "cell_type": "code",
   "execution_count": 5,
   "id": "4656a76d",
   "metadata": {},
   "outputs": [],
   "source": [
    "import seaborn as sns\n",
    "import matplotlib.pyplot as plt\n",
    "import pandas as pd\n",
    "import numpy as np"
   ]
  },
  {
   "cell_type": "code",
   "execution_count": 6,
   "id": "b26f7fdd",
   "metadata": {},
   "outputs": [],
   "source": [
    "\n",
    "# Updated data without brute-force search\n",
    "data = {\n",
    "    'Algorithm': ['Tabu Search', 'Tabu Search', 'Hyper-Heuristics', 'Hyper-Heuristics', 'Variable Neighborhood Search (VNS)', 'Variable Neighborhood Search (VNS)'],\n",
    "    'IAA/Apparatus': ['IAA', 'Apparatus', 'IAA', 'Apparatus', 'IAA', 'Apparatus'],\n",
    "    'Selected Athletes': [\n",
    "        ['khoi young', 'asher hong', 'fred richard', 'yul moldauer'],\n",
    "        ['fred richard', 'paul juda', 'khoi young', 'brody malone'],\n",
    "        ['joshua karnes', 'ian lasic-ellis', 'asher hong', 'yul moldauer'],\n",
    "        ['khoi young', 'paul juda', 'brody malone', 'fuzzy benas'],\n",
    "        ['fuzzy benas', 'yul moldauer', 'asher hong', 'fred richard'],\n",
    "        ['shane wiskus', 'khoi young', 'donnell whittenburg', 'brody malone']\n",
    "    ],\n",
    "    'Total Score': [260.57900000000006, 253.19598690476192, 254.94, 250.58868690476191, 257.34200000000004, 251.11566666666667]\n",
    "}\n",
    "\n",
    "# Create DataFrame\n",
    "result_df = pd.DataFrame(data)\n",
    "\n",
    "# Add columns for each athlete\n",
    "athletes = list(set(athlete for athletes_list in result_df['Selected Athletes'] for athlete in athletes_list))\n",
    "\n",
    "for athlete in athletes:\n",
    "    result_df[athlete] = result_df['Selected Athletes'].apply(lambda x: 1 if athlete in x else 0)\n",
    "\n",
    "# Calculate the sum for each athlete column\n",
    "athlete_sums = result_df.groupby('Algorithm')[athletes].sum()\n",
    "\n"
   ]
  },
  {
   "cell_type": "code",
   "execution_count": 7,
   "id": "0c3bdd63",
   "metadata": {},
   "outputs": [],
   "source": [
    "# Your Series\n",
    "athlete_counts = pd.Series({\n",
    "    'joshua karnes': 1,\n",
    "    'fred  richard': 3,\n",
    "    'fuzzy benas': 1,\n",
    "    'khoi young': 6,\n",
    "    'paul juda': 4,\n",
    "    'aidan cuy': 1,\n",
    "    'vitaliy guimaraes': 1,\n",
    "    'yul moldauer': 5,\n",
    "    'brody malone': 2,\n",
    "    'colt walker': 2,\n",
    "    'curran phillips': 1,\n",
    "    'ian lasic-ellis': 1,\n",
    "    'asher hong': 4\n",
    "})\n",
    "\n",
    "# Convert to DataFrame\n",
    "df = athlete_counts.reset_index()\n",
    "df.columns = ['Athlete', 'Count']\n"
   ]
  },
  {
   "cell_type": "code",
   "execution_count": 8,
   "id": "914a6d57",
   "metadata": {},
   "outputs": [],
   "source": [
    "df_sorted = df.sort_values(by='Count', ascending=False)"
   ]
  },
  {
   "cell_type": "code",
   "execution_count": 9,
   "id": "955c620f",
   "metadata": {},
   "outputs": [],
   "source": [
    "df = result_df[['Algorithm', 'IAA/Apparatus', 'Selected Athletes', 'Total Score']]"
   ]
  },
  {
   "cell_type": "code",
   "execution_count": 10,
   "id": "ae946b0c",
   "metadata": {},
   "outputs": [],
   "source": [
    "column_order = ['Algorithm', 'IAA/Apparatus', 'Total Score', 'Selected Athletes']\n",
    "\n",
    "# Reorder the columns in the DataFrame\n",
    "df = df[column_order]\n"
   ]
  },
  {
   "cell_type": "code",
   "execution_count": 11,
   "id": "0c7bb857",
   "metadata": {},
   "outputs": [
    {
     "data": {
      "text/html": [
       "<div>\n",
       "<style scoped>\n",
       "    .dataframe tbody tr th:only-of-type {\n",
       "        vertical-align: middle;\n",
       "    }\n",
       "\n",
       "    .dataframe tbody tr th {\n",
       "        vertical-align: top;\n",
       "    }\n",
       "\n",
       "    .dataframe thead th {\n",
       "        text-align: right;\n",
       "    }\n",
       "</style>\n",
       "<table border=\"1\" class=\"dataframe\">\n",
       "  <thead>\n",
       "    <tr style=\"text-align: right;\">\n",
       "      <th></th>\n",
       "      <th>Algorithm</th>\n",
       "      <th>IAA/Apparatus</th>\n",
       "      <th>Total Score</th>\n",
       "      <th>Selected Athletes</th>\n",
       "    </tr>\n",
       "  </thead>\n",
       "  <tbody>\n",
       "    <tr>\n",
       "      <th>0</th>\n",
       "      <td>Tabu Search</td>\n",
       "      <td>IAA</td>\n",
       "      <td>260.579000</td>\n",
       "      <td>[khoi young, asher hong, fred richard, yul mol...</td>\n",
       "    </tr>\n",
       "    <tr>\n",
       "      <th>1</th>\n",
       "      <td>Tabu Search</td>\n",
       "      <td>Apparatus</td>\n",
       "      <td>253.195987</td>\n",
       "      <td>[fred richard, paul juda, khoi young, brody ma...</td>\n",
       "    </tr>\n",
       "    <tr>\n",
       "      <th>2</th>\n",
       "      <td>Hyper-Heuristics</td>\n",
       "      <td>IAA</td>\n",
       "      <td>254.940000</td>\n",
       "      <td>[joshua karnes, ian lasic-ellis, asher hong, y...</td>\n",
       "    </tr>\n",
       "    <tr>\n",
       "      <th>3</th>\n",
       "      <td>Hyper-Heuristics</td>\n",
       "      <td>Apparatus</td>\n",
       "      <td>250.588687</td>\n",
       "      <td>[khoi young, paul juda, brody malone, fuzzy be...</td>\n",
       "    </tr>\n",
       "    <tr>\n",
       "      <th>4</th>\n",
       "      <td>Variable Neighborhood Search (VNS)</td>\n",
       "      <td>IAA</td>\n",
       "      <td>257.342000</td>\n",
       "      <td>[fuzzy benas, yul moldauer, asher hong, fred r...</td>\n",
       "    </tr>\n",
       "    <tr>\n",
       "      <th>5</th>\n",
       "      <td>Variable Neighborhood Search (VNS)</td>\n",
       "      <td>Apparatus</td>\n",
       "      <td>251.115667</td>\n",
       "      <td>[shane wiskus, khoi young, donnell whittenburg...</td>\n",
       "    </tr>\n",
       "  </tbody>\n",
       "</table>\n",
       "</div>"
      ],
      "text/plain": [
       "                            Algorithm IAA/Apparatus  Total Score  \\\n",
       "0                         Tabu Search           IAA   260.579000   \n",
       "1                         Tabu Search     Apparatus   253.195987   \n",
       "2                    Hyper-Heuristics           IAA   254.940000   \n",
       "3                    Hyper-Heuristics     Apparatus   250.588687   \n",
       "4  Variable Neighborhood Search (VNS)           IAA   257.342000   \n",
       "5  Variable Neighborhood Search (VNS)     Apparatus   251.115667   \n",
       "\n",
       "                                   Selected Athletes  \n",
       "0  [khoi young, asher hong, fred richard, yul mol...  \n",
       "1  [fred richard, paul juda, khoi young, brody ma...  \n",
       "2  [joshua karnes, ian lasic-ellis, asher hong, y...  \n",
       "3  [khoi young, paul juda, brody malone, fuzzy be...  \n",
       "4  [fuzzy benas, yul moldauer, asher hong, fred r...  \n",
       "5  [shane wiskus, khoi young, donnell whittenburg...  "
      ]
     },
     "execution_count": 11,
     "metadata": {},
     "output_type": "execute_result"
    }
   ],
   "source": [
    "df"
   ]
  },
  {
   "cell_type": "code",
   "execution_count": 12,
   "id": "518816fd",
   "metadata": {},
   "outputs": [],
   "source": [
    "df1= df.drop(columns=['Selected Athletes'])"
   ]
  },
  {
   "cell_type": "code",
   "execution_count": 13,
   "id": "8120e3f4",
   "metadata": {},
   "outputs": [
    {
     "data": {
      "text/html": [
       "<div>\n",
       "<style scoped>\n",
       "    .dataframe tbody tr th:only-of-type {\n",
       "        vertical-align: middle;\n",
       "    }\n",
       "\n",
       "    .dataframe tbody tr th {\n",
       "        vertical-align: top;\n",
       "    }\n",
       "\n",
       "    .dataframe thead th {\n",
       "        text-align: right;\n",
       "    }\n",
       "</style>\n",
       "<table border=\"1\" class=\"dataframe\">\n",
       "  <thead>\n",
       "    <tr style=\"text-align: right;\">\n",
       "      <th></th>\n",
       "      <th>Algorithm</th>\n",
       "      <th>IAA/Apparatus</th>\n",
       "      <th>Total Score</th>\n",
       "    </tr>\n",
       "  </thead>\n",
       "  <tbody>\n",
       "    <tr>\n",
       "      <th>0</th>\n",
       "      <td>Tabu Search</td>\n",
       "      <td>IAA</td>\n",
       "      <td>260.579000</td>\n",
       "    </tr>\n",
       "    <tr>\n",
       "      <th>1</th>\n",
       "      <td>Tabu Search</td>\n",
       "      <td>Apparatus</td>\n",
       "      <td>253.195987</td>\n",
       "    </tr>\n",
       "    <tr>\n",
       "      <th>2</th>\n",
       "      <td>Hyper-Heuristics</td>\n",
       "      <td>IAA</td>\n",
       "      <td>254.940000</td>\n",
       "    </tr>\n",
       "    <tr>\n",
       "      <th>3</th>\n",
       "      <td>Hyper-Heuristics</td>\n",
       "      <td>Apparatus</td>\n",
       "      <td>250.588687</td>\n",
       "    </tr>\n",
       "    <tr>\n",
       "      <th>4</th>\n",
       "      <td>Variable Neighborhood Search (VNS)</td>\n",
       "      <td>IAA</td>\n",
       "      <td>257.342000</td>\n",
       "    </tr>\n",
       "    <tr>\n",
       "      <th>5</th>\n",
       "      <td>Variable Neighborhood Search (VNS)</td>\n",
       "      <td>Apparatus</td>\n",
       "      <td>251.115667</td>\n",
       "    </tr>\n",
       "  </tbody>\n",
       "</table>\n",
       "</div>"
      ],
      "text/plain": [
       "                            Algorithm IAA/Apparatus  Total Score\n",
       "0                         Tabu Search           IAA   260.579000\n",
       "1                         Tabu Search     Apparatus   253.195987\n",
       "2                    Hyper-Heuristics           IAA   254.940000\n",
       "3                    Hyper-Heuristics     Apparatus   250.588687\n",
       "4  Variable Neighborhood Search (VNS)           IAA   257.342000\n",
       "5  Variable Neighborhood Search (VNS)     Apparatus   251.115667"
      ]
     },
     "execution_count": 13,
     "metadata": {},
     "output_type": "execute_result"
    }
   ],
   "source": [
    "df1"
   ]
  },
  {
   "cell_type": "code",
   "execution_count": 14,
   "id": "0bdb8449",
   "metadata": {},
   "outputs": [
    {
     "data": {
      "image/png": "[encoded data removed]",
      "text/plain": [
       "<Figure size 720x432 with 1 Axes>"
      ]
     },
     "metadata": {
      "needs_background": "light"
     },
     "output_type": "display_data"
    }
   ],
   "source": [
    "df_pivot = df1.pivot(index='Algorithm', columns='IAA/Apparatus', values='Total Score')\n",
    "\n",
    "# Plot the bar plot\n",
    "ax = df_pivot.plot(kind='bar', figsize=(10, 6), colormap='viridis')\n",
    "plt.title('Total Scores by Algorithm and IAA/Apparatus')\n",
    "plt.xlabel('Algorithm')\n",
    "plt.ylabel('Total Score')\n",
    "plt.legend(title='IAA/Apparatus', loc='upper left', bbox_to_anchor=(1, 1))\n",
    "\n",
    "# Show the plot\n",
    "plt.show()"
   ]
  },
  {
   "cell_type": "code",
   "execution_count": 15,
   "id": "9a554af5",
   "metadata": {},
   "outputs": [
    {
     "data": {
      "image/png": "[encoded data removed]",
      "text/plain": [
       "<Figure size 720x432 with 1 Axes>"
      ]
     },
     "metadata": {
      "needs_background": "light"
     },
     "output_type": "display_data"
    }
   ],
   "source": [
    "# Flatten the 'Selected Athletes' column\n",
    "athletes_flat = [athlete for sublist in df['Selected Athletes'] for athlete in sublist]\n",
    "\n",
    "# Plotting\n",
    "fig, ax = plt.subplots(figsize=(10, 6))\n",
    "pd.Series(athletes_flat).value_counts().sort_values(ascending=True).plot(kind='barh', ax=ax)\n",
    "\n",
    "ax.set_xlabel('Count')\n",
    "ax.set_title('Value Counts of Selected Athletes')\n",
    "\n",
    "plt.show()"
   ]
  },
  {
   "cell_type": "code",
   "execution_count": 17,
   "id": "277a10f8",
   "metadata": {},
   "outputs": [
    {
     "data": {
      "image/png": "[encoded data removed]",
      "text/plain": [
       "<Figure size 864x432 with 1 Axes>"
      ]
     },
     "metadata": {
      "needs_background": "light"
     },
     "output_type": "display_data"
    }
   ],
   "source": [
    "# Bar Plot for Total Score\n",
    "plt.figure(figsize=(12, 6))\n",
    "ax = sns.barplot(x='Algorithm', y='Total Score', hue='IAA/Apparatus', data=df)\n",
    "plt.title('Total Score for Algorithms')\n",
    "plt.xlabel('Algorithm')\n",
    "plt.ylabel('Total Score')\n",
    "\n",
    "# Set y-axis to start at 150\n",
    "ax.set_ylim(240, ax.get_ylim()[1])\n",
    "\n",
    "plt.show()\n",
    "\n"
   ]
  },
  {
   "cell_type": "code",
   "execution_count": 11,
   "id": "ce3ffab9",
   "metadata": {},
   "outputs": [],
   "source": [
    "# # Explode the 'Selected Athletes' column to create separate rows for each athlete\n",
    "# df_exploded = df.explode('Selected Athletes')\n",
    "\n",
    "# # Swarm Plot for Selected Athletes\n",
    "# plt.figure(figsize=(12, 8))\n",
    "# sns.swarmplot(x='Algorithm', y='Selected Athletes', hue='IAA/Apparatus', data=df_exploded)\n",
    "# plt.title('Swarm Plot for Selected Athletes')\n",
    "# plt.show()\n"
   ]
  },
  {
   "cell_type": "code",
   "execution_count": 12,
   "id": "a9b28d9a",
   "metadata": {},
   "outputs": [
    {
     "data": {
      "image/png": "[encoded data removed]",
      "text/plain": [
       "<Figure size 259.5x180 with 2 Axes>"
      ]
     },
     "metadata": {
      "needs_background": "light"
     },
     "output_type": "display_data"
    }
   ],
   "source": [
    "\n",
    "# Pair Plot\n",
    "sns.pairplot(df, hue='IAA/Apparatus', vars=['Total Score'])\n",
    "plt.title('Pair Plot: Total Score vs. IAA/Apparatus')\n",
    "plt.show()\n",
    "\n"
   ]
  },
  {
   "cell_type": "code",
   "execution_count": 13,
   "id": "03cbeaef",
   "metadata": {},
   "outputs": [
    {
     "data": {
      "image/png": "[encoded data removed]",
      "text/plain": [
       "<Figure size 720x432 with 1 Axes>"
      ]
     },
     "metadata": {
      "needs_background": "light"
     },
     "output_type": "display_data"
    }
   ],
   "source": [
    "# Bubble Plot\n",
    "plt.figure(figsize=(10, 6))\n",
    "for i, algorithm in enumerate(df['Algorithm'].unique()):\n",
    "    subset = df[df['Algorithm'] == algorithm]\n",
    "    plt.scatter(subset['Total Score'], subset['Algorithm'], s=len(subset['Selected Athletes']) * 30, alpha=0.6, label=algorithm)\n",
    "\n",
    "plt.xlabel('Total Score')\n",
    "plt.ylabel('Algorithm')\n",
    "plt.title('Bubble Plot: Total Score vs. Algorithm (Size represents the number of selected athletes)')\n",
    "plt.legend()\n",
    "plt.show()\n",
    "\n"
   ]
  },
  {
   "cell_type": "code",
   "execution_count": 14,
   "id": "8e62a91c",
   "metadata": {},
   "outputs": [
    {
     "data": {
      "text/html": [
       "<div>\n",
       "<style scoped>\n",
       "    .dataframe tbody tr th:only-of-type {\n",
       "        vertical-align: middle;\n",
       "    }\n",
       "\n",
       "    .dataframe tbody tr th {\n",
       "        vertical-align: top;\n",
       "    }\n",
       "\n",
       "    .dataframe thead th {\n",
       "        text-align: right;\n",
       "    }\n",
       "</style>\n",
       "<table border=\"1\" class=\"dataframe\">\n",
       "  <thead>\n",
       "    <tr style=\"text-align: right;\">\n",
       "      <th></th>\n",
       "      <th>khoi young</th>\n",
       "      <th>asher hong</th>\n",
       "      <th>brody malone</th>\n",
       "      <th>yul moldauer</th>\n",
       "      <th>fred richard</th>\n",
       "      <th>paul juda</th>\n",
       "      <th>fuzzy benas</th>\n",
       "      <th>ian lasic-ellis</th>\n",
       "      <th>donnell whittenburg</th>\n",
       "      <th>joshua karnes</th>\n",
       "      <th>shane wiskus</th>\n",
       "    </tr>\n",
       "    <tr>\n",
       "      <th>Name</th>\n",
       "      <th></th>\n",
       "      <th></th>\n",
       "      <th></th>\n",
       "      <th></th>\n",
       "      <th></th>\n",
       "      <th></th>\n",
       "      <th></th>\n",
       "      <th></th>\n",
       "      <th></th>\n",
       "      <th></th>\n",
       "      <th></th>\n",
       "    </tr>\n",
       "  </thead>\n",
       "  <tbody>\n",
       "    <tr>\n",
       "      <th>Hyper-Heuristics</th>\n",
       "      <td>1</td>\n",
       "      <td>1</td>\n",
       "      <td>1</td>\n",
       "      <td>1</td>\n",
       "      <td>0</td>\n",
       "      <td>1</td>\n",
       "      <td>1</td>\n",
       "      <td>1</td>\n",
       "      <td>0</td>\n",
       "      <td>1</td>\n",
       "      <td>0</td>\n",
       "    </tr>\n",
       "    <tr>\n",
       "      <th>Tabu Search</th>\n",
       "      <td>2</td>\n",
       "      <td>1</td>\n",
       "      <td>1</td>\n",
       "      <td>1</td>\n",
       "      <td>2</td>\n",
       "      <td>1</td>\n",
       "      <td>0</td>\n",
       "      <td>0</td>\n",
       "      <td>0</td>\n",
       "      <td>0</td>\n",
       "      <td>0</td>\n",
       "    </tr>\n",
       "    <tr>\n",
       "      <th>Variable Neighborhood Search (VNS)</th>\n",
       "      <td>1</td>\n",
       "      <td>1</td>\n",
       "      <td>1</td>\n",
       "      <td>1</td>\n",
       "      <td>1</td>\n",
       "      <td>0</td>\n",
       "      <td>1</td>\n",
       "      <td>0</td>\n",
       "      <td>1</td>\n",
       "      <td>0</td>\n",
       "      <td>1</td>\n",
       "    </tr>\n",
       "    <tr>\n",
       "      <th>Sum</th>\n",
       "      <td>4</td>\n",
       "      <td>3</td>\n",
       "      <td>3</td>\n",
       "      <td>3</td>\n",
       "      <td>3</td>\n",
       "      <td>2</td>\n",
       "      <td>2</td>\n",
       "      <td>1</td>\n",
       "      <td>1</td>\n",
       "      <td>1</td>\n",
       "      <td>1</td>\n",
       "    </tr>\n",
       "  </tbody>\n",
       "</table>\n",
       "</div>"
      ],
      "text/plain": [
       "                                    khoi young  asher hong  brody malone  \\\n",
       "Name                                                                       \n",
       "Hyper-Heuristics                             1           1             1   \n",
       "Tabu Search                                  2           1             1   \n",
       "Variable Neighborhood Search (VNS)           1           1             1   \n",
       "Sum                                          4           3             3   \n",
       "\n",
       "                                    yul moldauer  fred richard  paul juda  \\\n",
       "Name                                                                        \n",
       "Hyper-Heuristics                               1             0          1   \n",
       "Tabu Search                                    1             2          1   \n",
       "Variable Neighborhood Search (VNS)             1             1          0   \n",
       "Sum                                            3             3          2   \n",
       "\n",
       "                                    fuzzy benas  ian lasic-ellis  \\\n",
       "Name                                                               \n",
       "Hyper-Heuristics                              1                1   \n",
       "Tabu Search                                   0                0   \n",
       "Variable Neighborhood Search (VNS)            1                0   \n",
       "Sum                                           2                1   \n",
       "\n",
       "                                    donnell whittenburg  joshua karnes  \\\n",
       "Name                                                                     \n",
       "Hyper-Heuristics                                      0              1   \n",
       "Tabu Search                                           0              0   \n",
       "Variable Neighborhood Search (VNS)                    1              0   \n",
       "Sum                                                   1              1   \n",
       "\n",
       "                                    shane wiskus  \n",
       "Name                                              \n",
       "Hyper-Heuristics                               0  \n",
       "Tabu Search                                    0  \n",
       "Variable Neighborhood Search (VNS)             1  \n",
       "Sum                                            1  "
      ]
     },
     "execution_count": 14,
     "metadata": {},
     "output_type": "execute_result"
    }
   ],
   "source": [
    "import pandas as pd\n",
    "\n",
    "data_gymnasts = {\n",
    "    'Name': ['Hyper-Heuristics', 'Tabu Search', 'Variable Neighborhood Search (VNS)', 'Sum'],\n",
    "    'khoi young': [1, 2, 1, 4],\n",
    "    'asher hong': [1, 1, 1, 3],\n",
    "    'brody malone': [1, 1, 1, 3],\n",
    "    'yul moldauer': [1, 1, 1, 3],\n",
    "    'fred richard': [0, 2, 1, 3],\n",
    "    'paul juda': [1, 1, 0, 2],\n",
    "    'fuzzy benas': [1, 0, 1, 2],\n",
    "    'ian lasic-ellis': [1, 0, 0, 1],\n",
    "    'donnell whittenburg': [0, 0, 1, 1],\n",
    "    'joshua karnes': [1, 0, 0, 1],\n",
    "    'shane wiskus': [0, 0, 1, 1],\n",
    "}\n",
    "\n",
    "df_gymnasts = pd.DataFrame(data_gymnasts)\n",
    "df_gymnasts.set_index('Name', inplace=True)\n",
    "df_gymnasts\n"
   ]
  },
  {
   "cell_type": "code",
   "execution_count": 15,
   "id": "f58a86b5",
   "metadata": {},
   "outputs": [
    {
     "data": {
      "image/png": "[encoded data removed]",
      "text/plain": [
       "<Figure size 720x576 with 2 Axes>"
      ]
     },
     "metadata": {
      "needs_background": "light"
     },
     "output_type": "display_data"
    }
   ],
   "source": [
    "import seaborn as sns\n",
    "import matplotlib.pyplot as plt\n",
    "\n",
    "# Transpose the DataFrame to have gymnasts as rows and heuristics as columns\n",
    "df_gymnasts_transposed = df_gymnasts.T\n",
    "\n",
    "# Create a heatmap\n",
    "plt.figure(figsize=(10, 8))\n",
    "sns.heatmap(df_gymnasts_transposed, annot=True, cmap='coolwarm', fmt='g', linewidths=.5)\n",
    "plt.title('Heuristic Scores for Gymnasts')\n",
    "plt.show()\n",
    "\n"
   ]
  },
  {
   "cell_type": "code",
   "execution_count": 16,
   "id": "7575bc95",
   "metadata": {},
   "outputs": [],
   "source": [
    " \n",
    "df_gymnasts.reset_index(drop=False, inplace=True)"
   ]
  },
  {
   "cell_type": "code",
   "execution_count": 17,
   "id": "59aaf785",
   "metadata": {},
   "outputs": [
    {
     "ename": "KeyError",
     "evalue": "\"['Sum'] not found in axis\"",
     "output_type": "error",
     "traceback": [
      "\u001b[0;31m---------------------------------------------------------------------------\u001b[0m",
      "\u001b[0;31mKeyError\u001b[0m                                  Traceback (most recent call last)",
      "\u001b[0;32m/var/folders/j_/555m2zps099832fjh_m8jjnc0000gn/T/ipykernel_68904/2748202483.py\u001b[0m in \u001b[0;36m<cell line: 1>\u001b[0;34m()\u001b[0m\n\u001b[0;32m----> 1\u001b[0;31m \u001b[0mdf_gymnasts\u001b[0m\u001b[0;34m=\u001b[0m\u001b[0mdf_gymnasts\u001b[0m\u001b[0;34m.\u001b[0m\u001b[0mdrop\u001b[0m\u001b[0;34m(\u001b[0m\u001b[0mcolumns\u001b[0m\u001b[0;34m=\u001b[0m\u001b[0;34m[\u001b[0m\u001b[0;34m'Sum'\u001b[0m\u001b[0;34m]\u001b[0m\u001b[0;34m)\u001b[0m\u001b[0;34m\u001b[0m\u001b[0;34m\u001b[0m\u001b[0m\n\u001b[0m",
      "\u001b[0;32m~/opt/anaconda3/envs/tf2/lib/python3.9/site-packages/pandas/core/frame.py\u001b[0m in \u001b[0;36mdrop\u001b[0;34m(self, labels, axis, index, columns, level, inplace, errors)\u001b[0m\n\u001b[1;32m   5256\u001b[0m                 \u001b[0mweight\u001b[0m  \u001b[0;36m1.0\u001b[0m     \u001b[0;36m0.8\u001b[0m\u001b[0;34m\u001b[0m\u001b[0;34m\u001b[0m\u001b[0m\n\u001b[1;32m   5257\u001b[0m         \"\"\"\n\u001b[0;32m-> 5258\u001b[0;31m         return super().drop(\n\u001b[0m\u001b[1;32m   5259\u001b[0m             \u001b[0mlabels\u001b[0m\u001b[0;34m=\u001b[0m\u001b[0mlabels\u001b[0m\u001b[0;34m,\u001b[0m\u001b[0;34m\u001b[0m\u001b[0;34m\u001b[0m\u001b[0m\n\u001b[1;32m   5260\u001b[0m             \u001b[0maxis\u001b[0m\u001b[0;34m=\u001b[0m\u001b[0maxis\u001b[0m\u001b[0;34m,\u001b[0m\u001b[0;34m\u001b[0m\u001b[0;34m\u001b[0m\u001b[0m\n",
      "\u001b[0;32m~/opt/anaconda3/envs/tf2/lib/python3.9/site-packages/pandas/core/generic.py\u001b[0m in \u001b[0;36mdrop\u001b[0;34m(self, labels, axis, index, columns, level, inplace, errors)\u001b[0m\n\u001b[1;32m   4547\u001b[0m         \u001b[0;32mfor\u001b[0m \u001b[0maxis\u001b[0m\u001b[0;34m,\u001b[0m \u001b[0mlabels\u001b[0m \u001b[0;32min\u001b[0m \u001b[0maxes\u001b[0m\u001b[0;34m.\u001b[0m\u001b[0mitems\u001b[0m\u001b[0;34m(\u001b[0m\u001b[0;34m)\u001b[0m\u001b[0;34m:\u001b[0m\u001b[0;34m\u001b[0m\u001b[0;34m\u001b[0m\u001b[0m\n\u001b[1;32m   4548\u001b[0m             \u001b[0;32mif\u001b[0m \u001b[0mlabels\u001b[0m \u001b[0;32mis\u001b[0m \u001b[0;32mnot\u001b[0m \u001b[0;32mNone\u001b[0m\u001b[0;34m:\u001b[0m\u001b[0;34m\u001b[0m\u001b[0;34m\u001b[0m\u001b[0m\n\u001b[0;32m-> 4549\u001b[0;31m                 \u001b[0mobj\u001b[0m \u001b[0;34m=\u001b[0m \u001b[0mobj\u001b[0m\u001b[0;34m.\u001b[0m\u001b[0m_drop_axis\u001b[0m\u001b[0;34m(\u001b[0m\u001b[0mlabels\u001b[0m\u001b[0;34m,\u001b[0m \u001b[0maxis\u001b[0m\u001b[0;34m,\u001b[0m \u001b[0mlevel\u001b[0m\u001b[0;34m=\u001b[0m\u001b[0mlevel\u001b[0m\u001b[0;34m,\u001b[0m \u001b[0merrors\u001b[0m\u001b[0;34m=\u001b[0m\u001b[0merrors\u001b[0m\u001b[0;34m)\u001b[0m\u001b[0;34m\u001b[0m\u001b[0;34m\u001b[0m\u001b[0m\n\u001b[0m\u001b[1;32m   4550\u001b[0m \u001b[0;34m\u001b[0m\u001b[0m\n\u001b[1;32m   4551\u001b[0m         \u001b[0;32mif\u001b[0m \u001b[0minplace\u001b[0m\u001b[0;34m:\u001b[0m\u001b[0;34m\u001b[0m\u001b[0;34m\u001b[0m\u001b[0m\n",
      "\u001b[0;32m~/opt/anaconda3/envs/tf2/lib/python3.9/site-packages/pandas/core/generic.py\u001b[0m in \u001b[0;36m_drop_axis\u001b[0;34m(self, labels, axis, level, errors, only_slice)\u001b[0m\n\u001b[1;32m   4589\u001b[0m                 \u001b[0mnew_axis\u001b[0m \u001b[0;34m=\u001b[0m \u001b[0maxis\u001b[0m\u001b[0;34m.\u001b[0m\u001b[0mdrop\u001b[0m\u001b[0;34m(\u001b[0m\u001b[0mlabels\u001b[0m\u001b[0;34m,\u001b[0m \u001b[0mlevel\u001b[0m\u001b[0;34m=\u001b[0m\u001b[0mlevel\u001b[0m\u001b[0;34m,\u001b[0m \u001b[0merrors\u001b[0m\u001b[0;34m=\u001b[0m\u001b[0merrors\u001b[0m\u001b[0;34m)\u001b[0m\u001b[0;34m\u001b[0m\u001b[0;34m\u001b[0m\u001b[0m\n\u001b[1;32m   4590\u001b[0m             \u001b[0;32melse\u001b[0m\u001b[0;34m:\u001b[0m\u001b[0;34m\u001b[0m\u001b[0;34m\u001b[0m\u001b[0m\n\u001b[0;32m-> 4591\u001b[0;31m                 \u001b[0mnew_axis\u001b[0m \u001b[0;34m=\u001b[0m \u001b[0maxis\u001b[0m\u001b[0;34m.\u001b[0m\u001b[0mdrop\u001b[0m\u001b[0;34m(\u001b[0m\u001b[0mlabels\u001b[0m\u001b[0;34m,\u001b[0m \u001b[0merrors\u001b[0m\u001b[0;34m=\u001b[0m\u001b[0merrors\u001b[0m\u001b[0;34m)\u001b[0m\u001b[0;34m\u001b[0m\u001b[0;34m\u001b[0m\u001b[0m\n\u001b[0m\u001b[1;32m   4592\u001b[0m             \u001b[0mindexer\u001b[0m \u001b[0;34m=\u001b[0m \u001b[0maxis\u001b[0m\u001b[0;34m.\u001b[0m\u001b[0mget_indexer\u001b[0m\u001b[0;34m(\u001b[0m\u001b[0mnew_axis\u001b[0m\u001b[0;34m)\u001b[0m\u001b[0;34m\u001b[0m\u001b[0;34m\u001b[0m\u001b[0m\n\u001b[1;32m   4593\u001b[0m \u001b[0;34m\u001b[0m\u001b[0m\n",
      "\u001b[0;32m~/opt/anaconda3/envs/tf2/lib/python3.9/site-packages/pandas/core/indexes/base.py\u001b[0m in \u001b[0;36mdrop\u001b[0;34m(self, labels, errors)\u001b[0m\n\u001b[1;32m   6697\u001b[0m         \u001b[0;32mif\u001b[0m \u001b[0mmask\u001b[0m\u001b[0;34m.\u001b[0m\u001b[0many\u001b[0m\u001b[0;34m(\u001b[0m\u001b[0;34m)\u001b[0m\u001b[0;34m:\u001b[0m\u001b[0;34m\u001b[0m\u001b[0;34m\u001b[0m\u001b[0m\n\u001b[1;32m   6698\u001b[0m             \u001b[0;32mif\u001b[0m \u001b[0merrors\u001b[0m \u001b[0;34m!=\u001b[0m \u001b[0;34m\"ignore\"\u001b[0m\u001b[0;34m:\u001b[0m\u001b[0;34m\u001b[0m\u001b[0;34m\u001b[0m\u001b[0m\n\u001b[0;32m-> 6699\u001b[0;31m                 \u001b[0;32mraise\u001b[0m \u001b[0mKeyError\u001b[0m\u001b[0;34m(\u001b[0m\u001b[0;34mf\"{list(labels[mask])} not found in axis\"\u001b[0m\u001b[0;34m)\u001b[0m\u001b[0;34m\u001b[0m\u001b[0;34m\u001b[0m\u001b[0m\n\u001b[0m\u001b[1;32m   6700\u001b[0m             \u001b[0mindexer\u001b[0m \u001b[0;34m=\u001b[0m \u001b[0mindexer\u001b[0m\u001b[0;34m[\u001b[0m\u001b[0;34m~\u001b[0m\u001b[0mmask\u001b[0m\u001b[0;34m]\u001b[0m\u001b[0;34m\u001b[0m\u001b[0;34m\u001b[0m\u001b[0m\n\u001b[1;32m   6701\u001b[0m         \u001b[0;32mreturn\u001b[0m \u001b[0mself\u001b[0m\u001b[0;34m.\u001b[0m\u001b[0mdelete\u001b[0m\u001b[0;34m(\u001b[0m\u001b[0mindexer\u001b[0m\u001b[0;34m)\u001b[0m\u001b[0;34m\u001b[0m\u001b[0;34m\u001b[0m\u001b[0m\n",
      "\u001b[0;31mKeyError\u001b[0m: \"['Sum'] not found in axis\""
     ]
    }
   ],
   "source": [
    "df_gymnasts=df_gymnasts.drop(columns=['Sum'])"
   ]
  },
  {
   "cell_type": "code",
   "execution_count": 18,
   "id": "7167b08a",
   "metadata": {},
   "outputs": [
    {
     "name": "stdout",
     "output_type": "stream",
     "text": [
      "<class 'pandas.core.frame.DataFrame'>\n",
      "RangeIndex: 4 entries, 0 to 3\n",
      "Data columns (total 12 columns):\n",
      " #   Column               Non-Null Count  Dtype \n",
      "---  ------               --------------  ----- \n",
      " 0   Name                 4 non-null      object\n",
      " 1   khoi young           4 non-null      int64 \n",
      " 2   asher hong           4 non-null      int64 \n",
      " 3   brody malone         4 non-null      int64 \n",
      " 4   yul moldauer         4 non-null      int64 \n",
      " 5   fred richard         4 non-null      int64 \n",
      " 6   paul juda            4 non-null      int64 \n",
      " 7   fuzzy benas          4 non-null      int64 \n",
      " 8   ian lasic-ellis      4 non-null      int64 \n",
      " 9   donnell whittenburg  4 non-null      int64 \n",
      " 10  joshua karnes        4 non-null      int64 \n",
      " 11  shane wiskus         4 non-null      int64 \n",
      "dtypes: int64(11), object(1)\n",
      "memory usage: 512.0+ bytes\n"
     ]
    }
   ],
   "source": [
    "df_gymnasts.info()"
   ]
  },
  {
   "cell_type": "code",
   "execution_count": 19,
   "id": "9a27aa26",
   "metadata": {},
   "outputs": [
    {
     "data": {
      "text/html": [
       "<div>\n",
       "<style scoped>\n",
       "    .dataframe tbody tr th:only-of-type {\n",
       "        vertical-align: middle;\n",
       "    }\n",
       "\n",
       "    .dataframe tbody tr th {\n",
       "        vertical-align: top;\n",
       "    }\n",
       "\n",
       "    .dataframe thead th {\n",
       "        text-align: right;\n",
       "    }\n",
       "</style>\n",
       "<table border=\"1\" class=\"dataframe\">\n",
       "  <thead>\n",
       "    <tr style=\"text-align: right;\">\n",
       "      <th></th>\n",
       "      <th>0</th>\n",
       "      <th>1</th>\n",
       "      <th>2</th>\n",
       "      <th>3</th>\n",
       "    </tr>\n",
       "  </thead>\n",
       "  <tbody>\n",
       "    <tr>\n",
       "      <th>Name</th>\n",
       "      <td>Hyper-Heuristics</td>\n",
       "      <td>Tabu Search</td>\n",
       "      <td>Variable Neighborhood Search (VNS)</td>\n",
       "      <td>Sum</td>\n",
       "    </tr>\n",
       "    <tr>\n",
       "      <th>khoi young</th>\n",
       "      <td>1</td>\n",
       "      <td>2</td>\n",
       "      <td>1</td>\n",
       "      <td>4</td>\n",
       "    </tr>\n",
       "    <tr>\n",
       "      <th>asher hong</th>\n",
       "      <td>1</td>\n",
       "      <td>1</td>\n",
       "      <td>1</td>\n",
       "      <td>3</td>\n",
       "    </tr>\n",
       "    <tr>\n",
       "      <th>brody malone</th>\n",
       "      <td>1</td>\n",
       "      <td>1</td>\n",
       "      <td>1</td>\n",
       "      <td>3</td>\n",
       "    </tr>\n",
       "    <tr>\n",
       "      <th>yul moldauer</th>\n",
       "      <td>1</td>\n",
       "      <td>1</td>\n",
       "      <td>1</td>\n",
       "      <td>3</td>\n",
       "    </tr>\n",
       "    <tr>\n",
       "      <th>fred richard</th>\n",
       "      <td>0</td>\n",
       "      <td>2</td>\n",
       "      <td>1</td>\n",
       "      <td>3</td>\n",
       "    </tr>\n",
       "    <tr>\n",
       "      <th>paul juda</th>\n",
       "      <td>1</td>\n",
       "      <td>1</td>\n",
       "      <td>0</td>\n",
       "      <td>2</td>\n",
       "    </tr>\n",
       "    <tr>\n",
       "      <th>fuzzy benas</th>\n",
       "      <td>1</td>\n",
       "      <td>0</td>\n",
       "      <td>1</td>\n",
       "      <td>2</td>\n",
       "    </tr>\n",
       "    <tr>\n",
       "      <th>ian lasic-ellis</th>\n",
       "      <td>1</td>\n",
       "      <td>0</td>\n",
       "      <td>0</td>\n",
       "      <td>1</td>\n",
       "    </tr>\n",
       "    <tr>\n",
       "      <th>donnell whittenburg</th>\n",
       "      <td>0</td>\n",
       "      <td>0</td>\n",
       "      <td>1</td>\n",
       "      <td>1</td>\n",
       "    </tr>\n",
       "    <tr>\n",
       "      <th>joshua karnes</th>\n",
       "      <td>1</td>\n",
       "      <td>0</td>\n",
       "      <td>0</td>\n",
       "      <td>1</td>\n",
       "    </tr>\n",
       "    <tr>\n",
       "      <th>shane wiskus</th>\n",
       "      <td>0</td>\n",
       "      <td>0</td>\n",
       "      <td>1</td>\n",
       "      <td>1</td>\n",
       "    </tr>\n",
       "  </tbody>\n",
       "</table>\n",
       "</div>"
      ],
      "text/plain": [
       "                                    0            1  \\\n",
       "Name                 Hyper-Heuristics  Tabu Search   \n",
       "khoi young                          1            2   \n",
       "asher hong                          1            1   \n",
       "brody malone                        1            1   \n",
       "yul moldauer                        1            1   \n",
       "fred richard                        0            2   \n",
       "paul juda                           1            1   \n",
       "fuzzy benas                         1            0   \n",
       "ian lasic-ellis                     1            0   \n",
       "donnell whittenburg                 0            0   \n",
       "joshua karnes                       1            0   \n",
       "shane wiskus                        0            0   \n",
       "\n",
       "                                                      2    3  \n",
       "Name                 Variable Neighborhood Search (VNS)  Sum  \n",
       "khoi young                                            1    4  \n",
       "asher hong                                            1    3  \n",
       "brody malone                                          1    3  \n",
       "yul moldauer                                          1    3  \n",
       "fred richard                                          1    3  \n",
       "paul juda                                             0    2  \n",
       "fuzzy benas                                           1    2  \n",
       "ian lasic-ellis                                       0    1  \n",
       "donnell whittenburg                                   1    1  \n",
       "joshua karnes                                         0    1  \n",
       "shane wiskus                                          1    1  "
      ]
     },
     "execution_count": 19,
     "metadata": {},
     "output_type": "execute_result"
    }
   ],
   "source": [
    "df_gymnasts.T"
   ]
  },
  {
   "cell_type": "code",
   "execution_count": 20,
   "id": "42e7bcd7",
   "metadata": {},
   "outputs": [],
   "source": [
    "df_gymnasts=df_gymnasts.T"
   ]
  },
  {
   "cell_type": "code",
   "execution_count": 29,
   "id": "13b757ee",
   "metadata": {},
   "outputs": [
    {
     "ename": "KeyError",
     "evalue": "\"None of ['Name'] are in the columns\"",
     "output_type": "error",
     "traceback": [
      "\u001b[0;31m---------------------------------------------------------------------------\u001b[0m",
      "\u001b[0;31mKeyError\u001b[0m                                  Traceback (most recent call last)",
      "\u001b[0;32m/var/folders/j_/555m2zps099832fjh_m8jjnc0000gn/T/ipykernel_68904/4255466418.py\u001b[0m in \u001b[0;36m<cell line: 10>\u001b[0;34m()\u001b[0m\n\u001b[1;32m      8\u001b[0m \u001b[0;34m\u001b[0m\u001b[0m\n\u001b[1;32m      9\u001b[0m \u001b[0;31m# Set 'Name' as index\u001b[0m\u001b[0;34m\u001b[0m\u001b[0;34m\u001b[0m\u001b[0m\n\u001b[0;32m---> 10\u001b[0;31m \u001b[0mdf_plot\u001b[0m\u001b[0;34m.\u001b[0m\u001b[0mset_index\u001b[0m\u001b[0;34m(\u001b[0m\u001b[0;34m'Name'\u001b[0m\u001b[0;34m,\u001b[0m \u001b[0minplace\u001b[0m\u001b[0;34m=\u001b[0m\u001b[0;32mTrue\u001b[0m\u001b[0;34m)\u001b[0m\u001b[0;34m\u001b[0m\u001b[0;34m\u001b[0m\u001b[0m\n\u001b[0m\u001b[1;32m     11\u001b[0m \u001b[0;34m\u001b[0m\u001b[0m\n\u001b[1;32m     12\u001b[0m \u001b[0;31m# Plot the bar chart\u001b[0m\u001b[0;34m\u001b[0m\u001b[0;34m\u001b[0m\u001b[0m\n",
      "\u001b[0;32m~/opt/anaconda3/envs/tf2/lib/python3.9/site-packages/pandas/core/frame.py\u001b[0m in \u001b[0;36mset_index\u001b[0;34m(self, keys, drop, append, inplace, verify_integrity)\u001b[0m\n\u001b[1;32m   5857\u001b[0m \u001b[0;34m\u001b[0m\u001b[0m\n\u001b[1;32m   5858\u001b[0m         \u001b[0;32mif\u001b[0m \u001b[0mmissing\u001b[0m\u001b[0;34m:\u001b[0m\u001b[0;34m\u001b[0m\u001b[0;34m\u001b[0m\u001b[0m\n\u001b[0;32m-> 5859\u001b[0;31m             \u001b[0;32mraise\u001b[0m \u001b[0mKeyError\u001b[0m\u001b[0;34m(\u001b[0m\u001b[0;34mf\"None of {missing} are in the columns\"\u001b[0m\u001b[0;34m)\u001b[0m\u001b[0;34m\u001b[0m\u001b[0;34m\u001b[0m\u001b[0m\n\u001b[0m\u001b[1;32m   5860\u001b[0m \u001b[0;34m\u001b[0m\u001b[0m\n\u001b[1;32m   5861\u001b[0m         \u001b[0;32mif\u001b[0m \u001b[0minplace\u001b[0m\u001b[0;34m:\u001b[0m\u001b[0;34m\u001b[0m\u001b[0;34m\u001b[0m\u001b[0m\n",
      "\u001b[0;31mKeyError\u001b[0m: \"None of ['Name'] are in the columns\""
     ]
    }
   ],
   "source": [
    "import pandas as pd\n",
    "import matplotlib.pyplot as plt\n",
    "\n",
    "# Assuming df_gymnasts is the provided DataFrame\n",
    "\n",
    "# Drop the 'Sum' row\n",
    "df_plot = df_gymnasts.dropna()\n",
    "\n",
    "# Set 'Name' as index\n",
    "df_plot.set_index('Name', inplace=True)\n",
    "\n",
    "# Plot the bar chart\n",
    "plt.figure(figsize=(12, 6))\n",
    "\n",
    "# Iterate through columns (excluding 'Name') to create a bar for each gymnast\n",
    "for col in df_plot.columns[:-1]:\n",
    "    plt.bar(df_plot.index, df_plot[col], label=col)\n",
    "\n",
    "plt.xlabel('Gymnast')\n",
    "plt.ylabel('Scores')\n",
    "plt.title('Scores for Each Gymnast')\n",
    "plt.legend(loc='upper right', bbox_to_anchor=(1.15, 1))\n",
    "plt.xticks(rotation=45, ha='right')\n",
    "plt.show()\n"
   ]
  },
  {
   "cell_type": "code",
   "execution_count": 22,
   "id": "03bf7256",
   "metadata": {},
   "outputs": [
    {
     "data": {
      "text/html": [
       "<div>\n",
       "<style scoped>\n",
       "    .dataframe tbody tr th:only-of-type {\n",
       "        vertical-align: middle;\n",
       "    }\n",
       "\n",
       "    .dataframe tbody tr th {\n",
       "        vertical-align: top;\n",
       "    }\n",
       "\n",
       "    .dataframe thead th {\n",
       "        text-align: right;\n",
       "    }\n",
       "</style>\n",
       "<table border=\"1\" class=\"dataframe\">\n",
       "  <thead>\n",
       "    <tr style=\"text-align: right;\">\n",
       "      <th>Name</th>\n",
       "      <th>Hyper-Heuristics</th>\n",
       "      <th>Tabu Search</th>\n",
       "      <th>Variable Neighborhood Search (VNS)</th>\n",
       "      <th>Sum</th>\n",
       "    </tr>\n",
       "  </thead>\n",
       "  <tbody>\n",
       "    <tr>\n",
       "      <th>khoi young</th>\n",
       "      <td>1</td>\n",
       "      <td>2</td>\n",
       "      <td>1</td>\n",
       "      <td>4</td>\n",
       "    </tr>\n",
       "    <tr>\n",
       "      <th>asher hong</th>\n",
       "      <td>1</td>\n",
       "      <td>1</td>\n",
       "      <td>1</td>\n",
       "      <td>3</td>\n",
       "    </tr>\n",
       "    <tr>\n",
       "      <th>brody malone</th>\n",
       "      <td>1</td>\n",
       "      <td>1</td>\n",
       "      <td>1</td>\n",
       "      <td>3</td>\n",
       "    </tr>\n",
       "    <tr>\n",
       "      <th>yul moldauer</th>\n",
       "      <td>1</td>\n",
       "      <td>1</td>\n",
       "      <td>1</td>\n",
       "      <td>3</td>\n",
       "    </tr>\n",
       "    <tr>\n",
       "      <th>fred richard</th>\n",
       "      <td>0</td>\n",
       "      <td>2</td>\n",
       "      <td>1</td>\n",
       "      <td>3</td>\n",
       "    </tr>\n",
       "    <tr>\n",
       "      <th>paul juda</th>\n",
       "      <td>1</td>\n",
       "      <td>1</td>\n",
       "      <td>0</td>\n",
       "      <td>2</td>\n",
       "    </tr>\n",
       "    <tr>\n",
       "      <th>fuzzy benas</th>\n",
       "      <td>1</td>\n",
       "      <td>0</td>\n",
       "      <td>1</td>\n",
       "      <td>2</td>\n",
       "    </tr>\n",
       "    <tr>\n",
       "      <th>ian lasic-ellis</th>\n",
       "      <td>1</td>\n",
       "      <td>0</td>\n",
       "      <td>0</td>\n",
       "      <td>1</td>\n",
       "    </tr>\n",
       "    <tr>\n",
       "      <th>donnell whittenburg</th>\n",
       "      <td>0</td>\n",
       "      <td>0</td>\n",
       "      <td>1</td>\n",
       "      <td>1</td>\n",
       "    </tr>\n",
       "    <tr>\n",
       "      <th>joshua karnes</th>\n",
       "      <td>1</td>\n",
       "      <td>0</td>\n",
       "      <td>0</td>\n",
       "      <td>1</td>\n",
       "    </tr>\n",
       "    <tr>\n",
       "      <th>shane wiskus</th>\n",
       "      <td>0</td>\n",
       "      <td>0</td>\n",
       "      <td>1</td>\n",
       "      <td>1</td>\n",
       "    </tr>\n",
       "  </tbody>\n",
       "</table>\n",
       "</div>"
      ],
      "text/plain": [
       "Name                Hyper-Heuristics Tabu Search  \\\n",
       "khoi young                         1           2   \n",
       "asher hong                         1           1   \n",
       "brody malone                       1           1   \n",
       "yul moldauer                       1           1   \n",
       "fred richard                       0           2   \n",
       "paul juda                          1           1   \n",
       "fuzzy benas                        1           0   \n",
       "ian lasic-ellis                    1           0   \n",
       "donnell whittenburg                0           0   \n",
       "joshua karnes                      1           0   \n",
       "shane wiskus                       0           0   \n",
       "\n",
       "Name                Variable Neighborhood Search (VNS) Sum  \n",
       "khoi young                                           1   4  \n",
       "asher hong                                           1   3  \n",
       "brody malone                                         1   3  \n",
       "yul moldauer                                         1   3  \n",
       "fred richard                                         1   3  \n",
       "paul juda                                            0   2  \n",
       "fuzzy benas                                          1   2  \n",
       "ian lasic-ellis                                      0   1  \n",
       "donnell whittenburg                                  1   1  \n",
       "joshua karnes                                        0   1  \n",
       "shane wiskus                                         1   1  "
      ]
     },
     "execution_count": 22,
     "metadata": {},
     "output_type": "execute_result"
    }
   ],
   "source": [
    "df_gymnasts.columns = df_gymnasts.iloc[0]\n",
    "\n",
    "# Drop the first row\n",
    "df_gymnasts = df_gymnasts[1:]\n",
    "\n",
    "# Now, df has column names taken from the first row\n",
    "df_gymnasts"
   ]
  },
  {
   "cell_type": "code",
   "execution_count": 23,
   "id": "f3623412",
   "metadata": {},
   "outputs": [],
   "source": [
    "df = df_gymnasts.iloc[:11]"
   ]
  },
  {
   "cell_type": "code",
   "execution_count": 24,
   "id": "18c4c89c",
   "metadata": {},
   "outputs": [],
   "source": [
    "df.reset_index(drop=False, inplace=True)"
   ]
  },
  {
   "cell_type": "code",
   "execution_count": 25,
   "id": "a50e95c1",
   "metadata": {
    "scrolled": true
   },
   "outputs": [
    {
     "data": {
      "text/html": [
       "<div>\n",
       "<style scoped>\n",
       "    .dataframe tbody tr th:only-of-type {\n",
       "        vertical-align: middle;\n",
       "    }\n",
       "\n",
       "    .dataframe tbody tr th {\n",
       "        vertical-align: top;\n",
       "    }\n",
       "\n",
       "    .dataframe thead th {\n",
       "        text-align: right;\n",
       "    }\n",
       "</style>\n",
       "<table border=\"1\" class=\"dataframe\">\n",
       "  <thead>\n",
       "    <tr style=\"text-align: right;\">\n",
       "      <th>Name</th>\n",
       "      <th>index</th>\n",
       "      <th>Hyper-Heuristics</th>\n",
       "      <th>Tabu Search</th>\n",
       "      <th>Variable Neighborhood Search (VNS)</th>\n",
       "      <th>Sum</th>\n",
       "    </tr>\n",
       "  </thead>\n",
       "  <tbody>\n",
       "    <tr>\n",
       "      <th>0</th>\n",
       "      <td>khoi young</td>\n",
       "      <td>1</td>\n",
       "      <td>2</td>\n",
       "      <td>1</td>\n",
       "      <td>4</td>\n",
       "    </tr>\n",
       "    <tr>\n",
       "      <th>1</th>\n",
       "      <td>asher hong</td>\n",
       "      <td>1</td>\n",
       "      <td>1</td>\n",
       "      <td>1</td>\n",
       "      <td>3</td>\n",
       "    </tr>\n",
       "    <tr>\n",
       "      <th>2</th>\n",
       "      <td>brody malone</td>\n",
       "      <td>1</td>\n",
       "      <td>1</td>\n",
       "      <td>1</td>\n",
       "      <td>3</td>\n",
       "    </tr>\n",
       "    <tr>\n",
       "      <th>3</th>\n",
       "      <td>yul moldauer</td>\n",
       "      <td>1</td>\n",
       "      <td>1</td>\n",
       "      <td>1</td>\n",
       "      <td>3</td>\n",
       "    </tr>\n",
       "    <tr>\n",
       "      <th>4</th>\n",
       "      <td>fred richard</td>\n",
       "      <td>0</td>\n",
       "      <td>2</td>\n",
       "      <td>1</td>\n",
       "      <td>3</td>\n",
       "    </tr>\n",
       "    <tr>\n",
       "      <th>5</th>\n",
       "      <td>paul juda</td>\n",
       "      <td>1</td>\n",
       "      <td>1</td>\n",
       "      <td>0</td>\n",
       "      <td>2</td>\n",
       "    </tr>\n",
       "    <tr>\n",
       "      <th>6</th>\n",
       "      <td>fuzzy benas</td>\n",
       "      <td>1</td>\n",
       "      <td>0</td>\n",
       "      <td>1</td>\n",
       "      <td>2</td>\n",
       "    </tr>\n",
       "    <tr>\n",
       "      <th>7</th>\n",
       "      <td>ian lasic-ellis</td>\n",
       "      <td>1</td>\n",
       "      <td>0</td>\n",
       "      <td>0</td>\n",
       "      <td>1</td>\n",
       "    </tr>\n",
       "    <tr>\n",
       "      <th>8</th>\n",
       "      <td>donnell whittenburg</td>\n",
       "      <td>0</td>\n",
       "      <td>0</td>\n",
       "      <td>1</td>\n",
       "      <td>1</td>\n",
       "    </tr>\n",
       "    <tr>\n",
       "      <th>9</th>\n",
       "      <td>joshua karnes</td>\n",
       "      <td>1</td>\n",
       "      <td>0</td>\n",
       "      <td>0</td>\n",
       "      <td>1</td>\n",
       "    </tr>\n",
       "    <tr>\n",
       "      <th>10</th>\n",
       "      <td>shane wiskus</td>\n",
       "      <td>0</td>\n",
       "      <td>0</td>\n",
       "      <td>1</td>\n",
       "      <td>1</td>\n",
       "    </tr>\n",
       "  </tbody>\n",
       "</table>\n",
       "</div>"
      ],
      "text/plain": [
       "Name                index Hyper-Heuristics Tabu Search  \\\n",
       "0              khoi young                1           2   \n",
       "1              asher hong                1           1   \n",
       "2            brody malone                1           1   \n",
       "3            yul moldauer                1           1   \n",
       "4            fred richard                0           2   \n",
       "5               paul juda                1           1   \n",
       "6             fuzzy benas                1           0   \n",
       "7         ian lasic-ellis                1           0   \n",
       "8     donnell whittenburg                0           0   \n",
       "9           joshua karnes                1           0   \n",
       "10           shane wiskus                0           0   \n",
       "\n",
       "Name Variable Neighborhood Search (VNS) Sum  \n",
       "0                                     1   4  \n",
       "1                                     1   3  \n",
       "2                                     1   3  \n",
       "3                                     1   3  \n",
       "4                                     1   3  \n",
       "5                                     0   2  \n",
       "6                                     1   2  \n",
       "7                                     0   1  \n",
       "8                                     1   1  \n",
       "9                                     0   1  \n",
       "10                                    1   1  "
      ]
     },
     "execution_count": 25,
     "metadata": {},
     "output_type": "execute_result"
    }
   ],
   "source": [
    "df"
   ]
  },
  {
   "cell_type": "code",
   "execution_count": 26,
   "id": "99bf14f7",
   "metadata": {},
   "outputs": [
    {
     "data": {
      "text/plain": [
       "<Figure size 864x432 with 0 Axes>"
      ]
     },
     "metadata": {},
     "output_type": "display_data"
    },
    {
     "data": {
      "image/png": "[encoded data removed]",
      "text/plain": [
       "<Figure size 432x288 with 1 Axes>"
      ]
     },
     "metadata": {
      "needs_background": "light"
     },
     "output_type": "display_data"
    }
   ],
   "source": [
    "import matplotlib.pyplot as plt\n",
    "\n",
    "# Assuming df is your DataFrame\n",
    "\n",
    "# Plot the bar chart\n",
    "plt.figure(figsize=(12, 6))\n",
    "df.set_index('index').plot(kind='bar', stacked=True)\n",
    "plt.xlabel('Gymnast')\n",
    "plt.ylabel('Scores')\n",
    "plt.title('Scores for Each Gymnast')\n",
    "plt.legend(title='Algorithm', bbox_to_anchor=(1.05, 1), loc='upper left')\n",
    "plt.show()\n"
   ]
  },
  {
   "cell_type": "code",
   "execution_count": 31,
   "id": "13a13315",
   "metadata": {},
   "outputs": [
    {
     "data": {
      "image/png": "[encoded data removed]",
      "text/plain": [
       "<Figure size 864x432 with 1 Axes>"
      ]
     },
     "metadata": {
      "needs_background": "light"
     },
     "output_type": "display_data"
    }
   ],
   "source": [
    "import matplotlib.pyplot as plt\n",
    "\n",
    "# Assuming df is your DataFrame\n",
    "\n",
    "# Plot the bar chart for the 'Sum' column\n",
    "plt.figure(figsize=(12, 6))\n",
    "df.set_index('index')['Sum'].plot(kind='bar', color='skyblue')\n",
    "plt.xlabel('Gymnast')\n",
    "plt.ylabel('Sum')\n",
    "plt.title('Total Sum for Gymnast chosen by Algorithms')\n",
    "plt.xticks(rotation=45, ha='right')\n",
    "plt.show()\n"
   ]
  },
  {
   "cell_type": "code",
   "execution_count": null,
   "id": "2633b5d9",
   "metadata": {},
   "outputs": [],
   "source": []
  },
  {
   "cell_type": "code",
   "execution_count": null,
   "id": "e76c98df",
   "metadata": {},
   "outputs": [],
   "source": []
  }
 ],
 "metadata": {
  "kernelspec": {
   "display_name": "Python 3 (ipykernel)",
   "language": "python",
   "name": "python3"
  },
  "language_info": {
   "codemirror_mode": {
    "name": "ipython",
    "version": 3
   },
   "file_extension": ".py",
   "mimetype": "text/x-python",
   "name": "python",
   "nbconvert_exporter": "python",
   "pygments_lexer": "ipython3",
   "version": "3.9.12"
  }
 },
 "nbformat": 4,
 "nbformat_minor": 5
}
