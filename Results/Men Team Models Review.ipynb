{
 "cells": [
  {
   "cell_type": "markdown",
   "id": "14d8ff7e",
   "metadata": {},
   "source": [
    "# Brute Force Needs Work"
   ]
  },
  {
   "cell_type": "markdown",
   "id": "cdbee8d5",
   "metadata": {},
   "source": [
    "### Goal: pick 4 USA men's Gymnasts. Gymnasts cannot compete on the same appartaus more than once. And each apparatus needs to be competed on 3 times each, then get the largest sum of the top 3 out of 4 scores on each of the 6 apparatus. "
   ]
  },
  {
   "cell_type": "markdown",
   "id": "c196681b",
   "metadata": {},
   "source": [
    "# Mens Performance of Models for 2024 Olympics\n",
    "\n",
    "\n"
   ]
  },
  {
   "cell_type": "markdown",
   "id": "6022aff5",
   "metadata": {},
   "source": [
    "# Tabu Search\n",
    "\n",
    "### IAA\n",
    "\n",
    "Selected Athletes:\n",
    "['khoi young' 'asher hong' 'fred richard' 'yul moldauer']\n",
    "Total Score:\n",
    "260.57900000000006\n",
    "\n",
    "### Apparatus\n",
    "Selected Athletes:\n",
    "['frederick nathaniel richard' 'paul juda' 'khoi young' 'brody malone']\n",
    "Total Score:\n",
    "253.19598690476192\n",
    "\n",
    "---\n",
    "\n",
    "# Hyper-Heuristics:\n",
    "\n",
    "### IAA\n",
    "Best Selection: ['joshua karnes' 'ian lasic-ellis' 'asher hong' 'yul moldauer']\n",
    "Best Score: 254.94\n",
    "\n",
    "### Apparatus\n",
    "Best Selection: ['khoi young' 'paul juda' 'brody malone' 'fuzzy benas']\n",
    "Best Score: 250.58868690476191\n",
    "\n",
    "---\n",
    "\n",
    "\n",
    "#  Variable Neighborhood Search (VNS):\n",
    "\n",
    "## IAA\n",
    "\n",
    "Selected Athletes: ['fuzzy benas', 'yul moldauer', 'asher hong', 'fred richard']\n",
    "Total Score: 257.34200000000004\n",
    "\n",
    "\n",
    "## Apparatus\n",
    "Selected Athletes: ['shane wiskus', 'khoi young', 'donnell whittenburg', 'brody malone']\n",
    "Total Score: 251.11566666666667\n",
    "\n",
    "\n",
    "\n",
    "---\n",
    "\n",
    "# MILP\n",
    "\n",
    "### Apparatus\n",
    "not returning 4 athletes\n",
    "\n",
    "### IAA\n",
    "not returning 4 athletes\n",
    "\n",
    "\n",
    "\n"
   ]
  },
  {
   "cell_type": "markdown",
   "id": "5e071bdb",
   "metadata": {},
   "source": [
    "\n"
   ]
  },
  {
   "cell_type": "markdown",
   "id": "c4e398fa",
   "metadata": {},
   "source": [
    "---"
   ]
  },
  {
   "cell_type": "markdown",
   "id": "67459e3f",
   "metadata": {},
   "source": [
    "## Mens Performance of Models for 2020 Olympics\n",
    "\n",
    "Tabu Search is close to the exact team for olympics with the exception of marvin kimble, who retired a month prior to the olympic trials.\n",
    "\n",
    "- Tabu Search\n",
    "    - Apparatus\n",
    "    - Selected Athletes: ['yul moldauer' 'marvin kimble' 'samuel mikulak' 'shane wiskus'] \n",
    "    - Total Score: 258.205\n",
    "\n"
   ]
  },
  {
   "cell_type": "markdown",
   "id": "fa81f608",
   "metadata": {},
   "source": [
    "# VNS\n",
    "\n",
    "### Apparatus\n",
    "Selected Athletes: ['colin van wicklen', 'yul moldauer', 'marvin kimble', 'samuel mikulak']\n",
    "Total Score: 257.289\n",
    "Best Seed: 5033\n",
    "\n",
    "### iaa\n",
    "Selected Athletes: ['akash modi', 'samuel mikulak', 'yul moldauer', 'allan bower']\n",
    "Total Score: 256.536\n",
    "Best Seed: 8\n",
    "\n",
    "\n",
    "# Hyper-Heuristics\n",
    "\n",
    "#### Apparatus\n",
    "Best Selection: ['yul moldauer' 'akash modi' 'colin van wicklen' 'alec yoder']\n",
    "Best Score: 251.773\n",
    "\n",
    "\n",
    "#### IAA\n",
    "Best Selection: ['allan bower' 'akash modi' 'yul moldauer' 'samuel mikulak']\n",
    "Best Score: 255.00300000000001\n",
    "\n",
    "# Tabu Search\n",
    "\n",
    "#### Apparatus\n",
    "Selected Athletes:\n",
    "['yul moldauer' 'marvin kimble' 'samuel mikulak' 'shane wiskus']\n",
    "Total Score:\n",
    "258.205\n",
    "\n",
    "#### IAA\n",
    "Selected Athletes:\n",
    "['allan bower' 'akash modi' 'yul moldauer' 'samuel mikulak']\n",
    "Total Score:\n",
    "256.536\n",
    "\n",
    "\n",
    "\n"
   ]
  },
  {
   "cell_type": "code",
   "execution_count": null,
   "id": "eb289761",
   "metadata": {},
   "outputs": [],
   "source": []
  },
  {
   "cell_type": "code",
   "execution_count": 1,
   "id": "4656a76d",
   "metadata": {},
   "outputs": [],
   "source": [
    "import seaborn as sns\n",
    "import matplotlib.pyplot as plt\n",
    "import pandas as pd\n",
    "import numpy as np"
   ]
  },
  {
   "cell_type": "code",
   "execution_count": 2,
   "id": "b26f7fdd",
   "metadata": {},
   "outputs": [],
   "source": [
    "\n",
    "# Updated data without brute-force search\n",
    "data = {\n",
    "    'Algorithm': ['Tabu Search', 'Tabu Search', 'Hyper-Heuristics', 'Hyper-Heuristics', 'Variable Neighborhood Search (VNS)', 'Variable Neighborhood Search (VNS)'],\n",
    "    'IAA/Apparatus': ['IAA', 'Apparatus', 'IAA', 'Apparatus', 'IAA', 'Apparatus'],\n",
    "    'Selected Athletes': [\n",
    "        ['khoi young', 'asher hong', 'fred richard', 'yul moldauer'],\n",
    "        ['frederick nathaniel richard', 'paul juda', 'khoi young', 'brody malone'],\n",
    "        ['joshua karnes', 'ian lasic-ellis', 'asher hong', 'yul moldauer'],\n",
    "        ['khoi young', 'paul juda', 'brody malone', 'fuzzy benas'],\n",
    "        ['fuzzy benas', 'yul moldauer', 'asher hong', 'fred richard'],\n",
    "        ['shane wiskus', 'khoi young', 'donnell whittenburg', 'brody malone']\n",
    "    ],\n",
    "    'Total Score': [260.57900000000006, 253.19598690476192, 254.94, 250.58868690476191, 257.34200000000004, 251.11566666666667]\n",
    "}\n",
    "\n",
    "# Create DataFrame\n",
    "result_df = pd.DataFrame(data)\n",
    "\n",
    "# Add columns for each athlete\n",
    "athletes = list(set(athlete for athletes_list in result_df['Selected Athletes'] for athlete in athletes_list))\n",
    "\n",
    "for athlete in athletes:\n",
    "    result_df[athlete] = result_df['Selected Athletes'].apply(lambda x: 1 if athlete in x else 0)\n",
    "\n",
    "# Calculate the sum for each athlete column\n",
    "athlete_sums = result_df.groupby('Algorithm')[athletes].sum()\n",
    "\n"
   ]
  },
  {
   "cell_type": "code",
   "execution_count": 3,
   "id": "0c3bdd63",
   "metadata": {},
   "outputs": [],
   "source": [
    "# Your Series\n",
    "athlete_counts = pd.Series({\n",
    "    'joshua karnes': 1,\n",
    "    'frederick nathaniel richard': 2,\n",
    "    'fuzzy benas': 1,\n",
    "    'khoi young': 6,\n",
    "    'paul juda': 4,\n",
    "    'aidan cuy': 1,\n",
    "    'vitaliy guimaraes': 1,\n",
    "    'yul moldauer': 5,\n",
    "    'brody malone': 2,\n",
    "    'colt walker': 2,\n",
    "    'fred richard': 1,\n",
    "    'curran phillips': 1,\n",
    "    'ian lasic-ellis': 1,\n",
    "    'asher hong': 4\n",
    "})\n",
    "\n",
    "# Convert to DataFrame\n",
    "df = athlete_counts.reset_index()\n",
    "df.columns = ['Athlete', 'Count']\n"
   ]
  },
  {
   "cell_type": "code",
   "execution_count": 4,
   "id": "914a6d57",
   "metadata": {},
   "outputs": [],
   "source": [
    "df_sorted = df.sort_values(by='Count', ascending=False)"
   ]
  },
  {
   "cell_type": "code",
   "execution_count": 5,
   "id": "955c620f",
   "metadata": {},
   "outputs": [],
   "source": [
    "df = result_df[['Algorithm', 'IAA/Apparatus', 'Selected Athletes', 'Total Score']]"
   ]
  },
  {
   "cell_type": "code",
   "execution_count": 6,
   "id": "ae946b0c",
   "metadata": {},
   "outputs": [],
   "source": [
    "column_order = ['Algorithm', 'IAA/Apparatus', 'Total Score', 'Selected Athletes']\n",
    "\n",
    "# Reorder the columns in the DataFrame\n",
    "df = df[column_order]\n"
   ]
  },
  {
   "cell_type": "code",
   "execution_count": 7,
   "id": "0c7bb857",
   "metadata": {},
   "outputs": [
    {
     "data": {
      "text/html": [
       "<div>\n",
       "<style scoped>\n",
       "    .dataframe tbody tr th:only-of-type {\n",
       "        vertical-align: middle;\n",
       "    }\n",
       "\n",
       "    .dataframe tbody tr th {\n",
       "        vertical-align: top;\n",
       "    }\n",
       "\n",
       "    .dataframe thead th {\n",
       "        text-align: right;\n",
       "    }\n",
       "</style>\n",
       "<table border=\"1\" class=\"dataframe\">\n",
       "  <thead>\n",
       "    <tr style=\"text-align: right;\">\n",
       "      <th></th>\n",
       "      <th>Algorithm</th>\n",
       "      <th>IAA/Apparatus</th>\n",
       "      <th>Total Score</th>\n",
       "      <th>Selected Athletes</th>\n",
       "    </tr>\n",
       "  </thead>\n",
       "  <tbody>\n",
       "    <tr>\n",
       "      <th>0</th>\n",
       "      <td>Tabu Search</td>\n",
       "      <td>IAA</td>\n",
       "      <td>260.579000</td>\n",
       "      <td>[khoi young, asher hong, fred richard, yul mol...</td>\n",
       "    </tr>\n",
       "    <tr>\n",
       "      <th>1</th>\n",
       "      <td>Tabu Search</td>\n",
       "      <td>Apparatus</td>\n",
       "      <td>253.195987</td>\n",
       "      <td>[frederick nathaniel richard, paul juda, khoi ...</td>\n",
       "    </tr>\n",
       "    <tr>\n",
       "      <th>2</th>\n",
       "      <td>Hyper-Heuristics</td>\n",
       "      <td>IAA</td>\n",
       "      <td>254.940000</td>\n",
       "      <td>[joshua karnes, ian lasic-ellis, asher hong, y...</td>\n",
       "    </tr>\n",
       "    <tr>\n",
       "      <th>3</th>\n",
       "      <td>Hyper-Heuristics</td>\n",
       "      <td>Apparatus</td>\n",
       "      <td>250.588687</td>\n",
       "      <td>[khoi young, paul juda, brody malone, fuzzy be...</td>\n",
       "    </tr>\n",
       "    <tr>\n",
       "      <th>4</th>\n",
       "      <td>Variable Neighborhood Search (VNS)</td>\n",
       "      <td>IAA</td>\n",
       "      <td>257.342000</td>\n",
       "      <td>[fuzzy benas, yul moldauer, asher hong, fred r...</td>\n",
       "    </tr>\n",
       "    <tr>\n",
       "      <th>5</th>\n",
       "      <td>Variable Neighborhood Search (VNS)</td>\n",
       "      <td>Apparatus</td>\n",
       "      <td>251.115667</td>\n",
       "      <td>[shane wiskus, khoi young, donnell whittenburg...</td>\n",
       "    </tr>\n",
       "  </tbody>\n",
       "</table>\n",
       "</div>"
      ],
      "text/plain": [
       "                            Algorithm IAA/Apparatus  Total Score  \\\n",
       "0                         Tabu Search           IAA   260.579000   \n",
       "1                         Tabu Search     Apparatus   253.195987   \n",
       "2                    Hyper-Heuristics           IAA   254.940000   \n",
       "3                    Hyper-Heuristics     Apparatus   250.588687   \n",
       "4  Variable Neighborhood Search (VNS)           IAA   257.342000   \n",
       "5  Variable Neighborhood Search (VNS)     Apparatus   251.115667   \n",
       "\n",
       "                                   Selected Athletes  \n",
       "0  [khoi young, asher hong, fred richard, yul mol...  \n",
       "1  [frederick nathaniel richard, paul juda, khoi ...  \n",
       "2  [joshua karnes, ian lasic-ellis, asher hong, y...  \n",
       "3  [khoi young, paul juda, brody malone, fuzzy be...  \n",
       "4  [fuzzy benas, yul moldauer, asher hong, fred r...  \n",
       "5  [shane wiskus, khoi young, donnell whittenburg...  "
      ]
     },
     "execution_count": 7,
     "metadata": {},
     "output_type": "execute_result"
    }
   ],
   "source": [
    "df"
   ]
  },
  {
   "cell_type": "code",
   "execution_count": 8,
   "id": "9a554af5",
   "metadata": {},
   "outputs": [
    {
     "data": {
      "image/png": "[encoded data removed]",
      "text/plain": [
       "<Figure size 720x432 with 1 Axes>"
      ]
     },
     "metadata": {
      "needs_background": "light"
     },
     "output_type": "display_data"
    }
   ],
   "source": [
    "# Flatten the 'Selected Athletes' column\n",
    "athletes_flat = [athlete for sublist in df['Selected Athletes'] for athlete in sublist]\n",
    "\n",
    "# Plotting\n",
    "fig, ax = plt.subplots(figsize=(10, 6))\n",
    "pd.Series(athletes_flat).value_counts().sort_values(ascending=True).plot(kind='barh', ax=ax)\n",
    "\n",
    "ax.set_xlabel('Count')\n",
    "ax.set_title('Value Counts of Selected Athletes')\n",
    "\n",
    "plt.show()"
   ]
  },
  {
   "cell_type": "code",
   "execution_count": 108,
   "id": "277a10f8",
   "metadata": {},
   "outputs": [
    {
     "data": {
      "image/png": "[encoded data removed]",
      "text/plain": [
       "<Figure size 864x432 with 1 Axes>"
      ]
     },
     "metadata": {
      "needs_background": "light"
     },
     "output_type": "display_data"
    }
   ],
   "source": [
    "# Bar Plot for Total Score\n",
    "plt.figure(figsize=(12, 6))\n",
    "ax = sns.barplot(x='Algorithm', y='Total Score', hue='IAA/Apparatus', data=df)\n",
    "plt.title('Bar Plot for Total Score')\n",
    "plt.xlabel('Algorithm')\n",
    "plt.ylabel('Total Score')\n",
    "\n",
    "# Set y-axis to start at 150\n",
    "ax.set_ylim(200, ax.get_ylim()[1])\n",
    "\n",
    "plt.show()\n",
    "\n"
   ]
  },
  {
   "cell_type": "code",
   "execution_count": 109,
   "id": "ce3ffab9",
   "metadata": {},
   "outputs": [],
   "source": [
    "# # Explode the 'Selected Athletes' column to create separate rows for each athlete\n",
    "# df_exploded = df.explode('Selected Athletes')\n",
    "\n",
    "# # Swarm Plot for Selected Athletes\n",
    "# plt.figure(figsize=(12, 8))\n",
    "# sns.swarmplot(x='Algorithm', y='Selected Athletes', hue='IAA/Apparatus', data=df_exploded)\n",
    "# plt.title('Swarm Plot for Selected Athletes')\n",
    "# plt.show()\n"
   ]
  },
  {
   "cell_type": "code",
   "execution_count": 110,
   "id": "a9b28d9a",
   "metadata": {},
   "outputs": [
    {
     "data": {
      "image/png": "[encoded data removed]",
      "text/plain": [
       "<Figure size 259.5x180 with 2 Axes>"
      ]
     },
     "metadata": {
      "needs_background": "light"
     },
     "output_type": "display_data"
    }
   ],
   "source": [
    "\n",
    "# Pair Plot\n",
    "sns.pairplot(df, hue='IAA/Apparatus', vars=['Total Score'])\n",
    "plt.title('Pair Plot: Total Score vs. IAA/Apparatus')\n",
    "plt.show()\n",
    "\n"
   ]
  },
  {
   "cell_type": "code",
   "execution_count": 111,
   "id": "03cbeaef",
   "metadata": {},
   "outputs": [
    {
     "data": {
      "image/png": "[encoded data removed]",
      "text/plain": [
       "<Figure size 720x432 with 1 Axes>"
      ]
     },
     "metadata": {
      "needs_background": "light"
     },
     "output_type": "display_data"
    }
   ],
   "source": [
    "# Bubble Plot\n",
    "plt.figure(figsize=(10, 6))\n",
    "for i, algorithm in enumerate(df['Algorithm'].unique()):\n",
    "    subset = df[df['Algorithm'] == algorithm]\n",
    "    plt.scatter(subset['Total Score'], subset['Algorithm'], s=len(subset['Selected Athletes']) * 30, alpha=0.6, label=algorithm)\n",
    "\n",
    "plt.xlabel('Total Score')\n",
    "plt.ylabel('Algorithm')\n",
    "plt.title('Bubble Plot: Total Score vs. Algorithm (Size represents the number of selected athletes)')\n",
    "plt.legend()\n",
    "plt.show()\n",
    "\n"
   ]
  },
  {
   "cell_type": "code",
   "execution_count": null,
   "id": "8e62a91c",
   "metadata": {},
   "outputs": [],
   "source": []
  },
  {
   "cell_type": "code",
   "execution_count": null,
   "id": "96432e15",
   "metadata": {},
   "outputs": [],
   "source": []
  }
 ],
 "metadata": {
  "kernelspec": {
   "display_name": "Python 3 (ipykernel)",
   "language": "python",
   "name": "python3"
  },
  "language_info": {
   "codemirror_mode": {
    "name": "ipython",
    "version": 3
   },
   "file_extension": ".py",
   "mimetype": "text/x-python",
   "name": "python",
   "nbconvert_exporter": "python",
   "pygments_lexer": "ipython3",
   "version": "3.9.12"
  }
 },
 "nbformat": 4,
 "nbformat_minor": 5
}
